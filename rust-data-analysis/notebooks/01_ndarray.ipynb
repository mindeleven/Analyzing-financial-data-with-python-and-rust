{
 "cells": [
  {
   "cell_type": "markdown",
   "id": "7068dbd9",
   "metadata": {},
   "source": [
    "# Ndarray for Data Analysis"
   ]
  },
  {
   "cell_type": "code",
   "execution_count": 75,
   "id": "d397ed4e",
   "metadata": {},
   "outputs": [],
   "source": [
    ":dep ndarray = {version = \"0.15.6\"}\n",
    "// or\n",
    "// :dep ndarray = { git = \"https://github.com/rust-ndarray/ndarray\"}"
   ]
  },
  {
   "cell_type": "code",
   "execution_count": 76,
   "id": "7641cadd",
   "metadata": {},
   "outputs": [],
   "source": [
    ":dep blas-src = { version = \"0.9\", features = [\"openblas\"]}\n",
    "// or\n",
    "// :dep blas-src = { git = \"https://github.com/blas-lapack-rs/blas-src\", features = [\"openblas\"]}"
   ]
  },
  {
   "cell_type": "code",
   "execution_count": 77,
   "id": "fb8237f6",
   "metadata": {},
   "outputs": [],
   "source": [
    ":dep ndarray-linalg = { version = \"0.16.0\", features = [\"openblas-static\"]}\n",
    "// or\n",
    "// :dep ndarray-linalg = { git = \"https://github.com/rust-ndarray/ndarray-linalg\", features = [\"openblas-static\"]}"
   ]
  },
  {
   "cell_type": "code",
   "execution_count": 78,
   "id": "912cae13",
   "metadata": {},
   "outputs": [],
   "source": [
    ":dep ndarray-rand = {version = \"0.14.0\"}\n",
    "// or\n",
    "// :dep ndarray-rand = { git = \"https://github.com/rust-ndarray/ndarray/tree/ndarray-rand-0.15.0\"}"
   ]
  },
  {
   "cell_type": "code",
   "execution_count": 142,
   "id": "d4767ade",
   "metadata": {},
   "outputs": [],
   "source": [
    "use ndarray::{array, Array, Array1, Array2, Array3, ShapeBuilder, rcarr1, Ix3, arr2, Axis};\n",
    "use ndarray_linalg::convert::flatten;\n",
    "use ndarray_rand::RandomExt;\n",
    "use ndarray_rand::rand_distr::Uniform;\n",
    "use ndarray_linalg::solve::Inverse;\n",
    "use ndarray_linalg::solve::Determinant;\n",
    "use ndarray_linalg::trace::Trace;\n",
    "use ndarray_linalg::Solve;\n",
    "use ndarray_linalg::svd::SVD;\n",
    "use ndarray_linalg::Eig;\n",
    "use std::result::Result::{Err, Ok};"
   ]
  },
  {
   "cell_type": "markdown",
   "id": "b52e9458",
   "metadata": {},
   "source": [
    "<span style=\"font-size:1.2em;\">The [ndarray crate](https://docs.rs/ndarray/latest/ndarray/) provides an n-dimensional container for general elements and for numerics.<br/>\n",
    "It allows us to load our datasets into containers and operate on them.\n",
    "</span>"
   ]
  },
  {
   "cell_type": "markdown",
   "id": "8556c5aa",
   "metadata": {},
   "source": [
    "## Arrays filled with initial placeholders"
   ]
  },
  {
   "cell_type": "markdown",
   "id": "2cdbcb66",
   "metadata": {},
   "source": [
    "### Filled with Zeros"
   ]
  },
  {
   "cell_type": "markdown",
   "id": "1071b663",
   "metadata": {},
   "source": [
    "<span style=\"font-size:1.2em;\">Creating a one dimensional array of zeros:</span>"
   ]
  },
  {
   "cell_type": "code",
   "execution_count": 127,
   "id": "20800c38",
   "metadata": {},
   "outputs": [
    {
     "data": {
      "text/plain": [
       "[[0.0, 0.0, 0.0, 0.0]], shape=[1, 4], strides=[1, 1], layout=CFcf (0xf), const ndim=2"
      ]
     },
     "execution_count": 127,
     "metadata": {},
     "output_type": "execute_result"
    }
   ],
   "source": [
    "let zeros = Array::<f64, _>::zeros((1, 4).f());\n",
    "zeros"
   ]
  },
  {
   "cell_type": "markdown",
   "id": "0dca7cf0",
   "metadata": {},
   "source": [
    "<span style=\"font-size:1.2em;\">Creating an array with dimensions (3, 2, 4) filled with zeros (we're actually creating a a matrix). We give the compiler the element type explicitily (<f64, _>) and let it infer the dimensionality type.</span>"
   ]
  },
  {
   "cell_type": "code",
   "execution_count": 128,
   "id": "8c640fec",
   "metadata": {
    "scrolled": true
   },
   "outputs": [
    {
     "name": "stdout",
     "output_type": "stream",
     "text": [
      "[[[0.0, 0.0, 0.0, 0.0],\n",
      "  [0.0, 0.0, 0.0, 0.0]],\n",
      "\n",
      " [[0.0, 0.0, 0.0, 0.0],\n",
      "  [0.0, 0.0, 0.0, 0.0]],\n",
      "\n",
      " [[0.0, 0.0, 0.0, 0.0],\n",
      "  [0.0, 0.0, 0.0, 0.0]]], shape=[3, 2, 4], strides=[1, 3, 6], layout=Ff (0xa), const ndim=3\n",
      "\n",
      "Number of dimensions: 3\n",
      "Number of elements: 24\n",
      "Shape of array arr: [3, 2, 4]\n",
      "Check if empty: false\n"
     ]
    }
   ],
   "source": [
    "let zeros_three_dim = Array::<f64, _>::zeros((3, 2, 4).f());\n",
    "println!(\"{:?}\", zeros_three_dim);\n",
    "println!(\"\");\n",
    "println!(\"Number of dimensions: {}\", zeros_three_dim.ndim()); // get the number of dimensions of array a\n",
    "println!(\"Number of elements: {}\", zeros_three_dim.len()); // get the number of elements in array a\n",
    "println!(\"Shape of array arr: {:?}\", zeros_three_dim.shape()); // get the shape of array a\n",
    "println!(\"Check if empty: {}\", zeros_three_dim.is_empty());"
   ]
  },
  {
   "cell_type": "markdown",
   "id": "e2139a4e",
   "metadata": {},
   "source": [
    "<span style=\"font-size:1.2em;\">Specifying the dimensionality explicitly with with Ix3 (standing for 3D array type).</span>"
   ]
  },
  {
   "cell_type": "code",
   "execution_count": 129,
   "id": "aa9dba27",
   "metadata": {},
   "outputs": [
    {
     "data": {
      "text/plain": [
       "[[[0.0, 0.0, 0.0, 0.0],\n",
       "  [0.0, 0.0, 0.0, 0.0]],\n",
       "\n",
       " [[0.0, 0.0, 0.0, 0.0],\n",
       "  [0.0, 0.0, 0.0, 0.0]],\n",
       "\n",
       " [[0.0, 0.0, 0.0, 0.0],\n",
       "  [0.0, 0.0, 0.0, 0.0]]], shape=[3, 2, 4], strides=[1, 3, 6], layout=Ff (0xa), const ndim=3"
      ]
     },
     "execution_count": 129,
     "metadata": {},
     "output_type": "execute_result"
    }
   ],
   "source": [
    "let zeros_Ix3 = Array::<f64, Ix3>::zeros((3, 2, 4).f());\n",
    "zeros_Ix3"
   ]
  },
  {
   "cell_type": "markdown",
   "id": "40a8475f",
   "metadata": {},
   "source": [
    "### Filled with Ones"
   ]
  },
  {
   "cell_type": "code",
   "execution_count": 130,
   "id": "842bf477",
   "metadata": {},
   "outputs": [
    {
     "data": {
      "text/plain": [
       "[[1.0, 1.0, 1.0, 1.0],\n",
       " [1.0, 1.0, 1.0, 1.0],\n",
       " [1.0, 1.0, 1.0, 1.0],\n",
       " [1.0, 1.0, 1.0, 1.0]], shape=[4, 4], strides=[4, 1], layout=Cc (0x5), const ndim=2"
      ]
     },
     "execution_count": 130,
     "metadata": {},
     "output_type": "execute_result"
    }
   ],
   "source": [
    "let ones = Array2::<f64>::ones((4, 4));\n",
    "ones"
   ]
  },
  {
   "cell_type": "markdown",
   "id": "599bb2d5",
   "metadata": {},
   "source": [
    "### Two-dimensioanl arrays"
   ]
  },
  {
   "cell_type": "markdown",
   "id": "9b3cdad9",
   "metadata": {},
   "source": [
    "<span style=\"font-size:1.2em;\">Creating a 2x3 floating point array with the array! macro.</br>\n",
    "The ndarray::array macro creates an array with one, two, three, four, five, or six dimensions.</span>"
   ]
  },
  {
   "cell_type": "code",
   "execution_count": 131,
   "id": "41cc7111",
   "metadata": {},
   "outputs": [
    {
     "data": {
      "text/plain": [
       "[[1.0, 2.0, 3.0],\n",
       " [4.0, 5.0, 6.0]], shape=[2, 3], strides=[3, 1], layout=Cc (0x5), const ndim=2"
      ]
     },
     "execution_count": 131,
     "metadata": {},
     "output_type": "execute_result"
    }
   ],
   "source": [
    "let arr_2x3_float = array![\n",
    "    [1., 2., 3.],\n",
    "    [4., 5., 6.]\n",
    "];\n",
    "arr_2x3_float"
   ]
  },
  {
   "cell_type": "markdown",
   "id": "ecd77b6b",
   "metadata": {},
   "source": [
    "<span style=\"font-size:1.2em;\">The function ndarray::arr2 allows us to create a two-dimensional array from a vector.</span>"
   ]
  },
  {
   "cell_type": "code",
   "execution_count": 132,
   "id": "96a29250",
   "metadata": {},
   "outputs": [
    {
     "data": {
      "text/plain": [
       "[[1.0, 2.0, 3.0],\n",
       " [4.0, 5.0, 6.0]], shape=[2, 3], strides=[3, 1], layout=Cc (0x5), const ndim=2"
      ]
     },
     "execution_count": 132,
     "metadata": {},
     "output_type": "execute_result"
    }
   ],
   "source": [
    "let arr_2x3_vec = arr2(&[\n",
    "    [1., 2., 3.],\n",
    "    [4., 5., 6.]\n",
    "]);\n",
    "arr_2x3_vec"
   ]
  },
  {
   "cell_type": "markdown",
   "id": "edf9d344",
   "metadata": {},
   "source": [
    "###  Filling with different initial values and/or types"
   ]
  },
  {
   "cell_type": "code",
   "execution_count": 133,
   "id": "3728856a",
   "metadata": {},
   "outputs": [
    {
     "data": {
      "text/plain": [
       "[[[false, false, false, false],\n",
       "  [false, false, false, false]],\n",
       "\n",
       " [[false, false, false, false],\n",
       "  [false, false, false, false]],\n",
       "\n",
       " [[false, false, false, false],\n",
       "  [false, false, false, false]]], shape=[3, 2, 4], strides=[8, 4, 1], layout=Cc (0x5), const ndim=3"
      ]
     },
     "execution_count": 133,
     "metadata": {},
     "output_type": "execute_result"
    }
   ],
   "source": [
    "let arr = Array::<bool, Ix3>::from_elem((3, 2, 4), false);\n",
    "arr"
   ]
  },
  {
   "cell_type": "markdown",
   "id": "df59f149",
   "metadata": {},
   "source": [
    "### Initializing an array with a range"
   ]
  },
  {
   "cell_type": "code",
   "execution_count": 134,
   "id": "1a744ced",
   "metadata": {},
   "outputs": [
    {
     "data": {
      "text/plain": [
       "[0.0, 1.5, 3.0, 4.5, 6.0], shape=[5], strides=[1], layout=CFcf (0xf), const ndim=1"
      ]
     },
     "execution_count": 134,
     "metadata": {},
     "output_type": "execute_result"
    }
   ],
   "source": [
    "let arr_range = Array::<f64, _>::range(0., 7., 1.5);\n",
    "arr_range"
   ]
  },
  {
   "cell_type": "markdown",
   "id": "5cf9d484",
   "metadata": {},
   "source": [
    "### Returning a 2-D array with ones on the diagonal and zeros elsewhere"
   ]
  },
  {
   "cell_type": "code",
   "execution_count": 135,
   "id": "979f82fc",
   "metadata": {},
   "outputs": [
    {
     "data": {
      "text/plain": [
       "[[1.0, 0.0, 0.0, 0.0],\n",
       " [0.0, 1.0, 0.0, 0.0],\n",
       " [0.0, 0.0, 1.0, 0.0],\n",
       " [0.0, 0.0, 0.0, 1.0]], shape=[4, 4], strides=[4, 1], layout=Cc (0x5), const ndim=2"
      ]
     },
     "execution_count": 135,
     "metadata": {},
     "output_type": "execute_result"
    }
   ],
   "source": [
    "let eye_arr = Array::<f64, _>::eye(4);\n",
    "eye_arr"
   ]
  },
  {
   "cell_type": "markdown",
   "id": "b27755f5",
   "metadata": {},
   "source": [
    "### Initializing an array with a linspace"
   ]
  },
  {
   "cell_type": "code",
   "execution_count": 136,
   "id": "6bb6b549",
   "metadata": {},
   "outputs": [
    {
     "data": {
      "text/plain": [
       "[0.0, 0.5555555555555556, 1.1111111111111112, 1.6666666666666667, 2.2222222222222223, 2.7777777777777777, 3.3333333333333335, 3.8888888888888893, 4.444444444444445, 5.0], shape=[10], strides=[1], layout=CFcf (0xf), const ndim=1"
      ]
     },
     "execution_count": 136,
     "metadata": {},
     "output_type": "execute_result"
    }
   ],
   "source": [
    "let arr_linspace = Array::<f64, _>::linspace(0., 5., 10); // create 1-D array with 10 elements with values 0., …, 5.\n",
    "arr_linspace"
   ]
  },
  {
   "cell_type": "markdown",
   "id": "8d8ebe91",
   "metadata": {},
   "source": [
    "### Initializing an array with random numbers"
   ]
  },
  {
   "cell_type": "code",
   "execution_count": 137,
   "id": "f4d382c5",
   "metadata": {},
   "outputs": [
    {
     "data": {
      "text/plain": [
       "[[6.509932176391889, 7.878250743239006, 8.1185489994906, 0.28095389920835157, 2.371852097928653],\n",
       " [1.7774865632552617, 6.880604540715027, 5.087554467443091, 2.8881423901241, 4.184369528956971]], shape=[2, 5], strides=[5, 1], layout=Cc (0x5), const ndim=2"
      ]
     },
     "execution_count": 137,
     "metadata": {},
     "output_type": "execute_result"
    }
   ],
   "source": [
    "let arr_random = Array::random((2, 5), Uniform::new(0., 10.));\n",
    "arr_random"
   ]
  },
  {
   "cell_type": "markdown",
   "id": "4295578e",
   "metadata": {},
   "source": [
    "### Modifying array elements with fill"
   ]
  },
  {
   "cell_type": "code",
   "execution_count": 138,
   "id": "9eb4f9e0",
   "metadata": {},
   "outputs": [
    {
     "name": "stdout",
     "output_type": "stream",
     "text": [
      "[[1, 1, 1, 1]]\n"
     ]
    },
    {
     "data": {
      "text/plain": [
       "[[2.0, 2.0, 2.0, 2.0]], shape=[1, 4], strides=[4, 1], layout=CFcf (0xf), const ndim=2"
      ]
     },
     "execution_count": 138,
     "metadata": {},
     "output_type": "execute_result"
    }
   ],
   "source": [
    "let mut ones = Array::<f64, _>::ones((1, 4));\n",
    "println!(\"{ones}\");\n",
    "ones.fill(2.);\n",
    "ones"
   ]
  },
  {
   "cell_type": "markdown",
   "id": "76573d86",
   "metadata": {},
   "source": [
    "### Three-dimensional Arrays"
   ]
  },
  {
   "cell_type": "code",
   "execution_count": 139,
   "id": "e29cbd91",
   "metadata": {},
   "outputs": [
    {
     "data": {
      "text/plain": [
       "Ok([[[1.0],\n",
       "  [2.0]],\n",
       "\n",
       " [[3.0],\n",
       "  [4.0]]], shape=[2, 2, 1], strides=[2, 1, 1], layout=Cc (0x5), const ndim=3)"
      ]
     },
     "execution_count": 139,
     "metadata": {},
     "output_type": "execute_result"
    }
   ],
   "source": [
    "let mut data = vec![1., 2., 3., 4.];\n",
    "let data_arr_3dim = Array3::from_shape_vec((2, 2, 1), data);\n",
    "data_arr_3dim"
   ]
  },
  {
   "cell_type": "markdown",
   "id": "38121133",
   "metadata": {},
   "source": [
    "### Analyzing arrays"
   ]
  },
  {
   "cell_type": "markdown",
   "id": "68b07d5d",
   "metadata": {},
   "source": [
    "<span style=\"font-size:1.2em;\">Coding along with an example from [Multidimensional Arrays and Operations with NDArray](https://datacrayon.com/data-analysis-with-rust-notebooks/multidimensional-arrays-and-operations-with-ndarray/).</span>"
   ]
  },
  {
   "cell_type": "code",
   "execution_count": 140,
   "id": "41282087",
   "metadata": {},
   "outputs": [],
   "source": [
    "let data_arr_1dim: Array1::<f32> = array![1., 2., 3.];\n",
    "let data_arr_2dim: Array2::<f32> = array![\n",
    "    [1., 2., 3.],\n",
    "    [4., 5., 6.]\n",
    "];"
   ]
  },
  {
   "cell_type": "markdown",
   "id": "f35c32ab",
   "metadata": {},
   "source": [
    "<span style=\"font-size:1.2em;\">Finding out the dimensionality of the arrays:</span>"
   ]
  },
  {
   "cell_type": "code",
   "execution_count": 143,
   "id": "a0491f06",
   "metadata": {},
   "outputs": [
    {
     "name": "stdout",
     "output_type": "stream",
     "text": [
      "3\n",
      "6\n",
      "3\n",
      "[2, 3]\n",
      "2\n",
      "3\n"
     ]
    }
   ],
   "source": [
    "println!(\"{}\", data_arr_1dim.len()); // shape along a single axis\n",
    "println!(\"{}\", data_arr_2dim.len()); // for higher dimensions len() returns the flattened length\n",
    "println!(\"{}\", data_arr_2dim.len_of(Axis(1))); // getting the length of a single axis\n",
    "// getting more info with one function call\n",
    "println!(\"{:?}\", data_arr_2dim.shape());\n",
    "// shape() returns array that can be indexed\n",
    "println!(\"{}\", data_arr_2dim.shape()[0]); // number of axes\n",
    "println!(\"{}\", data_arr_2dim.shape()[1]); // length along a specific axis"
   ]
  },
  {
   "cell_type": "markdown",
   "id": "a160b5ad",
   "metadata": {},
   "source": [
    "### Indexing"
   ]
  },
  {
   "cell_type": "code",
   "execution_count": 144,
   "id": "c0927a42",
   "metadata": {},
   "outputs": [
    {
     "data": {
      "text/plain": [
       "2.0"
      ]
     },
     "execution_count": 144,
     "metadata": {},
     "output_type": "execute_result"
    }
   ],
   "source": [
    "data_arr_1dim[1] // indexing one-dimensional array"
   ]
  },
  {
   "cell_type": "code",
   "execution_count": 145,
   "id": "3af53e55",
   "metadata": {},
   "outputs": [
    {
     "data": {
      "text/plain": [
       "6.0"
      ]
     },
     "execution_count": 145,
     "metadata": {},
     "output_type": "execute_result"
    }
   ],
   "source": [
    "data_arr_2dim[[1, 2]] // using a primitive array for higher dimensions"
   ]
  },
  {
   "cell_type": "code",
   "execution_count": 146,
   "id": "ee9b3bb4",
   "metadata": {},
   "outputs": [
    {
     "data": {
      "text/plain": [
       "3.0"
      ]
     },
     "execution_count": 146,
     "metadata": {},
     "output_type": "execute_result"
    }
   ],
   "source": [
    "data_arr_1dim[data_arr_1dim.len() - 1] // selecting the last element in a one-dimensional array"
   ]
  },
  {
   "cell_type": "code",
   "execution_count": 147,
   "id": "09611820",
   "metadata": {},
   "outputs": [
    {
     "data": {
      "text/plain": [
       "3.0"
      ]
     },
     "execution_count": 147,
     "metadata": {},
     "output_type": "execute_result"
    }
   ],
   "source": [
    "data_arr_2dim[[0, data_arr_2dim.len_of(Axis(1)) -1]] // last elem 1st row"
   ]
  },
  {
   "cell_type": "code",
   "execution_count": 148,
   "id": "1190cbef",
   "metadata": {},
   "outputs": [
    {
     "data": {
      "text/plain": [
       "6.0"
      ]
     },
     "execution_count": 148,
     "metadata": {},
     "output_type": "execute_result"
    }
   ],
   "source": [
    "data_arr_2dim[[1, data_arr_2dim.len_of(Axis(1)) -1]] // last elem 2nd row"
   ]
  },
  {
   "cell_type": "markdown",
   "id": "33d60bf2",
   "metadata": {},
   "source": [
    "### Mathematical operations on arrays"
   ]
  },
  {
   "cell_type": "code",
   "execution_count": 149,
   "id": "c073d52d",
   "metadata": {},
   "outputs": [
    {
     "data": {
      "text/plain": [
       "21.0"
      ]
     },
     "execution_count": 149,
     "metadata": {},
     "output_type": "execute_result"
    }
   ],
   "source": [
    "data_arr_2dim.sum() // summing array elements"
   ]
  },
  {
   "cell_type": "code",
   "execution_count": 150,
   "id": "1d56df94",
   "metadata": {},
   "outputs": [
    {
     "data": {
      "text/plain": [
       "[5.0, 7.0, 9.0], shape=[3], strides=[1], layout=CFcf (0xf), const ndim=1"
      ]
     },
     "execution_count": 150,
     "metadata": {},
     "output_type": "execute_result"
    }
   ],
   "source": [
    "data_arr_2dim.sum_axis(Axis(0)) // summing array elements"
   ]
  },
  {
   "cell_type": "markdown",
   "id": "768b9a9c",
   "metadata": {},
   "source": [
    "### Element-wise operations on arrays"
   ]
  },
  {
   "cell_type": "code",
   "execution_count": 151,
   "id": "b19092da",
   "metadata": {},
   "outputs": [
    {
     "name": "stdout",
     "output_type": "stream",
     "text": [
      "[[1, 2, 3],\n",
      " [4, 5, 6]]\n"
     ]
    },
    {
     "data": {
      "text/plain": [
       "[[2.0, 3.0, 4.0],\n",
       " [5.0, 6.0, 7.0]], shape=[2, 3], strides=[3, 1], layout=Cc (0x5), const ndim=2"
      ]
     },
     "execution_count": 151,
     "metadata": {},
     "output_type": "execute_result"
    }
   ],
   "source": [
    "// adding values to every array element\n",
    "println!(\"{}\", data_arr_2dim);\n",
    "let arr_add = &data_arr_2dim + 1.0;\n",
    "arr_add"
   ]
  },
  {
   "cell_type": "code",
   "execution_count": 152,
   "id": "1b1a0592",
   "metadata": {},
   "outputs": [
    {
     "data": {
      "text/plain": [
       "[[2.0, 4.0, 6.0],\n",
       " [8.0, 10.0, 12.0]], shape=[2, 3], strides=[3, 1], layout=Cc (0x5), const ndim=2"
      ]
     },
     "execution_count": 152,
     "metadata": {},
     "output_type": "execute_result"
    }
   ],
   "source": [
    "// adding the elements of one array to another\n",
    "let arr_add2 = &data_arr_2dim + &data_arr_2dim;\n",
    "arr_add2"
   ]
  },
  {
   "cell_type": "code",
   "execution_count": 153,
   "id": "a3a11e6a",
   "metadata": {},
   "outputs": [
    {
     "data": {
      "text/plain": [
       "[[2.0, 4.0, 6.0],\n",
       " [5.0, 7.0, 9.0]], shape=[2, 3], strides=[3, 1], layout=Cc (0x5), const ndim=2"
      ]
     },
     "execution_count": 153,
     "metadata": {},
     "output_type": "execute_result"
    }
   ],
   "source": [
    "// adding a one-dimensional array to a two-dimensional array\n",
    "// two arrays can be added together if their shapes must be compatible\n",
    "// this means the size of at least one dimension must be the same\n",
    "let arr_add3 = &data_arr_1dim + &data_arr_2dim;\n",
    "arr_add3"
   ]
  },
  {
   "cell_type": "code",
   "execution_count": 154,
   "id": "95573818",
   "metadata": {},
   "outputs": [
    {
     "name": "stdout",
     "output_type": "stream",
     "text": [
      "[[1, 2, 3],\n",
      " [4, 5, 6]]\n"
     ]
    },
    {
     "data": {
      "text/plain": [
       "[[-0.5, 0.5, 1.5],\n",
       " [2.5, 3.5, 4.5]], shape=[2, 3], strides=[3, 1], layout=Cc (0x5), const ndim=2"
      ]
     },
     "execution_count": 154,
     "metadata": {},
     "output_type": "execute_result"
    }
   ],
   "source": [
    "// subtracting a value from every array element\n",
    "println!(\"{}\", data_arr_2dim);\n",
    "let arr_sub = &data_arr_2dim - 1.5;\n",
    "arr_sub"
   ]
  },
  {
   "cell_type": "code",
   "execution_count": 155,
   "id": "6a6322ac",
   "metadata": {},
   "outputs": [
    {
     "data": {
      "text/plain": [
       "[[0.0, 0.0, 0.0],\n",
       " [3.0, 3.0, 3.0]], shape=[2, 3], strides=[3, 1], layout=Cc (0x5), const ndim=2"
      ]
     },
     "execution_count": 155,
     "metadata": {},
     "output_type": "execute_result"
    }
   ],
   "source": [
    "// subtract one-dimensional array from two-dimensional array\n",
    "let arr_sub2 = &data_arr_2dim - &data_arr_1dim;\n",
    "arr_sub2"
   ]
  },
  {
   "cell_type": "code",
   "execution_count": 156,
   "id": "f5b4c860",
   "metadata": {},
   "outputs": [
    {
     "name": "stdout",
     "output_type": "stream",
     "text": [
      "[[1, 2, 3],\n",
      " [4, 5, 6]]\n"
     ]
    },
    {
     "data": {
      "text/plain": [
       "[[1.8, 3.6, 5.3999996],\n",
       " [7.2, 9.0, 10.799999]], shape=[2, 3], strides=[3, 1], layout=Cc (0x5), const ndim=2"
      ]
     },
     "execution_count": 156,
     "metadata": {},
     "output_type": "execute_result"
    }
   ],
   "source": [
    "// multiplying a value with every array element\n",
    "println!(\"{}\", data_arr_2dim);\n",
    "let arr_mult = &data_arr_2dim * 1.8;\n",
    "arr_mult"
   ]
  },
  {
   "cell_type": "code",
   "execution_count": 157,
   "id": "b40390f5",
   "metadata": {},
   "outputs": [
    {
     "name": "stdout",
     "output_type": "stream",
     "text": [
      "[1, 2, 3]\n",
      "[[1, 2, 3],\n",
      " [4, 5, 6]]\n"
     ]
    },
    {
     "data": {
      "text/plain": [
       "[[1.0, 4.0, 9.0],\n",
       " [4.0, 10.0, 18.0]], shape=[2, 3], strides=[3, 1], layout=Cc (0x5), const ndim=2"
      ]
     },
     "execution_count": 157,
     "metadata": {},
     "output_type": "execute_result"
    }
   ],
   "source": [
    "// multiplying two arrays\n",
    "println!(\"{}\", data_arr_1dim);\n",
    "println!(\"{}\", data_arr_2dim);\n",
    "let arr_mul2 = &data_arr_2dim * &data_arr_1dim;\n",
    "arr_mul2"
   ]
  },
  {
   "cell_type": "code",
   "execution_count": 158,
   "id": "f3518b7f",
   "metadata": {},
   "outputs": [
    {
     "name": "stdout",
     "output_type": "stream",
     "text": [
      "[[1, 2, 3],\n",
      " [4, 5, 6]]\n"
     ]
    },
    {
     "data": {
      "text/plain": [
       "[[1.4285715, 2.857143, 4.285714],\n",
       " [5.714286, 7.142857, 8.571428]], shape=[2, 3], strides=[3, 1], layout=Cc (0x5), const ndim=2"
      ]
     },
     "execution_count": 158,
     "metadata": {},
     "output_type": "execute_result"
    }
   ],
   "source": [
    "// dividing every element by a value\n",
    "println!(\"{}\", data_arr_2dim);\n",
    "let arr_div = &data_arr_2dim / 0.7;\n",
    "arr_div"
   ]
  },
  {
   "cell_type": "code",
   "execution_count": 159,
   "id": "7b1713dc",
   "metadata": {},
   "outputs": [
    {
     "name": "stdout",
     "output_type": "stream",
     "text": [
      "[1, 2, 3]\n",
      "[[1, 2, 3],\n",
      " [4, 5, 6]]\n"
     ]
    },
    {
     "data": {
      "text/plain": [
       "[[1.0, 1.0, 1.0],\n",
       " [4.0, 2.5, 2.0]], shape=[2, 3], strides=[3, 1], layout=Cc (0x5), const ndim=2"
      ]
     },
     "execution_count": 159,
     "metadata": {},
     "output_type": "execute_result"
    }
   ],
   "source": [
    "// divide every element of one array by another\n",
    "println!(\"{}\", data_arr_1dim);\n",
    "println!(\"{}\", data_arr_2dim);\n",
    "let arr_div2 = &data_arr_2dim / &data_arr_1dim;\n",
    "arr_div2"
   ]
  },
  {
   "cell_type": "code",
   "execution_count": 160,
   "id": "f7c0befe",
   "metadata": {},
   "outputs": [
    {
     "data": {
      "text/plain": [
       "[[1.0, 8.0, 27.0],\n",
       " [64.0, 125.0, 216.0]], shape=[2, 3], strides=[3, 1], layout=Cc (0x5), const ndim=2"
      ]
     },
     "execution_count": 160,
     "metadata": {},
     "output_type": "execute_result"
    }
   ],
   "source": [
    "// raising the elements to a power by mapping\n",
    "let arr_pow = data_arr_2dim.mapv(|elem| elem.powi(3));\n",
    "arr_pow"
   ]
  },
  {
   "cell_type": "code",
   "execution_count": 161,
   "id": "52eea039",
   "metadata": {},
   "outputs": [
    {
     "data": {
      "text/plain": [
       "[[1.0, 1.4142135, 1.7320508],\n",
       " [2.0, 2.236068, 2.4494898]], shape=[2, 3], strides=[3, 1], layout=Cc (0x5), const ndim=2"
      ]
     },
     "execution_count": 161,
     "metadata": {},
     "output_type": "execute_result"
    }
   ],
   "source": [
    "// calculating square root elements of an array\n",
    "let arr_sqr = data_arr_2dim.mapv(f32::sqrt);\n",
    "arr_sqr"
   ]
  },
  {
   "cell_type": "markdown",
   "id": "4f0490df",
   "metadata": {},
   "source": [
    "## Ndarray Arrays Manipulation"
   ]
  },
  {
   "cell_type": "markdown",
   "id": "ac2c9152",
   "metadata": {},
   "source": [
    "The following examples are from the Rust data analysis [ndarray notebook](https://github.com/wiseaidev/rust-data-analysis/blob/main/2-ndarray-tutorial.ipynb)."
   ]
  },
  {
   "cell_type": "markdown",
   "id": "d167af9b",
   "metadata": {},
   "source": [
    "### Indexing"
   ]
  },
  {
   "cell_type": "code",
   "execution_count": 162,
   "id": "6924ee69",
   "metadata": {},
   "outputs": [
    {
     "data": {
      "text/plain": [
       "3.0"
      ]
     },
     "execution_count": 162,
     "metadata": {},
     "output_type": "execute_result"
    }
   ],
   "source": [
    "// indexing 1-dimesional array\n",
    "let arr_d1 = Array::from_vec(vec![1., 2., 3., 4.]); \n",
    "arr_d1[2]"
   ]
  },
  {
   "cell_type": "code",
   "execution_count": 163,
   "id": "012922ae",
   "metadata": {},
   "outputs": [
    {
     "data": {
      "text/plain": [
       "0.0"
      ]
     },
     "execution_count": 163,
     "metadata": {},
     "output_type": "execute_result"
    }
   ],
   "source": [
    "// indexing 2-dimesional array\n",
    "let zeros = Array2::<f64>::zeros((2, 4));\n",
    "zeros[[1, 2]]"
   ]
  },
  {
   "cell_type": "markdown",
   "id": "03825e9b",
   "metadata": {},
   "source": [
    "### Reshaping"
   ]
  },
  {
   "cell_type": "code",
   "execution_count": 164,
   "id": "cd71e77d",
   "metadata": {},
   "outputs": [
    {
     "name": "stdout",
     "output_type": "stream",
     "text": [
      "[1, 2, 3, 4]\n"
     ]
    },
    {
     "data": {
      "text/plain": [
       "[[1.0, 2.0],\n",
       " [3.0, 4.0]], shape=[2, 2], strides=[2, 1], layout=Cc (0x5), const ndim=2"
      ]
     },
     "execution_count": 164,
     "metadata": {},
     "output_type": "execute_result"
    }
   ],
   "source": [
    "// creating a 1-d array with rcarr1()\n",
    "let arr_d1 = rcarr1(&[1., 2., 3., 4.]);use ndarray::rcarr1;\n",
    "println!(\"{}\", arr_d1);\n",
    "let arr_d2 = arr_d1.reshape((2, 2)); // returns an array containing the same data with a new shape\n",
    "arr_d2"
   ]
  },
  {
   "cell_type": "code",
   "execution_count": 166,
   "id": "338e5eb3",
   "metadata": {},
   "outputs": [
    {
     "data": {
      "text/plain": [
       "[[1.0, 2.0],\n",
       " [3.0, 4.0]], shape=[2, 2], strides=[2, 1], layout=Cc (0x5), const ndim=2"
      ]
     },
     "execution_count": 166,
     "metadata": {},
     "output_type": "execute_result"
    }
   ],
   "source": [
    "// reshaping with into_shape_with_order\n",
    "// https://docs.rs/ndarray/latest/ndarray/struct.ArrayBase.html#method.into_shape_with_order\n",
    "let arr_new_d1 = rcarr1(&[1., 2., 3., 4.]);\n",
    "let arr_new_d2 = arr_new_d1.reshape((2, 2));\n",
    "arr_new_d2"
   ]
  },
  {
   "cell_type": "markdown",
   "id": "e46846a3",
   "metadata": {},
   "source": [
    "### Flatten"
   ]
  },
  {
   "cell_type": "code",
   "execution_count": 167,
   "id": "d67e2d85",
   "metadata": {},
   "outputs": [
    {
     "name": "stdout",
     "output_type": "stream",
     "text": [
      "[[3, 2],\n",
      " [2, -2]]\n"
     ]
    },
    {
     "data": {
      "text/plain": [
       "[3.0, 2.0, 2.0, -2.0], shape=[4], strides=[1], layout=CFcf (0xf), const ndim=1"
      ]
     },
     "execution_count": 167,
     "metadata": {},
     "output_type": "execute_result"
    }
   ],
   "source": [
    "let data_arr_2dim: Array2::<f64> = array![[3., 2.], [2., -2.]];\n",
    "println!(\"{}\", data_arr_2dim);\n",
    "let array_flatten = flatten(data_arr_2dim);\n",
    "array_flatten"
   ]
  },
  {
   "cell_type": "code",
   "execution_count": 168,
   "id": "1e7b306a",
   "metadata": {},
   "outputs": [
    {
     "name": "stdout",
     "output_type": "stream",
     "text": [
      "[[3, 2],\n",
      " [2, -2]]\n"
     ]
    },
    {
     "name": "stderr",
     "output_type": "stream",
     "text": [
      "[src/lib.rs:203:5] flat = [3.0, 2.0, 2.0, -2.0], shape=[4], strides=[1], layout=CFcf (0xf), const ndim=1\n"
     ]
    },
    {
     "data": {
      "text/plain": [
       "()"
      ]
     },
     "execution_count": 168,
     "metadata": {},
     "output_type": "execute_result"
    }
   ],
   "source": [
    "{\n",
    "    let data_arr_2dim: Array2::<f64> = array![[3., 2.], [2., -2.]];\n",
    "    println!(\"{}\", data_arr_2dim);\n",
    "    // let flat = data_arr_2dim.flatten();\n",
    "    let flat = flatten(data_arr_2dim);\n",
    "    dbg!(flat);\n",
    "}"
   ]
  },
  {
   "cell_type": "markdown",
   "id": "3c7fbc26",
   "metadata": {},
   "source": [
    "### Transposing"
   ]
  },
  {
   "cell_type": "code",
   "execution_count": 169,
   "id": "145db83b",
   "metadata": {},
   "outputs": [
    {
     "data": {
      "text/plain": [
       "[[1.0, 2.0],\n",
       " [3.0, 4.0]], shape=[2, 2], strides=[2, 1], layout=Cc (0x5), const ndim=2"
      ]
     },
     "execution_count": 169,
     "metadata": {},
     "output_type": "execute_result"
    }
   ],
   "source": [
    "let data_arr_2dim = Array::from_shape_vec((2, 2), vec![1., 2., 3., 4.]);\n",
    "data_arr_2dim.unwrap()"
   ]
  },
  {
   "cell_type": "code",
   "execution_count": 170,
   "id": "9601d5f5",
   "metadata": {},
   "outputs": [
    {
     "data": {
      "text/plain": [
       "[[1.0, 3.0],\n",
       " [2.0, 4.0]], shape=[2, 2], strides=[1, 2], layout=Ff (0xa), const ndim=2"
      ]
     },
     "execution_count": 170,
     "metadata": {},
     "output_type": "execute_result"
    }
   ],
   "source": [
    "let data_arr_2dim = Array::from_shape_vec((2, 2), vec![1., 2., 3., 4.]);\n",
    "let binding = data_arr_2dim.expect(\"Expect 2d matrix\");\n",
    "{\n",
    "    let data_arr_tp = binding.t();\n",
    "    data_arr_tp\n",
    "}"
   ]
  },
  {
   "cell_type": "code",
   "execution_count": 171,
   "id": "6aa1d5ea",
   "metadata": {},
   "outputs": [
    {
     "data": {
      "text/plain": [
       "[[1.0, 2.0],\n",
       " [3.0, 4.0],\n",
       " [5.0, 6.0]], shape=[3, 2], strides=[2, 1], layout=Cc (0x5), const ndim=2"
      ]
     },
     "execution_count": 171,
     "metadata": {},
     "output_type": "execute_result"
    }
   ],
   "source": [
    "let data_arr_2dim = Array::from_shape_vec((3, 2), vec![1., 2., 3., 4., 5., 6.]);\n",
    "data_arr_2dim.unwrap()"
   ]
  },
  {
   "cell_type": "code",
   "execution_count": 172,
   "id": "9cf84b0b",
   "metadata": {},
   "outputs": [
    {
     "data": {
      "text/plain": [
       "[[1.0, 3.0, 5.0],\n",
       " [2.0, 4.0, 6.0]], shape=[2, 3], strides=[1, 2], layout=Ff (0xa), const ndim=2"
      ]
     },
     "execution_count": 172,
     "metadata": {},
     "output_type": "execute_result"
    }
   ],
   "source": [
    "let data_arr_2dim = Array::from_shape_vec((3, 2), vec![1., 2., 3., 4., 5., 6.]);\n",
    "let binding = data_arr_2dim.expect(\"Expect 2d matrix\");\n",
    "{\n",
    "    // why exactly do we need a scope here?\n",
    "    let data_arr_tp = binding.t();\n",
    "    data_arr_tp\n",
    "}"
   ]
  },
  {
   "cell_type": "markdown",
   "id": "ce5f60ff",
   "metadata": {},
   "source": [
    "### Swapping Axes"
   ]
  },
  {
   "cell_type": "code",
   "execution_count": 173,
   "id": "7eddb3cc",
   "metadata": {},
   "outputs": [
    {
     "data": {
      "text/plain": [
       "[[1.0, 2.0],\n",
       " [3.0, 4.0]], shape=[2, 2], strides=[2, 1], layout=Cc (0x5), const ndim=2"
      ]
     },
     "execution_count": 173,
     "metadata": {},
     "output_type": "execute_result"
    }
   ],
   "source": [
    "let data_arr_2dim = Array::from_shape_vec((2, 2), vec![1., 2., 3., 4.]);\n",
    "data_arr_2dim.unwrap()"
   ]
  },
  {
   "cell_type": "code",
   "execution_count": 174,
   "id": "08464457",
   "metadata": {},
   "outputs": [
    {
     "data": {
      "text/plain": [
       "[[1.0, 3.0],\n",
       " [2.0, 4.0]], shape=[2, 2], strides=[1, 2], layout=Ff (0xa), const ndim=2"
      ]
     },
     "execution_count": 174,
     "metadata": {},
     "output_type": "execute_result"
    }
   ],
   "source": [
    "let data_arr_2dim = Array::from_shape_vec((2, 2), vec![1., 2., 3., 4.]);\n",
    "let mut binding = data_arr_2dim.expect(\"Expect 2d matrix\");\n",
    "// why exactly don't we need a scope here like above?\n",
    "binding.swap_axes(0, 1);\n",
    "binding"
   ]
  },
  {
   "cell_type": "markdown",
   "id": "164a43ee",
   "metadata": {},
   "source": [
    "## Linear Algebra"
   ]
  },
  {
   "cell_type": "markdown",
   "id": "98e24523",
   "metadata": {},
   "source": [
    "The following examples are from the Rust data analysis [ndarray notebook](https://github.com/wiseaidev/rust-data-analysis/blob/main/2-ndarray-tutorial.ipynb)."
   ]
  },
  {
   "cell_type": "markdown",
   "id": "42343b1a",
   "metadata": {},
   "source": [
    "### Matrix Multiplication"
   ]
  },
  {
   "cell_type": "code",
   "execution_count": 175,
   "id": "245970b0",
   "metadata": {},
   "outputs": [
    {
     "data": {
      "text/plain": [
       "[[13.0, 2.0],\n",
       " [2.0, 8.0]], shape=[2, 2], strides=[2, 1], layout=Cc (0x5), const ndim=2"
      ]
     },
     "execution_count": 175,
     "metadata": {},
     "output_type": "execute_result"
    }
   ],
   "source": [
    "let arr_1: Array2<f64> = array![[3., 2.], [2., -2.]];\n",
    "let arr_2: Array2<f64> = array![[3., 2.], [2., -2.]];\n",
    "let arr_prod = arr_1.dot(&arr_2);\n",
    "arr_prod"
   ]
  },
  {
   "cell_type": "markdown",
   "id": "ba846383",
   "metadata": {},
   "source": [
    "### Inversion"
   ]
  },
  {
   "cell_type": "code",
   "execution_count": 178,
   "id": "8b8910fe",
   "metadata": {},
   "outputs": [
    {
     "name": "stdout",
     "output_type": "stream",
     "text": [
      "The inverse of m1 is: [[-0.3333333333333333, 0.6666666666666666],\n",
      " [0.6666666666666666, -0.3333333333333333]]\n"
     ]
    },
    {
     "data": {
      "text/plain": [
       "()"
      ]
     },
     "execution_count": 178,
     "metadata": {},
     "output_type": "execute_result"
    }
   ],
   "source": [
    "let data_arr_2dim = Array::from_shape_vec((2, 2), vec![1., 2., 2., 1.]);\n",
    "\n",
    "match data_arr_2dim.expect(\"Matrix must be square & symetric!\").inv() {\n",
    "    Ok(inv) => {\n",
    "        println!(\"The inverse of m1 is: {}\", inv);\n",
    "    }\n",
    "    Err(err) => {\n",
    "        println!(\"{err}\");\n",
    "    }\n",
    "}"
   ]
  }
 ],
 "metadata": {
  "kernelspec": {
   "display_name": "Rust",
   "language": "rust",
   "name": "rust"
  },
  "language_info": {
   "codemirror_mode": "rust",
   "file_extension": ".rs",
   "mimetype": "text/rust",
   "name": "Rust",
   "pygment_lexer": "rust",
   "version": ""
  }
 },
 "nbformat": 4,
 "nbformat_minor": 5
}
