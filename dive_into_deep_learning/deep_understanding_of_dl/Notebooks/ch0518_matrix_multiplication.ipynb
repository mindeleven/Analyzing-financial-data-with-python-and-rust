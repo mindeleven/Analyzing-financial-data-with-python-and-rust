{
 "cells": [
  {
   "cell_type": "markdown",
   "id": "0b0129c8-e086-4ee7-821a-a3fccffabe83",
   "metadata": {},
   "source": [
    "### Matrix Multiplication"
   ]
  },
  {
   "cell_type": "markdown",
   "id": "1751f0a9-cfcd-46cb-9599-6bdee5831ee5",
   "metadata": {},
   "source": [
    "*Studying and coding along with Udemy online course [__„Dive into Deep Learning“__](https://www.udemy.com/course/deeplearning_x/?couponCode=KEEPLEARNING) by Mike X Cohen. The accompanying GitHub repository can be found at [mikexcohen /\n",
    "DeepUnderstandingOfDeepLearning](https://github.com/mikexcohen/DeepUnderstandingOfDeepLearning/tree/main/math).*\n",
    "\n",
    "*COURSE: A deep understanding of deep learning<br />\n",
    "SECTION: Math prerequisites<br />\n",
    "LECTURE: Matrix multiplication<br />\n",
    "TEACHER: Mike X Cohen, sincxpress.com*"
   ]
  },
  {
   "cell_type": "markdown",
   "id": "7fdb18ec-d1ba-4b6b-b534-2f7b2334ce50",
   "metadata": {},
   "source": [
    "How to implement matrix multiplication in numpy and pytorch:"
   ]
  },
  {
   "cell_type": "markdown",
   "id": "f4092997-6af3-4c29-b396-e438297abbc4",
   "metadata": {},
   "source": [
    "### Matrix Multiplication in numpy"
   ]
  },
  {
   "cell_type": "code",
   "execution_count": 1,
   "id": "c70774d3-8729-4c16-a157-ded70441dea4",
   "metadata": {},
   "outputs": [],
   "source": [
    "# import libraries\n",
    "import numpy as np\n",
    "import torch"
   ]
  },
  {
   "cell_type": "code",
   "execution_count": 2,
   "id": "db178c46-299a-41cb-bb5b-dfeb15d5b7cc",
   "metadata": {},
   "outputs": [
    {
     "data": {
      "text/plain": [
       "(array([[ 2.1161009 , -0.00257861, -0.89835204, -0.79713724],\n",
       "        [ 0.66491414,  0.82711215,  0.9283827 , -0.37627094],\n",
       "        [ 0.10242182,  1.92725344, -0.3368504 ,  0.75624744]]),\n",
       " array([[ 0.44535337, -1.2074994 , -0.74590644, -0.44164272, -1.11906585],\n",
       "        [ 1.98845494,  1.23202102,  0.38000119, -2.02490068, -1.5186329 ],\n",
       "        [ 1.07284486, -0.3167103 ,  0.26610711, -2.0827152 ,  0.21965946],\n",
       "        [ 0.2320853 ,  0.02546347,  1.30201765, -1.81547065,  0.06598719]]),\n",
       " array([[-0.2535735 ,  1.85924717, -0.54101944,  1.2461293 ,  0.72075959,\n",
       "          0.68476798,  0.49866076],\n",
       "        [-0.77161158, -0.44134888,  1.4025791 ,  1.14624606,  0.50651947,\n",
       "         -1.43377723,  0.51979379],\n",
       "        [ 1.06665985,  2.60211001, -0.08017182, -1.38487589,  0.13228827,\n",
       "         -1.78270039, -0.49825896]]))"
      ]
     },
     "execution_count": 2,
     "metadata": {},
     "output_type": "execute_result"
    }
   ],
   "source": [
    "# first lets create some random matrices\n",
    "A = np.random.randn(3,4)\n",
    "B = np.random.randn(4,5)\n",
    "C = np.random.randn(3,7)\n",
    "A, B, C"
   ]
  },
  {
   "cell_type": "code",
   "execution_count": 11,
   "id": "02626265-ce01-446c-8912-b83ecb298318",
   "metadata": {},
   "outputs": [
    {
     "name": "stdout",
     "output_type": "stream",
     "text": [
      "[[-0.21 -2.29 -2.86  2.39 -2.61]\n",
      " [ 2.85 -0.09 -0.42 -3.22 -1.82]\n",
      " [ 3.69  2.38  1.55 -4.62 -3.07]]\n",
      " \n",
      "[[-0.94  1.42 -0.85  1.3 ]\n",
      " [ 3.91  4.65 -2.96  0.65]\n",
      " [-0.22  1.01  1.82 -0.16]\n",
      " [ 3.26 -1.72  0.41 -2.47]\n",
      " [ 1.88  0.67 -0.22 -0.67]\n",
      " [ 0.31 -4.62 -1.35 -1.35]\n",
      " [ 1.35 -0.53  0.2  -0.97]]\n",
      "[[-0.94  1.42 -0.85  1.3 ]\n",
      " [ 3.91  4.65 -2.96  0.65]\n",
      " [-0.22  1.01  1.82 -0.16]\n",
      " [ 3.26 -1.72  0.41 -2.47]\n",
      " [ 1.88  0.67 -0.22 -0.67]\n",
      " [ 0.31 -4.62 -1.35 -1.35]\n",
      " [ 1.35 -0.53  0.2  -0.97]]\n"
     ]
    }
   ],
   "source": [
    "# multiplications with the @ operator \n",
    "# these two work:\n",
    "print(np.round( A@B   ,2)), print(' ')\n",
    "print(np.round( C.T@A ,2)) # \n",
    "print(np.round( C.T@A ,2)) # C.T -> transposing C\n",
    "# we're using np.round because it's nicer to read with two decimals"
   ]
  },
  {
   "cell_type": "markdown",
   "id": "4c9cd2d7-4533-4ae3-9585-ecfe92931898",
   "metadata": {},
   "source": [
    "The following python code creates errors:\n",
    "\n",
    "`print(np.round( A@C   ,2)), print(' ')`\n",
    "\n",
    "__ValueError:__ matmul: Input operand 1 has a mismatch in its core dimension 0, with gufunc signature (n?,k),(k,m?)->(n?,m?) (size 3 is different from 4)\n",
    "\n",
    "`print(np.round( B@C   ,2)), print(' ')`\n",
    "\n",
    "__ValueError:__ matmul: Input operand 1 has a mismatch in its core dimension 0, with gufunc signature (n?,k),(k,m?)->(n?,m?) (size 3 is different from 5)"
   ]
  },
  {
   "cell_type": "markdown",
   "id": "4fa413f6-2b92-4633-ab2d-2df4e221209b",
   "metadata": {},
   "source": [
    "### Matrix Multiplication in pytorch"
   ]
  },
  {
   "cell_type": "code",
   "execution_count": 15,
   "id": "7c44e124-3b7a-449c-a82c-7147149b8c55",
   "metadata": {},
   "outputs": [
    {
     "data": {
      "text/plain": [
       "(tensor([[ 0.1872, -0.8932, -1.0881,  1.4561],\n",
       "         [-1.0615, -0.5726,  1.1205, -3.2414],\n",
       "         [ 1.1157, -0.0458, -0.6003, -0.7480]]),\n",
       " tensor([[ 0.3551, -0.6101, -0.8523,  0.0645, -1.6795],\n",
       "         [-1.0105,  1.5285, -1.2411, -0.4446, -1.6650],\n",
       "         [-0.2434,  0.7241,  0.4172, -3.5439,  0.6795],\n",
       "         [ 0.2498,  1.1135, -0.4944,  1.0321, -2.5335]]),\n",
       " array([[ 0.06017314,  0.25709417, -0.05422435, -0.02063503, -0.03827582,\n",
       "         -0.05447681,  1.20348992],\n",
       "        [ 0.96001167, -1.12585273, -0.25482095,  0.79063502,  1.36020087,\n",
       "          0.88881642,  0.03621376],\n",
       "        [-0.28390031,  0.23203267,  1.51163924, -1.68289395,  0.71424058,\n",
       "          0.66262587,  1.35799593],\n",
       "        [ 0.3587782 ,  0.00694361, -0.27216449, -0.25923406, -1.1569774 ,\n",
       "          1.55566247,  0.0262297 ]]),\n",
       " tensor([[ 0.0602,  0.2571, -0.0542, -0.0206, -0.0383, -0.0545,  1.2035],\n",
       "         [ 0.9600, -1.1259, -0.2548,  0.7906,  1.3602,  0.8888,  0.0362],\n",
       "         [-0.2839,  0.2320,  1.5116, -1.6829,  0.7142,  0.6626,  1.3580],\n",
       "         [ 0.3588,  0.0069, -0.2722, -0.2592, -1.1570,  1.5557,  0.0262]]),\n",
       " torch.Size([4, 7]))"
      ]
     },
     "execution_count": 15,
     "metadata": {},
     "output_type": "execute_result"
    }
   ],
   "source": [
    "# let's create some random matrices with torch\n",
    "A  = torch.randn(3,4)\n",
    "B  = torch.randn(4,5)\n",
    "C1 = np.random.randn(4,7)\n",
    "C2 = torch.tensor( C1,dtype=torch.float )\n",
    "A, B, C1, C2, C2.shape"
   ]
  },
  {
   "cell_type": "code",
   "execution_count": 13,
   "id": "7ef764af-2b8f-41fa-8230-d59ae8bea574",
   "metadata": {},
   "outputs": [
    {
     "name": "stdout",
     "output_type": "stream",
     "text": [
      "tensor([[ 0.9500,  2.4600, -1.1600,  3.8500, -2.1300, -3.6600,  1.5900],\n",
      "        [-3.9800, -2.4600, -1.0900, -3.0200, -2.5500,  3.2700, -1.2100],\n",
      "        [ 3.2300, -1.6900,  4.4000,  1.5300,  7.0000,  1.6600, -2.0000]],\n",
      "       dtype=torch.float64)\n",
      " \n"
     ]
    },
    {
     "data": {
      "text/plain": [
       "(None, None)"
      ]
     },
     "execution_count": 13,
     "metadata": {},
     "output_type": "execute_result"
    }
   ],
   "source": [
    "# matrix multiplication\n",
    "print(np.round( A@C1  ,2)), print(' ') # 3x4 and 4x7"
   ]
  },
  {
   "cell_type": "code",
   "execution_count": 16,
   "id": "9f357d3c-a0b4-47f0-a61c-87f61ebc25d1",
   "metadata": {},
   "outputs": [
    {
     "name": "stdout",
     "output_type": "stream",
     "text": [
      "tensor([[-0.0100,  0.8100, -1.8200,  0.7400, -3.6800,  0.7400, -1.2500],\n",
      "        [-2.0900,  0.6100,  2.7800, -1.4800,  3.8100, -4.7500,  0.1400],\n",
      "        [-0.0700,  0.1900, -0.7500,  1.1400,  0.3300, -1.6600,  0.5100]])\n"
     ]
    }
   ],
   "source": [
    "print(np.round( A@C2  ,2)) # 3x4 and 4x7 again"
   ]
  },
  {
   "cell_type": "code",
   "execution_count": 18,
   "id": "e8439298-e913-4340-b2e3-9792b5ec1a9f",
   "metadata": {},
   "outputs": [
    {
     "name": "stdout",
     "output_type": "stream",
     "text": [
      "tensor([[ 1.6000, -0.6500, -0.2200,  5.7700, -3.2600],\n",
      "        [-0.8800, -3.0300,  3.6900, -7.1300, 11.7100],\n",
      "        [ 0.4000, -2.0200, -0.7700,  1.4500, -0.3100]])\n"
     ]
    }
   ],
   "source": [
    "print(np.round( A@B   ,2)) # 3x4 and 4x5"
   ]
  },
  {
   "cell_type": "markdown",
   "id": "3a164c57-6663-4b7d-b568-f92e56b3329d",
   "metadata": {},
   "source": [
    "The following python code creates errors:\n",
    "\n",
    "`print(np.round( A@B   ,2)), print(' ')`\n",
    "\n",
    "__RuntimeError:__ mat1 and mat2 shapes cannot be multiplied (3x4 and 5x4)"
   ]
  },
  {
   "cell_type": "code",
   "execution_count": null,
   "id": "b7f0543b-d046-4723-8313-818467ce59d7",
   "metadata": {},
   "outputs": [],
   "source": []
  }
 ],
 "metadata": {
  "kernelspec": {
   "display_name": "Python 3 (ipykernel)",
   "language": "python",
   "name": "python3"
  },
  "language_info": {
   "codemirror_mode": {
    "name": "ipython",
    "version": 3
   },
   "file_extension": ".py",
   "mimetype": "text/x-python",
   "name": "python",
   "nbconvert_exporter": "python",
   "pygments_lexer": "ipython3",
   "version": "3.9.20"
  }
 },
 "nbformat": 4,
 "nbformat_minor": 5
}
