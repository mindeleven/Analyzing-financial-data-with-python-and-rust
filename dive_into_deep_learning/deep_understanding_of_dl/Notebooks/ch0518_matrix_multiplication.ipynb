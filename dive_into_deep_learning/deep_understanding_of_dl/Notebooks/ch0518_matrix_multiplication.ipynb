{
 "cells": [
  {
   "cell_type": "markdown",
   "id": "0b0129c8-e086-4ee7-821a-a3fccffabe83",
   "metadata": {},
   "source": [
    "### Matrix Multiplication"
   ]
  },
  {
   "cell_type": "markdown",
   "id": "1751f0a9-cfcd-46cb-9599-6bdee5831ee5",
   "metadata": {},
   "source": [
    "*Studying and coding along with Udemy online course [__„Dive into Deep Learning“__](https://www.udemy.com/course/deeplearning_x/?couponCode=KEEPLEARNING) by Mike X Cohen. The accompanying GitHub repository can be found at [mikexcohen /\n",
    "DeepUnderstandingOfDeepLearning](https://github.com/mikexcohen/DeepUnderstandingOfDeepLearning/tree/main/math).*\n",
    "\n",
    "*COURSE: A deep understanding of deep learning<br />\n",
    "SECTION: Math prerequisites<br />\n",
    "LECTURE: Matrix multiplication<br />\n",
    "TEACHER: Mike X Cohen, sincxpress.com*"
   ]
  },
  {
   "cell_type": "markdown",
   "id": "7fdb18ec-d1ba-4b6b-b534-2f7b2334ce50",
   "metadata": {},
   "source": [
    "How to implement matrix multiplication in numpy and pytorch:"
   ]
  },
  {
   "cell_type": "markdown",
   "id": "f4092997-6af3-4c29-b396-e438297abbc4",
   "metadata": {},
   "source": [
    "### Matrix Multiplication in numpy"
   ]
  },
  {
   "cell_type": "code",
   "execution_count": 1,
   "id": "c70774d3-8729-4c16-a157-ded70441dea4",
   "metadata": {},
   "outputs": [],
   "source": [
    "# import libraries\n",
    "import numpy as np\n",
    "import torch"
   ]
  },
  {
   "cell_type": "code",
   "execution_count": 2,
   "id": "db178c46-299a-41cb-bb5b-dfeb15d5b7cc",
   "metadata": {},
   "outputs": [
    {
     "data": {
      "text/plain": [
       "(array([[ 2.1161009 , -0.00257861, -0.89835204, -0.79713724],\n",
       "        [ 0.66491414,  0.82711215,  0.9283827 , -0.37627094],\n",
       "        [ 0.10242182,  1.92725344, -0.3368504 ,  0.75624744]]),\n",
       " array([[ 0.44535337, -1.2074994 , -0.74590644, -0.44164272, -1.11906585],\n",
       "        [ 1.98845494,  1.23202102,  0.38000119, -2.02490068, -1.5186329 ],\n",
       "        [ 1.07284486, -0.3167103 ,  0.26610711, -2.0827152 ,  0.21965946],\n",
       "        [ 0.2320853 ,  0.02546347,  1.30201765, -1.81547065,  0.06598719]]),\n",
       " array([[-0.2535735 ,  1.85924717, -0.54101944,  1.2461293 ,  0.72075959,\n",
       "          0.68476798,  0.49866076],\n",
       "        [-0.77161158, -0.44134888,  1.4025791 ,  1.14624606,  0.50651947,\n",
       "         -1.43377723,  0.51979379],\n",
       "        [ 1.06665985,  2.60211001, -0.08017182, -1.38487589,  0.13228827,\n",
       "         -1.78270039, -0.49825896]]))"
      ]
     },
     "execution_count": 2,
     "metadata": {},
     "output_type": "execute_result"
    }
   ],
   "source": [
    "# first lets create some random matrices\n",
    "A = np.random.randn(3,4)\n",
    "B = np.random.randn(4,5)\n",
    "C = np.random.randn(3,7)\n",
    "A, B, C"
   ]
  },
  {
   "cell_type": "code",
   "execution_count": 11,
   "id": "02626265-ce01-446c-8912-b83ecb298318",
   "metadata": {},
   "outputs": [
    {
     "name": "stdout",
     "output_type": "stream",
     "text": [
      "[[-0.21 -2.29 -2.86  2.39 -2.61]\n",
      " [ 2.85 -0.09 -0.42 -3.22 -1.82]\n",
      " [ 3.69  2.38  1.55 -4.62 -3.07]]\n",
      " \n",
      "[[-0.94  1.42 -0.85  1.3 ]\n",
      " [ 3.91  4.65 -2.96  0.65]\n",
      " [-0.22  1.01  1.82 -0.16]\n",
      " [ 3.26 -1.72  0.41 -2.47]\n",
      " [ 1.88  0.67 -0.22 -0.67]\n",
      " [ 0.31 -4.62 -1.35 -1.35]\n",
      " [ 1.35 -0.53  0.2  -0.97]]\n",
      "[[-0.94  1.42 -0.85  1.3 ]\n",
      " [ 3.91  4.65 -2.96  0.65]\n",
      " [-0.22  1.01  1.82 -0.16]\n",
      " [ 3.26 -1.72  0.41 -2.47]\n",
      " [ 1.88  0.67 -0.22 -0.67]\n",
      " [ 0.31 -4.62 -1.35 -1.35]\n",
      " [ 1.35 -0.53  0.2  -0.97]]\n"
     ]
    }
   ],
   "source": [
    "# multiplications with the @ operator \n",
    "# these two work:\n",
    "print(np.round( A@B   ,2)), print(' ')\n",
    "print(np.round( C.T@A ,2)) # \n",
    "print(np.round( C.T@A ,2)) # C.T -> transposing C\n",
    "# we're using np.round because it's nicer to read with two decimals"
   ]
  },
  {
   "cell_type": "markdown",
   "id": "4c9cd2d7-4533-4ae3-9585-ecfe92931898",
   "metadata": {},
   "source": [
    "The following python code creates errors:\n",
    "\n",
    "`print(np.round( A@C   ,2)), print(' ')`\n",
    "\n",
    "__ValueError:__ matmul: Input operand 1 has a mismatch in its core dimension 0, with gufunc signature (n?,k),(k,m?)->(n?,m?) (size 3 is different from 4)\n",
    "\n",
    "`print(np.round( B@C   ,2)), print(' ')`\n",
    "\n",
    "__ValueError:__ matmul: Input operand 1 has a mismatch in its core dimension 0, with gufunc signature (n?,k),(k,m?)->(n?,m?) (size 3 is different from 5)"
   ]
  },
  {
   "cell_type": "markdown",
   "id": "4fa413f6-2b92-4633-ab2d-2df4e221209b",
   "metadata": {},
   "source": [
    "### Matrix Multiplication in pytorch"
   ]
  },
  {
   "cell_type": "code",
   "execution_count": 22,
   "id": "7c44e124-3b7a-449c-a82c-7147149b8c55",
   "metadata": {},
   "outputs": [
    {
     "data": {
      "text/plain": [
       "(tensor([[ 0.7876,  0.0736, -0.1742,  1.1398],\n",
       "         [ 1.9220,  1.3624, -0.8146,  0.2728],\n",
       "         [-0.4113, -0.8474, -0.7157, -0.3993]]),\n",
       " tensor([[ 1.0236, -0.4221,  0.2097, -0.0076, -0.4185],\n",
       "         [-0.1357,  0.5459, -0.4162,  0.3887, -0.3752],\n",
       "         [ 0.1158,  1.3547,  0.5483, -0.8488,  0.5548],\n",
       "         [-0.1706,  0.0947, -0.8883, -1.3763,  0.0480]]),\n",
       " array([[ 0.28816659, -0.97872037, -0.58503657, -0.33708158, -0.59127088,\n",
       "          0.25321073, -0.32696217],\n",
       "        [-1.64116339, -1.20846599,  2.20518643, -1.18426061,  0.08093544,\n",
       "         -0.66744648,  0.43569447],\n",
       "        [-0.08908391, -0.22881402,  0.64443201,  0.28746817,  1.53292133,\n",
       "          0.05368647, -1.09472459],\n",
       "        [-0.9199874 ,  0.74565242, -0.52789964, -0.16097511, -0.86085267,\n",
       "          0.58748591, -1.57414606]]),\n",
       " tensor([[ 0.2882, -0.9787, -0.5850, -0.3371, -0.5913,  0.2532, -0.3270],\n",
       "         [-1.6412, -1.2085,  2.2052, -1.1843,  0.0809, -0.6674,  0.4357],\n",
       "         [-0.0891, -0.2288,  0.6444,  0.2875,  1.5329,  0.0537, -1.0947],\n",
       "         [-0.9200,  0.7457, -0.5279, -0.1610, -0.8609,  0.5875, -1.5741]]),\n",
       " torch.Size([4, 7]))"
      ]
     },
     "execution_count": 22,
     "metadata": {},
     "output_type": "execute_result"
    }
   ],
   "source": [
    "# let's create some random matrices with torch\n",
    "A  = torch.randn(3,4)\n",
    "B  = torch.randn(4,5)\n",
    "C1 = np.random.randn(4,7) # matrix created with numpy - will this work?\n",
    "C2 = torch.tensor( C1,dtype=torch.float ) # converting numpy matrix into pytorch data type\n",
    "A, B, C1, C2, C2.shape"
   ]
  },
  {
   "cell_type": "code",
   "execution_count": 23,
   "id": "7ef764af-2b8f-41fa-8230-d59ae8bea574",
   "metadata": {},
   "outputs": [
    {
     "name": "stdout",
     "output_type": "stream",
     "text": [
      "tensor([[-0.9300,  0.0300, -1.0100, -0.5900, -1.7100,  0.8100, -1.8300],\n",
      "        [-1.8600, -3.1400,  1.2100, -2.5400, -2.5100, -0.3100,  0.4300],\n",
      "        [ 1.7000,  1.2900, -1.8800,  1.0000, -0.5800,  0.1900,  1.1800]],\n",
      "       dtype=torch.float64)\n",
      " \n"
     ]
    },
    {
     "data": {
      "text/plain": [
       "(None, None)"
      ]
     },
     "execution_count": 23,
     "metadata": {},
     "output_type": "execute_result"
    }
   ],
   "source": [
    "# matrix multiplication\n",
    "print(np.round( A@C1  ,2)), print(' ') # 3x4 and 4x7; pytorch * numpy works quite well"
   ]
  },
  {
   "cell_type": "code",
   "execution_count": 16,
   "id": "9f357d3c-a0b4-47f0-a61c-87f61ebc25d1",
   "metadata": {},
   "outputs": [
    {
     "name": "stdout",
     "output_type": "stream",
     "text": [
      "tensor([[-0.0100,  0.8100, -1.8200,  0.7400, -3.6800,  0.7400, -1.2500],\n",
      "        [-2.0900,  0.6100,  2.7800, -1.4800,  3.8100, -4.7500,  0.1400],\n",
      "        [-0.0700,  0.1900, -0.7500,  1.1400,  0.3300, -1.6600,  0.5100]])\n"
     ]
    }
   ],
   "source": [
    "print(np.round( A@C2  ,2)) # 3x4 and 4x7 again"
   ]
  },
  {
   "cell_type": "code",
   "execution_count": 18,
   "id": "e8439298-e913-4340-b2e3-9792b5ec1a9f",
   "metadata": {},
   "outputs": [
    {
     "name": "stdout",
     "output_type": "stream",
     "text": [
      "tensor([[ 1.6000, -0.6500, -0.2200,  5.7700, -3.2600],\n",
      "        [-0.8800, -3.0300,  3.6900, -7.1300, 11.7100],\n",
      "        [ 0.4000, -2.0200, -0.7700,  1.4500, -0.3100]])\n"
     ]
    }
   ],
   "source": [
    "print(np.round( A@B   ,2)) # 3x4 and 4x5"
   ]
  },
  {
   "cell_type": "markdown",
   "id": "3a164c57-6663-4b7d-b568-f92e56b3329d",
   "metadata": {},
   "source": [
    "The following python code creates errors:\n",
    "\n",
    "`print(np.round( A@B   ,2)), print(' ')`\n",
    "\n",
    "__RuntimeError:__ mat1 and mat2 shapes cannot be multiplied (3x4 and 5x4)"
   ]
  },
  {
   "cell_type": "code",
   "execution_count": null,
   "id": "b7f0543b-d046-4723-8313-818467ce59d7",
   "metadata": {},
   "outputs": [],
   "source": []
  }
 ],
 "metadata": {
  "kernelspec": {
   "display_name": "Python 3 (ipykernel)",
   "language": "python",
   "name": "python3"
  },
  "language_info": {
   "codemirror_mode": {
    "name": "ipython",
    "version": 3
   },
   "file_extension": ".py",
   "mimetype": "text/x-python",
   "name": "python",
   "nbconvert_exporter": "python",
   "pygments_lexer": "ipython3",
   "version": "3.9.20"
  }
 },
 "nbformat": 4,
 "nbformat_minor": 5
}
