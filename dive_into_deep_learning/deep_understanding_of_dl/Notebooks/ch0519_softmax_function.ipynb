{
 "cells": [
  {
   "cell_type": "markdown",
   "id": "430b97ec-d714-4f63-9b16-a9cdcf8b754b",
   "metadata": {},
   "source": [
    "## The Softmax Function"
   ]
  },
  {
   "cell_type": "markdown",
   "id": "ca346698-98f2-4738-a455-4f5d57a75082",
   "metadata": {},
   "source": [
    "*Studying and coding along with Udemy online course [__„Dive into Deep Learning“__](https://www.udemy.com/course/deeplearning_x/?couponCode=KEEPLEARNING) by Mike X Cohen. The accompanying GitHub repository can be found at [mikexcohen /\n",
    "DeepUnderstandingOfDeepLearning](https://github.com/mikexcohen/DeepUnderstandingOfDeepLearning/tree/main/math).*\n",
    "\n",
    "*COURSE: A deep understanding of deep learning<br />\n",
    "SECTION: Math prerequisites<br />\n",
    "LECTURE: Softmax<br />\n",
    "TEACHER: Mike X Cohen, sincxpress.com*"
   ]
  },
  {
   "cell_type": "code",
   "execution_count": 3,
   "id": "3acdc54d-c6fb-46ba-b6ab-f0f72039323d",
   "metadata": {},
   "outputs": [],
   "source": [
    "# importing the libraries\n",
    "import numpy as np\n",
    "import torch\n",
    "import torch.nn as nn # neural network libray of the torch module\n",
    "import matplotlib.pyplot as plt"
   ]
  },
  {
   "cell_type": "code",
   "execution_count": 5,
   "id": "a03718fa-04c1-4169-a472-b47b4e8dfa83",
   "metadata": {},
   "outputs": [
    {
     "data": {
      "text/plain": [
       "array([0.09003057, 0.24472847, 0.66524096])"
      ]
     },
     "execution_count": 5,
     "metadata": {},
     "output_type": "execute_result"
    }
   ],
   "source": [
    "# computing the softmax function manually in numpy\n",
    "# list of numbers\n",
    "z = [1,2,3]\n",
    "\n",
    "# computing the softmax result:\n",
    "\n",
    "# 1) taking the natural exponent of those numbers -> the numerator\n",
    "num = np.exp(z)\n",
    "\n",
    "# 2) computing the denominator\n",
    "den = np.sum( np.exp(z) )\n",
    "\n",
    "# 3) finally the output of the softmax function\n",
    "sigma = num / den\n",
    "\n",
    "sigma"
   ]
  },
  {
   "cell_type": "code",
   "execution_count": 6,
   "id": "7979761d-2bac-4ccf-b6de-39f8d3c2ffbd",
   "metadata": {},
   "outputs": [
    {
     "data": {
      "text/plain": [
       "1.0"
      ]
     },
     "execution_count": 6,
     "metadata": {},
     "output_type": "execute_result"
    }
   ],
   "source": [
    "# sigma values always sum up to one\n",
    "np.sum(sigma)"
   ]
  },
  {
   "cell_type": "code",
   "execution_count": 7,
   "id": "c82398ea-5082-4a57-b13b-1410b2283b16",
   "metadata": {},
   "outputs": [
    {
     "data": {
      "text/plain": [
       "array([-5, 12, -5,  6,  2, -3,  7, 14, 10,  6, -3, -3,  1,  5, -5,  3, -1,\n",
       "        2, -2, -5, -4, -2, -2, 13,  0])"
      ]
     },
     "execution_count": 7,
     "metadata": {},
     "output_type": "execute_result"
    }
   ],
   "source": [
    "# repeat the same with some random integers\n",
    "z = np.random.randint(-5,high=15,size=25)\n",
    "z"
   ]
  },
  {
   "cell_type": "code",
   "execution_count": 9,
   "id": "c0183f13-3bcd-4bce-976f-307ac4e838b2",
   "metadata": {},
   "outputs": [
    {
     "data": {
      "text/plain": [
       "array([3.67813874e-09, 8.88452674e-02, 3.67813874e-09, 2.20225400e-04,\n",
       "       4.03356890e-06, 2.71779735e-08, 5.98634703e-04, 6.56482665e-01,\n",
       "       1.20238994e-02, 2.20225400e-04, 2.71779735e-08, 2.71779735e-08,\n",
       "       1.48386707e-06, 8.10163971e-05, 3.67813874e-09, 1.09643770e-05,\n",
       "       2.00819571e-07, 4.03356890e-06, 7.38773914e-08, 3.67813874e-09,\n",
       "       9.99821769e-09, 7.38773914e-08, 7.38773914e-08, 2.41506476e-01,\n",
       "       5.45884190e-07])"
      ]
     },
     "execution_count": 9,
     "metadata": {},
     "output_type": "execute_result"
    }
   ],
   "source": [
    "# computing the softmax result\n",
    "num = np.exp(z)\n",
    "den = np.sum( num )\n",
    "sigma = num / den\n",
    "sigma"
   ]
  },
  {
   "cell_type": "code",
   "execution_count": 10,
   "id": "94df4436-9e80-4c04-8a27-ad3a3d87b75a",
   "metadata": {},
   "outputs": [
    {
     "data": {
      "text/plain": [
       "1.0"
      ]
     },
     "execution_count": 10,
     "metadata": {},
     "output_type": "execute_result"
    }
   ],
   "source": [
    "np.sum(sigma)"
   ]
  },
  {
   "cell_type": "code",
   "execution_count": 11,
   "id": "b6a0bcad-4674-4728-b332-bc45d283f566",
   "metadata": {},
   "outputs": [
    {
     "data": {
      "image/png": "[encoded data removed]",
      "text/plain": [
       "<Figure size 640x480 with 1 Axes>"
      ]
     },
     "metadata": {},
     "output_type": "display_data"
    }
   ],
   "source": [
    "# comparing original number set and softmax numbers via plotting\n",
    "plt.plot(z,sigma,'ko')\n",
    "plt.xlabel('Original number (z)')\n",
    "plt.ylabel('Softmaxified $\\sigma$')\n",
    "plt.yscale('log')\n",
    "plt.title('$\\sum\\sigma$ = %g' %np.sum(sigma))\n",
    "plt.show()"
   ]
  },
  {
   "cell_type": "code",
   "execution_count": null,
   "id": "36bd38f4-d8f9-4e83-b3ac-93e38f376c05",
   "metadata": {},
   "outputs": [],
   "source": []
  }
 ],
 "metadata": {
  "kernelspec": {
   "display_name": "Python 3 (ipykernel)",
   "language": "python",
   "name": "python3"
  },
  "language_info": {
   "codemirror_mode": {
    "name": "ipython",
    "version": 3
   },
   "file_extension": ".py",
   "mimetype": "text/x-python",
   "name": "python",
   "nbconvert_exporter": "python",
   "pygments_lexer": "ipython3",
   "version": "3.9.20"
  }
 },
 "nbformat": 4,
 "nbformat_minor": 5
}
