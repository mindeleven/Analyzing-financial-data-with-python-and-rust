{
 "cells": [
  {
   "cell_type": "markdown",
   "id": "3d2d9157-67df-4f47-8a44-2a3216ddaaa1",
   "metadata": {},
   "source": [
    "## 2.3. Linear Algebra"
   ]
  },
  {
   "cell_type": "markdown",
   "id": "20d2b66b-a7e0-44a5-a748-0ea85858c7ac",
   "metadata": {},
   "source": [
    "*Studying and coding along with the printed book __„Dive into Deep Learning“__ by Aston Zhang, Zachary C. Lipton, Mu Li & Alexander J. Smola. The accompanying website for the chapter Preliminaries > Linear Algebra can be found at [d2l.ai](https://d2l.ai/chapter_preliminaries/linear-algebra.html).*"
   ]
  },
  {
   "cell_type": "markdown",
   "id": "c72527c6-19f8-40ac-beda-7ca47b85f562",
   "metadata": {},
   "source": [
    "__In order to build sophisticated models with tensors we will need some knowledge of linear algebra. *There's no way around it :)*__"
   ]
  },
  {
   "cell_type": "code",
   "execution_count": 1,
   "id": "da9dd450-6789-4871-b387-d93644c2f3fc",
   "metadata": {},
   "outputs": [],
   "source": [
    "import torch"
   ]
  },
  {
   "cell_type": "markdown",
   "id": "3224e7bb-611e-45f8-adcb-a022a8e69127",
   "metadata": {},
   "source": [
    "### 2.3.1. Scalars"
   ]
  },
  {
   "cell_type": "markdown",
   "id": "28d2ea71-f8b0-4e5d-80e1-eb71b8673f4e",
   "metadata": {},
   "source": [
    "- The values in mathematical operations are called __scalars__\n",
    "- Known values (like 5 or 9 in an equation) are __constant scalars__. Unknow variables (like c or f in an equation) represent __unknown scalars__\n",
    "- Scalars are denoted by lower case letters like x, y or z\n",
    "- The space of all (continuous) real-valued scalars is <math xmlns=\"http://www.w3.org/1998/Math/MathML\">\n",
    "  <mrow data-mjx-texclass=\"ORD\">\n",
    "    <mi mathvariant=\"double-struck\">R</mi>\n",
    "  </mrow>\n",
    "</math>\n",
    "- <math xmlns=\"http://www.w3.org/1998/Math/MathML\">\n",
    "  <mi>x</mi>\n",
    "  <mo>&#x2208;</mo>\n",
    "  <mrow data-mjx-texclass=\"ORD\">\n",
    "    <mi mathvariant=\"double-struck\">R</mi>\n",
    "  </mrow>\n",
    "</math> is a formal way to say that x is a real-valued scalar\n",
    "- The symbol <math xmlns=\"http://www.w3.org/1998/Math/MathML\">\n",
    "  <mo>&#x2208;</mo>\n",
    "</math> (pronounced “in”) denotes membership in a set\n",
    "- <math xmlns=\"http://www.w3.org/1998/Math/MathML\">\n",
    "  <mi>x</mi>\n",
    "  <mo>,</mo>\n",
    "  <mi>y</mi>\n",
    "  <mo>&#x2208;</mo>\n",
    "  <mo fence=\"false\" stretchy=\"false\">{</mo>\n",
    "  <mn>0</mn>\n",
    "  <mo>,</mo>\n",
    "  <mn>1</mn>\n",
    "  <mo fence=\"false\" stretchy=\"false\">}</mo>\n",
    "</math> for example, indicates that x and y are variables that can only take values 0 or 1."
   ]
  },
  {
   "cell_type": "code",
   "execution_count": 2,
   "id": "734a6009-b4ce-4cf7-a7a6-ba39e89d3da4",
   "metadata": {},
   "outputs": [],
   "source": [
    "# scalars are implemented as tensors that contain only one element\n",
    "x = torch.tensor(3.0)\n",
    "y = torch.tensor(2.0)"
   ]
  },
  {
   "cell_type": "code",
   "execution_count": 3,
   "id": "33b72746-b998-411d-8af9-db7f592a9f00",
   "metadata": {},
   "outputs": [
    {
     "data": {
      "text/plain": [
       "tensor(5.)"
      ]
     },
     "execution_count": 3,
     "metadata": {},
     "output_type": "execute_result"
    }
   ],
   "source": [
    "# performing the addition, multiplication, division, and exponentiation operations\n",
    "x + y"
   ]
  },
  {
   "cell_type": "code",
   "execution_count": 4,
   "id": "b46c50aa-7e21-43c3-92b5-8cd4602a685e",
   "metadata": {},
   "outputs": [
    {
     "data": {
      "text/plain": [
       "tensor(1.)"
      ]
     },
     "execution_count": 4,
     "metadata": {},
     "output_type": "execute_result"
    }
   ],
   "source": [
    "x - y"
   ]
  },
  {
   "cell_type": "code",
   "execution_count": 5,
   "id": "6b219908-311a-4823-811b-7d8147bb0b9c",
   "metadata": {},
   "outputs": [
    {
     "data": {
      "text/plain": [
       "tensor(9.)"
      ]
     },
     "execution_count": 5,
     "metadata": {},
     "output_type": "execute_result"
    }
   ],
   "source": [
    "x * x"
   ]
  },
  {
   "cell_type": "code",
   "execution_count": 6,
   "id": "00860094-7b71-41f5-a23b-4e8fcfb3ddc8",
   "metadata": {},
   "outputs": [
    {
     "data": {
      "text/plain": [
       "tensor(1.5000)"
      ]
     },
     "execution_count": 6,
     "metadata": {},
     "output_type": "execute_result"
    }
   ],
   "source": [
    "x / y"
   ]
  },
  {
   "cell_type": "code",
   "execution_count": 7,
   "id": "9f9f39ee-bb16-48e6-8b3f-aa08be0bcf8b",
   "metadata": {},
   "outputs": [
    {
     "data": {
      "text/plain": [
       "tensor(9.)"
      ]
     },
     "execution_count": 7,
     "metadata": {},
     "output_type": "execute_result"
    }
   ],
   "source": [
    "x ** y"
   ]
  },
  {
   "cell_type": "code",
   "execution_count": null,
   "id": "2a2be30e-3631-4eb1-8880-569dc1611a67",
   "metadata": {},
   "outputs": [],
   "source": []
  }
 ],
 "metadata": {
  "kernelspec": {
   "display_name": "Python 3 (ipykernel)",
   "language": "python",
   "name": "python3"
  },
  "language_info": {
   "codemirror_mode": {
    "name": "ipython",
    "version": 3
   },
   "file_extension": ".py",
   "mimetype": "text/x-python",
   "name": "python",
   "nbconvert_exporter": "python",
   "pygments_lexer": "ipython3",
   "version": "3.9.20"
  }
 },
 "nbformat": 4,
 "nbformat_minor": 5
}
