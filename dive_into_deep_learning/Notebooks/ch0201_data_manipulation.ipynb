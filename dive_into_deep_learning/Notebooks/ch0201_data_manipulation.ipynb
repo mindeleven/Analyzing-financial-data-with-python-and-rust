{
 "cells": [
  {
   "cell_type": "markdown",
   "id": "5807a6cf-b8d3-4f27-970a-6526a4557a36",
   "metadata": {},
   "source": [
    "## Data Manipulation"
   ]
  },
  {
   "cell_type": "markdown",
   "id": "044872c7-6a3e-428d-b5c3-c67262f2680f",
   "metadata": {},
   "source": [
    "*Studying and coding along with the printed book __„Dive into Deep Learning“__ by Aston Zhang, Zachary C. Lipton, Mu Li & Alexander J. Smola. The accompanying website for the chapter Preliminaries > Data Manipulation can be found at [d2l.ai](https://d2l.ai/chapter_preliminaries/ndarray.html).*"
   ]
  },
  {
   "cell_type": "code",
   "execution_count": 1,
   "id": "b231a424-b6d4-4990-bab3-6a5de9dba073",
   "metadata": {},
   "outputs": [],
   "source": [
    "# importing the PyTorch library\n",
    "import torch"
   ]
  },
  {
   "cell_type": "markdown",
   "id": "c916a9ee-78ca-4515-bbb6-37b9b7424423",
   "metadata": {},
   "source": [
    "#### __What is a tensor?__\n",
    "\n",
    "A tensor represents a (possibly multidimensional) array of numerical values. \n",
    "\n",
    "- In the one-dimensional case (only one axis is needed for the data) a tensor is called a **vector**.\n",
    "- With two axes, a tensor is called a **matrix**.\n",
    "- With *k > 2* axes, we drop the specialized names and just refer to the object as a ***k<sup>th</sup>*-order tensor**."
   ]
  },
  {
   "cell_type": "code",
   "execution_count": 4,
   "id": "ef978ab7-980c-40c7-a570-b1650de735ec",
   "metadata": {},
   "outputs": [
    {
     "data": {
      "text/plain": [
       "tensor([ 0.,  1.,  2.,  3.,  4.,  5.,  6.,  7.,  8.,  9., 10., 11.])"
      ]
     },
     "execution_count": 4,
     "metadata": {},
     "output_type": "execute_result"
    }
   ],
   "source": [
    "# creating new tensors prepopulated with values with arange(n)\n",
    "# creates a vector of evenly spaced values\n",
    "# it starts at 0 (included) and ends at n (not included). \n",
    "# by default the interval size is 1\n",
    "# by default new tensors are stored in main memory and designated for CPU-based computation\n",
    "x = torch.arange(12, dtype=torch.float32)\n",
    "x"
   ]
  },
  {
   "cell_type": "code",
   "execution_count": null,
   "id": "149137a2-69c1-485e-9984-be726ea93e9e",
   "metadata": {},
   "outputs": [],
   "source": []
  }
 ],
 "metadata": {
  "kernelspec": {
   "display_name": "Python 3 (ipykernel)",
   "language": "python",
   "name": "python3"
  },
  "language_info": {
   "codemirror_mode": {
    "name": "ipython",
    "version": 3
   },
   "file_extension": ".py",
   "mimetype": "text/x-python",
   "name": "python",
   "nbconvert_exporter": "python",
   "pygments_lexer": "ipython3",
   "version": "3.9.20"
  }
 },
 "nbformat": 4,
 "nbformat_minor": 5
}
