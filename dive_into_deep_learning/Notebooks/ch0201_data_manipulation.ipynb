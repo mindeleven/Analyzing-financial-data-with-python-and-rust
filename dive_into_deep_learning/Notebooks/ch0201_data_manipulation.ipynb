{
 "cells": [
  {
   "cell_type": "markdown",
   "id": "5807a6cf-b8d3-4f27-970a-6526a4557a36",
   "metadata": {},
   "source": [
    "## 2.1. Data Manipulation"
   ]
  },
  {
   "cell_type": "markdown",
   "id": "044872c7-6a3e-428d-b5c3-c67262f2680f",
   "metadata": {},
   "source": [
    "*Studying and coding along with the printed book __„Dive into Deep Learning“__ by Aston Zhang, Zachary C. Lipton, Mu Li & Alexander J. Smola. The accompanying website for the chapter Preliminaries > Data Manipulation can be found at [d2l.ai](https://d2l.ai/chapter_preliminaries/ndarray.html).*"
   ]
  },
  {
   "cell_type": "markdown",
   "id": "412ed0a0-5826-4078-8c83-3099d417ec9f",
   "metadata": {},
   "source": [
    "### 2.1.1. Getting started with Data Manipulation"
   ]
  },
  {
   "cell_type": "code",
   "execution_count": 1,
   "id": "b231a424-b6d4-4990-bab3-6a5de9dba073",
   "metadata": {},
   "outputs": [],
   "source": [
    "# importing the PyTorch library\n",
    "import torch"
   ]
  },
  {
   "cell_type": "markdown",
   "id": "c916a9ee-78ca-4515-bbb6-37b9b7424423",
   "metadata": {},
   "source": [
    "#### __What is a tensor?__\n",
    "\n",
    "A tensor represents a (possibly multidimensional) array of numerical values. \n",
    "\n",
    "- In the one-dimensional case (only one axis is needed for the data) a tensor is called a **vector**.\n",
    "- With two axes, a tensor is called a **matrix**.\n",
    "- With *k > 2* axes, we drop the specialized names and just refer to the object as a ***k<sup>th</sup>*-order tensor**."
   ]
  },
  {
   "cell_type": "code",
   "execution_count": 4,
   "id": "ef978ab7-980c-40c7-a570-b1650de735ec",
   "metadata": {},
   "outputs": [
    {
     "data": {
      "text/plain": [
       "tensor([ 0.,  1.,  2.,  3.,  4.,  5.,  6.,  7.,  8.,  9., 10., 11.])"
      ]
     },
     "execution_count": 4,
     "metadata": {},
     "output_type": "execute_result"
    }
   ],
   "source": [
    "# creating new tensors prepopulated with values with arange(n)\n",
    "# creates a vector of evenly spaced values\n",
    "# it starts at 0 (included) and ends at n (not included). \n",
    "# by default the interval size is 1\n",
    "# by default new tensors are stored in main memory and designated for CPU-based computation\n",
    "x = torch.arange(12, dtype=torch.float32)\n",
    "x"
   ]
  },
  {
   "cell_type": "code",
   "execution_count": 6,
   "id": "149137a2-69c1-485e-9984-be726ea93e9e",
   "metadata": {},
   "outputs": [
    {
     "data": {
      "text/plain": [
       "tensor(0.)"
      ]
     },
     "execution_count": 6,
     "metadata": {},
     "output_type": "execute_result"
    }
   ],
   "source": [
    "# element of the tensor\n",
    "x[0]"
   ]
  },
  {
   "cell_type": "code",
   "execution_count": 8,
   "id": "79033f0f-2a11-4d01-af7a-3edefaa321e6",
   "metadata": {},
   "outputs": [
    {
     "data": {
      "text/plain": [
       "12"
      ]
     },
     "execution_count": 8,
     "metadata": {},
     "output_type": "execute_result"
    }
   ],
   "source": [
    "# total number of elements in a tensor\n",
    "x.numel()"
   ]
  },
  {
   "cell_type": "code",
   "execution_count": 9,
   "id": "bd2e53f6-3b20-4630-b43a-19e7ad874cdc",
   "metadata": {},
   "outputs": [
    {
     "data": {
      "text/plain": [
       "torch.Size([12])"
      ]
     },
     "execution_count": 9,
     "metadata": {},
     "output_type": "execute_result"
    }
   ],
   "source": [
    "# accessing a tensor’s shape (the length along each axis) by inspecting its shape attribute\n",
    "x.shape"
   ]
  },
  {
   "cell_type": "code",
   "execution_count": 12,
   "id": "1d7e672d-9f15-4b77-ae50-85a7e61468a5",
   "metadata": {},
   "outputs": [
    {
     "data": {
      "text/plain": [
       "tensor([[ 0.,  1.,  2.,  3.],\n",
       "        [ 4.,  5.,  6.,  7.],\n",
       "        [ 8.,  9., 10., 11.]])"
      ]
     },
     "execution_count": 12,
     "metadata": {},
     "output_type": "execute_result"
    }
   ],
   "source": [
    "# changing the shape of a tensor without altering its size or values by invoking reshape\n",
    "# transform vector x to a matrix X with shape (3, 4)\n",
    "# the elements of the vector are laid out one row at a time: x[3] == X[0, 3]\n",
    "X = x.reshape(3,4)\n",
    "X"
   ]
  },
  {
   "cell_type": "code",
   "execution_count": 13,
   "id": "26d296b7-1582-4417-86dc-c6af0b8843e5",
   "metadata": {},
   "outputs": [
    {
     "data": {
      "text/plain": [
       "tensor(3.)"
      ]
     },
     "execution_count": 13,
     "metadata": {},
     "output_type": "execute_result"
    }
   ],
   "source": [
    "X[0, 3]"
   ]
  },
  {
   "cell_type": "code",
   "execution_count": 14,
   "id": "daa6ec1b-f0d6-488b-bd2e-f57b4dcfe466",
   "metadata": {},
   "outputs": [
    {
     "data": {
      "text/plain": [
       "tensor(7.)"
      ]
     },
     "execution_count": 14,
     "metadata": {},
     "output_type": "execute_result"
    }
   ],
   "source": [
    "X[1, 3]"
   ]
  },
  {
   "cell_type": "code",
   "execution_count": 16,
   "id": "49166035-4102-4fff-a7d9-ab6a587e5bb7",
   "metadata": {},
   "outputs": [
    {
     "data": {
      "text/plain": [
       "12"
      ]
     },
     "execution_count": 16,
     "metadata": {},
     "output_type": "execute_result"
    }
   ],
   "source": [
    "X.numel()"
   ]
  },
  {
   "cell_type": "markdown",
   "id": "5b7155a3-8603-4e26-befb-b7515bc2dcf9",
   "metadata": {},
   "source": [
    "If we know the size of a tensor size we can work out one component of the shape with the information we have:\n",
    "- Given a tensor of size *n* and target shape *(h, w)* we know that *w = n/h*.\n",
    "- Above example: given a tensor of 12 and target shape (3, w) we know that w = 12/3."
   ]
  },
  {
   "cell_type": "code",
   "execution_count": 18,
   "id": "bd792669-3a0d-4dd0-89f7-8476e7bdb0ad",
   "metadata": {},
   "outputs": [
    {
     "data": {
      "text/plain": [
       "tensor([[ 0.,  1.,  2.,  3.],\n",
       "        [ 4.,  5.,  6.,  7.],\n",
       "        [ 8.,  9., 10., 11.]])"
      ]
     },
     "execution_count": 18,
     "metadata": {},
     "output_type": "execute_result"
    }
   ],
   "source": [
    "# to automatically infer one component of the shape, we can place a -1 for the shape component that should be inferred automatically \n",
    "Y = x.reshape(-1, 4)\n",
    "Y"
   ]
  },
  {
   "cell_type": "code",
   "execution_count": 19,
   "id": "bb632b96-e801-4acb-ba41-58f5818928e0",
   "metadata": {},
   "outputs": [
    {
     "data": {
      "text/plain": [
       "tensor([[ 0.,  1.,  2.,  3.],\n",
       "        [ 4.,  5.,  6.,  7.],\n",
       "        [ 8.,  9., 10., 11.]])"
      ]
     },
     "execution_count": 19,
     "metadata": {},
     "output_type": "execute_result"
    }
   ],
   "source": [
    "Z = x.reshape(3, -1)\n",
    "Z"
   ]
  },
  {
   "cell_type": "code",
   "execution_count": 15,
   "id": "60a3e6d0-b22d-4cd1-b378-6119f509b739",
   "metadata": {},
   "outputs": [
    {
     "data": {
      "text/plain": [
       "tensor([[[0., 0., 0., 0.],\n",
       "         [0., 0., 0., 0.],\n",
       "         [0., 0., 0., 0.]],\n",
       "\n",
       "        [[0., 0., 0., 0.],\n",
       "         [0., 0., 0., 0.],\n",
       "         [0., 0., 0., 0.]]])"
      ]
     },
     "execution_count": 15,
     "metadata": {},
     "output_type": "execute_result"
    }
   ],
   "source": [
    "# example: a tensor initialized to contain all 0s or 1s\n",
    "# constructing a tensor with all elements set to 0 and a shape of (2, 3, 4)\n",
    "torch.zeros((2, 3, 4))"
   ]
  },
  {
   "cell_type": "code",
   "execution_count": 20,
   "id": "99946214-d1c9-4467-bce9-303da2b7be7a",
   "metadata": {},
   "outputs": [
    {
     "data": {
      "text/plain": [
       "tensor([[[1., 1., 1., 1.],\n",
       "         [1., 1., 1., 1.],\n",
       "         [1., 1., 1., 1.]],\n",
       "\n",
       "        [[1., 1., 1., 1.],\n",
       "         [1., 1., 1., 1.],\n",
       "         [1., 1., 1., 1.]]])"
      ]
     },
     "execution_count": 20,
     "metadata": {},
     "output_type": "execute_result"
    }
   ],
   "source": [
    "torch.ones((2, 3, 4))"
   ]
  },
  {
   "cell_type": "markdown",
   "id": "3e7f79d9-67bf-456b-973a-b9d3ad723d47",
   "metadata": {},
   "source": [
    "#### __Sampling elements randomly from a given probability distribution__\n",
    "\n",
    "- It can be of advantage to sample each element randomly (and independently) from a given probability distribution. \n",
    "- For example, the parameters of neural networks are often initialized randomly. "
   ]
  },
  {
   "cell_type": "code",
   "execution_count": 22,
   "id": "0d2fe0a3-d229-43bf-98e6-533a4b16c784",
   "metadata": {},
   "outputs": [
    {
     "data": {
      "text/plain": [
       "tensor([[ 1.8146,  1.1493,  1.1094, -0.7689],\n",
       "        [-1.3890, -1.3211,  1.6057,  0.4789],\n",
       "        [-2.0042,  0.2064, -0.4230, -1.9270]])"
      ]
     },
     "execution_count": 22,
     "metadata": {},
     "output_type": "execute_result"
    }
   ],
   "source": [
    "# creating a tensor with elements drawn from a standard Gaussian (normal) distribution with mean 0 and standard deviation 1\n",
    "torch.randn(3,4)"
   ]
  },
  {
   "cell_type": "markdown",
   "id": "0c803839-a3be-473e-ad58-4194344f05f1",
   "metadata": {},
   "source": [
    "### 2.1.2. Indexing and Slicing"
   ]
  },
  {
   "cell_type": "code",
   "execution_count": 29,
   "id": "d782e65d-d97a-4cd1-b822-61713da589c8",
   "metadata": {},
   "outputs": [
    {
     "data": {
      "text/plain": [
       "tensor([[ 4.,  5., 17.,  7.],\n",
       "        [ 8.,  9., 10., 33.]])"
      ]
     },
     "execution_count": 29,
     "metadata": {},
     "output_type": "execute_result"
    }
   ],
   "source": [
    "# tensor elements cab be accessed by indexing, starting with 0\n",
    "# a whole ranges of indices can be accessed via slicing (e.g., X[start:stop]), \n",
    "## where the returned value includes the first index (start) but not the last (stop)\n",
    "X[1:3]"
   ]
  },
  {
   "cell_type": "markdown",
   "id": "46bff47b-b8d8-4fa4-80aa-a9b470956802",
   "metadata": {},
   "source": [
    "When only one index (or slice) is specified for a *k<sup>th</sup>*-order tensor, it is applied along axis 0.<br/>\n",
    "Thus, in the previous code, [-1] selects the last row and [1:3] selects the second and third rows."
   ]
  },
  {
   "cell_type": "code",
   "execution_count": 30,
   "id": "1dcfd03d-2662-48a1-ace8-11e8a5a6d5e8",
   "metadata": {},
   "outputs": [
    {
     "data": {
      "text/plain": [
       "tensor([ 8.,  9., 10., 33.])"
      ]
     },
     "execution_count": 30,
     "metadata": {},
     "output_type": "execute_result"
    }
   ],
   "source": [
    "# to access an element based on its position relative to the end of the list, we can use negative indexing\n",
    "X[-1]"
   ]
  },
  {
   "cell_type": "markdown",
   "id": "2440ccc5-bcfd-477c-8105-2b58602d495c",
   "metadata": {},
   "source": []
  },
  {
   "cell_type": "code",
   "execution_count": 25,
   "id": "a4bfc001-1db1-4b40-87cf-de55f3783ad4",
   "metadata": {},
   "outputs": [
    {
     "name": "stdout",
     "output_type": "stream",
     "text": [
      "tensor([[ 0.,  1.,  2.,  3.],\n",
      "        [ 4.,  5., 17.,  7.],\n",
      "        [ 8.,  9., 10., 11.]])\n"
     ]
    },
    {
     "data": {
      "text/plain": [
       "tensor([[ 0.,  1.,  2.,  3.],\n",
       "        [ 4.,  5., 17.,  7.],\n",
       "        [ 8.,  9., 10., 33.]])"
      ]
     },
     "execution_count": 25,
     "metadata": {},
     "output_type": "execute_result"
    }
   ],
   "source": [
    "# writing elements of a matrix by specifying indices\n",
    "print(X)\n",
    "X[1, 2] = 17\n",
    "X[2, 3] = 33\n",
    "X"
   ]
  },
  {
   "cell_type": "markdown",
   "id": "a4bdc620-7d77-4ea3-8dab-e31eb3591e33",
   "metadata": {},
   "source": [
    "#### __Assigning multiple elements the same value__"
   ]
  },
  {
   "cell_type": "code",
   "execution_count": 33,
   "id": "dca8c073-02e1-4a5e-a575-1eddd3fb684e",
   "metadata": {},
   "outputs": [
    {
     "data": {
      "text/plain": [
       "tensor([[12., 12., 12., 12.],\n",
       "        [12., 12., 12., 12.],\n",
       "        [ 8.,  9., 10., 33.]])"
      ]
     },
     "execution_count": 33,
     "metadata": {},
     "output_type": "execute_result"
    }
   ],
   "source": [
    "#, we apply the indexing on the left-hand side of the assignment operation\n",
    "# for instance, [:2, :] accesses the first and second rows\n",
    "## where : takes all the elements along axis 1 (column)\n",
    "X[:2, :] = 12\n",
    "X"
   ]
  },
  {
   "cell_type": "code",
   "execution_count": null,
   "id": "d9b242c0-4b18-4ebd-8292-7aa4b346bbf9",
   "metadata": {},
   "outputs": [],
   "source": []
  }
 ],
 "metadata": {
  "kernelspec": {
   "display_name": "Python 3 (ipykernel)",
   "language": "python",
   "name": "python3"
  },
  "language_info": {
   "codemirror_mode": {
    "name": "ipython",
    "version": 3
   },
   "file_extension": ".py",
   "mimetype": "text/x-python",
   "name": "python",
   "nbconvert_exporter": "python",
   "pygments_lexer": "ipython3",
   "version": "3.9.20"
  }
 },
 "nbformat": 4,
 "nbformat_minor": 5
}
