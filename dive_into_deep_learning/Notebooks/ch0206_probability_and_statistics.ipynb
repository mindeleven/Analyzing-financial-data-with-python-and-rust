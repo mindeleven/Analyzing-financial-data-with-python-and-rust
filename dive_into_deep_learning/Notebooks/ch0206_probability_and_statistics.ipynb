{
 "cells": [
  {
   "cell_type": "markdown",
   "id": "d2c3f1b7-88f2-4ebb-8c48-9d13b54454ed",
   "metadata": {},
   "source": [
    "## 2.6. Probability and Statistics"
   ]
  },
  {
   "cell_type": "markdown",
   "id": "eb08f120-bd53-4b85-9e28-f2629de2356c",
   "metadata": {},
   "source": [
    "*Studying and coding along with the printed book __„Dive into Deep Learning“__ by Aston Zhang, Zachary C. Lipton, Mu Li & Alexander J. Smola. The accompanying website for the chapter Preliminaries > Probability and Statistics can be found at [d2l.ai](https://d2l.ai/chapter_preliminaries/probability.html).*"
   ]
  },
  {
   "cell_type": "markdown",
   "id": "cfc02269-ae04-4717-868a-385acebe6ad9",
   "metadata": {},
   "source": [
    "#### <span style=\"color:green\">Machine Learning is all about Uncertainty</span>"
   ]
  },
  {
   "cell_type": "markdown",
   "id": "237aac64-2326-4469-99a4-a53354588fe7",
   "metadata": {},
   "source": [
    "%matplotlib inline\n",
    "import random\n",
    "import torch\n",
    "from torch.distributions.multinomial import Multinomial\n",
    "from d2l import torch as d2l"
   ]
  },
  {
   "cell_type": "markdown",
   "id": "c616ed7c-6713-4290-82f7-7c06084174c5",
   "metadata": {},
   "source": [
    "### 2.6.1. A Simple Example: Tossing Coins"
   ]
  },
  {
   "cell_type": "markdown",
   "id": "60b659dc-7bef-4fc0-a9c5-078df92c3e8c",
   "metadata": {},
   "source": [
    "__Tossing a coin__\n",
    "\n",
    "- If we toss a coin and the coin is *fair*, then it is as likely to see heads as it is to see tails (the fraction of heads that we *expect* to see should exactly match the *expected* fraction of tails).\n",
    "\n",
    "- \"For every possible outcome with $n_\\textrm{h}$ heads and $n_\\textrm{t} = (n - n_\\textrm{h})$ tails, there is an equally likely outcome with $n_\\textrm{t}$ heads and $n_\\textrm{h}$ tails.\"\n",
    "\n",
    "__Probability__\n",
    "\n",
    "- The certainty with which any given toss will come up heads (the quantity $1/2$) is called a *probability*.\n",
    "\n",
    "- Probabilities are *theoretical* quantities and assign scores between $0$ and $1$ to *events*.\n",
    "\n",
    "- A probability of $1$ indicates absolute certainty.\n",
    "\n",
    "- A probability of $0$ indicates impossibility.\n",
    "\n",
    "- The probability of $1/2$ is a property of the coin itself.\n",
    "\n",
    "__Statistics__\n",
    "\n",
    "- The frequencies $n_\\textrm{h}/n$ and $n_\\textrm{t}/n$ are *statistics* (not probabilities).\n",
    "\n",
    "- Statistics are *empirical* quantities that are computed as functions of the observed data.\n",
    "\n",
    "__Estimators__\n",
    "\n",
    "- *Estimators* are statistics which produce *estimates* of model parameters (such as probabilities) for a given a dataset.\n",
    "\n",
    "- When those estimators satisfy a property called *consistency*, the estimates will converge to the corresponding probability (inferred probabilities).\n",
    "\n",
    "- Inferred probabilities tell about the likely statistical properties of data from the same population that we might encounter in the future.\n",
    "\n",
    "__Example assumption__\n",
    "\n",
    "- We have a real coin for which we did not know the true $P(\\textrm{heads})$.\n",
    "<p></p>\n",
    "- Investigating this quantity with statistical methods:\n",
    "  - (i) we need to collect some data\n",
    "  - and (ii) design an estimator\n",
    "\n",
    "<p></p>\n",
    "\n",
    "- Data acquisition:\n",
    "  - we toss the coin many times and record all the outcomes\n",
    "  - by this we draw realizations from some underlying random process (this is called *sampling*)\n",
    "  - one natural estimator is the ratio of the number of observed *heads* to the total number of tosses"
   ]
  },
  {
   "cell_type": "code",
   "execution_count": 47,
   "id": "c7395396-5109-49a2-8512-676eda20b71d",
   "metadata": {},
   "outputs": [
    {
     "data": {
      "text/plain": [
       "100"
      ]
     },
     "execution_count": 47,
     "metadata": {},
     "output_type": "execute_result"
    }
   ],
   "source": [
    "num_tosses = 100\n",
    "num_tosses"
   ]
  },
  {
   "cell_type": "code",
   "execution_count": 48,
   "id": "d166647d-e5ae-4b90-8c2e-3e0c3d552d77",
   "metadata": {},
   "outputs": [
    {
     "data": {
      "text/plain": [
       "46"
      ]
     },
     "execution_count": 48,
     "metadata": {},
     "output_type": "execute_result"
    }
   ],
   "source": [
    "# to simulate tosses of a fair coin, we invoke a random number generator\n",
    "# we want to draw samples of an event with probability $0.5$\n",
    "# for this we use Python's `random.random` which yields numbers in the interval [0,1]\n",
    "# where the probability of lying in any sub-interval [a, b] \\subset [0,1] is equal to b-a\n",
    "# thus we can get out `0` and `1` with probability `0.5` each \n",
    "# by testing whether the returned float number is greater than `0.5`:\n",
    "heads = sum([random.random() > 0.5 for _ in range(num_tosses)])\n",
    "heads"
   ]
  },
  {
   "cell_type": "code",
   "execution_count": 49,
   "id": "8c4e5385-6f39-42c0-947b-17c3be18abd3",
   "metadata": {},
   "outputs": [
    {
     "data": {
      "text/plain": [
       "54"
      ]
     },
     "execution_count": 49,
     "metadata": {},
     "output_type": "execute_result"
    }
   ],
   "source": [
    "tails = num_tosses - heads\n",
    "tails"
   ]
  },
  {
   "cell_type": "code",
   "execution_count": 50,
   "id": "6cd81601-03bc-43c2-86fa-87c82cb3d713",
   "metadata": {},
   "outputs": [
    {
     "name": "stdout",
     "output_type": "stream",
     "text": [
      "heads, tails:  [46, 54]\n"
     ]
    }
   ],
   "source": [
    "print(\"heads, tails: \", [heads, tails])"
   ]
  },
  {
   "cell_type": "code",
   "execution_count": 56,
   "id": "b5e10e6a-ce1c-4889-9ab7-52c7fd0fd45a",
   "metadata": {},
   "outputs": [
    {
     "name": "stdout",
     "output_type": "stream",
     "text": [
      "[0.641647915430538, 0.11091718020927877, 0.41121670807683275, 0.3635713837275475, 0.6601386404892068, 0.31144849485812465, 0.8251582085497767, 0.2031721692552486, 0.05385117149514296, 0.37662825042529, 0.5274400203517161, 0.7507284198925505, 0.2505634910959905, 0.6325153548217743, 0.47887640034941703, 0.653812518341482, 0.057512706138615144, 0.6180038766587527, 0.10841415611339444, 0.42889115513249954, 0.7486880375871816, 0.6393341416072176, 0.8710480917288254, 0.6209977132206089, 0.22900549619982913, 0.36222314506975595, 0.5706728588054226, 0.31810164968490684, 0.5460901595942729, 0.6217132197734302, 0.5097554716569144, 0.8971609637850787, 0.3079627513189065, 0.10571682269060079, 0.8641748750874106, 0.8081364474810061, 0.6530840953698684, 0.6345295990215488, 0.24220613208303055, 0.2293717183966687, 0.7017223236484501, 0.19213838681711937, 0.13345451123521002, 0.5756366532014707, 0.9248961434731885, 0.5151598688213898, 0.021753371863183824, 0.4718395449279774, 0.2870156515699245, 0.1566524069827342, 0.48463153825075445, 0.7834093824763119, 0.8236971688740169, 0.7261493926666175, 0.7134522808768134, 0.7144120186599104, 0.9074851782375405, 0.0790284089704586, 0.76048710862862, 0.9455636925632995, 0.8053665824028314, 0.6015804477153, 0.24128768193421968, 0.6279894533919087, 0.6958150597654549, 0.7700327148586988, 0.34834350822354987, 0.7197264392278598, 0.4552278125729401, 0.6826756731464313, 0.5408240322139427, 0.45017603720545485, 0.8848539427159149, 0.939928825739763, 0.7709736858493359, 0.8621929225873843, 0.5596121269884675, 0.6351236204374643, 0.47567452509093633, 0.9545897804887612, 0.08260105982988775, 0.40768922342310543, 0.25628907214005103, 0.5510416250423129, 0.5779021932119947, 0.37431437435841775, 0.6512454321131808, 0.7263821466550139, 0.951816062901297, 0.553574380592079, 0.35862672956372166, 0.9202225121324398, 0.8385187009447582, 0.39268753709967086, 0.8716471631540376, 0.31895798284451615, 0.5181897357231011, 0.7430678664475451, 0.8964258966321927, 0.08805845435857684]\n"
     ]
    }
   ],
   "source": [
    "# just for demonatration purpose\n",
    "list = []\n",
    "for _ in range(num_tosses):\n",
    "    list.append(random.random())\n",
    "print(list)"
   ]
  },
  {
   "cell_type": "code",
   "execution_count": null,
   "id": "0b0fa8e7-5716-4156-a49f-a4a0fab6f355",
   "metadata": {},
   "outputs": [],
   "source": []
  }
 ],
 "metadata": {
  "kernelspec": {
   "display_name": "Python 3 (ipykernel)",
   "language": "python",
   "name": "python3"
  },
  "language_info": {
   "codemirror_mode": {
    "name": "ipython",
    "version": 3
   },
   "file_extension": ".py",
   "mimetype": "text/x-python",
   "name": "python",
   "nbconvert_exporter": "python",
   "pygments_lexer": "ipython3",
   "version": "3.9.20"
  }
 },
 "nbformat": 4,
 "nbformat_minor": 5
}
