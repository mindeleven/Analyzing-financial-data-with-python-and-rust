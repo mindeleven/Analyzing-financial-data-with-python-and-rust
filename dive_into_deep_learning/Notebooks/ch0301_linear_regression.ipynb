{
 "cells": [
  {
   "cell_type": "markdown",
   "id": "8ad29092-3405-4a2b-9a45-c0f490e36eb7",
   "metadata": {},
   "source": [
    "## 3.1. Linear Regression"
   ]
  },
  {
   "cell_type": "markdown",
   "id": "07482f64-d3ec-4239-967e-12ce82bd7786",
   "metadata": {},
   "source": [
    "*Studying and coding along with the printed book __„Dive into Deep Learning“__ by Aston Zhang, Zachary C. Lipton, Mu Li & Alexander J. Smola. The accompanying website for the chapter Linear Neural Networks for Regression > Linear Regression can be found at [d2l.ai](https://d2l.ai/chapter_linear-regression/linear-regression.html).*"
   ]
  },
  {
   "cell_type": "markdown",
   "id": "02232011-35f7-4c5b-9c4b-137c351a1e7a",
   "metadata": {},
   "source": [
    "__Solving a regression problem very much means predicting a numerical value.__\n",
    "\n",
    "Common examples:\n",
    "\n",
    "- Predicting prices of homes or stocks\n",
    "- Predicting the length of stays for patients in a hospital\n",
    "- Forecasting demand for retail sales\n",
    "\n",
    "There are also prediction problems that are classification problems with the goal of predicting membership among a set of categories."
   ]
  },
  {
   "cell_type": "markdown",
   "id": "2be19d73-4940-4a12-8909-66ee405de7ff",
   "metadata": {},
   "source": [
    "__Let's use the following scenario as an example:__ we want to estimate the *prices of houses* (in US\\\\$) based on their *size/area* in square feet and their *age* in years. \n",
    "\n",
    "Our goal is to __develop a model for predicting house prices__.\n",
    "\n",
    "- The first step is to generate a *dataset* with sales prices, area and age for a number of homes.\n",
    "- This dataset will be our *training dataset* or ***training set***\n",
    "- Each row of the dataset is called an *example* (or *data point*, *instance*, *sample*).\n",
    "- An example contais the data corresponding to one sale.\n",
    "- What we're trying to predict is the sales price which in technical terminology is called a *label* (or ***target***).\n",
    "- Variables (in our case age and area) upon which the predictions are based are called ***features*** (or *covariates*)."
   ]
  },
  {
   "cell_type": "markdown",
   "id": "1726b468-91e0-447c-9ef6-3656fad8953f",
   "metadata": {},
   "source": [
    "### 3.1.2. Vectorization for Speed"
   ]
  },
  {
   "cell_type": "code",
   "execution_count": 9,
   "id": "5ef86b73-5a25-4da1-83a1-e56bc4669a48",
   "metadata": {},
   "outputs": [],
   "source": [
    "import torch\n",
    "import time"
   ]
  },
  {
   "cell_type": "markdown",
   "id": "c6795989-5681-45bf-b955-ff2ccf7668a9",
   "metadata": {},
   "source": [
    "When training our models, we typically want to process whole minibatches of examples simultaneously. \n",
    "Doing this efficiently requires that we vectorize the calculations and leverage fast linear algebra libraries rather than writing costly for-loops in Python.\n",
    "\n",
    "To see why this matters so much, let’s consider two methods for adding vectors. To start, we instantiate two 10,000-dimensional vectors containing all 1s. In the first method, we loop over the vectors with a Python for-loop. In the second, we rely on a single call to +."
   ]
  },
  {
   "cell_type": "code",
   "execution_count": 7,
   "id": "0a4863ca-33be-44f8-8ac2-66c9677d3e52",
   "metadata": {},
   "outputs": [
    {
     "name": "stdout",
     "output_type": "stream",
     "text": [
      "torch.Size([1000])\n",
      "torch.Size([1000])\n"
     ]
    }
   ],
   "source": [
    "n = 1000\n",
    "a = torch.ones(n)\n",
    "b = torch.ones(n)\n",
    "print(a.shape)\n",
    "print(b.shape)"
   ]
  },
  {
   "cell_type": "markdown",
   "id": "d05d2150-24a3-4dd3-91d5-8e3a7a978129",
   "metadata": {},
   "source": [
    "#### __Benchmarking the workloads__"
   ]
  },
  {
   "cell_type": "code",
   "execution_count": 10,
   "id": "cfd0fd79-9c00-4b7f-8c9f-51a92af2381a",
   "metadata": {},
   "outputs": [
    {
     "data": {
      "text/plain": [
       "'0.12503 sec'"
      ]
     },
     "execution_count": 10,
     "metadata": {},
     "output_type": "execute_result"
    }
   ],
   "source": [
    "# adding them using a for-loop, one coordinate at a time\n",
    "c = torch.zeros(n)\n",
    "t = time.time()\n",
    "for i in range(n):\n",
    "    c[i] = a[i] + b[i]\n",
    "f'{time.time() - t:.5f} sec'"
   ]
  },
  {
   "cell_type": "code",
   "execution_count": 12,
   "id": "7a4883ba-1aa0-49cc-994e-782c428b9ea5",
   "metadata": {},
   "outputs": [
    {
     "data": {
      "text/plain": [
       "'0.00100 sec'"
      ]
     },
     "execution_count": 12,
     "metadata": {},
     "output_type": "execute_result"
    }
   ],
   "source": [
    "# vectorizing code, pushing the mathematics to the library\n",
    "# computing the elementwise sum with the reloaded + operator\n",
    "t = time.time()\n",
    "d = a + b\n",
    "f'{time.time() - t:.5f} sec'"
   ]
  },
  {
   "cell_type": "code",
   "execution_count": null,
   "id": "311ce047-101d-44cd-8b50-7f40fe4089cc",
   "metadata": {},
   "outputs": [],
   "source": []
  }
 ],
 "metadata": {
  "kernelspec": {
   "display_name": "Python 3 (ipykernel)",
   "language": "python",
   "name": "python3"
  },
  "language_info": {
   "codemirror_mode": {
    "name": "ipython",
    "version": 3
   },
   "file_extension": ".py",
   "mimetype": "text/x-python",
   "name": "python",
   "nbconvert_exporter": "python",
   "pygments_lexer": "ipython3",
   "version": "3.9.20"
  }
 },
 "nbformat": 4,
 "nbformat_minor": 5
}
