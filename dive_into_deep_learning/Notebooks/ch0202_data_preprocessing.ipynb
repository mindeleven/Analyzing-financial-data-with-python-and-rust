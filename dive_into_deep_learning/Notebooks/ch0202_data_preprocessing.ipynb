{
 "cells": [
  {
   "cell_type": "markdown",
   "id": "fe847373-c0ff-4032-9966-4e47c663a1ab",
   "metadata": {},
   "source": [
    "## 2.2. Data Preprocessing"
   ]
  },
  {
   "cell_type": "markdown",
   "id": "4777957d-be8c-47b8-9739-a0b94da1de9c",
   "metadata": {},
   "source": [
    "*Studying and coding along with the printed book __„Dive into Deep Learning“__ by Aston Zhang, Zachary C. Lipton, Mu Li & Alexander J. Smola. The accompanying website for the chapter Preliminaries > Data Preprocessing can be found at [d2l.ai](https://d2l.ai/chapter_preliminaries/pandas.html).*"
   ]
  },
  {
   "cell_type": "code",
   "execution_count": 18,
   "id": "139c72d9-a651-4477-a1a4-8d2cc6721467",
   "metadata": {},
   "outputs": [],
   "source": [
    "import os\n",
    "import pandas as pd\n",
    "import torch"
   ]
  },
  {
   "cell_type": "markdown",
   "id": "2a9da46d-4b6a-41bc-93b5-01ca05bccfce",
   "metadata": {},
   "source": [
    "### 2.2.1. Reading the Dataset"
   ]
  },
  {
   "cell_type": "code",
   "execution_count": 5,
   "id": "36fef81c-77c3-4041-9d55-04ecd5c65268",
   "metadata": {},
   "outputs": [],
   "source": [
    "# creating an example csv file\n",
    "os.makedirs(os.path.join('..', 'assets/data'), exist_ok=True)\n",
    "data_file = os.path.join('..', 'assets/data', 'house_tiny.csv')\n",
    "with open(data_file, 'w') as f:\n",
    "    f.write('''NumRooms,RoofType,Price\n",
    "NA,NA,127500\n",
    "2,NA,106000\n",
    "4,Slate,178100\n",
    "NA,NA,140000''')"
   ]
  },
  {
   "cell_type": "code",
   "execution_count": 12,
   "id": "bb8ba712-c977-4a8b-b327-2c1955d86941",
   "metadata": {},
   "outputs": [
    {
     "data": {
      "text/html": [
       "<div>\n",
       "<style scoped>\n",
       "    .dataframe tbody tr th:only-of-type {\n",
       "        vertical-align: middle;\n",
       "    }\n",
       "\n",
       "    .dataframe tbody tr th {\n",
       "        vertical-align: top;\n",
       "    }\n",
       "\n",
       "    .dataframe thead th {\n",
       "        text-align: right;\n",
       "    }\n",
       "</style>\n",
       "<table border=\"1\" class=\"dataframe\">\n",
       "  <thead>\n",
       "    <tr style=\"text-align: right;\">\n",
       "      <th></th>\n",
       "      <th>NumRooms</th>\n",
       "      <th>RoofType</th>\n",
       "      <th>Price</th>\n",
       "    </tr>\n",
       "  </thead>\n",
       "  <tbody>\n",
       "    <tr>\n",
       "      <th>0</th>\n",
       "      <td>NaN</td>\n",
       "      <td>NaN</td>\n",
       "      <td>127500</td>\n",
       "    </tr>\n",
       "    <tr>\n",
       "      <th>1</th>\n",
       "      <td>2.0</td>\n",
       "      <td>NaN</td>\n",
       "      <td>106000</td>\n",
       "    </tr>\n",
       "    <tr>\n",
       "      <th>2</th>\n",
       "      <td>4.0</td>\n",
       "      <td>Slate</td>\n",
       "      <td>178100</td>\n",
       "    </tr>\n",
       "    <tr>\n",
       "      <th>3</th>\n",
       "      <td>NaN</td>\n",
       "      <td>NaN</td>\n",
       "      <td>140000</td>\n",
       "    </tr>\n",
       "  </tbody>\n",
       "</table>\n",
       "</div>"
      ],
      "text/plain": [
       "   NumRooms RoofType   Price\n",
       "0       NaN      NaN  127500\n",
       "1       2.0      NaN  106000\n",
       "2       4.0    Slate  178100\n",
       "3       NaN      NaN  140000"
      ]
     },
     "execution_count": 12,
     "metadata": {},
     "output_type": "execute_result"
    }
   ],
   "source": [
    "# loading the dataset with pandas' read_csv\n",
    "# pandas replaces all CSV entries with value NA with a special NaN (not a number) value\n",
    "data = pd.read_csv(data_file)\n",
    "data"
   ]
  },
  {
   "cell_type": "markdown",
   "id": "5161c8a7-45a2-40c7-9231-8a2c36e05662",
   "metadata": {},
   "source": [
    "### 2.2.2. Data Preparation"
   ]
  },
  {
   "cell_type": "markdown",
   "id": "6d38a59e-8e2b-47d2-868a-d826323587e3",
   "metadata": {},
   "source": [
    "Supervised learning is used to teach models how to make accurate predictions by showing them many examples of input data paired with their correct answers (labels). This approach allows models to learn patterns that can then be applied to make predictions on new, unseen data - similar to how humans learn from examples with feedback (*from Claude.ai*)."
   ]
  },
  {
   "cell_type": "markdown",
   "id": "0cf9d0de-5827-46c9-96ad-792032d36a39",
   "metadata": {},
   "source": [
    "__Processing the dataset:__\n",
    "\n",
    "1. Separating out columns corresponding to input versus target values."
   ]
  },
  {
   "cell_type": "code",
   "execution_count": 13,
   "id": "152fa3a7-a7f2-4ec1-b814-006d44e93dda",
   "metadata": {},
   "outputs": [
    {
     "name": "stdout",
     "output_type": "stream",
     "text": [
      "   NumRooms  RoofType_Slate  RoofType_nan\n",
      "0       NaN           False          True\n",
      "1       2.0           False          True\n",
      "2       4.0            True         False\n",
      "3       NaN           False          True\n"
     ]
    }
   ],
   "source": [
    "# selecting columns via integer-location based indexing (iloc)\n",
    "inputs, targets = data.iloc[:, 0:2], data.iloc[:, 2]\n",
    "# inputs: NumRooms\tRoofType\t\n",
    "# targets: Price\n",
    "\n",
    "# missing values might be handled via imputation or deletion\n",
    "# imputation replaces missing values with estimates of their values\n",
    "# imputation heuristics for categorical input fields: NaN are treated as a category\n",
    "# pandas can converts RoofType columns into the two columns RoofType_Slate and RoofType_nan\n",
    "inputs = pd.get_dummies(inputs, dummy_na=True)\n",
    "print(inputs)"
   ]
  },
  {
   "cell_type": "code",
   "execution_count": 15,
   "id": "705f53f5-ce86-4b7a-a9c5-0d7b5d4074ec",
   "metadata": {},
   "outputs": [
    {
     "name": "stdout",
     "output_type": "stream",
     "text": [
      "   NumRooms  RoofType_Slate  RoofType_nan\n",
      "0       3.0           False          True\n",
      "1       2.0           False          True\n",
      "2       4.0            True         False\n",
      "3       3.0           False          True\n"
     ]
    }
   ],
   "source": [
    "# common heuristic of replacing missing numerical values\n",
    "# replacing the NaN entries with the mean value of the corresponding column\n",
    "inputs = inputs.fillna(inputs.mean())\n",
    "print(inputs)"
   ]
  },
  {
   "cell_type": "code",
   "execution_count": 16,
   "id": "fe8827de-6929-46fd-93b2-2c4ee56c3f78",
   "metadata": {},
   "outputs": [
    {
     "name": "stdout",
     "output_type": "stream",
     "text": [
      "0    127500\n",
      "1    106000\n",
      "2    178100\n",
      "3    140000\n",
      "Name: Price, dtype: int64\n"
     ]
    }
   ],
   "source": [
    "print(targets)"
   ]
  },
  {
   "cell_type": "markdown",
   "id": "36a96f3b-c17e-4a63-9e1c-f7cde57acf57",
   "metadata": {},
   "source": [
    "### 2.2.3. Conversion to the Tensor Format"
   ]
  },
  {
   "cell_type": "markdown",
   "id": "5643ae1f-7222-4818-82d0-62dfe9f68b39",
   "metadata": {},
   "source": [
    "The dataset can be loaded into a tensor after all the entries in inputs and targets have been made numerical."
   ]
  },
  {
   "cell_type": "code",
   "execution_count": 22,
   "id": "45dd4a89-e306-4cc6-a007-ab0134efcecf",
   "metadata": {},
   "outputs": [
    {
     "name": "stdout",
     "output_type": "stream",
     "text": [
      "Inputs:\n",
      "tensor([[3., 0., 1.],\n",
      "        [2., 0., 1.],\n",
      "        [4., 1., 0.],\n",
      "        [3., 0., 1.]], dtype=torch.float64)\n",
      "----------------------------------------------------------------------\n",
      "Targets:\n",
      "tensor([127500., 106000., 178100., 140000.], dtype=torch.float64)\n"
     ]
    }
   ],
   "source": [
    "X = torch.tensor(inputs.to_numpy(dtype=float))\n",
    "y = torch.tensor(targets.to_numpy(dtype=float))\n",
    "print(\"Inputs:\")\n",
    "print(X)\n",
    "print(\"----------------------------------------------------------------------\")\n",
    "print(\"Targets:\")\n",
    "print(y)"
   ]
  },
  {
   "cell_type": "code",
   "execution_count": null,
   "id": "828cd3cc-755e-4681-849a-a115fb81c3e0",
   "metadata": {},
   "outputs": [],
   "source": []
  }
 ],
 "metadata": {
  "kernelspec": {
   "display_name": "Python 3 (ipykernel)",
   "language": "python",
   "name": "python3"
  },
  "language_info": {
   "codemirror_mode": {
    "name": "ipython",
    "version": 3
   },
   "file_extension": ".py",
   "mimetype": "text/x-python",
   "name": "python",
   "nbconvert_exporter": "python",
   "pygments_lexer": "ipython3",
   "version": "3.9.20"
  }
 },
 "nbformat": 4,
 "nbformat_minor": 5
}
