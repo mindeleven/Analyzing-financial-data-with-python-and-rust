{
 "cells": [
  {
   "cell_type": "code",
   "execution_count": 7,
   "id": "b89a3037",
   "metadata": {},
   "outputs": [],
   "source": [
    "import pandas as pd\n",
    "import plotly.graph_objects as go\n",
    "import datetime as dt"
   ]
  },
  {
   "cell_type": "code",
   "execution_count": 8,
   "id": "18423087",
   "metadata": {},
   "outputs": [
    {
     "ename": "ImportError",
     "evalue": "cannot import name 'current_default_worker_thread_limiter' from 'anyio' (/Users/juergenkober/Library/Caches/pypoetry/virtualenvs/py-algorithmic-forex-trading-T2vvOITe-py3.12/lib/python3.12/site-packages/anyio/__init__.py)",
     "output_type": "error",
     "traceback": [
      "\u001b[0;31m---------------------------------------------------------------------------\u001b[0m",
      "\u001b[0;31mImportError\u001b[0m                               Traceback (most recent call last)",
      "Cell \u001b[0;32mIn[8], line 1\u001b[0m\n\u001b[0;32m----> 1\u001b[0m \u001b[38;5;28;01mfrom\u001b[39;00m \u001b[38;5;21;01mplotting\u001b[39;00m \u001b[38;5;28;01mimport\u001b[39;00m CandlePlot\n",
      "File \u001b[0;32m~/Projects/Python+Rust/_github-repos/working-with-financial-data/py-algorithmic-forex-trading/Notebooks/02_Exploration/plotting.py:1\u001b[0m\n\u001b[0;32m----> 1\u001b[0m \u001b[38;5;28;01mfrom\u001b[39;00m \u001b[38;5;21;01manyio\u001b[39;00m \u001b[38;5;28;01mimport\u001b[39;00m current_default_worker_thread_limiter\n\u001b[1;32m      2\u001b[0m \u001b[38;5;28;01mimport\u001b[39;00m \u001b[38;5;21;01mpandas\u001b[39;00m \u001b[38;5;28;01mas\u001b[39;00m \u001b[38;5;21;01mpd\u001b[39;00m\n\u001b[1;32m      3\u001b[0m \u001b[38;5;28;01mimport\u001b[39;00m \u001b[38;5;21;01mplotly\u001b[39;00m\u001b[38;5;21;01m.\u001b[39;00m\u001b[38;5;21;01mgraph_objects\u001b[39;00m \u001b[38;5;28;01mas\u001b[39;00m \u001b[38;5;21;01mgo\u001b[39;00m\n",
      "\u001b[0;31mImportError\u001b[0m: cannot import name 'current_default_worker_thread_limiter' from 'anyio' (/Users/juergenkober/Library/Caches/pypoetry/virtualenvs/py-algorithmic-forex-trading-T2vvOITe-py3.12/lib/python3.12/site-packages/anyio/__init__.py)"
     ]
    }
   ],
   "source": [
    "from plotting import CandlePlot"
   ]
  },
  {
   "cell_type": "code",
   "execution_count": null,
   "id": "edfc9662",
   "metadata": {},
   "outputs": [],
   "source": [
    "# https://stackoverflow.com/questions/1254370/reimport-a-module-while-interactive\n",
    "# import importlib\n",
    "# importlib.reload(plotting)"
   ]
  },
  {
   "cell_type": "code",
   "execution_count": null,
   "id": "d2715280",
   "metadata": {},
   "outputs": [],
   "source": [
    "# loading data for an instruments pair\n",
    "pair = \"EUR_USD\"\n",
    "granularity = \"H4\"\n",
    "df = pd.read_pickle(f\"../../data/{pair}_{granularity}.pkl\")"
   ]
  },
  {
   "cell_type": "code",
   "execution_count": null,
   "id": "54bab944",
   "metadata": {},
   "outputs": [],
   "source": [
    "df.shape"
   ]
  },
  {
   "cell_type": "code",
   "execution_count": null,
   "id": "44c8bf87",
   "metadata": {},
   "outputs": [],
   "source": [
    "df.info()"
   ]
  },
  {
   "cell_type": "code",
   "execution_count": null,
   "id": "22d63e21",
   "metadata": {},
   "outputs": [],
   "source": [
    "df.head()"
   ]
  },
  {
   "cell_type": "code",
   "execution_count": null,
   "id": "b83b91ed",
   "metadata": {},
   "outputs": [],
   "source": [
    "df.columns"
   ]
  },
  {
   "cell_type": "code",
   "execution_count": null,
   "id": "51a05f66",
   "metadata": {},
   "outputs": [],
   "source": [
    "# to calculate the moving average only the mid price columns are needed\n",
    "# get data frame with copy of relevant data\n",
    "df_ma = df[['time', 'mid_o', 'mid_h', 'mid_l', 'mid_c']].copy()"
   ]
  },
  {
   "cell_type": "code",
   "execution_count": null,
   "id": "fec3f345",
   "metadata": {},
   "outputs": [],
   "source": [
    "df_ma.head()"
   ]
  },
  {
   "cell_type": "code",
   "execution_count": null,
   "id": "7d4a32a9",
   "metadata": {},
   "outputs": [],
   "source": [
    "# calculate the 10 period moving average\n",
    "# rolling() -> telling pandas to do rolling calculations\n",
    "df_ma['MA_10'] = df_ma.mid_c.rolling(window=10).mean()"
   ]
  },
  {
   "cell_type": "code",
   "execution_count": null,
   "id": "51a03a6a",
   "metadata": {},
   "outputs": [],
   "source": [
    "df_ma.head(10) # first value for moving average shows on 10th row\n",
    "# 10 period moving average needs ten previous values to be calculated"
   ]
  },
  {
   "cell_type": "code",
   "execution_count": null,
   "id": "e67a75fd",
   "metadata": {},
   "outputs": [],
   "source": [
    "df_ma.info() # only 3991 of 4000 entries are non-null"
   ]
  },
  {
   "cell_type": "code",
   "execution_count": null,
   "id": "1455907a",
   "metadata": {},
   "outputs": [],
   "source": [
    "df_ma.dropna(inplace=True) # inplace has to be set to True otherwise the dataframe won't get modified"
   ]
  },
  {
   "cell_type": "code",
   "execution_count": null,
   "id": "2601c2fc",
   "metadata": {},
   "outputs": [],
   "source": [
    "df_ma.head()"
   ]
  },
  {
   "cell_type": "code",
   "execution_count": null,
   "id": "cc26d68d",
   "metadata": {},
   "outputs": [],
   "source": [
    "# resetting the index\n",
    "df_ma.reset_index(inplace=True, drop=True)"
   ]
  },
  {
   "cell_type": "code",
   "execution_count": null,
   "id": "ab431f48",
   "metadata": {},
   "outputs": [],
   "source": [
    "df_ma.head()"
   ]
  },
  {
   "cell_type": "code",
   "execution_count": null,
   "id": "f1d71a24",
   "metadata": {},
   "outputs": [],
   "source": [
    "# plotting the data frame with plotly\n",
    "# take the first 100 candles of the data frame\n",
    "df_plot = df_ma.iloc[:100]"
   ]
  },
  {
   "cell_type": "code",
   "execution_count": null,
   "id": "b96716aa",
   "metadata": {},
   "outputs": [],
   "source": [
    "df_plot.shape"
   ]
  },
  {
   "cell_type": "code",
   "execution_count": null,
   "id": "52169204",
   "metadata": {},
   "outputs": [],
   "source": [
    "# create candle plot instance\n",
    "cp = CandlePlot(df_plot)"
   ]
  },
  {
   "cell_type": "code",
   "execution_count": null,
   "id": "4d7311fc",
   "metadata": {},
   "outputs": [],
   "source": [
    "cp.show_plot()"
   ]
  },
  {
   "cell_type": "code",
   "execution_count": null,
   "id": "3ef84800",
   "metadata": {},
   "outputs": [],
   "source": [
    "# adding moving average to plot\n",
    "# cp.fig.add_trace(go.Scatter(\n",
    "#     x = cp.df_plot.sTime,\n",
    "#     y = cp.df_plot.MA_10,\n",
    "#     line = dict(width = 2),\n",
    "#     line_shape='spline',\n",
    "#     name='MA_10'\n",
    "# ))\n",
    "# replace code above with function from plotting.py\n",
    "cp.show_plot(line_traces=['MA_10'])"
   ]
  },
  {
   "cell_type": "code",
   "execution_count": null,
   "id": "ad4bcfcd",
   "metadata": {},
   "outputs": [],
   "source": []
  }
 ],
 "metadata": {
  "kernelspec": {
   "display_name": "Python 3 (ipykernel)",
   "language": "python",
   "name": "python3"
  },
  "language_info": {
   "codemirror_mode": {
    "name": "ipython",
    "version": 3
   },
   "file_extension": ".py",
   "mimetype": "text/x-python",
   "name": "python",
   "nbconvert_exporter": "python",
   "pygments_lexer": "ipython3",
   "version": "3.12.4"
  }
 },
 "nbformat": 4,
 "nbformat_minor": 5
}
