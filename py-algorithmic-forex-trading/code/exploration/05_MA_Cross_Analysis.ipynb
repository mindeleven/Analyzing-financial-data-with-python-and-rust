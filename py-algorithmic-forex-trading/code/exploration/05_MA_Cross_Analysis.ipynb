{
 "cells": [
  {
   "cell_type": "code",
   "execution_count": 1,
   "id": "2faa026e",
   "metadata": {},
   "outputs": [],
   "source": [
    "import pandas as pd\n",
    "from plotting import CandlePlot\n",
    "# show all columns of a data frame on screen\n",
    "pd.set_option('display.max_columns', None)"
   ]
  },
  {
   "cell_type": "code",
   "execution_count": 2,
   "id": "bdf45c2f",
   "metadata": {},
   "outputs": [
    {
     "ename": "FileNotFoundError",
     "evalue": "[Errno 2] No such file or directory: '../../assets/data/2022-08-20-11-ma_res.pkl'",
     "output_type": "error",
     "traceback": [
      "\u001b[0;31m---------------------------------------------------------------------------\u001b[0m",
      "\u001b[0;31mFileNotFoundError\u001b[0m                         Traceback (most recent call last)",
      "Cell \u001b[0;32mIn[2], line 1\u001b[0m\n\u001b[0;32m----> 1\u001b[0m df_ma_res \u001b[38;5;241m=\u001b[39m \u001b[43mpd\u001b[49m\u001b[38;5;241;43m.\u001b[39;49m\u001b[43mread_pickle\u001b[49m\u001b[43m(\u001b[49m\u001b[38;5;124;43m\"\u001b[39;49m\u001b[38;5;124;43m../../assets/data/2022-08-20-11-ma_res.pkl\u001b[39;49m\u001b[38;5;124;43m\"\u001b[39;49m\u001b[43m)\u001b[49m\n\u001b[1;32m      2\u001b[0m df_ma_trades \u001b[38;5;241m=\u001b[39m pd\u001b[38;5;241m.\u001b[39mread_pickle(\u001b[38;5;124m\"\u001b[39m\u001b[38;5;124m../../assets/data/2022-08-20-11-ma_trades.pkl\u001b[39m\u001b[38;5;124m\"\u001b[39m)\n",
      "File \u001b[0;32m~/Library/Caches/pypoetry/virtualenvs/py-algorithmic-forex-trading-T2vvOITe-py3.12/lib/python3.12/site-packages/pandas/io/pickle.py:185\u001b[0m, in \u001b[0;36mread_pickle\u001b[0;34m(filepath_or_buffer, compression, storage_options)\u001b[0m\n\u001b[1;32m    123\u001b[0m \u001b[38;5;250m\u001b[39m\u001b[38;5;124;03m\"\"\"\u001b[39;00m\n\u001b[1;32m    124\u001b[0m \u001b[38;5;124;03mLoad pickled pandas object (or any object) from file.\u001b[39;00m\n\u001b[1;32m    125\u001b[0m \n\u001b[0;32m   (...)\u001b[0m\n\u001b[1;32m    182\u001b[0m \u001b[38;5;124;03m4    4    9\u001b[39;00m\n\u001b[1;32m    183\u001b[0m \u001b[38;5;124;03m\"\"\"\u001b[39;00m\n\u001b[1;32m    184\u001b[0m excs_to_catch \u001b[38;5;241m=\u001b[39m (\u001b[38;5;167;01mAttributeError\u001b[39;00m, \u001b[38;5;167;01mImportError\u001b[39;00m, \u001b[38;5;167;01mModuleNotFoundError\u001b[39;00m, \u001b[38;5;167;01mTypeError\u001b[39;00m)\n\u001b[0;32m--> 185\u001b[0m \u001b[38;5;28;01mwith\u001b[39;00m \u001b[43mget_handle\u001b[49m\u001b[43m(\u001b[49m\n\u001b[1;32m    186\u001b[0m \u001b[43m    \u001b[49m\u001b[43mfilepath_or_buffer\u001b[49m\u001b[43m,\u001b[49m\n\u001b[1;32m    187\u001b[0m \u001b[43m    \u001b[49m\u001b[38;5;124;43m\"\u001b[39;49m\u001b[38;5;124;43mrb\u001b[39;49m\u001b[38;5;124;43m\"\u001b[39;49m\u001b[43m,\u001b[49m\n\u001b[1;32m    188\u001b[0m \u001b[43m    \u001b[49m\u001b[43mcompression\u001b[49m\u001b[38;5;241;43m=\u001b[39;49m\u001b[43mcompression\u001b[49m\u001b[43m,\u001b[49m\n\u001b[1;32m    189\u001b[0m \u001b[43m    \u001b[49m\u001b[43mis_text\u001b[49m\u001b[38;5;241;43m=\u001b[39;49m\u001b[38;5;28;43;01mFalse\u001b[39;49;00m\u001b[43m,\u001b[49m\n\u001b[1;32m    190\u001b[0m \u001b[43m    \u001b[49m\u001b[43mstorage_options\u001b[49m\u001b[38;5;241;43m=\u001b[39;49m\u001b[43mstorage_options\u001b[49m\u001b[43m,\u001b[49m\n\u001b[1;32m    191\u001b[0m \u001b[43m\u001b[49m\u001b[43m)\u001b[49m \u001b[38;5;28;01mas\u001b[39;00m handles:\n\u001b[1;32m    192\u001b[0m     \u001b[38;5;66;03m# 1) try standard library Pickle\u001b[39;00m\n\u001b[1;32m    193\u001b[0m     \u001b[38;5;66;03m# 2) try pickle_compat (older pandas version) to handle subclass changes\u001b[39;00m\n\u001b[1;32m    194\u001b[0m     \u001b[38;5;66;03m# 3) try pickle_compat with latin-1 encoding upon a UnicodeDecodeError\u001b[39;00m\n\u001b[1;32m    196\u001b[0m     \u001b[38;5;28;01mtry\u001b[39;00m:\n\u001b[1;32m    197\u001b[0m         \u001b[38;5;66;03m# TypeError for Cython complaints about object.__new__ vs Tick.__new__\u001b[39;00m\n\u001b[1;32m    198\u001b[0m         \u001b[38;5;28;01mtry\u001b[39;00m:\n",
      "File \u001b[0;32m~/Library/Caches/pypoetry/virtualenvs/py-algorithmic-forex-trading-T2vvOITe-py3.12/lib/python3.12/site-packages/pandas/io/common.py:882\u001b[0m, in \u001b[0;36mget_handle\u001b[0;34m(path_or_buf, mode, encoding, compression, memory_map, is_text, errors, storage_options)\u001b[0m\n\u001b[1;32m    873\u001b[0m         handle \u001b[38;5;241m=\u001b[39m \u001b[38;5;28mopen\u001b[39m(\n\u001b[1;32m    874\u001b[0m             handle,\n\u001b[1;32m    875\u001b[0m             ioargs\u001b[38;5;241m.\u001b[39mmode,\n\u001b[0;32m   (...)\u001b[0m\n\u001b[1;32m    878\u001b[0m             newline\u001b[38;5;241m=\u001b[39m\u001b[38;5;124m\"\u001b[39m\u001b[38;5;124m\"\u001b[39m,\n\u001b[1;32m    879\u001b[0m         )\n\u001b[1;32m    880\u001b[0m     \u001b[38;5;28;01melse\u001b[39;00m:\n\u001b[1;32m    881\u001b[0m         \u001b[38;5;66;03m# Binary mode\u001b[39;00m\n\u001b[0;32m--> 882\u001b[0m         handle \u001b[38;5;241m=\u001b[39m \u001b[38;5;28;43mopen\u001b[39;49m\u001b[43m(\u001b[49m\u001b[43mhandle\u001b[49m\u001b[43m,\u001b[49m\u001b[43m \u001b[49m\u001b[43mioargs\u001b[49m\u001b[38;5;241;43m.\u001b[39;49m\u001b[43mmode\u001b[49m\u001b[43m)\u001b[49m\n\u001b[1;32m    883\u001b[0m     handles\u001b[38;5;241m.\u001b[39mappend(handle)\n\u001b[1;32m    885\u001b[0m \u001b[38;5;66;03m# Convert BytesIO or file objects passed with an encoding\u001b[39;00m\n",
      "\u001b[0;31mFileNotFoundError\u001b[0m: [Errno 2] No such file or directory: '../../assets/data/2022-08-20-11-ma_res.pkl'"
     ]
    }
   ],
   "source": [
    "df_ma_res = pd.read_pickle(\"../../assets/data/2022-08-20-11-ma_res.pkl\")\n",
    "df_ma_trades = pd.read_pickle(\"../../assets/data/2022-08-20-11-ma_trades.pkl\")"
   ]
  },
  {
   "cell_type": "code",
   "execution_count": null,
   "id": "6038d8ed",
   "metadata": {},
   "outputs": [],
   "source": [
    "df_ma_res.info()"
   ]
  },
  {
   "cell_type": "code",
   "execution_count": null,
   "id": "e5cbf195",
   "metadata": {},
   "outputs": [],
   "source": [
    "df_ma_res.head()"
   ]
  },
  {
   "cell_type": "code",
   "execution_count": null,
   "id": "721ac785",
   "metadata": {},
   "outputs": [],
   "source": [
    "# checking what granularitys we have\n",
    "df_ma_res.granularity.unique() # we have one hour and four hour results"
   ]
  },
  {
   "cell_type": "code",
   "execution_count": null,
   "id": "30bf0b02",
   "metadata": {},
   "outputs": [],
   "source": [
    "# taking subset of data for one hour results\n",
    "df_ma_res_h1 = df_ma_res[df_ma_res.granularity == \"H1\"].copy()"
   ]
  },
  {
   "cell_type": "code",
   "execution_count": null,
   "id": "779e95ce",
   "metadata": {},
   "outputs": [],
   "source": [
    "df_ma_res_h1.shape"
   ]
  },
  {
   "cell_type": "code",
   "execution_count": null,
   "id": "af06bbb9",
   "metadata": {},
   "outputs": [],
   "source": [
    "df_ma_trades.info()"
   ]
  },
  {
   "cell_type": "code",
   "execution_count": null,
   "id": "43b1298e",
   "metadata": {},
   "outputs": [],
   "source": [
    "df_ma_trades.head()"
   ]
  },
  {
   "cell_type": "code",
   "execution_count": null,
   "id": "3b8e2a62",
   "metadata": {},
   "outputs": [],
   "source": [
    "df_ma_trades.shape"
   ]
  },
  {
   "cell_type": "code",
   "execution_count": null,
   "id": "c4fc4a64",
   "metadata": {},
   "outputs": [],
   "source": [
    "# checking what granularitys we have\n",
    "df_ma_trades.granularity.unique() # we have one hour and four hour results"
   ]
  },
  {
   "cell_type": "code",
   "execution_count": null,
   "id": "a97d12a4",
   "metadata": {},
   "outputs": [],
   "source": [
    "# taking subset of data for one hour results\n",
    "df_ma_trades_h1 = df_ma_trades[df_ma_trades.granularity == \"H1\"].copy()"
   ]
  },
  {
   "cell_type": "code",
   "execution_count": null,
   "id": "d509cf9d",
   "metadata": {},
   "outputs": [],
   "source": [
    "df_ma_trades_h1.shape"
   ]
  },
  {
   "cell_type": "code",
   "execution_count": null,
   "id": "013d665e",
   "metadata": {},
   "outputs": [],
   "source": [
    "# have a look at what crosses where eventually effective\n",
    "# number of columns on the data frame\n",
    "df_ma_res_h1.columns"
   ]
  },
  {
   "cell_type": "code",
   "execution_count": null,
   "id": "8ffb78f8",
   "metadata": {},
   "outputs": [],
   "source": [
    "# group columns by pair, total_gain, num_trades, cross\n",
    "# copy of data frame of one hourly results\n",
    "df_cross_summary = df_ma_res_h1[['pair', 'num_trades', 'total_gain', 'cross']].copy()"
   ]
  },
  {
   "cell_type": "code",
   "execution_count": null,
   "id": "4c5964cd",
   "metadata": {},
   "outputs": [],
   "source": [
    "df_cross_summary"
   ]
  },
  {
   "cell_type": "code",
   "execution_count": null,
   "id": "62eb113a",
   "metadata": {},
   "outputs": [],
   "source": [
    "df_cross_gr = df_cross_summary.groupby(by=\"cross\").sum()"
   ]
  },
  {
   "cell_type": "code",
   "execution_count": null,
   "id": "0a378b63",
   "metadata": {},
   "outputs": [],
   "source": [
    "df_cross_gr # datadrame where all of the crosses has been grouped"
   ]
  },
  {
   "cell_type": "code",
   "execution_count": null,
   "id": "e0144263",
   "metadata": {},
   "outputs": [],
   "source": [
    "# fixing nested indexes with as_index\n",
    "df_cross_gr = df_cross_summary.groupby(by=\"cross\", as_index=False).sum()"
   ]
  },
  {
   "cell_type": "code",
   "execution_count": null,
   "id": "0cb0b4e1",
   "metadata": {},
   "outputs": [],
   "source": [
    "# add sort by \n",
    "# modifying the data frame we're actually calling: inplace=True\n",
    "df_cross_gr.sort_values(by='total_gain', ascending=False, inplace=True)"
   ]
  },
  {
   "cell_type": "code",
   "execution_count": null,
   "id": "178d7f6c",
   "metadata": {},
   "outputs": [],
   "source": [
    "df_cross_gr # spread is not taken into account\n",
    "# taking spread into account would most likely mean that positive looking results are negative\n",
    "# conclusion: strategy doesn't perform very well"
   ]
  },
  {
   "cell_type": "code",
   "execution_count": null,
   "id": "6b9faf07",
   "metadata": {},
   "outputs": [],
   "source": [
    "# what percentage of the crosses we've tested actually gave us a gain?\n",
    "# pairs we actually tested \n",
    "df_ma_res_h1.pair.unique()"
   ]
  },
  {
   "cell_type": "code",
   "execution_count": null,
   "id": "59530913",
   "metadata": {},
   "outputs": [],
   "source": [
    "# number of pairs we actually tested\n",
    "total_pairs = len(df_ma_res_h1.pair.unique())\n",
    "total_pairs"
   ]
  },
  {
   "cell_type": "code",
   "execution_count": null,
   "id": "f4b87f19",
   "metadata": {},
   "outputs": [],
   "source": [
    "# data frame for single cross\n",
    "temp = df_ma_res_h1[df_ma_res_h1.cross == 'MA_10_MA_40']"
   ]
  },
  {
   "cell_type": "code",
   "execution_count": null,
   "id": "4fce405b",
   "metadata": {},
   "outputs": [],
   "source": [
    "temp"
   ]
  },
  {
   "cell_type": "code",
   "execution_count": null,
   "id": "b4cd2cc3",
   "metadata": {},
   "outputs": [],
   "source": [
    "# how many pairs gave us a positive result?\n",
    "temp[temp.total_gain > 0] "
   ]
  },
  {
   "cell_type": "code",
   "execution_count": null,
   "id": "49dfb19e",
   "metadata": {},
   "outputs": [],
   "source": [
    "# actual number of columns with a a positive result\n",
    "temp[temp.total_gain > 0].shape[0]"
   ]
  },
  {
   "cell_type": "code",
   "execution_count": null,
   "id": "ffd8e06d",
   "metadata": {},
   "outputs": [],
   "source": [
    "# looking at the number of positive results for all the crosses\n",
    "for c in df_ma_res_h1.cross.unique():\n",
    "    temp = df_ma_res_h1[df_ma_res_h1.cross == c]\n",
    "    pg = temp[temp.total_gain > 0].shape[0]\n",
    "    # crossing, number of positive results, success rate\n",
    "    print(f\"{c} pg: {pg} perc gain: {(pg / total_pairs) * 100:.0f}%\")"
   ]
  },
  {
   "cell_type": "code",
   "execution_count": null,
   "id": "091c7968",
   "metadata": {},
   "outputs": [],
   "source": [
    "# taking a closer look at the MA_10_MA_20 cross\n",
    "cross = \"MA_10_MA_20\"\n",
    "df_MA_10_MA_20 = df_ma_res_h1[df_ma_res_h1.cross == cross].copy()\n",
    "df_MA_10_MA_20.sort_values(by=\"total_gain\", ascending=False, inplace=True)"
   ]
  },
  {
   "cell_type": "code",
   "execution_count": null,
   "id": "f0ef24bf",
   "metadata": {},
   "outputs": [],
   "source": [
    "df_MA_10_MA_20"
   ]
  },
  {
   "cell_type": "code",
   "execution_count": null,
   "id": "3a0f1698",
   "metadata": {},
   "outputs": [],
   "source": [
    "# next step in analysing: how does gain look over a period of time?\n",
    "# did we get our gains in just on or two days and did we only have losses after this?\n",
    "# or did he have wins continously over a wider period of time?\n",
    "# -> plot the accumulative gain over the period of the backtest\n",
    "# df_ma_trades_h1 contains all of out trades\n",
    "# selecting the data we're interested in from the df_ma_trades_h1\n",
    "df_gains = df_ma_trades_h1[(df_ma_trades_h1.cross == cross) & (df_ma_trades_h1.pair == \"GBP_JPY\")].copy()"
   ]
  },
  {
   "cell_type": "code",
   "execution_count": null,
   "id": "f0a864f1",
   "metadata": {},
   "outputs": [],
   "source": [
    "df_gains # all gains for the GBP_JPY pair for the MA_10_MA_20 cross"
   ]
  },
  {
   "cell_type": "code",
   "execution_count": null,
   "id": "3cb7d650",
   "metadata": {},
   "outputs": [],
   "source": [
    "cp = CandlePlot(df_gains, candles=False)\n",
    "cp.show_plot(line_traces=['GAIN_C'])"
   ]
  },
  {
   "cell_type": "code",
   "execution_count": null,
   "id": "32d4c6ae",
   "metadata": {},
   "outputs": [],
   "source": [
    "# similar analysis for the EUR_AUD pair\n",
    "df_gains_EUR_AUD = df_ma_trades_h1[(df_ma_trades_h1.cross == cross) & (df_ma_trades_h1.pair == \"EUR_AUD\")].copy()"
   ]
  },
  {
   "cell_type": "code",
   "execution_count": null,
   "id": "8ae6eb2a",
   "metadata": {},
   "outputs": [],
   "source": [
    "df_gains_EUR_AUD"
   ]
  },
  {
   "cell_type": "code",
   "execution_count": null,
   "id": "daab2ade",
   "metadata": {},
   "outputs": [],
   "source": [
    "cp = CandlePlot(df_gains_EUR_AUD, candles=False)\n",
    "cp.show_plot(line_traces=['GAIN_C'])"
   ]
  },
  {
   "cell_type": "code",
   "execution_count": null,
   "id": "0b78f4ee",
   "metadata": {},
   "outputs": [],
   "source": [
    "# looping through all of the uniquen pairs of the df_MA_10_MA_20 where the total gain is greater than zero\n",
    "for curr in df_MA_10_MA_20[df_MA_10_MA_20.total_gain > 0].pair.unique():\n",
    "    temp_gains = df_ma_trades_h1[(df_ma_trades_h1.cross == cross) & \n",
    "        (df_ma_trades_h1.pair == curr)].copy()\n",
    "    print(curr, int(temp_gains.GAIN.sum()))\n",
    "    cp = CandlePlot(temp_gains, candles=False)\n",
    "    cp.show_plot(line_traces=['GAIN_C'])"
   ]
  },
  {
   "cell_type": "code",
   "execution_count": null,
   "id": "77829744",
   "metadata": {},
   "outputs": [],
   "source": []
  }
 ],
 "metadata": {
  "kernelspec": {
   "display_name": "Python 3 (ipykernel)",
   "language": "python",
   "name": "python3"
  },
  "language_info": {
   "codemirror_mode": {
    "name": "ipython",
    "version": 3
   },
   "file_extension": ".py",
   "mimetype": "text/x-python",
   "name": "python",
   "nbconvert_exporter": "python",
   "pygments_lexer": "ipython3",
   "version": "3.12.4"
  }
 },
 "nbformat": 4,
 "nbformat_minor": 5
}
