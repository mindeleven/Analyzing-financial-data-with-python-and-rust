{
 "cells": [
  {
   "cell_type": "markdown",
   "id": "6e6e88e6",
   "metadata": {},
   "source": [
    "## Analysing moving average crossings"
   ]
  },
  {
   "cell_type": "code",
   "execution_count": 137,
   "id": "0a2e55b4",
   "metadata": {},
   "outputs": [],
   "source": [
    "import pandas as pd\n",
    "import plotly.graph_objects as go\n",
    "import datetime as dt\n",
    "from plotting import CandlePlot"
   ]
  },
  {
   "cell_type": "code",
   "execution_count": 141,
   "id": "ef7eb00e",
   "metadata": {},
   "outputs": [],
   "source": [
    "# extend path to import modules from other folders\n",
    "import sys\n",
    "# append everything above the level where we're now\n",
    "sys.path.append(\"../../\")"
   ]
  },
  {
   "cell_type": "code",
   "execution_count": 142,
   "id": "e4646c43",
   "metadata": {},
   "outputs": [
    {
     "ename": "ModuleNotFoundError",
     "evalue": "No module named 'code.infrastructure'; 'code' is not a package",
     "output_type": "error",
     "traceback": [
      "\u001b[0;31m---------------------------------------------------------------------------\u001b[0m",
      "\u001b[0;31mModuleNotFoundError\u001b[0m                       Traceback (most recent call last)",
      "Cell \u001b[0;32mIn[142], line 2\u001b[0m\n\u001b[1;32m      1\u001b[0m \u001b[38;5;66;03m# import instruments to calculate pips after trade signals have been identified\u001b[39;00m\n\u001b[0;32m----> 2\u001b[0m \u001b[38;5;28;01mfrom\u001b[39;00m \u001b[38;5;21;01mcode\u001b[39;00m\u001b[38;5;21;01m.\u001b[39;00m\u001b[38;5;21;01minfrastructure\u001b[39;00m\u001b[38;5;21;01m.\u001b[39;00m\u001b[38;5;21;01minstrument_collection\u001b[39;00m \u001b[38;5;28;01mimport\u001b[39;00m instrumentCollection \u001b[38;5;28;01mas\u001b[39;00m ic\n",
      "\u001b[0;31mModuleNotFoundError\u001b[0m: No module named 'code.infrastructure'; 'code' is not a package"
     ]
    }
   ],
   "source": [
    "# import instruments to calculate pips after trade signals have been identified\n",
    "from code.infrastructure.instrument_collection import instrumentCollection as ic"
   ]
  },
  {
   "cell_type": "code",
   "execution_count": null,
   "id": "a99b48a6",
   "metadata": {},
   "outputs": [],
   "source": [
    "# loading data for an instruments pair\n",
    "pair = \"EUR_USD\"\n",
    "granularity = \"H4\"\n",
    "df = pd.read_pickle(f\"../../assets/data/{pair}_{granularity}.pkl\")\n",
    "MA_LIST = [10, 20]"
   ]
  },
  {
   "cell_type": "code",
   "execution_count": null,
   "id": "abd28001",
   "metadata": {},
   "outputs": [],
   "source": [
    "df.shape"
   ]
  },
  {
   "cell_type": "code",
   "execution_count": null,
   "id": "5a52e67a",
   "metadata": {},
   "outputs": [],
   "source": [
    "df.info()"
   ]
  },
  {
   "cell_type": "code",
   "execution_count": null,
   "id": "290900bf",
   "metadata": {},
   "outputs": [],
   "source": [
    "df.head()"
   ]
  },
  {
   "cell_type": "code",
   "execution_count": null,
   "id": "09abcefb",
   "metadata": {},
   "outputs": [],
   "source": [
    "# get data frame with copy of relevant data\n",
    "df_ma = df[['time', 'mid_o', 'mid_h', 'mid_l', 'mid_c']].copy()"
   ]
  },
  {
   "cell_type": "code",
   "execution_count": null,
   "id": "fccd9448",
   "metadata": {},
   "outputs": [],
   "source": [
    "# calculate the moving averages\n",
    "# rolling() -> telling pandas to do rolling calculations\n",
    "for ma in MA_LIST:\n",
    "    df_ma[f'MA_{ma}'] = df_ma.mid_c.rolling(window=ma).mean()\n",
    "df_ma.dropna(inplace=True) # inplace has to be set to True otherwise the dataframe won't get modified\n",
    "# resetting the index\n",
    "df_ma.reset_index(inplace=True, drop=True)"
   ]
  },
  {
   "cell_type": "code",
   "execution_count": null,
   "id": "09889e9e",
   "metadata": {},
   "outputs": [],
   "source": [
    "df_ma.head()"
   ]
  },
  {
   "cell_type": "code",
   "execution_count": null,
   "id": "13d11101",
   "metadata": {},
   "outputs": [],
   "source": [
    "df_ma.info()"
   ]
  },
  {
   "cell_type": "code",
   "execution_count": null,
   "id": "b8de3dc8",
   "metadata": {},
   "outputs": [],
   "source": [
    "# plotting the data frame with plotly\n",
    "# take the first 500 candles of the data frame\n",
    "df_plot = df_ma.iloc[:500]"
   ]
  },
  {
   "cell_type": "code",
   "execution_count": null,
   "id": "bfed159a",
   "metadata": {},
   "outputs": [],
   "source": [
    "df_plot.shape"
   ]
  },
  {
   "cell_type": "code",
   "execution_count": null,
   "id": "8db80739",
   "metadata": {},
   "outputs": [],
   "source": [
    "# create candle plot instance\n",
    "cp = CandlePlot(df_plot)"
   ]
  },
  {
   "cell_type": "code",
   "execution_count": null,
   "id": "f3c7284d",
   "metadata": {},
   "outputs": [],
   "source": [
    "traces = [ f\"MA_{x}\" for x in MA_LIST ]"
   ]
  },
  {
   "cell_type": "code",
   "execution_count": null,
   "id": "86576503",
   "metadata": {},
   "outputs": [],
   "source": [
    "traces"
   ]
  },
  {
   "cell_type": "code",
   "execution_count": null,
   "id": "32586720",
   "metadata": {},
   "outputs": [],
   "source": [
    "cp.show_plot(line_traces=traces)"
   ]
  },
  {
   "cell_type": "markdown",
   "id": "82f22f00",
   "metadata": {},
   "source": [
    "## Deriving a strategy from average crossings"
   ]
  },
  {
   "cell_type": "code",
   "execution_count": null,
   "id": "0156ee4d",
   "metadata": {},
   "outputs": [],
   "source": [
    "MA_S = \"MA_10\"\n",
    "MA_L = \"MA_20\"\n",
    "BUY = 1\n",
    "SELL = -1\n",
    "NONE = 0"
   ]
  },
  {
   "cell_type": "code",
   "execution_count": null,
   "id": "94a8eee5",
   "metadata": {},
   "outputs": [],
   "source": [
    "# get data frame with copy of relevant data\n",
    "df_an = df_ma[['time', 'mid_o', 'mid_h', 'mid_l', 'mid_c', MA_S, MA_L]].copy()"
   ]
  },
  {
   "cell_type": "code",
   "execution_count": null,
   "id": "9edd3977",
   "metadata": {},
   "outputs": [],
   "source": [
    "df_an.head()"
   ]
  },
  {
   "cell_type": "code",
   "execution_count": null,
   "id": "31352fbd",
   "metadata": {},
   "outputs": [],
   "source": [
    "# calculate delta between short and long line\n",
    "df_an['DELTA'] = df_an.MA_10 - df_an.MA_20"
   ]
  },
  {
   "cell_type": "code",
   "execution_count": null,
   "id": "1ec2f975",
   "metadata": {},
   "outputs": [],
   "source": [
    "df_an.head(25) # going from below to above the line at about row 14 -> this is a buy signal"
   ]
  },
  {
   "cell_type": "code",
   "execution_count": null,
   "id": "c68ba7e6",
   "metadata": {},
   "outputs": [],
   "source": [
    "# to make a prediction when to buy we need to compare the delta with the DELTA of the day before\n",
    "# therefore we add a new line where we shift the DELTA value by one day\n",
    "df_an['DELTA_PREV'] = df_an.DELTA.shift(1)"
   ]
  },
  {
   "cell_type": "code",
   "execution_count": null,
   "id": "78ade60e",
   "metadata": {},
   "outputs": [],
   "source": [
    "df_an.head(25) # going from below to above the line at about row 14 -> this is a buy signal"
   ]
  },
  {
   "cell_type": "code",
   "execution_count": null,
   "id": "2f73d09b",
   "metadata": {},
   "outputs": [],
   "source": [
    "# do we have a trade sign\n",
    "def is_trade(row):\n",
    "    # did we have a change and went above the line\n",
    "    if row.DELTA >= 0 and row.DELTA_PREV < 0:\n",
    "        return BUY\n",
    "    elif row.DELTA < 0 and row.DELTA_PREV >= 0:\n",
    "        return SELL\n",
    "    return NONE"
   ]
  },
  {
   "cell_type": "code",
   "execution_count": null,
   "id": "33505309",
   "metadata": {},
   "outputs": [],
   "source": [
    "# applying function and telling pandas to do it row by row (axis=1)\n",
    "df_an['TRADE'] = df_an.apply(is_trade, axis=1)"
   ]
  },
  {
   "cell_type": "code",
   "execution_count": null,
   "id": "44dce96d",
   "metadata": {},
   "outputs": [],
   "source": [
    "df_an.head(25)"
   ]
  },
  {
   "cell_type": "code",
   "execution_count": null,
   "id": "abb8984c",
   "metadata": {},
   "outputs": [],
   "source": [
    "# get a dataframe with the interesting trades\n",
    "df_trades = df_an[df_an.TRADE != NONE].copy()"
   ]
  },
  {
   "cell_type": "code",
   "execution_count": null,
   "id": "a0a05d14",
   "metadata": {},
   "outputs": [],
   "source": [
    "# how many trades do we have\n",
    "df_trades.shape"
   ]
  },
  {
   "cell_type": "code",
   "execution_count": null,
   "id": "4dfa8ed1",
   "metadata": {},
   "outputs": [],
   "source": [
    "df_trades.head(5)"
   ]
  },
  {
   "cell_type": "code",
   "execution_count": null,
   "id": "71f03dac",
   "metadata": {},
   "outputs": [],
   "source": [
    "# let's check if the crosses appear where they're supposed to appear\n",
    "cp = CandlePlot(df_an.iloc[15:70])\n",
    "cp.show_plot(line_traces=[MA_S, MA_L])"
   ]
  },
  {
   "cell_type": "code",
   "execution_count": null,
   "id": "714a4ca5",
   "metadata": {},
   "outputs": [],
   "source": [
    "# evaluate the trades in terms of Pips\n",
    "# to gain insight how efective our trades were\n",
    "# load instruments that have been imported at the top\n",
    "ic.LoadInstruments(\"../../assets/data\")"
   ]
  },
  {
   "cell_type": "code",
   "execution_count": null,
   "id": "097c6d49",
   "metadata": {},
   "outputs": [],
   "source": [
    "ic"
   ]
  },
  {
   "cell_type": "code",
   "execution_count": null,
   "id": "bd1ab2bc",
   "metadata": {},
   "outputs": [],
   "source": [
    "ic.instruments_dict[pair] # loading the \"EUR_USD\" pair from the collection"
   ]
  },
  {
   "cell_type": "code",
   "execution_count": null,
   "id": "c95aaad3",
   "metadata": {},
   "outputs": [],
   "source": [
    "ins_data = ic.instruments_dict[pair]"
   ]
  },
  {
   "cell_type": "code",
   "execution_count": null,
   "id": "c7fcc40f",
   "metadata": {},
   "outputs": [],
   "source": [
    "# accessing the gains that we've made\n",
    "# looking at the data first\n",
    "# example line 21 and 41:\n",
    "# 21: we put a sell on 1.11386 (mid close)\n",
    "# 41 then again we put a buy on 1.11398 (mid close)\n",
    "df_trades.head()"
   ]
  },
  {
   "cell_type": "code",
   "execution_count": null,
   "id": "69792154",
   "metadata": {},
   "outputs": [],
   "source": [
    "# highlight background color for mid_c row\n",
    "# function taken from \n",
    "# https://stackoverflow.com/questions/44388149/colouring-one-column-of-pandas-dataframe\n",
    "def highlight_col(x):\n",
    "    r = 'background-color: green; color: white'\n",
    "    df1 = pd.DataFrame('', index=x.index, columns=x.columns)\n",
    "    \n",
    "    df1.iloc[:, 4] = r\n",
    "    return df1    "
   ]
  },
  {
   "cell_type": "code",
   "execution_count": null,
   "id": "cb48dd83",
   "metadata": {},
   "outputs": [],
   "source": [
    "# calculate with diff from pandas\n",
    "# shift diffs up in minus 1 direction to make correct calculations\n",
    "df_trades['DIFF'] = df_trades.mid_c.diff().shift(-1)\n",
    "# filling Na's\n",
    "df_trades.fillna(0, inplace=True)"
   ]
  },
  {
   "cell_type": "code",
   "execution_count": null,
   "id": "c71c4af8",
   "metadata": {},
   "outputs": [],
   "source": [
    "# line 21 to 41: price went up so difference is positive\n",
    "# DIFF line 21 is mid_c line 41 minus mid_c line 21\n",
    "df_trades.head().style.apply(highlight_col, axis=None)"
   ]
  },
  {
   "cell_type": "code",
   "execution_count": null,
   "id": "64598aae",
   "metadata": {},
   "outputs": [],
   "source": [
    "# convert diff into pips\n",
    "df_trades['GAIN'] = df_trades['DIFF'] / ins_data.pipLocation\n",
    "# needs to be multiplied to get correct gain or loss\n",
    "df_trades['GAIN'] = df_trades['GAIN'] * df_trades['TRADE']"
   ]
  },
  {
   "cell_type": "code",
   "execution_count": null,
   "id": "82b5a1b9",
   "metadata": {},
   "outputs": [],
   "source": [
    "df_trades.head().style.apply(highlight_col, axis=None)"
   ]
  },
  {
   "cell_type": "code",
   "execution_count": null,
   "id": "be3e7e72",
   "metadata": {},
   "outputs": [],
   "source": [
    "# calculate sum of the gains to see how it performed over time\n",
    "# what's getting summarized here are pips\n",
    "df_trades.GAIN.sum()"
   ]
  },
  {
   "cell_type": "code",
   "execution_count": null,
   "id": "61992318",
   "metadata": {},
   "outputs": [],
   "source": [
    "# calculating cumulative gain\n",
    "df_trades['GAIN_C'] = df_trades['GAIN'].cumsum()"
   ]
  },
  {
   "cell_type": "code",
   "execution_count": null,
   "id": "47fa967b",
   "metadata": {},
   "outputs": [],
   "source": [
    "cp = CandlePlot(df_trades, candles=False)\n",
    "cp.show_plot(line_traces=['GAIN_C'])\n",
    "# plot shows a huge gain at the end of January 2020\n",
    "# the time when the covid crises started and everything dropped except the US Dollar\n",
    "# high pip value due to rise of US Dollar at this time\n",
    "# doesn't tell much about how effective strategy is"
   ]
  },
  {
   "cell_type": "code",
   "execution_count": null,
   "id": "21fbefec",
   "metadata": {},
   "outputs": [],
   "source": []
  }
 ],
 "metadata": {
  "kernelspec": {
   "display_name": "Python 3 (ipykernel)",
   "language": "python",
   "name": "python3"
  },
  "language_info": {
   "codemirror_mode": {
    "name": "ipython",
    "version": 3
   },
   "file_extension": ".py",
   "mimetype": "text/x-python",
   "name": "python",
   "nbconvert_exporter": "python",
   "pygments_lexer": "ipython3",
   "version": "3.12.4"
  }
 },
 "nbformat": 4,
 "nbformat_minor": 5
}
