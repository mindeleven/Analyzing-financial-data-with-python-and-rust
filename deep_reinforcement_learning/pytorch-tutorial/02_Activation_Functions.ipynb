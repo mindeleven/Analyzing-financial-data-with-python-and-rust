{
 "cells": [
  {
   "cell_type": "markdown",
   "id": "4a7331c0-b703-48f5-9149-1008e7945a8f",
   "metadata": {},
   "source": [
    "## Activation Functions"
   ]
  },
  {
   "cell_type": "markdown",
   "id": "4eab7a69-23fd-4b64-8801-19009734144b",
   "metadata": {},
   "source": [
    "An **activation function** in a neural network is a mathematical function applied to the output of each neuron after it computes a weighted sum of its inputs. The main purpose of an activation function is to introduce **non-linearity** into the network, allowing it to learn and model more complex patterns in the data."
   ]
  },
  {
   "cell_type": "markdown",
   "id": "3463ed6c-26f6-4e9f-a211-a9b195fb088b",
   "metadata": {},
   "source": [
    "### Why are Activation Functions Needed?"
   ]
  },
  {
   "cell_type": "markdown",
   "id": "06542ea0-bf2b-476e-b38b-687a7cfc6f85",
   "metadata": {},
   "source": [
    "Without activation functions, a neural network would essentially be performing only linear transformations. This means that no matter how many layers the network has, the output would always be a linear combination of the input, which limits its ability to model complex relationships. Activation functions break this linearity, allowing the network to capture non-linear patterns and solve more complex tasks, like image recognition or language understanding."
   ]
  },
  {
   "cell_type": "markdown",
   "id": "7151c72e-f9e8-4ac9-b9a6-0af205f9b66d",
   "metadata": {},
   "source": [
    "### How Activation Functions Work:"
   ]
  },
  {
   "cell_type": "markdown",
   "id": "f4e43660-6f8c-4504-aabd-2bcf5cf66fdf",
   "metadata": {},
   "source": [
    "1. **Weighted Sum**: Each neuron in the network receives inputs, multiplies them by their respective weights, adds a bias term, and computes a weighted sum.\n",
    "   \n",
    "   *z = ∑(wi​×xi​)+b*\n",
    "   \n",
    "3. **Apply Activation Function**: The weighted *sum z* is then passed through the activation function, which determines whether and how much the neuron should \"activate\" (i.e., pass on information to the next layer).\n"
   ]
  },
  {
   "cell_type": "markdown",
   "id": "d556db41-87f7-410f-8751-6f4da5a5618f",
   "metadata": {},
   "source": [
    "### Common Activation Functions"
   ]
  },
  {
   "cell_type": "markdown",
   "id": "7c542a8c-63a0-4e54-869b-2344e3b67cdd",
   "metadata": {},
   "source": [
    "### 1. Sigmoid Function"
   ]
  },
  {
   "cell_type": "markdown",
   "id": "b5940d82-ba38-4d6f-ad39-b8d4e8c9b2e5",
   "metadata": {},
   "source": [
    "- **Range**: Outputs values between 0 and 1.\n",
    "- Characterized by an “S”-shaped curve that is bounded between the values zero and one.\n",
    "- **Use case**: Typically used for binary classification problems. Often used in the output layer of binary classification problems because it outputs probabilities.\n",
    "- **Issue**: It can suffer from **vanishing gradients** in deep networks, where gradients become too small to effectively update weights."
   ]
  },
  {
   "cell_type": "code",
   "execution_count": 1,
   "id": "1ff882a2-178e-4293-8cb9-d2510a5a8c5b",
   "metadata": {},
   "outputs": [],
   "source": [
    "# Sigmoid function in Python\n",
    "# source: https://www.datacamp.com/tutorial/pytorch-tutorial-building-a-simple-neural-network-from-scratch\n",
    "# importing matplotlib.pyplot and numpy libraries\n",
    "import matplotlib.pyplot as plt\n",
    "import numpy as np"
   ]
  },
  {
   "cell_type": "code",
   "execution_count": 2,
   "id": "c5d8dc35-c588-4d72-93dd-b214b40635f4",
   "metadata": {},
   "outputs": [
    {
     "data": {
      "text/plain": [
       "array([-5.        , -4.79591837, -4.59183673, -4.3877551 , -4.18367347,\n",
       "       -3.97959184, -3.7755102 , -3.57142857, -3.36734694, -3.16326531,\n",
       "       -2.95918367, -2.75510204, -2.55102041, -2.34693878, -2.14285714,\n",
       "       -1.93877551, -1.73469388, -1.53061224, -1.32653061, -1.12244898,\n",
       "       -0.91836735, -0.71428571, -0.51020408, -0.30612245, -0.10204082,\n",
       "        0.10204082,  0.30612245,  0.51020408,  0.71428571,  0.91836735,\n",
       "        1.12244898,  1.32653061,  1.53061224,  1.73469388,  1.93877551,\n",
       "        2.14285714,  2.34693878,  2.55102041,  2.75510204,  2.95918367,\n",
       "        3.16326531,  3.36734694,  3.57142857,  3.7755102 ,  3.97959184,\n",
       "        4.18367347,  4.3877551 ,  4.59183673,  4.79591837,  5.        ])"
      ]
     },
     "execution_count": 2,
     "metadata": {},
     "output_type": "execute_result"
    }
   ],
   "source": [
    "# creating an array of 50 evenly spaced numbers between -5 and 5 using the np.linspace() function and assigns it to the variable x\n",
    "x = np.linspace(-5, 5, 50)\n",
    "x"
   ]
  },
  {
   "cell_type": "code",
   "execution_count": 3,
   "id": "0d795d3b-9044-4e97-b16c-43b1baa1955c",
   "metadata": {},
   "outputs": [
    {
     "data": {
      "text/plain": [
       "array([0.00669285, 0.00819568, 0.01003256, 0.01227603, 0.01501357,\n",
       "       0.01835024, 0.0224116 , 0.02734679, 0.03333169, 0.04057176,\n",
       "       0.04930426, 0.05979915, 0.07235796, 0.0873094 , 0.10500059,\n",
       "       0.12578244, 0.14998817, 0.17790412, 0.20973382, 0.24555731,\n",
       "       0.28529068, 0.32865255, 0.37514569, 0.42406149, 0.47451191,\n",
       "       0.52548809, 0.57593851, 0.62485431, 0.67134745, 0.71470932,\n",
       "       0.75444269, 0.79026618, 0.82209588, 0.85001183, 0.87421756,\n",
       "       0.89499941, 0.9126906 , 0.92764204, 0.94020085, 0.95069574,\n",
       "       0.95942824, 0.96666831, 0.97265321, 0.9775884 , 0.98164976,\n",
       "       0.98498643, 0.98772397, 0.98996744, 0.99180432, 0.99330715])"
      ]
     },
     "execution_count": 3,
     "metadata": {},
     "output_type": "execute_result"
    }
   ],
   "source": [
    "# sigmoid function is applied to x using the formula 1/(1 + np.exp(-x)) \n",
    "# resulting array is assigned to the variable z\n",
    "z = 1/(1 + np.exp(-x))\n",
    "z"
   ]
  },
  {
   "cell_type": "code",
   "execution_count": 4,
   "id": "1b364ecd-4b6a-438a-807f-7addd2894db6",
   "metadata": {},
   "outputs": [
    {
     "data": {
      "image/png": "[encoded data removed]",
      "text/plain": [
       "<Figure size 800x500 with 1 Axes>"
      ]
     },
     "metadata": {},
     "output_type": "display_data"
    }
   ],
   "source": [
    "# creating a plot using plt.subplots() with a figure size of 8 by 5\n",
    "plt.subplots(figsize=(8, 5))\n",
    "# ploting x against z using plt.plot()\n",
    "plt.plot(x, z)\n",
    "# adding a grid using plt.grid()\n",
    "plt.grid()\n",
    "# displaying the plot using plt.show()\n",
    "# resulting plot shows the sigmoid function, which is an S-shaped curve that maps any input value to a value between 0 and 1\n",
    "plt.show()"
   ]
  },
  {
   "cell_type": "markdown",
   "id": "6b83c88e-c531-4137-8ec8-586a96d10567",
   "metadata": {},
   "source": [
    "\n",
    "\n",
    "3. **Tanh (Hyperbolic Tangent) Function**:\n",
    "   \\[\n",
    "   \\text{Tanh}(z) = \\frac{2}{1 + e^{-2z}} - 1\n",
    "   \\]\n",
    "   - **Range**: Outputs values between -1 and 1.\n",
    "   - **Use case**: Typically used in hidden layers. It performs better than the sigmoid function in some cases because its output is centered around zero, making it easier for the network to model negative, zero, and positive outputs.\n",
    "   - **Issue**: Like the sigmoid function, it can suffer from vanishing gradients.\n",
    "\n",
    "4. **ReLU (Rectified Linear Unit)**:\n",
    "   \\[\n",
    "   \\text{ReLU}(z) = \\max(0, z)\n",
    "   \\]\n",
    "   - **Range**: Outputs values between 0 and \\( \\infty \\).\n",
    "   - **Use case**: One of the most commonly used activation functions in hidden layers of deep networks due to its simplicity and efficiency. It helps reduce the vanishing gradient problem.\n",
    "   - **Issue**: Can cause **dead neurons** (neurons that output zero for all inputs) if many neurons get stuck outputting zero.\n",
    "\n",
    "5. **Leaky ReLU**:\n",
    "   \\[\n",
    "   \\text{Leaky ReLU}(z) = \\max(\\alpha z, z)\n",
    "   \\]\n",
    "   - **Range**: Similar to ReLU but allows small negative values by using a small slope \\( \\alpha \\) (e.g., \\( \\alpha = 0.01 \\)) for negative inputs.\n",
    "   - **Use case**: Helps prevent the problem of dead neurons in ReLU by allowing a small gradient for negative inputs.\n",
    "\n",
    "6. **Softmax Function**:\n",
    "   \\[\n",
    "   \\text{Softmax}(z_i) = \\frac{e^{z_i}}{\\sum_{j} e^{z_j}}\n",
    "   \\]\n",
    "   - **Range**: Outputs values between 0 and 1, with all outputs summing to 1.\n",
    "   - **Use case**: Used in the output layer of a neural network for multi-class classification. It converts the network's output into a probability distribution across multiple classes.\n",
    "\n",
    "### Summary:\n",
    "- Activation functions introduce **non-linearity** into the network, enabling it to model complex patterns in the data.\n",
    "- They determine whether a neuron should \"activate\" based on the weighted sum of inputs.\n",
    "- Different activation functions are suited for different tasks. For instance, **sigmoid** and **tanh** are common in smaller or simpler networks, while **ReLU** and its variants are widely used in deep learning for their efficiency."
   ]
  },
  {
   "cell_type": "markdown",
   "id": "35125452-c8a8-4bfe-8285-a83e7075f48d",
   "metadata": {},
   "source": [
    "### 2. Tanh"
   ]
  },
  {
   "cell_type": "markdown",
   "id": "1a4424c5-a942-4a18-8405-da8c95992a42",
   "metadata": {},
   "source": [
    "__Activation function according to Anthropic's Claude:__\n",
    "\n",
    "An activation function is like a decision gate that determines whether and how strongly a neuron should \"fire\" or pass information forward. Let me explain with some practical examples:\n",
    "\n",
    "```python\n",
    "# Without activation function, a neuron would just be a linear operation:\n",
    "def neuron_without_activation(inputs, weights, bias):\n",
    "    return sum(input * weight for input, weight in zip(inputs, weights)) + bias\n",
    "    # This would only give us linear transformations\n",
    "\n",
    "# With activation function:\n",
    "def neuron_with_activation(inputs, weights, bias):\n",
    "    linear_sum = sum(input * weight for input, weight in zip(inputs, weights)) + bias\n",
    "    # Now we pass it through an activation function\n",
    "    output = activation_function(linear_sum)\n",
    "    return output\n",
    "```\n",
    "\n",
    "Common activation functions include:\n",
    "\n",
    "1. ReLU (Rectified Linear Unit) - The most popular one:\n",
    "```python\n",
    "def relu(x):\n",
    "    return max(0, x)\n",
    "    # If input is negative -> output 0\n",
    "    # If input is positive -> output the input unchanged\n",
    "```\n",
    "\n",
    "2. Sigmoid - Squishes any input into a value between 0 and 1:\n",
    "```python\n",
    "def sigmoid(x):\n",
    "    # Transforms any number into range [0,1]\n",
    "    # Very negative numbers -> close to 0\n",
    "    # Very positive numbers -> close to 1\n",
    "    # Zero -> 0.5\n",
    "    return 1 / (1 + math.exp(-x))\n",
    "```\n",
    "\n",
    "Why do we need activation functions? Two main reasons:\n",
    "\n",
    "1. They add non-linearity. Without them, no matter how many layers you stack, you'd only get linear transformations:\n",
    "```python\n",
    "# Without activation functions:\n",
    "layer2(layer1(x)) = (w2 * (w1 * x + b1) + b2) = (w2 * w1) * x + (w2 * b1 + b2)\n",
    "# Still just wx + b!\n",
    "\n",
    "# With activation functions:\n",
    "layer2(activation(layer1(x))) = non-linear_result\n",
    "# Can now learn complex patterns\n",
    "```\n",
    "\n",
    "2. They help control the signal flow, similar to how you might use threshold checks in regular code:\n",
    "```python\n",
    "# Traditional code\n",
    "def neuron_decision(signal):\n",
    "    if signal > threshold:  # Like ReLU\n",
    "        return signal\n",
    "    return 0\n",
    "\n",
    "# Neural network with ReLU\n",
    "def neural_decision(signal):\n",
    "    return relu(signal)  # Same concept, but differentiable\n",
    "```\n",
    "\n",
    "The key is that activation functions must be differentiable (for backpropagation to work), so we can't use actual if-statements - we need smooth mathematical functions that approximate this behavior."
   ]
  },
  {
   "cell_type": "markdown",
   "id": "315f9ef6-529e-4ce6-8c6f-535de2fb261f",
   "metadata": {},
   "source": [
    "> <span style=\"color:green;font-weight:bold;font-size:110%\">Can you please explain the Tanh activation function with code example and graph and a short list of pros and cons when compared to other activation functions?</span>"
   ]
  },
  {
   "cell_type": "markdown",
   "id": "cacdfd80-a5ba-482c-8914-d5a950c6b92a",
   "metadata": {},
   "source": [
    "I'll create a comprehensive example of the Tanh (hyperbolic tangent) activation function, including a visualization.\n",
    "\n",
    "\n",
    "\n",
    "```tsx\n",
    "import React from 'react';\n",
    "import { LineChart, Line, XAxis, YAxis, CartesianGrid, Tooltip, Legend } from 'recharts';\n",
    "\n",
    "const TanhVisualization = () => {\n",
    "  // Generate data points for the graph\n",
    "  const data = [];\n",
    "  for (let x = -4; x <= 4; x += 0.2) {\n",
    "    const tanh = Math.tanh(x);\n",
    "    data.push({\n",
    "      x: parseFloat(x.toFixed(2)),\n",
    "      tanh: parseFloat(tanh.toFixed(4))\n",
    "    });\n",
    "  }\n",
    "\n",
    "  return (\n",
    "    <div className=\"w-full max-w-2xl p-4\">\n",
    "      <h2 className=\"text-xl font-bold mb-4\">Tanh Activation Function</h2>\n",
    "      <LineChart width={600} height={400} data={data} margin={{ top: 20, right: 30, left: 20, bottom: 20 }}>\n",
    "        <CartesianGrid strokeDasharray=\"3 3\" />\n",
    "        <XAxis \n",
    "          dataKey=\"x\" \n",
    "          label={{ value: 'Input (x)', position: 'bottom', offset: 0 }} \n",
    "        />\n",
    "        <YAxis \n",
    "          label={{ value: 'Output tanh(x)', angle: -90, position: 'insideLeft' }} \n",
    "          domain={[-1.2, 1.2]} \n",
    "        />\n",
    "        <Tooltip />\n",
    "        <Legend />\n",
    "        <Line \n",
    "          type=\"monotone\" \n",
    "          dataKey=\"tanh\" \n",
    "          stroke=\"#8884d8\" \n",
    "          name=\"tanh(x)\"\n",
    "          dot={false}\n",
    "        />\n",
    "      </LineChart>\n",
    "    </div>\n",
    "  );\n",
    "};\n",
    "\n",
    "export default TanhVisualization;\n",
    "\n",
    "```\n",
    "\n",
    "Here's how the Tanh activation function works in code:\n",
    "\n",
    "```python\n",
    "import math\n",
    "\n",
    "def tanh(x):\n",
    "    # Returns values between -1 and 1\n",
    "    return (math.exp(x) - math.exp(-x)) / (math.exp(x) + math.exp(-x))\n",
    "    # Or simply use: math.tanh(x)\n",
    "```\n",
    "\n",
    "Key characteristics of Tanh:\n",
    "1. Output range: [-1, 1]\n",
    "2. Centered at zero (symmetric around origin)\n",
    "3. S-shaped curve (sigmoid-like but centered at 0)\n",
    "\n",
    "Pros of Tanh:\n",
    "1. Zero-centered output, which makes it easier for the next layer to learn\n",
    "2. Stronger gradients compared to sigmoid (better for training)\n",
    "3. Works well in hidden layers, especially for data that's naturally centered around zero\n",
    "4. Good for classification between two classes\n",
    "\n",
    "Cons:\n",
    "1. Still suffers from vanishing gradient problem at the extremes (though less than sigmoid)\n",
    "2. Computationally more expensive than ReLU\n",
    "3. Not always the best choice for deep networks compared to ReLU\n",
    "4. Training can be slower than ReLU due to exponential operations\n",
    "\n",
    "Common use cases:\n",
    "1. Natural language processing tasks\n",
    "2. Time series prediction\n",
    "3. Classification problems where you need values between -1 and 1\n",
    "4. As a hidden layer activation in networks where ReLU isn't performing well\n",
    "\n",
    "Would you like me to elaborate on any of these points or compare it more directly with other specific activation functions?"
   ]
  },
  {
   "cell_type": "code",
   "execution_count": null,
   "id": "275de52b-7f7d-4f21-b6fd-6b73b2648364",
   "metadata": {},
   "outputs": [],
   "source": []
  }
 ],
 "metadata": {
  "kernelspec": {
   "display_name": "Python 3 (ipykernel)",
   "language": "python",
   "name": "python3"
  },
  "language_info": {
   "codemirror_mode": {
    "name": "ipython",
    "version": 3
   },
   "file_extension": ".py",
   "mimetype": "text/x-python",
   "name": "python",
   "nbconvert_exporter": "python",
   "pygments_lexer": "ipython3",
   "version": "3.12.7"
  }
 },
 "nbformat": 4,
 "nbformat_minor": 5
}
