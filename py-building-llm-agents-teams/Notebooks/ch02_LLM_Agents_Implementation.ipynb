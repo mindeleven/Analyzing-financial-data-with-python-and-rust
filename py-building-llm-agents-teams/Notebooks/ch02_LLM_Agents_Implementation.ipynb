{
 "cells": [
  {
   "cell_type": "markdown",
   "id": "a46db97d-c50c-49cc-b535-7b2c5cdc2e8e",
   "metadata": {},
   "source": [
    "## Running a first script to interact with chatGPT"
   ]
  },
  {
   "cell_type": "code",
   "execution_count": 20,
   "id": "7cd4812a-ad88-4d1e-8349-b58a3345058d",
   "metadata": {},
   "outputs": [],
   "source": [
    "from openai import OpenAI\n",
    "import pandas as pd"
   ]
  },
  {
   "cell_type": "code",
   "execution_count": 18,
   "id": "02d25622-b33e-4e6c-a692-9e87777a8c98",
   "metadata": {},
   "outputs": [],
   "source": [
    "api_key = pd.read_csv(\"~/tmp/chat_gpt/gippity_key_1.txt\", sep=\" \", header=None)[0][0]"
   ]
  },
  {
   "cell_type": "code",
   "execution_count": 21,
   "id": "efa177db-efe5-4ce8-aa46-313ca88022e5",
   "metadata": {},
   "outputs": [],
   "source": [
    "client = OpenAI(api_key=api_key)"
   ]
  },
  {
   "cell_type": "code",
   "execution_count": 24,
   "id": "b8d0402e-edec-4c5f-ad3f-2b6bcca99a59",
   "metadata": {},
   "outputs": [
    {
     "data": {
      "text/plain": [
       "ChatCompletion(id='chatcmpl-ABiNB5DJtCmZCCETqMoYuXCZ5aKbI', choices=[Choice(finish_reason='stop', index=0, logprobs=None, message=ChatCompletionMessage(content='Orange.', refusal=None, role='assistant', function_call=None, tool_calls=None))], created=1727355541, model='gpt-4o-mini-2024-07-18', object='chat.completion', service_tier=None, system_fingerprint='fp_1bb46167f9', usage=CompletionUsage(completion_tokens=2, prompt_tokens=20, total_tokens=22, completion_tokens_details=CompletionTokensDetails(reasoning_tokens=0)))"
      ]
     },
     "execution_count": 24,
     "metadata": {},
     "output_type": "execute_result"
    }
   ],
   "source": [
    "# testing if our key is okay with a simple api call\n",
    "# if our API key is valid we should not get any error messages\n",
    "completion = client.chat.completions.create(\n",
    "    model=\"gpt-4o-mini\",\n",
    "    messages=[\n",
    "        {\"role\": \"user\", \"content\": \"In a single word, what is the color of an orange?\"}\n",
    "    ],\n",
    "    max_tokens=100,\n",
    ")\n",
    "completion"
   ]
  },
  {
   "cell_type": "markdown",
   "id": "fd1a5536-2156-47f5-9941-ac4dd96e47c5",
   "metadata": {},
   "source": [
    "## Building a message with different prompts"
   ]
  },
  {
   "cell_type": "markdown",
   "id": "c3a920c5-cf2b-4176-8bcc-b4c537aa1f41",
   "metadata": {},
   "source": [
    "## The system prompt\n",
    "\n",
    "An important difference with how you use chatGPT on your browser is that we'll specify a `system prompt` message.\n",
    "\n",
    "The `system prompt` basically asks chatGPT to adopt a certain role for the following conversation. \n",
    "We specify the system prompt with: `\"role\": \"system\"`. \n",
    "\n",
    "We then send a request using `\"role\": \"user\"`.\n",
    "\n",
    "## Sending our first request\n",
    "\n",
    "Let's ask chatGPT3.5 to answer a message while playing a specifc role, we'll use a standard example here.\n",
    "\n",
    "The **system prompt** is: \"*You are a poetic assistant, skilled in explaining complex programming concepts with creative flair.*\";  \n",
    "And the **message** is: \"*Compose a poem that explains the concept of recursion in programming.*\"\n",
    "\n",
    "*(All content here from the notebook accompanying the online course.)*"
   ]
  },
  {
   "cell_type": "code",
   "execution_count": 25,
   "id": "314219d4-cee6-4c7d-9105-a0013d9448e8",
   "metadata": {},
   "outputs": [],
   "source": [
    "completion = client.chat.completions.create(\n",
    "  model=\"gpt-4o-mini\",\n",
    "  messages=[\n",
    "    {\n",
    "        \"role\": \"system\", \n",
    "        \"content\": \"You are a poetic assistant, skilled in explaining complex programming concepts with creative flair.\"\n",
    "    },\n",
    "    {\n",
    "        \"role\": \"user\", \n",
    "        \"content\": \"Compose a poem that explains the concept of recursion in programming.\"\n",
    "    }\n",
    "  ]\n",
    ")"
   ]
  },
  {
   "cell_type": "code",
   "execution_count": 26,
   "id": "5a39ebe5-82a8-421c-9167-b8dfcfdc67dd",
   "metadata": {},
   "outputs": [
    {
     "data": {
      "text/plain": [
       "ChatCompletion(id='chatcmpl-ABiV6YTTBiT72itZtVqcGUU3HD3KF', choices=[Choice(finish_reason='stop', index=0, logprobs=None, message=ChatCompletionMessage(content='In the land of code where the logic weaves,  \\nThere lies a magic that nobody believes.  \\nA tale of functions, both clever and wise,  \\nRecursion\\'s the name, where mystery lies.  \\n\\nImagine a task, so big and so tall,  \\nTo climb to the top of a formidable wall.  \\nBut instead of scaling each steep, rugged stone,  \\nYou call to the depths of your heart – \"I\\'m not alone!\"  \\n\\n“Dear function!” you whisper, “Come help me ascend,  \\nI’ll handle a part, then call you, my friend.  \\nIf I reach the peak, I’ll know that I’m done,  \\nBut first, take a step—it’ll all be such fun!”  \\n\\nSo down in the depths, the function resides,  \\nIt simplifies tasks as it gracefully glides.  \\nWith each smaller problem, it calls on itself,  \\nLike a book on a shelf echoing wisdom of wealth.  \\n\\n“Base case!” you must shout, “the anchor we need,  \\nA stopping condition, to halt our great speed.  \\nWhen I’ve reached the end, I’ll return to my kin,  \\nFor without a conclusion, where would we begin?”  \\n\\nWith each gentle call, like whispers of fate,  \\nThe function unfurls, creating a state.  \\nIt solves and it conquers, each layer is cleared,  \\nAs the stack unwinds, all the answers appeared.  \\n\\nAnd so with recursion, the cycle will show,  \\nThat within every problem, solutions will grow.  \\nLike trees with their branches, reaching for light,  \\nIn the realm of the code, recursion ignites.  \\n\\nSo when you’re in doubt, and the problem is grand,  \\nThink back to the function that lends you a hand.  \\nWith base cases set, and the steps in their place,  \\nYou’ll unravel the mystery with elegant grace.  ', refusal=None, role='assistant', function_call=None, tool_calls=None))], created=1727356032, model='gpt-4o-mini-2024-07-18', object='chat.completion', service_tier=None, system_fingerprint='fp_1bb46167f9', usage=CompletionUsage(completion_tokens=384, prompt_tokens=39, total_tokens=423, completion_tokens_details=CompletionTokensDetails(reasoning_tokens=0)))"
      ]
     },
     "execution_count": 26,
     "metadata": {},
     "output_type": "execute_result"
    }
   ],
   "source": [
    "completion"
   ]
  },
  {
   "cell_type": "code",
   "execution_count": 27,
   "id": "73864c3f-f245-405c-9ff4-714a4e7a2dd5",
   "metadata": {},
   "outputs": [
    {
     "data": {
      "text/plain": [
       "ChatCompletionMessage(content='In the land of code where the logic weaves,  \\nThere lies a magic that nobody believes.  \\nA tale of functions, both clever and wise,  \\nRecursion\\'s the name, where mystery lies.  \\n\\nImagine a task, so big and so tall,  \\nTo climb to the top of a formidable wall.  \\nBut instead of scaling each steep, rugged stone,  \\nYou call to the depths of your heart – \"I\\'m not alone!\"  \\n\\n“Dear function!” you whisper, “Come help me ascend,  \\nI’ll handle a part, then call you, my friend.  \\nIf I reach the peak, I’ll know that I’m done,  \\nBut first, take a step—it’ll all be such fun!”  \\n\\nSo down in the depths, the function resides,  \\nIt simplifies tasks as it gracefully glides.  \\nWith each smaller problem, it calls on itself,  \\nLike a book on a shelf echoing wisdom of wealth.  \\n\\n“Base case!” you must shout, “the anchor we need,  \\nA stopping condition, to halt our great speed.  \\nWhen I’ve reached the end, I’ll return to my kin,  \\nFor without a conclusion, where would we begin?”  \\n\\nWith each gentle call, like whispers of fate,  \\nThe function unfurls, creating a state.  \\nIt solves and it conquers, each layer is cleared,  \\nAs the stack unwinds, all the answers appeared.  \\n\\nAnd so with recursion, the cycle will show,  \\nThat within every problem, solutions will grow.  \\nLike trees with their branches, reaching for light,  \\nIn the realm of the code, recursion ignites.  \\n\\nSo when you’re in doubt, and the problem is grand,  \\nThink back to the function that lends you a hand.  \\nWith base cases set, and the steps in their place,  \\nYou’ll unravel the mystery with elegant grace.  ', refusal=None, role='assistant', function_call=None, tool_calls=None)"
      ]
     },
     "execution_count": 27,
     "metadata": {},
     "output_type": "execute_result"
    }
   ],
   "source": [
    "completion.choices[0].message"
   ]
  },
  {
   "cell_type": "code",
   "execution_count": 29,
   "id": "619aea9c-ff7f-444b-b616-06106650fdd9",
   "metadata": {},
   "outputs": [
    {
     "name": "stdout",
     "output_type": "stream",
     "text": [
      "In the land of code where the logic weaves,  \n",
      "There lies a magic that nobody believes.  \n",
      "A tale of functions, both clever and wise,  \n",
      "Recursion's the name, where mystery lies.  \n",
      "\n",
      "Imagine a task, so big and so tall,  \n",
      "To climb to the top of a formidable wall.  \n",
      "But instead of scaling each steep, rugged stone,  \n",
      "You call to the depths of your heart – \"I'm not alone!\"  \n",
      "\n",
      "“Dear function!” you whisper, “Come help me ascend,  \n",
      "I’ll handle a part, then call you, my friend.  \n",
      "If I reach the peak, I’ll know that I’m done,  \n",
      "But first, take a step—it’ll all be such fun!”  \n",
      "\n",
      "So down in the depths, the function resides,  \n",
      "It simplifies tasks as it gracefully glides.  \n",
      "With each smaller problem, it calls on itself,  \n",
      "Like a book on a shelf echoing wisdom of wealth.  \n",
      "\n",
      "“Base case!” you must shout, “the anchor we need,  \n",
      "A stopping condition, to halt our great speed.  \n",
      "When I’ve reached the end, I’ll return to my kin,  \n",
      "For without a conclusion, where would we begin?”  \n",
      "\n",
      "With each gentle call, like whispers of fate,  \n",
      "The function unfurls, creating a state.  \n",
      "It solves and it conquers, each layer is cleared,  \n",
      "As the stack unwinds, all the answers appeared.  \n",
      "\n",
      "And so with recursion, the cycle will show,  \n",
      "That within every problem, solutions will grow.  \n",
      "Like trees with their branches, reaching for light,  \n",
      "In the realm of the code, recursion ignites.  \n",
      "\n",
      "So when you’re in doubt, and the problem is grand,  \n",
      "Think back to the function that lends you a hand.  \n",
      "With base cases set, and the steps in their place,  \n",
      "You’ll unravel the mystery with elegant grace.  \n"
     ]
    }
   ],
   "source": [
    "print(completion.choices[0].message.content)"
   ]
  },
  {
   "cell_type": "code",
   "execution_count": null,
   "id": "bfa6c2d2-b745-48e6-ab50-a3fb598e4f37",
   "metadata": {},
   "outputs": [],
   "source": []
  }
 ],
 "metadata": {
  "kernelspec": {
   "display_name": "Python 3 (ipykernel)",
   "language": "python",
   "name": "python3"
  },
  "language_info": {
   "codemirror_mode": {
    "name": "ipython",
    "version": 3
   },
   "file_extension": ".py",
   "mimetype": "text/x-python",
   "name": "python",
   "nbconvert_exporter": "python",
   "pygments_lexer": "ipython3",
   "version": "3.12.4"
  }
 },
 "nbformat": 4,
 "nbformat_minor": 5
}
