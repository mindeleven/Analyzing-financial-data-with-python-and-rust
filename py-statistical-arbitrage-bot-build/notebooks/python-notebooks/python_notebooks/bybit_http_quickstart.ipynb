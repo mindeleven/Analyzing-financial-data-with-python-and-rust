{
 "cells": [
  {
   "cell_type": "markdown",
   "id": "8709f241-063e-4120-9f88-2aa3413a756c",
   "metadata": {},
   "source": [
    "#### ByBit API query example from https://github.com/bybit-exchange/pybit/blob/master/examples/http_example_quickstart.py"
   ]
  },
  {
   "cell_type": "code",
   "execution_count": 9,
   "id": "7be46bfe-de3e-4349-a148-e07ebab4cea2",
   "metadata": {},
   "outputs": [],
   "source": [
    "import pybit as py\n",
    "import pandas as pd"
   ]
  },
  {
   "cell_type": "code",
   "execution_count": 4,
   "id": "06023571-5844-4814-96e8-5b50e3adbab3",
   "metadata": {},
   "outputs": [],
   "source": [
    "from pybit.unified_trading import HTTP"
   ]
  },
  {
   "cell_type": "code",
   "execution_count": 12,
   "id": "301d8c68-e21a-4eaa-8685-1dffb6663299",
   "metadata": {},
   "outputs": [],
   "source": [
    "api_key = pd.read_csv(\"~/tmp/bybit_testnet/bybit_key.txt\", sep=\" \", header=None)[0][0]\n",
    "api_secret = pd.read_csv(\"~/tmp/bybit_testnet/bybit_secret.txt\", sep=\" \", header=None)[0][0]"
   ]
  },
  {
   "cell_type": "code",
   "execution_count": 13,
   "id": "9ecb35a0-04f6-4ec0-a21f-07ca115a28af",
   "metadata": {},
   "outputs": [],
   "source": [
    "session = HTTP(\n",
    "    testnet=True,\n",
    "    api_key=api_key,\n",
    "    api_secret=api_secret,\n",
    ")"
   ]
  },
  {
   "cell_type": "code",
   "execution_count": 14,
   "id": "7fe73475-dba8-42de-8fdc-8fb341b2a3a5",
   "metadata": {},
   "outputs": [
    {
     "name": "stdout",
     "output_type": "stream",
     "text": [
      "{'retCode': 0, 'retMsg': 'OK', 'result': {'s': 'BTCUSDT', 'b': [['55686.7', '0.001'], ['55676.7', '840.655'], ['55676.6', '0.065'], ['55676', '0.341'], ['55675', '0.53'], ['55674', '1'], ['55673', '0.671'], ['55672.5', '0.001'], ['55672', '0.27'], ['55671', '0.9'], ['55670.7', '0.052'], ['55670', '0.572'], ['55669', '0.672'], ['55668', '0.456'], ['55667', '0.212'], ['55666.9', '0.723'], ['55666.8', '0.544'], ['55666.7', '4.319'], ['55666.6', '0.002'], ['55666', '89.77'], ['55665', '0.57'], ['55664', '0.338'], ['55663', '0.38'], ['55662', '0.477'], ['55661', '0.45']], 'a': [['55937.5', '0.048'], ['55951.3', '0.004'], ['56000', '0.006'], ['56083.7', '0.001'], ['56093.7', '0.215'], ['56113.9', '0.004'], ['56200', '0.01'], ['56250', '0.197'], ['56266.7', '0.001'], ['56276.4', '0.004'], ['56400', '0.006'], ['56406.2', '0.101'], ['56439', '0.004'], ['56452.6', '0.05'], ['56526.3', '0.001'], ['56546.6', '0.003'], ['56562.5', '0.124'], ['56571.8', '0.001'], ['56600', '0.007'], ['56601.6', '0.004'], ['56636.2', '0.005'], ['56660', '0.001'], ['56666.6', '0.019'], ['56684.4', '0.001'], ['56700', '0.001']], 'ts': 1724055800273, 'u': 1900894, 'seq': 9344732280, 'cts': 1724055800228}, 'retExtInfo': {}, 'time': 1724055801260}\n"
     ]
    }
   ],
   "source": [
    "print(session.get_orderbook(category=\"linear\", symbol=\"BTCUSDT\"))"
   ]
  },
  {
   "cell_type": "code",
   "execution_count": 16,
   "id": "27ae4d5c-0a20-4db7-bb2d-631abac63d1b",
   "metadata": {},
   "outputs": [
    {
     "ename": "InvalidRequestError",
     "evalue": "ab not enough for new order (ErrCode: 110007) (ErrTime: 08:25:42).\nRequest → POST https://api-testnet.bybit.com/v5/order/create: {\"category\": \"linear\", \"symbol\": \"BTCUSDT\", \"side\": \"Buy\", \"orderType\": \"Market\", \"qty\": \"0.001\"}.",
     "output_type": "error",
     "traceback": [
      "\u001b[0;31m---------------------------------------------------------------------------\u001b[0m",
      "\u001b[0;31mInvalidRequestError\u001b[0m                       Traceback (most recent call last)",
      "Cell \u001b[0;32mIn[16], line 1\u001b[0m\n\u001b[0;32m----> 1\u001b[0m \u001b[38;5;28mprint\u001b[39m(\u001b[43msession\u001b[49m\u001b[38;5;241;43m.\u001b[39;49m\u001b[43mplace_order\u001b[49m\u001b[43m(\u001b[49m\n\u001b[1;32m      2\u001b[0m \u001b[43m    \u001b[49m\u001b[43mcategory\u001b[49m\u001b[38;5;241;43m=\u001b[39;49m\u001b[38;5;124;43m\"\u001b[39;49m\u001b[38;5;124;43mlinear\u001b[39;49m\u001b[38;5;124;43m\"\u001b[39;49m\u001b[43m,\u001b[49m\n\u001b[1;32m      3\u001b[0m \u001b[43m    \u001b[49m\u001b[43msymbol\u001b[49m\u001b[38;5;241;43m=\u001b[39;49m\u001b[38;5;124;43m\"\u001b[39;49m\u001b[38;5;124;43mBTCUSDT\u001b[39;49m\u001b[38;5;124;43m\"\u001b[39;49m\u001b[43m,\u001b[49m\n\u001b[1;32m      4\u001b[0m \u001b[43m    \u001b[49m\u001b[43mside\u001b[49m\u001b[38;5;241;43m=\u001b[39;49m\u001b[38;5;124;43m\"\u001b[39;49m\u001b[38;5;124;43mBuy\u001b[39;49m\u001b[38;5;124;43m\"\u001b[39;49m\u001b[43m,\u001b[49m\n\u001b[1;32m      5\u001b[0m \u001b[43m    \u001b[49m\u001b[43morderType\u001b[49m\u001b[38;5;241;43m=\u001b[39;49m\u001b[38;5;124;43m\"\u001b[39;49m\u001b[38;5;124;43mMarket\u001b[39;49m\u001b[38;5;124;43m\"\u001b[39;49m\u001b[43m,\u001b[49m\n\u001b[1;32m      6\u001b[0m \u001b[43m    \u001b[49m\u001b[43mqty\u001b[49m\u001b[38;5;241;43m=\u001b[39;49m\u001b[38;5;241;43m0.001\u001b[39;49m\u001b[43m,\u001b[49m\n\u001b[1;32m      7\u001b[0m \u001b[43m)\u001b[49m) \u001b[38;5;66;03m# authentication needed\u001b[39;00m\n\u001b[1;32m      9\u001b[0m \u001b[38;5;124;03m'''\u001b[39;00m\n\u001b[1;32m     10\u001b[0m \u001b[38;5;124;03mReturns an error for now:\u001b[39;00m\n\u001b[1;32m     11\u001b[0m \u001b[38;5;124;03mInvalidRequestError: ab not enough for new order (ErrCode: 110007) (ErrTime: 08:23:22).\u001b[39;00m\n\u001b[1;32m     12\u001b[0m \u001b[38;5;124;03mRequest → POST https://api-testnet.bybit.com/v5/order/create: {\"category\": \"linear\", \"symbol\": \"BTCUSDT\", \"side\": \"Buy\", \"orderType\": \"Market\", \"qty\": \"0.001\"}.\u001b[39;00m\n\u001b[1;32m     13\u001b[0m \u001b[38;5;124;03mReason most likely that the test account has funding but funds still need to be transfered to allow for orders\u001b[39;00m\n\u001b[1;32m     14\u001b[0m \u001b[38;5;124;03m'''\u001b[39;00m\n",
      "File \u001b[0;32m~/Library/Caches/pypoetry/virtualenvs/python-notebooks-F1webM3q-py3.12/lib/python3.12/site-packages/pybit/_v5_trade.py:21\u001b[0m, in \u001b[0;36mTradeHTTP.place_order\u001b[0;34m(self, **kwargs)\u001b[0m\n\u001b[1;32m      6\u001b[0m \u001b[38;5;28;01mdef\u001b[39;00m \u001b[38;5;21mplace_order\u001b[39m(\u001b[38;5;28mself\u001b[39m, \u001b[38;5;241m*\u001b[39m\u001b[38;5;241m*\u001b[39mkwargs):\n\u001b[1;32m      7\u001b[0m \u001b[38;5;250m    \u001b[39m\u001b[38;5;124;03m\"\"\"This method supports to create the order for spot, spot margin, linear perpetual, inverse futures and options.\u001b[39;00m\n\u001b[1;32m      8\u001b[0m \n\u001b[1;32m      9\u001b[0m \u001b[38;5;124;03m    Required args:\u001b[39;00m\n\u001b[0;32m   (...)\u001b[0m\n\u001b[1;32m     19\u001b[0m \u001b[38;5;124;03m        https://bybit-exchange.github.io/docs/v5/order/create-order\u001b[39;00m\n\u001b[1;32m     20\u001b[0m \u001b[38;5;124;03m    \"\"\"\u001b[39;00m\n\u001b[0;32m---> 21\u001b[0m     \u001b[38;5;28;01mreturn\u001b[39;00m \u001b[38;5;28;43mself\u001b[39;49m\u001b[38;5;241;43m.\u001b[39;49m\u001b[43m_submit_request\u001b[49m\u001b[43m(\u001b[49m\n\u001b[1;32m     22\u001b[0m \u001b[43m        \u001b[49m\u001b[43mmethod\u001b[49m\u001b[38;5;241;43m=\u001b[39;49m\u001b[38;5;124;43m\"\u001b[39;49m\u001b[38;5;124;43mPOST\u001b[39;49m\u001b[38;5;124;43m\"\u001b[39;49m\u001b[43m,\u001b[49m\n\u001b[1;32m     23\u001b[0m \u001b[43m        \u001b[49m\u001b[43mpath\u001b[49m\u001b[38;5;241;43m=\u001b[39;49m\u001b[38;5;124;43mf\u001b[39;49m\u001b[38;5;124;43m\"\u001b[39;49m\u001b[38;5;132;43;01m{\u001b[39;49;00m\u001b[38;5;28;43mself\u001b[39;49m\u001b[38;5;241;43m.\u001b[39;49m\u001b[43mendpoint\u001b[49m\u001b[38;5;132;43;01m}\u001b[39;49;00m\u001b[38;5;132;43;01m{\u001b[39;49;00m\u001b[43mTrade\u001b[49m\u001b[38;5;241;43m.\u001b[39;49m\u001b[43mPLACE_ORDER\u001b[49m\u001b[38;5;132;43;01m}\u001b[39;49;00m\u001b[38;5;124;43m\"\u001b[39;49m\u001b[43m,\u001b[49m\n\u001b[1;32m     24\u001b[0m \u001b[43m        \u001b[49m\u001b[43mquery\u001b[49m\u001b[38;5;241;43m=\u001b[39;49m\u001b[43mkwargs\u001b[49m\u001b[43m,\u001b[49m\n\u001b[1;32m     25\u001b[0m \u001b[43m        \u001b[49m\u001b[43mauth\u001b[49m\u001b[38;5;241;43m=\u001b[39;49m\u001b[38;5;28;43;01mTrue\u001b[39;49;00m\u001b[43m,\u001b[49m\n\u001b[1;32m     26\u001b[0m \u001b[43m    \u001b[49m\u001b[43m)\u001b[49m\n",
      "File \u001b[0;32m~/Library/Caches/pypoetry/virtualenvs/python-notebooks-F1webM3q-py3.12/lib/python3.12/site-packages/pybit/_http_manager.py:379\u001b[0m, in \u001b[0;36m_V5HTTPManager._submit_request\u001b[0;34m(self, method, path, query, auth)\u001b[0m\n\u001b[1;32m    376\u001b[0m         \u001b[38;5;28;01mpass\u001b[39;00m\n\u001b[1;32m    378\u001b[0m     \u001b[38;5;28;01melse\u001b[39;00m:\n\u001b[0;32m--> 379\u001b[0m         \u001b[38;5;28;01mraise\u001b[39;00m InvalidRequestError(\n\u001b[1;32m    380\u001b[0m             request\u001b[38;5;241m=\u001b[39m\u001b[38;5;124mf\u001b[39m\u001b[38;5;124m\"\u001b[39m\u001b[38;5;132;01m{\u001b[39;00mmethod\u001b[38;5;132;01m}\u001b[39;00m\u001b[38;5;124m \u001b[39m\u001b[38;5;132;01m{\u001b[39;00mpath\u001b[38;5;132;01m}\u001b[39;00m\u001b[38;5;124m: \u001b[39m\u001b[38;5;132;01m{\u001b[39;00mreq_params\u001b[38;5;132;01m}\u001b[39;00m\u001b[38;5;124m\"\u001b[39m,\n\u001b[1;32m    381\u001b[0m             message\u001b[38;5;241m=\u001b[39ms_json[ret_msg],\n\u001b[1;32m    382\u001b[0m             status_code\u001b[38;5;241m=\u001b[39ms_json[ret_code],\n\u001b[1;32m    383\u001b[0m             time\u001b[38;5;241m=\u001b[39mdt\u001b[38;5;241m.\u001b[39mutcnow()\u001b[38;5;241m.\u001b[39mstrftime(\u001b[38;5;124m\"\u001b[39m\u001b[38;5;124m%\u001b[39m\u001b[38;5;124mH:\u001b[39m\u001b[38;5;124m%\u001b[39m\u001b[38;5;124mM:\u001b[39m\u001b[38;5;124m%\u001b[39m\u001b[38;5;124mS\u001b[39m\u001b[38;5;124m\"\u001b[39m),\n\u001b[1;32m    384\u001b[0m             resp_headers\u001b[38;5;241m=\u001b[39ms\u001b[38;5;241m.\u001b[39mheaders,\n\u001b[1;32m    385\u001b[0m         )\n\u001b[1;32m    386\u001b[0m \u001b[38;5;28;01melse\u001b[39;00m:\n\u001b[1;32m    387\u001b[0m     \u001b[38;5;28;01mif\u001b[39;00m \u001b[38;5;28mself\u001b[39m\u001b[38;5;241m.\u001b[39mlog_requests:\n",
      "\u001b[0;31mInvalidRequestError\u001b[0m: ab not enough for new order (ErrCode: 110007) (ErrTime: 08:25:42).\nRequest → POST https://api-testnet.bybit.com/v5/order/create: {\"category\": \"linear\", \"symbol\": \"BTCUSDT\", \"side\": \"Buy\", \"orderType\": \"Market\", \"qty\": \"0.001\"}."
     ]
    }
   ],
   "source": [
    "print(session.place_order(\n",
    "    category=\"linear\",\n",
    "    symbol=\"BTCUSDT\",\n",
    "    side=\"Buy\",\n",
    "    orderType=\"Market\",\n",
    "    qty=0.001,\n",
    ")) # authentication needed\n",
    "\n",
    "'''\n",
    "Returns an error for now:\n",
    "InvalidRequestError: ab not enough for new order (ErrCode: 110007) (ErrTime: 08:23:22).\n",
    "Request → POST https://api-testnet.bybit.com/v5/order/create: {\"category\": \"linear\", \"symbol\": \"BTCUSDT\", \"side\": \"Buy\", \"orderType\": \"Market\", \"qty\": \"0.001\"}.\n",
    "Reason most likely that the test account has funding but funds still need to be transfered to allow for orders\n",
    "'''"
   ]
  },
  {
   "cell_type": "code",
   "execution_count": null,
   "id": "eae8599f-81a0-4040-a7f3-028ed8e477e2",
   "metadata": {},
   "outputs": [],
   "source": []
  }
 ],
 "metadata": {
  "kernelspec": {
   "display_name": "Python 3 (ipykernel)",
   "language": "python",
   "name": "python3"
  },
  "language_info": {
   "codemirror_mode": {
    "name": "ipython",
    "version": 3
   },
   "file_extension": ".py",
   "mimetype": "text/x-python",
   "name": "python",
   "nbconvert_exporter": "python",
   "pygments_lexer": "ipython3",
   "version": "3.12.4"
  }
 },
 "nbformat": 4,
 "nbformat_minor": 5
}
