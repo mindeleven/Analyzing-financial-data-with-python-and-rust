{
 "cells": [
  {
   "cell_type": "markdown",
   "id": "e1b3b7c5-1ef5-4fa2-b896-e3d2a55a45a1",
   "metadata": {},
   "source": [
    "# Building a Stock Analysis Application"
   ]
  },
  {
   "cell_type": "markdown",
   "id": "26e853ae-f1fd-4139-bad8-1fec90e0f997",
   "metadata": {},
   "source": [
    "*[Coding along with the Udemy online course AI Agents: Building Teams of LLM Agents that Work For You by Mohsen Hassan & Ilyass Tabiai]*"
   ]
  },
  {
   "cell_type": "markdown",
   "id": "f8362c85-ee04-4e47-bc6b-a71d85892da4",
   "metadata": {},
   "source": [
    "__The notebook here has the mere purpose of describing and explaining the code we're going to use, not of actually run the code.__"
   ]
  },
  {
   "cell_type": "code",
   "execution_count": 2,
   "id": "2bf35ad5-e727-4c04-b963-6b72a22174b2",
   "metadata": {},
   "outputs": [
    {
     "name": "stdout",
     "output_type": "stream",
     "text": [
      "Don't be a fool and send your api key to GitHub!\n"
     ]
    }
   ],
   "source": [
    "import pandas as pd\n",
    "api_key = pd.read_csv(\"~/tmp/chat_gpt/autogen_agent_1.txt\", sep=\" \", header=None)[0][0]\n",
    "llm_config = {\n",
    "    \"model\": \"gpt-4o\",\n",
    "    \"api_key\": api_key\n",
    "    }\n",
    "print(\"Don't be a fool and send your api key to GitHub!\")"
   ]
  },
  {
   "cell_type": "markdown",
   "id": "64f5ad09-1413-4580-a127-60b3dd917840",
   "metadata": {},
   "source": [
    "## Application: Financial Report"
   ]
  },
  {
   "cell_type": "markdown",
   "id": "3eeeb2ff-0c0f-4b7c-8986-a954e749857e",
   "metadata": {},
   "source": [
    "We are now going to write a complex streamlit app that will leverage agents to accomplish a specific task. We will later deploy this app on Google Cloud so that it gets a permanent link you can share with others to let them test your work."
   ]
  },
  {
   "cell_type": "code",
   "execution_count": 5,
   "id": "12b94d00-b0d9-4a0b-80f7-058ba82820e8",
   "metadata": {},
   "outputs": [],
   "source": [
    "import autogen"
   ]
  },
  {
   "cell_type": "markdown",
   "id": "c1c1d292-2085-4555-87cd-11563f1abad7",
   "metadata": {},
   "source": [
    "## Goals of our App"
   ]
  },
  {
   "cell_type": "markdown",
   "id": "7a88f1dd-6184-4507-bbbc-a3c81f24d18b",
   "metadata": {},
   "source": [
    "For this final example, we are going to create an app that re-uses some of the features we previously explored together. This app will do the following *<span style=\"color:blue\">(description and goals are from the Udemy course [AI Agents: Building Teams of LLM Agents that Work For You ](https://www.udemy.com/course/ai-agents-building-teams-of-llm-agents-that-work-for-you/) by Mohsen Hassan and Ilyass Tabiai, PhD.)</span>*:\n",
    "\n",
    "* Takes as an input asset tickers\n",
    "* Downloads asset price data, analyzes them (correlations, returns, ...)\n",
    "* Retrieve or compute the following ratios:\n",
    "    * P/E ratio\n",
    "    * Forward P/E\n",
    "    * Dividends\n",
    "    * Price to book\n",
    "    * Debt/Eq\n",
    "    * ROE\n",
    "* Analyze the correlation between the stocks\n",
    "* Plot their normalized prices for comparison\n",
    "* Downloads the latest news headlines about these assets and then analyzes and summarizes these news headlines\n",
    "* Writes a financial report about these assets based on all this information\n",
    "    * **Legal reviewer**: Check that the content is legally compliant (in case we share it with others)\n",
    "    * **Text/Data alignment reviewer**: Check that the text content is aligned with the text written in the report\n",
    "    * **Consistency reviewer**: Check that the conclusion are consistent throughout the text and no contradictions are present\n",
    "    * **Completion reviewer**: Check that the report contains all the elements requested\n",
    "* Refines the report based on previous criticisms\n",
    "* Saves the final report to a mardown file with a normalized price chart\n"
   ]
  },
  {
   "cell_type": "markdown",
   "id": "f5d3634a-b23f-4c4f-a4bf-1c85cecc75a1",
   "metadata": {},
   "source": [
    "## Defining our Agents"
   ]
  },
  {
   "cell_type": "markdown",
   "id": "0b5c1c89-9ba3-48bb-b5b3-4e0f89e0328b",
   "metadata": {},
   "source": [
    "Our app will rely on agents to accomplish its goal, in this section, we will present the structure it will follow."
   ]
  },
  {
   "cell_type": "markdown",
   "id": "7028f51a-822d-4f49-a2f2-fcd05605d3e5",
   "metadata": {},
   "source": [
    "### 1. Financial & Research Task"
   ]
  },
  {
   "cell_type": "markdown",
   "id": "612227b5-dbc6-44b7-8064-88bb4a581b35",
   "metadata": {},
   "source": [
    "The first task will be to get the financial data about the chosen assets and compute some of their performance metrics, the second task will be to investigate reasons for this performance based on news headlines. Let's first provide a prompt for these tasks. Note that this time we will provide both of these prompts in a list for convenience:"
   ]
  },
  {
   "cell_type": "code",
   "execution_count": 7,
   "id": "983d999d-daf7-405d-b4ba-7d2d461cd3c9",
   "metadata": {},
   "outputs": [],
   "source": [
    "from datetime import datetime\n",
    "date_str = datetime.now().strftime(\"%Y-%m-%d\")\n",
    "\n",
    "stocks = \"AMD, NVDA\"\n",
    "\n",
    "financial_tasks = [\n",
    "    f\"\"\"Today is the {date_str}. \n",
    "    What are the current stock prices of {stocks}, and how is the performance over the past 6 months in terms of percentage change? \n",
    "    Start by retrieving the full name of each stock and use it for all future requests.\n",
    "    Prepare a figure of the normalized price of these stocks and save it to a file named normalized_prices.png. Include information about, if applicable: \n",
    "    * P/E ratio\n",
    "    * Forward P/E\n",
    "    * Dividends\n",
    "    * Price to book\n",
    "    * Debt/Eq\n",
    "    * ROE\n",
    "    * Analyze the correlation between the stocks\n",
    "    Do not use a solution that requires an API key.\n",
    "    If some of the data does not makes sense, such as a price of 0, change the query and re-try.\"\"\",\n",
    "\n",
    "    \"\"\"Investigate possible reasons of the stock performance leveraging market news headlines from Bing News or Google Search. Retrieve news headlines using python and return them. Use the full name stocks to retrieve headlines. Retrieve at least 10 headlines per stock. Do not use a solution that requires an API key.\"\"\",\n",
    "]"
   ]
  },
  {
   "cell_type": "code",
   "execution_count": 9,
   "id": "4e9d53dc-c325-42bd-8b43-2f475d388246",
   "metadata": {},
   "outputs": [
    {
     "data": {
      "text/plain": [
       "['Today is the 2024-10-08. \\n    What are the current stock prices of AMD, NVDA, and how is the performance over the past 6 months in terms of percentage change? \\n    Start by retrieving the full name of each stock and use it for all future requests.\\n    Prepare a figure of the normalized price of these stocks and save it to a file named normalized_prices.png. Include information about, if applicable: \\n    * P/E ratio\\n    * Forward P/E\\n    * Dividends\\n    * Price to book\\n    * Debt/Eq\\n    * ROE\\n    * Analyze the correlation between the stocks\\n    Do not use a solution that requires an API key.\\n    If some of the data does not makes sense, such as a price of 0, change the query and re-try.',\n",
       " 'Investigate possible reasons of the stock performance leveraging market news headlines from Bing News or Google Search. Retrieve news headlines using python and return them. Use the full name stocks to retrieve headlines. Retrieve at least 10 headlines per stock. Do not use a solution that requires an API key.']"
      ]
     },
     "execution_count": 9,
     "metadata": {},
     "output_type": "execute_result"
    }
   ],
   "source": [
    "financial_tasks # important to note: Do not use a solution that requires an API key"
   ]
  },
  {
   "cell_type": "markdown",
   "id": "67d52889-8934-4451-b7e5-67038efb5c74",
   "metadata": {},
   "source": [
    "We now need agents to perform these taks. We are going to define two agents to do so, a Financial agent, for the first task, and a Research agent, for the second task. Both agents will have to provide code that can perform each task, so these will be Assistant agents with LLM capability:"
   ]
  },
  {
   "cell_type": "code",
   "execution_count": 6,
   "id": "c40b4695-ede1-4e30-b889-e0a17c47c45c",
   "metadata": {},
   "outputs": [
    {
     "name": "stdout",
     "output_type": "stream",
     "text": [
      "[autogen.oai.client: 10-08 11:22:17] {184} WARNING - The API key specified is not a valid OpenAI format; it won't work with the OpenAI-hosted model.\n",
      "[autogen.oai.client: 10-08 11:22:17] {184} WARNING - The API key specified is not a valid OpenAI format; it won't work with the OpenAI-hosted model.\n"
     ]
    }
   ],
   "source": [
    "financial_assistant = autogen.AssistantAgent(\n",
    "    name=\"Financial_assistant\",\n",
    "    llm_config=llm_config,\n",
    ")\n",
    "research_assistant = autogen.AssistantAgent(\n",
    "    name=\"Researcher\",\n",
    "    llm_config=llm_config,\n",
    ")"
   ]
  },
  {
   "cell_type": "markdown",
   "id": "f0bd4731-52b3-4683-bc98-dec5fae17d22",
   "metadata": {},
   "source": [
    "At the end of this task, we will have the price data, performance metrics and a chart that shows normalized price evolution fot the specified assets. "
   ]
  },
  {
   "cell_type": "markdown",
   "id": "d0fac648-6cac-425e-80fa-672bdc44d0c8",
   "metadata": {},
   "source": [
    "### 2. Writing task"
   ]
  },
  {
   "cell_type": "markdown",
   "id": "d6bbe69b-0d22-44ca-b961-041801dcf03e",
   "metadata": {},
   "source": [
    "The second taks will be to write a first version of a report based on the data provided by the previous agents. Let's define the task:"
   ]
  },
  {
   "cell_type": "code",
   "execution_count": 11,
   "id": "4fe69792-628c-4315-bbf4-050bc97d876b",
   "metadata": {},
   "outputs": [],
   "source": [
    "writing_tasks = [\n",
    "        \"\"\"Develop an engaging financial report using all information provided, include the normalized_prices.png figure,\n",
    "        and other figures if provided.\n",
    "        Mainly rely on the information provided. \n",
    "        Create a table comparing all the fundamental ratios and data.\n",
    "        Provide comments and description of all the fundamental ratios and data.\n",
    "        Compare the stocks, consider their correlation and risks, provide a comparative analysis of the stocks.\n",
    "        Provide a summary of the recent news about each stock. \n",
    "        Ensure that you comment and summarize the news headlines for each stock, provide a comprehensive analysis of the news.\n",
    "        Provide connections between the news headlines provided and the fundamental ratios.\n",
    "        Provide an analysis of possible future scenarios. \n",
    "        \"\"\"]"
   ]
  },
  {
   "cell_type": "code",
   "execution_count": 13,
   "id": "15677c49-0786-46d4-aae3-19f5b8176f9d",
   "metadata": {},
   "outputs": [
    {
     "data": {
      "text/plain": [
       "['Develop an engaging financial report using all information provided, include the normalized_prices.png figure,\\n        and other figures if provided.\\n        Mainly rely on the information provided. \\n        Create a table comparing all the fundamental ratios and data.\\n        Provide comments and description of all the fundamental ratios and data.\\n        Compare the stocks, consider their correlation and risks, provide a comparative analysis of the stocks.\\n        Provide a summary of the recent news about each stock. \\n        Ensure that you comment and summarize the news headlines for each stock, provide a comprehensive analysis of the news.\\n        Provide connections between the news headlines provided and the fundamental ratios.\\n        Provide an analysis of possible future scenarios. \\n        ']"
      ]
     },
     "execution_count": 13,
     "metadata": {},
     "output_type": "execute_result"
    }
   ],
   "source": [
    "writing_tasks"
   ]
  },
  {
   "cell_type": "code",
   "execution_count": 14,
   "id": "4b98567b-a9a9-4352-bc01-a254895db06b",
   "metadata": {},
   "outputs": [
    {
     "name": "stdout",
     "output_type": "stream",
     "text": [
      "[autogen.oai.client: 10-08 13:00:03] {184} WARNING - The API key specified is not a valid OpenAI format; it won't work with the OpenAI-hosted model.\n"
     ]
    },
    {
     "data": {
      "text/plain": [
       "<autogen.agentchat.assistant_agent.AssistantAgent at 0x11abdef00>"
      ]
     },
     "execution_count": 14,
     "metadata": {},
     "output_type": "execute_result"
    }
   ],
   "source": [
    "# let's define an agent to work on the writing task\n",
    "writer = autogen.AssistantAgent(\n",
    "    name=\"writer\",\n",
    "    llm_config=llm_config,\n",
    "    system_message=\"\"\"\n",
    "        You are a professional writer, known for\n",
    "        your insightful and engaging finance reports.\n",
    "        You transform complex concepts into compelling narratives. \n",
    "        Include all metrics provided to you as context in your analysis.\n",
    "        Only answer with the financial report written in markdown directly, do not include a markdown language block indicator.\n",
    "        Only return your final work without additional comments.\n",
    "        \"\"\",\n",
    ")\n",
    "writer"
   ]
  },
  {
   "cell_type": "markdown",
   "id": "a9b6a660-f9a9-4d35-9fdc-dbe55443caa4",
   "metadata": {},
   "source": [
    "### 3. Refining the blogpost"
   ]
  },
  {
   "cell_type": "markdown",
   "id": "bb27917d-d5c2-49b6-86ce-23a2598c05e7",
   "metadata": {},
   "source": [
    "To refine the blogpost based on SEO, legal aspects and ethical aspects, we are going to use a nested chat that will be triggered when the Writer contacts the Critic. The Critic will trigger a nested chat with agents designed to optimize each aspect. A final agent in this nested chat, the Meta Reviewer, will summarize and assemble all reviews and send them back to the Critic, who'll transfer them to the Writer agent to prepare a refined version. Let's define all these agents:"
   ]
  },
  {
   "cell_type": "code",
   "execution_count": null,
   "id": "c210ae07-41be-42ce-b895-d572707e6dd6",
   "metadata": {},
   "outputs": [],
   "source": []
  }
 ],
 "metadata": {
  "kernelspec": {
   "display_name": "Python 3 (ipykernel)",
   "language": "python",
   "name": "python3"
  },
  "language_info": {
   "codemirror_mode": {
    "name": "ipython",
    "version": 3
   },
   "file_extension": ".py",
   "mimetype": "text/x-python",
   "name": "python",
   "nbconvert_exporter": "python",
   "pygments_lexer": "ipython3",
   "version": "3.12.6"
  }
 },
 "nbformat": 4,
 "nbformat_minor": 5
}
