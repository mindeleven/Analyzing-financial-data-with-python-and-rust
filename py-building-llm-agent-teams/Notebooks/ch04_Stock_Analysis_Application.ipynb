{
 "cells": [
  {
   "cell_type": "markdown",
   "id": "e1b3b7c5-1ef5-4fa2-b896-e3d2a55a45a1",
   "metadata": {},
   "source": [
    "# Building a Stock Analysis Application"
   ]
  },
  {
   "cell_type": "markdown",
   "id": "26e853ae-f1fd-4139-bad8-1fec90e0f997",
   "metadata": {},
   "source": [
    "*[Coding along with the Udemy online course AI Agents: Building Teams of LLM Agents that Work For You by Mohsen Hassan & Ilyass Tabiai]*"
   ]
  },
  {
   "cell_type": "markdown",
   "id": "f8362c85-ee04-4e47-bc6b-a71d85892da4",
   "metadata": {},
   "source": [
    "__The notebook here has the mere purpose of describing and explaining the code we're going to use, not of actually run the code.__"
   ]
  },
  {
   "cell_type": "code",
   "execution_count": 2,
   "id": "2bf35ad5-e727-4c04-b963-6b72a22174b2",
   "metadata": {},
   "outputs": [
    {
     "name": "stdout",
     "output_type": "stream",
     "text": [
      "Don't be a fool and send your api key to GitHub!\n"
     ]
    }
   ],
   "source": [
    "import pandas as pd\n",
    "api_key = pd.read_csv(\"~/tmp/chat_gpt/autogen_agent_1.txt\", sep=\" \", header=None)[0][0]\n",
    "llm_config = {\n",
    "    \"model\": \"gpt-4o\",\n",
    "    \"api_key\": api_key\n",
    "    }\n",
    "print(\"Don't be a fool and send your api key to GitHub!\")"
   ]
  },
  {
   "cell_type": "markdown",
   "id": "64f5ad09-1413-4580-a127-60b3dd917840",
   "metadata": {},
   "source": [
    "## Application: Financial Report"
   ]
  },
  {
   "cell_type": "markdown",
   "id": "3eeeb2ff-0c0f-4b7c-8986-a954e749857e",
   "metadata": {},
   "source": [
    "We are now going to write a complex streamlit app that will leverage agents to accomplish a specific task. We will later deploy this app on Google Cloud so that it gets a permanent link you can share with others to let them test your work."
   ]
  },
  {
   "cell_type": "markdown",
   "id": "c1c1d292-2085-4555-87cd-11563f1abad7",
   "metadata": {},
   "source": [
    "## Goals of our App"
   ]
  },
  {
   "cell_type": "markdown",
   "id": "7a88f1dd-6184-4507-bbbc-a3c81f24d18b",
   "metadata": {},
   "source": [
    "For this final example, we are going to create an app that re-uses some of the features we previously explored together. This app will do the following *(description and goals are from the Udemy course [AI Agents: Building Teams of LLM Agents that Work For You ](https://www.udemy.com/course/ai-agents-building-teams-of-llm-agents-that-work-for-you/) by Mohsen Hassan and Ilyass Tabiai, PhD.)*:\n",
    "\n",
    "* Takes as an input asset tickers\n",
    "* Downloads asset price data, analyzes them (correlations, returns, ...)\n",
    "* Retrieve or compute the following ratios:\n",
    "    * P/E ratio\n",
    "    * Forward P/E\n",
    "    * Dividends\n",
    "    * Price to book\n",
    "    * Debt/Eq\n",
    "    * ROE\n",
    "* Analyze the correlation between the stocks\n",
    "* Plot their normalized prices for comparison\n",
    "* Downloads the latest news headlines about these assets and then analyzes and summarizes these news headlines\n",
    "* Writes a financial report about these assets based on all this information\n",
    "    * **Legal reviewer**: Check that the content is legally compliant (in case we share it with others)\n",
    "    * **Text/Data alignment reviewer**: Check that the text content is aligned with the text written in the report\n",
    "    * **Consistency reviewer**: Check that the conclusion are consistent throughout the text and no contradictions are present\n",
    "    * **Completion reviewer**: Check that the report contains all the elements requested\n",
    "* Refines the report based on previous criticisms\n",
    "* Saves the final report to a mardown file with a normalized price chart\n"
   ]
  },
  {
   "cell_type": "code",
   "execution_count": null,
   "id": "171d0605-3697-4377-aead-ea5fc6c73190",
   "metadata": {},
   "outputs": [],
   "source": []
  }
 ],
 "metadata": {
  "kernelspec": {
   "display_name": "Python 3 (ipykernel)",
   "language": "python",
   "name": "python3"
  },
  "language_info": {
   "codemirror_mode": {
    "name": "ipython",
    "version": 3
   },
   "file_extension": ".py",
   "mimetype": "text/x-python",
   "name": "python",
   "nbconvert_exporter": "python",
   "pygments_lexer": "ipython3",
   "version": "3.12.6"
  }
 },
 "nbformat": 4,
 "nbformat_minor": 5
}
