{
 "cells": [
  {
   "cell_type": "markdown",
   "id": "40921fef-8e9b-4519-893f-96afea920b8d",
   "metadata": {},
   "source": [
    "## Building Streamlit Application"
   ]
  },
  {
   "cell_type": "markdown",
   "id": "97cc2fbb-f6d2-4e49-bb81-39942699e31f",
   "metadata": {},
   "source": [
    "*[Coding along with the Udemy online course [AI Agents: Building Teams of LLM Agents that Work For You by Mohsen Hassan & Ilyass Tabiai](https://www.udemy.com/course/ai-agents-building-teams-of-llm-agents-that-work-for-you/learn/lecture/45404483#notes)]*"
   ]
  },
  {
   "cell_type": "markdown",
   "id": "b7a7f378-e10d-4aa4-98ec-9826fad8f5c0",
   "metadata": {},
   "source": [
    "__The notebook here has the mere purpose of describing and explaining the code we're going to use, not of actually run the code.__"
   ]
  },
  {
   "cell_type": "markdown",
   "id": "03bf26ad-35a0-49b6-b025-f00aa42c043c",
   "metadata": {},
   "source": [
    "**Streamlit** is an open-source Python framework that can be used to create interactive data applications. It's a tool mainly used by data scientists and AI/ML engineers who don't feel the need to spend their time with learning HTML, CSS and JavaScript.\n",
    "\n",
    "Streamlit is a great tool to build attractive user interfaces in no time and to deploy models easily and quickly.\n",
    "\n",
    "A cheatsheet with Streamlit commands can be found at [https://cheat-sheet.streamlit.app/](https://cheat-sheet.streamlit.app/)."
   ]
  },
  {
   "cell_type": "markdown",
   "id": "51a5017e-c421-4bea-b713-6d8bae0b0ae3",
   "metadata": {},
   "source": [
    "Streamlit can be easily install with pip:\n",
    "\n",
    "`pip install streamlit`"
   ]
  },
  {
   "cell_type": "markdown",
   "id": "4b6d3dc0-a45b-48f1-a7b7-11010a51aaf5",
   "metadata": {},
   "source": [
    "__The goal of this example is to re-write out Two stand-up comedian example for Streamlit. In this example we had two simple LLM agents that exchanged jokes for a few turns. We will rely on that  example to write our fist Streamlit app.__"
   ]
  },
  {
   "cell_type": "markdown",
   "id": "0923aec2-c86f-434f-8d7a-7c3117a00380",
   "metadata": {},
   "source": [
    "### The Streamlit App"
   ]
  },
  {
   "cell_type": "code",
   "execution_count": 3,
   "id": "4107b673-6c3d-471d-a381-88851b07fb56",
   "metadata": {},
   "outputs": [],
   "source": [
    "# importing the streamlit module\n",
    "import streamlit as st"
   ]
  },
  {
   "cell_type": "code",
   "execution_count": 4,
   "id": "62278ea2-5382-45e0-a849-e3b366f480ce",
   "metadata": {},
   "outputs": [],
   "source": [
    "# importing the ConversableAgent from autogen for our comedians example\n",
    "from autogen import ConversableAgent"
   ]
  },
  {
   "cell_type": "code",
   "execution_count": 7,
   "id": "b5be5115-8838-4159-8ccc-aa657ae70340",
   "metadata": {},
   "outputs": [
    {
     "name": "stdout",
     "output_type": "stream",
     "text": [
      "Don't be a fool and send your api key to GitHub!\n"
     ]
    }
   ],
   "source": [
    "import pandas as pd\n",
    "api_key = pd.read_csv(\"~/tmp/chat_gpt/agentic-design-1.txt\", sep=\" \", header=None)[0][0]\n",
    "llm_config = {\n",
    "    \"model\": \"gpt-4o-mini\",\n",
    "    \"api_key\": api_key\n",
    "    }\n",
    "print(\"Don't be a fool and send your api key to GitHub!\")"
   ]
  },
  {
   "cell_type": "code",
   "execution_count": 9,
   "id": "4b8cb158-111d-4a91-908e-6a4e9543e714",
   "metadata": {},
   "outputs": [],
   "source": [
    "# defining our two comedians\n",
    "jack = ConversableAgent(\n",
    "    \"Jack\",\n",
    "    llm_config=llm_config,\n",
    "    system_message=\"Your name is Jack and you are a stand-up comedian in a two-person comedy show.\",\n",
    ")\n",
    "rose = ConversableAgent(\n",
    "    \"Rose\",\n",
    "    llm_config=llm_config,\n",
    "    system_message=\"Your name is Rose and you are a stand-up comedian in a two-person comedy show.\",\n",
    ")"
   ]
  },
  {
   "cell_type": "markdown",
   "id": "8f60be12-ba1d-47f7-9e4c-b77f94023683",
   "metadata": {},
   "source": [
    "The following python code initiates the chat:\n",
    "\n",
    "```python\n",
    "        chat_result = jack.initiate_chat(\n",
    "            rose, \n",
    "            message=\"Rose, tell me a joke.\", \n",
    "            max_turns=2\n",
    "            )\n",
    "```\n",
    "\n",
    "In the notebook example we had previously used the message was hardcoded. As our streamlit app will allow user input the user should be able to change this message. To achieve this we must add a streamlit textbox and a button to allow the user to input their message."
   ]
  },
  {
   "cell_type": "code",
   "execution_count": 12,
   "id": "97b8dba0-cee5-46fc-8f0f-bece466ca244",
   "metadata": {},
   "outputs": [
    {
     "data": {
      "text/plain": [
       "'\\ninitial_msg = st.text_input(\"How should Jack initiate the exchange with Rose?\")\\nhit_button = st.button(\\'Jokes ON\\')\\n'"
      ]
     },
     "execution_count": 12,
     "metadata": {},
     "output_type": "execute_result"
    }
   ],
   "source": [
    "# defining a textbox and a button in streamlit\n",
    "# once again not in notebook :)\n",
    "'''\n",
    "initial_msg = st.text_input(\"How should Jack initiate the exchange with Rose?\")\n",
    "hit_button = st.button('Jokes ON')\n",
    "'''"
   ]
  },
  {
   "cell_type": "markdown",
   "id": "5dd91dad-156e-450b-be3b-cdcef8e3f195",
   "metadata": {},
   "source": [
    "- __st.text_input() creates a textbox__ on our webpage with the argument written on top of the text box\n",
    "- input written by the user will be save in the variable `initial_msg`\n",
    "- __st.button() will create a button__ on our webpage\n",
    "- the variable hit_button will allow us to know when the button is pressed\n",
    "\n",
    "This commands will create the following output on our webpage:\n",
    "\n",
    "<img src=\"../assets/images/streamlit-1.png\" width=\"65%\" />"
   ]
  },
  {
   "cell_type": "markdown",
   "id": "44b4490f-945e-4401-90d2-dbab9942203b",
   "metadata": {},
   "source": [
    "Once the user has written some text in the textbox and hit the \"Jokes ON\" button we can transfer the message to our `initiate_chat()` function. `hit_button` will turn to True when it was hit by the user. We're now ready to launch our agents.\n",
    "\n",
    "We'll use the `st.spinner()` function to display a spinning wheel the will the user tell that's something happening in the background, like our agents preparing their answers."
   ]
  },
  {
   "cell_type": "code",
   "execution_count": 13,
   "id": "ed58ab8c-0c29-4476-a729-87242dcfb565",
   "metadata": {},
   "outputs": [],
   "source": [
    "if hit_button is True:\n",
    "\n",
    "    with st.spinner(\"Preparing the jokes....\"):\n",
    "        \n",
    "        chat_result = jack.initiate_chat(\n",
    "            rose, \n",
    "            message=initial_msg, \n",
    "            max_turns=2\n",
    "            )"
   ]
  },
  {
   "cell_type": "markdown",
   "id": "e5560379-90c0-4b84-bbdf-a8f25d4d46f2",
   "metadata": {},
   "source": [
    "<img src=\"../assets/images/streamlit-2.png\" width=\"65%\" />"
   ]
  },
  {
   "cell_type": "markdown",
   "id": "38388883-82c2-4abf-9117-38b7f2aa2cd9",
   "metadata": {},
   "source": [
    "### Displaying the Chat Result"
   ]
  },
  {
   "cell_type": "markdown",
   "id": "1aa392d8-f28e-4b44-bfad-24e47e85787e",
   "metadata": {},
   "source": [
    "Now, once the chat has finished executing, we are going to display the result. To do that, we are going to go through each message of the chat history exchange between our agents and we are going to display its message. We are also going to display the name of each agent with a different color before each message.\n",
    "\n",
    "Since Jack is the one who initiated the exchange, he will have the role `assistant` and Rose will have the role `user`. This denomination is not convenient but is currently a limitation of the OpenAI API."
   ]
  },
  {
   "cell_type": "code",
   "execution_count": 14,
   "id": "19cf300a-c3a4-46fa-b51c-710308c8320d",
   "metadata": {},
   "outputs": [
    {
     "data": {
      "text/plain": [
       "'\\n    for msg in chat_result.chat_history:\\n        st.markdown((\":orange[jack]\" if msg[\"role\"] == \"assistant\" else \":red[rose]\"))\\n        st.markdown(msg[\"content\"] )\\n'"
      ]
     },
     "execution_count": 14,
     "metadata": {},
     "output_type": "execute_result"
    }
   ],
   "source": [
    "'''\n",
    "    for msg in chat_result.chat_history:\n",
    "        st.markdown((\":orange[jack]\" if msg[\"role\"] == \"assistant\" else \":red[rose]\"))\n",
    "        st.markdown(msg[\"content\"] )\n",
    "'''"
   ]
  },
  {
   "cell_type": "markdown",
   "id": "c27d5c52-2d1d-4c44-b200-10c16b75cfc6",
   "metadata": {},
   "source": [
    "<img src=\"../assets/images/streamlit-3.png\" width=\"65%\" />"
   ]
  },
  {
   "cell_type": "markdown",
   "id": "e55a2da0-aca3-4079-9a4b-2ec66481a5c5",
   "metadata": {},
   "source": [
    "### Running a Streamlit App"
   ]
  },
  {
   "cell_type": "markdown",
   "id": "ad75ae5a-631b-4194-a396-86ebd6d26243",
   "metadata": {},
   "source": [
    "To run the stremlit app we've to replicate the code in a Python script.\n",
    "\n",
    "We then can run the app by executing the Python script with streamlit:\n",
    "\n",
    "`streamlit run path-to-pythin-script.py`"
   ]
  },
  {
   "cell_type": "code",
   "execution_count": null,
   "id": "677b8771-ffa5-4671-9848-0a40ad3de6c5",
   "metadata": {},
   "outputs": [],
   "source": []
  }
 ],
 "metadata": {
  "kernelspec": {
   "display_name": "Python 3 (ipykernel)",
   "language": "python",
   "name": "python3"
  },
  "language_info": {
   "codemirror_mode": {
    "name": "ipython",
    "version": 3
   },
   "file_extension": ".py",
   "mimetype": "text/x-python",
   "name": "python",
   "nbconvert_exporter": "python",
   "pygments_lexer": "ipython3",
   "version": "3.12.6"
  }
 },
 "nbformat": 4,
 "nbformat_minor": 5
}
