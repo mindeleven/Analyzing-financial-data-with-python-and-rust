{
 "cells": [
  {
   "cell_type": "markdown",
   "id": "40921fef-8e9b-4519-893f-96afea920b8d",
   "metadata": {},
   "source": [
    "## Building Streamlit Application"
   ]
  },
  {
   "cell_type": "markdown",
   "id": "97cc2fbb-f6d2-4e49-bb81-39942699e31f",
   "metadata": {},
   "source": [
    "*[Coding along with the Udemy online course AI Agents: Building Teams of LLM Agents that Work For You by Mohsen Hassan & Ilyass Tabiai]*"
   ]
  },
  {
   "cell_type": "markdown",
   "id": "b7a7f378-e10d-4aa4-98ec-9826fad8f5c0",
   "metadata": {},
   "source": [
    "__The notebook here has the mere purpose of describing and explaining the code we're going to use, not of actually run the code.__"
   ]
  },
  {
   "cell_type": "markdown",
   "id": "03bf26ad-35a0-49b6-b025-f00aa42c043c",
   "metadata": {},
   "source": [
    "**Streamlit** is an open-source Python framework that can be used to create interactive data applications. It's a tool mainly used by data scientists and AI/ML engineers who don't feel the need to spend their time with learning HTML, CSS and JavaScript.\n",
    "\n",
    "Streamlit is a great tool to build attractive user interfaces in no time and to deploy models easily and quickly.\n",
    "\n",
    "A cheatsheet with Streamlit commands can be found at [https://cheat-sheet.streamlit.app/](https://cheat-sheet.streamlit.app/)."
   ]
  },
  {
   "cell_type": "markdown",
   "id": "51a5017e-c421-4bea-b713-6d8bae0b0ae3",
   "metadata": {},
   "source": [
    "Streamlit can be easily install with pip:\n",
    "\n",
    "`pip install streamlit`"
   ]
  },
  {
   "cell_type": "markdown",
   "id": "4b6d3dc0-a45b-48f1-a7b7-11010a51aaf5",
   "metadata": {},
   "source": [
    "__The goal of this example is to re-write out Two stand-up comedian example for Streamlit. In this example we had two simple LLM agents that exchanged jokes for a few turns. We will rely on that  example to write our fist Streamlit app.__"
   ]
  },
  {
   "cell_type": "markdown",
   "id": "0923aec2-c86f-434f-8d7a-7c3117a00380",
   "metadata": {},
   "source": [
    "### The Streamlit App"
   ]
  },
  {
   "cell_type": "code",
   "execution_count": 3,
   "id": "4107b673-6c3d-471d-a381-88851b07fb56",
   "metadata": {},
   "outputs": [],
   "source": [
    "# importing the streamlit module\n",
    "import streamlit as st"
   ]
  },
  {
   "cell_type": "code",
   "execution_count": null,
   "id": "62278ea2-5382-45e0-a849-e3b366f480ce",
   "metadata": {},
   "outputs": [],
   "source": []
  }
 ],
 "metadata": {
  "kernelspec": {
   "display_name": "Python 3 (ipykernel)",
   "language": "python",
   "name": "python3"
  },
  "language_info": {
   "codemirror_mode": {
    "name": "ipython",
    "version": 3
   },
   "file_extension": ".py",
   "mimetype": "text/x-python",
   "name": "python",
   "nbconvert_exporter": "python",
   "pygments_lexer": "ipython3",
   "version": "3.12.6"
  }
 },
 "nbformat": 4,
 "nbformat_minor": 5
}
