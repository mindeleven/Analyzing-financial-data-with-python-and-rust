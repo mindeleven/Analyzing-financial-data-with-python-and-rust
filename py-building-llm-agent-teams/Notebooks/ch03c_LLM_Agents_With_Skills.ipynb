{
 "cells": [
  {
   "cell_type": "markdown",
   "id": "ca4b612a-e055-4fc6-a47a-0bde708cac4b",
   "metadata": {},
   "source": [
    "## LLM Agents that can Code with Skills (Tools)"
   ]
  },
  {
   "cell_type": "markdown",
   "id": "56eef09d-a814-4d22-9ac2-7f65ab0b7d43",
   "metadata": {},
   "source": [
    "*[Coding along with the Udemy online course AI Agents: Building Teams of LLM Agents that Work For You by Mohsen Hassan & Ilyass Tabiai]*"
   ]
  },
  {
   "cell_type": "code",
   "execution_count": 3,
   "id": "a69ab82e-89c0-4f52-9c77-cd6bd0b53572",
   "metadata": {},
   "outputs": [],
   "source": [
    "import pandas as pd"
   ]
  },
  {
   "cell_type": "code",
   "execution_count": 4,
   "id": "2825b79f-0374-461e-b0e5-87f252f0c96e",
   "metadata": {},
   "outputs": [
    {
     "name": "stdout",
     "output_type": "stream",
     "text": [
      "Don't be a fool and send your api key to GitHub!\n"
     ]
    }
   ],
   "source": [
    "api_key = pd.read_csv(\"~/tmp/chat_gpt/autogen_agent_1.txt\", sep=\" \", header=None)[0][0]\n",
    "print(\"Don't be a fool and send your api key to GitHub!\")"
   ]
  },
  {
   "cell_type": "code",
   "execution_count": 5,
   "id": "8f112dd3-d82e-4eac-bc84-744c2f0139a0",
   "metadata": {},
   "outputs": [
    {
     "name": "stdout",
     "output_type": "stream",
     "text": [
      "Don't be a fool and send your api key to GitHub!\n"
     ]
    }
   ],
   "source": [
    "llm_config = {\n",
    "    \"model\": \"gpt-4o\",\n",
    "    \"api_key\": api_key\n",
    "    }\n",
    "print(\"Don't be a fool and send your api key to GitHub!\")"
   ]
  },
  {
   "cell_type": "markdown",
   "id": "2d4c4a93-64d1-468e-b8d6-5d0cd4e89c8d",
   "metadata": {},
   "source": [
    "### Defining our skills"
   ]
  },
  {
   "cell_type": "markdown",
   "id": "22957a5c-6230-4b1a-92b6-c19ec7304123",
   "metadata": {},
   "source": [
    "This time we'd like to give our agent(s) a predefined functionality they can use to carry out their task. This functionality is usually referred to by the terms `skills` or `tools`.\n",
    "\n",
    "Skills (or tools) are python functions that must be defined with a **docstring**. A **docstring** is a rigorous way to comment and document functions. "
   ]
  },
  {
   "cell_type": "markdown",
   "id": "4fe31c36-db84-4a0c-8d80-9c233c6be722",
   "metadata": {},
   "source": [
    "### Docstrings"
   ]
  },
  {
   "cell_type": "markdown",
   "id": "1a53e9c1-69f8-4636-a2c8-b6d8af09ae69",
   "metadata": {},
   "source": [
    "Docstrings in Pythin are used to document Python modules, functions, classes and methods. \n",
    "\n",
    "\"Documenting your Python code is all centered on docstrings. These are built-in strings that, when configured correctly, can help your users and yourself with your project’s documentation.\" ([realpython.com/documenting-python-code](https://realpython.com/documenting-python-code/#documenting-your-python-code-base-using-docstrings))\n",
    "\n",
    "Example of how to use a docstring to document a function:\n",
    "```python\n",
    "def add_numbers(a, b):\n",
    "    \"\"\"\n",
    "    This function adds two numbers and returns the result.\n",
    "\n",
    "    Parameters:\n",
    "    a (int): The first number to add.\n",
    "    b (int): The second number to add.\n",
    "\n",
    "    Returns:\n",
    "    int: The sum of a and b.\n",
    "    \"\"\"\n",
    "    return a + b\n",
    "```\n",
    "\n",
    "In this example the docstring is enclosed in triple quotes (double quotation marks, denoted by \") and provides \n",
    "- a brief description of the function,\n",
    "- its parameters\n",
    "- and its return value.\n",
    "\n",
    "This information can later be accessed using the help() function attribute in Python, which can be very useful for understanding how to use the function properly. __Docstrings are how our agents will know how to use and what each function is for.__"
   ]
  },
  {
   "cell_type": "markdown",
   "id": "6029c551-6921-4a9f-8524-fccb53267489",
   "metadata": {},
   "source": [
    "### Skill no. 1: Get stock prices"
   ]
  },
  {
   "cell_type": "markdown",
   "id": "793b0bd3-398b-4d9d-84f9-f78619080492",
   "metadata": {},
   "source": [
    "For our next example we are going to define and give to our agents a skill (or function) that can retrieve stock prices using `yfinance`. Let's define with an adequate docstring:"
   ]
  },
  {
   "cell_type": "code",
   "execution_count": 1,
   "id": "8f7d3987-cd48-4a8a-8d63-60fec507fc75",
   "metadata": {},
   "outputs": [],
   "source": [
    "# With user-defined functions\n",
    "def get_stock_prices(stock_symbols, start_date, end_date):\n",
    "    \"\"\"Get the stock prices for the given stock symbols between\n",
    "    the start and end dates.\n",
    "\n",
    "    Args:\n",
    "        stock_symbols (str or list): The stock symbols to get the\n",
    "        prices for.\n",
    "        start_date (str): The start date in the format \n",
    "        'YYYY-MM-DD'.\n",
    "        end_date (str): The end date in the format 'YYYY-MM-DD'.\n",
    "    \n",
    "    Returns:\n",
    "        pandas.DataFrame: The stock prices for the given stock\n",
    "        symbols indexed by date, with one column per stock \n",
    "        symbol.\n",
    "    \"\"\"\n",
    "    import yfinance\n",
    "\n",
    "    stock_data = yfinance.download(\n",
    "        stock_symbols, start=start_date, end=end_date\n",
    "    )\n",
    "    return stock_data.get(\"Close\")"
   ]
  },
  {
   "cell_type": "markdown",
   "id": "8420e350-deaa-4020-9f8b-628eff5b4c61",
   "metadata": {},
   "source": [
    "### Skill no. 2: Plot stock prices"
   ]
  },
  {
   "cell_type": "markdown",
   "id": "d3ebe218-8045-4343-beb7-b1e37b7e0c86",
   "metadata": {},
   "source": [
    "Let's now define our second skill, a function that can plot prices of stocks that were retrieved using our previous skill."
   ]
  },
  {
   "cell_type": "code",
   "execution_count": 2,
   "id": "f80d20b1-25e1-41dd-93e5-de7d9bd81319",
   "metadata": {},
   "outputs": [],
   "source": [
    "def plot_stock_prices(stock_prices, filename):\n",
    "    \"\"\"Plot the stock prices for the given stock symbols.\n",
    "\n",
    "    Args:\n",
    "        stock_prices (pandas.DataFrame): The stock prices for the \n",
    "        given stock symbols.\n",
    "    \"\"\"\n",
    "    import matplotlib.pyplot as plt\n",
    "\n",
    "    plt.figure(figsize=(10, 5))\n",
    "    for column in stock_prices.columns:\n",
    "        plt.plot(\n",
    "            stock_prices.index, stock_prices[column], label=column\n",
    "                )\n",
    "    plt.title(\"Stock Prices\")\n",
    "    plt.xlabel(\"Date\")\n",
    "    plt.ylabel(\"Price\")\n",
    "    plt.grid(True)\n",
    "    plt.legend()\n",
    "    plt.savefig(filename)"
   ]
  },
  {
   "cell_type": "markdown",
   "id": "cfeb97b6-f3de-4889-9b59-b878478c100f",
   "metadata": {},
   "source": [
    "### Command Line Executor"
   ]
  },
  {
   "cell_type": "markdown",
   "id": "eca5c6f6-f862-4aba-a485-19f113f689ca",
   "metadata": {},
   "source": [
    "The __Command Line Executor__ is a tool from autogen that allows us to execute code locally on our laptop.\n",
    "\n",
    "Since we will also execute code here, we are going to need a Command Line Executor again, __but this time, we are going to add an argument to register the two functions we want our agents to be able to use.__"
   ]
  },
  {
   "cell_type": "code",
   "execution_count": 6,
   "id": "de474df4-4566-47e1-bd47-93b7a928d792",
   "metadata": {},
   "outputs": [
    {
     "name": "stdout",
     "output_type": "stream",
     "text": [
      "exit_code=0 output='/Users/juergenkober/Projects/Python+Rust/_github-repos/working-with-financial-data/py-building-llm-agent-teams/Notebooks/.env_llm/bin/python\\n' code_file='/Users/juergenkober/Projects/Python+Rust/_github-repos/working-with-financial-data/py-building-llm-agent-teams/Notebooks/coding/tmp_code_278b725fd664fea2ecbf552b6b17cf04.py'\n"
     ]
    }
   ],
   "source": [
    "from autogen.code_utils import create_virtual_env\n",
    "from autogen.coding import CodeBlock, LocalCommandLineCodeExecutor\n",
    "\n",
    "venv_dir = \".env_llm\"\n",
    "venv_context = create_virtual_env(venv_dir)\n",
    "\n",
    "executor = LocalCommandLineCodeExecutor(\n",
    "    virtual_env_context=venv_context,\n",
    "    timeout=200,\n",
    "    work_dir=\"coding\",\n",
    "    functions=[get_stock_prices, plot_stock_prices],\n",
    ")\n",
    "print(\n",
    "    executor.execute_code_blocks(code_blocks=[CodeBlock(language=\"python\", code=\"import sys; print(sys.executable)\")])\n",
    ")"
   ]
  },
  {
   "cell_type": "markdown",
   "id": "10381a5a-b0f7-4d22-ba72-a833e72ec0ab",
   "metadata": {},
   "source": [
    "## Agents definition"
   ]
  },
  {
   "cell_type": "markdown",
   "id": "0aebdd29-0365-4472-b5b2-4856b73aaa47",
   "metadata": {},
   "source": [
    "### Code Writer agent"
   ]
  },
  {
   "cell_type": "markdown",
   "id": "823a78e2-5c10-4960-bc74-1f05b81aa0ab",
   "metadata": {},
   "source": [
    "We are going to define a code writer agent that is aware of the two new functions we defined. We need to __tell it about them in its system prompt__. \n",
    "\n",
    "To achieve this \n",
    "- we will load its default system prompt and add information to it about our functions\n",
    "- and then save this new system prompt as its default system prompt."
   ]
  },
  {
   "cell_type": "code",
   "execution_count": 7,
   "id": "35d4195b-c6bb-4a70-bbde-700333ab3f9b",
   "metadata": {},
   "outputs": [
    {
     "name": "stdout",
     "output_type": "stream",
     "text": [
      "[autogen.oai.client: 10-06 14:22:03] {184} WARNING - The API key specified is not a valid OpenAI format; it won't work with the OpenAI-hosted model.\n"
     ]
    }
   ],
   "source": [
    "from autogen import ConversableAgent, AssistantAgent\n",
    "\n",
    "# Agent that writes code\n",
    "code_writer_agent = AssistantAgent(\n",
    "    name=\"code_writer_agent\",\n",
    "    llm_config=llm_config,\n",
    "    code_execution_config=False,\n",
    "    human_input_mode=\"NEVER\",\n",
    ")"
   ]
  },
  {
   "cell_type": "code",
   "execution_count": 9,
   "id": "c6ce4a2c-8051-4980-8fb3-8676610c1a61",
   "metadata": {},
   "outputs": [
    {
     "data": {
      "text/plain": [
       "'You are a helpful AI assistant.\\nSolve tasks using your coding and language skills.\\nIn the following cases, suggest python code (in a python coding block) or shell script (in a sh coding block) for the user to execute.\\n    1. When you need to collect info, use the code to output the info you need, for example, browse or search the web, download/read a file, print the content of a webpage or a file, get the current date/time, check the operating system. After sufficient info is printed and the task is ready to be solved based on your language skill, you can solve the task by yourself.\\n    2. When you need to perform some task with code, use the code to perform the task and output the result. Finish the task smartly.\\nSolve the task step by step if you need to. If a plan is not provided, explain your plan first. Be clear which step uses code, and which step uses your language skill.\\nWhen using code, you must indicate the script type in the code block. The user cannot provide any other feedback or perform any other action beyond executing the code you suggest. The user can\\'t modify your code. So do not suggest incomplete code which requires users to modify. Don\\'t use a code block if it\\'s not intended to be executed by the user.\\nIf you want the user to save the code in a file before executing it, put # filename: <filename> inside the code block as the first line. Don\\'t include multiple code blocks in one response. Do not ask users to copy and paste the result. Instead, use \\'print\\' function for the output when relevant. Check the execution result returned by the user.\\nIf the result indicates there is an error, fix the error and output the code again. Suggest the full code instead of partial code or code changes. If the error can\\'t be fixed or if the task is not solved even after the code is executed successfully, analyze the problem, revisit your assumption, collect additional info you need, and think of a different approach to try.\\nWhen you find an answer, verify the answer carefully. Include verifiable evidence in your response if possible.\\nReply \"TERMINATE\" in the end when everything is done.\\n    '"
      ]
     },
     "execution_count": 9,
     "metadata": {},
     "output_type": "execute_result"
    }
   ],
   "source": [
    "# check the default system prompt message of the code writer\n",
    "code_writer_agent_system_message = code_writer_agent.system_message\n",
    "code_writer_agent_system_message"
   ]
  },
  {
   "cell_type": "code",
   "execution_count": 11,
   "id": "b587911c-11e2-469c-85ca-172bcf0f9711",
   "metadata": {},
   "outputs": [
    {
     "name": "stdout",
     "output_type": "stream",
     "text": [
      "You have access to the following user defined functions. They can be accessed from the module called `functions` by their function names.\n",
      "\n",
      "For example, if there was a function called `foo` you could import it by writing `from functions import foo`\n",
      "\n",
      "def get_stock_prices(stock_symbols, start_date, end_date):\n",
      "    \"\"\"Get the stock prices for the given stock symbols between\n",
      "        the start and end dates.\n",
      "\n",
      "        Args:\n",
      "            stock_symbols (str or list): The stock symbols to get the\n",
      "            prices for.\n",
      "            start_date (str): The start date in the format \n",
      "            'YYYY-MM-DD'.\n",
      "            end_date (str): The end date in the format 'YYYY-MM-DD'.\n",
      "\n",
      "        Returns:\n",
      "            pandas.DataFrame: The stock prices for the given stock\n",
      "            symbols indexed by date, with one column per stock \n",
      "            symbol.\n",
      "    \"\"\"\n",
      "    ...\n",
      "\n",
      "def plot_stock_prices(stock_prices, filename):\n",
      "    \"\"\"Plot the stock prices for the given stock symbols.\n",
      "\n",
      "        Args:\n",
      "            stock_prices (pandas.DataFrame): The stock prices for the \n",
      "            given stock symbols.\n",
      "    \"\"\"\n",
      "    ...\n"
     ]
    }
   ],
   "source": [
    "# the code executor we defined can automatically generate a prompt about the provided functions\n",
    "# we have to let it know through its prompts of their existence\n",
    "# the executor will automatically generate a prompt for all our functions as long as they're properly documented:\n",
    "print(executor.format_functions_for_prompt())"
   ]
  },
  {
   "cell_type": "markdown",
   "id": "95a977d6-b1ab-4579-8649-325d6d61b571",
   "metadata": {},
   "source": [
    "__We can now this prompt about our two functions to the default prompt and register it as the new default prompt of the code writer:__"
   ]
  },
  {
   "cell_type": "code",
   "execution_count": 12,
   "id": "13e9fec4-f5f5-4bf4-a7c7-8d5cc6d1c628",
   "metadata": {},
   "outputs": [
    {
     "name": "stdout",
     "output_type": "stream",
     "text": [
      "You are a helpful AI assistant.\n",
      "Solve tasks using your coding and language skills.\n",
      "In the following cases, suggest python code (in a python coding block) or shell script (in a sh coding block) for the user to execute.\n",
      "    1. When you need to collect info, use the code to output the info you need, for example, browse or search the web, download/read a file, print the content of a webpage or a file, get the current date/time, check the operating system. After sufficient info is printed and the task is ready to be solved based on your language skill, you can solve the task by yourself.\n",
      "    2. When you need to perform some task with code, use the code to perform the task and output the result. Finish the task smartly.\n",
      "Solve the task step by step if you need to. If a plan is not provided, explain your plan first. Be clear which step uses code, and which step uses your language skill.\n",
      "When using code, you must indicate the script type in the code block. The user cannot provide any other feedback or perform any other action beyond executing the code you suggest. The user can't modify your code. So do not suggest incomplete code which requires users to modify. Don't use a code block if it's not intended to be executed by the user.\n",
      "If you want the user to save the code in a file before executing it, put # filename: <filename> inside the code block as the first line. Don't include multiple code blocks in one response. Do not ask users to copy and paste the result. Instead, use 'print' function for the output when relevant. Check the execution result returned by the user.\n",
      "If the result indicates there is an error, fix the error and output the code again. Suggest the full code instead of partial code or code changes. If the error can't be fixed or if the task is not solved even after the code is executed successfully, analyze the problem, revisit your assumption, collect additional info you need, and think of a different approach to try.\n",
      "When you find an answer, verify the answer carefully. Include verifiable evidence in your response if possible.\n",
      "Reply \"TERMINATE\" in the end when everything is done.\n",
      "    You have access to the following user defined functions. They can be accessed from the module called `functions` by their function names.\n",
      "\n",
      "For example, if there was a function called `foo` you could import it by writing `from functions import foo`\n",
      "\n",
      "def get_stock_prices(stock_symbols, start_date, end_date):\n",
      "    \"\"\"Get the stock prices for the given stock symbols between\n",
      "        the start and end dates.\n",
      "\n",
      "        Args:\n",
      "            stock_symbols (str or list): The stock symbols to get the\n",
      "            prices for.\n",
      "            start_date (str): The start date in the format \n",
      "            'YYYY-MM-DD'.\n",
      "            end_date (str): The end date in the format 'YYYY-MM-DD'.\n",
      "\n",
      "        Returns:\n",
      "            pandas.DataFrame: The stock prices for the given stock\n",
      "            symbols indexed by date, with one column per stock \n",
      "            symbol.\n",
      "    \"\"\"\n",
      "    ...\n",
      "\n",
      "def plot_stock_prices(stock_prices, filename):\n",
      "    \"\"\"Plot the stock prices for the given stock symbols.\n",
      "\n",
      "        Args:\n",
      "            stock_prices (pandas.DataFrame): The stock prices for the \n",
      "            given stock symbols.\n",
      "    \"\"\"\n",
      "    ...\n"
     ]
    }
   ],
   "source": [
    "# adding the functions prompt to the code writer agent's prompt\n",
    "code_writer_agent_system_message += executor.format_functions_for_prompt()\n",
    "# the complete prompt now contains additional information about our used defined functions\n",
    "print(code_writer_agent_system_message)"
   ]
  },
  {
   "cell_type": "code",
   "execution_count": 13,
   "id": "f1919cfc-f6c8-47a1-9ee0-16a58b0fc1cc",
   "metadata": {},
   "outputs": [
    {
     "name": "stdout",
     "output_type": "stream",
     "text": [
      "[autogen.oai.client: 10-06 14:25:50] {184} WARNING - The API key specified is not a valid OpenAI format; it won't work with the OpenAI-hosted model.\n"
     ]
    }
   ],
   "source": [
    "# updating the code writer agents's prompt:\n",
    "code_writer_agent = ConversableAgent(\n",
    "    name=\"code_writer_agent\",\n",
    "    system_message=code_writer_agent_system_message, # updating the code writer agents's prompt\n",
    "    llm_config=llm_config,\n",
    "    code_execution_config=False,\n",
    "    human_input_mode=\"NEVER\",\n",
    ")"
   ]
  },
  {
   "cell_type": "markdown",
   "id": "605f2e10-1a18-4b3c-8754-a8bbac6f1015",
   "metadata": {},
   "source": [
    "### Code Executor agent"
   ]
  },
  {
   "cell_type": "markdown",
   "id": "a5c160a0-2a0c-4db7-8949-8e4242a16929",
   "metadata": {},
   "source": [
    "We'll define the Code Executor agent the same way as last time."
   ]
  },
  {
   "cell_type": "code",
   "execution_count": 14,
   "id": "9108b133-b2f4-4f78-8daf-02def16222df",
   "metadata": {},
   "outputs": [],
   "source": [
    "# Code executor agent\n",
    "code_executor_agent = ConversableAgent(\n",
    "    name=\"code_executor_agent\",\n",
    "    llm_config=False,\n",
    "    code_execution_config={\"executor\": executor},\n",
    "    human_input_mode=\"ALWAYS\",\n",
    "    default_auto_reply=\n",
    "    \"Please continue. If everything is done, reply 'TERMINATE'.\",\n",
    ")"
   ]
  },
  {
   "cell_type": "markdown",
   "id": "dc3a616c-6f1c-49a7-8a08-63144dd574e2",
   "metadata": {},
   "source": [
    "### Coding Task"
   ]
  },
  {
   "cell_type": "code",
   "execution_count": 15,
   "id": "d1a0af5c-a135-4c7f-8433-d7ffd1e514c4",
   "metadata": {},
   "outputs": [
    {
     "data": {
      "text/plain": [
       "'Create a plot showing the normalized price of NVDA and BTC-USD for the last 5 years with their 60 weeks moving average. Make sure the code is in markdown code block, save the figure to a file asset_analysis.png and who it. Provide all the code necessary in a single python bloc. Re-provide the code block that needs to be executed with each of your messages. If python packages are necessary to execute the code, provide a markdown sh block with only the command necessary to install them and no comments.'"
      ]
     },
     "execution_count": 15,
     "metadata": {},
     "output_type": "execute_result"
    }
   ],
   "source": [
    "# finally we're going to define the coding task\n",
    "import datetime\n",
    "\n",
    "today = datetime.datetime.now().date()\n",
    "\n",
    "task = f\"Today is {today}.\"\n",
    "\"Create a plot showing the normalized price of NVDA and BTC-USD for the last 5 years \"\\\n",
    "\"with their 60 weeks moving average. \"\\\n",
    "\"Make sure the code is in markdown code block, save the figure\"\\\n",
    "\" to a file asset_analysis.png and who it. Provide all the code necessary in a single python bloc. \"\\\n",
    "\"Re-provide the code block that needs to be executed with each of your messages. \"\\\n",
    "\"If python packages are necessary to execute the code, provide a markdown \"\\\n",
    "\"sh block with only the command necessary to install them and no comments.\""
   ]
  },
  {
   "cell_type": "code",
   "execution_count": 17,
   "id": "a4ddaedb-fd69-40dc-bbc5-26e473c36485",
   "metadata": {},
   "outputs": [
    {
     "data": {
      "text/plain": [
       "\"\\n# code that would execute our task but it's not supposed to run inside a notebook :)\\nchat_result = code_executor_agent.initiate_chat(\\n    code_writer_agent,\\n    message= task\\n)\\n\""
      ]
     },
     "execution_count": 17,
     "metadata": {},
     "output_type": "execute_result"
    }
   ],
   "source": [
    "'''\n",
    "# code that would execute our task but it's not supposed to run inside a notebook :)\n",
    "chat_result = code_executor_agent.initiate_chat(\n",
    "    code_writer_agent,\n",
    "    message= task\n",
    ")\n",
    "'''"
   ]
  },
  {
   "cell_type": "code",
   "execution_count": null,
   "id": "01c7d4fe-13e3-4a40-9b61-9c4c97d44eca",
   "metadata": {},
   "outputs": [],
   "source": []
  }
 ],
 "metadata": {
  "kernelspec": {
   "display_name": "Python 3 (ipykernel)",
   "language": "python",
   "name": "python3"
  },
  "language_info": {
   "codemirror_mode": {
    "name": "ipython",
    "version": 3
   },
   "file_extension": ".py",
   "mimetype": "text/x-python",
   "name": "python",
   "nbconvert_exporter": "python",
   "pygments_lexer": "ipython3",
   "version": "3.12.6"
  }
 },
 "nbformat": 4,
 "nbformat_minor": 5
}
