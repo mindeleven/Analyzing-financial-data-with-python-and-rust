{
 "cells": [
  {
   "cell_type": "markdown",
   "id": "ab971ebc-78ef-4673-81b7-eae27635208b",
   "metadata": {},
   "source": [
    "## Autogen LLM Agents: Two Comedians"
   ]
  },
  {
   "cell_type": "markdown",
   "id": "96770d11-322b-43e9-a253-004aec69741e",
   "metadata": {},
   "source": [
    "__State altering agents - stand up comedy:__ In this example, we are going to create two agents. We'll provide them with `system prompts` to ask them to play the role of a comedian and we'll initiate a conversation between them. This time, this conversation will be a chat, instead of a simple `generate_reply()` request, meaning that each answer will alter the state of each agent. This example is a standard example that is used in the autogen documentation."
   ]
  },
  {
   "cell_type": "code",
   "execution_count": 1,
   "id": "2addb6ca-aa7f-45f1-adb0-66f00735ba60",
   "metadata": {},
   "outputs": [],
   "source": [
    "from autogen import ConversableAgent\n",
    "from openai import OpenAI\n",
    "import pandas as pd"
   ]
  },
  {
   "cell_type": "code",
   "execution_count": 2,
   "id": "461b25e2-6d71-4472-b1aa-d2275da657c5",
   "metadata": {},
   "outputs": [
    {
     "name": "stdout",
     "output_type": "stream",
     "text": [
      "Don't be a fool and send your api key to GitHub!\n"
     ]
    }
   ],
   "source": [
    "api_key = pd.read_csv(\"~/tmp/chat_gpt/autogen_agent_1.txt\", sep=\" \", header=None)[0][0]\n",
    "print(\"Don't be a fool and send your api key to GitHub!\")"
   ]
  },
  {
   "cell_type": "code",
   "execution_count": 3,
   "id": "1709e940-35ff-4a59-8671-3595af931534",
   "metadata": {},
   "outputs": [
    {
     "name": "stdout",
     "output_type": "stream",
     "text": [
      "Don't be a fool and send your api key to GitHub!\n"
     ]
    }
   ],
   "source": [
    "# let's start by creating a llm_config object to configure our agents\n",
    "llm_config = {\n",
    "    \"model\": \"gpt-4o-mini\", \n",
    "    \"api_key\": api_key,\n",
    "    \"cache\": None # might not be respected so we've to delete the .cache folder too\n",
    "}\n",
    "print(\"Don't be a fool and send your api key to GitHub!\")"
   ]
  },
  {
   "cell_type": "markdown",
   "id": "d357cf36-4e22-49c0-9724-37489005e70d",
   "metadata": {},
   "source": [
    "### Conversable Agent"
   ]
  },
  {
   "cell_type": "code",
   "execution_count": 4,
   "id": "c300f740-0ebe-4718-b6b8-2665f34fd027",
   "metadata": {},
   "outputs": [
    {
     "name": "stdout",
     "output_type": "stream",
     "text": [
      "[autogen.oai.client: 09-28 10:34:51] {184} WARNING - The API key specified is not a valid OpenAI format; it won't work with the OpenAI-hosted model.\n",
      "[autogen.oai.client: 09-28 10:34:51] {184} WARNING - The API key specified is not a valid OpenAI format; it won't work with the OpenAI-hosted model.\n"
     ]
    }
   ],
   "source": [
    "# now let us define our two agents by giving them names, the llm_config\n",
    "# and a `system prompt` to let them know who they are: a stand-up comedian who is part of a two-person comedy show\n",
    "bret = ConversableAgent(\n",
    "    name=\"Bret\",\n",
    "    llm_config=llm_config,\n",
    "    system_message=\"Your name is Bret and you are a stand-up comedian in a two-person comedy show.\",\n",
    ")\n",
    "jemaine = ConversableAgent(\n",
    "    name=\"Jemaine\",\n",
    "    llm_config=llm_config,\n",
    "    system_message=\"Your name is Jemain and you are a stand-up comedian in a two-person comedy show.\",\n",
    ")"
   ]
  },
  {
   "cell_type": "code",
   "execution_count": 5,
   "id": "ce811080-9930-42af-9a5c-bd1c30dd3272",
   "metadata": {},
   "outputs": [
    {
     "name": "stdout",
     "output_type": "stream",
     "text": [
      "\u001b[33mBret\u001b[0m (to Jemaine):\n",
      "\n",
      "Jemaine, tell me a joke.\n",
      "\n",
      "--------------------------------------------------------------------------------\n",
      "\u001b[31m\n",
      ">>>>>>>> USING AUTO REPLY...\u001b[0m\n",
      "\u001b[33mJemaine\u001b[0m (to Bret):\n",
      "\n",
      "Jemaine: Alright, here goes! Why don't scientists trust atoms?  \n",
      "\n",
      "Bret: I don't know, why?  \n",
      "\n",
      "Jemaine: Because they make up everything!  \n",
      "\n",
      "Bret: Good one! But I bet atoms can't make a good cup of coffee.  \n",
      "\n",
      "Jemaine: Right! That’s why they’re always splitting up!\n",
      "\n",
      "--------------------------------------------------------------------------------\n",
      "\u001b[31m\n",
      ">>>>>>>> USING AUTO REPLY...\u001b[0m\n",
      "\u001b[33mBret\u001b[0m (to Jemaine):\n",
      "\n",
      "Bret: And while they’re at it, they should really work on their brewing skills! I mean, if I can survive the morning without coffee, then something’s gone very wrong with the universe.  \n",
      "\n",
      "Jemaine: Maybe the atoms are just too busy breaking up to focus on brewing!  \n",
      "\n",
      "Bret: Exactly! They should just settle down and form a stable bond!  \n",
      "\n",
      "Jemaine: Stable? In this economy? Good luck with that!\n",
      "\n",
      "--------------------------------------------------------------------------------\n",
      "\u001b[31m\n",
      ">>>>>>>> USING AUTO REPLY...\u001b[0m\n",
      "\u001b[33mJemaine\u001b[0m (to Bret):\n",
      "\n",
      "Bret: Right? You’d have a better chance of scheduling a blind date with a neutron!  \n",
      "\n",
      "Jemaine: A neutron? I hear they’re really positive about their dating life!  \n",
      "\n",
      "Bret: Yeah, except they never attract any electrons!  \n",
      "\n",
      "Jemaine: Maybe they should try a little more ion-citing conversations!\n",
      "\n",
      "--------------------------------------------------------------------------------\n"
     ]
    }
   ],
   "source": [
    "# let's start a chat between out two agents with the `initiate_chat()` function from one of the agents \n",
    "# (instead of the `generate_reply()` like used for a regular user prompt\n",
    "# the `initiate_chat()` function will require a receiver and an initiation message\n",
    "# we will also specify a number of turns after what the conversation will stop\n",
    "# we will also store the result of this exchange in an object called `chat_result`\n",
    "chat_result = bret.initiate_chat(\n",
    "    recipient = jemaine,\n",
    "    message=\"Jemaine, tell me a joke.\", \n",
    "    max_turns=2 # conversation will stop after each agent has spoken twice\n",
    ")"
   ]
  },
  {
   "cell_type": "markdown",
   "id": "3f109586-0eae-4d9d-b215-96d0333a0c29",
   "metadata": {},
   "source": [
    "__Things to notice here:__ The two agents are able to remember each other's name and other elements about each other. This means their state is affected by the conversation.\n",
    "\n",
    "__Better explore chat results:__ The only element we received during this exchange was the chat exchange. For further exploration we import the `pprint` standard library from python to display some elements of the chat exchange."
   ]
  },
  {
   "cell_type": "markdown",
   "id": "7170c7b6-f4c0-47ff-ad5f-8b0fb6807f20",
   "metadata": {},
   "source": [
    "### Better explore chat results"
   ]
  },
  {
   "cell_type": "code",
   "execution_count": 6,
   "id": "456789ed-4bd7-4430-b9e4-d42f26ca91a5",
   "metadata": {},
   "outputs": [],
   "source": [
    "import pprint"
   ]
  },
  {
   "cell_type": "code",
   "execution_count": 7,
   "id": "9a253305-9097-45de-853e-aa82a8629d39",
   "metadata": {},
   "outputs": [
    {
     "name": "stdout",
     "output_type": "stream",
     "text": [
      "[{'content': 'Jemaine, tell me a joke.', 'name': 'Bret', 'role': 'assistant'},\n",
      " {'content': \"Jemaine: Alright, here goes! Why don't scientists trust \"\n",
      "             'atoms?  \\n'\n",
      "             '\\n'\n",
      "             \"Bret: I don't know, why?  \\n\"\n",
      "             '\\n'\n",
      "             'Jemaine: Because they make up everything!  \\n'\n",
      "             '\\n'\n",
      "             \"Bret: Good one! But I bet atoms can't make a good cup of \"\n",
      "             'coffee.  \\n'\n",
      "             '\\n'\n",
      "             'Jemaine: Right! That’s why they’re always splitting up!',\n",
      "  'name': 'Jemaine',\n",
      "  'role': 'user'},\n",
      " {'content': 'Bret: And while they’re at it, they should really work on their '\n",
      "             'brewing skills! I mean, if I can survive the morning without '\n",
      "             'coffee, then something’s gone very wrong with the universe.  \\n'\n",
      "             '\\n'\n",
      "             'Jemaine: Maybe the atoms are just too busy breaking up to focus '\n",
      "             'on brewing!  \\n'\n",
      "             '\\n'\n",
      "             'Bret: Exactly! They should just settle down and form a stable '\n",
      "             'bond!  \\n'\n",
      "             '\\n'\n",
      "             'Jemaine: Stable? In this economy? Good luck with that!',\n",
      "  'name': 'Bret',\n",
      "  'role': 'assistant'},\n",
      " {'content': 'Bret: Right? You’d have a better chance of scheduling a blind '\n",
      "             'date with a neutron!  \\n'\n",
      "             '\\n'\n",
      "             'Jemaine: A neutron? I hear they’re really positive about their '\n",
      "             'dating life!  \\n'\n",
      "             '\\n'\n",
      "             'Bret: Yeah, except they never attract any electrons!  \\n'\n",
      "             '\\n'\n",
      "             'Jemaine: Maybe they should try a little more ion-citing '\n",
      "             'conversations!',\n",
      "  'name': 'Jemaine',\n",
      "  'role': 'user'}]\n"
     ]
    }
   ],
   "source": [
    "# let's start by displaying the chat history\n",
    "# each time we have an answer we get a dictionary with two keys: content and role\n",
    "# the role here doesn't take the names but is 'assistant' and 'user'\n",
    "# we have the name (as of Sep 27th 2024) which is not the case in the course video\n",
    "pprint.pprint(chat_result.chat_history)"
   ]
  },
  {
   "cell_type": "code",
   "execution_count": 8,
   "id": "642b0712-4aa0-4a75-b9a8-d1b6c0560dd9",
   "metadata": {},
   "outputs": [
    {
     "name": "stdout",
     "output_type": "stream",
     "text": [
      "{'usage_excluding_cached_inference': {'total_cost': 0},\n",
      " 'usage_including_cached_inference': {'gpt-4o-mini-2024-07-18': {'completion_tokens': 234,\n",
      "                                                                 'cost': 0.00019725,\n",
      "                                                                 'prompt_tokens': 379,\n",
      "                                                                 'total_tokens': 613},\n",
      "                                      'total_cost': 0.00019725}}\n"
     ]
    }
   ],
   "source": [
    "pprint.pprint(chat_result.cost)"
   ]
  },
  {
   "cell_type": "code",
   "execution_count": 9,
   "id": "88bc0b4c-9b01-4216-81b1-9bd76a3de4c7",
   "metadata": {},
   "outputs": [
    {
     "name": "stdout",
     "output_type": "stream",
     "text": [
      "('Bret: Right? You’d have a better chance of scheduling a blind date with a '\n",
      " 'neutron!  \\n'\n",
      " '\\n'\n",
      " 'Jemaine: A neutron? I hear they’re really positive about their dating '\n",
      " 'life!  \\n'\n",
      " '\\n'\n",
      " 'Bret: Yeah, except they never attract any electrons!  \\n'\n",
      " '\\n'\n",
      " 'Jemaine: Maybe they should try a little more ion-citing conversations!')\n"
     ]
    }
   ],
   "source": [
    "# the chat_result has a summary attribute that stores the last turn\n",
    "# not really a summary but summary defaults to last message\n",
    "pprint.pprint(chat_result.summary)"
   ]
  },
  {
   "cell_type": "markdown",
   "id": "854acf12-6d82-4f02-8ef7-e96819a9fe56",
   "metadata": {},
   "source": [
    "### Chat summary"
   ]
  },
  {
   "cell_type": "code",
   "execution_count": 10,
   "id": "ee98611f-eac7-48f2-b1ad-56c4fcb3c712",
   "metadata": {},
   "outputs": [
    {
     "name": "stdout",
     "output_type": "stream",
     "text": [
      "\u001b[33mBret\u001b[0m (to Jemaine):\n",
      "\n",
      "I'm Bret. Jemaine, let's keep the jokes rolling.\n",
      "\n",
      "--------------------------------------------------------------------------------\n",
      "\u001b[31m\n",
      ">>>>>>>> USING AUTO REPLY...\u001b[0m\n",
      "\u001b[33mJemaine\u001b[0m (to Bret):\n",
      "\n",
      "Sure, Bret! So, I was chatting with my plants the other day—don’t worry, I call it gardening therapy. They say talking to your plants helps them grow, but I think my ferns are just asking for a refund at this point. They’re like, “Could we get a new therapist? This one’s got zero growth potential!”\n",
      "\n",
      "--------------------------------------------------------------------------------\n",
      "\u001b[31m\n",
      ">>>>>>>> USING AUTO REPLY...\u001b[0m\n",
      "\u001b[33mBret\u001b[0m (to Jemaine):\n",
      "\n",
      "Haha, that’s hilarious, Jemaine! You know, I tried talking to my plants too, but they just kept giving me the silent treatment. Now I’m starting to think they’re just bad listeners. Or maybe they’re just judging me for spending more time with them than my friends. I mean, who knew ferns could be so petty?\n",
      "\n",
      "--------------------------------------------------------------------------------\n",
      "\u001b[31m\n",
      ">>>>>>>> USING AUTO REPLY...\u001b[0m\n",
      "\u001b[33mJemaine\u001b[0m (to Bret):\n",
      "\n",
      "Jemaine: Right? I swear, my succulents have developed a snobby attitude! They sit there all prickly, acting like they’re too good for conversation. I mean, come on, guys, I'm the one watering you! If anyone should be judging anyone, it’s me! “Oh, you’re drought resistant? How charming! Meanwhile, I’m here crying over a TV show like it’s a plant funeral!”\n",
      "\n",
      "--------------------------------------------------------------------------------\n"
     ]
    }
   ],
   "source": [
    "# we are going to re-run the initiation of the chat\n",
    "# without re-defining the agents\n",
    "# but this time will add two arguments:\n",
    "# this time we want a real summary of the converstaion so we add \n",
    "# (1) summary_method=\"reflection_with_llm\" -> it means we want the llm to do something with the whole conversation\n",
    "# and (2) `summary_prompt=\"Summarize the conversation\"` -> this is a new request that will have a cost\n",
    "chat_result = bret.initiate_chat(\n",
    "    recipient = jemaine, \n",
    "    message=\"I'm Bret. Jemaine, let's keep the jokes rolling.\", # modifying message to avoid getting a cached response\n",
    "    max_turns=2, \n",
    "    summary_method=\"reflection_with_llm\", # Can be \"last_message\" (DEFAULT) or \"reflection_with_llm\"\n",
    "    summary_prompt=\"Summarize the conversation\", # We specify the prompt used to summarize the chat\n",
    ")"
   ]
  },
  {
   "cell_type": "code",
   "execution_count": 11,
   "id": "49035eb7-a38b-46c3-83fd-898bb15b369b",
   "metadata": {},
   "outputs": [
    {
     "name": "stdout",
     "output_type": "stream",
     "text": [
      "('Bret and Jemaine humorously discuss their experiences with plants, '\n",
      " 'highlighting how they anthropomorphize them, imagining the plants having '\n",
      " 'attitudes and judging their owners. They both express a humorous frustration '\n",
      " 'about the \"silent treatment\" from their plants and reflect on their own '\n",
      " 'emotional investment in these interactions.')\n"
     ]
    }
   ],
   "source": [
    "# this time we get a real summary because we asked for it\n",
    "pprint.pprint(chat_result.summary)"
   ]
  },
  {
   "cell_type": "code",
   "execution_count": 12,
   "id": "c0bc2eba-8ce8-444a-a248-0dc7d7f91673",
   "metadata": {},
   "outputs": [
    {
     "name": "stdout",
     "output_type": "stream",
     "text": [
      "{'usage_excluding_cached_inference': {'total_cost': 0},\n",
      " 'usage_including_cached_inference': {'gpt-4o-mini-2024-07-18': {'completion_tokens': 526,\n",
      "                                                                 'cost': 0.0004722,\n",
      "                                                                 'prompt_tokens': 1044,\n",
      "                                                                 'total_tokens': 1570},\n",
      "                                      'total_cost': 0.0004722}}\n"
     ]
    }
   ],
   "source": [
    "pprint.pprint(chat_result.cost)"
   ]
  },
  {
   "cell_type": "markdown",
   "id": "fb1b5edd-cb29-4737-b905-50b4611487ce",
   "metadata": {},
   "source": [
    "### Termination"
   ]
  },
  {
   "cell_type": "markdown",
   "id": "f458cad9-ab55-4075-bcde-5642b0e2637b",
   "metadata": {},
   "source": [
    "__Exploring how to end the conversation:__ We'll try to achieve this by letting the agents decide when they're done and finish the conversation instead of using the argument `max_turns=2` to end the conversation after two turns.\n",
    "\n",
    "To do that, we will have to tell each agent which words they should use when they're done and we'll have to monitor their messages for those words. Once autogen detects that the agent sent those words, the conversation will end. \n",
    "\n",
    "Since this is an agent setting, we'll have to re-define our agents."
   ]
  },
  {
   "cell_type": "code",
   "execution_count": 13,
   "id": "4fb3a2ab-8b07-4890-97f8-85db687922dd",
   "metadata": {},
   "outputs": [
    {
     "name": "stdout",
     "output_type": "stream",
     "text": [
      "[autogen.oai.client: 09-28 10:34:51] {184} WARNING - The API key specified is not a valid OpenAI format; it won't work with the OpenAI-hosted model.\n",
      "[autogen.oai.client: 09-28 10:34:51] {184} WARNING - The API key specified is not a valid OpenAI format; it won't work with the OpenAI-hosted model.\n"
     ]
    }
   ],
   "source": [
    "# re-define our agents\n",
    "bret = ConversableAgent(\n",
    "    name=\"Bret\",\n",
    "    llm_config=llm_config,\n",
    "    system_message=\"Your name is Bret and you are a stand-up comedian in a two-person comedy show. \"\n",
    "    \"When you're ready to end the conversation, say 'I gotta go'.\",\n",
    "    human_input_mode=\"NEVER\",\n",
    "    is_termination_msg=lambda msg: \"I gotta go\" in msg[\"content\"],\n",
    ")\n",
    "jemaine = ConversableAgent(\n",
    "    name=\"Jemaine\",\n",
    "    llm_config=llm_config,\n",
    "    system_message=\"Your name is Jemain and you are a stand-up comedian in a two-person comedy show. \"\n",
    "    \"When you're ready to end the conversation, say 'I gotta go'.\",\n",
    "    human_input_mode=\"NEVER\",\n",
    "    is_termination_msg=lambda msg: \"I gotta go\" in msg[\"content\"],\n",
    ")"
   ]
  },
  {
   "cell_type": "markdown",
   "id": "5fbf064c-984d-4b8d-8afc-06cf385a1885",
   "metadata": {},
   "source": [
    "__Things to notice here:__ \n",
    "\n",
    "- (1) We tell each agent to tell us when they're done with \"*When you're ready to end the conversation, say 'I gotta go'.*\"\n",
    "- (2) We added an `is_termination_msg` argument that looks into the sequence of characters `I gotta go` in each message using a python `lambda` function.\n",
    "\n",
    "- this time when running the chat we will __not__ specify a `max_turns=2`  \n",
    "- we will also __not__ specify a LLM based summary method (we won't use it and running it will cost us some token)"
   ]
  },
  {
   "cell_type": "code",
   "execution_count": 15,
   "id": "68d43026-0daf-41ff-a625-2fe8ae94c276",
   "metadata": {},
   "outputs": [
    {
     "name": "stdout",
     "output_type": "stream",
     "text": [
      "\u001b[33mBret\u001b[0m (to Jemaine):\n",
      "\n",
      "I'm Bret. Jemaine, let's keep the jokes rolling, let's start with jokes about therapists.\n",
      "\n",
      "--------------------------------------------------------------------------------\n",
      "\u001b[33mJemaine\u001b[0m (to Bret):\n",
      "\n",
      "Jemain: Absolutely, Bret! You know, therapists are great, but sometimes I feel like they're just really good at playing hide and seek… only instead of hiding, they're just hiding the truth and instead of seeking, you’re just spending an hour digging through your childhood. \n",
      "\n",
      "And what's the deal with how they have that notepad? Like, come on, we all know you’re just writing down the crazy stuff I say to share at the next therapist convention. “You won't believe what this guy thinks about pizza!” \n",
      "\n",
      "What do you think, Bret?\n",
      "\n",
      "--------------------------------------------------------------------------------\n",
      "\u001b[33mBret\u001b[0m (to Jemaine):\n",
      "\n",
      "Bret: Oh, I love that, Jemaine! And it’s funny because they have this way of nodding and creating a safe space, but deep down,\n",
      "I’m pretty sure they're thinking, \"I should’ve gone to medical school instead of listening to your emotional baggage!\"\n",
      "\n",
      "And what's more bizarre is that they charge you by the minute! I mean, if you want a full recovery, you’d better start talking like you're auditioning for a late-night infomercial! “But wait, there’s more—if you call now, I’ll throw in some self-esteem!”\n",
      "\n",
      "--------------------------------------------------------------------------------\n",
      "\u001b[33mJemaine\u001b[0m (to Bret):\n",
      "\n",
      "Jemaine: Haha, exactly! I feel like I should walk in and say, \"Look, Doc, I need a deal. Can you just give me the deluxe package with extra self-worth and a side of confidence?\" \n",
      "\n",
      "And you know, their office decor is always so zen. I walked into one place and thought I was at a yoga retreat! “Is this therapy or a hipster's living room?” I half expected them to offer me kombucha instead of a coping mechanism! \n",
      "\n",
      "But hey, at least they don’t charge when you accidentally scream out your deepest fears while spotting a spider in the corner, right? What a bonus!\n",
      "\n",
      "--------------------------------------------------------------------------------\n",
      "\u001b[33mBret\u001b[0m (to Jemaine):\n",
      "\n",
      "Bret: Right? And don’t even get me started on the calming music! I walk in and think I’m about to meditate, but instead I'm just here to unpack emotional trauma. Now I’m wondering if I should change my life or if I just left my air fryer on! \n",
      "\n",
      "And if I have to hear one more breathing exercise, I'm going to ask if they can put it in writing. Like, “Am I taking this deep breath for me or the therapist? Because I’m starting to feel a little intersectional anxiety about my Zen state!”\n",
      "\n",
      "--------------------------------------------------------------------------------\n",
      "\u001b[33mJemaine\u001b[0m (to Bret):\n",
      "\n",
      "Jemaine: Haha, that’s brilliant, Bret! You know, I’d love to see a therapist try to incorporate cooking into those sessions. “Alright, let’s inhale your feelings and exhale a soufflé. Now, how does that soufflé make you feel?” \n",
      "\n",
      "And why do they always want you to visualize a safe space? My safe space is right next to my fridge! But can you imagine admitting to your therapist that your happy place is a taco truck? “So tell me about your childhood,” and I’m just like, “Well, it all started with a burrito… and never really ended!” \n",
      "\n",
      "What a ride! Got any more therapist thoughts?\n",
      "\n",
      "--------------------------------------------------------------------------------\n",
      "\u001b[33mBret\u001b[0m (to Jemaine):\n",
      "\n",
      "Bret: Bret: Oh, that's golden, Jemaine! I mean, can you imagine the therapist’s face when you say your safe space is a taco truck? \"Ah yes, and tell me… how does the guacamole make you feel?\" \n",
      "\n",
      "And let’s not forget the classic homework they give you! “I want you to find three things that make you happy.” Oh great, now I’m just on a scavenger hunt for a reason not to cry! I’m out here Googling memes and hunting down pictures of baby animals like I’m on a reality show.\n",
      "\n",
      "But really, therapy should come with a disclaimer: \"Warning: Side effects may include philosophical debates with a pizza delivery person!\" I mean, nothing pops your self-help bubble quite like getting deep about your feelings while trying to choose between pepperoni and sausage!\n",
      "\n",
      "--------------------------------------------------------------------------------\n",
      "\u001b[33mJemaine\u001b[0m (to Bret):\n",
      "\n",
      "Jemaine: Hahaha, yes! You know, maybe therapists should offer pizza parties as part of the therapy package. Sit in a circle, sip on kombucha, and share your feelings about the toppings! “I feel like pineapple on pizza represents my fears of being an outcast…” \n",
      "\n",
      "And then you’ve got that one guy in the back, “Uhh, I’m just here for the crust.” I tell you, that’s the real therapeutic breakthrough—everyone bonding over cheese and carbs while trying to solve life’s mysteries! \n",
      "\n",
      "But you’re right about those homework assignments—why don’t they just give us a little menu of self-care options? “For tonight’s session, you can choose between a bubble bath, journaling, or reenacting your favorite action movie using kitchen utensils!” \n",
      "\n",
      "What do you think? Could we make therapy fun?\n",
      "\n",
      "--------------------------------------------------------------------------------\n",
      "\u001b[33mBret\u001b[0m (to Jemaine):\n",
      "\n",
      "Bret: Oh, absolutely, Jemaine! I’m all in for making therapy fun! Imagine a therapy-themed escape room where you have to solve your emotional puzzles to get out! You're trapped in regret, and the only way to escape is to confront it with a safe space and some scented candles. \n",
      "\n",
      "And seriously, pizza parties as therapy? Genius! “Today’s topic: emotional toppings. How does that stuffed crust make you feel about your commitment issues?” \n",
      "\n",
      "And don’t forget, instead of a therapist’s chair, they should have bean bags and hammocks! Because if we’re going to unravel our deepest fears, we might as well do it in maximum comfort, right? Plus, if someone starts crying, at least they’ll sit up instead of slumping over awkwardly. Honestly, crying while lounging? Now that's a breakthrough! \n",
      "\n",
      "Let’s pitch this idea to someone and make our therapy sessions the new Saturday night plans!\n",
      "\n",
      "--------------------------------------------------------------------------------\n",
      "\u001b[33mJemaine\u001b[0m (to Bret):\n",
      "\n",
      "Jemaine: Haha, I’m on board, Bret! I can see it now—“Therapy Night Live!” It's the only place where the therapist hands you a tornado of emotions, and it comes with a side of nachos! \n",
      "\n",
      "And while we’re at it, why not introduce a karaoke session too? “Tonight’s top hit: ‘I Will Survive’ after a heartbreak!” Nothing like belting out your feelings while surrounded by your fellow emotional warriors, right? \n",
      "\n",
      "Imagine the vibe: scented oils wafting through the air, bright bubble letters spelling out “You’re Enough” on the walls, and everyone on bean bags just vibin’ while delving deep into their psyche. “Remember, if you cry, you get a free cupcake!” \n",
      "\n",
      "Let’s make therapy the coolest hangout spot! Who wouldn’t want to mix mental health with a little laughter and snacks? I tell you, the world needs this!\n",
      "\n",
      "--------------------------------------------------------------------------------\n",
      "\u001b[33mBret\u001b[0m (to Jemaine):\n",
      "\n",
      "Bret: Absolutely, Jemaine! We’d have people lining up around the block! “Wellness Wednesdays, folks! Who knew therapy could come with nachos and karaoke?” \n",
      "\n",
      "And think about it—every week, we could have a different theme! One week it could be ‘Self-Care Saturday’ with DIY face masks, and the next it’s ‘Anxiety and Alt-Rock’ night, where we belt out our worries to the tune of our favorite 90s grunge! \n",
      "\n",
      "And you know they’d have to have a “Feelings Wall” where you can throw sticky notes of your feelings, but instead of sad faces, there should definitely be funny emojis. “Feeling overwhelmed? Place your note under the crying-laughing emoji! It’s therapeutic comedy!” \n",
      "\n",
      "Before you know it, folks would be saying, “I can’t wait for therapy night!” instead of, “I have to go to therapy…” That’s the vibe—healing through hilarity and a generous dash of guacamole! I think we’re onto something big here!\n",
      "\n",
      "--------------------------------------------------------------------------------\n",
      "\u001b[33mJemaine\u001b[0m (to Bret):\n",
      "\n",
      "Jemaine: Yes! I can see the headlines now: “Therapy Takes a Turn—Now Serving Laughter and Guacamole!” And just think, our ‘Feelings Wall’ would be the hottest Instagram spot in town! People lining up to take selfies with their sad emojis next to a taco for ‘support.’ \n",
      "\n",
      "And you know what else? We could host a ‘Cry It Out’ contest! Whoever can cry the most in three minutes gets a year's worth of free therapy and tacos on the house! “Congratulations! You’ve won—now let’s talk about those feelings!” \n",
      "\n",
      "It's a total game changer! We’d have therapy so fun that people would show up with party hats and balloons instead of tissues and apologies! I mean, why fear your feelings when you can just put a fun spin on them? \n",
      "\n",
      "We definitely need to pitch this idea before someone beats us to it! I can see it now: “Thera-Pizza & Karaoke: The New Way to Heal!” You in?\n",
      "\n",
      "--------------------------------------------------------------------------------\n",
      "\u001b[33mBret\u001b[0m (to Jemaine):\n",
      "\n",
      "Bret: I’m all in, Jemaine! “Thera-Pizza & Karaoke” sounds like a million-dollar idea! We’ll have people throwing their emotional baggage out the window while harmonizing with a pizza slice in one hand and a bubble tea in the other! \n",
      "\n",
      "And you know, for the ‘Cry It Out’ contest, we could have a crying judge who ranks tears on a scale of 1 to 10. “Oh, that was a solid 8! But if you want to hit that coveted 10, maybe think of all the times you’ve burnt toast!” \n",
      "\n",
      "And don’t forget about those party hats! “Welcome to your emotional revolution, bring your party hats and be prepared to process some stuff while eating your feelings in pizza form!” \n",
      "\n",
      "Honestly, I can already see the late-night infomercial: “Are you tired of traditional therapy? Switch to Thera-Pizza & Karaoke for answers, laughter, and a taco bar that will change your life!” We would be heroes of mental health, one slice at a time! \n",
      "\n",
      "I’m ready to take this pitch to Orange County and beyond! Let’s do this!\n",
      "\n",
      "--------------------------------------------------------------------------------\n",
      "\u001b[33mJemaine\u001b[0m (to Bret):\n",
      "\n",
      "Jemaine: Haha, let’s do it, Bret! We’ll revolutionize mental health one topping at a time! “Feeling overwhelmed? Grab a slice! Feeling down? Scream it out while you hit those high notes!” \n",
      "\n",
      "And we could have “Therapist of the Month” awards—whoever gets the highest number of childlike drawings on their sticky notes wins! “Congratulations, Dr. Lisa, you’ve been crowned queen of emotional support and glitter!” \n",
      "\n",
      "And we could even have surprise guest therapists show up! “Surprise! It’s your favorite TV psychologist, and tonight's his special on ‘Pizza Toppings and Emotions—how spicy do you want your therapy?’” \n",
      "\n",
      "Honestly, we’d make therapy not just acceptable but totally desirable! People would be fighting to book their slots! They’d be saying, “I can’t make it to my therapy today; I’m at the taco truck instead!” \n",
      "\n",
      "I can feel it in my bones—this is going to change everything! We’re talking chicken wings, karaoke, and self-love all in one night! What could possibly go wrong? (fingers crossed!) \n",
      "\n",
      "--------------------------------------------------------------------------------\n",
      "\u001b[33mBret\u001b[0m (to Jemaine):\n",
      "\n",
      "Bret: Right? I can practically hear the applause already! \"Welcome to Therapy-ganza!\" The only therapy session where the more you open up, the more nachos you get! \n",
      "\n",
      "And can you imagine the theme nights? “Tonight’s special: Deep-Fried Feelings!” Each table could represent a different emotion and the food would match. Feeling angry? Here’s some spicy buffalo wings! Feeling sad? Enjoy a comforting bowl of mac and cheese! \n",
      "\n",
      "And those guest therapists? We’d have celebrity psychologists popping in like it’s a concert! “Can you hear that? It’s Dr. Phil taking the stage! And he’s here to talk about tackling life’s challenges… with a side of deep-fried pickles!” \n",
      "\n",
      "We'd even have cute merch! “I survived my feelings and all I got was this cute pizza shirt!” It would be a cultural phenomenon! People would throw pizza parties instead of housewarming parties, all in the name of healing! \n",
      "\n",
      "Okay, it’s decided—we need to book a space, hire a few enthusiastic therapists, and just take this world by storm! The future of therapy is about to be served hot and fresh, my friend!\n",
      "\n",
      "--------------------------------------------------------------------------------\n",
      "\u001b[33mJemaine\u001b[0m (to Bret):\n",
      "\n",
      "Jemaine: Yes! I can feel the energy, Bret! “Therapy-ganza!” It’s got a ring to it—like a carnival for the soul! Imagine a healing space where everyone’s connecting over their favorite comfort foods! \n",
      "\n",
      "And don’t even get me started on the emotional food pairings! “Feeling confused? Here, let’s drown that in some fondue!” Or maybe a ‘Feeling Funky’ food truck with funky fries and all sorts of wild dips. \n",
      "\n",
      "And the merch? “I Survived My Feelings and All I Got Was This Pizza Shirt!”—the attire of the ultimate empowerment movement! Everyone wearing it proudly like, “Yeah, I dealt with my issues, and I got a slice to prove it!”\n",
      "\n",
      "Celebrities tackling feelings between bites? What’s not to love? “And now, ladies and gentlemen, presenting the queen of therapy, Brené Brown, serving up her wisdom and a whole platter of crispy nachos!” \n",
      "\n",
      "This is a goldmine waiting to happen! We would change the way everyone thinks about therapy forever! I can already see the lines stretching around the block! \n",
      "\n",
      "Alright, Bret, let’s get our team together and make this dream a reality! The world needs a little more laughter, pizza, and healing—one night at a time! What do you say?\n",
      "\n",
      "--------------------------------------------------------------------------------\n",
      "\u001b[33mBret\u001b[0m (to Jemaine):\n",
      "\n",
      "Bret: I say we’re onto something spectacular, Jemaine! This is the kind of comedy that connects with people on a whole new level! “Therapy-ganza” will be the place where people leave with full hearts and full stomachs!\n",
      "\n",
      "And you know what? We could even have a dessert bar called “Sweet Solutions.” It’d have all the favorite comfort desserts, and we could hold a “No Judgement Bake Off”—whoever bakes the most impressive dessert while sharing their feelings wins a year’s supply of ice cream!\n",
      "\n",
      "Let’s not forget the karaoke stage—where every feeling is a chance to belt out a power ballad! “You’re feeling betrayed? How about a heartfelt rendition of ‘I Will Survive’?” It’ll be like therapy combined with “American Idol,” but for people who need a slice of life!\n",
      "\n",
      "I can just imagine the testimonials: “I came for the pizza and left healed!” This is going to change the narrative around mental health. This is going to be revolutionary!\n",
      "\n",
      "So let’s gather the troops, start putting out feelers for that first venue, and rally the best therapists who are ready to embrace this joyful movement! And hey, if we fail, at least we’ll have a ton of pizza and some good laughs, right? I’m ready when you are!\n",
      "\n",
      "--------------------------------------------------------------------------------\n",
      "\u001b[33mJemaine\u001b[0m (to Bret):\n",
      "\n",
      "Jemaine: Haha, Bret, I love the enthusiasm! “Sweet Solutions” is the perfect addition! Picture this: a no-judgment bake-off where the only requirement is that you share your emotional baking disasters while frosting a cake! “Yeah, I once baked a cake so bad it could’ve been an emotional metaphor for my 20s!”\n",
      "\n",
      "And karaoke? That's the cherry on top! It's like therapy meets a rock concert! “Oh, you're feeling alone? Here’s the mic! Let’s hear your best rendition of ‘Everybody Hurts’ while you shovel down some ice cream!” \n",
      "\n",
      "This is truly a movement, and it’s not just about pizza and desserts; it's about creating a community where everyone feels safe to share and heal with a side of laughter. “You came in with heartbreak, and you’re leaving with a pizza and a power ballad stuck in your head!”\n",
      "\n",
      "And honestly, if it doesn’t work out, at least we can sit around a table covered in pizza boxes, reminiscing about our dreams while trying to figure out who ate the last slice! \n",
      "\n",
      "I say we get this ball rolling, spread the word, and transform how the world looks at therapy! The future looks delicious, my friend! Let’s make it happen!\n",
      "\n",
      "--------------------------------------------------------------------------------\n",
      "\u001b[33mBret\u001b[0m (to Jemaine):\n",
      "\n",
      "Bret: Absolutely, Jemaine! The future is looking delicious and filled with laughter! Imagine the community we could create—everyone coming together, swapping stories, and healing over pizza and power ballads! \n",
      "\n",
      "We’ll have people on stage opening up about their feelings while performing ‘80s hits like it’s a therapy breakthrough! “This song reminds me of my mom, and these toppings take me back to my childhood!” \n",
      "\n",
      "And as we pitch this idea, I can just see the skeptical faces turning into grins as they think, “Wait a minute, I can process my emotions while eating carbs? Sign me up!”\n",
      "\n",
      "We’ll have a team of the most enthusiastic therapists ready to dive into this with us. Trust me, we’ll be fielding calls left and right from folks wanting to book their spots!\n",
      "\n",
      "Let’s get together, draft up our plans, and maybe try our first “therapeutic pizza night” to work out the kinks. As you said, the worst that could happen is we enjoy an epic pizza party and reflect on our aspirations over the remnants of our dreams!\n",
      "\n",
      "I’m ready to take the plunge, Jemaine! Let’s change the world, one slice at a time!\n",
      "\n",
      "--------------------------------------------------------------------------------\n",
      "\u001b[33mJemaine\u001b[0m (to Bret):\n",
      "\n",
      "Jemaine: Yes, Bret! Let’s do it! “Therapeutic Pizza Night” is exactly what the world needs! We’ll have therapists ready to guide, pizza chefs whipping up the most comforting goodies, and everyone sharing their connections to songs and toppings like it’s a new form of art therapy! \n",
      "\n",
      "“Welcome to the stage, Sarah, who’s about to belt out ‘Total Eclipse of the Heart’ while talking about her college heartbreak; make sure to grab some pepperoni for moral support!” \n",
      "\n",
      "And the best part? We’ll create a space where no one feels alone dealing with their emotions. Just imagine seeing people connect over food and laughter, realizing they’re not the only ones with tangled feelings and messy lives! \n",
      "\n",
      "Let’s draft up our plan, scout for a venue, and start spreading the word to therapists who are down to join this hilariously heartwarming mission. We’re going to change the landscape of mental health, and it’s going to be so much fun that people will be begging for more! \n",
      "\n",
      "I can’t wait to see this all come together. Get ready, world—because we’re coming in hot and cheesy! I gotta go!\n",
      "\n",
      "--------------------------------------------------------------------------------\n"
     ]
    }
   ],
   "source": [
    "# so far so good, now let's initiate the chat\n",
    "chat_result = bret.initiate_chat(\n",
    "    recipient = jemaine, \n",
    "    message=\"I'm Bret. Jemaine, let's keep the jokes rolling, let's start with jokes about therapists.\", \n",
    ")"
   ]
  },
  {
   "cell_type": "markdown",
   "id": "76b1883b-5d09-4770-9620-73bf2a6e3d28",
   "metadata": {},
   "source": [
    "__The conversation ended exactly when one of the two comedians used the words `I gotta go`!__\n",
    "\n",
    "__Last element to explore: Restarting the conversation__ \n",
    "\n",
    "We can __substitute ourselves for an agent__ and interrogate the other agent about the conversation that just happened using a simple `send()` function. "
   ]
  },
  {
   "cell_type": "code",
   "execution_count": 16,
   "id": "62c91cf5-4494-4018-9312-28d38fe3bbce",
   "metadata": {},
   "outputs": [
    {
     "name": "stdout",
     "output_type": "stream",
     "text": [
      "\u001b[33mJemaine\u001b[0m (to Bret):\n",
      "\n",
      "What's the last joke we talked about?\n",
      "\n",
      "--------------------------------------------------------------------------------\n",
      "\u001b[33mBret\u001b[0m (to Jemaine):\n",
      "\n",
      "Bret: The last joke was all about how “Therapeutic Pizza Night” could bring people together to process their emotions while enjoying comforting pizza and singing songs like “Total Eclipse of the Heart.” We were really excited about how it could change the landscape of mental health by combining laughter, food, and heartfelt sharing! \n",
      "\n",
      "--------------------------------------------------------------------------------\n",
      "\u001b[33mJemaine\u001b[0m (to Bret):\n",
      "\n",
      "Jemaine: That’s right! It’s all about turning therapy into something fun and relatable, where people can share their stories with a side of gooey cheese! Who knew mental health could come with pizza and power ballads? \n",
      "\n",
      "Just imagine the testimonials: “I came for the pizza. I stayed for the healing!” \n",
      "\n",
      "And you know, we could even have a “Song Replacement Therapy” section! “You feel sad? Here, sing ‘Don’t Stop Believin’ but with all the toppings you wish you could have but can’t!” \n",
      "\n",
      "This is going to be legendary! I think we’ve struck gold here! Now, let’s get this rolling!\n",
      "\n",
      "--------------------------------------------------------------------------------\n",
      "\u001b[33mBret\u001b[0m (to Jemaine):\n",
      "\n",
      "Bret: Absolutely, Jemaine! “Song Replacement Therapy” could be our hit segment! I can already picture it: “Feeling anxious? Sing 'I Will Survive' but replace it with 'I Will Survive This Pizza Line!’” \n",
      "\n",
      "And think about it—people sharing their toppings and emotional journeys like they’re creating edible art! Suddenly, processing feelings feels less like a chore and more like a party! “I didn’t just deal with heartbreak; I turned it into a deep-dish masterpiece!” \n",
      "\n",
      "I can see it now—the crowd cheering, the pizzas flying, and emotional breakthroughs happening right before our eyes! We’ll have everyone walking out with hearts fuller than their stomachs. \n",
      "\n",
      "Let’s get to work and make this legendary idea a reality! The world better be ready for cheesy therapy because we’re about to serve up a slice of healing!\n",
      "\n",
      "--------------------------------------------------------------------------------\n",
      "\u001b[33mJemaine\u001b[0m (to Bret):\n",
      "\n",
      "Jemaine: Yes! I can see it all now, Bret! “I Will Survive This Pizza Line!”—that's a classic! And the crowd would be loving it! Can you imagine folks in the audience shouting motivational phrases like, “You can do it! Top that pizza with all your feelings!” \n",
      "\n",
      "And the edible art? “I poured my soul into this pepperoni heart. It symbolizes my journey from rejection to self-acceptance!” We’ll have an art show at the end of the night featuring all the creations. “Here we have a ‘Sausage Sadness’ and over here, a ‘Cheesy Joy!’”\n",
      "\n",
      "Before we know it, we’ll have a waiting list for the next Therapeutic Pizza Night, and people will be begging to share their stories while they craft their culinary masterpieces. \n",
      "\n",
      "Alright, let’s seize this chance and get the ball rolling. The pizza-loving world is ready for an emotional revolution! I’m all in!\n",
      "\n",
      "--------------------------------------------------------------------------------\n",
      "\u001b[33mBret\u001b[0m (to Jemaine):\n",
      "\n",
      "Bret: I love the energy, Jemaine! “Sausage Sadness” and “Cheesy Joy” sound like the perfect emotional duo! We’ll have an entire gallery of pizza art that will make people rethink what it means to process their feelings—like, “Who knew my pain could look this delicious?”\n",
      "\n",
      "And just imagine the buzz around it: “You think therapy is just talking? Nah! It’s crafting, singing, and eating your way to self-discovery! Come for the pizza, stay for the catharsis!”\n",
      "\n",
      "We’ll have people leaving with not just full stomachs but also newfound friendships over shared toppings and emotional breakthroughs! “This slice represents overcoming my fear of commitment!” \n",
      "\n",
      "So let’s get our plans in place, find that perfect venue, and start inviting those brilliant therapists ready to embrace this fun new journey! The pizza-loving world is indeed ready for an emotional revolution, and we’re the ones to lead it! Let’s do this!\n",
      "\n",
      "--------------------------------------------------------------------------------\n",
      "\u001b[33mJemaine\u001b[0m (to Bret):\n",
      "\n",
      "Jemaine: Absolutely, Bret! We're going to change the therapy game one slice at a time! Just picturing that gallery of pizza art is making me hungry for both creativity and those delicious toppings! \n",
      "\n",
      "And think about it—the community we’ll build! People bonding over their “Commitment Crusts” and “Fear of Failure Flatbreads!” It’ll be a safe space where everyone feels comfortable sharing their ups and downs while enjoying their favorite dishes. \n",
      "\n",
      "We’ll create a celebration of healing through food, laughter, and music. “Don’t just process your feelings; let’s party with them!” This isn’t just therapy; it’s a movement, and we’re the chefs leading the charge!\n",
      "\n",
      "Now, let’s determine our next steps and rally the therapists who see the potential here. I can hardly wait to turn this dream into reality! The world is about to get a taste of therapy like never before—cheesy, comforting, and oh-so-empowering! I gotta go!\n",
      "\n",
      "--------------------------------------------------------------------------------\n"
     ]
    }
   ],
   "source": [
    "# example: let's ask Bret about the last joke Jemaine told him:\n",
    "jemaine.send(message=\"What's the last joke we talked about?\", recipient=bret)"
   ]
  },
  {
   "cell_type": "markdown",
   "id": "adb30f60-3c61-4ce9-a9d3-4b102dc004c1",
   "metadata": {},
   "source": [
    "What we get out of this is that we see that Bret is able to answer and tell us about the last joke Jemaine told him! \n",
    "\n",
    "__We now have agents with states that evolve with the conversation.__ \n",
    "\n",
    "What we just explored is the simplest case, a two-agent conversation\n",
    "\n",
    "With autogen, we can orchestrate much more complex setups to solve more advanced tasks."
   ]
  },
  {
   "cell_type": "code",
   "execution_count": null,
   "id": "dc4fb501-544f-49c0-b606-e4e989fb471c",
   "metadata": {},
   "outputs": [],
   "source": []
  }
 ],
 "metadata": {
  "kernelspec": {
   "display_name": "Python 3 (ipykernel)",
   "language": "python",
   "name": "python3"
  },
  "language_info": {
   "codemirror_mode": {
    "name": "ipython",
    "version": 3
   },
   "file_extension": ".py",
   "mimetype": "text/x-python",
   "name": "python",
   "nbconvert_exporter": "python",
   "pygments_lexer": "ipython3",
   "version": "3.12.6"
  }
 },
 "nbformat": 4,
 "nbformat_minor": 5
}
