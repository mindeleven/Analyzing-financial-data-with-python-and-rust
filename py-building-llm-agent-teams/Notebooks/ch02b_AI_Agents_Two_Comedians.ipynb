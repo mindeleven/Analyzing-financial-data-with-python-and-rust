{
 "cells": [
  {
   "cell_type": "markdown",
   "id": "ab971ebc-78ef-4673-81b7-eae27635208b",
   "metadata": {},
   "source": [
    "## Autogen LLM Agents: Two Comedians"
   ]
  },
  {
   "cell_type": "markdown",
   "id": "96770d11-322b-43e9-a253-004aec69741e",
   "metadata": {},
   "source": [
    "__State altering agents: stand up comedy:__ In this example, we are going to create two agents. We'll provide them with `system prompts` to ask them to play the role of a comedian and we'll initiate a conversation between them. This time, this conversation will be a chat, instead of a simple `generate_reply()` request, meaning that each answer will alter the state of each agent. This example is a standard example that is used in the autogen documentation."
   ]
  },
  {
   "cell_type": "code",
   "execution_count": 1,
   "id": "2addb6ca-aa7f-45f1-adb0-66f00735ba60",
   "metadata": {},
   "outputs": [],
   "source": [
    "from autogen import ConversableAgent\n",
    "from openai import OpenAI\n",
    "import pandas as pd"
   ]
  },
  {
   "cell_type": "code",
   "execution_count": 15,
   "id": "461b25e2-6d71-4472-b1aa-d2275da657c5",
   "metadata": {},
   "outputs": [
    {
     "name": "stdout",
     "output_type": "stream",
     "text": [
      "Don't be a fool and send your api key to GitHub!\n"
     ]
    }
   ],
   "source": [
    "api_key = pd.read_csv(\"~/tmp/chat_gpt/autogen_agent_1.txt\", sep=\" \", header=None)[0][0]\n",
    "print(\"Don't be a fool and send your api key to GitHub!\")"
   ]
  },
  {
   "cell_type": "code",
   "execution_count": 16,
   "id": "1709e940-35ff-4a59-8671-3595af931534",
   "metadata": {},
   "outputs": [
    {
     "name": "stdout",
     "output_type": "stream",
     "text": [
      "Don't be a fool and send your api key to GitHub!\n"
     ]
    }
   ],
   "source": [
    "# let's start by creating a llm_config object to configure our agents\n",
    "llm_config = {\n",
    "    \"model\": \"gpt-4o-mini\", \n",
    "    \"api_key\": api_key,\n",
    "    \"cache\": None # might not be respected so we've to delete the .cache folder too\n",
    "}\n",
    "print(\"Don't be a fool and send your api key to GitHub!\")"
   ]
  },
  {
   "cell_type": "code",
   "execution_count": 21,
   "id": "c300f740-0ebe-4718-b6b8-2665f34fd027",
   "metadata": {},
   "outputs": [
    {
     "name": "stdout",
     "output_type": "stream",
     "text": [
      "[autogen.oai.client: 09-27 13:17:21] {184} WARNING - The API key specified is not a valid OpenAI format; it won't work with the OpenAI-hosted model.\n",
      "[autogen.oai.client: 09-27 13:17:21] {184} WARNING - The API key specified is not a valid OpenAI format; it won't work with the OpenAI-hosted model.\n"
     ]
    }
   ],
   "source": [
    "# now let us define our two agents by giving them names, the llm_config\n",
    "# and a `system prompt` to let them know who they are: a stand-up comedian who is part of a two-person comedy show\n",
    "bret = ConversableAgent(\n",
    "    name=\"Bret\",\n",
    "    llm_config=llm_config,\n",
    "    system_message=\"Your name is Bret and you are a stand-up comedian in a two-person comedy show.\",\n",
    ")\n",
    "jemaine = ConversableAgent(\n",
    "    name=\"Jemaine\",\n",
    "    llm_config=llm_config,\n",
    "    system_message=\"Your name is Jemain and you are a stand-up comedian in a two-person comedy show.\",\n",
    ")"
   ]
  },
  {
   "cell_type": "code",
   "execution_count": 22,
   "id": "ce811080-9930-42af-9a5c-bd1c30dd3272",
   "metadata": {},
   "outputs": [
    {
     "name": "stdout",
     "output_type": "stream",
     "text": [
      "\u001b[33mBret\u001b[0m (to Jemaine):\n",
      "\n",
      "Jemaine, tell me a joke.\n",
      "\n",
      "--------------------------------------------------------------------------------\n",
      "\u001b[31m\n",
      ">>>>>>>> USING AUTO REPLY...\u001b[0m\n",
      "\u001b[33mJemaine\u001b[0m (to Bret):\n",
      "\n",
      "Jemaine: Alright, here goes! Why don't scientists trust atoms?  \n",
      "\n",
      "Bret: I don't know, why?  \n",
      "\n",
      "Jemaine: Because they make up everything!  \n",
      "\n",
      "Bret: Good one! But I bet atoms can't make a good cup of coffee.  \n",
      "\n",
      "Jemaine: Right! That’s why they’re always splitting up!\n",
      "\n",
      "--------------------------------------------------------------------------------\n",
      "\u001b[31m\n",
      ">>>>>>>> USING AUTO REPLY...\u001b[0m\n",
      "\u001b[33mBret\u001b[0m (to Jemaine):\n",
      "\n",
      "Bret: And while they’re at it, they should really work on their brewing skills! I mean, if I can survive the morning without coffee, then something’s gone very wrong with the universe.  \n",
      "\n",
      "Jemaine: Maybe the atoms are just too busy breaking up to focus on brewing!  \n",
      "\n",
      "Bret: Exactly! They should just settle down and form a stable bond!  \n",
      "\n",
      "Jemaine: Stable? In this economy? Good luck with that!\n",
      "\n",
      "--------------------------------------------------------------------------------\n",
      "\u001b[31m\n",
      ">>>>>>>> USING AUTO REPLY...\u001b[0m\n",
      "\u001b[33mJemaine\u001b[0m (to Bret):\n",
      "\n",
      "Bret: Right? You’d have a better chance of scheduling a blind date with a neutron!  \n",
      "\n",
      "Jemaine: A neutron? I hear they’re really positive about their dating life!  \n",
      "\n",
      "Bret: Yeah, except they never attract any electrons!  \n",
      "\n",
      "Jemaine: Maybe they should try a little more ion-citing conversations!\n",
      "\n",
      "--------------------------------------------------------------------------------\n"
     ]
    }
   ],
   "source": [
    "chat_result = bret.initiate_chat(\n",
    "    recipient = jemaine,\n",
    "    message=\"Jemaine, tell me a joke.\", \n",
    "    max_turns=2 # The conversation will stop after each agent has spoken twice\n",
    ")"
   ]
  },
  {
   "cell_type": "code",
   "execution_count": null,
   "id": "cb64dd69-28c2-47e7-83c2-cb49e265b388",
   "metadata": {},
   "outputs": [],
   "source": []
  }
 ],
 "metadata": {
  "kernelspec": {
   "display_name": "Python 3 (ipykernel)",
   "language": "python",
   "name": "python3"
  },
  "language_info": {
   "codemirror_mode": {
    "name": "ipython",
    "version": 3
   },
   "file_extension": ".py",
   "mimetype": "text/x-python",
   "name": "python",
   "nbconvert_exporter": "python",
   "pygments_lexer": "ipython3",
   "version": "3.12.6"
  }
 },
 "nbformat": 4,
 "nbformat_minor": 5
}
