{
 "cells": [
  {
   "cell_type": "markdown",
   "id": "7f0db981-bbdb-498b-96c5-e52a7e105aec",
   "metadata": {},
   "source": [
    "## LLM Agents that can Code"
   ]
  },
  {
   "cell_type": "markdown",
   "id": "8c7c28c4-29ab-45d4-9596-7f467f5f9ed0",
   "metadata": {},
   "source": [
    "The notebook here has the mere purpose of describing and explaining the code we're going to use, not of actually run the code.\n",
    "\n",
    "The reason for this is that in this section we're going to ask our agents to write code and execute it for us. Therefore we'll execute scripts when it comes to code creation by agents. This has also the advantage that our code can be deployed to a cloud environment."
   ]
  },
  {
   "cell_type": "code",
   "execution_count": null,
   "id": "5edc9500-a323-4ad3-b8a8-47fa55b087a2",
   "metadata": {},
   "outputs": [],
   "source": [
    "import pandas as pd"
   ]
  },
  {
   "cell_type": "code",
   "execution_count": null,
   "id": "2492f63d-3512-4a27-a2aa-ba3b8f7616dc",
   "metadata": {},
   "outputs": [],
   "source": [
    "api_key = pd.read_csv(\"~/tmp/chat_gpt/autogen_agent_1.txt\", sep=\" \", header=None)[0][0]\n",
    "print(\"Don't be a fool and send your api key to GitHub!\")"
   ]
  },
  {
   "cell_type": "code",
   "execution_count": null,
   "id": "f0ea4ba5-9204-430f-ab02-e5d5eb46f72a",
   "metadata": {},
   "outputs": [],
   "source": [
    "llm_config = {\n",
    "    \"model\": \"gpt-4o\",\n",
    "    \"api_key\": api_key\n",
    "    }\n",
    "print(\"Don't be a fool and send your api key to GitHub!\")"
   ]
  },
  {
   "cell_type": "markdown",
   "id": "eb875655-4eee-4dc7-983c-c532127abaff",
   "metadata": {},
   "source": [
    "### Command Line Executor"
   ]
  },
  {
   "cell_type": "markdown",
   "id": "a0310ce7-bb65-4fc4-88dc-79a50d762e99",
   "metadata": {},
   "source": [
    "The __Command Line Executor__ is a tool from autogen that allows us to execute code locally on our laptop.\n",
    "\n",
    "This tool offers two differnt solutions for executing code: \n",
    "\n",
    "1. __Executing code in a Docker container:__ Inside Docker a virtualized version of a python machine will be created to execute the code. This version is more secure because the code always gets executed within a virtual machine. If the LLM generates malicious code it won't have a direct effect on our machine. \n",
    "\n",
    "2. __Executing code locally on your machine:__ This is the version (or solution we'll use here). We will be generate only simple code that and review it each time before execution. In addition we will specify that if the code hangs and nothing happens during 60 seconds we will interrupt it. All code should be executed and provide results in the `coding` folder."
   ]
  },
  {
   "cell_type": "code",
   "execution_count": null,
   "id": "a3f92458-d3af-4ed9-ac92-009c1228661d",
   "metadata": {},
   "outputs": [],
   "source": [
    "# importing from autogen what's needed for setting up a local executor environment for our agents\n",
    "from autogen.code_utils import create_virtual_env\n",
    "from autogen.coding import CodeBlock, LocalCommandLineCodeExecutor"
   ]
  },
  {
   "cell_type": "code",
   "execution_count": null,
   "id": "e759afec-cab1-4eef-8a8d-fe18afa68d32",
   "metadata": {},
   "outputs": [],
   "source": [
    "# we're going to ask the agent to execute its own virtual environment\n",
    "venv_dir = \".env_llm\"\n",
    "venv_context = create_virtual_env(venv_dir) # imported from autogen.code_utils\n",
    "\n",
    "# we don't see what the agent is doing while he's creating code so we set a timeout in case he got stuck somewhere, like in a loop\n",
    "executor = LocalCommandLineCodeExecutor(\n",
    "    virtual_env_context=venv_context,\n",
    "    timeout=200,\n",
    "    work_dir=\"coding\",\n",
    ")\n",
    "# printing out the Python used by the agent\n",
    "print(\n",
    "    executor.execute_code_blocks(code_blocks=[CodeBlock(language=\"python\", code=\"import sys; print(sys.executable)\")])\n",
    ")"
   ]
  },
  {
   "cell_type": "markdown",
   "id": "6856e0d7-2d8b-43c4-b249-46a67118a8ae",
   "metadata": {},
   "source": [
    "### Code Writer Agent"
   ]
  },
  {
   "cell_type": "markdown",
   "id": "89c5a3af-1f0b-47a9-901a-9fde0c1e045c",
   "metadata": {},
   "source": [
    "For the task of writing code we'll need two agents.\n",
    "\n",
    "> __Agent no. 1: Code Writer Agent.__ The **code_writer_agent** is our engineer who will get a task, think about how to solve the task and rely on ChatGPT to generate python code to accomplish the requested task. This agent is of the type `AssistantAgent` which is designed to write code."
   ]
  },
  {
   "cell_type": "code",
   "execution_count": null,
   "id": "22d04a87-601b-4aab-9891-29807df3f482",
   "metadata": {},
   "outputs": [],
   "source": [
    "from autogen import AssistantAgent"
   ]
  },
  {
   "cell_type": "code",
   "execution_count": null,
   "id": "58b3ac62-8966-42a4-9c03-9a9a7e1b9525",
   "metadata": {},
   "outputs": [],
   "source": [
    "# Defining the Code Writer Agent\n",
    "code_writer_agent = AssistantAgent(\n",
    "    name=\"code_writer_agent\",\n",
    "    llm_config=llm_config,\n",
    "    code_execution_config=False, # agent writes code but doesn't execute it\n",
    "    human_input_mode=\"NEVER\", # human input never necessary here\n",
    ")\n",
    "code_writer_agent"
   ]
  },
  {
   "cell_type": "markdown",
   "id": "0b0afb36-ad95-4696-b1a5-b07a6fc06536",
   "metadata": {},
   "source": [
    "The **Code Writer Agent** we created does not execute code (`code_execution_config=False`) and it doesn't need a system prompt message to tell it about his role. It has a default system prompt message that is designed to suggest the use of python code when it can help to solve the task.\n",
    "\n",
    "__Default system prompt message of the AssistantAgent:__\n",
    "\n",
    "> You are a helpful AI assistant.<br/>\n",
    "Solve tasks using your coding and language skills.<br/>\n",
    "In the following cases, suggest python code (in a python coding block) or shell script (in a sh coding block) for the user to execute.<br/>\n",
    "    1. When you need to collect info, use the code to output the info you need, for example, browse or search the web, download/read a file, print the content of a webpage or a file, get the current date/time, check the operating system. After sufficient info is printed and the task is ready to be solved based on your language skill, you can solve the task by yourself.<br/>\n",
    "    2. When you need to perform some task with code, use the code to perform the task and output the result. Finish the task smartly.\n",
    "Solve the task step by step if you need to. If a plan is not provided, explain your plan first. Be clear which step uses code, and which step uses your language skill.<br/>\n",
    "When using code, you must indicate the script type in the code block. The user cannot provide any other feedback or perform any other action beyond executing the code you suggest. The user can't modify your code. So do not suggest incomplete code which requires users to modify. Don't use a code block if it's not intended to be executed by the user.<br/>\n",
    "If you want the user to save the code in a file before executing it, put # filename: <filename> inside the code block as the first line. Don't include multiple code blocks in one response. Do not ask users to copy and paste the result. Instead, use 'print' function for the output when relevant. Check the execution result returned by the user.<br/>\n",
    "If the result indicates there is an error, fix the error and output the code again. Suggest the full code instead of partial code or code changes. If the error can't be fixed or if the task is not solved even after the code is executed successfully, analyze the problem, revisit your assumption, collect additional info you need, and think of a different approach to try.<br/>\n",
    "When you find an answer, verify the answer carefully. Include verifiable evidence in your response if possible.<br/>\n",
    "Reply \"TERMINATE\" in the end when everything is done.<br/>\n",
    "\n",
    "If we define a system prompt for this agent we overwrite the existing one."
   ]
  },
  {
   "cell_type": "code",
   "execution_count": null,
   "id": "9c712bca-6ea6-4d04-a26a-3238d6d5852e",
   "metadata": {},
   "outputs": [],
   "source": [
    "# let's have a look at the default system prompt message of this type of agent\n",
    "code_writer_agent_system_message = code_writer_agent.system_message\n",
    "print(code_writer_agent_system_message)"
   ]
  },
  {
   "cell_type": "markdown",
   "id": "0060b30d-484b-45b7-982d-727d956857f9",
   "metadata": {},
   "source": [
    "### Code Executor Agent"
   ]
  },
  {
   "cell_type": "markdown",
   "id": "34800014-33ae-47de-87e4-be6cd10e08dc",
   "metadata": {},
   "source": [
    "> __Agent no. 2: Code Executor Agent.__ The **code_executor_agent** does not use an LLM (`llm_config=False`), instead it will just execute the code it was provided with. The code execution will happen locally in the `coding` folder and the result of that code execution will be sent back as a reply.<br/><br/>\n",
    "> The **code_executor_agent** needs a `code_execution_config` to be able to execute code. We will provide it with the the configuration we defined earlier and that was called `executor` (`code_execution_config={\"executor\": executor}`).<br/><br/>\n",
    "> In addition to this we will give the **code_executor_agent** a default auto reply that it will use if the user does not have any additional details to provide.<br/><br/>\n",
    "> Each time this agent will execute some code it will request feedback from the user If the user does not provide any feedback, it will use the auto reply."
   ]
  },
  {
   "cell_type": "code",
   "execution_count": null,
   "id": "c06d1542-5a59-4661-9c6f-e31f14391056",
   "metadata": {},
   "outputs": [],
   "source": [
    "# the code_executor_agent is a ConversableAgent\n",
    "from autogen import ConversableAgent"
   ]
  },
  {
   "cell_type": "code",
   "execution_count": null,
   "id": "49c03037-24b5-43bb-af0e-19051d93f996",
   "metadata": {},
   "outputs": [],
   "source": [
    "# Defining the code executor agent\n",
    "code_executor_agent = ConversableAgent(\n",
    "    name=\"code_executor_agent\",\n",
    "    llm_config=False,\n",
    "    code_execution_config={\"executor\": executor},\n",
    "    human_input_mode=\"ALWAYS\",\n",
    "    default_auto_reply=\n",
    "    \"Please continue. If everything is done, reply 'TERMINATE'.\",\n",
    ")\n",
    "code_executor_agent"
   ]
  },
  {
   "cell_type": "markdown",
   "id": "f187d1ad-4b22-474d-95f9-a1524a92d8fb",
   "metadata": {},
   "source": [
    "### Defining the Coding Task"
   ]
  },
  {
   "cell_type": "markdown",
   "id": "94ef1018-c39b-43dd-9a66-be86f7a76e82",
   "metadata": {},
   "source": [
    "We will now ask our agents to perform a task that requires coding. \n",
    "\n",
    "1. The task will be provided to the Code Writer agent by the Code Executor agent\n",
    "\n",
    "2. The Code Writer agent will then propose a code that should fulfill the task\n",
    "\n",
    "3. The Code Executor agent will then execute that code and report back the resutl to the Code Writer.\n",
    "\n",
    "There might be several exchanges between these two agents until they accomplish the task.  \n",
    "\n",
    "For example, if a code error is encountered, the error will be reported to the Code Writer who'll propose a corrected version of the code.\n",
    "\n",
    "Let's prepare a simple task to test our code execution scheme. We want our agents to generate a plot that shows the price evolution of two assets, NVDA and BTC for the last 4 years in a way that makes it easy for us to compare them. We will also add the 50 weeks moving average."
   ]
  },
  {
   "cell_type": "code",
   "execution_count": null,
   "id": "f50a0b5d-c728-434c-bb3f-b94c55cece33",
   "metadata": {},
   "outputs": [],
   "source": [
    "import datetime\n",
    "\n",
    "today = datetime.datetime.now().date()\n",
    "\n",
    "message = f\"Today is {today}. \"\\\n",
    "\"Create a plot showing the normalized price of NVDA and BTC-USD for the last 4 years \"\\\n",
    "\"with their 50 weeks moving average. \"\\\n",
    "\"Make sure the code is in a markdown code block, save the figure\"\\\n",
    "\" to a file asset_analysis.png and show it. Provide all the code necessary in a single python bloc. \"\\\n",
    "\"Re-provide the code block that needs to be executed with each of your messages. \"\\\n",
    "\"If python packages are necessary to execute the code, provide a markdown \"\\\n",
    "\"sh block with only the command necessary to install them and no comments.\""
   ]
  },
  {
   "cell_type": "markdown",
   "id": "5c827020-d4bb-46ba-a32a-dc66a6a81270",
   "metadata": {},
   "source": [
    "During the execution, the executor might (and will most likely will especially if it is the first time) encounter some errors. For example, if you did not install the modules required by the code writer, you will get an error. You will most likely have to go install these packages yourself in your virtual environment, as we did when we installed `openai`. The agents might also just install the missing moduels themselves.\n",
    "\n",
    "For this task, the code writer will most likely require `matplotlib` and maybe (not necessarily) `pandas`. The LLMs will however tell you how to install missing packages as they will be able to interprete the output of the code and tell you how to fix it. "
   ]
  },
  {
   "cell_type": "code",
   "execution_count": null,
   "id": "a448020b-88e0-4dc4-b1ff-d81ee7fd1050",
   "metadata": {},
   "outputs": [],
   "source": [
    "chat_result = code_executor_agent.initiate_chat(\n",
    "    code_writer_agent,\n",
    "    message=message\n",
    ")"
   ]
  },
  {
   "cell_type": "markdown",
   "id": "90ec9efb-b0e9-4303-91ef-5ba27216ba5f",
   "metadata": {},
   "source": [
    "The code will now execute.\n",
    "\n",
    "Take the time to observe the interaction between the agents. Before executing the code provided by the Code Writer, you will be requested to provide feedback. That is an important safety feature. Always review the code written by an agent before executing it, you never know, there might be some malicious content. You can also provide feedback if you take something is wrong with the code. If not, you can just press Enter to let the Code Executor go ahead and execute the code."
   ]
  },
  {
   "cell_type": "code",
   "execution_count": null,
   "id": "5d980e2b-01ec-4457-bf4e-47ae94ca5add",
   "metadata": {},
   "outputs": [],
   "source": []
  }
 ],
 "metadata": {
  "kernelspec": {
   "display_name": "Python 3 (ipykernel)",
   "language": "python",
   "name": "python3"
  },
  "language_info": {
   "codemirror_mode": {
    "name": "ipython",
    "version": 3
   },
   "file_extension": ".py",
   "mimetype": "text/x-python",
   "name": "python",
   "nbconvert_exporter": "python",
   "pygments_lexer": "ipython3",
   "version": "3.12.6"
  }
 },
 "nbformat": 4,
 "nbformat_minor": 5
}
