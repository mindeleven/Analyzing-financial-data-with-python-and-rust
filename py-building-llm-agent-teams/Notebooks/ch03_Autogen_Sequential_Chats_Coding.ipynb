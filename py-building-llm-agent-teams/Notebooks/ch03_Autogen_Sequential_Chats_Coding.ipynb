{
 "cells": [
  {
   "cell_type": "markdown",
   "id": "5f7dd28e-c071-481e-bda8-23f6dfadb16a",
   "metadata": {},
   "source": [
    "## Autogen Sequential Chats Coding"
   ]
  },
  {
   "cell_type": "markdown",
   "id": "a06e6c43-8223-47d0-8d51-3e40ae66a24c",
   "metadata": {},
   "source": [
    "*[Coding along with the Udemy online course AI Agents: Building Teams of LLM Agents that Work For You by Mohsen Hassan & Ilyass Tabiai]*"
   ]
  },
  {
   "cell_type": "markdown",
   "id": "eb3be3ef-bb0a-4bb9-9dd1-adb37fc2f782",
   "metadata": {},
   "source": [
    "This example will cover how agents can be used to onboard users into a live chat system like the one you can find on an online app like your banking webiste or your phone provider webiste. We are going to use agents to gather specifc information about a user that needs help, we will then pass that information to human that will directly have a clear understanding of who requires help, where they're from and what their problem is, so that the human can immediately act on this information and help the user.\n",
    "\n",
    "To do so, we are going to create 3 agents:\n",
    "\n",
    "An Onboarding Personal Information Agent: this agent's goal is to get the name and location of the customer.\n",
    "An Onboarding Issue Agent: this agent's goal is to determine what the issue of the customer is.\n",
    "A Customer Engagement Agent: this agent will interact with the customer until a human agent can start interacting with the customer.\n",
    "To make things simpler, we will assume that these agents are deployed by a phone provider company called \"ACME\"."
   ]
  }
 ],
 "metadata": {
  "kernelspec": {
   "display_name": "Python 3 (ipykernel)",
   "language": "python",
   "name": "python3"
  },
  "language_info": {
   "codemirror_mode": {
    "name": "ipython",
    "version": 3
   },
   "file_extension": ".py",
   "mimetype": "text/x-python",
   "name": "python",
   "nbconvert_exporter": "python",
   "pygments_lexer": "ipython3",
   "version": "3.12.6"
  }
 },
 "nbformat": 4,
 "nbformat_minor": 5
}
