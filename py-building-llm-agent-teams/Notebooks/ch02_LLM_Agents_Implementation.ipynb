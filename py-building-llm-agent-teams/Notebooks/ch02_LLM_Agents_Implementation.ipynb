{
 "cells": [
  {
   "cell_type": "markdown",
   "id": "a46db97d-c50c-49cc-b535-7b2c5cdc2e8e",
   "metadata": {},
   "source": [
    "## Running a first script to interact with chatGPT"
   ]
  },
  {
   "cell_type": "code",
   "execution_count": 1,
   "id": "7cd4812a-ad88-4d1e-8349-b58a3345058d",
   "metadata": {},
   "outputs": [],
   "source": [
    "from openai import OpenAI\n",
    "import pandas as pd"
   ]
  },
  {
   "cell_type": "code",
   "execution_count": 2,
   "id": "02d25622-b33e-4e6c-a692-9e87777a8c98",
   "metadata": {},
   "outputs": [
    {
     "name": "stdout",
     "output_type": "stream",
     "text": [
      "Don't be a fool and send your api key to GitHub!\n"
     ]
    }
   ],
   "source": [
    "api_key = pd.read_csv(\"~/tmp/chat_gpt/agentic-design-1.txt\", sep=\" \", header=None)[0][0]\n",
    "print(\"Don't be a fool and send your api key to GitHub!\")"
   ]
  },
  {
   "cell_type": "code",
   "execution_count": 3,
   "id": "efa177db-efe5-4ce8-aa46-313ca88022e5",
   "metadata": {},
   "outputs": [],
   "source": [
    "client = OpenAI(api_key=api_key)"
   ]
  },
  {
   "cell_type": "code",
   "execution_count": 4,
   "id": "b8d0402e-edec-4c5f-ad3f-2b6bcca99a59",
   "metadata": {},
   "outputs": [
    {
     "data": {
      "text/plain": [
       "ChatCompletion(id='chatcmpl-AGlfhWZw8j2mOKGtfEFYdgwVTxT0i', choices=[Choice(finish_reason='stop', index=0, logprobs=None, message=ChatCompletionMessage(content='Orange.', refusal=None, role='assistant', function_call=None, tool_calls=None))], created=1728559861, model='gpt-4o-mini-2024-07-18', object='chat.completion', service_tier=None, system_fingerprint='fp_f85bea6784', usage=CompletionUsage(completion_tokens=2, prompt_tokens=20, total_tokens=22, completion_tokens_details=CompletionTokensDetails(reasoning_tokens=0), prompt_tokens_details={'cached_tokens': 0}))"
      ]
     },
     "execution_count": 4,
     "metadata": {},
     "output_type": "execute_result"
    }
   ],
   "source": [
    "# testing if our key is okay with a simple api call\n",
    "# if our API key is valid we should not get any error messages\n",
    "completion = client.chat.completions.create(\n",
    "    model=\"gpt-4o-mini\",\n",
    "    messages=[\n",
    "        {\"role\": \"user\", \"content\": \"In a single word, what is the color of an orange?\"}\n",
    "    ],\n",
    "    max_tokens=100,\n",
    ")\n",
    "completion"
   ]
  },
  {
   "cell_type": "markdown",
   "id": "fd1a5536-2156-47f5-9941-ac4dd96e47c5",
   "metadata": {},
   "source": [
    "## Building a message with different prompts"
   ]
  },
  {
   "cell_type": "markdown",
   "id": "c3a920c5-cf2b-4176-8bcc-b4c537aa1f41",
   "metadata": {},
   "source": [
    "## The system prompt\n",
    "\n",
    "An important difference with how you use chatGPT on your browser is that we'll specify a `system prompt` message.\n",
    "\n",
    "The `system prompt` basically asks chatGPT to adopt a certain role for the following conversation. \n",
    "We specify the system prompt with: `\"role\": \"system\"`. \n",
    "\n",
    "We then send a request using `\"role\": \"user\"`.\n",
    "\n",
    "## Sending our first request\n",
    "\n",
    "Let's ask chatGPT3.5 to answer a message while playing a specifc role, we'll use a standard example here.\n",
    "\n",
    "The **system prompt** is: \"*You are a poetic assistant, skilled in explaining complex programming concepts with creative flair.*\";  \n",
    "And the **message** is: \"*Compose a poem that explains the concept of recursion in programming.*\"\n",
    "\n",
    "*(All content here from the notebook accompanying the online course.)*"
   ]
  },
  {
   "cell_type": "code",
   "execution_count": 5,
   "id": "314219d4-cee6-4c7d-9105-a0013d9448e8",
   "metadata": {},
   "outputs": [],
   "source": [
    "completion = client.chat.completions.create(\n",
    "  model=\"gpt-4o-mini\",\n",
    "  messages=[\n",
    "    {\n",
    "        \"role\": \"system\", \n",
    "        \"content\": \"You are a poetic assistant, skilled in explaining complex programming concepts with creative flair.\"\n",
    "    },\n",
    "    {\n",
    "        \"role\": \"user\", \n",
    "        \"content\": \"Compose a poem that explains the concept of recursion in programming.\"\n",
    "    }\n",
    "  ]\n",
    ")"
   ]
  },
  {
   "cell_type": "code",
   "execution_count": 6,
   "id": "5a39ebe5-82a8-421c-9167-b8dfcfdc67dd",
   "metadata": {},
   "outputs": [
    {
     "data": {
      "text/plain": [
       "ChatCompletion(id='chatcmpl-AGlfhS9QkTym39iVqkaLwuOLTzO4V', choices=[Choice(finish_reason='stop', index=0, logprobs=None, message=ChatCompletionMessage(content='In the realm of code, where logic thrives,  \\nA curious dance of function derives,  \\nA wondrous loop, both simple and grand,  \\nLet me tell you of recursion, hand in hand.  \\n\\nImagine a forest, both deep and wide,  \\nA tree stands tall, in its branches, we hide.  \\nTo find our way down to the roots where it’s clear,  \\nWe’ll call on ourselves, have no need to fear.  \\n\\n“Dear function,” we say, “please go to the next,  \\nJust call me again, as you’ve done in the text.”  \\nWith each echoing call, we delve further still,  \\nUntil we reach base, where the trimmer hearts thrill.  \\n\\nThe base case—a light, a beacon, a guide,  \\nIt tells us to stop, to not further slide.  \\nWith criteria met, our journey must cease,  \\nNow we gather the answers, returning to peace.  \\n\\nEach answer bestowed, like whispers in air,  \\nWill weave through the branches, with utmost care.  \\nFrom leaves back to trunk, we ascend with the truth,  \\nA tapestry woven, in functions of youth.  \\n\\nSo here lies the beauty in this cyclic embrace,  \\nAn elegant method to conquer, to trace.  \\nIn problems profound, or tasks petite,  \\nRecursion reveals how solutions can meet.  \\n\\nOne call leads to another, a spiraled ballet,  \\nIn the heart of our logic, forever to stay.  \\nSo next time you ponder, “How do I proceed?”  \\nRemember recursion, your partner in need.', refusal=None, role='assistant', function_call=None, tool_calls=None))], created=1728559861, model='gpt-4o-mini-2024-07-18', object='chat.completion', service_tier=None, system_fingerprint='fp_f85bea6784', usage=CompletionUsage(completion_tokens=320, prompt_tokens=39, total_tokens=359, completion_tokens_details=CompletionTokensDetails(reasoning_tokens=0), prompt_tokens_details={'cached_tokens': 0}))"
      ]
     },
     "execution_count": 6,
     "metadata": {},
     "output_type": "execute_result"
    }
   ],
   "source": [
    "completion"
   ]
  },
  {
   "cell_type": "code",
   "execution_count": 7,
   "id": "73864c3f-f245-405c-9ff4-714a4e7a2dd5",
   "metadata": {},
   "outputs": [
    {
     "data": {
      "text/plain": [
       "ChatCompletionMessage(content='In the realm of code, where logic thrives,  \\nA curious dance of function derives,  \\nA wondrous loop, both simple and grand,  \\nLet me tell you of recursion, hand in hand.  \\n\\nImagine a forest, both deep and wide,  \\nA tree stands tall, in its branches, we hide.  \\nTo find our way down to the roots where it’s clear,  \\nWe’ll call on ourselves, have no need to fear.  \\n\\n“Dear function,” we say, “please go to the next,  \\nJust call me again, as you’ve done in the text.”  \\nWith each echoing call, we delve further still,  \\nUntil we reach base, where the trimmer hearts thrill.  \\n\\nThe base case—a light, a beacon, a guide,  \\nIt tells us to stop, to not further slide.  \\nWith criteria met, our journey must cease,  \\nNow we gather the answers, returning to peace.  \\n\\nEach answer bestowed, like whispers in air,  \\nWill weave through the branches, with utmost care.  \\nFrom leaves back to trunk, we ascend with the truth,  \\nA tapestry woven, in functions of youth.  \\n\\nSo here lies the beauty in this cyclic embrace,  \\nAn elegant method to conquer, to trace.  \\nIn problems profound, or tasks petite,  \\nRecursion reveals how solutions can meet.  \\n\\nOne call leads to another, a spiraled ballet,  \\nIn the heart of our logic, forever to stay.  \\nSo next time you ponder, “How do I proceed?”  \\nRemember recursion, your partner in need.', refusal=None, role='assistant', function_call=None, tool_calls=None)"
      ]
     },
     "execution_count": 7,
     "metadata": {},
     "output_type": "execute_result"
    }
   ],
   "source": [
    "completion.choices[0].message"
   ]
  },
  {
   "cell_type": "code",
   "execution_count": 8,
   "id": "619aea9c-ff7f-444b-b616-06106650fdd9",
   "metadata": {},
   "outputs": [
    {
     "name": "stdout",
     "output_type": "stream",
     "text": [
      "In the realm of code, where logic thrives,  \n",
      "A curious dance of function derives,  \n",
      "A wondrous loop, both simple and grand,  \n",
      "Let me tell you of recursion, hand in hand.  \n",
      "\n",
      "Imagine a forest, both deep and wide,  \n",
      "A tree stands tall, in its branches, we hide.  \n",
      "To find our way down to the roots where it’s clear,  \n",
      "We’ll call on ourselves, have no need to fear.  \n",
      "\n",
      "“Dear function,” we say, “please go to the next,  \n",
      "Just call me again, as you’ve done in the text.”  \n",
      "With each echoing call, we delve further still,  \n",
      "Until we reach base, where the trimmer hearts thrill.  \n",
      "\n",
      "The base case—a light, a beacon, a guide,  \n",
      "It tells us to stop, to not further slide.  \n",
      "With criteria met, our journey must cease,  \n",
      "Now we gather the answers, returning to peace.  \n",
      "\n",
      "Each answer bestowed, like whispers in air,  \n",
      "Will weave through the branches, with utmost care.  \n",
      "From leaves back to trunk, we ascend with the truth,  \n",
      "A tapestry woven, in functions of youth.  \n",
      "\n",
      "So here lies the beauty in this cyclic embrace,  \n",
      "An elegant method to conquer, to trace.  \n",
      "In problems profound, or tasks petite,  \n",
      "Recursion reveals how solutions can meet.  \n",
      "\n",
      "One call leads to another, a spiraled ballet,  \n",
      "In the heart of our logic, forever to stay.  \n",
      "So next time you ponder, “How do I proceed?”  \n",
      "Remember recursion, your partner in need.\n"
     ]
    }
   ],
   "source": [
    "print(completion.choices[0].message.content)"
   ]
  },
  {
   "cell_type": "code",
   "execution_count": null,
   "id": "bfa6c2d2-b745-48e6-ab50-a3fb598e4f37",
   "metadata": {},
   "outputs": [],
   "source": []
  }
 ],
 "metadata": {
  "kernelspec": {
   "display_name": "Python 3 (ipykernel)",
   "language": "python",
   "name": "python3"
  },
  "language_info": {
   "codemirror_mode": {
    "name": "ipython",
    "version": 3
   },
   "file_extension": ".py",
   "mimetype": "text/x-python",
   "name": "python",
   "nbconvert_exporter": "python",
   "pygments_lexer": "ipython3",
   "version": "3.12.6"
  }
 },
 "nbformat": 4,
 "nbformat_minor": 5
}
