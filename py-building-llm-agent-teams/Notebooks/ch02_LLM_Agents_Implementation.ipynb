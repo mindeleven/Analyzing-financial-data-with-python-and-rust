{
 "cells": [
  {
   "cell_type": "markdown",
   "id": "a46db97d-c50c-49cc-b535-7b2c5cdc2e8e",
   "metadata": {},
   "source": [
    "## Running a first script to interact with chatGPT"
   ]
  },
  {
   "cell_type": "code",
   "execution_count": 1,
   "id": "7cd4812a-ad88-4d1e-8349-b58a3345058d",
   "metadata": {},
   "outputs": [],
   "source": [
    "from openai import OpenAI\n",
    "import pandas as pd"
   ]
  },
  {
   "cell_type": "code",
   "execution_count": 4,
   "id": "02d25622-b33e-4e6c-a692-9e87777a8c98",
   "metadata": {},
   "outputs": [
    {
     "name": "stdout",
     "output_type": "stream",
     "text": [
      "Don't be a fool and send your api key to GitHub!\n"
     ]
    }
   ],
   "source": [
    "api_key = pd.read_csv(\"~/tmp/chat_gpt/gippity_key_1.txt\", sep=\" \", header=None)[0][0]\n",
    "print(\"Don't be a fool and send your api key to GitHub!\")"
   ]
  },
  {
   "cell_type": "code",
   "execution_count": 5,
   "id": "efa177db-efe5-4ce8-aa46-313ca88022e5",
   "metadata": {},
   "outputs": [],
   "source": [
    "client = OpenAI(api_key=api_key)"
   ]
  },
  {
   "cell_type": "code",
   "execution_count": 6,
   "id": "b8d0402e-edec-4c5f-ad3f-2b6bcca99a59",
   "metadata": {},
   "outputs": [
    {
     "data": {
      "text/plain": [
       "ChatCompletion(id='chatcmpl-ABznRCCtFgfS2dHekKIrRDiWZhiCV', choices=[Choice(finish_reason='stop', index=0, logprobs=None, message=ChatCompletionMessage(content='Orange.', refusal=None, role='assistant', function_call=None, tool_calls=None))], created=1727422517, model='gpt-4o-mini-2024-07-18', object='chat.completion', service_tier=None, system_fingerprint='fp_f85bea6784', usage=CompletionUsage(completion_tokens=2, prompt_tokens=20, total_tokens=22, completion_tokens_details=CompletionTokensDetails(reasoning_tokens=0)))"
      ]
     },
     "execution_count": 6,
     "metadata": {},
     "output_type": "execute_result"
    }
   ],
   "source": [
    "# testing if our key is okay with a simple api call\n",
    "# if our API key is valid we should not get any error messages\n",
    "completion = client.chat.completions.create(\n",
    "    model=\"gpt-4o-mini\",\n",
    "    messages=[\n",
    "        {\"role\": \"user\", \"content\": \"In a single word, what is the color of an orange?\"}\n",
    "    ],\n",
    "    max_tokens=100,\n",
    ")\n",
    "completion"
   ]
  },
  {
   "cell_type": "markdown",
   "id": "fd1a5536-2156-47f5-9941-ac4dd96e47c5",
   "metadata": {},
   "source": [
    "## Building a message with different prompts"
   ]
  },
  {
   "cell_type": "markdown",
   "id": "c3a920c5-cf2b-4176-8bcc-b4c537aa1f41",
   "metadata": {},
   "source": [
    "## The system prompt\n",
    "\n",
    "An important difference with how you use chatGPT on your browser is that we'll specify a `system prompt` message.\n",
    "\n",
    "The `system prompt` basically asks chatGPT to adopt a certain role for the following conversation. \n",
    "We specify the system prompt with: `\"role\": \"system\"`. \n",
    "\n",
    "We then send a request using `\"role\": \"user\"`.\n",
    "\n",
    "## Sending our first request\n",
    "\n",
    "Let's ask chatGPT3.5 to answer a message while playing a specifc role, we'll use a standard example here.\n",
    "\n",
    "The **system prompt** is: \"*You are a poetic assistant, skilled in explaining complex programming concepts with creative flair.*\";  \n",
    "And the **message** is: \"*Compose a poem that explains the concept of recursion in programming.*\"\n",
    "\n",
    "*(All content here from the notebook accompanying the online course.)*"
   ]
  },
  {
   "cell_type": "code",
   "execution_count": 7,
   "id": "314219d4-cee6-4c7d-9105-a0013d9448e8",
   "metadata": {},
   "outputs": [],
   "source": [
    "completion = client.chat.completions.create(\n",
    "  model=\"gpt-4o-mini\",\n",
    "  messages=[\n",
    "    {\n",
    "        \"role\": \"system\", \n",
    "        \"content\": \"You are a poetic assistant, skilled in explaining complex programming concepts with creative flair.\"\n",
    "    },\n",
    "    {\n",
    "        \"role\": \"user\", \n",
    "        \"content\": \"Compose a poem that explains the concept of recursion in programming.\"\n",
    "    }\n",
    "  ]\n",
    ")"
   ]
  },
  {
   "cell_type": "code",
   "execution_count": 8,
   "id": "5a39ebe5-82a8-421c-9167-b8dfcfdc67dd",
   "metadata": {},
   "outputs": [
    {
     "data": {
      "text/plain": [
       "ChatCompletion(id='chatcmpl-ABznW4N35lO0BsrjwDeLdSWb9WAPh', choices=[Choice(finish_reason='stop', index=0, logprobs=None, message=ChatCompletionMessage(content='In the heart of code where logic flows,  \\nA wondrous dance of functions grows,  \\nA tale of steps, both small and grand,  \\nLet me weave for you a recursive strand.  \\n\\nImagine a mirror, two faces aligned,  \\nWhere tasks reflect, and paths intertwined,  \\nTo solve a problem, big or immense,  \\nWe break it down, it makes perfect sense.  \\n\\nFunction A calls for its sister, B,  \\n“Dear B,” it whispers, “come summon me.”  \\nWith each humble plea, a new call is made,  \\nA looping embrace where the trail won’t fade.  \\n\\nIn the depths of the stack, a secret is kept,  \\nEach state holds a story of how we’ve leapt,  \\nThrough base cases waiting at recursion’s end,  \\nWhere the code finds peace and can finally mend.  \\n\\n“Dear B,” speaks A, “it’s time to deploy,  \\nReturn what you’ve gathered, come share in the joy.”  \\nThus, the values travel back through the maze,  \\nUnraveling threads in a glorious blaze.  \\n\\nThink of the factorial, a number’s great climb,  \\nN times (N minus 1), a loop through time:  \\n5! resolves as 5 times 4,  \\nBut wait—what’s 4? A call to explore.  \\n\\nDown it goes to 3, to 2, to 1,  \\nEvery step’s magic, yet over so fun.  \\nWhen 1 returns home with the answer so pure,  \\nThe steps all unfold, recursive and sure.  \\n\\nSo here we embrace a concept so fine,  \\nThrough loops of the past, new futures align.  \\nRecursion, dear coder, is both art and a skill,  \\nA dual-hued journey, with endless thrill.  \\n\\nSo let’s raise a toast to the calls we delight,  \\nTo the beauty of recursion that dances in light.  \\nFor in programming’s realm, where mysteries dwell,  \\nThe elegance of recursion weaves a tale to tell.  ', refusal=None, role='assistant', function_call=None, tool_calls=None))], created=1727422522, model='gpt-4o-mini-2024-07-18', object='chat.completion', service_tier=None, system_fingerprint='fp_1bb46167f9', usage=CompletionUsage(completion_tokens=415, prompt_tokens=39, total_tokens=454, completion_tokens_details=CompletionTokensDetails(reasoning_tokens=0)))"
      ]
     },
     "execution_count": 8,
     "metadata": {},
     "output_type": "execute_result"
    }
   ],
   "source": [
    "completion"
   ]
  },
  {
   "cell_type": "code",
   "execution_count": 9,
   "id": "73864c3f-f245-405c-9ff4-714a4e7a2dd5",
   "metadata": {},
   "outputs": [
    {
     "data": {
      "text/plain": [
       "ChatCompletionMessage(content='In the heart of code where logic flows,  \\nA wondrous dance of functions grows,  \\nA tale of steps, both small and grand,  \\nLet me weave for you a recursive strand.  \\n\\nImagine a mirror, two faces aligned,  \\nWhere tasks reflect, and paths intertwined,  \\nTo solve a problem, big or immense,  \\nWe break it down, it makes perfect sense.  \\n\\nFunction A calls for its sister, B,  \\n“Dear B,” it whispers, “come summon me.”  \\nWith each humble plea, a new call is made,  \\nA looping embrace where the trail won’t fade.  \\n\\nIn the depths of the stack, a secret is kept,  \\nEach state holds a story of how we’ve leapt,  \\nThrough base cases waiting at recursion’s end,  \\nWhere the code finds peace and can finally mend.  \\n\\n“Dear B,” speaks A, “it’s time to deploy,  \\nReturn what you’ve gathered, come share in the joy.”  \\nThus, the values travel back through the maze,  \\nUnraveling threads in a glorious blaze.  \\n\\nThink of the factorial, a number’s great climb,  \\nN times (N minus 1), a loop through time:  \\n5! resolves as 5 times 4,  \\nBut wait—what’s 4? A call to explore.  \\n\\nDown it goes to 3, to 2, to 1,  \\nEvery step’s magic, yet over so fun.  \\nWhen 1 returns home with the answer so pure,  \\nThe steps all unfold, recursive and sure.  \\n\\nSo here we embrace a concept so fine,  \\nThrough loops of the past, new futures align.  \\nRecursion, dear coder, is both art and a skill,  \\nA dual-hued journey, with endless thrill.  \\n\\nSo let’s raise a toast to the calls we delight,  \\nTo the beauty of recursion that dances in light.  \\nFor in programming’s realm, where mysteries dwell,  \\nThe elegance of recursion weaves a tale to tell.  ', refusal=None, role='assistant', function_call=None, tool_calls=None)"
      ]
     },
     "execution_count": 9,
     "metadata": {},
     "output_type": "execute_result"
    }
   ],
   "source": [
    "completion.choices[0].message"
   ]
  },
  {
   "cell_type": "code",
   "execution_count": 10,
   "id": "619aea9c-ff7f-444b-b616-06106650fdd9",
   "metadata": {},
   "outputs": [
    {
     "name": "stdout",
     "output_type": "stream",
     "text": [
      "In the heart of code where logic flows,  \n",
      "A wondrous dance of functions grows,  \n",
      "A tale of steps, both small and grand,  \n",
      "Let me weave for you a recursive strand.  \n",
      "\n",
      "Imagine a mirror, two faces aligned,  \n",
      "Where tasks reflect, and paths intertwined,  \n",
      "To solve a problem, big or immense,  \n",
      "We break it down, it makes perfect sense.  \n",
      "\n",
      "Function A calls for its sister, B,  \n",
      "“Dear B,” it whispers, “come summon me.”  \n",
      "With each humble plea, a new call is made,  \n",
      "A looping embrace where the trail won’t fade.  \n",
      "\n",
      "In the depths of the stack, a secret is kept,  \n",
      "Each state holds a story of how we’ve leapt,  \n",
      "Through base cases waiting at recursion’s end,  \n",
      "Where the code finds peace and can finally mend.  \n",
      "\n",
      "“Dear B,” speaks A, “it’s time to deploy,  \n",
      "Return what you’ve gathered, come share in the joy.”  \n",
      "Thus, the values travel back through the maze,  \n",
      "Unraveling threads in a glorious blaze.  \n",
      "\n",
      "Think of the factorial, a number’s great climb,  \n",
      "N times (N minus 1), a loop through time:  \n",
      "5! resolves as 5 times 4,  \n",
      "But wait—what’s 4? A call to explore.  \n",
      "\n",
      "Down it goes to 3, to 2, to 1,  \n",
      "Every step’s magic, yet over so fun.  \n",
      "When 1 returns home with the answer so pure,  \n",
      "The steps all unfold, recursive and sure.  \n",
      "\n",
      "So here we embrace a concept so fine,  \n",
      "Through loops of the past, new futures align.  \n",
      "Recursion, dear coder, is both art and a skill,  \n",
      "A dual-hued journey, with endless thrill.  \n",
      "\n",
      "So let’s raise a toast to the calls we delight,  \n",
      "To the beauty of recursion that dances in light.  \n",
      "For in programming’s realm, where mysteries dwell,  \n",
      "The elegance of recursion weaves a tale to tell.  \n"
     ]
    }
   ],
   "source": [
    "print(completion.choices[0].message.content)"
   ]
  },
  {
   "cell_type": "code",
   "execution_count": null,
   "id": "bfa6c2d2-b745-48e6-ab50-a3fb598e4f37",
   "metadata": {},
   "outputs": [],
   "source": []
  }
 ],
 "metadata": {
  "kernelspec": {
   "display_name": "Python 3 (ipykernel)",
   "language": "python",
   "name": "python3"
  },
  "language_info": {
   "codemirror_mode": {
    "name": "ipython",
    "version": 3
   },
   "file_extension": ".py",
   "mimetype": "text/x-python",
   "name": "python",
   "nbconvert_exporter": "python",
   "pygments_lexer": "ipython3",
   "version": "3.12.6"
  }
 },
 "nbformat": 4,
 "nbformat_minor": 5
}
