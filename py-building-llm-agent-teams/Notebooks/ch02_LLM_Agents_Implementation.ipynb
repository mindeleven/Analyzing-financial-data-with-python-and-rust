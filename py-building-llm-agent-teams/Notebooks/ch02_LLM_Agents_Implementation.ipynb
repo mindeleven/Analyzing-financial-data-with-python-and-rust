{
 "cells": [
  {
   "cell_type": "markdown",
   "id": "a46db97d-c50c-49cc-b535-7b2c5cdc2e8e",
   "metadata": {},
   "source": [
    "## Running a first script to interact with chatGPT"
   ]
  },
  {
   "cell_type": "code",
   "execution_count": 11,
   "id": "7cd4812a-ad88-4d1e-8349-b58a3345058d",
   "metadata": {},
   "outputs": [],
   "source": [
    "from openai import OpenAI\n",
    "import pandas as pd"
   ]
  },
  {
   "cell_type": "code",
   "execution_count": 15,
   "id": "02d25622-b33e-4e6c-a692-9e87777a8c98",
   "metadata": {},
   "outputs": [
    {
     "name": "stdout",
     "output_type": "stream",
     "text": [
      "Don't be a fool and send your api key to GitHub!\n"
     ]
    }
   ],
   "source": [
    "api_key = pd.read_csv(\"~/tmp/chat_gpt/autogen_agent_1.txt\", sep=\" \", header=None)[0][0]\n",
    "print(\"Don't be a fool and send your api key to GitHub!\")"
   ]
  },
  {
   "cell_type": "code",
   "execution_count": 16,
   "id": "efa177db-efe5-4ce8-aa46-313ca88022e5",
   "metadata": {},
   "outputs": [],
   "source": [
    "client = OpenAI(api_key=api_key)"
   ]
  },
  {
   "cell_type": "code",
   "execution_count": 17,
   "id": "b8d0402e-edec-4c5f-ad3f-2b6bcca99a59",
   "metadata": {},
   "outputs": [
    {
     "data": {
      "text/plain": [
       "ChatCompletion(id='chatcmpl-ADt6N2xpeJlFYItyIzTodzOM7oV5b', choices=[Choice(finish_reason='stop', index=0, logprobs=None, message=ChatCompletionMessage(content='Orange.', refusal=None, role='assistant', function_call=None, tool_calls=None))], created=1727873439, model='gpt-4o-mini-2024-07-18', object='chat.completion', service_tier=None, system_fingerprint='fp_f85bea6784', usage=CompletionUsage(completion_tokens=2, prompt_tokens=20, total_tokens=22, completion_tokens_details=CompletionTokensDetails(reasoning_tokens=0), prompt_tokens_details={'cached_tokens': 0}))"
      ]
     },
     "execution_count": 17,
     "metadata": {},
     "output_type": "execute_result"
    }
   ],
   "source": [
    "# testing if our key is okay with a simple api call\n",
    "# if our API key is valid we should not get any error messages\n",
    "completion = client.chat.completions.create(\n",
    "    model=\"gpt-4o-mini\",\n",
    "    messages=[\n",
    "        {\"role\": \"user\", \"content\": \"In a single word, what is the color of an orange?\"}\n",
    "    ],\n",
    "    max_tokens=100,\n",
    ")\n",
    "completion"
   ]
  },
  {
   "cell_type": "markdown",
   "id": "fd1a5536-2156-47f5-9941-ac4dd96e47c5",
   "metadata": {},
   "source": [
    "## Building a message with different prompts"
   ]
  },
  {
   "cell_type": "markdown",
   "id": "c3a920c5-cf2b-4176-8bcc-b4c537aa1f41",
   "metadata": {},
   "source": [
    "## The system prompt\n",
    "\n",
    "An important difference with how you use chatGPT on your browser is that we'll specify a `system prompt` message.\n",
    "\n",
    "The `system prompt` basically asks chatGPT to adopt a certain role for the following conversation. \n",
    "We specify the system prompt with: `\"role\": \"system\"`. \n",
    "\n",
    "We then send a request using `\"role\": \"user\"`.\n",
    "\n",
    "## Sending our first request\n",
    "\n",
    "Let's ask chatGPT3.5 to answer a message while playing a specifc role, we'll use a standard example here.\n",
    "\n",
    "The **system prompt** is: \"*You are a poetic assistant, skilled in explaining complex programming concepts with creative flair.*\";  \n",
    "And the **message** is: \"*Compose a poem that explains the concept of recursion in programming.*\"\n",
    "\n",
    "*(All content here from the notebook accompanying the online course.)*"
   ]
  },
  {
   "cell_type": "code",
   "execution_count": 18,
   "id": "314219d4-cee6-4c7d-9105-a0013d9448e8",
   "metadata": {},
   "outputs": [],
   "source": [
    "completion = client.chat.completions.create(\n",
    "  model=\"gpt-4o-mini\",\n",
    "  messages=[\n",
    "    {\n",
    "        \"role\": \"system\", \n",
    "        \"content\": \"You are a poetic assistant, skilled in explaining complex programming concepts with creative flair.\"\n",
    "    },\n",
    "    {\n",
    "        \"role\": \"user\", \n",
    "        \"content\": \"Compose a poem that explains the concept of recursion in programming.\"\n",
    "    }\n",
    "  ]\n",
    ")"
   ]
  },
  {
   "cell_type": "code",
   "execution_count": 19,
   "id": "5a39ebe5-82a8-421c-9167-b8dfcfdc67dd",
   "metadata": {},
   "outputs": [
    {
     "data": {
      "text/plain": [
       "ChatCompletion(id='chatcmpl-ADt6QJ9TzGelBliTXKGSLc34orzNy', choices=[Choice(finish_reason='stop', index=0, logprobs=None, message=ChatCompletionMessage(content='In the realm of code where logic flows,  \\nA curious pattern each coder knows.  \\nRecursion, the dance of calling anew,  \\nA function’s embrace in a loop that’s true.  \\n\\nBehold the tale of a function’s flight,  \\nWhere it calls itself, a brilliant sight.  \\nLike a mirror reflecting a face,  \\nEchoing back in a digital space.  \\n\\nImagine a tree with branches that spread,  \\nTo the left and the right, where the leaves are wed.  \\nEach twig holds a function, a task to unfold,  \\nUntil the base case whispers, “Behold!”  \\n\\n“Stop the descent!” it gently intones,  \\n“Your journey concludes, rest your weary bones.”  \\nBut the path that you traveled is rich with insight,  \\nEach call builds a story, each branch holds a light.  \\n\\nSo onward it goes, through depths it will dive,  \\nTo solve tangled puzzles, keep logic alive.  \\nFactorials, Fibonacci, or searching through arrays,  \\nRecursion can conquer in various ways.  \\n\\nBut heed this advice: make your base case clear,  \\nFor without it, dear coder, chaos is near.  \\nA loop without end, an infinite plight,  \\nCan lead you to meltdown, despair from the byte.  \\n\\nSo embrace the recursion, let it take flight,  \\nWith elegance, patience, and code that is right.  \\nFor in fractals of functions, a beauty unfolds,  \\nIn the heart of the problem, a solution that holds.', refusal=None, role='assistant', function_call=None, tool_calls=None))], created=1727873442, model='gpt-4o-mini-2024-07-18', object='chat.completion', service_tier=None, system_fingerprint='fp_f85bea6784', usage=CompletionUsage(completion_tokens=306, prompt_tokens=39, total_tokens=345, completion_tokens_details=CompletionTokensDetails(reasoning_tokens=0), prompt_tokens_details={'cached_tokens': 0}))"
      ]
     },
     "execution_count": 19,
     "metadata": {},
     "output_type": "execute_result"
    }
   ],
   "source": [
    "completion"
   ]
  },
  {
   "cell_type": "code",
   "execution_count": 20,
   "id": "73864c3f-f245-405c-9ff4-714a4e7a2dd5",
   "metadata": {},
   "outputs": [
    {
     "data": {
      "text/plain": [
       "ChatCompletionMessage(content='In the realm of code where logic flows,  \\nA curious pattern each coder knows.  \\nRecursion, the dance of calling anew,  \\nA function’s embrace in a loop that’s true.  \\n\\nBehold the tale of a function’s flight,  \\nWhere it calls itself, a brilliant sight.  \\nLike a mirror reflecting a face,  \\nEchoing back in a digital space.  \\n\\nImagine a tree with branches that spread,  \\nTo the left and the right, where the leaves are wed.  \\nEach twig holds a function, a task to unfold,  \\nUntil the base case whispers, “Behold!”  \\n\\n“Stop the descent!” it gently intones,  \\n“Your journey concludes, rest your weary bones.”  \\nBut the path that you traveled is rich with insight,  \\nEach call builds a story, each branch holds a light.  \\n\\nSo onward it goes, through depths it will dive,  \\nTo solve tangled puzzles, keep logic alive.  \\nFactorials, Fibonacci, or searching through arrays,  \\nRecursion can conquer in various ways.  \\n\\nBut heed this advice: make your base case clear,  \\nFor without it, dear coder, chaos is near.  \\nA loop without end, an infinite plight,  \\nCan lead you to meltdown, despair from the byte.  \\n\\nSo embrace the recursion, let it take flight,  \\nWith elegance, patience, and code that is right.  \\nFor in fractals of functions, a beauty unfolds,  \\nIn the heart of the problem, a solution that holds.', refusal=None, role='assistant', function_call=None, tool_calls=None)"
      ]
     },
     "execution_count": 20,
     "metadata": {},
     "output_type": "execute_result"
    }
   ],
   "source": [
    "completion.choices[0].message"
   ]
  },
  {
   "cell_type": "code",
   "execution_count": 21,
   "id": "619aea9c-ff7f-444b-b616-06106650fdd9",
   "metadata": {},
   "outputs": [
    {
     "name": "stdout",
     "output_type": "stream",
     "text": [
      "In the realm of code where logic flows,  \n",
      "A curious pattern each coder knows.  \n",
      "Recursion, the dance of calling anew,  \n",
      "A function’s embrace in a loop that’s true.  \n",
      "\n",
      "Behold the tale of a function’s flight,  \n",
      "Where it calls itself, a brilliant sight.  \n",
      "Like a mirror reflecting a face,  \n",
      "Echoing back in a digital space.  \n",
      "\n",
      "Imagine a tree with branches that spread,  \n",
      "To the left and the right, where the leaves are wed.  \n",
      "Each twig holds a function, a task to unfold,  \n",
      "Until the base case whispers, “Behold!”  \n",
      "\n",
      "“Stop the descent!” it gently intones,  \n",
      "“Your journey concludes, rest your weary bones.”  \n",
      "But the path that you traveled is rich with insight,  \n",
      "Each call builds a story, each branch holds a light.  \n",
      "\n",
      "So onward it goes, through depths it will dive,  \n",
      "To solve tangled puzzles, keep logic alive.  \n",
      "Factorials, Fibonacci, or searching through arrays,  \n",
      "Recursion can conquer in various ways.  \n",
      "\n",
      "But heed this advice: make your base case clear,  \n",
      "For without it, dear coder, chaos is near.  \n",
      "A loop without end, an infinite plight,  \n",
      "Can lead you to meltdown, despair from the byte.  \n",
      "\n",
      "So embrace the recursion, let it take flight,  \n",
      "With elegance, patience, and code that is right.  \n",
      "For in fractals of functions, a beauty unfolds,  \n",
      "In the heart of the problem, a solution that holds.\n"
     ]
    }
   ],
   "source": [
    "print(completion.choices[0].message.content)"
   ]
  },
  {
   "cell_type": "code",
   "execution_count": null,
   "id": "bfa6c2d2-b745-48e6-ab50-a3fb598e4f37",
   "metadata": {},
   "outputs": [],
   "source": []
  }
 ],
 "metadata": {
  "kernelspec": {
   "display_name": "Python 3 (ipykernel)",
   "language": "python",
   "name": "python3"
  },
  "language_info": {
   "codemirror_mode": {
    "name": "ipython",
    "version": 3
   },
   "file_extension": ".py",
   "mimetype": "text/x-python",
   "name": "python",
   "nbconvert_exporter": "python",
   "pygments_lexer": "ipython3",
   "version": "3.12.6"
  }
 },
 "nbformat": 4,
 "nbformat_minor": 5
}
