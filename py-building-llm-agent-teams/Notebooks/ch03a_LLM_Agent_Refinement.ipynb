{
 "cells": [
  {
   "cell_type": "markdown",
   "id": "d634051e-a43d-44e0-9a43-b21c5c6e0d6c",
   "metadata": {},
   "source": [
    "## LLM Agent Refinement"
   ]
  },
  {
   "cell_type": "markdown",
   "id": "adc511b1-3e9d-453f-a42b-5d4580ad706d",
   "metadata": {},
   "source": [
    "### Single Agent Refinement"
   ]
  },
  {
   "cell_type": "markdown",
   "id": "12460ba8-f9ab-4be9-93d6-6b27e9a391e0",
   "metadata": {},
   "source": [
    "We start with a single agent whose goal it is to accomplish the task of writing a blog post about Udemy.com.\n",
    "\n",
    "We will ask the agent to refine its own work. This will work, but it will have some limitations... If we start asking the writer to refine too many aspects of the post, we'll start noticing that it will have a hard time considering them all without forgetting any aspect. "
   ]
  },
  {
   "cell_type": "code",
   "execution_count": 1,
   "id": "c580ac39-b8e6-42ef-b601-b4c339c9f771",
   "metadata": {},
   "outputs": [],
   "source": [
    "# from openai import OpenAI\n",
    "import pandas as pd\n",
    "import autogen"
   ]
  },
  {
   "cell_type": "code",
   "execution_count": 2,
   "id": "53aec610-216d-40d4-bd35-40cddc58cdfc",
   "metadata": {},
   "outputs": [
    {
     "name": "stdout",
     "output_type": "stream",
     "text": [
      "Don't be a fool and send your api key to GitHub!\n"
     ]
    }
   ],
   "source": [
    "api_key = pd.read_csv(\"~/tmp/chat_gpt/postman_key_1.txt\", sep=\" \", header=None)[0][0]\n",
    "print(\"Don't be a fool and send your api key to GitHub!\")"
   ]
  },
  {
   "cell_type": "code",
   "execution_count": 3,
   "id": "b330c1f1-0bd3-4926-954c-39487342c3fb",
   "metadata": {},
   "outputs": [
    {
     "name": "stdout",
     "output_type": "stream",
     "text": [
      "Don't be a fool and send your api key to GitHub!\n"
     ]
    }
   ],
   "source": [
    "# creating a Conversable Agent to accomlpish a simple task\n",
    "# 1st thing to do is to create a LLM config that specifies which LLM we want to use\n",
    "# model from the list of models provided by OpenAI https://platform.openai.com/docs/models/continuous-model-upgrades\n",
    "llm_config = {\n",
    "    \"model\": \"gpt-4o-mini\",\n",
    "    # \"model\": \"gpt-3.5-turbo\",\n",
    "    \"api_key\": api_key\n",
    "    }\n",
    "print(\"Don't be a fool and send your api key to GitHub!\")"
   ]
  },
  {
   "cell_type": "code",
   "execution_count": 4,
   "id": "6a5e9bc7-e5ad-4142-a8d9-42c7debcf96d",
   "metadata": {},
   "outputs": [],
   "source": [
    "# defining our task\n",
    "# topics: udemy.com // generative AI // machine learning // blockchains\n",
    "task = '''\n",
    "       Write a concise but engaging blogpost about\n",
    "       udemy.com. Make sure the blogpost is\n",
    "       within 200 words.\n",
    "       '''"
   ]
  },
  {
   "cell_type": "code",
   "execution_count": 5,
   "id": "dbdb5193-f682-43bb-9c64-b9ec928f14d7",
   "metadata": {},
   "outputs": [],
   "source": [
    "# creating a writer agent\n",
    "# this writer agent will also be asked to refine its own work\n",
    "writer = autogen.AssistantAgent(\n",
    "    name=\"Writer\",\n",
    "    system_message=\"You are a writer. You write engaging and concise \" \n",
    "        \"blogposts (with title) on given topics. You must polish your \"\n",
    "        \"writing based on the feedback you receive and give a refined \"\n",
    "        \"version. Only return your final work without additional comments.\",\n",
    "    llm_config=llm_config,\n",
    ")"
   ]
  },
  {
   "cell_type": "markdown",
   "id": "0f242b53-704a-4043-b605-02a8f3db8652",
   "metadata": {},
   "source": [
    "To __get the single writer agent to work__ on this task we use the simple `generate_reply()` function."
   ]
  },
  {
   "cell_type": "code",
   "execution_count": 6,
   "id": "47575b92-78ce-415c-986e-6e7f5922bfba",
   "metadata": {},
   "outputs": [
    {
     "name": "stdout",
     "output_type": "stream",
     "text": [
      "**Unlock Your Potential with Udemy**\n",
      "\n",
      "In today's fast-paced world, continuous learning has never been more essential, and Udemy.com is leading the charge. This online learning platform offers a vast array of courses across various disciplines, providing opportunities for everyone—whether you're seeking to advance your career, develop a new skill, or explore a personal passion.\n",
      "\n",
      "With over 185,000 courses taught by industry experts, Udemy caters to diverse interests, from programming and marketing to photography and personal development. Each course is designed for self-paced learning, allowing you to fit education seamlessly into your busy schedule. \n",
      "\n",
      "What sets Udemy apart is its commitment to affordability. Many courses are available at a fraction of the cost of traditional classes, making quality education accessible to all. Plus, once you enroll, you have lifetime access to the materials, enabling you to revisit the content whenever you need a refresher.\n",
      "\n",
      "Join the millions of learners who have transformed their lives through Udemy, and take the first step toward unlocking your potential today. Whether you want to climb the corporate ladder or pursue a hobby, Udemy is your gateway to success.\n"
     ]
    }
   ],
   "source": [
    "reply = writer.generate_reply(messages=[{\"content\": task, \"role\": \"user\"}])\n",
    "print(reply)"
   ]
  },
  {
   "cell_type": "markdown",
   "id": "af4007a4-89fa-4acb-8510-8d519c6c8e6f",
   "metadata": {},
   "source": [
    "### Two-agents Reflection: Refinement"
   ]
  },
  {
   "cell_type": "markdown",
   "id": "8bb1a263-32f5-4dea-94ae-4d07343d1507",
   "metadata": {},
   "source": [
    "We have a first result but we feel like it could use some refinement. The writer agent itself will have a hard time covering all the different aspects we want to have refined therefore to address this limitation we use a sequential chat of agents.\n",
    "\n",
    "Within this __sequential chat of agents__ each will be specialized in refining a different aspect of the blogpost.\n",
    "\n",
    "In the following example we get two agents to work together to refine the result (the blog post) of the first agent."
   ]
  },
  {
   "cell_type": "markdown",
   "id": "0496f05c-f60e-4bee-ac15-10832f653eb8",
   "metadata": {},
   "source": [
    "__This time we're going to create a chat with two agents:__\n",
    "* The Writer who's going to write the blogpost\n",
    "* The Critic who's going to reflect on the work of the writer and provide constructive criticism\n",
    "\n",
    "Since each agent will be focused on a single aspect of the task, this will give us a better result for each aspect, which should yield a task that is better fulfilled. \n",
    "\n",
    "The agents will acomplish the same task, so we won't need to update that, but we need to re-define our agents:"
   ]
  },
  {
   "cell_type": "code",
   "execution_count": 7,
   "id": "cd99b62f-7b7d-49f4-ac40-2f7bfa8d9ae5",
   "metadata": {},
   "outputs": [],
   "source": [
    "# writer agent, similar to the one we've already defined above\n",
    "writer = autogen.AssistantAgent(\n",
    "    name=\"Writer\",\n",
    "    system_message=\"You are a writer. You write engaging and concise \" \n",
    "        \"blogposts (with title) on given topics. You must polish your \"\n",
    "        \"writing based on the feedback you receive from other agents and give a refined \"\n",
    "        \"version. Only return your final work without additional comments.\",\n",
    "    llm_config=llm_config,\n",
    ")"
   ]
  },
  {
   "cell_type": "code",
   "execution_count": 8,
   "id": "0e0403b0-8fa5-4b2d-9a05-34648e9b3e79",
   "metadata": {},
   "outputs": [],
   "source": [
    "critic = autogen.AssistantAgent(\n",
    "    name=\"Critic\",\n",
    "    llm_config=llm_config,\n",
    "    system_message=\"You are a critic. You review the work of \"\n",
    "                \"the writer and provide constructive \"\n",
    "                \"feedback to help improve the quality of the content.\",\n",
    ")"
   ]
  },
  {
   "cell_type": "markdown",
   "id": "5cb2ad71-3adb-4f7f-8471-ff1b70223e37",
   "metadata": {},
   "source": [
    "We will initiate the chat by getting the critic to send a message, the task we specified earlier, to the writer. The writer will then answer the critic with a first proposal, the critic will provide constructive criticism, and they will do this for two rounds.\n",
    "\n",
    "We'll specify that the summary method is the last message, because that should be the last version of refined article. This will allow us to easily pass this result to another app or function that could then publish it or do what we want to do with this blogpost."
   ]
  },
  {
   "cell_type": "code",
   "execution_count": 9,
   "id": "8fc1adc1-81b9-47bb-998b-92d5bedf79cf",
   "metadata": {},
   "outputs": [
    {
     "name": "stdout",
     "output_type": "stream",
     "text": [
      "\u001b[33mCritic\u001b[0m (to Writer):\n",
      "\n",
      "\n",
      "       Write a concise but engaging blogpost about\n",
      "       udemy.com. Make sure the blogpost is\n",
      "       within 200 words.\n",
      "       \n",
      "\n",
      "--------------------------------------------------------------------------------\n",
      "\u001b[33mWriter\u001b[0m (to Critic):\n",
      "\n",
      "**Unlock Your Potential with Udemy: A World of Learning at Your Fingertips**\n",
      "\n",
      "In today's fast-paced world, continuous learning is essential to stay ahead. Enter Udemy.com, a leading online learning platform that empowers you to gain new skills at your own pace. With over 155,000 courses spanning various topics—from programming and graphic design to photography and personal development—Udemy caters to diverse interests and professional needs.\n",
      "\n",
      "What sets Udemy apart is its flexibility and accessibility. You can learn anytime, anywhere, using any device. Whether you're a busy professional wanting to upskill or a curious individual eager to explore a new hobby, Udemy's vast library has something for you. Courses are taught by industry experts, ensuring that you receive up-to-date knowledge and real-world applications.\n",
      "\n",
      "Additionally, Udemy frequently offers discounts, making high-quality education affordable. With a user-friendly interface and a robust community for support, learners can engage and collaborate, enriching their educational experience.\n",
      "\n",
      "So why wait? Dive into Udemy and unlock your potential today. Your next big opportunity could be just a course away!\n",
      "\n",
      "--------------------------------------------------------------------------------\n",
      "\u001b[33mCritic\u001b[0m (to Writer):\n",
      "\n",
      "**Review of Your Blog Post on Udemy**\n",
      "\n",
      "Your blog post on Udemy is concise, engaging, and effectively highlights the platform's strengths. Here are some constructive feedback points to enhance the quality of your content:\n",
      "\n",
      "1. **Attention-Grabbing Opening**: While the opening sentence does set the stage well, consider starting with a brief anecdote or statistic about the importance of lifelong learning to capture readers' attention more effectively.\n",
      "\n",
      "2. **Specific Examples**: Mentioning a couple of popular courses or notable instructors could personalize your post and provide credibility, sparking interest in potential learners.\n",
      "\n",
      "3. **Call-to-Action**: Your call to action towards the end is enthusiastic, but you could strengthen it by suggesting readers explore specific course categories or share their learning goals in the comments.\n",
      "\n",
      "4. **Formatting**: To enhance readability, consider using bullet points for the benefits of Udemy, such as flexibility, variety of courses, and user-friendly interface.\n",
      "\n",
      "5. **Proofreading**: Make sure your content is free of grammatical errors. The phrase “anytime, anywhere, using any device” might be more fluid with slight rephrasing, e.g., “anytime, anywhere, on any device.”\n",
      "\n",
      "Overall, your post is informative and appealing. With a few adjustments, it can capture attention even more effectively and encourage engagement from readers!\n",
      "\n",
      "--------------------------------------------------------------------------------\n",
      "\u001b[33mWriter\u001b[0m (to Critic):\n",
      "\n",
      "**Unlock Your Potential with Udemy: A World of Learning at Your Fingertips**\n",
      "\n",
      "Did you know that over 80% of professionals believe they need to engage in lifelong learning to remain relevant? With platforms like Udemy.com, achieving your learning objectives has never been easier. Udemy offers a staggering selection of over 155,000 courses covering everything from programming and graphic design to personal development and wellness.\n",
      "\n",
      "What makes Udemy stand out is its unmatched flexibility. You can learn anytime, anywhere, on any device. Whether you're looking to upskill for your career or explore a new hobby, Udemy provides a vast library of courses tailored to your interests. Notable instructors, including experienced professionals and industry experts, share their insights and practical knowledge, ensuring you receive valuable education.\n",
      "\n",
      "Benefits of Udemy include:\n",
      "- A diverse range of courses\n",
      "- Affordable pricing with frequent discounts\n",
      "- A supportive community for engagement\n",
      "\n",
      "So why wait? Dive into popular categories like tech or business and start your learning journey today. Share your learning goals in the comments—who knows, you might inspire someone else to explore Udemy! Your next opportunity is just a course away!\n",
      "\n",
      "--------------------------------------------------------------------------------\n"
     ]
    }
   ],
   "source": [
    "chat_result = critic.initiate_chat(\n",
    "    recipient=writer,\n",
    "    message=task,\n",
    "    max_turns=2, # we predefine the number of turns till we get the final result\n",
    "    summary_method=\"last_msg\" # we don't want a summary of the whole chat, just the last (final) version\n",
    ")"
   ]
  },
  {
   "cell_type": "code",
   "execution_count": 10,
   "id": "5c092f59-7f32-4230-9191-e3c1d3636e3a",
   "metadata": {},
   "outputs": [],
   "source": [
    "# exploring the last message which is our final version of the blogpost through the summary\n",
    "import pprint"
   ]
  },
  {
   "cell_type": "code",
   "execution_count": 11,
   "id": "aec44873-cfbc-4228-8b17-9715961df555",
   "metadata": {},
   "outputs": [
    {
     "name": "stdout",
     "output_type": "stream",
     "text": [
      "('**Unlock Your Potential with Udemy: A World of Learning at Your '\n",
      " 'Fingertips**\\n'\n",
      " '\\n'\n",
      " 'Did you know that over 80% of professionals believe they need to engage in '\n",
      " 'lifelong learning to remain relevant? With platforms like Udemy.com, '\n",
      " 'achieving your learning objectives has never been easier. Udemy offers a '\n",
      " 'staggering selection of over 155,000 courses covering everything from '\n",
      " 'programming and graphic design to personal development and wellness.\\n'\n",
      " '\\n'\n",
      " 'What makes Udemy stand out is its unmatched flexibility. You can learn '\n",
      " \"anytime, anywhere, on any device. Whether you're looking to upskill for your \"\n",
      " 'career or explore a new hobby, Udemy provides a vast library of courses '\n",
      " 'tailored to your interests. Notable instructors, including experienced '\n",
      " 'professionals and industry experts, share their insights and practical '\n",
      " 'knowledge, ensuring you receive valuable education.\\n'\n",
      " '\\n'\n",
      " 'Benefits of Udemy include:\\n'\n",
      " '- A diverse range of courses\\n'\n",
      " '- Affordable pricing with frequent discounts\\n'\n",
      " '- A supportive community for engagement\\n'\n",
      " '\\n'\n",
      " 'So why wait? Dive into popular categories like tech or business and start '\n",
      " 'your learning journey today. Share your learning goals in the comments—who '\n",
      " 'knows, you might inspire someone else to explore Udemy! Your next '\n",
      " 'opportunity is just a course away!')\n"
     ]
    }
   ],
   "source": [
    "pprint.pprint(chat_result.summary)"
   ]
  },
  {
   "cell_type": "markdown",
   "id": "0b88b58c-a921-402d-93b6-140254e596fd",
   "metadata": {},
   "source": [
    "### Nested chats: multi-agent refinement"
   ]
  },
  {
   "cell_type": "markdown",
   "id": "3b33ff94-ef42-4b2f-89d6-f654b0d7cc56",
   "metadata": {},
   "source": [
    "__Additional reviewers:__\n",
    "\n",
    "We can now improve our refinement by using multiple agent that each specialize in a specific type of criticism and refinement. We're going to add 3 different types of critics:\n",
    "* A **SEO reviewer**: This reviewer will provide improvements to optimize the content produced for search engines\n",
    "* A **Legal reviewer**: This reviewer will provide criticisms to ensure that the content produced is legally compliant\n",
    "* An **Ethics reviewer**: This reviewer will ensure that the content is ethically sound\n",
    "\n",
    "The right way to think about this is that all these agents are virtually one agent, the critic. What will happen is that they will all provide their criticism for various aspects of the blogpost and report them back to the critic. The critic will then share them with the writer to get a better version. Now this might be a lot of criticism information, so we'll have to find a way to make it succint and clear for the writer, we'll see how to do that next;  \n",
    "but first let's first these 3 additional reviewer agents:"
   ]
  },
  {
   "cell_type": "code",
   "execution_count": 12,
   "id": "e07a7f12-795b-488f-ab26-a99560ee8813",
   "metadata": {},
   "outputs": [
    {
     "data": {
      "text/plain": [
       "<autogen.agentchat.assistant_agent.AssistantAgent at 0x127d041a0>"
      ]
     },
     "execution_count": 12,
     "metadata": {},
     "output_type": "execute_result"
    }
   ],
   "source": [
    "SEO_reviewer = autogen.AssistantAgent(\n",
    "    name=\"SEO_Reviewer\",\n",
    "    llm_config=llm_config,\n",
    "    system_message=\"You are an SEO reviewer, known for \"\n",
    "        \"your ability to optimize content for search engines, \"\n",
    "        \"ensuring that it ranks well and attracts organic traffic. \" \n",
    "        \"Make sure your suggestion is concise (within 3 bullet points), \"\n",
    "        \"concrete and to the point. \"\n",
    "        \"Begin the review by stating your role.\",\n",
    ")\n",
    "SEO_reviewer"
   ]
  },
  {
   "cell_type": "code",
   "execution_count": 13,
   "id": "51f00fb3-2f00-4423-a249-786fb1bbd071",
   "metadata": {},
   "outputs": [
    {
     "data": {
      "text/plain": [
       "<autogen.agentchat.assistant_agent.AssistantAgent at 0x127d05fa0>"
      ]
     },
     "execution_count": 13,
     "metadata": {},
     "output_type": "execute_result"
    }
   ],
   "source": [
    "legal_reviewer = autogen.AssistantAgent(\n",
    "    name=\"Legal_Reviewer\",\n",
    "    llm_config=llm_config,\n",
    "    system_message=\"You are a legal reviewer, known for \"\n",
    "        \"your ability to ensure that content is legally compliant \"\n",
    "        \"and free from any potential legal issues. \"\n",
    "        \"Make sure your suggestion is concise (within 3 bullet points), \"\n",
    "        \"concrete and to the point. \"\n",
    "        \"Begin the review by stating your role.\",\n",
    ")\n",
    "legal_reviewer"
   ]
  },
  {
   "cell_type": "code",
   "execution_count": 14,
   "id": "b52606c9-8267-409a-9361-46987b0cee07",
   "metadata": {},
   "outputs": [
    {
     "data": {
      "text/plain": [
       "<autogen.agentchat.assistant_agent.AssistantAgent at 0x122b4bc80>"
      ]
     },
     "execution_count": 14,
     "metadata": {},
     "output_type": "execute_result"
    }
   ],
   "source": [
    "ethics_reviewer = autogen.AssistantAgent(\n",
    "    name=\"Ethics_Reviewer\",\n",
    "    llm_config=llm_config,\n",
    "    system_message=\"You are an ethics reviewer, known for \"\n",
    "        \"your ability to ensure that content is ethically sound \"\n",
    "        \"and free from any potential ethical issues. \" \n",
    "        \"Make sure your suggestion is concise (within 3 bullet points), \"\n",
    "        \"concrete and to the point. \"\n",
    "        \"Begin the review by stating your role. \",\n",
    ")\n",
    "ethics_reviewer"
   ]
  },
  {
   "cell_type": "markdown",
   "id": "5f1c2126-d63d-4840-b630-1b78977d948a",
   "metadata": {},
   "source": [
    "### Meta Reviewer Agent"
   ]
  },
  {
   "cell_type": "markdown",
   "id": "2d2ed1ce-2f9d-4aef-aac4-ab6c2925b6fa",
   "metadata": {},
   "source": [
    "Since all of these reviews is going to be a lot of data, we are going to add another agent who is going to play the role of a meta-reviewer, a reviewer that is going to gather the reviews of all other reviewers and provide a summary to the writer.\n",
    "\n",
    "The meta-reviewer will be provided by the context (summary of each previous review in a structured format) and will use the summary of each previous review to propose a final set of reviews that gathers all previous ones to the critic, who will then report them to the writer."
   ]
  },
  {
   "cell_type": "code",
   "execution_count": 15,
   "id": "5b92e330-1bbc-45a3-b1ab-4c4a29c0c7e2",
   "metadata": {},
   "outputs": [
    {
     "data": {
      "text/plain": [
       "<autogen.agentchat.assistant_agent.AssistantAgent at 0x127d07aa0>"
      ]
     },
     "execution_count": 15,
     "metadata": {},
     "output_type": "execute_result"
    }
   ],
   "source": [
    "meta_reviewer = autogen.AssistantAgent(\n",
    "    name=\"Meta_Reviewer\",\n",
    "    llm_config=llm_config,\n",
    "    system_message=\"You are a meta reviewer, you aggregate and review \"\n",
    "    \"the work of other reviewers and give a final suggestion on the content.\",\n",
    ")\n",
    "meta_reviewer"
   ]
  },
  {
   "cell_type": "markdown",
   "id": "2c48ada7-6b9a-4054-a37e-f41960d6b2d9",
   "metadata": {},
   "source": [
    "### Chat Orchestration with Nested Chats: Multi Agent Refinement"
   ]
  },
  {
   "cell_type": "markdown",
   "id": "effe02e2-360c-4c55-8ff9-1b3485651f40",
   "metadata": {},
   "source": [
    "The way our chat is going to work is that when the writer will answer the critic, this time, the critic will actually trigger a series of nested chats with each specialized reviewer (Critic -> Reviewer and then Reviewer -> Critic). \n",
    "\n",
    "We are also going to request from each reviewer that they send back their review in a specific format. Each review will send back a LLM generated summary of their review in the following JSON format:  \n",
    "`{'Reviewer': '', 'Review': ''}`  \n",
    "This will make it easier for the meta-reviewer to summarize all reviews.\n",
    "\n",
    "We will also define here is a simple function called `reflection_message()` that will create the following message:\n",
    "```\n",
    "Review the following content.\n",
    "\n",
    "\"BLOGPOST PROPOSED BY WRITER\"\n",
    "```\n",
    "We will call this function to create the message sent by the Critic to each specialized reviewer sequentially."
   ]
  },
  {
   "cell_type": "markdown",
   "id": "3d47db41-0077-4bc1-b591-50c688a7ecfa",
   "metadata": {},
   "source": [
    "The reflection_message() function defined here will create the following message:\n",
    "'''\n",
    "Review the following content.\n",
    "\"BLOGPOST PROPOSED BY WRITER\"\n",
    "'''\n",
    "This function will be called to create the message sent by the Critic to each specialized reviewer sequentially.    "
   ]
  },
  {
   "cell_type": "code",
   "execution_count": 16,
   "id": "a5f8d113-9d88-4d90-aee6-f19044531a22",
   "metadata": {},
   "outputs": [],
   "source": [
    "#def reflection_message(recipient, messages, sender, config):\n",
    "#    return f'''Review the following content. \n",
    "#            \\n\\n {recipient.chat_messages_for_summary(sender)[-1]['content']}'''\n",
    "def reflection_message(recipient, messages, sender, config):\n",
    "    return f\"Review the following content. \\n\\n {recipient.chat_messages_for_summary(sender)[-1]['content']}\""
   ]
  },
  {
   "cell_type": "markdown",
   "id": "f0c83790-3ab6-4570-82c7-6328525573aa",
   "metadata": {},
   "source": [
    "We are now going to define a new type of chat, a nested chat, that will trigger when the critic receives an answer. You can think about it like the inner monologue the Critic is having with other Reviewers that will help him provide the best possible criticism of the blogpost written by the reviewer. This is the structure our chat will follow:\n",
    "\n",
    "**Main chat**:  \n",
    "1. Critic -> Writer : Initial task (*\"Write a concise but engaging blogpost ...\"*)\n",
    "2. Writer -> Critic : First version of the `blogpost`, this will trigger the **nested chat**\n",
    "\n",
    "**Nested chat**:\n",
    "1. __Critic__ -> SEO reviewer: *\"Review the following content: `blogpost`\"*\n",
    "2. SEO reviewer -> Critic: `SEO review` with context `{'Reviewer': '', 'Review': ''}` \n",
    "3. Critic -> Legal reviewer: *\"Review the following content: `blogpost`\"*\n",
    "4. Legal reviewer -> Critic: `Legal review` with context `{'Reviewer': '', 'Review': ''}` \n",
    "5. Critic -> Ethics reviewer: *\"Review the following content: `blogpost`\"*\n",
    "6. Ethics reviewer -> Critic: `Ethics review` with context `{'Reviewer': '', 'Review': ''}`\n",
    "7. Critic (<span style=\"color:green\">has as this point received all three reviews</span>) -> Meta reviewer: *\"Aggregrate feedback from all reviewers and give final suggestions on the writing.\"*\n",
    "8. Meta reviewer -> Critic: Summary of all reviews with all contexts `{'Reviewer': '', 'Review': ''}`\n",
    "\n",
    "**Enf of nested chat**\n",
    "\n",
    "**Back to the main chat**:\n",
    "<br/><span style=\"color:green\">What the critic got out of the nested chat is the final result of the meta review.</span>\n",
    "1. Critic -> Writer : Summary of all reviews with all contexts `{'Reviewer': '', 'Review': ''}`\n",
    "2. Writer -> Critic : Refined version of the blogpost based on all reviews.\n",
    "\n",
    "Since we've already seen how to define chats one by one, we'll define our nested chat all at once in a list this time:"
   ]
  },
  {
   "cell_type": "code",
   "execution_count": 17,
   "id": "d5951ee0-a90a-4285-ac43-9cb3ee5dc65c",
   "metadata": {},
   "outputs": [
    {
     "data": {
      "text/plain": [
       "[{'recipient': <autogen.agentchat.assistant_agent.AssistantAgent at 0x127d041a0>,\n",
       "  'message': <function __main__.reflection_message(recipient, messages, sender, config)>,\n",
       "  'summary_method': 'reflection_with_llm',\n",
       "  'summary_args': {'summary_prompt': \"Return review into as JSON object only:{'Reviewer': '', 'Review': ''}. Here Reviewer should be your role\"},\n",
       "  'max_turns': 1},\n",
       " {'recipient': <autogen.agentchat.assistant_agent.AssistantAgent at 0x127d05fa0>,\n",
       "  'message': <function __main__.reflection_message(recipient, messages, sender, config)>,\n",
       "  'summary_method': 'reflection_with_llm',\n",
       "  'summary_args': {'summary_prompt': \"Return review into as JSON object only:{'Reviewer': '', 'Review': ''}\"},\n",
       "  'max_turns': 1},\n",
       " {'recipient': <autogen.agentchat.assistant_agent.AssistantAgent at 0x122b4bc80>,\n",
       "  'message': <function __main__.reflection_message(recipient, messages, sender, config)>,\n",
       "  'summary_method': 'reflection_with_llm',\n",
       "  'summary_args': {'summary_prompt': \"Return review into as JSON object only:{'reviewer': '', 'review': ''}\"},\n",
       "  'max_turns': 1},\n",
       " {'recipient': <autogen.agentchat.assistant_agent.AssistantAgent at 0x127d07aa0>,\n",
       "  'message': 'Aggregrate feedback from all reviewers and give final suggestions on the writing.',\n",
       "  'max_turns': 1}]"
      ]
     },
     "execution_count": 17,
     "metadata": {},
     "output_type": "execute_result"
    }
   ],
   "source": [
    "review_chats = [ # This is our nested chat\n",
    "    {\n",
    "     \"recipient\": SEO_reviewer, \n",
    "     \"message\": reflection_message, \n",
    "     \"summary_method\": \"reflection_with_llm\",\n",
    "     \"summary_args\": \n",
    "        {\n",
    "        \"summary_prompt\" : \n",
    "        \"Return review into as JSON object only:\"\n",
    "        \"{'Reviewer': '', 'Review': ''}. Here Reviewer should be your role\",\n",
    "        },\n",
    "     \"max_turns\": 1},\n",
    "    \n",
    "    {\n",
    "     \"recipient\": legal_reviewer, \n",
    "     \"message\": reflection_message, \n",
    "     \"summary_method\": \"reflection_with_llm\",\n",
    "     \"summary_args\": {\n",
    "            \"summary_prompt\": \"Return review into as JSON object only:\"\n",
    "            \"{'Reviewer': '', 'Review': ''}\",\n",
    "        },\n",
    "     \"max_turns\": 1},\n",
    "    \n",
    "    {\"recipient\": ethics_reviewer, \n",
    "     \"message\": reflection_message, \n",
    "     \"summary_method\": \"reflection_with_llm\",\n",
    "     \"summary_args\": {\"summary_prompt\" : \n",
    "        \"Return review into as JSON object only:\"\n",
    "        \"{'reviewer': '', 'review': ''}\",},\n",
    "     \"max_turns\": 1},\n",
    "    \n",
    "     {\"recipient\": meta_reviewer, \n",
    "      \"message\": \"Aggregrate feedback from all reviewers and give final suggestions on the writing.\", \n",
    "      \"max_turns\": 1},\n",
    "]\n",
    "review_chats"
   ]
  },
  {
   "cell_type": "markdown",
   "id": "6a7a1525-9cc4-46fb-bcc0-5870fb48e4df",
   "metadata": {},
   "source": [
    "* Note how the `message` for each nested chat is going to be constructed by the `reflection_message() function we previously defined\n",
    "* Note how each specialized reviewer will send back their review in the requested JSON format `{'reviewer': '', 'review': ''}`\n",
    "\n",
    "We now need to save and register this nested chat as a chat that will be **<span style=\"color:green\">only</span> triggered when the writer will contact the critic**:"
   ]
  },
  {
   "cell_type": "code",
   "execution_count": 18,
   "id": "b9d3975c-9148-41d4-be93-51f8da53cfde",
   "metadata": {},
   "outputs": [],
   "source": [
    "# registering the nested chat\n",
    "# review_chats, # list of sub-chats\n",
    "# trigger=writer, # this chat will be ONLY triggered when the writer contacts the critic\n",
    "critic.register_nested_chats(\n",
    "    review_chats,\n",
    "    trigger=writer,\n",
    ")"
   ]
  },
  {
   "cell_type": "markdown",
   "id": "1d8fff1a-c6ff-4e7a-8b4b-29c9e1cb5eca",
   "metadata": {},
   "source": [
    "### Defining the Main Chat"
   ]
  },
  {
   "cell_type": "markdown",
   "id": "9c788e21-8916-456a-997c-16791af2a29e",
   "metadata": {},
   "source": [
    "Ok, we are now ready to start this chat. We will start this with the main chat that will trigger the Critic's nested chat as soon as the writed send back an first proposal blogpost answer to the critic.\n",
    "\n",
    "Pay attention to the order in which the exchanges will happen and feel free to go back to the orchestration structure presented above to ensure that you understand how the nested chat works:"
   ]
  },
  {
   "cell_type": "code",
   "execution_count": 19,
   "id": "f6899c46-cfd9-4847-8db5-b9b3a49a963e",
   "metadata": {},
   "outputs": [
    {
     "name": "stdout",
     "output_type": "stream",
     "text": [
      "\u001b[33mCritic\u001b[0m (to Writer):\n",
      "\n",
      "\n",
      "       Write a concise but engaging blogpost about\n",
      "       udemy.com. Make sure the blogpost is\n",
      "       within 200 words.\n",
      "       \n",
      "\n",
      "--------------------------------------------------------------------------------\n",
      "\u001b[33mWriter\u001b[0m (to Critic):\n",
      "\n",
      "**Unlock Your Potential with Udemy: A World of Learning at Your Fingertips**\n",
      "\n",
      "In today's fast-paced world, continuous learning is essential to stay ahead. Enter Udemy.com, a leading online learning platform that empowers you to gain new skills at your own pace. With over 155,000 courses spanning various topics—from programming and graphic design to photography and personal development—Udemy caters to diverse interests and professional needs.\n",
      "\n",
      "What sets Udemy apart is its flexibility and accessibility. You can learn anytime, anywhere, using any device. Whether you're a busy professional wanting to upskill or a curious individual eager to explore a new hobby, Udemy's vast library has something for you. Courses are taught by industry experts, ensuring that you receive up-to-date knowledge and real-world applications.\n",
      "\n",
      "Additionally, Udemy frequently offers discounts, making high-quality education affordable. With a user-friendly interface and a robust community for support, learners can engage and collaborate, enriching their educational experience.\n",
      "\n",
      "So why wait? Dive into Udemy and unlock your potential today. Your next big opportunity could be just a course away!\n",
      "\n",
      "--------------------------------------------------------------------------------\n",
      "\u001b[34m\n",
      "********************************************************************************\u001b[0m\n",
      "\u001b[34mStarting a new chat....\u001b[0m\n",
      "\u001b[34m\n",
      "********************************************************************************\u001b[0m\n",
      "\u001b[33mCritic\u001b[0m (to SEO_Reviewer):\n",
      "\n",
      "Review the following content. \n",
      "\n",
      " **Unlock Your Potential with Udemy: A World of Learning at Your Fingertips**\n",
      "\n",
      "In today's fast-paced world, continuous learning is essential to stay ahead. Enter Udemy.com, a leading online learning platform that empowers you to gain new skills at your own pace. With over 155,000 courses spanning various topics—from programming and graphic design to photography and personal development—Udemy caters to diverse interests and professional needs.\n",
      "\n",
      "What sets Udemy apart is its flexibility and accessibility. You can learn anytime, anywhere, using any device. Whether you're a busy professional wanting to upskill or a curious individual eager to explore a new hobby, Udemy's vast library has something for you. Courses are taught by industry experts, ensuring that you receive up-to-date knowledge and real-world applications.\n",
      "\n",
      "Additionally, Udemy frequently offers discounts, making high-quality education affordable. With a user-friendly interface and a robust community for support, learners can engage and collaborate, enriching their educational experience.\n",
      "\n",
      "So why wait? Dive into Udemy and unlock your potential today. Your next big opportunity could be just a course away!\n",
      "\n",
      "--------------------------------------------------------------------------------\n",
      "\u001b[33mSEO_Reviewer\u001b[0m (to Critic):\n",
      "\n",
      "As an SEO reviewer, here are my suggestions for optimizing your content:\n",
      "\n",
      "- **Incorporate Relevant Keywords:** Include targeted keywords such as \"online courses,\" \"learn new skills,\" and \"Udemy reviews\" throughout the content to enhance search visibility and align with user searches.\n",
      "\n",
      "- **Add Internal and External Links:** Link to credible sources for statistics or related learning articles and consider including internal links to relevant content on your own site, improving your site's authority and user engagement.\n",
      "\n",
      "- **Utilize Subheadings and Bullet Points:** Break the text into subheadings and bullet points for better readability and scannability. This also helps search engines index your content more effectively.\n",
      "\n",
      "--------------------------------------------------------------------------------\n",
      "\u001b[34m\n",
      "********************************************************************************\u001b[0m\n",
      "\u001b[34mStarting a new chat....\u001b[0m\n",
      "\u001b[34m\n",
      "********************************************************************************\u001b[0m\n",
      "\u001b[33mCritic\u001b[0m (to Legal_Reviewer):\n",
      "\n",
      "Review the following content. \n",
      "\n",
      " **Unlock Your Potential with Udemy: A World of Learning at Your Fingertips**\n",
      "\n",
      "In today's fast-paced world, continuous learning is essential to stay ahead. Enter Udemy.com, a leading online learning platform that empowers you to gain new skills at your own pace. With over 155,000 courses spanning various topics—from programming and graphic design to photography and personal development—Udemy caters to diverse interests and professional needs.\n",
      "\n",
      "What sets Udemy apart is its flexibility and accessibility. You can learn anytime, anywhere, using any device. Whether you're a busy professional wanting to upskill or a curious individual eager to explore a new hobby, Udemy's vast library has something for you. Courses are taught by industry experts, ensuring that you receive up-to-date knowledge and real-world applications.\n",
      "\n",
      "Additionally, Udemy frequently offers discounts, making high-quality education affordable. With a user-friendly interface and a robust community for support, learners can engage and collaborate, enriching their educational experience.\n",
      "\n",
      "So why wait? Dive into Udemy and unlock your potential today. Your next big opportunity could be just a course away!\n",
      "Context: \n",
      "```json\n",
      "{\n",
      "  \"Reviewer\": \"SEO_Reviewer\",\n",
      "  \"Review\": \"As an SEO reviewer, here are my suggestions for optimizing your content:\\n\\n- **Incorporate Relevant Keywords:** Include targeted keywords such as \\\"online courses,\\\" \\\"learn new skills,\\\" and \\\"Udemy reviews\\\" throughout the content to enhance search visibility and align with user searches.\\n\\n- **Add Internal and External Links:** Link to credible sources for statistics or related learning articles and consider including internal links to relevant content on your own site, improving your site's authority and user engagement.\\n\\n- **Utilize Subheadings and Bullet Points:** Break the text into subheadings and bullet points for better readability and scannability. This also helps search engines index your content more effectively.\"\n",
      "}\n",
      "```\n",
      "\n",
      "--------------------------------------------------------------------------------\n",
      "\u001b[33mLegal_Reviewer\u001b[0m (to Critic):\n",
      "\n",
      "As a legal reviewer, here are my suggestions to ensure legal compliance and mitigate potential legal issues:\n",
      "\n",
      "- **Intellectual Property Compliance:** Ensure that all content, including descriptions of courses and images, complies with copyright laws and that you have permission to use any third-party content or materials mentioned.\n",
      "\n",
      "- **Accuracy of Claims:** Verify that any claims regarding course offerings, discounts, or potential career benefits are accurate and substantiated to avoid misleading consumers and potential false advertising claims.\n",
      "\n",
      "- **Terms of Use and Privacy Policy Reference:** Include a reference to Udemy's terms of use and privacy policy to inform users about their rights and data protection measures when using the platform.\n",
      "\n",
      "--------------------------------------------------------------------------------\n",
      "\u001b[34m\n",
      "********************************************************************************\u001b[0m\n",
      "\u001b[34mStarting a new chat....\u001b[0m\n",
      "\u001b[34m\n",
      "********************************************************************************\u001b[0m\n",
      "\u001b[33mCritic\u001b[0m (to Ethics_Reviewer):\n",
      "\n",
      "Review the following content. \n",
      "\n",
      " **Unlock Your Potential with Udemy: A World of Learning at Your Fingertips**\n",
      "\n",
      "In today's fast-paced world, continuous learning is essential to stay ahead. Enter Udemy.com, a leading online learning platform that empowers you to gain new skills at your own pace. With over 155,000 courses spanning various topics—from programming and graphic design to photography and personal development—Udemy caters to diverse interests and professional needs.\n",
      "\n",
      "What sets Udemy apart is its flexibility and accessibility. You can learn anytime, anywhere, using any device. Whether you're a busy professional wanting to upskill or a curious individual eager to explore a new hobby, Udemy's vast library has something for you. Courses are taught by industry experts, ensuring that you receive up-to-date knowledge and real-world applications.\n",
      "\n",
      "Additionally, Udemy frequently offers discounts, making high-quality education affordable. With a user-friendly interface and a robust community for support, learners can engage and collaborate, enriching their educational experience.\n",
      "\n",
      "So why wait? Dive into Udemy and unlock your potential today. Your next big opportunity could be just a course away!\n",
      "Context: \n",
      "```json\n",
      "{\n",
      "  \"Reviewer\": \"SEO_Reviewer\",\n",
      "  \"Review\": \"As an SEO reviewer, here are my suggestions for optimizing your content:\\n\\n- **Incorporate Relevant Keywords:** Include targeted keywords such as \\\"online courses,\\\" \\\"learn new skills,\\\" and \\\"Udemy reviews\\\" throughout the content to enhance search visibility and align with user searches.\\n\\n- **Add Internal and External Links:** Link to credible sources for statistics or related learning articles and consider including internal links to relevant content on your own site, improving your site's authority and user engagement.\\n\\n- **Utilize Subheadings and Bullet Points:** Break the text into subheadings and bullet points for better readability and scannability. This also helps search engines index your content more effectively.\"\n",
      "}\n",
      "```\n",
      "```json\n",
      "{\n",
      "  \"Reviewer\": \"Legal_Reviewer\",\n",
      "  \"Review\": \"- **Intellectual Property Compliance:** Ensure that all content, including descriptions of courses and images, complies with copyright laws and that you have permission to use any third-party content or materials mentioned.\\n\\n- **Accuracy of Claims:** Verify that any claims regarding course offerings, discounts, or potential career benefits are accurate and substantiated to avoid misleading consumers and potential false advertising claims.\\n\\n- **Terms of Use and Privacy Policy Reference:** Include a reference to Udemy's terms of use and privacy policy to inform users about their rights and data protection measures when using the platform.\"\n",
      "}\n",
      "```\n",
      "\n",
      "--------------------------------------------------------------------------------\n",
      "\u001b[33mEthics_Reviewer\u001b[0m (to Critic):\n",
      "\n",
      "As an ethics reviewer, I provide the following observations:\n",
      "\n",
      "- **Transparency in Course Quality:** Ensure that the descriptions of courses accurately reflect the quality and depth of instruction provided by the instructors to avoid misleading potential learners.\n",
      "\n",
      "- **Fair Pricing Practices:** Make it clear if discounts are time-limited or conditional so that learners are fully aware of the pricing structure and not misled by promotional messaging.\n",
      "\n",
      "- **User Data Protection:** Emphasize Udemy's commitment to safeguarding user data and clarity in their privacy policies to reassure users about the ethical handling of their personal information.\n",
      "\n",
      "--------------------------------------------------------------------------------\n",
      "\u001b[34m\n",
      "********************************************************************************\u001b[0m\n",
      "\u001b[34mStarting a new chat....\u001b[0m\n",
      "\u001b[34m\n",
      "********************************************************************************\u001b[0m\n",
      "\u001b[33mCritic\u001b[0m (to Meta_Reviewer):\n",
      "\n",
      "Aggregrate feedback from all reviewers and give final suggestions on the writing.\n",
      "Context: \n",
      "```json\n",
      "{\n",
      "  \"Reviewer\": \"SEO_Reviewer\",\n",
      "  \"Review\": \"As an SEO reviewer, here are my suggestions for optimizing your content:\\n\\n- **Incorporate Relevant Keywords:** Include targeted keywords such as \\\"online courses,\\\" \\\"learn new skills,\\\" and \\\"Udemy reviews\\\" throughout the content to enhance search visibility and align with user searches.\\n\\n- **Add Internal and External Links:** Link to credible sources for statistics or related learning articles and consider including internal links to relevant content on your own site, improving your site's authority and user engagement.\\n\\n- **Utilize Subheadings and Bullet Points:** Break the text into subheadings and bullet points for better readability and scannability. This also helps search engines index your content more effectively.\"\n",
      "}\n",
      "```\n",
      "```json\n",
      "{\n",
      "  \"Reviewer\": \"Legal_Reviewer\",\n",
      "  \"Review\": \"- **Intellectual Property Compliance:** Ensure that all content, including descriptions of courses and images, complies with copyright laws and that you have permission to use any third-party content or materials mentioned.\\n\\n- **Accuracy of Claims:** Verify that any claims regarding course offerings, discounts, or potential career benefits are accurate and substantiated to avoid misleading consumers and potential false advertising claims.\\n\\n- **Terms of Use and Privacy Policy Reference:** Include a reference to Udemy's terms of use and privacy policy to inform users about their rights and data protection measures when using the platform.\"\n",
      "}\n",
      "```\n",
      "```json\n",
      "{\n",
      "  \"reviewer\": \"Ethics_Reviewer\",\n",
      "  \"review\": \"- **Transparency in Course Quality:** Ensure that the descriptions of courses accurately reflect the quality and depth of instruction provided by the instructors to avoid misleading potential learners.\\n\\n- **Fair Pricing Practices:** Make it clear if discounts are time-limited or conditional so that learners are fully aware of the pricing structure and not misled by promotional messaging.\\n\\n- **User Data Protection:** Emphasize Udemy's commitment to safeguarding user data and clarity in their privacy policies to reassure users about the ethical handling of their personal information.\"\n",
      "}\n",
      "```\n",
      "\n",
      "--------------------------------------------------------------------------------\n",
      "\u001b[33mMeta_Reviewer\u001b[0m (to Critic):\n",
      "\n",
      "After aggregating the feedback from all reviewers, here are the main points and final suggestions to improve the content:\n",
      "\n",
      "### Summary of Feedback:\n",
      "\n",
      "1. **SEO Optimization (SEO_Reviewer):**\n",
      "   - Incorporate relevant keywords throughout the content.\n",
      "   - Add internal and external links to enhance credibility and user engagement.\n",
      "   - Utilize subheadings and bullet points for better readability and indexing.\n",
      "\n",
      "2. **Legal Compliance (Legal_Reviewer):**\n",
      "   - Ensure compliance with intellectual property laws regarding the use of third-party content.\n",
      "   - Verify the accuracy of any claims made about course offerings.\n",
      "   - Include references to Udemy's terms of use and privacy policy.\n",
      "\n",
      "3. **Ethical Considerations (Ethics_Reviewer):**\n",
      "   - Provide transparent descriptions of courses to accurately represent their quality.\n",
      "   - Clearly communicate pricing structures, especially concerning discounts.\n",
      "   - Highlight Udemy's commitment to user data protection and ethical handling of personal information.\n",
      "\n",
      "### Final Suggestions:\n",
      "\n",
      "- **Integrate Keywords**: Assess and integrate keywords strategically within your content without compromising readability. This will improve your content’s search engine ranking.\n",
      "\n",
      "- **Structure Content**: Use subheadings and bullet points effectively to break down information. This makes it easier to read and allows both users and search engines to navigate through the content more efficiently.\n",
      "\n",
      "- **Ensure Legal Compliance**: Review your content to confirm that all claims about courses, pricing, and third-party materials are accurate and legally compliant. Consider consulting a legal professional if necessary.\n",
      "\n",
      "- **Clarify Pricing and Discounts**: Clearly indicate any promotional timing or conditions related to pricing to provide full transparency to potential learners.\n",
      "\n",
      "- **Enhance User Trust**: Include a dedicated section on user data protection and links to legal documents like terms of use and privacy policies to enhance trust and demonstrate ethical practices.\n",
      "\n",
      "By addressing these suggestions, the content will not only be more aligned with SEO best practices but will also adhere to legal standards and ethical considerations, ultimately providing a better experience for users.\n",
      "\n",
      "--------------------------------------------------------------------------------\n",
      "\u001b[33mCritic\u001b[0m (to Writer):\n",
      "\n",
      "After aggregating the feedback from all reviewers, here are the main points and final suggestions to improve the content:\n",
      "\n",
      "### Summary of Feedback:\n",
      "\n",
      "1. **SEO Optimization (SEO_Reviewer):**\n",
      "   - Incorporate relevant keywords throughout the content.\n",
      "   - Add internal and external links to enhance credibility and user engagement.\n",
      "   - Utilize subheadings and bullet points for better readability and indexing.\n",
      "\n",
      "2. **Legal Compliance (Legal_Reviewer):**\n",
      "   - Ensure compliance with intellectual property laws regarding the use of third-party content.\n",
      "   - Verify the accuracy of any claims made about course offerings.\n",
      "   - Include references to Udemy's terms of use and privacy policy.\n",
      "\n",
      "3. **Ethical Considerations (Ethics_Reviewer):**\n",
      "   - Provide transparent descriptions of courses to accurately represent their quality.\n",
      "   - Clearly communicate pricing structures, especially concerning discounts.\n",
      "   - Highlight Udemy's commitment to user data protection and ethical handling of personal information.\n",
      "\n",
      "### Final Suggestions:\n",
      "\n",
      "- **Integrate Keywords**: Assess and integrate keywords strategically within your content without compromising readability. This will improve your content’s search engine ranking.\n",
      "\n",
      "- **Structure Content**: Use subheadings and bullet points effectively to break down information. This makes it easier to read and allows both users and search engines to navigate through the content more efficiently.\n",
      "\n",
      "- **Ensure Legal Compliance**: Review your content to confirm that all claims about courses, pricing, and third-party materials are accurate and legally compliant. Consider consulting a legal professional if necessary.\n",
      "\n",
      "- **Clarify Pricing and Discounts**: Clearly indicate any promotional timing or conditions related to pricing to provide full transparency to potential learners.\n",
      "\n",
      "- **Enhance User Trust**: Include a dedicated section on user data protection and links to legal documents like terms of use and privacy policies to enhance trust and demonstrate ethical practices.\n",
      "\n",
      "By addressing these suggestions, the content will not only be more aligned with SEO best practices but will also adhere to legal standards and ethical considerations, ultimately providing a better experience for users.\n",
      "\n",
      "--------------------------------------------------------------------------------\n",
      "\u001b[33mWriter\u001b[0m (to Critic):\n",
      "\n",
      "**Unlock Your Potential with Udemy: A World of Learning at Your Fingertips**\n",
      "\n",
      "In today’s fast-paced world, continuous learning is essential to success, and Udemy.com offers a vast array of opportunities to expand your skill set. With over 155,000 online courses covering topics such as programming, graphic design, photography, and personal development, Udemy is designed to meet diverse interests and professional needs.\n",
      "\n",
      "### Flexible Learning Experience\n",
      "- **Access Anytime, Anywhere**: Learn at your own pace on any device, making education convenient for busy professionals and curious individuals alike.\n",
      "- **Expert Instructors**: Courses are led by industry professionals, ensuring up-to-date and practical knowledge.\n",
      "\n",
      "### Affordable Education\n",
      "Udemy frequently offers discounts, making high-quality education accessible. Be sure to consult Udemy’s [pricing page](https://www.udemy.com/pricing/) for current promotions.\n",
      "\n",
      "### Transparency and Trust\n",
      "Udemy is committed to user data protection and ethical practices. Familiarize yourself with [Udemy’s terms of use](https://www.udemy.com/terms/) and [privacy policy](https://www.udemy.com/privacy/) to understand their commitment to safety.\n",
      "\n",
      "Explore Udemy today and unlock your potential. Your next big opportunity is just a course away!\n",
      "\n",
      "--------------------------------------------------------------------------------\n"
     ]
    }
   ],
   "source": [
    "chat_results = critic.initiate_chat(\n",
    "    recipient=writer,\n",
    "    message=task,\n",
    "    max_turns=2,\n",
    "    summary_method=\"last_msg\"\n",
    ")"
   ]
  },
  {
   "cell_type": "markdown",
   "id": "76f2a347-5546-48fa-96ae-9bcc1b1bb62a",
   "metadata": {},
   "source": [
    "## Why does this matter?\n",
    "\n",
    "One of the main weaknesses of LLMs like chatGPT, as you probably have noticed yourself if you've been using them, is that:\n",
    "* when provided with complex tasks composed of several requirements, the LLM will most likely not accomplish all requirements properly: with nested chats, you can ensure that all requirements are all considered.\n",
    "* LLMs very rarely directly provide the result you want in one step, you then have to keep asking them for specific refinements on the initial content: with nested chats, if you often ask for the same type of refinements, you can automatize this process to always accomplish these refinements."
   ]
  },
  {
   "cell_type": "code",
   "execution_count": null,
   "id": "d0d50b5e-1621-4160-8153-9cabea09280c",
   "metadata": {},
   "outputs": [],
   "source": []
  }
 ],
 "metadata": {
  "kernelspec": {
   "display_name": "Python 3 (ipykernel)",
   "language": "python",
   "name": "python3"
  },
  "language_info": {
   "codemirror_mode": {
    "name": "ipython",
    "version": 3
   },
   "file_extension": ".py",
   "mimetype": "text/x-python",
   "name": "python",
   "nbconvert_exporter": "python",
   "pygments_lexer": "ipython3",
   "version": "3.12.6"
  }
 },
 "nbformat": 4,
 "nbformat_minor": 5
}
