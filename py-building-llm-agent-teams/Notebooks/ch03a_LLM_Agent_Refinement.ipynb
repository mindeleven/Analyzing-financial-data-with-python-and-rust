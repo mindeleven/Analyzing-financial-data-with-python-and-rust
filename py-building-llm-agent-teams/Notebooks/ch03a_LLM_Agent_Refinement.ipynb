{
 "cells": [
  {
   "cell_type": "markdown",
   "id": "d634051e-a43d-44e0-9a43-b21c5c6e0d6c",
   "metadata": {},
   "source": [
    "## LLM Agent Refinement"
   ]
  },
  {
   "cell_type": "markdown",
   "id": "adc511b1-3e9d-453f-a42b-5d4580ad706d",
   "metadata": {},
   "source": [
    "### Single Agent Refinement"
   ]
  },
  {
   "cell_type": "markdown",
   "id": "12460ba8-f9ab-4be9-93d6-6b27e9a391e0",
   "metadata": {},
   "source": [
    "We start with a single agent whose goal it is to accomplish the task of writing a blog post about Udemy.com.\n",
    "\n",
    "We will ask the agent to refine its own work. This will work, but it will have some limitations... If we start asking the writer to refine too many aspects of the post, we'll start noticing that it will have a hard time considering them all without forgetting any aspect. "
   ]
  },
  {
   "cell_type": "code",
   "execution_count": 63,
   "id": "c580ac39-b8e6-42ef-b601-b4c339c9f771",
   "metadata": {},
   "outputs": [],
   "source": [
    "# from openai import OpenAI\n",
    "import pandas as pd\n",
    "import autogen"
   ]
  },
  {
   "cell_type": "code",
   "execution_count": 64,
   "id": "53aec610-216d-40d4-bd35-40cddc58cdfc",
   "metadata": {},
   "outputs": [
    {
     "name": "stdout",
     "output_type": "stream",
     "text": [
      "Don't be a fool and send your api key to GitHub!\n"
     ]
    }
   ],
   "source": [
    "api_key = pd.read_csv(\"~/tmp/chat_gpt/postman_key_1.txt\", sep=\" \", header=None)[0][0]\n",
    "print(\"Don't be a fool and send your api key to GitHub!\")"
   ]
  },
  {
   "cell_type": "code",
   "execution_count": 65,
   "id": "b330c1f1-0bd3-4926-954c-39487342c3fb",
   "metadata": {},
   "outputs": [
    {
     "name": "stdout",
     "output_type": "stream",
     "text": [
      "Don't be a fool and send your api key to GitHub!\n"
     ]
    }
   ],
   "source": [
    "# creating a Conversable Agent to accomlpish a simple task\n",
    "# 1st thing to do is to create a LLM config that specifies which LLM we want to use\n",
    "# model from the list of models provided by OpenAI https://platform.openai.com/docs/models/continuous-model-upgrades\n",
    "llm_config = {\n",
    "    \"model\": \"gpt-4o\",\n",
    "    # \"model\": \"gpt-3.5-turbo\",\n",
    "    \"api_key\": api_key\n",
    "    }\n",
    "print(\"Don't be a fool and send your api key to GitHub!\")"
   ]
  },
  {
   "cell_type": "code",
   "execution_count": 66,
   "id": "6a5e9bc7-e5ad-4142-a8d9-42c7debcf96d",
   "metadata": {},
   "outputs": [],
   "source": [
    "# defining our task\n",
    "# topics: udemy.com // generative AI // machine learning // blockchains\n",
    "task = '''\n",
    "       Write a concise but engaging blogpost about\n",
    "       udemy.com. Make sure the blogpost is\n",
    "       within 200 words.\n",
    "       '''"
   ]
  },
  {
   "cell_type": "code",
   "execution_count": 67,
   "id": "dbdb5193-f682-43bb-9c64-b9ec928f14d7",
   "metadata": {},
   "outputs": [],
   "source": [
    "# creating a writer agent\n",
    "# this writer agent will also be asked to refine its own work\n",
    "writer = autogen.AssistantAgent(\n",
    "    name=\"Writer\",\n",
    "    system_message=\"You are a writer. You write engaging and concise \" \n",
    "        \"blogposts (with title) on given topics. You must polish your \"\n",
    "        \"writing based on the feedback you receive and give a refined \"\n",
    "        \"version. Only return your final work without additional comments.\",\n",
    "    llm_config=llm_config,\n",
    ")"
   ]
  },
  {
   "cell_type": "markdown",
   "id": "0f242b53-704a-4043-b605-02a8f3db8652",
   "metadata": {},
   "source": [
    "To __get the single writer agent to work__ on this task we use the simple `generate_reply()` function."
   ]
  },
  {
   "cell_type": "code",
   "execution_count": 68,
   "id": "47575b92-78ce-415c-986e-6e7f5922bfba",
   "metadata": {},
   "outputs": [
    {
     "name": "stdout",
     "output_type": "stream",
     "text": [
      "**Unlocking Knowledge: The Udemy Revolution**\n",
      "\n",
      "In a world increasingly driven by technology and innovation, education has broken free from traditional classroom boundaries. Udemy.com, a pioneer in online learning, is at the forefront of this educational revolution, offering a gateway to myriad opportunities and insights.\n",
      "\n",
      "Founded in 2010, Udemy has transformed the landscape of learning by providing affordable, accessible, and diverse courses across countless disciplines. Whether you're eager to dive into coding, enhance your business acumen, or explore a creative passion like photography or graphic design, Udemy's expansive library—comprised of over 183,000 courses taught by expert instructors—ensures that there's something for everyone.\n",
      "\n",
      "The platform's appeal lies in its flexibility; students can learn at their own pace, revisiting materials as needed. This self-directed approach suits today’s busy lifestyle, making it easier for individuals to balance career growth with personal development. Furthermore, Udemy constantly updates its offerings to keep pace with emerging trends, ensuring learners stay relevant in an ever-evolving job market.\n",
      "\n",
      "For students, professionals, and lifelong learners alike, Udemy stands as a testament to the power of digital learning to democratize education—empowering individuals to pursue knowledge without limits and transform their futures. Ready to learn something new? The journey begins with a single click.\n"
     ]
    }
   ],
   "source": [
    "reply = writer.generate_reply(messages=[{\"content\": task, \"role\": \"user\"}])\n",
    "print(reply)"
   ]
  },
  {
   "cell_type": "markdown",
   "id": "af4007a4-89fa-4acb-8510-8d519c6c8e6f",
   "metadata": {},
   "source": [
    "### Two-agents Reflection: Refinement"
   ]
  },
  {
   "cell_type": "markdown",
   "id": "8bb1a263-32f5-4dea-94ae-4d07343d1507",
   "metadata": {},
   "source": [
    "We have a first result but we feel like it could use some refinement. The writer agent itself will have a hard time covering all the different aspects we want to have refined therefore to address this limitation we use a sequential chat of agents.\n",
    "\n",
    "Within this __sequential chat of agents__ each will be specialized in refining a different aspect of the blogpost.\n",
    "\n",
    "In the following example we get two agents to work together to refine the result (the blog post) of the first agent."
   ]
  },
  {
   "cell_type": "markdown",
   "id": "0496f05c-f60e-4bee-ac15-10832f653eb8",
   "metadata": {},
   "source": [
    "__This time we're going to create a chat with two agents:__\n",
    "* The Writer who's going to write the blogpost\n",
    "* The Critic who's going to reflect on the work of the writer and provide constructive criticism\n",
    "\n",
    "Since each agent will be focused on a single aspect of the task, this will give us a better result for each aspect, which should yield a task that is better fulfilled. \n",
    "\n",
    "The agents will acomplish the same task, so we won't need to update that, but we need to re-define our agents:"
   ]
  },
  {
   "cell_type": "code",
   "execution_count": 69,
   "id": "cd99b62f-7b7d-49f4-ac40-2f7bfa8d9ae5",
   "metadata": {},
   "outputs": [],
   "source": [
    "# writer agent, similar to the one we've already defined above\n",
    "writer = autogen.AssistantAgent(\n",
    "    name=\"Writer\",\n",
    "    system_message=\"You are a writer. You write engaging and concise \" \n",
    "        \"blogposts (with title) on given topics. You must polish your \"\n",
    "        \"writing based on the feedback you receive from other agents and give a refined \"\n",
    "        \"version. Only return your final work without additional comments.\",\n",
    "    llm_config=llm_config,\n",
    ")"
   ]
  },
  {
   "cell_type": "code",
   "execution_count": 70,
   "id": "0e0403b0-8fa5-4b2d-9a05-34648e9b3e79",
   "metadata": {},
   "outputs": [],
   "source": [
    "critic = autogen.AssistantAgent(\n",
    "    name=\"Critic\",\n",
    "    llm_config=llm_config,\n",
    "    system_message=\"You are a critic. You review the work of \"\n",
    "                \"the writer and provide constructive \"\n",
    "                \"feedback to help improve the quality of the content.\",\n",
    ")"
   ]
  },
  {
   "cell_type": "markdown",
   "id": "5cb2ad71-3adb-4f7f-8471-ff1b70223e37",
   "metadata": {},
   "source": [
    "We will initiate the chat by getting the critic to send a message, the task we specified earlier, to the writer. The writer will then answer the critic with a first proposal, the critic will provide constructive criticism, and they will do this for two rounds.\n",
    "\n",
    "We'll specify that the summary method is the last message, because that should be the last version of refined article. This will allow us to easily pass this result to another app or function that could then publish it or do what we want to do with this blogpost."
   ]
  },
  {
   "cell_type": "code",
   "execution_count": 71,
   "id": "8fc1adc1-81b9-47bb-998b-92d5bedf79cf",
   "metadata": {},
   "outputs": [
    {
     "name": "stdout",
     "output_type": "stream",
     "text": [
      "\u001b[33mCritic\u001b[0m (to Writer):\n",
      "\n",
      "\n",
      "       Write a concise but engaging blogpost about\n",
      "       udemy.com. Make sure the blogpost is\n",
      "       within 200 words.\n",
      "       \n",
      "\n",
      "--------------------------------------------------------------------------------\n",
      "\u001b[33mWriter\u001b[0m (to Critic):\n",
      "\n",
      "**Unlocking Learning Opportunities with Udemy**\n",
      "\n",
      "In today's fast-paced digital world, continuous learning is a must. Enter Udemy.com, an expansive online platform revolutionizing education by making it accessible and adaptable for everyone. Founded in 2010, Udemy has become a leader in online learning, offering an impressive array of over 155,000 courses across various domains such as technology, business, arts, and personal development. \n",
      "\n",
      "What sets Udemy apart is its diverse community of instructors. Professionals and industry experts from around the world create content-rich courses, providing learners with practical, real-world knowledge. Whether you're looking to enhance your skills for career advancement, explore a new hobby, or gain essential knowledge in a particular field, Udemy has you covered.\n",
      "\n",
      "Courses are designed to be flexible, allowing learners to study at their own pace, anytime, and anywhere. With lifetime access to purchased courses, learners can revisit lectures and resources whenever they need to reinforce what they've learned. Moreover, Udemy's frequent promotions make courses affordable, making high-quality education accessible to all.\n",
      "\n",
      "Whether you're a complete beginner or a seasoned expert looking to upskill, Udemy.com offers the tools and resources to help you achieve your learning goals. Embrace the future of online learning and unlock your potential with Udemy today!\n",
      "\n",
      "--------------------------------------------------------------------------------\n",
      "\u001b[33mCritic\u001b[0m (to Writer):\n",
      "\n",
      "Your blog post on Udemy effectively highlights the platform's strengths and its appeal to a wide range of learners. However, here are a few suggestions to enhance the clarity and engagement of your writing:\n",
      "\n",
      "1. **Opening Hook**: The introduction could benefit from a stronger hook to immediately capture the reader's attention. Consider starting with a question or a striking statistic about online learning growth or Udemy's reach.\n",
      "\n",
      "2. **Focus on Unique Value**: While you mention the vast number of courses and diversity of instructors, elaborating on specific unique features—such as interactive elements, peer reviews, or certificate offerings—could provide additional interest for readers.\n",
      "\n",
      "3. **Flow and Structure**: The transition between the benefits (variety, expert instructors) and user experience (flexibility, lifetime access) sections is slightly abrupt. Adding a sentence to smoothly connect these points can improve flow.\n",
      "\n",
      "4. **Personal Touch**: Incorporating a brief anecdote or testimonial—either hypothetical or from a testimonial source—could add a personal touch and resonate more with readers.\n",
      "\n",
      "5. **Call to Action**: The final sentence is engaging, but a more direct call to action encouraging readers to explore the platform or assess their learning needs could create a stronger urgency to act.\n",
      "\n",
      "6. **Word Choice and Tone**: Simplifying some phrases could enhance readability. For example, \"Enter Udemy.com\" could be rephrased to something like \"Discover Udemy.com.\"\n",
      "\n",
      "Overall, the blog post effectively captures the benefits and appeal of Udemy, and with slight tweaks, it can become even more engaging and persuasive for potential learners.\n",
      "\n",
      "--------------------------------------------------------------------------------\n",
      "\u001b[33mWriter\u001b[0m (to Critic):\n",
      "\n",
      "**Discover New Horizons with Udemy**\n",
      "\n",
      "Have you ever wondered how to keep up with the rapidly evolving world around you? With online education booming, Udemy.com stands out as a game-changer by democratizing learning for everyone. Since its inception in 2010, Udemy has become a powerhouse in online education, boasting an astounding collection of over 155,000 courses in fields like technology, business, art, and more.\n",
      "\n",
      "What makes Udemy truly unique is its international community of instructors who are experts in their fields, offering hands-on, practical knowledge that you can apply immediately. Imagine learning programming from a software engineer or honing your business skills with an experienced entrepreneur—Udemy makes this a reality.\n",
      "\n",
      "Designed with flexibility in mind, Udemy allows you to learn at your own pace. Whether you're commuting, on a lunch break, or relaxing at home, you can dive into courses that fit your schedule. With lifetime access to course material, you're free to revisit and refresh your knowledge anytime you wish.\n",
      "\n",
      "From interactive elements that make learning engaging to certificates that add value to your resume, Udemy's features enhance your educational journey. Plus, its frequent promotions ensure quality learning is within everyone's reach.\n",
      "\n",
      "So, why wait? Explore Udemy.com today and take the first step toward unlocking your full potential. Embrace continuous learning and transform your aspirations into reality!\n",
      "\n",
      "--------------------------------------------------------------------------------\n"
     ]
    }
   ],
   "source": [
    "chat_result = critic.initiate_chat(\n",
    "    recipient=writer,\n",
    "    message=task,\n",
    "    max_turns=2, # we predefine the number of turns till we get the final result\n",
    "    summary_method=\"last_msg\" # we don't want a summary of the whole chat, just the last (final) version\n",
    ")"
   ]
  },
  {
   "cell_type": "code",
   "execution_count": 72,
   "id": "5c092f59-7f32-4230-9191-e3c1d3636e3a",
   "metadata": {},
   "outputs": [],
   "source": [
    "# exploring the last message which is our final version of the blogpost through the summary\n",
    "import pprint"
   ]
  },
  {
   "cell_type": "code",
   "execution_count": 73,
   "id": "aec44873-cfbc-4228-8b17-9715961df555",
   "metadata": {},
   "outputs": [
    {
     "name": "stdout",
     "output_type": "stream",
     "text": [
      "('**Discover New Horizons with Udemy**\\n'\n",
      " '\\n'\n",
      " 'Have you ever wondered how to keep up with the rapidly evolving world around '\n",
      " 'you? With online education booming, Udemy.com stands out as a game-changer '\n",
      " 'by democratizing learning for everyone. Since its inception in 2010, Udemy '\n",
      " 'has become a powerhouse in online education, boasting an astounding '\n",
      " 'collection of over 155,000 courses in fields like technology, business, art, '\n",
      " 'and more.\\n'\n",
      " '\\n'\n",
      " 'What makes Udemy truly unique is its international community of instructors '\n",
      " 'who are experts in their fields, offering hands-on, practical knowledge that '\n",
      " 'you can apply immediately. Imagine learning programming from a software '\n",
      " 'engineer or honing your business skills with an experienced '\n",
      " 'entrepreneur—Udemy makes this a reality.\\n'\n",
      " '\\n'\n",
      " 'Designed with flexibility in mind, Udemy allows you to learn at your own '\n",
      " \"pace. Whether you're commuting, on a lunch break, or relaxing at home, you \"\n",
      " 'can dive into courses that fit your schedule. With lifetime access to course '\n",
      " \"material, you're free to revisit and refresh your knowledge anytime you \"\n",
      " 'wish.\\n'\n",
      " '\\n'\n",
      " 'From interactive elements that make learning engaging to certificates that '\n",
      " \"add value to your resume, Udemy's features enhance your educational journey. \"\n",
      " \"Plus, its frequent promotions ensure quality learning is within everyone's \"\n",
      " 'reach.\\n'\n",
      " '\\n'\n",
      " 'So, why wait? Explore Udemy.com today and take the first step toward '\n",
      " 'unlocking your full potential. Embrace continuous learning and transform '\n",
      " 'your aspirations into reality!')\n"
     ]
    }
   ],
   "source": [
    "pprint.pprint(chat_result.summary)"
   ]
  },
  {
   "cell_type": "markdown",
   "id": "0b88b58c-a921-402d-93b6-140254e596fd",
   "metadata": {},
   "source": [
    "### Nested chats: multi-agent refinement"
   ]
  },
  {
   "cell_type": "markdown",
   "id": "3b33ff94-ef42-4b2f-89d6-f654b0d7cc56",
   "metadata": {},
   "source": [
    "__Additional reviewers:__\n",
    "\n",
    "We can now improve our refinement by using multiple agent that each specialize in a specific type of criticism and refinement. We're going to add 3 different types of critics:\n",
    "* A **SEO reviewer**: This reviewer will provide improvements to optimize the content produced for search engines\n",
    "* A **Legal reviewer**: This reviewer will provide criticisms to ensure that the content produced is legally compliant\n",
    "* An **Ethics reviewer**: This reviewer will ensure that the content is ethically sound\n",
    "\n",
    "The right way to think about this is that all these agents are virtually one agent, the critic. What will happen is that they will all provide their criticism for various aspects of the blogpost and report them back to the critic. The critic will then share them with the writer to get a better version. Now this might be a lot of criticism information, so we'll have to find a way to make it succint and clear for the writer, we'll see how to do that next;  \n",
    "but first let's first these 3 additional reviewer agents:"
   ]
  },
  {
   "cell_type": "code",
   "execution_count": 74,
   "id": "e07a7f12-795b-488f-ab26-a99560ee8813",
   "metadata": {},
   "outputs": [
    {
     "data": {
      "text/plain": [
       "<autogen.agentchat.assistant_agent.AssistantAgent at 0x10fba5b20>"
      ]
     },
     "execution_count": 74,
     "metadata": {},
     "output_type": "execute_result"
    }
   ],
   "source": [
    "SEO_reviewer = autogen.AssistantAgent(\n",
    "    name=\"SEO Reviewer\",\n",
    "    llm_config=llm_config,\n",
    "    system_message=\"You are an SEO reviewer, known for \"\n",
    "        \"your ability to optimize content for search engines, \"\n",
    "        \"ensuring that it ranks well and attracts organic traffic. \" \n",
    "        \"Make sure your suggestion is concise (within 3 bullet points), \"\n",
    "        \"concrete and to the point. \"\n",
    "        \"Begin the review by stating your role.\",\n",
    ")\n",
    "SEO_reviewer"
   ]
  },
  {
   "cell_type": "code",
   "execution_count": 75,
   "id": "51f00fb3-2f00-4423-a249-786fb1bbd071",
   "metadata": {},
   "outputs": [
    {
     "data": {
      "text/plain": [
       "<autogen.agentchat.assistant_agent.AssistantAgent at 0x10fba6ae0>"
      ]
     },
     "execution_count": 75,
     "metadata": {},
     "output_type": "execute_result"
    }
   ],
   "source": [
    "legal_reviewer = autogen.AssistantAgent(\n",
    "    name=\"Legal Reviewer\",\n",
    "    llm_config=llm_config,\n",
    "    system_message=\"You are a legal reviewer, known for \"\n",
    "        \"your ability to ensure that content is legally compliant \"\n",
    "        \"and free from any potential legal issues. \"\n",
    "        \"Make sure your suggestion is concise (within 3 bullet points), \"\n",
    "        \"concrete and to the point. \"\n",
    "        \"Begin the review by stating your role.\",\n",
    ")\n",
    "legal_reviewer"
   ]
  },
  {
   "cell_type": "code",
   "execution_count": 76,
   "id": "b52606c9-8267-409a-9361-46987b0cee07",
   "metadata": {},
   "outputs": [
    {
     "data": {
      "text/plain": [
       "<autogen.agentchat.assistant_agent.AssistantAgent at 0x10fba4560>"
      ]
     },
     "execution_count": 76,
     "metadata": {},
     "output_type": "execute_result"
    }
   ],
   "source": [
    "ethics_reviewer = autogen.AssistantAgent(\n",
    "    name=\"Ethics Reviewer\",\n",
    "    llm_config=llm_config,\n",
    "    system_message=\"You are an ethics reviewer, known for \"\n",
    "        \"your ability to ensure that content is ethically sound \"\n",
    "        \"and free from any potential ethical issues. \" \n",
    "        \"Make sure your suggestion is concise (within 3 bullet points), \"\n",
    "        \"concrete and to the point. \"\n",
    "        \"Begin the review by stating your role. \",\n",
    ")\n",
    "ethics_reviewer"
   ]
  },
  {
   "cell_type": "markdown",
   "id": "5f1c2126-d63d-4840-b630-1b78977d948a",
   "metadata": {},
   "source": [
    "### Meta Reviewer Agent"
   ]
  },
  {
   "cell_type": "markdown",
   "id": "2d2ed1ce-2f9d-4aef-aac4-ab6c2925b6fa",
   "metadata": {},
   "source": [
    "Since all of these reviews is going to be a lot of data, we are going to add another agent who is going to play the role of a meta-reviewer, a reviewer that is going to gather the reviews of all other reviewers and provide a summary to the writer.\n",
    "\n",
    "The meta-reviewer will be provided by the context (summary of each previous review in a structured format) and will use the summary of each previous review to propose a final set of reviews that gathers all previous ones to the critic, who will then report them to the writer."
   ]
  },
  {
   "cell_type": "code",
   "execution_count": 77,
   "id": "5b92e330-1bbc-45a3-b1ab-4c4a29c0c7e2",
   "metadata": {},
   "outputs": [
    {
     "data": {
      "text/plain": [
       "<autogen.agentchat.assistant_agent.AssistantAgent at 0x10fb54ef0>"
      ]
     },
     "execution_count": 77,
     "metadata": {},
     "output_type": "execute_result"
    }
   ],
   "source": [
    "meta_reviewer = autogen.AssistantAgent(\n",
    "    name=\"Meta Reviewer\",\n",
    "    llm_config=llm_config,\n",
    "    system_message=\"You are a meta reviewer, you aggregate and review \"\n",
    "    \"the work of other reviewers and give a final suggestion on the content.\",\n",
    ")\n",
    "meta_reviewer"
   ]
  },
  {
   "cell_type": "markdown",
   "id": "2c48ada7-6b9a-4054-a37e-f41960d6b2d9",
   "metadata": {},
   "source": [
    "### Chat Orchestration with Nested Chats: Multi Agent Refinement"
   ]
  },
  {
   "cell_type": "markdown",
   "id": "effe02e2-360c-4c55-8ff9-1b3485651f40",
   "metadata": {},
   "source": [
    "The way our chat is going to work is that when the writer will answer the critic, this time, the critic will actually trigger a series of nested chats with each specialized reviewer (Critic -> Reviewer and then Reviewer -> Critic). \n",
    "\n",
    "We are also going to request from each reviewer that they send back their review in a specific format. Each review will send back a LLM generated summary of their review in the following JSON format:  \n",
    "`{'Reviewer': '', 'Review': ''}`  \n",
    "This will make it easier for the meta-reviewer to summarize all reviews.\n",
    "\n",
    "We will also define here is a simple function called `reflection_message()` that will create the following message:\n",
    "```\n",
    "Review the following content.\n",
    "\n",
    "\"BLOGPOST PROPOSED BY WRITER\"\n",
    "```\n",
    "We will call this function to create the message sent by the Critic to each specialized reviewer sequentially."
   ]
  },
  {
   "cell_type": "markdown",
   "id": "3d47db41-0077-4bc1-b591-50c688a7ecfa",
   "metadata": {},
   "source": [
    "The reflection_message() function defined here will create the following message:\n",
    "'''\n",
    "Review the following content.\n",
    "\"BLOGPOST PROPOSED BY WRITER\"\n",
    "'''\n",
    "This function will be called to create the message sent by the Critic to each specialized reviewer sequentially.    "
   ]
  },
  {
   "cell_type": "code",
   "execution_count": 78,
   "id": "a5f8d113-9d88-4d90-aee6-f19044531a22",
   "metadata": {},
   "outputs": [],
   "source": [
    "#def reflection_message(recipient, messages, sender, config):\n",
    "#    return f'''Review the following content. \n",
    "#            \\n\\n {recipient.chat_messages_for_summary(sender)[-1]['content']}'''\n",
    "def reflection_message(recipient, messages, sender, config):\n",
    "    return f\"Review the following content. \\n\\n {recipient.chat_messages_for_summary(sender)[-1]['content']}\""
   ]
  },
  {
   "cell_type": "markdown",
   "id": "f0c83790-3ab6-4570-82c7-6328525573aa",
   "metadata": {},
   "source": [
    "We are now going to define a new type of chat, a nested chat, that will trigger when the critic receives an answer. You can think about it like the inner monologue the Critic is having with other Reviewers that will help him provide the best possible criticism of the blogpost written by the reviewer. This is the structure our chat will follow:\n",
    "\n",
    "**Main chat**:  \n",
    "1. Critic -> Writer : Initial task (*\"Write a concise but engaging blogpost ...\"*)\n",
    "2. Writer -> Critic : First version of the `blogpost`, this will trigger the **nested chat**\n",
    "\n",
    "**Nested chat**:\n",
    "1. __Critic__ -> SEO reviewer: *\"Review the following content: `blogpost`\"*\n",
    "2. SEO reviewer -> Critic: `SEO review` with context `{'Reviewer': '', 'Review': ''}` \n",
    "3. Critic -> Legal reviewer: *\"Review the following content: `blogpost`\"*\n",
    "4. Legal reviewer -> Critic: `Legal review` with context `{'Reviewer': '', 'Review': ''}` \n",
    "5. Critic -> Ethics reviewer: *\"Review the following content: `blogpost`\"*\n",
    "6. Ethics reviewer -> Critic: `Ethics review` with context `{'Reviewer': '', 'Review': ''}`\n",
    "7. Critic (<span style=\"color:green\">has as this point received all three reviews</span>) -> Meta reviewer: *\"Aggregrate feedback from all reviewers and give final suggestions on the writing.\"*\n",
    "8. Meta reviewer -> Critic: Summary of all reviews with all contexts `{'Reviewer': '', 'Review': ''}`\n",
    "\n",
    "**Enf of nested chat**\n",
    "\n",
    "**Back to the main chat**:\n",
    "<br/><span style=\"color:green\">What the critic got out of the nested chat is the final result of the meta review.</span>\n",
    "1. Critic -> Writer : Summary of all reviews with all contexts `{'Reviewer': '', 'Review': ''}`\n",
    "2. Writer -> Critic : Refined version of the blogpost based on all reviews.\n",
    "\n",
    "Since we've already seen how to define chats one by one, we'll define our nested chat all at once in a list this time:"
   ]
  },
  {
   "cell_type": "code",
   "execution_count": 79,
   "id": "d5951ee0-a90a-4285-ac43-9cb3ee5dc65c",
   "metadata": {},
   "outputs": [
    {
     "data": {
      "text/plain": [
       "[{'recipient': <autogen.agentchat.assistant_agent.AssistantAgent at 0x10fba5b20>,\n",
       "  'message': <function __main__.reflection_message(recipient, messages, sender, config)>,\n",
       "  'summary_method': 'reflection_with_llm',\n",
       "  'summary_args': {'summary_prompt': \"Return review into as JSON object only:{'Reviewer': '', 'Review': ''}. Here Reviewer should be your role\"},\n",
       "  'max_turns': 1},\n",
       " {'recipient': <autogen.agentchat.assistant_agent.AssistantAgent at 0x10fba6ae0>,\n",
       "  'message': <function __main__.reflection_message(recipient, messages, sender, config)>,\n",
       "  'summary_method': 'reflection_with_llm',\n",
       "  'summary_args': {'summary_prompt': \"Return review into as JSON object only:{'Reviewer': '', 'Review': ''}\"},\n",
       "  'max_turns': 1},\n",
       " {'recipient': <autogen.agentchat.assistant_agent.AssistantAgent at 0x10fba4560>,\n",
       "  'message': <function __main__.reflection_message(recipient, messages, sender, config)>,\n",
       "  'summary_method': 'reflection_with_llm',\n",
       "  'summary_args': {'summary_prompt': \"Return review into as JSON object only:{'reviewer': '', 'review': ''}\"},\n",
       "  'max_turns': 1},\n",
       " {'recipient': <autogen.agentchat.assistant_agent.AssistantAgent at 0x10fb54ef0>,\n",
       "  'message': 'Aggregrate feedback from all reviewers and give final suggestions on the writing.',\n",
       "  'max_turns': 1}]"
      ]
     },
     "execution_count": 79,
     "metadata": {},
     "output_type": "execute_result"
    }
   ],
   "source": [
    "review_chats = [ # This is our nested chat\n",
    "    {\n",
    "     \"recipient\": SEO_reviewer, \n",
    "     \"message\": reflection_message, \n",
    "     \"summary_method\": \"reflection_with_llm\",\n",
    "     \"summary_args\": \n",
    "        {\n",
    "        \"summary_prompt\" : \n",
    "        \"Return review into as JSON object only:\"\n",
    "        \"{'Reviewer': '', 'Review': ''}. Here Reviewer should be your role\",\n",
    "        },\n",
    "     \"max_turns\": 1},\n",
    "    \n",
    "    {\n",
    "     \"recipient\": legal_reviewer, \n",
    "     \"message\": reflection_message, \n",
    "     \"summary_method\": \"reflection_with_llm\",\n",
    "     \"summary_args\": {\n",
    "            \"summary_prompt\": \"Return review into as JSON object only:\"\n",
    "            \"{'Reviewer': '', 'Review': ''}\",\n",
    "        },\n",
    "     \"max_turns\": 1},\n",
    "    \n",
    "    {\"recipient\": ethics_reviewer, \n",
    "     \"message\": reflection_message, \n",
    "     \"summary_method\": \"reflection_with_llm\",\n",
    "     \"summary_args\": {\"summary_prompt\" : \n",
    "        \"Return review into as JSON object only:\"\n",
    "        \"{'reviewer': '', 'review': ''}\",},\n",
    "     \"max_turns\": 1},\n",
    "    \n",
    "     {\"recipient\": meta_reviewer, \n",
    "      \"message\": \"Aggregrate feedback from all reviewers and give final suggestions on the writing.\", \n",
    "      \"max_turns\": 1},\n",
    "]\n",
    "review_chats"
   ]
  },
  {
   "cell_type": "markdown",
   "id": "6a7a1525-9cc4-46fb-bcc0-5870fb48e4df",
   "metadata": {},
   "source": [
    "* Note how the `message` for each nested chat is going to be constructed by the `reflection_message() function we previously defined\n",
    "* Note how each specialized reviewer will send back their review in the requested JSON format `{'reviewer': '', 'review': ''}`\n",
    "\n",
    "We now need to save and register this nested chat as a chat that will be **<span style=\"color:green\">only</span> triggered when the writer will contact the critic**:"
   ]
  },
  {
   "cell_type": "code",
   "execution_count": 80,
   "id": "b9d3975c-9148-41d4-be93-51f8da53cfde",
   "metadata": {},
   "outputs": [],
   "source": [
    "# registering the nested chat\n",
    "# review_chats, # list of sub-chats\n",
    "# trigger=writer, # this chat will be ONLY triggered when the writer contacts the critic\n",
    "critic.register_nested_chats(\n",
    "    review_chats,\n",
    "    trigger=writer,\n",
    ")"
   ]
  },
  {
   "cell_type": "markdown",
   "id": "1d8fff1a-c6ff-4e7a-8b4b-29c9e1cb5eca",
   "metadata": {},
   "source": [
    "### Defining the Main Chat"
   ]
  },
  {
   "cell_type": "markdown",
   "id": "9c788e21-8916-456a-997c-16791af2a29e",
   "metadata": {},
   "source": [
    "Ok, we are now ready to start this chat. We will start this with the main chat that will trigger the Critic's nested chat as soon as the writed send back an first proposal blogpost answer to the critic.\n",
    "\n",
    "Pay attention to the order in which the exchanges will happen and feel free to go back to the orchestration structure presented above to ensure that you understand how the nested chat works:"
   ]
  },
  {
   "cell_type": "code",
   "execution_count": 81,
   "id": "f6899c46-cfd9-4847-8db5-b9b3a49a963e",
   "metadata": {},
   "outputs": [
    {
     "name": "stdout",
     "output_type": "stream",
     "text": [
      "\u001b[33mCritic\u001b[0m (to Writer):\n",
      "\n",
      "\n",
      "       Write a concise but engaging blogpost about\n",
      "       udemy.com. Make sure the blogpost is\n",
      "       within 200 words.\n",
      "       \n",
      "\n",
      "--------------------------------------------------------------------------------\n",
      "\u001b[33mWriter\u001b[0m (to Critic):\n",
      "\n",
      "**Unlocking Learning Opportunities with Udemy**\n",
      "\n",
      "In today's fast-paced digital world, continuous learning is a must. Enter Udemy.com, an expansive online platform revolutionizing education by making it accessible and adaptable for everyone. Founded in 2010, Udemy has become a leader in online learning, offering an impressive array of over 155,000 courses across various domains such as technology, business, arts, and personal development. \n",
      "\n",
      "What sets Udemy apart is its diverse community of instructors. Professionals and industry experts from around the world create content-rich courses, providing learners with practical, real-world knowledge. Whether you're looking to enhance your skills for career advancement, explore a new hobby, or gain essential knowledge in a particular field, Udemy has you covered.\n",
      "\n",
      "Courses are designed to be flexible, allowing learners to study at their own pace, anytime, and anywhere. With lifetime access to purchased courses, learners can revisit lectures and resources whenever they need to reinforce what they've learned. Moreover, Udemy's frequent promotions make courses affordable, making high-quality education accessible to all.\n",
      "\n",
      "Whether you're a complete beginner or a seasoned expert looking to upskill, Udemy.com offers the tools and resources to help you achieve your learning goals. Embrace the future of online learning and unlock your potential with Udemy today!\n",
      "\n",
      "--------------------------------------------------------------------------------\n",
      "\u001b[34m\n",
      "********************************************************************************\u001b[0m\n",
      "\u001b[34mStarting a new chat....\u001b[0m\n",
      "\u001b[34m\n",
      "********************************************************************************\u001b[0m\n",
      "\u001b[33mCritic\u001b[0m (to SEO Reviewer):\n",
      "\n",
      "Review the following content. \n",
      "\n",
      " **Unlocking Learning Opportunities with Udemy**\n",
      "\n",
      "In today's fast-paced digital world, continuous learning is a must. Enter Udemy.com, an expansive online platform revolutionizing education by making it accessible and adaptable for everyone. Founded in 2010, Udemy has become a leader in online learning, offering an impressive array of over 155,000 courses across various domains such as technology, business, arts, and personal development. \n",
      "\n",
      "What sets Udemy apart is its diverse community of instructors. Professionals and industry experts from around the world create content-rich courses, providing learners with practical, real-world knowledge. Whether you're looking to enhance your skills for career advancement, explore a new hobby, or gain essential knowledge in a particular field, Udemy has you covered.\n",
      "\n",
      "Courses are designed to be flexible, allowing learners to study at their own pace, anytime, and anywhere. With lifetime access to purchased courses, learners can revisit lectures and resources whenever they need to reinforce what they've learned. Moreover, Udemy's frequent promotions make courses affordable, making high-quality education accessible to all.\n",
      "\n",
      "Whether you're a complete beginner or a seasoned expert looking to upskill, Udemy.com offers the tools and resources to help you achieve your learning goals. Embrace the future of online learning and unlock your potential with Udemy today!\n",
      "\n",
      "--------------------------------------------------------------------------------\n",
      "\u001b[33mSEO Reviewer\u001b[0m (to Critic):\n",
      "\n",
      "As an SEO reviewer, here are my suggestions to optimize the content for better search engine visibility:\n",
      "\n",
      "- **Incorporate Keywords Strategically**: Ensure the use of relevant keywords such as \"online courses\", \"flexible learning\", \"affordable education\", and \"professionals and industry experts\" throughout the content to improve search engine ranking.\n",
      "\n",
      "- **Optimize Headlines and Subheadings**: Enhance the title and subheadings with targeted keywords to capture search intent effectively, e.g., \"Benefits of Diverse Learning on Udemy\" or \"Affordable Online Education with Lifetime Access\".\n",
      "\n",
      "- **Add Internal and External Links**: Include links to related Udemy course categories or useful external resources to improve SEO ranking and provide additional value to users.\n",
      "\n",
      "--------------------------------------------------------------------------------\n",
      "\u001b[34m\n",
      "********************************************************************************\u001b[0m\n",
      "\u001b[34mStarting a new chat....\u001b[0m\n",
      "\u001b[34m\n",
      "********************************************************************************\u001b[0m\n",
      "\u001b[33mCritic\u001b[0m (to Legal Reviewer):\n",
      "\n",
      "Review the following content. \n",
      "\n",
      " **Unlocking Learning Opportunities with Udemy**\n",
      "\n",
      "In today's fast-paced digital world, continuous learning is a must. Enter Udemy.com, an expansive online platform revolutionizing education by making it accessible and adaptable for everyone. Founded in 2010, Udemy has become a leader in online learning, offering an impressive array of over 155,000 courses across various domains such as technology, business, arts, and personal development. \n",
      "\n",
      "What sets Udemy apart is its diverse community of instructors. Professionals and industry experts from around the world create content-rich courses, providing learners with practical, real-world knowledge. Whether you're looking to enhance your skills for career advancement, explore a new hobby, or gain essential knowledge in a particular field, Udemy has you covered.\n",
      "\n",
      "Courses are designed to be flexible, allowing learners to study at their own pace, anytime, and anywhere. With lifetime access to purchased courses, learners can revisit lectures and resources whenever they need to reinforce what they've learned. Moreover, Udemy's frequent promotions make courses affordable, making high-quality education accessible to all.\n",
      "\n",
      "Whether you're a complete beginner or a seasoned expert looking to upskill, Udemy.com offers the tools and resources to help you achieve your learning goals. Embrace the future of online learning and unlock your potential with Udemy today!\n",
      "Context: \n",
      "\n",
      "\n",
      "--------------------------------------------------------------------------------\n"
     ]
    },
    {
     "name": "stderr",
     "output_type": "stream",
     "text": [
      "/Users/juergenkober/Projects/Python+Rust/_github-repos/working-with-financial-data/py-building-llm-agent-teams/env/lib/python3.12/site-packages/autogen/agentchat/conversable_agent.py:1264: UserWarning: Cannot extract summary using reflection_with_llm: Error code: 400 - {'error': {'message': \"Invalid 'messages[1].name': string does not match pattern. Expected a string that matches the pattern '^[a-zA-Z0-9_-]+$'.\", 'type': 'invalid_request_error', 'param': 'messages[1].name', 'code': 'invalid_value'}}. Using an empty str as summary.\n",
      "  warnings.warn(\n"
     ]
    },
    {
     "name": "stdout",
     "output_type": "stream",
     "text": [
      "\u001b[33mLegal Reviewer\u001b[0m (to Critic):\n",
      "\n",
      "I am a legal reviewer. Here are my recommendations to ensure the content is legally compliant:\n",
      "\n",
      "1. **Accuracy of Claims**: Verify that all claims about the number of courses and the flexibility of learning on Udemy are accurate and up-to-date to avoid misleading representations, and confirm that the named features, like lifetime access and affordability, align with current terms and conditions.\n",
      "\n",
      "2. **Intellectual Property**: Ensure that no copyrighted materials, trademarks, or other intellectual property are used without proper attribution or permission, especially in logos or phrases like “Unlocking Learning Opportunities with Udemy.”\n",
      "\n",
      "3. **Terms and Conditions**: Clearly state or hyperlink to Udemy’s terms of use or policies related to access and course purchase limitations, especially on aspects like promotions or refunds, to preempt any user disputes.\n",
      "\n",
      "--------------------------------------------------------------------------------\n",
      "\u001b[34m\n",
      "********************************************************************************\u001b[0m\n",
      "\u001b[34mStarting a new chat....\u001b[0m\n",
      "\u001b[34m\n",
      "********************************************************************************\u001b[0m\n",
      "\u001b[33mCritic\u001b[0m (to Ethics Reviewer):\n",
      "\n",
      "Review the following content. \n",
      "\n",
      " **Unlocking Learning Opportunities with Udemy**\n",
      "\n",
      "In today's fast-paced digital world, continuous learning is a must. Enter Udemy.com, an expansive online platform revolutionizing education by making it accessible and adaptable for everyone. Founded in 2010, Udemy has become a leader in online learning, offering an impressive array of over 155,000 courses across various domains such as technology, business, arts, and personal development. \n",
      "\n",
      "What sets Udemy apart is its diverse community of instructors. Professionals and industry experts from around the world create content-rich courses, providing learners with practical, real-world knowledge. Whether you're looking to enhance your skills for career advancement, explore a new hobby, or gain essential knowledge in a particular field, Udemy has you covered.\n",
      "\n",
      "Courses are designed to be flexible, allowing learners to study at their own pace, anytime, and anywhere. With lifetime access to purchased courses, learners can revisit lectures and resources whenever they need to reinforce what they've learned. Moreover, Udemy's frequent promotions make courses affordable, making high-quality education accessible to all.\n",
      "\n",
      "Whether you're a complete beginner or a seasoned expert looking to upskill, Udemy.com offers the tools and resources to help you achieve your learning goals. Embrace the future of online learning and unlock your potential with Udemy today!\n",
      "Context: \n",
      "\n",
      "\n",
      "\n",
      "--------------------------------------------------------------------------------\n",
      "\u001b[33mEthics Reviewer\u001b[0m (to Critic):\n",
      "\n",
      "As an ethics reviewer, my role is to ensure the content is ethically sound and properly represents information. Here are my suggestions:\n",
      "\n",
      "- Inclusivity and Accessibility: Ensure that the content recognizes and addresses any accessibility issues for individuals with disabilities. Emphasize any features or initiatives Udemy has in place to support diverse learners.\n",
      "\n",
      "- Bias and Representation: While highlighting diverse instructors is positive, ensure that the message conveys equitable representation of global perspectives and does not unintentionally suggest that any particular demographic is predominantly in charge of content creation.\n",
      "\n",
      "- Transparency in Advertising: The phrase \"frequent promotions make courses affordable\" might imply constant discounts. Ensure clarity on pricing models, avoiding any potential exaggeration that could mislead learners about costs.\n",
      "\n",
      "--------------------------------------------------------------------------------\n",
      "\u001b[34m\n",
      "********************************************************************************\u001b[0m\n",
      "\u001b[34mStarting a new chat....\u001b[0m\n",
      "\u001b[34m\n",
      "********************************************************************************\u001b[0m\n",
      "\u001b[33mCritic\u001b[0m (to Meta Reviewer):\n",
      "\n",
      "Aggregrate feedback from all reviewers and give final suggestions on the writing.\n",
      "Context: \n",
      "\n",
      "\n",
      "\n",
      "\n",
      "--------------------------------------------------------------------------------\n",
      "\u001b[33mMeta Reviewer\u001b[0m (to Critic):\n",
      "\n",
      "It seems you intended to provide context or specific feedback for me to review, but it's missing. Please provide the input or context you want analyzed so I can give you a comprehensive final suggestion.\n",
      "\n",
      "--------------------------------------------------------------------------------\n",
      "\u001b[33mCritic\u001b[0m (to Writer):\n",
      "\n",
      "It seems you intended to provide context or specific feedback for me to review, but it's missing. Please provide the input or context you want analyzed so I can give you a comprehensive final suggestion.\n",
      "\n",
      "--------------------------------------------------------------------------------\n",
      "\u001b[33mWriter\u001b[0m (to Critic):\n",
      "\n",
      "**Unlocking Learning Opportunities with Udemy**\n",
      "\n",
      "In today's fast-paced digital world, continuous learning is a must. Enter Udemy.com, an expansive online platform revolutionizing education by making it accessible and adaptable for everyone. Founded in 2010, Udemy has become a leader in online learning, offering an impressive array of over 155,000 courses across various domains such as technology, business, arts, and personal development.\n",
      "\n",
      "What sets Udemy apart is its diverse community of instructors. Professionals and industry experts from around the world create content-rich courses, providing learners with practical, real-world knowledge. Whether you're looking to enhance your skills for career advancement, explore a new hobby, or gain essential knowledge in a particular field, Udemy has you covered.\n",
      "\n",
      "Courses are designed to be flexible, allowing learners to study at their own pace, anytime, and anywhere. With lifetime access to purchased courses, learners can revisit lectures and resources whenever they need to reinforce what they've learned. Moreover, Udemy's frequent promotions make courses affordable, making high-quality education accessible to all.\n",
      "\n",
      "Whether you're a complete beginner or a seasoned expert looking to upskill, Udemy.com offers the tools and resources to help you achieve your learning goals. Embrace the future of online learning and unlock your potential with Udemy today!\n",
      "\n",
      "--------------------------------------------------------------------------------\n"
     ]
    }
   ],
   "source": [
    "chat_results = critic.initiate_chat(\n",
    "    recipient=writer,\n",
    "    message=task,\n",
    "    max_turns=2,\n",
    "    summary_method=\"last_msg\"\n",
    ")"
   ]
  },
  {
   "cell_type": "markdown",
   "id": "76f2a347-5546-48fa-96ae-9bcc1b1bb62a",
   "metadata": {},
   "source": [
    "## Why does this matter?\n",
    "\n",
    "One of the main weaknesses of LLMs like chatGPT, as you probably have noticed yourself if you've been using them, is that:\n",
    "* when provided with complex tasks composed of several requirements, the LLM will most likely not accomplish all requirements properly: with nested chats, you can ensure that all requirements are all considered.\n",
    "* LLMs very rarely directly provide the result you want in one step, you then have to keep asking them for specific refinements on the initial content: with nested chats, if you often ask for the same type of refinements, you can automatize this process to always accomplish these refinements."
   ]
  },
  {
   "cell_type": "code",
   "execution_count": null,
   "id": "d0d50b5e-1621-4160-8153-9cabea09280c",
   "metadata": {},
   "outputs": [],
   "source": []
  }
 ],
 "metadata": {
  "kernelspec": {
   "display_name": "Python 3 (ipykernel)",
   "language": "python",
   "name": "python3"
  },
  "language_info": {
   "codemirror_mode": {
    "name": "ipython",
    "version": 3
   },
   "file_extension": ".py",
   "mimetype": "text/x-python",
   "name": "python",
   "nbconvert_exporter": "python",
   "pygments_lexer": "ipython3",
   "version": "3.12.6"
  }
 },
 "nbformat": 4,
 "nbformat_minor": 5
}
