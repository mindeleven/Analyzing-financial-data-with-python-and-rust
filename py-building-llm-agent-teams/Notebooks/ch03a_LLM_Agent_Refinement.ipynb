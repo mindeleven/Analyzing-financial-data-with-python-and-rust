{
 "cells": [
  {
   "cell_type": "markdown",
   "id": "d634051e-a43d-44e0-9a43-b21c5c6e0d6c",
   "metadata": {},
   "source": [
    "## LLM Agent Refinement"
   ]
  },
  {
   "cell_type": "markdown",
   "id": "adc511b1-3e9d-453f-a42b-5d4580ad706d",
   "metadata": {},
   "source": [
    "### Single Agent Refinement"
   ]
  },
  {
   "cell_type": "markdown",
   "id": "12460ba8-f9ab-4be9-93d6-6b27e9a391e0",
   "metadata": {},
   "source": [
    "We start with a single agent whose goal it is to accomplish the task of writing a blog post about Udemy.com.\n",
    "\n",
    "We will ask the agent to refine its own work. This will work, but it will have some limitations... If we start asking the writer to refine too many aspects of the post, we'll start noticing that it will have a hard time considering them all without forgetting any aspect. "
   ]
  },
  {
   "cell_type": "code",
   "execution_count": 6,
   "id": "c580ac39-b8e6-42ef-b601-b4c339c9f771",
   "metadata": {},
   "outputs": [],
   "source": [
    "from openai import OpenAI\n",
    "import pandas as pd\n",
    "import autogen"
   ]
  },
  {
   "cell_type": "code",
   "execution_count": 3,
   "id": "53aec610-216d-40d4-bd35-40cddc58cdfc",
   "metadata": {},
   "outputs": [
    {
     "name": "stdout",
     "output_type": "stream",
     "text": [
      "Don't be a fool and send your api key to GitHub!\n"
     ]
    }
   ],
   "source": [
    "api_key = pd.read_csv(\"~/tmp/chat_gpt/autogen_agent_1.txt\", sep=\" \", header=None)[0][0]\n",
    "print(\"Don't be a fool and send your api key to GitHub!\")"
   ]
  },
  {
   "cell_type": "code",
   "execution_count": 4,
   "id": "b330c1f1-0bd3-4926-954c-39487342c3fb",
   "metadata": {},
   "outputs": [
    {
     "name": "stdout",
     "output_type": "stream",
     "text": [
      "Don't be a fool and send your api key to GitHub!\n"
     ]
    }
   ],
   "source": [
    "# creating a Conversable Agent to accomlpish a simple task\n",
    "# 1st thing to do is to create a LLM config that specifies which LLM we want to use\n",
    "# model from the list of models provided by OpenAI https://platform.openai.com/docs/models/continuous-model-upgrades\n",
    "llm_config = {\n",
    "    \"model\": \"gpt-4o-mini\",\n",
    "    # \"model\": \"gpt-3.5-turbo\",\n",
    "    \"api_key\": api_key\n",
    "    }\n",
    "print(\"Don't be a fool and send your api key to GitHub!\")"
   ]
  },
  {
   "cell_type": "code",
   "execution_count": 5,
   "id": "6a5e9bc7-e5ad-4142-a8d9-42c7debcf96d",
   "metadata": {},
   "outputs": [],
   "source": [
    "# defining our task\n",
    "task = '''\n",
    "       Write a concise but engaging blogpost about\n",
    "       udemy.com. Make sure the blogpost is\n",
    "       within 200 words.\n",
    "       '''"
   ]
  },
  {
   "cell_type": "code",
   "execution_count": 7,
   "id": "dbdb5193-f682-43bb-9c64-b9ec928f14d7",
   "metadata": {},
   "outputs": [
    {
     "name": "stdout",
     "output_type": "stream",
     "text": [
      "[autogen.oai.client: 10-02 09:42:56] {184} WARNING - The API key specified is not a valid OpenAI format; it won't work with the OpenAI-hosted model.\n"
     ]
    }
   ],
   "source": [
    "# creating a writer agent\n",
    "# this writer agent will also be asked to refine its own work\n",
    "writer = autogen.AssistantAgent(\n",
    "    name=\"Writer\",\n",
    "    system_message=\"You are a writer. You write engaging and concise \" \n",
    "        \"blogposts (with title) on given topics. You must polish your \"\n",
    "        \"writing based on the feedback you receive and give a refined \"\n",
    "        \"version. Only return your final work without additional comments.\",\n",
    "    llm_config=llm_config,\n",
    ")"
   ]
  },
  {
   "cell_type": "markdown",
   "id": "0f242b53-704a-4043-b605-02a8f3db8652",
   "metadata": {},
   "source": [
    "To __get the single writer agent to work__ on this task we use the simple `generate_reply()` function."
   ]
  },
  {
   "cell_type": "code",
   "execution_count": 8,
   "id": "47575b92-78ce-415c-986e-6e7f5922bfba",
   "metadata": {},
   "outputs": [
    {
     "name": "stdout",
     "output_type": "stream",
     "text": [
      "**Unlock Your Potential with Udemy: A Learning Revolution**\n",
      "\n",
      "In today's fast-paced world, continuous learning is essential for personal and professional growth, and Udemy.com is leading the charge. Founded in 2010, this online learning platform connects students with industry experts through a vast library of courses covering diverse subjects, from coding and digital marketing to photography and personal development.\n",
      "\n",
      "What sets Udemy apart is its user-friendly interface and accessibility. With thousands of courses available at your fingertips, learners can easily find content that fits their interests and goals. Many courses are self-paced, allowing busy professionals to carve out time for learning at their convenience. Plus, with frequent sales and discounts, expanding your skill set has never been more affordable.\n",
      "\n",
      "Whether you're looking to land a new job, switch careers, or simply explore a hobby, Udemy provides a unique opportunity to gain knowledge and skills from the comfort of your home. With a community of millions and countless success stories, Udemy is not just an online learning platform; it's a gateway to unlocking your full potential. Dive in today and start your journey of lifelong learning!\n"
     ]
    }
   ],
   "source": [
    "reply = writer.generate_reply(messages=[{\"content\": task, \"role\": \"user\"}])\n",
    "print(reply)"
   ]
  },
  {
   "cell_type": "markdown",
   "id": "af4007a4-89fa-4acb-8510-8d519c6c8e6f",
   "metadata": {},
   "source": [
    "### Two-agents Reflection: Refinement"
   ]
  },
  {
   "cell_type": "markdown",
   "id": "8bb1a263-32f5-4dea-94ae-4d07343d1507",
   "metadata": {},
   "source": [
    "And we have our result. Now if we want to refine different aspects and ask a single agent to do so, the writer will have a hard time covering them all... To address this limitation we can use a sequential chat of agents each specialized in refining a different aspect of the blogpost. Let's try it out."
   ]
  }
 ],
 "metadata": {
  "kernelspec": {
   "display_name": "Python 3 (ipykernel)",
   "language": "python",
   "name": "python3"
  },
  "language_info": {
   "codemirror_mode": {
    "name": "ipython",
    "version": 3
   },
   "file_extension": ".py",
   "mimetype": "text/x-python",
   "name": "python",
   "nbconvert_exporter": "python",
   "pygments_lexer": "ipython3",
   "version": "3.12.6"
  }
 },
 "nbformat": 4,
 "nbformat_minor": 5
}
