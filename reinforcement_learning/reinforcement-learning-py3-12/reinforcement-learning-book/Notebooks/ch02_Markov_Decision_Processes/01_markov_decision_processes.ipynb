{
 "cells": [
  {
   "cell_type": "markdown",
   "id": "a716eed0-a06c-4fe5-8857-c4c2201b3fa3",
   "metadata": {},
   "source": [
    "# The Foundation: Markov Decision Processes"
   ]
  },
  {
   "cell_type": "markdown",
   "id": "d5f7f5bd-7065-4ecf-98ce-ebaa544ad741",
   "metadata": {},
   "source": [
    "*[Documentinng a personal learning experience while working and coding with the printed book Deep Reinforcement Learning with Python: RLHF for Chatbots and Large Language Models by Nimish Sanghi, Apress, 2nd Edition July 2024, ISBN13 979-8868802720; the GitHup repo accompanying the book can be found at [nsanghi/drl-2ed](https://github.com/nsanghi/drl-2ed)]*"
   ]
  },
  {
   "cell_type": "markdown",
   "id": "40e7a91a-0a28-40b5-85ed-c616f546249b",
   "metadata": {},
   "source": [
    "Reinforcement Learning involves sequential decision making. Stochastic processes are used to model sequential decision-making behavior."
   ]
  },
  {
   "cell_type": "markdown",
   "id": "c9eec52a-2954-4377-be1e-3179699cec69",
   "metadata": {},
   "source": [
    "## Definition of Reinforcement Learning (RL)"
   ]
  },
  {
   "cell_type": "markdown",
   "id": "fea4c479-7004-4f2e-a721-c7f979eeb909",
   "metadata": {},
   "source": [
    "__The cycle of an agent interacting with the environment:__\n",
    "\n",
    "1. agent receiving/setting __state__ S<sub>t</sub> based on the environment input (data)\n",
    "2. agent taking action based on the current state\n",
    "   <br/>-- agent at time t in state S<sub>t</sub>, taking __specific action from available set__ (policy?)\n",
    "   <br/>-- System transitions to time t + 1\n",
    "3. agent getting a numerical __reward__\n",
    "   <br/>-- Environment responds with numerical reward R<sub>t</sub> + 1\n",
    "   <br/>-- Environment pushes agent into new state S<sub>t</sub> + 1\n",
    "5. agent finding itself in a __new state__ S<sub>t</sub> + 1"
   ]
  },
  {
   "cell_type": "markdown",
   "id": "0b4b80c8-69d5-4a47-9424-ab4462db370e",
   "metadata": {},
   "source": [
    "The cycle of __\"state to action to reward and next state\"__ goes on until the agent reaches some end-goal state. This end state could be the completion of a task or having reached a specific number of time steps.\n",
    "\n",
    "__\"The purpose of reinforcement learning is to have the agent learn the best possible action for each of the states it could find itself in, keeping in mind the cumulative reward maximization objective\"__ (Nimish Sanghi, Deep Reinforcement Learning with Python)."
   ]
  },
  {
   "cell_type": "markdown",
   "id": "bf27e173-4bb1-419c-ad01-5db4df25fe97",
   "metadata": {},
   "source": [
    "States are sometimes referred to as *observations*. A state may only be *partially observable* (the agent only gets partial details of the actual state). The agent takes an action based on a full or (only) partial state information. Therefore a learning algorithm can be significantly influenced by the level (or degree?) of observability."
   ]
  },
  {
   "cell_type": "markdown",
   "id": "6cbd7673-f347-4445-ab2c-fd9b7a39da7e",
   "metadata": {},
   "source": [
    "## Reinforcement Learning Environments"
   ]
  },
  {
   "cell_type": "markdown",
   "id": "e49c2036-98e4-49f6-9288-f2ff74854d5b",
   "metadata": {},
   "source": [
    "Examples to understand in depth the cycle of state/observation to action to reward to the next state."
   ]
  },
  {
   "cell_type": "markdown",
   "id": "2eb8cb78-aabb-40b9-9750-c1122bc1475d",
   "metadata": {},
   "source": [
    "### The Mountain Car Environment of the Gymnasium Library"
   ]
  },
  {
   "cell_type": "markdown",
   "id": "dde70e60-c43b-4689-a850-0b583995b64d",
   "metadata": {},
   "source": [
    "The [Gymnasium Library](https://gymnasium.farama.org/) is a Python library providing a standard interface for single-agent RL environments. It's a fork of OpenAI’s Gym library. The Gymnasium interface is simple, pythonic, and capable of representing general RL problems, and has a compatibility wrapper for old Gym environments."
   ]
  },
  {
   "cell_type": "code",
   "execution_count": 1,
   "id": "e611f063-7896-41ab-bee0-5782fc1accef",
   "metadata": {},
   "outputs": [],
   "source": [
    "# poetry add \"gymnasium[classic_control]\" needs to run to install pygame\n",
    "import gymnasium as gym\n",
    "from matplotlib import pyplot as plt"
   ]
  },
  {
   "cell_type": "markdown",
   "id": "527fbaaf-9e32-46cd-8be0-4463f6d565ce",
   "metadata": {},
   "source": [
    "__The following explanation is taken from the book author's [GitHup repo](https://github.com/nsanghi/drl-2ed/blob/main/chapter2/2.a-RL-environment.ipynb):__\n",
    "\n",
    "The [Mountain Car MDP](https://gymnasium.farama.org/environments/classic_control/mountain_car/) is a deterministic MDP that consists of a car placed stochastically at the bottom of a sinusoidal valley, with the only possible actions being the accelerations that can be applied to the car in either direction. The goal of the MDP is to strategically accelerate the car to reach the goal state on top of the right hill. There are two versions of the mountain car domain in gymnasium: one with discrete actions and one with continuous. This version is the one with discrete actions.\n",
    "\n",
    "Each environment has to specify an `action space` which are the ways an agent/policy can interact with the environment. In case of Mountain car we have following possible actions:\n",
    "\n",
    "There are 3 discrete deterministic actions:\n",
    "\n",
    "0: Accelerate to the left<br/>\n",
    "1: Don’t accelerate<br/>\n",
    "2: Accelerate to the right<br/>\n",
    "\n",
    "Each environment's state is defined as `Observation Space` - i.e. the part of the state this is visible to the agent to make decisions.\n",
    "\n",
    "The observation for Mountain Car is a ndarray with shape (2,) where the elements correspond to the following:\n",
    "\n",
    "| Num | Observation                          | Min   | Max  | Unit         |\n",
    "|-----|--------------------------------------|-------|------|--------------|\n",
    "| 0   | position of the car along the x-axis | -1.2  | 0.6  | position (m) |\n",
    "| 1   | velocity of the car                  | -0.07 | 0.07 | velocity (v) |\n",
    "\n",
    "\n",
    "We use an agent/policy to take an action using the following method in the `environment`<br/>\n",
    "`action = policy(observation)`\n",
    "\n",
    "Then we pass the action to the environment to act using `env.step(action)`. The function call returns a tuple of five values: `observation, reward, terminated, truncated, info`. the returned\n",
    "\n",
    "- `observation` is the new state environment has moved into as a result of our action.\n",
    "- `reward` is the numerical reward our agent gets from environment as a result of the action it took.\n",
    "- `terminated` is a boolean which is true when the agent's action has resulted in completion of the task or agent has moved into a bad state (like falling off the cliff) from which it cannot recover. In other words, good or bad, the agent's action has resulted into a new state which is a terminal state from which agent cannot recover.\n",
    "- `truncated` is a boolean which is true when the agent could not complete the task and timeout happens. There are a few other scenarios when this could happen as a result of other actions. You can read more about it in the documentation for `gymnasium`.\n",
    "- `info` contains certain other information for debugging the environment"
   ]
  },
  {
   "cell_type": "code",
   "execution_count": 2,
   "id": "9b47ef1e-9cf5-4c9b-a242-c35559fdd266",
   "metadata": {},
   "outputs": [
    {
     "name": "stdout",
     "output_type": "stream",
     "text": [
      "initial observation: [-0.490552  0.      ]\n",
      "possible actions: 3\n",
      "\n",
      "taking action: 2\n",
      "got reward: -1.0. New state/observation is: [-0.48979944  0.00075256]\n",
      "\n",
      "taking action: 2\n",
      "got reward: -1.0. New state/observation is: [-0.48829997  0.00149949]\n",
      "\n",
      "taking action: 2\n",
      "got reward: -1.0. New state/observation is: [-0.4860647   0.00223525]\n",
      "\n",
      "taking action: 1\n",
      "got reward: -1.0. New state/observation is: [-0.4841104   0.00195434]\n",
      "\n",
      "taking action: 1\n",
      "got reward: -1.0. New state/observation is: [-0.4824515   0.00165887]\n"
     ]
    },
    {
     "data": {
      "image/png": "[encoded data removed]",
      "text/plain": [
       "<Figure size 640x480 with 1 Axes>"
      ]
     },
     "metadata": {},
     "output_type": "display_data"
    }
   ],
   "source": [
    "# There are two versions of the mountain car domain in gymnasium: one with discrete actions and one with continuous\n",
    "# This version is the one with discrete actions\n",
    "\n",
    "# THE AGENT'S OBJECTIVE IS TO REACH THE FLAG IN THE SHORTEST POSSIBLE NUMBER OF STEPS\n",
    "\n",
    "# (1) instantiating the MountainCar environment\n",
    "env = gym.make('MountainCar-v0', render_mode=\"rgb_array\")\n",
    "\n",
    "# (2) initializing the environment\n",
    "# reset environment and get initial observation/state\n",
    "# Observation/state is a tuple of (position, velocity)\n",
    "obs, info = env.reset() # returns the initial observation\n",
    "\n",
    "# initial observation returns a tuple with two values: (x-position, x-velocity)\n",
    "print(\"initial observation:\", obs)\n",
    "# the agent uses obs to find the best action: action = policy(obs)\n",
    "\n",
    "# possible 3 actions\n",
    "# {0: \"accelerate to left\", \"1\": \"do nothing\", \"2\": \"accelerate to right\"}\n",
    "print(\"possible actions:\", env.action_space.n)\n",
    "\n",
    "# reinforcement learning is all\n",
    "# about learning to take good actions\n",
    "# from a given state/observation\n",
    "# right now taking a random action\n",
    "def policy(observation):\n",
    "    # in this example the agent is only taking one random action from the action_space\n",
    "    # the action_space are the specified ways in which an agent/policy can interact with the environment\n",
    "    # possible actions: \n",
    "    # 0: Accelerate to the left\n",
    "    # 1: Don’t accelerate\n",
    "    # 2: Accelerate to the right\n",
    "    # one of them gets picked randomly\n",
    "    return env.action_space.sample()\n",
    "\n",
    "\n",
    "# take 5 random actions/steps\n",
    "for _ in range(5):\n",
    "\n",
    "    # to render environment for visual inspection\n",
    "    # when you train, you can skip rendering to speed up\n",
    "    plt.imshow(env.render()) # <- WHAT IS plt ? and how does at affect the environment ?\n",
    "\n",
    "    # based on current policy, use the current observation\n",
    "    # to find the best action to take.\n",
    "    action = policy(obs) # finding the best action depending on the current observation, in this example randomly\n",
    "    print(\"\\ntaking action:\", action)\n",
    "\n",
    "    # PASS THE ACTION TO ENV which will return back <- this is the important line\n",
    "    # env.step(action) is called returning a tuple with five values\n",
    "    # at this point the system moves from time t to time t + 1\n",
    "    \n",
    "    # ... which will return back with new state/\"observation\" and \"reward\"\n",
    "    # there is a \"done\" flag which is true when game ends\n",
    "    # done flag has been split into terminated (game ends) and truncated (times out)\n",
    "    # \"info\" provides some diagnostic information\n",
    "    obs, reward, terminated, truncated, info = env.step(action)\n",
    "    print(\"got reward: {0}. New state/observation is: {1}\".format(reward, obs))\n",
    "\n",
    "# close the environment\n",
    "env.close()"
   ]
  },
  {
   "cell_type": "markdown",
   "id": "72a14aed-67cc-48dc-8799-0e60dcb067db",
   "metadata": {},
   "source": [
    "### The Cart Pole Environment of the Gymnasium Library"
   ]
  },
  {
   "cell_type": "markdown",
   "id": "66be8714-f317-4e7b-a966-8760df53c811",
   "metadata": {},
   "source": [
    "__The following explanation is taken from the book author's [GitHup repo](https://github.com/nsanghi/drl-2ed/blob/main/chapter2/2.a-RL-environment.ipynb):__\n",
    "\n",
    "This [environment](https://gymnasium.farama.org/environments/classic_control/cart_pole/) corresponds to the version of the cart-pole problem described by Barto, Sutton, and Anderson in “ Neuronlike Adaptive Elements That Can Solve Difficult Learning Control Problem ”. A pole is attached by an un-actuated joint to a cart, which moves along a frictionless track. The pendulum is placed upright on the cart and the goal is to balance the pole by applying forces in the left and right direction on the cart.\n",
    "\n",
    "**Action Space**\n",
    "The action is a ndarray with shape (1,) which can take values {0, 1} indicating the direction of the fixed force the cart is pushed with. `0` is the action to push the cart to the left and `1` is the action to push the cart to the right.\n",
    "\n",
    "**Observation Space**\n",
    "The observation is a ndarray with shape (4,) with the values corresponding to the following positions and velocities:\n",
    "\n",
    "| Num |      Observation      |         Min         |        Max        |\n",
    "|:---:|:---------------------:|:-------------------:|:-----------------:|\n",
    "| 0   | Cart Position         | -4.8                | 4.8               |\n",
    "| 1   | Cart Velocity         | -Inf                | Inf               |\n",
    "| 2   | Pole Angle            | ~ -0.418 rad (-24°) | ~ 0.418 rad (24°) |\n",
    "| 3   | Pole Angular Velocity | -Inf                | Inf               |"
   ]
  },
  {
   "cell_type": "code",
   "execution_count": 3,
   "id": "b90435d0-43a2-468d-a43d-f3fb8ca4f6fc",
   "metadata": {},
   "outputs": [
    {
     "name": "stdout",
     "output_type": "stream",
     "text": [
      "initial observation: (array([ 0.0482458 , -0.03893723,  0.04126796,  0.03762637], dtype=float32), {})\n",
      "possible actions: 2\n",
      "\n",
      "taking action: 0\n",
      "got reward: 1.0. New state/observation is: [ 0.04746705 -0.23462592  0.04202049  0.34303883]\n",
      "\n",
      "taking action: 0\n",
      "got reward: 1.0. New state/observation is: [ 0.04277454 -0.4303197   0.04888127  0.6486708 ]\n",
      "\n",
      "taking action: 0\n",
      "got reward: 1.0. New state/observation is: [ 0.03416814 -0.6260873   0.06185468  0.9563368 ]\n",
      "\n",
      "taking action: 0\n",
      "got reward: 1.0. New state/observation is: [ 0.02164639 -0.8219842   0.08098142  1.2677938 ]\n",
      "\n",
      "taking action: 0\n",
      "got reward: 1.0. New state/observation is: [ 0.00520671 -1.0180417   0.10633729  1.5846989 ]\n"
     ]
    },
    {
     "data": {
      "image/png": "[encoded data removed]",
      "text/plain": [
       "<Figure size 640x480 with 1 Axes>"
      ]
     },
     "metadata": {},
     "output_type": "display_data"
    }
   ],
   "source": [
    "env = gym.make('CartPole-v1', render_mode=\"rgb_array\")\n",
    "obs = env.reset()\n",
    "print(\"initial observation:\", obs)\n",
    "print(\"possible actions:\", env.action_space.n)\n",
    "\n",
    "\n",
    "def policy(observation):\n",
    "    return env.action_space.sample()\n",
    "\n",
    "\n",
    "for _ in range(5):\n",
    "    plt.imshow(env.render())\n",
    "\n",
    "    action = policy(obs)\n",
    "    print(\"\\ntaking action:\", action)\n",
    "\n",
    "    obs, reward, terminated, truncated, info = env.step(action)\n",
    "    print(\"got reward: {0}. New state/observation is: {1}\".format(reward, obs))\n",
    "\n",
    "\n",
    "# close the environment\n",
    "env.close()"
   ]
  },
  {
   "cell_type": "markdown",
   "id": "863d8703-1fb6-48d7-8735-8db1a153bfc0",
   "metadata": {},
   "source": []
  },
  {
   "cell_type": "markdown",
   "id": "1579126f-c5b6-40d7-a0e7-7accf63e0ad9",
   "metadata": {},
   "source": []
  },
  {
   "cell_type": "markdown",
   "id": "4e99fa49-79d0-494c-8e9c-e83143b70290",
   "metadata": {},
   "source": []
  },
  {
   "cell_type": "markdown",
   "id": "eb071750-2ea4-426c-9f71-581119ebb483",
   "metadata": {},
   "source": []
  },
  {
   "cell_type": "markdown",
   "id": "a6ccec90-0bec-498b-9195-337f7097b1e8",
   "metadata": {},
   "source": []
  },
  {
   "cell_type": "markdown",
   "id": "d5fd5617-9c48-49e4-bbf9-9be7412a4e03",
   "metadata": {},
   "source": []
  },
  {
   "cell_type": "markdown",
   "id": "693ed28b-d46e-4728-9262-4ad0c4d98a0e",
   "metadata": {},
   "source": []
  },
  {
   "cell_type": "markdown",
   "id": "14476b54-6444-4f4f-bdc0-43b3cfb7a2ac",
   "metadata": {},
   "source": []
  },
  {
   "cell_type": "markdown",
   "id": "70264f44-d5ad-442a-8ff5-70e10e64064c",
   "metadata": {},
   "source": []
  },
  {
   "cell_type": "markdown",
   "id": "b87d5d22-46d9-4534-b57d-3d5ba7b5cabe",
   "metadata": {},
   "source": []
  },
  {
   "cell_type": "code",
   "execution_count": null,
   "id": "2d0c3a78-1aed-4ba8-9a2d-7ed324617e21",
   "metadata": {},
   "outputs": [],
   "source": []
  }
 ],
 "metadata": {
  "kernelspec": {
   "display_name": "Python 3 (ipykernel)",
   "language": "python",
   "name": "python3"
  },
  "language_info": {
   "codemirror_mode": {
    "name": "ipython",
    "version": 3
   },
   "file_extension": ".py",
   "mimetype": "text/x-python",
   "name": "python",
   "nbconvert_exporter": "python",
   "pygments_lexer": "ipython3",
   "version": "3.12.7"
  }
 },
 "nbformat": 4,
 "nbformat_minor": 5
}
