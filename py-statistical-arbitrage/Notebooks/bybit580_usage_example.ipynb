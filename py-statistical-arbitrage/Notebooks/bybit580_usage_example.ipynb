{
 "cells": [
  {
   "cell_type": "markdown",
   "id": "004d0338-4e29-4ba0-8fce-6f97538ce93b",
   "metadata": {},
   "source": [
    "#### Usage example from pybit 5.8.0 project description: https://pypi.org/project/pybit/"
   ]
  },
  {
   "cell_type": "markdown",
   "id": "231d4344-68cf-475e-90f3-eae8e3841c63",
   "metadata": {},
   "source": [
    "Retrieving a specific market:"
   ]
  },
  {
   "cell_type": "code",
   "execution_count": 4,
   "id": "a42f9f54-31b2-474e-ac3d-3f366acd9175",
   "metadata": {},
   "outputs": [],
   "source": [
    "import pandas as pd\n",
    "from pybit.unified_trading import HTTP"
   ]
  },
  {
   "cell_type": "code",
   "execution_count": 5,
   "id": "b67159b4-4f04-48ef-8e0c-3bbd67d8fc6f",
   "metadata": {},
   "outputs": [
    {
     "name": "stdout",
     "output_type": "stream",
     "text": [
      "Don't be a fool and send your auth keys to github.\n"
     ]
    }
   ],
   "source": [
    "api_key = pd.read_csv(\"~/tmp/bybit_testnet/bybit_key.txt\", sep=\" \", header=None)[0][0]\n",
    "api_secret = pd.read_csv(\"~/tmp/bybit_testnet/bybit_secret.txt\", sep=\" \", header=None)[0][0]\n",
    "print(\"Don't be a fool and send your auth keys to github.\")"
   ]
  },
  {
   "cell_type": "markdown",
   "id": "2d9564e6-78a1-45da-b373-1ff9fc808a9b",
   "metadata": {},
   "source": [
    "Create an HTTP session and connect via WebSocket for Inverse on mainnet:"
   ]
  },
  {
   "cell_type": "code",
   "execution_count": 7,
   "id": "1217401c-60d8-4fa4-9963-73215d1e6b4b",
   "metadata": {},
   "outputs": [],
   "source": [
    "session = HTTP(\n",
    "    testnet=True,\n",
    "    api_key=api_key,\n",
    "    api_secret=api_secret,\n",
    ")"
   ]
  },
  {
   "cell_type": "markdown",
   "id": "157f9844-00b2-4016-8ed8-4834335db1cb",
   "metadata": {},
   "source": [
    "Information can be sent to, or retrieved from, the Bybit APIs:"
   ]
  },
  {
   "cell_type": "code",
   "execution_count": 10,
   "id": "536c3e38-da76-4232-b5d1-2a832e0385cf",
   "metadata": {},
   "outputs": [
    {
     "name": "stdout",
     "output_type": "stream",
     "text": [
      "{'retCode': 0, 'retMsg': 'OK', 'result': {'s': 'BTCUSDT', 'b': [['56764.2', '0.004'], ['56751.7', '0.001'], ['56741.7', '1.956'], ['56718.7', '0.215'], ['56700', '0.001'], ['56684.4', '0.001'], ['56666.6', '0.019'], ['56660', '0.001'], ['56636.2', '0.005'], ['56601.6', '0.004'], ['56600', '0.007'], ['56591.2', '0.281'], ['56571.8', '0.001'], ['56562.5', '0.215'], ['56546.6', '0.003'], ['56526.3', '0.001'], ['56500', '0.005'], ['56452.6', '0.05'], ['56439', '0.004'], ['56406.2', '0.215'], ['56400', '0.006'], ['56305.2', '0.001'], ['56285.7', '0.001'], ['56276.4', '0.004'], ['56266.7', '0.001']], 'a': [['57000', '0.021'], ['57011.2', '0.001'], ['57021.2', '16.129'], ['57031.2', '0.171'], ['57089.3', '0.004'], ['57187.5', '0.215'], ['57238.4', '0.05'], ['57240', '0.003'], ['57251.9', '0.004'], ['57295.2', '0.042'], ['57296.5', '0.05'], ['57317.9', '0.034'], ['57343.7', '0.215'], ['57400', '0.001'], ['57414.5', '0.004'], ['57483.5', '0.001'], ['57500', '0.215'], ['57519.6', '0.001'], ['57577.1', '0.004'], ['57585.7', '0.001'], ['57586.6', '0.003'], ['57615.8', '0.034'], ['57625.7', '0.002'], ['57631.3', '0.05'], ['57656.2', '0.215']], 'ts': 1724069512673, 'u': 1912685, 'seq': 9344772437, 'cts': 1724069512662}, 'retExtInfo': {}, 'time': 1724069514721}\n"
     ]
    }
   ],
   "source": [
    "# Get the orderbook of the USDT Perpetual, BTCUSDT\n",
    "print(session.get_orderbook(category=\"linear\", symbol=\"BTCUSDT\")) # is linear, inverse and perpetual the same?"
   ]
  },
  {
   "cell_type": "code",
   "execution_count": 8,
   "id": "9887f963-f745-4906-8c65-7f72f8f5f006",
   "metadata": {},
   "outputs": [
    {
     "ename": "TypeError",
     "evalue": "TradeHTTP.place_batch_order() takes 1 positional argument but 2 were given",
     "output_type": "error",
     "traceback": [
      "\u001b[0;31m---------------------------------------------------------------------------\u001b[0m",
      "\u001b[0;31mTypeError\u001b[0m                                 Traceback (most recent call last)",
      "Cell \u001b[0;32mIn[8], line 17\u001b[0m\n\u001b[1;32m     15\u001b[0m payload[\u001b[38;5;124m\"\u001b[39m\u001b[38;5;124mrequest\u001b[39m\u001b[38;5;124m\"\u001b[39m] \u001b[38;5;241m=\u001b[39m orders\n\u001b[1;32m     16\u001b[0m \u001b[38;5;66;03m# Submit the orders in bulk.\u001b[39;00m\n\u001b[0;32m---> 17\u001b[0m \u001b[43msession\u001b[49m\u001b[38;5;241;43m.\u001b[39;49m\u001b[43mplace_batch_order\u001b[49m\u001b[43m(\u001b[49m\u001b[43mpayload\u001b[49m\u001b[43m)\u001b[49m\n",
      "\u001b[0;31mTypeError\u001b[0m: TradeHTTP.place_batch_order() takes 1 positional argument but 2 were given"
     ]
    }
   ],
   "source": [
    "# Get the orderbook of the USDT Perpetual, BTCUSDT\n",
    "session.get_orderbook(category=\"linear\", symbol=\"BTCUSDT\")\n",
    "\n",
    "# Create five long USDC Options orders.\n",
    "# (Currently, only USDC Options support sending orders in bulk.)\n",
    "payload = {\"category\": \"option\"}\n",
    "orders = [{\n",
    "  \"symbol\": \"BTC-30JUN23-20000-C\",\n",
    "  \"side\": \"Buy\",\n",
    "  \"orderType\": \"Limit\",\n",
    "  \"qty\": \"0.1\",\n",
    "  \"price\": i,\n",
    "} for i in [15000, 15500, 16000, 16500, 16600]]\n",
    "\n",
    "payload[\"request\"] = orders\n",
    "# Submit the orders in bulk.\n",
    "session.place_batch_order(payload)"
   ]
  },
  {
   "cell_type": "markdown",
   "id": "fa00c8f1-c06c-4917-9015-d4a49ed06ab4",
   "metadata": {},
   "source": [
    "### ByBit V5 API: Get Kline\n",
    "\n",
    "https://bybit-exchange.github.io/docs/v5/market/kline\n",
    "\n",
    "Query for historical klines (also known as candles/candlesticks). Charts are returned in groups based on the requested interval.\n",
    "\n",
    "#### Covers: Spot / USDT perpetual / USDC contract / Inverse contract"
   ]
  },
  {
   "cell_type": "markdown",
   "id": "ad5ca1f5-1d46-435e-a146-5b92779b985e",
   "metadata": {},
   "source": [
    "The category parameter specifies the product type: spot, linear, or inverse.</br>\n",
    "The category is optional and if not passed linear is the default."
   ]
  },
  {
   "cell_type": "code",
   "execution_count": 11,
   "id": "fb9b7dd7-335b-41ed-b872-1c1d31ae3434",
   "metadata": {},
   "outputs": [
    {
     "data": {
      "text/plain": [
       "{'retCode': 0,\n",
       " 'retMsg': 'OK',\n",
       " 'result': {'s': 'BTCUSDT',\n",
       "  'a': [['53723.82', '0.000656']],\n",
       "  'b': [['53675.35', '0.000048']],\n",
       "  'ts': 1724070640316,\n",
       "  'u': 1430581,\n",
       "  'seq': 1465069109,\n",
       "  'cts': 1724070614786},\n",
       " 'retExtInfo': {},\n",
       " 'time': 1724070642224}"
      ]
     },
     "execution_count": 11,
     "metadata": {},
     "output_type": "execute_result"
    }
   ],
   "source": [
    "# Get orderbook - Spot\n",
    "orderbook_spot = session.get_orderbook(category=\"spot\", symbol=\"BTCUSDT\")\n",
    "orderbook_spot"
   ]
  },
  {
   "cell_type": "code",
   "execution_count": 13,
   "id": "287505af-8427-416c-9270-9b8f9a746908",
   "metadata": {},
   "outputs": [
    {
     "data": {
      "text/plain": [
       "{'retCode': 0,\n",
       " 'retMsg': 'OK',\n",
       " 'result': {'s': 'BTCUSDT',\n",
       "  'b': [['56449', '0.001'],\n",
       "   ['56439', '0.004'],\n",
       "   ['56406.2', '0.15'],\n",
       "   ['56400', '0.006'],\n",
       "   ['56276.4', '0.004'],\n",
       "   ['56266.7', '0.001'],\n",
       "   ['56250', '0.215'],\n",
       "   ['56200', '0.01'],\n",
       "   ['56150', '0.001'],\n",
       "   ['56113.9', '0.004'],\n",
       "   ['56094.7', '0.005'],\n",
       "   ['56093.7', '0.215'],\n",
       "   ['56093.2', '0.001'],\n",
       "   ['56064.8', '0.001'],\n",
       "   ['56059.6', '0.05'],\n",
       "   ['56000', '0.033'],\n",
       "   ['55980', '0.001'],\n",
       "   ['55962.6', '0.001'],\n",
       "   ['55951.3', '0.004'],\n",
       "   ['55947.3', '0.001'],\n",
       "   ['55937.5', '0.215'],\n",
       "   ['55853.3', '0.003'],\n",
       "   ['55849.1', '0.001'],\n",
       "   ['55800', '0.007'],\n",
       "   ['55788.7', '0.004']],\n",
       "  'a': [['56718.7', '0.157'],\n",
       "   ['56764.2', '0.004'],\n",
       "   ['56800', '0.006'],\n",
       "   ['56838.5', '0.018'],\n",
       "   ['56845.5', '0.05'],\n",
       "   ['56875', '0.215'],\n",
       "   ['56893.3', '0.003'],\n",
       "   ['56926.7', '0.004'],\n",
       "   ['57000', '0.007'],\n",
       "   ['57021.2', '7.733'],\n",
       "   ['57031.2', '0.171'],\n",
       "   ['57078.7', '0.001'],\n",
       "   ['57081', '0.001'],\n",
       "   ['57089.3', '0.004'],\n",
       "   ['57102', '0.001'],\n",
       "   ['57105.2', '0.001'],\n",
       "   ['57177.8', '0.005'],\n",
       "   ['57185', '0.001'],\n",
       "   ['57187.5', '0.215'],\n",
       "   ['57203', '0.281'],\n",
       "   ['57238.4', '0.05'],\n",
       "   ['57240', '0.003'],\n",
       "   ['57250', '0.001'],\n",
       "   ['57251.9', '0.004'],\n",
       "   ['57274.7', '0.001']],\n",
       "  'ts': 1724070691874,\n",
       "  'u': 1913721,\n",
       "  'seq': 9344776065,\n",
       "  'cts': 1724070691762},\n",
       " 'retExtInfo': {},\n",
       " 'time': 1724070692318}"
      ]
     },
     "execution_count": 13,
     "metadata": {},
     "output_type": "execute_result"
    }
   ],
   "source": [
    "# Get orderbook - Futures\n",
    "orderbook_futures = session.get_orderbook(category=\"linear\", symbol=\"BTCUSDT\")\n",
    "orderbook_futures"
   ]
  },
  {
   "cell_type": "code",
   "execution_count": 21,
   "id": "ae66cae1-7e49-4139-be25-962c57e6ad90",
   "metadata": {},
   "outputs": [
    {
     "data": {
      "text/plain": [
       "{'retCode': 0,\n",
       " 'retMsg': 'OK',\n",
       " 'result': {'list': [{'totalEquity': '1000.43',\n",
       "    'accountIMRate': '0',\n",
       "    'totalMarginBalance': '1000.43',\n",
       "    'totalInitialMargin': '0',\n",
       "    'accountType': 'UNIFIED',\n",
       "    'totalAvailableBalance': '1000.43',\n",
       "    'accountMMRate': '0',\n",
       "    'totalPerpUPL': '0',\n",
       "    'totalWalletBalance': '1000.43',\n",
       "    'accountLTV': '0',\n",
       "    'totalMaintenanceMargin': '0',\n",
       "    'coin': [{'availableToBorrow': '',\n",
       "      'bonus': '0',\n",
       "      'accruedInterest': '0',\n",
       "      'availableToWithdraw': '0',\n",
       "      'totalOrderIM': '0',\n",
       "      'equity': '0',\n",
       "      'totalPositionMM': '0',\n",
       "      'usdValue': '0',\n",
       "      'unrealisedPnl': '0',\n",
       "      'collateralSwitch': False,\n",
       "      'spotHedgingQty': '0',\n",
       "      'borrowAmount': '0.000000000000000000',\n",
       "      'totalPositionIM': '0',\n",
       "      'walletBalance': '0',\n",
       "      'cumRealisedPnl': '0',\n",
       "      'locked': '0',\n",
       "      'marginCollateral': True,\n",
       "      'coin': 'BTC'},\n",
       "     {'availableToBorrow': '',\n",
       "      'bonus': '0',\n",
       "      'accruedInterest': '0',\n",
       "      'availableToWithdraw': '1000',\n",
       "      'totalOrderIM': '0',\n",
       "      'equity': '1000',\n",
       "      'totalPositionMM': '0',\n",
       "      'usdValue': '1000.43',\n",
       "      'unrealisedPnl': '0',\n",
       "      'collateralSwitch': True,\n",
       "      'spotHedgingQty': '0',\n",
       "      'borrowAmount': '0.000000000000000000',\n",
       "      'totalPositionIM': '0',\n",
       "      'walletBalance': '1000',\n",
       "      'cumRealisedPnl': '0',\n",
       "      'locked': '0',\n",
       "      'marginCollateral': True,\n",
       "      'coin': 'USDT'},\n",
       "     {'availableToBorrow': '',\n",
       "      'bonus': '0',\n",
       "      'accruedInterest': '0',\n",
       "      'availableToWithdraw': '0',\n",
       "      'totalOrderIM': '0',\n",
       "      'equity': '0',\n",
       "      'totalPositionMM': '0',\n",
       "      'usdValue': '0',\n",
       "      'unrealisedPnl': '0',\n",
       "      'collateralSwitch': True,\n",
       "      'spotHedgingQty': '0',\n",
       "      'borrowAmount': '0.000000000000000000',\n",
       "      'totalPositionIM': '0',\n",
       "      'walletBalance': '0',\n",
       "      'cumRealisedPnl': '0',\n",
       "      'locked': '0',\n",
       "      'marginCollateral': True,\n",
       "      'coin': 'USDC'}]}]},\n",
       " 'retExtInfo': {},\n",
       " 'time': 1724071126650}"
      ]
     },
     "execution_count": 21,
     "metadata": {},
     "output_type": "execute_result"
    }
   ],
   "source": [
    "# Check Balance\n",
    "wallet_balance_spot = session.get_wallet_balance(\n",
    "    accountType=\"UNIFIED\",\n",
    "    coin=\"BTC,USDT,USDC\",\n",
    ")\n",
    "wallet_balance_spot"
   ]
  },
  {
   "cell_type": "code",
   "execution_count": null,
   "id": "a1012b39-5bac-40df-8b86-d0b67adc0976",
   "metadata": {},
   "outputs": [],
   "source": []
  }
 ],
 "metadata": {
  "kernelspec": {
   "display_name": "Python 3 (ipykernel)",
   "language": "python",
   "name": "python3"
  },
  "language_info": {
   "codemirror_mode": {
    "name": "ipython",
    "version": 3
   },
   "file_extension": ".py",
   "mimetype": "text/x-python",
   "name": "python",
   "nbconvert_exporter": "python",
   "pygments_lexer": "ipython3",
   "version": "3.12.4"
  }
 },
 "nbformat": 4,
 "nbformat_minor": 5
}
