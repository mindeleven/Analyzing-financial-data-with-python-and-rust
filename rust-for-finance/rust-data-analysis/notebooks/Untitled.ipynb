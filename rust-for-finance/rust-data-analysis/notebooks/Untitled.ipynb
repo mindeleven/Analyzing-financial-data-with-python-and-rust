{
 "cells": [
  {
   "cell_type": "markdown",
   "id": "5a5f12f8",
   "metadata": {},
   "source": [
    "[https://github.com/wiseaidev/rust-data-analysis](https://github.com/wiseaidev/rust-data-analysis/blob/main/1-iris-data-analysis-rust.ipynb)"
   ]
  },
  {
   "cell_type": "markdown",
   "id": "b0297253",
   "metadata": {},
   "source": [
    "[Polars: Blazingly fast DataFrames in Rust, Python, Node.js, R, and SQL](https://github.com/pola-rs/polars/blob/main/README.md)\n",
    "<br/><br/>\n",
    "[Python Polars: A Lightning-Fast DataFrame Library](https://realpython.com/polars-python/)\n",
    "<br/><br/>\n",
    "[Analyzing data using Polars in Python: an introduction](https://www.tensorscience.com/posts/analyzing-data-using-polars-in-python-an-introduction.html)\n",
    "\n",
    "[An Introduction to Polars: Python's Tool for Large-Scale Data Analysis](https://www.datacamp.com/blog/an-introduction-to-polars-python-s-tool-for-large-scale-data-analysis)"
   ]
  },
  {
   "cell_type": "code",
   "execution_count": 2,
   "id": "b90b1833",
   "metadata": {},
   "outputs": [],
   "source": [
    ":dep plotters = { version = \"^0.3.5\", default_features = false, features = [\"evcxr\", \"all_series\", \"all_elements\"] }"
   ]
  },
  {
   "cell_type": "code",
   "execution_count": 3,
   "id": "3247eaa0",
   "metadata": {},
   "outputs": [],
   "source": [
    ":dep polars = {version = \"0.35.0\", features = [\"describe\", \"lazy\", \"ndarray\"]}"
   ]
  },
  {
   "cell_type": "code",
   "execution_count": 4,
   "id": "f1c07210",
   "metadata": {},
   "outputs": [],
   "source": [
    ":dep ndarray = {version = \"0.15.6\"}"
   ]
  },
  {
   "cell_type": "code",
   "execution_count": 5,
   "id": "ce1d7cb5",
   "metadata": {},
   "outputs": [],
   "source": [
    ":dep smartcore = {version = \"0.3.2\"}"
   ]
  },
  {
   "cell_type": "code",
   "execution_count": 6,
   "id": "b257965d",
   "metadata": {},
   "outputs": [
    {
     "data": {
      "text/plain": [
       "ndarray = {version = \"0.15.6\"}\n",
       "plotters = { version = \"^0.3.5\", default_features = false, features = [\"evcxr\", \"all_series\", \"all_elements\"] }\n",
       "polars = {version = \"0.35.0\", features = [\"describe\", \"lazy\", \"ndarray\"]}\n",
       "smartcore = {version = \"0.3.2\"}\n"
      ]
     },
     "execution_count": 6,
     "metadata": {},
     "output_type": "execute_result"
    }
   ],
   "source": [
    ":show_deps // show Installed Dependencies"
   ]
  },
  {
   "cell_type": "code",
   "execution_count": 7,
   "id": "ddb9a7a2",
   "metadata": {},
   "outputs": [],
   "source": [
    "use polars::prelude::*;\n",
    "use polars::frame::DataFrame;\n",
    "use std::path::Path;\n",
    "use ndarray::{ArrayBase, DataMut, Dimension, concatenate, Axis};\n",
    "use plotters::prelude::*;\n",
    "use smartcore::linalg::basic::matrix::DenseMatrix;\n",
    "use ndarray::prelude::*;"
   ]
  },
  {
   "cell_type": "code",
   "execution_count": 8,
   "id": "e65c4e0b",
   "metadata": {},
   "outputs": [
    {
     "data": {
      "text/html": [
       "<pre><code class=\"language-rust\">polars_core::frame\n",
       "</code></pre>\n",
       "<pre><code class=\"language-rust\">pub struct DataFrame {\n",
       "    pub(crate) columns: Vec&lt;Series, Global&gt;,\n",
       "}\n",
       "</code></pre>\n",
       "<hr />\n",
       "<p>A contiguous growable collection of <code>Series</code> that have the same length.</p>\n",
       "<h2>Use declarations</h2>\n",
       "<p>All the common tools can be found in <a href=\"https://docs.rs/polars-core/0.35.4/polars_core/prelude/index.html\"><code>crate::prelude</code></a> (or in <code>polars::prelude</code>).</p>\n",
       "<pre><code class=\"language-rust\">use polars_core::prelude::*; // if the crate polars-core is used directly\n",
       "// use polars::prelude::*;      if the crate polars is used\n",
       "</code></pre>\n",
       "<h1>Initialization</h1>\n",
       "<h2>Default</h2>\n",
       "<p>A <code>DataFrame</code> can be initialized empty:</p>\n",
       "<pre><code class=\"language-rust\"># use polars_core::prelude::*;\n",
       "let df = DataFrame::default();\n",
       "assert!(df.is_empty());\n",
       "</code></pre>\n",
       "<h2>Wrapping a <code>Vec&lt;Series&gt;</code></h2>\n",
       "<p>A <code>DataFrame</code> is built upon a <code>Vec&lt;Series&gt;</code> where the <code>Series</code> have the same length.</p>\n",
       "<pre><code class=\"language-rust\"># use polars_core::prelude::*;\n",
       "let s1 = Series::new(&quot;Fruit&quot;, &amp;[&quot;Apple&quot;, &quot;Apple&quot;, &quot;Pear&quot;]);\n",
       "let s2 = Series::new(&quot;Color&quot;, &amp;[&quot;Red&quot;, &quot;Yellow&quot;, &quot;Green&quot;]);\n",
       "\n",
       "let df: PolarsResult&lt;DataFrame&gt; = DataFrame::new(vec![s1, s2]);\n",
       "</code></pre>\n",
       "<h2>Using a macro</h2>\n",
       "<p>The <a href=\"https://docs.rs/polars-core/0.35.4/polars_core/utils/macro.df.html\"><code>df</code></a> macro is a convenient method:</p>\n",
       "<pre><code class=\"language-rust\"># use polars_core::prelude::*;\n",
       "let df: PolarsResult&lt;DataFrame&gt; = df!(&quot;Fruit&quot; =&gt; &amp;[&quot;Apple&quot;, &quot;Apple&quot;, &quot;Pear&quot;],\n",
       "                                      &quot;Color&quot; =&gt; &amp;[&quot;Red&quot;, &quot;Yellow&quot;, &quot;Green&quot;]);\n",
       "</code></pre>\n",
       "<h2>Using a CSV file</h2>\n",
       "<p>See the <code>polars_io::csv::CsvReader</code>.</p>\n",
       "<h1>Indexing</h1>\n",
       "<h2>By a number</h2>\n",
       "<p>The <code>Index&lt;usize&gt;</code> is implemented for the <code>DataFrame</code>.</p>\n",
       "<pre><code class=\"language-rust\"># use polars_core::prelude::*;\n",
       "let df = df!(&quot;Fruit&quot; =&gt; &amp;[&quot;Apple&quot;, &quot;Apple&quot;, &quot;Pear&quot;],\n",
       "             &quot;Color&quot; =&gt; &amp;[&quot;Red&quot;, &quot;Yellow&quot;, &quot;Green&quot;])?;\n",
       "\n",
       "assert_eq!(df[0], Series::new(&quot;Fruit&quot;, &amp;[&quot;Apple&quot;, &quot;Apple&quot;, &quot;Pear&quot;]));\n",
       "assert_eq!(df[1], Series::new(&quot;Color&quot;, &amp;[&quot;Red&quot;, &quot;Yellow&quot;, &quot;Green&quot;]));\n",
       "# Ok::&lt;(), PolarsError&gt;(())\n",
       "</code></pre>\n",
       "<h2>By a <code>Series</code> name</h2>\n",
       "<pre><code class=\"language-rust\"># use polars_core::prelude::*;\n",
       "let df = df!(&quot;Fruit&quot; =&gt; &amp;[&quot;Apple&quot;, &quot;Apple&quot;, &quot;Pear&quot;],\n",
       "             &quot;Color&quot; =&gt; &amp;[&quot;Red&quot;, &quot;Yellow&quot;, &quot;Green&quot;])?;\n",
       "\n",
       "assert_eq!(df[&quot;Fruit&quot;], Series::new(&quot;Fruit&quot;, &amp;[&quot;Apple&quot;, &quot;Apple&quot;, &quot;Pear&quot;]));\n",
       "assert_eq!(df[&quot;Color&quot;], Series::new(&quot;Color&quot;, &amp;[&quot;Red&quot;, &quot;Yellow&quot;, &quot;Green&quot;]));\n",
       "# Ok::&lt;(), PolarsError&gt;(())\n",
       "</code></pre>\n"
      ],
      "text/plain": [
       "polars_core::frame\n",
       "\n",
       "pub struct DataFrame {\n",
       "    pub(crate) columns: Vec<Series, Global>,\n",
       "}\n",
       "\n",
       "\n",
       "A contiguous growable collection of Series that have the same length.\n",
       "\n",
       "Use declarationsAll the common tools can be found in crate::prelude (or in polars::prelude).\n",
       "\n",
       "use polars_core::prelude::*; // if the crate polars-core is used directly\n",
       "// use polars::prelude::*;      if the crate polars is used\n",
       "\n",
       "InitializationDefaultA DataFrame can be initialized empty:\n",
       "\n",
       "# use polars_core::prelude::*;\n",
       "let df = DataFrame::default();\n",
       "assert!(df.is_empty());\n",
       "\n",
       "Wrapping a Vec<Series>A DataFrame is built upon a Vec<Series> where the Series have the same length.\n",
       "\n",
       "# use polars_core::prelude::*;\n",
       "let s1 = Series::new(\"Fruit\", &[\"Apple\", \"Apple\", \"Pear\"]);\n",
       "let s2 = Series::new(\"Color\", &[\"Red\", \"Yellow\", \"Green\"]);\n",
       "\n",
       "let df: PolarsResult<DataFrame> = DataFrame::new(vec![s1, s2]);\n",
       "\n",
       "Using a macroThe df macro is a convenient method:\n",
       "\n",
       "# use polars_core::prelude::*;\n",
       "let df: PolarsResult<DataFrame> = df!(\"Fruit\" => &[\"Apple\", \"Apple\", \"Pear\"],\n",
       "                                      \"Color\" => &[\"Red\", \"Yellow\", \"Green\"]);\n",
       "\n",
       "Using a CSV fileSee the polars_io::csv::CsvReader.\n",
       "\n",
       "IndexingBy a numberThe Index<usize> is implemented for the DataFrame.\n",
       "\n",
       "# use polars_core::prelude::*;\n",
       "let df = df!(\"Fruit\" => &[\"Apple\", \"Apple\", \"Pear\"],\n",
       "             \"Color\" => &[\"Red\", \"Yellow\", \"Green\"])?;\n",
       "\n",
       "assert_eq!(df[0], Series::new(\"Fruit\", &[\"Apple\", \"Apple\", \"Pear\"]));\n",
       "assert_eq!(df[1], Series::new(\"Color\", &[\"Red\", \"Yellow\", \"Green\"]));\n",
       "# Ok::<(), PolarsError>(())\n",
       "\n",
       "By a Series name# use polars_core::prelude::*;\n",
       "let df = df!(\"Fruit\" => &[\"Apple\", \"Apple\", \"Pear\"],\n",
       "             \"Color\" => &[\"Red\", \"Yellow\", \"Green\"])?;\n",
       "\n",
       "assert_eq!(df[\"Fruit\"], Series::new(\"Fruit\", &[\"Apple\", \"Apple\", \"Pear\"]));\n",
       "assert_eq!(df[\"Color\"], Series::new(\"Color\", &[\"Red\", \"Yellow\", \"Green\"]));\n",
       "# Ok::<(), PolarsError>(())"
      ]
     },
     "execution_count": 8,
     "metadata": {},
     "output_type": "execute_result"
    }
   ],
   "source": [
    ":doc DataFrame"
   ]
  },
  {
   "cell_type": "code",
   "execution_count": 10,
   "id": "b253a47b",
   "metadata": {},
   "outputs": [],
   "source": [
    "fn read_data_frame_from_csv(\n",
    "    csv_file_path: &Path,\n",
    ") -> DataFrame {\n",
    "    CsvReader::from_path(csv_file_path)\n",
    "        .expect(\"Cannot open file.\")\n",
    "        .has_header(true)\n",
    "        .finish()\n",
    "        .unwrap()\n",
    "}"
   ]
  },
  {
   "cell_type": "code",
   "execution_count": 14,
   "id": "ef28015b",
   "metadata": {},
   "outputs": [],
   "source": [
    "let iris_file_path: &Path = Path::new(\"../../../assets/data/Iris.csv\");"
   ]
  },
  {
   "cell_type": "code",
   "execution_count": 15,
   "id": "6a81e272",
   "metadata": {},
   "outputs": [
    {
     "data": {
      "text/plain": [
       "shape: (150, 6)\n",
       "┌─────┬───────────────┬──────────────┬───────────────┬──────────────┬────────────────┐\n",
       "│ Id  ┆ SepalLengthCm ┆ SepalWidthCm ┆ PetalLengthCm ┆ PetalWidthCm ┆ Species        │\n",
       "│ --- ┆ ---           ┆ ---          ┆ ---           ┆ ---          ┆ ---            │\n",
       "│ i64 ┆ f64           ┆ f64          ┆ f64           ┆ f64          ┆ str            │\n",
       "╞═════╪═══════════════╪══════════════╪═══════════════╪══════════════╪════════════════╡\n",
       "│ 1   ┆ 5.1           ┆ 3.5          ┆ 1.4           ┆ 0.2          ┆ Iris-setosa    │\n",
       "│ 2   ┆ 4.9           ┆ 3.0          ┆ 1.4           ┆ 0.2          ┆ Iris-setosa    │\n",
       "│ 3   ┆ 4.7           ┆ 3.2          ┆ 1.3           ┆ 0.2          ┆ Iris-setosa    │\n",
       "│ 4   ┆ 4.6           ┆ 3.1          ┆ 1.5           ┆ 0.2          ┆ Iris-setosa    │\n",
       "│ …   ┆ …             ┆ …            ┆ …             ┆ …            ┆ …              │\n",
       "│ 147 ┆ 6.3           ┆ 2.5          ┆ 5.0           ┆ 1.9          ┆ Iris-virginica │\n",
       "│ 148 ┆ 6.5           ┆ 3.0          ┆ 5.2           ┆ 2.0          ┆ Iris-virginica │\n",
       "│ 149 ┆ 6.2           ┆ 3.4          ┆ 5.4           ┆ 2.3          ┆ Iris-virginica │\n",
       "│ 150 ┆ 5.9           ┆ 3.0          ┆ 5.1           ┆ 1.8          ┆ Iris-virginica │\n",
       "└─────┴───────────────┴──────────────┴───────────────┴──────────────┴────────────────┘"
      ]
     },
     "execution_count": 15,
     "metadata": {},
     "output_type": "execute_result"
    }
   ],
   "source": [
    "let iris_df: DataFrame = read_data_frame_from_csv(iris_file_path);\n",
    "iris_df"
   ]
  },
  {
   "cell_type": "code",
   "execution_count": 16,
   "id": "ac673154",
   "metadata": {},
   "outputs": [
    {
     "data": {
      "text/html": [
       "iris_df: DataFrame"
      ],
      "text/plain": [
       "iris_df: DataFrame"
      ]
     },
     "execution_count": 16,
     "metadata": {},
     "output_type": "execute_result"
    }
   ],
   "source": [
    ":type iris_df"
   ]
  },
  {
   "cell_type": "code",
   "execution_count": null,
   "id": "1311819a",
   "metadata": {},
   "outputs": [],
   "source": []
  }
 ],
 "metadata": {
  "kernelspec": {
   "display_name": "Rust",
   "language": "rust",
   "name": "rust"
  },
  "language_info": {
   "codemirror_mode": "rust",
   "file_extension": ".rs",
   "mimetype": "text/rust",
   "name": "Rust",
   "pygment_lexer": "rust",
   "version": ""
  }
 },
 "nbformat": 4,
 "nbformat_minor": 5
}
