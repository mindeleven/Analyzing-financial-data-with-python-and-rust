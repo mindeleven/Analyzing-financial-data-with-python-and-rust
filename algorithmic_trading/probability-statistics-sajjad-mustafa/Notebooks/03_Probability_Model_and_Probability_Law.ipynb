{
 "cells": [
  {
   "cell_type": "markdown",
   "id": "c5bdc96b-852d-494b-8fbf-0c6e85d5d7be",
   "metadata": {},
   "source": [
    "## Probability Model and Probability Law"
   ]
  },
  {
   "cell_type": "markdown",
   "id": "149c2ea8-ee2b-408c-9ff1-19b36b7af553",
   "metadata": {},
   "source": [
    "*(Coding along with the Udemy course [Mastering Probability & Statistic Python (Theory & Projects)](https://www.udemy.com/course/mastering-probability-and-statistics-in-python/) by Sajjad Mustafa)*"
   ]
  },
  {
   "cell_type": "markdown",
   "id": "ddca1bb4-283d-4130-a893-8c5bddbd9fd7",
   "metadata": {},
   "source": [
    "#### __Probability Model__\n",
    "> \n",
    "> A probability model consists of three components:\n",
    "> 1. Sample space (Ω or S): The set of all possible outcomes\n",
    "> 2. Events (subsets of S): Collections of outcomes we're interested in\n",
    "> 3. Probability law/measure: A function that assigns probabilities to events\n",
    "> \n",
    "> For example, for a fair coin flip:\n",
    "> - Sample Space S = {Heads, Tails}\n",
    "> - Events could be any subset: {}, {Heads}, {Tails}, {Heads, Tails}\n",
    "> - Probability law: P(Heads) = P(Tails) = 1/2"
   ]
  },
  {
   "cell_type": "markdown",
   "id": "0bff4ab6-47d1-44a6-859b-34154ec0a608",
   "metadata": {},
   "source": [
    "#### __Probability Law__\n",
    ">\n",
    "> The probability law (or probability measure) is a function P that assigns a real number P(A) to each event A, satisfying these axioms:\n",
    "> \n",
    "> 1. Non-negativity: P(A) ≥ 0 for any event A\n",
    "> 2. Normalization: P(S) = 1 for the sample space S\n",
    "> 3. Additivity: For disjoint events A and B, P(A ∪ B) = P(A) + P(B)\n",
    "> \n",
    "> The probability law tells us how likely each event is to occur. For example:\n",
    "> - Rolling a fair die: P(getting a 6) = 1/6\n",
    "> - Drawing from a deck: P(getting a heart) = 13/52\n",
    "> - Tossing a biased coin: P(Heads) = 0.6, P(Tails) = 0.4\n",
    "> \n",
    "> ***The probability law must be consistent with the axioms of probability and reflect the nature of the random experiment being modeled.***"
   ]
  },
  {
   "cell_type": "markdown",
   "id": "fe2511fc-30a6-49f4-9a65-5a4694134a54",
   "metadata": {},
   "source": [
    "#### __The Axioms of Probability__"
   ]
  },
  {
   "cell_type": "markdown",
   "id": "26ca5b10-1836-4a7d-a305-4124009971db",
   "metadata": {},
   "source": [
    "> The Axioms of Probability, also known as ***Kolmogorov's axioms***, are the fundamental rules that define probability mathematically.\n",
    "> \n",
    "> 1. Non-negativity:\n",
    ">    The probability of any event must be non-negative\n",
    "   P(A) ≥ 0 for any event A in the sample space\n",
    "> \n",
    "> 2. Normalization:\n",
    ">    The probability of the entire sample space (Ω) equals 1\n",
    "   P(Ω) = 1\n",
    "> \n",
    "> 3. Countable Additivity (or σ-additivity):\n",
    ">    For mutually exclusive events (A₁, A₂, ...), the probability of their union equals the sum of their individual probabilities\n",
    "   P(A₁ ∪ A₂ ∪ ...) = P(A₁) + P(A₂) + ...\n",
    "> \n",
    "> From these three basic axioms, we can derive several important properties:\n",
    "> \n",
    "> - Probability of impossible events: P(∅) = 0\n",
    "> - Complement rule: P(A') = 1 - P(A)\n",
    "> - Addition rule for any two events: P(A ∪ B) = P(A) + P(B) - P(A ∩ B)\n",
    "> - Monotonicity: If A ⊆ B, then P(A) ≤ P(B)\n",
    "> - Probability bounds: 0 ≤ P(A) ≤ 1 for any event A\n"
   ]
  },
  {
   "cell_type": "markdown",
   "id": "babe11e8-019a-462f-935d-04b9020d793d",
   "metadata": {},
   "source": [
    "#### Normalization in Probability Theory\n",
    "> Normalization (P(Ω) = 1) means that the probability of all possible outcomes in your sample space must sum to 1, or 100% if you're working with percentages. The sample space (Ω) contains all possible outcomes of your random experiment.\n",
    "> \n",
    "> Here are some concrete examples to illustrate this:\n",
    ">  \n",
    "> 1. For a fair coin flip:\n",
    ">     - Sample space Ω = {Heads, Tails}\n",
    ">     - P(Heads) = 0.5, P(Tails) = 0.5\n",
    ">    - P(Ω) = P(Heads) + P(Tails) = 0.5 + 0.5 = 1\n",
    "> \n",
    "> 2. For a six-sided die:\n",
    ">     - Sample space Ω = {1, 2, 3, 4, 5, 6}\n",
    ">     - For a fair die, P(each number) = 1/6\n",
    ">    - P(Ω) = P(1) + P(2) + P(3) + P(4) + P(5) + P(6) = 6 × (1/6) = 1\n",
    "> \n",
    "> 3. For a continuous random variable like height:\n",
    ">     - The total area under the probability density function must equal 1\n",
    ">    - ∫(probability density function) dx = 1 over the entire range\n",
    "> \n",
    "> This axiom ensures that we account for all possible outcomes and maintains consistency in probability calculations. It's a fundamental principle that helps us validate probability distributions – if the probabilities don't sum to 1, we know something is wrong with our model."
   ]
  },
  {
   "cell_type": "markdown",
   "id": "d0a6b7e6-1ca7-4cd7-8bc5-c3055c234f04",
   "metadata": {},
   "source": [
    "#### Probability Density Function\n",
    "\n",
    "> A probability density function (PDF) is a function that describes the relative likelihood of a continuous random variable taking on a specific value. Let me break this down:\n",
    "> \n",
    "> Key characteristics of a PDF:\n",
    "> \n",
    "> 1. It's a function f(x) that is always non-negative: f(x) ≥ 0\n",
    "> \n",
    "> 2. The total area under the curve must equal 1:\n",
    ">    ∫₋∞^∞ f(x)dx = 1\n",
    "> \n",
    "> 3. The probability of the random variable falling within an interval [a,b] is:\n",
    ">    P(a ≤ X ≤ b) = ∫ₐ^b f(x)dx\n",
    "> \n",
    "> Important distinctions from discrete probability:\n",
    "> - For a continuous random variable, the probability of it taking any exact value is 0\n",
    "> - We can only find probabilities of ranges (intervals)\n",
    "> \n",
    "> A classic example is the Normal (Gaussian) Distribution:\n",
    "f(x) = (1/√(2πσ²))e^(-(x-μ)²/2σ²)\n",
    "where:\n",
    "> - μ is the mean\n",
    "> - σ is the standard deviation\n",
    "> - e is Euler's number\n",
    "> - π is pi\n",
    "> \n",
    "> Other common examples include:\n",
    "> - Uniform distribution\n",
    "> - Exponential distribution\n",
    "> - Chi-square distribution\n",
    "> - Student's t-distribution"
   ]
  },
  {
   "cell_type": "code",
   "execution_count": null,
   "id": "8ec44474-6bd3-41cd-9cd0-dab9a0e2dc9c",
   "metadata": {},
   "outputs": [],
   "source": []
  }
 ],
 "metadata": {
  "kernelspec": {
   "display_name": "Python 3 (ipykernel)",
   "language": "python",
   "name": "python3"
  },
  "language_info": {
   "codemirror_mode": {
    "name": "ipython",
    "version": 3
   },
   "file_extension": ".py",
   "mimetype": "text/x-python",
   "name": "python",
   "nbconvert_exporter": "python",
   "pygments_lexer": "ipython3",
   "version": "3.12.7"
  }
 },
 "nbformat": 4,
 "nbformat_minor": 5
}
