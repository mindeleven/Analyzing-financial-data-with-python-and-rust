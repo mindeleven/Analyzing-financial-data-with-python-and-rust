{
 "cells": [
  {
   "cell_type": "markdown",
   "id": "c5bdc96b-852d-494b-8fbf-0c6e85d5d7be",
   "metadata": {},
   "source": [
    "## Probability Model and Probability Law"
   ]
  },
  {
   "cell_type": "markdown",
   "id": "ddca1bb4-283d-4130-a893-8c5bddbd9fd7",
   "metadata": {},
   "source": [
    "#### __Probability Model__\n",
    "> \n",
    "> A probability model consists of three components:\n",
    "> 1. Sample space (Ω or S): The set of all possible outcomes\n",
    "> 2. Events (subsets of S): Collections of outcomes we're interested in\n",
    "> 3. Probability law/measure: A function that assigns probabilities to events\n",
    "> \n",
    "> For example, for a fair coin flip:\n",
    "> - Sample Space S = {Heads, Tails}\n",
    "> - Events could be any subset: {}, {Heads}, {Tails}, {Heads, Tails}\n",
    "> - Probability law: P(Heads) = P(Tails) = 1/2"
   ]
  },
  {
   "cell_type": "markdown",
   "id": "0bff4ab6-47d1-44a6-859b-34154ec0a608",
   "metadata": {},
   "source": [
    "#### __Probability Law__\n",
    ">\n",
    "> The probability law (or probability measure) is a function P that assigns a real number P(A) to each event A, satisfying these axioms:\n",
    "> \n",
    "> 1. Non-negativity: P(A) ≥ 0 for any event A\n",
    "> 2. Normalization: P(S) = 1 for the sample space S\n",
    "> 3. Additivity: For disjoint events A and B, P(A ∪ B) = P(A) + P(B)\n",
    "> \n",
    "> The probability law tells us how likely each event is to occur. For example:\n",
    "> - Rolling a fair die: P(getting a 6) = 1/6\n",
    "> - Drawing from a deck: P(getting a heart) = 13/52\n",
    "> - Tossing a biased coin: P(Heads) = 0.6, P(Tails) = 0.4\n",
    "> \n",
    "> ***The probability law must be consistent with the axioms of probability and reflect the nature of the random experiment being modeled.***"
   ]
  },
  {
   "cell_type": "code",
   "execution_count": null,
   "id": "2ceff45d-60ac-4265-9e14-8c2a4fe30f38",
   "metadata": {},
   "outputs": [],
   "source": []
  }
 ],
 "metadata": {
  "kernelspec": {
   "display_name": "Python 3 (ipykernel)",
   "language": "python",
   "name": "python3"
  },
  "language_info": {
   "codemirror_mode": {
    "name": "ipython",
    "version": 3
   },
   "file_extension": ".py",
   "mimetype": "text/x-python",
   "name": "python",
   "nbconvert_exporter": "python",
   "pygments_lexer": "ipython3",
   "version": "3.12.7"
  }
 },
 "nbformat": 4,
 "nbformat_minor": 5
}
