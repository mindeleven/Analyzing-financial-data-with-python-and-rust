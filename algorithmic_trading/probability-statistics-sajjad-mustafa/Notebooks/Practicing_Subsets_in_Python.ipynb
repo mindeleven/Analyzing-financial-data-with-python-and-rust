{
 "cells": [
  {
   "cell_type": "markdown",
   "id": "8f107708-0db0-48f2-9a94-f8c82ebba252",
   "metadata": {},
   "source": [
    "## Practicing Subsets in Python"
   ]
  },
  {
   "cell_type": "markdown",
   "id": "72887a86-aa31-4682-9ccb-36ca0b652517",
   "metadata": {},
   "source": [
    "*(Coding along with the Udemy course [Mastering Probability & Statistic Python (Theory & Projects)](https://www.udemy.com/course/mastering-probability-and-statistics-in-python/) by Sajjad Mustafa)*"
   ]
  },
  {
   "cell_type": "code",
   "execution_count": 7,
   "id": "90fd3171-8fd4-4046-a32e-4d2622bcb773",
   "metadata": {},
   "outputs": [],
   "source": [
    "import numpy as np"
   ]
  },
  {
   "cell_type": "code",
   "execution_count": 1,
   "id": "949db1df-74c6-41d7-b17b-8ef1982abf03",
   "metadata": {},
   "outputs": [],
   "source": [
    "# defining two sets\n",
    "A = {1,2,3,8}\n",
    "B = {3,4}"
   ]
  },
  {
   "cell_type": "code",
   "execution_count": 2,
   "id": "ad1d7444-83bd-4327-81a3-8832e8277b16",
   "metadata": {},
   "outputs": [
    {
     "data": {
      "text/plain": [
       "True"
      ]
     },
     "execution_count": 2,
     "metadata": {},
     "output_type": "execute_result"
    }
   ],
   "source": [
    "# checking for members\n",
    "1 in A # returns boolean"
   ]
  },
  {
   "cell_type": "code",
   "execution_count": 3,
   "id": "0662a7e6-d5fd-4323-aa43-b1bceb7dce6c",
   "metadata": {},
   "outputs": [
    {
     "data": {
      "text/plain": [
       "False"
      ]
     },
     "execution_count": 3,
     "metadata": {},
     "output_type": "execute_result"
    }
   ],
   "source": [
    "4 in A"
   ]
  },
  {
   "cell_type": "code",
   "execution_count": 4,
   "id": "1ed50778-5db7-4761-adce-12290b470546",
   "metadata": {},
   "outputs": [
    {
     "data": {
      "text/plain": [
       "bool"
      ]
     },
     "execution_count": 4,
     "metadata": {},
     "output_type": "execute_result"
    }
   ],
   "source": [
    "flag = 4 in A\n",
    "type(flag)"
   ]
  },
  {
   "cell_type": "code",
   "execution_count": 5,
   "id": "14220e4e-9bd7-4680-b4fa-9f875023e7a0",
   "metadata": {},
   "outputs": [
    {
     "data": {
      "text/plain": [
       "False"
      ]
     },
     "execution_count": 5,
     "metadata": {},
     "output_type": "execute_result"
    }
   ],
   "source": [
    "# checking for subset\n",
    "B.issubset(A)"
   ]
  },
  {
   "cell_type": "code",
   "execution_count": 8,
   "id": "cf8835c3-b9d6-4751-94dd-7f425e2b2ee0",
   "metadata": {},
   "outputs": [],
   "source": [
    "# parameters: (sub)set A, set B\n",
    "def f_issubset(A,B):\n",
    "    for e in A:\n",
    "        if e in B:\n",
    "            pass\n",
    "        else:\n",
    "            # there's an element in A that is not on B\n",
    "            # so, no subset and we can skip here and return False\n",
    "            return False\n",
    "    # all elements of A are in B\n",
    "    return True\n",
    "        "
   ]
  },
  {
   "cell_type": "code",
   "execution_count": 9,
   "id": "bd2a5c95-c142-4f57-aed4-390c08384768",
   "metadata": {},
   "outputs": [
    {
     "name": "stdout",
     "output_type": "stream",
     "text": [
      "False\n"
     ]
    }
   ],
   "source": [
    "print(f_issubset(B,A))"
   ]
  },
  {
   "cell_type": "code",
   "execution_count": 10,
   "id": "ab5358f8-4f44-46f8-a6bc-ee2f14140f5b",
   "metadata": {},
   "outputs": [
    {
     "name": "stdout",
     "output_type": "stream",
     "text": [
      "True\n"
     ]
    }
   ],
   "source": [
    "print(f_issubset({2,3,4},{1,2,3,4,5,6}))"
   ]
  },
  {
   "cell_type": "markdown",
   "id": "4b5d7b15-c0e9-46c8-ad31-9c28e8fb7a04",
   "metadata": {},
   "source": [
    "### Sets with NumPy"
   ]
  },
  {
   "cell_type": "markdown",
   "id": "6b6b695d-ed22-4f9f-aa5f-891c4c770cfe",
   "metadata": {},
   "source": [
    "In set theory, the power set (or power set) of a Set A is defined as the set of all subsets of the Set A including the Set itself and the null or empty set. It is denoted by P(A). Basically, this set is the combination of all subsets including null set, of a given set (https://byjus.com/maths/power-set/)."
   ]
  },
  {
   "cell_type": "code",
   "execution_count": 35,
   "id": "5b14284a-5fa7-460f-ab89-04574383de3b",
   "metadata": {},
   "outputs": [],
   "source": [
    "def f_getPowerSet(S):\n",
    "    pS = set([]) # our powerset\n",
    "    # pS.add(frozenset[]) # sets inside set must be assured to be immutable\n",
    "    # converting set to numpy array\n",
    "    # because in array elements have position\n",
    "    A = np.array(list(S))\n",
    "    n = A.size # number of elements in array\n",
    "    for i in range(2**n):\n",
    "        b = np.binary_repr(i,width=n)\n",
    "        idx = np.array(list(b),dtype=int)==1 \n",
    "        pS.add(frozenset(A[idx]))\n",
    "    return pS"
   ]
  },
  {
   "cell_type": "code",
   "execution_count": 36,
   "id": "68bf1b4f-87ba-4753-9bfe-9d3dd4b1c04a",
   "metadata": {},
   "outputs": [],
   "source": [
    "S = set(np.arange(3))\n",
    "pS = f_getPowerSet(S)"
   ]
  },
  {
   "cell_type": "code",
   "execution_count": 37,
   "id": "9a90e5b3-ea01-40ce-a7c1-0de64a9efdc8",
   "metadata": {},
   "outputs": [
    {
     "name": "stdout",
     "output_type": "stream",
     "text": [
      "frozenset({np.int64(2)})\n",
      "frozenset({np.int64(1), np.int64(2)})\n",
      "frozenset({np.int64(0), np.int64(1), np.int64(2)})\n",
      "frozenset({np.int64(0), np.int64(1)})\n",
      "frozenset({np.int64(0), np.int64(2)})\n",
      "frozenset({np.int64(1)})\n",
      "frozenset()\n",
      "frozenset({np.int64(0)})\n"
     ]
    }
   ],
   "source": [
    "for i in pS:\n",
    "    print(i)"
   ]
  },
  {
   "cell_type": "markdown",
   "id": "6f1caa24-041e-4cb0-9d6c-29268c26641f",
   "metadata": {},
   "source": [
    "<span style=\"color:green;font-weight:bold;line-height:1.5\">Explanation of the powerset function by Claude.ai:</span>\n",
    ">\n",
    "> I'll break down this code and explain the mathematical concepts behind it. Let's go through it step by step.\n",
    "> \n",
    "> First, let's understand what a power set is from set theory:\n",
    "> - Given a set S, its power set P(S) is the set of all possible subsets of S, including the empty set ∅ and S itself\n",
    "> - For a set with n elements, the power set will have 2^n elements\n",
    "> - For example, if S = {0,1,2}, then P(S) = {∅, {0}, {1}, {2}, {0,1}, {0,2}, {1,2}, {0,1,2}}\n",
    "> \n",
    "> Now, let's analyze the code line by line:\n",
    "> \n",
    "> ```python\n",
    "> def f_getPowerSet(S):\n",
    ">     pS = set([])  # Initialize an empty set to store all subsets\n",
    "> ```\n",
    "> This creates an empty set that will eventually hold all subsets of S.\n",
    "> \n",
    "> ```python\n",
    ">     A = np.array(list(S))  # Convert input set to numpy array\n",
    ">     n = A.size  # Get number of elements in the input set\n",
    "> ```\n",
    "> The set is converted to a numpy array for easier indexing later. `n` stores the number of elements.\n",
    "> \n",
    "> ```python\n",
    ">     for i in range(2**n):  # Loop through all possible combinations\n",
    "> ```\n",
    "> Since we need 2^n subsets, we iterate from 0 to 2^n-1. Each number in this range will represent a unique combination.\n",
    "> \n",
    "> ```python\n",
    ">         b = np.binary_repr(i,width=n)  # Convert number to binary representation\n",
    "> ```\n",
    "> This converts each number i to its binary representation with padding to ensure it has width n. For example, with n=3:\n",
    "> - 0 → '000'\n",
    "> - 1 → '001'\n",
    "> - 2 → '010'\n",
    "> etc.\n",
    "> \n",
    "> ```python\n",
    ">         idx = np.array(list(b),dtype=int)==1  # Create boolean mask\n",
    "> ```\n",
    "> This creates a boolean array where True indicates which elements to include in the current subset. For example:\n",
    "> - '001' → [False, False, True]\n",
    "> - '101' → [True, False, True]\n",
    "> \n",
    "> ```python\n",
    ">         pS.add(frozenset(A[idx]))  # Add the new subset to power set\n",
    "> ```\n",
    "> Using the boolean mask, we select elements from A and create a frozenset (immutable set) to add to our power set. A frozenset is used because regular sets aren't hashable and can't be elements of another set.\n",
    "> \n",
    "> The final loop:\n",
    "> ```python\n",
    "> for i in pS:\n",
    ">     print(i)\n",
    "> ```\n",
    "> This simply prints each subset in the power set.\n",
    "> \n",
    "> The algorithm is clever because it uses binary numbers to represent all possible combinations. For example, with S = {0,1,2}:\n",
    "> - 000 → ∅\n",
    "> - 001 → {2}\n",
    "> - 010 → {1}\n",
    "> - 011 → {1,2}\n",
    "> - 100 → {0}\n",
    "> - 101 → {0,2}\n",
    "> - 110 → {0,1}\n",
    "> - 111 → {0,1,2}\n",
    "> \n",
    "> This implementation has a time complexity of O(2^n), which is optimal since a power set by definition must contain 2^n elements."
   ]
  },
  {
   "cell_type": "code",
   "execution_count": 11,
   "id": "21f11b6c-aecf-44d1-bd9b-32dbfe6ed0ec",
   "metadata": {},
   "outputs": [],
   "source": [
    "Omg = set(np.arange(10))"
   ]
  },
  {
   "cell_type": "code",
   "execution_count": 12,
   "id": "1a90c1f3-9184-4adc-8ac3-2c294ac77606",
   "metadata": {},
   "outputs": [
    {
     "data": {
      "text/plain": [
       "set"
      ]
     },
     "execution_count": 12,
     "metadata": {},
     "output_type": "execute_result"
    }
   ],
   "source": [
    "type(Omg)"
   ]
  },
  {
   "cell_type": "code",
   "execution_count": 13,
   "id": "73c5669c-90cd-4e0e-ac1a-86a0dc6fdbf7",
   "metadata": {},
   "outputs": [
    {
     "data": {
      "text/plain": [
       "{np.int64(0),\n",
       " np.int64(1),\n",
       " np.int64(2),\n",
       " np.int64(3),\n",
       " np.int64(4),\n",
       " np.int64(5),\n",
       " np.int64(6),\n",
       " np.int64(7),\n",
       " np.int64(8),\n",
       " np.int64(9)}"
      ]
     },
     "execution_count": 13,
     "metadata": {},
     "output_type": "execute_result"
    }
   ],
   "source": [
    "Omg"
   ]
  },
  {
   "cell_type": "code",
   "execution_count": null,
   "id": "18766cd0-66e3-49cb-ab84-658d7931d278",
   "metadata": {},
   "outputs": [],
   "source": []
  }
 ],
 "metadata": {
  "kernelspec": {
   "display_name": "Python 3 (ipykernel)",
   "language": "python",
   "name": "python3"
  },
  "language_info": {
   "codemirror_mode": {
    "name": "ipython",
    "version": 3
   },
   "file_extension": ".py",
   "mimetype": "text/x-python",
   "name": "python",
   "nbconvert_exporter": "python",
   "pygments_lexer": "ipython3",
   "version": "3.12.7"
  }
 },
 "nbformat": 4,
 "nbformat_minor": 5
}
