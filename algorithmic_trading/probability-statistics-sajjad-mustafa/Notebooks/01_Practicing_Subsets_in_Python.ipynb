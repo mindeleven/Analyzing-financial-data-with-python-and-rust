{
 "cells": [
  {
   "cell_type": "markdown",
   "id": "8f107708-0db0-48f2-9a94-f8c82ebba252",
   "metadata": {},
   "source": [
    "## Practicing Subsets in Python"
   ]
  },
  {
   "cell_type": "markdown",
   "id": "72887a86-aa31-4682-9ccb-36ca0b652517",
   "metadata": {},
   "source": [
    "*(Coding along with the Udemy course [Mastering Probability & Statistic Python (Theory & Projects)](https://www.udemy.com/course/mastering-probability-and-statistics-in-python/) by Sajjad Mustafa)*"
   ]
  },
  {
   "cell_type": "code",
   "execution_count": 43,
   "id": "90fd3171-8fd4-4046-a32e-4d2622bcb773",
   "metadata": {},
   "outputs": [],
   "source": [
    "import numpy as np"
   ]
  },
  {
   "cell_type": "code",
   "execution_count": 44,
   "id": "949db1df-74c6-41d7-b17b-8ef1982abf03",
   "metadata": {},
   "outputs": [],
   "source": [
    "# defining two sets\n",
    "A = {1,2,3,8}\n",
    "B = {3,4}"
   ]
  },
  {
   "cell_type": "code",
   "execution_count": 45,
   "id": "ad1d7444-83bd-4327-81a3-8832e8277b16",
   "metadata": {},
   "outputs": [
    {
     "data": {
      "text/plain": [
       "True"
      ]
     },
     "execution_count": 45,
     "metadata": {},
     "output_type": "execute_result"
    }
   ],
   "source": [
    "# checking for members\n",
    "1 in A # returns boolean"
   ]
  },
  {
   "cell_type": "code",
   "execution_count": 46,
   "id": "0662a7e6-d5fd-4323-aa43-b1bceb7dce6c",
   "metadata": {},
   "outputs": [
    {
     "data": {
      "text/plain": [
       "False"
      ]
     },
     "execution_count": 46,
     "metadata": {},
     "output_type": "execute_result"
    }
   ],
   "source": [
    "4 in A"
   ]
  },
  {
   "cell_type": "code",
   "execution_count": 47,
   "id": "1ed50778-5db7-4761-adce-12290b470546",
   "metadata": {},
   "outputs": [
    {
     "data": {
      "text/plain": [
       "bool"
      ]
     },
     "execution_count": 47,
     "metadata": {},
     "output_type": "execute_result"
    }
   ],
   "source": [
    "flag = 4 in A\n",
    "type(flag)"
   ]
  },
  {
   "cell_type": "code",
   "execution_count": 48,
   "id": "14220e4e-9bd7-4680-b4fa-9f875023e7a0",
   "metadata": {},
   "outputs": [
    {
     "data": {
      "text/plain": [
       "False"
      ]
     },
     "execution_count": 48,
     "metadata": {},
     "output_type": "execute_result"
    }
   ],
   "source": [
    "# checking for subset\n",
    "B.issubset(A)"
   ]
  },
  {
   "cell_type": "code",
   "execution_count": 49,
   "id": "cf8835c3-b9d6-4751-94dd-7f425e2b2ee0",
   "metadata": {},
   "outputs": [],
   "source": [
    "# parameters: (sub)set A, set B\n",
    "def f_issubset(A,B):\n",
    "    for e in A:\n",
    "        if e in B:\n",
    "            pass\n",
    "        else:\n",
    "            # there's an element in A that is not on B\n",
    "            # so, no subset and we can skip here and return False\n",
    "            return False\n",
    "    # all elements of A are in B\n",
    "    return True\n",
    "        "
   ]
  },
  {
   "cell_type": "code",
   "execution_count": 50,
   "id": "bd2a5c95-c142-4f57-aed4-390c08384768",
   "metadata": {},
   "outputs": [
    {
     "name": "stdout",
     "output_type": "stream",
     "text": [
      "False\n"
     ]
    }
   ],
   "source": [
    "print(f_issubset(B,A))"
   ]
  },
  {
   "cell_type": "code",
   "execution_count": 51,
   "id": "ab5358f8-4f44-46f8-a6bc-ee2f14140f5b",
   "metadata": {},
   "outputs": [
    {
     "name": "stdout",
     "output_type": "stream",
     "text": [
      "True\n"
     ]
    }
   ],
   "source": [
    "print(f_issubset({2,3,4},{1,2,3,4,5,6}))"
   ]
  },
  {
   "cell_type": "markdown",
   "id": "4b5d7b15-c0e9-46c8-ad31-9c28e8fb7a04",
   "metadata": {},
   "source": [
    "### Sets with NumPy"
   ]
  },
  {
   "cell_type": "markdown",
   "id": "6b6b695d-ed22-4f9f-aa5f-891c4c770cfe",
   "metadata": {},
   "source": [
    "In set theory, the power set (or power set) of a Set A is defined as the set of all subsets of the Set A including the Set itself and the null or empty set. It is denoted by P(A). Basically, this set is the combination of all subsets including null set, of a given set (https://byjus.com/maths/power-set/)."
   ]
  },
  {
   "cell_type": "code",
   "execution_count": 52,
   "id": "5b14284a-5fa7-460f-ab89-04574383de3b",
   "metadata": {},
   "outputs": [],
   "source": [
    "def f_getPowerSet(S):\n",
    "    pS = set([]) # our powerset\n",
    "    # pS.add(frozenset[]) # sets inside set must be assured to be immutable\n",
    "    # converting set to numpy array\n",
    "    # because in array elements have position\n",
    "    A = np.array(list(S))\n",
    "    n = A.size # number of elements in array\n",
    "    for i in range(2**n):\n",
    "        b = np.binary_repr(i,width=n)\n",
    "        idx = np.array(list(b),dtype=int)==1 \n",
    "        pS.add(frozenset(A[idx]))\n",
    "    return pS"
   ]
  },
  {
   "cell_type": "code",
   "execution_count": 53,
   "id": "68bf1b4f-87ba-4753-9bfe-9d3dd4b1c04a",
   "metadata": {},
   "outputs": [],
   "source": [
    "S = set(np.arange(3))\n",
    "pS = f_getPowerSet(S)"
   ]
  },
  {
   "cell_type": "code",
   "execution_count": 54,
   "id": "9a90e5b3-ea01-40ce-a7c1-0de64a9efdc8",
   "metadata": {},
   "outputs": [
    {
     "name": "stdout",
     "output_type": "stream",
     "text": [
      "frozenset({np.int64(2)})\n",
      "frozenset({np.int64(1), np.int64(2)})\n",
      "frozenset({np.int64(0), np.int64(1), np.int64(2)})\n",
      "frozenset({np.int64(0), np.int64(1)})\n",
      "frozenset({np.int64(0), np.int64(2)})\n",
      "frozenset({np.int64(1)})\n",
      "frozenset()\n",
      "frozenset({np.int64(0)})\n"
     ]
    }
   ],
   "source": [
    "for i in pS:\n",
    "    print(i)"
   ]
  },
  {
   "cell_type": "markdown",
   "id": "6f1caa24-041e-4cb0-9d6c-29268c26641f",
   "metadata": {},
   "source": [
    "<span style=\"color:green;font-weight:bold;line-height:1.5\">Explanation of the powerset function by Claude.ai:</span>\n",
    ">\n",
    "> I'll break down this code and explain the mathematical concepts behind it. Let's go through it step by step.\n",
    "> \n",
    "> First, let's understand what a power set is from set theory:\n",
    "> - Given a set S, its power set P(S) is the set of all possible subsets of S, including the empty set ∅ and S itself\n",
    "> - For a set with n elements, the power set will have 2^n elements\n",
    "> - For example, if S = {0,1,2}, then P(S) = {∅, {0}, {1}, {2}, {0,1}, {0,2}, {1,2}, {0,1,2}}\n",
    "> \n",
    "> Now, let's analyze the code line by line:\n",
    "> \n",
    "> ```python\n",
    "> def f_getPowerSet(S):\n",
    ">     pS = set([])  # Initialize an empty set to store all subsets\n",
    "> ```\n",
    "> This creates an empty set that will eventually hold all subsets of S.\n",
    "> \n",
    "> ```python\n",
    ">     A = np.array(list(S))  # Convert input set to numpy array\n",
    ">     n = A.size  # Get number of elements in the input set\n",
    "> ```\n",
    "> The set is converted to a numpy array for easier indexing later. `n` stores the number of elements.\n",
    "> \n",
    "> ```python\n",
    ">     for i in range(2**n):  # Loop through all possible combinations\n",
    "> ```\n",
    "> Since we need 2^n subsets, we iterate from 0 to 2^n-1. Each number in this range will represent a unique combination.\n",
    "> \n",
    "> ```python\n",
    ">         b = np.binary_repr(i,width=n)  # Convert number to binary representation\n",
    "> ```\n",
    "> This converts each number i to its binary representation with padding to ensure it has width n. For example, with n=3:\n",
    "> - 0 → '000'\n",
    "> - 1 → '001'\n",
    "> - 2 → '010'\n",
    "> etc.\n",
    "> \n",
    "> ```python\n",
    ">         idx = np.array(list(b),dtype=int)==1  # Create boolean mask\n",
    "> ```\n",
    "> This creates a boolean array where True indicates which elements to include in the current subset. For example:\n",
    "> - '001' → [False, False, True]\n",
    "> - '101' → [True, False, True]\n",
    "> \n",
    "> ```python\n",
    ">         pS.add(frozenset(A[idx]))  # Add the new subset to power set\n",
    "> ```\n",
    "> Using the boolean mask, we select elements from A and create a frozenset (immutable set) to add to our power set. A frozenset is used because regular sets aren't hashable and can't be elements of another set.\n",
    "> \n",
    "> The final loop:\n",
    "> ```python\n",
    "> for i in pS:\n",
    ">     print(i)\n",
    "> ```\n",
    "> This simply prints each subset in the power set.\n",
    "> \n",
    "> The algorithm is clever because it uses binary numbers to represent all possible combinations. For example, with S = {0,1,2}:\n",
    "> - 000 → ∅\n",
    "> - 001 → {2}\n",
    "> - 010 → {1}\n",
    "> - 011 → {1,2}\n",
    "> - 100 → {0}\n",
    "> - 101 → {0,2}\n",
    "> - 110 → {0,1}\n",
    "> - 111 → {0,1,2}\n",
    "> \n",
    "> This implementation has a time complexity of O(2^n), which is optimal since a power set by definition must contain 2^n elements."
   ]
  },
  {
   "cell_type": "code",
   "execution_count": 55,
   "id": "b8eb3dae-c159-43b2-aa65-b53582cc654f",
   "metadata": {},
   "outputs": [
    {
     "name": "stdout",
     "output_type": "stream",
     "text": [
      "{np.int64(0), np.int64(1), np.int64(2)}\n",
      "Number of all possible combinations of the set:  8\n",
      "0 000 [False False False]\n",
      "frozenset()\n",
      "1 001 [False False  True]\n",
      "frozenset({np.int64(2)})\n",
      "2 010 [False  True False]\n",
      "frozenset({np.int64(1)})\n",
      "3 011 [False  True  True]\n",
      "frozenset({np.int64(1), np.int64(2)})\n",
      "4 100 [ True False False]\n",
      "frozenset({np.int64(0)})\n",
      "5 101 [ True False  True]\n",
      "frozenset({np.int64(0), np.int64(2)})\n",
      "6 110 [ True  True False]\n",
      "frozenset({np.int64(0), np.int64(1)})\n",
      "7 111 [ True  True  True]\n",
      "frozenset({np.int64(0), np.int64(1), np.int64(2)})\n"
     ]
    }
   ],
   "source": [
    "# the code from above function in small steps with printouts\n",
    "# explanation from claude.ai above\n",
    "S = set(np.arange(3))\n",
    "print(S)\n",
    "\n",
    "A = np.array(list(S))\n",
    "n = A.size \n",
    "print(\"Number of all possible combinations of the set: \", 2**n)\n",
    "\n",
    "for i in range(2**n):\n",
    "    # here begins the crucial part: using binary numbers to represent all possible combinations\n",
    "    b = np.binary_repr(i,width=n) # here we get all possible combinations for the size of array A (n = A.size )\n",
    "    # print(i, b)\n",
    "    idx = np.array(list(b),dtype=int)==1 # # creating boolean mask\n",
    "    print(i, b, idx)\n",
    "    print(frozenset(A[idx]))"
   ]
  },
  {
   "cell_type": "code",
   "execution_count": 56,
   "id": "b88fb93e-b8ee-4e61-ac60-a42feb243520",
   "metadata": {},
   "outputs": [
    {
     "name": "stdout",
     "output_type": "stream",
     "text": [
      "Set S:  {np.int64(1), np.int64(4), np.int64(7)}\n",
      "frozenset({np.int64(1), np.int64(4)})\n",
      "frozenset({np.int64(1), np.int64(4), np.int64(7)})\n",
      "frozenset({np.int64(1), np.int64(7)})\n",
      "frozenset({np.int64(7)})\n",
      "frozenset({np.int64(1)})\n",
      "frozenset()\n",
      "frozenset({np.int64(4)})\n",
      "frozenset({np.int64(4), np.int64(7)})\n"
     ]
    }
   ],
   "source": [
    "# another example using the powerset function\n",
    "S = set(np.arange(1,10,3))\n",
    "print(\"Set S: \", S)\n",
    "pS = f_getPowerSet(S)\n",
    "for i in pS:\n",
    "    print(i)"
   ]
  },
  {
   "cell_type": "markdown",
   "id": "0307dcc6-64d2-4259-b4ac-6c9c56b8f7fb",
   "metadata": {},
   "source": [
    "### Set Operations"
   ]
  },
  {
   "cell_type": "markdown",
   "id": "2feeda8e-9b8e-4d49-a357-bba789a5d323",
   "metadata": {},
   "source": [
    "**Union (∪)**\n",
    "- The union of sets A and B includes all elements that are in A OR in B (or both)\n",
    "- Mathematical notation: `A ∪ B = {x | x ∈ A or x ∈ B}`\n",
    "\n",
    "**Intersection (∩)**\n",
    "- The intersection of sets A and B includes only elements that are in BOTH A AND B\n",
    "- Mathematical notation: `A ∩ B = {x | x ∈ A and x ∈ B}`\n",
    "\n",
    "**Difference (-)**\n",
    "- The difference A - B includes elements that are in A but NOT in B\n",
    "- Mathematical notation: `A - B = {x | x ∈ A and x ∉ B}`\n",
    "\n",
    "**Complement (A')**\n",
    "- The complement of A contains all elements in the universal set U that are NOT in A\n",
    "- Mathematical notation: `A' = {x | x ∈ U and x ∉ A}`"
   ]
  },
  {
   "cell_type": "markdown",
   "id": "417cbb68-14b2-4060-99d4-9689200e55a1",
   "metadata": {},
   "source": [
    "### Python Practice Set Operations"
   ]
  },
  {
   "cell_type": "code",
   "execution_count": 57,
   "id": "21f11b6c-aecf-44d1-bd9b-32dbfe6ed0ec",
   "metadata": {},
   "outputs": [],
   "source": [
    "# defining a universal set omega Omg\n",
    "Omg = set(np.arange(10)) # arange creates array from zero to nine; set aranges array as a set"
   ]
  },
  {
   "cell_type": "code",
   "execution_count": 58,
   "id": "1a90c1f3-9184-4adc-8ac3-2c294ac77606",
   "metadata": {},
   "outputs": [
    {
     "data": {
      "text/plain": [
       "set"
      ]
     },
     "execution_count": 58,
     "metadata": {},
     "output_type": "execute_result"
    }
   ],
   "source": [
    "type(Omg)"
   ]
  },
  {
   "cell_type": "code",
   "execution_count": 59,
   "id": "73c5669c-90cd-4e0e-ac1a-86a0dc6fdbf7",
   "metadata": {},
   "outputs": [
    {
     "data": {
      "text/plain": [
       "{np.int64(0),\n",
       " np.int64(1),\n",
       " np.int64(2),\n",
       " np.int64(3),\n",
       " np.int64(4),\n",
       " np.int64(5),\n",
       " np.int64(6),\n",
       " np.int64(7),\n",
       " np.int64(8),\n",
       " np.int64(9)}"
      ]
     },
     "execution_count": 59,
     "metadata": {},
     "output_type": "execute_result"
    }
   ],
   "source": [
    "Omg"
   ]
  },
  {
   "cell_type": "code",
   "execution_count": 60,
   "id": "18766cd0-66e3-49cb-ab84-658d7931d278",
   "metadata": {},
   "outputs": [],
   "source": [
    "A = set(np.arange(0,9,2)) # elements from 0 to nine in steps of 2"
   ]
  },
  {
   "cell_type": "code",
   "execution_count": 61,
   "id": "c9726b95-7ab3-41ce-be7e-15bdb4d8f0c4",
   "metadata": {},
   "outputs": [
    {
     "data": {
      "text/plain": [
       "{np.int64(0), np.int64(2), np.int64(4), np.int64(6), np.int64(8)}"
      ]
     },
     "execution_count": 61,
     "metadata": {},
     "output_type": "execute_result"
    }
   ],
   "source": [
    "A"
   ]
  },
  {
   "cell_type": "code",
   "execution_count": 62,
   "id": "681d5191-f19f-4556-a9ba-594eb689f986",
   "metadata": {},
   "outputs": [],
   "source": [
    "B = set(np.arange(1,9,3)) # elements from 0 to nine in steps of 3"
   ]
  },
  {
   "cell_type": "code",
   "execution_count": 63,
   "id": "d415005c-074f-475d-af7f-0a83e844dd6d",
   "metadata": {},
   "outputs": [
    {
     "data": {
      "text/plain": [
       "{np.int64(1), np.int64(4), np.int64(7)}"
      ]
     },
     "execution_count": 63,
     "metadata": {},
     "output_type": "execute_result"
    }
   ],
   "source": [
    "B"
   ]
  },
  {
   "cell_type": "code",
   "execution_count": 64,
   "id": "f224d9de-6cde-4a51-b3f3-917d0df9440c",
   "metadata": {},
   "outputs": [
    {
     "data": {
      "text/plain": [
       "{np.int64(0),\n",
       " np.int64(1),\n",
       " np.int64(2),\n",
       " np.int64(4),\n",
       " np.int64(6),\n",
       " np.int64(7),\n",
       " np.int64(8)}"
      ]
     },
     "execution_count": 64,
     "metadata": {},
     "output_type": "execute_result"
    }
   ],
   "source": [
    "# union of A and B\n",
    "A.union(B)"
   ]
  },
  {
   "cell_type": "code",
   "execution_count": 65,
   "id": "2eca3b50-62d0-452e-9923-17b0a3eb8e5f",
   "metadata": {},
   "outputs": [
    {
     "data": {
      "text/plain": [
       "{np.int64(4)}"
      ]
     },
     "execution_count": 65,
     "metadata": {},
     "output_type": "execute_result"
    }
   ],
   "source": [
    "# common elements of A and B\n",
    "A.intersection(B)"
   ]
  },
  {
   "cell_type": "code",
   "execution_count": 66,
   "id": "87868b63-ddf4-437a-81db-f65eeb28740a",
   "metadata": {},
   "outputs": [],
   "source": [
    "B.add(6)"
   ]
  },
  {
   "cell_type": "code",
   "execution_count": 67,
   "id": "1d9e2cd6-cb6a-4d91-8410-4ab73d9cb918",
   "metadata": {},
   "outputs": [
    {
     "data": {
      "text/plain": [
       "{np.int64(1), np.int64(4), 6, np.int64(7)}"
      ]
     },
     "execution_count": 67,
     "metadata": {},
     "output_type": "execute_result"
    }
   ],
   "source": [
    "B"
   ]
  },
  {
   "cell_type": "code",
   "execution_count": 68,
   "id": "e3c44a03-4be7-457b-afb4-a482c83d4eb9",
   "metadata": {},
   "outputs": [
    {
     "data": {
      "text/plain": [
       "{np.int64(4), 6}"
      ]
     },
     "execution_count": 68,
     "metadata": {},
     "output_type": "execute_result"
    }
   ],
   "source": [
    "# common elements of A and B once again\n",
    "A.intersection(B)"
   ]
  },
  {
   "cell_type": "code",
   "execution_count": 69,
   "id": "2bdc684c-87bf-4542-88fa-0f5689399e54",
   "metadata": {},
   "outputs": [
    {
     "data": {
      "text/plain": [
       "{np.int64(0), np.int64(2), np.int64(4), np.int64(6), np.int64(8)}"
      ]
     },
     "execution_count": 69,
     "metadata": {},
     "output_type": "execute_result"
    }
   ],
   "source": [
    "A"
   ]
  },
  {
   "cell_type": "code",
   "execution_count": 70,
   "id": "413c11fe-b58f-404b-90c0-a2a7b1b66e07",
   "metadata": {},
   "outputs": [
    {
     "data": {
      "text/plain": [
       "{np.int64(1), np.int64(4), 6, np.int64(7)}"
      ]
     },
     "execution_count": 70,
     "metadata": {},
     "output_type": "execute_result"
    }
   ],
   "source": [
    "B"
   ]
  },
  {
   "cell_type": "code",
   "execution_count": 71,
   "id": "615874a0-ecc4-4885-a865-cdb2af0a52b0",
   "metadata": {},
   "outputs": [
    {
     "data": {
      "text/plain": [
       "{np.int64(0), np.int64(2), np.int64(8)}"
      ]
     },
     "execution_count": 71,
     "metadata": {},
     "output_type": "execute_result"
    }
   ],
   "source": [
    "# elements that are in A but NOT in B\n",
    "A.difference(B)"
   ]
  },
  {
   "cell_type": "code",
   "execution_count": 72,
   "id": "b3287d39-f9e7-4bb8-bc2a-ad5271efabf4",
   "metadata": {},
   "outputs": [],
   "source": [
    "# The complement of A contains all elements in the universal set Omg that are NOT in A\n",
    "A_complement = Omg.difference(A)"
   ]
  },
  {
   "cell_type": "code",
   "execution_count": 73,
   "id": "8dc59af8-4fb6-4479-a3b0-8948c1deb1b6",
   "metadata": {},
   "outputs": [
    {
     "data": {
      "text/plain": [
       "{np.int64(1), np.int64(3), np.int64(5), np.int64(7), np.int64(9)}"
      ]
     },
     "execution_count": 73,
     "metadata": {},
     "output_type": "execute_result"
    }
   ],
   "source": [
    "A_complement"
   ]
  },
  {
   "cell_type": "code",
   "execution_count": 74,
   "id": "6f45e869-7fe7-4675-ac7a-4b4a59249346",
   "metadata": {},
   "outputs": [],
   "source": [
    "B_complement = Omg.difference(B)"
   ]
  },
  {
   "cell_type": "markdown",
   "id": "a403f99a-3bf8-4915-a684-9611efb69dae",
   "metadata": {},
   "source": [
    "#### __De Morgan's Laws in Set Theory__\n",
    "\n",
    "De Morgan's laws in set theory describe the relationship between set operations and complements. They are fundamental principles that show how unions, intersections, and complements relate to each other.\n",
    "\n",
    "The two laws state:\n",
    "\n",
    "1. The complement of a union of sets equals the intersection of their complements:\n",
    "   - Mathematical notation: (A ∪ B)' = A' ∩ B'\n",
    "   - In Markdown: `(A ∪ B)' = A' ∩ B'`\n",
    "\n",
    "2. The complement of an intersection of sets equals the union of their complements:\n",
    "   - Mathematical notation: (A ∩ B)' = A' ∪ B'\n",
    "   - In Markdown: `(A ∩ B)' = A' ∪ B'`\n",
    "\n",
    "To understand this intuitively:\n",
    "- If an element is NOT in either A OR B, then it must be NOT in A AND NOT in B\n",
    "- If an element is NOT in both A AND B, then it must be NOT in A OR NOT in B\n",
    "\n",
    "These laws are particularly useful in simplifying set expressions and are analogous to the logical De Morgan's laws in Boolean algebra where:\n",
    "- NOT (A OR B) = (NOT A) AND (NOT B)\n",
    "- NOT (A AND B) = (NOT A) OR (NOT B)\n",
    "\n",
    "These principles are widely used in probability theory, computer science (especially in digital logic), and general mathematical proofs involving sets."
   ]
  },
  {
   "cell_type": "code",
   "execution_count": 75,
   "id": "429db013-11dc-4696-8acc-2db454f03907",
   "metadata": {},
   "outputs": [
    {
     "data": {
      "text/plain": [
       "{np.int64(3), np.int64(5), np.int64(9)}"
      ]
     },
     "execution_count": 75,
     "metadata": {},
     "output_type": "execute_result"
    }
   ],
   "source": [
    "# proving De Morgan's laws\n",
    "Omg.difference(A.union(B))"
   ]
  },
  {
   "cell_type": "code",
   "execution_count": 76,
   "id": "92db4046-7449-47b3-adb1-5176f9723dd8",
   "metadata": {},
   "outputs": [
    {
     "data": {
      "text/plain": [
       "{np.int64(3), np.int64(5), np.int64(9)}"
      ]
     },
     "execution_count": 76,
     "metadata": {},
     "output_type": "execute_result"
    }
   ],
   "source": [
    "A_complement.intersection(B_complement)"
   ]
  },
  {
   "cell_type": "code",
   "execution_count": 77,
   "id": "4ce28768-e244-4767-8e38-bd74fa177336",
   "metadata": {},
   "outputs": [
    {
     "data": {
      "text/plain": [
       "{np.int64(0),\n",
       " np.int64(1),\n",
       " np.int64(2),\n",
       " np.int64(3),\n",
       " np.int64(5),\n",
       " np.int64(7),\n",
       " np.int64(8),\n",
       " np.int64(9)}"
      ]
     },
     "execution_count": 77,
     "metadata": {},
     "output_type": "execute_result"
    }
   ],
   "source": [
    "Omg.difference(A.intersection(B))"
   ]
  },
  {
   "cell_type": "code",
   "execution_count": 78,
   "id": "5a336fd7-3373-4569-981a-c695a8ee4f26",
   "metadata": {},
   "outputs": [
    {
     "data": {
      "text/plain": [
       "{np.int64(0),\n",
       " np.int64(1),\n",
       " np.int64(2),\n",
       " np.int64(3),\n",
       " np.int64(5),\n",
       " np.int64(7),\n",
       " np.int64(8),\n",
       " np.int64(9)}"
      ]
     },
     "execution_count": 78,
     "metadata": {},
     "output_type": "execute_result"
    }
   ],
   "source": [
    "A_complement.union(B_complement)"
   ]
  },
  {
   "cell_type": "code",
   "execution_count": null,
   "id": "88718220-23d0-4c58-a63a-9c3c38071433",
   "metadata": {},
   "outputs": [],
   "source": []
  }
 ],
 "metadata": {
  "kernelspec": {
   "display_name": "Python 3 (ipykernel)",
   "language": "python",
   "name": "python3"
  },
  "language_info": {
   "codemirror_mode": {
    "name": "ipython",
    "version": 3
   },
   "file_extension": ".py",
   "mimetype": "text/x-python",
   "name": "python",
   "nbconvert_exporter": "python",
   "pygments_lexer": "ipython3",
   "version": "3.12.7"
  }
 },
 "nbformat": 4,
 "nbformat_minor": 5
}
