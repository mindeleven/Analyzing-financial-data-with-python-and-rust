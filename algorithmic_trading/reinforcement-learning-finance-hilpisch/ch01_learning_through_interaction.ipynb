{
 "cells": [
  {
   "cell_type": "markdown",
   "id": "1ba56041-5702-4e94-9e91-54c91d26e56c",
   "metadata": {},
   "source": [
    "## Learning Through Interaction"
   ]
  },
  {
   "cell_type": "code",
   "execution_count": 1,
   "id": "17971e6d-230d-47a5-8c66-543070af37c1",
   "metadata": {},
   "outputs": [],
   "source": [
    "import numpy as np\n",
    "from numpy.random import default_rng"
   ]
  },
  {
   "cell_type": "code",
   "execution_count": 4,
   "id": "7af53149-4ac6-4e8a-8712-7c65111fd8b1",
   "metadata": {},
   "outputs": [],
   "source": [
    "rng = default_rng(seed=100)"
   ]
  },
  {
   "cell_type": "markdown",
   "id": "5b2a0c0e-048d-40c7-bd30-f8d05c977c5b",
   "metadata": {},
   "source": [
    "- default_rng(seed=100) is part of NumPy's random number generation functionality\n",
    "- default_rng() is a function that creates a random number generator (RNG) with a reproducible sequence of random numbers\n",
    "- seed=100 sets a specific starting point for the random number generation, which means you'll get the same sequence of random numbers every time you run the code with this seed"
   ]
  },
  {
   "cell_type": "code",
   "execution_count": 5,
   "id": "07c9ba95-f5e9-4ef1-9498-9a3a2c1cec90",
   "metadata": {},
   "outputs": [],
   "source": [
    "# defining the state space, 1 for heads, 0 for tails\n",
    "ssp = [1, 0]"
   ]
  },
  {
   "cell_type": "code",
   "execution_count": 6,
   "id": "f835d864-5ccd-468e-a530-7dbb26563d3b",
   "metadata": {},
   "outputs": [],
   "source": [
    "# defining the action space, 1 for a bet on heads, 0 for a bet on tails\n",
    "asp = [1, 0]"
   ]
  },
  {
   "cell_type": "code",
   "execution_count": 7,
   "id": "8bf53537-be1a-41f6-9406-0e4534b24776",
   "metadata": {},
   "outputs": [],
   "source": [
    "def epoche():\n",
    "    tr = 0\n",
    "    for _ in range(100):\n",
    "        a = rng.choice(asp)\n",
    "        s = rng.choice(ssp)\n",
    "        if a == s:\n",
    "            tr += 1\n",
    "        return tr"
   ]
  },
  {
   "cell_type": "code",
   "execution_count": 8,
   "id": "b02207b1-f8ab-4aee-8200-974feb05e99c",
   "metadata": {},
   "outputs": [
    {
     "data": {
      "text/plain": [
       "array([1, 0, 1, 1, 1, 1, 0, 1, 0, 0])"
      ]
     },
     "execution_count": 8,
     "metadata": {},
     "output_type": "execute_result"
    }
   ],
   "source": [
    "rl = np.array([epoche() for _ in range(250)])\n",
    "rl[:10]"
   ]
  },
  {
   "cell_type": "code",
   "execution_count": 9,
   "id": "0ae33483-1904-4f5c-9b96-0995642c3854",
   "metadata": {},
   "outputs": [
    {
     "data": {
      "text/plain": [
       "np.float64(0.508)"
      ]
     },
     "execution_count": 9,
     "metadata": {},
     "output_type": "execute_result"
    }
   ],
   "source": [
    "rl.mean()"
   ]
  },
  {
   "cell_type": "code",
   "execution_count": null,
   "id": "b590f62b-8b01-4439-bfe8-e0307d5e1732",
   "metadata": {},
   "outputs": [],
   "source": []
  }
 ],
 "metadata": {
  "kernelspec": {
   "display_name": "Python 3 (ipykernel)",
   "language": "python",
   "name": "python3"
  },
  "language_info": {
   "codemirror_mode": {
    "name": "ipython",
    "version": 3
   },
   "file_extension": ".py",
   "mimetype": "text/x-python",
   "name": "python",
   "nbconvert_exporter": "python",
   "pygments_lexer": "ipython3",
   "version": "3.12.7"
  }
 },
 "nbformat": 4,
 "nbformat_minor": 5
}
