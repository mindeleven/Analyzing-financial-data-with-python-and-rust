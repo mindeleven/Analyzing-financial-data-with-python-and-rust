{
 "cells": [
  {
   "cell_type": "markdown",
   "id": "3757f967-21e0-4190-905b-451de362507c",
   "metadata": {},
   "source": [
    "## Ordinary Least Squares (OLS) Regression"
   ]
  },
  {
   "cell_type": "markdown",
   "id": "5aedd37d-99bd-42e6-ac67-2ddca17e7c19",
   "metadata": {},
   "source": [
    "*(Coding along with the Udemy Couse [Python for Business and Finance](https://www.udemy.com/course/complete-python-for-business-and-finance-bootcamp/) by Alexander Hagmann.)*"
   ]
  },
  {
   "cell_type": "markdown",
   "id": "1809383e-a39a-4a9d-8c88-ed988f2b4a80",
   "metadata": {},
   "source": [
    "__Ordinary least squares regression:__\n",
    "\n",
    "- Our data points never lie perfectly on one single straight line: typically we have a ***residual*** or an error term for each and every data point\n",
    "\n",
    "- The residual of the error is the vertical distance of the data point to the regression line (***this is, the distance of the actual y-value to the y-value that is forecasted by the regression model***)\n",
    "\n",
    "- The best fitting regression line is the line that minimizes the error terms\n",
    "\n",
    "- It is useful to work with the squared errors because positive and negative error terms the would offset each other (squared errors are always positive)\n",
    "\n",
    "- Best fit means that we find the regression line that minimizes the sum (or alternatively the mean) of these squared error terms.\n",
    "\n",
    "__In literature both solutions can be found:__ \n",
    "\n",
    "1. Minimizing the sum of the squarred errors: __SSE (sum of squared errors)__\n",
    "\n",
    "2. Minimizing the mean of the squarred errors: __MSE (mean of squared errors)__\n",
    "\n",
    "So, in conclusion, we can say that we have a __ordinary least squares regression__ because we're *minimizing the squared errors*.\n",
    "\n",
    "<img src=\"../assets/images/ols_regression.png\" width=\"80%\" />\n",
    "\n",
    "*(Screenshot taken from Alexander Hagmann's Udemy Couse [Python for Business and Finance](https://www.udemy.com/course/complete-python-for-business-and-finance-bootcamp/).)*\n"
   ]
  },
  {
   "cell_type": "markdown",
   "id": "12aa2375-b9e1-4034-9cf3-1da7e31b48d8",
   "metadata": {},
   "source": [
    "<span style=\"font-weight:bold;color:green;line-height:1.5\">*Claude.ai*, a linear regression model can be described as drawing a line that best fits our data. How can we determine what the \"best fit\" to draw this line is for a regression of the type ordinary least squares regression? Please keep your explanation brief and include what ordinary least squares regression actually is. Residuals (or error terms) should also be part of the brief explanation.</span>\n",
    "\n",
    "> Ordinary Least Squares (OLS) regression is a method for finding the best-fitting straight line through a set of data points by minimizing the sum of the squared vertical distances between the observed data points and the predicted line.\n",
    ">\n",
    "> Here's how it works:\n",
    "> - The goal is to find a line in the form y = mx + b (where m is the slope and b is the y-intercept) that minimizes the residuals\n",
    "> - Residuals are the vertical distances between each actual data point and the predicted line (the difference between observed and predicted y values)\n",
    "> - In OLS, \"best fit\" is determined by minimizing the sum of squared residuals\n",
    "> - Mathematically, this means calculating the line that makes the sum of (observed y - predicted y)² as small as possible\n",
    "> - The method squares the residuals to ensure that both positive and negative errors are treated equally and to penalize larger errors more significantly\n",
    "> - The line that minimizes this sum of squared residuals is considered the best linear approximation of the relationship between the variables\n",
    ">\n",
    "> Visually, imagine drawing different lines through a scatter plot and calculating the squared vertical distances from each point to the line. The line that results in the smallest total squared distance is the OLS regression line.\n",
    ">\n",
    "> This approach provides a statistical method to find a linear relationship that best represents the trend in your data while minimizing the impact of individual data point variations."
   ]
  },
  {
   "cell_type": "markdown",
   "id": "cff511e9-9671-480b-9fb4-3598b6812091",
   "metadata": {},
   "source": [
    "### OLS Regression with Statsmodels"
   ]
  },
  {
   "cell_type": "markdown",
   "id": "93cc92b5-1de8-47dc-98c8-3f833656ef8d",
   "metadata": {},
   "source": [
    "<span style=\"font-weight:bold;color:green;line-height:1.5\">*Claude.ai*, what's the advantage of using statsmodels in Python to create a regression model?</span>\n",
    "\n",
    "> Statsmodels offers several advantages for creating regression models in Python:\n",
    "> \n",
    "> 1. Comprehensive Statistical Output: Unlike scikit-learn, statsmodels provides detailed statistical information about your regression model, including:\n",
    ">    - Coefficient p-values\n",
    ">    - Standard errors\n",
    ">    - Confidence intervals\n",
    ">    - R-squared and adjusted R-squared\n",
    ">    - Model significance tests\n",
    ">    - Diagnostic statistics\n",
    "> \n",
    "> 2. Multiple Regression Types: It supports a wide range of regression models beyond basic linear regression, including:\n",
    ">    - Ordinary Least Squares (OLS)\n",
    ">    - Generalized Linear Models (GLM)\n",
    ">    - Logistic Regression\n",
    ">    - Time Series Regression\n",
    ">    - Robust Regression\n",
    "> \n",
    "> 3. Detailed Hypothesis Testing: Statsmodels allows for more rigorous statistical inference, enabling you to test hypotheses about your model's parameters and overall fit.\n",
    "> \n",
    "> 4. Diagnostics and Validation: It provides built-in tools for model diagnostics, such as:\n",
    ">    - Checking for multicollinearity\n",
    ">    - Analyzing residuals\n",
    ">    - Performing various statistical tests on model assumptions\n",
    "> \n",
    "> 5. Compatibility with Pandas: The library works seamlessly with Pandas DataFrames, making data preparation and model fitting more straightforward.\n",
    "> \n",
    "> Example of a basic statsmodels regression:\n",
    "> \n",
    "> ```python\n",
    "> import statsmodels.api as sm\n",
    "> \n",
    "> # Prepare data\n",
    "> X = sm.add_constant(X)  # Add a constant term for the intercept\n",
    "> model = sm.OLS(y, X).fit()\n",
    "> \n",
    "> # Print detailed model summary\n",
    "> print(model.summary())\n",
    "> ```\n",
    "> \n",
    "> This makes statsmodels particularly valuable for academic, research, and statistical analysis where understanding the detailed statistical properties of your regression model is crucial."
   ]
  },
  {
   "cell_type": "code",
   "execution_count": 69,
   "id": "a7d93783-00da-441a-9346-9cbf03645b89",
   "metadata": {},
   "outputs": [],
   "source": [
    "import numpy as np\n",
    "import statsmodels.api as sm\n",
    "import matplotlib.pyplot as plt"
   ]
  },
  {
   "cell_type": "code",
   "execution_count": 70,
   "id": "ebdbedb5-860c-416a-bff4-bfed801c0cbf",
   "metadata": {},
   "outputs": [
    {
     "data": {
      "text/plain": [
       "array([1, 2, 3, 4, 5, 6, 7, 8, 9])"
      ]
     },
     "execution_count": 70,
     "metadata": {},
     "output_type": "execute_result"
    }
   ],
   "source": [
    "# creating example data\n",
    "# independent variable x (eg. the budget in millions)\n",
    "x = np.arange(1, 10)\n",
    "x # first movie: budget of one million"
   ]
  },
  {
   "cell_type": "code",
   "execution_count": 71,
   "id": "6a5cbd10-d1f4-4ed6-947b-84417b0abd0c",
   "metadata": {},
   "outputs": [
    {
     "data": {
      "text/plain": [
       "array([ 2,  6,  7,  7, 11, 10, 15, 15, 18])"
      ]
     },
     "execution_count": 71,
     "metadata": {},
     "output_type": "execute_result"
    }
   ],
   "source": [
    "# dependent variable y (eg. the revenue)\n",
    "y = np.array([ 2,  6,  7,  7, 11, 10, 15, 15, 18])\n",
    "y # first movie: revenue of two million"
   ]
  },
  {
   "cell_type": "code",
   "execution_count": 72,
   "id": "a5a61b7a-9c70-4895-8602-27b8f45c3fae",
   "metadata": {},
   "outputs": [
    {
     "data": {
      "image/png": "[encoded data removed]",
      "text/plain": [
       "<Figure size 800x500 with 1 Axes>"
      ]
     },
     "metadata": {},
     "output_type": "display_data"
    }
   ],
   "source": [
    "# having a first look at the data with a scatterplot\n",
    "plt.figure(figsize = (8, 5))\n",
    "plt.scatter(x, y)\n",
    "plt.xlabel(\"X\", fontsize = 17)\n",
    "plt.ylabel(\"Y\", fontsize = 17)\n",
    "plt.show()"
   ]
  },
  {
   "cell_type": "code",
   "execution_count": 73,
   "id": "9296d0f8-a409-4e9d-80bb-e9c09c8f87e6",
   "metadata": {},
   "outputs": [
    {
     "data": {
      "text/plain": [
       "array([[1.        , 0.97328619],\n",
       "       [0.97328619, 1.        ]])"
      ]
     },
     "execution_count": 73,
     "metadata": {},
     "output_type": "execute_result"
    }
   ],
   "source": [
    "np.corrcoef(x,y) # correlation coefficient"
   ]
  },
  {
   "cell_type": "code",
   "execution_count": 74,
   "id": "dc17baa2-0f03-4652-a9a5-47a5245f1462",
   "metadata": {},
   "outputs": [
    {
     "name": "stdout",
     "output_type": "stream",
     "text": [
      "0.9732861925076797\n"
     ]
    }
   ],
   "source": [
    "print(np.corrcoef(x,y)[0,1])"
   ]
  },
  {
   "cell_type": "code",
   "execution_count": 75,
   "id": "bde1a478-d28d-4195-a7a0-e7ae5078a3b7",
   "metadata": {},
   "outputs": [
    {
     "data": {
      "text/plain": [
       "array([1.83333333, 0.94444444])"
      ]
     },
     "execution_count": 75,
     "metadata": {},
     "output_type": "execute_result"
    }
   ],
   "source": [
    "np.polyfit(x = x, y = y, deg = 1) # linear regression between x and y"
   ]
  },
  {
   "cell_type": "code",
   "execution_count": 76,
   "id": "e221057b-ba19-4baa-90b4-c6a6fac5bcd3",
   "metadata": {},
   "outputs": [
    {
     "data": {
      "text/plain": [
       "array([[1., 1.],\n",
       "       [1., 2.],\n",
       "       [1., 3.],\n",
       "       [1., 4.],\n",
       "       [1., 5.],\n",
       "       [1., 6.],\n",
       "       [1., 7.],\n",
       "       [1., 8.],\n",
       "       [1., 9.]])"
      ]
     },
     "execution_count": 76,
     "metadata": {},
     "output_type": "execute_result"
    }
   ],
   "source": [
    "x = sm.add_constant(x) # linear regression with statsmodels\n",
    "# we've to add x as a parameter to get the intercept in addition to the slope coefficient\n",
    "x # [intercept, slope-coefficient]"
   ]
  },
  {
   "cell_type": "code",
   "execution_count": 77,
   "id": "c1305793-becf-4382-93d2-b8c74f450053",
   "metadata": {},
   "outputs": [],
   "source": [
    "model = sm.OLS(y,x) # creating the regression model"
   ]
  },
  {
   "cell_type": "code",
   "execution_count": 78,
   "id": "5b7ed159-33b9-4cc8-a9b3-1c08becccda2",
   "metadata": {},
   "outputs": [
    {
     "data": {
      "text/plain": [
       "<statsmodels.regression.linear_model.OLS at 0x14c1f96d0>"
      ]
     },
     "execution_count": 78,
     "metadata": {},
     "output_type": "execute_result"
    }
   ],
   "source": [
    "model # linear model object"
   ]
  },
  {
   "cell_type": "code",
   "execution_count": 79,
   "id": "37da4b04-4eeb-4b8b-ac26-e7d899c708eb",
   "metadata": {},
   "outputs": [],
   "source": [
    "results = model.fit() # creating the linear regression line with fit()"
   ]
  },
  {
   "cell_type": "code",
   "execution_count": 80,
   "id": "911c3f50-b3b9-4671-ba4a-b381e95bf592",
   "metadata": {},
   "outputs": [
    {
     "data": {
      "text/plain": [
       "<statsmodels.regression.linear_model.RegressionResultsWrapper at 0x14c1bbe60>"
      ]
     },
     "execution_count": 80,
     "metadata": {},
     "output_type": "execute_result"
    }
   ],
   "source": [
    "results # linear regression results object"
   ]
  },
  {
   "cell_type": "code",
   "execution_count": 81,
   "id": "376ba536-737d-484c-ae0b-522d8dc97534",
   "metadata": {},
   "outputs": [
    {
     "data": {
      "text/plain": [
       "array([0.94444444, 1.83333333])"
      ]
     },
     "execution_count": 81,
     "metadata": {},
     "output_type": "execute_result"
    }
   ],
   "source": [
    "results.params # getting the regression params/=coefficient\n",
    "# [intercept, slope-coefficient]"
   ]
  },
  {
   "cell_type": "code",
   "execution_count": 82,
   "id": "ac5db86b-de03-4b52-ae30-27d111ea171d",
   "metadata": {},
   "outputs": [
    {
     "data": {
      "text/plain": [
       "array([ 2.77777778,  4.61111111,  6.44444444,  8.27777778, 10.11111111,\n",
       "       11.94444444, 13.77777778, 15.61111111, 17.44444444])"
      ]
     },
     "execution_count": 82,
     "metadata": {},
     "output_type": "execute_result"
    }
   ],
   "source": [
    "# calculating the regression line\n",
    "pred = results.predict(x) # calculating the corresponding y-values by passing the x-values\n",
    "pred # predicted y-values"
   ]
  },
  {
   "cell_type": "code",
   "execution_count": 83,
   "id": "7e64f539-ad64-4e64-937c-953ceba28fe2",
   "metadata": {},
   "outputs": [
    {
     "data": {
      "image/png": "[encoded data removed]",
      "text/plain": [
       "<Figure size 800x500 with 1 Axes>"
      ]
     },
     "metadata": {},
     "output_type": "display_data"
    }
   ],
   "source": [
    "plt.figure(figsize = (8, 5))\n",
    "# scatterplot: passing the second column of numpy-array as x \n",
    "plt.scatter(x = x[:,1], y = y, alpha = 0.5, label = \"Data\")\n",
    "# plotting the regression line, x as above, y = pred (calculated obove)\n",
    "plt.plot(x[:,1], pred, c = \"r\", alpha = 0.5, label = \"Regression Line\")\n",
    "# creating the dotted lines (residuals) to the data points\n",
    "for i in range(len(y)):\n",
    "    plt.vlines(x[i,1], ymin = min(pred[i], y[i]), ymax = max(pred[i], y[i]), linestyles = \"dashed\")\n",
    "plt.xlabel(\"X\", fontsize = 15)\n",
    "plt.ylabel(\"Y\", fontsize = 15)\n",
    "plt.title(\"OLS Regression\", fontsize = 17)\n",
    "plt.legend(fontsize = 15)\n",
    "plt.show()"
   ]
  },
  {
   "cell_type": "code",
   "execution_count": 84,
   "id": "2919b8c0-fc11-4e7d-989b-ee1c9846183a",
   "metadata": {},
   "outputs": [
    {
     "data": {
      "text/plain": [
       "array([ 2,  6,  7,  7, 11, 10, 15, 15, 18])"
      ]
     },
     "execution_count": 84,
     "metadata": {},
     "output_type": "execute_result"
    }
   ],
   "source": [
    "y # actual data/revenue"
   ]
  },
  {
   "cell_type": "code",
   "execution_count": 85,
   "id": "72b7ad0a-aad4-44be-b1c0-feda01a0dc3c",
   "metadata": {},
   "outputs": [
    {
     "data": {
      "text/plain": [
       "array([ 2.77777778,  4.61111111,  6.44444444,  8.27777778, 10.11111111,\n",
       "       11.94444444, 13.77777778, 15.61111111, 17.44444444])"
      ]
     },
     "execution_count": 85,
     "metadata": {},
     "output_type": "execute_result"
    }
   ],
   "source": [
    "pred # predicted data/revenue"
   ]
  },
  {
   "cell_type": "code",
   "execution_count": 86,
   "id": "eadf2fd3-b072-47fc-b028-7e24b213ff47",
   "metadata": {},
   "outputs": [
    {
     "data": {
      "text/plain": [
       "array([-0.77777778,  1.38888889,  0.55555556, -1.27777778,  0.88888889,\n",
       "       -1.94444444,  1.22222222, -0.61111111,  0.55555556])"
      ]
     },
     "execution_count": 86,
     "metadata": {},
     "output_type": "execute_result"
    }
   ],
   "source": [
    "# calculating the residuals/error terms\n",
    "errors = y - pred # actual data minus predicted data\n",
    "errors"
   ]
  },
  {
   "cell_type": "code",
   "execution_count": 87,
   "id": "47a9ddb3-e920-4d9c-bb51-d94c66ccad56",
   "metadata": {},
   "outputs": [
    {
     "data": {
      "text/plain": [
       "array([-0.77777778,  1.38888889,  0.55555556, -1.27777778,  0.88888889,\n",
       "       -1.94444444,  1.22222222, -0.61111111,  0.55555556])"
      ]
     },
     "execution_count": 87,
     "metadata": {},
     "output_type": "execute_result"
    }
   ],
   "source": [
    "results.resid # residuals/error terms with statsmodels attribute"
   ]
  },
  {
   "cell_type": "code",
   "execution_count": 88,
   "id": "1a2b49d3-1cca-4451-807d-bc02c8c77f43",
   "metadata": {},
   "outputs": [
    {
     "data": {
      "text/plain": [
       "array([0.60493827, 1.92901235, 0.30864198, 1.63271605, 0.79012346,\n",
       "       3.7808642 , 1.49382716, 0.37345679, 0.30864198])"
      ]
     },
     "execution_count": 88,
     "metadata": {},
     "output_type": "execute_result"
    }
   ],
   "source": [
    "sq_err = errors**2 # squared are more meaningful\n",
    "sq_err"
   ]
  },
  {
   "cell_type": "code",
   "execution_count": 89,
   "id": "875697f6-1356-4cea-ae9d-cfda06505b04",
   "metadata": {},
   "outputs": [
    {
     "data": {
      "text/plain": [
       "np.float64(11.222222222222221)"
      ]
     },
     "execution_count": 89,
     "metadata": {},
     "output_type": "execute_result"
    }
   ],
   "source": [
    "sse = np.sum(sq_err) # sum over all squared errors\n",
    "sse"
   ]
  },
  {
   "cell_type": "code",
   "execution_count": 90,
   "id": "ab2fe657-d74e-4417-8369-3036984122be",
   "metadata": {},
   "outputs": [
    {
     "data": {
      "text/plain": [
       "np.float64(11.222222222222221)"
      ]
     },
     "execution_count": 90,
     "metadata": {},
     "output_type": "execute_result"
    }
   ],
   "source": [
    "results.ssr # sum over all squared errors with statsmodels"
   ]
  },
  {
   "cell_type": "code",
   "execution_count": 91,
   "id": "3d605c7d-7751-47e3-b101-34aca5ba62d6",
   "metadata": {},
   "outputs": [
    {
     "data": {
      "text/plain": [
       "np.float64(1.603174603174603)"
      ]
     },
     "execution_count": 91,
     "metadata": {},
     "output_type": "execute_result"
    }
   ],
   "source": [
    "mse = sse / (9-2) # mean over all squared errors\n",
    "# sum over all squared errors devided by number of observations minus number of independent variables minus one\n",
    "# so it's actually devided by 9 - 1 - 1\n",
    "mse"
   ]
  },
  {
   "cell_type": "code",
   "execution_count": 92,
   "id": "ee72d509-07db-486e-97e9-9d74df019705",
   "metadata": {},
   "outputs": [
    {
     "data": {
      "text/plain": [
       "np.float64(1.603174603174603)"
      ]
     },
     "execution_count": 92,
     "metadata": {},
     "output_type": "execute_result"
    }
   ],
   "source": [
    "results.mse_resid # mean squared error minus statsmodel"
   ]
  },
  {
   "cell_type": "code",
   "execution_count": null,
   "id": "0b08cf47-cdb8-499b-82c7-00fc0fe3c975",
   "metadata": {},
   "outputs": [],
   "source": []
  }
 ],
 "metadata": {
  "kernelspec": {
   "display_name": "Python 3 (ipykernel)",
   "language": "python",
   "name": "python3"
  },
  "language_info": {
   "codemirror_mode": {
    "name": "ipython",
    "version": 3
   },
   "file_extension": ".py",
   "mimetype": "text/x-python",
   "name": "python",
   "nbconvert_exporter": "python",
   "pygments_lexer": "ipython3",
   "version": "3.12.7"
  }
 },
 "nbformat": 4,
 "nbformat_minor": 5
}
