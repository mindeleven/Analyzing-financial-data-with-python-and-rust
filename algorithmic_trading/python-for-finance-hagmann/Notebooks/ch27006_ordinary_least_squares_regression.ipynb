{
 "cells": [
  {
   "cell_type": "code",
   "execution_count": null,
   "id": "d3d5e63f-625f-4267-97c6-ac5d65dfb7e0",
   "metadata": {},
   "outputs": [],
   "source": []
  }
 ],
 "metadata": {
  "kernelspec": {
   "display_name": "",
   "name": ""
  },
  "language_info": {
   "name": ""
  }
 },
 "nbformat": 4,
 "nbformat_minor": 5
}
