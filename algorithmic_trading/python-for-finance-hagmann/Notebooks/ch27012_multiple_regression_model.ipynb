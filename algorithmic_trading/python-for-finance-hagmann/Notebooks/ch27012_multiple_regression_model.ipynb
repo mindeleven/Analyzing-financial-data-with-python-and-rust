{
 "cells": [
  {
   "cell_type": "markdown",
   "id": "5ad83f74-b6b3-4dc3-b8ec-e30362eb4c63",
   "metadata": {},
   "source": [
    "## Multiple Regression Model"
   ]
  },
  {
   "cell_type": "markdown",
   "id": "8758541a-cc1e-4cb1-99b1-0683d85a5622",
   "metadata": {},
   "source": [
    "*(Coding along with the Udemy Couse [Python for Business and Finance](https://www.udemy.com/course/complete-python-for-business-and-finance-bootcamp/) by Alexander Hagmann, lecture 362-369, __[Multiple Regression Analysis](https://www.udemy.com/course/complete-python-for-business-and-finance-bootcamp/learn/lecture/17550812#overview)__.)*"
   ]
  },
  {
   "cell_type": "markdown",
   "id": "9235aded-4c33-44a6-af64-d3a619ddcd4d",
   "metadata": {},
   "source": [
    "### Regression Analysis - Multiple Regression Model"
   ]
  },
  {
   "cell_type": "markdown",
   "id": "0d135b65-674c-4314-8675-44459a271c77",
   "metadata": {},
   "source": [
    "The purpose of Multiple Linear Regression is to explain (the variation in) a dependent variable by (the variation in) two or many independent variables.\n",
    "\n",
    "In the example of the movie dataset:\n",
    "\n",
    "- the dependent variable is Movie Revenue (Y)\n",
    "- independent variables are Movie Budget, Runtime, Popularity, average Rating, etc... (X1, X2, X3)\n",
    "\n",
    "__Setting up a multiple linear model:__\n",
    "\n",
    "<img src=\"../assets/images/multiple_linear_model.png\" width=\"50%\" />\n",
    "\n",
    "- we have the intercept a \n",
    "- we have for several independent variables from X<sub>1</sub> to X<sub>k</sub> (for instance, we could have the budget, then the runtime, and finally the rating)\n",
    "- each and every independent variable has its own slope coefficient b<sub>1</sub> to b<sub>k</sub>\n",
    "- and finally we have here an error term"
   ]
  },
  {
   "cell_type": "markdown",
   "id": "f4fa3d99-400a-4d3f-84ad-93f86d6a6f7d",
   "metadata": {},
   "source": [
    "#### Multiple Regression - Properties:\n",
    "\n",
    "- A multiple regression model is hard to visualize because we are in a higher dimensional space\n",
    "  \n",
    "- Our regression model is an OLS Regression where we minimize the error terms (minimize MSE or SSE)\n",
    "\n",
    "- *The **intercept (a)** is the value of the dependent variable when all the independent variables are equal to zero*\n",
    "  \n",
    "- The interpretation of the slope coefficients: **each Slope Coefficient (b)**\n",
    "  - is the estimated change in the dependent variable for a one-unit change in that independent variable\n",
    "  - assumes that we're holding the other independent variables constant. Therefore the slope coefficients in a multiple regression model are also called partial slope coefficients.\n",
    "<br/><br/>\n",
    "\n",
    "- We have two or more independent variables, and for each and every variable we have a slope coefficient. Therefore we have to conduct a t-test on each and every slope coefficient to determine the significance of each independent variable."
   ]
  },
  {
   "cell_type": "markdown",
   "id": "1f65e319-fb97-4985-8d1d-c91fe28f564b",
   "metadata": {},
   "source": [
    "#### Some more implications:\n",
    "\n",
    "- A multiple linear regression model captures correlations between independent variables: typically the independent variables are not completely uncorrelated. There might be a positive or negative correlation between some independent variables.\n",
    "\n",
    "- If we add an additional independent variable to our model,\n",
    "  - the usually the slope coefficients of other independent variables of our model change (they don't have to!)\n",
    "  - the p-values of other independent variables (can) change\n",
    "  - the significance of other independent variables (can) change\n",
    "\n",
    "Let's take our example of a simple linear regression model with the dependent variable revenue and the independent variable budget. In this example budget is significant. If we add now an additional independent variable, for instance the average rating, this could lead to an increase of the p-value for the budget and therefore we could conclude that when adding an additional independent variable the budget is no longer significant and should be removed.\n",
    "\n",
    "- Omitting important independent variable(s) can distort the model which means that we need to identify and select the right set of independent variables\n",
    "\n",
    "- The downside of this is, if we had too many independent variables that are highly correlated, this can lead to ***multicollinearity*** and requires a model re-specification."
   ]
  },
  {
   "cell_type": "markdown",
   "id": "3630ca40-efd5-4caa-b6fa-25a3abe139a5",
   "metadata": {},
   "source": []
  },
  {
   "cell_type": "markdown",
   "id": "b9a7ebc7-2192-4150-b99e-22d4bfc6960a",
   "metadata": {},
   "source": []
  },
  {
   "cell_type": "markdown",
   "id": "99dd449e-3b6b-4e20-9431-6282de2400bb",
   "metadata": {},
   "source": []
  }
 ],
 "metadata": {
  "kernelspec": {
   "display_name": "Python 3 (ipykernel)",
   "language": "python",
   "name": "python3"
  },
  "language_info": {
   "codemirror_mode": {
    "name": "ipython",
    "version": 3
   },
   "file_extension": ".py",
   "mimetype": "text/x-python",
   "name": "python",
   "nbconvert_exporter": "python",
   "pygments_lexer": "ipython3",
   "version": "3.12.7"
  }
 },
 "nbformat": 4,
 "nbformat_minor": 5
}
