{
 "cells": [
  {
   "cell_type": "markdown",
   "id": "9a986453-2470-4ca5-a971-65442634181f",
   "metadata": {},
   "source": [
    "## Coefficient of Determination - 𝑅<sup>2</sup> & Adjusted 𝑅<sup>2</sup>"
   ]
  },
  {
   "cell_type": "code",
   "execution_count": 36,
   "id": "ec77eb30-4971-4066-8c0d-b68ebd4479b4",
   "metadata": {},
   "outputs": [],
   "source": [
    "import pandas as pd\n",
    "import matplotlib.pyplot as plt\n",
    "import seaborn as sns"
   ]
  },
  {
   "cell_type": "code",
   "execution_count": 37,
   "id": "b044b120-105f-452a-b1fc-6e36c614ce96",
   "metadata": {},
   "outputs": [],
   "source": [
    "movie = pd.read_csv(\"../assets/data/movies_metadata.csv\", low_memory= False)"
   ]
  },
  {
   "cell_type": "code",
   "execution_count": 38,
   "id": "0884fc2c-81ed-4691-8a0b-3fc5cacce25b",
   "metadata": {},
   "outputs": [],
   "source": [
    "# converting the data type in the column release_date to datetime\n",
    "# then creating a datetime index with set_index\n",
    "movie = movie.set_index(pd.to_datetime(movie.release_date, errors = \"coerce\")).drop(columns = [\"release_date\"])"
   ]
  },
  {
   "cell_type": "code",
   "execution_count": 39,
   "id": "b2a21085-9dd7-4d47-930c-82653738d290",
   "metadata": {},
   "outputs": [],
   "source": [
    "# sorting the datetime index from past to present\n",
    "movie.sort_index(inplace = True)"
   ]
  },
  {
   "cell_type": "code",
   "execution_count": 40,
   "id": "827a26dc-4cdc-4dc0-9012-802c6bff995d",
   "metadata": {},
   "outputs": [],
   "source": [
    "# remove rows with NaT in the index\n",
    "# otherwise the following step will cause an error\n",
    "movie = movie[~movie.index.isna()]"
   ]
  },
  {
   "cell_type": "code",
   "execution_count": 41,
   "id": "7753c583-da17-4c33-b710-77bfa232ecf7",
   "metadata": {},
   "outputs": [],
   "source": [
    "# selecting the period from 2010 to 2016\n",
    "# selecting independent variables:  \"budget\", \"runtime\", \"vote_average\", \"popularity\"\n",
    "# vote_average is a rating between 0 and 10 on the movies database\n",
    "# popularity is the number of times a movie gets searched for or has been added to the wishlist on the movies database\n",
    "df = movie.loc[\"2010\":\"2016\", [\"title\", \"budget\", \"revenue\", \"runtime\", \"vote_average\", \"popularity\"]].copy()"
   ]
  },
  {
   "cell_type": "code",
   "execution_count": 42,
   "id": "d17c16d3-7da1-4398-a0e5-01a6ca24b561",
   "metadata": {},
   "outputs": [
    {
     "name": "stdout",
     "output_type": "stream",
     "text": [
      "<class 'pandas.core.frame.DataFrame'>\n",
      "DatetimeIndex: 12262 entries, 2010-01-01 to 2016-12-30\n",
      "Data columns (total 6 columns):\n",
      " #   Column        Non-Null Count  Dtype  \n",
      "---  ------        --------------  -----  \n",
      " 0   title         12262 non-null  object \n",
      " 1   budget        12262 non-null  object \n",
      " 2   revenue       12262 non-null  float64\n",
      " 3   runtime       12178 non-null  float64\n",
      " 4   vote_average  12262 non-null  float64\n",
      " 5   popularity    12262 non-null  object \n",
      "dtypes: float64(3), object(3)\n",
      "memory usage: 670.6+ KB\n"
     ]
    }
   ],
   "source": [
    "df.info()"
   ]
  },
  {
   "cell_type": "code",
   "execution_count": 43,
   "id": "1c6cb45c-6b07-44b9-8bc2-e89b0c8999c1",
   "metadata": {},
   "outputs": [],
   "source": [
    "# transforming the data type in the budget column\n",
    "df.budget = pd.to_numeric(df.budget, errors = \"coerce\")"
   ]
  },
  {
   "cell_type": "code",
   "execution_count": 44,
   "id": "89ecc59d-99a5-4bdf-bd1b-2eaa3016db84",
   "metadata": {},
   "outputs": [],
   "source": [
    "# transforming the data type in the popularity column\n",
    "df.popularity = pd.to_numeric(df.popularity, errors = \"coerce\")"
   ]
  },
  {
   "cell_type": "code",
   "execution_count": 45,
   "id": "4b5670e8-72c2-415e-b008-007f8e06a3ae",
   "metadata": {},
   "outputs": [],
   "source": [
    "# we only want movies with a revenue > 0 and a budget > 0\n",
    "df = df[(df.revenue > 0) & (df.budget > 0)]"
   ]
  },
  {
   "cell_type": "code",
   "execution_count": 46,
   "id": "02b52a9e-6a3c-44b7-9e5a-de129d9077ad",
   "metadata": {},
   "outputs": [],
   "source": [
    "df.set_index(\"title\", inplace = True) # dropping the release date and setting the title as the new index"
   ]
  },
  {
   "cell_type": "code",
   "execution_count": 47,
   "id": "231f55d2-91a5-46a1-866d-9984d8106060",
   "metadata": {},
   "outputs": [
    {
     "name": "stderr",
     "output_type": "stream",
     "text": [
      "/var/folders/7c/6tn50bjd30l3zb0p8_7mr94m0000gn/T/ipykernel_60144/647068271.py:2: FutureWarning: Setting an item of incompatible dtype is deprecated and will raise in a future error of pandas. Value '[  7.   19.   40.  ...  10.4 108.    7. ]' has dtype incompatible with int64, please explicitly cast to a compatible dtype first.\n",
      "  df.loc[:, [\"budget\", \"revenue\"]] = df.loc[:, [\"budget\", \"revenue\"]] / 1000000\n"
     ]
    }
   ],
   "source": [
    "# converting to million us$\n",
    "df.loc[:, [\"budget\", \"revenue\"]] = df.loc[:, [\"budget\", \"revenue\"]] / 1000000"
   ]
  },
  {
   "cell_type": "code",
   "execution_count": 48,
   "id": "af3e242a-d8d7-4782-8774-e9c098be6182",
   "metadata": {},
   "outputs": [
    {
     "data": {
      "text/html": [
       "<div>\n",
       "<style scoped>\n",
       "    .dataframe tbody tr th:only-of-type {\n",
       "        vertical-align: middle;\n",
       "    }\n",
       "\n",
       "    .dataframe tbody tr th {\n",
       "        vertical-align: top;\n",
       "    }\n",
       "\n",
       "    .dataframe thead th {\n",
       "        text-align: right;\n",
       "    }\n",
       "</style>\n",
       "<table border=\"1\" class=\"dataframe\">\n",
       "  <thead>\n",
       "    <tr style=\"text-align: right;\">\n",
       "      <th></th>\n",
       "      <th>budget</th>\n",
       "      <th>revenue</th>\n",
       "      <th>runtime</th>\n",
       "      <th>vote_average</th>\n",
       "      <th>popularity</th>\n",
       "    </tr>\n",
       "  </thead>\n",
       "  <tbody>\n",
       "    <tr>\n",
       "      <th>count</th>\n",
       "      <td>1569.000000</td>\n",
       "      <td>1569.000000</td>\n",
       "      <td>1569.000000</td>\n",
       "      <td>1569.000000</td>\n",
       "      <td>1569.000000</td>\n",
       "    </tr>\n",
       "    <tr>\n",
       "      <th>mean</th>\n",
       "      <td>37.890643</td>\n",
       "      <td>115.641690</td>\n",
       "      <td>110.029955</td>\n",
       "      <td>6.246399</td>\n",
       "      <td>11.069328</td>\n",
       "    </tr>\n",
       "    <tr>\n",
       "      <th>std</th>\n",
       "      <td>50.097848</td>\n",
       "      <td>208.966838</td>\n",
       "      <td>21.703204</td>\n",
       "      <td>0.857069</td>\n",
       "      <td>18.488345</td>\n",
       "    </tr>\n",
       "    <tr>\n",
       "      <th>min</th>\n",
       "      <td>0.000001</td>\n",
       "      <td>0.000001</td>\n",
       "      <td>0.000000</td>\n",
       "      <td>0.000000</td>\n",
       "      <td>0.016219</td>\n",
       "    </tr>\n",
       "    <tr>\n",
       "      <th>25%</th>\n",
       "      <td>6.200000</td>\n",
       "      <td>5.728213</td>\n",
       "      <td>96.000000</td>\n",
       "      <td>5.700000</td>\n",
       "      <td>6.091224</td>\n",
       "    </tr>\n",
       "    <tr>\n",
       "      <th>50%</th>\n",
       "      <td>18.700000</td>\n",
       "      <td>35.692920</td>\n",
       "      <td>107.000000</td>\n",
       "      <td>6.300000</td>\n",
       "      <td>8.896679</td>\n",
       "    </tr>\n",
       "    <tr>\n",
       "      <th>75%</th>\n",
       "      <td>45.000000</td>\n",
       "      <td>122.513057</td>\n",
       "      <td>120.000000</td>\n",
       "      <td>6.800000</td>\n",
       "      <td>12.572718</td>\n",
       "    </tr>\n",
       "    <tr>\n",
       "      <th>max</th>\n",
       "      <td>380.000000</td>\n",
       "      <td>2068.223624</td>\n",
       "      <td>338.000000</td>\n",
       "      <td>9.000000</td>\n",
       "      <td>547.488298</td>\n",
       "    </tr>\n",
       "  </tbody>\n",
       "</table>\n",
       "</div>"
      ],
      "text/plain": [
       "            budget      revenue      runtime  vote_average   popularity\n",
       "count  1569.000000  1569.000000  1569.000000   1569.000000  1569.000000\n",
       "mean     37.890643   115.641690   110.029955      6.246399    11.069328\n",
       "std      50.097848   208.966838    21.703204      0.857069    18.488345\n",
       "min       0.000001     0.000001     0.000000      0.000000     0.016219\n",
       "25%       6.200000     5.728213    96.000000      5.700000     6.091224\n",
       "50%      18.700000    35.692920   107.000000      6.300000     8.896679\n",
       "75%      45.000000   122.513057   120.000000      6.800000    12.572718\n",
       "max     380.000000  2068.223624   338.000000      9.000000   547.488298"
      ]
     },
     "execution_count": 48,
     "metadata": {},
     "output_type": "execute_result"
    }
   ],
   "source": [
    "df.describe()"
   ]
  },
  {
   "cell_type": "markdown",
   "id": "c5856939-34b4-4c7f-a9f8-0ad4c620b9a0",
   "metadata": {},
   "source": [
    "### Multiple Regression Analysis (OLS) with statsmodels"
   ]
  },
  {
   "cell_type": "code",
   "execution_count": 49,
   "id": "42e9f70e-f6b8-4861-b827-5563c28aeac6",
   "metadata": {},
   "outputs": [],
   "source": [
    "from statsmodels.formula.api import ols"
   ]
  },
  {
   "cell_type": "code",
   "execution_count": 50,
   "id": "21bd6c6f-37eb-40d2-b609-064442316821",
   "metadata": {},
   "outputs": [
    {
     "data": {
      "text/html": [
       "<div>\n",
       "<style scoped>\n",
       "    .dataframe tbody tr th:only-of-type {\n",
       "        vertical-align: middle;\n",
       "    }\n",
       "\n",
       "    .dataframe tbody tr th {\n",
       "        vertical-align: top;\n",
       "    }\n",
       "\n",
       "    .dataframe thead th {\n",
       "        text-align: right;\n",
       "    }\n",
       "</style>\n",
       "<table border=\"1\" class=\"dataframe\">\n",
       "  <thead>\n",
       "    <tr style=\"text-align: right;\">\n",
       "      <th></th>\n",
       "      <th>budget</th>\n",
       "      <th>revenue</th>\n",
       "      <th>runtime</th>\n",
       "      <th>vote_average</th>\n",
       "      <th>popularity</th>\n",
       "    </tr>\n",
       "    <tr>\n",
       "      <th>title</th>\n",
       "      <th></th>\n",
       "      <th></th>\n",
       "      <th></th>\n",
       "      <th></th>\n",
       "      <th></th>\n",
       "    </tr>\n",
       "  </thead>\n",
       "  <tbody>\n",
       "    <tr>\n",
       "      <th>Ca$h</th>\n",
       "      <td>7.0</td>\n",
       "      <td>0.046488</td>\n",
       "      <td>108.0</td>\n",
       "      <td>6.0</td>\n",
       "      <td>9.107829</td>\n",
       "    </tr>\n",
       "    <tr>\n",
       "      <th>Leap Year</th>\n",
       "      <td>19.0</td>\n",
       "      <td>29.922472</td>\n",
       "      <td>100.0</td>\n",
       "      <td>6.5</td>\n",
       "      <td>7.432311</td>\n",
       "    </tr>\n",
       "    <tr>\n",
       "      <th>Morning Glory</th>\n",
       "      <td>40.0</td>\n",
       "      <td>58.785180</td>\n",
       "      <td>102.0</td>\n",
       "      <td>6.1</td>\n",
       "      <td>10.771255</td>\n",
       "    </tr>\n",
       "    <tr>\n",
       "      <th>Devil</th>\n",
       "      <td>10.0</td>\n",
       "      <td>33.583175</td>\n",
       "      <td>80.0</td>\n",
       "      <td>5.8</td>\n",
       "      <td>7.094276</td>\n",
       "    </tr>\n",
       "    <tr>\n",
       "      <th>Tooth Fairy</th>\n",
       "      <td>48.0</td>\n",
       "      <td>112.462508</td>\n",
       "      <td>101.0</td>\n",
       "      <td>5.2</td>\n",
       "      <td>6.744680</td>\n",
       "    </tr>\n",
       "    <tr>\n",
       "      <th>...</th>\n",
       "      <td>...</td>\n",
       "      <td>...</td>\n",
       "      <td>...</td>\n",
       "      <td>...</td>\n",
       "      <td>...</td>\n",
       "    </tr>\n",
       "    <tr>\n",
       "      <th>Resident Evil: The Final Chapter</th>\n",
       "      <td>40.0</td>\n",
       "      <td>312.242626</td>\n",
       "      <td>107.0</td>\n",
       "      <td>5.9</td>\n",
       "      <td>0.755710</td>\n",
       "    </tr>\n",
       "    <tr>\n",
       "      <th>Railroad Tigers</th>\n",
       "      <td>50.0</td>\n",
       "      <td>102.205175</td>\n",
       "      <td>124.0</td>\n",
       "      <td>6.2</td>\n",
       "      <td>3.798504</td>\n",
       "    </tr>\n",
       "    <tr>\n",
       "      <th>Dangal</th>\n",
       "      <td>10.4</td>\n",
       "      <td>310.000000</td>\n",
       "      <td>161.0</td>\n",
       "      <td>8.0</td>\n",
       "      <td>8.792104</td>\n",
       "    </tr>\n",
       "    <tr>\n",
       "      <th>Live by Night</th>\n",
       "      <td>108.0</td>\n",
       "      <td>22.678555</td>\n",
       "      <td>129.0</td>\n",
       "      <td>6.2</td>\n",
       "      <td>19.943930</td>\n",
       "    </tr>\n",
       "    <tr>\n",
       "      <th>20th Century Women</th>\n",
       "      <td>7.0</td>\n",
       "      <td>5.816211</td>\n",
       "      <td>119.0</td>\n",
       "      <td>7.3</td>\n",
       "      <td>9.855927</td>\n",
       "    </tr>\n",
       "  </tbody>\n",
       "</table>\n",
       "<p>1569 rows × 5 columns</p>\n",
       "</div>"
      ],
      "text/plain": [
       "                                  budget     revenue  runtime  vote_average  \\\n",
       "title                                                                         \n",
       "Ca$h                                 7.0    0.046488    108.0           6.0   \n",
       "Leap Year                           19.0   29.922472    100.0           6.5   \n",
       "Morning Glory                       40.0   58.785180    102.0           6.1   \n",
       "Devil                               10.0   33.583175     80.0           5.8   \n",
       "Tooth Fairy                         48.0  112.462508    101.0           5.2   \n",
       "...                                  ...         ...      ...           ...   \n",
       "Resident Evil: The Final Chapter    40.0  312.242626    107.0           5.9   \n",
       "Railroad Tigers                     50.0  102.205175    124.0           6.2   \n",
       "Dangal                              10.4  310.000000    161.0           8.0   \n",
       "Live by Night                      108.0   22.678555    129.0           6.2   \n",
       "20th Century Women                   7.0    5.816211    119.0           7.3   \n",
       "\n",
       "                                  popularity  \n",
       "title                                         \n",
       "Ca$h                                9.107829  \n",
       "Leap Year                           7.432311  \n",
       "Morning Glory                      10.771255  \n",
       "Devil                               7.094276  \n",
       "Tooth Fairy                         6.744680  \n",
       "...                                      ...  \n",
       "Resident Evil: The Final Chapter    0.755710  \n",
       "Railroad Tigers                     3.798504  \n",
       "Dangal                              8.792104  \n",
       "Live by Night                      19.943930  \n",
       "20th Century Women                  9.855927  \n",
       "\n",
       "[1569 rows x 5 columns]"
      ]
     },
     "execution_count": 50,
     "metadata": {},
     "output_type": "execute_result"
    }
   ],
   "source": [
    "df"
   ]
  },
  {
   "cell_type": "code",
   "execution_count": 51,
   "id": "daa4d89a-fa2d-4f3f-8ac1-d21825bf966a",
   "metadata": {},
   "outputs": [
    {
     "name": "stdout",
     "output_type": "stream",
     "text": [
      "<class 'pandas.core.frame.DataFrame'>\n",
      "DatetimeIndex: 45376 entries, 1874-12-09 to 2020-12-16\n",
      "Data columns (total 23 columns):\n",
      " #   Column                 Non-Null Count  Dtype  \n",
      "---  ------                 --------------  -----  \n",
      " 0   adult                  45376 non-null  object \n",
      " 1   belongs_to_collection  4488 non-null   object \n",
      " 2   budget                 45376 non-null  object \n",
      " 3   genres                 45376 non-null  object \n",
      " 4   homepage               7766 non-null   object \n",
      " 5   id                     45376 non-null  object \n",
      " 6   imdb_id                45362 non-null  object \n",
      " 7   original_language      45365 non-null  object \n",
      " 8   original_title         45376 non-null  object \n",
      " 9   overview               44435 non-null  object \n",
      " 10  popularity             45376 non-null  object \n",
      " 11  poster_path            45037 non-null  object \n",
      " 12  production_companies   45376 non-null  object \n",
      " 13  production_countries   45376 non-null  object \n",
      " 14  revenue                45376 non-null  float64\n",
      " 15  runtime                45130 non-null  float64\n",
      " 16  spoken_languages       45376 non-null  object \n",
      " 17  status                 45296 non-null  object \n",
      " 18  tagline                20398 non-null  object \n",
      " 19  title                  45376 non-null  object \n",
      " 20  video                  45376 non-null  object \n",
      " 21  vote_average           45376 non-null  float64\n",
      " 22  vote_count             45376 non-null  float64\n",
      "dtypes: float64(4), object(19)\n",
      "memory usage: 9.3+ MB\n"
     ]
    }
   ],
   "source": [
    "movie.info()"
   ]
  },
  {
   "cell_type": "code",
   "execution_count": 52,
   "id": "08eb1370-124d-480c-817d-ac0b0ac313ae",
   "metadata": {},
   "outputs": [],
   "source": [
    "# for the ols function of statsmodels we have to define a formula as this string\n",
    "# first we have the revenue column where we have the dependent variable \n",
    "# we have budget as the first independent variable and then we add some more independent variables with the plus sign\n",
    "# we take all the data from the dataframe df\n",
    "model = ols(\"revenue ~ budget + runtime + vote_average + popularity\", data = df) # creating a multiple linear regression model"
   ]
  },
  {
   "cell_type": "code",
   "execution_count": 53,
   "id": "893fc1e5-9c4a-407f-9977-ba59d5fecc3c",
   "metadata": {},
   "outputs": [
    {
     "data": {
      "text/plain": [
       "<statsmodels.regression.linear_model.OLS at 0x10687b380>"
      ]
     },
     "execution_count": 53,
     "metadata": {},
     "output_type": "execute_result"
    }
   ],
   "source": [
    "model"
   ]
  },
  {
   "cell_type": "code",
   "execution_count": 54,
   "id": "3ec8cadf-92be-48de-b8f2-5568dfc90451",
   "metadata": {},
   "outputs": [],
   "source": [
    "results = model.fit() # fitting the model"
   ]
  },
  {
   "cell_type": "code",
   "execution_count": 55,
   "id": "43a0faff-0966-4016-8c17-cb54ab14b2d9",
   "metadata": {},
   "outputs": [
    {
     "data": {
      "text/plain": [
       "Intercept      -202.885651\n",
       "budget            3.083032\n",
       "runtime          -0.117440\n",
       "vote_average     30.711734\n",
       "popularity        2.059151\n",
       "dtype: float64"
      ]
     },
     "execution_count": 55,
     "metadata": {},
     "output_type": "execute_result"
    }
   ],
   "source": [
    "results.params # getting the regression coefficients\n",
    "# we get the intercept and the slopes for the independent variables"
   ]
  },
  {
   "cell_type": "markdown",
   "id": "93c90260-ff11-430d-958e-23c543cdb5b3",
   "metadata": {},
   "source": [
    "#### Visualizing and comparing the actual values for the dependent variable and the forecasted values"
   ]
  },
  {
   "cell_type": "code",
   "execution_count": 56,
   "id": "f4f4f1c7-cbe7-4cb7-90b3-4f3977828c4d",
   "metadata": {},
   "outputs": [
    {
     "data": {
      "text/plain": [
       "array([  9.03687126,  58.87850165, 117.97799931, ...,  74.06821345,\n",
       "       346.41242563,  49.2107336 ])"
      ]
     },
     "execution_count": 56,
     "metadata": {},
     "output_type": "execute_result"
    }
   ],
   "source": [
    "#  creating the values forecasted by the regression model with the predict method\n",
    "results.predict()"
   ]
  },
  {
   "cell_type": "code",
   "execution_count": 57,
   "id": "43c577e4-b717-4f6e-976b-9fe6c3bdc2a7",
   "metadata": {},
   "outputs": [],
   "source": [
    "# inserting the new column predict before the index position\n",
    "df.insert(loc = 2, column = \"predict\", value = results.predict())"
   ]
  },
  {
   "cell_type": "code",
   "execution_count": 58,
   "id": "d9e0caab-1d0d-4751-b4a5-0f8250bbd31a",
   "metadata": {},
   "outputs": [
    {
     "data": {
      "text/html": [
       "<div>\n",
       "<style scoped>\n",
       "    .dataframe tbody tr th:only-of-type {\n",
       "        vertical-align: middle;\n",
       "    }\n",
       "\n",
       "    .dataframe tbody tr th {\n",
       "        vertical-align: top;\n",
       "    }\n",
       "\n",
       "    .dataframe thead th {\n",
       "        text-align: right;\n",
       "    }\n",
       "</style>\n",
       "<table border=\"1\" class=\"dataframe\">\n",
       "  <thead>\n",
       "    <tr style=\"text-align: right;\">\n",
       "      <th></th>\n",
       "      <th>budget</th>\n",
       "      <th>revenue</th>\n",
       "      <th>predict</th>\n",
       "      <th>runtime</th>\n",
       "      <th>vote_average</th>\n",
       "      <th>popularity</th>\n",
       "    </tr>\n",
       "    <tr>\n",
       "      <th>title</th>\n",
       "      <th></th>\n",
       "      <th></th>\n",
       "      <th></th>\n",
       "      <th></th>\n",
       "      <th></th>\n",
       "      <th></th>\n",
       "    </tr>\n",
       "  </thead>\n",
       "  <tbody>\n",
       "    <tr>\n",
       "      <th>Ca$h</th>\n",
       "      <td>7.0</td>\n",
       "      <td>0.046488</td>\n",
       "      <td>9.036871</td>\n",
       "      <td>108.0</td>\n",
       "      <td>6.0</td>\n",
       "      <td>9.107829</td>\n",
       "    </tr>\n",
       "    <tr>\n",
       "      <th>Leap Year</th>\n",
       "      <td>19.0</td>\n",
       "      <td>29.922472</td>\n",
       "      <td>58.878502</td>\n",
       "      <td>100.0</td>\n",
       "      <td>6.5</td>\n",
       "      <td>7.432311</td>\n",
       "    </tr>\n",
       "    <tr>\n",
       "      <th>Morning Glory</th>\n",
       "      <td>40.0</td>\n",
       "      <td>58.785180</td>\n",
       "      <td>117.977999</td>\n",
       "      <td>102.0</td>\n",
       "      <td>6.1</td>\n",
       "      <td>10.771255</td>\n",
       "    </tr>\n",
       "    <tr>\n",
       "      <th>Devil</th>\n",
       "      <td>10.0</td>\n",
       "      <td>33.583175</td>\n",
       "      <td>11.285727</td>\n",
       "      <td>80.0</td>\n",
       "      <td>5.8</td>\n",
       "      <td>7.094276</td>\n",
       "    </tr>\n",
       "    <tr>\n",
       "      <th>Tooth Fairy</th>\n",
       "      <td>48.0</td>\n",
       "      <td>112.462508</td>\n",
       "      <td>106.827813</td>\n",
       "      <td>101.0</td>\n",
       "      <td>5.2</td>\n",
       "      <td>6.744680</td>\n",
       "    </tr>\n",
       "    <tr>\n",
       "      <th>...</th>\n",
       "      <td>...</td>\n",
       "      <td>...</td>\n",
       "      <td>...</td>\n",
       "      <td>...</td>\n",
       "      <td>...</td>\n",
       "      <td>...</td>\n",
       "    </tr>\n",
       "    <tr>\n",
       "      <th>Resident Evil: The Final Chapter</th>\n",
       "      <td>40.0</td>\n",
       "      <td>312.242626</td>\n",
       "      <td>90.624936</td>\n",
       "      <td>107.0</td>\n",
       "      <td>5.9</td>\n",
       "      <td>0.755710</td>\n",
       "    </tr>\n",
       "    <tr>\n",
       "      <th>Railroad Tigers</th>\n",
       "      <td>50.0</td>\n",
       "      <td>102.205175</td>\n",
       "      <td>134.937875</td>\n",
       "      <td>124.0</td>\n",
       "      <td>6.2</td>\n",
       "      <td>3.798504</td>\n",
       "    </tr>\n",
       "    <tr>\n",
       "      <th>Dangal</th>\n",
       "      <td>10.4</td>\n",
       "      <td>310.000000</td>\n",
       "      <td>74.068213</td>\n",
       "      <td>161.0</td>\n",
       "      <td>8.0</td>\n",
       "      <td>8.792104</td>\n",
       "    </tr>\n",
       "    <tr>\n",
       "      <th>Live by Night</th>\n",
       "      <td>108.0</td>\n",
       "      <td>22.678555</td>\n",
       "      <td>346.412426</td>\n",
       "      <td>129.0</td>\n",
       "      <td>6.2</td>\n",
       "      <td>19.943930</td>\n",
       "    </tr>\n",
       "    <tr>\n",
       "      <th>20th Century Women</th>\n",
       "      <td>7.0</td>\n",
       "      <td>5.816211</td>\n",
       "      <td>49.210734</td>\n",
       "      <td>119.0</td>\n",
       "      <td>7.3</td>\n",
       "      <td>9.855927</td>\n",
       "    </tr>\n",
       "  </tbody>\n",
       "</table>\n",
       "<p>1569 rows × 6 columns</p>\n",
       "</div>"
      ],
      "text/plain": [
       "                                  budget     revenue     predict  runtime  \\\n",
       "title                                                                       \n",
       "Ca$h                                 7.0    0.046488    9.036871    108.0   \n",
       "Leap Year                           19.0   29.922472   58.878502    100.0   \n",
       "Morning Glory                       40.0   58.785180  117.977999    102.0   \n",
       "Devil                               10.0   33.583175   11.285727     80.0   \n",
       "Tooth Fairy                         48.0  112.462508  106.827813    101.0   \n",
       "...                                  ...         ...         ...      ...   \n",
       "Resident Evil: The Final Chapter    40.0  312.242626   90.624936    107.0   \n",
       "Railroad Tigers                     50.0  102.205175  134.937875    124.0   \n",
       "Dangal                              10.4  310.000000   74.068213    161.0   \n",
       "Live by Night                      108.0   22.678555  346.412426    129.0   \n",
       "20th Century Women                   7.0    5.816211   49.210734    119.0   \n",
       "\n",
       "                                  vote_average  popularity  \n",
       "title                                                       \n",
       "Ca$h                                       6.0    9.107829  \n",
       "Leap Year                                  6.5    7.432311  \n",
       "Morning Glory                              6.1   10.771255  \n",
       "Devil                                      5.8    7.094276  \n",
       "Tooth Fairy                                5.2    6.744680  \n",
       "...                                        ...         ...  \n",
       "Resident Evil: The Final Chapter           5.9    0.755710  \n",
       "Railroad Tigers                            6.2    3.798504  \n",
       "Dangal                                     8.0    8.792104  \n",
       "Live by Night                              6.2   19.943930  \n",
       "20th Century Women                         7.3    9.855927  \n",
       "\n",
       "[1569 rows x 6 columns]"
      ]
     },
     "execution_count": 58,
     "metadata": {},
     "output_type": "execute_result"
    }
   ],
   "source": [
    "df"
   ]
  },
  {
   "cell_type": "code",
   "execution_count": 59,
   "id": "7f332ed5-9ed2-4534-ba92-35575dba4123",
   "metadata": {},
   "outputs": [
    {
     "data": {
      "text/plain": [
       "title\n",
       "Ca$h                                 -8.990383\n",
       "Leap Year                           -28.956030\n",
       "Morning Glory                       -59.192819\n",
       "Devil                                22.297448\n",
       "Tooth Fairy                           5.634695\n",
       "                                       ...    \n",
       "Resident Evil: The Final Chapter    221.617690\n",
       "Railroad Tigers                     -32.732700\n",
       "Dangal                              235.931787\n",
       "Live by Night                      -323.733871\n",
       "20th Century Women                  -43.394523\n",
       "Length: 1569, dtype: float64"
      ]
     },
     "execution_count": 59,
     "metadata": {},
     "output_type": "execute_result"
    }
   ],
   "source": [
    "# distance between actual value and predicted value are the residuals\n",
    "df.revenue - df.predict"
   ]
  },
  {
   "cell_type": "code",
   "execution_count": 60,
   "id": "4240832f-999a-46ca-8193-67b6e153beb5",
   "metadata": {},
   "outputs": [
    {
     "data": {
      "text/plain": [
       "title\n",
       "Ca$h                                 -8.990383\n",
       "Leap Year                           -28.956030\n",
       "Morning Glory                       -59.192819\n",
       "Devil                                22.297448\n",
       "Tooth Fairy                           5.634695\n",
       "                                       ...    \n",
       "Resident Evil: The Final Chapter    221.617690\n",
       "Railroad Tigers                     -32.732700\n",
       "Dangal                              235.931787\n",
       "Live by Night                      -323.733871\n",
       "20th Century Women                  -43.394523\n",
       "Length: 1569, dtype: float64"
      ]
     },
     "execution_count": 60,
     "metadata": {},
     "output_type": "execute_result"
    }
   ],
   "source": [
    "results.resid # residuals from statsmodels"
   ]
  },
  {
   "cell_type": "code",
   "execution_count": 61,
   "id": "4fd70d3f-3939-4cb0-a398-fbaaa0fd0b4e",
   "metadata": {},
   "outputs": [],
   "source": [
    "# to actually visualize actual values versus forecasted values\n",
    "# first let's sort the rows by the revenue column and reset the index to a range index\n",
    "# re-sortig by the revenue column from low to high\n",
    "df = df.sort_values(\"revenue\").reset_index()"
   ]
  },
  {
   "cell_type": "code",
   "execution_count": 62,
   "id": "db7cfb13-6077-417e-8416-dc53e3a2c438",
   "metadata": {},
   "outputs": [
    {
     "data": {
      "text/html": [
       "<div>\n",
       "<style scoped>\n",
       "    .dataframe tbody tr th:only-of-type {\n",
       "        vertical-align: middle;\n",
       "    }\n",
       "\n",
       "    .dataframe tbody tr th {\n",
       "        vertical-align: top;\n",
       "    }\n",
       "\n",
       "    .dataframe thead th {\n",
       "        text-align: right;\n",
       "    }\n",
       "</style>\n",
       "<table border=\"1\" class=\"dataframe\">\n",
       "  <thead>\n",
       "    <tr style=\"text-align: right;\">\n",
       "      <th></th>\n",
       "      <th>title</th>\n",
       "      <th>budget</th>\n",
       "      <th>revenue</th>\n",
       "      <th>predict</th>\n",
       "      <th>runtime</th>\n",
       "      <th>vote_average</th>\n",
       "      <th>popularity</th>\n",
       "    </tr>\n",
       "  </thead>\n",
       "  <tbody>\n",
       "    <tr>\n",
       "      <th>0</th>\n",
       "      <td>The Letters</td>\n",
       "      <td>0.000001</td>\n",
       "      <td>0.000001</td>\n",
       "      <td>-39.675047</td>\n",
       "      <td>114.0</td>\n",
       "      <td>5.6</td>\n",
       "      <td>2.240259</td>\n",
       "    </tr>\n",
       "    <tr>\n",
       "      <th>1</th>\n",
       "      <td>All at Once</td>\n",
       "      <td>0.750000</td>\n",
       "      <td>0.000003</td>\n",
       "      <td>-15.887888</td>\n",
       "      <td>0.0</td>\n",
       "      <td>6.0</td>\n",
       "      <td>0.201582</td>\n",
       "    </tr>\n",
       "    <tr>\n",
       "      <th>2</th>\n",
       "      <td>Duniyadari</td>\n",
       "      <td>0.390000</td>\n",
       "      <td>0.000003</td>\n",
       "      <td>-219.030963</td>\n",
       "      <td>148.0</td>\n",
       "      <td>0.0</td>\n",
       "      <td>0.016219</td>\n",
       "    </tr>\n",
       "    <tr>\n",
       "      <th>3</th>\n",
       "      <td>Raja Natwarlal</td>\n",
       "      <td>0.000005</td>\n",
       "      <td>0.000004</td>\n",
       "      <td>-48.245394</td>\n",
       "      <td>141.0</td>\n",
       "      <td>5.5</td>\n",
       "      <td>1.109545</td>\n",
       "    </tr>\n",
       "    <tr>\n",
       "      <th>4</th>\n",
       "      <td>Bodyguard</td>\n",
       "      <td>0.000130</td>\n",
       "      <td>0.000008</td>\n",
       "      <td>-53.505265</td>\n",
       "      <td>130.0</td>\n",
       "      <td>5.2</td>\n",
       "      <td>2.402032</td>\n",
       "    </tr>\n",
       "    <tr>\n",
       "      <th>...</th>\n",
       "      <td>...</td>\n",
       "      <td>...</td>\n",
       "      <td>...</td>\n",
       "      <td>...</td>\n",
       "      <td>...</td>\n",
       "      <td>...</td>\n",
       "      <td>...</td>\n",
       "    </tr>\n",
       "    <tr>\n",
       "      <th>1564</th>\n",
       "      <td>Avengers: Age of Ultron</td>\n",
       "      <td>280.000000</td>\n",
       "      <td>1405.403694</td>\n",
       "      <td>944.969940</td>\n",
       "      <td>141.0</td>\n",
       "      <td>7.3</td>\n",
       "      <td>37.379420</td>\n",
       "    </tr>\n",
       "    <tr>\n",
       "      <th>1565</th>\n",
       "      <td>Furious 7</td>\n",
       "      <td>190.000000</td>\n",
       "      <td>1506.249360</td>\n",
       "      <td>647.161668</td>\n",
       "      <td>137.0</td>\n",
       "      <td>7.3</td>\n",
       "      <td>27.275687</td>\n",
       "    </tr>\n",
       "    <tr>\n",
       "      <th>1566</th>\n",
       "      <td>Jurassic World</td>\n",
       "      <td>150.000000</td>\n",
       "      <td>1513.528810</td>\n",
       "      <td>512.153481</td>\n",
       "      <td>124.0</td>\n",
       "      <td>6.5</td>\n",
       "      <td>32.790475</td>\n",
       "    </tr>\n",
       "    <tr>\n",
       "      <th>1567</th>\n",
       "      <td>The Avengers</td>\n",
       "      <td>220.000000</td>\n",
       "      <td>1519.557910</td>\n",
       "      <td>870.946647</td>\n",
       "      <td>143.0</td>\n",
       "      <td>7.4</td>\n",
       "      <td>89.887648</td>\n",
       "    </tr>\n",
       "    <tr>\n",
       "      <th>1568</th>\n",
       "      <td>Star Wars: The Force Awakens</td>\n",
       "      <td>245.000000</td>\n",
       "      <td>2068.223624</td>\n",
       "      <td>831.946217</td>\n",
       "      <td>136.0</td>\n",
       "      <td>7.5</td>\n",
       "      <td>31.626013</td>\n",
       "    </tr>\n",
       "  </tbody>\n",
       "</table>\n",
       "<p>1569 rows × 7 columns</p>\n",
       "</div>"
      ],
      "text/plain": [
       "                             title      budget      revenue     predict  \\\n",
       "0                      The Letters    0.000001     0.000001  -39.675047   \n",
       "1                      All at Once    0.750000     0.000003  -15.887888   \n",
       "2                       Duniyadari    0.390000     0.000003 -219.030963   \n",
       "3                   Raja Natwarlal    0.000005     0.000004  -48.245394   \n",
       "4                        Bodyguard    0.000130     0.000008  -53.505265   \n",
       "...                            ...         ...          ...         ...   \n",
       "1564       Avengers: Age of Ultron  280.000000  1405.403694  944.969940   \n",
       "1565                     Furious 7  190.000000  1506.249360  647.161668   \n",
       "1566                Jurassic World  150.000000  1513.528810  512.153481   \n",
       "1567                  The Avengers  220.000000  1519.557910  870.946647   \n",
       "1568  Star Wars: The Force Awakens  245.000000  2068.223624  831.946217   \n",
       "\n",
       "      runtime  vote_average  popularity  \n",
       "0       114.0           5.6    2.240259  \n",
       "1         0.0           6.0    0.201582  \n",
       "2       148.0           0.0    0.016219  \n",
       "3       141.0           5.5    1.109545  \n",
       "4       130.0           5.2    2.402032  \n",
       "...       ...           ...         ...  \n",
       "1564    141.0           7.3   37.379420  \n",
       "1565    137.0           7.3   27.275687  \n",
       "1566    124.0           6.5   32.790475  \n",
       "1567    143.0           7.4   89.887648  \n",
       "1568    136.0           7.5   31.626013  \n",
       "\n",
       "[1569 rows x 7 columns]"
      ]
     },
     "execution_count": 62,
     "metadata": {},
     "output_type": "execute_result"
    }
   ],
   "source": [
    "df"
   ]
  },
  {
   "cell_type": "code",
   "execution_count": 63,
   "id": "21e66b64-0356-44d9-9133-3f29a5162b63",
   "metadata": {},
   "outputs": [
    {
     "data": {
      "image/png": "[encoded data removed]",
      "text/plain": [
       "<Figure size 1500x1000 with 1 Axes>"
      ]
     },
     "metadata": {},
     "output_type": "display_data"
    }
   ],
   "source": [
    "# creating a line plot for the revenue column and also for the predict column\n",
    "df.loc[:, [\"revenue\", \"predict\"]].plot(figsize = (15, 10))\n",
    "plt.legend(fontsize = 15)\n",
    "plt.show()"
   ]
  },
  {
   "cell_type": "code",
   "execution_count": 64,
   "id": "e776991f-fe71-4d38-a42c-707604d870e7",
   "metadata": {},
   "outputs": [
    {
     "data": {
      "text/plain": [
       "np.float64(21611479.348156683)"
      ]
     },
     "execution_count": 64,
     "metadata": {},
     "output_type": "execute_result"
    }
   ],
   "source": [
    "results.ssr # sum of squared errors"
   ]
  },
  {
   "cell_type": "code",
   "execution_count": 65,
   "id": "96690734-190b-4748-a3bd-acec2347819e",
   "metadata": {},
   "outputs": [
    {
     "data": {
      "text/plain": [
       "np.float64(13818.081424652612)"
      ]
     },
     "execution_count": 65,
     "metadata": {},
     "output_type": "execute_result"
    }
   ],
   "source": [
    "results.mse_resid # mean squared error in square units"
   ]
  },
  {
   "cell_type": "code",
   "execution_count": 66,
   "id": "5e7cdb2b-549d-44fd-9392-438606b1c849",
   "metadata": {},
   "outputs": [
    {
     "data": {
      "text/plain": [
       "np.float64(117.55033570625228)"
      ]
     },
     "execution_count": 66,
     "metadata": {},
     "output_type": "execute_result"
    }
   ],
   "source": [
    "# as the mean squared error in square units we take the square root to get a number that we can interpret\n",
    "# by taking the square root we get to 170 and million dollar.\n",
    "# which is actually the mean of the average error of our regression model\n",
    "# so on average the the truer revenue is plus or minus 117 million away from the predicted values.\n",
    "    \n",
    "results.mse_resid**0.5"
   ]
  },
  {
   "cell_type": "markdown",
   "id": "b4cad3e6-5b2a-4929-8424-01805fb0d7e2",
   "metadata": {},
   "source": [
    "***The mean error seems to be pretty high but to evaluate and to verify the fit of our model we need to calculate the coefficient of determination.***"
   ]
  },
  {
   "cell_type": "code",
   "execution_count": 67,
   "id": "6022b8a9-2e96-48c1-908e-bd141b9c6adb",
   "metadata": {},
   "outputs": [],
   "source": [
    "## Coefficient of Determination - 𝑅<sup>2</sup> & Adjusted 𝑅<sup>2</sup>"
   ]
  },
  {
   "cell_type": "markdown",
   "id": "76a8ff82-6a8a-4580-8e97-5ce8222bae22",
   "metadata": {},
   "source": [
    "#### __How well does the model fit the data & explain the dependent variable?__\n",
    "\n",
    "𝑅<sup>2</sup> is defined as the **proportion of the variation in the dependent variable** that is collectively\n",
    "explained by all of the independent variables (or the regression model).\n",
    "\n",
    "<img src=\"../assets/images/r_squared_formula_2.png\" width=\"50%\" />\n",
    "\n",
    "The problem that we have here is, that 𝑅<sup>2</sup> may not be a reliable measure of the explanatory power of the multiple regression model. The reason for this is that *𝑅<sup>2</sup> almost always increases as variables are added to the model, even if the marginal contribution of the new variables is not significant.*\n",
    "\n",
    "The solution for this is to use the __Adjusted 𝑅<sup>2</sup>__ instead of 𝑅<sup>2</sup>. When we add new variables to the model the **Adjusted 𝑅<sup>2</sup> increases or decreases depending on the new variable's marginal contribution**.\n",
    "\n",
    "__Therefore the Adjusted 𝑅<sup>2</sup> is always less than 𝑅<sup>2</sup>.__\n",
    "\n",
    "<img src=\"../assets/images/adjusted_r_squared_formula.png\" width=\"80%\" />\n"
   ]
  },
  {
   "cell_type": "code",
   "execution_count": 68,
   "id": "a31fc964-c5c6-4ca2-804d-5937ed2fa0a5",
   "metadata": {},
   "outputs": [
    {
     "data": {
      "text/plain": [
       "np.float64(0.6843660611789256)"
      ]
     },
     "execution_count": 68,
     "metadata": {},
     "output_type": "execute_result"
    }
   ],
   "source": [
    "results.rsquared"
   ]
  },
  {
   "cell_type": "code",
   "execution_count": 69,
   "id": "0e81baef-9f8d-4add-8ca9-230c620a7536",
   "metadata": {},
   "outputs": [
    {
     "data": {
      "text/plain": [
       "np.float64(0.6835588132535521)"
      ]
     },
     "execution_count": 69,
     "metadata": {},
     "output_type": "execute_result"
    }
   ],
   "source": [
    "results.rsquared_adj"
   ]
  },
  {
   "cell_type": "markdown",
   "id": "e2342625-e69a-480a-9c76-29020762d094",
   "metadata": {},
   "source": [
    "In our example the Adjusted 𝑅<sup>2</sup> (68.36 %) is only slightly lower than 𝑅<sup>2</sup> (68.43 %).\n",
    "\n",
    "***We can conclude, that the four independent variables and our model as a whole explain 68.36 % of the total variation in the independent variable.***"
   ]
  },
  {
   "cell_type": "markdown",
   "id": "cc9f7a31-a68f-4cc3-ab7c-49a0a1c17ff2",
   "metadata": {},
   "source": [
    "### Regression Coefficients, Hypothesis Testing & Model Specification"
   ]
  },
  {
   "cell_type": "code",
   "execution_count": 70,
   "id": "77083727-f730-4abf-b08a-458a301f809f",
   "metadata": {},
   "outputs": [],
   "source": [
    "pd.options.display.float_format = '{:.4f}'.format"
   ]
  },
  {
   "cell_type": "code",
   "execution_count": 71,
   "id": "9399ea03-c8d4-4015-9f28-d4214f8bf883",
   "metadata": {},
   "outputs": [
    {
     "data": {
      "text/html": [
       "<div>\n",
       "<style scoped>\n",
       "    .dataframe tbody tr th:only-of-type {\n",
       "        vertical-align: middle;\n",
       "    }\n",
       "\n",
       "    .dataframe tbody tr th {\n",
       "        vertical-align: top;\n",
       "    }\n",
       "\n",
       "    .dataframe thead th {\n",
       "        text-align: right;\n",
       "    }\n",
       "</style>\n",
       "<table border=\"1\" class=\"dataframe\">\n",
       "  <thead>\n",
       "    <tr style=\"text-align: right;\">\n",
       "      <th></th>\n",
       "      <th>title</th>\n",
       "      <th>budget</th>\n",
       "      <th>revenue</th>\n",
       "      <th>predict</th>\n",
       "      <th>runtime</th>\n",
       "      <th>vote_average</th>\n",
       "      <th>popularity</th>\n",
       "    </tr>\n",
       "  </thead>\n",
       "  <tbody>\n",
       "    <tr>\n",
       "      <th>0</th>\n",
       "      <td>The Letters</td>\n",
       "      <td>0.0000</td>\n",
       "      <td>0.0000</td>\n",
       "      <td>-39.6750</td>\n",
       "      <td>114.0000</td>\n",
       "      <td>5.6000</td>\n",
       "      <td>2.2403</td>\n",
       "    </tr>\n",
       "    <tr>\n",
       "      <th>1</th>\n",
       "      <td>All at Once</td>\n",
       "      <td>0.7500</td>\n",
       "      <td>0.0000</td>\n",
       "      <td>-15.8879</td>\n",
       "      <td>0.0000</td>\n",
       "      <td>6.0000</td>\n",
       "      <td>0.2016</td>\n",
       "    </tr>\n",
       "    <tr>\n",
       "      <th>2</th>\n",
       "      <td>Duniyadari</td>\n",
       "      <td>0.3900</td>\n",
       "      <td>0.0000</td>\n",
       "      <td>-219.0310</td>\n",
       "      <td>148.0000</td>\n",
       "      <td>0.0000</td>\n",
       "      <td>0.0162</td>\n",
       "    </tr>\n",
       "    <tr>\n",
       "      <th>3</th>\n",
       "      <td>Raja Natwarlal</td>\n",
       "      <td>0.0000</td>\n",
       "      <td>0.0000</td>\n",
       "      <td>-48.2454</td>\n",
       "      <td>141.0000</td>\n",
       "      <td>5.5000</td>\n",
       "      <td>1.1095</td>\n",
       "    </tr>\n",
       "    <tr>\n",
       "      <th>4</th>\n",
       "      <td>Bodyguard</td>\n",
       "      <td>0.0001</td>\n",
       "      <td>0.0000</td>\n",
       "      <td>-53.5053</td>\n",
       "      <td>130.0000</td>\n",
       "      <td>5.2000</td>\n",
       "      <td>2.4020</td>\n",
       "    </tr>\n",
       "    <tr>\n",
       "      <th>...</th>\n",
       "      <td>...</td>\n",
       "      <td>...</td>\n",
       "      <td>...</td>\n",
       "      <td>...</td>\n",
       "      <td>...</td>\n",
       "      <td>...</td>\n",
       "      <td>...</td>\n",
       "    </tr>\n",
       "    <tr>\n",
       "      <th>1564</th>\n",
       "      <td>Avengers: Age of Ultron</td>\n",
       "      <td>280.0000</td>\n",
       "      <td>1405.4037</td>\n",
       "      <td>944.9699</td>\n",
       "      <td>141.0000</td>\n",
       "      <td>7.3000</td>\n",
       "      <td>37.3794</td>\n",
       "    </tr>\n",
       "    <tr>\n",
       "      <th>1565</th>\n",
       "      <td>Furious 7</td>\n",
       "      <td>190.0000</td>\n",
       "      <td>1506.2494</td>\n",
       "      <td>647.1617</td>\n",
       "      <td>137.0000</td>\n",
       "      <td>7.3000</td>\n",
       "      <td>27.2757</td>\n",
       "    </tr>\n",
       "    <tr>\n",
       "      <th>1566</th>\n",
       "      <td>Jurassic World</td>\n",
       "      <td>150.0000</td>\n",
       "      <td>1513.5288</td>\n",
       "      <td>512.1535</td>\n",
       "      <td>124.0000</td>\n",
       "      <td>6.5000</td>\n",
       "      <td>32.7905</td>\n",
       "    </tr>\n",
       "    <tr>\n",
       "      <th>1567</th>\n",
       "      <td>The Avengers</td>\n",
       "      <td>220.0000</td>\n",
       "      <td>1519.5579</td>\n",
       "      <td>870.9466</td>\n",
       "      <td>143.0000</td>\n",
       "      <td>7.4000</td>\n",
       "      <td>89.8876</td>\n",
       "    </tr>\n",
       "    <tr>\n",
       "      <th>1568</th>\n",
       "      <td>Star Wars: The Force Awakens</td>\n",
       "      <td>245.0000</td>\n",
       "      <td>2068.2236</td>\n",
       "      <td>831.9462</td>\n",
       "      <td>136.0000</td>\n",
       "      <td>7.5000</td>\n",
       "      <td>31.6260</td>\n",
       "    </tr>\n",
       "  </tbody>\n",
       "</table>\n",
       "<p>1569 rows × 7 columns</p>\n",
       "</div>"
      ],
      "text/plain": [
       "                             title   budget   revenue   predict  runtime  \\\n",
       "0                      The Letters   0.0000    0.0000  -39.6750 114.0000   \n",
       "1                      All at Once   0.7500    0.0000  -15.8879   0.0000   \n",
       "2                       Duniyadari   0.3900    0.0000 -219.0310 148.0000   \n",
       "3                   Raja Natwarlal   0.0000    0.0000  -48.2454 141.0000   \n",
       "4                        Bodyguard   0.0001    0.0000  -53.5053 130.0000   \n",
       "...                            ...      ...       ...       ...      ...   \n",
       "1564       Avengers: Age of Ultron 280.0000 1405.4037  944.9699 141.0000   \n",
       "1565                     Furious 7 190.0000 1506.2494  647.1617 137.0000   \n",
       "1566                Jurassic World 150.0000 1513.5288  512.1535 124.0000   \n",
       "1567                  The Avengers 220.0000 1519.5579  870.9466 143.0000   \n",
       "1568  Star Wars: The Force Awakens 245.0000 2068.2236  831.9462 136.0000   \n",
       "\n",
       "      vote_average  popularity  \n",
       "0           5.6000      2.2403  \n",
       "1           6.0000      0.2016  \n",
       "2           0.0000      0.0162  \n",
       "3           5.5000      1.1095  \n",
       "4           5.2000      2.4020  \n",
       "...            ...         ...  \n",
       "1564        7.3000     37.3794  \n",
       "1565        7.3000     27.2757  \n",
       "1566        6.5000     32.7905  \n",
       "1567        7.4000     89.8876  \n",
       "1568        7.5000     31.6260  \n",
       "\n",
       "[1569 rows x 7 columns]"
      ]
     },
     "execution_count": 71,
     "metadata": {},
     "output_type": "execute_result"
    }
   ],
   "source": [
    "df"
   ]
  },
  {
   "cell_type": "code",
   "execution_count": 72,
   "id": "edd889cc-4486-407c-bdeb-1d74240c88b2",
   "metadata": {},
   "outputs": [
    {
     "data": {
      "text/plain": [
       "Intercept      -202.8857\n",
       "budget            3.0830\n",
       "runtime          -0.1174\n",
       "vote_average     30.7117\n",
       "popularity        2.0592\n",
       "dtype: float64"
      ]
     },
     "execution_count": 72,
     "metadata": {},
     "output_type": "execute_result"
    }
   ],
   "source": [
    "results.params"
   ]
  },
  {
   "cell_type": "code",
   "execution_count": 73,
   "id": "a68f6236-1f9e-474b-abfe-f6befe206aab",
   "metadata": {},
   "outputs": [
    {
     "data": {
      "text/plain": [
       "Intercept      -8.6450\n",
       "budget         49.1353\n",
       "runtime        -0.7983\n",
       "vote_average    8.3246\n",
       "popularity     12.2409\n",
       "dtype: float64"
      ]
     },
     "execution_count": 73,
     "metadata": {},
     "output_type": "execute_result"
    }
   ],
   "source": [
    "results.tvalues"
   ]
  },
  {
   "cell_type": "code",
   "execution_count": 74,
   "id": "1d1e92c2-7da2-4567-a280-4dec7bca04eb",
   "metadata": {},
   "outputs": [
    {
     "data": {
      "text/plain": [
       "Intercept      0.0000\n",
       "budget         0.0000\n",
       "runtime        0.4248\n",
       "vote_average   0.0000\n",
       "popularity     0.0000\n",
       "dtype: float64"
      ]
     },
     "execution_count": 74,
     "metadata": {},
     "output_type": "execute_result"
    }
   ],
   "source": [
    "results.pvalues"
   ]
  },
  {
   "cell_type": "code",
   "execution_count": 75,
   "id": "5b63bd48-cdf4-4f50-b0ec-986a6147c1a7",
   "metadata": {},
   "outputs": [
    {
     "name": "stdout",
     "output_type": "stream",
     "text": [
      "                            OLS Regression Results                            \n",
      "==============================================================================\n",
      "Dep. Variable:                revenue   R-squared:                       0.684\n",
      "Model:                            OLS   Adj. R-squared:                  0.684\n",
      "Method:                 Least Squares   F-statistic:                     847.8\n",
      "Date:                Fri, 13 Dec 2024   Prob (F-statistic):               0.00\n",
      "Time:                        12:02:39   Log-Likelihood:                -9703.0\n",
      "No. Observations:                1569   AIC:                         1.942e+04\n",
      "Df Residuals:                    1564   BIC:                         1.944e+04\n",
      "Df Model:                           4                                         \n",
      "Covariance Type:            nonrobust                                         \n",
      "================================================================================\n",
      "                   coef    std err          t      P>|t|      [0.025      0.975]\n",
      "--------------------------------------------------------------------------------\n",
      "Intercept     -202.8857     23.469     -8.645      0.000    -248.919    -156.853\n",
      "budget           3.0830      0.063     49.135      0.000       2.960       3.206\n",
      "runtime         -0.1174      0.147     -0.798      0.425      -0.406       0.171\n",
      "vote_average    30.7117      3.689      8.325      0.000      23.475      37.948\n",
      "popularity       2.0592      0.168     12.241      0.000       1.729       2.389\n",
      "==============================================================================\n",
      "Omnibus:                     1007.574   Durbin-Watson:                   2.028\n",
      "Prob(Omnibus):                  0.000   Jarque-Bera (JB):            29817.275\n",
      "Skew:                           2.517   Prob(JB):                         0.00\n",
      "Kurtosis:                      23.755   Cond. No.                         962.\n",
      "==============================================================================\n",
      "\n",
      "Notes:\n",
      "[1] Standard Errors assume that the covariance matrix of the errors is correctly specified.\n"
     ]
    }
   ],
   "source": [
    "print(results.summary())"
   ]
  },
  {
   "cell_type": "code",
   "execution_count": 76,
   "id": "2a9f6af0-1c30-4be9-b9d2-abc7f1de1015",
   "metadata": {},
   "outputs": [
    {
     "data": {
      "image/png": "[encoded data removed]",
      "text/plain": [
       "<Figure size 640x480 with 1 Axes>"
      ]
     },
     "metadata": {},
     "output_type": "display_data"
    }
   ],
   "source": [
    "sns.regplot(x = \"runtime\", y = \"revenue\", data = df)\n",
    "plt.show()"
   ]
  },
  {
   "cell_type": "code",
   "execution_count": 77,
   "id": "9b5b680f-9dc7-4de6-92af-5c93d3730d73",
   "metadata": {},
   "outputs": [
    {
     "data": {
      "image/png": "[encoded data removed]",
      "text/plain": [
       "<Figure size 640x480 with 1 Axes>"
      ]
     },
     "metadata": {},
     "output_type": "display_data"
    }
   ],
   "source": [
    "sns.regplot(x = \"budget\", y = \"runtime\", data = df)\n",
    "plt.show()"
   ]
  },
  {
   "cell_type": "code",
   "execution_count": 78,
   "id": "73a01fc1-f3e9-42e7-9e67-a877516e6686",
   "metadata": {},
   "outputs": [],
   "source": [
    "# for the ols function of statsmodels we have to define a formula as this string\n",
    "# first we have the revenue column where we have the dependent variable \n",
    "# we have budget as the first independent variable and then we add some more independent variables with the plus sign\n",
    "# we take all the data from the dataframe df\n",
    "model = ols(\"revenue ~  budget + vote_average + popularity\", data = df) # creating a multiple linear regression model"
   ]
  },
  {
   "cell_type": "code",
   "execution_count": 79,
   "id": "c18d0840-e28c-4f1d-ac75-a8a4e13deea8",
   "metadata": {},
   "outputs": [],
   "source": [
    "results = model.fit() # fitting the model"
   ]
  },
  {
   "cell_type": "code",
   "execution_count": 80,
   "id": "3ad68ed2-8598-4fdb-808a-6301342ba001",
   "metadata": {},
   "outputs": [
    {
     "name": "stdout",
     "output_type": "stream",
     "text": [
      "                            OLS Regression Results                            \n",
      "==============================================================================\n",
      "Dep. Variable:                revenue   R-squared:                       0.684\n",
      "Model:                            OLS   Adj. R-squared:                  0.684\n",
      "Method:                 Least Squares   F-statistic:                     1130.\n",
      "Date:                Fri, 13 Dec 2024   Prob (F-statistic):               0.00\n",
      "Time:                        12:03:45   Log-Likelihood:                -9703.3\n",
      "No. Observations:                1569   AIC:                         1.941e+04\n",
      "Df Residuals:                    1565   BIC:                         1.944e+04\n",
      "Df Model:                           3                                         \n",
      "Covariance Type:            nonrobust                                         \n",
      "================================================================================\n",
      "                   coef    std err          t      P>|t|      [0.025      0.975]\n",
      "--------------------------------------------------------------------------------\n",
      "Intercept     -209.6573     21.879     -9.583      0.000    -252.573    -166.742\n",
      "budget           3.0737      0.062     49.863      0.000       2.953       3.195\n",
      "vote_average    29.7712      3.496      8.517      0.000      22.915      36.628\n",
      "popularity       2.0662      0.168     12.301      0.000       1.737       2.396\n",
      "==============================================================================\n",
      "Omnibus:                     1007.324   Durbin-Watson:                   1.123\n",
      "Prob(Omnibus):                  0.000   Jarque-Bera (JB):            29826.449\n",
      "Skew:                           2.516   Prob(JB):                         0.00\n",
      "Kurtosis:                      23.759   Cond. No.                         477.\n",
      "==============================================================================\n",
      "\n",
      "Notes:\n",
      "[1] Standard Errors assume that the covariance matrix of the errors is correctly specified.\n"
     ]
    }
   ],
   "source": [
    "print(results.summary())"
   ]
  },
  {
   "cell_type": "code",
   "execution_count": null,
   "id": "a0bbb401-0cab-4a44-98b7-9adf04b01d83",
   "metadata": {},
   "outputs": [],
   "source": []
  }
 ],
 "metadata": {
  "kernelspec": {
   "display_name": "Python 3 (ipykernel)",
   "language": "python",
   "name": "python3"
  },
  "language_info": {
   "codemirror_mode": {
    "name": "ipython",
    "version": 3
   },
   "file_extension": ".py",
   "mimetype": "text/x-python",
   "name": "python",
   "nbconvert_exporter": "python",
   "pygments_lexer": "ipython3",
   "version": "3.12.7"
  }
 },
 "nbformat": 4,
 "nbformat_minor": 5
}
