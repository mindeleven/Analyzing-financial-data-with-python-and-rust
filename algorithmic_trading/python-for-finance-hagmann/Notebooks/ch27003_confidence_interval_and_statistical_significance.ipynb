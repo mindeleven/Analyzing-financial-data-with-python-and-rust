{
 "cells": [
  {
   "cell_type": "markdown",
   "id": "f2ad0351-4c0a-43a9-897f-26c65fd3a584",
   "metadata": {},
   "source": [
    "### Confidence Interval and Statistical Significance"
   ]
  },
  {
   "cell_type": "markdown",
   "id": "d7d11e19-9ce9-4943-b027-4f18e8a84fed",
   "metadata": {},
   "source": [
    "*(Coding along with the Udemy Couse [Python for Business and Finance](https://www.udemy.com/course/complete-python-for-business-and-finance-bootcamp/) by Alexander Hagmann.)*"
   ]
  },
  {
   "cell_type": "markdown",
   "id": "9b08d148-c5f7-492b-b801-25b6efec81ec",
   "metadata": {},
   "source": [
    "The correlation we've calculated (see previous notebook) is only a point estimate which doesn't really allow to draw a conclusion about the relationship between budget and revenue without a statistical test of significance or without creating a confidence interval estimate."
   ]
  },
  {
   "cell_type": "markdown",
   "id": "99dc6204-4abb-4503-bdef-d8f097e33db3",
   "metadata": {},
   "source": [
    "#### <span style=\"color: green; line-height: 1.5\">Claude.ai, if I've calculated a correlation coefficient, why do I need a statistical test of significance or a confidence interval estimate to draw a conclusion between the relationship of two variables?</span>\n",
    "\n",
    "> The correlation coefficient (r) shows the strength and direction of a linear relationship between two variables, but it doesn't tell you whether this relationship is statistically meaningful or could have occurred by chance.\n",
    ">\n",
    "> A statistical test of significance (like a t-test for correlation) helps you determine if the observed correlation is likely to be different from zero in the population, not just a random occurrence in your sample. The p-value from this test indicates the probability of observing such a correlation if no true relationship exists.\n",
    "> \n",
    "> __A confidence interval provides additional context by giving you a range of plausible values for the true population correlation, along with a specified level of confidence (typically 95%). This helps you understand the precision of your estimate and whether the correlation could include zero (which would suggest no meaningful relationship).__\n",
    ">\n",
    "> In essence, the correlation coefficient describes the relationship, while significance testing and confidence intervals help you assess whether that relationship is reliable and meaningful beyond random chance."
   ]
  },
  {
   "cell_type": "markdown",
   "id": "d87ce99a-2863-4f7d-a80b-afc6959438b3",
   "metadata": {},
   "source": [
    "### Creating a Confidence Interval Estimate with Bootstrapping"
   ]
  },
  {
   "cell_type": "markdown",
   "id": "51dc045d-34f7-4372-81ed-968244604b86",
   "metadata": {},
   "source": [
    "#### <span style=\"color: green; line-height: 1.5\">Claude.ai, what does it mean to create a confidence interval estimate with bootstrapping? What exactly is bootstrapping here?</span>\n",
    "\n",
    "> Bootstrapping is a resampling technique used to estimate the sampling distribution of a statistic (like a correlation coefficient) when the underlying population distribution is unknown. \n",
    "> \n",
    "> Here's how it works:\n",
    "> 1. Take your original sample data\n",
    "> 2. Randomly resample the data with replacement many times (typically 1000-10000 times)\n",
    "> 3. Calculate the statistic of interest (e.g., correlation) for each resampled dataset\n",
    "> 4. Create a distribution of these calculated statistics\n",
    "> 5. Use this distribution to construct a confidence interval\n",
    "> \n",
    "> For a confidence interval, you'd typically take the values at the 2.5th and 97.5th percentiles of this bootstrapped distribution to create a 95% confidence interval. This approach allows you to estimate the uncertainty around your statistic without making assumptions about the underlying population distribution, making it particularly useful when traditional parametric methods might not be appropriate."
   ]
  },
  {
   "cell_type": "code",
   "execution_count": 70,
   "id": "ca10a453-43cd-4ee6-9896-d3541b4084dc",
   "metadata": {},
   "outputs": [],
   "source": [
    "import pandas as pd\n",
    "import numpy as np\n",
    "import matplotlib.pyplot as plt\n",
    "import scipy.stats as stats\n",
    "np.set_printoptions(precision=2, suppress= True)"
   ]
  },
  {
   "cell_type": "code",
   "execution_count": 71,
   "id": "6c20c1f8-86de-4e11-a10a-e52884eb093d",
   "metadata": {},
   "outputs": [],
   "source": [
    "# importing our data and setting release_date as the datetime index\n",
    "df = pd.read_csv(\"../assets/data/bud_vs_rev.csv\", parse_dates = [\"release_date\"], index_col = \"release_date\")"
   ]
  },
  {
   "cell_type": "code",
   "execution_count": 72,
   "id": "4de4eee6-635e-451e-8fb3-5e2c80c093b8",
   "metadata": {},
   "outputs": [
    {
     "data": {
      "text/html": [
       "<div>\n",
       "<style scoped>\n",
       "    .dataframe tbody tr th:only-of-type {\n",
       "        vertical-align: middle;\n",
       "    }\n",
       "\n",
       "    .dataframe tbody tr th {\n",
       "        vertical-align: top;\n",
       "    }\n",
       "\n",
       "    .dataframe thead th {\n",
       "        text-align: right;\n",
       "    }\n",
       "</style>\n",
       "<table border=\"1\" class=\"dataframe\">\n",
       "  <thead>\n",
       "    <tr style=\"text-align: right;\">\n",
       "      <th></th>\n",
       "      <th>title</th>\n",
       "      <th>budget</th>\n",
       "      <th>revenue</th>\n",
       "    </tr>\n",
       "    <tr>\n",
       "      <th>release_date</th>\n",
       "      <th></th>\n",
       "      <th></th>\n",
       "      <th></th>\n",
       "    </tr>\n",
       "  </thead>\n",
       "  <tbody>\n",
       "    <tr>\n",
       "      <th>1915-02-08</th>\n",
       "      <td>The Birth of a Nation</td>\n",
       "      <td>0.100000</td>\n",
       "      <td>11.000000</td>\n",
       "    </tr>\n",
       "    <tr>\n",
       "      <th>1915-12-13</th>\n",
       "      <td>The Cheat</td>\n",
       "      <td>0.017311</td>\n",
       "      <td>0.137365</td>\n",
       "    </tr>\n",
       "    <tr>\n",
       "      <th>1916-12-24</th>\n",
       "      <td>20,000 Leagues Under the Sea</td>\n",
       "      <td>0.200000</td>\n",
       "      <td>8.000000</td>\n",
       "    </tr>\n",
       "    <tr>\n",
       "      <th>1918-08-01</th>\n",
       "      <td>Mickey</td>\n",
       "      <td>0.250000</td>\n",
       "      <td>8.000000</td>\n",
       "    </tr>\n",
       "    <tr>\n",
       "      <th>1921-01-21</th>\n",
       "      <td>The Kid</td>\n",
       "      <td>0.250000</td>\n",
       "      <td>2.500000</td>\n",
       "    </tr>\n",
       "    <tr>\n",
       "      <th>...</th>\n",
       "      <td>...</td>\n",
       "      <td>...</td>\n",
       "      <td>...</td>\n",
       "    </tr>\n",
       "    <tr>\n",
       "      <th>2017-07-26</th>\n",
       "      <td>Atomic Blonde</td>\n",
       "      <td>30.000000</td>\n",
       "      <td>90.007945</td>\n",
       "    </tr>\n",
       "    <tr>\n",
       "      <th>2017-07-28</th>\n",
       "      <td>The Emoji Movie</td>\n",
       "      <td>50.000000</td>\n",
       "      <td>66.913939</td>\n",
       "    </tr>\n",
       "    <tr>\n",
       "      <th>2017-08-03</th>\n",
       "      <td>The Dark Tower</td>\n",
       "      <td>60.000000</td>\n",
       "      <td>71.000000</td>\n",
       "    </tr>\n",
       "    <tr>\n",
       "      <th>2017-08-03</th>\n",
       "      <td>Wind River</td>\n",
       "      <td>11.000000</td>\n",
       "      <td>184.770205</td>\n",
       "    </tr>\n",
       "    <tr>\n",
       "      <th>2017-08-04</th>\n",
       "      <td>Kidnap</td>\n",
       "      <td>21.000000</td>\n",
       "      <td>24.527158</td>\n",
       "    </tr>\n",
       "  </tbody>\n",
       "</table>\n",
       "<p>5381 rows × 3 columns</p>\n",
       "</div>"
      ],
      "text/plain": [
       "                                     title     budget     revenue\n",
       "release_date                                                     \n",
       "1915-02-08           The Birth of a Nation   0.100000   11.000000\n",
       "1915-12-13                       The Cheat   0.017311    0.137365\n",
       "1916-12-24    20,000 Leagues Under the Sea   0.200000    8.000000\n",
       "1918-08-01                          Mickey   0.250000    8.000000\n",
       "1921-01-21                         The Kid   0.250000    2.500000\n",
       "...                                    ...        ...         ...\n",
       "2017-07-26                   Atomic Blonde  30.000000   90.007945\n",
       "2017-07-28                 The Emoji Movie  50.000000   66.913939\n",
       "2017-08-03                  The Dark Tower  60.000000   71.000000\n",
       "2017-08-03                      Wind River  11.000000  184.770205\n",
       "2017-08-04                          Kidnap  21.000000   24.527158\n",
       "\n",
       "[5381 rows x 3 columns]"
      ]
     },
     "execution_count": 72,
     "metadata": {},
     "output_type": "execute_result"
    }
   ],
   "source": [
    "df"
   ]
  },
  {
   "cell_type": "code",
   "execution_count": 73,
   "id": "10862db8-3a99-4b21-bde8-d82adf1d2010",
   "metadata": {},
   "outputs": [],
   "source": [
    "# focusing on more recent data\n",
    "df = df.loc[\"2016\"] # cutting out the 2016 release dates and overwriting the dataframe"
   ]
  },
  {
   "cell_type": "code",
   "execution_count": 74,
   "id": "beeb8133-6587-4ca3-9674-3915edf01e5e",
   "metadata": {},
   "outputs": [
    {
     "data": {
      "text/html": [
       "<div>\n",
       "<style scoped>\n",
       "    .dataframe tbody tr th:only-of-type {\n",
       "        vertical-align: middle;\n",
       "    }\n",
       "\n",
       "    .dataframe tbody tr th {\n",
       "        vertical-align: top;\n",
       "    }\n",
       "\n",
       "    .dataframe thead th {\n",
       "        text-align: right;\n",
       "    }\n",
       "</style>\n",
       "<table border=\"1\" class=\"dataframe\">\n",
       "  <thead>\n",
       "    <tr style=\"text-align: right;\">\n",
       "      <th></th>\n",
       "      <th>title</th>\n",
       "      <th>budget</th>\n",
       "      <th>revenue</th>\n",
       "    </tr>\n",
       "    <tr>\n",
       "      <th>release_date</th>\n",
       "      <th></th>\n",
       "      <th></th>\n",
       "      <th></th>\n",
       "    </tr>\n",
       "  </thead>\n",
       "  <tbody>\n",
       "    <tr>\n",
       "      <th>2016-01-01</th>\n",
       "      <td>Jane Got a Gun</td>\n",
       "      <td>25.0</td>\n",
       "      <td>1.397284</td>\n",
       "    </tr>\n",
       "    <tr>\n",
       "      <th>2016-01-07</th>\n",
       "      <td>Friend Request</td>\n",
       "      <td>9.9</td>\n",
       "      <td>2.400000</td>\n",
       "    </tr>\n",
       "    <tr>\n",
       "      <th>2016-01-07</th>\n",
       "      <td>The Forest</td>\n",
       "      <td>10.0</td>\n",
       "      <td>40.055439</td>\n",
       "    </tr>\n",
       "    <tr>\n",
       "      <th>2016-01-07</th>\n",
       "      <td>Wazir</td>\n",
       "      <td>5.2</td>\n",
       "      <td>9.200000</td>\n",
       "    </tr>\n",
       "    <tr>\n",
       "      <th>2016-01-13</th>\n",
       "      <td>13 Hours: The Secret Soldiers of Benghazi</td>\n",
       "      <td>50.0</td>\n",
       "      <td>69.411370</td>\n",
       "    </tr>\n",
       "    <tr>\n",
       "      <th>...</th>\n",
       "      <td>...</td>\n",
       "      <td>...</td>\n",
       "      <td>...</td>\n",
       "    </tr>\n",
       "    <tr>\n",
       "      <th>2016-12-23</th>\n",
       "      <td>Resident Evil: The Final Chapter</td>\n",
       "      <td>40.0</td>\n",
       "      <td>312.242626</td>\n",
       "    </tr>\n",
       "    <tr>\n",
       "      <th>2016-12-23</th>\n",
       "      <td>Railroad Tigers</td>\n",
       "      <td>50.0</td>\n",
       "      <td>102.205175</td>\n",
       "    </tr>\n",
       "    <tr>\n",
       "      <th>2016-12-23</th>\n",
       "      <td>Dangal</td>\n",
       "      <td>10.4</td>\n",
       "      <td>310.000000</td>\n",
       "    </tr>\n",
       "    <tr>\n",
       "      <th>2016-12-25</th>\n",
       "      <td>Live by Night</td>\n",
       "      <td>108.0</td>\n",
       "      <td>22.678555</td>\n",
       "    </tr>\n",
       "    <tr>\n",
       "      <th>2016-12-25</th>\n",
       "      <td>20th Century Women</td>\n",
       "      <td>7.0</td>\n",
       "      <td>5.816211</td>\n",
       "    </tr>\n",
       "  </tbody>\n",
       "</table>\n",
       "<p>235 rows × 3 columns</p>\n",
       "</div>"
      ],
      "text/plain": [
       "                                                  title  budget     revenue\n",
       "release_date                                                               \n",
       "2016-01-01                               Jane Got a Gun    25.0    1.397284\n",
       "2016-01-07                               Friend Request     9.9    2.400000\n",
       "2016-01-07                                   The Forest    10.0   40.055439\n",
       "2016-01-07                                        Wazir     5.2    9.200000\n",
       "2016-01-13    13 Hours: The Secret Soldiers of Benghazi    50.0   69.411370\n",
       "...                                                 ...     ...         ...\n",
       "2016-12-23             Resident Evil: The Final Chapter    40.0  312.242626\n",
       "2016-12-23                              Railroad Tigers    50.0  102.205175\n",
       "2016-12-23                                       Dangal    10.4  310.000000\n",
       "2016-12-25                                Live by Night   108.0   22.678555\n",
       "2016-12-25                           20th Century Women     7.0    5.816211\n",
       "\n",
       "[235 rows x 3 columns]"
      ]
     },
     "execution_count": 74,
     "metadata": {},
     "output_type": "execute_result"
    }
   ],
   "source": [
    "df"
   ]
  },
  {
   "cell_type": "code",
   "execution_count": 75,
   "id": "2100239f-8bba-4212-94c8-578f7453ff4d",
   "metadata": {},
   "outputs": [
    {
     "data": {
      "text/plain": [
       "array([[ 25.  ,   1.4 ],\n",
       "       [  9.9 ,   2.4 ],\n",
       "       [ 10.  ,  40.06],\n",
       "       [  5.2 ,   9.2 ],\n",
       "       [ 50.  ,  69.41],\n",
       "       [ 18.  ,  17.06],\n",
       "       [ 40.  , 124.83],\n",
       "       [ 38.  , 109.91],\n",
       "       [ 11.5 ,  94.07],\n",
       "       [ 38.  , 112.34]])"
      ]
     },
     "execution_count": 75,
     "metadata": {},
     "output_type": "execute_result"
    }
   ],
   "source": [
    "# converting dataframe to numpy array\n",
    "# using only the last two columns with iloc[:, -2:]\n",
    "array = df.iloc[:, -2:].values\n",
    "# we get array with 2 columns, first is budget, 2nd is revenue\n",
    "array[:10] # showing first ten rows only"
   ]
  },
  {
   "cell_type": "code",
   "execution_count": 76,
   "id": "1f37e4a2-99ed-4caa-bf5a-0d45d0d72fe8",
   "metadata": {},
   "outputs": [
    {
     "data": {
      "text/plain": [
       "(235, 2)"
      ]
     },
     "execution_count": 76,
     "metadata": {},
     "output_type": "execute_result"
    }
   ],
   "source": [
    "array.shape # we've 235 rows"
   ]
  },
  {
   "cell_type": "code",
   "execution_count": 77,
   "id": "c2d5a285-59f6-434c-a3a9-af0d5cd415f2",
   "metadata": {},
   "outputs": [
    {
     "data": {
      "text/plain": [
       "array([[1. , 0.8],\n",
       "       [0.8, 1. ]])"
      ]
     },
     "execution_count": 77,
     "metadata": {},
     "output_type": "execute_result"
    }
   ],
   "source": [
    "# calculating the correlation coefficient\n",
    "# we need to pass the transposed array\n",
    "np.corrcoef(array.T) # creates correlation matrix"
   ]
  },
  {
   "cell_type": "code",
   "execution_count": 78,
   "id": "cf836800-7366-4ed8-877e-b5c2fd2960fb",
   "metadata": {},
   "outputs": [
    {
     "data": {
      "text/plain": [
       "np.float64(0.8001327462030162)"
      ]
     },
     "execution_count": 78,
     "metadata": {},
     "output_type": "execute_result"
    }
   ],
   "source": [
    "# calculating the correlation coefficient\n",
    "# we need to pass the transposed array\n",
    "np.corrcoef(array.T)[0, 1] # correlation between the two variables"
   ]
  },
  {
   "cell_type": "code",
   "execution_count": 79,
   "id": "e2928d69-30ae-417b-a056-3aa1cfba4cd6",
   "metadata": {},
   "outputs": [
    {
     "data": {
      "text/plain": [
       "235"
      ]
     },
     "execution_count": 79,
     "metadata": {},
     "output_type": "execute_result"
    }
   ],
   "source": [
    "size = array.shape[0] # saving the number of observations\n",
    "size"
   ]
  },
  {
   "cell_type": "markdown",
   "id": "45edba3f-c23c-408f-8b0e-96ec00f2094f",
   "metadata": {},
   "source": [
    "#### __One Bootstrap Sample__"
   ]
  },
  {
   "cell_type": "markdown",
   "id": "2c94b83f-9a66-40c2-b1c1-5fab99ff457e",
   "metadata": {},
   "source": [
    "Let's start with __one bootstrap sample__. One bootstrap sample consists of 235 observations that can be extracted from out data. We randomly select 235 movies from our data with replacements. This means some movies might appear two or three times or even more often in our sample."
   ]
  },
  {
   "cell_type": "code",
   "execution_count": 80,
   "id": "dec8c1f2-ce72-4900-8e4a-00d48813faa4",
   "metadata": {},
   "outputs": [],
   "source": [
    "np.random.seed(123) # setting a random seed to 123\n",
    "# first creating index positions from 0 to 234 (235 exclusive, 235=size)\n",
    "# index positions will get selected with replacements so we'll have duplicates\n",
    "indxs = np.random.randint(low = 0, high = size, size = size)"
   ]
  },
  {
   "cell_type": "code",
   "execution_count": 81,
   "id": "35ff432f-3502-4f15-b8d6-6dce8927b29a",
   "metadata": {},
   "outputs": [
    {
     "data": {
      "text/plain": [
       "array([109, 126,  66, 220,  98, 230,  17,  83, 106, 123,  57, 214, 225,\n",
       "        96, 113, 126,  47,  73,  32, 174, 224, 111, 153,  83,  78, 164,\n",
       "        96, 208,  68,  49,  55, 195,   2,  84,  39,  66,  84,  47, 189,\n",
       "       176, 135, 105,  99, 124,  92, 180, 102,  97, 213, 118,  94, 155,\n",
       "        34, 225,  76, 168, 131, 106,  69,  64,  75, 162,  58, 138,  22,\n",
       "       205, 146, 228,  15, 155, 158, 180,  70, 109, 115, 154, 208, 134,\n",
       "        14, 103, 203, 182, 199, 129,  43, 186, 101, 183,  25, 178, 212,\n",
       "        56,  49,  12,  18, 209,   1,  51, 172, 117, 233,  48,  56, 219,\n",
       "       177,  86,   3,  67, 139, 149, 217, 103, 233,  98,   3, 139,   3,\n",
       "       222,   6,   9,  87,  14, 230, 211, 121, 198, 140, 182,  27,  38,\n",
       "       145, 189, 110,  74,  99, 116,  99, 193,  47,  16, 133, 104, 109,\n",
       "        86,  46,  15,  59,  40, 153,  45, 177,   0, 163, 157, 129, 211,\n",
       "        68, 158, 135,  93, 230,  60,  65, 116, 204,  67,  44,  51, 135,\n",
       "       230,  88, 198, 141, 156, 108,  63,  84, 164, 119, 224, 121, 168,\n",
       "       216, 116, 191,  58,  77,   8, 206, 134,  65, 222, 198,  40, 119,\n",
       "       202,  76, 204, 153, 234, 123, 135,  13, 172,   1, 169, 206, 184,\n",
       "       215,  63, 225,   3,  17,  88, 215, 197,  97,  50, 101, 130, 146,\n",
       "        46,  45, 185, 163,  18, 219, 174, 182,  73, 209,  62, 195, 139,\n",
       "       154])"
      ]
     },
     "execution_count": 81,
     "metadata": {},
     "output_type": "execute_result"
    }
   ],
   "source": [
    "indxs"
   ]
  },
  {
   "cell_type": "code",
   "execution_count": 82,
   "id": "27d58b28-c0fd-4346-801f-bee9e90b78ab",
   "metadata": {},
   "outputs": [
    {
     "data": {
      "text/plain": [
       "array([[ 180.  ,  356.74],\n",
       "       [  18.7 ,   74.  ],\n",
       "       [  20.  ,   55.03],\n",
       "       [  30.  ,    2.35],\n",
       "       [ 200.  , 1028.57],\n",
       "       [  40.  ,  312.24],\n",
       "       [   0.  ,    0.  ],\n",
       "       [ 178.  ,  543.93],\n",
       "       [   0.52,    1.01],\n",
       "       [   3.5 ,    3.77],\n",
       "       [   3.2 ,    4.27],\n",
       "       [  30.  ,  445.44],\n",
       "       [ 110.  ,  303.14],\n",
       "       [   3.5 ,    1.49],\n",
       "       [  33.  ,   77.07],\n",
       "       [  18.7 ,   74.  ],\n",
       "       [  15.  ,  108.29],\n",
       "       [  16.5 ,    0.02],\n",
       "       [  20.  ,   46.07],\n",
       "       [ 125.  ,  346.86],\n",
       "       [ 125.  ,   64.49],\n",
       "       [   5.  ,    5.88],\n",
       "       [  90.  ,  162.36],\n",
       "       [ 178.  ,  543.93],\n",
       "       [  73.  ,  349.78],\n",
       "       [   7.5 ,    9.1 ],\n",
       "       [   3.5 ,    1.49],\n",
       "       [   4.3 ,    3.38],\n",
       "       [  15.  ,   20.57],\n",
       "       [   4.  ,   13.62],\n",
       "       [  10.  ,    3.4 ],\n",
       "       [  17.  ,   42.49],\n",
       "       [  10.  ,   40.06],\n",
       "       [   2.  ,    0.34],\n",
       "       [  23.  ,   46.15],\n",
       "       [  20.  ,   55.03],\n",
       "       [   2.  ,    0.34],\n",
       "       [  15.  ,  108.29],\n",
       "       [   8.  ,    0.08],\n",
       "       [  10.  ,    6.27],\n",
       "       [  65.  ,  143.7 ],\n",
       "       [  10.  ,    0.  ],\n",
       "       [   5.98,   14.9 ],\n",
       "       [   4.9 ,  148.87],\n",
       "       [  20.  ,  207.95],\n",
       "       [  60.  ,  162.15],\n",
       "       [ 105.  ,  408.58],\n",
       "       [  50.  ,  216.97],\n",
       "       [  35.  ,   81.09],\n",
       "       [  25.  ,   15.44],\n",
       "       [   7.  ,    1.33],\n",
       "       [   5.  ,   45.17],\n",
       "       [  20.  ,   12.64],\n",
       "       [ 110.  ,  303.14],\n",
       "       [  29.  ,   48.9 ],\n",
       "       [   8.5 ,   19.99],\n",
       "       [  15.  ,   77.  ],\n",
       "       [   0.52,    1.01],\n",
       "       [  20.  ,   14.4 ],\n",
       "       [  16.  ,   29.25],\n",
       "       [  10.  ,   15.  ],\n",
       "       [ 110.  ,  121.79],\n",
       "       [  10.  ,    1.98],\n",
       "       [  12.  ,   37.59],\n",
       "       [   0.33,    1.6 ],\n",
       "       [  26.  ,   17.78],\n",
       "       [   8.  ,    8.81],\n",
       "       [  38.  ,  118.03],\n",
       "       [   0.3 ,    2.1 ],\n",
       "       [   5.  ,   45.17],\n",
       "       [  70.  ,  182.38],\n",
       "       [  60.  ,  162.15],\n",
       "       [  30.  ,    4.21],\n",
       "       [ 180.  ,  356.74],\n",
       "       [  60.  ,    9.42],\n",
       "       [  35.  ,  211.95],\n",
       "       [   4.3 ,    3.38],\n",
       "       [  21.5 ,    4.81],\n",
       "       [  80.  ,   52.1 ],\n",
       "       [   3.  ,    4.21],\n",
       "       [  75.  ,  632.44],\n",
       "       [   9.  ,   81.71],\n",
       "       [   5.  ,    2.15],\n",
       "       [  20.  ,  183.94],\n",
       "       [   5.21,    5.9 ],\n",
       "       [   1.5 ,    2.  ],\n",
       "       [ 165.  ,  389.68],\n",
       "       [  40.  ,   29.92],\n",
       "       [  50.  ,   55.97],\n",
       "       [  30.  ,    8.57],\n",
       "       [  14.  ,   13.82],\n",
       "       [   5.  ,   23.51],\n",
       "       [   4.  ,   13.62],\n",
       "       [   3.5 ,    0.62],\n",
       "       [  13.5 ,    3.34],\n",
       "       [  12.  ,  140.3 ],\n",
       "       [   9.9 ,    2.4 ],\n",
       "       [   2.1 ,    0.28],\n",
       "       [   3.5 ,    4.1 ],\n",
       "       [  19.  ,  140.71],\n",
       "       [ 108.  ,   22.68],\n",
       "       [  18.5 ,    6.49],\n",
       "       [   5.  ,   23.51],\n",
       "       [  45.  ,   50.55],\n",
       "       [  44.  ,  155.16],\n",
       "       [ 160.  ,  433.68],\n",
       "       [   5.2 ,    9.2 ],\n",
       "       [  10.  ,   27.31],\n",
       "       [  40.  ,   86.23],\n",
       "       [  60.  ,  238.47],\n",
       "       [  36.  ,   87.42],\n",
       "       [   3.  ,    4.21],\n",
       "       [ 108.  ,   22.68],\n",
       "       [ 200.  , 1028.57],\n",
       "       [   5.2 ,    9.2 ],\n",
       "       [  40.  ,   86.23],\n",
       "       [   5.2 ,    9.2 ],\n",
       "       [ 150.  ,  331.96],\n",
       "       [  40.  ,  124.83],\n",
       "       [  38.  ,  112.34],\n",
       "       [ 170.  ,  299.37],\n",
       "       [  80.  ,   52.1 ],\n",
       "       [  40.  ,  312.24],\n",
       "       [  45.  ,  114.5 ],\n",
       "       [  10.5 ,    0.1 ],\n",
       "       [ 180.  ,  809.34],\n",
       "       [ 100.  ,   94.06],\n",
       "       [   9.  ,   81.71],\n",
       "       [  58.  ,  783.11],\n",
       "       [ 140.  ,  150.68],\n",
       "       [   0.76,    0.29],\n",
       "       [   8.  ,    0.08],\n",
       "       [   5.  ,   13.  ],\n",
       "       [  35.  ,  108.76],\n",
       "       [   5.98,   14.9 ],\n",
       "       [   4.53,   84.55],\n",
       "       [   5.98,   14.9 ],\n",
       "       [  47.  ,  203.39],\n",
       "       [  15.  ,  108.29],\n",
       "       [  20.  ,   21.16],\n",
       "       [  30.  ,   57.81],\n",
       "       [  17.  ,  119.1 ],\n",
       "       [ 180.  ,  356.74],\n",
       "       [ 160.  ,  433.68],\n",
       "       [ 110.  ,  179.25],\n",
       "       [   0.3 ,    2.1 ],\n",
       "       [ 115.  ,  164.6 ],\n",
       "       [   8.  ,    0.03],\n",
       "       [  90.  ,  162.36],\n",
       "       [  35.  ,   23.08],\n",
       "       [  44.  ,  155.16],\n",
       "       [  25.  ,    1.4 ],\n",
       "       [  25.  ,   29.2 ],\n",
       "       [  40.  ,   37.28],\n",
       "       [  20.  ,  183.94],\n",
       "       [  45.  ,  114.5 ],\n",
       "       [  15.  ,   20.57],\n",
       "       [  70.  ,  182.38],\n",
       "       [  65.  ,  143.7 ],\n",
       "       [  90.  ,  334.9 ],\n",
       "       [  40.  ,  312.24],\n",
       "       [ 175.  ,  966.55],\n",
       "       [   5.  ,    3.22],\n",
       "       [   4.53,   84.55],\n",
       "       [  25.  ,    3.89],\n",
       "       [  10.  ,   27.31],\n",
       "       [   6.7 ,   12.12],\n",
       "       [   2.1 ,    0.28],\n",
       "       [  65.  ,  143.7 ],\n",
       "       [  40.  ,  312.24],\n",
       "       [   3.  ,   14.02],\n",
       "       [ 180.  ,  809.34],\n",
       "       [  60.  ,   69.93],\n",
       "       [   1.5 ,    0.78],\n",
       "       [  10.  ,  118.59],\n",
       "       [  31.5 ,   14.71],\n",
       "       [   2.  ,    0.34],\n",
       "       [   7.5 ,    9.1 ],\n",
       "       [   3.54,    1.39],\n",
       "       [ 125.  ,   64.49],\n",
       "       [  10.5 ,    0.1 ],\n",
       "       [   8.5 ,   19.99],\n",
       "       [   9.  ,   13.96],\n",
       "       [   4.53,   84.55],\n",
       "       [   9.  ,    9.  ],\n",
       "       [  10.  ,    1.98],\n",
       "       [  30.  ,   43.76],\n",
       "       [  11.5 ,   94.07],\n",
       "       [ 150.  ,  643.03],\n",
       "       [  21.5 ,    4.81],\n",
       "       [   5.  ,    3.22],\n",
       "       [ 150.  ,  331.96],\n",
       "       [ 180.  ,  809.34],\n",
       "       [   8.  ,    0.03],\n",
       "       [   3.54,    1.39],\n",
       "       [   9.  ,   18.8 ],\n",
       "       [  29.  ,   48.9 ],\n",
       "       [  25.  ,    3.89],\n",
       "       [  90.  ,  162.36],\n",
       "       [   7.  ,    5.82],\n",
       "       [   3.5 ,    3.77],\n",
       "       [  65.  ,  143.7 ],\n",
       "       [ 145.  ,  521.17],\n",
       "       [   3.5 ,    4.1 ],\n",
       "       [   9.9 ,    2.4 ],\n",
       "       [   8.14,    1.86],\n",
       "       [ 150.  ,  643.03],\n",
       "       [   0.45,    2.3 ],\n",
       "       [   5.  ,    6.34],\n",
       "       [  31.5 ,   14.71],\n",
       "       [ 110.  ,  303.14],\n",
       "       [   5.2 ,    9.2 ],\n",
       "       [   0.  ,    0.  ],\n",
       "       [   3.  ,   14.02],\n",
       "       [   5.  ,    6.34],\n",
       "       [   9.  ,  276.92],\n",
       "       [  50.  ,  216.97],\n",
       "       [   2.5 ,    0.23],\n",
       "       [ 165.  ,  389.68],\n",
       "       [   0.2 ,    5.5 ],\n",
       "       [   8.  ,    8.81],\n",
       "       [ 110.  ,  179.25],\n",
       "       [  35.  ,   23.08],\n",
       "       [   4.  ,   65.05],\n",
       "       [  25.  ,   29.2 ],\n",
       "       [  13.5 ,    3.34],\n",
       "       [  45.  ,   50.55],\n",
       "       [ 125.  ,  346.86],\n",
       "       [   9.  ,   81.71],\n",
       "       [  16.5 ,    0.02],\n",
       "       [  12.  ,  140.3 ],\n",
       "       [  20.  ,    8.82],\n",
       "       [  17.  ,   42.49],\n",
       "       [  40.  ,   86.23],\n",
       "       [  35.  ,  211.95]])"
      ]
     },
     "execution_count": 82,
     "metadata": {},
     "output_type": "execute_result"
    }
   ],
   "source": [
    "# now we're indexing our numpy array\n",
    "array[indxs]"
   ]
  },
  {
   "cell_type": "code",
   "execution_count": 83,
   "id": "a7597c3f-f219-4d5d-8016-8fb7339fda51",
   "metadata": {},
   "outputs": [
    {
     "data": {
      "text/plain": [
       "np.float64(0.7981448204332644)"
      ]
     },
     "execution_count": 83,
     "metadata": {},
     "output_type": "execute_result"
    }
   ],
   "source": [
    "# calculating the correlation coefficient for the bootstrapped array\n",
    "# once again with a transpose of the array first\n",
    "np.corrcoef(array[indxs].T)[0, 1]"
   ]
  },
  {
   "cell_type": "code",
   "execution_count": 84,
   "id": "beb5cd42-8366-4d29-b44d-0dd9241383a6",
   "metadata": {},
   "outputs": [],
   "source": [
    "sims = 100000"
   ]
  },
  {
   "cell_type": "markdown",
   "id": "552fbb11-07e0-4c64-91b5-e59edc0f6da8",
   "metadata": {},
   "source": [
    "#### __Many Bootstrap Samples__"
   ]
  },
  {
   "cell_type": "markdown",
   "id": "38a8b100-f515-48d9-a082-3e7a7dcbb5cb",
   "metadata": {},
   "source": [
    "Repating the whole process 100.000 times with 100.000 simulations."
   ]
  },
  {
   "cell_type": "code",
   "execution_count": 85,
   "id": "aade1f20-2f5e-428e-9b8e-1262fd5ae0b1",
   "metadata": {},
   "outputs": [],
   "source": [
    "np.random.seed(123)\n",
    "# once again filling an index with random numbers 0 zero and 234 (included)\n",
    "# this time size * sims (235 * 100.000)\n",
    "# then we reshape it to a matrix with 100.000 rows and 235 columns\n",
    "indxs = np.random.randint(low = 0, high = size, size = size * sims).reshape(sims, size)"
   ]
  },
  {
   "cell_type": "code",
   "execution_count": 86,
   "id": "6d232c2a-32be-46ee-9888-ddaaf7b0de9f",
   "metadata": {},
   "outputs": [
    {
     "data": {
      "text/plain": [
       "(100000, 235)"
      ]
     },
     "execution_count": 86,
     "metadata": {},
     "output_type": "execute_result"
    }
   ],
   "source": [
    "indxs.shape"
   ]
  },
  {
   "cell_type": "code",
   "execution_count": 87,
   "id": "5244cb3a-61b8-4e16-a173-2856cc9dcd93",
   "metadata": {},
   "outputs": [
    {
     "data": {
      "text/plain": [
       "array([[109, 126,  66, ..., 195, 139, 154],\n",
       "       [ 92, 203, 138, ..., 233, 219,  79],\n",
       "       [112, 106, 219, ..., 130, 149,  84],\n",
       "       ...,\n",
       "       [ 19, 223,   3, ..., 141, 119,  27],\n",
       "       [ 17, 169,  87, ..., 223, 193, 150],\n",
       "       [193, 165, 230, ..., 133, 110, 163]])"
      ]
     },
     "execution_count": 87,
     "metadata": {},
     "output_type": "execute_result"
    }
   ],
   "source": [
    "indxs"
   ]
  },
  {
   "cell_type": "code",
   "execution_count": 88,
   "id": "bc1c3406-f51f-4572-90bf-9685f13357b3",
   "metadata": {},
   "outputs": [
    {
     "name": "stdout",
     "output_type": "stream",
     "text": [
      "[[ 180.    356.74]\n",
      " [  18.7    74.  ]\n",
      " [  20.     55.03]\n",
      " [  30.      2.35]\n",
      " [ 200.   1028.57]\n",
      " [  40.    312.24]\n",
      " [   0.      0.  ]\n",
      " [ 178.    543.93]\n",
      " [   0.52    1.01]\n",
      " [   3.5     3.77]\n",
      " [   3.2     4.27]\n",
      " [  30.    445.44]\n",
      " [ 110.    303.14]\n",
      " [   3.5     1.49]\n",
      " [  33.     77.07]\n",
      " [  18.7    74.  ]\n",
      " [  15.    108.29]\n",
      " [  16.5     0.02]\n",
      " [  20.     46.07]\n",
      " [ 125.    346.86]\n",
      " [ 125.     64.49]\n",
      " [   5.      5.88]\n",
      " [  90.    162.36]\n",
      " [ 178.    543.93]\n",
      " [  73.    349.78]\n",
      " [   7.5     9.1 ]\n",
      " [   3.5     1.49]\n",
      " [   4.3     3.38]\n",
      " [  15.     20.57]\n",
      " [   4.     13.62]\n",
      " [  10.      3.4 ]\n",
      " [  17.     42.49]\n",
      " [  10.     40.06]\n",
      " [   2.      0.34]\n",
      " [  23.     46.15]\n",
      " [  20.     55.03]\n",
      " [   2.      0.34]\n",
      " [  15.    108.29]\n",
      " [   8.      0.08]\n",
      " [  10.      6.27]\n",
      " [  65.    143.7 ]\n",
      " [  10.      0.  ]\n",
      " [   5.98   14.9 ]\n",
      " [   4.9   148.87]\n",
      " [  20.    207.95]\n",
      " [  60.    162.15]\n",
      " [ 105.    408.58]\n",
      " [  50.    216.97]\n",
      " [  35.     81.09]\n",
      " [  25.     15.44]\n",
      " [   7.      1.33]\n",
      " [   5.     45.17]\n",
      " [  20.     12.64]\n",
      " [ 110.    303.14]\n",
      " [  29.     48.9 ]\n",
      " [   8.5    19.99]\n",
      " [  15.     77.  ]\n",
      " [   0.52    1.01]\n",
      " [  20.     14.4 ]\n",
      " [  16.     29.25]\n",
      " [  10.     15.  ]\n",
      " [ 110.    121.79]\n",
      " [  10.      1.98]\n",
      " [  12.     37.59]\n",
      " [   0.33    1.6 ]\n",
      " [  26.     17.78]\n",
      " [   8.      8.81]\n",
      " [  38.    118.03]\n",
      " [   0.3     2.1 ]\n",
      " [   5.     45.17]\n",
      " [  70.    182.38]\n",
      " [  60.    162.15]\n",
      " [  30.      4.21]\n",
      " [ 180.    356.74]\n",
      " [  60.      9.42]\n",
      " [  35.    211.95]\n",
      " [   4.3     3.38]\n",
      " [  21.5     4.81]\n",
      " [  80.     52.1 ]\n",
      " [   3.      4.21]\n",
      " [  75.    632.44]\n",
      " [   9.     81.71]\n",
      " [   5.      2.15]\n",
      " [  20.    183.94]\n",
      " [   5.21    5.9 ]\n",
      " [   1.5     2.  ]\n",
      " [ 165.    389.68]\n",
      " [  40.     29.92]\n",
      " [  50.     55.97]\n",
      " [  30.      8.57]\n",
      " [  14.     13.82]\n",
      " [   5.     23.51]\n",
      " [   4.     13.62]\n",
      " [   3.5     0.62]\n",
      " [  13.5     3.34]\n",
      " [  12.    140.3 ]\n",
      " [   9.9     2.4 ]\n",
      " [   2.1     0.28]\n",
      " [   3.5     4.1 ]\n",
      " [  19.    140.71]\n",
      " [ 108.     22.68]\n",
      " [  18.5     6.49]\n",
      " [   5.     23.51]\n",
      " [  45.     50.55]\n",
      " [  44.    155.16]\n",
      " [ 160.    433.68]\n",
      " [   5.2     9.2 ]\n",
      " [  10.     27.31]\n",
      " [  40.     86.23]\n",
      " [  60.    238.47]\n",
      " [  36.     87.42]\n",
      " [   3.      4.21]\n",
      " [ 108.     22.68]\n",
      " [ 200.   1028.57]\n",
      " [   5.2     9.2 ]\n",
      " [  40.     86.23]\n",
      " [   5.2     9.2 ]\n",
      " [ 150.    331.96]\n",
      " [  40.    124.83]\n",
      " [  38.    112.34]\n",
      " [ 170.    299.37]\n",
      " [  80.     52.1 ]\n",
      " [  40.    312.24]\n",
      " [  45.    114.5 ]\n",
      " [  10.5     0.1 ]\n",
      " [ 180.    809.34]\n",
      " [ 100.     94.06]\n",
      " [   9.     81.71]\n",
      " [  58.    783.11]\n",
      " [ 140.    150.68]\n",
      " [   0.76    0.29]\n",
      " [   8.      0.08]\n",
      " [   5.     13.  ]\n",
      " [  35.    108.76]\n",
      " [   5.98   14.9 ]\n",
      " [   4.53   84.55]\n",
      " [   5.98   14.9 ]\n",
      " [  47.    203.39]\n",
      " [  15.    108.29]\n",
      " [  20.     21.16]\n",
      " [  30.     57.81]\n",
      " [  17.    119.1 ]\n",
      " [ 180.    356.74]\n",
      " [ 160.    433.68]\n",
      " [ 110.    179.25]\n",
      " [   0.3     2.1 ]\n",
      " [ 115.    164.6 ]\n",
      " [   8.      0.03]\n",
      " [  90.    162.36]\n",
      " [  35.     23.08]\n",
      " [  44.    155.16]\n",
      " [  25.      1.4 ]\n",
      " [  25.     29.2 ]\n",
      " [  40.     37.28]\n",
      " [  20.    183.94]\n",
      " [  45.    114.5 ]\n",
      " [  15.     20.57]\n",
      " [  70.    182.38]\n",
      " [  65.    143.7 ]\n",
      " [  90.    334.9 ]\n",
      " [  40.    312.24]\n",
      " [ 175.    966.55]\n",
      " [   5.      3.22]\n",
      " [   4.53   84.55]\n",
      " [  25.      3.89]\n",
      " [  10.     27.31]\n",
      " [   6.7    12.12]\n",
      " [   2.1     0.28]\n",
      " [  65.    143.7 ]\n",
      " [  40.    312.24]\n",
      " [   3.     14.02]\n",
      " [ 180.    809.34]\n",
      " [  60.     69.93]\n",
      " [   1.5     0.78]\n",
      " [  10.    118.59]\n",
      " [  31.5    14.71]\n",
      " [   2.      0.34]\n",
      " [   7.5     9.1 ]\n",
      " [   3.54    1.39]\n",
      " [ 125.     64.49]\n",
      " [  10.5     0.1 ]\n",
      " [   8.5    19.99]\n",
      " [   9.     13.96]\n",
      " [   4.53   84.55]\n",
      " [   9.      9.  ]\n",
      " [  10.      1.98]\n",
      " [  30.     43.76]\n",
      " [  11.5    94.07]\n",
      " [ 150.    643.03]\n",
      " [  21.5     4.81]\n",
      " [   5.      3.22]\n",
      " [ 150.    331.96]\n",
      " [ 180.    809.34]\n",
      " [   8.      0.03]\n",
      " [   3.54    1.39]\n",
      " [   9.     18.8 ]\n",
      " [  29.     48.9 ]\n",
      " [  25.      3.89]\n",
      " [  90.    162.36]\n",
      " [   7.      5.82]\n",
      " [   3.5     3.77]\n",
      " [  65.    143.7 ]\n",
      " [ 145.    521.17]\n",
      " [   3.5     4.1 ]\n",
      " [   9.9     2.4 ]\n",
      " [   8.14    1.86]\n",
      " [ 150.    643.03]\n",
      " [   0.45    2.3 ]\n",
      " [   5.      6.34]\n",
      " [  31.5    14.71]\n",
      " [ 110.    303.14]\n",
      " [   5.2     9.2 ]\n",
      " [   0.      0.  ]\n",
      " [   3.     14.02]\n",
      " [   5.      6.34]\n",
      " [   9.    276.92]\n",
      " [  50.    216.97]\n",
      " [   2.5     0.23]\n",
      " [ 165.    389.68]\n",
      " [   0.2     5.5 ]\n",
      " [   8.      8.81]\n",
      " [ 110.    179.25]\n",
      " [  35.     23.08]\n",
      " [   4.     65.05]\n",
      " [  25.     29.2 ]\n",
      " [  13.5     3.34]\n",
      " [  45.     50.55]\n",
      " [ 125.    346.86]\n",
      " [   9.     81.71]\n",
      " [  16.5     0.02]\n",
      " [  12.    140.3 ]\n",
      " [  20.      8.82]\n",
      " [  17.     42.49]\n",
      " [  40.     86.23]\n",
      " [  35.    211.95]]\n",
      "[[  20.    207.95]\n",
      " [  75.    632.44]\n",
      " [  12.     37.59]\n",
      " [  15.     77.  ]\n",
      " [  35.     23.08]\n",
      " [   8.82    2.13]\n",
      " [   1.5     2.  ]\n",
      " [ 165.    677.72]\n",
      " [  10.     30.66]\n",
      " [  50.     55.97]\n",
      " [  58.    783.11]\n",
      " [   4.     65.05]\n",
      " [   5.     13.  ]\n",
      " [   5.2     9.2 ]\n",
      " [   5.98   14.9 ]\n",
      " [ 150.    643.03]\n",
      " [   9.8     2.34]\n",
      " [ 165.    677.72]\n",
      " [  10.      6.27]\n",
      " [   5.     23.51]\n",
      " [   5.      6.34]\n",
      " [ 170.    299.37]\n",
      " [  75.    875.46]\n",
      " [ 175.    745.6 ]\n",
      " [  20.     14.4 ]\n",
      " [  10.4   102.  ]\n",
      " [   5.     23.51]\n",
      " [ 175.    966.55]\n",
      " [   9.      4.6 ]\n",
      " [  40.     30.93]\n",
      " [  46.     23.74]\n",
      " [ 110.    296.49]\n",
      " [  20.     14.4 ]\n",
      " [   4.9   148.87]\n",
      " [   9.      4.6 ]\n",
      " [  25.     23.96]\n",
      " [   5.      0.44]\n",
      " [  20.     55.03]\n",
      " [  10.     64.19]\n",
      " [  38.    118.03]\n",
      " [   5.2     9.2 ]\n",
      " [  10.      6.27]\n",
      " [   5.2     9.2 ]\n",
      " [  22.     63.65]\n",
      " [  45.     50.55]\n",
      " [  40.     29.92]\n",
      " [  20.     12.64]\n",
      " [  35.     25.18]\n",
      " [   4.     13.62]\n",
      " [ 170.    299.37]\n",
      " [   9.8     2.34]\n",
      " [  90.    162.36]\n",
      " [   0.76    0.29]\n",
      " [   1.5     2.  ]\n",
      " [  40.     30.93]\n",
      " [  35.     23.08]\n",
      " [  10.     64.19]\n",
      " [  15.05   16.18]\n",
      " [ 125.     64.49]\n",
      " [  50.     55.97]\n",
      " [   5.98   14.9 ]\n",
      " [  10.     27.31]\n",
      " [  60.      9.42]\n",
      " [   5.      3.22]\n",
      " [  38.    109.91]\n",
      " [ 180.    809.34]\n",
      " [   5.98   14.9 ]\n",
      " [ 110.    303.14]\n",
      " [  45.    173.19]\n",
      " [  13.      3.5 ]\n",
      " [  30.      2.35]\n",
      " [  10.      4.07]\n",
      " [  30.     57.81]\n",
      " [   9.      4.6 ]\n",
      " [   8.5    19.99]\n",
      " [ 108.     22.68]\n",
      " [  15.     20.57]\n",
      " [   5.      6.34]\n",
      " [  10.4   310.  ]\n",
      " [  60.    238.47]\n",
      " [ 135.    245.62]\n",
      " [   2.5     0.23]\n",
      " [   7.5     9.1 ]\n",
      " [   6.7    12.12]\n",
      " [  20.    207.95]\n",
      " [  20.      7.23]\n",
      " [ 178.    543.93]\n",
      " [   4.     10.9 ]\n",
      " [  50.    102.21]\n",
      " [  19.     85.24]\n",
      " [  10.    118.59]\n",
      " [  29.     78.64]\n",
      " [  17.    119.1 ]\n",
      " [  80.     52.1 ]\n",
      " [ 150.    643.03]\n",
      " [  22.     63.65]\n",
      " [  20.      8.82]\n",
      " [   1.5     0.78]\n",
      " [  19.    140.71]\n",
      " [  40.    320.17]\n",
      " [   5.      6.7 ]\n",
      " [  18.7    74.  ]\n",
      " [   9.9   157.1 ]\n",
      " [  44.    155.16]\n",
      " [   4.3     3.38]\n",
      " [  19.     85.24]\n",
      " [   2.      0.34]\n",
      " [  25.    230.7 ]\n",
      " [  19.    140.71]\n",
      " [  50.     69.41]\n",
      " [  60.    238.47]\n",
      " [  20.     46.07]\n",
      " [  45.    173.19]\n",
      " [  20.    183.94]\n",
      " [ 200.   1028.57]\n",
      " [   0.52    1.01]\n",
      " [  13.      3.5 ]\n",
      " [   3.      4.21]\n",
      " [   8.57    1.98]\n",
      " [   3.      4.21]\n",
      " [  25.     29.2 ]\n",
      " [  10.      1.98]\n",
      " [  10.      4.07]\n",
      " [   9.9     2.4 ]\n",
      " [  10.4   310.  ]\n",
      " [  60.    162.15]\n",
      " [   0.76    0.29]\n",
      " [   8.      0.29]\n",
      " [   0.33    1.6 ]\n",
      " [ 250.    873.26]\n",
      " [  36.     87.42]\n",
      " [  35.    108.76]\n",
      " [ 120.    415.48]\n",
      " [   3.5    40.42]\n",
      " [  33.     77.07]\n",
      " [ 178.    543.93]\n",
      " [   7.      1.33]\n",
      " [ 250.   1153.3 ]\n",
      " [  23.     46.15]\n",
      " [ 170.    299.37]\n",
      " [ 178.    543.93]\n",
      " [  25.     15.44]\n",
      " [  73.    349.78]\n",
      " [ 150.   1023.78]\n",
      " [   0.3     2.5 ]\n",
      " [  35.     25.18]\n",
      " [   9.9     2.4 ]\n",
      " [  30.     57.81]\n",
      " [  10.      0.  ]\n",
      " [   4.     10.9 ]\n",
      " [  25.     29.2 ]\n",
      " [  30.     43.76]\n",
      " [  50.     55.97]\n",
      " [  50.    216.97]\n",
      " [  19.    140.71]\n",
      " [ 200.   1056.06]\n",
      " [ 180.    809.34]\n",
      " [   1.5     2.  ]\n",
      " [  40.     37.28]\n",
      " [   4.     10.9 ]\n",
      " [  60.    238.47]\n",
      " [   3.8     1.02]\n",
      " [  14.      3.62]\n",
      " [  40.     29.92]\n",
      " [   4.3     3.38]\n",
      " [  70.    182.38]\n",
      " [   3.5     0.62]\n",
      " [   8.57    1.98]\n",
      " [  45.    114.5 ]\n",
      " [   3.8     1.02]\n",
      " [  20.    207.95]\n",
      " [ 140.    150.68]\n",
      " [ 200.   1028.57]\n",
      " [  38.    109.91]\n",
      " [   0.52    1.01]\n",
      " [  12.82    6.1 ]\n",
      " [  80.     52.1 ]\n",
      " [  33.     77.07]\n",
      " [ 120.    415.48]\n",
      " [ 125.     64.49]\n",
      " [   0.2     5.5 ]\n",
      " [  40.    312.24]\n",
      " [  35.     25.18]\n",
      " [  75.    220.02]\n",
      " [  20.      8.82]\n",
      " [   8.      0.08]\n",
      " [  80.     52.1 ]\n",
      " [  29.     78.64]\n",
      " [   4.9   148.87]\n",
      " [  10.      0.  ]\n",
      " [   4.     10.9 ]\n",
      " [  35.     25.18]\n",
      " [ 150.    331.96]\n",
      " [  20.     25.96]\n",
      " [   1.5     2.  ]\n",
      " [  40.    124.83]\n",
      " [  75.    875.46]\n",
      " [  25.    230.7 ]\n",
      " [ 250.   1153.3 ]\n",
      " [  30.     43.76]\n",
      " [  73.    349.78]\n",
      " [ 180.    809.34]\n",
      " [ 125.     64.49]\n",
      " [   2.1     0.28]\n",
      " [  50.    216.97]\n",
      " [   5.2     9.2 ]\n",
      " [ 120.    415.48]\n",
      " [  17.    119.1 ]\n",
      " [  18.7    74.  ]\n",
      " [  18.7    74.  ]\n",
      " [  30.     43.76]\n",
      " [   7.      1.33]\n",
      " [  12.82    6.1 ]\n",
      " [  33.     77.07]\n",
      " [  16.     73.88]\n",
      " [ 178.    543.93]\n",
      " [  10.     40.06]\n",
      " [ 125.    240.7 ]\n",
      " [ 125.     64.49]\n",
      " [  80.     52.1 ]\n",
      " [  10.     40.06]\n",
      " [ 140.    183.35]\n",
      " [  25.    230.7 ]\n",
      " [   5.     13.  ]\n",
      " [  15.     10.37]\n",
      " [  13.      3.5 ]\n",
      " [  40.     29.92]\n",
      " [  10.5     0.1 ]\n",
      " [  20.     46.07]\n",
      " [  70.    182.38]\n",
      " [   5.2     9.2 ]\n",
      " [  24.     64.41]\n",
      " [ 108.     22.68]\n",
      " [  45.     50.55]\n",
      " [  27.     93.28]]\n"
     ]
    }
   ],
   "source": [
    "for i in range(2):\n",
    "    print(array[indxs[i]])"
   ]
  },
  {
   "cell_type": "code",
   "execution_count": 89,
   "id": "0e27b9bf-73f2-4714-80d6-0bc730ad6dbf",
   "metadata": {},
   "outputs": [],
   "source": [
    "# for each of the 100.000 arrays (our rows) in index we're creating our bootstrap sample with array[indxs[i]]\n",
    "# then we're calculating the correlation coefficient for each bootstrapped array\n",
    "corr = [] # list to store all correlation coefficients\n",
    "for i in range(sims):\n",
    "    corr.append(np.corrcoef(array[indxs[i]].T)[0, 1])"
   ]
  },
  {
   "cell_type": "code",
   "execution_count": 90,
   "id": "56c6488f-961f-4bb9-93ab-606dc0204c2d",
   "metadata": {},
   "outputs": [
    {
     "data": {
      "text/plain": [
       "[np.float64(0.7981448204332644),\n",
       " np.float64(0.8191044990560746),\n",
       " np.float64(0.8237491882953752),\n",
       " np.float64(0.7714744355222747),\n",
       " np.float64(0.7646349094333265),\n",
       " np.float64(0.7458451512909035),\n",
       " np.float64(0.7949066424345488),\n",
       " np.float64(0.7774860985514475),\n",
       " np.float64(0.7870927128777789),\n",
       " np.float64(0.762423137843418),\n",
       " np.float64(0.8027592932895116),\n",
       " np.float64(0.7317052227235344),\n",
       " np.float64(0.7911832825191357),\n",
       " np.float64(0.859937865428973),\n",
       " np.float64(0.8050415397815204),\n",
       " np.float64(0.7693562131102887),\n",
       " np.float64(0.7798866358760902),\n",
       " np.float64(0.7883171129185053),\n",
       " np.float64(0.8110164433562935),\n",
       " np.float64(0.7624187786892056)]"
      ]
     },
     "execution_count": 90,
     "metadata": {},
     "output_type": "execute_result"
    }
   ],
   "source": [
    "corr[:20] # showing first 20 only"
   ]
  },
  {
   "cell_type": "code",
   "execution_count": 91,
   "id": "f2c7c5ae-ea5c-48c2-ab78-ee13deb867ad",
   "metadata": {},
   "outputs": [
    {
     "data": {
      "text/plain": [
       "100000"
      ]
     },
     "execution_count": 91,
     "metadata": {},
     "output_type": "execute_result"
    }
   ],
   "source": [
    "len(corr)"
   ]
  },
  {
   "cell_type": "code",
   "execution_count": 92,
   "id": "cf01c814-83d2-4bd0-bc7f-7c3c2d09d0bf",
   "metadata": {},
   "outputs": [
    {
     "data": {
      "image/png": "[encoded data removed]",
      "text/plain": [
       "<Figure size 1500x1000 with 1 Axes>"
      ]
     },
     "metadata": {},
     "output_type": "display_data"
    }
   ],
   "source": [
    "# visualizing the bootstapped correlations // visualizing the distribution\n",
    "plt.figure(figsize = (15, 10))\n",
    "plt.hist(corr, bins = 500)\n",
    "plt.show()"
   ]
  },
  {
   "cell_type": "code",
   "execution_count": 93,
   "id": "bb2b7b8c-2c5d-49e2-81ea-72eb43025620",
   "metadata": {},
   "outputs": [
    {
     "data": {
      "text/plain": [
       "np.float64(0.5778957658085604)"
      ]
     },
     "execution_count": 93,
     "metadata": {},
     "output_type": "execute_result"
    }
   ],
   "source": [
    "np.min(corr) # minimum correlation coefficient of the 100.000 bootstrap samples"
   ]
  },
  {
   "cell_type": "markdown",
   "id": "e3b51b37-51bc-4306-b006-e8471757d93b",
   "metadata": {},
   "source": [
    "#### __95% Confidence Interval Estimate__"
   ]
  },
  {
   "cell_type": "markdown",
   "id": "031d5139-3f09-4d6f-b2d5-ce3f982a7203",
   "metadata": {},
   "source": [
    "Creating the 95% confidence interval estimate with np.percentile(), passing in the list of coefficients and a confidence intervall that goes from the 2.5th percentile to the 97.5th percentile."
   ]
  },
  {
   "cell_type": "code",
   "execution_count": 94,
   "id": "48487114-9cbf-4aaf-98d7-d1bdb25f8310",
   "metadata": {},
   "outputs": [
    {
     "data": {
      "text/plain": [
       "array([0.72, 0.86])"
      ]
     },
     "execution_count": 94,
     "metadata": {},
     "output_type": "execute_result"
    }
   ],
   "source": [
    "np.percentile(corr, [2.5, 97.5])"
   ]
  },
  {
   "cell_type": "markdown",
   "id": "bf100819-552f-49f6-80a6-d9d57bc31b94",
   "metadata": {},
   "source": [
    "***The result is an array with the values [0.72, 0.86], which means we can be 95% confident that the true correlation coefficient between budget and revenue is between 0.72 and 0.86. So we're having a clearly positive relationship.***"
   ]
  },
  {
   "cell_type": "markdown",
   "id": "6a2bc920-c138-4fe1-97c1-4945f9d9f3a3",
   "metadata": {},
   "source": [
    "### Testing for Correlation (t-Test)"
   ]
  },
  {
   "cell_type": "markdown",
   "id": "7bc1fc05-944d-4492-aef8-d2ba9995e829",
   "metadata": {},
   "source": [
    "We're going to perform a hypothesis test to verify wether there is a significant correlation between budget and revenue. The test we're going to perform is a __t-test__ where we have a __null-Hypothesis H0__ that assumes that the correlation is equal to zero and an __alternative Hypothesis H1__ which assumes that the correlation is unequal to zero (meaning that there is a significant relationship between budget and revenue). In order to draw the conclusion that the alternative Hypothesis H1 is correct, we have to reject the null-Hypothesis H0."
   ]
  },
  {
   "cell_type": "markdown",
   "id": "9436baaa-2fc1-4b8d-a968-a99c63a750ea",
   "metadata": {},
   "source": [
    "Calculate the __Correlation Coefficient__ (r) between __Movie Budgets__ and __Movie Revenues__ (for Movies released in 2016) and __test on a 5% significance level__, whether there is a linear relationship (H0: r == 0). "
   ]
  },
  {
   "cell_type": "markdown",
   "id": "9c490757-47e2-4bd3-9f8d-cc07392eca99",
   "metadata": {},
   "source": [
    "Given the assumption that there's no relationship, the t-test indicates the propability that we get a correlation coefficient at least as extreme as the one in our sample with 235 movies. This propability is the so called __p-value__. A very low p-value leads to the rejection of the null-hypothesis and the conclusion that there is a significant linear relationship."
   ]
  },
  {
   "cell_type": "code",
   "execution_count": 95,
   "id": "13e285e5-a62d-4662-89de-a96a50b039bf",
   "metadata": {},
   "outputs": [
    {
     "data": {
      "text/html": [
       "<div>\n",
       "<style scoped>\n",
       "    .dataframe tbody tr th:only-of-type {\n",
       "        vertical-align: middle;\n",
       "    }\n",
       "\n",
       "    .dataframe tbody tr th {\n",
       "        vertical-align: top;\n",
       "    }\n",
       "\n",
       "    .dataframe thead th {\n",
       "        text-align: right;\n",
       "    }\n",
       "</style>\n",
       "<table border=\"1\" class=\"dataframe\">\n",
       "  <thead>\n",
       "    <tr style=\"text-align: right;\">\n",
       "      <th></th>\n",
       "      <th>title</th>\n",
       "      <th>budget</th>\n",
       "      <th>revenue</th>\n",
       "    </tr>\n",
       "    <tr>\n",
       "      <th>release_date</th>\n",
       "      <th></th>\n",
       "      <th></th>\n",
       "      <th></th>\n",
       "    </tr>\n",
       "  </thead>\n",
       "  <tbody>\n",
       "    <tr>\n",
       "      <th>2016-01-01</th>\n",
       "      <td>Jane Got a Gun</td>\n",
       "      <td>25.0</td>\n",
       "      <td>1.397284</td>\n",
       "    </tr>\n",
       "    <tr>\n",
       "      <th>2016-01-07</th>\n",
       "      <td>Friend Request</td>\n",
       "      <td>9.9</td>\n",
       "      <td>2.400000</td>\n",
       "    </tr>\n",
       "    <tr>\n",
       "      <th>2016-01-07</th>\n",
       "      <td>The Forest</td>\n",
       "      <td>10.0</td>\n",
       "      <td>40.055439</td>\n",
       "    </tr>\n",
       "    <tr>\n",
       "      <th>2016-01-07</th>\n",
       "      <td>Wazir</td>\n",
       "      <td>5.2</td>\n",
       "      <td>9.200000</td>\n",
       "    </tr>\n",
       "    <tr>\n",
       "      <th>2016-01-13</th>\n",
       "      <td>13 Hours: The Secret Soldiers of Benghazi</td>\n",
       "      <td>50.0</td>\n",
       "      <td>69.411370</td>\n",
       "    </tr>\n",
       "    <tr>\n",
       "      <th>...</th>\n",
       "      <td>...</td>\n",
       "      <td>...</td>\n",
       "      <td>...</td>\n",
       "    </tr>\n",
       "    <tr>\n",
       "      <th>2016-12-23</th>\n",
       "      <td>Resident Evil: The Final Chapter</td>\n",
       "      <td>40.0</td>\n",
       "      <td>312.242626</td>\n",
       "    </tr>\n",
       "    <tr>\n",
       "      <th>2016-12-23</th>\n",
       "      <td>Railroad Tigers</td>\n",
       "      <td>50.0</td>\n",
       "      <td>102.205175</td>\n",
       "    </tr>\n",
       "    <tr>\n",
       "      <th>2016-12-23</th>\n",
       "      <td>Dangal</td>\n",
       "      <td>10.4</td>\n",
       "      <td>310.000000</td>\n",
       "    </tr>\n",
       "    <tr>\n",
       "      <th>2016-12-25</th>\n",
       "      <td>Live by Night</td>\n",
       "      <td>108.0</td>\n",
       "      <td>22.678555</td>\n",
       "    </tr>\n",
       "    <tr>\n",
       "      <th>2016-12-25</th>\n",
       "      <td>20th Century Women</td>\n",
       "      <td>7.0</td>\n",
       "      <td>5.816211</td>\n",
       "    </tr>\n",
       "  </tbody>\n",
       "</table>\n",
       "<p>235 rows × 3 columns</p>\n",
       "</div>"
      ],
      "text/plain": [
       "                                                  title  budget     revenue\n",
       "release_date                                                               \n",
       "2016-01-01                               Jane Got a Gun    25.0    1.397284\n",
       "2016-01-07                               Friend Request     9.9    2.400000\n",
       "2016-01-07                                   The Forest    10.0   40.055439\n",
       "2016-01-07                                        Wazir     5.2    9.200000\n",
       "2016-01-13    13 Hours: The Secret Soldiers of Benghazi    50.0   69.411370\n",
       "...                                                 ...     ...         ...\n",
       "2016-12-23             Resident Evil: The Final Chapter    40.0  312.242626\n",
       "2016-12-23                              Railroad Tigers    50.0  102.205175\n",
       "2016-12-23                                       Dangal    10.4  310.000000\n",
       "2016-12-25                                Live by Night   108.0   22.678555\n",
       "2016-12-25                           20th Century Women     7.0    5.816211\n",
       "\n",
       "[235 rows x 3 columns]"
      ]
     },
     "execution_count": 95,
     "metadata": {},
     "output_type": "execute_result"
    }
   ],
   "source": [
    "df # still the same dataframe"
   ]
  },
  {
   "cell_type": "markdown",
   "id": "d334d20f-332e-4980-94c3-e3c447df5b89",
   "metadata": {},
   "source": [
    "__H0: r == 0__ <br>\n",
    "__Ha: r != 0__"
   ]
  },
  {
   "cell_type": "markdown",
   "id": "88c9caa2-07d9-4a1e-8778-ecade240b147",
   "metadata": {},
   "source": [
    "#### __scipy.stats.pearsonr: Pearson correlation coefficient and p-value for testing non-correlation.__\n",
    "\n",
    "The Pearson correlation coefficient measures the linear relationship between two datasets. Like other correlation coefficients, this one varies between -1 and +1 with 0 implying no correlation. Correlations of -1 or +1 imply an exact linear relationship. Positive correlations imply that as x increases, so does y. Negative correlations imply that as x increases, y decreases.\n",
    "\n",
    "This function also performs a ***test of the null hypothesis that the distributions underlying the samples are uncorrelated and normally distributed***. The ***p-value roughly indicates the probability of an uncorrelated system producing datasets** that have a Pearson correlation at least as extreme as the one computed from these datasets (https://docs.scipy.org/doc/scipy/reference/generated/scipy.stats.pearsonr.html)."
   ]
  },
  {
   "cell_type": "code",
   "execution_count": 96,
   "id": "c2d035b6-b1c5-4b51-9a7c-a33c5ea49816",
   "metadata": {},
   "outputs": [],
   "source": [
    "# working with the pearson correlation coefficient from scipy.stats\n",
    "r, p_value = stats.pearsonr(df.budget, df.revenue)"
   ]
  },
  {
   "cell_type": "code",
   "execution_count": 97,
   "id": "26947691-4ebe-47b9-97e2-55051017a3f4",
   "metadata": {},
   "outputs": [
    {
     "data": {
      "text/plain": [
       "np.float64(0.8001327462030163)"
      ]
     },
     "execution_count": 97,
     "metadata": {},
     "output_type": "execute_result"
    }
   ],
   "source": [
    "r "
   ]
  },
  {
   "cell_type": "code",
   "execution_count": 98,
   "id": "40be80f4-4182-4053-b6d6-5385cf9d4987",
   "metadata": {},
   "outputs": [
    {
     "data": {
      "text/plain": [
       "np.float64(1.238743107524095e-53)"
      ]
     },
     "execution_count": 98,
     "metadata": {},
     "output_type": "execute_result"
    }
   ],
   "source": [
    "p_value # very low; close to zero"
   ]
  },
  {
   "cell_type": "markdown",
   "id": "5887344c-e870-4d6f-837f-5845b11c3c30",
   "metadata": {},
   "source": [
    "***Interpretaion: given the assumption that the correlation is zero (H0), it is almost zero percent likely (p-value) the this assumption is true and we therefore can reject the zero-Hypothesis and conclude that there is a significant relationship.***"
   ]
  },
  {
   "cell_type": "code",
   "execution_count": null,
   "id": "ab4a3c65-9bb9-424d-80ba-3cb637a5114a",
   "metadata": {},
   "outputs": [],
   "source": []
  }
 ],
 "metadata": {
  "kernelspec": {
   "display_name": "Python 3 (ipykernel)",
   "language": "python",
   "name": "python3"
  },
  "language_info": {
   "codemirror_mode": {
    "name": "ipython",
    "version": 3
   },
   "file_extension": ".py",
   "mimetype": "text/x-python",
   "name": "python",
   "nbconvert_exporter": "python",
   "pygments_lexer": "ipython3",
   "version": "3.12.7"
  }
 },
 "nbformat": 4,
 "nbformat_minor": 5
}
