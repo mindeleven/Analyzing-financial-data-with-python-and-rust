{
 "cells": [
  {
   "cell_type": "markdown",
   "id": "8fbfa1cb-6d29-44db-8f74-355a61b59a1c",
   "metadata": {},
   "source": [
    "## Hypothesis Testing of Regression Coefficients"
   ]
  },
  {
   "cell_type": "markdown",
   "id": "7d71bdc4-ecc7-44bc-8617-f15cdbe32073",
   "metadata": {},
   "source": [
    "*(Coding along with the Udemy Couse [Python for Business and Finance](https://www.udemy.com/course/complete-python-for-business-and-finance-bootcamp/) by Alexander Hagmann, lecture 357-359, __[Hypothesis Testing of Regression Coefficients](https://www.udemy.com/course/complete-python-for-business-and-finance-bootcamp/learn/lecture/17480972#overview)__.)*"
   ]
  },
  {
   "cell_type": "markdown",
   "id": "12b4e3b1-ddcb-4f32-8f60-30eb2675740b",
   "metadata": {},
   "source": [
    "Having a reasonable regression model with a reasonable regression coefficients and a high coefficient of determination doesn't meant that there has to be a relationship between independent and dependent variable for the full population. The relationship that we've calculated for our sample could be simply by chance.\n",
    "\n",
    "The smaller the sample, the higher the probability that we get a well-fitting regression line simply by chance.\n",
    "\n",
    "__To verify whether the regression model or the independent variable is statistically significant we need to perform a hypothesis test (t-test).__\n",
    "\n",
    "We want to test whether an independent variable explains the dependent variable or whether the slope coefficient is unequal to zero.\n",
    "\n",
    "The slope coefficient being unequal to zero is the alternative hypothesis that we cannot directly prove.\n",
    "\n",
    "We we can do is rejecting the opposite hypothesis (H0, null-hypothesis) that the slope coefficient B is equal to zero (this is the and the null-hypothesis in a slope coefficient t-test).\n",
    "\n",
    "***Statistical test of significance (t-test):***<br>\n",
    "***H<sub>0</sub>:b = 0<br>***\n",
    "***H<sub>a</sub>:b != 0***\n",
    "\n",
    "We can also test for the __intercept coefficient__, which less important than testing for the slope coefficient, but depending on the specific case of the Intercept can be a meaningful metric too.\n",
    "\n",
    "The null-hypothesis is that the Intercept A is equal to zero. The alternative hypothesis which we actually want to prove is, that the intercept is unequal to zero.\n",
    "\n",
    "***Statistical test of significance (t-test):***<br>\n",
    "***H<sub>0</sub>:a = 0<br>***\n",
    "***H<sub>a</sub>:a != 0***\n",
    "\n",
    "<img src=\"../assets/images/level_of_significance_p-value.png\" width=\"80%\" />\n",
    "\n",
    "*(Screenshot taken from Alexander Hagmann's Udemy Couse [Python for Business and Finance](https://www.udemy.com/course/complete-python-for-business-and-finance-bootcamp/).)*\n",
    "\n",
    "***The important rule of thumb here is, that whenever the p-value for the slope coefficient < 1% then we should conclude, that the independent variable is significant.***"
   ]
  },
  {
   "cell_type": "markdown",
   "id": "a845d1fa-fa9b-4cb0-a837-7b489f990ca4",
   "metadata": {},
   "source": [
    "### Performing a t-test with Python"
   ]
  },
  {
   "cell_type": "markdown",
   "id": "0e6c433d-e08d-4fb1-b8d9-3c370ff15763",
   "metadata": {},
   "source": [
    "Performing a t-test with Python to verify whether the independent variable budget significantly explains the dependent variable revenue. We will also test whether the intercept is significantly different from zero."
   ]
  },
  {
   "cell_type": "code",
   "execution_count": 1,
   "id": "518bc6cf-993d-47da-8623-b8e9dfe5af32",
   "metadata": {},
   "outputs": [],
   "source": [
    "import pandas as pd\n",
    "from statsmodels.formula.api import ols\n",
    "pd.options.display.float_format = '{:.10f}'.format"
   ]
  },
  {
   "cell_type": "code",
   "execution_count": 2,
   "id": "2d6cd097-bf81-49d8-aee5-2584c90c693f",
   "metadata": {},
   "outputs": [],
   "source": [
    "df = pd.read_csv(\"../assets/data/bud_vs_rev.csv\", parse_dates = [\"release_date\"], index_col = \"release_date\")"
   ]
  },
  {
   "cell_type": "code",
   "execution_count": 3,
   "id": "993c2fdd-d153-4655-ba34-c5268b254b5d",
   "metadata": {},
   "outputs": [],
   "source": [
    "df = df.loc[\"2016\"]"
   ]
  },
  {
   "cell_type": "code",
   "execution_count": 4,
   "id": "2d3099d0-b469-42e8-bbf5-a50c51043e7c",
   "metadata": {},
   "outputs": [
    {
     "data": {
      "text/html": [
       "<div>\n",
       "<style scoped>\n",
       "    .dataframe tbody tr th:only-of-type {\n",
       "        vertical-align: middle;\n",
       "    }\n",
       "\n",
       "    .dataframe tbody tr th {\n",
       "        vertical-align: top;\n",
       "    }\n",
       "\n",
       "    .dataframe thead th {\n",
       "        text-align: right;\n",
       "    }\n",
       "</style>\n",
       "<table border=\"1\" class=\"dataframe\">\n",
       "  <thead>\n",
       "    <tr style=\"text-align: right;\">\n",
       "      <th></th>\n",
       "      <th>title</th>\n",
       "      <th>budget</th>\n",
       "      <th>revenue</th>\n",
       "    </tr>\n",
       "    <tr>\n",
       "      <th>release_date</th>\n",
       "      <th></th>\n",
       "      <th></th>\n",
       "      <th></th>\n",
       "    </tr>\n",
       "  </thead>\n",
       "  <tbody>\n",
       "    <tr>\n",
       "      <th>2016-01-01</th>\n",
       "      <td>Jane Got a Gun</td>\n",
       "      <td>25.0000000000</td>\n",
       "      <td>1.3972840000</td>\n",
       "    </tr>\n",
       "    <tr>\n",
       "      <th>2016-01-07</th>\n",
       "      <td>Friend Request</td>\n",
       "      <td>9.9000000000</td>\n",
       "      <td>2.4000000000</td>\n",
       "    </tr>\n",
       "    <tr>\n",
       "      <th>2016-01-07</th>\n",
       "      <td>The Forest</td>\n",
       "      <td>10.0000000000</td>\n",
       "      <td>40.0554390000</td>\n",
       "    </tr>\n",
       "    <tr>\n",
       "      <th>2016-01-07</th>\n",
       "      <td>Wazir</td>\n",
       "      <td>5.2000000000</td>\n",
       "      <td>9.2000000000</td>\n",
       "    </tr>\n",
       "    <tr>\n",
       "      <th>2016-01-13</th>\n",
       "      <td>13 Hours: The Secret Soldiers of Benghazi</td>\n",
       "      <td>50.0000000000</td>\n",
       "      <td>69.4113700000</td>\n",
       "    </tr>\n",
       "    <tr>\n",
       "      <th>...</th>\n",
       "      <td>...</td>\n",
       "      <td>...</td>\n",
       "      <td>...</td>\n",
       "    </tr>\n",
       "    <tr>\n",
       "      <th>2016-12-23</th>\n",
       "      <td>Resident Evil: The Final Chapter</td>\n",
       "      <td>40.0000000000</td>\n",
       "      <td>312.2426260000</td>\n",
       "    </tr>\n",
       "    <tr>\n",
       "      <th>2016-12-23</th>\n",
       "      <td>Railroad Tigers</td>\n",
       "      <td>50.0000000000</td>\n",
       "      <td>102.2051750000</td>\n",
       "    </tr>\n",
       "    <tr>\n",
       "      <th>2016-12-23</th>\n",
       "      <td>Dangal</td>\n",
       "      <td>10.4000000000</td>\n",
       "      <td>310.0000000000</td>\n",
       "    </tr>\n",
       "    <tr>\n",
       "      <th>2016-12-25</th>\n",
       "      <td>Live by Night</td>\n",
       "      <td>108.0000000000</td>\n",
       "      <td>22.6785550000</td>\n",
       "    </tr>\n",
       "    <tr>\n",
       "      <th>2016-12-25</th>\n",
       "      <td>20th Century Women</td>\n",
       "      <td>7.0000000000</td>\n",
       "      <td>5.8162110000</td>\n",
       "    </tr>\n",
       "  </tbody>\n",
       "</table>\n",
       "<p>235 rows × 3 columns</p>\n",
       "</div>"
      ],
      "text/plain": [
       "                                                  title         budget  \\\n",
       "release_date                                                             \n",
       "2016-01-01                               Jane Got a Gun  25.0000000000   \n",
       "2016-01-07                               Friend Request   9.9000000000   \n",
       "2016-01-07                                   The Forest  10.0000000000   \n",
       "2016-01-07                                        Wazir   5.2000000000   \n",
       "2016-01-13    13 Hours: The Secret Soldiers of Benghazi  50.0000000000   \n",
       "...                                                 ...            ...   \n",
       "2016-12-23             Resident Evil: The Final Chapter  40.0000000000   \n",
       "2016-12-23                              Railroad Tigers  50.0000000000   \n",
       "2016-12-23                                       Dangal  10.4000000000   \n",
       "2016-12-25                                Live by Night 108.0000000000   \n",
       "2016-12-25                           20th Century Women   7.0000000000   \n",
       "\n",
       "                    revenue  \n",
       "release_date                 \n",
       "2016-01-01     1.3972840000  \n",
       "2016-01-07     2.4000000000  \n",
       "2016-01-07    40.0554390000  \n",
       "2016-01-07     9.2000000000  \n",
       "2016-01-13    69.4113700000  \n",
       "...                     ...  \n",
       "2016-12-23   312.2426260000  \n",
       "2016-12-23   102.2051750000  \n",
       "2016-12-23   310.0000000000  \n",
       "2016-12-25    22.6785550000  \n",
       "2016-12-25     5.8162110000  \n",
       "\n",
       "[235 rows x 3 columns]"
      ]
     },
     "execution_count": 4,
     "metadata": {},
     "output_type": "execute_result"
    }
   ],
   "source": [
    "df"
   ]
  },
  {
   "cell_type": "code",
   "execution_count": 5,
   "id": "3ecb3c30-e66c-472e-8f7d-f1bc989bfc56",
   "metadata": {},
   "outputs": [],
   "source": [
    "model = ols(\"revenue ~ budget\", data = df) # creating the linear regression model"
   ]
  },
  {
   "cell_type": "code",
   "execution_count": 6,
   "id": "cc15472b-2e9f-449c-921f-45107667a25d",
   "metadata": {},
   "outputs": [],
   "source": [
    "results = model.fit() # fitting the ols regression model"
   ]
  },
  {
   "cell_type": "code",
   "execution_count": 7,
   "id": "0781c05b-063f-4862-ae3c-1196bdca7645",
   "metadata": {},
   "outputs": [
    {
     "data": {
      "text/plain": [
       "Intercept   -9.4492150539\n",
       "budget       3.3494240988\n",
       "dtype: float64"
      ]
     },
     "execution_count": 7,
     "metadata": {},
     "output_type": "execute_result"
    }
   ],
   "source": [
    "results.params"
   ]
  },
  {
   "cell_type": "code",
   "execution_count": 8,
   "id": "144e0806-139c-4d7a-a60b-352c748412dd",
   "metadata": {},
   "outputs": [
    {
     "data": {
      "text/plain": [
       "np.float64(0.6402124115463808)"
      ]
     },
     "execution_count": 8,
     "metadata": {},
     "output_type": "execute_result"
    }
   ],
   "source": [
    "results.rsquared # the fit of our model"
   ]
  },
  {
   "cell_type": "code",
   "execution_count": 9,
   "id": "d19be729-3c5c-4beb-8173-987ba8836ec1",
   "metadata": {},
   "outputs": [
    {
     "data": {
      "text/plain": [
       "Intercept   -0.8789225048\n",
       "budget      20.3618351223\n",
       "dtype: float64"
      ]
     },
     "execution_count": 9,
     "metadata": {},
     "output_type": "execute_result"
    }
   ],
   "source": [
    "results.tvalues # performing the t-test"
   ]
  },
  {
   "cell_type": "code",
   "execution_count": 10,
   "id": "89772fc1-179f-43af-be3a-fa06a0c686d0",
   "metadata": {},
   "outputs": [
    {
     "data": {
      "text/plain": [
       "Intercept   0.3803488009\n",
       "budget      0.0000000000\n",
       "dtype: float64"
      ]
     },
     "execution_count": 10,
     "metadata": {},
     "output_type": "execute_result"
    }
   ],
   "source": [
    "results.pvalues # getting the p-values of the test"
   ]
  },
  {
   "cell_type": "markdown",
   "id": "9243e1a3-f0cd-4729-939a-c268ae1604aa",
   "metadata": {},
   "source": [
    "For the slove coefficient for the variable budget we have a  p-value of very close to zero (budget      0.0000000000) and therefore, we should conclude that we should reject the null hypothesis that the slope coefficient is equal to zero.\n",
    "\n",
    "It is very likely that the slope coeffient is unequal to zero and whenever the slope coefficient is unequal to zero with statistical significance, we should conclude that the independent variable is significant.\n",
    "\n",
    "This means the independent variable significantly explains the variation in the dependent variable.\n",
    "\n",
    "So in our case of the budget of movies significantly explains and influences the revenue."
   ]
  },
  {
   "cell_type": "markdown",
   "id": "9d23d70e-4b59-41c9-b4e0-eb5037a95032",
   "metadata": {},
   "source": [
    "### Testing with statsmodels – interpreting the Summary Table"
   ]
  },
  {
   "cell_type": "code",
   "execution_count": 12,
   "id": "b70d8e1d-2384-4025-9011-273a24809d20",
   "metadata": {},
   "outputs": [
    {
     "data": {
      "text/html": [
       "<table class=\"simpletable\">\n",
       "<caption>OLS Regression Results</caption>\n",
       "<tr>\n",
       "  <th>Dep. Variable:</th>         <td>revenue</td>     <th>  R-squared:         </th> <td>   0.640</td>\n",
       "</tr>\n",
       "<tr>\n",
       "  <th>Model:</th>                   <td>OLS</td>       <th>  Adj. R-squared:    </th> <td>   0.639</td>\n",
       "</tr>\n",
       "<tr>\n",
       "  <th>Method:</th>             <td>Least Squares</td>  <th>  F-statistic:       </th> <td>   414.6</td>\n",
       "</tr>\n",
       "<tr>\n",
       "  <th>Date:</th>             <td>Wed, 11 Dec 2024</td> <th>  Prob (F-statistic):</th> <td>1.24e-53</td>\n",
       "</tr>\n",
       "<tr>\n",
       "  <th>Time:</th>                 <td>12:50:37</td>     <th>  Log-Likelihood:    </th> <td> -1475.3</td>\n",
       "</tr>\n",
       "<tr>\n",
       "  <th>No. Observations:</th>      <td>   235</td>      <th>  AIC:               </th> <td>   2955.</td>\n",
       "</tr>\n",
       "<tr>\n",
       "  <th>Df Residuals:</th>          <td>   233</td>      <th>  BIC:               </th> <td>   2961.</td>\n",
       "</tr>\n",
       "<tr>\n",
       "  <th>Df Model:</th>              <td>     1</td>      <th>                     </th>     <td> </td>   \n",
       "</tr>\n",
       "<tr>\n",
       "  <th>Covariance Type:</th>      <td>nonrobust</td>    <th>                     </th>     <td> </td>   \n",
       "</tr>\n",
       "</table>\n",
       "<table class=\"simpletable\">\n",
       "<tr>\n",
       "      <td></td>         <th>coef</th>     <th>std err</th>      <th>t</th>      <th>P>|t|</th>  <th>[0.025</th>    <th>0.975]</th>  \n",
       "</tr>\n",
       "<tr>\n",
       "  <th>Intercept</th> <td>   -9.4492</td> <td>   10.751</td> <td>   -0.879</td> <td> 0.380</td> <td>  -30.631</td> <td>   11.732</td>\n",
       "</tr>\n",
       "<tr>\n",
       "  <th>budget</th>    <td>    3.3494</td> <td>    0.164</td> <td>   20.362</td> <td> 0.000</td> <td>    3.025</td> <td>    3.674</td>\n",
       "</tr>\n",
       "</table>\n",
       "<table class=\"simpletable\">\n",
       "<tr>\n",
       "  <th>Omnibus:</th>       <td>95.272</td> <th>  Durbin-Watson:     </th> <td>   2.084</td> \n",
       "</tr>\n",
       "<tr>\n",
       "  <th>Prob(Omnibus):</th> <td> 0.000</td> <th>  Jarque-Bera (JB):  </th> <td> 472.458</td> \n",
       "</tr>\n",
       "<tr>\n",
       "  <th>Skew:</th>          <td> 1.547</td> <th>  Prob(JB):          </th> <td>2.55e-103</td>\n",
       "</tr>\n",
       "<tr>\n",
       "  <th>Kurtosis:</th>      <td> 9.220</td> <th>  Cond. No.          </th> <td>    83.2</td> \n",
       "</tr>\n",
       "</table><br/><br/>Notes:<br/>[1] Standard Errors assume that the covariance matrix of the errors is correctly specified."
      ],
      "text/latex": [
       "\\begin{center}\n",
       "\\begin{tabular}{lclc}\n",
       "\\toprule\n",
       "\\textbf{Dep. Variable:}    &     revenue      & \\textbf{  R-squared:         } &     0.640   \\\\\n",
       "\\textbf{Model:}            &       OLS        & \\textbf{  Adj. R-squared:    } &     0.639   \\\\\n",
       "\\textbf{Method:}           &  Least Squares   & \\textbf{  F-statistic:       } &     414.6   \\\\\n",
       "\\textbf{Date:}             & Wed, 11 Dec 2024 & \\textbf{  Prob (F-statistic):} &  1.24e-53   \\\\\n",
       "\\textbf{Time:}             &     12:50:37     & \\textbf{  Log-Likelihood:    } &   -1475.3   \\\\\n",
       "\\textbf{No. Observations:} &         235      & \\textbf{  AIC:               } &     2955.   \\\\\n",
       "\\textbf{Df Residuals:}     &         233      & \\textbf{  BIC:               } &     2961.   \\\\\n",
       "\\textbf{Df Model:}         &           1      & \\textbf{                     } &             \\\\\n",
       "\\textbf{Covariance Type:}  &    nonrobust     & \\textbf{                     } &             \\\\\n",
       "\\bottomrule\n",
       "\\end{tabular}\n",
       "\\begin{tabular}{lcccccc}\n",
       "                   & \\textbf{coef} & \\textbf{std err} & \\textbf{t} & \\textbf{P$> |$t$|$} & \\textbf{[0.025} & \\textbf{0.975]}  \\\\\n",
       "\\midrule\n",
       "\\textbf{Intercept} &      -9.4492  &       10.751     &    -0.879  &         0.380        &      -30.631    &       11.732     \\\\\n",
       "\\textbf{budget}    &       3.3494  &        0.164     &    20.362  &         0.000        &        3.025    &        3.674     \\\\\n",
       "\\bottomrule\n",
       "\\end{tabular}\n",
       "\\begin{tabular}{lclc}\n",
       "\\textbf{Omnibus:}       & 95.272 & \\textbf{  Durbin-Watson:     } &     2.084  \\\\\n",
       "\\textbf{Prob(Omnibus):} &  0.000 & \\textbf{  Jarque-Bera (JB):  } &   472.458  \\\\\n",
       "\\textbf{Skew:}          &  1.547 & \\textbf{  Prob(JB):          } & 2.55e-103  \\\\\n",
       "\\textbf{Kurtosis:}      &  9.220 & \\textbf{  Cond. No.          } &      83.2  \\\\\n",
       "\\bottomrule\n",
       "\\end{tabular}\n",
       "%\\caption{OLS Regression Results}\n",
       "\\end{center}\n",
       "\n",
       "Notes: \\newline\n",
       " [1] Standard Errors assume that the covariance matrix of the errors is correctly specified."
      ],
      "text/plain": [
       "<class 'statsmodels.iolib.summary.Summary'>\n",
       "\"\"\"\n",
       "                            OLS Regression Results                            \n",
       "==============================================================================\n",
       "Dep. Variable:                revenue   R-squared:                       0.640\n",
       "Model:                            OLS   Adj. R-squared:                  0.639\n",
       "Method:                 Least Squares   F-statistic:                     414.6\n",
       "Date:                Wed, 11 Dec 2024   Prob (F-statistic):           1.24e-53\n",
       "Time:                        12:50:37   Log-Likelihood:                -1475.3\n",
       "No. Observations:                 235   AIC:                             2955.\n",
       "Df Residuals:                     233   BIC:                             2961.\n",
       "Df Model:                           1                                         \n",
       "Covariance Type:            nonrobust                                         \n",
       "==============================================================================\n",
       "                 coef    std err          t      P>|t|      [0.025      0.975]\n",
       "------------------------------------------------------------------------------\n",
       "Intercept     -9.4492     10.751     -0.879      0.380     -30.631      11.732\n",
       "budget         3.3494      0.164     20.362      0.000       3.025       3.674\n",
       "==============================================================================\n",
       "Omnibus:                       95.272   Durbin-Watson:                   2.084\n",
       "Prob(Omnibus):                  0.000   Jarque-Bera (JB):              472.458\n",
       "Skew:                           1.547   Prob(JB):                    2.55e-103\n",
       "Kurtosis:                       9.220   Cond. No.                         83.2\n",
       "==============================================================================\n",
       "\n",
       "Notes:\n",
       "[1] Standard Errors assume that the covariance matrix of the errors is correctly specified.\n",
       "\"\"\""
      ]
     },
     "execution_count": 12,
     "metadata": {},
     "output_type": "execute_result"
    }
   ],
   "source": [
    "results.summary()"
   ]
  },
  {
   "cell_type": "code",
   "execution_count": 13,
   "id": "59c0213e-a916-40d2-898f-65c0c67f3200",
   "metadata": {},
   "outputs": [
    {
     "name": "stdout",
     "output_type": "stream",
     "text": [
      "                            OLS Regression Results                            \n",
      "==============================================================================\n",
      "Dep. Variable:                revenue   R-squared:                       0.640\n",
      "Model:                            OLS   Adj. R-squared:                  0.639\n",
      "Method:                 Least Squares   F-statistic:                     414.6\n",
      "Date:                Wed, 11 Dec 2024   Prob (F-statistic):           1.24e-53\n",
      "Time:                        12:50:49   Log-Likelihood:                -1475.3\n",
      "No. Observations:                 235   AIC:                             2955.\n",
      "Df Residuals:                     233   BIC:                             2961.\n",
      "Df Model:                           1                                         \n",
      "Covariance Type:            nonrobust                                         \n",
      "==============================================================================\n",
      "                 coef    std err          t      P>|t|      [0.025      0.975]\n",
      "------------------------------------------------------------------------------\n",
      "Intercept     -9.4492     10.751     -0.879      0.380     -30.631      11.732\n",
      "budget         3.3494      0.164     20.362      0.000       3.025       3.674\n",
      "==============================================================================\n",
      "Omnibus:                       95.272   Durbin-Watson:                   2.084\n",
      "Prob(Omnibus):                  0.000   Jarque-Bera (JB):              472.458\n",
      "Skew:                           1.547   Prob(JB):                    2.55e-103\n",
      "Kurtosis:                       9.220   Cond. No.                         83.2\n",
      "==============================================================================\n",
      "\n",
      "Notes:\n",
      "[1] Standard Errors assume that the covariance matrix of the errors is correctly specified.\n"
     ]
    }
   ],
   "source": [
    "print(results.summary())"
   ]
  },
  {
   "cell_type": "code",
   "execution_count": null,
   "id": "5684f8bb-f83d-4f21-9c1c-2aeb4dda7206",
   "metadata": {},
   "outputs": [],
   "source": []
  }
 ],
 "metadata": {
  "kernelspec": {
   "display_name": "Python 3 (ipykernel)",
   "language": "python",
   "name": "python3"
  },
  "language_info": {
   "codemirror_mode": {
    "name": "ipython",
    "version": 3
   },
   "file_extension": ".py",
   "mimetype": "text/x-python",
   "name": "python",
   "nbconvert_exporter": "python",
   "pygments_lexer": "ipython3",
   "version": "3.12.7"
  }
 },
 "nbformat": 4,
 "nbformat_minor": 5
}
