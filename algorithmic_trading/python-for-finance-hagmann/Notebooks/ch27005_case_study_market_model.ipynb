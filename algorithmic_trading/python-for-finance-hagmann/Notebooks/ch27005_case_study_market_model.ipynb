{
 "cells": [
  {
   "cell_type": "markdown",
   "id": "8a92940b-02b6-455f-946d-63c707162d7a",
   "metadata": {},
   "source": [
    "## Case Study: The Market Model (Single Factor Model)"
   ]
  },
  {
   "cell_type": "markdown",
   "id": "f5ffa9c8-466d-4a08-9921-4454e0b6de90",
   "metadata": {},
   "source": [
    "*(Coding along with the Udemy Couse [Python for Business and Finance](https://www.udemy.com/course/complete-python-for-business-and-finance-bootcamp/) by Alexander Hagmann.)*"
   ]
  },
  {
   "cell_type": "markdown",
   "id": "7b10dacc-00c5-47ec-9495-4daeca3b9625",
   "metadata": {},
   "source": [
    "The Market Model or Single Factor Model is probably the most well-known and commonly used simple linear regression model in finance. \n",
    "\n",
    "***„Forecasting stock returns is the holy grail of finance.“***\n",
    "\n",
    "The first and most important step in doing this is to identify factors that influence explained stock returns. The most important factor here is the performance of the overall market (the returns of the market portfolio, which is a very diversified portfolio containing all stocks in the market). Macroeconomic factors that influence the overall market typically also influenced single stocks.\n",
    "\n",
    "Therefore we would expect a co-movement or a linear relationship between the returns of a broadly diversified index of portfolio and a single stock.\n",
    "\n",
    "To examine this, we'll have a look at the Microsoft stock and as an approximation for the market portfolio we will use of the S&P 500 index, which contains the 500 large U.S. stocks."
   ]
  },
  {
   "cell_type": "markdown",
   "id": "f53d0cb0-bbc5-423e-af31-2f409b810ecb",
   "metadata": {},
   "source": [
    "__The Standard and Poor's 500__, or simply the S&P 500, is a stock market index tracking the stock performance of 500 of the largest companies listed on stock exchanges in the United States. It is one of the most commonly followed equity indices and includes approximately 80% of the total market capitalization of U.S. public companies, with an aggregate market cap of more than $43 trillion as of January 2024 (https://en.wikipedia.org/wiki/S%26P_500)."
   ]
  },
  {
   "cell_type": "code",
   "execution_count": 49,
   "id": "ebd0f472-6a28-4135-b56a-0ecc589bb089",
   "metadata": {},
   "outputs": [],
   "source": [
    "import pandas as pd\n",
    "import yfinance as yf\n",
    "import matplotlib.pyplot as plt\n",
    "import seaborn as sns\n",
    "import scipy.stats as stats"
   ]
  },
  {
   "cell_type": "code",
   "execution_count": 50,
   "id": "a1d7ce6e-2ad6-4352-a6a8-8938ce2a8443",
   "metadata": {},
   "outputs": [
    {
     "name": "stderr",
     "output_type": "stream",
     "text": [
      "[*********************100%***********************]  2 of 2 completed\n"
     ]
    }
   ],
   "source": [
    "# let's get the Microsoft stock and the S&P 500 index from Yahoo finance  \n",
    "df = yf.download([\"MSFT\", \"^SP500TR\"], start = \"2015-12-31\", end = \"2018-12-31\")"
   ]
  },
  {
   "cell_type": "code",
   "execution_count": 51,
   "id": "c407acdf-1a1a-4ea9-b222-945a1cfcacdd",
   "metadata": {},
   "outputs": [
    {
     "data": {
      "text/html": [
       "<div>\n",
       "<style scoped>\n",
       "    .dataframe tbody tr th:only-of-type {\n",
       "        vertical-align: middle;\n",
       "    }\n",
       "\n",
       "    .dataframe tbody tr th {\n",
       "        vertical-align: top;\n",
       "    }\n",
       "\n",
       "    .dataframe thead tr th {\n",
       "        text-align: left;\n",
       "    }\n",
       "\n",
       "    .dataframe thead tr:last-of-type th {\n",
       "        text-align: right;\n",
       "    }\n",
       "</style>\n",
       "<table border=\"1\" class=\"dataframe\">\n",
       "  <thead>\n",
       "    <tr>\n",
       "      <th>Price</th>\n",
       "      <th colspan=\"2\" halign=\"left\">Adj Close</th>\n",
       "      <th colspan=\"2\" halign=\"left\">Close</th>\n",
       "      <th colspan=\"2\" halign=\"left\">High</th>\n",
       "      <th colspan=\"2\" halign=\"left\">Low</th>\n",
       "      <th colspan=\"2\" halign=\"left\">Open</th>\n",
       "      <th colspan=\"2\" halign=\"left\">Volume</th>\n",
       "    </tr>\n",
       "    <tr>\n",
       "      <th>Ticker</th>\n",
       "      <th>MSFT</th>\n",
       "      <th>^SP500TR</th>\n",
       "      <th>MSFT</th>\n",
       "      <th>^SP500TR</th>\n",
       "      <th>MSFT</th>\n",
       "      <th>^SP500TR</th>\n",
       "      <th>MSFT</th>\n",
       "      <th>^SP500TR</th>\n",
       "      <th>MSFT</th>\n",
       "      <th>^SP500TR</th>\n",
       "      <th>MSFT</th>\n",
       "      <th>^SP500TR</th>\n",
       "    </tr>\n",
       "    <tr>\n",
       "      <th>Date</th>\n",
       "      <th></th>\n",
       "      <th></th>\n",
       "      <th></th>\n",
       "      <th></th>\n",
       "      <th></th>\n",
       "      <th></th>\n",
       "      <th></th>\n",
       "      <th></th>\n",
       "      <th></th>\n",
       "      <th></th>\n",
       "      <th></th>\n",
       "      <th></th>\n",
       "    </tr>\n",
       "  </thead>\n",
       "  <tbody>\n",
       "    <tr>\n",
       "      <th>2015-12-31</th>\n",
       "      <td>48.937233</td>\n",
       "      <td>3821.600098</td>\n",
       "      <td>55.480000</td>\n",
       "      <td>3821.600098</td>\n",
       "      <td>56.189999</td>\n",
       "      <td>3856.370117</td>\n",
       "      <td>55.419998</td>\n",
       "      <td>3821.090088</td>\n",
       "      <td>56.040001</td>\n",
       "      <td>3852.739990</td>\n",
       "      <td>27334100</td>\n",
       "      <td>0</td>\n",
       "    </tr>\n",
       "    <tr>\n",
       "      <th>2016-01-04</th>\n",
       "      <td>48.337425</td>\n",
       "      <td>3763.989990</td>\n",
       "      <td>54.799999</td>\n",
       "      <td>3763.989990</td>\n",
       "      <td>54.799999</td>\n",
       "      <td>3811.739990</td>\n",
       "      <td>53.389999</td>\n",
       "      <td>3721.040039</td>\n",
       "      <td>54.320000</td>\n",
       "      <td>3811.739990</td>\n",
       "      <td>53778000</td>\n",
       "      <td>0</td>\n",
       "    </tr>\n",
       "    <tr>\n",
       "      <th>2016-01-05</th>\n",
       "      <td>48.557930</td>\n",
       "      <td>3771.570068</td>\n",
       "      <td>55.049999</td>\n",
       "      <td>3771.570068</td>\n",
       "      <td>55.389999</td>\n",
       "      <td>3781.270020</td>\n",
       "      <td>54.540001</td>\n",
       "      <td>3748.149902</td>\n",
       "      <td>54.930000</td>\n",
       "      <td>3766.080078</td>\n",
       "      <td>34079700</td>\n",
       "      <td>0</td>\n",
       "    </tr>\n",
       "    <tr>\n",
       "      <th>2016-01-06</th>\n",
       "      <td>47.675869</td>\n",
       "      <td>3723.439941</td>\n",
       "      <td>54.049999</td>\n",
       "      <td>3723.439941</td>\n",
       "      <td>54.400002</td>\n",
       "      <td>3763.550049</td>\n",
       "      <td>53.639999</td>\n",
       "      <td>3702.469971</td>\n",
       "      <td>54.320000</td>\n",
       "      <td>3763.550049</td>\n",
       "      <td>39518900</td>\n",
       "      <td>0</td>\n",
       "    </tr>\n",
       "    <tr>\n",
       "      <th>2016-01-07</th>\n",
       "      <td>46.017590</td>\n",
       "      <td>3635.290039</td>\n",
       "      <td>52.169998</td>\n",
       "      <td>3635.290039</td>\n",
       "      <td>53.490002</td>\n",
       "      <td>3714.290039</td>\n",
       "      <td>52.070000</td>\n",
       "      <td>3627.320068</td>\n",
       "      <td>52.700001</td>\n",
       "      <td>3714.290039</td>\n",
       "      <td>56564900</td>\n",
       "      <td>0</td>\n",
       "    </tr>\n",
       "    <tr>\n",
       "      <th>...</th>\n",
       "      <td>...</td>\n",
       "      <td>...</td>\n",
       "      <td>...</td>\n",
       "      <td>...</td>\n",
       "      <td>...</td>\n",
       "      <td>...</td>\n",
       "      <td>...</td>\n",
       "      <td>...</td>\n",
       "      <td>...</td>\n",
       "      <td>...</td>\n",
       "      <td>...</td>\n",
       "      <td>...</td>\n",
       "    </tr>\n",
       "    <tr>\n",
       "      <th>2018-12-21</th>\n",
       "      <td>92.586586</td>\n",
       "      <td>4802.509766</td>\n",
       "      <td>98.230003</td>\n",
       "      <td>4802.509766</td>\n",
       "      <td>103.000000</td>\n",
       "      <td>4976.560059</td>\n",
       "      <td>97.459999</td>\n",
       "      <td>4787.040039</td>\n",
       "      <td>101.629997</td>\n",
       "      <td>4899.410156</td>\n",
       "      <td>111242100</td>\n",
       "      <td>0</td>\n",
       "    </tr>\n",
       "    <tr>\n",
       "      <th>2018-12-24</th>\n",
       "      <td>88.722122</td>\n",
       "      <td>4672.660156</td>\n",
       "      <td>94.129997</td>\n",
       "      <td>4672.660156</td>\n",
       "      <td>97.970001</td>\n",
       "      <td>4790.000000</td>\n",
       "      <td>93.980003</td>\n",
       "      <td>4672.660156</td>\n",
       "      <td>97.680000</td>\n",
       "      <td>4770.950195</td>\n",
       "      <td>43935200</td>\n",
       "      <td>0</td>\n",
       "    </tr>\n",
       "    <tr>\n",
       "      <th>2018-12-26</th>\n",
       "      <td>94.782722</td>\n",
       "      <td>4904.490234</td>\n",
       "      <td>100.559998</td>\n",
       "      <td>4904.490234</td>\n",
       "      <td>100.690002</td>\n",
       "      <td>4904.609863</td>\n",
       "      <td>93.959999</td>\n",
       "      <td>4664.089844</td>\n",
       "      <td>95.139999</td>\n",
       "      <td>4696.629883</td>\n",
       "      <td>51634800</td>\n",
       "      <td>0</td>\n",
       "    </tr>\n",
       "    <tr>\n",
       "      <th>2018-12-27</th>\n",
       "      <td>95.367096</td>\n",
       "      <td>4946.939941</td>\n",
       "      <td>101.180000</td>\n",
       "      <td>4946.939941</td>\n",
       "      <td>101.190002</td>\n",
       "      <td>4946.939941</td>\n",
       "      <td>96.400002</td>\n",
       "      <td>4766.390137</td>\n",
       "      <td>99.300003</td>\n",
       "      <td>4854.870117</td>\n",
       "      <td>49498500</td>\n",
       "      <td>0</td>\n",
       "    </tr>\n",
       "    <tr>\n",
       "      <th>2018-12-28</th>\n",
       "      <td>94.622490</td>\n",
       "      <td>4941.609863</td>\n",
       "      <td>100.389999</td>\n",
       "      <td>4941.609863</td>\n",
       "      <td>102.410004</td>\n",
       "      <td>5010.160156</td>\n",
       "      <td>99.519997</td>\n",
       "      <td>4916.640137</td>\n",
       "      <td>102.089996</td>\n",
       "      <td>4967.520020</td>\n",
       "      <td>38196300</td>\n",
       "      <td>0</td>\n",
       "    </tr>\n",
       "  </tbody>\n",
       "</table>\n",
       "<p>754 rows × 12 columns</p>\n",
       "</div>"
      ],
      "text/plain": [
       "Price       Adj Close                    Close                     High  \\\n",
       "Ticker           MSFT     ^SP500TR        MSFT     ^SP500TR        MSFT   \n",
       "Date                                                                      \n",
       "2015-12-31  48.937233  3821.600098   55.480000  3821.600098   56.189999   \n",
       "2016-01-04  48.337425  3763.989990   54.799999  3763.989990   54.799999   \n",
       "2016-01-05  48.557930  3771.570068   55.049999  3771.570068   55.389999   \n",
       "2016-01-06  47.675869  3723.439941   54.049999  3723.439941   54.400002   \n",
       "2016-01-07  46.017590  3635.290039   52.169998  3635.290039   53.490002   \n",
       "...               ...          ...         ...          ...         ...   \n",
       "2018-12-21  92.586586  4802.509766   98.230003  4802.509766  103.000000   \n",
       "2018-12-24  88.722122  4672.660156   94.129997  4672.660156   97.970001   \n",
       "2018-12-26  94.782722  4904.490234  100.559998  4904.490234  100.690002   \n",
       "2018-12-27  95.367096  4946.939941  101.180000  4946.939941  101.190002   \n",
       "2018-12-28  94.622490  4941.609863  100.389999  4941.609863  102.410004   \n",
       "\n",
       "Price                          Low                     Open               \\\n",
       "Ticker         ^SP500TR       MSFT     ^SP500TR        MSFT     ^SP500TR   \n",
       "Date                                                                       \n",
       "2015-12-31  3856.370117  55.419998  3821.090088   56.040001  3852.739990   \n",
       "2016-01-04  3811.739990  53.389999  3721.040039   54.320000  3811.739990   \n",
       "2016-01-05  3781.270020  54.540001  3748.149902   54.930000  3766.080078   \n",
       "2016-01-06  3763.550049  53.639999  3702.469971   54.320000  3763.550049   \n",
       "2016-01-07  3714.290039  52.070000  3627.320068   52.700001  3714.290039   \n",
       "...                 ...        ...          ...         ...          ...   \n",
       "2018-12-21  4976.560059  97.459999  4787.040039  101.629997  4899.410156   \n",
       "2018-12-24  4790.000000  93.980003  4672.660156   97.680000  4770.950195   \n",
       "2018-12-26  4904.609863  93.959999  4664.089844   95.139999  4696.629883   \n",
       "2018-12-27  4946.939941  96.400002  4766.390137   99.300003  4854.870117   \n",
       "2018-12-28  5010.160156  99.519997  4916.640137  102.089996  4967.520020   \n",
       "\n",
       "Price          Volume           \n",
       "Ticker           MSFT ^SP500TR  \n",
       "Date                            \n",
       "2015-12-31   27334100        0  \n",
       "2016-01-04   53778000        0  \n",
       "2016-01-05   34079700        0  \n",
       "2016-01-06   39518900        0  \n",
       "2016-01-07   56564900        0  \n",
       "...               ...      ...  \n",
       "2018-12-21  111242100        0  \n",
       "2018-12-24   43935200        0  \n",
       "2018-12-26   51634800        0  \n",
       "2018-12-27   49498500        0  \n",
       "2018-12-28   38196300        0  \n",
       "\n",
       "[754 rows x 12 columns]"
      ]
     },
     "execution_count": 51,
     "metadata": {},
     "output_type": "execute_result"
    }
   ],
   "source": [
    "df"
   ]
  },
  {
   "cell_type": "code",
   "execution_count": 52,
   "id": "53a1c7c9-2844-438e-833f-2286a61d0fc2",
   "metadata": {},
   "outputs": [],
   "source": [
    "# selecting the adjusted close because we're intersted in total returns\n",
    "df = df[\"Adj Close\"]"
   ]
  },
  {
   "cell_type": "code",
   "execution_count": 53,
   "id": "856f9422-b0f6-416c-b972-9e3103da5310",
   "metadata": {},
   "outputs": [
    {
     "data": {
      "text/html": [
       "<div>\n",
       "<style scoped>\n",
       "    .dataframe tbody tr th:only-of-type {\n",
       "        vertical-align: middle;\n",
       "    }\n",
       "\n",
       "    .dataframe tbody tr th {\n",
       "        vertical-align: top;\n",
       "    }\n",
       "\n",
       "    .dataframe thead th {\n",
       "        text-align: right;\n",
       "    }\n",
       "</style>\n",
       "<table border=\"1\" class=\"dataframe\">\n",
       "  <thead>\n",
       "    <tr style=\"text-align: right;\">\n",
       "      <th>Ticker</th>\n",
       "      <th>MSFT</th>\n",
       "      <th>^SP500TR</th>\n",
       "    </tr>\n",
       "    <tr>\n",
       "      <th>Date</th>\n",
       "      <th></th>\n",
       "      <th></th>\n",
       "    </tr>\n",
       "  </thead>\n",
       "  <tbody>\n",
       "    <tr>\n",
       "      <th>2015-12-31</th>\n",
       "      <td>48.937233</td>\n",
       "      <td>3821.600098</td>\n",
       "    </tr>\n",
       "    <tr>\n",
       "      <th>2016-01-04</th>\n",
       "      <td>48.337425</td>\n",
       "      <td>3763.989990</td>\n",
       "    </tr>\n",
       "    <tr>\n",
       "      <th>2016-01-05</th>\n",
       "      <td>48.557930</td>\n",
       "      <td>3771.570068</td>\n",
       "    </tr>\n",
       "    <tr>\n",
       "      <th>2016-01-06</th>\n",
       "      <td>47.675869</td>\n",
       "      <td>3723.439941</td>\n",
       "    </tr>\n",
       "    <tr>\n",
       "      <th>2016-01-07</th>\n",
       "      <td>46.017590</td>\n",
       "      <td>3635.290039</td>\n",
       "    </tr>\n",
       "    <tr>\n",
       "      <th>...</th>\n",
       "      <td>...</td>\n",
       "      <td>...</td>\n",
       "    </tr>\n",
       "    <tr>\n",
       "      <th>2018-12-21</th>\n",
       "      <td>92.586586</td>\n",
       "      <td>4802.509766</td>\n",
       "    </tr>\n",
       "    <tr>\n",
       "      <th>2018-12-24</th>\n",
       "      <td>88.722122</td>\n",
       "      <td>4672.660156</td>\n",
       "    </tr>\n",
       "    <tr>\n",
       "      <th>2018-12-26</th>\n",
       "      <td>94.782722</td>\n",
       "      <td>4904.490234</td>\n",
       "    </tr>\n",
       "    <tr>\n",
       "      <th>2018-12-27</th>\n",
       "      <td>95.367096</td>\n",
       "      <td>4946.939941</td>\n",
       "    </tr>\n",
       "    <tr>\n",
       "      <th>2018-12-28</th>\n",
       "      <td>94.622490</td>\n",
       "      <td>4941.609863</td>\n",
       "    </tr>\n",
       "  </tbody>\n",
       "</table>\n",
       "<p>754 rows × 2 columns</p>\n",
       "</div>"
      ],
      "text/plain": [
       "Ticker           MSFT     ^SP500TR\n",
       "Date                              \n",
       "2015-12-31  48.937233  3821.600098\n",
       "2016-01-04  48.337425  3763.989990\n",
       "2016-01-05  48.557930  3771.570068\n",
       "2016-01-06  47.675869  3723.439941\n",
       "2016-01-07  46.017590  3635.290039\n",
       "...               ...          ...\n",
       "2018-12-21  92.586586  4802.509766\n",
       "2018-12-24  88.722122  4672.660156\n",
       "2018-12-26  94.782722  4904.490234\n",
       "2018-12-27  95.367096  4946.939941\n",
       "2018-12-28  94.622490  4941.609863\n",
       "\n",
       "[754 rows x 2 columns]"
      ]
     },
     "execution_count": 53,
     "metadata": {},
     "output_type": "execute_result"
    }
   ],
   "source": [
    "df"
   ]
  },
  {
   "cell_type": "code",
   "execution_count": 54,
   "id": "3967036f-682c-46ba-9676-0dac8d557356",
   "metadata": {},
   "outputs": [],
   "source": [
    "# calculating daily returns by using the percentage change method\n",
    "ret = df.pct_change().dropna()"
   ]
  },
  {
   "cell_type": "code",
   "execution_count": 55,
   "id": "e9f625a5-8b88-4279-8289-e5c544bd9cb8",
   "metadata": {},
   "outputs": [
    {
     "data": {
      "text/html": [
       "<div>\n",
       "<style scoped>\n",
       "    .dataframe tbody tr th:only-of-type {\n",
       "        vertical-align: middle;\n",
       "    }\n",
       "\n",
       "    .dataframe tbody tr th {\n",
       "        vertical-align: top;\n",
       "    }\n",
       "\n",
       "    .dataframe thead th {\n",
       "        text-align: right;\n",
       "    }\n",
       "</style>\n",
       "<table border=\"1\" class=\"dataframe\">\n",
       "  <thead>\n",
       "    <tr style=\"text-align: right;\">\n",
       "      <th>Ticker</th>\n",
       "      <th>MSFT</th>\n",
       "      <th>^SP500TR</th>\n",
       "    </tr>\n",
       "    <tr>\n",
       "      <th>Date</th>\n",
       "      <th></th>\n",
       "      <th></th>\n",
       "    </tr>\n",
       "  </thead>\n",
       "  <tbody>\n",
       "    <tr>\n",
       "      <th>2016-01-04</th>\n",
       "      <td>-0.012257</td>\n",
       "      <td>-0.015075</td>\n",
       "    </tr>\n",
       "    <tr>\n",
       "      <th>2016-01-05</th>\n",
       "      <td>0.004562</td>\n",
       "      <td>0.002014</td>\n",
       "    </tr>\n",
       "    <tr>\n",
       "      <th>2016-01-06</th>\n",
       "      <td>-0.018165</td>\n",
       "      <td>-0.012761</td>\n",
       "    </tr>\n",
       "    <tr>\n",
       "      <th>2016-01-07</th>\n",
       "      <td>-0.034782</td>\n",
       "      <td>-0.023674</td>\n",
       "    </tr>\n",
       "    <tr>\n",
       "      <th>2016-01-08</th>\n",
       "      <td>0.003067</td>\n",
       "      <td>-0.010833</td>\n",
       "    </tr>\n",
       "    <tr>\n",
       "      <th>...</th>\n",
       "      <td>...</td>\n",
       "      <td>...</td>\n",
       "    </tr>\n",
       "    <tr>\n",
       "      <th>2018-12-21</th>\n",
       "      <td>-0.032312</td>\n",
       "      <td>-0.020588</td>\n",
       "    </tr>\n",
       "    <tr>\n",
       "      <th>2018-12-24</th>\n",
       "      <td>-0.041739</td>\n",
       "      <td>-0.027038</td>\n",
       "    </tr>\n",
       "    <tr>\n",
       "      <th>2018-12-26</th>\n",
       "      <td>0.068310</td>\n",
       "      <td>0.049614</td>\n",
       "    </tr>\n",
       "    <tr>\n",
       "      <th>2018-12-27</th>\n",
       "      <td>0.006165</td>\n",
       "      <td>0.008655</td>\n",
       "    </tr>\n",
       "    <tr>\n",
       "      <th>2018-12-28</th>\n",
       "      <td>-0.007808</td>\n",
       "      <td>-0.001077</td>\n",
       "    </tr>\n",
       "  </tbody>\n",
       "</table>\n",
       "<p>753 rows × 2 columns</p>\n",
       "</div>"
      ],
      "text/plain": [
       "Ticker          MSFT  ^SP500TR\n",
       "Date                          \n",
       "2016-01-04 -0.012257 -0.015075\n",
       "2016-01-05  0.004562  0.002014\n",
       "2016-01-06 -0.018165 -0.012761\n",
       "2016-01-07 -0.034782 -0.023674\n",
       "2016-01-08  0.003067 -0.010833\n",
       "...              ...       ...\n",
       "2018-12-21 -0.032312 -0.020588\n",
       "2018-12-24 -0.041739 -0.027038\n",
       "2018-12-26  0.068310  0.049614\n",
       "2018-12-27  0.006165  0.008655\n",
       "2018-12-28 -0.007808 -0.001077\n",
       "\n",
       "[753 rows x 2 columns]"
      ]
     },
     "execution_count": 55,
     "metadata": {},
     "output_type": "execute_result"
    }
   ],
   "source": [
    "ret # returns dataframe"
   ]
  },
  {
   "cell_type": "code",
   "execution_count": 56,
   "id": "c9c1204c-d652-4157-849b-d1c007a6e51f",
   "metadata": {},
   "outputs": [
    {
     "data": {
      "image/png": "[encoded data removed]",
      "text/plain": [
       "<Figure size 900x600 with 1 Axes>"
      ]
     },
     "metadata": {},
     "output_type": "display_data"
    }
   ],
   "source": [
    "# at first let's visualize the relationship\n",
    "# using the returns of the SP500 as the independent variable (x-axis)\n",
    "ret.plot(x = \"^SP500TR\", y = \"MSFT\", figsize = (9, 6), kind = \"scatter\")\n",
    "plt.grid()\n",
    "plt.title(\"MSFT vs. SP500 (daily returns)\", fontsize = 15)\n",
    "plt.show()"
   ]
  },
  {
   "cell_type": "code",
   "execution_count": 57,
   "id": "07cdf1ed-eab0-420c-9721-58e74f316f5f",
   "metadata": {},
   "outputs": [],
   "source": [
    "# calculation correlation coefficient an p_value (t-test)\n",
    "r, p_value = stats.pearsonr(ret[\"^SP500TR\"], ret.MSFT)"
   ]
  },
  {
   "cell_type": "code",
   "execution_count": 58,
   "id": "907fd17b-5403-4941-9959-5ecc18e57840",
   "metadata": {},
   "outputs": [
    {
     "data": {
      "text/plain": [
       "np.float64(0.781758490831477)"
      ]
     },
     "execution_count": 58,
     "metadata": {},
     "output_type": "execute_result"
    }
   ],
   "source": [
    "r"
   ]
  },
  {
   "cell_type": "code",
   "execution_count": 59,
   "id": "78a2a00a-becf-469b-9640-7bc8b1a034dc",
   "metadata": {},
   "outputs": [
    {
     "data": {
      "text/plain": [
       "np.float64(3.429669593059083e-156)"
      ]
     },
     "execution_count": 59,
     "metadata": {},
     "output_type": "execute_result"
    }
   ],
   "source": [
    "p_value "
   ]
  },
  {
   "cell_type": "markdown",
   "id": "30cbf429-5ce1-4f87-abb9-03050b023435",
   "metadata": {},
   "source": [
    "The relatively high correlation coefficient of 0.78 suggests a high positive relationship between SP500 and Microsoft stock price. The p-value is pretty much equal to zero (e-156 at the end shows that we're having a very small number) which means we can reject the null-hypothesis. Therefore we can conclude that there is a significant relationship between S&P 500 index returns and the Microsoft stock returns."
   ]
  },
  {
   "cell_type": "markdown",
   "id": "e62ae366-41a2-4e83-a15c-9f7ced881a12",
   "metadata": {},
   "source": [
    "__The linear regression model for our example:__\n",
    "\n",
    "<img src=\"../assets/images/lin_reg_sp500_MSFT.png\" width=\"40%\" />\n"
   ]
  },
  {
   "cell_type": "markdown",
   "id": "86277473-6a1a-4c92-a4f7-4f5a6957749d",
   "metadata": {},
   "source": [
    "__The returns for the Microsoft stock are equal__\n",
    "\n",
    "- to the intercept a \n",
    "\n",
    "- plus the slope coefficient beta times the returns of the S&P500-index\n",
    "\n",
    "- plus the error terms epsilon\n",
    "\n",
    "***The slope coefficient beat is the famous and commonly used beta factor of a stock and beta measures the increase in Microsoft stock returns.***\n",
    "\n",
    "The market return increases by one unit so by one percentage point.\n",
    "\n",
    "Typically stocks co-move with the market and have a positive beta and a __beta greater then one__ means that the stock actually overreacts the market and therefore is a highly cyclical stock.\n"
   ]
  },
  {
   "cell_type": "code",
   "execution_count": 60,
   "id": "9800a1bd-6914-4a99-96bd-d4a1212ae8ad",
   "metadata": {},
   "outputs": [],
   "source": [
    "# creating our regression model with stats.linregress\n",
    "# returns of the S&P500-index as x-parameter\n",
    "# returns of MSFT as y-parameter\n",
    "beta, intercept, rvalue, pvalue, stderr = stats.linregress(x = ret[\"^SP500TR\"], y = ret.MSFT)"
   ]
  },
  {
   "cell_type": "code",
   "execution_count": 61,
   "id": "4a93f513-ea78-47aa-89d0-6a8ee7553287",
   "metadata": {},
   "outputs": [
    {
     "data": {
      "text/plain": [
       "np.float64(1.3582000160803998)"
      ]
     },
     "execution_count": 61,
     "metadata": {},
     "output_type": "execute_result"
    }
   ],
   "source": [
    "beta # beta which is the slope coefficient"
   ]
  },
  {
   "cell_type": "markdown",
   "id": "7ead0363-cc6d-4bef-aaae-537db6d43e0c",
   "metadata": {},
   "source": [
    "A beta with a value of 1.358 means that when the S&P500-index return increases by one percentage point (1%), we would expect an increase of the Microsoft Return of one point three five percentage points (1.358%)."
   ]
  },
  {
   "cell_type": "code",
   "execution_count": 62,
   "id": "1325d2db-73e1-4448-bbd0-743e5ae651f1",
   "metadata": {},
   "outputs": [
    {
     "data": {
      "text/plain": [
       "np.float64(0.00046771884621189797)"
      ]
     },
     "execution_count": 62,
     "metadata": {},
     "output_type": "execute_result"
    }
   ],
   "source": [
    "intercept # for the intercept we have here a value close to zero"
   ]
  },
  {
   "cell_type": "code",
   "execution_count": 63,
   "id": "f9657a0d-cd50-45df-aa7f-4f2466b1ff44",
   "metadata": {},
   "outputs": [
    {
     "data": {
      "text/plain": [
       "np.float64(0.781758490831477)"
      ]
     },
     "execution_count": 63,
     "metadata": {},
     "output_type": "execute_result"
    }
   ],
   "source": [
    "rvalue # calculating the correlation coefficient returns 0.78"
   ]
  },
  {
   "cell_type": "code",
   "execution_count": 64,
   "id": "d83b797d-2542-4271-b785-0917aa84f73d",
   "metadata": {},
   "outputs": [
    {
     "data": {
      "image/png": "[encoded data removed]",
      "text/plain": [
       "<Figure size 600x600 with 1 Axes>"
      ]
     },
     "metadata": {},
     "output_type": "display_data"
    }
   ],
   "source": [
    "# visualizing the linear regression model with seaborn\n",
    "sns.set(font_scale=1.5)\n",
    "sns.lmplot(data = ret, x = \"^SP500TR\", y = \"MSFT\", height = 6, ci = None)\n",
    "plt.show()"
   ]
  },
  {
   "cell_type": "code",
   "execution_count": null,
   "id": "5d3f5bfe-0635-45af-b941-c852387bbcc9",
   "metadata": {},
   "outputs": [],
   "source": []
  }
 ],
 "metadata": {
  "kernelspec": {
   "display_name": "Python 3 (ipykernel)",
   "language": "python",
   "name": "python3"
  },
  "language_info": {
   "codemirror_mode": {
    "name": "ipython",
    "version": 3
   },
   "file_extension": ".py",
   "mimetype": "text/x-python",
   "name": "python",
   "nbconvert_exporter": "python",
   "pygments_lexer": "ipython3",
   "version": "3.12.7"
  }
 },
 "nbformat": 4,
 "nbformat_minor": 5
}
