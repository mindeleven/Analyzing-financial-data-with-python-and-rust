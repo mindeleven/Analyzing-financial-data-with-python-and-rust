{
 "cells": [
  {
   "cell_type": "markdown",
   "id": "a0dedfcb-f328-4d8d-9cf1-55e2349a6d71",
   "metadata": {},
   "source": [
    "## OLS Regression with statsmodels and DataFrames"
   ]
  },
  {
   "cell_type": "markdown",
   "id": "c60c52e7-4936-44c0-a6d0-e19b71b31727",
   "metadata": {},
   "source": [
    "*(Coding along with the Udemy Couse [Python for Business and Finance](https://www.udemy.com/course/complete-python-for-business-and-finance-bootcamp/) by Alexander Hagmann.)*"
   ]
  },
  {
   "cell_type": "markdown",
   "id": "77f5b1e2-5e7a-452e-99b6-99d4ec78261c",
   "metadata": {},
   "source": [
    "The task now is to perform an analysis of variance and calculate R-squared for our real data movies database:\n",
    "\n",
    "- Performing a linear regression analysis with statsmodels\n",
    "\n",
    "- We can use statsmodels for this whenever our data is organized in a pandas data frame"
   ]
  },
  {
   "cell_type": "code",
   "execution_count": 15,
   "id": "80b887e0-b1cf-4e07-9932-e573ed2eebdc",
   "metadata": {},
   "outputs": [],
   "source": [
    "import pandas as pd\n",
    "import numpy as np\n",
    "from statsmodels.formula.api import ols"
   ]
  },
  {
   "cell_type": "code",
   "execution_count": 16,
   "id": "40e138a0-1463-4405-baa7-7b2c6136cfe9",
   "metadata": {},
   "outputs": [],
   "source": [
    "df = pd.read_csv(\"../assets/data/bud_vs_rev.csv\", parse_dates = [\"release_date\"], index_col = \"release_date\")"
   ]
  },
  {
   "cell_type": "code",
   "execution_count": 17,
   "id": "031831ab-7959-44b5-9f85-19f81bdb73af",
   "metadata": {},
   "outputs": [],
   "source": [
    "df = df.loc[\"2016\"]"
   ]
  },
  {
   "cell_type": "code",
   "execution_count": 18,
   "id": "73c913f9-cd66-4130-9283-996e8b502326",
   "metadata": {},
   "outputs": [
    {
     "data": {
      "text/html": [
       "<div>\n",
       "<style scoped>\n",
       "    .dataframe tbody tr th:only-of-type {\n",
       "        vertical-align: middle;\n",
       "    }\n",
       "\n",
       "    .dataframe tbody tr th {\n",
       "        vertical-align: top;\n",
       "    }\n",
       "\n",
       "    .dataframe thead th {\n",
       "        text-align: right;\n",
       "    }\n",
       "</style>\n",
       "<table border=\"1\" class=\"dataframe\">\n",
       "  <thead>\n",
       "    <tr style=\"text-align: right;\">\n",
       "      <th></th>\n",
       "      <th>title</th>\n",
       "      <th>budget</th>\n",
       "      <th>revenue</th>\n",
       "    </tr>\n",
       "    <tr>\n",
       "      <th>release_date</th>\n",
       "      <th></th>\n",
       "      <th></th>\n",
       "      <th></th>\n",
       "    </tr>\n",
       "  </thead>\n",
       "  <tbody>\n",
       "    <tr>\n",
       "      <th>2016-01-01</th>\n",
       "      <td>Jane Got a Gun</td>\n",
       "      <td>25.0</td>\n",
       "      <td>1.397284</td>\n",
       "    </tr>\n",
       "    <tr>\n",
       "      <th>2016-01-07</th>\n",
       "      <td>Friend Request</td>\n",
       "      <td>9.9</td>\n",
       "      <td>2.400000</td>\n",
       "    </tr>\n",
       "    <tr>\n",
       "      <th>2016-01-07</th>\n",
       "      <td>The Forest</td>\n",
       "      <td>10.0</td>\n",
       "      <td>40.055439</td>\n",
       "    </tr>\n",
       "    <tr>\n",
       "      <th>2016-01-07</th>\n",
       "      <td>Wazir</td>\n",
       "      <td>5.2</td>\n",
       "      <td>9.200000</td>\n",
       "    </tr>\n",
       "    <tr>\n",
       "      <th>2016-01-13</th>\n",
       "      <td>13 Hours: The Secret Soldiers of Benghazi</td>\n",
       "      <td>50.0</td>\n",
       "      <td>69.411370</td>\n",
       "    </tr>\n",
       "    <tr>\n",
       "      <th>...</th>\n",
       "      <td>...</td>\n",
       "      <td>...</td>\n",
       "      <td>...</td>\n",
       "    </tr>\n",
       "    <tr>\n",
       "      <th>2016-12-23</th>\n",
       "      <td>Resident Evil: The Final Chapter</td>\n",
       "      <td>40.0</td>\n",
       "      <td>312.242626</td>\n",
       "    </tr>\n",
       "    <tr>\n",
       "      <th>2016-12-23</th>\n",
       "      <td>Railroad Tigers</td>\n",
       "      <td>50.0</td>\n",
       "      <td>102.205175</td>\n",
       "    </tr>\n",
       "    <tr>\n",
       "      <th>2016-12-23</th>\n",
       "      <td>Dangal</td>\n",
       "      <td>10.4</td>\n",
       "      <td>310.000000</td>\n",
       "    </tr>\n",
       "    <tr>\n",
       "      <th>2016-12-25</th>\n",
       "      <td>Live by Night</td>\n",
       "      <td>108.0</td>\n",
       "      <td>22.678555</td>\n",
       "    </tr>\n",
       "    <tr>\n",
       "      <th>2016-12-25</th>\n",
       "      <td>20th Century Women</td>\n",
       "      <td>7.0</td>\n",
       "      <td>5.816211</td>\n",
       "    </tr>\n",
       "  </tbody>\n",
       "</table>\n",
       "<p>235 rows × 3 columns</p>\n",
       "</div>"
      ],
      "text/plain": [
       "                                                  title  budget     revenue\n",
       "release_date                                                               \n",
       "2016-01-01                               Jane Got a Gun    25.0    1.397284\n",
       "2016-01-07                               Friend Request     9.9    2.400000\n",
       "2016-01-07                                   The Forest    10.0   40.055439\n",
       "2016-01-07                                        Wazir     5.2    9.200000\n",
       "2016-01-13    13 Hours: The Secret Soldiers of Benghazi    50.0   69.411370\n",
       "...                                                 ...     ...         ...\n",
       "2016-12-23             Resident Evil: The Final Chapter    40.0  312.242626\n",
       "2016-12-23                              Railroad Tigers    50.0  102.205175\n",
       "2016-12-23                                       Dangal    10.4  310.000000\n",
       "2016-12-25                                Live by Night   108.0   22.678555\n",
       "2016-12-25                           20th Century Women     7.0    5.816211\n",
       "\n",
       "[235 rows x 3 columns]"
      ]
     },
     "execution_count": 18,
     "metadata": {},
     "output_type": "execute_result"
    }
   ],
   "source": [
    "df"
   ]
  },
  {
   "cell_type": "code",
   "execution_count": 19,
   "id": "fac74c9b-9f46-42f0-8d53-1c58fba06a66",
   "metadata": {},
   "outputs": [],
   "source": [
    "# performing a linear regression with a dataframe and statsmodels\n",
    "# dependent variable revenue in column revenue\n",
    "# independent variable budget in column budget\n",
    "# formula parameter expects as a string the formula for the linear regression: \"dependent-variable tilde-symbol independent-variable\"\n",
    "# \"revenue ~ budget\"\n",
    "model = ols(\"revenue ~ budget\", data = df)"
   ]
  },
  {
   "cell_type": "code",
   "execution_count": 20,
   "id": "26e850dc-8241-4fe1-a71b-6c89f1a54e0c",
   "metadata": {},
   "outputs": [],
   "source": [
    "results = model.fit() # fit the model with fit()"
   ]
  },
  {
   "cell_type": "code",
   "execution_count": 21,
   "id": "bb57cbd2-4068-4dc7-8bdb-c92b3c31a455",
   "metadata": {},
   "outputs": [
    {
     "data": {
      "text/plain": [
       "Intercept   -9.449215\n",
       "budget       3.349424\n",
       "dtype: float64"
      ]
     },
     "execution_count": 21,
     "metadata": {},
     "output_type": "execute_result"
    }
   ],
   "source": [
    "results.params # getting the regression coefficient"
   ]
  },
  {
   "cell_type": "code",
   "execution_count": 22,
   "id": "3753e1f6-d82f-4969-b3a1-8d53db4bcc62",
   "metadata": {},
   "outputs": [
    {
     "data": {
      "text/plain": [
       "np.float64(0.6402124115463808)"
      ]
     },
     "execution_count": 22,
     "metadata": {},
     "output_type": "execute_result"
    }
   ],
   "source": [
    "results.rsquared # calculating r-squared"
   ]
  },
  {
   "cell_type": "markdown",
   "id": "01202ed1-f005-4667-8758-7537a705feb4",
   "metadata": {},
   "source": [
    "__The budget alone explains 64% of the variation of the dependent variable revenue.__"
   ]
  },
  {
   "cell_type": "markdown",
   "id": "9f1f6056-f2e6-4e49-a5ca-03a39fe0c159",
   "metadata": {},
   "source": [
    "And also the explained to variation.\n",
    "\n",
    "And finally, also the unexplained variation of the same muskrat errors.\n",
    "\n",
    "And again, asked about the sequel to 0.6 Far, and we can double check this by calculating the explained\n",
    "\n",
    "variation divided by the total variation.\n",
    "\n",
    "And of course, here we got the very same ask rate of 0.6 far.\n",
    "\n",
    "All right.\n",
    "\n",
    "Thanks for watching and see you also in the next lecture by."
   ]
  },
  {
   "cell_type": "code",
   "execution_count": 23,
   "id": "6a18c38b-c117-446b-8666-1b9f439a0639",
   "metadata": {},
   "outputs": [
    {
     "data": {
      "text/plain": [
       "np.float64(10848340.569368294)"
      ]
     },
     "execution_count": 23,
     "metadata": {},
     "output_type": "execute_result"
    }
   ],
   "source": [
    "tss = results.centered_tss # getting the total variation of the dependent variable\n",
    "tss"
   ]
  },
  {
   "cell_type": "code",
   "execution_count": 24,
   "id": "0b79b2ce-f93b-48a4-9e4e-35b87053924b",
   "metadata": {},
   "outputs": [
    {
     "data": {
      "text/plain": [
       "np.float64(6945242.277191712)"
      ]
     },
     "execution_count": 24,
     "metadata": {},
     "output_type": "execute_result"
    }
   ],
   "source": [
    "rss = results.mse_model # explained variation\n",
    "rss"
   ]
  },
  {
   "cell_type": "code",
   "execution_count": 25,
   "id": "2dc78076-d46a-441c-8b25-b881f0e87a78",
   "metadata": {},
   "outputs": [
    {
     "data": {
      "text/plain": [
       "np.float64(3903098.292176582)"
      ]
     },
     "execution_count": 25,
     "metadata": {},
     "output_type": "execute_result"
    }
   ],
   "source": [
    "sse = results.ssr # unexplained variation\n",
    "sse"
   ]
  },
  {
   "cell_type": "code",
   "execution_count": 26,
   "id": "5fba2d5e-ccdc-45c7-ba7c-e562c917dbc5",
   "metadata": {},
   "outputs": [
    {
     "data": {
      "text/plain": [
       "np.float64(0.6402124115463808)"
      ]
     },
     "execution_count": 26,
     "metadata": {},
     "output_type": "execute_result"
    }
   ],
   "source": [
    "r_squared = results.rsquared\n",
    "r_squared"
   ]
  },
  {
   "cell_type": "code",
   "execution_count": 27,
   "id": "642a0e8e-0af6-4795-ac3f-f23c8951aa90",
   "metadata": {},
   "outputs": [
    {
     "data": {
      "text/plain": [
       "np.float64(0.6402124115463806)"
      ]
     },
     "execution_count": 27,
     "metadata": {},
     "output_type": "execute_result"
    }
   ],
   "source": [
    "rss/tss # double checking R-squared by calculating the explained variation divided by the total variation"
   ]
  },
  {
   "cell_type": "code",
   "execution_count": null,
   "id": "50410ac4-64e1-4aed-948f-48f4242234c6",
   "metadata": {},
   "outputs": [],
   "source": []
  }
 ],
 "metadata": {
  "kernelspec": {
   "display_name": "Python 3 (ipykernel)",
   "language": "python",
   "name": "python3"
  },
  "language_info": {
   "codemirror_mode": {
    "name": "ipython",
    "version": 3
   },
   "file_extension": ".py",
   "mimetype": "text/x-python",
   "name": "python",
   "nbconvert_exporter": "python",
   "pygments_lexer": "ipython3",
   "version": "3.12.7"
  }
 },
 "nbformat": 4,
 "nbformat_minor": 5
}
