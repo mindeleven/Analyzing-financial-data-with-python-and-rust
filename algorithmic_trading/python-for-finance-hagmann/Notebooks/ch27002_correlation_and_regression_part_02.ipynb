{
 "cells": [
  {
   "cell_type": "markdown",
   "id": "5cf306f5-8100-4211-91b9-774b731cb938",
   "metadata": {},
   "source": [
    "## Correlation and Regression Part 1"
   ]
  },
  {
   "cell_type": "markdown",
   "id": "dce1f8b2-ee5d-4c20-877b-cfff9db35a3d",
   "metadata": {},
   "source": [
    "*(Coding along with the Udemy Couse [Python for Business and Finance](https://www.udemy.com/course/complete-python-for-business-and-finance-bootcamp/) by Alexander Hagmann.)*"
   ]
  },
  {
   "cell_type": "markdown",
   "id": "d8294934-5725-4517-b01f-861d217be66e",
   "metadata": {},
   "source": [
    "### Covariance"
   ]
  },
  {
   "cell_type": "markdown",
   "id": "95b871e5-a9d6-451f-8e16-5aa4f5ff64b5",
   "metadata": {},
   "source": [
    "The covariance between two random variables measures the degree to which the two variables move together. It captures the linear relationship.\n",
    "\n",
    "<img src=\"../assets/images/covariance_formula.png\" width=\"70%\" />\n",
    "\n",
    "__Properties:__\n",
    "\n",
    "- Positive covariance: variables move together\n",
    "\n",
    "- Negative covariance: variables move in opposite directions\n",
    "\n",
    "- Covariance of variable with itself == variance\n",
    "\n",
    "__Pitfalls:__\n",
    "\n",
    "- The actual value of the covariance is not meaningful and hard to interpret\n",
    "\n",
    "- The actual value of the covariance can range from minus to plus infinity\n",
    "\n",
    "- The actual value of the covariance is in squared units which are hard to interpret"
   ]
  },
  {
   "cell_type": "markdown",
   "id": "717f432d-3c73-4711-9fcb-7a591de87153",
   "metadata": {},
   "source": [
    "### Correlation Coefficient"
   ]
  },
  {
   "cell_type": "markdown",
   "id": "72c20691-e3d3-4499-b32b-5a0ec1eeeb38",
   "metadata": {},
   "source": [
    "The correlation coefficient (r) measures the strength of the linear relationship (correlation) between two variables. It's the standardized covariance and is easier to interpret because its values are between 1 and +1.\n",
    "\n",
    "<img src=\"../assets/images/correlation_formula.png\" width=\"70%\" />\n",
    "\n",
    "__Interpretation:__\n",
    "\n",
    "<img src=\"../assets/images/correlation_interpretation.png\" width=\"70%\" />\n",
    "\n",
    "*(The screenshots are taken from Alexander Hagmann's Udemy Couse [Python for Business and Finance](https://www.udemy.com/course/complete-python-for-business-and-finance-bootcamp/).)*"
   ]
  },
  {
   "cell_type": "code",
   "execution_count": null,
   "id": "adcc3e81-7f48-4a19-b28c-1ba237e154e4",
   "metadata": {},
   "outputs": [],
   "source": []
  }
 ],
 "metadata": {
  "kernelspec": {
   "display_name": "Python 3 (ipykernel)",
   "language": "python",
   "name": "python3"
  },
  "language_info": {
   "codemirror_mode": {
    "name": "ipython",
    "version": 3
   },
   "file_extension": ".py",
   "mimetype": "text/x-python",
   "name": "python",
   "nbconvert_exporter": "python",
   "pygments_lexer": "ipython3",
   "version": "3.12.7"
  }
 },
 "nbformat": 4,
 "nbformat_minor": 5
}
