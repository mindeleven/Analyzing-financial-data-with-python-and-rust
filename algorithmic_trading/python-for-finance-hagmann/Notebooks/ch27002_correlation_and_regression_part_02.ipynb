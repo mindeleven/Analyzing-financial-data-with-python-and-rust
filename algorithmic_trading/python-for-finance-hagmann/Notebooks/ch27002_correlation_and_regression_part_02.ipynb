{
 "cells": [
  {
   "cell_type": "markdown",
   "id": "5cf306f5-8100-4211-91b9-774b731cb938",
   "metadata": {},
   "source": [
    "## Correlation and Regression Part 1"
   ]
  },
  {
   "cell_type": "markdown",
   "id": "dce1f8b2-ee5d-4c20-877b-cfff9db35a3d",
   "metadata": {},
   "source": [
    "*(Coding along with the Udemy Couse [Python for Business and Finance](https://www.udemy.com/course/complete-python-for-business-and-finance-bootcamp/) by Alexander Hagmann.)*"
   ]
  },
  {
   "cell_type": "markdown",
   "id": "d8294934-5725-4517-b01f-861d217be66e",
   "metadata": {},
   "source": [
    "### Covariance"
   ]
  },
  {
   "cell_type": "markdown",
   "id": "95b871e5-a9d6-451f-8e16-5aa4f5ff64b5",
   "metadata": {},
   "source": [
    "The covariance between two random variables measures the degree to which the two variables move together. It captures the linear relationship.\n",
    "\n",
    "<img src=\"../assets/images/covariance_formula.png\" width=\"70%\" />\n",
    "\n",
    "__Properties:__\n",
    "\n",
    "- Positive covariance: variables move together\n",
    "\n",
    "- Negative covariance: variables move in opposite directions\n",
    "\n",
    "- Covariance of variable with itself == variance\n",
    "\n",
    "__Pitfalls:__\n",
    "\n",
    "- The actual value of the covariance is not meaningful and hard to interpret\n",
    "\n",
    "- The actual value of the covariance can range from minus to plus infinity\n",
    "\n",
    "- The actual value of the covariance is in squared units which are hard to interpret"
   ]
  },
  {
   "cell_type": "markdown",
   "id": "717f432d-3c73-4711-9fcb-7a591de87153",
   "metadata": {},
   "source": [
    "### Correlation Coefficient"
   ]
  },
  {
   "cell_type": "markdown",
   "id": "72c20691-e3d3-4499-b32b-5a0ec1eeeb38",
   "metadata": {},
   "source": [
    "The correlation coefficient (r) measures the strength of the linear relationship (correlation) between two variables. It's the standardized covariance and is easier to interpret because its values are between 1 and +1.\n",
    "\n",
    "<img src=\"../assets/images/correlation_formula.png\" width=\"70%\" />\n",
    "\n",
    "__Interpretation:__\n",
    "\n",
    "<img src=\"../assets/images/correlation_interpretation.png\" width=\"70%\" />\n",
    "\n",
    "*(The screenshots are taken from Alexander Hagmann's Udemy Couse [Python for Business and Finance](https://www.udemy.com/course/complete-python-for-business-and-finance-bootcamp/).)*"
   ]
  },
  {
   "cell_type": "markdown",
   "id": "bc9e1657-0a1d-4f09-a2c6-4e1b703dbe56",
   "metadata": {},
   "source": [
    "### Calculating Covariance and Correlation"
   ]
  },
  {
   "cell_type": "code",
   "execution_count": 1,
   "id": "1a100c9f-1953-4d56-8c18-10377b2228e4",
   "metadata": {},
   "outputs": [],
   "source": [
    "import pandas as pd\n",
    "import numpy as np"
   ]
  },
  {
   "cell_type": "code",
   "execution_count": 2,
   "id": "55082ece-d20c-4997-8cb1-f8d472e3c047",
   "metadata": {},
   "outputs": [],
   "source": [
    "df = pd.read_csv(\"../assets/data/bud_vs_rev.csv\", parse_dates = [\"release_date\"], index_col = \"release_date\")"
   ]
  },
  {
   "cell_type": "code",
   "execution_count": 3,
   "id": "0dd3f6c6-20bb-44fa-9ffb-d2ec99c20832",
   "metadata": {},
   "outputs": [
    {
     "data": {
      "text/html": [
       "<div>\n",
       "<style scoped>\n",
       "    .dataframe tbody tr th:only-of-type {\n",
       "        vertical-align: middle;\n",
       "    }\n",
       "\n",
       "    .dataframe tbody tr th {\n",
       "        vertical-align: top;\n",
       "    }\n",
       "\n",
       "    .dataframe thead th {\n",
       "        text-align: right;\n",
       "    }\n",
       "</style>\n",
       "<table border=\"1\" class=\"dataframe\">\n",
       "  <thead>\n",
       "    <tr style=\"text-align: right;\">\n",
       "      <th></th>\n",
       "      <th>title</th>\n",
       "      <th>budget</th>\n",
       "      <th>revenue</th>\n",
       "    </tr>\n",
       "    <tr>\n",
       "      <th>release_date</th>\n",
       "      <th></th>\n",
       "      <th></th>\n",
       "      <th></th>\n",
       "    </tr>\n",
       "  </thead>\n",
       "  <tbody>\n",
       "    <tr>\n",
       "      <th>1915-02-08</th>\n",
       "      <td>The Birth of a Nation</td>\n",
       "      <td>0.100000</td>\n",
       "      <td>11.000000</td>\n",
       "    </tr>\n",
       "    <tr>\n",
       "      <th>1915-12-13</th>\n",
       "      <td>The Cheat</td>\n",
       "      <td>0.017311</td>\n",
       "      <td>0.137365</td>\n",
       "    </tr>\n",
       "    <tr>\n",
       "      <th>1916-12-24</th>\n",
       "      <td>20,000 Leagues Under the Sea</td>\n",
       "      <td>0.200000</td>\n",
       "      <td>8.000000</td>\n",
       "    </tr>\n",
       "    <tr>\n",
       "      <th>1918-08-01</th>\n",
       "      <td>Mickey</td>\n",
       "      <td>0.250000</td>\n",
       "      <td>8.000000</td>\n",
       "    </tr>\n",
       "    <tr>\n",
       "      <th>1921-01-21</th>\n",
       "      <td>The Kid</td>\n",
       "      <td>0.250000</td>\n",
       "      <td>2.500000</td>\n",
       "    </tr>\n",
       "    <tr>\n",
       "      <th>...</th>\n",
       "      <td>...</td>\n",
       "      <td>...</td>\n",
       "      <td>...</td>\n",
       "    </tr>\n",
       "    <tr>\n",
       "      <th>2017-07-26</th>\n",
       "      <td>Atomic Blonde</td>\n",
       "      <td>30.000000</td>\n",
       "      <td>90.007945</td>\n",
       "    </tr>\n",
       "    <tr>\n",
       "      <th>2017-07-28</th>\n",
       "      <td>The Emoji Movie</td>\n",
       "      <td>50.000000</td>\n",
       "      <td>66.913939</td>\n",
       "    </tr>\n",
       "    <tr>\n",
       "      <th>2017-08-03</th>\n",
       "      <td>The Dark Tower</td>\n",
       "      <td>60.000000</td>\n",
       "      <td>71.000000</td>\n",
       "    </tr>\n",
       "    <tr>\n",
       "      <th>2017-08-03</th>\n",
       "      <td>Wind River</td>\n",
       "      <td>11.000000</td>\n",
       "      <td>184.770205</td>\n",
       "    </tr>\n",
       "    <tr>\n",
       "      <th>2017-08-04</th>\n",
       "      <td>Kidnap</td>\n",
       "      <td>21.000000</td>\n",
       "      <td>24.527158</td>\n",
       "    </tr>\n",
       "  </tbody>\n",
       "</table>\n",
       "<p>5381 rows × 3 columns</p>\n",
       "</div>"
      ],
      "text/plain": [
       "                                     title     budget     revenue\n",
       "release_date                                                     \n",
       "1915-02-08           The Birth of a Nation   0.100000   11.000000\n",
       "1915-12-13                       The Cheat   0.017311    0.137365\n",
       "1916-12-24    20,000 Leagues Under the Sea   0.200000    8.000000\n",
       "1918-08-01                          Mickey   0.250000    8.000000\n",
       "1921-01-21                         The Kid   0.250000    2.500000\n",
       "...                                    ...        ...         ...\n",
       "2017-07-26                   Atomic Blonde  30.000000   90.007945\n",
       "2017-07-28                 The Emoji Movie  50.000000   66.913939\n",
       "2017-08-03                  The Dark Tower  60.000000   71.000000\n",
       "2017-08-03                      Wind River  11.000000  184.770205\n",
       "2017-08-04                          Kidnap  21.000000   24.527158\n",
       "\n",
       "[5381 rows x 3 columns]"
      ]
     },
     "execution_count": 3,
     "metadata": {},
     "output_type": "execute_result"
    }
   ],
   "source": [
    "df"
   ]
  },
  {
   "cell_type": "code",
   "execution_count": 4,
   "id": "eacc4144-097a-4988-b7b2-87f541c1eaa1",
   "metadata": {},
   "outputs": [],
   "source": [
    "df = df.loc[\"2016\"]"
   ]
  },
  {
   "cell_type": "code",
   "execution_count": 5,
   "id": "add617f8-8e14-4302-a52c-c0bdf69f6e89",
   "metadata": {},
   "outputs": [
    {
     "data": {
      "text/html": [
       "<div>\n",
       "<style scoped>\n",
       "    .dataframe tbody tr th:only-of-type {\n",
       "        vertical-align: middle;\n",
       "    }\n",
       "\n",
       "    .dataframe tbody tr th {\n",
       "        vertical-align: top;\n",
       "    }\n",
       "\n",
       "    .dataframe thead th {\n",
       "        text-align: right;\n",
       "    }\n",
       "</style>\n",
       "<table border=\"1\" class=\"dataframe\">\n",
       "  <thead>\n",
       "    <tr style=\"text-align: right;\">\n",
       "      <th></th>\n",
       "      <th>title</th>\n",
       "      <th>budget</th>\n",
       "      <th>revenue</th>\n",
       "    </tr>\n",
       "    <tr>\n",
       "      <th>release_date</th>\n",
       "      <th></th>\n",
       "      <th></th>\n",
       "      <th></th>\n",
       "    </tr>\n",
       "  </thead>\n",
       "  <tbody>\n",
       "    <tr>\n",
       "      <th>2016-01-01</th>\n",
       "      <td>Jane Got a Gun</td>\n",
       "      <td>25.0</td>\n",
       "      <td>1.397284</td>\n",
       "    </tr>\n",
       "    <tr>\n",
       "      <th>2016-01-07</th>\n",
       "      <td>Friend Request</td>\n",
       "      <td>9.9</td>\n",
       "      <td>2.400000</td>\n",
       "    </tr>\n",
       "    <tr>\n",
       "      <th>2016-01-07</th>\n",
       "      <td>The Forest</td>\n",
       "      <td>10.0</td>\n",
       "      <td>40.055439</td>\n",
       "    </tr>\n",
       "    <tr>\n",
       "      <th>2016-01-07</th>\n",
       "      <td>Wazir</td>\n",
       "      <td>5.2</td>\n",
       "      <td>9.200000</td>\n",
       "    </tr>\n",
       "    <tr>\n",
       "      <th>2016-01-13</th>\n",
       "      <td>13 Hours: The Secret Soldiers of Benghazi</td>\n",
       "      <td>50.0</td>\n",
       "      <td>69.411370</td>\n",
       "    </tr>\n",
       "    <tr>\n",
       "      <th>...</th>\n",
       "      <td>...</td>\n",
       "      <td>...</td>\n",
       "      <td>...</td>\n",
       "    </tr>\n",
       "    <tr>\n",
       "      <th>2016-12-23</th>\n",
       "      <td>Resident Evil: The Final Chapter</td>\n",
       "      <td>40.0</td>\n",
       "      <td>312.242626</td>\n",
       "    </tr>\n",
       "    <tr>\n",
       "      <th>2016-12-23</th>\n",
       "      <td>Railroad Tigers</td>\n",
       "      <td>50.0</td>\n",
       "      <td>102.205175</td>\n",
       "    </tr>\n",
       "    <tr>\n",
       "      <th>2016-12-23</th>\n",
       "      <td>Dangal</td>\n",
       "      <td>10.4</td>\n",
       "      <td>310.000000</td>\n",
       "    </tr>\n",
       "    <tr>\n",
       "      <th>2016-12-25</th>\n",
       "      <td>Live by Night</td>\n",
       "      <td>108.0</td>\n",
       "      <td>22.678555</td>\n",
       "    </tr>\n",
       "    <tr>\n",
       "      <th>2016-12-25</th>\n",
       "      <td>20th Century Women</td>\n",
       "      <td>7.0</td>\n",
       "      <td>5.816211</td>\n",
       "    </tr>\n",
       "  </tbody>\n",
       "</table>\n",
       "<p>235 rows × 3 columns</p>\n",
       "</div>"
      ],
      "text/plain": [
       "                                                  title  budget     revenue\n",
       "release_date                                                               \n",
       "2016-01-01                               Jane Got a Gun    25.0    1.397284\n",
       "2016-01-07                               Friend Request     9.9    2.400000\n",
       "2016-01-07                                   The Forest    10.0   40.055439\n",
       "2016-01-07                                        Wazir     5.2    9.200000\n",
       "2016-01-13    13 Hours: The Secret Soldiers of Benghazi    50.0   69.411370\n",
       "...                                                 ...     ...         ...\n",
       "2016-12-23             Resident Evil: The Final Chapter    40.0  312.242626\n",
       "2016-12-23                              Railroad Tigers    50.0  102.205175\n",
       "2016-12-23                                       Dangal    10.4  310.000000\n",
       "2016-12-25                                Live by Night   108.0   22.678555\n",
       "2016-12-25                           20th Century Women     7.0    5.816211\n",
       "\n",
       "[235 rows x 3 columns]"
      ]
     },
     "execution_count": 5,
     "metadata": {},
     "output_type": "execute_result"
    }
   ],
   "source": [
    "df"
   ]
  },
  {
   "cell_type": "code",
   "execution_count": 6,
   "id": "9ec19c0e-d368-4c87-b522-8c3c60fa1705",
   "metadata": {},
   "outputs": [
    {
     "name": "stdout",
     "output_type": "stream",
     "text": [
      "<class 'pandas.core.frame.DataFrame'>\n",
      "DatetimeIndex: 235 entries, 2016-01-01 to 2016-12-25\n",
      "Data columns (total 3 columns):\n",
      " #   Column   Non-Null Count  Dtype  \n",
      "---  ------   --------------  -----  \n",
      " 0   title    235 non-null    object \n",
      " 1   budget   235 non-null    float64\n",
      " 2   revenue  235 non-null    float64\n",
      "dtypes: float64(2), object(1)\n",
      "memory usage: 7.3+ KB\n"
     ]
    }
   ],
   "source": [
    "df.info()"
   ]
  },
  {
   "cell_type": "code",
   "execution_count": 7,
   "id": "9f71a665-3aee-4ca0-980d-67ffab557b12",
   "metadata": {},
   "outputs": [
    {
     "data": {
      "text/html": [
       "<div>\n",
       "<style scoped>\n",
       "    .dataframe tbody tr th:only-of-type {\n",
       "        vertical-align: middle;\n",
       "    }\n",
       "\n",
       "    .dataframe tbody tr th {\n",
       "        vertical-align: top;\n",
       "    }\n",
       "\n",
       "    .dataframe thead th {\n",
       "        text-align: right;\n",
       "    }\n",
       "</style>\n",
       "<table border=\"1\" class=\"dataframe\">\n",
       "  <thead>\n",
       "    <tr style=\"text-align: right;\">\n",
       "      <th></th>\n",
       "      <th>budget</th>\n",
       "      <th>revenue</th>\n",
       "    </tr>\n",
       "  </thead>\n",
       "  <tbody>\n",
       "    <tr>\n",
       "      <th>count</th>\n",
       "      <td>235.000000</td>\n",
       "      <td>235.000000</td>\n",
       "    </tr>\n",
       "    <tr>\n",
       "      <th>mean</th>\n",
       "      <td>40.461695</td>\n",
       "      <td>126.074160</td>\n",
       "    </tr>\n",
       "    <tr>\n",
       "      <th>std</th>\n",
       "      <td>51.435816</td>\n",
       "      <td>215.314723</td>\n",
       "    </tr>\n",
       "    <tr>\n",
       "      <th>min</th>\n",
       "      <td>0.000500</td>\n",
       "      <td>0.000050</td>\n",
       "    </tr>\n",
       "    <tr>\n",
       "      <th>25%</th>\n",
       "      <td>8.500000</td>\n",
       "      <td>5.889868</td>\n",
       "    </tr>\n",
       "    <tr>\n",
       "      <th>50%</th>\n",
       "      <td>20.000000</td>\n",
       "      <td>32.000000</td>\n",
       "    </tr>\n",
       "    <tr>\n",
       "      <th>75%</th>\n",
       "      <td>45.500000</td>\n",
       "      <td>142.200330</td>\n",
       "    </tr>\n",
       "    <tr>\n",
       "      <th>max</th>\n",
       "      <td>250.000000</td>\n",
       "      <td>1153.304495</td>\n",
       "    </tr>\n",
       "  </tbody>\n",
       "</table>\n",
       "</div>"
      ],
      "text/plain": [
       "           budget      revenue\n",
       "count  235.000000   235.000000\n",
       "mean    40.461695   126.074160\n",
       "std     51.435816   215.314723\n",
       "min      0.000500     0.000050\n",
       "25%      8.500000     5.889868\n",
       "50%     20.000000    32.000000\n",
       "75%     45.500000   142.200330\n",
       "max    250.000000  1153.304495"
      ]
     },
     "execution_count": 7,
     "metadata": {},
     "output_type": "execute_result"
    }
   ],
   "source": [
    "df.describe()"
   ]
  },
  {
   "cell_type": "code",
   "execution_count": 8,
   "id": "a05ebfcd-10a5-4665-9bd3-fd757eb4822b",
   "metadata": {},
   "outputs": [
    {
     "data": {
      "text/plain": [
       "budget      40.461695\n",
       "revenue    126.074160\n",
       "dtype: float64"
      ]
     },
     "execution_count": 8,
     "metadata": {},
     "output_type": "execute_result"
    }
   ],
   "source": [
    "df.mean(numeric_only=True)"
   ]
  },
  {
   "cell_type": "code",
   "execution_count": 9,
   "id": "241a7220-2921-4497-98c8-08030734fcf5",
   "metadata": {},
   "outputs": [
    {
     "data": {
      "text/plain": [
       "budget      2645.643127\n",
       "revenue    46360.429784\n",
       "dtype: float64"
      ]
     },
     "execution_count": 9,
     "metadata": {},
     "output_type": "execute_result"
    }
   ],
   "source": [
    "df.var(numeric_only=True)"
   ]
  },
  {
   "cell_type": "code",
   "execution_count": 10,
   "id": "ce6fd770-d72d-4944-9c95-cbf396ec170f",
   "metadata": {},
   "outputs": [
    {
     "data": {
      "text/html": [
       "<div>\n",
       "<style scoped>\n",
       "    .dataframe tbody tr th:only-of-type {\n",
       "        vertical-align: middle;\n",
       "    }\n",
       "\n",
       "    .dataframe tbody tr th {\n",
       "        vertical-align: top;\n",
       "    }\n",
       "\n",
       "    .dataframe thead th {\n",
       "        text-align: right;\n",
       "    }\n",
       "</style>\n",
       "<table border=\"1\" class=\"dataframe\">\n",
       "  <thead>\n",
       "    <tr style=\"text-align: right;\">\n",
       "      <th></th>\n",
       "      <th>budget</th>\n",
       "      <th>revenue</th>\n",
       "    </tr>\n",
       "  </thead>\n",
       "  <tbody>\n",
       "    <tr>\n",
       "      <th>budget</th>\n",
       "      <td>2645.643127</td>\n",
       "      <td>8861.380845</td>\n",
       "    </tr>\n",
       "    <tr>\n",
       "      <th>revenue</th>\n",
       "      <td>8861.380845</td>\n",
       "      <td>46360.429784</td>\n",
       "    </tr>\n",
       "  </tbody>\n",
       "</table>\n",
       "</div>"
      ],
      "text/plain": [
       "              budget       revenue\n",
       "budget   2645.643127   8861.380845\n",
       "revenue  8861.380845  46360.429784"
      ]
     },
     "execution_count": 10,
     "metadata": {},
     "output_type": "execute_result"
    }
   ],
   "source": [
    "df.cov(numeric_only=True)"
   ]
  },
  {
   "cell_type": "code",
   "execution_count": 11,
   "id": "97d03f0d-8545-4cbc-a659-9326a26add42",
   "metadata": {},
   "outputs": [
    {
     "data": {
      "text/plain": [
       "np.float64(8861.380845230346)"
      ]
     },
     "execution_count": 11,
     "metadata": {},
     "output_type": "execute_result"
    }
   ],
   "source": [
    "df.budget.cov(df.revenue)"
   ]
  },
  {
   "cell_type": "code",
   "execution_count": 12,
   "id": "0de67fd8-1cf6-4558-b15a-924eaff1d57a",
   "metadata": {},
   "outputs": [
    {
     "data": {
      "text/html": [
       "<div>\n",
       "<style scoped>\n",
       "    .dataframe tbody tr th:only-of-type {\n",
       "        vertical-align: middle;\n",
       "    }\n",
       "\n",
       "    .dataframe tbody tr th {\n",
       "        vertical-align: top;\n",
       "    }\n",
       "\n",
       "    .dataframe thead th {\n",
       "        text-align: right;\n",
       "    }\n",
       "</style>\n",
       "<table border=\"1\" class=\"dataframe\">\n",
       "  <thead>\n",
       "    <tr style=\"text-align: right;\">\n",
       "      <th></th>\n",
       "      <th>budget</th>\n",
       "      <th>revenue</th>\n",
       "    </tr>\n",
       "  </thead>\n",
       "  <tbody>\n",
       "    <tr>\n",
       "      <th>budget</th>\n",
       "      <td>1.000000</td>\n",
       "      <td>0.800133</td>\n",
       "    </tr>\n",
       "    <tr>\n",
       "      <th>revenue</th>\n",
       "      <td>0.800133</td>\n",
       "      <td>1.000000</td>\n",
       "    </tr>\n",
       "  </tbody>\n",
       "</table>\n",
       "</div>"
      ],
      "text/plain": [
       "           budget   revenue\n",
       "budget   1.000000  0.800133\n",
       "revenue  0.800133  1.000000"
      ]
     },
     "execution_count": 12,
     "metadata": {},
     "output_type": "execute_result"
    }
   ],
   "source": [
    "df.corr(numeric_only=True)"
   ]
  },
  {
   "cell_type": "code",
   "execution_count": 13,
   "id": "c6be8bce-7912-4d33-be36-e2aa6f0659ef",
   "metadata": {},
   "outputs": [
    {
     "data": {
      "text/plain": [
       "np.float64(0.8001327462030162)"
      ]
     },
     "execution_count": 13,
     "metadata": {},
     "output_type": "execute_result"
    }
   ],
   "source": [
    "df.budget.corr(df.revenue)"
   ]
  },
  {
   "cell_type": "code",
   "execution_count": 14,
   "id": "7bec3a13-63ce-44f8-97fb-db9f9294ae14",
   "metadata": {},
   "outputs": [
    {
     "data": {
      "text/plain": [
       "np.float64(0.8001327462030163)"
      ]
     },
     "execution_count": 14,
     "metadata": {},
     "output_type": "execute_result"
    }
   ],
   "source": [
    "df.budget.cov(df.revenue) / (df.budget.std() * df.revenue.std())"
   ]
  },
  {
   "cell_type": "code",
   "execution_count": 15,
   "id": "53e5873a-01f1-4b79-8ade-567d271956ca",
   "metadata": {},
   "outputs": [
    {
     "data": {
      "text/plain": [
       "array([[ 2645.64312661,  8861.38084523],\n",
       "       [ 8861.38084523, 46360.42978363]])"
      ]
     },
     "execution_count": 15,
     "metadata": {},
     "output_type": "execute_result"
    }
   ],
   "source": [
    "np.cov(df.budget, df.revenue)"
   ]
  },
  {
   "cell_type": "code",
   "execution_count": 16,
   "id": "05624b67-73de-4070-93dc-202a5e1bf55b",
   "metadata": {},
   "outputs": [
    {
     "data": {
      "text/plain": [
       "array([[1.        , 0.80013275],\n",
       "       [0.80013275, 1.        ]])"
      ]
     },
     "execution_count": 16,
     "metadata": {},
     "output_type": "execute_result"
    }
   ],
   "source": [
    "np.corrcoef(df.budget, df.revenue)"
   ]
  },
  {
   "cell_type": "markdown",
   "id": "0fb4f9fd-50d6-40d6-8e4f-f4f18f0f0dd3",
   "metadata": {},
   "source": [
    "### Visual Interpretation with Scatterplots"
   ]
  },
  {
   "cell_type": "code",
   "execution_count": 18,
   "id": "ed57e1da-1a8a-48ee-85b3-42987079c897",
   "metadata": {},
   "outputs": [],
   "source": [
    "import matplotlib.pyplot as plt\n",
    "import seaborn as sns"
   ]
  },
  {
   "cell_type": "code",
   "execution_count": 19,
   "id": "1ca03e37-e246-4eac-a96a-dc9286b8e839",
   "metadata": {},
   "outputs": [
    {
     "data": {
      "image/png": "[encoded data removed]",
      "text/plain": [
       "<Figure size 1500x1000 with 1 Axes>"
      ]
     },
     "metadata": {},
     "output_type": "display_data"
    }
   ],
   "source": [
    "df.plot(kind = \"scatter\", x = \"budget\", y = \"revenue\", figsize = (15, 10), fontsize = 15)\n",
    "plt.xlabel(\"Budget (in MUSD)\", fontsize = 13)\n",
    "plt.ylabel(\"Revenue (in MUSD)\", fontsize = 13)\n",
    "plt.show()"
   ]
  },
  {
   "cell_type": "code",
   "execution_count": 20,
   "id": "99c5c451-6214-4736-84f1-d7ecc8dd6368",
   "metadata": {},
   "outputs": [
    {
     "data": {
      "image/png": "[encoded data removed]",
      "text/plain": [
       "<Figure size 800x800 with 3 Axes>"
      ]
     },
     "metadata": {},
     "output_type": "display_data"
    }
   ],
   "source": [
    "sns.set(font_scale=1.5)\n",
    "sns.jointplot(data = df, x = \"budget\", y = \"revenue\", height = 8)\n",
    "plt.show()"
   ]
  },
  {
   "cell_type": "code",
   "execution_count": null,
   "id": "71cd6317-d3e9-4135-a22a-90bf3dc42d3d",
   "metadata": {},
   "outputs": [],
   "source": []
  }
 ],
 "metadata": {
  "kernelspec": {
   "display_name": "Python 3 (ipykernel)",
   "language": "python",
   "name": "python3"
  },
  "language_info": {
   "codemirror_mode": {
    "name": "ipython",
    "version": 3
   },
   "file_extension": ".py",
   "mimetype": "text/x-python",
   "name": "python",
   "nbconvert_exporter": "python",
   "pygments_lexer": "ipython3",
   "version": "3.12.7"
  }
 },
 "nbformat": 4,
 "nbformat_minor": 5
}
