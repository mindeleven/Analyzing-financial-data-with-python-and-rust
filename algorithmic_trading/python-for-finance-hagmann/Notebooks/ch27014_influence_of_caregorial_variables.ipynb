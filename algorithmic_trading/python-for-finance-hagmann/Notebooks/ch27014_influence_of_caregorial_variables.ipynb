{
 "cells": [
  {
   "cell_type": "markdown",
   "id": "311b8070-ad99-43f6-9e8d-47136accda89",
   "metadata": {},
   "source": [
    "## The Influence of Caregorial Variables on Dependent Variables"
   ]
  },
  {
   "cell_type": "markdown",
   "id": "3cfd923e-daf1-41fa-a600-e615ce345670",
   "metadata": {},
   "source": [
    "*(Coding along with the Udemy Couse [Python for Business and Finance](https://www.udemy.com/course/complete-python-for-business-and-finance-bootcamp/) by Alexander Hagmann, lecture 368-369, __[Creating and working with Dummy Variables](https://www.udemy.com/course/complete-python-for-business-and-finance-bootcamp/learn/lecture/17574312#overview)__.)*"
   ]
  },
  {
   "cell_type": "markdown",
   "id": "07724837-0ddc-4f2f-b66c-264f242dbe65",
   "metadata": {},
   "source": [
    "In most cases, also __categorical variables__ significantly influence and explain the dependent variable.\n",
    "\n",
    "A categorical variable is a variable with a limited number of possible values which are typically non-numerical. For instance, the gender of a person is a categorical variable.\n",
    "\n",
    "For our example of the movies database we can take the original language of a movie where we have the values English, French, German and many more. In order to use these categorical variables in our regression model we have to __convert them to dummy variables__.\n",
    "\n",
    "*Dummy variables can take two values, one and zero or true and false.*\n",
    "\n",
    "Our goal here is to identify categorical data that could influence a movie's revenue and convert these categorical variables to dummy variables. \n",
    "\n",
    "*We will run the regression model with these dummy variables to find out, if we can further improve our model.*"
   ]
  },
  {
   "cell_type": "code",
   "execution_count": null,
   "id": "8b32fd2d-cd25-43a4-a314-0e4d83a0635a",
   "metadata": {},
   "outputs": [],
   "source": []
  }
 ],
 "metadata": {
  "kernelspec": {
   "display_name": "Python 3 (ipykernel)",
   "language": "python",
   "name": "python3"
  },
  "language_info": {
   "codemirror_mode": {
    "name": "ipython",
    "version": 3
   },
   "file_extension": ".py",
   "mimetype": "text/x-python",
   "name": "python",
   "nbconvert_exporter": "python",
   "pygments_lexer": "ipython3",
   "version": "3.12.7"
  }
 },
 "nbformat": 4,
 "nbformat_minor": 5
}
