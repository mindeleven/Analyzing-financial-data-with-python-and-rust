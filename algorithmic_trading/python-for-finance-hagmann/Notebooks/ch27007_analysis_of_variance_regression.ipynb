{
 "cells": [
  {
   "cell_type": "markdown",
   "id": "d69722ca-97b0-4516-9950-1002c81cf402",
   "metadata": {},
   "source": [
    "## Analysis of Variance (ANOVA) Regression"
   ]
  },
  {
   "cell_type": "markdown",
   "id": "81dfb72d-841f-46ae-8010-ba55f6677a7d",
   "metadata": {},
   "source": [
    "*(Coding along with the Udemy Couse [Python for Business and Finance](https://www.udemy.com/course/complete-python-for-business-and-finance-bootcamp/) by Alexander Hagmann.)*"
   ]
  },
  {
   "cell_type": "markdown",
   "id": "ab857a49-4026-48e9-8a65-5ddfdca05c9b",
   "metadata": {},
   "source": [
    "### __Analysis of Variance (ANOVA)__\n",
    "\n",
    "The question we want to answer is, how well does the model fit the data and explain the dependent variable?\n",
    "\n",
    "The purpose of simple linear regression is to explain the *variation* in a dependent variable by the variation in a single independent variable. \"Variation\" is interpreted as degree to which a variable differs from its mean value (this is similar but not the same as *variance*).\n",
    "\n",
    "***If we look at one specific data point (x,y), a linear regression tries to explain the variation of the dependent variable from its mean (mean of y = dependent variable) by the variation of for the independent variable from its mean (mean of x = independent variable):***\n",
    "\n",
    "<img src=\"../assets/images/variation_from_mean.png\" width=\"60%\" />"
   ]
  },
  {
   "cell_type": "markdown",
   "id": "747f6dd7-c472-49e6-a789-5b5a40b2725b",
   "metadata": {},
   "source": [
    "### __Total Variation in Dependent Variable (TSS)__\n",
    "\n",
    "Let's have a look at the dependent variable y. We have the data points of the dependent valiable y and the mean value for the dependent y variable. Between the data point and the mean we have the distance, or deviation, from the mean value for every data point. Now we can calculate the total variation by summing up the square distances.\n",
    "\n",
    "<img src=\"../assets/images/tss.png\" width=\"60%\" />\n",
    "\n",
    "The total sum of squares is calculated with the following formula:\n",
    "\n",
    "<img src=\"../assets/images/tss_formula.png\" width=\"30%\" />\n",
    "\n",
    "For each data point we take the y-value and calculate the distance from y-mean squared, sum up all the squared distances and end up that the total sum of squares.\n",
    "\n",
    "What we get is the total variation of the dependent variable from its mean.\n",
    "\n",
    "This is similar, but not equal to the variance: to get the variance we would have to divide TSS by n minus one.\n",
    "\n",
    "*(Screenshots taken from Alexander Hagmann's Udemy Couse [Python for Business and Finance](https://www.udemy.com/course/complete-python-for-business-and-finance-bootcamp/).)*\n"
   ]
  },
  {
   "cell_type": "markdown",
   "id": "102f368b-2fe0-454a-942c-8d7e4fb53b1b",
   "metadata": {},
   "source": [
    "### __Regression Sum of Squares (RSS) Model__\n",
    "\n",
    "__How many percent of the total variation can be explained by our linear regression model?__\n",
    "\n",
    "Once again we have our data points, we've the linear regression line and we have the mean values (or the line through the mean values of the dependent variable y that's parallel to the x-axis) of the dependent variable y.\n",
    "\n",
    "<img src=\"../assets/images/rss.png\" width=\"60%\" />\n",
    "\n",
    "The total sum of squares is calculated with the following formula:\n",
    "\n",
    "<img src=\"../assets/images/rss_formula.png\" width=\"30%\" />\n",
    "\n",
    "For each data point:\n",
    "- we calculate the difference (or distance) between the predicted y-value on the regression line minus the average y-value\n",
    "- then we square the calculated distance\n",
    "- and finally we sum up the squared distances"
   ]
  },
  {
   "cell_type": "markdown",
   "id": "fb80246f-68b3-45be-8023-225c9e9dcd69",
   "metadata": {},
   "source": [
    "### __Unexplained Variation in the Dependent Variable (Sum of Squared Errors, SEE)__\n",
    "\n",
    "The distances between the actual y-values and the predicted y-values are the residuals (the errors) of our linear regression. By summing up these errors, we get the Sum of Squared Errors, SEE.\n",
    "\n",
    "The sum of squared errors is calculated with the following formula:\n",
    "\n",
    "<img src=\"../assets/images/see_formula.png\" width=\"30%\" />"
   ]
  },
  {
   "cell_type": "markdown",
   "id": "fdc557df-a2d7-4420-8d06-db85aebfad63",
   "metadata": {},
   "source": [
    "### __ANOVA Summary__\n",
    "\n",
    "<img src=\"../assets/images/anova_summary.png\" width=\"70%\" />\n",
    "\n",
    "Let's start our summary with the regression line and the data points. If we look at a single data point, this data point has a certain distance to the mean of the dependent variable (y-line, total distance of the real y-value from the mean y-value). This is the __Total Variation TSS__.\n",
    "\n",
    "This total variation can be split up in\n",
    "\n",
    "1. the __Explained Variation RSS__, which is the distance that can be explained by the linear regression (distance between the predicted y-value on the regression line from the mean y-value).\n",
    "\n",
    "2. and the __Unexplained Variation SEE__, which cannot be explained by the linear regression and is the sum of squared errors.\n",
    "\n",
    "The unexplained variation SEE is equal to the total variation TSS minus the explained variation RSS:\n",
    "\n",
    "__SEE = TSS - RSS__\n",
    "\n",
    "\n",
    "*The goal of an ordinary least squares regression is to minimize the sum of squared errors.*"
   ]
  },
  {
   "cell_type": "markdown",
   "id": "9cb822ec-78f5-4d9b-9e80-77a8ede314bf",
   "metadata": {},
   "source": [
    "#### __Quantifying the fit of the linear regression model by calculating the coefficient of determination R<sup>2</sup> (R-Squared)__\n",
    "\n",
    "\n",
    "R<sup>2</sup> is defined as the proportion of the variation in the dependent variable that is ***explained by the independent variable / regression model***. It gives some information about the __goodness of fit__ of a model and can range from 0 (no fit) to 1 (perfect fit).\n",
    "\n",
    "<img src=\"../assets/images/r_squared_formula.png\" width=\"50%\" />\n",
    "\n",
    "***In a case were we have only one independent variable (like in this linear regression example) R<sup>2</sup> is actually the squared correlation coefficient r<sup>2</sup>.***"
   ]
  },
  {
   "cell_type": "markdown",
   "id": "82c1671b-1711-4371-bb4a-de56f73489e4",
   "metadata": {},
   "source": [
    "### OLS Regression with Statsmodels - ANOVA"
   ]
  },
  {
   "cell_type": "code",
   "execution_count": 1,
   "id": "d54e95aa-606f-4c2f-aa8d-9404eb231fdf",
   "metadata": {},
   "outputs": [],
   "source": [
    "import numpy as np\n",
    "import statsmodels.api as sm\n",
    "import matplotlib.pyplot as plt"
   ]
  },
  {
   "cell_type": "code",
   "execution_count": 2,
   "id": "39fe8f94-6344-4fe4-9441-588c986ff59e",
   "metadata": {},
   "outputs": [
    {
     "data": {
      "text/plain": [
       "array([1, 2, 3, 4, 5, 6, 7, 8, 9])"
      ]
     },
     "execution_count": 2,
     "metadata": {},
     "output_type": "execute_result"
    }
   ],
   "source": [
    "x = np.arange(1, 10)\n",
    "x"
   ]
  },
  {
   "cell_type": "code",
   "execution_count": 3,
   "id": "8a8602ff-98ac-4862-a558-169c2eb46d91",
   "metadata": {},
   "outputs": [
    {
     "data": {
      "text/plain": [
       "array([ 2,  6,  7,  7, 11, 10, 15, 15, 18])"
      ]
     },
     "execution_count": 3,
     "metadata": {},
     "output_type": "execute_result"
    }
   ],
   "source": [
    "# dependent variable y (eg. the revenue)\n",
    "y = np.array([ 2,  6,  7,  7, 11, 10, 15, 15, 18])\n",
    "y"
   ]
  },
  {
   "cell_type": "code",
   "execution_count": 4,
   "id": "4c5ad306-dccb-4446-ba27-2f5b7d00528e",
   "metadata": {},
   "outputs": [
    {
     "data": {
      "text/plain": [
       "np.float64(10.11111111111111)"
      ]
     },
     "execution_count": 4,
     "metadata": {},
     "output_type": "execute_result"
    }
   ],
   "source": [
    "y.mean()"
   ]
  },
  {
   "cell_type": "code",
   "execution_count": 5,
   "id": "8d4eff26-0299-4db3-acf8-c55351c4b57a",
   "metadata": {},
   "outputs": [
    {
     "data": {
      "text/plain": [
       "array([[1.        , 0.97328619],\n",
       "       [0.97328619, 1.        ]])"
      ]
     },
     "execution_count": 5,
     "metadata": {},
     "output_type": "execute_result"
    }
   ],
   "source": [
    "np.corrcoef(x,y) # correlation coefficient"
   ]
  },
  {
   "cell_type": "code",
   "execution_count": 6,
   "id": "95fa72fe-f8d4-4205-b415-800091dbd4cd",
   "metadata": {},
   "outputs": [
    {
     "data": {
      "image/png": "[encoded data removed]",
      "text/plain": [
       "<Figure size 800x500 with 1 Axes>"
      ]
     },
     "metadata": {},
     "output_type": "display_data"
    }
   ],
   "source": [
    "# visualizing the total variation tss\n",
    "# which is the sum of squared distances of the y-values and the mean of y\n",
    "plt.figure(figsize = (8, 5))\n",
    "plt.hlines(y = y.mean(), xmin = 1, xmax = 9, label = \"y mean\")\n",
    "plt.scatter(x = x, y = y, alpha = 0.5, label = \"Data\")\n",
    "for i in range(len(y)):\n",
    "    plt.vlines(x[i], ymin = min(y.mean(), y[i]), ymax = max(y.mean(), y[i]), linestyles = \"dashed\")\n",
    "plt.xlabel(\"X\", fontsize = 14)\n",
    "plt.ylabel(\"Y\", fontsize = 14)\n",
    "plt.title(\"Total Sum of Squares (TSS)\", fontsize = 17)\n",
    "plt.legend(fontsize = 14)\n",
    "plt.show()"
   ]
  },
  {
   "cell_type": "code",
   "execution_count": 7,
   "id": "f8813b55-f257-4872-aee6-1668bf01f254",
   "metadata": {},
   "outputs": [
    {
     "data": {
      "text/plain": [
       "np.float64(212.88888888888889)"
      ]
     },
     "execution_count": 7,
     "metadata": {},
     "output_type": "execute_result"
    }
   ],
   "source": [
    "tss = np.sum((y - y.mean())**2) # calculating the total variation tss with numpy\n",
    "tss"
   ]
  },
  {
   "cell_type": "code",
   "execution_count": 8,
   "id": "13e2b456-4013-4337-afbd-855f411cc081",
   "metadata": {},
   "outputs": [
    {
     "ename": "NameError",
     "evalue": "name 'results' is not defined",
     "output_type": "error",
     "traceback": [
      "\u001b[0;31m---------------------------------------------------------------------------\u001b[0m",
      "\u001b[0;31mNameError\u001b[0m                                 Traceback (most recent call last)",
      "Cell \u001b[0;32mIn[8], line 1\u001b[0m\n\u001b[0;32m----> 1\u001b[0m \u001b[43mresults\u001b[49m\u001b[38;5;241m.\u001b[39mcentered_tss  \u001b[38;5;66;03m# calculating the total variation tss with statsmodels\u001b[39;00m\n",
      "\u001b[0;31mNameError\u001b[0m: name 'results' is not defined"
     ]
    }
   ],
   "source": [
    "results.centered_tss  # calculating the total variation tss with statsmodels"
   ]
  },
  {
   "cell_type": "code",
   "execution_count": null,
   "id": "b821d583-1154-4158-9313-1e5b8e4c9457",
   "metadata": {},
   "outputs": [],
   "source": [
    "# visualizing the regression sum of squares rss\n",
    "# the variation that is explained by the linear model \n",
    "# which is the sum of squared distances between the predicted y-value and the mean y-value\n",
    "plt.figure(figsize = (8, 5))\n",
    "plt.hlines(y = y.mean(), xmin = 1, xmax = 9, label = \"y mean\")\n",
    "plt.scatter(x = x, y = y, alpha = 0.5, label = \"Data\")\n",
    "plt.plot(x, pred, c = \"r\", alpha = 0.5, label = \"Regression Line\")\n",
    "for i in range(len(y)):\n",
    "    plt.vlines(x[i], ymin = min(y.mean(), pred[i]), ymax = max(y.mean(), pred[i]), linestyles = \"dashed\")\n",
    "plt.xlabel(\"X\", fontsize = 14)\n",
    "plt.ylabel(\"Y\", fontsize = 14)\n",
    "plt.title(\"Regression Sum of Squares (RSS)\", fontsize = 17)\n",
    "plt.legend(fontsize = 14)\n",
    "plt.show()"
   ]
  },
  {
   "cell_type": "code",
   "execution_count": null,
   "id": "bd5e811f-af4e-4a01-8b1a-46adf9fb44ec",
   "metadata": {},
   "outputs": [],
   "source": [
    "rss = np.sum((pred - y.mean())**2) # calculating the regression sum of squares rss with numpy\n",
    "rss"
   ]
  },
  {
   "cell_type": "code",
   "execution_count": null,
   "id": "a14d69f6-7fed-4e87-bca7-438c7664b3ed",
   "metadata": {},
   "outputs": [],
   "source": [
    "results.mse_model # calculating the regression sum of squares rss with statsmodels\n",
    "# the name of the function, mse_model, is misleading"
   ]
  },
  {
   "cell_type": "code",
   "execution_count": null,
   "id": "dc4a40bb-cb72-4110-bcbb-cc77e26102cf",
   "metadata": {},
   "outputs": [],
   "source": [
    "# visualizing the unexplained variation (or sum of squared errors)\n",
    "plt.figure(figsize = (8, 5))\n",
    "plt.plot(x, pred, c = \"r\", alpha = 0.5, label = \"Regression Line\")\n",
    "plt.scatter(x = x, y = y, alpha = 0.5, label = \"Data\")\n",
    "for i in range(len(y)):\n",
    "    plt.vlines(x[i], ymin = min(pred[i], y[i]), ymax = max(pred[i], y[i]), linestyles = \"dashed\")\n",
    "plt.xlabel(\"x\", fontsize = 14)\n",
    "plt.ylabel(\"y\", fontsize = 14)\n",
    "plt.legend(fontsize = 14)\n",
    "plt.title(\"Sum of Squared Errors (SSE)\", fontsize = 17)\n",
    "plt.show()"
   ]
  },
  {
   "cell_type": "code",
   "execution_count": null,
   "id": "635a40ab-1c5d-4141-ae90-08767e6b4560",
   "metadata": {},
   "outputs": [],
   "source": [
    "np.sum((y - pred)**2) # unexplained variation with numpy"
   ]
  },
  {
   "cell_type": "code",
   "execution_count": null,
   "id": "da7d8e36-7e13-4258-8fcf-e6e6c8bd261c",
   "metadata": {},
   "outputs": [],
   "source": [
    "# another way of calculating the unexplained variation\n",
    "tss - rss # total variation minus explained variation"
   ]
  },
  {
   "cell_type": "code",
   "execution_count": null,
   "id": "09375c2f-e597-4634-95f4-ca270c2f25f9",
   "metadata": {},
   "outputs": [],
   "source": [
    "results.ssr # unexplained variation with statsmodels\n",
    "# ssr -> sum of squared residuals"
   ]
  },
  {
   "cell_type": "markdown",
   "id": "4727cab2-fa09-4b41-8766-de27ef904936",
   "metadata": {},
   "source": [
    "### Coefficient of Determination - R^2"
   ]
  },
  {
   "cell_type": "markdown",
   "id": "34bcf6b5-4b8d-46a0-82c2-cddb1571f19d",
   "metadata": {},
   "source": [
    "Calculating the coefficient of determination (or R squared), which indicates how well our regression model fits the data."
   ]
  },
  {
   "cell_type": "code",
   "execution_count": null,
   "id": "790a5d53-901c-49ec-b677-73be52e940e5",
   "metadata": {},
   "outputs": [],
   "source": [
    "tss = results.centered_tss\n",
    "tss # total variation"
   ]
  },
  {
   "cell_type": "code",
   "execution_count": null,
   "id": "27ff1d93-994f-4d33-87b7-b4b796a42ad7",
   "metadata": {},
   "outputs": [],
   "source": [
    "rss = results.mse_model\n",
    "rss # explained variation"
   ]
  },
  {
   "cell_type": "code",
   "execution_count": null,
   "id": "29e82875-c7a8-40f7-99ee-94bf3406f4a2",
   "metadata": {},
   "outputs": [],
   "source": [
    "sse = results.ssr\n",
    "sse # unexplained variation"
   ]
  },
  {
   "cell_type": "code",
   "execution_count": null,
   "id": "8aceca9a-dbf6-4992-ad2a-e501624883f5",
   "metadata": {},
   "outputs": [],
   "source": [
    "# just checking...\n",
    "rss + sse == tss # true ?"
   ]
  },
  {
   "cell_type": "code",
   "execution_count": null,
   "id": "f1c8cb69-9673-4098-883c-4ec2a50c0f7c",
   "metadata": {},
   "outputs": [],
   "source": [
    "# R squared is the proportion of the variation of the dependent variable \n",
    "# that is explained by the independent variable or the regression model\n",
    "r_squared = rss/tss\n",
    "r_squared"
   ]
  },
  {
   "cell_type": "code",
   "execution_count": null,
   "id": "833b2842-3c51-4120-aed6-47fc8c709e98",
   "metadata": {},
   "outputs": [],
   "source": [
    "results.rsquared # R squared with statsmodels"
   ]
  },
  {
   "cell_type": "code",
   "execution_count": null,
   "id": "1cbb9ff3-3714-4a89-b3b6-8dcbb94cd002",
   "metadata": {},
   "outputs": [],
   "source": [
    "# in the special case where we only have one independent variable\n",
    "# the coefficient of determination is equal to the square of the correlation coefficient.\n",
    "np.corrcoef(x, y)[0,1]**2"
   ]
  },
  {
   "cell_type": "code",
   "execution_count": null,
   "id": "02ccb8e1-89b6-4828-a8fd-20db6865e50a",
   "metadata": {},
   "outputs": [],
   "source": []
  }
 ],
 "metadata": {
  "kernelspec": {
   "display_name": "Python 3 (ipykernel)",
   "language": "python",
   "name": "python3"
  },
  "language_info": {
   "codemirror_mode": {
    "name": "ipython",
    "version": 3
   },
   "file_extension": ".py",
   "mimetype": "text/x-python",
   "name": "python",
   "nbconvert_exporter": "python",
   "pygments_lexer": "ipython3",
   "version": "3.12.7"
  }
 },
 "nbformat": 4,
 "nbformat_minor": 5
}
