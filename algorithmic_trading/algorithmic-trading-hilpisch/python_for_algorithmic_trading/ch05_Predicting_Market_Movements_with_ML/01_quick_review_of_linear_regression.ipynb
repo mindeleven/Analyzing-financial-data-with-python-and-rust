{
 "cells": [
  {
   "cell_type": "markdown",
   "id": "52df3427-2583-4651-a2c1-b478513002ab",
   "metadata": {},
   "source": [
    "## A Quick Review of Linear Regression"
   ]
  },
  {
   "cell_type": "markdown",
   "id": "2ce08105-feab-48fe-ac0f-d29a51bec74c",
   "metadata": {},
   "source": [
    "*[Coding along with Python for Algorithmic Trading, Yves Hilpisch, O'Reilly, 1st edition November 2020, ISBN-13: 978-1492053354; Quant Platform at [https://py4at.pqp.io](https://py4at.pqp.io)]*"
   ]
  },
  {
   "cell_type": "markdown",
   "id": "6cd85058-4f65-4740-8b26-00c1f4a9cb73",
   "metadata": {},
   "source": [
    "\"__Ordinary least squares (OLS) regression__ is an optimization strategy that helps you find a straight line as close as possible to your data points in a linear regression model. OLS is considered the most useful optimization strategy for linear regression models as it can help you find unbiased real value estimates for your alpha and beta\" ([builtin.com](https://builtin.com/data-science/ols-regression)).\n",
    "\n",
    "Ordinary least squares (OLS) and linear regression are statistical methods that have been used for prediction purposes in different application areas."
   ]
  },
  {
   "cell_type": "markdown",
   "id": "fd01fb9c-cd12-4bb7-89e6-63a853deca39",
   "metadata": {},
   "source": [
    "#### __A Quick Review of Linear Regression based on Randomized Data:__\n",
    "\n",
    "1. Generating a ndarray object with `NumPy` for an independent variable x\n",
    "2. Generating randomized data (\"noisy data\") for a independent variable y, based on variable x\n",
    "3. Implementing OLS regression based on simple monomials with with the `NumPy`functions `polyfit` and `polyval`\n",
    "   - The highest degree for the monomials to be used is set to 1\n",
    "4. Plotting the data and the regression line"
   ]
  },
  {
   "cell_type": "code",
   "execution_count": 94,
   "id": "244a4c55-1a3e-4b6e-9101-03823be3b184",
   "metadata": {},
   "outputs": [],
   "source": [
    "import os\n",
    "import random\n",
    "import numpy as np\n",
    "from pylab import mpl, plt # imports matplotlib\n",
    "plt.style.use(\"seaborn-v0_8\")\n",
    "mpl.rcParams['savefig.dpi'] = 300\n",
    "mpl.rcParams['font.family'] = 'serif' # imports and configures the plotting package\n",
    "os.environ['PYTHONHASHSEED'] = '0'"
   ]
  },
  {
   "cell_type": "code",
   "execution_count": 95,
   "id": "f89564bf-cb01-4566-82d5-9c3e38265270",
   "metadata": {},
   "outputs": [
    {
     "data": {
      "text/plain": [
       "array([ 0.        ,  0.20408163,  0.40816327,  0.6122449 ,  0.81632653,\n",
       "        1.02040816,  1.2244898 ,  1.42857143,  1.63265306,  1.83673469,\n",
       "        2.04081633,  2.24489796,  2.44897959,  2.65306122,  2.85714286,\n",
       "        3.06122449,  3.26530612,  3.46938776,  3.67346939,  3.87755102,\n",
       "        4.08163265,  4.28571429,  4.48979592,  4.69387755,  4.89795918,\n",
       "        5.10204082,  5.30612245,  5.51020408,  5.71428571,  5.91836735,\n",
       "        6.12244898,  6.32653061,  6.53061224,  6.73469388,  6.93877551,\n",
       "        7.14285714,  7.34693878,  7.55102041,  7.75510204,  7.95918367,\n",
       "        8.16326531,  8.36734694,  8.57142857,  8.7755102 ,  8.97959184,\n",
       "        9.18367347,  9.3877551 ,  9.59183673,  9.79591837, 10.        ])"
      ]
     },
     "execution_count": 95,
     "metadata": {},
     "output_type": "execute_result"
    }
   ],
   "source": [
    "# generating an evenly spaced grid of floats for the x values between 0 and 10\n",
    "x = np.linspace(0, 10)\n",
    "x"
   ]
  },
  {
   "cell_type": "markdown",
   "id": "6e4b6af5-0fe8-4069-a520-009dfe8fe28e",
   "metadata": {},
   "source": [
    "#### <span style=\"color: green; line-height: 1.5;\">__*Claude.ai*, what is the numpy function np.linspace doing?__</span>\n",
    "\n",
    "> Let me explain the `np.linspace()` function in NumPy:\n",
    "> \n",
    "> `np.linspace()` is a function used to create an array of evenly spaced numbers over a specified interval. Its basic syntax is:\n",
    "> \n",
    "> ```python\n",
    "> np.linspace(start, stop, num=50, endpoint=True)\n",
    "> ```\n",
    "> \n",
    "> Here's a breakdown of its parameters:\n",
    "> - `start`: The starting value of the sequence\n",
    "> - `stop`: The end value of the sequence\n",
    "> - `num`: The number of samples to generate (default is 50)\n",
    "> - `endpoint`: Whether to include the stop value (default is True)\n",
    "> \n",
    "> Here's an example to illustrate:\n",
    "> \n",
    "> ```python\n",
    "> import numpy as np\n",
    "> \n",
    "> # Create 5 evenly spaced points between 0 and 10\n",
    "> print(np.linspace(0, 10, num=5))\n",
    "> # Output: [ 0.   2.5  5.   7.5 10. ]\n",
    "> \n",
    "> # If you don't want the endpoint\n",
    "> print(np.linspace(0, 10, num=5, endpoint=False))\n",
    "> # Output: [0. 2. 4. 6. 8.]\n",
    "> ```\n",
    "> \n",
    "> This function is particularly useful in:\n",
    "> - Creating evenly spaced points for plotting\n",
    "> - Generating sample points for mathematical functions\n",
    "> - Creating test data for numerical computations\n",
    "> \n",
    "> It's different from `np.arange()` because `linspace()` guarantees the number of points you specify, while `arange()` creates points based on a step size.\n",
    "> "
   ]
  },
  {
   "cell_type": "markdown",
   "id": "52987bd2-f45a-4f6b-b72c-b084336907f7",
   "metadata": {},
   "source": [
    "# fixing the seed values for the relevant random number generators\n",
    "def set_seeds(seed=100):\n",
    "    random.seed(seed)\n",
    "    np.random.seed(seed)\n",
    "set_seeds() # fixes the seed values for the relevant random number generators"
   ]
  },
  {
   "cell_type": "code",
   "execution_count": 96,
   "id": "c8a06c1a-1c86-4203-bec9-68b745ebb762",
   "metadata": {},
   "outputs": [
    {
     "data": {
      "text/plain": [
       "array([ 2.29865394,  0.03887208,  0.87446263,  0.88223214,  0.49649548,\n",
       "       -0.12733344,  2.92811378,  0.70642066,  2.72633971,  1.60721694,\n",
       "        2.03191766,  1.70169995,  3.20204178,  1.04362233,  4.80040512,\n",
       "        1.61378838,  3.39555458,  4.41874862,  1.65828067,  3.79801043,\n",
       "        4.38268212,  2.60081432,  4.71218673,  4.00895582,  4.771758  ,\n",
       "        7.09231447,  5.82912025,  5.49385868,  5.29846938,  4.55986441,\n",
       "        5.60801909,  6.11047049,  6.95299247,  5.64065095,  8.1756834 ,\n",
       "        6.91257246,  6.64252058,  6.95964529,  8.49209721,  8.39505093,\n",
       "        9.93925889,  8.88042132,  9.74195555, 10.85322244,  8.52366982,\n",
       "        9.8328464 ,  9.21297355, 10.60910108,  9.19593532, 11.57616672])"
      ]
     },
     "execution_count": 96,
     "metadata": {},
     "output_type": "execute_result"
    }
   ],
   "source": [
    "# generating the randomized data for y values\n",
    "y = x + np.random.standard_normal(len(x))\n",
    "y"
   ]
  },
  {
   "cell_type": "code",
   "execution_count": 97,
   "id": "a346e95e-a59e-422b-a8a0-043ac3c9b512",
   "metadata": {},
   "outputs": [
    {
     "data": {
      "image/png": "[encoded data removed]",
      "text/plain": [
       "<Figure size 800x500 with 1 Axes>"
      ]
     },
     "metadata": {},
     "output_type": "display_data"
    }
   ],
   "source": [
    "# just for demonstration purpose: a histogram of y\n",
    "plt.figure(figsize=(8, 5))\n",
    "plt.hist(y, bins=40, edgecolor='black')  # Changed to 20 bins\n",
    "plt.title('Distribution of y')\n",
    "plt.xlabel('Value')\n",
    "plt.ylabel('Frequency')\n",
    "plt.show()"
   ]
  },
  {
   "cell_type": "code",
   "execution_count": 98,
   "id": "a4b6db54-2e43-46a5-8790-36c1827633ce",
   "metadata": {},
   "outputs": [
    {
     "data": {
      "text/plain": [
       "array([ 1.03954007, -0.05568393])"
      ]
     },
     "execution_count": 98,
     "metadata": {},
     "output_type": "execute_result"
    }
   ],
   "source": [
    "# OLS regression of degree 1\n",
    "reg = np.polyfit(x, y, deg=1)\n",
    "reg # shows the optimal parameter values"
   ]
  },
  {
   "cell_type": "markdown",
   "id": "bdf4d065-a6ee-40c5-a52b-71d81f50a3a3",
   "metadata": {},
   "source": [
    "#### <span style=\"color: green; line-height: 1.5;\">__*Claude.ai*, is OLS regression the same as linear regression?__</span>\n",
    "\n",
    "> OLS (Ordinary Least Squares) regression is a specific method of performing linear regression, so they are closely related but not exactly the same.\n",
    "> \n",
    "> Here's a more detailed explanation:\n",
    "> \n",
    "> Linear regression is a broader statistical approach used to model the relationship between a dependent variable and one or more independent variables by fitting a linear equation to the observed data.\n",
    "> \n",
    "> OLS regression is the most common method of estimating the parameters (coefficients) in a linear regression model. It works by minimizing the sum of the squared vertical distances between the observed values and the predicted values from the linear model.\n",
    "> \n",
    "> Key characteristics of OLS regression:\n",
    "> - Finds the line of best fit by minimizing the squared residuals\n",
    "> - Assumes a linear relationship between variables\n",
    "> - Provides estimates for the coefficients that best explain the relationship\n",
    "> - Commonly used when you want to predict a continuous outcome variable\n",
    "> \n",
    "> In practice, when most people say \"linear regression,\" they are typically referring to OLS regression. However, there are other methods for linear regression (like generalized least squares) that differ from OLS in how they estimate parameters.\n",
    "> \n",
    "> A simple example in Python using statsmodels:\n",
    "> \n",
    "> ```python\n",
    "> import numpy as np\n",
    "> import statsmodels.api as sm\n",
    "> \n",
    "> # Create sample data\n",
    "> X = np.random.rand(100, 1)\n",
    "> y = 2 + 3 * X + np.random.randn(100, 1)\n",
    "> \n",
    "> # Add a constant term for the intercept\n",
    "> X = sm.add_constant(X)\n",
    "> \n",
    "> # Fit OLS regression\n",
    "> model = sm.OLS(y, X).fit()\n",
    "> \n",
    "> # Print summary\n",
    "> print(model.summary())\n",
    "> ```\n",
    "> "
   ]
  },
  {
   "cell_type": "markdown",
   "id": "a94cc1f6-98c7-45f4-9fc1-551f6faa0e25",
   "metadata": {},
   "source": [
    "#### <span style=\"color: green; line-height: 1.5;\">__*Claude.ai*, in the context of the last question, can you please explain the numpy function np.polyfit(x, y, deg=1), with x being the independent and y being the dependent variable? I'm especially interested in the meaning of the degree parameter.__</span>\n",
    "\n",
    "> Let me explain `np.polyfit()`:\n",
    "> \n",
    "> `np.polyfit(x, y, deg=1)` is a NumPy function used to perform polynomial regression. It finds the coefficients of a polynomial that best fits the given data points.\n",
    "> \n",
    "> Here's a breakdown:\n",
    "> - `x`: Independent variable (input data)\n",
    "> - `y`: Dependent variable (output data)\n",
    "> - `deg`: The degree of the polynomial to fit\n",
    "> \n",
    "> The degree parameter determines the complexity of the fitting polynomial:\n",
    "> - `deg=1`: Linear regression (straight line)\n",
    "> - `deg=2`: Quadratic regression (parabola)\n",
    "> - `deg=3`: Cubic regression (S-shaped curve)\n",
    "> - And so on...\n",
    "> \n",
    "> Example:\n",
    "> \n",
    "> ```python\n",
    "> import numpy as np\n",
    "> import matplotlib.pyplot as plt\n",
    "> \n",
    "> # Linear fit (degree 1)\n",
    "> x = np.array([1, 2, 3, 4, 5])\n",
    "> y = np.array([2, 4, 5, 4, 5])\n",
    "> \n",
    "> # Fit a 1st-degree polynomial (line)\n",
    "> coeffs = np.polyfit(x, y, deg=1)\n",
    "> # coeffs[0] is slope, coeffs[1] is y-intercept\n",
    "> \n",
    "> # Quadratic fit (degree 2)\n",
    "> quad_coeffs = np.polyfit(x, y, deg=2)\n",
    "> \n",
    "> # Plot the original data and fits\n",
    "> plt.scatter(x, y, label='Original Data')\n",
    "> plt.plot(x, np.polyval(coeffs, x), color='red', label='Linear Fit')\n",
    "> plt.plot(x, np.polyval(quad_coeffs, x), color='green', label='Quadratic Fit')\n",
    "> plt.legend()\n",
    "> plt.show()\n",
    "> ```\n",
    "> \n",
    "> The function returns an array of polynomial coefficients, ordered from highest degree to lowest. So for a linear fit (degree 1), it returns `[slope, intercept]`.\n",
    "> "
   ]
  },
  {
   "cell_type": "markdown",
   "id": "46af11b9-aeb1-4463-ab3e-0ae1b551892d",
   "metadata": {},
   "source": [
    "#### <span style=\"color: green; line-height: 1.5;\">__*Claude.ai*, what is polynomial regression?__</span>\n",
    "\n",
    "> Polynomial regression is a form of regression analysis where the relationship between the independent variable x and the dependent variable y is modeled as an nth-degree polynomial. Unlike linear regression, which fits a straight line, polynomial regression can capture more complex, curved relationships between variables.\n",
    "> \n",
    "> Basic concept:\n",
    "> - Instead of a linear equation (y = mx + b)\n",
    "> - Uses a polynomial equation (y = a0 + a1x + a2x² + a3x³ + ...)\n",
    "> \n",
    "> Example comparison:\n",
    "> - Linear regression: y = 2x + 3\n",
    "> - Quadratic (degree 2): y = 2x² + 3x + 1\n",
    "> - Cubic (degree 3): y = x³ + 2x² + 3x + 1\n",
    "> \n",
    "> Practical illustration:\n",
    "> ```python\n",
    "> import numpy as np\n",
    "> import matplotlib.pyplot as plt\n",
    "> \n",
    "> # Generate some non-linear data\n",
    "> x = np.linspace(0, 10, 100)\n",
    "> y = 2 + 0.5 * x**2 + np.random.normal(0, 5, 100)\n",
    "> \n",
    "> # Fit different degree polynomials\n",
    "> linear_fit = np.polyfit(x, y, deg=1)\n",
    "> quad_fit = np.polyfit(x, y, deg=2)\n",
    "> cubic_fit = np.polyfit(x, y, deg=3)\n",
    "> \n",
    "> # Plot original data and fits\n",
    "> plt.scatter(x, y, label='Original Data')\n",
    "> plt.plot(x, np.polyval(linear_fit, x), color='red', label='Linear Fit')\n",
    "> plt.plot(x, np.polyval(quad_fit, x), color='green', label='Quadratic Fit')\n",
    "> plt.plot(x, np.polyval(cubic_fit, x), color='blue', label='Cubic Fit')\n",
    "> plt.legend()\n",
    "> plt.show()\n",
    "> ```\n",
    "> \n",
    "> Use cases:\n",
    "> - Modeling growth curves\n",
    "> - Economic forecasting\n",
    "> - Scientific data with non-linear relationships\n",
    "> - Engineering and physics applications\n",
    "> \n",
    "> Caution:\n",
    "> - Higher degree polynomials can overfit\n",
    "> - Always validate with test data\n",
    "> - Choose the simplest model that explains the data well\n",
    "> "
   ]
  },
  {
   "cell_type": "code",
   "execution_count": 99,
   "id": "c27c522b-9f3e-4f7b-b671-0b46cb2f770c",
   "metadata": {},
   "outputs": [
    {
     "data": {
      "text/plain": [
       "array([ 1.03954007, -0.05568393])"
      ]
     },
     "execution_count": 99,
     "metadata": {},
     "output_type": "execute_result"
    }
   ],
   "source": [
    "# okay, so far we've OLS regression of degree 1\n",
    "reg # the optimal parameter values"
   ]
  },
  {
   "cell_type": "code",
   "execution_count": 100,
   "id": "00bb45c3-1376-4873-8002-ec5e69e5052e",
   "metadata": {},
   "outputs": [
    {
     "data": {
      "text/plain": [
       "[<matplotlib.lines.Line2D at 0x123d95220>]"
      ]
     },
     "execution_count": 100,
     "metadata": {},
     "output_type": "execute_result"
    },
    {
     "data": {
      "image/png": "[encoded data removed]",
      "text/plain": [
       "<Figure size 1000x600 with 1 Axes>"
      ]
     },
     "metadata": {},
     "output_type": "display_data"
    }
   ],
   "source": [
    "# let's create a figure plot out of this (8)\n",
    "plt.figure(figsize=(10, 6))\n",
    "# plotting the original data as dots (9)\n",
    "plt.plot(x, y, 'bo', label='data')"
   ]
  },
  {
   "cell_type": "code",
   "execution_count": 101,
   "id": "811791f8-7653-4f1c-96f5-7994acf48ef1",
   "metadata": {},
   "outputs": [
    {
     "data": {
      "text/plain": [
       "<matplotlib.legend.Legend at 0x123ce11c0>"
      ]
     },
     "execution_count": 101,
     "metadata": {},
     "output_type": "execute_result"
    },
    {
     "data": {
      "image/png": "[encoded data removed]",
      "text/plain": [
       "<Figure size 1000x600 with 1 Axes>"
      ]
     },
     "metadata": {},
     "output_type": "display_data"
    }
   ],
   "source": [
    "# let's create a figure plot out of this (8)\n",
    "plt.figure(figsize=(10, 6))\n",
    "# plotting the original data as dots (9)\n",
    "plt.plot(x, y, 'bo', label='data')\n",
    "# plotting the regression line (10)\n",
    "plt.plot(x, np.polyval(reg, x), 'r', lw=2.5, label='linear regression')\n",
    "# creating the legend (11)\n",
    "plt.legend(loc=0)"
   ]
  },
  {
   "cell_type": "markdown",
   "id": "4ecc380e-1c06-4dcb-be82-fa1f2a02c669",
   "metadata": {},
   "source": [
    "The figure above shows __linear regression illustrated__ based on randomized data."
   ]
  },
  {
   "cell_type": "markdown",
   "id": "7d731895-c717-4dde-b0c3-8c675e7e330b",
   "metadata": {},
   "source": [
    "#### __Generating an enlarged domain for the x values__"
   ]
  },
  {
   "cell_type": "code",
   "execution_count": 102,
   "id": "98ac5333-0ac2-4a7c-abd6-d63ce85072d9",
   "metadata": {},
   "outputs": [
    {
     "data": {
      "text/plain": [
       "<matplotlib.legend.Legend at 0x123e80680>"
      ]
     },
     "execution_count": 102,
     "metadata": {},
     "output_type": "execute_result"
    },
    {
     "data": {
      "image/png": "[encoded data removed]",
      "text/plain": [
       "<Figure size 1000x600 with 1 Axes>"
      ]
     },
     "metadata": {},
     "output_type": "display_data"
    }
   ],
   "source": [
    "plt.figure(figsize=(10, 6))\n",
    "plt.plot(x, y, 'bo', label='data')\n",
    "xn = np.linspace(0,20) # generates an enlarged domain for the x values\n",
    "plt.plot(xn, np.polyval(reg, xn), 'r', lw=2.5, label='linear regression')\n",
    "plt.legend(loc=0)"
   ]
  },
  {
   "cell_type": "markdown",
   "id": "34f604ee-e853-477b-8f07-3f1517a4f7e4",
   "metadata": {},
   "source": [
    "#### __The Basic Idea of Price Prediction__"
   ]
  },
  {
   "cell_type": "markdown",
   "id": "e919373d-fab8-4ebb-9ce2-dce53b710218",
   "metadata": {},
   "source": [
    "time-based ordering of data becomes important if we want to predict the index level of the following day. To do this, historic index levels need to be in the correct order. \n",
    "\n",
    "If we have data in historically correct order, we could try to predict tomorrow's index level given today's index level. The number of days used as input is called ***lags*** (using the index level of the last three days would be ***three lags***). "
   ]
  },
  {
   "cell_type": "code",
   "execution_count": 103,
   "id": "d05a38b3-a26d-4867-b8a2-f2abfdc005dd",
   "metadata": {},
   "outputs": [
    {
     "name": "stdout",
     "output_type": "stream",
     "text": [
      "[ 0  1  2  3  4  5  6  7  8  9 10 11]\n"
     ]
    }
   ],
   "source": [
    "# code example for lags\n",
    "x = np.arange(12)\n",
    "print(x)"
   ]
  },
  {
   "cell_type": "markdown",
   "id": "58fc780f-4818-4a20-b753-e2b8bdd3908f",
   "metadata": {},
   "source": [
    "__For example, let's assume three lags for the regression:__\n",
    "- which implies three independent variables for the regression and one dependent one\n",
    "- the first three values of the array, 0, 1 and 2, are the values of the three independent variables\n",
    "- the fourth value, 3, would be the value of the dependent variable\n",
    "- now we need to make a linear equation out of this like A * x = b\n",
    "- here A is a matrix and x and b are vectors"
   ]
  },
  {
   "cell_type": "code",
   "execution_count": 104,
   "id": "d9ec7c6e-6d53-432d-ab56-4b3fbc1848e2",
   "metadata": {},
   "outputs": [
    {
     "data": {
      "text/plain": [
       "3"
      ]
     },
     "execution_count": 104,
     "metadata": {},
     "output_type": "execute_result"
    }
   ],
   "source": [
    "lags = 3 # defines the number of lags\n",
    "lags "
   ]
  },
  {
   "cell_type": "code",
   "execution_count": 105,
   "id": "8cb23491-581b-48d4-90e3-f2cea9349e8e",
   "metadata": {},
   "outputs": [
    {
     "data": {
      "text/plain": [
       "array([[0., 0., 0., 0., 0., 0., 0., 0., 0.],\n",
       "       [0., 0., 0., 0., 0., 0., 0., 0., 0.],\n",
       "       [0., 0., 0., 0., 0., 0., 0., 0., 0.],\n",
       "       [0., 0., 0., 0., 0., 0., 0., 0., 0.]])"
      ]
     },
     "execution_count": 105,
     "metadata": {},
     "output_type": "execute_result"
    }
   ],
   "source": [
    "m = np.zeros((lags + 1, len(x) - lags)) # instantiates ndarray object with the appropriate dimensions\n",
    "m"
   ]
  },
  {
   "cell_type": "code",
   "execution_count": 106,
   "id": "b47db974-b433-4972-9dc0-26756bc5bb39",
   "metadata": {},
   "outputs": [
    {
     "name": "stdout",
     "output_type": "stream",
     "text": [
      "Matrix with 4 rows and 9 columns\n"
     ]
    }
   ],
   "source": [
    "print(\"Matrix with\", lags + 1, \"rows and\",  len(x) - lags, \"columns\")"
   ]
  },
  {
   "cell_type": "code",
   "execution_count": 107,
   "id": "85e97942-ee9e-4586-93cd-36ae320edbbc",
   "metadata": {},
   "outputs": [
    {
     "data": {
      "text/plain": [
       "array([0., 0., 0., 0., 0., 0., 0., 0., 0.])"
      ]
     },
     "execution_count": 107,
     "metadata": {},
     "output_type": "execute_result"
    }
   ],
   "source": [
    "m[lags]"
   ]
  },
  {
   "cell_type": "code",
   "execution_count": 108,
   "id": "ed0a7ad1-f350-4fa2-a7ac-97223f20399b",
   "metadata": {},
   "outputs": [],
   "source": [
    "m[lags] = x[lags:] # defines the target value (dependent variable)"
   ]
  },
  {
   "cell_type": "code",
   "execution_count": 109,
   "id": "345af5dd-611b-452d-9f87-12f2d63d755d",
   "metadata": {},
   "outputs": [
    {
     "data": {
      "text/plain": [
       "array([ 3.,  4.,  5.,  6.,  7.,  8.,  9., 10., 11.])"
      ]
     },
     "execution_count": 109,
     "metadata": {},
     "output_type": "execute_result"
    }
   ],
   "source": [
    "m[lags]"
   ]
  },
  {
   "cell_type": "code",
   "execution_count": 110,
   "id": "91b86eb2-3e64-4829-be65-03d50d615a64",
   "metadata": {},
   "outputs": [
    {
     "data": {
      "text/plain": [
       "array([ 3,  4,  5,  6,  7,  8,  9, 10, 11])"
      ]
     },
     "execution_count": 110,
     "metadata": {},
     "output_type": "execute_result"
    }
   ],
   "source": [
    "x[lags:]"
   ]
  },
  {
   "cell_type": "code",
   "execution_count": 111,
   "id": "5729fee1-714b-4c7e-b9ee-d06d0af31b46",
   "metadata": {},
   "outputs": [
    {
     "data": {
      "text/plain": [
       "array([[ 0.,  0.,  0.,  0.,  0.,  0.,  0.,  0.,  0.],\n",
       "       [ 0.,  0.,  0.,  0.,  0.,  0.,  0.,  0.,  0.],\n",
       "       [ 0.,  0.,  0.,  0.,  0.,  0.,  0.,  0.,  0.],\n",
       "       [ 3.,  4.,  5.,  6.,  7.,  8.,  9., 10., 11.]])"
      ]
     },
     "execution_count": 111,
     "metadata": {},
     "output_type": "execute_result"
    }
   ],
   "source": [
    "m"
   ]
  },
  {
   "cell_type": "code",
   "execution_count": 112,
   "id": "b6d5c683-8033-428b-9fb8-62372aa7c267",
   "metadata": {},
   "outputs": [],
   "source": [
    "# so far so good\n",
    "# now we iterrate over the numbers from 0 to lags - 1\n",
    "for i in range(lags):\n",
    "    m[i] = x[i:i - lags] # defines basis vectors (independent variables)"
   ]
  },
  {
   "cell_type": "code",
   "execution_count": 113,
   "id": "20c31c11-72b1-4886-a2b8-4c531f1fb93c",
   "metadata": {},
   "outputs": [
    {
     "data": {
      "text/plain": [
       "array([[ 0.,  1.,  2.,  3.,  4.,  5.,  6.,  7.,  8.],\n",
       "       [ 1.,  2.,  3.,  4.,  5.,  6.,  7.,  8.,  9.],\n",
       "       [ 2.,  3.,  4.,  5.,  6.,  7.,  8.,  9., 10.],\n",
       "       [ 3.,  4.,  5.,  6.,  7.,  8.,  9., 10., 11.]])"
      ]
     },
     "execution_count": 113,
     "metadata": {},
     "output_type": "execute_result"
    }
   ],
   "source": [
    "m"
   ]
  },
  {
   "cell_type": "code",
   "execution_count": 114,
   "id": "6cadddaf-86ef-46ba-8af2-44accede267b",
   "metadata": {},
   "outputs": [
    {
     "data": {
      "text/plain": [
       "array([[ 0.,  1.,  2.,  3.],\n",
       "       [ 1.,  2.,  3.,  4.],\n",
       "       [ 2.,  3.,  4.,  5.],\n",
       "       [ 3.,  4.,  5.,  6.],\n",
       "       [ 4.,  5.,  6.,  7.],\n",
       "       [ 5.,  6.,  7.,  8.],\n",
       "       [ 6.,  7.,  8.,  9.],\n",
       "       [ 7.,  8.,  9., 10.],\n",
       "       [ 8.,  9., 10., 11.]])"
      ]
     },
     "execution_count": 114,
     "metadata": {},
     "output_type": "execute_result"
    }
   ],
   "source": [
    "m.T # the transpose of the ndarray object m"
   ]
  },
  {
   "cell_type": "markdown",
   "id": "00dd3200-43a2-4bd6-87c0-0626e6e9b8d1",
   "metadata": {},
   "source": [
    "__The transposed ndarray object:__\n",
    "- the first three columns contain the values for the three independent variables \n",
    "- the first three columns together form the matrix A \n",
    "- the fourth column represents the vector b (which is the dependent variable)\n",
    "- as a result, linear regression yields the missing vector x ***(but how?)***\n",
    "\n",
    "Just as reminder: above we said we need to make a linear equation like A * x = b"
   ]
  },
  {
   "cell_type": "markdown",
   "id": "bf89cc26-7431-4751-8d54-ce4b225e910d",
   "metadata": {},
   "source": [
    "__Solving the general least-squares problem with NumPy's `linalg` package and the `lstsq` function:__"
   ]
  },
  {
   "cell_type": "code",
   "execution_count": 115,
   "id": "886dca5d-2dbd-41ba-af8a-1b168b16efe3",
   "metadata": {},
   "outputs": [],
   "source": [
    "# np.linalg.lstsq(m[:lags].T, m[lags], rcond=None)"
   ]
  },
  {
   "cell_type": "code",
   "execution_count": 116,
   "id": "b2383b1a-49c7-4b9e-8aa3-7f5e283a3cab",
   "metadata": {},
   "outputs": [
    {
     "data": {
      "text/plain": [
       "array([-0.66666667,  0.33333333,  1.33333333])"
      ]
     },
     "execution_count": 116,
     "metadata": {},
     "output_type": "execute_result"
    }
   ],
   "source": [
    "reg = np.linalg.lstsq(m[:lags].T, m[lags], rcond=None)[0] # implementing the OLS regression\n",
    "reg # prints out the optimal parameters"
   ]
  },
  {
   "cell_type": "code",
   "execution_count": 117,
   "id": "cb805921-8607-4487-b4d3-35927cb58a08",
   "metadata": {},
   "outputs": [
    {
     "data": {
      "text/plain": [
       "array([ 3.,  4.,  5.,  6.,  7.,  8.,  9., 10., 11.])"
      ]
     },
     "execution_count": 117,
     "metadata": {},
     "output_type": "execute_result"
    }
   ],
   "source": [
    "np.dot(m[:lags].T, reg) # the dot product yielding the prdiction results"
   ]
  },
  {
   "cell_type": "code",
   "execution_count": null,
   "id": "a214f8ac-a902-4253-91ae-5b4c72d9d0f2",
   "metadata": {},
   "outputs": [],
   "source": []
  }
 ],
 "metadata": {
  "kernelspec": {
   "display_name": "Python 3 (ipykernel)",
   "language": "python",
   "name": "python3"
  },
  "language_info": {
   "codemirror_mode": {
    "name": "ipython",
    "version": 3
   },
   "file_extension": ".py",
   "mimetype": "text/x-python",
   "name": "python",
   "nbconvert_exporter": "python",
   "pygments_lexer": "ipython3",
   "version": "3.12.7"
  }
 },
 "nbformat": 4,
 "nbformat_minor": 5
}
