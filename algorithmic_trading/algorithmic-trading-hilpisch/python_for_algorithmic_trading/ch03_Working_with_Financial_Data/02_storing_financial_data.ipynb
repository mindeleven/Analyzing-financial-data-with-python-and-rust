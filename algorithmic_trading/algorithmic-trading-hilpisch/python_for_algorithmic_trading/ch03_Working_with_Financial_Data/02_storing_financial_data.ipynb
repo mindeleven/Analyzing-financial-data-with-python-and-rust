{
 "cells": [
  {
   "cell_type": "markdown",
   "id": "70a4a0cd-1ea6-43c3-9e93-8e20c145bce1",
   "metadata": {},
   "source": [
    "# Storing Financial Data Efficiently"
   ]
  },
  {
   "cell_type": "markdown",
   "id": "1e6ea5af-36bd-43ad-b415-d8d98d94e772",
   "metadata": {},
   "source": [
    "*[Coding along with Python for Algorithmic Trading, Yves Hilpisch, O'Reilly, 1st edition November 2020, ISBN-13: 978-1492053354]*"
   ]
  },
  {
   "cell_type": "markdown",
   "id": "917cff3b-b2a6-47f0-a762-f92fc9c160e4",
   "metadata": {},
   "source": [
    "### Storing DataFrame Objects"
   ]
  },
  {
   "cell_type": "code",
   "execution_count": 2,
   "id": "4d1ea473-7bcb-4812-aadb-b88edb651a73",
   "metadata": {},
   "outputs": [],
   "source": [
    "import pandas as pd\n",
    "from sample_data import generate_sample_data"
   ]
  },
  {
   "cell_type": "code",
   "execution_count": 2,
   "id": "d9c2e5a7-ea97-4a70-8b3a-c0894f4ab840",
   "metadata": {},
   "outputs": [
    {
     "name": "stdout",
     "output_type": "stream",
     "text": [
      "                            No0         No1         No2         No3\n",
      "2021-01-01 00:00:00  100.000000  100.000000  100.000000  100.000000\n",
      "2021-01-01 00:01:00  100.081746  100.037085   99.880699   99.945621\n",
      "2021-01-01 00:02:00  100.078259   99.967327   99.919765   99.830417\n",
      "2021-01-01 00:03:00  100.129863   99.937452   99.769169   99.743751\n",
      "2021-01-01 00:04:00  100.007850  100.075159   99.683242   99.705222\n"
     ]
    }
   ],
   "source": [
    "print(generate_sample_data(rows=5, cols=4)) # printing sample financial data set"
   ]
  },
  {
   "cell_type": "code",
   "execution_count": 3,
   "id": "bde19480-1d52-41b1-9d71-0b18d4ab118a",
   "metadata": {},
   "outputs": [
    {
     "name": "stdout",
     "output_type": "stream",
     "text": [
      "CPU times: user 1 μs, sys: 0 ns, total: 1 μs\n",
      "Wall time: 2.62 μs\n"
     ]
    }
   ],
   "source": [
    "# creating sample data set for storing example\n",
    "%time\n",
    "data = generate_sample_data(rows=5e6, cols=10).round(4) # 5.000.000 rows, 10 cols"
   ]
  },
  {
   "cell_type": "code",
   "execution_count": 4,
   "id": "e6fad977-ddd8-43cf-bb1c-2127290daec3",
   "metadata": {},
   "outputs": [
    {
     "name": "stdout",
     "output_type": "stream",
     "text": [
      "<class 'pandas.core.frame.DataFrame'>\n",
      "DatetimeIndex: 5000000 entries, 2021-01-01 00:00:00 to 2030-07-05 05:19:00\n",
      "Freq: min\n",
      "Data columns (total 10 columns):\n",
      " #   Column  Dtype  \n",
      "---  ------  -----  \n",
      " 0   No0     float64\n",
      " 1   No1     float64\n",
      " 2   No2     float64\n",
      " 3   No3     float64\n",
      " 4   No4     float64\n",
      " 5   No5     float64\n",
      " 6   No6     float64\n",
      " 7   No7     float64\n",
      " 8   No8     float64\n",
      " 9   No9     float64\n",
      "dtypes: float64(10)\n",
      "memory usage: 419.6 MB\n"
     ]
    }
   ],
   "source": [
    "data.info()"
   ]
  },
  {
   "cell_type": "code",
   "execution_count": 5,
   "id": "88296f97-1cd5-43ce-b7e3-75675fff185f",
   "metadata": {},
   "outputs": [],
   "source": [
    "# opening HDFStore object on disc for writing\n",
    "h5 = pd.HDFStore('../../assets/hdf_store/data.h5', 'w')"
   ]
  },
  {
   "cell_type": "code",
   "execution_count": 6,
   "id": "349ad7d7-4d6a-4971-ab70-e026d1056100",
   "metadata": {},
   "outputs": [
    {
     "name": "stdout",
     "output_type": "stream",
     "text": [
      "CPU times: user 3.49 ms, sys: 72.5 ms, total: 76 ms\n",
      "Wall time: 272 ms\n"
     ]
    }
   ],
   "source": [
    "%time h5['data'] = data # writing data frame object to disc"
   ]
  },
  {
   "cell_type": "code",
   "execution_count": 7,
   "id": "bfb0f278-2fd3-45e3-9f0b-5a858f50083f",
   "metadata": {},
   "outputs": [
    {
     "data": {
      "text/plain": [
       "<class 'pandas.io.pytables.HDFStore'>\n",
       "File path: ../../assets/hdf_store/data.h5"
      ]
     },
     "execution_count": 7,
     "metadata": {},
     "output_type": "execute_result"
    }
   ],
   "source": [
    "h5 # printing out meta information of database file"
   ]
  },
  {
   "cell_type": "code",
   "execution_count": 8,
   "id": "b72f7cd2-66e4-4bd4-bdc6-a9723d801cd9",
   "metadata": {},
   "outputs": [
    {
     "name": "stdout",
     "output_type": "stream",
     "text": [
      "-rw-r--r--  1 501  20  440007240 20 Sep 14:07 ../../assets/hdf_store/data.h5\n"
     ]
    }
   ],
   "source": [
    "ls -n ../../assets/hdf_store/data.*"
   ]
  },
  {
   "cell_type": "code",
   "execution_count": 9,
   "id": "3077a77d-178e-41b1-9b97-688bd0e77219",
   "metadata": {},
   "outputs": [],
   "source": [
    "h5.close() # closing database file"
   ]
  },
  {
   "cell_type": "code",
   "execution_count": 10,
   "id": "0f1cd039-385f-4e0b-9b22-697adc5cac7a",
   "metadata": {},
   "outputs": [],
   "source": [
    "# reading data from the file based HDFStore object\n",
    "h5 = pd.HDFStore('../../assets/hdf_store/data.h5', 'r')"
   ]
  },
  {
   "cell_type": "code",
   "execution_count": 11,
   "id": "29a8236c-ce9b-4cae-8456-727e8b6845b4",
   "metadata": {},
   "outputs": [
    {
     "name": "stdout",
     "output_type": "stream",
     "text": [
      "CPU times: user 113 ms, sys: 169 ms, total: 281 ms\n",
      "Wall time: 505 ms\n"
     ]
    }
   ],
   "source": [
    "%time data_copy = h5['data'] # reading from stored file"
   ]
  },
  {
   "cell_type": "code",
   "execution_count": 12,
   "id": "7eda5fff-5823-45c1-b0fc-150b5c841f43",
   "metadata": {},
   "outputs": [
    {
     "name": "stdout",
     "output_type": "stream",
     "text": [
      "<class 'pandas.core.frame.DataFrame'>\n",
      "DatetimeIndex: 5000000 entries, 2021-01-01 00:00:00 to 2030-07-05 05:19:00\n",
      "Freq: min\n",
      "Data columns (total 10 columns):\n",
      " #   Column  Dtype  \n",
      "---  ------  -----  \n",
      " 0   No0     float64\n",
      " 1   No1     float64\n",
      " 2   No2     float64\n",
      " 3   No3     float64\n",
      " 4   No4     float64\n",
      " 5   No5     float64\n",
      " 6   No6     float64\n",
      " 7   No7     float64\n",
      " 8   No8     float64\n",
      " 9   No9     float64\n",
      "dtypes: float64(10)\n",
      "memory usage: 419.6 MB\n"
     ]
    }
   ],
   "source": [
    "data_copy.info()"
   ]
  },
  {
   "cell_type": "code",
   "execution_count": 13,
   "id": "38fa1d8e-edb8-4cc1-b232-44611b028dcb",
   "metadata": {},
   "outputs": [],
   "source": [
    "h5.close()"
   ]
  },
  {
   "cell_type": "code",
   "execution_count": 14,
   "id": "a1d95ecb-b6f5-45f6-9acd-69f8ccacc590",
   "metadata": {},
   "outputs": [],
   "source": [
    "rm ../../assets/hdf_store/data.h5 # deleting file"
   ]
  },
  {
   "cell_type": "code",
   "execution_count": 15,
   "id": "914766df-6bd0-4394-98e5-b391a56ce164",
   "metadata": {},
   "outputs": [
    {
     "name": "stdout",
     "output_type": "stream",
     "text": [
      "CPU times: user 2.89 s, sys: 1.3 s, total: 4.19 s\n",
      "Wall time: 4.84 s\n"
     ]
    }
   ],
   "source": [
    "# alternative way of storing a HDFStore that allows to append new data to the table\n",
    "# and for searching over the table\n",
    "# pandas.DataFrame.to_hdf\n",
    "# https://pandas.pydata.org/docs/reference/api/pandas.DataFrame.to_hdf.html\n",
    "%time data.to_hdf('../../assets/hdf_store/data_q.h5', key='data', mode='w', format='table')"
   ]
  },
  {
   "cell_type": "code",
   "execution_count": 16,
   "id": "69c0a57e-696e-4fc7-9117-feec30851e43",
   "metadata": {},
   "outputs": [
    {
     "name": "stdout",
     "output_type": "stream",
     "text": [
      "-rw-r--r--  1 501  20  446953369 20 Sep 14:07 ../../assets/hdf_store/data_q.h5\n"
     ]
    }
   ],
   "source": [
    "ls -n ../../assets/hdf_store/data_q.*"
   ]
  },
  {
   "cell_type": "code",
   "execution_count": 17,
   "id": "686322e0-363d-4926-a433-fcf89cad64c5",
   "metadata": {},
   "outputs": [
    {
     "name": "stdout",
     "output_type": "stream",
     "text": [
      "CPU times: user 71.3 ms, sys: 130 ms, total: 201 ms\n",
      "Wall time: 274 ms\n"
     ]
    }
   ],
   "source": [
    "%time data_copy = pd.read_hdf('../../assets/hdf_store/data_q.h5', 'data')"
   ]
  },
  {
   "cell_type": "code",
   "execution_count": 18,
   "id": "3dbfca7d-a8ab-4e56-b82b-bf43d64c030d",
   "metadata": {},
   "outputs": [
    {
     "name": "stdout",
     "output_type": "stream",
     "text": [
      "<class 'pandas.core.frame.DataFrame'>\n",
      "DatetimeIndex: 5000000 entries, 2021-01-01 00:00:00 to 2030-07-05 05:19:00\n",
      "Freq: min\n",
      "Data columns (total 10 columns):\n",
      " #   Column  Dtype  \n",
      "---  ------  -----  \n",
      " 0   No0     float64\n",
      " 1   No1     float64\n",
      " 2   No2     float64\n",
      " 3   No3     float64\n",
      " 4   No4     float64\n",
      " 5   No5     float64\n",
      " 6   No6     float64\n",
      " 7   No7     float64\n",
      " 8   No8     float64\n",
      " 9   No9     float64\n",
      "dtypes: float64(10)\n",
      "memory usage: 419.6 MB\n"
     ]
    }
   ],
   "source": [
    "data_copy.info()"
   ]
  },
  {
   "cell_type": "code",
   "execution_count": 19,
   "id": "575a5d90-8ce8-4d95-8319-833a9a16d514",
   "metadata": {},
   "outputs": [],
   "source": [
    "# Using table_frame object of the PyTables package to work with stored data\n",
    "# PyTables’ documentation @ http://www.pytables.org/\n",
    "import tables as tb"
   ]
  },
  {
   "cell_type": "code",
   "execution_count": 20,
   "id": "97a15d23-eef7-458d-be73-f3b0773ea023",
   "metadata": {},
   "outputs": [],
   "source": [
    "h5 = tb.open_file('../../assets/hdf_store/data_q.h5', 'r')"
   ]
  },
  {
   "cell_type": "code",
   "execution_count": 21,
   "id": "efd3df21-eb90-45eb-89cf-d77cb531e7d9",
   "metadata": {},
   "outputs": [
    {
     "data": {
      "text/plain": [
       "File(filename=../../assets/hdf_store/data_q.h5, title=np.str_(''), mode='r', root_uep='/', filters=Filters(complevel=0, shuffle=False, bitshuffle=False, fletcher32=False, least_significant_digit=None))\n",
       "/ (RootGroup) np.str_('')\n",
       "/data (Group) np.str_('')\n",
       "/data/table (Table(np.int64(5000000),)) np.str_('')\n",
       "  description := {\n",
       "  \"index\": Int64Col(shape=(), dflt=np.int64(0), pos=0),\n",
       "  \"values_block_0\": Float64Col(shape=(np.int64(10),), dflt=np.float64(0.0), pos=1)}\n",
       "  byteorder := 'little'\n",
       "  chunkshape := (np.int64(2978),)\n",
       "  autoindex := True\n",
       "  colindexes := {\n",
       "    \"index\": Index(6, mediumshuffle, zlib(1)).is_csi=False}"
      ]
     },
     "execution_count": 21,
     "metadata": {},
     "output_type": "execute_result"
    }
   ],
   "source": [
    "h5"
   ]
  },
  {
   "cell_type": "code",
   "execution_count": 22,
   "id": "e233833d-29af-4e55-a4bc-b02ec8b38e19",
   "metadata": {},
   "outputs": [
    {
     "data": {
      "text/plain": [
       "array([(1609459200000000000, [100.    , 100.    , 100.    , 100.    , 100.    , 100.    , 100.    , 100.    , 100.    , 100.    ]),\n",
       "       (1609459260000000000, [ 99.9155, 100.0313, 100.0368,  99.9547, 100.0065, 100.0616,  99.9445, 100.0627, 100.0879, 100.0015]),\n",
       "       (1609459320000000000, [ 99.886 , 100.0803,  99.913 ,  99.9213, 100.0344, 100.1168,  99.9712, 100.0912, 100.1552, 100.1331])],\n",
       "      dtype=[('index', '<i8'), ('values_block_0', '<f8', (10,))])"
      ]
     },
     "execution_count": 22,
     "metadata": {},
     "output_type": "execute_result"
    }
   ],
   "source": [
    "h5.root.data.table[:3] # printing the first three rows of the table"
   ]
  },
  {
   "cell_type": "code",
   "execution_count": 23,
   "id": "097eed3a-840c-4be7-ae67-e0e4c7c2b8c4",
   "metadata": {},
   "outputs": [],
   "source": [
    "h5.close()"
   ]
  },
  {
   "cell_type": "code",
   "execution_count": 24,
   "id": "cb3a9541-eedb-499f-b96b-c6ca5b0ba5d4",
   "metadata": {},
   "outputs": [],
   "source": [
    "rm ../../assets/hdf_store/data_q.h5 # deleting file"
   ]
  },
  {
   "cell_type": "markdown",
   "id": "c383fd05-c9ee-4475-8f08-4dbd087b0f77",
   "metadata": {},
   "source": [
    "### Using TsTables"
   ]
  },
  {
   "cell_type": "code",
   "execution_count": 25,
   "id": "db703b9a-10dc-4eed-a145-21270c233735",
   "metadata": {},
   "outputs": [
    {
     "name": "stdout",
     "output_type": "stream",
     "text": [
      "CPU times: user 317 ms, sys: 66.3 ms, total: 383 ms\n",
      "Wall time: 382 ms\n"
     ]
    }
   ],
   "source": [
    "%%time\n",
    "data = generate_sample_data(rows=2.5e6, cols=5, freq='1s').round(4)"
   ]
  },
  {
   "cell_type": "code",
   "execution_count": 26,
   "id": "49be1fb2-7c83-471c-8d6c-15a762920071",
   "metadata": {},
   "outputs": [
    {
     "name": "stdout",
     "output_type": "stream",
     "text": [
      "<class 'pandas.core.frame.DataFrame'>\n",
      "DatetimeIndex: 2500000 entries, 2021-01-01 00:00:00 to 2021-01-29 22:26:39\n",
      "Freq: s\n",
      "Data columns (total 5 columns):\n",
      " #   Column  Dtype  \n",
      "---  ------  -----  \n",
      " 0   No0     float64\n",
      " 1   No1     float64\n",
      " 2   No2     float64\n",
      " 3   No3     float64\n",
      " 4   No4     float64\n",
      "dtypes: float64(5)\n",
      "memory usage: 114.4 MB\n"
     ]
    }
   ],
   "source": [
    "data.info()"
   ]
  },
  {
   "cell_type": "code",
   "execution_count": 27,
   "id": "56a235ee-f110-449a-af9b-c703608feddf",
   "metadata": {},
   "outputs": [],
   "source": [
    "# poetry add git+https://github.com/yhilpisch/tstables.git\n",
    "import tstables # importing pytables"
   ]
  },
  {
   "cell_type": "code",
   "execution_count": 28,
   "id": "0c40eb72-acc6-43a6-aff1-df3145b184e6",
   "metadata": {},
   "outputs": [],
   "source": [
    "import tables as tb # importing tables like provided by the author"
   ]
  },
  {
   "cell_type": "code",
   "execution_count": 29,
   "id": "59aeab6d-67d9-44fc-aa19-5e1999bd32c8",
   "metadata": {},
   "outputs": [],
   "source": [
    "class desc(tb.IsDescription):\n",
    "    ''' Description of TsTables table structure.\n",
    "    '''\n",
    "    timestamp = tb.Int64Col(pos=0) # first column is timestamp represented as an int\n",
    "    No0 = tb.Float64Col(pos=1) # all other columns contain floats\n",
    "    No1 = tb.Float64Col(pos=2)\n",
    "    No2 = tb.Float64Col(pos=3)\n",
    "    No3 = tb.Float64Col(pos=4)\n",
    "    No4 = tb.Float64Col(pos=5)"
   ]
  },
  {
   "cell_type": "code",
   "execution_count": 30,
   "id": "467d842d-1efc-4ebb-8675-359adaa81846",
   "metadata": {},
   "outputs": [],
   "source": [
    "h5 = tb.open_file('../../assets/hdf_store/data_ts.h5ts', 'w') # opening new database file for writing"
   ]
  },
  {
   "cell_type": "code",
   "execution_count": 31,
   "id": "f8dd4072-5c7b-4163-a34d-21cf046116b1",
   "metadata": {},
   "outputs": [],
   "source": [
    "ts = h5.create_ts('/', 'data', desc) # tstable created with data and class based description"
   ]
  },
  {
   "cell_type": "code",
   "execution_count": 32,
   "id": "0ae1030d-7f97-4ec5-9e8d-160e4f7271f7",
   "metadata": {},
   "outputs": [
    {
     "data": {
      "text/plain": [
       "File(filename=../../assets/hdf_store/data_ts.h5ts, title=np.str_(''), mode='w', root_uep='/', filters=Filters(complevel=0, shuffle=False, bitshuffle=False, fletcher32=False, least_significant_digit=None))\n",
       "/ (RootGroup) np.str_('')\n",
       "/data (Group/Timeseries) np.str_('')\n",
       "/data/y2024 (Group) np.str_('')\n",
       "/data/y2024/m09 (Group) np.str_('')\n",
       "/data/y2024/m09/d20 (Group) np.str_('')\n",
       "/data/y2024/m09/d20/ts_data (Table(np.int64(0),)) np.str_('')\n",
       "  description := {\n",
       "  \"timestamp\": Int64Col(shape=(), dflt=np.int64(0), pos=0),\n",
       "  \"No0\": Float64Col(shape=(), dflt=np.float64(0.0), pos=1),\n",
       "  \"No1\": Float64Col(shape=(), dflt=np.float64(0.0), pos=2),\n",
       "  \"No2\": Float64Col(shape=(), dflt=np.float64(0.0), pos=3),\n",
       "  \"No3\": Float64Col(shape=(), dflt=np.float64(0.0), pos=4),\n",
       "  \"No4\": Float64Col(shape=(), dflt=np.float64(0.0), pos=5)}\n",
       "  byteorder := 'little'\n",
       "  chunkshape := (np.int64(1365),)"
      ]
     },
     "execution_count": 32,
     "metadata": {},
     "output_type": "execute_result"
    }
   ],
   "source": [
    "h5 # inspecting the data file"
   ]
  },
  {
   "cell_type": "code",
   "execution_count": 33,
   "id": "98cb2881-a250-4414-8c66-25788825b85f",
   "metadata": {},
   "outputs": [
    {
     "name": "stdout",
     "output_type": "stream",
     "text": [
      "CPU times: user 149 ms, sys: 75.1 ms, total: 224 ms\n",
      "Wall time: 231 ms\n"
     ]
    }
   ],
   "source": [
    "%time ts.append(data) # appends DataFrame object"
   ]
  },
  {
   "cell_type": "code",
   "execution_count": 34,
   "id": "506bc10a-bc52-43cd-b888-527867b351e6",
   "metadata": {},
   "outputs": [
    {
     "data": {
      "text/plain": [
       "File(filename=../../assets/hdf_store/data_ts.h5ts, title=np.str_(''), mode='w', root_uep='/', filters=Filters(complevel=0, shuffle=False, bitshuffle=False, fletcher32=False, least_significant_digit=None))\n",
       "/ (RootGroup) np.str_('')\n",
       "/data (Group/Timeseries) np.str_('')\n",
       "/data/y2021 (Group) np.str_('')\n",
       "/data/y2024 (Group) np.str_('')\n",
       "/data/y2024/m09 (Group) np.str_('')\n",
       "/data/y2024/m09/d20 (Group) np.str_('')\n",
       "/data/y2024/m09/d20/ts_data (Table(np.int64(0),)) np.str_('')\n",
       "  description := {\n",
       "  \"timestamp\": Int64Col(shape=(), dflt=np.int64(0), pos=0),\n",
       "  \"No0\": Float64Col(shape=(), dflt=np.float64(0.0), pos=1),\n",
       "  \"No1\": Float64Col(shape=(), dflt=np.float64(0.0), pos=2),\n",
       "  \"No2\": Float64Col(shape=(), dflt=np.float64(0.0), pos=3),\n",
       "  \"No3\": Float64Col(shape=(), dflt=np.float64(0.0), pos=4),\n",
       "  \"No4\": Float64Col(shape=(), dflt=np.float64(0.0), pos=5)}\n",
       "  byteorder := 'little'\n",
       "  chunkshape := (np.int64(1365),)\n",
       "/data/y2021/m01 (Group) np.str_('')\n",
       "/data/y2021/m01/d01 (Group) np.str_('')\n",
       "/data/y2021/m01/d01/ts_data (Table(np.int64(86400),)) np.str_('')\n",
       "  description := {\n",
       "  \"timestamp\": Int64Col(shape=(), dflt=np.int64(0), pos=0),\n",
       "  \"No0\": Float64Col(shape=(), dflt=np.float64(0.0), pos=1),\n",
       "  \"No1\": Float64Col(shape=(), dflt=np.float64(0.0), pos=2),\n",
       "  \"No2\": Float64Col(shape=(), dflt=np.float64(0.0), pos=3),\n",
       "  \"No3\": Float64Col(shape=(), dflt=np.float64(0.0), pos=4),\n",
       "  \"No4\": Float64Col(shape=(), dflt=np.float64(0.0), pos=5)}\n",
       "  byteorder := 'little'\n",
       "  chunkshape := (np.int64(1365),)\n",
       "/data/y2021/m01/d02 (Group) np.str_('')\n",
       "/data/y2021/m01/d02/ts_data (Table(np.int64(86400),)) np.str_('')\n",
       "  description := {\n",
       "  \"timestamp\": Int64Col(shape=(), dflt=np.int64(0), pos=0),\n",
       "  \"No0\": Float64Col(shape=(), dflt=np.float64(0.0), pos=1),\n",
       "  \"No1\": Float64Col(shape=(), dflt=np.float64(0.0), pos=2),\n",
       "  \"No2\": Float64Col(shape=(), dflt=np.float64(0.0), pos=3),\n",
       "  \"No3\": Float64Col(shape=(), dflt=np.float64(0.0), pos=4),\n",
       "  \"No4\": Float64Col(shape=(), dflt=np.float64(0.0), pos=5)}\n",
       "  byteorder := 'little'\n",
       "  chunkshape := (np.int64(1365),)\n",
       "/data/y2021/m01/d03 (Group) np.str_('')\n",
       "/data/y2021/m01/d03/ts_data (Table(np.int64(86400),)) np.str_('')\n",
       "  description := {\n",
       "  \"timestamp\": Int64Col(shape=(), dflt=np.int64(0), pos=0),\n",
       "  \"No0\": Float64Col(shape=(), dflt=np.float64(0.0), pos=1),\n",
       "  \"No1\": Float64Col(shape=(), dflt=np.float64(0.0), pos=2),\n",
       "  \"No2\": Float64Col(shape=(), dflt=np.float64(0.0), pos=3),\n",
       "  \"No3\": Float64Col(shape=(), dflt=np.float64(0.0), pos=4),\n",
       "  \"No4\": Float64Col(shape=(), dflt=np.float64(0.0), pos=5)}\n",
       "  byteorder := 'little'\n",
       "  chunkshape := (np.int64(1365),)\n",
       "/data/y2021/m01/d04 (Group) np.str_('')\n",
       "/data/y2021/m01/d04/ts_data (Table(np.int64(86400),)) np.str_('')\n",
       "  description := {\n",
       "  \"timestamp\": Int64Col(shape=(), dflt=np.int64(0), pos=0),\n",
       "  \"No0\": Float64Col(shape=(), dflt=np.float64(0.0), pos=1),\n",
       "  \"No1\": Float64Col(shape=(), dflt=np.float64(0.0), pos=2),\n",
       "  \"No2\": Float64Col(shape=(), dflt=np.float64(0.0), pos=3),\n",
       "  \"No3\": Float64Col(shape=(), dflt=np.float64(0.0), pos=4),\n",
       "  \"No4\": Float64Col(shape=(), dflt=np.float64(0.0), pos=5)}\n",
       "  byteorder := 'little'\n",
       "  chunkshape := (np.int64(1365),)\n",
       "/data/y2021/m01/d05 (Group) np.str_('')\n",
       "/data/y2021/m01/d05/ts_data (Table(np.int64(86400),)) np.str_('')\n",
       "  description := {\n",
       "  \"timestamp\": Int64Col(shape=(), dflt=np.int64(0), pos=0),\n",
       "  \"No0\": Float64Col(shape=(), dflt=np.float64(0.0), pos=1),\n",
       "  \"No1\": Float64Col(shape=(), dflt=np.float64(0.0), pos=2),\n",
       "  \"No2\": Float64Col(shape=(), dflt=np.float64(0.0), pos=3),\n",
       "  \"No3\": Float64Col(shape=(), dflt=np.float64(0.0), pos=4),\n",
       "  \"No4\": Float64Col(shape=(), dflt=np.float64(0.0), pos=5)}\n",
       "  byteorder := 'little'\n",
       "  chunkshape := (np.int64(1365),)\n",
       "/data/y2021/m01/d06 (Group) np.str_('')\n",
       "/data/y2021/m01/d06/ts_data (Table(np.int64(86400),)) np.str_('')\n",
       "  description := {\n",
       "  \"timestamp\": Int64Col(shape=(), dflt=np.int64(0), pos=0),\n",
       "  \"No0\": Float64Col(shape=(), dflt=np.float64(0.0), pos=1),\n",
       "  \"No1\": Float64Col(shape=(), dflt=np.float64(0.0), pos=2),\n",
       "  \"No2\": Float64Col(shape=(), dflt=np.float64(0.0), pos=3),\n",
       "  \"No3\": Float64Col(shape=(), dflt=np.float64(0.0), pos=4),\n",
       "  \"No4\": Float64Col(shape=(), dflt=np.float64(0.0), pos=5)}\n",
       "  byteorder := 'little'\n",
       "  chunkshape := (np.int64(1365),)\n",
       "/data/y2021/m01/d07 (Group) np.str_('')\n",
       "/data/y2021/m01/d07/ts_data (Table(np.int64(86400),)) np.str_('')\n",
       "  description := {\n",
       "  \"timestamp\": Int64Col(shape=(), dflt=np.int64(0), pos=0),\n",
       "  \"No0\": Float64Col(shape=(), dflt=np.float64(0.0), pos=1),\n",
       "  \"No1\": Float64Col(shape=(), dflt=np.float64(0.0), pos=2),\n",
       "  \"No2\": Float64Col(shape=(), dflt=np.float64(0.0), pos=3),\n",
       "  \"No3\": Float64Col(shape=(), dflt=np.float64(0.0), pos=4),\n",
       "  \"No4\": Float64Col(shape=(), dflt=np.float64(0.0), pos=5)}\n",
       "  byteorder := 'little'\n",
       "  chunkshape := (np.int64(1365),)\n",
       "/data/y2021/m01/d08 (Group) np.str_('')\n",
       "/data/y2021/m01/d08/ts_data (Table(np.int64(86400),)) np.str_('')\n",
       "  description := {\n",
       "  \"timestamp\": Int64Col(shape=(), dflt=np.int64(0), pos=0),\n",
       "  \"No0\": Float64Col(shape=(), dflt=np.float64(0.0), pos=1),\n",
       "  \"No1\": Float64Col(shape=(), dflt=np.float64(0.0), pos=2),\n",
       "  \"No2\": Float64Col(shape=(), dflt=np.float64(0.0), pos=3),\n",
       "  \"No3\": Float64Col(shape=(), dflt=np.float64(0.0), pos=4),\n",
       "  \"No4\": Float64Col(shape=(), dflt=np.float64(0.0), pos=5)}\n",
       "  byteorder := 'little'\n",
       "  chunkshape := (np.int64(1365),)\n",
       "/data/y2021/m01/d09 (Group) np.str_('')\n",
       "/data/y2021/m01/d09/ts_data (Table(np.int64(86400),)) np.str_('')\n",
       "  description := {\n",
       "  \"timestamp\": Int64Col(shape=(), dflt=np.int64(0), pos=0),\n",
       "  \"No0\": Float64Col(shape=(), dflt=np.float64(0.0), pos=1),\n",
       "  \"No1\": Float64Col(shape=(), dflt=np.float64(0.0), pos=2),\n",
       "  \"No2\": Float64Col(shape=(), dflt=np.float64(0.0), pos=3),\n",
       "  \"No3\": Float64Col(shape=(), dflt=np.float64(0.0), pos=4),\n",
       "  \"No4\": Float64Col(shape=(), dflt=np.float64(0.0), pos=5)}\n",
       "  byteorder := 'little'\n",
       "  chunkshape := (np.int64(1365),)\n",
       "/data/y2021/m01/d10 (Group) np.str_('')\n",
       "/data/y2021/m01/d10/ts_data (Table(np.int64(86400),)) np.str_('')\n",
       "  description := {\n",
       "  \"timestamp\": Int64Col(shape=(), dflt=np.int64(0), pos=0),\n",
       "  \"No0\": Float64Col(shape=(), dflt=np.float64(0.0), pos=1),\n",
       "  \"No1\": Float64Col(shape=(), dflt=np.float64(0.0), pos=2),\n",
       "  \"No2\": Float64Col(shape=(), dflt=np.float64(0.0), pos=3),\n",
       "  \"No3\": Float64Col(shape=(), dflt=np.float64(0.0), pos=4),\n",
       "  \"No4\": Float64Col(shape=(), dflt=np.float64(0.0), pos=5)}\n",
       "  byteorder := 'little'\n",
       "  chunkshape := (np.int64(1365),)\n",
       "/data/y2021/m01/d11 (Group) np.str_('')\n",
       "/data/y2021/m01/d11/ts_data (Table(np.int64(86400),)) np.str_('')\n",
       "  description := {\n",
       "  \"timestamp\": Int64Col(shape=(), dflt=np.int64(0), pos=0),\n",
       "  \"No0\": Float64Col(shape=(), dflt=np.float64(0.0), pos=1),\n",
       "  \"No1\": Float64Col(shape=(), dflt=np.float64(0.0), pos=2),\n",
       "  \"No2\": Float64Col(shape=(), dflt=np.float64(0.0), pos=3),\n",
       "  \"No3\": Float64Col(shape=(), dflt=np.float64(0.0), pos=4),\n",
       "  \"No4\": Float64Col(shape=(), dflt=np.float64(0.0), pos=5)}\n",
       "  byteorder := 'little'\n",
       "  chunkshape := (np.int64(1365),)\n",
       "/data/y2021/m01/d12 (Group) np.str_('')\n",
       "/data/y2021/m01/d12/ts_data (Table(np.int64(86400),)) np.str_('')\n",
       "  description := {\n",
       "  \"timestamp\": Int64Col(shape=(), dflt=np.int64(0), pos=0),\n",
       "  \"No0\": Float64Col(shape=(), dflt=np.float64(0.0), pos=1),\n",
       "  \"No1\": Float64Col(shape=(), dflt=np.float64(0.0), pos=2),\n",
       "  \"No2\": Float64Col(shape=(), dflt=np.float64(0.0), pos=3),\n",
       "  \"No3\": Float64Col(shape=(), dflt=np.float64(0.0), pos=4),\n",
       "  \"No4\": Float64Col(shape=(), dflt=np.float64(0.0), pos=5)}\n",
       "  byteorder := 'little'\n",
       "  chunkshape := (np.int64(1365),)\n",
       "/data/y2021/m01/d13 (Group) np.str_('')\n",
       "/data/y2021/m01/d13/ts_data (Table(np.int64(86400),)) np.str_('')\n",
       "  description := {\n",
       "  \"timestamp\": Int64Col(shape=(), dflt=np.int64(0), pos=0),\n",
       "  \"No0\": Float64Col(shape=(), dflt=np.float64(0.0), pos=1),\n",
       "  \"No1\": Float64Col(shape=(), dflt=np.float64(0.0), pos=2),\n",
       "  \"No2\": Float64Col(shape=(), dflt=np.float64(0.0), pos=3),\n",
       "  \"No3\": Float64Col(shape=(), dflt=np.float64(0.0), pos=4),\n",
       "  \"No4\": Float64Col(shape=(), dflt=np.float64(0.0), pos=5)}\n",
       "  byteorder := 'little'\n",
       "  chunkshape := (np.int64(1365),)\n",
       "/data/y2021/m01/d14 (Group) np.str_('')\n",
       "/data/y2021/m01/d14/ts_data (Table(np.int64(86400),)) np.str_('')\n",
       "  description := {\n",
       "  \"timestamp\": Int64Col(shape=(), dflt=np.int64(0), pos=0),\n",
       "  \"No0\": Float64Col(shape=(), dflt=np.float64(0.0), pos=1),\n",
       "  \"No1\": Float64Col(shape=(), dflt=np.float64(0.0), pos=2),\n",
       "  \"No2\": Float64Col(shape=(), dflt=np.float64(0.0), pos=3),\n",
       "  \"No3\": Float64Col(shape=(), dflt=np.float64(0.0), pos=4),\n",
       "  \"No4\": Float64Col(shape=(), dflt=np.float64(0.0), pos=5)}\n",
       "  byteorder := 'little'\n",
       "  chunkshape := (np.int64(1365),)\n",
       "/data/y2021/m01/d15 (Group) np.str_('')\n",
       "/data/y2021/m01/d15/ts_data (Table(np.int64(86400),)) np.str_('')\n",
       "  description := {\n",
       "  \"timestamp\": Int64Col(shape=(), dflt=np.int64(0), pos=0),\n",
       "  \"No0\": Float64Col(shape=(), dflt=np.float64(0.0), pos=1),\n",
       "  \"No1\": Float64Col(shape=(), dflt=np.float64(0.0), pos=2),\n",
       "  \"No2\": Float64Col(shape=(), dflt=np.float64(0.0), pos=3),\n",
       "  \"No3\": Float64Col(shape=(), dflt=np.float64(0.0), pos=4),\n",
       "  \"No4\": Float64Col(shape=(), dflt=np.float64(0.0), pos=5)}\n",
       "  byteorder := 'little'\n",
       "  chunkshape := (np.int64(1365),)\n",
       "/data/y2021/m01/d16 (Group) np.str_('')\n",
       "/data/y2021/m01/d16/ts_data (Table(np.int64(86400),)) np.str_('')\n",
       "  description := {\n",
       "  \"timestamp\": Int64Col(shape=(), dflt=np.int64(0), pos=0),\n",
       "  \"No0\": Float64Col(shape=(), dflt=np.float64(0.0), pos=1),\n",
       "  \"No1\": Float64Col(shape=(), dflt=np.float64(0.0), pos=2),\n",
       "  \"No2\": Float64Col(shape=(), dflt=np.float64(0.0), pos=3),\n",
       "  \"No3\": Float64Col(shape=(), dflt=np.float64(0.0), pos=4),\n",
       "  \"No4\": Float64Col(shape=(), dflt=np.float64(0.0), pos=5)}\n",
       "  byteorder := 'little'\n",
       "  chunkshape := (np.int64(1365),)\n",
       "/data/y2021/m01/d17 (Group) np.str_('')\n",
       "/data/y2021/m01/d17/ts_data (Table(np.int64(86400),)) np.str_('')\n",
       "  description := {\n",
       "  \"timestamp\": Int64Col(shape=(), dflt=np.int64(0), pos=0),\n",
       "  \"No0\": Float64Col(shape=(), dflt=np.float64(0.0), pos=1),\n",
       "  \"No1\": Float64Col(shape=(), dflt=np.float64(0.0), pos=2),\n",
       "  \"No2\": Float64Col(shape=(), dflt=np.float64(0.0), pos=3),\n",
       "  \"No3\": Float64Col(shape=(), dflt=np.float64(0.0), pos=4),\n",
       "  \"No4\": Float64Col(shape=(), dflt=np.float64(0.0), pos=5)}\n",
       "  byteorder := 'little'\n",
       "  chunkshape := (np.int64(1365),)\n",
       "/data/y2021/m01/d18 (Group) np.str_('')\n",
       "/data/y2021/m01/d18/ts_data (Table(np.int64(86400),)) np.str_('')\n",
       "  description := {\n",
       "  \"timestamp\": Int64Col(shape=(), dflt=np.int64(0), pos=0),\n",
       "  \"No0\": Float64Col(shape=(), dflt=np.float64(0.0), pos=1),\n",
       "  \"No1\": Float64Col(shape=(), dflt=np.float64(0.0), pos=2),\n",
       "  \"No2\": Float64Col(shape=(), dflt=np.float64(0.0), pos=3),\n",
       "  \"No3\": Float64Col(shape=(), dflt=np.float64(0.0), pos=4),\n",
       "  \"No4\": Float64Col(shape=(), dflt=np.float64(0.0), pos=5)}\n",
       "  byteorder := 'little'\n",
       "  chunkshape := (np.int64(1365),)\n",
       "/data/y2021/m01/d19 (Group) np.str_('')\n",
       "/data/y2021/m01/d19/ts_data (Table(np.int64(86400),)) np.str_('')\n",
       "  description := {\n",
       "  \"timestamp\": Int64Col(shape=(), dflt=np.int64(0), pos=0),\n",
       "  \"No0\": Float64Col(shape=(), dflt=np.float64(0.0), pos=1),\n",
       "  \"No1\": Float64Col(shape=(), dflt=np.float64(0.0), pos=2),\n",
       "  \"No2\": Float64Col(shape=(), dflt=np.float64(0.0), pos=3),\n",
       "  \"No3\": Float64Col(shape=(), dflt=np.float64(0.0), pos=4),\n",
       "  \"No4\": Float64Col(shape=(), dflt=np.float64(0.0), pos=5)}\n",
       "  byteorder := 'little'\n",
       "  chunkshape := (np.int64(1365),)\n",
       "/data/y2021/m01/d20 (Group) np.str_('')\n",
       "/data/y2021/m01/d20/ts_data (Table(np.int64(86400),)) np.str_('')\n",
       "  description := {\n",
       "  \"timestamp\": Int64Col(shape=(), dflt=np.int64(0), pos=0),\n",
       "  \"No0\": Float64Col(shape=(), dflt=np.float64(0.0), pos=1),\n",
       "  \"No1\": Float64Col(shape=(), dflt=np.float64(0.0), pos=2),\n",
       "  \"No2\": Float64Col(shape=(), dflt=np.float64(0.0), pos=3),\n",
       "  \"No3\": Float64Col(shape=(), dflt=np.float64(0.0), pos=4),\n",
       "  \"No4\": Float64Col(shape=(), dflt=np.float64(0.0), pos=5)}\n",
       "  byteorder := 'little'\n",
       "  chunkshape := (np.int64(1365),)\n",
       "/data/y2021/m01/d21 (Group) np.str_('')\n",
       "/data/y2021/m01/d21/ts_data (Table(np.int64(86400),)) np.str_('')\n",
       "  description := {\n",
       "  \"timestamp\": Int64Col(shape=(), dflt=np.int64(0), pos=0),\n",
       "  \"No0\": Float64Col(shape=(), dflt=np.float64(0.0), pos=1),\n",
       "  \"No1\": Float64Col(shape=(), dflt=np.float64(0.0), pos=2),\n",
       "  \"No2\": Float64Col(shape=(), dflt=np.float64(0.0), pos=3),\n",
       "  \"No3\": Float64Col(shape=(), dflt=np.float64(0.0), pos=4),\n",
       "  \"No4\": Float64Col(shape=(), dflt=np.float64(0.0), pos=5)}\n",
       "  byteorder := 'little'\n",
       "  chunkshape := (np.int64(1365),)\n",
       "/data/y2021/m01/d22 (Group) np.str_('')\n",
       "/data/y2021/m01/d22/ts_data (Table(np.int64(86400),)) np.str_('')\n",
       "  description := {\n",
       "  \"timestamp\": Int64Col(shape=(), dflt=np.int64(0), pos=0),\n",
       "  \"No0\": Float64Col(shape=(), dflt=np.float64(0.0), pos=1),\n",
       "  \"No1\": Float64Col(shape=(), dflt=np.float64(0.0), pos=2),\n",
       "  \"No2\": Float64Col(shape=(), dflt=np.float64(0.0), pos=3),\n",
       "  \"No3\": Float64Col(shape=(), dflt=np.float64(0.0), pos=4),\n",
       "  \"No4\": Float64Col(shape=(), dflt=np.float64(0.0), pos=5)}\n",
       "  byteorder := 'little'\n",
       "  chunkshape := (np.int64(1365),)\n",
       "/data/y2021/m01/d23 (Group) np.str_('')\n",
       "/data/y2021/m01/d23/ts_data (Table(np.int64(86400),)) np.str_('')\n",
       "  description := {\n",
       "  \"timestamp\": Int64Col(shape=(), dflt=np.int64(0), pos=0),\n",
       "  \"No0\": Float64Col(shape=(), dflt=np.float64(0.0), pos=1),\n",
       "  \"No1\": Float64Col(shape=(), dflt=np.float64(0.0), pos=2),\n",
       "  \"No2\": Float64Col(shape=(), dflt=np.float64(0.0), pos=3),\n",
       "  \"No3\": Float64Col(shape=(), dflt=np.float64(0.0), pos=4),\n",
       "  \"No4\": Float64Col(shape=(), dflt=np.float64(0.0), pos=5)}\n",
       "  byteorder := 'little'\n",
       "  chunkshape := (np.int64(1365),)\n",
       "/data/y2021/m01/d24 (Group) np.str_('')\n",
       "/data/y2021/m01/d24/ts_data (Table(np.int64(86400),)) np.str_('')\n",
       "  description := {\n",
       "  \"timestamp\": Int64Col(shape=(), dflt=np.int64(0), pos=0),\n",
       "  \"No0\": Float64Col(shape=(), dflt=np.float64(0.0), pos=1),\n",
       "  \"No1\": Float64Col(shape=(), dflt=np.float64(0.0), pos=2),\n",
       "  \"No2\": Float64Col(shape=(), dflt=np.float64(0.0), pos=3),\n",
       "  \"No3\": Float64Col(shape=(), dflt=np.float64(0.0), pos=4),\n",
       "  \"No4\": Float64Col(shape=(), dflt=np.float64(0.0), pos=5)}\n",
       "  byteorder := 'little'\n",
       "  chunkshape := (np.int64(1365),)\n",
       "/data/y2021/m01/d25 (Group) np.str_('')\n",
       "/data/y2021/m01/d25/ts_data (Table(np.int64(86400),)) np.str_('')\n",
       "  description := {\n",
       "  \"timestamp\": Int64Col(shape=(), dflt=np.int64(0), pos=0),\n",
       "  \"No0\": Float64Col(shape=(), dflt=np.float64(0.0), pos=1),\n",
       "  \"No1\": Float64Col(shape=(), dflt=np.float64(0.0), pos=2),\n",
       "  \"No2\": Float64Col(shape=(), dflt=np.float64(0.0), pos=3),\n",
       "  \"No3\": Float64Col(shape=(), dflt=np.float64(0.0), pos=4),\n",
       "  \"No4\": Float64Col(shape=(), dflt=np.float64(0.0), pos=5)}\n",
       "  byteorder := 'little'\n",
       "  chunkshape := (np.int64(1365),)\n",
       "/data/y2021/m01/d26 (Group) np.str_('')\n",
       "/data/y2021/m01/d26/ts_data (Table(np.int64(86400),)) np.str_('')\n",
       "  description := {\n",
       "  \"timestamp\": Int64Col(shape=(), dflt=np.int64(0), pos=0),\n",
       "  \"No0\": Float64Col(shape=(), dflt=np.float64(0.0), pos=1),\n",
       "  \"No1\": Float64Col(shape=(), dflt=np.float64(0.0), pos=2),\n",
       "  \"No2\": Float64Col(shape=(), dflt=np.float64(0.0), pos=3),\n",
       "  \"No3\": Float64Col(shape=(), dflt=np.float64(0.0), pos=4),\n",
       "  \"No4\": Float64Col(shape=(), dflt=np.float64(0.0), pos=5)}\n",
       "  byteorder := 'little'\n",
       "  chunkshape := (np.int64(1365),)\n",
       "/data/y2021/m01/d27 (Group) np.str_('')\n",
       "/data/y2021/m01/d27/ts_data (Table(np.int64(86400),)) np.str_('')\n",
       "  description := {\n",
       "  \"timestamp\": Int64Col(shape=(), dflt=np.int64(0), pos=0),\n",
       "  \"No0\": Float64Col(shape=(), dflt=np.float64(0.0), pos=1),\n",
       "  \"No1\": Float64Col(shape=(), dflt=np.float64(0.0), pos=2),\n",
       "  \"No2\": Float64Col(shape=(), dflt=np.float64(0.0), pos=3),\n",
       "  \"No3\": Float64Col(shape=(), dflt=np.float64(0.0), pos=4),\n",
       "  \"No4\": Float64Col(shape=(), dflt=np.float64(0.0), pos=5)}\n",
       "  byteorder := 'little'\n",
       "  chunkshape := (np.int64(1365),)\n",
       "/data/y2021/m01/d28 (Group) np.str_('')\n",
       "/data/y2021/m01/d28/ts_data (Table(np.int64(86400),)) np.str_('')\n",
       "  description := {\n",
       "  \"timestamp\": Int64Col(shape=(), dflt=np.int64(0), pos=0),\n",
       "  \"No0\": Float64Col(shape=(), dflt=np.float64(0.0), pos=1),\n",
       "  \"No1\": Float64Col(shape=(), dflt=np.float64(0.0), pos=2),\n",
       "  \"No2\": Float64Col(shape=(), dflt=np.float64(0.0), pos=3),\n",
       "  \"No3\": Float64Col(shape=(), dflt=np.float64(0.0), pos=4),\n",
       "  \"No4\": Float64Col(shape=(), dflt=np.float64(0.0), pos=5)}\n",
       "  byteorder := 'little'\n",
       "  chunkshape := (np.int64(1365),)\n",
       "/data/y2021/m01/d29 (Group) np.str_('')\n",
       "/data/y2021/m01/d29/ts_data (Table(np.int64(80800),)) np.str_('')\n",
       "  description := {\n",
       "  \"timestamp\": Int64Col(shape=(), dflt=np.int64(0), pos=0),\n",
       "  \"No0\": Float64Col(shape=(), dflt=np.float64(0.0), pos=1),\n",
       "  \"No1\": Float64Col(shape=(), dflt=np.float64(0.0), pos=2),\n",
       "  \"No2\": Float64Col(shape=(), dflt=np.float64(0.0), pos=3),\n",
       "  \"No3\": Float64Col(shape=(), dflt=np.float64(0.0), pos=4),\n",
       "  \"No4\": Float64Col(shape=(), dflt=np.float64(0.0), pos=5)}\n",
       "  byteorder := 'little'\n",
       "  chunkshape := (np.int64(1365),)"
      ]
     },
     "execution_count": 34,
     "metadata": {},
     "output_type": "execute_result"
    }
   ],
   "source": [
    "h5"
   ]
  },
  {
   "cell_type": "code",
   "execution_count": 35,
   "id": "591a376d-a657-46b8-8b1d-7ce8bd200bfb",
   "metadata": {},
   "outputs": [],
   "source": [
    "# reading subsets of the data from the TsTables table\n",
    "import datetime"
   ]
  },
  {
   "cell_type": "code",
   "execution_count": 36,
   "id": "644b6eeb-c508-4fbe-b2dc-57774ede801a",
   "metadata": {},
   "outputs": [],
   "source": [
    "start = datetime.datetime(2021, 1, 2) # defining start and end date for the subset\n",
    "end = datetime.datetime(2021, 1, 3)"
   ]
  },
  {
   "cell_type": "code",
   "execution_count": 37,
   "id": "01013d42-854a-49f0-a133-1c12da346859",
   "metadata": {},
   "outputs": [
    {
     "name": "stdout",
     "output_type": "stream",
     "text": [
      "CPU times: user 9.27 ms, sys: 6.09 ms, total: 15.4 ms\n",
      "Wall time: 16 ms\n"
     ]
    }
   ],
   "source": [
    "%time subset = ts.read_range(start, end) # read_range takes start and end date as input"
   ]
  },
  {
   "cell_type": "code",
   "execution_count": 38,
   "id": "8032a794-bb58-4653-9c69-debbc261cba7",
   "metadata": {},
   "outputs": [],
   "source": [
    "start = datetime.datetime(2021, 1, 2, 12, 30, 0)\n",
    "end = datetime.datetime(2021, 1, 5, 17, 15, 30)"
   ]
  },
  {
   "cell_type": "code",
   "execution_count": 39,
   "id": "a6b8e482-63c8-41ad-a769-c92a571e073c",
   "metadata": {},
   "outputs": [
    {
     "name": "stdout",
     "output_type": "stream",
     "text": [
      "CPU times: user 17.7 ms, sys: 7.44 ms, total: 25.1 ms\n",
      "Wall time: 25.7 ms\n"
     ]
    }
   ],
   "source": [
    "%time subset = ts.read_range(start, end)"
   ]
  },
  {
   "cell_type": "code",
   "execution_count": 40,
   "id": "ae363c30-b00f-48e3-898f-0d4ace29ced7",
   "metadata": {},
   "outputs": [
    {
     "name": "stdout",
     "output_type": "stream",
     "text": [
      "<class 'pandas.core.frame.DataFrame'>\n",
      "DatetimeIndex: 276331 entries, 2021-01-02 12:30:00 to 2021-01-05 17:15:30\n",
      "Data columns (total 5 columns):\n",
      " #   Column  Non-Null Count   Dtype  \n",
      "---  ------  --------------   -----  \n",
      " 0   No0     276331 non-null  float64\n",
      " 1   No1     276331 non-null  float64\n",
      " 2   No2     276331 non-null  float64\n",
      " 3   No3     276331 non-null  float64\n",
      " 4   No4     276331 non-null  float64\n",
      "dtypes: float64(5)\n",
      "memory usage: 12.6 MB\n"
     ]
    }
   ],
   "source": [
    "subset.info()"
   ]
  },
  {
   "cell_type": "code",
   "execution_count": 41,
   "id": "a2800f30-41cd-43c2-90cf-9233eb505252",
   "metadata": {},
   "outputs": [],
   "source": [
    "h5.close()"
   ]
  },
  {
   "cell_type": "code",
   "execution_count": 42,
   "id": "74b2a38e-c102-4377-968a-c5abb02873ea",
   "metadata": {},
   "outputs": [],
   "source": [
    "rm ../../assets/hdf_store/data_ts.* # deleting file"
   ]
  },
  {
   "cell_type": "markdown",
   "id": "770263fc-0707-4858-b0f1-66f2ba009c3e",
   "metadata": {},
   "source": [
    "### Storing Data with SQLite3"
   ]
  },
  {
   "cell_type": "markdown",
   "id": "ce9ea4d7-9a6f-4856-a92b-6b89b383c7ef",
   "metadata": {},
   "source": [
    "Writing financial time series data from a DataFrame object to a relational database, SQLite3 in this example."
   ]
  },
  {
   "cell_type": "code",
   "execution_count": 16,
   "id": "671ff04a-ad4b-4569-8a8b-12ea2738c72d",
   "metadata": {},
   "outputs": [
    {
     "name": "stdout",
     "output_type": "stream",
     "text": [
      "CPU times: user 220 ms, sys: 44.4 ms, total: 265 ms\n",
      "Wall time: 351 ms\n"
     ]
    }
   ],
   "source": [
    "%time data = generate_sample_data(1e6, 5, '1min').round(4)"
   ]
  },
  {
   "cell_type": "code",
   "execution_count": 17,
   "id": "a16beb6d-68bb-421e-9c52-754e9ac49578",
   "metadata": {},
   "outputs": [
    {
     "name": "stdout",
     "output_type": "stream",
     "text": [
      "<class 'pandas.core.frame.DataFrame'>\n",
      "DatetimeIndex: 1000000 entries, 2021-01-01 00:00:00 to 2022-11-26 10:39:00\n",
      "Freq: min\n",
      "Data columns (total 5 columns):\n",
      " #   Column  Non-Null Count    Dtype  \n",
      "---  ------  --------------    -----  \n",
      " 0   No0     1000000 non-null  float64\n",
      " 1   No1     1000000 non-null  float64\n",
      " 2   No2     1000000 non-null  float64\n",
      " 3   No3     1000000 non-null  float64\n",
      " 4   No4     1000000 non-null  float64\n",
      "dtypes: float64(5)\n",
      "memory usage: 45.8 MB\n"
     ]
    }
   ],
   "source": [
    "data.info()"
   ]
  },
  {
   "cell_type": "code",
   "execution_count": 18,
   "id": "62ff427d-a73f-41ba-8409-0eb609506925",
   "metadata": {},
   "outputs": [],
   "source": [
    "import sqlite3 as sq3"
   ]
  },
  {
   "cell_type": "code",
   "execution_count": 19,
   "id": "8a405261-0187-4d70-9ee5-0b4d99d12364",
   "metadata": {},
   "outputs": [],
   "source": [
    "con = sq3.connect('../../assets/data_sql/data.sql') # opening a connection to a new database file"
   ]
  },
  {
   "cell_type": "code",
   "execution_count": 20,
   "id": "3415f574-3b92-4874-8d68-9b016bda00e9",
   "metadata": {},
   "outputs": [
    {
     "name": "stdout",
     "output_type": "stream",
     "text": [
      "CPU times: user 3.08 s, sys: 216 ms, total: 3.3 s\n",
      "Wall time: 3.46 s\n"
     ]
    },
    {
     "data": {
      "text/plain": [
       "1000000"
      ]
     },
     "execution_count": 20,
     "metadata": {},
     "output_type": "execute_result"
    }
   ],
   "source": [
    "%time data.to_sql('data', con) # writing the data to the relational database"
   ]
  },
  {
   "cell_type": "code",
   "execution_count": 21,
   "id": "6c28e7b8-24e2-44cc-8b31-baee48d6d700",
   "metadata": {},
   "outputs": [
    {
     "name": "stdout",
     "output_type": "stream",
     "text": [
      "-rw-r--r--  1 501  20  105316352 21 Sep 09:28 ../../assets/data_sql/data.sql\n"
     ]
    }
   ],
   "source": [
    "ls -n ../../assets/data_sql/data.*"
   ]
  },
  {
   "cell_type": "code",
   "execution_count": 22,
   "id": "ead9f9d3-0eef-44cf-9fc8-b567055941c0",
   "metadata": {},
   "outputs": [],
   "source": [
    "query = 'SELECT * FROM data WHERE No1 > 103 and No2 < 105' # sql query as a python string object"
   ]
  },
  {
   "cell_type": "code",
   "execution_count": 23,
   "id": "8ca84dd5-1605-414c-a13f-2ac336451d1a",
   "metadata": {},
   "outputs": [
    {
     "name": "stdout",
     "output_type": "stream",
     "text": [
      "CPU times: user 90 ms, sys: 27.8 ms, total: 118 ms\n",
      "Wall time: 118 ms\n"
     ]
    }
   ],
   "source": [
    "%time res = con.execute(query).fetchall() # executing query, retrieving all result rows"
   ]
  },
  {
   "cell_type": "code",
   "execution_count": 24,
   "id": "829f4193-bd0f-4168-b779-36a1a63a8fe2",
   "metadata": {},
   "outputs": [
    {
     "data": {
      "text/plain": [
       "[('2021-01-02 06:53:00', 98.1084, 103.0133, 98.754, 102.0656, 100.7058),\n",
       " ('2021-01-02 07:06:00', 97.7451, 103.0194, 98.986, 101.8655, 100.7693),\n",
       " ('2021-01-02 07:08:00', 97.7815, 103.0492, 99.0187, 101.7314, 100.7489),\n",
       " ('2021-01-02 07:11:00', 97.846, 103.0989, 98.9572, 101.6346, 100.8165),\n",
       " ('2021-01-02 07:12:00', 97.7544, 103.1154, 98.9915, 101.5826, 100.7981)]"
      ]
     },
     "execution_count": 24,
     "metadata": {},
     "output_type": "execute_result"
    }
   ],
   "source": [
    "res[:5] # first five rows of results list object"
   ]
  },
  {
   "cell_type": "code",
   "execution_count": 25,
   "id": "97235442-f20e-493e-8351-51899449f10c",
   "metadata": {},
   "outputs": [
    {
     "data": {
      "text/plain": [
       "4402"
      ]
     },
     "execution_count": 25,
     "metadata": {},
     "output_type": "execute_result"
    }
   ],
   "source": [
    "len(res)"
   ]
  },
  {
   "cell_type": "code",
   "execution_count": 26,
   "id": "587d8ddc-b24f-4c3a-ac39-d250279c5281",
   "metadata": {},
   "outputs": [],
   "source": [
    "con.close()"
   ]
  },
  {
   "cell_type": "code",
   "execution_count": 27,
   "id": "b68ec458-3cd7-4bb1-b991-df6603c9859a",
   "metadata": {},
   "outputs": [],
   "source": [
    "rm ../../assets/data_sql/data.*"
   ]
  },
  {
   "cell_type": "code",
   "execution_count": null,
   "id": "0376690e-d1c7-44ba-bf6e-af68fe02d398",
   "metadata": {},
   "outputs": [],
   "source": []
  }
 ],
 "metadata": {
  "kernelspec": {
   "display_name": "Python 3 (ipykernel)",
   "language": "python",
   "name": "python3"
  },
  "language_info": {
   "codemirror_mode": {
    "name": "ipython",
    "version": 3
   },
   "file_extension": ".py",
   "mimetype": "text/x-python",
   "name": "python",
   "nbconvert_exporter": "python",
   "pygments_lexer": "ipython3",
   "version": "3.12.7"
  }
 },
 "nbformat": 4,
 "nbformat_minor": 5
}
