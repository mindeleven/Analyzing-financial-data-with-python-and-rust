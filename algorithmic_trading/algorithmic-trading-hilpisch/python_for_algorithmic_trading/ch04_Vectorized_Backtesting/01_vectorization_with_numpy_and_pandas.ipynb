{
 "cells": [
  {
   "cell_type": "markdown",
   "id": "aa554a84-7c6a-42bf-8ad2-f353d8790c8c",
   "metadata": {},
   "source": [
    "## Vectorized Backtesting: Vectorization with NumPy and pandas"
   ]
  },
  {
   "cell_type": "markdown",
   "id": "aad1b2a8-bfd9-4a65-ab4c-0158b5e07624",
   "metadata": {},
   "source": [
    "*[Coding along with Python for Algorithmic Trading, Yves Hilpisch, O'Reilly, 1st edition November 2020, ISBN-13: 978-1492053354]*"
   ]
  },
  {
   "cell_type": "markdown",
   "id": "cbe401f5-ded9-4f07-bd8c-6ddef142e1d3",
   "metadata": {},
   "source": [
    "Testing ideas and hypothesis for an algorithmic trading program is the highly technical part of developing a trading strategy. \n",
    "\n",
    "> *Vectorized backtesting is a method of testing trading strategies where all trades are calculated simultaneously using arrays/matrices of historical market data, rather than processing trades one by one in a loop. This approach is typically much faster than event-driven backtesting since it leverages efficient array operations, though it may not capture some real-world trading complexities as accurately (claude.ai).*"
   ]
  },
  {
   "cell_type": "markdown",
   "id": "3648209a-3a6d-429a-8a1b-8d2cb67a692a",
   "metadata": {},
   "source": [
    "### Vectorization with NumPy"
   ]
  },
  {
   "cell_type": "markdown",
   "id": "780513a4-7f8d-4af1-a6d8-fea1edeeda21",
   "metadata": {},
   "source": [
    "The NumPy package for numerical computing brings vectorization into the Python ecosystem. According to its [website](https://numpy.org/), *\"the NumPy vectorization, indexing, and broadcasting concepts are the de-facto standards of array computing today.\"* NumPy allows for vectorization techniques based on the regular array class `ndarray`."
   ]
  },
  {
   "cell_type": "code",
   "execution_count": 16,
   "id": "787c07bc-42eb-414e-b16c-725ca614f4f1",
   "metadata": {},
   "outputs": [
    {
     "name": "stdout",
     "output_type": "stream",
     "text": [
      "The history saving thread hit an unexpected error (OperationalError('attempt to write a readonly database')).History will not be written to the database.\n"
     ]
    }
   ],
   "source": [
    "import numpy as np"
   ]
  },
  {
   "cell_type": "code",
   "execution_count": 17,
   "id": "ba0c6ab9-1319-49e5-b39e-d215895ba128",
   "metadata": {},
   "outputs": [],
   "source": [
    "v = [1, 2, 3, 4, 5] # python list object"
   ]
  },
  {
   "cell_type": "code",
   "execution_count": 18,
   "id": "bb75c262-d675-482f-903c-d2a20da7fca5",
   "metadata": {},
   "outputs": [
    {
     "data": {
      "text/plain": [
       "array([1, 2, 3, 4, 5])"
      ]
     },
     "execution_count": 18,
     "metadata": {},
     "output_type": "execute_result"
    }
   ],
   "source": [
    "a = np.array(v) # instantiating and ndarray object based on a list array\n",
    "a"
   ]
  },
  {
   "cell_type": "code",
   "execution_count": 19,
   "id": "ee2e6a84-51d6-4c75-849b-320490bdff8f",
   "metadata": {},
   "outputs": [
    {
     "data": {
      "text/plain": [
       "numpy.ndarray"
      ]
     },
     "execution_count": 19,
     "metadata": {},
     "output_type": "execute_result"
    }
   ],
   "source": [
    "type(a) # checking the type ot the object"
   ]
  },
  {
   "cell_type": "code",
   "execution_count": 20,
   "id": "e904fde3-c0b6-471b-94d6-8986560392b1",
   "metadata": {},
   "outputs": [
    {
     "data": {
      "text/plain": [
       "array([ 2,  4,  6,  8, 10])"
      ]
     },
     "execution_count": 20,
     "metadata": {},
     "output_type": "execute_result"
    }
   ],
   "source": [
    "# scalar multiplication in vectorized fashion\n",
    "2 * a"
   ]
  },
  {
   "cell_type": "code",
   "execution_count": 21,
   "id": "2eb56fc2-710c-4c5d-8ba4-b9679cdfef9b",
   "metadata": {},
   "outputs": [
    {
     "data": {
      "text/plain": [
       "array([2.5, 3. , 3.5, 4. , 4.5])"
      ]
     },
     "execution_count": 21,
     "metadata": {},
     "output_type": "execute_result"
    }
   ],
   "source": [
    "0.5 * a + 2 # linear transformation in vectorized fashion"
   ]
  },
  {
   "cell_type": "markdown",
   "id": "abff0bdf-94b6-4a57-a450-4f103eec1d59",
   "metadata": {},
   "source": [
    "__Transition from a one-dimensional array (a vector) to a higher-dimensional structure (a matrix)__"
   ]
  },
  {
   "cell_type": "code",
   "execution_count": 22,
   "id": "a4affc4f-37b3-4401-b0a5-6b639b96eae2",
   "metadata": {},
   "outputs": [
    {
     "data": {
      "text/plain": [
       "array([[ 0,  1,  2,  3],\n",
       "       [ 4,  5,  6,  7],\n",
       "       [ 8,  9, 10, 11]])"
      ]
     },
     "execution_count": 22,
     "metadata": {},
     "output_type": "execute_result"
    }
   ],
   "source": [
    "# arange() creates one-dimensional ndarray object\n",
    "# reshape() reshapes it to 2-dimensions\n",
    "a = np.arange(12).reshape([3,4])\n",
    "a"
   ]
  },
  {
   "cell_type": "code",
   "execution_count": 23,
   "id": "4e410154-a820-49b5-93a2-259cad5d5387",
   "metadata": {},
   "outputs": [
    {
     "data": {
      "text/plain": [
       "array([[ 0,  2,  4,  6],\n",
       "       [ 8, 10, 12, 14],\n",
       "       [16, 18, 20, 22]])"
      ]
     },
     "execution_count": 23,
     "metadata": {},
     "output_type": "execute_result"
    }
   ],
   "source": [
    "# scalar multiplication in vectorized fashion\n",
    "2 * a"
   ]
  },
  {
   "cell_type": "code",
   "execution_count": 24,
   "id": "dd41a4dc-88e4-4195-8ef1-9dbd25f503a2",
   "metadata": {},
   "outputs": [
    {
     "data": {
      "text/plain": [
       "array([[  0,   1,   4,   9],\n",
       "       [ 16,  25,  36,  49],\n",
       "       [ 64,  81, 100, 121]])"
      ]
     },
     "execution_count": 24,
     "metadata": {},
     "output_type": "execute_result"
    }
   ],
   "source": [
    "# calculating the square on vectorized fashion\n",
    "a ** 2"
   ]
  },
  {
   "cell_type": "markdown",
   "id": "ce96d15b-3eb8-480d-8068-db21e35a88b8",
   "metadata": {},
   "source": [
    "__Methods that allow vectorized operations (the \"universal functions\" of NumPy)__"
   ]
  },
  {
   "cell_type": "code",
   "execution_count": 25,
   "id": "bed72c35-55bf-4040-85c3-e77a5162ebff",
   "metadata": {},
   "outputs": [
    {
     "data": {
      "text/plain": [
       "np.float64(5.5)"
      ]
     },
     "execution_count": 25,
     "metadata": {},
     "output_type": "execute_result"
    }
   ],
   "source": [
    "a.mean() # the mean of all elements by method call"
   ]
  },
  {
   "cell_type": "code",
   "execution_count": 26,
   "id": "daaa7bae-9ff1-42ff-bab8-0256ae795093",
   "metadata": {},
   "outputs": [
    {
     "data": {
      "text/plain": [
       "np.float64(5.5)"
      ]
     },
     "execution_count": 26,
     "metadata": {},
     "output_type": "execute_result"
    }
   ],
   "source": [
    "np.mean(a) # the mean of all elements by universal function"
   ]
  },
  {
   "cell_type": "code",
   "execution_count": 27,
   "id": "54e0c542-e666-4dee-8662-0e40a8fb08ff",
   "metadata": {},
   "outputs": [
    {
     "data": {
      "text/plain": [
       "array([4., 5., 6., 7.])"
      ]
     },
     "execution_count": 27,
     "metadata": {},
     "output_type": "execute_result"
    }
   ],
   "source": [
    "a.mean(axis=0) # the mean along the first axis by method call"
   ]
  },
  {
   "cell_type": "code",
   "execution_count": 28,
   "id": "ab0d71eb-c58d-4963-b7d5-53d30b34421e",
   "metadata": {},
   "outputs": [
    {
     "data": {
      "text/plain": [
       "array([1.5, 5.5, 9.5])"
      ]
     },
     "execution_count": 28,
     "metadata": {},
     "output_type": "execute_result"
    }
   ],
   "source": [
    "np.mean(a, axis=1) # the mean along the second axis by universal function"
   ]
  },
  {
   "cell_type": "code",
   "execution_count": null,
   "id": "f66b91f4-1ebf-44bc-9e15-865755616c53",
   "metadata": {},
   "outputs": [],
   "source": []
  }
 ],
 "metadata": {
  "kernelspec": {
   "display_name": "Python 3 (ipykernel)",
   "language": "python",
   "name": "python3"
  },
  "language_info": {
   "codemirror_mode": {
    "name": "ipython",
    "version": 3
   },
   "file_extension": ".py",
   "mimetype": "text/x-python",
   "name": "python",
   "nbconvert_exporter": "python",
   "pygments_lexer": "ipython3",
   "version": "3.12.7"
  }
 },
 "nbformat": 4,
 "nbformat_minor": 5
}
