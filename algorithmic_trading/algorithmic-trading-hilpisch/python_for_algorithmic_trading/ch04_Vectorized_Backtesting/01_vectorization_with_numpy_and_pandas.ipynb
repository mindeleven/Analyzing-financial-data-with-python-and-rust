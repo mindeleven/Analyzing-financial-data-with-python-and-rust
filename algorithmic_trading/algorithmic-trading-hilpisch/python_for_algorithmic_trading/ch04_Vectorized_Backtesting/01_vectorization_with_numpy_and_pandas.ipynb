{
 "cells": [
  {
   "cell_type": "markdown",
   "id": "aa554a84-7c6a-42bf-8ad2-f353d8790c8c",
   "metadata": {},
   "source": [
    "## Vectorization with NumPy and pandas"
   ]
  },
  {
   "cell_type": "markdown",
   "id": "aad1b2a8-bfd9-4a65-ab4c-0158b5e07624",
   "metadata": {},
   "source": [
    "*[Coding along with Python for Algorithmic Trading, Yves Hilpisch, O'Reilly, 1st edition November 2020, ISBN-13: 978-1492053354]*"
   ]
  },
  {
   "cell_type": "code",
   "execution_count": null,
   "id": "cea395b3-f534-4895-8554-e48a1e0006ea",
   "metadata": {},
   "outputs": [],
   "source": []
  }
 ],
 "metadata": {
  "kernelspec": {
   "display_name": "Python 3 (ipykernel)",
   "language": "python",
   "name": "python3"
  },
  "language_info": {
   "codemirror_mode": {
    "name": "ipython",
    "version": 3
   },
   "file_extension": ".py",
   "mimetype": "text/x-python",
   "name": "python",
   "nbconvert_exporter": "python",
   "pygments_lexer": "ipython3",
   "version": "3.12.7"
  }
 },
 "nbformat": 4,
 "nbformat_minor": 5
}
