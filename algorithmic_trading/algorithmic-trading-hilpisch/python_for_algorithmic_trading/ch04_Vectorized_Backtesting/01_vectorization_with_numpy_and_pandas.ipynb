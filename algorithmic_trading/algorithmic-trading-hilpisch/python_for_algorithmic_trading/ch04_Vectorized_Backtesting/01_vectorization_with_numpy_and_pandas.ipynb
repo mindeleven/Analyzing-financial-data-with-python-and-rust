{
 "cells": [
  {
   "cell_type": "markdown",
   "id": "aa554a84-7c6a-42bf-8ad2-f353d8790c8c",
   "metadata": {},
   "source": [
    "## Vectorized Backtesting: Vectorization with NumPy and pandas"
   ]
  },
  {
   "cell_type": "markdown",
   "id": "aad1b2a8-bfd9-4a65-ab4c-0158b5e07624",
   "metadata": {},
   "source": [
    "*[Coding along with Python for Algorithmic Trading, Yves Hilpisch, O'Reilly, 1st edition November 2020, ISBN-13: 978-1492053354]*"
   ]
  },
  {
   "cell_type": "markdown",
   "id": "cbe401f5-ded9-4f07-bd8c-6ddef142e1d3",
   "metadata": {},
   "source": [
    "Testing ideas and hypothesis for an algorithmic trading program is the highly technical part of developing a trading strategy. \n",
    "\n",
    "> *Vectorized backtesting is a method of testing trading strategies where all trades are calculated simultaneously using arrays/matrices of historical market data, rather than processing trades one by one in a loop. This approach is typically much faster than event-driven backtesting since it leverages efficient array operations, though it may not capture some real-world trading complexities as accurately (claude.ai).*"
   ]
  },
  {
   "cell_type": "markdown",
   "id": "3648209a-3a6d-429a-8a1b-8d2cb67a692a",
   "metadata": {},
   "source": [
    "### Vectorization with NumPy"
   ]
  },
  {
   "cell_type": "markdown",
   "id": "780513a4-7f8d-4af1-a6d8-fea1edeeda21",
   "metadata": {},
   "source": [
    "The NumPy package for numerical computing brings vectorization into the Python ecosystem. According to its [website](https://numpy.org/), *\"the NumPy vectorization, indexing, and broadcasting concepts are the de-facto standards of array computing today.\"* NumPy allows for vectorization techniques based on the regular array class `ndarray`."
   ]
  },
  {
   "cell_type": "code",
   "execution_count": 40,
   "id": "787c07bc-42eb-414e-b16c-725ca614f4f1",
   "metadata": {},
   "outputs": [],
   "source": [
    "import numpy as np"
   ]
  },
  {
   "cell_type": "code",
   "execution_count": 41,
   "id": "ba0c6ab9-1319-49e5-b39e-d215895ba128",
   "metadata": {},
   "outputs": [],
   "source": [
    "v = [1, 2, 3, 4, 5] # python list object"
   ]
  },
  {
   "cell_type": "code",
   "execution_count": 42,
   "id": "bb75c262-d675-482f-903c-d2a20da7fca5",
   "metadata": {},
   "outputs": [
    {
     "data": {
      "text/plain": [
       "array([1, 2, 3, 4, 5])"
      ]
     },
     "execution_count": 42,
     "metadata": {},
     "output_type": "execute_result"
    }
   ],
   "source": [
    "a = np.array(v) # instantiating and ndarray object based on a list array\n",
    "a"
   ]
  },
  {
   "cell_type": "code",
   "execution_count": 43,
   "id": "ee2e6a84-51d6-4c75-849b-320490bdff8f",
   "metadata": {},
   "outputs": [
    {
     "data": {
      "text/plain": [
       "numpy.ndarray"
      ]
     },
     "execution_count": 43,
     "metadata": {},
     "output_type": "execute_result"
    }
   ],
   "source": [
    "type(a) # checking the type ot the object"
   ]
  },
  {
   "cell_type": "code",
   "execution_count": 44,
   "id": "e904fde3-c0b6-471b-94d6-8986560392b1",
   "metadata": {},
   "outputs": [
    {
     "data": {
      "text/plain": [
       "array([ 2,  4,  6,  8, 10])"
      ]
     },
     "execution_count": 44,
     "metadata": {},
     "output_type": "execute_result"
    }
   ],
   "source": [
    "# scalar multiplication in vectorized fashion\n",
    "2 * a"
   ]
  },
  {
   "cell_type": "code",
   "execution_count": 45,
   "id": "2eb56fc2-710c-4c5d-8ba4-b9679cdfef9b",
   "metadata": {},
   "outputs": [
    {
     "data": {
      "text/plain": [
       "array([2.5, 3. , 3.5, 4. , 4.5])"
      ]
     },
     "execution_count": 45,
     "metadata": {},
     "output_type": "execute_result"
    }
   ],
   "source": [
    "0.5 * a + 2 # linear transformation in vectorized fashion"
   ]
  },
  {
   "cell_type": "markdown",
   "id": "abff0bdf-94b6-4a57-a450-4f103eec1d59",
   "metadata": {},
   "source": [
    "__Transition from a one-dimensional array (a vector) to a higher-dimensional structure (a matrix)__"
   ]
  },
  {
   "cell_type": "code",
   "execution_count": 46,
   "id": "a4affc4f-37b3-4401-b0a5-6b639b96eae2",
   "metadata": {},
   "outputs": [
    {
     "data": {
      "text/plain": [
       "array([[ 0,  1,  2,  3],\n",
       "       [ 4,  5,  6,  7],\n",
       "       [ 8,  9, 10, 11]])"
      ]
     },
     "execution_count": 46,
     "metadata": {},
     "output_type": "execute_result"
    }
   ],
   "source": [
    "# arange() creates one-dimensional ndarray object\n",
    "# reshape() reshapes it to 2-dimensions\n",
    "a = np.arange(12).reshape([3,4])\n",
    "a"
   ]
  },
  {
   "cell_type": "code",
   "execution_count": 47,
   "id": "4e410154-a820-49b5-93a2-259cad5d5387",
   "metadata": {},
   "outputs": [
    {
     "data": {
      "text/plain": [
       "array([[ 0,  2,  4,  6],\n",
       "       [ 8, 10, 12, 14],\n",
       "       [16, 18, 20, 22]])"
      ]
     },
     "execution_count": 47,
     "metadata": {},
     "output_type": "execute_result"
    }
   ],
   "source": [
    "# scalar multiplication in vectorized fashion\n",
    "2 * a"
   ]
  },
  {
   "cell_type": "code",
   "execution_count": 48,
   "id": "dd41a4dc-88e4-4195-8ef1-9dbd25f503a2",
   "metadata": {},
   "outputs": [
    {
     "data": {
      "text/plain": [
       "array([[  0,   1,   4,   9],\n",
       "       [ 16,  25,  36,  49],\n",
       "       [ 64,  81, 100, 121]])"
      ]
     },
     "execution_count": 48,
     "metadata": {},
     "output_type": "execute_result"
    }
   ],
   "source": [
    "# calculating the square on vectorized fashion\n",
    "a ** 2"
   ]
  },
  {
   "cell_type": "markdown",
   "id": "ce96d15b-3eb8-480d-8068-db21e35a88b8",
   "metadata": {},
   "source": [
    "__Methods that allow vectorized operations (the \"universal functions\" of NumPy)__"
   ]
  },
  {
   "cell_type": "code",
   "execution_count": 49,
   "id": "bed72c35-55bf-4040-85c3-e77a5162ebff",
   "metadata": {},
   "outputs": [
    {
     "data": {
      "text/plain": [
       "np.float64(5.5)"
      ]
     },
     "execution_count": 49,
     "metadata": {},
     "output_type": "execute_result"
    }
   ],
   "source": [
    "a.mean() # the mean of all elements by method call"
   ]
  },
  {
   "cell_type": "code",
   "execution_count": 50,
   "id": "daaa7bae-9ff1-42ff-bab8-0256ae795093",
   "metadata": {},
   "outputs": [
    {
     "data": {
      "text/plain": [
       "np.float64(5.5)"
      ]
     },
     "execution_count": 50,
     "metadata": {},
     "output_type": "execute_result"
    }
   ],
   "source": [
    "np.mean(a) # the mean of all elements by universal function"
   ]
  },
  {
   "cell_type": "code",
   "execution_count": 51,
   "id": "54e0c542-e666-4dee-8662-0e40a8fb08ff",
   "metadata": {},
   "outputs": [
    {
     "data": {
      "text/plain": [
       "array([4., 5., 6., 7.])"
      ]
     },
     "execution_count": 51,
     "metadata": {},
     "output_type": "execute_result"
    }
   ],
   "source": [
    "a.mean(axis=0) # the mean along the first axis by method call"
   ]
  },
  {
   "cell_type": "code",
   "execution_count": 52,
   "id": "ab0d71eb-c58d-4963-b7d5-53d30b34421e",
   "metadata": {},
   "outputs": [
    {
     "data": {
      "text/plain": [
       "array([1.5, 5.5, 9.5])"
      ]
     },
     "execution_count": 52,
     "metadata": {},
     "output_type": "execute_result"
    }
   ],
   "source": [
    "np.mean(a, axis=1) # the mean along the second axis by universal function"
   ]
  },
  {
   "cell_type": "markdown",
   "id": "7a0b3dbc-b7fe-445a-bf87-3a0f0a741209",
   "metadata": {},
   "source": [
    "### Vectorization with pandas"
   ]
  },
  {
   "cell_type": "code",
   "execution_count": 53,
   "id": "969be2d3-7adf-44de-8c28-601255ab2ee8",
   "metadata": {},
   "outputs": [],
   "source": [
    "import pandas as pd"
   ]
  },
  {
   "cell_type": "markdown",
   "id": "a5a42b00-2f4f-4b3f-9d60-366e429fa961",
   "metadata": {},
   "source": [
    "__pandas allows vectorization over time series data.__\n",
    "\n",
    "> Vectorization in pandas leverages NumPy's efficient array operations under the hood to perform calculations on entire DataFrame columns simultaneously, rather than using slower element-by-element operations through Python loops. The DataFrame class is designed to take advantage of this vectorized approach, allowing operations like mathematical calculations, filtering, and aggregations to be performed rapidly across large datasets by treating columns as NumPy arrays and applying operations to them as a unit (claude.ai)."
   ]
  },
  {
   "cell_type": "code",
   "execution_count": 54,
   "id": "b0db9ac9-5682-4204-b87c-6ca3fe63213d",
   "metadata": {},
   "outputs": [
    {
     "data": {
      "text/plain": [
       "array([[ 0,  1,  2],\n",
       "       [ 3,  4,  5],\n",
       "       [ 6,  7,  8],\n",
       "       [ 9, 10, 11],\n",
       "       [12, 13, 14]])"
      ]
     },
     "execution_count": 54,
     "metadata": {},
     "output_type": "execute_result"
    }
   ],
   "source": [
    "# example, beginning with a two-dimensional array object\n",
    "a = np.arange(15).reshape(5, 3)\n",
    "a"
   ]
  },
  {
   "cell_type": "code",
   "execution_count": 55,
   "id": "5a57f53c-9d40-466a-9b80-7a54e245eb4b",
   "metadata": {},
   "outputs": [
    {
     "data": {
      "text/plain": [
       "['a', 'b', 'c']"
      ]
     },
     "execution_count": 55,
     "metadata": {},
     "output_type": "execute_result"
    }
   ],
   "source": [
    "columns = list('abc') # generating a list object with column names\n",
    "columns"
   ]
  },
  {
   "cell_type": "code",
   "execution_count": 56,
   "id": "e972b8c6-8ca3-4de1-b279-3ce0268acd58",
   "metadata": {},
   "outputs": [
    {
     "data": {
      "text/plain": [
       "DatetimeIndex(['2021-07-01', '2021-07-02', '2021-07-05', '2021-07-06',\n",
       "               '2021-07-07'],\n",
       "              dtype='datetime64[ns]', freq='B')"
      ]
     },
     "execution_count": 56,
     "metadata": {},
     "output_type": "execute_result"
    }
   ],
   "source": [
    "# pandas DatetimeIndex object with a business-day frequency\n",
    "index = pd.date_range('2021-7-1', periods=5, freq='B')\n",
    "index"
   ]
  },
  {
   "cell_type": "code",
   "execution_count": 57,
   "id": "4a97f201-04c8-4fac-a07e-58db75614736",
   "metadata": {},
   "outputs": [
    {
     "data": {
      "text/html": [
       "<div>\n",
       "<style scoped>\n",
       "    .dataframe tbody tr th:only-of-type {\n",
       "        vertical-align: middle;\n",
       "    }\n",
       "\n",
       "    .dataframe tbody tr th {\n",
       "        vertical-align: top;\n",
       "    }\n",
       "\n",
       "    .dataframe thead th {\n",
       "        text-align: right;\n",
       "    }\n",
       "</style>\n",
       "<table border=\"1\" class=\"dataframe\">\n",
       "  <thead>\n",
       "    <tr style=\"text-align: right;\">\n",
       "      <th></th>\n",
       "      <th>a</th>\n",
       "      <th>b</th>\n",
       "      <th>c</th>\n",
       "    </tr>\n",
       "  </thead>\n",
       "  <tbody>\n",
       "    <tr>\n",
       "      <th>2021-07-01</th>\n",
       "      <td>0</td>\n",
       "      <td>1</td>\n",
       "      <td>2</td>\n",
       "    </tr>\n",
       "    <tr>\n",
       "      <th>2021-07-02</th>\n",
       "      <td>3</td>\n",
       "      <td>4</td>\n",
       "      <td>5</td>\n",
       "    </tr>\n",
       "    <tr>\n",
       "      <th>2021-07-05</th>\n",
       "      <td>6</td>\n",
       "      <td>7</td>\n",
       "      <td>8</td>\n",
       "    </tr>\n",
       "    <tr>\n",
       "      <th>2021-07-06</th>\n",
       "      <td>9</td>\n",
       "      <td>10</td>\n",
       "      <td>11</td>\n",
       "    </tr>\n",
       "    <tr>\n",
       "      <th>2021-07-07</th>\n",
       "      <td>12</td>\n",
       "      <td>13</td>\n",
       "      <td>14</td>\n",
       "    </tr>\n",
       "  </tbody>\n",
       "</table>\n",
       "</div>"
      ],
      "text/plain": [
       "             a   b   c\n",
       "2021-07-01   0   1   2\n",
       "2021-07-02   3   4   5\n",
       "2021-07-05   6   7   8\n",
       "2021-07-06   9  10  11\n",
       "2021-07-07  12  13  14"
      ]
     },
     "execution_count": 57,
     "metadata": {},
     "output_type": "execute_result"
    }
   ],
   "source": [
    "# stitching together the dataFrame\n",
    "# which means initiating a a DataFrame object based on a (ndarray), columns as column labels\n",
    "# and index as index values\n",
    "df = pd.DataFrame(a, columns=columns, index=index)\n",
    "df"
   ]
  },
  {
   "cell_type": "markdown",
   "id": "551d7b53-7822-4fd7-bac7-475bcebc23e5",
   "metadata": {},
   "source": [
    "__Examples for vectorization; aggregation operations default to column-wise results__"
   ]
  },
  {
   "cell_type": "code",
   "execution_count": 58,
   "id": "b3aca721-bb70-4478-8d6c-e49490bbf476",
   "metadata": {},
   "outputs": [
    {
     "data": {
      "text/html": [
       "<div>\n",
       "<style scoped>\n",
       "    .dataframe tbody tr th:only-of-type {\n",
       "        vertical-align: middle;\n",
       "    }\n",
       "\n",
       "    .dataframe tbody tr th {\n",
       "        vertical-align: top;\n",
       "    }\n",
       "\n",
       "    .dataframe thead th {\n",
       "        text-align: right;\n",
       "    }\n",
       "</style>\n",
       "<table border=\"1\" class=\"dataframe\">\n",
       "  <thead>\n",
       "    <tr style=\"text-align: right;\">\n",
       "      <th></th>\n",
       "      <th>a</th>\n",
       "      <th>b</th>\n",
       "      <th>c</th>\n",
       "    </tr>\n",
       "  </thead>\n",
       "  <tbody>\n",
       "    <tr>\n",
       "      <th>2021-07-01</th>\n",
       "      <td>0</td>\n",
       "      <td>2</td>\n",
       "      <td>4</td>\n",
       "    </tr>\n",
       "    <tr>\n",
       "      <th>2021-07-02</th>\n",
       "      <td>6</td>\n",
       "      <td>8</td>\n",
       "      <td>10</td>\n",
       "    </tr>\n",
       "    <tr>\n",
       "      <th>2021-07-05</th>\n",
       "      <td>12</td>\n",
       "      <td>14</td>\n",
       "      <td>16</td>\n",
       "    </tr>\n",
       "    <tr>\n",
       "      <th>2021-07-06</th>\n",
       "      <td>18</td>\n",
       "      <td>20</td>\n",
       "      <td>22</td>\n",
       "    </tr>\n",
       "    <tr>\n",
       "      <th>2021-07-07</th>\n",
       "      <td>24</td>\n",
       "      <td>26</td>\n",
       "      <td>28</td>\n",
       "    </tr>\n",
       "  </tbody>\n",
       "</table>\n",
       "</div>"
      ],
      "text/plain": [
       "             a   b   c\n",
       "2021-07-01   0   2   4\n",
       "2021-07-02   6   8  10\n",
       "2021-07-05  12  14  16\n",
       "2021-07-06  18  20  22\n",
       "2021-07-07  24  26  28"
      ]
     },
     "execution_count": 58,
     "metadata": {},
     "output_type": "execute_result"
    }
   ],
   "source": [
    "2 * df"
   ]
  },
  {
   "cell_type": "code",
   "execution_count": 59,
   "id": "680b1377-0e4b-4c49-a61f-dd108bc7d28e",
   "metadata": {},
   "outputs": [
    {
     "data": {
      "text/plain": [
       "a    30\n",
       "b    35\n",
       "c    40\n",
       "dtype: int64"
      ]
     },
     "execution_count": 59,
     "metadata": {},
     "output_type": "execute_result"
    }
   ],
   "source": [
    "df.sum() # column-wise results"
   ]
  },
  {
   "cell_type": "code",
   "execution_count": 60,
   "id": "b4ae7766-858e-4a78-80f9-f7de2d7d7544",
   "metadata": {},
   "outputs": [
    {
     "data": {
      "text/plain": [
       "a    6.0\n",
       "b    7.0\n",
       "c    8.0\n",
       "dtype: float64"
      ]
     },
     "execution_count": 60,
     "metadata": {},
     "output_type": "execute_result"
    }
   ],
   "source": [
    "df.mean() # mean per column"
   ]
  },
  {
   "cell_type": "code",
   "execution_count": 61,
   "id": "8fc6212c-d4ee-45ee-9387-08ce9cd1e3ec",
   "metadata": {},
   "outputs": [
    {
     "data": {
      "text/plain": [
       "np.float64(7.0)"
      ]
     },
     "execution_count": 61,
     "metadata": {},
     "output_type": "execute_result"
    }
   ],
   "source": [
    "np.mean(df) # mean over all data with numpy"
   ]
  },
  {
   "cell_type": "markdown",
   "id": "93019069-e8ec-4d10-8a18-b880717bf33d",
   "metadata": {},
   "source": [
    "__Column wise operations__"
   ]
  },
  {
   "cell_type": "code",
   "execution_count": 62,
   "id": "89ce9a36-df17-4c7c-a9ee-d438480a18d7",
   "metadata": {},
   "outputs": [
    {
     "data": {
      "text/plain": [
       "(2021-07-01     0\n",
       " 2021-07-02     3\n",
       " 2021-07-05     6\n",
       " 2021-07-06     9\n",
       " 2021-07-07    12\n",
       " Freq: B, Name: a, dtype: int64,\n",
       " 2021-07-01     2\n",
       " 2021-07-02     5\n",
       " 2021-07-05     8\n",
       " 2021-07-06    11\n",
       " 2021-07-07    14\n",
       " Freq: B, Name: c, dtype: int64)"
      ]
     },
     "execution_count": 62,
     "metadata": {},
     "output_type": "execute_result"
    }
   ],
   "source": [
    "# column wise operations can be implemented by referencing the respective column names\n",
    "df['a'], df['c']"
   ]
  },
  {
   "cell_type": "code",
   "execution_count": 63,
   "id": "80ccc531-f97e-4ba9-8340-41af9dd3a782",
   "metadata": {},
   "outputs": [
    {
     "data": {
      "text/plain": [
       "2021-07-01     2\n",
       "2021-07-02     8\n",
       "2021-07-05    14\n",
       "2021-07-06    20\n",
       "2021-07-07    26\n",
       "Freq: B, dtype: int64"
      ]
     },
     "execution_count": 63,
     "metadata": {},
     "output_type": "execute_result"
    }
   ],
   "source": [
    "df['a'] + df['c'] # bracked notation"
   ]
  },
  {
   "cell_type": "code",
   "execution_count": 64,
   "id": "3fef2395-637f-4c20-b2fc-b13934614687",
   "metadata": {},
   "outputs": [
    {
     "data": {
      "text/plain": [
       "2021-07-01     4.0\n",
       "2021-07-02    14.5\n",
       "2021-07-05    25.0\n",
       "2021-07-06    35.5\n",
       "2021-07-07    46.0\n",
       "Freq: B, dtype: float64"
      ]
     },
     "execution_count": 64,
     "metadata": {},
     "output_type": "execute_result"
    }
   ],
   "source": [
    "0.5 * df.a + 2 * df.b + df.c # dot notation"
   ]
  },
  {
   "cell_type": "code",
   "execution_count": 65,
   "id": "a9744816-7b80-40e9-8e85-401117975367",
   "metadata": {},
   "outputs": [
    {
     "data": {
      "text/plain": [
       "2021-07-01    False\n",
       "2021-07-02    False\n",
       "2021-07-05     True\n",
       "2021-07-06     True\n",
       "2021-07-07     True\n",
       "Freq: B, Name: a, dtype: bool"
      ]
     },
     "execution_count": 65,
     "metadata": {},
     "output_type": "execute_result"
    }
   ],
   "source": [
    "# conditions yielding boolean results vectors\n",
    "df['a'] > 5"
   ]
  },
  {
   "cell_type": "code",
   "execution_count": 66,
   "id": "fab9e77d-07a0-4615-b37b-69ba394e228a",
   "metadata": {},
   "outputs": [
    {
     "data": {
      "text/html": [
       "<div>\n",
       "<style scoped>\n",
       "    .dataframe tbody tr th:only-of-type {\n",
       "        vertical-align: middle;\n",
       "    }\n",
       "\n",
       "    .dataframe tbody tr th {\n",
       "        vertical-align: top;\n",
       "    }\n",
       "\n",
       "    .dataframe thead th {\n",
       "        text-align: right;\n",
       "    }\n",
       "</style>\n",
       "<table border=\"1\" class=\"dataframe\">\n",
       "  <thead>\n",
       "    <tr style=\"text-align: right;\">\n",
       "      <th></th>\n",
       "      <th>a</th>\n",
       "      <th>b</th>\n",
       "      <th>c</th>\n",
       "    </tr>\n",
       "  </thead>\n",
       "  <tbody>\n",
       "    <tr>\n",
       "      <th>2021-07-05</th>\n",
       "      <td>6</td>\n",
       "      <td>7</td>\n",
       "      <td>8</td>\n",
       "    </tr>\n",
       "    <tr>\n",
       "      <th>2021-07-06</th>\n",
       "      <td>9</td>\n",
       "      <td>10</td>\n",
       "      <td>11</td>\n",
       "    </tr>\n",
       "    <tr>\n",
       "      <th>2021-07-07</th>\n",
       "      <td>12</td>\n",
       "      <td>13</td>\n",
       "      <td>14</td>\n",
       "    </tr>\n",
       "  </tbody>\n",
       "</table>\n",
       "</div>"
      ],
      "text/plain": [
       "             a   b   c\n",
       "2021-07-05   6   7   8\n",
       "2021-07-06   9  10  11\n",
       "2021-07-07  12  13  14"
      ]
     },
     "execution_count": 66,
     "metadata": {},
     "output_type": "execute_result"
    }
   ],
   "source": [
    "# conditions yielding SQL-like selections\n",
    "df[df['a'] > 5] # select all rows where the element in column a is greater than five"
   ]
  },
  {
   "cell_type": "markdown",
   "id": "0a296898-9a3b-474b-9544-e03f3f5cf4ac",
   "metadata": {},
   "source": [
    "__Important for vectorized backtesting: comparisions between two columns__"
   ]
  },
  {
   "cell_type": "code",
   "execution_count": 67,
   "id": "f53d849e-2163-4f8b-8df6-8c314a63798d",
   "metadata": {},
   "outputs": [
    {
     "data": {
      "text/plain": [
       "2021-07-01    True\n",
       "2021-07-02    True\n",
       "2021-07-05    True\n",
       "2021-07-06    True\n",
       "2021-07-07    True\n",
       "Freq: B, dtype: bool"
      ]
     },
     "execution_count": 67,
     "metadata": {},
     "output_type": "execute_result"
    }
   ],
   "source": [
    "df['c'] > df['b']"
   ]
  },
  {
   "cell_type": "code",
   "execution_count": 68,
   "id": "ccb09537-3d19-4cdf-8c37-04f1a431fff7",
   "metadata": {},
   "outputs": [
    {
     "data": {
      "text/plain": [
       "2021-07-01    False\n",
       "2021-07-02    False\n",
       "2021-07-05    False\n",
       "2021-07-06     True\n",
       "2021-07-07     True\n",
       "Freq: B, dtype: bool"
      ]
     },
     "execution_count": 68,
     "metadata": {},
     "output_type": "execute_result"
    }
   ],
   "source": [
    "0.15 * df.a + df.b > df.c"
   ]
  },
  {
   "cell_type": "code",
   "execution_count": null,
   "id": "d8153049-fddd-441f-a75b-b6de52e06d8c",
   "metadata": {},
   "outputs": [],
   "source": []
  }
 ],
 "metadata": {
  "kernelspec": {
   "display_name": "Python 3 (ipykernel)",
   "language": "python",
   "name": "python3"
  },
  "language_info": {
   "codemirror_mode": {
    "name": "ipython",
    "version": 3
   },
   "file_extension": ".py",
   "mimetype": "text/x-python",
   "name": "python",
   "nbconvert_exporter": "python",
   "pygments_lexer": "ipython3",
   "version": "3.12.7"
  }
 },
 "nbformat": 4,
 "nbformat_minor": 5
}
