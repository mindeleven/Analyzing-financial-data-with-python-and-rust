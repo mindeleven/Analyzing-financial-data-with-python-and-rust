{
 "cells": [
  {
   "cell_type": "markdown",
   "id": "c0bd04d4-1822-4236-9e03-fe88db679cb9",
   "metadata": {},
   "source": [
    "## NumPy and Vectorization"
   ]
  },
  {
   "cell_type": "markdown",
   "id": "31f85a20-0f0c-4241-8896-c86d36ed8a35",
   "metadata": {},
   "source": [
    "*[Coding along with Python for Algorithmic Trading, Yves Hilpisch, O'Reilly, 1st edition November 2020, ISBN-13: 978-1492053354; Quant Platform at [https://py4at.pqp.io](https://py4at.pqp.io)]*"
   ]
  },
  {
   "cell_type": "code",
   "execution_count": 1,
   "id": "ef00ab5c-ad14-4fee-8514-13ca28f5730e",
   "metadata": {},
   "outputs": [],
   "source": [
    "# simulation with 1.000.000 repetitions done with pure Python\n",
    "# computing Euler discretization of the geometric Brownian motion\n",
    "# Euler discretization is a numerical method used to approximate the solution of ordinary differential equations (ODEs) \n",
    "# and stochastic differential equations (SDEs). It is a simple and widely used technique, named after Leonhard Euler, \n",
    "# who first proposed it.\n",
    "import random\n",
    "from math import exp, sqrt"
   ]
  },
  {
   "cell_type": "code",
   "execution_count": 2,
   "id": "8302f1bd-21f9-4e5a-a570-25bc4c920c9d",
   "metadata": {},
   "outputs": [],
   "source": [
    "S0 = 100\n",
    "r = 0.05\n",
    "T = 1.0\n",
    "sigma = 0.2\n",
    "\n",
    "values = []\n",
    "\n",
    "repetitions = 1000000"
   ]
  },
  {
   "cell_type": "code",
   "execution_count": 3,
   "id": "ecbd564e-1fea-46bb-b3b1-990c8ad66b94",
   "metadata": {},
   "outputs": [
    {
     "name": "stdout",
     "output_type": "stream",
     "text": [
      "CPU times: user 9 μs, sys: 4 μs, total: 13 μs\n",
      "Wall time: 366 μs\n"
     ]
    }
   ],
   "source": [
    "%time\n",
    "for _ in range(repetitions):\n",
    "    ST = S0 * exp((r - 0.5 * sigma ** 2) * T + sigma * random.gauss(0, 1) * sqrt(T))\n",
    "    values.append(ST)"
   ]
  },
  {
   "cell_type": "code",
   "execution_count": 4,
   "id": "6a8973b0-570e-420f-8ed9-aa68076cc1a6",
   "metadata": {},
   "outputs": [],
   "source": [
    "# Numpy approach with vectorization\n",
    "import numpy as np"
   ]
  },
  {
   "cell_type": "code",
   "execution_count": 5,
   "id": "3fb03d5d-440f-4026-8296-4fe0cf03d9a8",
   "metadata": {},
   "outputs": [
    {
     "name": "stdout",
     "output_type": "stream",
     "text": [
      "CPU times: user 1 μs, sys: 0 ns, total: 1 μs\n",
      "Wall time: 2.86 μs\n"
     ]
    }
   ],
   "source": [
    "%time\n",
    "# simulating all the values with a single line of NumPy code and storing them in a ndarray object\n",
    "ST_np = S0 * np.exp((r - 0.5 * sigma ** 2) * T + sigma * np.random.standard_normal(repetitions) * np.sqrt(T))"
   ]
  },
  {
   "cell_type": "markdown",
   "id": "2d83104f-25bd-4a7e-9c75-2c879b04bd33",
   "metadata": {},
   "source": [
    "## pandas the DataFrame Class"
   ]
  },
  {
   "cell_type": "code",
   "execution_count": 6,
   "id": "be781ba1-a097-4b3c-8639-f2fabb0e5544",
   "metadata": {},
   "outputs": [],
   "source": [
    "import pandas as pd\n",
    "import matplotlib.pyplot as plt\n",
    "# https://www.squash.io/how-to-use-matplotlib-inline-in-python/\n",
    "%matplotlib inline\n",
    "from pylab import mpl, plt\n",
    "plt.style.use(\"seaborn-v0_8\")\n",
    "mpl.rcParams['savefig.dpi'] = 300\n",
    "mpl.rcParams['font.family'] = 'serif' # imports and configures the plotting package"
   ]
  },
  {
   "cell_type": "code",
   "execution_count": 7,
   "id": "bc8713c4-a818-407a-ad25-a0e395c196b0",
   "metadata": {},
   "outputs": [
    {
     "ename": "NameError",
     "evalue": "name 'configparser' is not defined",
     "output_type": "error",
     "traceback": [
      "\u001b[0;31m---------------------------------------------------------------------------\u001b[0m",
      "\u001b[0;31mNameError\u001b[0m                                 Traceback (most recent call last)",
      "Cell \u001b[0;32mIn[7], line 2\u001b[0m\n\u001b[1;32m      1\u001b[0m \u001b[38;5;66;03m# importing configparser, reading credentials\u001b[39;00m\n\u001b[0;32m----> 2\u001b[0m c \u001b[38;5;241m=\u001b[39m \u001b[43mconfigparser\u001b[49m\u001b[38;5;241m.\u001b[39mConfigParser()\n\u001b[1;32m      3\u001b[0m c\u001b[38;5;241m.\u001b[39mread(\u001b[38;5;124m'\u001b[39m\u001b[38;5;124m../../../../../../../tmp/pyalgo/pyalgo.cfg\u001b[39m\u001b[38;5;124m'\u001b[39m) \u001b[38;5;66;03m# yeah, that's a path in my local file system\u001b[39;00m\n\u001b[1;32m      4\u001b[0m ch0 \u001b[38;5;241m=\u001b[39m c\u001b[38;5;241m.\u001b[39mget(\u001b[38;5;124m'\u001b[39m\u001b[38;5;124mquandl\u001b[39m\u001b[38;5;124m'\u001b[39m,\u001b[38;5;124m'\u001b[39m\u001b[38;5;124mapi_key\u001b[39m\u001b[38;5;124m'\u001b[39m)\n",
      "\u001b[0;31mNameError\u001b[0m: name 'configparser' is not defined"
     ]
    }
   ],
   "source": [
    "# importing configparser, reading credentials\n",
    "c = configparser.ConfigParser()\n",
    "c.read('../../../../../../../tmp/pyalgo/pyalgo.cfg') # yeah, that's a path in my local file system\n",
    "ch0 = c.get('quandl','api_key')\n",
    "print(\"Don't be a fool and send your api key to GitHub\")"
   ]
  },
  {
   "cell_type": "code",
   "execution_count": null,
   "id": "3e7cbe72-0318-4b8a-b6f8-8f6aa9935559",
   "metadata": {},
   "outputs": [],
   "source": [
    "# Nasdaq Data Link Documentation https://docs.data.nasdaq.com/\n",
    "# https://github.com/quandl/quandl-python\n",
    "# import quandl # importing quandl wrapper\n",
    "# quandl.ApiConfig.api_key = ch0 # providing api key\n",
    "# quandl.ApiConfig.verify_ssl = False\n",
    "# additional library to suppress \"InsecureRequestWarning: Unverified HTTPS request is being made to host 'data.nasdaq.com'\"\n",
    "# import urllib3\n",
    "# urllib3.disable_warnings()\n",
    "\n",
    "### replaced with nasdaq-data-link"
   ]
  },
  {
   "cell_type": "code",
   "execution_count": null,
   "id": "98920dea-3008-4ec3-9e28-b43f1d841399",
   "metadata": {},
   "outputs": [],
   "source": [
    "import nasdaqdatalink as nq\n",
    "nq.ApiConfig.api_key = ch0 # providing api key\n",
    "nq.ApiConfig.verify_ssl = False\n",
    "# additional library to suppress \"InsecureRequestWarning: Unverified HTTPS request is being made to host 'data.nasdaq.com'\"\n",
    "import urllib3\n",
    "urllib3.disable_warnings()"
   ]
  },
  {
   "cell_type": "code",
   "execution_count": null,
   "id": "31b5c94d-a567-43d8-9eb5-436a289585ac",
   "metadata": {},
   "outputs": [],
   "source": [
    "# https://docs.data.nasdaq.com/docs/python-tables\n",
    "# Example 1: Download data for Nokia (compnumber=39102)\n",
    "data = nasdaqdatalink.get_table('MER/F1', compnumber=\"39102\", paginate=True)\n",
    "data.head()"
   ]
  },
  {
   "cell_type": "code",
   "execution_count": null,
   "id": "83948f89-150b-4714-a2be-91341a2ca591",
   "metadata": {},
   "outputs": [],
   "source": [
    "# Download an entire table\n",
    "data = nasdaqdatalink.get_table('MER/F1', paginate=True)\n",
    "data.head()"
   ]
  },
  {
   "cell_type": "code",
   "execution_count": null,
   "id": "d7e22d06-04f3-4ff5-b9b6-4fe4e0e799e6",
   "metadata": {},
   "outputs": [],
   "source": [
    "# back to the bitcoin example\n",
    "# Bitcoin data insights: https://data.nasdaq.com/databases/BCHAIN#quick-start-examples\n",
    "btc_data = nasdaqdatalink.get_table('QDL/BCHAIN', paginate=True, code=\"MKPRU\")"
   ]
  },
  {
   "cell_type": "code",
   "execution_count": null,
   "id": "3d1b5d03-c27e-47dd-9d8a-5c18f36fed49",
   "metadata": {},
   "outputs": [],
   "source": [
    "btc_data"
   ]
  },
  {
   "cell_type": "code",
   "execution_count": null,
   "id": "b56e7637-b70b-4d97-a875-e97314381a10",
   "metadata": {},
   "outputs": [],
   "source": [
    "btc_data.shape"
   ]
  },
  {
   "cell_type": "code",
   "execution_count": null,
   "id": "9fd6fbc7-ec31-4624-b1ed-ecb6f99fb9a1",
   "metadata": {},
   "outputs": [],
   "source": [
    "btc_data.info()"
   ]
  },
  {
   "cell_type": "code",
   "execution_count": null,
   "id": "49b44404-08e9-4223-9bb9-6185e34f3506",
   "metadata": {},
   "outputs": [],
   "source": [
    "# calculating a simple moving average\n",
    "# https://www.geeksforgeeks.org/how-to-calculate-moving-average-in-a-pandas-dataframe/\n",
    "# extract 'value' column and convert to DataFrame\n",
    "btc_value = btc_data['value'].to_frame()\n",
    "# calculate 100-day Simple Moving Average (SMA)\n",
    "btc_value['SMA100'] = btc_value['value'].rolling(100).mean()\n",
    "# remove NULL values\n",
    "btc_value.dropna(inplace=True)\n",
    "# Print DataFrame\n",
    "btc_value"
   ]
  },
  {
   "cell_type": "code",
   "execution_count": null,
   "id": "b47a0c8e-b372-49a4-a91f-b45a93aa61d0",
   "metadata": {},
   "outputs": [],
   "source": [
    "# Plotting Simple Moving Averages\n",
    "# plotting close price (value) and simple moving average of 30 days using .plot() method\n",
    "btc_value[['value', 'SMA100']].plot(label='BTC/USD exchange rate', figsize=(16, 8)) # doesn't look right"
   ]
  },
  {
   "cell_type": "code",
   "execution_count": null,
   "id": "8ace6938-4071-4608-843b-fb7be49389aa",
   "metadata": {},
   "outputs": [],
   "source": [
    "# calculation according to the example from Hilpisch's book\n",
    "btc_data.loc['2013-10-10':].plot(title='BTC/USD exchange rate', figsize=(10, 6)) # doesn't look right either"
   ]
  },
  {
   "cell_type": "code",
   "execution_count": null,
   "id": "e5f67def-5002-457f-90fd-09c32716b7c4",
   "metadata": {},
   "outputs": [],
   "source": [
    "# examples with date: different days\n",
    "btc_data_date1 = nasdaqdatalink.get_table('QDL/BCHAIN', paginate=True, code=\"MKPRU\", date=\"2016-07-17,2016-07-16,2016-07-15\")\n",
    "btc_data_date1"
   ]
  },
  {
   "cell_type": "code",
   "execution_count": null,
   "id": "6b1eb314-ed64-4950-9d4f-427dd7c377f4",
   "metadata": {},
   "outputs": [],
   "source": [
    "# examples with date: single day\n",
    "btc_data_date2 = nasdaqdatalink.get_table('QDL/BCHAIN', paginate=True, code=\"MKPRU\", date=\"2018-07-17\")\n",
    "btc_data_date2"
   ]
  },
  {
   "cell_type": "code",
   "execution_count": null,
   "id": "59361ec6-0f43-402d-af07-4ab6a877c055",
   "metadata": {},
   "outputs": [],
   "source": [
    "# examples with date: range between days\n",
    "btc_data_date3 = nasdaqdatalink.get_table('QDL/BCHAIN', paginate=True, code=\"MKPRU\", date = { 'gte': '2016-01-01', 'lte': '2016-12-31' })\n",
    "btc_data_date3"
   ]
  },
  {
   "cell_type": "code",
   "execution_count": null,
   "id": "1c3e6c09-5f1a-47dc-b7e1-8a11a9c17341",
   "metadata": {},
   "outputs": [],
   "source": []
  }
 ],
 "metadata": {
  "kernelspec": {
   "display_name": "Python 3 (ipykernel)",
   "language": "python",
   "name": "python3"
  },
  "language_info": {
   "codemirror_mode": {
    "name": "ipython",
    "version": 3
   },
   "file_extension": ".py",
   "mimetype": "text/x-python",
   "name": "python",
   "nbconvert_exporter": "python",
   "pygments_lexer": "ipython3",
   "version": "3.12.7"
  }
 },
 "nbformat": 4,
 "nbformat_minor": 5
}
