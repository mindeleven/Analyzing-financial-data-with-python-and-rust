{
 "cells": [
  {
   "cell_type": "markdown",
   "id": "fa243fab-53f5-4695-a635-36d48494cf75",
   "metadata": {
    "slideshow": {
     "slide_type": "slide"
    }
   },
   "source": [
    "<img src=\"http://hilpisch.com/tpq_logo.png\" alt=\"The Python Quants\" width=\"35%\" align=\"right\" border=\"0\"><br>"
   ]
  },
  {
   "cell_type": "markdown",
   "id": "31868c69-bcb8-4fe6-9695-b8eb5c842a7e",
   "metadata": {},
   "source": [
    "# Python for Finance\n",
    "\n",
    "**Online Bootcamp**"
   ]
  },
  {
   "cell_type": "markdown",
   "id": "f9defc78-897b-47d3-9b65-89eb13b0b64f",
   "metadata": {
    "tags": []
   },
   "source": [
    "&copy; Dr. Yves J. Hilpisch | The Python Quants GmbH\n",
    "\n",
    "http://tpq.io | [training@tpq.io](mailto:trainin@tpq.io) | [@dyjh](http://twitter.com/dyjh)"
   ]
  },
  {
   "cell_type": "markdown",
   "id": "e3706113-dbf7-4d71-b292-bdc20d0377a6",
   "metadata": {},
   "source": [
    "## `pandas` Package "
   ]
  },
  {
   "cell_type": "code",
   "execution_count": null,
   "id": "3e4e4131-ef00-4877-b828-63463d31f6d1",
   "metadata": {},
   "outputs": [],
   "source": [
    "# %conda install pandas -y"
   ]
  },
  {
   "cell_type": "code",
   "execution_count": null,
   "id": "45f3dbe6-69cc-4f2a-8a65-8bacafb44759",
   "metadata": {},
   "outputs": [],
   "source": [
    "import numpy as np\n",
    "import pandas as pd"
   ]
  },
  {
   "cell_type": "code",
   "execution_count": null,
   "id": "58fbcb45-c8ee-43a0-af72-5e82c39dec71",
   "metadata": {},
   "outputs": [],
   "source": [
    "a = np.arange(15).reshape(5, 3)"
   ]
  },
  {
   "cell_type": "code",
   "execution_count": null,
   "id": "ae8f458a-1707-4fcd-81cd-d6b44da88a29",
   "metadata": {},
   "outputs": [],
   "source": [
    "a"
   ]
  },
  {
   "cell_type": "code",
   "execution_count": null,
   "id": "846ed8bb-2d9f-45f7-b76a-ced3a142024e",
   "metadata": {},
   "outputs": [],
   "source": [
    "df = pd.DataFrame(a)"
   ]
  },
  {
   "cell_type": "code",
   "execution_count": null,
   "id": "54f0bf6d-aba1-4150-a50f-f3784016364e",
   "metadata": {},
   "outputs": [],
   "source": [
    "df"
   ]
  },
  {
   "cell_type": "code",
   "execution_count": null,
   "id": "6dd3f0ec-b781-436e-92d3-d5a9631f0fd0",
   "metadata": {},
   "outputs": [],
   "source": [
    "type(df)"
   ]
  },
  {
   "cell_type": "code",
   "execution_count": null,
   "id": "80e0c0f0-49c2-4c8b-8f2a-78ee0d338d38",
   "metadata": {},
   "outputs": [],
   "source": [
    "2 * df  # vectorized operation (\"scalar multiplication\")"
   ]
  },
  {
   "cell_type": "code",
   "execution_count": null,
   "id": "c0728b0a-a2b0-41c4-b5ac-8a751a0ddd9a",
   "metadata": {},
   "outputs": [],
   "source": [
    "df + df"
   ]
  },
  {
   "cell_type": "code",
   "execution_count": null,
   "id": "6455338f-c60e-4121-b6b4-606a4a21c074",
   "metadata": {},
   "outputs": [],
   "source": [
    "df ** 2"
   ]
  },
  {
   "cell_type": "code",
   "execution_count": null,
   "id": "9a2c96b2-fab8-4427-9aed-4b106499c95a",
   "metadata": {},
   "outputs": [],
   "source": [
    "df ** df "
   ]
  },
  {
   "cell_type": "code",
   "execution_count": null,
   "id": "f8616c8a-4dd6-4319-8b82-9970d0389b1a",
   "metadata": {},
   "outputs": [],
   "source": [
    "print(np.sqrt(df))"
   ]
  },
  {
   "cell_type": "code",
   "execution_count": null,
   "id": "e8ced474-fb64-4f4d-a32c-d5cb5e3898d4",
   "metadata": {},
   "outputs": [],
   "source": [
    "df.columns"
   ]
  },
  {
   "cell_type": "code",
   "execution_count": null,
   "id": "eb9b24f3-f206-403c-8a05-6509dc3ee4b9",
   "metadata": {},
   "outputs": [],
   "source": [
    "df.index"
   ]
  },
  {
   "cell_type": "code",
   "execution_count": null,
   "id": "f7dfe49d-fc56-4e9d-9ddb-c701fb1f67c5",
   "metadata": {},
   "outputs": [],
   "source": [
    "df.columns = list('ABC')"
   ]
  },
  {
   "cell_type": "code",
   "execution_count": null,
   "id": "3fe0ad40-bf68-4b40-83bd-bfede879be61",
   "metadata": {},
   "outputs": [],
   "source": [
    "df"
   ]
  },
  {
   "cell_type": "code",
   "execution_count": null,
   "id": "f02a0a8c-8ea0-4386-9b92-4ed5f3abda36",
   "metadata": {},
   "outputs": [],
   "source": [
    "df.index = list('abcde')"
   ]
  },
  {
   "cell_type": "code",
   "execution_count": null,
   "id": "b1c27ec9-bb43-4443-b5eb-a11a285e4af2",
   "metadata": {},
   "outputs": [],
   "source": [
    "df"
   ]
  },
  {
   "cell_type": "code",
   "execution_count": null,
   "id": "a818d2e1-3c71-4c16-a6ab-0e04b8cae1dd",
   "metadata": {},
   "outputs": [],
   "source": [
    "df['A']"
   ]
  },
  {
   "cell_type": "code",
   "execution_count": null,
   "id": "89440732-14ca-4b01-995a-d55933f23c58",
   "metadata": {},
   "outputs": [],
   "source": [
    "df.loc['a']"
   ]
  },
  {
   "cell_type": "code",
   "execution_count": null,
   "id": "ef15f1b4-d271-4d75-8c62-da5dae997525",
   "metadata": {},
   "outputs": [],
   "source": [
    "df.loc[:, 'A']"
   ]
  },
  {
   "cell_type": "code",
   "execution_count": null,
   "id": "f28c7aac-c76e-4e93-a089-ee70990ca21b",
   "metadata": {},
   "outputs": [],
   "source": [
    "df.iloc[2]"
   ]
  },
  {
   "cell_type": "code",
   "execution_count": null,
   "id": "04b2bb0f-85de-491b-a993-52929fe6607f",
   "metadata": {},
   "outputs": [],
   "source": [
    "df.iloc[2:4]"
   ]
  },
  {
   "cell_type": "code",
   "execution_count": null,
   "id": "8d76ee9d-796e-44bb-8473-408786874e03",
   "metadata": {},
   "outputs": [],
   "source": [
    "df.iloc[2:4, 1:]"
   ]
  },
  {
   "cell_type": "code",
   "execution_count": null,
   "id": "266e5c7d-987d-49a9-a049-d8ecd7ee2746",
   "metadata": {},
   "outputs": [],
   "source": [
    "a.sum()  # sum of all elements by default"
   ]
  },
  {
   "cell_type": "code",
   "execution_count": null,
   "id": "1774747d-0947-49c4-b94b-2487d5aeb8b4",
   "metadata": {},
   "outputs": [],
   "source": [
    "df.sum()  # sum of the elements per column"
   ]
  },
  {
   "cell_type": "code",
   "execution_count": null,
   "id": "c4b32ae4-be62-4ac4-952c-cbe32d010927",
   "metadata": {},
   "outputs": [],
   "source": [
    "df.mean()"
   ]
  },
  {
   "cell_type": "code",
   "execution_count": null,
   "id": "b1d87b3d-f35f-4ab4-b360-5fa7ed1c237a",
   "metadata": {},
   "outputs": [],
   "source": [
    "df.mean(axis=0)"
   ]
  },
  {
   "cell_type": "code",
   "execution_count": null,
   "id": "17a45daf-b186-4296-ab7f-d6b75780f3d8",
   "metadata": {},
   "outputs": [],
   "source": [
    "df.mean(axis=1)"
   ]
  },
  {
   "cell_type": "code",
   "execution_count": null,
   "id": "371f8639-5059-4976-ba3b-f01a1f34ad71",
   "metadata": {},
   "outputs": [],
   "source": [
    "a.mean()"
   ]
  },
  {
   "cell_type": "code",
   "execution_count": null,
   "id": "b61ded13-a68e-4620-b2ef-e4eb5a6e551e",
   "metadata": {},
   "outputs": [],
   "source": [
    "df.mean().mean()"
   ]
  },
  {
   "cell_type": "markdown",
   "id": "36f61702-b842-4050-88ae-bd938de6f8a9",
   "metadata": {},
   "source": [
    "## Speed Comparisons"
   ]
  },
  {
   "cell_type": "code",
   "execution_count": null,
   "id": "7e9cf5e7-a109-4cb1-a23a-40a387e4956d",
   "metadata": {},
   "outputs": [],
   "source": [
    "from numpy.random import default_rng"
   ]
  },
  {
   "cell_type": "code",
   "execution_count": null,
   "id": "c875bb05-7e9e-4457-b1d0-9134c2d666f1",
   "metadata": {},
   "outputs": [],
   "source": [
    "rng = default_rng()"
   ]
  },
  {
   "cell_type": "code",
   "execution_count": null,
   "id": "8c52e9fc-2094-4b95-88c0-1782dc0b3449",
   "metadata": {},
   "outputs": [],
   "source": [
    "N = 10_000_000"
   ]
  },
  {
   "cell_type": "code",
   "execution_count": null,
   "id": "317d5581-0837-4e89-954a-5aa1c9d53623",
   "metadata": {},
   "outputs": [],
   "source": [
    "rn = rng.standard_normal(N).reshape(int(N / 10), 10)"
   ]
  },
  {
   "cell_type": "code",
   "execution_count": null,
   "id": "4de2340c-7081-45c6-8a5f-71fbbac27027",
   "metadata": {},
   "outputs": [],
   "source": [
    "df = pd.DataFrame(rn)"
   ]
  },
  {
   "cell_type": "code",
   "execution_count": null,
   "id": "5dbd1a49-a05d-4217-be6d-ba8e6155cb0a",
   "metadata": {},
   "outputs": [],
   "source": [
    "df.head()"
   ]
  },
  {
   "cell_type": "code",
   "execution_count": null,
   "id": "db5ed0f9-67f6-4d8d-bb9e-1f423b6162b1",
   "metadata": {},
   "outputs": [],
   "source": [
    "df.tail()"
   ]
  },
  {
   "cell_type": "code",
   "execution_count": null,
   "id": "f49cb110-5e0c-43c0-946a-42b96d3e9cfd",
   "metadata": {},
   "outputs": [],
   "source": [
    "df.info()"
   ]
  },
  {
   "cell_type": "code",
   "execution_count": null,
   "id": "19d40c18-f582-4462-b4d2-ae4049c8dcfd",
   "metadata": {},
   "outputs": [],
   "source": [
    "print(df.describe().round(3))"
   ]
  },
  {
   "cell_type": "code",
   "execution_count": null,
   "id": "e65d2f98-4f7a-477e-9c36-816249c81d4e",
   "metadata": {},
   "outputs": [],
   "source": [
    "rn.shape"
   ]
  },
  {
   "cell_type": "code",
   "execution_count": null,
   "id": "a5e4879b-2bd3-4527-8a12-693e8f029c24",
   "metadata": {},
   "outputs": [],
   "source": [
    "%time rn.sum(axis=0)"
   ]
  },
  {
   "cell_type": "code",
   "execution_count": null,
   "id": "79b64974-ec23-40cf-afa9-6098618e7c30",
   "metadata": {},
   "outputs": [],
   "source": [
    "%timeit rn.sum(axis=0)"
   ]
  },
  {
   "cell_type": "code",
   "execution_count": null,
   "id": "02749d44-0da1-4d8b-9ce4-fb212cfdaef1",
   "metadata": {},
   "outputs": [],
   "source": [
    "%time df.sum()"
   ]
  },
  {
   "cell_type": "code",
   "execution_count": null,
   "id": "c4e25d91-cbcf-46b3-9a67-016c7e9df7bb",
   "metadata": {},
   "outputs": [],
   "source": [
    "%timeit df.sum()"
   ]
  },
  {
   "cell_type": "code",
   "execution_count": null,
   "id": "5687b837-8bca-486a-81ed-efc98c7bf3d7",
   "metadata": {},
   "outputs": [],
   "source": [
    "%time np.sqrt(np.abs(rn))"
   ]
  },
  {
   "cell_type": "code",
   "execution_count": null,
   "id": "176af1ed-2152-4c1e-b9d0-ae5433de7df1",
   "metadata": {},
   "outputs": [],
   "source": [
    "%timeit np.sqrt(np.abs(rn))"
   ]
  },
  {
   "cell_type": "code",
   "execution_count": null,
   "id": "31dce574-a411-4557-82e3-ec1cb0a587dc",
   "metadata": {},
   "outputs": [],
   "source": [
    "%timeit np.sqrt(np.abs(df))"
   ]
  },
  {
   "cell_type": "markdown",
   "id": "8ce6019c-298a-478e-acc0-5427b6943304",
   "metadata": {},
   "source": [
    "## Visualization of Data"
   ]
  },
  {
   "cell_type": "code",
   "execution_count": null,
   "id": "3bd1461e-9a88-48ce-93a0-37849f4f8696",
   "metadata": {},
   "outputs": [],
   "source": [
    "index = pd.date_range('2024-1-1', periods=504, freq='B')"
   ]
  },
  {
   "cell_type": "code",
   "execution_count": null,
   "id": "e097eca7-e6c6-4652-b609-bf732a055ce1",
   "metadata": {},
   "outputs": [],
   "source": [
    "index"
   ]
  },
  {
   "cell_type": "code",
   "execution_count": null,
   "id": "af2d45ca-7f77-4c54-b3d7-c49f2a417da4",
   "metadata": {},
   "outputs": [],
   "source": [
    "columns = list('ABCDE')\n",
    "columns"
   ]
  },
  {
   "cell_type": "code",
   "execution_count": null,
   "id": "c9a589f8-f387-4ea3-86c9-9ed1c811f52b",
   "metadata": {},
   "outputs": [],
   "source": [
    "rn = rng.standard_normal((len(index), len(columns)))"
   ]
  },
  {
   "cell_type": "code",
   "execution_count": null,
   "id": "44dc1802-d0b5-44af-86eb-f0eeab17cfbf",
   "metadata": {},
   "outputs": [],
   "source": [
    "rn[0] = 0"
   ]
  },
  {
   "cell_type": "code",
   "execution_count": null,
   "id": "d6d22976-06fd-4c74-81dd-d321eb91257f",
   "metadata": {},
   "outputs": [],
   "source": [
    "df = pd.DataFrame(rn.cumsum(axis=0), columns=columns, index=index) + 100"
   ]
  },
  {
   "cell_type": "code",
   "execution_count": null,
   "id": "092adbb6-b824-45ef-b9e9-dcf7dcc51f58",
   "metadata": {},
   "outputs": [],
   "source": [
    "df.head()"
   ]
  },
  {
   "cell_type": "code",
   "execution_count": null,
   "id": "1dae27fb-53f3-4d5a-9eeb-758d5206e908",
   "metadata": {},
   "outputs": [],
   "source": [
    "from pylab import plt\n",
    "plt.style.use('seaborn-v0_8')\n",
    "%config InlineBackend.figure_format = 'svg'"
   ]
  },
  {
   "cell_type": "code",
   "execution_count": null,
   "id": "0c4f62d2-791a-4781-a7a6-047149946097",
   "metadata": {},
   "outputs": [],
   "source": [
    "plt.plot(df);"
   ]
  },
  {
   "cell_type": "code",
   "execution_count": null,
   "id": "56a760b4-9fe4-4945-bf2a-d785c011eaf8",
   "metadata": {},
   "outputs": [],
   "source": [
    "df.plot();"
   ]
  },
  {
   "cell_type": "code",
   "execution_count": null,
   "id": "26a05b56-7661-499d-b696-02b50db02cd2",
   "metadata": {},
   "outputs": [],
   "source": [
    "# help(df.plot)"
   ]
  },
  {
   "cell_type": "code",
   "execution_count": null,
   "id": "574d371f-3f8c-49ee-a912-83afcb4c2425",
   "metadata": {},
   "outputs": [],
   "source": [
    "df.plot(xlabel='Date', ylabel='Prices',\n",
    "        title='Simulated Stock Prices',\n",
    "        cmap='coolwarm');"
   ]
  },
  {
   "cell_type": "markdown",
   "id": "7757e032-a775-40d6-8db1-370a318397dc",
   "metadata": {},
   "source": [
    "## Log Returns & Visualization"
   ]
  },
  {
   "cell_type": "code",
   "execution_count": null,
   "id": "e589f7e9-286d-4463-9407-bcc87dcc8cf0",
   "metadata": {},
   "outputs": [],
   "source": [
    "lr = np.log(df / df.shift(1))"
   ]
  },
  {
   "cell_type": "code",
   "execution_count": null,
   "id": "41499c80-c938-46d9-9815-1db61d95b1f8",
   "metadata": {},
   "outputs": [],
   "source": [
    "lr.head()"
   ]
  },
  {
   "cell_type": "code",
   "execution_count": null,
   "id": "d084674e-bacd-4ddb-92d4-8e779cd67737",
   "metadata": {},
   "outputs": [],
   "source": [
    "lr.plot(kind='hist', subplots=True, bins=50);"
   ]
  },
  {
   "cell_type": "markdown",
   "id": "c5f4612a-5421-42f9-8e69-dc9b8b29ab02",
   "metadata": {},
   "source": [
    "<img src=\"http://hilpisch.com/tpq_logo.png\" alt=\"The Python Quants\" width=\"35%\" align=\"right\" border=\"0\"><br>\n",
    "\n",
    "<a href=\"http://tpq.io\" target=\"_blank\">http://tpq.io</a> | <a href=\"mailto:training@tpq.io\">training@tpq.io</a> | <a href=\"http://twitter.com/dyjh\" target=\"_blank\">@dyjh</a> "
   ]
  }
 ],
 "metadata": {
  "celltoolbar": "Slideshow",
  "kernelspec": {
   "display_name": "Python 3 (ipykernel)",
   "language": "python",
   "name": "python3"
  },
  "language_info": {
   "codemirror_mode": {
    "name": "ipython",
    "version": 3
   },
   "file_extension": ".py",
   "mimetype": "text/x-python",
   "name": "python",
   "nbconvert_exporter": "python",
   "pygments_lexer": "ipython3",
   "version": "3.12.7"
  }
 },
 "nbformat": 4,
 "nbformat_minor": 5
}
