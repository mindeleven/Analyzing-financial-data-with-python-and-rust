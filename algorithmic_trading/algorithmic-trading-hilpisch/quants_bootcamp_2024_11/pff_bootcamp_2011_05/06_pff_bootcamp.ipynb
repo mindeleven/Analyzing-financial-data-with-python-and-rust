{
 "cells": [
  {
   "cell_type": "markdown",
   "id": "fa243fab-53f5-4695-a635-36d48494cf75",
   "metadata": {
    "slideshow": {
     "slide_type": "slide"
    }
   },
   "source": [
    "<img src=\"http://hilpisch.com/tpq_logo.png\" alt=\"The Python Quants\" width=\"35%\" align=\"right\" border=\"0\"><br>"
   ]
  },
  {
   "cell_type": "markdown",
   "id": "31868c69-bcb8-4fe6-9695-b8eb5c842a7e",
   "metadata": {},
   "source": [
    "# Python for Finance\n",
    "\n",
    "**Online Bootcamp**"
   ]
  },
  {
   "cell_type": "markdown",
   "id": "f9defc78-897b-47d3-9b65-89eb13b0b64f",
   "metadata": {
    "tags": []
   },
   "source": [
    "&copy; Dr. Yves J. Hilpisch | The Python Quants GmbH\n",
    "\n",
    "http://tpq.io | [training@tpq.io](mailto:trainin@tpq.io) | [@dyjh](http://twitter.com/dyjh)"
   ]
  },
  {
   "cell_type": "markdown",
   "id": "90e7c69d-b7f0-4b62-8f41-c5069c4274b7",
   "metadata": {},
   "source": [
    "## Financial Data"
   ]
  },
  {
   "cell_type": "code",
   "execution_count": null,
   "id": "c80bf594-4d4e-4486-815e-bf0ff03b7273",
   "metadata": {},
   "outputs": [],
   "source": [
    "import numpy as np\n",
    "import pandas as pd\n",
    "from pylab import plt\n",
    "plt.style.use('seaborn-v0_8')\n",
    "%config InlineBackend.figure_format = 'svg'"
   ]
  },
  {
   "cell_type": "code",
   "execution_count": null,
   "id": "8f724575-1ce0-464a-9e57-a9151d4020ca",
   "metadata": {},
   "outputs": [],
   "source": [
    "url = 'https://certificate.tpq.io/findata.csv'"
   ]
  },
  {
   "cell_type": "code",
   "execution_count": null,
   "id": "7f67f368-b791-41a8-83f4-25e8a6773f91",
   "metadata": {},
   "outputs": [],
   "source": [
    "print(pd.read_csv(url))"
   ]
  },
  {
   "cell_type": "code",
   "execution_count": null,
   "id": "aa4fde5a-3afa-4bfb-8dce-3283ab8f9670",
   "metadata": {},
   "outputs": [],
   "source": [
    "raw = pd.read_csv(url, index_col=0)"
   ]
  },
  {
   "cell_type": "code",
   "execution_count": null,
   "id": "c741bf39-78fb-44f1-9cc9-6a0b8ea13536",
   "metadata": {},
   "outputs": [],
   "source": [
    "raw.info()"
   ]
  },
  {
   "cell_type": "code",
   "execution_count": null,
   "id": "b9e7cb89-5fc7-4b89-b920-381c34002d8b",
   "metadata": {},
   "outputs": [],
   "source": [
    "raw = pd.read_csv(url, index_col=0, parse_dates=True)"
   ]
  },
  {
   "cell_type": "code",
   "execution_count": null,
   "id": "6d3ade6f-38fe-43f7-bb17-c7d23f5184ec",
   "metadata": {},
   "outputs": [],
   "source": [
    "raw.info()"
   ]
  },
  {
   "cell_type": "code",
   "execution_count": null,
   "id": "9d50eb02-fb43-4e86-8db2-fc10afe34729",
   "metadata": {},
   "outputs": [],
   "source": [
    "raw['AAPL.O'].plot();"
   ]
  },
  {
   "cell_type": "markdown",
   "id": "dda0e231-bb80-4e5f-8466-4af43dac4fa6",
   "metadata": {},
   "source": [
    "## Market Prediction with Machine Learning"
   ]
  },
  {
   "cell_type": "markdown",
   "id": "b6c666ff-2ac0-4507-8713-addae33a098c",
   "metadata": {},
   "source": [
    "### Data Preprocessing"
   ]
  },
  {
   "cell_type": "code",
   "execution_count": null,
   "id": "b141de1a-c41e-4285-be3d-4efe0b85fe76",
   "metadata": {},
   "outputs": [],
   "source": [
    "symbol = 'EUR='"
   ]
  },
  {
   "cell_type": "code",
   "execution_count": null,
   "id": "7d6b8aff-3ebe-4c28-8834-28df55b00e94",
   "metadata": {},
   "outputs": [],
   "source": [
    "data = pd.DataFrame(raw[symbol])"
   ]
  },
  {
   "cell_type": "code",
   "execution_count": null,
   "id": "c5ecc0d9-2cd6-43c3-a2c2-b66026aac862",
   "metadata": {},
   "outputs": [],
   "source": [
    "data['r'] = np.log(data / data.shift(1))"
   ]
  },
  {
   "cell_type": "code",
   "execution_count": null,
   "id": "c9e738f8-f0a9-4cfa-87d1-68095f5f0ff1",
   "metadata": {},
   "outputs": [],
   "source": [
    "data['d'] = np.sign(data['r'])"
   ]
  },
  {
   "cell_type": "code",
   "execution_count": null,
   "id": "0a2eeb1a-fad2-4e0a-ac66-fb66fdaa6b5b",
   "metadata": {},
   "outputs": [],
   "source": [
    "data.tail()"
   ]
  },
  {
   "cell_type": "code",
   "execution_count": null,
   "id": "9e59926d-3b4f-4d0a-ae9e-a24a76dacbda",
   "metadata": {},
   "outputs": [],
   "source": [
    "lags = 7\n",
    "cols = list()\n",
    "for lag in range(1, lags + 1):\n",
    "    col = f'lag_{lag}'\n",
    "    data[col] = data['r'].shift(lag)\n",
    "    cols.append(col)"
   ]
  },
  {
   "cell_type": "code",
   "execution_count": null,
   "id": "6f093edd-0c5f-4457-8769-0d605c0c6b77",
   "metadata": {},
   "outputs": [],
   "source": [
    "cols"
   ]
  },
  {
   "cell_type": "code",
   "execution_count": null,
   "id": "2cbe6194-7da0-44c6-9a44-1c6e4a83060c",
   "metadata": {},
   "outputs": [],
   "source": [
    "data.head(8)"
   ]
  },
  {
   "cell_type": "code",
   "execution_count": null,
   "id": "69320e4e-e3ee-46ae-a537-235f8f64f233",
   "metadata": {},
   "outputs": [],
   "source": [
    "data.dropna(inplace=True)"
   ]
  },
  {
   "cell_type": "code",
   "execution_count": null,
   "id": "c8230c1d-56b3-460e-98ed-96cd0ec7b41c",
   "metadata": {},
   "outputs": [],
   "source": [
    "data.head()"
   ]
  },
  {
   "cell_type": "markdown",
   "id": "70361ec2-9486-4ecf-bed7-8f3ab99a365f",
   "metadata": {},
   "source": [
    "### Prediction based on Supervised Learning (Binary Classification)"
   ]
  },
  {
   "cell_type": "code",
   "execution_count": null,
   "id": "8f36364b-5172-4b89-a7eb-399ce842a04c",
   "metadata": {},
   "outputs": [],
   "source": [
    "# %conda install scikit-learn -y"
   ]
  },
  {
   "cell_type": "code",
   "execution_count": null,
   "id": "292ef929-4503-48c6-806c-f16165b7a67c",
   "metadata": {},
   "outputs": [],
   "source": [
    "from sklearn.naive_bayes import GaussianNB  # supervised classification"
   ]
  },
  {
   "cell_type": "code",
   "execution_count": null,
   "id": "db20c7aa-347b-44b6-a266-a82073759905",
   "metadata": {},
   "outputs": [],
   "source": [
    "model = GaussianNB()  # 1. step = model instantiation"
   ]
  },
  {
   "cell_type": "code",
   "execution_count": null,
   "id": "f3dd5398-c3c8-490a-bf38-0b9582008913",
   "metadata": {},
   "outputs": [],
   "source": [
    "model.fit(data[cols], data['d'])  # 2. step = model fitting"
   ]
  },
  {
   "cell_type": "code",
   "execution_count": null,
   "id": "3d0170ce-7d85-4842-8f61-01d4005429a0",
   "metadata": {},
   "outputs": [],
   "source": [
    "model.predict(data[cols])  # 3. step = label prediction"
   ]
  },
  {
   "cell_type": "code",
   "execution_count": null,
   "id": "95faf254-dd14-4ff6-b65f-a682827fb1ea",
   "metadata": {},
   "outputs": [],
   "source": [
    "data['p'] = model.predict(data[cols])"
   ]
  },
  {
   "cell_type": "code",
   "execution_count": null,
   "id": "0e5e3991-b291-491d-b3fc-5a7e8de024df",
   "metadata": {},
   "outputs": [],
   "source": [
    "from sklearn.metrics import accuracy_score"
   ]
  },
  {
   "cell_type": "code",
   "execution_count": null,
   "id": "e6a9a754-bfef-4641-8f9d-488929c9c670",
   "metadata": {},
   "outputs": [],
   "source": [
    "accuracy_score(data['d'], data['p'])"
   ]
  },
  {
   "cell_type": "markdown",
   "id": "744cf59c-a5ca-4e1e-88df-8361ffdbe9ab",
   "metadata": {},
   "source": [
    "## Vectorized Backtesting"
   ]
  },
  {
   "cell_type": "code",
   "execution_count": null,
   "id": "e86fbf96-be43-42fe-9bf0-f56db4258e0c",
   "metadata": {},
   "outputs": [],
   "source": [
    "data[symbol].plot();"
   ]
  },
  {
   "cell_type": "code",
   "execution_count": null,
   "id": "d1ada122-68a9-47ed-b257-e266a1f381c5",
   "metadata": {},
   "outputs": [],
   "source": [
    "data['s'] = data['p'] * data['r']  # strategy returns under simplifying assumptions"
   ]
  },
  {
   "cell_type": "code",
   "execution_count": null,
   "id": "afeec0d4-bcab-4491-a517-59af89859905",
   "metadata": {},
   "outputs": [],
   "source": [
    "data[['r', 's']].sum()  # sum of log returns"
   ]
  },
  {
   "cell_type": "code",
   "execution_count": null,
   "id": "2b015a86-721f-4f05-a738-de122bb1004d",
   "metadata": {},
   "outputs": [],
   "source": [
    "data[['r', 's']].sum().apply(np.exp)  # gross returns"
   ]
  },
  {
   "cell_type": "code",
   "execution_count": null,
   "id": "4123c1fc-6a17-4533-a43d-429f0458afdf",
   "metadata": {},
   "outputs": [],
   "source": [
    "data[['r', 's']].cumsum().apply(np.exp).plot();  # gross returns over time"
   ]
  },
  {
   "cell_type": "markdown",
   "id": "4998e34b-d520-47c3-99f4-f0c3e8980619",
   "metadata": {},
   "source": [
    "**REMARK: This is a very simplistic, illustrative example under simplifying assumptions. It ignores aspects like transaction costs and, among other things, it implements an in-sample analysis only (= no train-test split).**"
   ]
  },
  {
   "cell_type": "markdown",
   "id": "c5f4612a-5421-42f9-8e69-dc9b8b29ab02",
   "metadata": {},
   "source": [
    "<img src=\"http://hilpisch.com/tpq_logo.png\" alt=\"The Python Quants\" width=\"35%\" align=\"right\" border=\"0\"><br>\n",
    "\n",
    "<a href=\"http://tpq.io\" target=\"_blank\">http://tpq.io</a> | <a href=\"mailto:training@tpq.io\">training@tpq.io</a> | <a href=\"http://twitter.com/dyjh\" target=\"_blank\">@dyjh</a> "
   ]
  }
 ],
 "metadata": {
  "celltoolbar": "Slideshow",
  "kernelspec": {
   "display_name": "Python 3 (ipykernel)",
   "language": "python",
   "name": "python3"
  },
  "language_info": {
   "codemirror_mode": {
    "name": "ipython",
    "version": 3
   },
   "file_extension": ".py",
   "mimetype": "text/x-python",
   "name": "python",
   "nbconvert_exporter": "python",
   "pygments_lexer": "ipython3",
   "version": "3.12.7"
  }
 },
 "nbformat": 4,
 "nbformat_minor": 5
}
