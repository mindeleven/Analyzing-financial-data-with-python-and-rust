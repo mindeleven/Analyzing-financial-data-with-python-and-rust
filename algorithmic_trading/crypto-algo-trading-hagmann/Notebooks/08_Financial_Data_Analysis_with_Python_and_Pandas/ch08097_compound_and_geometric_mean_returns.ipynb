{
 "cells": [
  {
   "cell_type": "markdown",
   "id": "fe5ec50c-9ab5-4559-be96-1423f43ecb59",
   "metadata": {},
   "source": [
    "## Compound Returns & Geometric Mean Return"
   ]
  },
  {
   "cell_type": "markdown",
   "id": "fa417fe1-7030-44d5-aeca-eb4ebf24a52a",
   "metadata": {},
   "source": [
    "*[Coding along with the Udemy course [Cryptocurrency Algorithmic Trading with Python and Binance](https://www.udemy.com/course/cryptocurrency-algorithmic-trading-with-python-and-binance/) by Alexander Hagman]*"
   ]
  },
  {
   "cell_type": "code",
   "execution_count": 28,
   "id": "35d2f906-d810-41a5-abab-b1b74e250f8e",
   "metadata": {},
   "outputs": [
    {
     "name": "stdout",
     "output_type": "stream",
     "text": [
      "The history saving thread hit an unexpected error (OperationalError('attempt to write a readonly database')).History will not be written to the database.\n"
     ]
    }
   ],
   "source": [
    "import pandas as pd\n",
    "import numpy as np\n",
    "import matplotlib.pyplot as plt\n",
    "pd.options.display.float_format = '{:.4f}'.format"
   ]
  },
  {
   "cell_type": "markdown",
   "id": "c1bb0901-1d5e-44bd-aebe-1344f32b6fc6",
   "metadata": {},
   "source": [
    "__What is Geometric Mean?__ The geometric mean is the average growth of an investment computed by multiplying n variables and then taking the nth –root. In other words, it is __the average return of an investment over time__, a metric used to evaluate the performance of a single investment or an investment portfolio ([corporatefinanceinstitute.com](https://corporatefinanceinstitute.com/resources/data-science/what-is-geometric-mean/))."
   ]
  },
  {
   "cell_type": "code",
   "execution_count": 29,
   "id": "369f03ff-1168-4a88-87e2-f4819d6c99b5",
   "metadata": {},
   "outputs": [
    {
     "data": {
      "text/html": [
       "<div>\n",
       "<style scoped>\n",
       "    .dataframe tbody tr th:only-of-type {\n",
       "        vertical-align: middle;\n",
       "    }\n",
       "\n",
       "    .dataframe tbody tr th {\n",
       "        vertical-align: top;\n",
       "    }\n",
       "\n",
       "    .dataframe thead th {\n",
       "        text-align: right;\n",
       "    }\n",
       "</style>\n",
       "<table border=\"1\" class=\"dataframe\">\n",
       "  <thead>\n",
       "    <tr style=\"text-align: right;\">\n",
       "      <th></th>\n",
       "      <th>Price</th>\n",
       "      <th>Returns</th>\n",
       "    </tr>\n",
       "    <tr>\n",
       "      <th>Date</th>\n",
       "      <th></th>\n",
       "      <th></th>\n",
       "    </tr>\n",
       "  </thead>\n",
       "  <tbody>\n",
       "    <tr>\n",
       "      <th>2014-10-01</th>\n",
       "      <td>45.9000</td>\n",
       "      <td>NaN</td>\n",
       "    </tr>\n",
       "    <tr>\n",
       "      <th>2014-10-02</th>\n",
       "      <td>45.7600</td>\n",
       "      <td>-0.0031</td>\n",
       "    </tr>\n",
       "    <tr>\n",
       "      <th>2014-10-03</th>\n",
       "      <td>46.0900</td>\n",
       "      <td>0.0072</td>\n",
       "    </tr>\n",
       "    <tr>\n",
       "      <th>2014-10-06</th>\n",
       "      <td>46.0900</td>\n",
       "      <td>0.0000</td>\n",
       "    </tr>\n",
       "    <tr>\n",
       "      <th>2014-10-07</th>\n",
       "      <td>45.5300</td>\n",
       "      <td>-0.0122</td>\n",
       "    </tr>\n",
       "    <tr>\n",
       "      <th>...</th>\n",
       "      <td>...</td>\n",
       "      <td>...</td>\n",
       "    </tr>\n",
       "    <tr>\n",
       "      <th>2021-05-24</th>\n",
       "      <td>250.7800</td>\n",
       "      <td>0.0229</td>\n",
       "    </tr>\n",
       "    <tr>\n",
       "      <th>2021-05-25</th>\n",
       "      <td>251.7200</td>\n",
       "      <td>0.0037</td>\n",
       "    </tr>\n",
       "    <tr>\n",
       "      <th>2021-05-26</th>\n",
       "      <td>251.4900</td>\n",
       "      <td>-0.0009</td>\n",
       "    </tr>\n",
       "    <tr>\n",
       "      <th>2021-05-27</th>\n",
       "      <td>249.3100</td>\n",
       "      <td>-0.0087</td>\n",
       "    </tr>\n",
       "    <tr>\n",
       "      <th>2021-05-28</th>\n",
       "      <td>249.6800</td>\n",
       "      <td>0.0015</td>\n",
       "    </tr>\n",
       "  </tbody>\n",
       "</table>\n",
       "<p>1677 rows × 2 columns</p>\n",
       "</div>"
      ],
      "text/plain": [
       "              Price  Returns\n",
       "Date                        \n",
       "2014-10-01  45.9000      NaN\n",
       "2014-10-02  45.7600  -0.0031\n",
       "2014-10-03  46.0900   0.0072\n",
       "2014-10-06  46.0900   0.0000\n",
       "2014-10-07  45.5300  -0.0122\n",
       "...             ...      ...\n",
       "2021-05-24 250.7800   0.0229\n",
       "2021-05-25 251.7200   0.0037\n",
       "2021-05-26 251.4900  -0.0009\n",
       "2021-05-27 249.3100  -0.0087\n",
       "2021-05-28 249.6800   0.0015\n",
       "\n",
       "[1677 rows x 2 columns]"
      ]
     },
     "execution_count": 29,
     "metadata": {},
     "output_type": "execute_result"
    }
   ],
   "source": [
    "msft = pd.read_csv(\"../../assets/data/msft.csv\", index_col = \"Date\", parse_dates = [\"Date\"])\n",
    "msft"
   ]
  },
  {
   "cell_type": "code",
   "execution_count": 30,
   "id": "572046e8-9ea1-436d-9c5e-34bb84f3303d",
   "metadata": {},
   "outputs": [
    {
     "data": {
      "text/plain": [
       "np.float64(5.439651075719862)"
      ]
     },
     "execution_count": 30,
     "metadata": {},
     "output_type": "execute_result"
    }
   ],
   "source": [
    "# compounding daily returns by addin 1 to each and every daily return\n",
    "# then mutiplying all those elements with prod() to get the multiple\n",
    "multiple = (1 + msft.Returns).prod() # alternative #3 to calculate multiple (compounding daily returns)\n",
    "multiple"
   ]
  },
  {
   "cell_type": "code",
   "execution_count": 31,
   "id": "a4717229-1b28-4a2b-970d-be2898458e45",
   "metadata": {},
   "outputs": [
    {
     "data": {
      "text/plain": [
       "np.int64(1676)"
      ]
     },
     "execution_count": 31,
     "metadata": {},
     "output_type": "execute_result"
    }
   ],
   "source": [
    "# number of elements in return column\n",
    "n = msft.Returns.count()\n",
    "n"
   ]
  },
  {
   "cell_type": "code",
   "execution_count": 32,
   "id": "09c442f6-ded5-418d-8bf5-2ace249a3b32",
   "metadata": {},
   "outputs": [
    {
     "data": {
      "text/plain": [
       "np.float64(0.0010110805580043625)"
      ]
     },
     "execution_count": 32,
     "metadata": {},
     "output_type": "execute_result"
    }
   ],
   "source": [
    "# now we can calculate the geometric mean return\n",
    "# formula: multiple to the power of (1 divided by n) minus 1\n",
    "geo_mean = multiple**(1/n) - 1 # Geometric mean return (daily)\n",
    "geo_mean"
   ]
  },
  {
   "cell_type": "code",
   "execution_count": 33,
   "id": "8f2eda09-eded-4dd2-8c90-978b6286e89a",
   "metadata": {},
   "outputs": [
    {
     "name": "stdout",
     "output_type": "stream",
     "text": [
      "The Geometric Mean Return is 0.10 %\n"
     ]
    }
   ],
   "source": [
    "print(\"The Geometric Mean Return is\", \"{:.2f}\".format(geo_mean * 100), \"%\")"
   ]
  },
  {
   "cell_type": "code",
   "execution_count": 34,
   "id": "d85efc6c-2c06-4a20-9250-7f5bff94f723",
   "metadata": {},
   "outputs": [
    {
     "data": {
      "text/plain": [
       "np.float64(5.439651075720363)"
      ]
     },
     "execution_count": 34,
     "metadata": {},
     "output_type": "execute_result"
    }
   ],
   "source": [
    "# inverse calculation\n",
    "# compounding the geometric mean return and addin 1\n",
    "multiple4 = (1 + geo_mean)**n # alternative #4 to calculate multiple (geometric mean)\n",
    "multiple4"
   ]
  },
  {
   "cell_type": "code",
   "execution_count": 35,
   "id": "71b175fa-dab6-470d-9829-2bba335fc4c5",
   "metadata": {},
   "outputs": [
    {
     "name": "stdout",
     "output_type": "stream",
     "text": [
      "5.44\n"
     ]
    }
   ],
   "source": [
    "print(\"{:.2f}\".format(multiple4))"
   ]
  },
  {
   "cell_type": "markdown",
   "id": "b2e57a9d-f74c-4324-8b78-1eed9c9a315a",
   "metadata": {},
   "source": [
    "***The concepts of compound returns, CAGR & geometric mean return are closely related.***"
   ]
  },
  {
   "cell_type": "code",
   "execution_count": 36,
   "id": "626a8e3b-a558-4e1c-b369-ce63069fedd2",
   "metadata": {},
   "outputs": [
    {
     "data": {
      "text/plain": [
       "np.float64(0.0011597817982066949)"
      ]
     },
     "execution_count": 36,
     "metadata": {},
     "output_type": "execute_result"
    }
   ],
   "source": [
    "mu = msft.Returns.mean() # arithmetic mean return\n",
    "mu"
   ]
  },
  {
   "cell_type": "code",
   "execution_count": 37,
   "id": "fd3d0fe7-f81a-4a8c-a50f-2d6167483bee",
   "metadata": {},
   "outputs": [
    {
     "name": "stdout",
     "output_type": "stream",
     "text": [
      "The Arithmetic Mean Return is 0.12 %\n"
     ]
    }
   ],
   "source": [
    "print(\"The Arithmetic Mean Return is\", \"{:.2f}\".format(mu * 100), \"%\")"
   ]
  },
  {
   "cell_type": "markdown",
   "id": "a0f79588-a8d0-4cc1-9b08-5e0215503245",
   "metadata": {},
   "source": [
    "***In general the arithmetic mean return is always greater than the geometric mean return and therefore less useful (because we can't calculate the multiple just with the arithmetic mean return)***. "
   ]
  },
  {
   "cell_type": "code",
   "execution_count": 38,
   "id": "92f5fcf7-ddc1-4a49-b10d-777a99235923",
   "metadata": {},
   "outputs": [
    {
     "data": {
      "text/plain": [
       "np.float64(6.977341539401793)"
      ]
     },
     "execution_count": 38,
     "metadata": {},
     "output_type": "execute_result"
    }
   ],
   "source": [
    "# if we try to compound the arithmetic mean with the follwing formula\n",
    "# we DON'T GET THE MULTIPLE out of it\n",
    "(1 + mu)**n # calculate multiple? not possible with arithmetic mean!"
   ]
  },
  {
   "cell_type": "markdown",
   "id": "c1e3ced7-915b-4aba-bd8b-149fbb4a1436",
   "metadata": {},
   "source": [
    "***For further calculations we should use the geomeric mean or, what's even better, work with logarithmic returns.***"
   ]
  },
  {
   "cell_type": "code",
   "execution_count": null,
   "id": "dc335cc9-f85c-4e4d-8aa8-44f2374533d7",
   "metadata": {},
   "outputs": [],
   "source": []
  }
 ],
 "metadata": {
  "kernelspec": {
   "display_name": "Python 3 (ipykernel)",
   "language": "python",
   "name": "python3"
  },
  "language_info": {
   "codemirror_mode": {
    "name": "ipython",
    "version": 3
   },
   "file_extension": ".py",
   "mimetype": "text/x-python",
   "name": "python",
   "nbconvert_exporter": "python",
   "pygments_lexer": "ipython3",
   "version": "3.12.7"
  }
 },
 "nbformat": 4,
 "nbformat_minor": 5
}
