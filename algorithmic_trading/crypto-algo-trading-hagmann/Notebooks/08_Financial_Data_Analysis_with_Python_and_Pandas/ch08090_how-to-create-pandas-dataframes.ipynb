{
 "cells": [
  {
   "cell_type": "markdown",
   "id": "cc13590e-ca6c-4270-9226-ffb384cc6752",
   "metadata": {},
   "source": [
    "## How to Create pandas DataFrames"
   ]
  },
  {
   "cell_type": "markdown",
   "id": "382415e8-c549-4f7c-85af-4f8db1abf174",
   "metadata": {},
   "source": [
    "*[Coding along with the Udemy course [Cryptocurrency Algorithmic Trading with Python and Binance](https://www.udemy.com/course/cryptocurrency-algorithmic-trading-with-python-and-binance/) by Alexander Hagman; [How to Create Pandas DataFrames: A Hands-On Guide](https://blog.udemy.com/how-to-create-pandas-dataframes-a-hands-on-guide/)]*"
   ]
  },
  {
   "cell_type": "markdown",
   "id": "cf07c871-e532-4ed0-ba7f-9aafe5354eed",
   "metadata": {},
   "source": [
    "### Creating and loading data into Pandas DataFrames"
   ]
  },
  {
   "cell_type": "markdown",
   "id": "d9b0bd5b-ebde-49e4-bcfa-5031409af8c3",
   "metadata": {},
   "source": [
    "The first steps in a project that relies on data: \n",
    "\n",
    "- defining the data that is needed for the project\n",
    "- finding and identifying the right data source(s)\n",
    "- loading the data from the data source into Pandas DataFrames\n",
    "- cleaning, processing and manipulating the data"
   ]
  },
  {
   "cell_type": "code",
   "execution_count": 1,
   "id": "016fdd47-f156-4519-a480-b0dd29ec9078",
   "metadata": {},
   "outputs": [],
   "source": [
    "import pandas as pd"
   ]
  },
  {
   "cell_type": "markdown",
   "id": "a1844cba-78ac-44ce-953d-2917fb8f701a",
   "metadata": {},
   "source": [
    "#### 1. Having the columns in lists (\"dictionary scenario\")"
   ]
  },
  {
   "cell_type": "code",
   "execution_count": 3,
   "id": "3f4e16d9-d037-42a4-8d2e-66f20609b4d6",
   "metadata": {},
   "outputs": [],
   "source": [
    "names = [\"Lionel Messi\", \"Cristiano Ronaldo\", \"Neymar Junior\", \"Kylian Mbappe\", \"Manuel Neuer\"]\n",
    "country = [\"Argentina\", \"Portugal\", \"Brazil\", \"France\", \"Germany\"]\n",
    "club = [\"FC Barcelona\", \"Juventus FC\", \"Paris SG\", \"Paris SG\", \"FC Bayern\"]\n",
    "wc = [False, False, False, True, True]\n",
    "height = [1.70, 1.87, 1.75, 1.78, 1.93]\n",
    "goals = [51, 28, 23, 39, 0]"
   ]
  },
  {
   "cell_type": "code",
   "execution_count": 4,
   "id": "f179a4b8-a956-4ec4-ba75-e4313e331165",
   "metadata": {},
   "outputs": [
    {
     "data": {
      "text/plain": [
       "{'Country': ['Argentina', 'Portugal', 'Brazil', 'France', 'Germany'],\n",
       " 'Club_2019': ['FC Barcelona',\n",
       "  'Juventus FC',\n",
       "  'Paris SG',\n",
       "  'Paris SG',\n",
       "  'FC Bayern'],\n",
       " 'WC': [False, False, False, True, True],\n",
       " 'Height_m': [1.7, 1.87, 1.75, 1.78, 1.93],\n",
       " 'Goals_2019': [51, 28, 23, 39, 0]}"
      ]
     },
     "execution_count": 4,
     "metadata": {},
     "output_type": "execute_result"
    }
   ],
   "source": [
    "# creating a dictionary with all columns\n",
    "data = {\"Country\": country,\n",
    "   \t\"Club_2019\": club,\n",
    "   \t\"WC\": wc,\n",
    "   \t\"Height_m\": height,\n",
    "   \t\"Goals_2019\": goals\n",
    "}\n",
    "data"
   ]
  },
  {
   "cell_type": "code",
   "execution_count": 6,
   "id": "18786f95-935f-4e0f-9e6a-d648092d69ee",
   "metadata": {},
   "outputs": [
    {
     "data": {
      "text/html": [
       "<div>\n",
       "<style scoped>\n",
       "    .dataframe tbody tr th:only-of-type {\n",
       "        vertical-align: middle;\n",
       "    }\n",
       "\n",
       "    .dataframe tbody tr th {\n",
       "        vertical-align: top;\n",
       "    }\n",
       "\n",
       "    .dataframe thead th {\n",
       "        text-align: right;\n",
       "    }\n",
       "</style>\n",
       "<table border=\"1\" class=\"dataframe\">\n",
       "  <thead>\n",
       "    <tr style=\"text-align: right;\">\n",
       "      <th></th>\n",
       "      <th>Country</th>\n",
       "      <th>Club_2019</th>\n",
       "      <th>WC</th>\n",
       "      <th>Height_m</th>\n",
       "      <th>Goals_2019</th>\n",
       "    </tr>\n",
       "  </thead>\n",
       "  <tbody>\n",
       "    <tr>\n",
       "      <th>Lionel Messi</th>\n",
       "      <td>Argentina</td>\n",
       "      <td>FC Barcelona</td>\n",
       "      <td>False</td>\n",
       "      <td>1.70</td>\n",
       "      <td>51</td>\n",
       "    </tr>\n",
       "    <tr>\n",
       "      <th>Cristiano Ronaldo</th>\n",
       "      <td>Portugal</td>\n",
       "      <td>Juventus FC</td>\n",
       "      <td>False</td>\n",
       "      <td>1.87</td>\n",
       "      <td>28</td>\n",
       "    </tr>\n",
       "    <tr>\n",
       "      <th>Neymar Junior</th>\n",
       "      <td>Brazil</td>\n",
       "      <td>Paris SG</td>\n",
       "      <td>False</td>\n",
       "      <td>1.75</td>\n",
       "      <td>23</td>\n",
       "    </tr>\n",
       "    <tr>\n",
       "      <th>Kylian Mbappe</th>\n",
       "      <td>France</td>\n",
       "      <td>Paris SG</td>\n",
       "      <td>True</td>\n",
       "      <td>1.78</td>\n",
       "      <td>39</td>\n",
       "    </tr>\n",
       "    <tr>\n",
       "      <th>Manuel Neuer</th>\n",
       "      <td>Germany</td>\n",
       "      <td>FC Bayern</td>\n",
       "      <td>True</td>\n",
       "      <td>1.93</td>\n",
       "      <td>0</td>\n",
       "    </tr>\n",
       "  </tbody>\n",
       "</table>\n",
       "</div>"
      ],
      "text/plain": [
       "                     Country     Club_2019     WC  Height_m  Goals_2019\n",
       "Lionel Messi       Argentina  FC Barcelona  False      1.70          51\n",
       "Cristiano Ronaldo   Portugal   Juventus FC  False      1.87          28\n",
       "Neymar Junior         Brazil      Paris SG  False      1.75          23\n",
       "Kylian Mbappe         France      Paris SG   True      1.78          39\n",
       "Manuel Neuer         Germany     FC Bayern   True      1.93           0"
      ]
     },
     "execution_count": 6,
     "metadata": {},
     "output_type": "execute_result"
    }
   ],
   "source": [
    "# creating a DataFrame object\n",
    "df = pd.DataFrame(data = data, index = names)\n",
    "df"
   ]
  },
  {
   "cell_type": "code",
   "execution_count": 7,
   "id": "0ec0dce4-f341-4feb-8816-edccf9e6dbf0",
   "metadata": {},
   "outputs": [
    {
     "data": {
      "text/html": [
       "<div>\n",
       "<style scoped>\n",
       "    .dataframe tbody tr th:only-of-type {\n",
       "        vertical-align: middle;\n",
       "    }\n",
       "\n",
       "    .dataframe tbody tr th {\n",
       "        vertical-align: top;\n",
       "    }\n",
       "\n",
       "    .dataframe thead th {\n",
       "        text-align: right;\n",
       "    }\n",
       "</style>\n",
       "<table border=\"1\" class=\"dataframe\">\n",
       "  <thead>\n",
       "    <tr style=\"text-align: right;\">\n",
       "      <th></th>\n",
       "      <th>Country</th>\n",
       "      <th>Club_2019</th>\n",
       "      <th>WC</th>\n",
       "      <th>Height_m</th>\n",
       "      <th>Goals_2019</th>\n",
       "    </tr>\n",
       "    <tr>\n",
       "      <th>Name</th>\n",
       "      <th></th>\n",
       "      <th></th>\n",
       "      <th></th>\n",
       "      <th></th>\n",
       "      <th></th>\n",
       "    </tr>\n",
       "  </thead>\n",
       "  <tbody>\n",
       "    <tr>\n",
       "      <th>Lionel Messi</th>\n",
       "      <td>Argentina</td>\n",
       "      <td>FC Barcelona</td>\n",
       "      <td>False</td>\n",
       "      <td>1.70</td>\n",
       "      <td>51</td>\n",
       "    </tr>\n",
       "    <tr>\n",
       "      <th>Cristiano Ronaldo</th>\n",
       "      <td>Portugal</td>\n",
       "      <td>Juventus FC</td>\n",
       "      <td>False</td>\n",
       "      <td>1.87</td>\n",
       "      <td>28</td>\n",
       "    </tr>\n",
       "    <tr>\n",
       "      <th>Neymar Junior</th>\n",
       "      <td>Brazil</td>\n",
       "      <td>Paris SG</td>\n",
       "      <td>False</td>\n",
       "      <td>1.75</td>\n",
       "      <td>23</td>\n",
       "    </tr>\n",
       "    <tr>\n",
       "      <th>Kylian Mbappe</th>\n",
       "      <td>France</td>\n",
       "      <td>Paris SG</td>\n",
       "      <td>True</td>\n",
       "      <td>1.78</td>\n",
       "      <td>39</td>\n",
       "    </tr>\n",
       "    <tr>\n",
       "      <th>Manuel Neuer</th>\n",
       "      <td>Germany</td>\n",
       "      <td>FC Bayern</td>\n",
       "      <td>True</td>\n",
       "      <td>1.93</td>\n",
       "      <td>0</td>\n",
       "    </tr>\n",
       "  </tbody>\n",
       "</table>\n",
       "</div>"
      ],
      "text/plain": [
       "                     Country     Club_2019     WC  Height_m  Goals_2019\n",
       "Name                                                                   \n",
       "Lionel Messi       Argentina  FC Barcelona  False      1.70          51\n",
       "Cristiano Ronaldo   Portugal   Juventus FC  False      1.87          28\n",
       "Neymar Junior         Brazil      Paris SG  False      1.75          23\n",
       "Kylian Mbappe         France      Paris SG   True      1.78          39\n",
       "Manuel Neuer         Germany     FC Bayern   True      1.93           0"
      ]
     },
     "execution_count": 7,
     "metadata": {},
     "output_type": "execute_result"
    }
   ],
   "source": [
    "# assigning a name for the index\n",
    "df.index.name = \"Name\"\n",
    "df"
   ]
  },
  {
   "cell_type": "markdown",
   "id": "179ae711-025d-4e24-b550-48663f8f2b8d",
   "metadata": {},
   "source": [
    "#### 2. Having the rows in lists (‘nested lists scenario’)"
   ]
  },
  {
   "cell_type": "code",
   "execution_count": 9,
   "id": "cb458c33-1f27-44ca-9073-ea8cfdc7282a",
   "metadata": {},
   "outputs": [],
   "source": [
    "messi = [\"Lionel Messi\", \"Argentina\", \"FC Barcelona\", False, 1.7, 51]\n",
    "ronaldo = [\"Cristiano Ronaldo\", \"Portugal\", \"Juventus FC\", False, 1.87, 28]\n",
    "neymar = [\"Neymar Junior\", \"Brazil\", \"Paris SG\", False, 1.75, 23]\n",
    "mbappe = [\"Kylian Mbappe\", \"France\", \"Paris SG\", True, 1.78, 39]\n",
    "neuer = [\"Manuel Neuer\", \"Germany\", \"FC Bayern\", True, 1.93, 0]"
   ]
  },
  {
   "cell_type": "code",
   "execution_count": 10,
   "id": "55e7634d-62ba-42a5-bef1-32fa2e4a64c5",
   "metadata": {},
   "outputs": [],
   "source": [
    "# plus, having the desired column headers in the list “headers.”\n",
    "headers = [\"Name\", \"Country\", \"Club_2019\", \"WC\", \"Height_m\", \"Goals_2019\" ]"
   ]
  },
  {
   "cell_type": "code",
   "execution_count": 11,
   "id": "b9ee51ba-e812-499e-aa16-1faa1dad0326",
   "metadata": {},
   "outputs": [
    {
     "data": {
      "text/plain": [
       "[['Lionel Messi', 'Argentina', 'FC Barcelona', False, 1.7, 51],\n",
       " ['Cristiano Ronaldo', 'Portugal', 'Juventus FC', False, 1.87, 28],\n",
       " ['Neymar Junior', 'Brazil', 'Paris SG', False, 1.75, 23],\n",
       " ['Kylian Mbappe', 'France', 'Paris SG', True, 1.78, 39],\n",
       " ['Manuel Neuer', 'Germany', 'FC Bayern', True, 1.93, 0]]"
      ]
     },
     "execution_count": 11,
     "metadata": {},
     "output_type": "execute_result"
    }
   ],
   "source": [
    "# creating a list of lists\n",
    "data = [messi, ronaldo, neymar, mbappe, neuer]\n",
    "data"
   ]
  },
  {
   "cell_type": "code",
   "execution_count": 20,
   "id": "01a4b954-ec29-4775-be74-0368db45e5ff",
   "metadata": {},
   "outputs": [
    {
     "data": {
      "text/html": [
       "<div>\n",
       "<style scoped>\n",
       "    .dataframe tbody tr th:only-of-type {\n",
       "        vertical-align: middle;\n",
       "    }\n",
       "\n",
       "    .dataframe tbody tr th {\n",
       "        vertical-align: top;\n",
       "    }\n",
       "\n",
       "    .dataframe thead th {\n",
       "        text-align: right;\n",
       "    }\n",
       "</style>\n",
       "<table border=\"1\" class=\"dataframe\">\n",
       "  <thead>\n",
       "    <tr style=\"text-align: right;\">\n",
       "      <th></th>\n",
       "      <th>Name</th>\n",
       "      <th>Country</th>\n",
       "      <th>Club_2019</th>\n",
       "      <th>WC</th>\n",
       "      <th>Height_m</th>\n",
       "      <th>Goals_2019</th>\n",
       "    </tr>\n",
       "  </thead>\n",
       "  <tbody>\n",
       "    <tr>\n",
       "      <th>0</th>\n",
       "      <td>Lionel Messi</td>\n",
       "      <td>Argentina</td>\n",
       "      <td>FC Barcelona</td>\n",
       "      <td>False</td>\n",
       "      <td>1.70</td>\n",
       "      <td>51</td>\n",
       "    </tr>\n",
       "    <tr>\n",
       "      <th>1</th>\n",
       "      <td>Cristiano Ronaldo</td>\n",
       "      <td>Portugal</td>\n",
       "      <td>Juventus FC</td>\n",
       "      <td>False</td>\n",
       "      <td>1.87</td>\n",
       "      <td>28</td>\n",
       "    </tr>\n",
       "    <tr>\n",
       "      <th>2</th>\n",
       "      <td>Neymar Junior</td>\n",
       "      <td>Brazil</td>\n",
       "      <td>Paris SG</td>\n",
       "      <td>False</td>\n",
       "      <td>1.75</td>\n",
       "      <td>23</td>\n",
       "    </tr>\n",
       "    <tr>\n",
       "      <th>3</th>\n",
       "      <td>Kylian Mbappe</td>\n",
       "      <td>France</td>\n",
       "      <td>Paris SG</td>\n",
       "      <td>True</td>\n",
       "      <td>1.78</td>\n",
       "      <td>39</td>\n",
       "    </tr>\n",
       "    <tr>\n",
       "      <th>4</th>\n",
       "      <td>Manuel Neuer</td>\n",
       "      <td>Germany</td>\n",
       "      <td>FC Bayern</td>\n",
       "      <td>True</td>\n",
       "      <td>1.93</td>\n",
       "      <td>0</td>\n",
       "    </tr>\n",
       "  </tbody>\n",
       "</table>\n",
       "</div>"
      ],
      "text/plain": [
       "                Name    Country     Club_2019     WC  Height_m  Goals_2019\n",
       "0       Lionel Messi  Argentina  FC Barcelona  False      1.70          51\n",
       "1  Cristiano Ronaldo   Portugal   Juventus FC  False      1.87          28\n",
       "2      Neymar Junior     Brazil      Paris SG  False      1.75          23\n",
       "3      Kylian Mbappe     France      Paris SG   True      1.78          39\n",
       "4       Manuel Neuer    Germany     FC Bayern   True      1.93           0"
      ]
     },
     "execution_count": 20,
     "metadata": {},
     "output_type": "execute_result"
    }
   ],
   "source": [
    "# creating the DataFrame object df with pd.DataFrame()\n",
    "# passing the nested list “data” to the parameter data \n",
    "# defining that “headers” should be the column headers of the DataFrame with columns = headers.\n",
    "players = pd.DataFrame(data=data, columns=headers)\n",
    "players "
   ]
  },
  {
   "cell_type": "code",
   "execution_count": 21,
   "id": "e16110c0-6367-421a-887a-8dcba81a31a9",
   "metadata": {},
   "outputs": [
    {
     "data": {
      "text/html": [
       "<div>\n",
       "<style scoped>\n",
       "    .dataframe tbody tr th:only-of-type {\n",
       "        vertical-align: middle;\n",
       "    }\n",
       "\n",
       "    .dataframe tbody tr th {\n",
       "        vertical-align: top;\n",
       "    }\n",
       "\n",
       "    .dataframe thead th {\n",
       "        text-align: right;\n",
       "    }\n",
       "</style>\n",
       "<table border=\"1\" class=\"dataframe\">\n",
       "  <thead>\n",
       "    <tr style=\"text-align: right;\">\n",
       "      <th></th>\n",
       "      <th>Country</th>\n",
       "      <th>Club_2019</th>\n",
       "      <th>WC</th>\n",
       "      <th>Height_m</th>\n",
       "      <th>Goals_2019</th>\n",
       "    </tr>\n",
       "    <tr>\n",
       "      <th>Name</th>\n",
       "      <th></th>\n",
       "      <th></th>\n",
       "      <th></th>\n",
       "      <th></th>\n",
       "      <th></th>\n",
       "    </tr>\n",
       "  </thead>\n",
       "  <tbody>\n",
       "    <tr>\n",
       "      <th>Lionel Messi</th>\n",
       "      <td>Argentina</td>\n",
       "      <td>FC Barcelona</td>\n",
       "      <td>False</td>\n",
       "      <td>1.70</td>\n",
       "      <td>51</td>\n",
       "    </tr>\n",
       "    <tr>\n",
       "      <th>Cristiano Ronaldo</th>\n",
       "      <td>Portugal</td>\n",
       "      <td>Juventus FC</td>\n",
       "      <td>False</td>\n",
       "      <td>1.87</td>\n",
       "      <td>28</td>\n",
       "    </tr>\n",
       "    <tr>\n",
       "      <th>Neymar Junior</th>\n",
       "      <td>Brazil</td>\n",
       "      <td>Paris SG</td>\n",
       "      <td>False</td>\n",
       "      <td>1.75</td>\n",
       "      <td>23</td>\n",
       "    </tr>\n",
       "    <tr>\n",
       "      <th>Kylian Mbappe</th>\n",
       "      <td>France</td>\n",
       "      <td>Paris SG</td>\n",
       "      <td>True</td>\n",
       "      <td>1.78</td>\n",
       "      <td>39</td>\n",
       "    </tr>\n",
       "    <tr>\n",
       "      <th>Manuel Neuer</th>\n",
       "      <td>Germany</td>\n",
       "      <td>FC Bayern</td>\n",
       "      <td>True</td>\n",
       "      <td>1.93</td>\n",
       "      <td>0</td>\n",
       "    </tr>\n",
       "  </tbody>\n",
       "</table>\n",
       "</div>"
      ],
      "text/plain": [
       "                     Country     Club_2019     WC  Height_m  Goals_2019\n",
       "Name                                                                   \n",
       "Lionel Messi       Argentina  FC Barcelona  False      1.70          51\n",
       "Cristiano Ronaldo   Portugal   Juventus FC  False      1.87          28\n",
       "Neymar Junior         Brazil      Paris SG  False      1.75          23\n",
       "Kylian Mbappe         France      Paris SG   True      1.78          39\n",
       "Manuel Neuer         Germany     FC Bayern   True      1.93           0"
      ]
     },
     "execution_count": 21,
     "metadata": {},
     "output_type": "execute_result"
    }
   ],
   "source": [
    "players.set_index(\"Name\")"
   ]
  },
  {
   "cell_type": "markdown",
   "id": "03d4acb1-871c-44e5-8610-5b9b85bd80c3",
   "metadata": {},
   "source": [
    "#### 3. Starting with a dictionary data that has the wrong data organization"
   ]
  },
  {
   "cell_type": "code",
   "execution_count": 22,
   "id": "cf298d93-ec5c-4c5e-8e9f-db814f62457f",
   "metadata": {},
   "outputs": [],
   "source": [
    "# messy data\n",
    "data = {\"Lionel Messi\": [\"Argentina\", \"FC Barcelona\", False, 1.7, 51],\n",
    "    \t\"Cristiano Ronaldo\": [\"Portugal\", \"Juventus FC\", False, 1.87, 28],\n",
    "    \t\"Neymar Junior\": [\"Brazil\", \"Paris SG\", False, 1.75, 23],\n",
    "    \t\"Kylian Mbappe\": [ \"France\", \"Paris SG\", True, 1.78, 39],\n",
    "    \t\"Manuel Neuer\": [\"Germany\", \"FC Bayern\", True, 1.93, 0]\n",
    "  \t}"
   ]
  },
  {
   "cell_type": "code",
   "execution_count": 23,
   "id": "91031e4c-fd66-499b-8d48-183cc0e41440",
   "metadata": {},
   "outputs": [
    {
     "data": {
      "text/plain": [
       "[['Lionel Messi', 'Argentina', 'FC Barcelona', False, 1.7, 51],\n",
       " ['Cristiano Ronaldo', 'Portugal', 'Juventus FC', False, 1.87, 28],\n",
       " ['Neymar Junior', 'Brazil', 'Paris SG', False, 1.75, 23],\n",
       " ['Kylian Mbappe', 'France', 'Paris SG', True, 1.78, 39],\n",
       " ['Manuel Neuer', 'Germany', 'FC Bayern', True, 1.93, 0]]"
      ]
     },
     "execution_count": 23,
     "metadata": {},
     "output_type": "execute_result"
    }
   ],
   "source": [
    "# reorganize the dictionary data and create a nested list\n",
    "nested_list = []\n",
    "for key, value in data.items():\n",
    "\tvalue.insert(0, key)\n",
    "\tnested_list.append(value)\n",
    "nested_list"
   ]
  },
  {
   "cell_type": "code",
   "execution_count": 24,
   "id": "7e258098-562b-49e9-8d33-29e8f2aa36bb",
   "metadata": {},
   "outputs": [
    {
     "data": {
      "text/html": [
       "<div>\n",
       "<style scoped>\n",
       "    .dataframe tbody tr th:only-of-type {\n",
       "        vertical-align: middle;\n",
       "    }\n",
       "\n",
       "    .dataframe tbody tr th {\n",
       "        vertical-align: top;\n",
       "    }\n",
       "\n",
       "    .dataframe thead th {\n",
       "        text-align: right;\n",
       "    }\n",
       "</style>\n",
       "<table border=\"1\" class=\"dataframe\">\n",
       "  <thead>\n",
       "    <tr style=\"text-align: right;\">\n",
       "      <th></th>\n",
       "      <th>Name</th>\n",
       "      <th>Country</th>\n",
       "      <th>Club_2019</th>\n",
       "      <th>WC</th>\n",
       "      <th>Height_m</th>\n",
       "      <th>Goals_2019</th>\n",
       "    </tr>\n",
       "  </thead>\n",
       "  <tbody>\n",
       "    <tr>\n",
       "      <th>0</th>\n",
       "      <td>Lionel Messi</td>\n",
       "      <td>Argentina</td>\n",
       "      <td>FC Barcelona</td>\n",
       "      <td>False</td>\n",
       "      <td>1.70</td>\n",
       "      <td>51</td>\n",
       "    </tr>\n",
       "    <tr>\n",
       "      <th>1</th>\n",
       "      <td>Cristiano Ronaldo</td>\n",
       "      <td>Portugal</td>\n",
       "      <td>Juventus FC</td>\n",
       "      <td>False</td>\n",
       "      <td>1.87</td>\n",
       "      <td>28</td>\n",
       "    </tr>\n",
       "    <tr>\n",
       "      <th>2</th>\n",
       "      <td>Neymar Junior</td>\n",
       "      <td>Brazil</td>\n",
       "      <td>Paris SG</td>\n",
       "      <td>False</td>\n",
       "      <td>1.75</td>\n",
       "      <td>23</td>\n",
       "    </tr>\n",
       "    <tr>\n",
       "      <th>3</th>\n",
       "      <td>Kylian Mbappe</td>\n",
       "      <td>France</td>\n",
       "      <td>Paris SG</td>\n",
       "      <td>True</td>\n",
       "      <td>1.78</td>\n",
       "      <td>39</td>\n",
       "    </tr>\n",
       "    <tr>\n",
       "      <th>4</th>\n",
       "      <td>Manuel Neuer</td>\n",
       "      <td>Germany</td>\n",
       "      <td>FC Bayern</td>\n",
       "      <td>True</td>\n",
       "      <td>1.93</td>\n",
       "      <td>0</td>\n",
       "    </tr>\n",
       "  </tbody>\n",
       "</table>\n",
       "</div>"
      ],
      "text/plain": [
       "                Name    Country     Club_2019     WC  Height_m  Goals_2019\n",
       "0       Lionel Messi  Argentina  FC Barcelona  False      1.70          51\n",
       "1  Cristiano Ronaldo   Portugal   Juventus FC  False      1.87          28\n",
       "2      Neymar Junior     Brazil      Paris SG  False      1.75          23\n",
       "3      Kylian Mbappe     France      Paris SG   True      1.78          39\n",
       "4       Manuel Neuer    Germany     FC Bayern   True      1.93           0"
      ]
     },
     "execution_count": 24,
     "metadata": {},
     "output_type": "execute_result"
    }
   ],
   "source": [
    "# continue with scenario 2\n",
    "df = pd.DataFrame(data = nested_list, columns = headers)\n",
    "df.set_index(\"Name\")\n",
    "df"
   ]
  },
  {
   "cell_type": "markdown",
   "id": "687842c2-67d7-4907-bd34-1d0e590a049d",
   "metadata": {},
   "source": [
    "### How to load datasets from local files into Pandas DataFrames "
   ]
  },
  {
   "cell_type": "markdown",
   "id": "3ae16844-4641-4ce8-95a9-47943a1c3b0e",
   "metadata": {},
   "source": [
    "Datasets can be loaded from local files on your computer into Pandas with methods from the `pd.read_X()` family:\n",
    "\n",
    "- Reading CSV files with pd.read_csv()\n",
    "- Reading Excel files with pd.read_excel()\n",
    "- Reading JSON files with pd.read_json()"
   ]
  },
  {
   "cell_type": "code",
   "execution_count": null,
   "id": "79dc8984-b91a-4def-874c-cd69b4aa05b5",
   "metadata": {},
   "outputs": [],
   "source": []
  }
 ],
 "metadata": {
  "kernelspec": {
   "display_name": "Python 3 (ipykernel)",
   "language": "python",
   "name": "python3"
  },
  "language_info": {
   "codemirror_mode": {
    "name": "ipython",
    "version": 3
   },
   "file_extension": ".py",
   "mimetype": "text/x-python",
   "name": "python",
   "nbconvert_exporter": "python",
   "pygments_lexer": "ipython3",
   "version": "3.12.7"
  }
 },
 "nbformat": 4,
 "nbformat_minor": 5
}
