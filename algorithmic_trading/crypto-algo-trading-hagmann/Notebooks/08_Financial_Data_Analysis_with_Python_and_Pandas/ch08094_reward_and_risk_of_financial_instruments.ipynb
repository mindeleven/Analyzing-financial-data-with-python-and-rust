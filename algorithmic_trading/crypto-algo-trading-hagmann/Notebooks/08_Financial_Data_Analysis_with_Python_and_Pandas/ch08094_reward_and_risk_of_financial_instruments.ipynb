{
 "cells": [
  {
   "cell_type": "markdown",
   "id": "4078627d-b74a-4a4d-89be-c72f4ac3f063",
   "metadata": {},
   "source": [
    "## Reward and Risk of Financial Instruments"
   ]
  },
  {
   "cell_type": "markdown",
   "id": "4a1b8e31-83c3-4a53-8c54-92f37c1fe6c9",
   "metadata": {},
   "source": [
    "*[Coding along with the Udemy course [Cryptocurrency Algorithmic Trading with Python and Binance](https://www.udemy.com/course/cryptocurrency-algorithmic-trading-with-python-and-binance/) by Alexander Hagman]*"
   ]
  },
  {
   "cell_type": "markdown",
   "id": "c2bbc289-a8d3-4837-bea1-6dba0215d290",
   "metadata": {},
   "source": [
    "__General Rule in Finance/Investing Industry: Higher Risk must be rewarded with higher Returns__."
   ]
  },
  {
   "cell_type": "markdown",
   "id": "7eff2a14-bd2a-4ce2-b9d1-c4a2cc59cfd8",
   "metadata": {},
   "source": [
    "#### <span style=\"color:green\">__Claude.ai, can you please give me an interpretation of what the general rule in finance, that \"Higher Risk must be rewarded with higher Returns\" means?__</span>\n",
    "\n",
    ">The principle \"Higher Risk must be rewarded with higher Returns\" is a fundamental concept in finance that reflects the relationship between risk and potential reward. Here's a comprehensive interpretation:\n",
    "> \n",
    "> Core Meaning:\n",
    "> - Investors expect to be compensated for taking on additional risk\n",
    "> - The more uncertainty or potential for loss in an investment, the higher the expected return should be\n",
    "> - This is essentially a risk premium - extra return to motivate investors to accept higher risk\n",
    "> \n",
    "> Practical Examples:\n",
    "> 1. Government Bonds (Low Risk)\n",
    "> - Very safe investments\n",
    "> - Low interest rates/returns\n",
    "> - Nearly guaranteed repayment\n",
    "> \n",
    "> 2. Startup Stocks (High Risk)\n",
    "> - Potential for massive gains\n",
    "> - High chance of complete failure\n",
    "> - Much higher potential returns to compensate for high probability of losing entire investment\n",
    "> \n",
    "> Underlying Economic Logic:\n",
    "> - Rational investors won't take extra risk without potential for extra reward\n",
    "> - If high-risk investments had same returns as low-risk ones, no one would choose the risky option\n",
    "> - The premium compensates for:\n",
    ">   - Potential capital loss\n",
    ">   - Opportunity costs\n",
    ">   - Emotional stress of uncertainty\n",
    ">   - Reduced liquidity\n",
    "> \n",
    "> Visualization of Risk-Return Tradeoff:\n",
    "> ```\n",
    "> Returns\n",
    "> ^\n",
    "> |         * Venture Capital\n",
    "> |      * Small Cap Stocks\n",
    "> |   * Mid Cap Stocks\n",
    "> | * Large Cap Stocks\n",
    "> | * Corporate Bonds\n",
    "> |* Government Bonds\n",
    "> +--------------------------> Risk Level\n",
    "> ```"
   ]
  },
  {
   "cell_type": "code",
   "execution_count": 5,
   "id": "24038073-3f43-4fd7-adb7-e85c880caf7a",
   "metadata": {},
   "outputs": [],
   "source": [
    "import pandas as pd\n",
    "import numpy as np\n",
    "import matplotlib.pyplot as plt\n",
    "pd.options.display.float_format = '{:.4f}'.format"
   ]
  },
  {
   "cell_type": "code",
   "execution_count": 6,
   "id": "d2f45ff5-024b-4aa9-8042-a40dac9cd3ff",
   "metadata": {},
   "outputs": [
    {
     "data": {
      "text/html": [
       "<div>\n",
       "<style scoped>\n",
       "    .dataframe tbody tr th:only-of-type {\n",
       "        vertical-align: middle;\n",
       "    }\n",
       "\n",
       "    .dataframe tbody tr th {\n",
       "        vertical-align: top;\n",
       "    }\n",
       "\n",
       "    .dataframe thead th {\n",
       "        text-align: right;\n",
       "    }\n",
       "</style>\n",
       "<table border=\"1\" class=\"dataframe\">\n",
       "  <thead>\n",
       "    <tr style=\"text-align: right;\">\n",
       "      <th></th>\n",
       "      <th>Price</th>\n",
       "      <th>Returns</th>\n",
       "    </tr>\n",
       "    <tr>\n",
       "      <th>Date</th>\n",
       "      <th></th>\n",
       "      <th></th>\n",
       "    </tr>\n",
       "  </thead>\n",
       "  <tbody>\n",
       "    <tr>\n",
       "      <th>2014-10-01</th>\n",
       "      <td>45.9000</td>\n",
       "      <td>NaN</td>\n",
       "    </tr>\n",
       "    <tr>\n",
       "      <th>2014-10-02</th>\n",
       "      <td>45.7600</td>\n",
       "      <td>-0.0031</td>\n",
       "    </tr>\n",
       "    <tr>\n",
       "      <th>2014-10-03</th>\n",
       "      <td>46.0900</td>\n",
       "      <td>0.0072</td>\n",
       "    </tr>\n",
       "    <tr>\n",
       "      <th>2014-10-06</th>\n",
       "      <td>46.0900</td>\n",
       "      <td>0.0000</td>\n",
       "    </tr>\n",
       "    <tr>\n",
       "      <th>2014-10-07</th>\n",
       "      <td>45.5300</td>\n",
       "      <td>-0.0122</td>\n",
       "    </tr>\n",
       "    <tr>\n",
       "      <th>...</th>\n",
       "      <td>...</td>\n",
       "      <td>...</td>\n",
       "    </tr>\n",
       "    <tr>\n",
       "      <th>2021-05-24</th>\n",
       "      <td>250.7800</td>\n",
       "      <td>0.0229</td>\n",
       "    </tr>\n",
       "    <tr>\n",
       "      <th>2021-05-25</th>\n",
       "      <td>251.7200</td>\n",
       "      <td>0.0037</td>\n",
       "    </tr>\n",
       "    <tr>\n",
       "      <th>2021-05-26</th>\n",
       "      <td>251.4900</td>\n",
       "      <td>-0.0009</td>\n",
       "    </tr>\n",
       "    <tr>\n",
       "      <th>2021-05-27</th>\n",
       "      <td>249.3100</td>\n",
       "      <td>-0.0087</td>\n",
       "    </tr>\n",
       "    <tr>\n",
       "      <th>2021-05-28</th>\n",
       "      <td>249.6800</td>\n",
       "      <td>0.0015</td>\n",
       "    </tr>\n",
       "  </tbody>\n",
       "</table>\n",
       "<p>1677 rows × 2 columns</p>\n",
       "</div>"
      ],
      "text/plain": [
       "              Price  Returns\n",
       "Date                        \n",
       "2014-10-01  45.9000      NaN\n",
       "2014-10-02  45.7600  -0.0031\n",
       "2014-10-03  46.0900   0.0072\n",
       "2014-10-06  46.0900   0.0000\n",
       "2014-10-07  45.5300  -0.0122\n",
       "...             ...      ...\n",
       "2021-05-24 250.7800   0.0229\n",
       "2021-05-25 251.7200   0.0037\n",
       "2021-05-26 251.4900  -0.0009\n",
       "2021-05-27 249.3100  -0.0087\n",
       "2021-05-28 249.6800   0.0015\n",
       "\n",
       "[1677 rows x 2 columns]"
      ]
     },
     "execution_count": 6,
     "metadata": {},
     "output_type": "execute_result"
    }
   ],
   "source": [
    "msft = pd.read_csv(\"../../assets/data/msft.csv\", index_col = \"Date\", parse_dates = [\"Date\"])\n",
    "msft"
   ]
  },
  {
   "cell_type": "code",
   "execution_count": 4,
   "id": "5ba3d13a-0475-40c5-a26c-e10af117c351",
   "metadata": {},
   "outputs": [
    {
     "data": {
      "image/png": "[encoded data removed]",
      "text/plain": [
       "<Figure size 1500x800 with 1 Axes>"
      ]
     },
     "metadata": {},
     "output_type": "display_data"
    }
   ],
   "source": [
    "msft.Price.plot(figsize = (15, 8), fontsize = 13)\n",
    "plt.legend(fontsize = 13)\n",
    "plt.show()"
   ]
  },
  {
   "cell_type": "markdown",
   "id": "22681cf4-c91b-466c-b8a5-4fbe6f4527a8",
   "metadata": {},
   "source": [
    "In every investment there are two major aspects:\n",
    "\n",
    "- The __reward__ which is *positive returns*\n",
    "- And the __risk__ which is the *volatility of returns*\n",
    "\n",
    "Now let's measure the reward in one single number and the risk too.\n",
    "\n",
    "- The most popular metric for rewards is the __arithmetric mean return__\n",
    "- The most popular metric for risk/volatility is the __standard deviation of returns__"
   ]
  },
  {
   "cell_type": "code",
   "execution_count": 11,
   "id": "a45ca6a3-a143-4448-9157-b4e5a5972865",
   "metadata": {},
   "outputs": [
    {
     "data": {
      "text/html": [
       "<div>\n",
       "<style scoped>\n",
       "    .dataframe tbody tr th:only-of-type {\n",
       "        vertical-align: middle;\n",
       "    }\n",
       "\n",
       "    .dataframe tbody tr th {\n",
       "        vertical-align: top;\n",
       "    }\n",
       "\n",
       "    .dataframe thead th {\n",
       "        text-align: right;\n",
       "    }\n",
       "</style>\n",
       "<table border=\"1\" class=\"dataframe\">\n",
       "  <thead>\n",
       "    <tr style=\"text-align: right;\">\n",
       "      <th></th>\n",
       "      <th>Price</th>\n",
       "      <th>Returns</th>\n",
       "    </tr>\n",
       "  </thead>\n",
       "  <tbody>\n",
       "    <tr>\n",
       "      <th>count</th>\n",
       "      <td>1677.0000</td>\n",
       "      <td>1676.0000</td>\n",
       "    </tr>\n",
       "    <tr>\n",
       "      <th>mean</th>\n",
       "      <td>106.3144</td>\n",
       "      <td>0.0012</td>\n",
       "    </tr>\n",
       "    <tr>\n",
       "      <th>std</th>\n",
       "      <td>60.7722</td>\n",
       "      <td>0.0173</td>\n",
       "    </tr>\n",
       "    <tr>\n",
       "      <th>min</th>\n",
       "      <td>40.2900</td>\n",
       "      <td>-0.1474</td>\n",
       "    </tr>\n",
       "    <tr>\n",
       "      <th>25%</th>\n",
       "      <td>54.8300</td>\n",
       "      <td>-0.0062</td>\n",
       "    </tr>\n",
       "    <tr>\n",
       "      <th>50%</th>\n",
       "      <td>89.7100</td>\n",
       "      <td>0.0009</td>\n",
       "    </tr>\n",
       "    <tr>\n",
       "      <th>75%</th>\n",
       "      <td>138.9000</td>\n",
       "      <td>0.0091</td>\n",
       "    </tr>\n",
       "    <tr>\n",
       "      <th>max</th>\n",
       "      <td>261.9700</td>\n",
       "      <td>0.1422</td>\n",
       "    </tr>\n",
       "  </tbody>\n",
       "</table>\n",
       "</div>"
      ],
      "text/plain": [
       "          Price   Returns\n",
       "count 1677.0000 1676.0000\n",
       "mean   106.3144    0.0012\n",
       "std     60.7722    0.0173\n",
       "min     40.2900   -0.1474\n",
       "25%     54.8300   -0.0062\n",
       "50%     89.7100    0.0009\n",
       "75%    138.9000    0.0091\n",
       "max    261.9700    0.1422"
      ]
     },
     "execution_count": 11,
     "metadata": {},
     "output_type": "execute_result"
    }
   ],
   "source": [
    "msft.describe() # summary statistics on numerical columns"
   ]
  },
  {
   "cell_type": "code",
   "execution_count": 8,
   "id": "a9228cc3-ed3d-494c-b7ac-72ac400fc9c3",
   "metadata": {},
   "outputs": [
    {
     "data": {
      "text/plain": [
       "np.float64(0.0011597817982066949)"
      ]
     },
     "execution_count": 8,
     "metadata": {},
     "output_type": "execute_result"
    }
   ],
   "source": [
    "mu = msft.Returns.mean() # arithmetic mean return -> Reward\n",
    "mu"
   ]
  },
  {
   "cell_type": "code",
   "execution_count": 15,
   "id": "35a0f292-bc36-4bb9-a400-c2ab94a57515",
   "metadata": {},
   "outputs": [
    {
     "name": "stdout",
     "output_type": "stream",
     "text": [
      "0.11597817982066949 %\n"
     ]
    }
   ],
   "source": [
    "print(mu * 100,\"%\")"
   ]
  },
  {
   "cell_type": "code",
   "execution_count": 12,
   "id": "ce39a71c-d968-4fd4-9c78-f48aef959c39",
   "metadata": {},
   "outputs": [
    {
     "data": {
      "text/plain": [
       "np.float64(0.01725607843347787)"
      ]
     },
     "execution_count": 12,
     "metadata": {},
     "output_type": "execute_result"
    }
   ],
   "source": [
    "sigma = msft.Returns.std() # standard deviation of returns -> Risk/Volatility\n",
    "sigma"
   ]
  },
  {
   "cell_type": "code",
   "execution_count": 16,
   "id": "e4d7e639-b612-4aff-874b-60a37c8a1595",
   "metadata": {},
   "outputs": [
    {
     "name": "stdout",
     "output_type": "stream",
     "text": [
      "1.7256078433477868 %\n"
     ]
    }
   ],
   "source": [
    "print(sigma * 100,\"%\")"
   ]
  },
  {
   "cell_type": "code",
   "execution_count": 17,
   "id": "a61f8d02-d673-4c89-a50f-860d5299121f",
   "metadata": {},
   "outputs": [
    {
     "data": {
      "text/plain": [
       "np.float64(0.01725607843347787)"
      ]
     },
     "execution_count": 17,
     "metadata": {},
     "output_type": "execute_result"
    }
   ],
   "source": [
    "# the standard deviation is the square root of the variance\n",
    "np.sqrt(msft.Returns.var())"
   ]
  },
  {
   "cell_type": "code",
   "execution_count": null,
   "id": "b0702fe4-00bf-4253-843d-00ed9a414d79",
   "metadata": {},
   "outputs": [],
   "source": []
  }
 ],
 "metadata": {
  "kernelspec": {
   "display_name": "Python 3 (ipykernel)",
   "language": "python",
   "name": "python3"
  },
  "language_info": {
   "codemirror_mode": {
    "name": "ipython",
    "version": 3
   },
   "file_extension": ".py",
   "mimetype": "text/x-python",
   "name": "python",
   "nbconvert_exporter": "python",
   "pygments_lexer": "ipython3",
   "version": "3.12.7"
  }
 },
 "nbformat": 4,
 "nbformat_minor": 5
}
