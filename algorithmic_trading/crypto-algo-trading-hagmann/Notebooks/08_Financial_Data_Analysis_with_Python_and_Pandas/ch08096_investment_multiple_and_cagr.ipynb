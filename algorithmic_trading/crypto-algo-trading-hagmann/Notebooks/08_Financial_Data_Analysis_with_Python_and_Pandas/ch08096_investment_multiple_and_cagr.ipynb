{
 "cells": [
  {
   "cell_type": "markdown",
   "id": "110f8ca9-0818-42fb-8980-6ea7ec7f1047",
   "metadata": {},
   "source": [
    "##  Investment Multiple and Compound Annual Growth Rate (CAGR)"
   ]
  },
  {
   "cell_type": "markdown",
   "id": "f145f0f3-3b35-4d92-91e2-44c67afcac02",
   "metadata": {},
   "source": [
    "*[Coding along with the Udemy course [Cryptocurrency Algorithmic Trading with Python and Binance](https://www.udemy.com/course/cryptocurrency-algorithmic-trading-with-python-and-binance/) by Alexander Hagman]*"
   ]
  },
  {
   "cell_type": "markdown",
   "id": "68e78437-acd9-4b8e-ba41-8416e62b04f7",
   "metadata": {},
   "source": [
    "__Compared to the arithmetic mean return, the Investment Multiple and the Compound Annual Growth Rate (CAGR) are two alternative reward metrics that are more intuitive and easier to interpret.__"
   ]
  },
  {
   "cell_type": "markdown",
   "id": "6175d5bf-58ad-41cf-8a42-ea5593bf6006",
   "metadata": {},
   "source": [
    "#### <span style=\"color:green\">__Claude.ai, please give a brief explanation of what the Investment Multiple and the Compound Annual Growth Rate (CAGR) is and why it's of advantage to calculate the CAGR.__<span>\n",
    "> \n",
    "> Investment Multiple:\n",
    "> - Also called Total Value to Paid-In Capital (TVPI)\n",
    "> - Calculates total value returned divided by total amount invested\n",
    "> - Example: If you invest \\\\$100 and it becomes \\\\$300, the investment multiple is 3x\n",
    "> - Simple way to understand absolute return\n",
    "> - Formula: Total Value Returned / Total Capital Invested\n",
    "> \n",
    "> Compound Annual Growth Rate (CAGR):\n",
    "> - Measures annual return rate, accounting for compounding\n",
    "> - Shows smooth, consistent growth rate over a period\n",
    "> - Allows comparison of investments with different time horizons\n",
    "> - Accounts for time value of money\n",
    "> - Formula: (Ending Value / Beginning Value)^(1/n) - 1\n",
    ">   Where n = number of years\n",
    "> \n",
    "> Advantages of CAGR:\n",
    "> 1. Normalizes returns across different time periods\n",
    "> 2. Smooths out volatility\n",
    "> 3. Enables apples-to-apples comparison between investments\n",
    "> 4. Reflects true growth rate considering compounding\n",
    "> 5. More informative than simple total return\n",
    "> \n",
    "> Example:\n",
    "> ```python\n",
    "> # CAGR Calculation\n",
    "> initial_value = 100\n",
    "> final_value = 200\n",
    "> years = 5\n",
    "> \n",
    "> cagr = (final_value / initial_value) ** (1/years) - 1\n",
    "> print(f\"CAGR: {cagr * 100:.2f}%\")\n",
    "> ```"
   ]
  },
  {
   "cell_type": "code",
   "execution_count": 2,
   "id": "8b70d315-be57-4c82-97a6-f3eaeaea957e",
   "metadata": {},
   "outputs": [],
   "source": [
    "import pandas as pd\n",
    "import numpy as np\n",
    "import matplotlib.pyplot as plt\n",
    "pd.options.display.float_format = '{:.4f}'.format"
   ]
  },
  {
   "cell_type": "code",
   "execution_count": 4,
   "id": "8cd9b94e-ed5b-4d02-8f62-838a0aea3ac8",
   "metadata": {},
   "outputs": [
    {
     "data": {
      "text/html": [
       "<div>\n",
       "<style scoped>\n",
       "    .dataframe tbody tr th:only-of-type {\n",
       "        vertical-align: middle;\n",
       "    }\n",
       "\n",
       "    .dataframe tbody tr th {\n",
       "        vertical-align: top;\n",
       "    }\n",
       "\n",
       "    .dataframe thead th {\n",
       "        text-align: right;\n",
       "    }\n",
       "</style>\n",
       "<table border=\"1\" class=\"dataframe\">\n",
       "  <thead>\n",
       "    <tr style=\"text-align: right;\">\n",
       "      <th></th>\n",
       "      <th>Price</th>\n",
       "      <th>Returns</th>\n",
       "    </tr>\n",
       "    <tr>\n",
       "      <th>Date</th>\n",
       "      <th></th>\n",
       "      <th></th>\n",
       "    </tr>\n",
       "  </thead>\n",
       "  <tbody>\n",
       "    <tr>\n",
       "      <th>2014-10-01</th>\n",
       "      <td>45.9000</td>\n",
       "      <td>NaN</td>\n",
       "    </tr>\n",
       "    <tr>\n",
       "      <th>2014-10-02</th>\n",
       "      <td>45.7600</td>\n",
       "      <td>-0.0031</td>\n",
       "    </tr>\n",
       "    <tr>\n",
       "      <th>2014-10-03</th>\n",
       "      <td>46.0900</td>\n",
       "      <td>0.0072</td>\n",
       "    </tr>\n",
       "    <tr>\n",
       "      <th>2014-10-06</th>\n",
       "      <td>46.0900</td>\n",
       "      <td>0.0000</td>\n",
       "    </tr>\n",
       "    <tr>\n",
       "      <th>2014-10-07</th>\n",
       "      <td>45.5300</td>\n",
       "      <td>-0.0122</td>\n",
       "    </tr>\n",
       "    <tr>\n",
       "      <th>...</th>\n",
       "      <td>...</td>\n",
       "      <td>...</td>\n",
       "    </tr>\n",
       "    <tr>\n",
       "      <th>2021-05-24</th>\n",
       "      <td>250.7800</td>\n",
       "      <td>0.0229</td>\n",
       "    </tr>\n",
       "    <tr>\n",
       "      <th>2021-05-25</th>\n",
       "      <td>251.7200</td>\n",
       "      <td>0.0037</td>\n",
       "    </tr>\n",
       "    <tr>\n",
       "      <th>2021-05-26</th>\n",
       "      <td>251.4900</td>\n",
       "      <td>-0.0009</td>\n",
       "    </tr>\n",
       "    <tr>\n",
       "      <th>2021-05-27</th>\n",
       "      <td>249.3100</td>\n",
       "      <td>-0.0087</td>\n",
       "    </tr>\n",
       "    <tr>\n",
       "      <th>2021-05-28</th>\n",
       "      <td>249.6800</td>\n",
       "      <td>0.0015</td>\n",
       "    </tr>\n",
       "  </tbody>\n",
       "</table>\n",
       "<p>1677 rows × 2 columns</p>\n",
       "</div>"
      ],
      "text/plain": [
       "              Price  Returns\n",
       "Date                        \n",
       "2014-10-01  45.9000      NaN\n",
       "2014-10-02  45.7600  -0.0031\n",
       "2014-10-03  46.0900   0.0072\n",
       "2014-10-06  46.0900   0.0000\n",
       "2014-10-07  45.5300  -0.0122\n",
       "...             ...      ...\n",
       "2021-05-24 250.7800   0.0229\n",
       "2021-05-25 251.7200   0.0037\n",
       "2021-05-26 251.4900  -0.0009\n",
       "2021-05-27 249.3100  -0.0087\n",
       "2021-05-28 249.6800   0.0015\n",
       "\n",
       "[1677 rows x 2 columns]"
      ]
     },
     "execution_count": 4,
     "metadata": {},
     "output_type": "execute_result"
    }
   ],
   "source": [
    "msft = pd.read_csv(\"../../assets/data/msft.csv\", index_col = \"Date\", parse_dates = [\"Date\"])\n",
    "msft"
   ]
  },
  {
   "cell_type": "markdown",
   "id": "34a53243-9089-4276-8847-cda41729a149",
   "metadata": {},
   "source": [
    "#### __Calculating the Investment Multiple__"
   ]
  },
  {
   "cell_type": "markdown",
   "id": "3cfcab9a-41a2-44d9-b32b-8e95864f5067",
   "metadata": {},
   "source": [
    "__Investment Multiple__: The ending value of an initial investment, (like, for instance, 1 US\\\\$ invested). <br>\n",
    "Multiple = Ending Value / Initial Investment"
   ]
  },
  {
   "cell_type": "code",
   "execution_count": 12,
   "id": "fe5a26ae-3881-47d9-b99b-d728287f2834",
   "metadata": {},
   "outputs": [
    {
     "data": {
      "text/plain": [
       "np.float64(249.67999267578125)"
      ]
     },
     "execution_count": 12,
     "metadata": {},
     "output_type": "execute_result"
    }
   ],
   "source": [
    "msft.Price.iloc[-1] # Initial Investment"
   ]
  },
  {
   "cell_type": "code",
   "execution_count": 13,
   "id": "4da2b2a9-5b02-49bb-aa74-5220a0f85e25",
   "metadata": {},
   "outputs": [
    {
     "data": {
      "text/plain": [
       "np.float64(45.900001525878906)"
      ]
     },
     "execution_count": 13,
     "metadata": {},
     "output_type": "execute_result"
    }
   ],
   "source": [
    "msft.Price.iloc[0] # Initial Investment"
   ]
  },
  {
   "cell_type": "code",
   "execution_count": 11,
   "id": "a15fcc51-b486-4444-9f38-8d8539bab096",
   "metadata": {},
   "outputs": [
    {
     "data": {
      "text/plain": [
       "np.float64(5.43965107571966)"
      ]
     },
     "execution_count": 11,
     "metadata": {},
     "output_type": "execute_result"
    }
   ],
   "source": [
    "multiple = (msft.Price.iloc[-1] / msft.Price.iloc[0]) # NEW: use iloc[]\n",
    "multiple"
   ]
  },
  {
   "cell_type": "markdown",
   "id": "8bbd959d-a846-44f8-bbd8-549a94b757c5",
   "metadata": {},
   "source": [
    "__Interpretation__: By investing 1 \\\\$ in October 2014 we turned it into 5.43 \\\\$ in 2021."
   ]
  },
  {
   "cell_type": "markdown",
   "id": "a7115da3-dfaa-4a7d-a032-1d49fbdc5d9b",
   "metadata": {},
   "source": [
    "__Price Increase (in %)__"
   ]
  },
  {
   "cell_type": "code",
   "execution_count": 14,
   "id": "a5814ac0-5642-434c-90a6-c2e6151464f4",
   "metadata": {},
   "outputs": [
    {
     "data": {
      "text/plain": [
       "np.float64(443.96510757196603)"
      ]
     },
     "execution_count": 14,
     "metadata": {},
     "output_type": "execute_result"
    }
   ],
   "source": [
    "(multiple - 1) * 100"
   ]
  },
  {
   "cell_type": "markdown",
   "id": "aec5ee1b-06cc-4607-8342-d805bb0a14b5",
   "metadata": {},
   "source": [
    "__Interpretation__: This means an increase by 443.96% in approximately seven years."
   ]
  },
  {
   "cell_type": "code",
   "execution_count": 16,
   "id": "07ad535e-097c-4dd4-b590-9b10562d1904",
   "metadata": {},
   "outputs": [
    {
     "data": {
      "text/plain": [
       "Date\n",
       "2014-10-01   1.0000\n",
       "2014-10-02   0.9969\n",
       "2014-10-03   1.0041\n",
       "2014-10-06   1.0041\n",
       "2014-10-07   0.9919\n",
       "              ...  \n",
       "2021-05-24   5.4636\n",
       "2021-05-25   5.4841\n",
       "2021-05-26   5.4791\n",
       "2021-05-27   5.4316\n",
       "2021-05-28   5.4397\n",
       "Name: Price, Length: 1677, dtype: float64"
      ]
     },
     "execution_count": 16,
     "metadata": {},
     "output_type": "execute_result"
    }
   ],
   "source": [
    "# back to the normalized price with base value 1\n",
    "msft.Price / msft.Price.iloc[0] # similar/identical concept: Normalized Price with Base Value 1"
   ]
  },
  {
   "cell_type": "markdown",
   "id": "c7315591-c732-49dc-a4c2-39e48c7f5b73",
   "metadata": {},
   "source": [
    "__The drawback of the Investment Multiple is, that it doesn't take into account investment period (looks great over seven years but most likely not so great anymore over 100 years). It's only meaningful in conjunction with investment period.__"
   ]
  },
  {
   "cell_type": "markdown",
   "id": "d1d04b6b-64f4-46da-9ac5-cf06994ce2c4",
   "metadata": {},
   "source": [
    "#### __Calculating the Compound Annual Growth Rate (CAGR)__"
   ]
  },
  {
   "cell_type": "markdown",
   "id": "b524124b-1bc5-44c6-a983-432c538c0204",
   "metadata": {},
   "source": [
    "__Compound Annual Growth Rate (CAGR)__: The (constant annual) rate of return that would be required for an investment to grow from its beginning balance to its ending balance, assuming the profits were reinvested at the end of each year of the investment's lifespan (Wikipedia).\n",
    "\n",
    "***The CAGR takes the investment period into account.***"
   ]
  },
  {
   "cell_type": "code",
   "execution_count": 17,
   "id": "d9e26cf4-a9bd-4418-a382-5e2114e459ba",
   "metadata": {},
   "outputs": [
    {
     "data": {
      "text/plain": [
       "Timestamp('2014-10-01 00:00:00')"
      ]
     },
     "execution_count": 17,
     "metadata": {},
     "output_type": "execute_result"
    }
   ],
   "source": [
    "start = msft.index[0] # start date of period we're looking at\n",
    "start"
   ]
  },
  {
   "cell_type": "code",
   "execution_count": 25,
   "id": "48e577af-2612-4399-b82c-973a39c51609",
   "metadata": {},
   "outputs": [
    {
     "data": {
      "text/plain": [
       "Timestamp('2021-05-28 00:00:00')"
      ]
     },
     "execution_count": 25,
     "metadata": {},
     "output_type": "execute_result"
    }
   ],
   "source": [
    "end = msft.index[-1] # end date of period we're looking at\n",
    "end"
   ]
  },
  {
   "cell_type": "code",
   "execution_count": 27,
   "id": "b21ba1db-21f0-4b86-8fd2-065ff2f06256",
   "metadata": {},
   "outputs": [
    {
     "data": {
      "text/plain": [
       "Timedelta('2431 days 00:00:00')"
      ]
     },
     "execution_count": 27,
     "metadata": {},
     "output_type": "execute_result"
    }
   ],
   "source": [
    "td = end - start # calculating the time period we want to analyze\n",
    "# returns a timedelta object\n",
    "td"
   ]
  },
  {
   "cell_type": "code",
   "execution_count": 20,
   "id": "a9f0f6a6-36bc-4e50-9f18-d07a5864ca05",
   "metadata": {},
   "outputs": [
    {
     "data": {
      "text/plain": [
       "6.655715263518139"
      ]
     },
     "execution_count": 20,
     "metadata": {},
     "output_type": "execute_result"
    }
   ],
   "source": [
    "# calculating the timedelta in years\n",
    "td_years = td.days / 365.25\n",
    "td_years"
   ]
  },
  {
   "cell_type": "code",
   "execution_count": 28,
   "id": "6a69f299-c54e-4236-80a0-e9c4bc40c4a2",
   "metadata": {},
   "outputs": [
    {
     "data": {
      "text/plain": [
       "np.float64(0.2897846506194157)"
      ]
     },
     "execution_count": 28,
     "metadata": {},
     "output_type": "execute_result"
    }
   ],
   "source": [
    "# now we use the multiple from above to calculate the Compound Annual Growth Rate (CAGR)\n",
    "# it's the (multiple to the power of (one devided by the nuber od years)) minus one\n",
    "cagr = multiple**(1 / td_years) - 1 # short version\n",
    "cagr"
   ]
  },
  {
   "cell_type": "code",
   "execution_count": 31,
   "id": "81cbd955-66e2-4061-9e43-a59e0f13c9ab",
   "metadata": {},
   "outputs": [
    {
     "name": "stdout",
     "output_type": "stream",
     "text": [
      "The Compound Annual Growth Rate is 28.98 %\n"
     ]
    }
   ],
   "source": [
    "print(\"The Compound Annual Growth Rate is\", \"{:.2f}\".format(cagr * 100), \"%\")"
   ]
  },
  {
   "cell_type": "code",
   "execution_count": 33,
   "id": "c9d9aaf6-5d6a-4953-943b-528e947df6c1",
   "metadata": {},
   "outputs": [
    {
     "data": {
      "text/plain": [
       "np.float64(0.2897846506194157)"
      ]
     },
     "execution_count": 33,
     "metadata": {},
     "output_type": "execute_result"
    }
   ],
   "source": [
    "# long version calculating the Compound Annual Growth Rate\n",
    "cagr_long = (msft.Price.iloc[-1]/msft.Price.iloc[0])**(1/((msft.index[-1] - msft.index[0]).days / 365.25)) - 1\n",
    "cagr_long"
   ]
  },
  {
   "cell_type": "code",
   "execution_count": 34,
   "id": "96df709e-0600-423c-9b10-af431b7f19df",
   "metadata": {},
   "outputs": [
    {
     "name": "stdout",
     "output_type": "stream",
     "text": [
      "The Compound Annual Growth Rate calculated with the long version is 28.98 %\n"
     ]
    }
   ],
   "source": [
    "print(\"The Compound Annual Growth Rate calculated with the long version is\", \"{:.2f}\".format(cagr_long * 100), \"%\")"
   ]
  },
  {
   "cell_type": "code",
   "execution_count": 35,
   "id": "f2c70818-314e-44f4-a1d5-fa787bb75f8c",
   "metadata": {},
   "outputs": [
    {
     "data": {
      "text/plain": [
       "np.float64(5.439651075719659)"
      ]
     },
     "execution_count": 35,
     "metadata": {},
     "output_type": "execute_result"
    }
   ],
   "source": [
    "# inverse calculation, calculating the multiple with the CAGR\n",
    "(1 + cagr)**(td_years) # alternative #2 to calculate multiple (cagr)"
   ]
  },
  {
   "cell_type": "markdown",
   "id": "458cd689-e9a1-44b5-b166-30be0a6b7071",
   "metadata": {},
   "source": [
    "***As we have seen, the CAGR can be used to compare Investments with different investment horizons.***"
   ]
  },
  {
   "cell_type": "code",
   "execution_count": null,
   "id": "c604b1a9-67ff-43c4-8880-243795e23167",
   "metadata": {},
   "outputs": [],
   "source": []
  }
 ],
 "metadata": {
  "kernelspec": {
   "display_name": "Python 3 (ipykernel)",
   "language": "python",
   "name": "python3"
  },
  "language_info": {
   "codemirror_mode": {
    "name": "ipython",
    "version": 3
   },
   "file_extension": ".py",
   "mimetype": "text/x-python",
   "name": "python",
   "nbconvert_exporter": "python",
   "pygments_lexer": "ipython3",
   "version": "3.12.7"
  }
 },
 "nbformat": 4,
 "nbformat_minor": 5
}
