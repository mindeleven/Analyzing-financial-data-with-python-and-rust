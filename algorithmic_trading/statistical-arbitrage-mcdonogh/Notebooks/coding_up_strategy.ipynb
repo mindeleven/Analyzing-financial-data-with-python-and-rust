{
 "cells": [
  {
   "cell_type": "markdown",
   "id": "80ebd330-c4a9-4ea9-93fa-671663a52fb6",
   "metadata": {},
   "source": [
    "## Coding Up the Strategy"
   ]
  },
  {
   "cell_type": "markdown",
   "id": "f5b210ae-f6f7-48a5-a0a3-7d73e60621c2",
   "metadata": {},
   "source": [
    "<img src=\"../assets/images/coding-up-strategy.jpg\" width=\"66%\" align=\"left\" />"
   ]
  },
  {
   "cell_type": "code",
   "execution_count": null,
   "id": "f74c98c9-d40e-42c8-acd5-edf7f34d8f13",
   "metadata": {},
   "outputs": [],
   "source": []
  }
 ],
 "metadata": {
  "kernelspec": {
   "display_name": "Python 3 (ipykernel)",
   "language": "python",
   "name": "python3"
  },
  "language_info": {
   "codemirror_mode": {
    "name": "ipython",
    "version": 3
   },
   "file_extension": ".py",
   "mimetype": "text/x-python",
   "name": "python",
   "nbconvert_exporter": "python",
   "pygments_lexer": "ipython3",
   "version": "3.12.7"
  }
 },
 "nbformat": 4,
 "nbformat_minor": 5
}
