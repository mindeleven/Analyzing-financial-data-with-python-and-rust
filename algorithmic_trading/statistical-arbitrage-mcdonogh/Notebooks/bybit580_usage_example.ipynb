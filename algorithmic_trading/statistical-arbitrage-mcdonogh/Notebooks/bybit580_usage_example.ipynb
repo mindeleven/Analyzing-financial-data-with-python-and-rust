{
 "cells": [
  {
   "cell_type": "markdown",
   "id": "004d0338-4e29-4ba0-8fce-6f97538ce93b",
   "metadata": {},
   "source": [
    "#### Usage example from pybit 5.8.0 project description: https://pypi.org/project/pybit/"
   ]
  },
  {
   "cell_type": "markdown",
   "id": "231d4344-68cf-475e-90f3-eae8e3841c63",
   "metadata": {},
   "source": [
    "Retrieving a specific market:"
   ]
  },
  {
   "cell_type": "code",
   "execution_count": 1,
   "id": "a42f9f54-31b2-474e-ac3d-3f366acd9175",
   "metadata": {},
   "outputs": [],
   "source": [
    "import pandas as pd\n",
    "from pybit.unified_trading import HTTP"
   ]
  },
  {
   "cell_type": "code",
   "execution_count": 2,
   "id": "b67159b4-4f04-48ef-8e0c-3bbd67d8fc6f",
   "metadata": {},
   "outputs": [
    {
     "name": "stdout",
     "output_type": "stream",
     "text": [
      "Don't be a fool and send your auth keys to github.\n"
     ]
    }
   ],
   "source": [
    "api_key = pd.read_csv(\"~/tmp/bybit_testnet/bybit_key.txt\", sep=\" \", header=None)[0][0]\n",
    "api_secret = pd.read_csv(\"~/tmp/bybit_testnet/bybit_secret.txt\", sep=\" \", header=None)[0][0]\n",
    "print(\"Don't be a fool and send your auth keys to github.\")"
   ]
  },
  {
   "cell_type": "markdown",
   "id": "2d9564e6-78a1-45da-b373-1ff9fc808a9b",
   "metadata": {},
   "source": [
    "Create an HTTP session and connect via WebSocket for Inverse on mainnet:"
   ]
  },
  {
   "cell_type": "code",
   "execution_count": 3,
   "id": "1217401c-60d8-4fa4-9963-73215d1e6b4b",
   "metadata": {},
   "outputs": [],
   "source": [
    "session = HTTP(\n",
    "    testnet=True,\n",
    "    api_key=api_key,\n",
    "    api_secret=api_secret,\n",
    ")"
   ]
  },
  {
   "cell_type": "markdown",
   "id": "157f9844-00b2-4016-8ed8-4834335db1cb",
   "metadata": {},
   "source": [
    "Information can be sent to, or retrieved from, the Bybit APIs:"
   ]
  },
  {
   "cell_type": "code",
   "execution_count": 4,
   "id": "536c3e38-da76-4232-b5d1-2a832e0385cf",
   "metadata": {},
   "outputs": [
    {
     "name": "stdout",
     "output_type": "stream",
     "text": [
      "{'retCode': 0, 'retMsg': 'OK', 'result': {'s': 'BTCUSDT', 'b': [['66418.7', '0.414'], ['66356.2', '0.004'], ['66337.5', '0.459'], ['66325', '0.003'], ['66316.3', '0.002'], ['66307', '0.825'], ['66306.5', '0.197'], ['66272.3', '0.427'], ['66264.7', '0.201'], ['66253.3', '0.017'], ['66249.8', '0.547'], ['66244.1', '0.001'], ['66208.2', '0.089'], ['66193.7', '0.004'], ['66180', '0.553'], ['66170.7', '0.001'], ['66166', '0.459'], ['66154.9', '0.002'], ['66150', '0.003'], ['66143.3', '0.001'], ['66143.1', '0.222'], ['66138.1', '0.918'], ['66133.8', '0.264'], ['66102.4', '0.439'], ['66095.1', '0.093']], 'a': [['66419', '0.001'], ['66429', '0.002'], ['66442.3', '0.002'], ['66455.6', '0.002'], ['66468.9', '0.002'], ['66593.6', '0.129'], ['66604.1', '0.426'], ['66612', '0.443'], ['66633.3', '0.686'], ['66640.2', '0.002'], ['66645', '0.742'], ['66675', '0.003'], ['66681.4', '0.004'], ['66681.9', '0.034'], ['66742.7', '0.089'], ['66756.6', '0.547'], ['66766.6', '0.057'], ['66773.8', '0.426'], ['66781.9', '0.443'], ['66787.8', '0.001'], ['66796.7', '0.046'], ['66802.7', '0.002'], ['66809.5', '0.001'], ['66813.9', '0.538'], ['66821.2', '0.005']], 'ts': 1729687725956, 'u': 120121, 'seq': 9374997046, 'cts': 1729687725925}, 'retExtInfo': {}, 'time': 1729687727196}\n"
     ]
    }
   ],
   "source": [
    "# Get the orderbook of the USDT Perpetual, BTCUSDT\n",
    "print(session.get_orderbook(category=\"linear\", symbol=\"BTCUSDT\")) # is linear, inverse and perpetual the same?"
   ]
  },
  {
   "cell_type": "code",
   "execution_count": 5,
   "id": "9887f963-f745-4906-8c65-7f72f8f5f006",
   "metadata": {},
   "outputs": [
    {
     "ename": "TypeError",
     "evalue": "TradeHTTP.place_batch_order() takes 1 positional argument but 2 were given",
     "output_type": "error",
     "traceback": [
      "\u001b[0;31m---------------------------------------------------------------------------\u001b[0m",
      "\u001b[0;31mTypeError\u001b[0m                                 Traceback (most recent call last)",
      "Cell \u001b[0;32mIn[5], line 17\u001b[0m\n\u001b[1;32m     15\u001b[0m payload[\u001b[38;5;124m\"\u001b[39m\u001b[38;5;124mrequest\u001b[39m\u001b[38;5;124m\"\u001b[39m] \u001b[38;5;241m=\u001b[39m orders\n\u001b[1;32m     16\u001b[0m \u001b[38;5;66;03m# Submit the orders in bulk.\u001b[39;00m\n\u001b[0;32m---> 17\u001b[0m \u001b[43msession\u001b[49m\u001b[38;5;241;43m.\u001b[39;49m\u001b[43mplace_batch_order\u001b[49m\u001b[43m(\u001b[49m\u001b[43mpayload\u001b[49m\u001b[43m)\u001b[49m\n",
      "\u001b[0;31mTypeError\u001b[0m: TradeHTTP.place_batch_order() takes 1 positional argument but 2 were given"
     ]
    }
   ],
   "source": [
    "# Get the orderbook of the USDT Perpetual, BTCUSDT\n",
    "session.get_orderbook(category=\"linear\", symbol=\"BTCUSDT\")\n",
    "\n",
    "# Create five long USDC Options orders.\n",
    "# (Currently, only USDC Options support sending orders in bulk.)\n",
    "payload = {\"category\": \"option\"}\n",
    "orders = [{\n",
    "  \"symbol\": \"BTC-30JUN23-20000-C\",\n",
    "  \"side\": \"Buy\",\n",
    "  \"orderType\": \"Limit\",\n",
    "  \"qty\": \"0.1\",\n",
    "  \"price\": i,\n",
    "} for i in [15000, 15500, 16000, 16500, 16600]]\n",
    "\n",
    "payload[\"request\"] = orders\n",
    "# Submit the orders in bulk.\n",
    "session.place_batch_order(payload)"
   ]
  },
  {
   "cell_type": "markdown",
   "id": "fa00c8f1-c06c-4917-9015-d4a49ed06ab4",
   "metadata": {},
   "source": [
    "### ByBit V5 API: Get Kline\n",
    "\n",
    "https://bybit-exchange.github.io/docs/v5/market/kline\n",
    "\n",
    "Query for historical klines (also known as candles/candlesticks). Charts are returned in groups based on the requested interval.\n",
    "\n",
    "#### Covers: Spot / USDT perpetual / USDC contract / Inverse contract"
   ]
  },
  {
   "cell_type": "markdown",
   "id": "ad5ca1f5-1d46-435e-a146-5b92779b985e",
   "metadata": {},
   "source": [
    "The category parameter specifies the product type: spot, linear, or inverse.</br>\n",
    "The category is optional and if not passed linear is the default."
   ]
  },
  {
   "cell_type": "code",
   "execution_count": 6,
   "id": "fb9b7dd7-335b-41ed-b872-1c1d31ae3434",
   "metadata": {},
   "outputs": [
    {
     "data": {
      "text/plain": [
       "{'retCode': 0,\n",
       " 'retMsg': 'OK',\n",
       " 'result': {'s': 'BTCUSDT',\n",
       "  'a': [['66971', '0.003414']],\n",
       "  'b': [['66910', '0.000537']],\n",
       "  'ts': 1729687756316,\n",
       "  'u': 5242621,\n",
       "  'seq': 1489931242,\n",
       "  'cts': 1729687745205},\n",
       " 'retExtInfo': {},\n",
       " 'time': 1729687756847}"
      ]
     },
     "execution_count": 6,
     "metadata": {},
     "output_type": "execute_result"
    }
   ],
   "source": [
    "# Get orderbook - Spot\n",
    "orderbook_spot = session.get_orderbook(category=\"spot\", symbol=\"BTCUSDT\")\n",
    "orderbook_spot"
   ]
  },
  {
   "cell_type": "code",
   "execution_count": 7,
   "id": "287505af-8427-416c-9270-9b8f9a746908",
   "metadata": {},
   "outputs": [
    {
     "data": {
      "text/plain": [
       "{'retCode': 0,\n",
       " 'retMsg': 'OK',\n",
       " 'result': {'s': 'BTCUSDT',\n",
       "  'b': [['66434.4', '0.426'],\n",
       "   ['66418.7', '0.41'],\n",
       "   ['66356.2', '0.004'],\n",
       "   ['66337.5', '0.459'],\n",
       "   ['66325', '0.003'],\n",
       "   ['66316.3', '0.002'],\n",
       "   ['66307', '0.825'],\n",
       "   ['66306.5', '0.197'],\n",
       "   ['66272.3', '0.427'],\n",
       "   ['66264.7', '0.201'],\n",
       "   ['66253.3', '0.017'],\n",
       "   ['66249.8', '0.547'],\n",
       "   ['66244.1', '0.001'],\n",
       "   ['66208.2', '0.089'],\n",
       "   ['66193.7', '0.004'],\n",
       "   ['66180', '0.553'],\n",
       "   ['66170.7', '0.001'],\n",
       "   ['66166', '0.459'],\n",
       "   ['66154.9', '0.002'],\n",
       "   ['66150', '0.003'],\n",
       "   ['66143.3', '0.001'],\n",
       "   ['66143.1', '0.222'],\n",
       "   ['66138.1', '0.918'],\n",
       "   ['66133.8', '0.264'],\n",
       "   ['66102.4', '0.439']],\n",
       "  'a': [['66612', '0.22'],\n",
       "   ['66633.3', '0.686'],\n",
       "   ['66640.2', '0.002'],\n",
       "   ['66645', '0.742'],\n",
       "   ['66675', '0.003'],\n",
       "   ['66681.4', '0.004'],\n",
       "   ['66681.9', '0.034'],\n",
       "   ['66742.7', '0.089'],\n",
       "   ['66756.6', '0.547'],\n",
       "   ['66766.6', '0.057'],\n",
       "   ['66773.8', '0.426'],\n",
       "   ['66781.9', '0.443'],\n",
       "   ['66787.8', '0.001'],\n",
       "   ['66796.7', '0.046'],\n",
       "   ['66802.7', '0.002'],\n",
       "   ['66809.5', '0.001'],\n",
       "   ['66813.9', '0.538'],\n",
       "   ['66821.2', '0.005'],\n",
       "   ['66826.3', '0.031'],\n",
       "   ['66834.8', '0.001'],\n",
       "   ['66844', '0.004'],\n",
       "   ['66850', '0.003'],\n",
       "   ['66854.8', '0.459'],\n",
       "   ['66901.9', '0.036'],\n",
       "   ['66903', '0.264']],\n",
       "  'ts': 1729687760156,\n",
       "  'u': 120140,\n",
       "  'seq': 9374997148,\n",
       "  'cts': 1729687760093},\n",
       " 'retExtInfo': {},\n",
       " 'time': 1729687760239}"
      ]
     },
     "execution_count": 7,
     "metadata": {},
     "output_type": "execute_result"
    }
   ],
   "source": [
    "# Get orderbook - Futures\n",
    "orderbook_futures = session.get_orderbook(category=\"linear\", symbol=\"BTCUSDT\")\n",
    "orderbook_futures"
   ]
  },
  {
   "cell_type": "code",
   "execution_count": 8,
   "id": "ae66cae1-7e49-4139-be25-962c57e6ad90",
   "metadata": {},
   "outputs": [
    {
     "data": {
      "text/plain": [
       "{'retCode': 0,\n",
       " 'retMsg': 'OK',\n",
       " 'result': {'list': [{'totalEquity': '1021.3232559',\n",
       "    'accountIMRate': '0.0186',\n",
       "    'totalMarginBalance': '1021.3232559',\n",
       "    'totalInitialMargin': '19.04492647',\n",
       "    'accountType': 'UNIFIED',\n",
       "    'totalAvailableBalance': '1002.27832942',\n",
       "    'accountMMRate': '0.001',\n",
       "    'totalPerpUPL': '9.97224547',\n",
       "    'totalWalletBalance': '1011.35101042',\n",
       "    'accountLTV': '0',\n",
       "    'totalMaintenanceMargin': '1.04136396',\n",
       "    'coin': [{'availableToBorrow': '',\n",
       "      'bonus': '0',\n",
       "      'accruedInterest': '0',\n",
       "      'availableToWithdraw': '0',\n",
       "      'totalOrderIM': '0',\n",
       "      'equity': '0',\n",
       "      'totalPositionMM': '0',\n",
       "      'usdValue': '0',\n",
       "      'unrealisedPnl': '0',\n",
       "      'collateralSwitch': False,\n",
       "      'spotHedgingQty': '0',\n",
       "      'borrowAmount': '0.000000000000000000',\n",
       "      'totalPositionIM': '0',\n",
       "      'walletBalance': '0',\n",
       "      'cumRealisedPnl': '0',\n",
       "      'locked': '0',\n",
       "      'marginCollateral': True,\n",
       "      'coin': 'BTC'},\n",
       "     {'availableToBorrow': '',\n",
       "      'bonus': '0',\n",
       "      'accruedInterest': '0',\n",
       "      'availableToWithdraw': '1003.0526861',\n",
       "      'totalOrderIM': '0',\n",
       "      'equity': '1022.11232662',\n",
       "      'totalPositionMM': '1.04216852',\n",
       "      'usdValue': '1021.3232559',\n",
       "      'unrealisedPnl': '9.97995',\n",
       "      'collateralSwitch': True,\n",
       "      'spotHedgingQty': '0',\n",
       "      'borrowAmount': '0.000000000000000000',\n",
       "      'totalPositionIM': '19.05964052',\n",
       "      'walletBalance': '1012.13237662',\n",
       "      'cumRealisedPnl': '12.13237662',\n",
       "      'locked': '0',\n",
       "      'marginCollateral': True,\n",
       "      'coin': 'USDT'},\n",
       "     {'availableToBorrow': '',\n",
       "      'bonus': '0',\n",
       "      'accruedInterest': '0',\n",
       "      'availableToWithdraw': '0',\n",
       "      'totalOrderIM': '0',\n",
       "      'equity': '0',\n",
       "      'totalPositionMM': '0',\n",
       "      'usdValue': '0',\n",
       "      'unrealisedPnl': '0',\n",
       "      'collateralSwitch': True,\n",
       "      'spotHedgingQty': '0',\n",
       "      'borrowAmount': '0.000000000000000000',\n",
       "      'totalPositionIM': '0',\n",
       "      'walletBalance': '0',\n",
       "      'cumRealisedPnl': '0',\n",
       "      'locked': '0',\n",
       "      'marginCollateral': True,\n",
       "      'coin': 'USDC'}]}]},\n",
       " 'retExtInfo': {},\n",
       " 'time': 1729687763613}"
      ]
     },
     "execution_count": 8,
     "metadata": {},
     "output_type": "execute_result"
    }
   ],
   "source": [
    "# Check Balance\n",
    "wallet_balance_spot = session.get_wallet_balance(\n",
    "    accountType=\"UNIFIED\",\n",
    "    coin=\"BTC,USDT,USDC\",\n",
    ")\n",
    "wallet_balance_spot"
   ]
  },
  {
   "cell_type": "code",
   "execution_count": null,
   "id": "a1012b39-5bac-40df-8b86-d0b67adc0976",
   "metadata": {},
   "outputs": [],
   "source": []
  }
 ],
 "metadata": {
  "kernelspec": {
   "display_name": "Python 3 (ipykernel)",
   "language": "python",
   "name": "python3"
  },
  "language_info": {
   "codemirror_mode": {
    "name": "ipython",
    "version": 3
   },
   "file_extension": ".py",
   "mimetype": "text/x-python",
   "name": "python",
   "nbconvert_exporter": "python",
   "pygments_lexer": "ipython3",
   "version": "3.12.7"
  }
 },
 "nbformat": 4,
 "nbformat_minor": 5
}
