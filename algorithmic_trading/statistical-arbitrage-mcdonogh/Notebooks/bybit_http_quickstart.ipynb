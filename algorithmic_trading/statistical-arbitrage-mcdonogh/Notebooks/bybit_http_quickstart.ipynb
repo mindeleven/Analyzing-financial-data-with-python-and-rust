{
 "cells": [
  {
   "cell_type": "markdown",
   "id": "8709f241-063e-4120-9f88-2aa3413a756c",
   "metadata": {},
   "source": [
    "#### ByBit API query example from https://github.com/bybit-exchange/pybit/blob/master/examples/http_example_quickstart.py"
   ]
  },
  {
   "cell_type": "code",
   "execution_count": 1,
   "id": "7be46bfe-de3e-4349-a148-e07ebab4cea2",
   "metadata": {},
   "outputs": [],
   "source": [
    "import pybit as py\n",
    "import pandas as pd"
   ]
  },
  {
   "cell_type": "code",
   "execution_count": 4,
   "id": "06023571-5844-4814-96e8-5b50e3adbab3",
   "metadata": {},
   "outputs": [],
   "source": [
    "from pybit.unified_trading import HTTP"
   ]
  },
  {
   "cell_type": "code",
   "execution_count": 5,
   "id": "301d8c68-e21a-4eaa-8685-1dffb6663299",
   "metadata": {},
   "outputs": [
    {
     "name": "stdout",
     "output_type": "stream",
     "text": [
      "Don't be a fool and send your auth keys to github.\n"
     ]
    }
   ],
   "source": [
    "api_key = pd.read_csv(\"~/tmp/bybit_testnet/bybit_key.txt\", sep=\" \", header=None)[0][0]\n",
    "api_secret = pd.read_csv(\"~/tmp/bybit_testnet/bybit_secret.txt\", sep=\" \", header=None)[0][0]\n",
    "print(\"Don't be a fool and send your auth keys to github.\")"
   ]
  },
  {
   "cell_type": "code",
   "execution_count": 6,
   "id": "9ecb35a0-04f6-4ec0-a21f-07ca115a28af",
   "metadata": {},
   "outputs": [],
   "source": [
    "session = HTTP(\n",
    "    testnet=True,\n",
    "    api_key=api_key,\n",
    "    api_secret=api_secret,\n",
    ")"
   ]
  },
  {
   "cell_type": "code",
   "execution_count": 7,
   "id": "7fe73475-dba8-42de-8fdc-8fb341b2a3a5",
   "metadata": {},
   "outputs": [
    {
     "name": "stdout",
     "output_type": "stream",
     "text": [
      "{'retCode': 0, 'retMsg': 'OK', 'result': {'s': 'BTCUSDT', 'b': [['66442.2', '0.441'], ['66434.4', '0.426'], ['66418.7', '0.415'], ['66356.2', '0.004'], ['66337.5', '0.459'], ['66325', '0.003'], ['66316.3', '0.002'], ['66307', '0.825'], ['66306.5', '0.197'], ['66272.3', '0.427'], ['66264.7', '0.201'], ['66253.3', '0.017'], ['66249.8', '0.547'], ['66244.1', '0.001'], ['66208.2', '0.089'], ['66193.7', '0.004'], ['66180', '0.553'], ['66170.7', '0.001'], ['66166', '0.459'], ['66154.9', '0.002'], ['66150', '0.003'], ['66143.3', '0.001'], ['66143.1', '0.222'], ['66138.1', '0.918'], ['66133.8', '0.264']], 'a': [['66593.6', '0.564'], ['66633.3', '0.468'], ['66640.2', '0.002'], ['66645', '0.895'], ['66675', '0.003'], ['66681.4', '0.004'], ['66681.9', '0.034'], ['66742.7', '0.089'], ['66756.6', '0.547'], ['66766.6', '0.057'], ['66773.8', '0.426'], ['66781.9', '0.443'], ['66787.8', '0.001'], ['66796.7', '0.046'], ['66802.7', '0.002'], ['66809.5', '0.001'], ['66813.9', '0.538'], ['66821.2', '0.005'], ['66826.3', '0.031'], ['66834.8', '0.001'], ['66844', '0.004'], ['66850', '0.003'], ['66854.8', '0.459'], ['66901.9', '0.036'], ['66903', '0.264']], 'ts': 1729687585157, 'u': 120000, 'seq': 9374996571, 'cts': 1729687584781}, 'retExtInfo': {}, 'time': 1729687585547}\n"
     ]
    }
   ],
   "source": [
    "print(session.get_orderbook(category=\"linear\", symbol=\"BTCUSDT\"))"
   ]
  },
  {
   "cell_type": "code",
   "execution_count": 9,
   "id": "27ae4d5c-0a20-4db7-bb2d-631abac63d1b",
   "metadata": {},
   "outputs": [
    {
     "name": "stdout",
     "output_type": "stream",
     "text": [
      "{'retCode': 0, 'retMsg': 'OK', 'result': {'orderId': 'b6404b72-17cc-4080-bf68-408735de9032', 'orderLinkId': ''}, 'retExtInfo': {}, 'time': 1729687653056}\n"
     ]
    },
    {
     "data": {
      "text/plain": [
       "'\\nReturns an error for now:\\nInvalidRequestError: ab not enough for new order (ErrCode: 110007) (ErrTime: 08:23:22).\\nRequest → POST https://api-testnet.bybit.com/v5/order/create: {\"category\": \"linear\", \"symbol\": \"BTCUSDT\", \"side\": \"Buy\", \"orderType\": \"Market\", \"qty\": \"0.001\"}.\\nReason most likely that the test account has funding but funds still need to be transfered to allow for orders\\n\\nAs of October 23rd 2024:\\n{\\'retCode\\': 0, \\'retMsg\\': \\'OK\\', \\'result\\': {\\'orderId\\': \\'d1df47c8-c905-4813-aa64-94bc58a80fbd\\', \\'orderLinkId\\': \\'\\'}, \\'retExtInfo\\': {}, \\'time\\': 1729687597228}\\n'"
      ]
     },
     "execution_count": 9,
     "metadata": {},
     "output_type": "execute_result"
    }
   ],
   "source": [
    "print(session.place_order(\n",
    "    category=\"linear\",\n",
    "    symbol=\"BTCUSDT\",\n",
    "    side=\"Buy\",\n",
    "    orderType=\"Market\",\n",
    "    qty=0.001,\n",
    ")) # authentication needed\n",
    "\n",
    "'''\n",
    "Returns an error for now:\n",
    "InvalidRequestError: ab not enough for new order (ErrCode: 110007) (ErrTime: 08:23:22).\n",
    "Request → POST https://api-testnet.bybit.com/v5/order/create: {\"category\": \"linear\", \"symbol\": \"BTCUSDT\", \"side\": \"Buy\", \"orderType\": \"Market\", \"qty\": \"0.001\"}.\n",
    "Reason most likely that the test account has funding but funds still need to be transfered to allow for orders\n",
    "\n",
    "As of October 23rd 2024:\n",
    "{'retCode': 0, 'retMsg': 'OK', 'result': {'orderId': 'd1df47c8-c905-4813-aa64-94bc58a80fbd', 'orderLinkId': ''}, 'retExtInfo': {}, 'time': 1729687597228}\n",
    "'''"
   ]
  },
  {
   "cell_type": "markdown",
   "id": "1ef3d5b4-3d88-4800-bc44-87e8e8037ee7",
   "metadata": {},
   "source": [
    "#### Request example: Get Kline https://bybit-exchange.github.io/docs/v5/market/kline"
   ]
  },
  {
   "cell_type": "code",
   "execution_count": 10,
   "id": "bf5acb76-0db9-4740-8941-e7f4da88ca36",
   "metadata": {},
   "outputs": [
    {
     "name": "stdout",
     "output_type": "stream",
     "text": [
      "{'retCode': 0, 'retMsg': 'OK', 'result': {'symbol': 'BTCUSD', 'category': 'inverse', 'list': [['1670608800000', '17071', '17073', '17027', '17055.5', '268611', '15.74462667'], ['1670605200000', '17071.5', '17071.5', '17061', '17071', '4177', '0.24469757'], ['1670601600000', '17086.5', '17088', '16978', '17071.5', '6356', '0.37288112']]}, 'retExtInfo': {}, 'time': 1729687657783}\n"
     ]
    }
   ],
   "source": [
    "session = HTTP(testnet=True)\n",
    "print(session.get_kline(\n",
    "    category=\"inverse\",\n",
    "    symbol=\"BTCUSD\",\n",
    "    interval=60,\n",
    "    start=1670601600000,\n",
    "    end=1670608800000,\n",
    "))"
   ]
  },
  {
   "cell_type": "markdown",
   "id": "ab94774a-1c07-4d95-bbab-292c19178705",
   "metadata": {},
   "source": [
    "#### Request example: Get Open and Closed Orders https://bybit-exchange.github.io/docs/v5/order/open-order"
   ]
  },
  {
   "cell_type": "code",
   "execution_count": 11,
   "id": "8320574e-f84e-4037-a056-dc77da91681d",
   "metadata": {},
   "outputs": [
    {
     "name": "stdout",
     "output_type": "stream",
     "text": [
      "{'retCode': 0, 'retMsg': 'OK', 'result': {'nextPageCursor': '', 'category': 'linear', 'list': []}, 'retExtInfo': {}, 'time': 1729687690679}\n"
     ]
    }
   ],
   "source": [
    "session = HTTP(\n",
    "    testnet=True,\n",
    "    api_key=api_key,\n",
    "    api_secret=api_secret,\n",
    ")\n",
    "print(session.get_open_orders(\n",
    "    category=\"linear\",\n",
    "    symbol=\"ETHUSDT\",\n",
    "    openOnly=0,\n",
    "    limit=1,\n",
    "))"
   ]
  },
  {
   "cell_type": "code",
   "execution_count": 12,
   "id": "1601a6dd-c8da-4acf-b838-ddf8eba91f37",
   "metadata": {},
   "outputs": [
    {
     "name": "stdout",
     "output_type": "stream",
     "text": [
      "{'retCode': 0, 'retMsg': 'OK', 'result': {'nextPageCursor': '', 'category': 'linear', 'list': []}, 'retExtInfo': {}, 'time': 1729687693103}\n"
     ]
    }
   ],
   "source": [
    "session = HTTP(\n",
    "    testnet=True,\n",
    "    api_key=api_key,\n",
    "    api_secret=api_secret,\n",
    ")\n",
    "print(session.get_open_orders(\n",
    "    category=\"linear\",\n",
    "    symbol=\"BTCUSDT\",\n",
    "    openOnly=0,\n",
    "    limit=1,\n",
    "))"
   ]
  },
  {
   "cell_type": "code",
   "execution_count": 13,
   "id": "324a614a-f32c-4a63-99aa-23fac7e0e982",
   "metadata": {},
   "outputs": [
    {
     "data": {
      "text/plain": [
       "{'retCode': 0,\n",
       " 'retMsg': 'OK',\n",
       " 'result': {'category': 'linear',\n",
       "  'list': [{'symbol': 'BTCUSDT',\n",
       "    'contractType': 'LinearPerpetual',\n",
       "    'status': 'Trading',\n",
       "    'baseCoin': 'BTC',\n",
       "    'quoteCoin': 'USDT',\n",
       "    'launchTime': '1585526400000',\n",
       "    'deliveryTime': '0',\n",
       "    'deliveryFeeRate': '',\n",
       "    'priceScale': '2',\n",
       "    'leverageFilter': {'minLeverage': '1',\n",
       "     'maxLeverage': '100.00',\n",
       "     'leverageStep': '0.01'},\n",
       "    'priceFilter': {'minPrice': '0.10',\n",
       "     'maxPrice': '199999.80',\n",
       "     'tickSize': '0.10'},\n",
       "    'lotSizeFilter': {'maxOrderQty': '1190.000',\n",
       "     'minOrderQty': '0.001',\n",
       "     'qtyStep': '0.001',\n",
       "     'postOnlyMaxOrderQty': '1190.000',\n",
       "     'maxMktOrderQty': '119.000',\n",
       "     'minNotionalValue': '5'},\n",
       "    'unifiedMarginTrade': True,\n",
       "    'fundingInterval': 480,\n",
       "    'settleCoin': 'USDT',\n",
       "    'copyTrading': 'both',\n",
       "    'upperFundingRate': '0.00375',\n",
       "    'lowerFundingRate': '-0.00375',\n",
       "    'isPreListing': False,\n",
       "    'preListingInfo': None}],\n",
       "  'nextPageCursor': ''},\n",
       " 'retExtInfo': {},\n",
       " 'time': 1729687693677}"
      ]
     },
     "execution_count": 13,
     "metadata": {},
     "output_type": "execute_result"
    }
   ],
   "source": [
    "# Latest Symbol Information - Futures UnAuthenticated (was `latest_information_for_symbol`)\n",
    "instruments_info = session.get_instruments_info(\n",
    "    category=\"linear\",\n",
    "    symbol=\"BTCUSDT\",\n",
    ")\n",
    "instruments_info"
   ]
  },
  {
   "cell_type": "code",
   "execution_count": null,
   "id": "bf403463-2914-4f17-9675-de69df209806",
   "metadata": {},
   "outputs": [],
   "source": []
  }
 ],
 "metadata": {
  "kernelspec": {
   "display_name": "Python 3 (ipykernel)",
   "language": "python",
   "name": "python3"
  },
  "language_info": {
   "codemirror_mode": {
    "name": "ipython",
    "version": 3
   },
   "file_extension": ".py",
   "mimetype": "text/x-python",
   "name": "python",
   "nbconvert_exporter": "python",
   "pygments_lexer": "ipython3",
   "version": "3.12.7"
  }
 },
 "nbformat": 4,
 "nbformat_minor": 5
}
