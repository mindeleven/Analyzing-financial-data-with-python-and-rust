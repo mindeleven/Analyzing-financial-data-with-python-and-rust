{
 "cells": [
  {
   "cell_type": "markdown",
   "id": "a01ff6f0-2fa6-4779-9d34-8ee3f66cdf98",
   "metadata": {},
   "source": [
    "## Markov Processes in Depth"
   ]
  },
  {
   "cell_type": "markdown",
   "id": "4c5966cc-0d0c-46bc-a3f0-49b856a6a5e0",
   "metadata": {},
   "source": [
    "### Introducing Markov Chains (MC)"
   ]
  },
  {
   "cell_type": "markdown",
   "id": "a9b38f81-d4bc-4a48-ab70-2639495a68b0",
   "metadata": {},
   "source": [
    "### Introducing Markov Reward Processes (MRP)"
   ]
  },
  {
   "cell_type": "markdown",
   "id": "ff410f4b-366e-4f0e-b136-2a4adaf1b8c4",
   "metadata": {},
   "source": [
    "## Markov Decision Processes in Depth"
   ]
  },
  {
   "cell_type": "markdown",
   "id": "a045d5f6-a97e-4a11-bfa4-3143e6d71ca5",
   "metadata": {},
   "source": [
    "### Model Setup"
   ]
  },
  {
   "cell_type": "markdown",
   "id": "196d2e30-1522-431e-98ef-ea74f0e6556c",
   "metadata": {},
   "source": [
    "### Assumptions behind MDP"
   ]
  },
  {
   "cell_type": "markdown",
   "id": "6ce58736-dbe4-4b39-b337-f9a7f6550fa6",
   "metadata": {},
   "source": [
    "### Related Concepts: value functions of state"
   ]
  },
  {
   "cell_type": "markdown",
   "id": "0925acb1-5b9b-42ae-9950-ea937cf17745",
   "metadata": {},
   "source": [
    "### Related Concepts: action value functions of state-action pairs"
   ]
  },
  {
   "cell_type": "markdown",
   "id": "7c8e3032-e938-4b15-ad78-dac22b1c5914",
   "metadata": {},
   "source": [
    "### The various forms of Bellman Equations"
   ]
  },
  {
   "cell_type": "markdown",
   "id": "24fcb9a4-3bef-440e-b00e-d8b2e606959d",
   "metadata": {},
   "source": [
    "### Bellman optimality equations"
   ]
  },
  {
   "cell_type": "markdown",
   "id": "81022ff7-6a88-4224-9af5-a714240249c3",
   "metadata": {},
   "source": [
    "## Training a couple of agents"
   ]
  },
  {
   "cell_type": "markdown",
   "id": "83a04855-5371-4b87-8c89-18a83f7829ec",
   "metadata": {},
   "source": []
  },
  {
   "cell_type": "markdown",
   "id": "7610d573-e741-40e2-ae19-b558af7603c7",
   "metadata": {},
   "source": []
  }
 ],
 "metadata": {
  "kernelspec": {
   "display_name": "Python 3 (ipykernel)",
   "language": "python",
   "name": "python3"
  },
  "language_info": {
   "codemirror_mode": {
    "name": "ipython",
    "version": 3
   },
   "file_extension": ".py",
   "mimetype": "text/x-python",
   "name": "python",
   "nbconvert_exporter": "python",
   "pygments_lexer": "ipython3",
   "version": "3.12.7"
  }
 },
 "nbformat": 4,
 "nbformat_minor": 5
}
