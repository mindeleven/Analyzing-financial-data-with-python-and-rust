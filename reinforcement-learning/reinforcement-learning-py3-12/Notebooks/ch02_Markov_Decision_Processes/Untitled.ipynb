{
 "cells": [
  {
   "cell_type": "markdown",
   "id": "a01ff6f0-2fa6-4779-9d34-8ee3f66cdf98",
   "metadata": {},
   "source": [
    "### Environments"
   ]
  },
  {
   "cell_type": "code",
   "execution_count": 1,
   "id": "729655e7-4ef6-4c9b-a5c1-da5169505d2d",
   "metadata": {},
   "outputs": [],
   "source": [
    "import gymnasium as gym\n",
    "from matplotlib import pyplot as plt"
   ]
  },
  {
   "cell_type": "code",
   "execution_count": null,
   "id": "b5577ca8-6cd5-45d1-b47b-d0b7719cedcc",
   "metadata": {},
   "outputs": [],
   "source": []
  }
 ],
 "metadata": {
  "kernelspec": {
   "display_name": "Python 3 (ipykernel)",
   "language": "python",
   "name": "python3"
  },
  "language_info": {
   "codemirror_mode": {
    "name": "ipython",
    "version": 3
   },
   "file_extension": ".py",
   "mimetype": "text/x-python",
   "name": "python",
   "nbconvert_exporter": "python",
   "pygments_lexer": "ipython3",
   "version": "3.12.7"
  }
 },
 "nbformat": 4,
 "nbformat_minor": 5
}
