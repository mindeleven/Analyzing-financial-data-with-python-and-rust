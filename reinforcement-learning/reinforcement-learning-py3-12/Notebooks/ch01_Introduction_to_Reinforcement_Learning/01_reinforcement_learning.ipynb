{
 "cells": [
  {
   "cell_type": "markdown",
   "id": "fa368979-5e97-4dec-a22e-b9777d1a2dbc",
   "metadata": {},
   "source": [
    "# Introduction to Reinforcement Learning"
   ]
  },
  {
   "cell_type": "markdown",
   "id": "c4120c4d-81fd-4471-b958-17f95d1a710b",
   "metadata": {},
   "source": [
    "*[Documentinng a personal learning experience while working and coding with the printed book __Deep Reinforcement Learning with Python__: RLHF for Chatbots and Large Language Models by __Nimish Sanghi__, Apress, 2nd Edition July 2024, ISBN13 979-8868802720]*"
   ]
  },
  {
   "cell_type": "markdown",
   "id": "e027c0a3-859e-436e-9335-170016501a40",
   "metadata": {},
   "source": [
    "__Reinforcement Learning from Human Feedback (RLHF):__ \n",
    "\n",
    "Applying deep reinforcement learning to Large Language Models (LLM) like ChatGPT to make the follow human instructions and produce output that is favored by humans."
   ]
  },
  {
   "cell_type": "markdown",
   "id": "2d0fd3a8-08bd-4d6d-8be3-81061a5edf22",
   "metadata": {},
   "source": [
    "## Reinforcement Learning"
   ]
  },
  {
   "cell_type": "markdown",
   "id": "222d3f7c-470b-4f65-a019-b4b314187de9",
   "metadata": {},
   "source": [
    "The book ***Deep Reinforcement Learning with Python*** by ***Nimish Sanghi*** is basically about __\"the theory and design of algorithms that help machines (agents) gain the capability to perform tasks by interacting with the environment and continuously learning from their successes, failures and rewards.\"__"
   ]
  },
  {
   "cell_type": "markdown",
   "id": "8ddd1b9a-eb28-4fa1-b371-93612f14c218",
   "metadata": {},
   "source": [
    "__Inference Engine in AI forerunners:__\n",
    "\n",
    "\"In expert systems (decision support systems) ... a knowledge base and an inference engine. A knowledge base is an organized collection of facts about the system’s domain. An inference engine interprets and evaluates the facts in the knowledge base in order to provide an answer. Typical tasks for expert systems involve classification, diagnosis, monitoring, design, scheduling, ...\" (https://www.britannica.com/technology/inference-engine)"
   ]
  },
  {
   "cell_type": "markdown",
   "id": "ab9deaae-71f2-41fc-b4b9-8a38072cde0a",
   "metadata": {},
   "source": [
    "__The Modern Concept of Reinforcement Learning is a combination of two different threads:__\n",
    "\n",
    "1. __Concept of Optimal Control:__ \"Optimal control refers to solving problems where decisions are made continuously over time, considering changing information, by using the concept of 'cost-to-go' to minimize integrated costs from a current state to a target state.\" ([sciencedirect.com](https://www.sciencedirect.com/topics/social-sciences/optimal-control)) <br/>One approach to the problem of optimal control was Richard Bellman's discipline of *dynamic programming*, formalized in 1950. Bellman's dynamic programming is all about planning through the space of various options, using *Bellman recursive equations*.\n",
    "\n",
    "3. __Concept of Trial and Error:__ In 1910 Edward Thorndike formalised this theory into a *law* of psychology - *the law of effect*. In full it reads: \"Of several responses made to the same situation those which are accompanied or closely followed by satisfaction to the animal will, other things being equal, be more firmly connected with the situation, so that, when it recurs, they will be more likely to recur; those which are accompanied or closely followed by discomfort to the animal will, other things being equal, have their connections to the situation weakened, so that, when it recurs, they will be less likely to occur. The greater the satisfaction or discomfort, the greater the strengthening or weakening of the bond.\" ([faculty.sfcc.spokane.edu](https://faculty.sfcc.spokane.edu/InetShare/AutoWebs/KarlA/SPRING%202004/Ps101_Chap5_Article1.htm))\n",
    "\n",
    "In short, these concepts are about __increasing the occurence of good outcomes__ and __decreasing the occurence of bad outcomes__."
   ]
  },
  {
   "cell_type": "code",
   "execution_count": null,
   "id": "4c5c5083-14ec-41b4-b71e-cdc6f3594bb1",
   "metadata": {},
   "outputs": [],
   "source": []
  }
 ],
 "metadata": {
  "kernelspec": {
   "display_name": "Python 3 (ipykernel)",
   "language": "python",
   "name": "python3"
  },
  "language_info": {
   "codemirror_mode": {
    "name": "ipython",
    "version": 3
   },
   "file_extension": ".py",
   "mimetype": "text/x-python",
   "name": "python",
   "nbconvert_exporter": "python",
   "pygments_lexer": "ipython3",
   "version": "3.12.7"
  }
 },
 "nbformat": 4,
 "nbformat_minor": 5
}
