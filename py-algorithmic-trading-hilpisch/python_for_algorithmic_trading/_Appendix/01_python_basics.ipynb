{
 "cells": [
  {
   "cell_type": "markdown",
   "id": "4798679f-cd79-4865-b840-1737489a6b16",
   "metadata": {},
   "source": [
    "# Python Basics"
   ]
  },
  {
   "cell_type": "markdown",
   "id": "2346fb56-1a1b-4eb8-813a-5deca34baa90",
   "metadata": {},
   "source": [
    "*[Coding along with Python for Algorithmic Trading, Yves Hilpisch, O'Reilly, 1st edition November 2020, ISBN-13: 978-1492053354]*"
   ]
  },
  {
   "cell_type": "markdown",
   "id": "c9aead98-645c-4988-9eb6-883153363be9",
   "metadata": {},
   "source": [
    "## Data Types"
   ]
  },
  {
   "cell_type": "code",
   "execution_count": 98,
   "id": "0f06b0c2-42cc-450b-b203-cedd2575c3e5",
   "metadata": {},
   "outputs": [],
   "source": [
    "a = 3"
   ]
  },
  {
   "cell_type": "code",
   "execution_count": 99,
   "id": "0b23738f-018e-4558-9f23-ade234feb753",
   "metadata": {},
   "outputs": [
    {
     "data": {
      "text/plain": [
       "int"
      ]
     },
     "execution_count": 99,
     "metadata": {},
     "output_type": "execute_result"
    }
   ],
   "source": [
    "type(a)"
   ]
  },
  {
   "cell_type": "code",
   "execution_count": 100,
   "id": "8f07418c-bf13-4df6-8caf-2e2f3a3c54d7",
   "metadata": {},
   "outputs": [
    {
     "data": {
      "text/plain": [
       "2"
      ]
     },
     "execution_count": 100,
     "metadata": {},
     "output_type": "execute_result"
    }
   ],
   "source": [
    "a.bit_length()"
   ]
  },
  {
   "cell_type": "code",
   "execution_count": 101,
   "id": "21e9f537-84b9-4fca-acc3-38bc03347dbb",
   "metadata": {},
   "outputs": [],
   "source": [
    "b = 5."
   ]
  },
  {
   "cell_type": "code",
   "execution_count": 102,
   "id": "a4c74ab1-37fc-40b5-9e17-c20c06e769a4",
   "metadata": {},
   "outputs": [
    {
     "data": {
      "text/plain": [
       "float"
      ]
     },
     "execution_count": 102,
     "metadata": {},
     "output_type": "execute_result"
    }
   ],
   "source": [
    "type(b)"
   ]
  },
  {
   "cell_type": "code",
   "execution_count": 103,
   "id": "4a4dcc49-5b23-45ff-a3b4-9c9ac00d218e",
   "metadata": {},
   "outputs": [],
   "source": [
    "c = 10 ** 100"
   ]
  },
  {
   "cell_type": "code",
   "execution_count": 104,
   "id": "82f9d66b-2c00-46cf-9fe0-9d48315e4329",
   "metadata": {},
   "outputs": [
    {
     "data": {
      "text/plain": [
       "10000000000000000000000000000000000000000000000000000000000000000000000000000000000000000000000000000"
      ]
     },
     "execution_count": 104,
     "metadata": {},
     "output_type": "execute_result"
    }
   ],
   "source": [
    "c"
   ]
  },
  {
   "cell_type": "code",
   "execution_count": 105,
   "id": "44ed9a24-6e85-430b-a57c-41d4f0af8916",
   "metadata": {},
   "outputs": [
    {
     "data": {
      "text/plain": [
       "333"
      ]
     },
     "execution_count": 105,
     "metadata": {},
     "output_type": "execute_result"
    }
   ],
   "source": [
    "c.bit_length()"
   ]
  },
  {
   "cell_type": "code",
   "execution_count": 106,
   "id": "573827d4-3da1-4943-8f63-b7c443cbdef6",
   "metadata": {},
   "outputs": [
    {
     "data": {
      "text/plain": [
       "0.6"
      ]
     },
     "execution_count": 106,
     "metadata": {},
     "output_type": "execute_result"
    }
   ],
   "source": [
    "3 / 5."
   ]
  },
  {
   "cell_type": "code",
   "execution_count": 107,
   "id": "36e57e17-b627-4b0f-a36c-7f9ea9fe6fd9",
   "metadata": {},
   "outputs": [
    {
     "data": {
      "text/plain": [
       "15.0"
      ]
     },
     "execution_count": 107,
     "metadata": {},
     "output_type": "execute_result"
    }
   ],
   "source": [
    "a * b"
   ]
  },
  {
   "cell_type": "code",
   "execution_count": 108,
   "id": "b185baaf-fe77-4fa0-9743-3a58d0f56792",
   "metadata": {},
   "outputs": [
    {
     "data": {
      "text/plain": [
       "8.0"
      ]
     },
     "execution_count": 108,
     "metadata": {},
     "output_type": "execute_result"
    }
   ],
   "source": [
    "a + b"
   ]
  },
  {
   "cell_type": "code",
   "execution_count": 109,
   "id": "f6d1f2d4-feed-4cac-9c63-d1c91f42d67c",
   "metadata": {},
   "outputs": [
    {
     "data": {
      "text/plain": [
       "-2.0"
      ]
     },
     "execution_count": 109,
     "metadata": {},
     "output_type": "execute_result"
    }
   ],
   "source": [
    "a - b"
   ]
  },
  {
   "cell_type": "code",
   "execution_count": 110,
   "id": "afdd98f9-96eb-4d04-ad1f-bdf0f279513e",
   "metadata": {},
   "outputs": [
    {
     "data": {
      "text/plain": [
       "243.0"
      ]
     },
     "execution_count": 110,
     "metadata": {},
     "output_type": "execute_result"
    }
   ],
   "source": [
    "a ** b"
   ]
  },
  {
   "cell_type": "code",
   "execution_count": 111,
   "id": "d93b44eb-d238-41e2-8004-c52f84feab7a",
   "metadata": {},
   "outputs": [],
   "source": [
    "import math"
   ]
  },
  {
   "cell_type": "markdown",
   "id": "a0317f12-8d89-4e78-8929-70cd8d9beaa4",
   "metadata": {},
   "source": [
    "logarithm, the exponent or power to which a base must be raised to yield a given number. Expressed mathematically, x is the logarithm of n to the base b if bx = n, in which case one writes x = logb n. For example, 23 = 8; therefore, 3 is the logarithm of 8 to base 2, or 3 = log2 8. In the same fashion, since 102 = 100, then 2 = log10 100. Logarithms of the latter sort (that is, logarithms with base 10) are called common, or Briggsian, logarithms and are written simply log n ([britannica.com](https://www.britannica.com/science/logarithm))."
   ]
  },
  {
   "cell_type": "code",
   "execution_count": 112,
   "id": "1f0decc9-66b2-4880-a4c8-4ab703940ed7",
   "metadata": {},
   "outputs": [
    {
     "data": {
      "text/plain": [
       "1.0986122886681098"
      ]
     },
     "execution_count": 112,
     "metadata": {},
     "output_type": "execute_result"
    }
   ],
   "source": [
    "math.log(a)"
   ]
  },
  {
   "cell_type": "code",
   "execution_count": 113,
   "id": "9d0ca6d6-605a-4316-a190-c43136db03c2",
   "metadata": {},
   "outputs": [
    {
     "data": {
      "text/plain": [
       "20.085536923187668"
      ]
     },
     "execution_count": 113,
     "metadata": {},
     "output_type": "execute_result"
    }
   ],
   "source": [
    "math.exp(a)"
   ]
  },
  {
   "cell_type": "markdown",
   "id": "1a1aeea8-777e-4b2b-9d92-5bd72cb3948e",
   "metadata": {},
   "source": [
    "sine, one of the six trigonometric functions, which, in a right triangle ABC, for an angle A, issin A = length of side opposite angle A/length of hypotenuse.(The other five trigonometric functions are cosine [cos], tangent [tan], secant [sec], cosecant [csc], and cotangent [cot].) ([britannica.com](https://www.britannica.com/science/sine))."
   ]
  },
  {
   "cell_type": "code",
   "execution_count": 114,
   "id": "de55c96c-448b-4a32-ae41-2941b549d498",
   "metadata": {},
   "outputs": [
    {
     "data": {
      "text/plain": [
       "-0.9589242746631385"
      ]
     },
     "execution_count": 114,
     "metadata": {},
     "output_type": "execute_result"
    }
   ],
   "source": [
    "math.sin(b)"
   ]
  },
  {
   "cell_type": "code",
   "execution_count": 115,
   "id": "0dbf5749-e311-46f0-9002-8195567f2fa9",
   "metadata": {},
   "outputs": [],
   "source": [
    "s = 'Python for Algorithmic Trading.'"
   ]
  },
  {
   "cell_type": "code",
   "execution_count": 116,
   "id": "3f5e84a5-0730-4a8c-8bdc-30e1ddbc7eef",
   "metadata": {},
   "outputs": [
    {
     "data": {
      "text/plain": [
       "str"
      ]
     },
     "execution_count": 116,
     "metadata": {},
     "output_type": "execute_result"
    }
   ],
   "source": [
    "type(s)"
   ]
  },
  {
   "cell_type": "code",
   "execution_count": 117,
   "id": "e0a2b2db-7f91-4663-a7d7-4b9768e48c69",
   "metadata": {},
   "outputs": [
    {
     "data": {
      "text/plain": [
       "'python for algorithmic trading.'"
      ]
     },
     "execution_count": 117,
     "metadata": {},
     "output_type": "execute_result"
    }
   ],
   "source": [
    "s.lower()"
   ]
  },
  {
   "cell_type": "code",
   "execution_count": 118,
   "id": "fe9b882c-03cd-4f2b-af2f-b92c6d1be0ba",
   "metadata": {},
   "outputs": [
    {
     "data": {
      "text/plain": [
       "'PYTHON FOR ALGORITHMIC TRADING.'"
      ]
     },
     "execution_count": 118,
     "metadata": {},
     "output_type": "execute_result"
    }
   ],
   "source": [
    "s.upper()"
   ]
  },
  {
   "cell_type": "code",
   "execution_count": 119,
   "id": "7494ef16-3173-4a94-b90b-53aab2915879",
   "metadata": {},
   "outputs": [
    {
     "data": {
      "text/plain": [
       "'Python'"
      ]
     },
     "execution_count": 119,
     "metadata": {},
     "output_type": "execute_result"
    }
   ],
   "source": [
    "s[0:6]"
   ]
  },
  {
   "cell_type": "code",
   "execution_count": 120,
   "id": "e15644ed-6fe9-4e90-a1e2-6dd526167dd3",
   "metadata": {},
   "outputs": [
    {
     "data": {
      "text/plain": [
       "'Python Trading'"
      ]
     },
     "execution_count": 120,
     "metadata": {},
     "output_type": "execute_result"
    }
   ],
   "source": [
    "st = s[0:6] + s[-9:-1]\n",
    "st"
   ]
  },
  {
   "cell_type": "code",
   "execution_count": 121,
   "id": "33bb2942-a367-44d5-a812-acea0925decd",
   "metadata": {},
   "outputs": [],
   "source": [
    "repl = 'My name is %s, I am %d years old and %4.2f m tall.'"
   ]
  },
  {
   "cell_type": "code",
   "execution_count": 122,
   "id": "21af0c45-dae4-4224-a18d-a5ef290c2d93",
   "metadata": {},
   "outputs": [
    {
     "name": "stdout",
     "output_type": "stream",
     "text": [
      "My name is Gordon Gekko, I am 43 years old and 1.78 m tall.\n"
     ]
    }
   ],
   "source": [
    "print(repl % ('Gordon Gekko', 43, 1.78)) # Gordon Gekko is a composite character in the 1987 film Wall Street"
   ]
  },
  {
   "cell_type": "code",
   "execution_count": 123,
   "id": "124023aa-2c6a-411b-be15-9e4b30eb3be0",
   "metadata": {},
   "outputs": [],
   "source": [
    "repl = 'My name is {:s}, I am {:d} years old and {:4.2f} m tall.'"
   ]
  },
  {
   "cell_type": "code",
   "execution_count": 124,
   "id": "461101aa-0dc4-4559-8a40-2da11446ac48",
   "metadata": {},
   "outputs": [
    {
     "name": "stdout",
     "output_type": "stream",
     "text": [
      "My name is Gordon Gekko, I am 43 years old and 1.78 m tall.\n"
     ]
    }
   ],
   "source": [
    "print(repl.format('Gordon Gekko', 43, 1.78))"
   ]
  },
  {
   "cell_type": "code",
   "execution_count": 125,
   "id": "54de1c16-78c0-4e71-9bba-519a6934e0c2",
   "metadata": {},
   "outputs": [],
   "source": [
    "name, age, height = 'Gordon Gekko', 43, 1.78"
   ]
  },
  {
   "cell_type": "code",
   "execution_count": 126,
   "id": "1c8f74d5-0c29-46e4-ad5b-ef5b4b34fe11",
   "metadata": {},
   "outputs": [
    {
     "name": "stdout",
     "output_type": "stream",
     "text": [
      "My name is Gordon Gekko, I am 43 years old and 1.78m tall.\n"
     ]
    }
   ],
   "source": [
    "print(f'My name is {name:s}, I am {age:d} years old and {height:4.2f}m tall.')"
   ]
  },
  {
   "cell_type": "markdown",
   "id": "7ad7128d-093e-43e1-8e46-4366ef632e16",
   "metadata": {},
   "source": [
    "## Data Structures"
   ]
  },
  {
   "cell_type": "markdown",
   "id": "4a5f9659-f6dd-42aa-8082-32dc9419bad5",
   "metadata": {},
   "source": [
    "### Tuple"
   ]
  },
  {
   "cell_type": "code",
   "execution_count": 127,
   "id": "2c92d5be-77f6-4f53-9d2c-b9ebf1387971",
   "metadata": {},
   "outputs": [],
   "source": [
    "t1 = (a, b, st)"
   ]
  },
  {
   "cell_type": "code",
   "execution_count": 128,
   "id": "f5b865c5-4915-458f-bb64-91ac9c83efa5",
   "metadata": {},
   "outputs": [
    {
     "data": {
      "text/plain": [
       "(3, 5.0, 'Python Trading')"
      ]
     },
     "execution_count": 128,
     "metadata": {},
     "output_type": "execute_result"
    }
   ],
   "source": [
    "t1"
   ]
  },
  {
   "cell_type": "code",
   "execution_count": 129,
   "id": "3510b880-2a0c-4bb8-80d0-7f2895a4b810",
   "metadata": {},
   "outputs": [
    {
     "data": {
      "text/plain": [
       "tuple"
      ]
     },
     "execution_count": 129,
     "metadata": {},
     "output_type": "execute_result"
    }
   ],
   "source": [
    "type(t1)"
   ]
  },
  {
   "cell_type": "code",
   "execution_count": 130,
   "id": "dcfd4178-82cf-45a9-9860-7fcda042bd26",
   "metadata": {},
   "outputs": [
    {
     "data": {
      "text/plain": [
       "('Python Trading', 5.0, 3)"
      ]
     },
     "execution_count": 130,
     "metadata": {},
     "output_type": "execute_result"
    }
   ],
   "source": [
    "t2 = st, b, a\n",
    "t2"
   ]
  },
  {
   "cell_type": "code",
   "execution_count": 131,
   "id": "e6aefddd-b744-4ea9-baf0-6b695f2f8cfd",
   "metadata": {},
   "outputs": [
    {
     "data": {
      "text/plain": [
       "tuple"
      ]
     },
     "execution_count": 131,
     "metadata": {},
     "output_type": "execute_result"
    }
   ],
   "source": [
    "type(t2)"
   ]
  },
  {
   "cell_type": "code",
   "execution_count": 132,
   "id": "679e7989-ff5e-4803-92c1-6c048b43b7b7",
   "metadata": {},
   "outputs": [
    {
     "data": {
      "text/plain": [
       "((3, 5.0, 'Python Trading'), ('Python Trading', 5.0, 3))"
      ]
     },
     "execution_count": 132,
     "metadata": {},
     "output_type": "execute_result"
    }
   ],
   "source": [
    "t = (t1, t2)\n",
    "t"
   ]
  },
  {
   "cell_type": "code",
   "execution_count": 133,
   "id": "e2e59918-9714-4f76-8dae-78654477d737",
   "metadata": {},
   "outputs": [
    {
     "data": {
      "text/plain": [
       "'Python Trading'"
      ]
     },
     "execution_count": 133,
     "metadata": {},
     "output_type": "execute_result"
    }
   ],
   "source": [
    "t[0][2]"
   ]
  },
  {
   "cell_type": "markdown",
   "id": "2394546b-a057-4ed4-93b6-c53fa7c881da",
   "metadata": {},
   "source": [
    "### List"
   ]
  },
  {
   "cell_type": "code",
   "execution_count": 134,
   "id": "9dd3cf1d-1d20-4c8c-ba79-ef4124bf9f64",
   "metadata": {},
   "outputs": [],
   "source": [
    "l = [a, b, st]"
   ]
  },
  {
   "cell_type": "code",
   "execution_count": 135,
   "id": "89f9f535-b636-4b9c-aecf-4d44221ecdf3",
   "metadata": {},
   "outputs": [
    {
     "data": {
      "text/plain": [
       "[3, 5.0, 'Python Trading']"
      ]
     },
     "execution_count": 135,
     "metadata": {},
     "output_type": "execute_result"
    }
   ],
   "source": [
    "l"
   ]
  },
  {
   "cell_type": "code",
   "execution_count": 136,
   "id": "cee3aae3-6440-4d4f-bfa4-3a3a11781fa9",
   "metadata": {},
   "outputs": [
    {
     "data": {
      "text/plain": [
       "list"
      ]
     },
     "execution_count": 136,
     "metadata": {},
     "output_type": "execute_result"
    }
   ],
   "source": [
    "type(l)"
   ]
  },
  {
   "cell_type": "code",
   "execution_count": 137,
   "id": "cb5e3d4e-878e-4ea4-9939-6086d1c7d140",
   "metadata": {},
   "outputs": [],
   "source": [
    "l.append(s.split()[3])"
   ]
  },
  {
   "cell_type": "code",
   "execution_count": 138,
   "id": "a9118275-db5f-47d5-ba64-b3f8c486ec78",
   "metadata": {},
   "outputs": [
    {
     "data": {
      "text/plain": [
       "[3, 5.0, 'Python Trading', 'Trading.']"
      ]
     },
     "execution_count": 138,
     "metadata": {},
     "output_type": "execute_result"
    }
   ],
   "source": [
    "l"
   ]
  },
  {
   "cell_type": "code",
   "execution_count": 139,
   "id": "e762bfdd-96b0-4297-8866-196008d10ee7",
   "metadata": {},
   "outputs": [],
   "source": [
    "l = list(('Z', 'Q', 'D', 'J', 'E', 'H', '5.', 'a'))"
   ]
  },
  {
   "cell_type": "code",
   "execution_count": 140,
   "id": "ae77987e-22c7-4594-8e1f-d2c9667fd6ac",
   "metadata": {},
   "outputs": [
    {
     "data": {
      "text/plain": [
       "['Z', 'Q', 'D', 'J', 'E', 'H', '5.', 'a']"
      ]
     },
     "execution_count": 140,
     "metadata": {},
     "output_type": "execute_result"
    }
   ],
   "source": [
    "l"
   ]
  },
  {
   "cell_type": "code",
   "execution_count": 141,
   "id": "e802b1c4-5091-48ee-9c1e-1c7cdbafa95f",
   "metadata": {},
   "outputs": [
    {
     "data": {
      "text/plain": [
       "['5.', 'D', 'E', 'H', 'J', 'Q', 'Z', 'a']"
      ]
     },
     "execution_count": 141,
     "metadata": {},
     "output_type": "execute_result"
    }
   ],
   "source": [
    "l.sort()\n",
    "l"
   ]
  },
  {
   "cell_type": "markdown",
   "id": "69a5f129-dfab-450a-86bd-5800dc0db105",
   "metadata": {},
   "source": [
    "### Dictionary"
   ]
  },
  {
   "cell_type": "code",
   "execution_count": 142,
   "id": "0c8ce449-eaf0-4a06-a32d-eaa3e45aba07",
   "metadata": {},
   "outputs": [],
   "source": [
    "d = {'int_obj': a, 'float_obj': b, 'string_obj': st}"
   ]
  },
  {
   "cell_type": "code",
   "execution_count": 143,
   "id": "d3572d85-be5c-44a6-b74e-f688f9648eaf",
   "metadata": {},
   "outputs": [
    {
     "data": {
      "text/plain": [
       "{'int_obj': 3, 'float_obj': 5.0, 'string_obj': 'Python Trading'}"
      ]
     },
     "execution_count": 143,
     "metadata": {},
     "output_type": "execute_result"
    }
   ],
   "source": [
    "d"
   ]
  },
  {
   "cell_type": "code",
   "execution_count": 144,
   "id": "580e13d0-22d7-43e0-bba0-f41d00087d96",
   "metadata": {},
   "outputs": [
    {
     "data": {
      "text/plain": [
       "dict"
      ]
     },
     "execution_count": 144,
     "metadata": {},
     "output_type": "execute_result"
    }
   ],
   "source": [
    "type(d)"
   ]
  },
  {
   "cell_type": "code",
   "execution_count": 145,
   "id": "43c95d77-3d9b-483a-ae66-83a36e956125",
   "metadata": {},
   "outputs": [
    {
     "data": {
      "text/plain": [
       "5.0"
      ]
     },
     "execution_count": 145,
     "metadata": {},
     "output_type": "execute_result"
    }
   ],
   "source": [
    "d['float_obj']"
   ]
  },
  {
   "cell_type": "code",
   "execution_count": 146,
   "id": "b79c7417-827c-4a1d-a296-26dcfbb97400",
   "metadata": {},
   "outputs": [],
   "source": [
    "d['int_obj_long'] = 10 ** 20"
   ]
  },
  {
   "cell_type": "code",
   "execution_count": 147,
   "id": "80bbcb3a-da8e-47f0-a95b-e15022315d23",
   "metadata": {},
   "outputs": [
    {
     "data": {
      "text/plain": [
       "{'int_obj': 3,\n",
       " 'float_obj': 5.0,\n",
       " 'string_obj': 'Python Trading',\n",
       " 'int_obj_long': 100000000000000000000}"
      ]
     },
     "execution_count": 147,
     "metadata": {},
     "output_type": "execute_result"
    }
   ],
   "source": [
    "d"
   ]
  },
  {
   "cell_type": "code",
   "execution_count": 148,
   "id": "114a7c71-5e92-43d8-960b-bb1ae29ec986",
   "metadata": {},
   "outputs": [
    {
     "data": {
      "text/plain": [
       "dict_keys(['int_obj', 'float_obj', 'string_obj', 'int_obj_long'])"
      ]
     },
     "execution_count": 148,
     "metadata": {},
     "output_type": "execute_result"
    }
   ],
   "source": [
    "d.keys()"
   ]
  },
  {
   "cell_type": "code",
   "execution_count": 149,
   "id": "5c5f32ae-17fc-40f9-b94e-1b4954d40b4a",
   "metadata": {},
   "outputs": [
    {
     "data": {
      "text/plain": [
       "dict_values([3, 5.0, 'Python Trading', 100000000000000000000])"
      ]
     },
     "execution_count": 149,
     "metadata": {},
     "output_type": "execute_result"
    }
   ],
   "source": [
    "d.values()"
   ]
  },
  {
   "cell_type": "markdown",
   "id": "de65e55d-4ad4-4419-8839-f407d8988e67",
   "metadata": {},
   "source": [
    "## Control Structures"
   ]
  },
  {
   "cell_type": "code",
   "execution_count": 150,
   "id": "ddffd6b8-0de3-4205-899e-786809b6d646",
   "metadata": {},
   "outputs": [
    {
     "data": {
      "text/plain": [
       "range(0, 5)"
      ]
     },
     "execution_count": 150,
     "metadata": {},
     "output_type": "execute_result"
    }
   ],
   "source": [
    "range(5)"
   ]
  },
  {
   "cell_type": "code",
   "execution_count": 151,
   "id": "b07f966b-873a-4a52-a5fc-2732eea438c7",
   "metadata": {},
   "outputs": [
    {
     "data": {
      "text/plain": [
       "range(3, 15, 2)"
      ]
     },
     "execution_count": 151,
     "metadata": {},
     "output_type": "execute_result"
    }
   ],
   "source": [
    "range(3, 15, 2)"
   ]
  },
  {
   "cell_type": "code",
   "execution_count": 152,
   "id": "98366601-95ec-4a45-aada-5ce167d05493",
   "metadata": {},
   "outputs": [
    {
     "name": "stdout",
     "output_type": "stream",
     "text": [
      "0 1 4 9 16 "
     ]
    }
   ],
   "source": [
    "for i in range(5):\n",
    "    print(i ** 2, end=' ')"
   ]
  },
  {
   "cell_type": "code",
   "execution_count": 153,
   "id": "ff59bb0e-8b20-459a-b4bf-9969476cd94f",
   "metadata": {},
   "outputs": [
    {
     "name": "stdout",
     "output_type": "stream",
     "text": [
      "3 5 7 9 11 13 "
     ]
    }
   ],
   "source": [
    "for i in range(3, 15, 2):\n",
    "    print(i, end=' ')"
   ]
  },
  {
   "cell_type": "code",
   "execution_count": 154,
   "id": "e458ff8f-0c48-49f5-b0b0-6698d0aa9756",
   "metadata": {},
   "outputs": [],
   "source": [
    "l = ['a', 'b', 'c', 'd', 'e']"
   ]
  },
  {
   "cell_type": "code",
   "execution_count": 155,
   "id": "925a01f9-9eba-4e13-bb19-b88c368c5cef",
   "metadata": {},
   "outputs": [
    {
     "name": "stdout",
     "output_type": "stream",
     "text": [
      "a\n",
      "b\n",
      "c\n",
      "d\n",
      "e\n"
     ]
    }
   ],
   "source": [
    "for _ in l:\n",
    "    print(_)"
   ]
  },
  {
   "cell_type": "code",
   "execution_count": 156,
   "id": "22b050a2-0ff9-463c-ac9e-bfbc33a3f26f",
   "metadata": {},
   "outputs": [],
   "source": [
    "s = 'Python Trading'"
   ]
  },
  {
   "cell_type": "code",
   "execution_count": 157,
   "id": "1db77a85-65cc-4eed-b4f9-70f2171afc7a",
   "metadata": {},
   "outputs": [
    {
     "name": "stdout",
     "output_type": "stream",
     "text": [
      "P|y|t|h|o|n| |T|r|a|d|i|n|g|"
     ]
    }
   ],
   "source": [
    "for c in s:\n",
    "    print(c + '|', end='')"
   ]
  },
  {
   "cell_type": "code",
   "execution_count": 158,
   "id": "6b02fd5a-08b6-450e-a17d-d991726559d5",
   "metadata": {},
   "outputs": [],
   "source": [
    "i = 0"
   ]
  },
  {
   "cell_type": "code",
   "execution_count": 159,
   "id": "08e31458-10f8-4807-ba5e-07081749f50a",
   "metadata": {},
   "outputs": [
    {
     "name": "stdout",
     "output_type": "stream",
     "text": [
      "0.0 1.0 1.4142135623730951 1.7320508075688772 2.0 "
     ]
    }
   ],
   "source": [
    "while i < 5:\n",
    "    print(i ** 0.5, end=' ')\n",
    "    i += 1"
   ]
  },
  {
   "cell_type": "markdown",
   "id": "6aac7428-104b-4bcc-808d-42be1a44e4c1",
   "metadata": {},
   "source": [
    "## Python Idioms "
   ]
  },
  {
   "cell_type": "markdown",
   "id": "7d9fc225-e71e-43e9-b8ec-df39b52b40b0",
   "metadata": {},
   "source": [
    "### List Comprehension"
   ]
  },
  {
   "cell_type": "code",
   "execution_count": 160,
   "id": "76b02b2c-6d23-433e-bc6b-77bb04b985cc",
   "metadata": {},
   "outputs": [],
   "source": [
    "lc = [i ** 2 for i in range(10)] # creating a list object based in list comprehension syntax"
   ]
  },
  {
   "cell_type": "code",
   "execution_count": 161,
   "id": "469c33f3-1760-407e-a411-d04214321ad4",
   "metadata": {},
   "outputs": [
    {
     "data": {
      "text/plain": [
       "[0, 1, 4, 9, 16, 25, 36, 49, 64, 81]"
      ]
     },
     "execution_count": 161,
     "metadata": {},
     "output_type": "execute_result"
    }
   ],
   "source": [
    "lc"
   ]
  },
  {
   "cell_type": "code",
   "execution_count": 162,
   "id": "a8edd37d-4bcf-483c-8ac4-12c7e2a615b1",
   "metadata": {},
   "outputs": [
    {
     "data": {
      "text/plain": [
       "list"
      ]
     },
     "execution_count": 162,
     "metadata": {},
     "output_type": "execute_result"
    }
   ],
   "source": [
    "type(lc)"
   ]
  },
  {
   "cell_type": "markdown",
   "id": "d3a75824-ca09-48ac-8cee-3ed2329a90a2",
   "metadata": {},
   "source": [
    "### lambda (or anonymous) functions"
   ]
  },
  {
   "cell_type": "code",
   "execution_count": 163,
   "id": "9b1e07a2-17c2-48b9-b1f5-4a7efe0aa282",
   "metadata": {},
   "outputs": [],
   "source": [
    "f = lambda x: math.cos(x) # defining a function via lambda syntax"
   ]
  },
  {
   "cell_type": "code",
   "execution_count": 164,
   "id": "9c5c6837-465c-4177-8b2f-b55a2b360309",
   "metadata": {},
   "outputs": [
    {
     "data": {
      "text/plain": [
       "0.28366218546322625"
      ]
     },
     "execution_count": 164,
     "metadata": {},
     "output_type": "execute_result"
    }
   ],
   "source": [
    "f(5) # evaluating f for a value 5"
   ]
  },
  {
   "cell_type": "code",
   "execution_count": 165,
   "id": "71cbc5f9-003e-456d-9e6b-556c477c7135",
   "metadata": {},
   "outputs": [
    {
     "data": {
      "text/plain": [
       "[1.0,\n",
       " 0.5403023058681398,\n",
       " -0.4161468365471424,\n",
       " -0.9899924966004454,\n",
       " -0.6536436208636119,\n",
       " 0.28366218546322625,\n",
       " 0.960170286650366,\n",
       " 0.7539022543433046,\n",
       " -0.14550003380861354,\n",
       " -0.9111302618846769]"
      ]
     },
     "execution_count": 165,
     "metadata": {},
     "output_type": "execute_result"
    }
   ],
   "source": [
    "# map the function f to all elements of the range object\n",
    "# create a list object with the results\n",
    "list(map(lambda x: math.cos(x), range(10)))"
   ]
  },
  {
   "cell_type": "markdown",
   "id": "33ed5122-90a9-4ac2-954d-b6787fdfcbe5",
   "metadata": {},
   "source": [
    "### Python functions"
   ]
  },
  {
   "cell_type": "code",
   "execution_count": 166,
   "id": "48a312de-2188-4918-b456-88bc3125f956",
   "metadata": {},
   "outputs": [],
   "source": [
    "def f(x):\n",
    "    return math.exp(x)"
   ]
  },
  {
   "cell_type": "code",
   "execution_count": 167,
   "id": "0d320d04-27f1-402e-8af3-4beb060116e3",
   "metadata": {},
   "outputs": [
    {
     "data": {
      "text/plain": [
       "148.4131591025766"
      ]
     },
     "execution_count": 167,
     "metadata": {},
     "output_type": "execute_result"
    }
   ],
   "source": [
    "f(5)"
   ]
  },
  {
   "cell_type": "code",
   "execution_count": 168,
   "id": "751a8633-4667-4a91-a3d8-50d0805efb48",
   "metadata": {},
   "outputs": [],
   "source": [
    "def f(*args):\n",
    "    for arg in args:\n",
    "        print(arg)\n",
    "    return None"
   ]
  },
  {
   "cell_type": "code",
   "execution_count": 169,
   "id": "3eb6673d-fdbb-44f3-9018-a87285f082cc",
   "metadata": {},
   "outputs": [
    {
     "name": "stdout",
     "output_type": "stream",
     "text": [
      "['a', 'b', 'c', 'd', 'e']\n"
     ]
    }
   ],
   "source": [
    "f(l)"
   ]
  },
  {
   "cell_type": "code",
   "execution_count": 170,
   "id": "df553714-4f14-4839-b7ec-e1dd680fad97",
   "metadata": {},
   "outputs": [],
   "source": [
    "import random"
   ]
  },
  {
   "cell_type": "code",
   "execution_count": 171,
   "id": "7906c07c-9a5c-4d2f-972a-bbc2fba8eaba",
   "metadata": {},
   "outputs": [],
   "source": [
    "a = random.randint(0, 1000)"
   ]
  },
  {
   "cell_type": "code",
   "execution_count": 172,
   "id": "ced31992-6af2-491f-bf63-171e1215c3d8",
   "metadata": {},
   "outputs": [
    {
     "name": "stdout",
     "output_type": "stream",
     "text": [
      "Random number is 431\n"
     ]
    }
   ],
   "source": [
    "print(f'Random number is {a}')"
   ]
  },
  {
   "cell_type": "code",
   "execution_count": 173,
   "id": "493f7a88-7833-499f-b6ce-cb93d1a5101c",
   "metadata": {},
   "outputs": [],
   "source": [
    "def number_decide(number):\n",
    "    if a < 10:\n",
    "        return \"Number is single digit.\"\n",
    "    elif 10 <= a < 100:\n",
    "        return \"Number is double digit.\"\n",
    "    else:\n",
    "        return \"Number is triple digit.\""
   ]
  },
  {
   "cell_type": "code",
   "execution_count": 174,
   "id": "bed270d7-369f-49f5-81cb-70fd0f4cbb8f",
   "metadata": {},
   "outputs": [
    {
     "data": {
      "text/plain": [
       "'Number is triple digit.'"
      ]
     },
     "execution_count": 174,
     "metadata": {},
     "output_type": "execute_result"
    }
   ],
   "source": [
    "number_decide(a)"
   ]
  },
  {
   "cell_type": "code",
   "execution_count": null,
   "id": "3e60cc36-5b57-4659-afce-913f96b9fb34",
   "metadata": {},
   "outputs": [],
   "source": []
  }
 ],
 "metadata": {
  "kernelspec": {
   "display_name": "Python 3 (ipykernel)",
   "language": "python",
   "name": "python3"
  },
  "language_info": {
   "codemirror_mode": {
    "name": "ipython",
    "version": 3
   },
   "file_extension": ".py",
   "mimetype": "text/x-python",
   "name": "python",
   "nbconvert_exporter": "python",
   "pygments_lexer": "ipython3",
   "version": "3.12.4"
  }
 },
 "nbformat": 4,
 "nbformat_minor": 5
}
