{
 "cells": [
  {
   "cell_type": "markdown",
   "id": "70a4a0cd-1ea6-43c3-9e93-8e20c145bce1",
   "metadata": {},
   "source": [
    "# Storing Financial Data Efficiently"
   ]
  },
  {
   "cell_type": "markdown",
   "id": "917cff3b-b2a6-47f0-a762-f92fc9c160e4",
   "metadata": {},
   "source": [
    "### Storing DataFrame Objects"
   ]
  },
  {
   "cell_type": "code",
   "execution_count": 41,
   "id": "4d1ea473-7bcb-4812-aadb-b88edb651a73",
   "metadata": {},
   "outputs": [],
   "source": [
    "import pandas as pd\n",
    "from sample_data import generate_sample_data"
   ]
  },
  {
   "cell_type": "code",
   "execution_count": 42,
   "id": "d9c2e5a7-ea97-4a70-8b3a-c0894f4ab840",
   "metadata": {},
   "outputs": [
    {
     "name": "stdout",
     "output_type": "stream",
     "text": [
      "                            No0         No1         No2         No3\n",
      "2021-01-01 00:00:00  100.000000  100.000000  100.000000  100.000000\n",
      "2021-01-01 00:01:00   99.946060   99.923605  100.014555  100.041542\n",
      "2021-01-01 00:02:00   99.936160   99.811525   99.989511  100.020116\n",
      "2021-01-01 00:03:00   99.943931   99.743754  100.014933  100.052796\n",
      "2021-01-01 00:04:00   99.933024   99.679133   99.933961  100.051076\n"
     ]
    }
   ],
   "source": [
    "print(generate_sample_data(rows=5, cols=4)) # printing sample financial data set"
   ]
  },
  {
   "cell_type": "code",
   "execution_count": 43,
   "id": "bde19480-1d52-41b1-9d71-0b18d4ab118a",
   "metadata": {},
   "outputs": [
    {
     "name": "stdout",
     "output_type": "stream",
     "text": [
      "CPU times: user 5 μs, sys: 1 μs, total: 6 μs\n",
      "Wall time: 16 μs\n"
     ]
    }
   ],
   "source": [
    "# creating sample data set for storing example\n",
    "%time\n",
    "data = generate_sample_data(rows=5e6, cols=10).round(4) # 5.000.000 rows, 10 cols"
   ]
  },
  {
   "cell_type": "code",
   "execution_count": 44,
   "id": "e6fad977-ddd8-43cf-bb1c-2127290daec3",
   "metadata": {},
   "outputs": [
    {
     "name": "stdout",
     "output_type": "stream",
     "text": [
      "<class 'pandas.core.frame.DataFrame'>\n",
      "DatetimeIndex: 5000000 entries, 2021-01-01 00:00:00 to 2030-07-05 05:19:00\n",
      "Freq: min\n",
      "Data columns (total 10 columns):\n",
      " #   Column  Dtype  \n",
      "---  ------  -----  \n",
      " 0   No0     float64\n",
      " 1   No1     float64\n",
      " 2   No2     float64\n",
      " 3   No3     float64\n",
      " 4   No4     float64\n",
      " 5   No5     float64\n",
      " 6   No6     float64\n",
      " 7   No7     float64\n",
      " 8   No8     float64\n",
      " 9   No9     float64\n",
      "dtypes: float64(10)\n",
      "memory usage: 419.6 MB\n"
     ]
    }
   ],
   "source": [
    "data.info()"
   ]
  },
  {
   "cell_type": "code",
   "execution_count": 45,
   "id": "88296f97-1cd5-43ce-b7e3-75675fff185f",
   "metadata": {},
   "outputs": [],
   "source": [
    "# opening HDFStore object on disc for writing\n",
    "h5 = pd.HDFStore('../../assets/hdf_store/data.h5', 'w')"
   ]
  },
  {
   "cell_type": "code",
   "execution_count": 46,
   "id": "349ad7d7-4d6a-4971-ab70-e026d1056100",
   "metadata": {},
   "outputs": [
    {
     "name": "stdout",
     "output_type": "stream",
     "text": [
      "CPU times: user 5.98 ms, sys: 59.2 ms, total: 65.2 ms\n",
      "Wall time: 168 ms\n"
     ]
    }
   ],
   "source": [
    "%time h5['data'] = data # writing data frame object to disc"
   ]
  },
  {
   "cell_type": "code",
   "execution_count": 47,
   "id": "bfb0f278-2fd3-45e3-9f0b-5a858f50083f",
   "metadata": {},
   "outputs": [
    {
     "data": {
      "text/plain": [
       "<class 'pandas.io.pytables.HDFStore'>\n",
       "File path: ../../assets/hdf_store/data.h5"
      ]
     },
     "execution_count": 47,
     "metadata": {},
     "output_type": "execute_result"
    }
   ],
   "source": [
    "h5 # printing out meta information of database file"
   ]
  },
  {
   "cell_type": "code",
   "execution_count": 48,
   "id": "b72f7cd2-66e4-4bd4-bdc6-a9723d801cd9",
   "metadata": {},
   "outputs": [
    {
     "name": "stdout",
     "output_type": "stream",
     "text": [
      "-rw-r--r--  1 501  20  440007240 20 Sep 10:19 ../../assets/hdf_store/data.h5\n"
     ]
    }
   ],
   "source": [
    "ls -n ../../assets/hdf_store/data.*"
   ]
  },
  {
   "cell_type": "code",
   "execution_count": 49,
   "id": "3077a77d-178e-41b1-9b97-688bd0e77219",
   "metadata": {},
   "outputs": [],
   "source": [
    "h5.close() # closing database file"
   ]
  },
  {
   "cell_type": "code",
   "execution_count": 50,
   "id": "0f1cd039-385f-4e0b-9b22-697adc5cac7a",
   "metadata": {},
   "outputs": [],
   "source": [
    "# reading data from the file based HDFStore object\n",
    "h5 = pd.HDFStore('../../assets/hdf_store/data.h5', 'r')"
   ]
  },
  {
   "cell_type": "code",
   "execution_count": 51,
   "id": "29a8236c-ce9b-4cae-8456-727e8b6845b4",
   "metadata": {},
   "outputs": [
    {
     "name": "stdout",
     "output_type": "stream",
     "text": [
      "CPU times: user 155 ms, sys: 320 ms, total: 475 ms\n",
      "Wall time: 873 ms\n"
     ]
    }
   ],
   "source": [
    "%time data_copy = h5['data'] # reading from stored file"
   ]
  },
  {
   "cell_type": "code",
   "execution_count": 52,
   "id": "7eda5fff-5823-45c1-b0fc-150b5c841f43",
   "metadata": {},
   "outputs": [
    {
     "name": "stdout",
     "output_type": "stream",
     "text": [
      "<class 'pandas.core.frame.DataFrame'>\n",
      "DatetimeIndex: 5000000 entries, 2021-01-01 00:00:00 to 2030-07-05 05:19:00\n",
      "Freq: min\n",
      "Data columns (total 10 columns):\n",
      " #   Column  Dtype  \n",
      "---  ------  -----  \n",
      " 0   No0     float64\n",
      " 1   No1     float64\n",
      " 2   No2     float64\n",
      " 3   No3     float64\n",
      " 4   No4     float64\n",
      " 5   No5     float64\n",
      " 6   No6     float64\n",
      " 7   No7     float64\n",
      " 8   No8     float64\n",
      " 9   No9     float64\n",
      "dtypes: float64(10)\n",
      "memory usage: 419.6 MB\n"
     ]
    }
   ],
   "source": [
    "data_copy.info()"
   ]
  },
  {
   "cell_type": "code",
   "execution_count": 53,
   "id": "38fa1d8e-edb8-4cc1-b232-44611b028dcb",
   "metadata": {},
   "outputs": [],
   "source": [
    "h5.close()"
   ]
  },
  {
   "cell_type": "code",
   "execution_count": 54,
   "id": "a1d95ecb-b6f5-45f6-9acd-69f8ccacc590",
   "metadata": {},
   "outputs": [],
   "source": [
    "rm ../../assets/hdf_store/data.h5 # deleting file"
   ]
  },
  {
   "cell_type": "code",
   "execution_count": 55,
   "id": "914766df-6bd0-4394-98e5-b391a56ce164",
   "metadata": {},
   "outputs": [
    {
     "name": "stdout",
     "output_type": "stream",
     "text": [
      "CPU times: user 6.58 s, sys: 2.84 s, total: 9.42 s\n",
      "Wall time: 17.8 s\n"
     ]
    }
   ],
   "source": [
    "# alternative way of storing a HDFStore that allows to append new data to the table\n",
    "# and for searching over the table\n",
    "# pandas.DataFrame.to_hdf\n",
    "# https://pandas.pydata.org/docs/reference/api/pandas.DataFrame.to_hdf.html\n",
    "%time data.to_hdf('../../assets/hdf_store/data_q.h5', key='data', mode='w', format='table')"
   ]
  },
  {
   "cell_type": "code",
   "execution_count": 56,
   "id": "69c0a57e-696e-4fc7-9117-feec30851e43",
   "metadata": {},
   "outputs": [
    {
     "name": "stdout",
     "output_type": "stream",
     "text": [
      "-rw-r--r--  1 501  20  446953369 20 Sep 10:19 ../../assets/hdf_store/data_q.h5\n"
     ]
    }
   ],
   "source": [
    "ls -n ../../assets/hdf_store/data_q.*"
   ]
  },
  {
   "cell_type": "code",
   "execution_count": 57,
   "id": "686322e0-363d-4926-a433-fcf89cad64c5",
   "metadata": {},
   "outputs": [
    {
     "name": "stdout",
     "output_type": "stream",
     "text": [
      "CPU times: user 121 ms, sys: 299 ms, total: 420 ms\n",
      "Wall time: 696 ms\n"
     ]
    }
   ],
   "source": [
    "%time data_copy = pd.read_hdf('../../assets/hdf_store/data_q.h5', 'data')"
   ]
  },
  {
   "cell_type": "code",
   "execution_count": 58,
   "id": "3dbfca7d-a8ab-4e56-b82b-bf43d64c030d",
   "metadata": {},
   "outputs": [
    {
     "name": "stdout",
     "output_type": "stream",
     "text": [
      "<class 'pandas.core.frame.DataFrame'>\n",
      "DatetimeIndex: 5000000 entries, 2021-01-01 00:00:00 to 2030-07-05 05:19:00\n",
      "Freq: min\n",
      "Data columns (total 10 columns):\n",
      " #   Column  Dtype  \n",
      "---  ------  -----  \n",
      " 0   No0     float64\n",
      " 1   No1     float64\n",
      " 2   No2     float64\n",
      " 3   No3     float64\n",
      " 4   No4     float64\n",
      " 5   No5     float64\n",
      " 6   No6     float64\n",
      " 7   No7     float64\n",
      " 8   No8     float64\n",
      " 9   No9     float64\n",
      "dtypes: float64(10)\n",
      "memory usage: 419.6 MB\n"
     ]
    }
   ],
   "source": [
    "data_copy.info()"
   ]
  },
  {
   "cell_type": "code",
   "execution_count": 59,
   "id": "575a5d90-8ce8-4d95-8319-833a9a16d514",
   "metadata": {},
   "outputs": [],
   "source": [
    "# Using table_frame object of the PyTables package to work with stored data\n",
    "# PyTables’ documentation @ http://www.pytables.org/\n",
    "import tables as tb"
   ]
  },
  {
   "cell_type": "code",
   "execution_count": 60,
   "id": "97a15d23-eef7-458d-be73-f3b0773ea023",
   "metadata": {},
   "outputs": [],
   "source": [
    "h5 = tb.open_file('../../assets/hdf_store/data_q.h5', 'r')"
   ]
  },
  {
   "cell_type": "code",
   "execution_count": 61,
   "id": "efd3df21-eb90-45eb-89cf-d77cb531e7d9",
   "metadata": {},
   "outputs": [
    {
     "data": {
      "text/plain": [
       "File(filename=../../assets/hdf_store/data_q.h5, title=np.str_(''), mode='r', root_uep='/', filters=Filters(complevel=0, shuffle=False, bitshuffle=False, fletcher32=False, least_significant_digit=None))\n",
       "/ (RootGroup) np.str_('')\n",
       "/data (Group) np.str_('')\n",
       "/data/table (Table(np.int64(5000000),)) np.str_('')\n",
       "  description := {\n",
       "  \"index\": Int64Col(shape=(), dflt=np.int64(0), pos=0),\n",
       "  \"values_block_0\": Float64Col(shape=(np.int64(10),), dflt=np.float64(0.0), pos=1)}\n",
       "  byteorder := 'little'\n",
       "  chunkshape := (np.int64(2978),)\n",
       "  autoindex := True\n",
       "  colindexes := {\n",
       "    \"index\": Index(6, mediumshuffle, zlib(1)).is_csi=False}"
      ]
     },
     "execution_count": 61,
     "metadata": {},
     "output_type": "execute_result"
    }
   ],
   "source": [
    "h5"
   ]
  },
  {
   "cell_type": "code",
   "execution_count": 62,
   "id": "e233833d-29af-4e55-a4bc-b02ec8b38e19",
   "metadata": {},
   "outputs": [
    {
     "data": {
      "text/plain": [
       "array([(1609459200000000000, [100.    , 100.    , 100.    , 100.    , 100.    , 100.    , 100.    , 100.    , 100.    , 100.    ]),\n",
       "       (1609459260000000000, [ 99.9705, 100.0921,  99.935 ,  99.9768, 100.0023,  99.9592,  99.9284, 100.    ,  99.999 ,  99.9573]),\n",
       "       (1609459320000000000, [ 99.9965, 100.1603, 100.1046,  99.9502,  99.9782,  99.9672, 100.0414, 100.0053,  99.9949, 100.0174])],\n",
       "      dtype=[('index', '<i8'), ('values_block_0', '<f8', (10,))])"
      ]
     },
     "execution_count": 62,
     "metadata": {},
     "output_type": "execute_result"
    }
   ],
   "source": [
    "h5.root.data.table[:3] # printing the first three rows of the table"
   ]
  },
  {
   "cell_type": "code",
   "execution_count": 63,
   "id": "097eed3a-840c-4be7-ae67-e0e4c7c2b8c4",
   "metadata": {},
   "outputs": [],
   "source": [
    "h5.close()"
   ]
  },
  {
   "cell_type": "code",
   "execution_count": 65,
   "id": "cb3a9541-eedb-499f-b96b-c6ca5b0ba5d4",
   "metadata": {},
   "outputs": [],
   "source": [
    "rm ../../assets/hdf_store/data_q.h5 # deleting file"
   ]
  },
  {
   "cell_type": "code",
   "execution_count": null,
   "id": "619479bb-9554-4c61-8631-1afd52457ee1",
   "metadata": {},
   "outputs": [],
   "source": []
  }
 ],
 "metadata": {
  "kernelspec": {
   "display_name": "Python 3 (ipykernel)",
   "language": "python",
   "name": "python3"
  },
  "language_info": {
   "codemirror_mode": {
    "name": "ipython",
    "version": 3
   },
   "file_extension": ".py",
   "mimetype": "text/x-python",
   "name": "python",
   "nbconvert_exporter": "python",
   "pygments_lexer": "ipython3",
   "version": "3.12.4"
  }
 },
 "nbformat": 4,
 "nbformat_minor": 5
}
