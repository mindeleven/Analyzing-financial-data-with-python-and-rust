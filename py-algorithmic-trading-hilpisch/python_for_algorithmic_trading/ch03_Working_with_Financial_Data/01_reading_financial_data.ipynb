{
 "cells": [
  {
   "cell_type": "markdown",
   "id": "2fce124b-8ae7-488e-bd5f-dfca41a4f2ed",
   "metadata": {},
   "source": [
    "# Reading Financial Data from Different Sources"
   ]
  },
  {
   "cell_type": "markdown",
   "id": "35f747ec-4ff1-4a51-81fd-6020ff7a0360",
   "metadata": {},
   "source": [
    "*[Coding along with Python for Algorithmic Trading, Yves Hilpisch, O'Reilly, 1st edition November 2020, ISBN-13: 978-1492053354]*"
   ]
  },
  {
   "cell_type": "markdown",
   "id": "227c2023-9be2-4532-982c-fcb837cf0078",
   "metadata": {},
   "source": [
    "### Using pure Python to read CSV file"
   ]
  },
  {
   "cell_type": "code",
   "execution_count": 2,
   "id": "6b794465-61b5-4ecb-bf60-953fbdfd71c6",
   "metadata": {},
   "outputs": [],
   "source": [
    "file = \"../../assets/data/AAPL.csv\""
   ]
  },
  {
   "cell_type": "code",
   "execution_count": 3,
   "id": "48427b1f-c5a4-450f-937e-a80ba5fbd8db",
   "metadata": {},
   "outputs": [
    {
     "name": "stdout",
     "output_type": "stream",
     "text": [
      "Date,HIGH,CLOSE,LOW,OPEN,COUNT,VOLUME\n",
      "2020-04-01,248.72,240.91,239.13,246.5,460606.0,44054638.0\n",
      "2020-04-02,245.15,244.93,236.9,240.34,380294.0,41483493.0\n",
      "2020-04-03,245.7,241.41,238.9741,242.8,293699.0,32470017.0\n",
      "2020-04-06,263.11,262.47,249.38,250.9,486681.0,50455071.0\n"
     ]
    }
   ],
   "source": [
    "with open(file, 'r') as f:\n",
    "    for _ in range(5):\n",
    "        print(f.readline(), end='')"
   ]
  },
  {
   "cell_type": "markdown",
   "id": "819bf093-6294-4980-8d63-02262168bfd5",
   "metadata": {},
   "source": [
    "### Reading from a CSV file with Python"
   ]
  },
  {
   "cell_type": "code",
   "execution_count": 4,
   "id": "6f9d01ad-d8c9-446d-9940-dd9cae2a34e9",
   "metadata": {},
   "outputs": [],
   "source": [
    "import csv # import csv module"
   ]
  },
  {
   "cell_type": "code",
   "execution_count": 5,
   "id": "7c9e51c3-7312-4908-b2f9-0ea147b0cf62",
   "metadata": {},
   "outputs": [],
   "source": [
    "csv_reader = csv.reader(open(file, 'r')) # instantiate csv reader iterator object"
   ]
  },
  {
   "cell_type": "code",
   "execution_count": 6,
   "id": "7f63ae05-5fa2-482e-9bca-7acaaddeab02",
   "metadata": {},
   "outputs": [
    {
     "data": {
      "text/plain": [
       "[['Date', 'HIGH', 'CLOSE', 'LOW', 'OPEN', 'COUNT', 'VOLUME'],\n",
       " ['2020-04-01',\n",
       "  '248.72',\n",
       "  '240.91',\n",
       "  '239.13',\n",
       "  '246.5',\n",
       "  '460606.0',\n",
       "  '44054638.0'],\n",
       " ['2020-04-02',\n",
       "  '245.15',\n",
       "  '244.93',\n",
       "  '236.9',\n",
       "  '240.34',\n",
       "  '380294.0',\n",
       "  '41483493.0'],\n",
       " ['2020-04-03',\n",
       "  '245.7',\n",
       "  '241.41',\n",
       "  '238.9741',\n",
       "  '242.8',\n",
       "  '293699.0',\n",
       "  '32470017.0'],\n",
       " ['2020-04-06',\n",
       "  '263.11',\n",
       "  '262.47',\n",
       "  '249.38',\n",
       "  '250.9',\n",
       "  '486681.0',\n",
       "  '50455071.0']]"
      ]
     },
     "execution_count": 6,
     "metadata": {},
     "output_type": "execute_result"
    }
   ],
   "source": [
    "data = list(csv_reader) # list comprehension adding every single line from the csv file\n",
    "data[:5] # printing out the first five lines of the list object "
   ]
  },
  {
   "cell_type": "code",
   "execution_count": 8,
   "id": "c0629669-1b1a-4c0e-88cd-95e196680103",
   "metadata": {},
   "outputs": [
    {
     "data": {
      "text/plain": [
       "[{'Date': '2020-04-01',\n",
       "  'HIGH': '248.72',\n",
       "  'CLOSE': '240.91',\n",
       "  'LOW': '239.13',\n",
       "  'OPEN': '246.5',\n",
       "  'COUNT': '460606.0',\n",
       "  'VOLUME': '44054638.0'},\n",
       " {'Date': '2020-04-02',\n",
       "  'HIGH': '245.15',\n",
       "  'CLOSE': '244.93',\n",
       "  'LOW': '236.9',\n",
       "  'OPEN': '240.34',\n",
       "  'COUNT': '380294.0',\n",
       "  'VOLUME': '41483493.0'},\n",
       " {'Date': '2020-04-03',\n",
       "  'HIGH': '245.7',\n",
       "  'CLOSE': '241.41',\n",
       "  'LOW': '238.9741',\n",
       "  'OPEN': '242.8',\n",
       "  'COUNT': '293699.0',\n",
       "  'VOLUME': '32470017.0'}]"
      ]
     },
     "execution_count": 8,
     "metadata": {},
     "output_type": "execute_result"
    }
   ],
   "source": [
    "# using csv.DictReader instead makes handling data more manageable\n",
    "csv_reader = csv.DictReader(open(file, 'r')) # csv.DictReader iterator object is instantiated\n",
    "data = list(csv_reader)\n",
    "data[:3]"
   ]
  },
  {
   "cell_type": "code",
   "execution_count": 10,
   "id": "84cb3ac6-3b7c-403a-841f-d026de6439f3",
   "metadata": {},
   "outputs": [
    {
     "data": {
      "text/plain": [
       "272.3861904761905"
      ]
     },
     "execution_count": 10,
     "metadata": {},
     "output_type": "execute_result"
    }
   ],
   "source": [
    "# example of inspecting the data: calculating the mean of the Apple closing stock price\n",
    "# [float(l['CLOSE']) for l in data] -> list object is created via lis comprehension\n",
    "sum([float(l['CLOSE']) for l in data]) / len(data)"
   ]
  },
  {
   "cell_type": "markdown",
   "id": "1c99cccd-d387-4fdd-874a-3ab8a8a17495",
   "metadata": {},
   "source": [
    "### Reading form CSV File withe pandas"
   ]
  },
  {
   "cell_type": "code",
   "execution_count": 22,
   "id": "ed475989-6e84-400e-b157-ce63415d42eb",
   "metadata": {},
   "outputs": [],
   "source": [
    "import pandas as pd # importing the pandas package"
   ]
  },
  {
   "cell_type": "code",
   "execution_count": 24,
   "id": "1dc430fe-1a9e-49a7-9563-270e440238db",
   "metadata": {},
   "outputs": [],
   "source": [
    "data = pd.read_csv(file, index_col=0, parse_dates=True) # first column shall be index column, interpreted as date-time information"
   ]
  },
  {
   "cell_type": "code",
   "execution_count": 14,
   "id": "b5721db5-30e1-478c-b1e6-b70b7b2ad595",
   "metadata": {},
   "outputs": [
    {
     "name": "stdout",
     "output_type": "stream",
     "text": [
      "<class 'pandas.core.frame.DataFrame'>\n",
      "DatetimeIndex: 21 entries, 2020-04-01 to 2020-04-30\n",
      "Data columns (total 6 columns):\n",
      " #   Column  Non-Null Count  Dtype  \n",
      "---  ------  --------------  -----  \n",
      " 0   HIGH    21 non-null     float64\n",
      " 1   CLOSE   21 non-null     float64\n",
      " 2   LOW     21 non-null     float64\n",
      " 3   OPEN    21 non-null     float64\n",
      " 4   COUNT   21 non-null     float64\n",
      " 5   VOLUME  21 non-null     float64\n",
      "dtypes: float64(6)\n",
      "memory usage: 1.1 KB\n"
     ]
    }
   ],
   "source": [
    "data.info() # meta in"
   ]
  },
  {
   "cell_type": "code",
   "execution_count": 15,
   "id": "75a81e85-db4f-4192-9937-d80f3eba4f6f",
   "metadata": {},
   "outputs": [
    {
     "data": {
      "text/html": [
       "<div>\n",
       "<style scoped>\n",
       "    .dataframe tbody tr th:only-of-type {\n",
       "        vertical-align: middle;\n",
       "    }\n",
       "\n",
       "    .dataframe tbody tr th {\n",
       "        vertical-align: top;\n",
       "    }\n",
       "\n",
       "    .dataframe thead th {\n",
       "        text-align: right;\n",
       "    }\n",
       "</style>\n",
       "<table border=\"1\" class=\"dataframe\">\n",
       "  <thead>\n",
       "    <tr style=\"text-align: right;\">\n",
       "      <th></th>\n",
       "      <th>HIGH</th>\n",
       "      <th>CLOSE</th>\n",
       "      <th>LOW</th>\n",
       "      <th>OPEN</th>\n",
       "      <th>COUNT</th>\n",
       "      <th>VOLUME</th>\n",
       "    </tr>\n",
       "    <tr>\n",
       "      <th>Date</th>\n",
       "      <th></th>\n",
       "      <th></th>\n",
       "      <th></th>\n",
       "      <th></th>\n",
       "      <th></th>\n",
       "      <th></th>\n",
       "    </tr>\n",
       "  </thead>\n",
       "  <tbody>\n",
       "    <tr>\n",
       "      <th>2020-04-01</th>\n",
       "      <td>248.72</td>\n",
       "      <td>240.91</td>\n",
       "      <td>239.1300</td>\n",
       "      <td>246.50</td>\n",
       "      <td>460606.0</td>\n",
       "      <td>44054638.0</td>\n",
       "    </tr>\n",
       "    <tr>\n",
       "      <th>2020-04-02</th>\n",
       "      <td>245.15</td>\n",
       "      <td>244.93</td>\n",
       "      <td>236.9000</td>\n",
       "      <td>240.34</td>\n",
       "      <td>380294.0</td>\n",
       "      <td>41483493.0</td>\n",
       "    </tr>\n",
       "    <tr>\n",
       "      <th>2020-04-03</th>\n",
       "      <td>245.70</td>\n",
       "      <td>241.41</td>\n",
       "      <td>238.9741</td>\n",
       "      <td>242.80</td>\n",
       "      <td>293699.0</td>\n",
       "      <td>32470017.0</td>\n",
       "    </tr>\n",
       "    <tr>\n",
       "      <th>2020-04-06</th>\n",
       "      <td>263.11</td>\n",
       "      <td>262.47</td>\n",
       "      <td>249.3800</td>\n",
       "      <td>250.90</td>\n",
       "      <td>486681.0</td>\n",
       "      <td>50455071.0</td>\n",
       "    </tr>\n",
       "    <tr>\n",
       "      <th>2020-04-07</th>\n",
       "      <td>271.70</td>\n",
       "      <td>259.43</td>\n",
       "      <td>259.0000</td>\n",
       "      <td>270.80</td>\n",
       "      <td>467375.0</td>\n",
       "      <td>50721831.0</td>\n",
       "    </tr>\n",
       "  </tbody>\n",
       "</table>\n",
       "</div>"
      ],
      "text/plain": [
       "              HIGH   CLOSE       LOW    OPEN     COUNT      VOLUME\n",
       "Date                                                              \n",
       "2020-04-01  248.72  240.91  239.1300  246.50  460606.0  44054638.0\n",
       "2020-04-02  245.15  244.93  236.9000  240.34  380294.0  41483493.0\n",
       "2020-04-03  245.70  241.41  238.9741  242.80  293699.0  32470017.0\n",
       "2020-04-06  263.11  262.47  249.3800  250.90  486681.0  50455071.0\n",
       "2020-04-07  271.70  259.43  259.0000  270.80  467375.0  50721831.0"
      ]
     },
     "execution_count": 15,
     "metadata": {},
     "output_type": "execute_result"
    }
   ],
   "source": [
    "data.head()"
   ]
  },
  {
   "cell_type": "code",
   "execution_count": 18,
   "id": "9cfab2f2-4c51-43ff-becb-debd58b6a9d7",
   "metadata": {},
   "outputs": [
    {
     "data": {
      "text/plain": [
       "(21, 6)"
      ]
     },
     "execution_count": 18,
     "metadata": {},
     "output_type": "execute_result"
    }
   ],
   "source": [
    "data.shape"
   ]
  },
  {
   "cell_type": "code",
   "execution_count": 19,
   "id": "7717ee04-abd3-4269-9b16-1305152dd98c",
   "metadata": {},
   "outputs": [
    {
     "data": {
      "text/html": [
       "<div>\n",
       "<style scoped>\n",
       "    .dataframe tbody tr th:only-of-type {\n",
       "        vertical-align: middle;\n",
       "    }\n",
       "\n",
       "    .dataframe tbody tr th {\n",
       "        vertical-align: top;\n",
       "    }\n",
       "\n",
       "    .dataframe thead th {\n",
       "        text-align: right;\n",
       "    }\n",
       "</style>\n",
       "<table border=\"1\" class=\"dataframe\">\n",
       "  <thead>\n",
       "    <tr style=\"text-align: right;\">\n",
       "      <th></th>\n",
       "      <th>HIGH</th>\n",
       "      <th>CLOSE</th>\n",
       "      <th>LOW</th>\n",
       "      <th>OPEN</th>\n",
       "      <th>COUNT</th>\n",
       "      <th>VOLUME</th>\n",
       "    </tr>\n",
       "    <tr>\n",
       "      <th>Date</th>\n",
       "      <th></th>\n",
       "      <th></th>\n",
       "      <th></th>\n",
       "      <th></th>\n",
       "      <th></th>\n",
       "      <th></th>\n",
       "    </tr>\n",
       "  </thead>\n",
       "  <tbody>\n",
       "    <tr>\n",
       "      <th>2020-04-24</th>\n",
       "      <td>283.01</td>\n",
       "      <td>282.97</td>\n",
       "      <td>277.00</td>\n",
       "      <td>277.20</td>\n",
       "      <td>306176.0</td>\n",
       "      <td>31627183.0</td>\n",
       "    </tr>\n",
       "    <tr>\n",
       "      <th>2020-04-27</th>\n",
       "      <td>284.54</td>\n",
       "      <td>283.17</td>\n",
       "      <td>279.95</td>\n",
       "      <td>281.80</td>\n",
       "      <td>300771.0</td>\n",
       "      <td>29271893.0</td>\n",
       "    </tr>\n",
       "    <tr>\n",
       "      <th>2020-04-28</th>\n",
       "      <td>285.83</td>\n",
       "      <td>278.58</td>\n",
       "      <td>278.20</td>\n",
       "      <td>285.08</td>\n",
       "      <td>285384.0</td>\n",
       "      <td>28001187.0</td>\n",
       "    </tr>\n",
       "    <tr>\n",
       "      <th>2020-04-29</th>\n",
       "      <td>289.67</td>\n",
       "      <td>287.73</td>\n",
       "      <td>283.89</td>\n",
       "      <td>284.73</td>\n",
       "      <td>324890.0</td>\n",
       "      <td>34320204.0</td>\n",
       "    </tr>\n",
       "    <tr>\n",
       "      <th>2020-04-30</th>\n",
       "      <td>294.53</td>\n",
       "      <td>293.80</td>\n",
       "      <td>288.35</td>\n",
       "      <td>289.96</td>\n",
       "      <td>471129.0</td>\n",
       "      <td>45765968.0</td>\n",
       "    </tr>\n",
       "  </tbody>\n",
       "</table>\n",
       "</div>"
      ],
      "text/plain": [
       "              HIGH   CLOSE     LOW    OPEN     COUNT      VOLUME\n",
       "Date                                                            \n",
       "2020-04-24  283.01  282.97  277.00  277.20  306176.0  31627183.0\n",
       "2020-04-27  284.54  283.17  279.95  281.80  300771.0  29271893.0\n",
       "2020-04-28  285.83  278.58  278.20  285.08  285384.0  28001187.0\n",
       "2020-04-29  289.67  287.73  283.89  284.73  324890.0  34320204.0\n",
       "2020-04-30  294.53  293.80  288.35  289.96  471129.0  45765968.0"
      ]
     },
     "execution_count": 19,
     "metadata": {},
     "output_type": "execute_result"
    }
   ],
   "source": [
    "data.tail() # 4"
   ]
  },
  {
   "cell_type": "code",
   "execution_count": 20,
   "id": "fa6c271e-ad66-4a17-8dcd-9de8f93f9982",
   "metadata": {},
   "outputs": [
    {
     "data": {
      "text/plain": [
       "np.float64(272.38619047619056)"
      ]
     },
     "execution_count": 20,
     "metadata": {},
     "output_type": "execute_result"
    }
   ],
   "source": [
    "# example of inspecting the data: calculating the mean of the Apple closing stock price\n",
    "data['CLOSE'].mean()"
   ]
  },
  {
   "cell_type": "code",
   "execution_count": null,
   "id": "9bdedc88-531c-4eb4-9d3b-b34ded79418f",
   "metadata": {},
   "outputs": [],
   "source": []
  }
 ],
 "metadata": {
  "kernelspec": {
   "display_name": "Python 3 (ipykernel)",
   "language": "python",
   "name": "python3"
  },
  "language_info": {
   "codemirror_mode": {
    "name": "ipython",
    "version": 3
   },
   "file_extension": ".py",
   "mimetype": "text/x-python",
   "name": "python",
   "nbconvert_exporter": "python",
   "pygments_lexer": "ipython3",
   "version": "3.12.4"
  }
 },
 "nbformat": 4,
 "nbformat_minor": 5
}
