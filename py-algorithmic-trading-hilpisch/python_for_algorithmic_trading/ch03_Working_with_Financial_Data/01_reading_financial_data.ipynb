{
 "cells": [
  {
   "cell_type": "markdown",
   "id": "2fce124b-8ae7-488e-bd5f-dfca41a4f2ed",
   "metadata": {},
   "source": [
    "# Reading Financial Data from Different Sources"
   ]
  },
  {
   "cell_type": "markdown",
   "id": "35f747ec-4ff1-4a51-81fd-6020ff7a0360",
   "metadata": {},
   "source": [
    "*[Coding along with Python for Algorithmic Trading, Yves Hilpisch, O'Reilly, 1st edition November 2020, ISBN-13: 978-1492053354]*"
   ]
  },
  {
   "cell_type": "markdown",
   "id": "227c2023-9be2-4532-982c-fcb837cf0078",
   "metadata": {},
   "source": [
    "### Using pure Python to read CSV file"
   ]
  },
  {
   "cell_type": "code",
   "execution_count": 2,
   "id": "6b794465-61b5-4ecb-bf60-953fbdfd71c6",
   "metadata": {},
   "outputs": [],
   "source": [
    "file = \"../../assets/data/AAPL.csv\""
   ]
  },
  {
   "cell_type": "code",
   "execution_count": 3,
   "id": "48427b1f-c5a4-450f-937e-a80ba5fbd8db",
   "metadata": {},
   "outputs": [
    {
     "name": "stdout",
     "output_type": "stream",
     "text": [
      "Date,HIGH,CLOSE,LOW,OPEN,COUNT,VOLUME\n",
      "2020-04-01,248.72,240.91,239.13,246.5,460606.0,44054638.0\n",
      "2020-04-02,245.15,244.93,236.9,240.34,380294.0,41483493.0\n",
      "2020-04-03,245.7,241.41,238.9741,242.8,293699.0,32470017.0\n",
      "2020-04-06,263.11,262.47,249.38,250.9,486681.0,50455071.0\n"
     ]
    }
   ],
   "source": [
    "with open(file, 'r') as f:\n",
    "    for _ in range(5):\n",
    "        print(f.readline(), end='')"
   ]
  },
  {
   "cell_type": "markdown",
   "id": "819bf093-6294-4980-8d63-02262168bfd5",
   "metadata": {},
   "source": [
    "### Reading from a CSV file with Python"
   ]
  },
  {
   "cell_type": "code",
   "execution_count": 4,
   "id": "6f9d01ad-d8c9-446d-9940-dd9cae2a34e9",
   "metadata": {},
   "outputs": [],
   "source": [
    "import csv # import csv module"
   ]
  },
  {
   "cell_type": "code",
   "execution_count": 5,
   "id": "7c9e51c3-7312-4908-b2f9-0ea147b0cf62",
   "metadata": {},
   "outputs": [],
   "source": [
    "csv_reader = csv.reader(open(file, 'r')) # instantiate csv reader iterator object"
   ]
  },
  {
   "cell_type": "code",
   "execution_count": 6,
   "id": "7f63ae05-5fa2-482e-9bca-7acaaddeab02",
   "metadata": {},
   "outputs": [
    {
     "data": {
      "text/plain": [
       "[['Date', 'HIGH', 'CLOSE', 'LOW', 'OPEN', 'COUNT', 'VOLUME'],\n",
       " ['2020-04-01',\n",
       "  '248.72',\n",
       "  '240.91',\n",
       "  '239.13',\n",
       "  '246.5',\n",
       "  '460606.0',\n",
       "  '44054638.0'],\n",
       " ['2020-04-02',\n",
       "  '245.15',\n",
       "  '244.93',\n",
       "  '236.9',\n",
       "  '240.34',\n",
       "  '380294.0',\n",
       "  '41483493.0'],\n",
       " ['2020-04-03',\n",
       "  '245.7',\n",
       "  '241.41',\n",
       "  '238.9741',\n",
       "  '242.8',\n",
       "  '293699.0',\n",
       "  '32470017.0'],\n",
       " ['2020-04-06',\n",
       "  '263.11',\n",
       "  '262.47',\n",
       "  '249.38',\n",
       "  '250.9',\n",
       "  '486681.0',\n",
       "  '50455071.0']]"
      ]
     },
     "execution_count": 6,
     "metadata": {},
     "output_type": "execute_result"
    }
   ],
   "source": [
    "data = list(csv_reader) # list comprehension adding every single line from the csv file\n",
    "data[:5] # printing out the first five lines of the list object "
   ]
  },
  {
   "cell_type": "code",
   "execution_count": 8,
   "id": "c0629669-1b1a-4c0e-88cd-95e196680103",
   "metadata": {},
   "outputs": [
    {
     "data": {
      "text/plain": [
       "[{'Date': '2020-04-01',\n",
       "  'HIGH': '248.72',\n",
       "  'CLOSE': '240.91',\n",
       "  'LOW': '239.13',\n",
       "  'OPEN': '246.5',\n",
       "  'COUNT': '460606.0',\n",
       "  'VOLUME': '44054638.0'},\n",
       " {'Date': '2020-04-02',\n",
       "  'HIGH': '245.15',\n",
       "  'CLOSE': '244.93',\n",
       "  'LOW': '236.9',\n",
       "  'OPEN': '240.34',\n",
       "  'COUNT': '380294.0',\n",
       "  'VOLUME': '41483493.0'},\n",
       " {'Date': '2020-04-03',\n",
       "  'HIGH': '245.7',\n",
       "  'CLOSE': '241.41',\n",
       "  'LOW': '238.9741',\n",
       "  'OPEN': '242.8',\n",
       "  'COUNT': '293699.0',\n",
       "  'VOLUME': '32470017.0'}]"
      ]
     },
     "execution_count": 8,
     "metadata": {},
     "output_type": "execute_result"
    }
   ],
   "source": [
    "# using csv.DictReader instead makes handling data more manageable\n",
    "csv_reader = csv.DictReader(open(file, 'r')) # csv.DictReader iterator object is instantiated\n",
    "data = list(csv_reader)\n",
    "data[:3]"
   ]
  },
  {
   "cell_type": "code",
   "execution_count": 10,
   "id": "84cb3ac6-3b7c-403a-841f-d026de6439f3",
   "metadata": {},
   "outputs": [
    {
     "data": {
      "text/plain": [
       "272.3861904761905"
      ]
     },
     "execution_count": 10,
     "metadata": {},
     "output_type": "execute_result"
    }
   ],
   "source": [
    "# example of inspecting the data: calculating the mean of the Apple closing stock price\n",
    "# [float(l['CLOSE']) for l in data] -> list object is created via lis comprehension\n",
    "sum([float(l['CLOSE']) for l in data]) / len(data)"
   ]
  },
  {
   "cell_type": "code",
   "execution_count": 11,
   "id": "25933aa9-e532-4233-ab85-25aec7068ecf",
   "metadata": {},
   "outputs": [],
   "source": [
    "### Reading form CSV File withe pandas"
   ]
  },
  {
   "cell_type": "code",
   "execution_count": null,
   "id": "ed475989-6e84-400e-b157-ce63415d42eb",
   "metadata": {},
   "outputs": [],
   "source": []
  }
 ],
 "metadata": {
  "kernelspec": {
   "display_name": "Python 3 (ipykernel)",
   "language": "python",
   "name": "python3"
  },
  "language_info": {
   "codemirror_mode": {
    "name": "ipython",
    "version": 3
   },
   "file_extension": ".py",
   "mimetype": "text/x-python",
   "name": "python",
   "nbconvert_exporter": "python",
   "pygments_lexer": "ipython3",
   "version": "3.12.4"
  }
 },
 "nbformat": 4,
 "nbformat_minor": 5
}
