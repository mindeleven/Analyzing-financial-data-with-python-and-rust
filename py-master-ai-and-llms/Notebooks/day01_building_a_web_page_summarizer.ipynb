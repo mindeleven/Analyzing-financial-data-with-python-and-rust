{
 "cells": [
  {
   "cell_type": "markdown",
   "id": "8c5c635d",
   "metadata": {},
   "source": [
    "## Day 1: Building a Web Page Summarizer"
   ]
  },
  {
   "cell_type": "markdown",
   "id": "490f852f-eeec-4b0e-ba7e-7392b76e4983",
   "metadata": {},
   "source": [
    "*[Coding along with the Udemy online course [LLM Engineering: Master AI & Large Language Models](https://www.udemy.com/course/llm-engineering-master-ai-and-large-language-models/) by Ed Donner; GitHub repo can be found at [github.com/ed-donner/llm_engineering](https://github.com/ed-donner/llm_engineering)]*"
   ]
  },
  {
   "cell_type": "markdown",
   "id": "77d614b6-da3e-4abd-be08-c48063e5437b",
   "metadata": {},
   "source": [
    "Simple example for using a frontier LLM that has some business value. Our goal here is to code a Web Browser that will take an URL as input and respond with a summary."
   ]
  },
  {
   "cell_type": "code",
   "execution_count": 5,
   "id": "d886d634",
   "metadata": {},
   "outputs": [],
   "source": [
    "import os\n",
    "import requests\n",
    "from bs4 import BeautifulSoup\n",
    "from IPython.display import Markdown, display\n",
    "import pandas as pd\n",
    "from openai import OpenAI"
   ]
  },
  {
   "cell_type": "code",
   "execution_count": 6,
   "id": "f3e70f9e",
   "metadata": {},
   "outputs": [
    {
     "name": "stdout",
     "output_type": "stream",
     "text": [
      "Don't be a fool and sent your api key to github\n"
     ]
    }
   ],
   "source": [
    "api_key = pd.read_csv(\"~/tmp/chat_gpt/agentic-design-1.txt\", sep=\" \", header=None)[0][0]\n",
    "print(\"Don't be a fool and sent your api key to github\")"
   ]
  },
  {
   "cell_type": "code",
   "execution_count": 7,
   "id": "c9a7b792",
   "metadata": {},
   "outputs": [],
   "source": [
    "openai = OpenAI(api_key=api_key)"
   ]
  },
  {
   "cell_type": "code",
   "execution_count": 8,
   "id": "1aa7f56b-fc9a-4fcf-992f-05ec0e4a6988",
   "metadata": {},
   "outputs": [],
   "source": [
    "# representing a web page with a class\n",
    "class Website:\n",
    "    url: str\n",
    "    title: str\n",
    "    text: str\n",
    "\n",
    "    def __init__(self, url):\n",
    "        self.url = url\n",
    "        response = requests.get(url)\n",
    "        soup = BeautifulSoup(response.content, 'html.parser')\n",
    "        self.title = soup.title.string if soup.title else \"No title found\"\n",
    "        for irrelevant in soup.body([\"script\", \"style\", \"img\", \"input\"]):\n",
    "            irrelevant.decompose()\n",
    "        self.text = soup.body.get_text(separator=\"\\n\", strip=True)"
   ]
  },
  {
   "cell_type": "code",
   "execution_count": 9,
   "id": "6d6c3be8-45d1-484d-9584-096d83aae78b",
   "metadata": {},
   "outputs": [
    {
     "name": "stdout",
     "output_type": "stream",
     "text": [
      "Home - Edward Donner\n",
      "Home\n",
      "Outsmart\n",
      "An arena that pits LLMs against each other in a battle of diplomacy and deviousness\n",
      "About\n",
      "Posts\n",
      "Well, hi there.\n",
      "I’m Ed. I like writing code and experimenting with LLMs, and hopefully you’re here because you do too. I also enjoy DJing (but I’m badly out of practice), amateur electronic music production (\n",
      "very\n",
      "amateur) and losing myself in\n",
      "Hacker News\n",
      ", nodding my head sagely to things I only half understand.\n",
      "I’m the co-founder and CTO of\n",
      "Nebula.io\n",
      ". We’re applying AI to a field where it can make a massive, positive impact: helping people discover their potential and pursue their reason for being. Recruiters use our product today to source, understand, engage and manage talent. I’m previously the founder and CEO of AI startup untapt,\n",
      "acquired in 2021\n",
      ".\n",
      "We work with groundbreaking, proprietary LLMs verticalized for talent, we’ve\n",
      "patented\n",
      "our matching model, and our award-winning platform has happy customers and tons of press coverage.\n",
      "Connect\n",
      "with me for more!\n",
      "August 6, 2024\n",
      "Outsmart LLM Arena – a battle of diplomacy and deviousness\n",
      "June 26, 2024\n",
      "Choosing the Right LLM: Toolkit and Resources\n",
      "February 7, 2024\n",
      "Fine-tuning an LLM on your texts: a simulation of you\n",
      "January 31, 2024\n",
      "Fine-tuning an LLM on your texts: part 4 – QLoRA\n",
      "Navigation\n",
      "Home\n",
      "Outsmart\n",
      "An arena that pits LLMs against each other in a battle of diplomacy and deviousness\n",
      "About\n",
      "Posts\n",
      "Get in touch\n",
      "ed [at] edwarddonner [dot] com\n",
      "www.edwarddonner.com\n",
      "Follow me\n",
      "LinkedIn\n",
      "Twitter\n",
      "Facebook\n",
      "Subscribe to newsletter\n",
      "Type your email…\n",
      "Subscribe\n"
     ]
    }
   ],
   "source": [
    "# let's grap an example\n",
    "ed = Website(\"https://edwarddonner.com\")\n",
    "print(ed.title)\n",
    "print(ed.text)"
   ]
  },
  {
   "cell_type": "markdown",
   "id": "b7c20361-bd8d-44b6-89cf-d9a4835d37c5",
   "metadata": {},
   "source": [
    "### Types of prompts"
   ]
  },
  {
   "cell_type": "markdown",
   "id": "dfcabfd2-db35-4da6-a705-02c30cf54f42",
   "metadata": {},
   "source": [
    "Models like GPT4o have been trained to receive instructions in a particular way.\n",
    "\n",
    "There are two kinds of prompts they expect to receive:\n",
    "\n",
    "**1. A System Prompt** that tells them what task they are performing and what tone they should use\n",
    "\n",
    "**2. A User Prompt** -- the conversation starter that they should reply to"
   ]
  },
  {
   "cell_type": "code",
   "execution_count": 10,
   "id": "28c3b592-357a-4d9e-b2f6-3d781f676fd7",
   "metadata": {},
   "outputs": [],
   "source": [
    "system_prompt = \"You are an assistant that analyzes the contents of a website \\\n",
    "and provides a short summary, ignoring text that might be navigation related. \\\n",
    "Respond in markdown.\""
   ]
  },
  {
   "cell_type": "code",
   "execution_count": 11,
   "id": "cf4d9399-cb96-426c-9d6a-0c792bc9252e",
   "metadata": {},
   "outputs": [],
   "source": [
    "def user_prompt_for(website):\n",
    "    user_prompt = f\"You are looking at a website titled {website.title}\"\n",
    "    user_prompt += \"The contents of this website is as follows; \\\n",
    "please provide a short summary of this website in markdown. \\\n",
    "If it includes news or announcements, then summarize these too.\\n\\n\"\n",
    "    user_prompt += website.text\n",
    "    return user_prompt"
   ]
  },
  {
   "cell_type": "markdown",
   "id": "57bc4370-6f7c-4d10-a5e3-1fdca127faa0",
   "metadata": {},
   "source": [
    "### Messages"
   ]
  },
  {
   "cell_type": "markdown",
   "id": "1d8e2c27-2b0a-4548-b218-204de50e8ee2",
   "metadata": {},
   "source": [
    "Many APIs of LLMs (including OpenAI) expect to receive messages in a particular structure:\n",
    "\n",
    "```\n",
    "[\n",
    "    {\"role\": \"system\", \"content\": \"system message goes here\"},\n",
    "    {\"role\": \"user\", \"content\": \"user message goes here\"}\n",
    "]"
   ]
  },
  {
   "cell_type": "code",
   "execution_count": 12,
   "id": "f219dc50-4cf5-4ce8-8224-6b7aaf6ab2f7",
   "metadata": {},
   "outputs": [],
   "source": [
    "def messages_for(website):\n",
    "    return [\n",
    "        {\"role\": \"system\", \"content\": system_prompt},\n",
    "        {\"role\": \"user\", \"content\": user_prompt_for(website)}\n",
    "    ]"
   ]
  },
  {
   "cell_type": "code",
   "execution_count": 13,
   "id": "809a120f-00d5-455d-9cd0-aff04751d71a",
   "metadata": {},
   "outputs": [],
   "source": [
    "def summarize(url):\n",
    "    website = Website(url)\n",
    "    # https://platform.openai.com/docs/guides/text-generation\n",
    "    response = openai.chat.completions.create(\n",
    "        model = \"gpt-4o-mini\",\n",
    "        messages = messages_for(website)\n",
    "    )\n",
    "    return response.choices[0].message.content"
   ]
  },
  {
   "cell_type": "code",
   "execution_count": 14,
   "id": "87f6b963-07d7-4f38-bbf3-d4bb814195b6",
   "metadata": {},
   "outputs": [
    {
     "data": {
      "text/plain": [
       "\"# Summary of Edward Donner's Website\\n\\nEdward Donner's website serves as a personal and professional hub for sharing insights related to Large Language Models (LLMs), coding, and technology. Ed, the site's creator, is the co-founder and CTO of Nebula.io, a company focused on applying AI to optimize talent discovery and engagement. He has a background in founding AI startups, including untapt.\\n\\n## Key Features:\\n- **Outsmart**: This section introduces a unique arena that challenges LLMs in a competitive environment centered on diplomacy and strategy.\\n- **About Ed**: The creator shares his interests in coding, DJing, and electronic music, along with his professional journey in the AI industry.\\n\\n## Recent Announcements:\\n1. **August 6, 2024**: Launch of the Outsmart LLM Arena.\\n2. **June 26, 2024**: Resources and tools for choosing the right LLM.\\n3. **February 7, 2024**: Guide on fine-tuning LLMs using personal text data.\\n4. **January 31, 2024**: Continuation of the LLM fine-tuning series focused on QLoRA.\\n\\nThe website offers a supportive space for those interested in LLMs and AI technologies, encouraging connections and sharing knowledge within the community.\""
      ]
     },
     "execution_count": 14,
     "metadata": {},
     "output_type": "execute_result"
    }
   ],
   "source": [
    "summarize(\"https://edwarddonner.com\")"
   ]
  },
  {
   "cell_type": "code",
   "execution_count": 15,
   "id": "06542f26-0830-4c1d-b322-aa9b802050e9",
   "metadata": {},
   "outputs": [],
   "source": [
    "def display_summary(url):\n",
    "    summary = summarize(url)\n",
    "    display(Markdown(summary))"
   ]
  },
  {
   "cell_type": "code",
   "execution_count": 16,
   "id": "d1f1a9f8-0772-41db-a821-8cd3d3ad7c9b",
   "metadata": {},
   "outputs": [
    {
     "data": {
      "text/markdown": [
       "# Summary of Edward Donner's Website\n",
       "\n",
       "Edward Donner's website serves as a platform for sharing his interests in coding, large language models (LLMs), and electronic music. He is the co-founder and CTO of Nebula.io, focused on utilizing AI for talent discovery and management. The site features a section titled \"Outsmart,\" where users can engage in competitions between LLMs, testing their skills in diplomacy and strategy.\n",
       "\n",
       "## Recent Posts\n",
       "- **August 6, 2024**: Discusses the \"Outsmart LLM Arena,\" a platform for competitive LLM interactions.\n",
       "- **June 26, 2024**: Offers insights on \"Choosing the Right LLM,\" providing a toolkit and resources.\n",
       "- **February 7, 2024**: Explores the topic of \"Fine-tuning an LLM on your texts,\" simulating personal input.\n",
       "- **January 31, 2024**: Continues the discussion on fine-tuning LLMs, specifically focusing on QLoRA. \n",
       "\n",
       "Overall, the website combines personal interests, professional insights, and educational resources surrounding AI and LLMs."
      ],
      "text/plain": [
       "<IPython.core.display.Markdown object>"
      ]
     },
     "metadata": {},
     "output_type": "display_data"
    }
   ],
   "source": [
    "display_summary(\"https://edwarddonner.com\")"
   ]
  },
  {
   "cell_type": "code",
   "execution_count": 17,
   "id": "d4c7eb1d-7838-4845-97aa-85808613adfe",
   "metadata": {},
   "outputs": [
    {
     "data": {
      "text/markdown": [
       "# CNN News Summary\n",
       "\n",
       "CNN provides comprehensive coverage of breaking news across various categories including US and world news, politics, business, health, entertainment, sports, and more. \n",
       "\n",
       "### Key Highlights:\n",
       "- **Hurricane Milton:** Over a dozen fatalities reported, and millions are without power in Florida. Cleanup efforts are ongoing as the storm's aftermath reveals significant destruction.\n",
       "- **Israel-Hamas Conflict:** The US urges Israel to protect civilians following deadly strikes in Beirut. A UN inquiry accused Israel of \"extermination\" through attacks on Gaza's healthcare system.\n",
       "- **Nobel Peace Prize:** Survivors of Hiroshima and Nagasaki were awarded the Nobel Peace Prize for their advocacy.\n",
       "- **Celebrity News:** Notable stories include Rafael Nadal announcing his retirement and Al Pacino celebrating fatherhood at 84.\n",
       "- **Economic Updates:** US mortgage rates surged for the second straight week, with ongoing discussions about economic concerns ahead of the upcoming elections.\n",
       "\n",
       "CNN offers a wealth of video content, live updates, and analyses across its various news segments, making it a crucial resource for staying informed on current events."
      ],
      "text/plain": [
       "<IPython.core.display.Markdown object>"
      ]
     },
     "metadata": {},
     "output_type": "display_data"
    }
   ],
   "source": [
    "display_summary(\"https://cnn.com\")"
   ]
  },
  {
   "cell_type": "code",
   "execution_count": 18,
   "id": "62d79536-ed16-4147-a5aa-caa708879574",
   "metadata": {},
   "outputs": [
    {
     "data": {
      "text/markdown": [
       "# Summary of Anthropic Website\n",
       "\n",
       "Anthropic is an AI safety and research company based in San Francisco, focused on developing reliable and beneficial AI systems. Their latest offering is **Claude 3.5 Sonnet**, touted as the most intelligent AI model available as of June 21, 2024. The company emphasizes AI safety and has a diverse team with expertise in machine learning, physics, policy, and product development.\n",
       "\n",
       "## News and Announcements\n",
       "- **Claude 3.5 Sonnet Release**: Announced on June 21, 2024.\n",
       "- **Research on AI Safety**: Recent research outputs include:\n",
       "  - **Constitutional AI: Harmlessness from AI Feedback** (Dec 15, 2022)\n",
       "  - **Core Views on AI Safety** (Mar 8, 2023)\n",
       "\n",
       "The website invites users to engage with Claude via an API to drive efficiency and innovation."
      ],
      "text/plain": [
       "<IPython.core.display.Markdown object>"
      ]
     },
     "metadata": {},
     "output_type": "display_data"
    }
   ],
   "source": [
    "display_summary(\"https://anthropic.com\")"
   ]
  },
  {
   "cell_type": "markdown",
   "id": "02b1e828-6fe4-406e-974a-3107ab5339e4",
   "metadata": {},
   "source": [
    "### Business Applications"
   ]
  },
  {
   "cell_type": "markdown",
   "id": "ccf34f41-ea9d-425b-a414-053546381832",
   "metadata": {},
   "source": [
    "This exercise was about calling the API of a Frontier Model (a leading model at the frontier of AI). \n",
    "\n",
    "\n",
    "We've applied this to Summarization - a classic Gen AI use case to make a summary. This can be used for summarizing the news, summarizing financial performance or summarizing a resume in a cover letter.\n",
    "\n",
    "Using our Summarization functionality on Websites that are using Javascript to build their HTML structure (like https://openai.com) won't return satisfactory results. A workaround might be using the Selenium framework which runs a browser behind the scenes and renders the page for you."
   ]
  },
  {
   "cell_type": "code",
   "execution_count": 20,
   "id": "808f50e5-5240-4cee-a014-3bddbf3782a7",
   "metadata": {},
   "outputs": [
    {
     "data": {
      "text/markdown": [
       "It appears that the website does not have a title or identifiable content beyond instructions related to browser settings. Specifically, it instructs users to enable JavaScript and Cookies to view the page properly. \n",
       "\n",
       "### Summary\n",
       "- **Website Content**: The website lacks substantial information and primarily consists of instructions.\n",
       "- **Instructions**: Users are advised to turn on JavaScript and Cookies, then reload the page for full functionality.\n",
       "\n",
       "There are no news or announcements to summarize."
      ],
      "text/plain": [
       "<IPython.core.display.Markdown object>"
      ]
     },
     "metadata": {},
     "output_type": "display_data"
    }
   ],
   "source": [
    "display_summary(\"https://openai.com\")"
   ]
  },
  {
   "cell_type": "code",
   "execution_count": null,
   "id": "47d4cb93-0343-4f4c-af48-52ca8bb20adf",
   "metadata": {},
   "outputs": [],
   "source": []
  }
 ],
 "metadata": {
  "kernelspec": {
   "display_name": "Python 3 (ipykernel)",
   "language": "python",
   "name": "python3"
  },
  "language_info": {
   "codemirror_mode": {
    "name": "ipython",
    "version": 3
   },
   "file_extension": ".py",
   "mimetype": "text/x-python",
   "name": "python",
   "nbconvert_exporter": "python",
   "pygments_lexer": "ipython3",
   "version": "3.12.7"
  }
 },
 "nbformat": 4,
 "nbformat_minor": 5
}
