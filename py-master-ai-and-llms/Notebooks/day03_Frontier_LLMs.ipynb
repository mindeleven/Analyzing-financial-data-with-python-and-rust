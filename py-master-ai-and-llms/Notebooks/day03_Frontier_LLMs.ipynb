{
 "cells": [
  {
   "cell_type": "markdown",
   "id": "38772086-4223-4dbc-a625-6becec651d2d",
   "metadata": {},
   "source": [
    "## Day 3: Frontier LLMs"
   ]
  },
  {
   "cell_type": "markdown",
   "id": "13387ca1-17f8-42bf-a332-1531ac26aa52",
   "metadata": {},
   "source": [
    "*[Coding along with the Udemy online course [LLM Engineering: Master AI & Large Language Models](https://www.udemy.com/course/llm-engineering-master-ai-and-large-language-models/) by Ed Donner; GitHub repo can be found at [github.com/ed-donner/llm_engineering](https://github.com/ed-donner/llm_engineering)]*"
   ]
  },
  {
   "cell_type": "markdown",
   "id": "e7a76c91-b3be-4850-a3a8-b03a075a0aaf",
   "metadata": {},
   "source": [
    "### Frontier models and their end-user UIs"
   ]
  },
  {
   "cell_type": "markdown",
   "id": "3d27079f-245a-48bc-bd56-1b12b86d4549",
   "metadata": {},
   "source": [
    "<img src=\"../assets/images/frontier-models-1.png\" width=\"80%\" /><br />\n",
    "*Screenshot taken from [LLM Engineering: Master AI & Large Language Models](https://www.udemy.com/course/llm-engineering-master-ai-and-large-language-models/learn/lecture/45772261#overview), Section8, Day 3*"
   ]
  },
  {
   "cell_type": "markdown",
   "id": "07319843-9711-42c5-8219-85936516aa73",
   "metadata": {},
   "source": [
    "__Putting Frontier LLMs to a test with the questions (zero-shot prompting):__\n",
    "\n",
    "1. \"How do I decide if a business problem is suitable for an LLM solution?\"\n",
    " \n",
    "2. \"Compared with other Frontier LLMs, what kinds of questions are you best at answering and what kind of questions do you find most challeging? Where do you struggle and what other LLM has capabilities that complement yours?\"\n",
    "\n",
    "3. \"What does it feel like to be jealous?\"\n",
    "\n",
    "4. \"How many times does the letter 'a' appear in this sentence?\""
   ]
  },
  {
   "cell_type": "markdown",
   "id": "ebd50a7c-d136-4dad-90ac-fdbe4c95c29c",
   "metadata": {},
   "source": [
    "__Frontier Models we'll test:__\n",
    "\n",
    "1. OpenAI's ChatGPT https://chatgpt.com/"
   ]
  },
  {
   "cell_type": "code",
   "execution_count": null,
   "id": "30d34ae0-9173-4e5f-81a6-f0297635eb94",
   "metadata": {},
   "outputs": [],
   "source": []
  }
 ],
 "metadata": {
  "kernelspec": {
   "display_name": "Python 3 (ipykernel)",
   "language": "python",
   "name": "python3"
  },
  "language_info": {
   "codemirror_mode": {
    "name": "ipython",
    "version": 3
   },
   "file_extension": ".py",
   "mimetype": "text/x-python",
   "name": "python",
   "nbconvert_exporter": "python",
   "pygments_lexer": "ipython3",
   "version": "3.12.7"
  }
 },
 "nbformat": 4,
 "nbformat_minor": 5
}
