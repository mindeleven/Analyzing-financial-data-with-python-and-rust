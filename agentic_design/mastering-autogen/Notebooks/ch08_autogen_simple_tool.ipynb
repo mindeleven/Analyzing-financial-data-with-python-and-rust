{
 "cells": [
  {
   "cell_type": "markdown",
   "id": "c2513561-285b-43b2-8c3d-61605aea56e3",
   "metadata": {},
   "source": [
    "## AutoGen Simple Tool"
   ]
  },
  {
   "cell_type": "markdown",
   "id": "6b2bccaa-e30e-4165-9535-4ba7c153de03",
   "metadata": {},
   "source": [
    "*[Coding along with the Udemy online course [Mastering AutoGen: Building Multi-Agent Systems](https://www.udemy.com/course/autogen-agent-systems/?couponCode=MTST7102224A2) by Paulo Dichone]*"
   ]
  },
  {
   "cell_type": "markdown",
   "id": "50c27ffd-1c1b-4cf0-a5e4-75a60d805ac1",
   "metadata": {},
   "source": [
    "AutoGen 2.0 for Python documentation @ https://microsoft.github.io/autogen/0.2/docs/Getting-Started"
   ]
  },
  {
   "cell_type": "code",
   "execution_count": 11,
   "id": "a1dc3946-62ea-4717-8966-782f1845c900",
   "metadata": {},
   "outputs": [],
   "source": [
    "# https://microsoft.github.io/autogen/0.2/docs/reference/agentchat/conversable_agent/\n",
    "from autogen import ConversableAgent, UserProxyAgent\n",
    "import pandas as pd"
   ]
  },
  {
   "cell_type": "code",
   "execution_count": 12,
   "id": "4ecad090-e450-4b91-ad05-dfad335902b8",
   "metadata": {},
   "outputs": [],
   "source": [
    "from typing import Annotated"
   ]
  },
  {
   "cell_type": "markdown",
   "id": "0243c258-7dfd-487e-a522-24618f760ed2",
   "metadata": {},
   "source": [
    "Importing `autogen` returned the following error:<br/>\n",
    "`flaml.automl is not available. Please install flaml[automl] to enable AutoML functionalities.`\n",
    "\n",
    "The temporary solution to solve this was to create a constraints.txt file with the following content:\n",
    "\n",
    "`flaml==2.2.0`\n",
    "\n",
    "Then running: `pip install -c constraints.txt autogen`\n",
    "\n",
    "Following the suggestion at https://github.com/microsoft/autogen/issues/3548.\n",
    "\n",
    "*FLAML @ https://microsoft.github.io/FLAML/ is \"A Fast Library for Automated Machine Learning & Tuning.\"*"
   ]
  },
  {
   "cell_type": "code",
   "execution_count": 13,
   "id": "422ad3ca-a536-4353-984b-4098c4d0987d",
   "metadata": {},
   "outputs": [
    {
     "name": "stdout",
     "output_type": "stream",
     "text": [
      "Don't be a fool and send your api key to GitHub!\n"
     ]
    }
   ],
   "source": [
    "api_key = pd.read_csv(\"~/tmp/chat_gpt/agentic-design-1.txt\", sep=\" \", header=None)[0][0]\n",
    "print(\"Don't be a fool and send your api key to GitHub!\")"
   ]
  },
  {
   "cell_type": "code",
   "execution_count": 14,
   "id": "7a062f27-821c-456a-874f-9ac08ce00a55",
   "metadata": {},
   "outputs": [
    {
     "name": "stdout",
     "output_type": "stream",
     "text": [
      "Don't be a fool and send your api key to GitHub!\n"
     ]
    }
   ],
   "source": [
    "llm_config = {\n",
    "    \"model\": \"gpt-4o-mini\",\n",
    "    \"temperature\": 0.0,\n",
    "    \"api_key\": api_key\n",
    "    }\n",
    "print(\"Don't be a fool and send your api key to GitHub!\")"
   ]
  },
  {
   "cell_type": "code",
   "execution_count": 15,
   "id": "7894018d-ad69-46fb-b9eb-3c1039cd2ecf",
   "metadata": {},
   "outputs": [],
   "source": [
    "# defining simple calculator functions\n",
    "def add_numbers(\n",
    "    a: Annotated[int, \"First number\"], b: Annotated[int, \"Second number\"]\n",
    ") -> str:\n",
    "    return f\"The sum of {a} and {b} is {a + b}.\"\n",
    "\n",
    "def multiply_numbers(\n",
    "    a: Annotated[int, \"First number\"], b: Annotated[int, \"Second number\"]\n",
    ") -> str:\n",
    "    return f\"The product of {a} and {b} is {a * b}.\""
   ]
  },
  {
   "cell_type": "code",
   "execution_count": 16,
   "id": "d3125a9d-27bf-4a37-9f1f-7d5c68ffc55e",
   "metadata": {},
   "outputs": [
    {
     "data": {
      "text/plain": [
       "<autogen.agentchat.conversable_agent.ConversableAgent at 0x1341760c0>"
      ]
     },
     "execution_count": 16,
     "metadata": {},
     "output_type": "execute_result"
    }
   ],
   "source": [
    "assistant = ConversableAgent(\n",
    "    name = \"CalculatorAssistant\",\n",
    "    system_message = \"You're a helpful AI calculator. Return 'TERMINATE' when the task is done.\",\n",
    "    llm_config = llm_config\n",
    ")\n",
    "assistant"
   ]
  },
  {
   "cell_type": "code",
   "execution_count": 17,
   "id": "794ec826-1ae7-4c19-b884-f7a6ae86a28a",
   "metadata": {},
   "outputs": [
    {
     "data": {
      "text/plain": [
       "<autogen.agentchat.conversable_agent.ConversableAgent at 0x1341dbd40>"
      ]
     },
     "execution_count": 17,
     "metadata": {},
     "output_type": "execute_result"
    }
   ],
   "source": [
    "user_proxy = ConversableAgent(\n",
    "    name = \"User\",\n",
    "    is_termination_msg = lambda msg: msg.get(\"content\") is not None\n",
    "    and \"TERMINATE\" in msg[\"content\"],\n",
    "    human_input_mode = \"NEVER\"\n",
    ")\n",
    "user_proxy"
   ]
  },
  {
   "cell_type": "code",
   "execution_count": 18,
   "id": "b7b857b6-4eae-4665-82e8-3794263ff1ad",
   "metadata": {},
   "outputs": [
    {
     "data": {
      "text/plain": [
       "<function __main__.multiply_numbers(a: Annotated[int, 'First number'], b: Annotated[int, 'Second number']) -> str>"
      ]
     },
     "execution_count": 18,
     "metadata": {},
     "output_type": "execute_result"
    }
   ],
   "source": [
    "# register the tool signatures for the assistant agent\n",
    "assistant.register_for_llm(name=\"add_numbers\", description=\"Add two numbers.\")(\n",
    "    add_numbers\n",
    ")\n",
    "\n",
    "assistant.register_for_llm(name=\"multiply_numbers\", description=\"Multiply two numbers.\")(\n",
    "    multiply_numbers\n",
    ")"
   ]
  },
  {
   "cell_type": "code",
   "execution_count": 19,
   "id": "65e07d6b-7a98-4b1c-97c8-15d738e89eb8",
   "metadata": {},
   "outputs": [
    {
     "data": {
      "text/plain": [
       "<function __main__.multiply_numbers(a: Annotated[int, 'First number'], b: Annotated[int, 'Second number']) -> str>"
      ]
     },
     "execution_count": 19,
     "metadata": {},
     "output_type": "execute_result"
    }
   ],
   "source": [
    "# registering the tool functions with the user proxy agent\n",
    "user_proxy.register_for_execution(name=\"add_numbers\")(\n",
    "    add_numbers\n",
    ")\n",
    "\n",
    "user_proxy.register_for_execution(name=\"multiply_numbers\")(\n",
    "    multiply_numbers\n",
    ")"
   ]
  },
  {
   "cell_type": "code",
   "execution_count": 20,
   "id": "03d15b6a-beb6-46ed-83b2-81518ed8acc6",
   "metadata": {},
   "outputs": [
    {
     "name": "stdout",
     "output_type": "stream",
     "text": [
      "\u001b[33mUser\u001b[0m (to CalculatorAssistant):\n",
      "\n",
      "What is the sum of 7 and 5?\n",
      "\n",
      "--------------------------------------------------------------------------------\n",
      "\u001b[31m\n",
      ">>>>>>>> USING AUTO REPLY...\u001b[0m\n",
      "\u001b[33mCalculatorAssistant\u001b[0m (to User):\n",
      "\n",
      "\u001b[32m***** Suggested tool call (call_e104c3s2aoE9rf1BwuEZGq1i): add_numbers *****\u001b[0m\n",
      "Arguments: \n",
      "{\"a\":7,\"b\":5}\n",
      "\u001b[32m****************************************************************************\u001b[0m\n",
      "\n",
      "--------------------------------------------------------------------------------\n",
      "\u001b[35m\n",
      ">>>>>>>> EXECUTING FUNCTION add_numbers...\u001b[0m\n",
      "\u001b[33mUser\u001b[0m (to CalculatorAssistant):\n",
      "\n",
      "\u001b[33mUser\u001b[0m (to CalculatorAssistant):\n",
      "\n",
      "\u001b[32m***** Response from calling tool (call_e104c3s2aoE9rf1BwuEZGq1i) *****\u001b[0m\n",
      "The sum of 7 and 5 is 12.\n",
      "\u001b[32m**********************************************************************\u001b[0m\n",
      "\n",
      "--------------------------------------------------------------------------------\n",
      "\u001b[31m\n",
      ">>>>>>>> USING AUTO REPLY...\u001b[0m\n",
      "\u001b[33mCalculatorAssistant\u001b[0m (to User):\n",
      "\n",
      "The sum of 7 and 5 is 12. \n",
      "\n",
      "TERMINATE\n",
      "\n",
      "--------------------------------------------------------------------------------\n"
     ]
    },
    {
     "data": {
      "text/plain": [
       "ChatResult(chat_id=None, chat_history=[{'content': 'What is the sum of 7 and 5?', 'role': 'assistant', 'name': 'User'}, {'tool_calls': [{'id': 'call_e104c3s2aoE9rf1BwuEZGq1i', 'function': {'arguments': '{\"a\":7,\"b\":5}', 'name': 'add_numbers'}, 'type': 'function'}], 'content': None, 'role': 'assistant'}, {'content': 'The sum of 7 and 5 is 12.', 'tool_responses': [{'tool_call_id': 'call_e104c3s2aoE9rf1BwuEZGq1i', 'role': 'tool', 'content': 'The sum of 7 and 5 is 12.'}], 'role': 'tool', 'name': 'User'}, {'content': 'The sum of 7 and 5 is 12. \\n\\nTERMINATE', 'role': 'user', 'name': 'CalculatorAssistant'}], summary='The sum of 7 and 5 is 12. \\n\\n', cost={'usage_including_cached_inference': {'total_cost': 6.03e-05, 'gpt-4o-mini-2024-07-18': {'cost': 6.03e-05, 'prompt_tokens': 262, 'completion_tokens': 35, 'total_tokens': 297}}, 'usage_excluding_cached_inference': {'total_cost': 6.03e-05, 'gpt-4o-mini-2024-07-18': {'cost': 6.03e-05, 'prompt_tokens': 262, 'completion_tokens': 35, 'total_tokens': 297}}}, human_input=[])"
      ]
     },
     "execution_count": 20,
     "metadata": {},
     "output_type": "execute_result"
    }
   ],
   "source": [
    "user_proxy.initiate_chat(\n",
    "    assistant,\n",
    "    message = \"What is the sum of 7 and 5?\"\n",
    ")"
   ]
  },
  {
   "cell_type": "code",
   "execution_count": null,
   "id": "bd429616-d76b-4805-8f96-cfeba63bae2c",
   "metadata": {},
   "outputs": [],
   "source": []
  }
 ],
 "metadata": {
  "kernelspec": {
   "display_name": "Python 3 (ipykernel)",
   "language": "python",
   "name": "python3"
  },
  "language_info": {
   "codemirror_mode": {
    "name": "ipython",
    "version": 3
   },
   "file_extension": ".py",
   "mimetype": "text/x-python",
   "name": "python",
   "nbconvert_exporter": "python",
   "pygments_lexer": "ipython3",
   "version": "3.12.7"
  }
 },
 "nbformat": 4,
 "nbformat_minor": 5
}
