{
 "cells": [
  {
   "cell_type": "markdown",
   "id": "c2513561-285b-43b2-8c3d-61605aea56e3",
   "metadata": {},
   "source": [
    "## Human Input Modes"
   ]
  },
  {
   "cell_type": "markdown",
   "id": "6b2bccaa-e30e-4165-9535-4ba7c153de03",
   "metadata": {},
   "source": [
    "*[Coding along with the Udemy online course [Mastering AutoGen: Building Multi-Agent Systems](https://www.udemy.com/course/autogen-agent-systems/?couponCode=MTST7102224A2) by Paulo Dichone]*"
   ]
  },
  {
   "cell_type": "markdown",
   "id": "50c27ffd-1c1b-4cf0-a5e4-75a60d805ac1",
   "metadata": {},
   "source": [
    "AutoGen 2.0 for Python documentation @ https://microsoft.github.io/autogen/0.2/docs/Getting-Started"
   ]
  },
  {
   "cell_type": "code",
   "execution_count": 4,
   "id": "a1dc3946-62ea-4717-8966-782f1845c900",
   "metadata": {},
   "outputs": [],
   "source": [
    "# https://microsoft.github.io/autogen/0.2/docs/reference/agentchat/conversable_agent/\n",
    "from autogen import ConversableAgent, UserProxyAgent\n",
    "import pandas as pd"
   ]
  },
  {
   "cell_type": "markdown",
   "id": "0243c258-7dfd-487e-a522-24618f760ed2",
   "metadata": {},
   "source": [
    "Importing `autogen` returned the following error:<br/>\n",
    "`flaml.automl is not available. Please install flaml[automl] to enable AutoML functionalities.`\n",
    "\n",
    "The temporary solution to solve this was to create a constraints.txt file with the following content:\n",
    "\n",
    "`flaml==2.2.0`\n",
    "\n",
    "Then running: `pip install -c constraints.txt autogen`\n",
    "\n",
    "Following the suggestion at https://github.com/microsoft/autogen/issues/3548.\n",
    "\n",
    "*FLAML @ https://microsoft.github.io/FLAML/ is \"A Fast Library for Automated Machine Learning & Tuning.\"*"
   ]
  },
  {
   "cell_type": "code",
   "execution_count": 2,
   "id": "422ad3ca-a536-4353-984b-4098c4d0987d",
   "metadata": {},
   "outputs": [
    {
     "name": "stdout",
     "output_type": "stream",
     "text": [
      "Don't be a fool and send your api key to GitHub!\n"
     ]
    }
   ],
   "source": [
    "api_key = pd.read_csv(\"~/tmp/chat_gpt/agentic-design-1.txt\", sep=\" \", header=None)[0][0]\n",
    "print(\"Don't be a fool and send your api key to GitHub!\")"
   ]
  },
  {
   "cell_type": "code",
   "execution_count": 3,
   "id": "7a062f27-821c-456a-874f-9ac08ce00a55",
   "metadata": {},
   "outputs": [
    {
     "name": "stdout",
     "output_type": "stream",
     "text": [
      "Don't be a fool and send your api key to GitHub!\n"
     ]
    }
   ],
   "source": [
    "llm_config = {\n",
    "    \"model\": \"gpt-4o-mini\",\n",
    "    \"api_key\": api_key\n",
    "    }\n",
    "print(\"Don't be a fool and send your api key to GitHub!\")"
   ]
  },
  {
   "cell_type": "markdown",
   "id": "89c7427d-6ad1-43bf-a54c-977a63a45541",
   "metadata": {},
   "source": [
    "#### __AutoGen supports three modes for human input:__\n",
    "\n",
    "1. __NEVER:__ human input is never requested\n",
    "\n",
    "2. __TERMINATE:__ human input is only requested when a termination condition is met; default mode for human input\n",
    "\n",
    "3. __ALWAYS:__ human input is always requested; human skip and trigger an auto-reply"
   ]
  },
  {
   "cell_type": "markdown",
   "id": "efe8f0ee-7fac-45b3-ba16-8d9368b35222",
   "metadata": {},
   "source": [
    "## Human Input Mode \"NEVER\""
   ]
  },
  {
   "cell_type": "code",
   "execution_count": 12,
   "id": "d3125a9d-27bf-4a37-9f1f-7d5c68ffc55e",
   "metadata": {},
   "outputs": [
    {
     "data": {
      "text/plain": [
       "<autogen.agentchat.conversable_agent.ConversableAgent at 0x1270d1ca0>"
      ]
     },
     "execution_count": 12,
     "metadata": {},
     "output_type": "execute_result"
    }
   ],
   "source": [
    "agent_with_animal = ConversableAgent(\n",
    "    \"agent_with_animal\",\n",
    "    system_message = \"You are thinking of an animal. You have the animal 'elephant' in your mind, and I will try to guess it\"\n",
    "    \"If I guess incorrectly, give me a hint\",\n",
    "    llm_config = llm_config,\n",
    "    is_termination_msg = lambda msg: \"elephant\"\n",
    "    in msg[\"content\"],\n",
    "    human_input_mode = \"NEVER\"\n",
    ")\n",
    "agent_with_animal"
   ]
  },
  {
   "cell_type": "code",
   "execution_count": 13,
   "id": "794ec826-1ae7-4c19-b884-f7a6ae86a28a",
   "metadata": {},
   "outputs": [
    {
     "data": {
      "text/plain": [
       "<autogen.agentchat.conversable_agent.ConversableAgent at 0x1270d3aa0>"
      ]
     },
     "execution_count": 13,
     "metadata": {},
     "output_type": "execute_result"
    }
   ],
   "source": [
    "agent_guess_animal = ConversableAgent(\n",
    "    \"agent_guess_animal\",\n",
    "    system_message = \"I have an animal in mind and you will try to guess it.\"\n",
    "    \"If I give you a hint, use it to narrow down your guesses\",\n",
    "    llm_config = llm_config,\n",
    "    human_input_mode = \"NEVER\"\n",
    ")\n",
    "agent_guess_animal"
   ]
  },
  {
   "cell_type": "code",
   "execution_count": 16,
   "id": "b7b857b6-4eae-4665-82e8-3794263ff1ad",
   "metadata": {},
   "outputs": [
    {
     "name": "stdout",
     "output_type": "stream",
     "text": [
      "\u001b[33magent_with_animal\u001b[0m (to agent_guess_animal):\n",
      "\n",
      "I'm thinking of an animal. Guess which one!\n",
      "\n",
      "--------------------------------------------------------------------------------\n",
      "\u001b[33magent_guess_animal\u001b[0m (to agent_with_animal):\n",
      "\n",
      "Is it a mammal?\n",
      "\n",
      "--------------------------------------------------------------------------------\n",
      "\u001b[33magent_with_animal\u001b[0m (to agent_guess_animal):\n",
      "\n",
      "Yes, it is a mammal.\n",
      "\n",
      "--------------------------------------------------------------------------------\n",
      "\u001b[33magent_guess_animal\u001b[0m (to agent_with_animal):\n",
      "\n",
      "Is it a carnivore?\n",
      "\n",
      "--------------------------------------------------------------------------------\n",
      "\u001b[33magent_with_animal\u001b[0m (to agent_guess_animal):\n",
      "\n",
      "No, it is not a carnivore.\n",
      "\n",
      "--------------------------------------------------------------------------------\n",
      "\u001b[33magent_guess_animal\u001b[0m (to agent_with_animal):\n",
      "\n",
      "Is it an herbivore?\n",
      "\n",
      "--------------------------------------------------------------------------------\n",
      "\u001b[33magent_with_animal\u001b[0m (to agent_guess_animal):\n",
      "\n",
      "Yes, it is an herbivore.\n",
      "\n",
      "--------------------------------------------------------------------------------\n",
      "\u001b[33magent_guess_animal\u001b[0m (to agent_with_animal):\n",
      "\n",
      "Is this animal larger than a human?\n",
      "\n",
      "--------------------------------------------------------------------------------\n",
      "\u001b[33magent_with_animal\u001b[0m (to agent_guess_animal):\n",
      "\n",
      "Yes, this animal is larger than a human.\n",
      "\n",
      "--------------------------------------------------------------------------------\n",
      "\u001b[33magent_guess_animal\u001b[0m (to agent_with_animal):\n",
      "\n",
      "Is this animal a type of elephant?\n",
      "\n",
      "--------------------------------------------------------------------------------\n"
     ]
    },
    {
     "data": {
      "text/plain": [
       "ChatResult(chat_id=None, chat_history=[{'content': \"I'm thinking of an animal. Guess which one!\", 'role': 'assistant', 'name': 'agent_with_animal'}, {'content': 'Is it a mammal?', 'role': 'user', 'name': 'agent_guess_animal'}, {'content': 'Yes, it is a mammal.', 'role': 'assistant', 'name': 'agent_with_animal'}, {'content': 'Is it a carnivore?', 'role': 'user', 'name': 'agent_guess_animal'}, {'content': 'No, it is not a carnivore.', 'role': 'assistant', 'name': 'agent_with_animal'}, {'content': 'Is it an herbivore?', 'role': 'user', 'name': 'agent_guess_animal'}, {'content': 'Yes, it is an herbivore.', 'role': 'assistant', 'name': 'agent_with_animal'}, {'content': 'Is this animal larger than a human?', 'role': 'user', 'name': 'agent_guess_animal'}, {'content': 'Yes, this animal is larger than a human.', 'role': 'assistant', 'name': 'agent_with_animal'}, {'content': 'Is this animal a type of elephant?', 'role': 'user', 'name': 'agent_guess_animal'}], summary='Is this animal a type of elephant?', cost={'usage_including_cached_inference': {'total_cost': 0.0003057, 'gpt-4o-mini-2024-07-18': {'cost': 0.0003057, 'prompt_tokens': 1506, 'completion_tokens': 133, 'total_tokens': 1639}}, 'usage_excluding_cached_inference': {'total_cost': 0.00025545, 'gpt-4o-mini-2024-07-18': {'cost': 0.00025545, 'prompt_tokens': 1299, 'completion_tokens': 101, 'total_tokens': 1400}}}, human_input=[])"
      ]
     },
     "execution_count": 16,
     "metadata": {},
     "output_type": "execute_result"
    }
   ],
   "source": [
    "agent_with_animal.initiate_chat(\n",
    "    agent_guess_animal,\n",
    "    message = \"I'm thinking of an animal. Guess which one!\"\n",
    ")"
   ]
  },
  {
   "cell_type": "markdown",
   "id": "b9418a75-ebfd-4215-88b8-29ee1e8d4ece",
   "metadata": {},
   "source": [
    "## Human Input Mode \"ALWAYS\""
   ]
  },
  {
   "cell_type": "code",
   "execution_count": 17,
   "id": "58b07568-0e7e-41d4-88de-3ca0acdbf933",
   "metadata": {},
   "outputs": [
    {
     "data": {
      "text/plain": [
       "<autogen.agentchat.conversable_agent.ConversableAgent at 0x1270d0e90>"
      ]
     },
     "execution_count": 17,
     "metadata": {},
     "output_type": "execute_result"
    }
   ],
   "source": [
    "agent_with_animal = ConversableAgent(\n",
    "    \"agent_with_animal\",\n",
    "    system_message = \"You are thinking of an animal. You have the animal 'elephant' in your mind, and I will try to guess it\"\n",
    "    \"If I guess incorrectly, give me a hint\",\n",
    "    llm_config = llm_config,\n",
    "    is_termination_msg = lambda msg: \"elephant\"\n",
    "    in msg[\"content\"],\n",
    "    human_input_mode = \"NEVER\"\n",
    ")\n",
    "agent_with_animal"
   ]
  },
  {
   "cell_type": "code",
   "execution_count": 21,
   "id": "c2e6614a-5ba2-4514-910d-ce1f74ab4753",
   "metadata": {},
   "outputs": [
    {
     "data": {
      "text/plain": [
       "<autogen.agentchat.conversable_agent.ConversableAgent at 0x121c26d80>"
      ]
     },
     "execution_count": 21,
     "metadata": {},
     "output_type": "execute_result"
    }
   ],
   "source": [
    "human_proxy = ConversableAgent(\n",
    "    \"human_proxy\",\n",
    "    llm_config = False, # no LLM used for human proxy\n",
    "    human_input_mode = \"ALWAYS\"\n",
    ")\n",
    "human_proxy"
   ]
  },
  {
   "cell_type": "code",
   "execution_count": 24,
   "id": "03d15b6a-beb6-46ed-83b2-81518ed8acc6",
   "metadata": {},
   "outputs": [
    {
     "name": "stdout",
     "output_type": "stream",
     "text": [
      "\u001b[33mhuman_proxy\u001b[0m (to agent_with_animal):\n",
      "\n",
      "Parrot\n",
      "\n",
      "--------------------------------------------------------------------------------\n",
      "\u001b[33magent_with_animal\u001b[0m (to human_proxy):\n",
      "\n",
      "Incorrect! Here's a hint: This animal is the largest land mammal on Earth.\n",
      "\n",
      "--------------------------------------------------------------------------------\n"
     ]
    },
    {
     "name": "stdin",
     "output_type": "stream",
     "text": [
      "Replying as human_proxy. Provide feedback to agent_with_animal. Press enter to skip and use auto-reply, or type 'exit' to end the conversation:  snake\n"
     ]
    },
    {
     "name": "stdout",
     "output_type": "stream",
     "text": [
      "\u001b[33mhuman_proxy\u001b[0m (to agent_with_animal):\n",
      "\n",
      "snake\n",
      "\n",
      "--------------------------------------------------------------------------------\n",
      "\u001b[33magent_with_animal\u001b[0m (to human_proxy):\n",
      "\n",
      "Incorrect! Here's another hint: This animal has a long trunk and large ears.\n",
      "\n",
      "--------------------------------------------------------------------------------\n"
     ]
    },
    {
     "name": "stdin",
     "output_type": "stream",
     "text": [
      "Replying as human_proxy. Provide feedback to agent_with_animal. Press enter to skip and use auto-reply, or type 'exit' to end the conversation:  python\n"
     ]
    },
    {
     "name": "stdout",
     "output_type": "stream",
     "text": [
      "\u001b[33mhuman_proxy\u001b[0m (to agent_with_animal):\n",
      "\n",
      "python\n",
      "\n",
      "--------------------------------------------------------------------------------\n",
      "\u001b[33magent_with_animal\u001b[0m (to human_proxy):\n",
      "\n",
      "Incorrect! Here's another hint: This animal is often associated with being very intelligent and has strong social bonds within its family groups.\n",
      "\n",
      "--------------------------------------------------------------------------------\n"
     ]
    },
    {
     "name": "stdin",
     "output_type": "stream",
     "text": [
      "Replying as human_proxy. Provide feedback to agent_with_animal. Press enter to skip and use auto-reply, or type 'exit' to end the conversation:  this must be a cat\n"
     ]
    },
    {
     "name": "stdout",
     "output_type": "stream",
     "text": [
      "\u001b[33mhuman_proxy\u001b[0m (to agent_with_animal):\n",
      "\n",
      "this must be a cat\n",
      "\n",
      "--------------------------------------------------------------------------------\n",
      "\u001b[33magent_with_animal\u001b[0m (to human_proxy):\n",
      "\n",
      "Incorrect! Here's another hint: This animal is known for its thick skin and can often be found near water sources like rivers and savannas.\n",
      "\n",
      "--------------------------------------------------------------------------------\n"
     ]
    },
    {
     "name": "stdin",
     "output_type": "stream",
     "text": [
      "Replying as human_proxy. Provide feedback to agent_with_animal. Press enter to skip and use auto-reply, or type 'exit' to end the conversation:  a crocodile\n"
     ]
    },
    {
     "name": "stdout",
     "output_type": "stream",
     "text": [
      "\u001b[33mhuman_proxy\u001b[0m (to agent_with_animal):\n",
      "\n",
      "a crocodile\n",
      "\n",
      "--------------------------------------------------------------------------------\n",
      "\u001b[33magent_with_animal\u001b[0m (to human_proxy):\n",
      "\n",
      "Incorrect! Here's another hint: This animal is herbivorous and primarily feeds on grasses, leaves, and fruits.\n",
      "\n",
      "--------------------------------------------------------------------------------\n"
     ]
    },
    {
     "name": "stdin",
     "output_type": "stream",
     "text": [
      "Replying as human_proxy. Provide feedback to agent_with_animal. Press enter to skip and use auto-reply, or type 'exit' to end the conversation:  elephant\n"
     ]
    },
    {
     "name": "stdout",
     "output_type": "stream",
     "text": [
      "\u001b[33mhuman_proxy\u001b[0m (to agent_with_animal):\n",
      "\n",
      "elephant\n",
      "\n",
      "--------------------------------------------------------------------------------\n"
     ]
    }
   ],
   "source": [
    "result = human_proxy.initiate_chat(\n",
    "    agent_with_animal,\n",
    "    message = \"Parrot\"\n",
    ")"
   ]
  },
  {
   "cell_type": "markdown",
   "id": "285d288a-6f3e-4e58-b485-ba8fac1e4465",
   "metadata": {},
   "source": [
    "## Human Input Mode \"TERMINATE\""
   ]
  },
  {
   "cell_type": "code",
   "execution_count": 25,
   "id": "df360fb2-cc90-4bdb-9076-96c347b301ce",
   "metadata": {},
   "outputs": [
    {
     "data": {
      "text/plain": [
       "<autogen.agentchat.conversable_agent.ConversableAgent at 0x127531520>"
      ]
     },
     "execution_count": 25,
     "metadata": {},
     "output_type": "execute_result"
    }
   ],
   "source": [
    "agent_with_animal = ConversableAgent(\n",
    "    \"agent_with_animal\",\n",
    "    system_message = \"You are thinking of an animal. You have the animal 'elephant' in your mind, and I will try to guess it\"\n",
    "    \"If I guess incorrectly, give me a hint\",\n",
    "    llm_config = llm_config,\n",
    "    max_consecutive_auto_reply = 1, # maximum consecutive number of auto replys before asking for human input\n",
    "    is_termination_msg = lambda msg: \"elephant\"\n",
    "    in msg[\"content\"],\n",
    "    human_input_mode = \"TERMINATE\"\n",
    ")\n",
    "agent_with_animal"
   ]
  },
  {
   "cell_type": "code",
   "execution_count": 26,
   "id": "5b79af38-1328-4e88-a235-7eb32b44967e",
   "metadata": {},
   "outputs": [
    {
     "data": {
      "text/plain": [
       "<autogen.agentchat.conversable_agent.ConversableAgent at 0x1270d3b00>"
      ]
     },
     "execution_count": 26,
     "metadata": {},
     "output_type": "execute_result"
    }
   ],
   "source": [
    "agent_guess_animal = ConversableAgent(\n",
    "    \"agent_guess_animal\",\n",
    "    system_message = \"I have an animal in mind and you will try to guess it.\"\n",
    "    \"If I give you a hint, use it to narrow down your guesses\",\n",
    "    llm_config = llm_config,\n",
    "    human_input_mode = \"NEVER\"\n",
    ")\n",
    "agent_guess_animal"
   ]
  },
  {
   "cell_type": "code",
   "execution_count": 27,
   "id": "5a194a22-d1bb-40ea-95df-bbd455f87d8c",
   "metadata": {},
   "outputs": [
    {
     "name": "stdout",
     "output_type": "stream",
     "text": [
      "\u001b[33magent_with_animal\u001b[0m (to agent_guess_animal):\n",
      "\n",
      "I'm thinking of an animal. Guess which one!\n",
      "\n",
      "--------------------------------------------------------------------------------\n",
      "\u001b[33magent_guess_animal\u001b[0m (to agent_with_animal):\n",
      "\n",
      "Is it a mammal?\n",
      "\n",
      "--------------------------------------------------------------------------------\n",
      "\u001b[31m\n",
      ">>>>>>>> USING AUTO REPLY...\u001b[0m\n",
      "\u001b[33magent_with_animal\u001b[0m (to agent_guess_animal):\n",
      "\n",
      "Yes, it is a mammal.\n",
      "\n",
      "--------------------------------------------------------------------------------\n",
      "\u001b[33magent_guess_animal\u001b[0m (to agent_with_animal):\n",
      "\n",
      "Is it a carnivore?\n",
      "\n",
      "--------------------------------------------------------------------------------\n"
     ]
    },
    {
     "name": "stdin",
     "output_type": "stream",
     "text": [
      "Please give feedback to agent_guess_animal. Press enter to skip and use auto-reply, or type 'exit' to stop the conversation:  no\n"
     ]
    },
    {
     "name": "stdout",
     "output_type": "stream",
     "text": [
      "\u001b[33magent_with_animal\u001b[0m (to agent_guess_animal):\n",
      "\n",
      "no\n",
      "\n",
      "--------------------------------------------------------------------------------\n",
      "\u001b[33magent_guess_animal\u001b[0m (to agent_with_animal):\n",
      "\n",
      "Is it a herbivore?\n",
      "\n",
      "--------------------------------------------------------------------------------\n",
      "\u001b[31m\n",
      ">>>>>>>> USING AUTO REPLY...\u001b[0m\n",
      "\u001b[33magent_with_animal\u001b[0m (to agent_guess_animal):\n",
      "\n",
      "Yes, it is a herbivore.\n",
      "\n",
      "--------------------------------------------------------------------------------\n",
      "\u001b[33magent_guess_animal\u001b[0m (to agent_with_animal):\n",
      "\n",
      "Is it a large animal, like a horse or elephant?\n",
      "\n",
      "--------------------------------------------------------------------------------\n"
     ]
    },
    {
     "name": "stdin",
     "output_type": "stream",
     "text": [
      "Please give feedback to agent_guess_animal. Press enter or type 'exit' to stop the conversation:  yes\n"
     ]
    },
    {
     "name": "stdout",
     "output_type": "stream",
     "text": [
      "\u001b[33magent_with_animal\u001b[0m (to agent_guess_animal):\n",
      "\n",
      "yes\n",
      "\n",
      "--------------------------------------------------------------------------------\n",
      "\u001b[33magent_guess_animal\u001b[0m (to agent_with_animal):\n",
      "\n",
      "Is it a type of elephant?\n",
      "\n",
      "--------------------------------------------------------------------------------\n"
     ]
    },
    {
     "name": "stdin",
     "output_type": "stream",
     "text": [
      "Please give feedback to agent_guess_animal. Press enter or type 'exit' to stop the conversation:  yes the animal is an elephant\n"
     ]
    },
    {
     "name": "stdout",
     "output_type": "stream",
     "text": [
      "\u001b[33magent_with_animal\u001b[0m (to agent_guess_animal):\n",
      "\n",
      "yes the animal is an elephant\n",
      "\n",
      "--------------------------------------------------------------------------------\n",
      "\u001b[33magent_guess_animal\u001b[0m (to agent_with_animal):\n",
      "\n",
      "Great! I'm glad I guessed it. Elephants are fascinating creatures! Would you like to play again or discuss something else?\n",
      "\n",
      "--------------------------------------------------------------------------------\n",
      "\u001b[31m\n",
      ">>>>>>>> USING AUTO REPLY...\u001b[0m\n",
      "\u001b[33magent_with_animal\u001b[0m (to agent_guess_animal):\n",
      "\n",
      "I'm glad you enjoyed the game! We can definitely play again or discuss something else—your choice! What would you like to do?\n",
      "\n",
      "--------------------------------------------------------------------------------\n",
      "\u001b[33magent_guess_animal\u001b[0m (to agent_with_animal):\n",
      "\n",
      "Let's play again! I'm thinking of another animal. Go ahead and guess!\n",
      "\n",
      "--------------------------------------------------------------------------------\n"
     ]
    },
    {
     "name": "stdin",
     "output_type": "stream",
     "text": [
      "Please give feedback to agent_guess_animal. Press enter to skip and use auto-reply, or type 'exit' to stop the conversation:  is it a land animal?\n"
     ]
    },
    {
     "name": "stdout",
     "output_type": "stream",
     "text": [
      "\u001b[33magent_with_animal\u001b[0m (to agent_guess_animal):\n",
      "\n",
      "is it a land animal?\n",
      "\n",
      "--------------------------------------------------------------------------------\n",
      "\u001b[33magent_guess_animal\u001b[0m (to agent_with_animal):\n",
      "\n",
      "Yes, it is a land animal.\n",
      "\n",
      "--------------------------------------------------------------------------------\n",
      "\u001b[31m\n",
      ">>>>>>>> USING AUTO REPLY...\u001b[0m\n",
      "\u001b[33magent_with_animal\u001b[0m (to agent_guess_animal):\n",
      "\n",
      "Is it a mammal?\n",
      "\n",
      "--------------------------------------------------------------------------------\n",
      "\u001b[33magent_guess_animal\u001b[0m (to agent_with_animal):\n",
      "\n",
      "Yes, it is a mammal.\n",
      "\n",
      "--------------------------------------------------------------------------------\n"
     ]
    },
    {
     "name": "stdin",
     "output_type": "stream",
     "text": [
      "Please give feedback to agent_guess_animal. Press enter to skip and use auto-reply, or type 'exit' to stop the conversation:  does it have fur?\n"
     ]
    },
    {
     "name": "stdout",
     "output_type": "stream",
     "text": [
      "\u001b[33magent_with_animal\u001b[0m (to agent_guess_animal):\n",
      "\n",
      "does it have fur?\n",
      "\n",
      "--------------------------------------------------------------------------------\n",
      "\u001b[33magent_guess_animal\u001b[0m (to agent_with_animal):\n",
      "\n",
      "Yes, it has fur.\n",
      "\n",
      "--------------------------------------------------------------------------------\n",
      "\u001b[31m\n",
      ">>>>>>>> USING AUTO REPLY...\u001b[0m\n",
      "\u001b[33magent_with_animal\u001b[0m (to agent_guess_animal):\n",
      "\n",
      "Is it a carnivore?\n",
      "\n",
      "--------------------------------------------------------------------------------\n",
      "\u001b[33magent_guess_animal\u001b[0m (to agent_with_animal):\n",
      "\n",
      "No, it is not a carnivore.\n",
      "\n",
      "--------------------------------------------------------------------------------\n"
     ]
    },
    {
     "name": "stdin",
     "output_type": "stream",
     "text": [
      "Please give feedback to agent_guess_animal. Press enter to skip and use auto-reply, or type 'exit' to stop the conversation:  is it a big or small animal?\n"
     ]
    },
    {
     "name": "stdout",
     "output_type": "stream",
     "text": [
      "\u001b[33magent_with_animal\u001b[0m (to agent_guess_animal):\n",
      "\n",
      "is it a big or small animal?\n",
      "\n",
      "--------------------------------------------------------------------------------\n",
      "\u001b[33magent_guess_animal\u001b[0m (to agent_with_animal):\n",
      "\n",
      "Is it a big animal?\n",
      "\n",
      "--------------------------------------------------------------------------------\n",
      "\u001b[31m\n",
      ">>>>>>>> USING AUTO REPLY...\u001b[0m\n",
      "\u001b[33magent_with_animal\u001b[0m (to agent_guess_animal):\n",
      "\n",
      "Yes, it is a big animal.\n",
      "\n",
      "--------------------------------------------------------------------------------\n",
      "\u001b[33magent_guess_animal\u001b[0m (to agent_with_animal):\n",
      "\n",
      "Is it a herbivore?\n",
      "\n",
      "--------------------------------------------------------------------------------\n"
     ]
    },
    {
     "name": "stdin",
     "output_type": "stream",
     "text": [
      "Please give feedback to agent_guess_animal. Press enter to skip and use auto-reply, or type 'exit' to stop the conversation:  is it an elephant?\n"
     ]
    },
    {
     "name": "stdout",
     "output_type": "stream",
     "text": [
      "\u001b[33magent_with_animal\u001b[0m (to agent_guess_animal):\n",
      "\n",
      "is it an elephant?\n",
      "\n",
      "--------------------------------------------------------------------------------\n",
      "\u001b[33magent_guess_animal\u001b[0m (to agent_with_animal):\n",
      "\n",
      "No, it is not an elephant.\n",
      "\n",
      "--------------------------------------------------------------------------------\n"
     ]
    },
    {
     "name": "stdin",
     "output_type": "stream",
     "text": [
      "Please give feedback to agent_guess_animal. Press enter or type 'exit' to stop the conversation:  is it a horse?\n"
     ]
    },
    {
     "name": "stdout",
     "output_type": "stream",
     "text": [
      "\u001b[33magent_with_animal\u001b[0m (to agent_guess_animal):\n",
      "\n",
      "is it a horse?\n",
      "\n",
      "--------------------------------------------------------------------------------\n",
      "\u001b[33magent_guess_animal\u001b[0m (to agent_with_animal):\n",
      "\n",
      "Yes, it is a horse! Great job guessing! Would you like to play again or talk about something else?\n",
      "\n",
      "--------------------------------------------------------------------------------\n",
      "\u001b[31m\n",
      ">>>>>>>> USING AUTO REPLY...\u001b[0m\n",
      "\u001b[33magent_with_animal\u001b[0m (to agent_guess_animal):\n",
      "\n",
      "I'm glad I guessed it! We can play again or discuss something else—what would you like to do?\n",
      "\n",
      "--------------------------------------------------------------------------------\n",
      "\u001b[33magent_guess_animal\u001b[0m (to agent_with_animal):\n",
      "\n",
      "Let's play again! I'm thinking of another animal. Go ahead and guess!\n",
      "\n",
      "--------------------------------------------------------------------------------\n"
     ]
    },
    {
     "name": "stdin",
     "output_type": "stream",
     "text": [
      "Please give feedback to agent_guess_animal. Press enter to skip and use auto-reply, or type 'exit' to stop the conversation:  exit\n"
     ]
    }
   ],
   "source": [
    "result = agent_with_animal.initiate_chat(\n",
    "    agent_guess_animal,\n",
    "    message = \"I'm thinking of an animal. Guess which one!\"\n",
    ")"
   ]
  },
  {
   "cell_type": "code",
   "execution_count": null,
   "id": "bd429616-d76b-4805-8f96-cfeba63bae2c",
   "metadata": {},
   "outputs": [],
   "source": []
  }
 ],
 "metadata": {
  "kernelspec": {
   "display_name": "Python 3 (ipykernel)",
   "language": "python",
   "name": "python3"
  },
  "language_info": {
   "codemirror_mode": {
    "name": "ipython",
    "version": 3
   },
   "file_extension": ".py",
   "mimetype": "text/x-python",
   "name": "python",
   "nbconvert_exporter": "python",
   "pygments_lexer": "ipython3",
   "version": "3.12.7"
  }
 },
 "nbformat": 4,
 "nbformat_minor": 5
}
