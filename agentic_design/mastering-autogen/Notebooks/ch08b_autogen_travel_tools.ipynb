{
 "cells": [
  {
   "cell_type": "markdown",
   "id": "c2513561-285b-43b2-8c3d-61605aea56e3",
   "metadata": {},
   "source": [
    "## AutoGen Tooling: Travel Tools Example"
   ]
  },
  {
   "cell_type": "markdown",
   "id": "6b2bccaa-e30e-4165-9535-4ba7c153de03",
   "metadata": {},
   "source": [
    "*[Coding along with the Udemy online course [Mastering AutoGen: Building Multi-Agent Systems](https://www.udemy.com/course/autogen-agent-systems/?couponCode=MTST7102224A2) by Paulo Dichone]*"
   ]
  },
  {
   "cell_type": "markdown",
   "id": "50c27ffd-1c1b-4cf0-a5e4-75a60d805ac1",
   "metadata": {},
   "source": [
    "AutoGen 2.0 for Python documentation @ https://microsoft.github.io/autogen/0.2/docs/Getting-Started"
   ]
  },
  {
   "cell_type": "code",
   "execution_count": 1,
   "id": "a1dc3946-62ea-4717-8966-782f1845c900",
   "metadata": {},
   "outputs": [],
   "source": [
    "# https://microsoft.github.io/autogen/0.2/docs/reference/agentchat/conversable_agent/\n",
    "from autogen import ConversableAgent, UserProxyAgent\n",
    "import pandas as pd"
   ]
  },
  {
   "cell_type": "code",
   "execution_count": 2,
   "id": "4ecad090-e450-4b91-ad05-dfad335902b8",
   "metadata": {},
   "outputs": [],
   "source": [
    "from typing import Annotated"
   ]
  },
  {
   "cell_type": "markdown",
   "id": "0243c258-7dfd-487e-a522-24618f760ed2",
   "metadata": {},
   "source": [
    "Importing `autogen` returned the following error:<br/>\n",
    "`flaml.automl is not available. Please install flaml[automl] to enable AutoML functionalities.`\n",
    "\n",
    "The temporary solution to solve this was to create a constraints.txt file with the following content:\n",
    "\n",
    "`flaml==2.2.0`\n",
    "\n",
    "Then running: `pip install -c constraints.txt autogen`\n",
    "\n",
    "Following the suggestion at https://github.com/microsoft/autogen/issues/3548.\n",
    "\n",
    "*FLAML @ https://microsoft.github.io/FLAML/ is \"A Fast Library for Automated Machine Learning & Tuning.\"*"
   ]
  },
  {
   "cell_type": "code",
   "execution_count": 3,
   "id": "422ad3ca-a536-4353-984b-4098c4d0987d",
   "metadata": {},
   "outputs": [
    {
     "name": "stdout",
     "output_type": "stream",
     "text": [
      "Don't be a fool and send your api key to GitHub!\n"
     ]
    }
   ],
   "source": [
    "api_key = pd.read_csv(\"~/tmp/chat_gpt/agentic-design-1.txt\", sep=\" \", header=None)[0][0]\n",
    "print(\"Don't be a fool and send your api key to GitHub!\")"
   ]
  },
  {
   "cell_type": "code",
   "execution_count": 4,
   "id": "7a062f27-821c-456a-874f-9ac08ce00a55",
   "metadata": {},
   "outputs": [
    {
     "name": "stdout",
     "output_type": "stream",
     "text": [
      "Don't be a fool and send your api key to GitHub!\n"
     ]
    }
   ],
   "source": [
    "llm_config = {\n",
    "    \"model\": \"gpt-4o-mini\",\n",
    "    \"temperature\": 0.0,\n",
    "    \"api_key\": api_key\n",
    "    }\n",
    "print(\"Don't be a fool and send your api key to GitHub!\")"
   ]
  },
  {
   "cell_type": "code",
   "execution_count": 5,
   "id": "24d03c00-df0a-4f29-ae4f-4c9e9f030d24",
   "metadata": {},
   "outputs": [],
   "source": [
    "# emulate tools of a travel website\n",
    "def get_flight_status(flight_number: Annotated[str, \"Flight number\"]) -> str:\n",
    "    dummy_data = {\"AA123\": \"On time\", \"DL456\": \"Delayed\", \"UA789\": \"Cancelled\"}\n",
    "    return f\"The current status of flight {flight_number} id {dummy_data.get(flight_number)}.\"\n",
    "\n",
    "def get_hotel_info(location: Annotated[str, \"Location\"]) -> str:\n",
    "    dummy_data = {\n",
    "        \"New York\": \"Top hotel in New York: The Plaza - 5 Stars\",\n",
    "        \"Los Angeles\": \"Top hotel in Los Angeles: Beverly Hills Hotel - 5 Stars\",\n",
    "        \"Chicago\": \"Top hotel in Chicago: The Langham - 5 Stars\"\n",
    "    }\n",
    "    return dummy_data.get(location, f\"No hotels found in {location}.\")\n",
    "\n",
    "\n",
    "def get_travel_advice(location: Annotated[str, \"Location\"]) -> str:\n",
    "    dummy_data = {\n",
    "        \"New York\": \"Travel advice for New York: Visit Central Park\",\n",
    "        \"Los Angeles\": \"Travel advice for Los Angeles: Check out Hollywood Boulevard\",\n",
    "        \"Chicago\": \"Travel advice for Chicago: Stroll the nature boardwalk around the stunning South Pond in Lincoln Park Zoo\"\n",
    "    }\n",
    "    return dummy_data.get(location, f\"No travel advice available for {location}.\")"
   ]
  },
  {
   "cell_type": "code",
   "execution_count": 6,
   "id": "b9744ad3-fe3b-4699-8cb9-3124362c5f4f",
   "metadata": {},
   "outputs": [
    {
     "data": {
      "text/plain": [
       "'The current status of flight AA123 id On time.'"
      ]
     },
     "execution_count": 6,
     "metadata": {},
     "output_type": "execute_result"
    }
   ],
   "source": [
    "get_flight_status(\"AA123\")"
   ]
  },
  {
   "cell_type": "code",
   "execution_count": 7,
   "id": "3740eca3-c427-4486-a1ee-e0152d87516f",
   "metadata": {},
   "outputs": [
    {
     "data": {
      "text/plain": [
       "'Top hotel in New York: The Plaza - 5 Stars'"
      ]
     },
     "execution_count": 7,
     "metadata": {},
     "output_type": "execute_result"
    }
   ],
   "source": [
    "get_hotel_info(\"New York\")"
   ]
  },
  {
   "cell_type": "code",
   "execution_count": 8,
   "id": "04fa8471-ff18-4722-92cd-909221960a78",
   "metadata": {},
   "outputs": [
    {
     "data": {
      "text/plain": [
       "'Travel advice for Chicago: Stroll the nature boardwalk around the stunning South Pond in Lincoln Park Zoo'"
      ]
     },
     "execution_count": 8,
     "metadata": {},
     "output_type": "execute_result"
    }
   ],
   "source": [
    "get_travel_advice(\"Chicago\")"
   ]
  },
  {
   "cell_type": "markdown",
   "id": "0d731c14-fb94-4eec-84e8-ba461a46696a",
   "metadata": {},
   "source": [
    "#### __Define the assistant agent that suggests tool calls__"
   ]
  },
  {
   "cell_type": "code",
   "execution_count": 9,
   "id": "d3125a9d-27bf-4a37-9f1f-7d5c68ffc55e",
   "metadata": {},
   "outputs": [
    {
     "data": {
      "text/plain": [
       "<autogen.agentchat.conversable_agent.ConversableAgent at 0x11d6b2c00>"
      ]
     },
     "execution_count": 9,
     "metadata": {},
     "output_type": "execute_result"
    }
   ],
   "source": [
    "assistant = ConversableAgent(\n",
    "    name = \"TravelAssistant\",\n",
    "    system_message = \"You're a helpful AI travel assistant. Return 'TERMINATE' when the task is done.\",\n",
    "    llm_config = llm_config\n",
    ")\n",
    "assistant"
   ]
  },
  {
   "cell_type": "markdown",
   "id": "0e573be2-30a2-470c-8da4-397133f28ba6",
   "metadata": {},
   "source": [
    "#### __Define the user proxy agent__"
   ]
  },
  {
   "cell_type": "code",
   "execution_count": 10,
   "id": "794ec826-1ae7-4c19-b884-f7a6ae86a28a",
   "metadata": {},
   "outputs": [
    {
     "data": {
      "text/plain": [
       "<autogen.agentchat.conversable_agent.ConversableAgent at 0x11d6dccb0>"
      ]
     },
     "execution_count": 10,
     "metadata": {},
     "output_type": "execute_result"
    }
   ],
   "source": [
    "user_proxy = ConversableAgent(\n",
    "    name = \"User\",\n",
    "    is_termination_msg = lambda msg: msg.get(\"content\") is not None\n",
    "    and \"TERMINATE\" in msg[\"content\"],\n",
    "    human_input_mode = \"NEVER\"\n",
    ")\n",
    "user_proxy"
   ]
  },
  {
   "cell_type": "markdown",
   "id": "7e838002-3cf7-4534-af6b-19c15356eeb8",
   "metadata": {},
   "source": [
    "#### __Register the tool signatures with the assistant agent__"
   ]
  },
  {
   "cell_type": "code",
   "execution_count": 11,
   "id": "b7b857b6-4eae-4665-82e8-3794263ff1ad",
   "metadata": {},
   "outputs": [
    {
     "data": {
      "text/plain": [
       "<function __main__.get_travel_advice(location: Annotated[str, 'Location']) -> str>"
      ]
     },
     "execution_count": 11,
     "metadata": {},
     "output_type": "execute_result"
    }
   ],
   "source": [
    "assistant.register_for_llm(\n",
    "    name=\"get_flight_status\", \n",
    "    description=\"Get the current status of a flight based on the flight number.\"\n",
    ")(get_flight_status)\n",
    "\n",
    "assistant.register_for_llm(\n",
    "    name=\"get_hotel_info\", \n",
    "    description=\"Get information about hotels in a specific location.\"\n",
    ")(get_hotel_info)\n",
    "\n",
    "assistant.register_for_llm(\n",
    "    name=\"get_travel_advice\", \n",
    "    description=\"Get travel advice for a specific location.\"\n",
    ")(get_travel_advice)"
   ]
  },
  {
   "cell_type": "markdown",
   "id": "127a65e1-9644-4d2a-bef1-46879218cd01",
   "metadata": {},
   "source": [
    "#### __Registering the tool functions with the user proxy agent__"
   ]
  },
  {
   "cell_type": "code",
   "execution_count": 12,
   "id": "65e07d6b-7a98-4b1c-97c8-15d738e89eb8",
   "metadata": {},
   "outputs": [
    {
     "data": {
      "text/plain": [
       "<function __main__.get_travel_advice(location: Annotated[str, 'Location']) -> str>"
      ]
     },
     "execution_count": 12,
     "metadata": {},
     "output_type": "execute_result"
    }
   ],
   "source": [
    "user_proxy.register_for_execution(name=\"get_flight_status\")(\n",
    "    get_flight_status\n",
    ")\n",
    "\n",
    "user_proxy.register_for_execution(name=\"get_hotel_info\")(\n",
    "    get_hotel_info\n",
    ")\n",
    "\n",
    "user_proxy.register_for_execution(name=\"get_travel_advice\")(\n",
    "    get_travel_advice\n",
    ")"
   ]
  },
  {
   "cell_type": "markdown",
   "id": "cc6c875d-88fd-4661-9040-51b8382abd53",
   "metadata": {},
   "source": [
    "#### __Initiate the chat__"
   ]
  },
  {
   "cell_type": "code",
   "execution_count": 13,
   "id": "03d15b6a-beb6-46ed-83b2-81518ed8acc6",
   "metadata": {},
   "outputs": [
    {
     "name": "stdout",
     "output_type": "stream",
     "text": [
      "\u001b[33mUser\u001b[0m (to TravelAssistant):\n",
      "\n",
      "What is the current status of flight AA123?\n",
      "\n",
      "--------------------------------------------------------------------------------\n",
      "\u001b[31m\n",
      ">>>>>>>> USING AUTO REPLY...\u001b[0m\n",
      "\u001b[33mTravelAssistant\u001b[0m (to User):\n",
      "\n",
      "\u001b[32m***** Suggested tool call (call_XFTbFMZdHNy578BZ5ghwqemp): get_flight_status *****\u001b[0m\n",
      "Arguments: \n",
      "{\"flight_number\":\"AA123\"}\n",
      "\u001b[32m**********************************************************************************\u001b[0m\n",
      "\n",
      "--------------------------------------------------------------------------------\n",
      "\u001b[35m\n",
      ">>>>>>>> EXECUTING FUNCTION get_flight_status...\u001b[0m\n",
      "\u001b[33mUser\u001b[0m (to TravelAssistant):\n",
      "\n",
      "\u001b[33mUser\u001b[0m (to TravelAssistant):\n",
      "\n",
      "\u001b[32m***** Response from calling tool (call_XFTbFMZdHNy578BZ5ghwqemp) *****\u001b[0m\n",
      "The current status of flight AA123 id On time.\n",
      "\u001b[32m**********************************************************************\u001b[0m\n",
      "\n",
      "--------------------------------------------------------------------------------\n",
      "\u001b[31m\n",
      ">>>>>>>> USING AUTO REPLY...\u001b[0m\n",
      "\u001b[33mTravelAssistant\u001b[0m (to User):\n",
      "\n",
      "The current status of flight AA123 is \"On time.\" \n",
      "\n",
      "TERMINATE\n",
      "\n",
      "--------------------------------------------------------------------------------\n"
     ]
    },
    {
     "data": {
      "text/plain": [
       "ChatResult(chat_id=None, chat_history=[{'content': 'What is the current status of flight AA123?', 'role': 'assistant', 'name': 'User'}, {'tool_calls': [{'id': 'call_XFTbFMZdHNy578BZ5ghwqemp', 'function': {'arguments': '{\"flight_number\":\"AA123\"}', 'name': 'get_flight_status'}, 'type': 'function'}], 'content': None, 'role': 'assistant'}, {'content': 'The current status of flight AA123 id On time.', 'tool_responses': [{'tool_call_id': 'call_XFTbFMZdHNy578BZ5ghwqemp', 'role': 'tool', 'content': 'The current status of flight AA123 id On time.'}], 'role': 'tool', 'name': 'User'}, {'content': 'The current status of flight AA123 is \"On time.\" \\n\\nTERMINATE', 'role': 'user', 'name': 'TravelAssistant'}], summary='The current status of flight AA123 is \"On time.\" \\n\\n', cost={'usage_including_cached_inference': {'total_cost': 7.005e-05, 'gpt-4o-mini-2024-07-18': {'cost': 7.005e-05, 'prompt_tokens': 327, 'completion_tokens': 35, 'total_tokens': 362}}, 'usage_excluding_cached_inference': {'total_cost': 0}}, human_input=[])"
      ]
     },
     "execution_count": 13,
     "metadata": {},
     "output_type": "execute_result"
    }
   ],
   "source": [
    "user_proxy.initiate_chat(\n",
    "    assistant,\n",
    "    message = \"What is the current status of flight AA123?\"\n",
    ")"
   ]
  },
  {
   "cell_type": "markdown",
   "id": "4e8e82b9-d955-408f-84ea-1410c873a274",
   "metadata": {},
   "source": [
    "__A return message to this question without tooling looks like:__\n",
    "\n",
    "User (to TravelAssistant):\n",
    "\n",
    "What is the current status of flight AA123?\n",
    "\n",
    "--------------------------------------------------------------------------------\n",
    "\n",
    "> USING AUTO REPLY...\n",
    "TravelAssistant (to User):\n",
    "\n",
    "I'm sorry, but I don't have real-time flight status information. I recommend checking the airline's official website or a flight tracking service for the most up-to-date information on flight AA123. TERMINATE\n",
    "\n",
    "--------------------------------------------------------------------------------\n",
    "ChatResult(chat_id=None, chat_history=[{'content': 'What is the current status of flight AA123?', 'role': 'assistant', 'name': 'User'}, {'content': \"I'm sorry, but I don't have real-time flight status information. I recommend checking the airline's official website or a flight tracking service for the most up-to-date information on flight AA123. TERMINATE\", 'role': 'user', 'name': 'TravelAssistant'}], summary=\"I'm sorry, but I don't have real-time flight status information. I recommend checking the airline's official website or a flight tracking service for the most up-to-date information on flight AA123. \", cost={'usage_including_cached_inference': {'total_cost': 3.0299999999999998e-05, 'gpt-4o-mini-2024-07-18': {'cost': 3.0299999999999998e-05, 'prompt_tokens': 42, 'completion_tokens': 40, 'total_tokens': 82}}, 'usage_excluding_cached_inference': {'total_cost': 3.0299999999999998e-05, 'gpt-4o-mini-2024-07-18': {'cost': 3.0299999999999998e-05, 'prompt_tokens': 42, 'completion_tokens': 40, 'total_tokens': 82}}}, human_input=[])"
   ]
  },
  {
   "cell_type": "code",
   "execution_count": 16,
   "id": "bd429616-d76b-4805-8f96-cfeba63bae2c",
   "metadata": {},
   "outputs": [
    {
     "name": "stdout",
     "output_type": "stream",
     "text": [
      "\u001b[33mUser\u001b[0m (to TravelAssistant):\n",
      "\n",
      "I need help with my travel plans. Can you help me, I travel to Chicago? I need hotel information. And please check the status of my flight. The flight number is UA789\n",
      "\n",
      "--------------------------------------------------------------------------------\n",
      "\u001b[31m\n",
      ">>>>>>>> USING AUTO REPLY...\u001b[0m\n",
      "\u001b[33mTravelAssistant\u001b[0m (to User):\n",
      "\n",
      "\u001b[32m***** Suggested tool call (call_ERf8KI90s82q2sRXalIGi8SV): get_hotel_info *****\u001b[0m\n",
      "Arguments: \n",
      "{\"location\": \"Chicago\"}\n",
      "\u001b[32m*******************************************************************************\u001b[0m\n",
      "\u001b[32m***** Suggested tool call (call_Jmzs84kAYTARbInaovFzKd9x): get_flight_status *****\u001b[0m\n",
      "Arguments: \n",
      "{\"flight_number\": \"UA789\"}\n",
      "\u001b[32m**********************************************************************************\u001b[0m\n",
      "\n",
      "--------------------------------------------------------------------------------\n",
      "\u001b[35m\n",
      ">>>>>>>> EXECUTING FUNCTION get_hotel_info...\u001b[0m\n",
      "\u001b[35m\n",
      ">>>>>>>> EXECUTING FUNCTION get_flight_status...\u001b[0m\n",
      "\u001b[33mUser\u001b[0m (to TravelAssistant):\n",
      "\n",
      "\u001b[33mUser\u001b[0m (to TravelAssistant):\n",
      "\n",
      "\u001b[32m***** Response from calling tool (call_ERf8KI90s82q2sRXalIGi8SV) *****\u001b[0m\n",
      "Top hotel in Chicago: The Langham - 5 Stars\n",
      "\u001b[32m**********************************************************************\u001b[0m\n",
      "\n",
      "--------------------------------------------------------------------------------\n",
      "\u001b[33mUser\u001b[0m (to TravelAssistant):\n",
      "\n",
      "\u001b[32m***** Response from calling tool (call_Jmzs84kAYTARbInaovFzKd9x) *****\u001b[0m\n",
      "The current status of flight UA789 id Cancelled.\n",
      "\u001b[32m**********************************************************************\u001b[0m\n",
      "\n",
      "--------------------------------------------------------------------------------\n",
      "\u001b[31m\n",
      ">>>>>>>> USING AUTO REPLY...\u001b[0m\n",
      "\u001b[33mTravelAssistant\u001b[0m (to User):\n",
      "\n",
      "Here’s the information you requested for your travel to Chicago:\n",
      "\n",
      "- **Hotel Information**: A top hotel in Chicago is **The Langham**, which is rated 5 stars.\n",
      "- **Flight Status**: Your flight UA789 is currently **Cancelled**.\n",
      "\n",
      "If you need further assistance, feel free to ask! \n",
      "\n",
      "TERMINATE\n",
      "\n",
      "--------------------------------------------------------------------------------\n"
     ]
    },
    {
     "data": {
      "text/plain": [
       "ChatResult(chat_id=None, chat_history=[{'content': 'I need help with my travel plans. Can you help me, I travel to Chicago? I need hotel information. And please check the status of my flight. The flight number is UA789', 'role': 'assistant', 'name': 'User'}, {'tool_calls': [{'id': 'call_ERf8KI90s82q2sRXalIGi8SV', 'function': {'arguments': '{\"location\": \"Chicago\"}', 'name': 'get_hotel_info'}, 'type': 'function'}, {'id': 'call_Jmzs84kAYTARbInaovFzKd9x', 'function': {'arguments': '{\"flight_number\": \"UA789\"}', 'name': 'get_flight_status'}, 'type': 'function'}], 'content': None, 'role': 'assistant'}, {'content': 'Top hotel in Chicago: The Langham - 5 Stars\\n\\nThe current status of flight UA789 id Cancelled.', 'tool_responses': [{'tool_call_id': 'call_ERf8KI90s82q2sRXalIGi8SV', 'role': 'tool', 'content': 'Top hotel in Chicago: The Langham - 5 Stars'}, {'tool_call_id': 'call_Jmzs84kAYTARbInaovFzKd9x', 'role': 'tool', 'content': 'The current status of flight UA789 id Cancelled.'}], 'role': 'tool', 'name': 'User'}, {'content': 'Here’s the information you requested for your travel to Chicago:\\n\\n- **Hotel Information**: A top hotel in Chicago is **The Langham**, which is rated 5 stars.\\n- **Flight Status**: Your flight UA789 is currently **Cancelled**.\\n\\nIf you need further assistance, feel free to ask! \\n\\nTERMINATE', 'role': 'user', 'name': 'TravelAssistant'}], summary='Here’s the information you requested for your travel to Chicago:\\n\\n- **Hotel Information**: A top hotel in Chicago is **The Langham**, which is rated 5 stars.\\n- **Flight Status**: Your flight UA789 is currently **Cancelled**.\\n\\nIf you need further assistance, feel free to ask! \\n\\n', cost={'usage_including_cached_inference': {'total_cost': 0.0005838, 'gpt-4o-mini-2024-07-18': {'cost': 0.0005838, 'prompt_tokens': 2308, 'completion_tokens': 396, 'total_tokens': 2704}}, 'usage_excluding_cached_inference': {'total_cost': 0.00051375, 'gpt-4o-mini-2024-07-18': {'cost': 0.00051375, 'prompt_tokens': 1981, 'completion_tokens': 361, 'total_tokens': 2342}}}, human_input=[])"
      ]
     },
     "execution_count": 16,
     "metadata": {},
     "output_type": "execute_result"
    }
   ],
   "source": [
    "user_proxy.initiate_chat(\n",
    "    assistant,\n",
    "    message = \"I need help with my travel plans. Can you help me, I travel to Chicago? I need hotel information. And please check the status of my flight. The flight number is UA789\"\n",
    ")"
   ]
  },
  {
   "cell_type": "code",
   "execution_count": null,
   "id": "abfaf28c-52af-4899-afa7-ea91d9175782",
   "metadata": {},
   "outputs": [],
   "source": []
  }
 ],
 "metadata": {
  "kernelspec": {
   "display_name": "Python 3 (ipykernel)",
   "language": "python",
   "name": "python3"
  },
  "language_info": {
   "codemirror_mode": {
    "name": "ipython",
    "version": 3
   },
   "file_extension": ".py",
   "mimetype": "text/x-python",
   "name": "python",
   "nbconvert_exporter": "python",
   "pygments_lexer": "ipython3",
   "version": "3.12.7"
  }
 },
 "nbformat": 4,
 "nbformat_minor": 5
}
