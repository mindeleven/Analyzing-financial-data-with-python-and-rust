{
 "cells": [
  {
   "cell_type": "markdown",
   "id": "91175d97-00f7-47f5-8afb-03eedc4a3a90",
   "metadata": {},
   "source": [
    "## AutoGen Conversation Patterns: Sequential Chat"
   ]
  },
  {
   "cell_type": "markdown",
   "id": "1b20610c-c88f-4b28-8c86-4f303a205334",
   "metadata": {},
   "source": [
    "- Sequential chats involve a series of two-agent chat conversations.\n",
    "- These chats are linked by a \"carryover\" (passing the payload through).\n",
    "- Context and message are provided for every one of these two-agent chats.\n",
    "- The result of a two-agent chat is the \"carryover\" that's passed to the following two-agent chat and all the subsequent two-agent chats.\n",
    "- __Carryover:__ The summary of one chat is passed into the context of the next one; this way the context is never lost.\n",
    "\n",
    "***Ideal for complex tasks the can be broken down in interdependent subtasks.***"
   ]
  },
  {
   "cell_type": "markdown",
   "id": "a61cc811-66a3-4246-bb9a-4454532df324",
   "metadata": {},
   "source": [
    "<img src=\"../assets/images/sequential-chat.jpg\" width=\"80%\" />"
   ]
  },
  {
   "cell_type": "code",
   "execution_count": 2,
   "id": "598c96d5-1084-468e-bcc4-37da8d2c7c45",
   "metadata": {},
   "outputs": [],
   "source": [
    "from autogen import ConversableAgent, AssistantAgent, UserProxyAgent\n",
    "from typing import Annotated\n",
    "import pandas as pd\n",
    "import pprint"
   ]
  },
  {
   "cell_type": "code",
   "execution_count": 3,
   "id": "3b98c89d-42ab-4e9c-9bf0-8af8f4aa20dd",
   "metadata": {},
   "outputs": [
    {
     "name": "stdout",
     "output_type": "stream",
     "text": [
      "Don't be a fool and send your api key to GitHub!\n"
     ]
    }
   ],
   "source": [
    "api_key = pd.read_csv(\"~/tmp/chat_gpt/agentic-design-1.txt\", sep=\" \", header=None)[0][0]\n",
    "print(\"Don't be a fool and send your api key to GitHub!\")"
   ]
  },
  {
   "cell_type": "code",
   "execution_count": 4,
   "id": "e43ac543-9a72-491c-84de-f87510540536",
   "metadata": {},
   "outputs": [
    {
     "name": "stdout",
     "output_type": "stream",
     "text": [
      "Don't be a fool and send your api key to GitHub!\n"
     ]
    }
   ],
   "source": [
    "llm_config = {\n",
    "    \"model\": \"gpt-4o-mini\",\n",
    "    \"temperature\": 0.9,\n",
    "    \"api_key\": api_key\n",
    "    }\n",
    "print(\"Don't be a fool and send your api key to GitHub!\")"
   ]
  },
  {
   "cell_type": "code",
   "execution_count": 12,
   "id": "8498e27c-689c-419a-811e-ead4b798e0b1",
   "metadata": {},
   "outputs": [],
   "source": [
    "# the Initial Agent always returns a given text\n",
    "initial_agent = ConversableAgent(\n",
    "    name=\"Initial_Agent\",\n",
    "    system_message=\"You return me the text I give you.\",\n",
    "    llm_config=llm_config,\n",
    "    human_input_mode=\"NEVER\",\n",
    ")"
   ]
  },
  {
   "cell_type": "code",
   "execution_count": 13,
   "id": "80d06562-b926-4d27-831e-7b40e1b24b98",
   "metadata": {},
   "outputs": [],
   "source": [
    "# the Uppercase Agent converts the text to uppercase\n",
    "uppercase_agent = ConversableAgent(\n",
    "    name=\"Uppercase_Agent\",\n",
    "    system_message=\"You convert the text I give you to uppercase.\",\n",
    "    llm_config=llm_config,\n",
    "    human_input_mode=\"NEVER\",\n",
    ")"
   ]
  },
  {
   "cell_type": "code",
   "execution_count": 14,
   "id": "df57ce11-2270-4dd8-a7c5-70d474000a18",
   "metadata": {},
   "outputs": [],
   "source": [
    "# the Word Count Agent counts the number of words in the text\n",
    "word_count_agent = ConversableAgent(\n",
    "    name=\"WordCount_Agent\",\n",
    "    system_message=\"You count the number of words in the text I give you.\",\n",
    "    llm_config=llm_config,\n",
    "    human_input_mode=\"NEVER\",\n",
    ")"
   ]
  },
  {
   "cell_type": "code",
   "execution_count": 15,
   "id": "f47ee8af-508e-411e-8598-8829286cda2d",
   "metadata": {},
   "outputs": [],
   "source": [
    "# the Reverse Text Agent reverses the text\n",
    "reverse_text_agent = ConversableAgent(\n",
    "    name=\"ReverseText_Agent\",\n",
    "    system_message=\"You reverse the text I give you.\",\n",
    "    llm_config=llm_config,\n",
    "    human_input_mode=\"NEVER\",\n",
    ")"
   ]
  },
  {
   "cell_type": "code",
   "execution_count": 16,
   "id": "5c6ffc6f-97da-4cd5-bcb5-30d4261afa7c",
   "metadata": {},
   "outputs": [],
   "source": [
    "# the Summarize Agent summarizes the text\n",
    "summarize_agent = ConversableAgent(\n",
    "    name=\"Summarize_Agent\",\n",
    "    system_message=\"You summarize the text I give you.\",\n",
    "    llm_config=llm_config,\n",
    "    human_input_mode=\"NEVER\",\n",
    ")"
   ]
  },
  {
   "cell_type": "code",
   "execution_count": 10,
   "id": "9e97f084-b569-4ccf-981b-957408e9411d",
   "metadata": {},
   "outputs": [
    {
     "name": "stdout",
     "output_type": "stream",
     "text": [
      "\u001b[34m\n",
      "********************************************************************************\u001b[0m\n",
      "\u001b[34mStarting a new chat....\u001b[0m\n",
      "\u001b[34m\n",
      "********************************************************************************\u001b[0m\n",
      "\u001b[33mInitial_Agent\u001b[0m (to Uppercase_Agent):\n",
      "\n",
      "This is a sample text document.\n",
      "\n",
      "--------------------------------------------------------------------------------\n",
      "\u001b[33mUppercase_Agent\u001b[0m (to Initial_Agent):\n",
      "\n",
      "THIS IS A SAMPLE TEXT DOCUMENT.\n",
      "\n",
      "--------------------------------------------------------------------------------\n",
      "\u001b[33mInitial_Agent\u001b[0m (to Uppercase_Agent):\n",
      "\n",
      "This is a sample text document.\n",
      "\n",
      "--------------------------------------------------------------------------------\n",
      "\u001b[33mUppercase_Agent\u001b[0m (to Initial_Agent):\n",
      "\n",
      "THIS IS A SAMPLE TEXT DOCUMENT.\n",
      "\n",
      "--------------------------------------------------------------------------------\n",
      "\u001b[34m\n",
      "********************************************************************************\u001b[0m\n",
      "\u001b[34mStarting a new chat....\u001b[0m\n",
      "\u001b[34m\n",
      "********************************************************************************\u001b[0m\n",
      "\u001b[33mInitial_Agent\u001b[0m (to WordCount_Agent):\n",
      "\n",
      "These are my numbers\n",
      "Context: \n",
      "THIS IS A SAMPLE TEXT DOCUMENT.\n",
      "\n",
      "--------------------------------------------------------------------------------\n",
      "\u001b[33mWordCount_Agent\u001b[0m (to Initial_Agent):\n",
      "\n",
      "The provided text contains 10 words.\n",
      "\n",
      "--------------------------------------------------------------------------------\n",
      "\u001b[33mInitial_Agent\u001b[0m (to WordCount_Agent):\n",
      "\n",
      "The provided text contains 10 words.\n",
      "\n",
      "--------------------------------------------------------------------------------\n",
      "\u001b[33mWordCount_Agent\u001b[0m (to Initial_Agent):\n",
      "\n",
      "The provided text contains 8 words.\n",
      "\n",
      "--------------------------------------------------------------------------------\n",
      "\u001b[34m\n",
      "********************************************************************************\u001b[0m\n",
      "\u001b[34mStarting a new chat....\u001b[0m\n",
      "\u001b[34m\n",
      "********************************************************************************\u001b[0m\n",
      "\u001b[33mInitial_Agent\u001b[0m (to ReverseText_Agent):\n",
      "\n",
      "These are my numbers\n",
      "Context: \n",
      "THIS IS A SAMPLE TEXT DOCUMENT.\n",
      "The provided text contains 8 words.\n",
      "\n",
      "--------------------------------------------------------------------------------\n",
      "\u001b[33mReverseText_Agent\u001b[0m (to Initial_Agent):\n",
      "\n",
      ".sdwor 8 niatnoc txet dedivorp ehT .TNEMUCOD TXET ELPMAS A SI SIHT  \n",
      "srebmun ym era eseht\n",
      "\n",
      "--------------------------------------------------------------------------------\n",
      "\u001b[33mInitial_Agent\u001b[0m (to ReverseText_Agent):\n",
      "\n",
      ".sdwor 8 niatnoc txet dedivorp ehT .TNEMUCOD TXET ELPMAS A SI SIHT  \n",
      "srebmun ym era eseht\n",
      "\n",
      "--------------------------------------------------------------------------------\n",
      "\u001b[33mReverseText_Agent\u001b[0m (to Initial_Agent):\n",
      "\n",
      ".these are my numbers  \n",
      ".THE provided TEXT contains 8 words.  \n",
      ".DOCUMENT TEXT SAMPLE A IS THIS\n",
      "\n",
      "--------------------------------------------------------------------------------\n",
      "\u001b[34m\n",
      "********************************************************************************\u001b[0m\n",
      "\u001b[34mStarting a new chat....\u001b[0m\n",
      "\u001b[34m\n",
      "********************************************************************************\u001b[0m\n",
      "\u001b[33mInitial_Agent\u001b[0m (to Summarize_Agent):\n",
      "\n",
      "These are my numbers\n",
      "Context: \n",
      "THIS IS A SAMPLE TEXT DOCUMENT.\n",
      "The provided text contains 8 words.\n",
      ".these are my numbers  \n",
      ".THE provided TEXT contains 8 words.  \n",
      ".DOCUMENT TEXT SAMPLE A IS THIS\n",
      "\n",
      "--------------------------------------------------------------------------------\n",
      "\u001b[33mSummarize_Agent\u001b[0m (to Initial_Agent):\n",
      "\n",
      "The document mentions the phrase \"These are my numbers\" and states that it contains 8 words. It also includes variations of that sentence in different cases.\n",
      "\n",
      "--------------------------------------------------------------------------------\n",
      "\u001b[33mInitial_Agent\u001b[0m (to Summarize_Agent):\n",
      "\n",
      "The document features the phrase \"These are my numbers\" and indicates that it contains 8 words, along with variations of the sentence in different cases.\n",
      "\n",
      "--------------------------------------------------------------------------------\n",
      "\u001b[33mSummarize_Agent\u001b[0m (to Initial_Agent):\n",
      "\n",
      "The document highlights the phrase \"These are my numbers,\" noting that it consists of 8 words, while also presenting variations of this phrase in different capitalizations.\n",
      "\n",
      "--------------------------------------------------------------------------------\n"
     ]
    }
   ],
   "source": [
    "# start a sequence of two-agent chats\n",
    "# each element in the list is a dictionary that specifies the arguments for the initiate_chat method\n",
    "# each chat has a maximum of two turns => \"max_turns\": 2,\n",
    "chat_results = initial_agent.initiate_chats(\n",
    "    [\n",
    "        {\n",
    "            \"recipient\": uppercase_agent,\n",
    "            \"message\": \"This is a sample text document.\",\n",
    "            \"max_turns\": 2,\n",
    "            \"summary_method\": \"last_msg\",\n",
    "        },\n",
    "        {\n",
    "            \"recipient\": word_count_agent,\n",
    "            \"message\": \"These are my numbers\",\n",
    "            \"max_turns\": 2,\n",
    "            \"summary_method\": \"last_msg\",\n",
    "        },\n",
    "        {\n",
    "            \"recipient\": reverse_text_agent,\n",
    "            \"message\": \"These are my numbers\",\n",
    "            \"max_turns\": 2,\n",
    "            \"summary_method\": \"last_msg\",\n",
    "        },\n",
    "        {\n",
    "            \"recipient\": summarize_agent,\n",
    "            \"message\": \"These are my numbers\",\n",
    "            \"max_turns\": 2,\n",
    "            \"summary_method\": \"last_msg\",\n",
    "        },\n",
    "    ]\n",
    ")"
   ]
  },
  {
   "cell_type": "code",
   "execution_count": 11,
   "id": "4c5abad4-622f-4be6-8310-4622cce18af4",
   "metadata": {},
   "outputs": [
    {
     "name": "stdout",
     "output_type": "stream",
     "text": [
      "First Chat Summary:  THIS IS A SAMPLE TEXT DOCUMENT.\n",
      "Second Chat Summary:  The provided text contains 8 words.\n",
      "Third Chat Summary:  .these are my numbers  \n",
      ".THE provided TEXT contains 8 words.  \n",
      ".DOCUMENT TEXT SAMPLE A IS THIS\n",
      "Fourth Chat Summary:  The document highlights the phrase \"These are my numbers,\" noting that it consists of 8 words, while also presenting variations of this phrase in different capitalizations.\n"
     ]
    }
   ],
   "source": [
    "# getting the summary for each chat (\"summary_method\": \"last_msg\")\n",
    "print(\"First Chat Summary: \", chat_results[0].summary)\n",
    "print(\"Second Chat Summary: \", chat_results[1].summary)\n",
    "print(\"Third Chat Summary: \", chat_results[2].summary)\n",
    "print(\"Fourth Chat Summary: \", chat_results[3].summary)"
   ]
  },
  {
   "cell_type": "code",
   "execution_count": null,
   "id": "f03c19a8-c911-4644-8329-e1eff2f24ed9",
   "metadata": {},
   "outputs": [],
   "source": []
  }
 ],
 "metadata": {
  "kernelspec": {
   "display_name": "Python 3 (ipykernel)",
   "language": "python",
   "name": "python3"
  },
  "language_info": {
   "codemirror_mode": {
    "name": "ipython",
    "version": 3
   },
   "file_extension": ".py",
   "mimetype": "text/x-python",
   "name": "python",
   "nbconvert_exporter": "python",
   "pygments_lexer": "ipython3",
   "version": "3.12.7"
  }
 },
 "nbformat": 4,
 "nbformat_minor": 5
}
