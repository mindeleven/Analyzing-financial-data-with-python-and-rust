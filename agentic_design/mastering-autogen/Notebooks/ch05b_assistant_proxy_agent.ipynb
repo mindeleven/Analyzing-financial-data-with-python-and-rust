{
 "cells": [
  {
   "cell_type": "markdown",
   "id": "c0feaed1-edc7-4a06-900e-6bfd53bcf15a",
   "metadata": {},
   "source": [
    "## AssistantAgent and UserProxyAgent Chat"
   ]
  },
  {
   "cell_type": "markdown",
   "id": "e739cf76-5740-4846-a4d4-0162956a2536",
   "metadata": {},
   "source": [
    "*[Coding along with the Udemy online course [Mastering AutoGen: Building Multi-Agent Systems](https://www.udemy.com/course/autogen-agent-systems/?couponCode=MTST7102224A2) by Paulo Dichone]*"
   ]
  },
  {
   "cell_type": "markdown",
   "id": "6056ff1b-c992-4686-9b4e-c3b5b614e4c9",
   "metadata": {},
   "source": [
    "AutoGen 2.0 for Python documentation @ https://microsoft.github.io/autogen/0.2/docs/Getting-Started"
   ]
  },
  {
   "cell_type": "code",
   "execution_count": 2,
   "id": "dfb09bea-d7ec-47d3-9c90-ed702f2b45cf",
   "metadata": {},
   "outputs": [],
   "source": [
    "from autogen import AssistantAgent, UserProxyAgent\n",
    "import pandas as pd"
   ]
  },
  {
   "cell_type": "code",
   "execution_count": 3,
   "id": "c91b8c94-d681-4e4b-9e19-1d0de485ed95",
   "metadata": {},
   "outputs": [
    {
     "name": "stdout",
     "output_type": "stream",
     "text": [
      "Don't be a fool and send your api key to GitHub!\n"
     ]
    }
   ],
   "source": [
    "api_key = pd.read_csv(\"~/tmp/chat_gpt/agentic-design-1.txt\", sep=\" \", header=None)[0][0]\n",
    "print(\"Don't be a fool and send your api key to GitHub!\")"
   ]
  },
  {
   "cell_type": "code",
   "execution_count": 4,
   "id": "d3dd9f71-37d2-4b9e-beb4-7f395f6caa39",
   "metadata": {},
   "outputs": [
    {
     "name": "stdout",
     "output_type": "stream",
     "text": [
      "Don't be a fool and send your api key to GitHub!\n"
     ]
    }
   ],
   "source": [
    "llm_config = {\n",
    "    \"model\": \"gpt-4o-mini\",\n",
    "    \"api_key\": api_key\n",
    "    }\n",
    "print(\"Don't be a fool and send your api key to GitHub!\")"
   ]
  },
  {
   "cell_type": "code",
   "execution_count": 5,
   "id": "26b4e697-5ae3-45c9-aa41-c435d94bbf94",
   "metadata": {},
   "outputs": [
    {
     "data": {
      "text/plain": [
       "<autogen.agentchat.assistant_agent.AssistantAgent at 0x127060d70>"
      ]
     },
     "execution_count": 5,
     "metadata": {},
     "output_type": "execute_result"
    }
   ],
   "source": [
    "# https://microsoft.github.io/autogen/0.2/docs/reference/agentchat/assistant_agent#assistantagent\n",
    "# https://microsoft.github.io/autogen-for-net/articles/Create-an-agent.html\n",
    "assistant = AssistantAgent(\n",
    "    name = \"assistant\",\n",
    "    llm_config = llm_config,\n",
    "    code_execution_config = False,\n",
    "    human_input_mode = \"NEVER\"\n",
    ")\n",
    "assistant"
   ]
  },
  {
   "cell_type": "code",
   "execution_count": 6,
   "id": "432ab832-1093-4a3f-8136-6b53eb73cdc0",
   "metadata": {},
   "outputs": [
    {
     "data": {
      "text/plain": [
       "<autogen.agentchat.user_proxy_agent.UserProxyAgent at 0x127062c00>"
      ]
     },
     "execution_count": 6,
     "metadata": {},
     "output_type": "execute_result"
    }
   ],
   "source": [
    "# https://microsoft.github.io/autogen/0.2/docs/reference/agentchat/user_proxy_agent\n",
    "# https://microsoft.github.io/autogen-for-net/articles/Create-a-user-proxy-agent.html\n",
    "user_proxy = UserProxyAgent(\n",
    "    name = \"user_proxy\",\n",
    "    llm_config = llm_config,\n",
    "    code_execution_config = {\n",
    "        \"workd_dir\": \"code_execution\",\n",
    "        \"use_docker\": False\n",
    "    },\n",
    "    human_input_mode = \"NEVER\"\n",
    ")\n",
    "user_proxy"
   ]
  },
  {
   "cell_type": "code",
   "execution_count": 7,
   "id": "e8670eff-3555-44cb-af71-69758fdf6252",
   "metadata": {},
   "outputs": [
    {
     "name": "stdout",
     "output_type": "stream",
     "text": [
      "\u001b[33muser_proxy\u001b[0m (to assistant):\n",
      "\n",
      "What is the capital of Egypt?\n",
      "\n",
      "--------------------------------------------------------------------------------\n",
      "\u001b[33massistant\u001b[0m (to user_proxy):\n",
      "\n",
      "The capital of Egypt is Cairo. \n",
      "\n",
      "TERMINATE\n",
      "\n",
      "--------------------------------------------------------------------------------\n",
      "\u001b[33muser_proxy\u001b[0m (to assistant):\n",
      "\n",
      "Cairo is the capital of Egypt.\n",
      "\n",
      "--------------------------------------------------------------------------------\n",
      "\u001b[33massistant\u001b[0m (to user_proxy):\n",
      "\n",
      "Yes, that's correct! Cairo is indeed the capital of Egypt. \n",
      "\n",
      "TERMINATE\n",
      "\n",
      "--------------------------------------------------------------------------------\n",
      "\u001b[33muser_proxy\u001b[0m (to assistant):\n",
      "\n",
      "Cairo is the capital of Egypt. If you have any more questions or need further information, feel free to ask!\n",
      "\n",
      "--------------------------------------------------------------------------------\n",
      "\u001b[33massistant\u001b[0m (to user_proxy):\n",
      "\n",
      "Thank you for your response! However, I don't have any further questions or tasks related to this topic. If there's anything else you'd like to know or if you have another question, feel free to ask!\n",
      "\n",
      "TERMINATE\n",
      "\n",
      "--------------------------------------------------------------------------------\n",
      "\u001b[33muser_proxy\u001b[0m (to assistant):\n",
      "\n",
      "Cairo is the capital of Egypt. If you need more information or have other questions, feel free to ask!\n",
      "\n",
      "--------------------------------------------------------------------------------\n",
      "\u001b[33massistant\u001b[0m (to user_proxy):\n",
      "\n",
      "Thank you for your input! However, I have no further questions or tasks at this moment. If you require any additional information or assistance on any topic, please let me know!\n",
      "\n",
      "TERMINATE\n",
      "\n",
      "--------------------------------------------------------------------------------\n",
      "\u001b[33muser_proxy\u001b[0m (to assistant):\n",
      "\n",
      "Cairo is the capital of Egypt. If there's anything else you'd like to know or discuss, feel free to ask!\n",
      "\n",
      "--------------------------------------------------------------------------------\n",
      "\u001b[33massistant\u001b[0m (to user_proxy):\n",
      "\n",
      "Thank you! I understand that Cairo is the capital of Egypt. If you need any assistance or have questions on other topics, just let me know!\n",
      "\n",
      "TERMINATE\n",
      "\n",
      "--------------------------------------------------------------------------------\n"
     ]
    },
    {
     "data": {
      "text/plain": [
       "ChatResult(chat_id=None, chat_history=[{'content': 'What is the capital of Egypt?', 'role': 'assistant', 'name': 'user_proxy'}, {'content': 'The capital of Egypt is Cairo. \\n\\nTERMINATE', 'role': 'user', 'name': 'assistant'}, {'content': 'Cairo is the capital of Egypt.', 'role': 'assistant', 'name': 'user_proxy'}, {'content': \"Yes, that's correct! Cairo is indeed the capital of Egypt. \\n\\nTERMINATE\", 'role': 'user', 'name': 'assistant'}, {'content': 'Cairo is the capital of Egypt. If you have any more questions or need further information, feel free to ask!', 'role': 'assistant', 'name': 'user_proxy'}, {'content': \"Thank you for your response! However, I don't have any further questions or tasks related to this topic. If there's anything else you'd like to know or if you have another question, feel free to ask!\\n\\nTERMINATE\", 'role': 'user', 'name': 'assistant'}, {'content': 'Cairo is the capital of Egypt. If you need more information or have other questions, feel free to ask!', 'role': 'assistant', 'name': 'user_proxy'}, {'content': 'Thank you for your input! However, I have no further questions or tasks at this moment. If you require any additional information or assistance on any topic, please let me know!\\n\\nTERMINATE', 'role': 'user', 'name': 'assistant'}, {'content': \"Cairo is the capital of Egypt. If there's anything else you'd like to know or discuss, feel free to ask!\", 'role': 'assistant', 'name': 'user_proxy'}, {'content': 'Thank you! I understand that Cairo is the capital of Egypt. If you need any assistance or have questions on other topics, just let me know!\\n\\nTERMINATE', 'role': 'user', 'name': 'assistant'}], summary='Thank you! I understand that Cairo is the capital of Egypt. If you need any assistance or have questions on other topics, just let me know!\\n\\n', cost={'usage_including_cached_inference': {'total_cost': 0.0006399, 'gpt-4o-mini-2024-07-18': {'cost': 0.0006399, 'prompt_tokens': 3374, 'completion_tokens': 223, 'total_tokens': 3597}}, 'usage_excluding_cached_inference': {'total_cost': 0.0006399, 'gpt-4o-mini-2024-07-18': {'cost': 0.0006399, 'prompt_tokens': 3374, 'completion_tokens': 223, 'total_tokens': 3597}}}, human_input=[])"
      ]
     },
     "execution_count": 7,
     "metadata": {},
     "output_type": "execute_result"
    }
   ],
   "source": [
    "# https://microsoft.github.io/autogen/0.2/docs/reference/agentchat/chat#initiate_chats\n",
    "# user_proxy initiates chat with assistant as recipient\n",
    "user_proxy.initiate_chat(\n",
    "    assistant, # recipient\n",
    "    message = \"What is the capital of Egypt?\",\n",
    "    max_turns = 5\n",
    ")"
   ]
  },
  {
   "cell_type": "markdown",
   "id": "e960b149-45e5-445f-8a4e-715d04179847",
   "metadata": {},
   "source": [
    "## Multi-agent Conversation Framework"
   ]
  },
  {
   "cell_type": "markdown",
   "id": "b45c0ec2-87a5-4acf-9467-30c8cb2e96c4",
   "metadata": {},
   "source": [
    "\"AutoGen offers a unified multi-agent conversation framework as a high-level abstraction of using foundation models. It features capable, customizable and conversable agents which integrate LLMs, tools, and humans via automated agent chat. By automating chat among multiple capable agents, one can easily make them collectively perform tasks autonomously or with human feedback, including tasks that require using tools via code.\" ([AutoGen/0.2/docs/Use-Cases](https://microsoft.github.io/autogen/0.2/docs/Use-Cases/agent_chat/))"
   ]
  },
  {
   "cell_type": "markdown",
   "id": "e81547e3-a7fb-4f35-857b-db9c0cafcdc9",
   "metadata": {},
   "source": [
    "## Built-in agents in AutoGen"
   ]
  },
  {
   "cell_type": "markdown",
   "id": "60c09997-5d49-43c0-a36e-f4f6e90137a4",
   "metadata": {},
   "source": [
    "<img src=\"../assets/images/autogen_agents-b80434bcb15d46da0c6cbeed28115f38.png\" align=\"left\" width=\"70%\" />"
   ]
  },
  {
   "cell_type": "markdown",
   "id": "9d15f266-0879-4667-8d9a-30b0b3509d13",
   "metadata": {},
   "source": [
    "<i>Image source: https://microsoft.github.io/autogen/0.2/assets/images/autogen_agents-b80434bcb15d46da0c6cbeed28115f38.png</i>"
   ]
  },
  {
   "cell_type": "markdown",
   "id": "b3d55a83-b107-4d44-806c-6b9e5cf427e5",
   "metadata": {},
   "source": [
    "## Diverse Applications Implemented with AutoGen"
   ]
  },
  {
   "cell_type": "markdown",
   "id": "524cccca-590f-4f2b-838b-7dacb5d85ab1",
   "metadata": {},
   "source": [
    "<img src=\"../assets/images/app-c414cd164ef912e5e8b40f61042143ad.png\" align=\"left\" width=\"70%\" />"
   ]
  },
  {
   "cell_type": "markdown",
   "id": "5ee4edaa-7ea5-4df5-be72-afbcc880c6dc",
   "metadata": {},
   "source": [
    "<i>Image source: https://microsoft.github.io/autogen/0.2/assets/images/autogen_agents-b80434bcb15d46da0c6cbeed28115f38.png</i>"
   ]
  },
  {
   "cell_type": "code",
   "execution_count": null,
   "id": "c8047236-27b7-48ec-8624-6fbe72463786",
   "metadata": {},
   "outputs": [],
   "source": []
  }
 ],
 "metadata": {
  "kernelspec": {
   "display_name": "Python 3 (ipykernel)",
   "language": "python",
   "name": "python3"
  },
  "language_info": {
   "codemirror_mode": {
    "name": "ipython",
    "version": 3
   },
   "file_extension": ".py",
   "mimetype": "text/x-python",
   "name": "python",
   "nbconvert_exporter": "python",
   "pygments_lexer": "ipython3",
   "version": "3.12.7"
  }
 },
 "nbformat": 4,
 "nbformat_minor": 5
}
