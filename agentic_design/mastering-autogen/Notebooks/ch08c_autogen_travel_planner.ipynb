{
 "cells": [
  {
   "cell_type": "markdown",
   "id": "c2513561-285b-43b2-8c3d-61605aea56e3",
   "metadata": {},
   "source": [
    "## AutoGen Tooling: Travel Planner Example"
   ]
  },
  {
   "cell_type": "markdown",
   "id": "6b2bccaa-e30e-4165-9535-4ba7c153de03",
   "metadata": {},
   "source": [
    "*[Coding along with the Udemy online course [Mastering AutoGen: Building Multi-Agent Systems](https://www.udemy.com/course/autogen-agent-systems/?couponCode=MTST7102224A2) by Paulo Dichone]*"
   ]
  },
  {
   "cell_type": "markdown",
   "id": "50c27ffd-1c1b-4cf0-a5e4-75a60d805ac1",
   "metadata": {},
   "source": [
    "AutoGen 2.0 for Python documentation @ https://microsoft.github.io/autogen/0.2/docs/Getting-Started"
   ]
  },
  {
   "cell_type": "code",
   "execution_count": 9,
   "id": "a1dc3946-62ea-4717-8966-782f1845c900",
   "metadata": {},
   "outputs": [],
   "source": [
    "# https://microsoft.github.io/autogen/0.2/docs/reference/agentchat/conversable_agent/\n",
    "from autogen import ConversableAgent, UserProxyAgent, AssistantAgent\n",
    "import pandas as pd"
   ]
  },
  {
   "cell_type": "code",
   "execution_count": 2,
   "id": "4ecad090-e450-4b91-ad05-dfad335902b8",
   "metadata": {},
   "outputs": [],
   "source": [
    "from typing import Annotated"
   ]
  },
  {
   "cell_type": "markdown",
   "id": "0243c258-7dfd-487e-a522-24618f760ed2",
   "metadata": {},
   "source": [
    "Importing `autogen` returned the following error:<br/>\n",
    "`flaml.automl is not available. Please install flaml[automl] to enable AutoML functionalities.`\n",
    "\n",
    "The temporary solution to solve this was to create a constraints.txt file with the following content:\n",
    "\n",
    "`flaml==2.2.0`\n",
    "\n",
    "Then running: `pip install -c constraints.txt autogen`\n",
    "\n",
    "Following the suggestion at https://github.com/microsoft/autogen/issues/3548.\n",
    "\n",
    "*FLAML @ https://microsoft.github.io/FLAML/ is \"A Fast Library for Automated Machine Learning & Tuning.\"*"
   ]
  },
  {
   "cell_type": "code",
   "execution_count": 3,
   "id": "422ad3ca-a536-4353-984b-4098c4d0987d",
   "metadata": {},
   "outputs": [
    {
     "name": "stdout",
     "output_type": "stream",
     "text": [
      "Don't be a fool and send your api key to GitHub!\n"
     ]
    }
   ],
   "source": [
    "api_key = pd.read_csv(\"~/tmp/chat_gpt/agentic-design-1.txt\", sep=\" \", header=None)[0][0]\n",
    "print(\"Don't be a fool and send your api key to GitHub!\")"
   ]
  },
  {
   "cell_type": "code",
   "execution_count": 4,
   "id": "7a062f27-821c-456a-874f-9ac08ce00a55",
   "metadata": {},
   "outputs": [
    {
     "name": "stdout",
     "output_type": "stream",
     "text": [
      "Don't be a fool and send your api key to GitHub!\n"
     ]
    }
   ],
   "source": [
    "llm_config = {\n",
    "    \"model\": \"gpt-4o-mini\",\n",
    "    \"temperature\": 0.0,\n",
    "    \"api_key\": api_key\n",
    "    }\n",
    "print(\"Don't be a fool and send your api key to GitHub!\")"
   ]
  },
  {
   "cell_type": "markdown",
   "id": "5939116a-4c73-4df7-ac51-31c17f616739",
   "metadata": {},
   "source": [
    "#### __Define travel planner functions__"
   ]
  },
  {
   "cell_type": "code",
   "execution_count": 7,
   "id": "24d03c00-df0a-4f29-ae4f-4c9e9f030d24",
   "metadata": {},
   "outputs": [],
   "source": [
    "def calculate_travel_time(\n",
    "    distance: Annotated[int, \"Distance in kilometers\"],\n",
    "    speed: Annotated[int, \"Speed in km/h\"],\n",
    ") -> str:\n",
    "    travel_time = distance / speed\n",
    "    return f\"At a speed of {speed} km/h, it will take approximately {travel_time:.2f} hours to travel {distance} kilometers.\"\n",
    "\n",
    "\n",
    "def convert_currency(\n",
    "    amount: Annotated[float, \"Amount in USD\"],\n",
    "    rate: Annotated[float, \"Exchange rate to EUR\"],\n",
    ") -> str:\n",
    "    converted_amount = amount * rate\n",
    "    return f\"${amount} USD is approximately €{converted_amount:.2f} EUR.\"\n",
    "\n",
    "\n",
    "def suggest_activity(location: Annotated[str, \"Location\"]) -> str:\n",
    "    activities = {\n",
    "        \"Paris\": \"Visit the Eiffel Tower and the Louvre Museum.\",\n",
    "        \"New York\": \"See Times Square and Central Park.\",\n",
    "        \"Tokyo\": \"Explore the Shibuya Crossing and the Senso-ji Temple.\",\n",
    "    }\n",
    "    return activities.get(location, f\"No specific activities found for {location}.\")"
   ]
  },
  {
   "cell_type": "markdown",
   "id": "0d731c14-fb94-4eec-84e8-ba461a46696a",
   "metadata": {},
   "source": [
    "#### __Define the assistant agent that suggests tool calls__"
   ]
  },
  {
   "cell_type": "code",
   "execution_count": 10,
   "id": "d3125a9d-27bf-4a37-9f1f-7d5c68ffc55e",
   "metadata": {},
   "outputs": [
    {
     "data": {
      "text/plain": [
       "<autogen.agentchat.assistant_agent.AssistantAgent at 0x12a3b4950>"
      ]
     },
     "execution_count": 10,
     "metadata": {},
     "output_type": "execute_result"
    }
   ],
   "source": [
    "assistant = AssistantAgent(\n",
    "    name=\"TravelPlannerAssistant\",\n",
    "    system_message=\"You are a helpful AI travel planner. Return 'TERMINATE' when the task is done.\",\n",
    "    llm_config=llm_config,\n",
    ")\n",
    "assistant"
   ]
  },
  {
   "cell_type": "markdown",
   "id": "0e573be2-30a2-470c-8da4-397133f28ba6",
   "metadata": {},
   "source": [
    "#### __Define the user proxy agent__"
   ]
  },
  {
   "cell_type": "code",
   "execution_count": 13,
   "id": "794ec826-1ae7-4c19-b884-f7a6ae86a28a",
   "metadata": {},
   "outputs": [
    {
     "data": {
      "text/plain": [
       "<autogen.agentchat.user_proxy_agent.UserProxyAgent at 0x12a4617c0>"
      ]
     },
     "execution_count": 13,
     "metadata": {},
     "output_type": "execute_result"
    }
   ],
   "source": [
    "user_proxy = UserProxyAgent(\n",
    "    name=\"User\",\n",
    "    is_termination_msg=lambda msg: msg.get(\"content\") is not None\n",
    "    and \"TERMINATE\" in msg[\"content\"],\n",
    "    code_execution_config = {\n",
    "        \"use_docker\": False\n",
    "    },\n",
    "    human_input_mode=\"TERMINATE\",\n",
    ")\n",
    "user_proxy"
   ]
  },
  {
   "cell_type": "markdown",
   "id": "7e838002-3cf7-4534-af6b-19c15356eeb8",
   "metadata": {},
   "source": [
    "#### __Register the tool signatures with the assistant agent__"
   ]
  },
  {
   "cell_type": "code",
   "execution_count": 14,
   "id": "b7b857b6-4eae-4665-82e8-3794263ff1ad",
   "metadata": {},
   "outputs": [
    {
     "data": {
      "text/plain": [
       "<function __main__.suggest_activity(location: Annotated[str, 'Location']) -> str>"
      ]
     },
     "execution_count": 14,
     "metadata": {},
     "output_type": "execute_result"
    }
   ],
   "source": [
    "assistant.register_for_llm(\n",
    "    name=\"calculate_travel_time\",\n",
    "    description=\"Calculate travel time based on distance and speed\",\n",
    ")(calculate_travel_time)\n",
    "\n",
    "assistant.register_for_llm(\n",
    "    name=\"convert_currency\", description=\"Convert USD to EUR based on exchange rate\"\n",
    ")(convert_currency)\n",
    "\n",
    "assistant.register_for_llm(\n",
    "    name=\"suggest_activity\", description=\"Suggest activities for a specific location\"\n",
    ")(suggest_activity)"
   ]
  },
  {
   "cell_type": "markdown",
   "id": "127a65e1-9644-4d2a-bef1-46879218cd01",
   "metadata": {},
   "source": [
    "#### __Registering the tool functions with the user proxy agent__"
   ]
  },
  {
   "cell_type": "code",
   "execution_count": 15,
   "id": "65e07d6b-7a98-4b1c-97c8-15d738e89eb8",
   "metadata": {},
   "outputs": [
    {
     "data": {
      "text/plain": [
       "<function __main__.suggest_activity(location: Annotated[str, 'Location']) -> str>"
      ]
     },
     "execution_count": 15,
     "metadata": {},
     "output_type": "execute_result"
    }
   ],
   "source": [
    "user_proxy.register_for_execution(name=\"calculate_travel_time\")(calculate_travel_time)\n",
    "\n",
    "user_proxy.register_for_execution(name=\"convert_currency\")(convert_currency)\n",
    "\n",
    "user_proxy.register_for_execution(name=\"suggest_activity\")(suggest_activity)"
   ]
  },
  {
   "cell_type": "markdown",
   "id": "cc6c875d-88fd-4661-9040-51b8382abd53",
   "metadata": {},
   "source": [
    "#### __Initiate the chat__"
   ]
  },
  {
   "cell_type": "code",
   "execution_count": 17,
   "id": "03d15b6a-beb6-46ed-83b2-81518ed8acc6",
   "metadata": {},
   "outputs": [
    {
     "name": "stdout",
     "output_type": "stream",
     "text": [
      "\u001b[33mUser\u001b[0m (to TravelPlannerAssistant):\n",
      "\n",
      "I am planning a trip to Paris. What should I do there?\n",
      "\n",
      "--------------------------------------------------------------------------------\n",
      "\u001b[33mTravelPlannerAssistant\u001b[0m (to User):\n",
      "\n",
      "\u001b[32m***** Suggested tool call (call_7qkX5mBwnW056jdS4Pzuvzga): suggest_activity *****\u001b[0m\n",
      "Arguments: \n",
      "{\"location\":\"Paris\"}\n",
      "\u001b[32m*********************************************************************************\u001b[0m\n",
      "\n",
      "--------------------------------------------------------------------------------\n",
      "\u001b[31m\n",
      ">>>>>>>> USING AUTO REPLY...\u001b[0m\n",
      "\u001b[35m\n",
      ">>>>>>>> EXECUTING FUNCTION suggest_activity...\u001b[0m\n",
      "\u001b[33mUser\u001b[0m (to TravelPlannerAssistant):\n",
      "\n",
      "\u001b[33mUser\u001b[0m (to TravelPlannerAssistant):\n",
      "\n",
      "\u001b[32m***** Response from calling tool (call_7qkX5mBwnW056jdS4Pzuvzga) *****\u001b[0m\n",
      "Visit the Eiffel Tower and the Louvre Museum.\n",
      "\u001b[32m**********************************************************************\u001b[0m\n",
      "\n",
      "--------------------------------------------------------------------------------\n",
      "\u001b[33mTravelPlannerAssistant\u001b[0m (to User):\n",
      "\n",
      "In Paris, you should definitely visit the Eiffel Tower and the Louvre Museum. Enjoy your trip! \n",
      "\n",
      "TERMINATE\n",
      "\n",
      "--------------------------------------------------------------------------------\n"
     ]
    },
    {
     "name": "stdin",
     "output_type": "stream",
     "text": [
      "Please give feedback to TravelPlannerAssistant. Press enter or type 'exit' to stop the conversation:  what can you suggest in brazil?\n"
     ]
    },
    {
     "name": "stdout",
     "output_type": "stream",
     "text": [
      "\u001b[33mUser\u001b[0m (to TravelPlannerAssistant):\n",
      "\n",
      "what can you suggest in brazil?\n",
      "\n",
      "--------------------------------------------------------------------------------\n",
      "\u001b[33mTravelPlannerAssistant\u001b[0m (to User):\n",
      "\n",
      "\u001b[32m***** Suggested tool call (call_y1pcz1sBsrktpGgzKQIHbYcE): suggest_activity *****\u001b[0m\n",
      "Arguments: \n",
      "{\"location\":\"Brazil\"}\n",
      "\u001b[32m*********************************************************************************\u001b[0m\n",
      "\n",
      "--------------------------------------------------------------------------------\n",
      "\u001b[31m\n",
      ">>>>>>>> USING AUTO REPLY...\u001b[0m\n",
      "\u001b[35m\n",
      ">>>>>>>> EXECUTING FUNCTION suggest_activity...\u001b[0m\n",
      "\u001b[33mUser\u001b[0m (to TravelPlannerAssistant):\n",
      "\n",
      "\u001b[33mUser\u001b[0m (to TravelPlannerAssistant):\n",
      "\n",
      "\u001b[32m***** Response from calling tool (call_y1pcz1sBsrktpGgzKQIHbYcE) *****\u001b[0m\n",
      "No specific activities found for Brazil.\n",
      "\u001b[32m**********************************************************************\u001b[0m\n",
      "\n",
      "--------------------------------------------------------------------------------\n",
      "\u001b[33mTravelPlannerAssistant\u001b[0m (to User):\n",
      "\n",
      "It seems I couldn't find specific activities for Brazil. However, Brazil is known for its vibrant culture, beautiful beaches, and stunning natural landscapes. Here are some general suggestions:\n",
      "\n",
      "1. **Visit Rio de Janeiro**: Explore the iconic Christ the Redeemer statue, Sugarloaf Mountain, and the beautiful Copacabana and Ipanema beaches.\n",
      "2. **Explore the Amazon Rainforest**: Take a guided tour to experience the incredible biodiversity and unique wildlife.\n",
      "3. **Discover Salvador**: Enjoy the rich Afro-Brazilian culture, music, and cuisine in this historic city.\n",
      "4. **Iguazu Falls**: Visit one of the largest and most spectacular waterfalls in the world, located on the border between Brazil and Argentina.\n",
      "5. **Pantanal**: Experience one of the world's largest tropical wetlands, known for its wildlife and natural beauty.\n",
      "\n",
      "If you have a specific city or region in Brazil in mind, I can provide more tailored suggestions! \n",
      "\n",
      "TERMINATE\n",
      "\n",
      "--------------------------------------------------------------------------------\n"
     ]
    },
    {
     "name": "stdin",
     "output_type": "stream",
     "text": [
      "Please give feedback to TravelPlannerAssistant. Press enter or type 'exit' to stop the conversation:  what about tangier?\n"
     ]
    },
    {
     "name": "stdout",
     "output_type": "stream",
     "text": [
      "\u001b[33mUser\u001b[0m (to TravelPlannerAssistant):\n",
      "\n",
      "what about tangier?\n",
      "\n",
      "--------------------------------------------------------------------------------\n",
      "\u001b[33mTravelPlannerAssistant\u001b[0m (to User):\n",
      "\n",
      "\u001b[32m***** Suggested tool call (call_V47NTf8onPsrZVv9YTKN0hmY): suggest_activity *****\u001b[0m\n",
      "Arguments: \n",
      "{\"location\":\"Tangier\"}\n",
      "\u001b[32m*********************************************************************************\u001b[0m\n",
      "\n",
      "--------------------------------------------------------------------------------\n",
      "\u001b[31m\n",
      ">>>>>>>> USING AUTO REPLY...\u001b[0m\n",
      "\u001b[35m\n",
      ">>>>>>>> EXECUTING FUNCTION suggest_activity...\u001b[0m\n",
      "\u001b[33mUser\u001b[0m (to TravelPlannerAssistant):\n",
      "\n",
      "\u001b[33mUser\u001b[0m (to TravelPlannerAssistant):\n",
      "\n",
      "\u001b[32m***** Response from calling tool (call_V47NTf8onPsrZVv9YTKN0hmY) *****\u001b[0m\n",
      "No specific activities found for Tangier.\n",
      "\u001b[32m**********************************************************************\u001b[0m\n",
      "\n",
      "--------------------------------------------------------------------------------\n",
      "\u001b[33mTravelPlannerAssistant\u001b[0m (to User):\n",
      "\n",
      "It seems I couldn't find specific activities for Tangier. However, here are some popular things to do in Tangier, Morocco:\n",
      "\n",
      "1. **Explore the Medina**: Wander through the narrow streets of the old town, where you can find local shops, cafes, and vibrant markets.\n",
      "2. **Visit the Kasbah**: Discover the historic fortress that offers stunning views of the city and the Mediterranean Sea.\n",
      "3. **Check out the American Legation Museum**: Learn about the history of American-Moroccan relations in this unique museum.\n",
      "4. **Relax at the Beaches**: Enjoy the beautiful beaches along the coast, such as Plage de Tangier.\n",
      "5. **Take a Day Trip to Chefchaouen**: Visit the famous blue city, known for its picturesque streets and stunning mountain backdrop.\n",
      "\n",
      "If you need more specific recommendations or have particular interests, feel free to ask! \n",
      "\n",
      "TERMINATE\n",
      "\n",
      "--------------------------------------------------------------------------------\n"
     ]
    },
    {
     "name": "stdin",
     "output_type": "stream",
     "text": [
      "Please give feedback to TravelPlannerAssistant. Press enter or type 'exit' to stop the conversation:  exit\n"
     ]
    },
    {
     "data": {
      "text/plain": [
       "ChatResult(chat_id=None, chat_history=[{'content': 'I am planning a trip to Paris. What should I do there?', 'role': 'assistant', 'name': 'User'}, {'tool_calls': [{'id': 'call_7qkX5mBwnW056jdS4Pzuvzga', 'function': {'arguments': '{\"location\":\"Paris\"}', 'name': 'suggest_activity'}, 'type': 'function'}], 'content': None, 'role': 'assistant'}, {'content': 'Visit the Eiffel Tower and the Louvre Museum.', 'tool_responses': [{'tool_call_id': 'call_7qkX5mBwnW056jdS4Pzuvzga', 'role': 'tool', 'content': 'Visit the Eiffel Tower and the Louvre Museum.'}], 'role': 'tool', 'name': 'User'}, {'content': 'In Paris, you should definitely visit the Eiffel Tower and the Louvre Museum. Enjoy your trip! \\n\\nTERMINATE', 'role': 'user', 'name': 'TravelPlannerAssistant'}, {'content': 'what can you suggest in brazil?', 'role': 'assistant', 'name': 'User'}, {'tool_calls': [{'id': 'call_y1pcz1sBsrktpGgzKQIHbYcE', 'function': {'arguments': '{\"location\":\"Brazil\"}', 'name': 'suggest_activity'}, 'type': 'function'}], 'content': None, 'role': 'assistant'}, {'content': 'No specific activities found for Brazil.', 'tool_responses': [{'tool_call_id': 'call_y1pcz1sBsrktpGgzKQIHbYcE', 'role': 'tool', 'content': 'No specific activities found for Brazil.'}], 'role': 'tool', 'name': 'User'}, {'content': \"It seems I couldn't find specific activities for Brazil. However, Brazil is known for its vibrant culture, beautiful beaches, and stunning natural landscapes. Here are some general suggestions:\\n\\n1. **Visit Rio de Janeiro**: Explore the iconic Christ the Redeemer statue, Sugarloaf Mountain, and the beautiful Copacabana and Ipanema beaches.\\n2. **Explore the Amazon Rainforest**: Take a guided tour to experience the incredible biodiversity and unique wildlife.\\n3. **Discover Salvador**: Enjoy the rich Afro-Brazilian culture, music, and cuisine in this historic city.\\n4. **Iguazu Falls**: Visit one of the largest and most spectacular waterfalls in the world, located on the border between Brazil and Argentina.\\n5. **Pantanal**: Experience one of the world's largest tropical wetlands, known for its wildlife and natural beauty.\\n\\nIf you have a specific city or region in Brazil in mind, I can provide more tailored suggestions! \\n\\nTERMINATE\", 'role': 'user', 'name': 'TravelPlannerAssistant'}, {'content': 'what about tangier?', 'role': 'assistant', 'name': 'User'}, {'tool_calls': [{'id': 'call_V47NTf8onPsrZVv9YTKN0hmY', 'function': {'arguments': '{\"location\":\"Tangier\"}', 'name': 'suggest_activity'}, 'type': 'function'}], 'content': None, 'role': 'assistant'}, {'content': 'No specific activities found for Tangier.', 'tool_responses': [{'tool_call_id': 'call_V47NTf8onPsrZVv9YTKN0hmY', 'role': 'tool', 'content': 'No specific activities found for Tangier.'}], 'role': 'tool', 'name': 'User'}, {'content': \"It seems I couldn't find specific activities for Tangier. However, here are some popular things to do in Tangier, Morocco:\\n\\n1. **Explore the Medina**: Wander through the narrow streets of the old town, where you can find local shops, cafes, and vibrant markets.\\n2. **Visit the Kasbah**: Discover the historic fortress that offers stunning views of the city and the Mediterranean Sea.\\n3. **Check out the American Legation Museum**: Learn about the history of American-Moroccan relations in this unique museum.\\n4. **Relax at the Beaches**: Enjoy the beautiful beaches along the coast, such as Plage de Tangier.\\n5. **Take a Day Trip to Chefchaouen**: Visit the famous blue city, known for its picturesque streets and stunning mountain backdrop.\\n\\nIf you need more specific recommendations or have particular interests, feel free to ask! \\n\\nTERMINATE\", 'role': 'user', 'name': 'TravelPlannerAssistant'}], summary=\"It seems I couldn't find specific activities for Tangier. However, here are some popular things to do in Tangier, Morocco:\\n\\n1. **Explore the Medina**: Wander through the narrow streets of the old town, where you can find local shops, cafes, and vibrant markets.\\n2. **Visit the Kasbah**: Discover the historic fortress that offers stunning views of the city and the Mediterranean Sea.\\n3. **Check out the American Legation Museum**: Learn about the history of American-Moroccan relations in this unique museum.\\n4. **Relax at the Beaches**: Enjoy the beautiful beaches along the coast, such as Plage de Tangier.\\n5. **Take a Day Trip to Chefchaouen**: Visit the famous blue city, known for its picturesque streets and stunning mountain backdrop.\\n\\nIf you need more specific recommendations or have particular interests, feel free to ask! \\n\\n\", cost={'usage_including_cached_inference': {'total_cost': 0.00104385, 'gpt-4o-mini-2024-07-18': {'cost': 0.00104385, 'prompt_tokens': 4075, 'completion_tokens': 721, 'total_tokens': 4796}}, 'usage_excluding_cached_inference': {'total_cost': 0.00096795, 'gpt-4o-mini-2024-07-18': {'cost': 0.00096795, 'prompt_tokens': 3725, 'completion_tokens': 682, 'total_tokens': 4407}}}, human_input=['what can you suggest in brazil?', 'what about tangier?', 'exit'])"
      ]
     },
     "execution_count": 17,
     "metadata": {},
     "output_type": "execute_result"
    }
   ],
   "source": [
    "user_proxy.initiate_chat(\n",
    "    assistant, message=\"I am planning a trip to Paris. What should I do there?\"\n",
    ")"
   ]
  },
  {
   "cell_type": "code",
   "execution_count": null,
   "id": "abfaf28c-52af-4899-afa7-ea91d9175782",
   "metadata": {},
   "outputs": [],
   "source": []
  }
 ],
 "metadata": {
  "kernelspec": {
   "display_name": "Python 3 (ipykernel)",
   "language": "python",
   "name": "python3"
  },
  "language_info": {
   "codemirror_mode": {
    "name": "ipython",
    "version": 3
   },
   "file_extension": ".py",
   "mimetype": "text/x-python",
   "name": "python",
   "nbconvert_exporter": "python",
   "pygments_lexer": "ipython3",
   "version": "3.12.7"
  }
 },
 "nbformat": 4,
 "nbformat_minor": 5
}
