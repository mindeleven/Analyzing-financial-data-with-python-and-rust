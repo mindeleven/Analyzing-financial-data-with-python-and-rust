{
 "cells": [
  {
   "cell_type": "markdown",
   "id": "c2513561-285b-43b2-8c3d-61605aea56e3",
   "metadata": {},
   "source": [
    "## Our First AutoGen Agent"
   ]
  },
  {
   "cell_type": "code",
   "execution_count": 5,
   "id": "a1dc3946-62ea-4717-8966-782f1845c900",
   "metadata": {},
   "outputs": [],
   "source": [
    "# https://microsoft.github.io/autogen/0.2/docs/reference/agentchat/conversable_agent/\n",
    "from autogen import ConversableAgent\n",
    "import pandas as pd"
   ]
  },
  {
   "cell_type": "markdown",
   "id": "0243c258-7dfd-487e-a522-24618f760ed2",
   "metadata": {},
   "source": [
    "Importing `autogen` returned the following error:<br/>\n",
    "`flaml.automl is not available. Please install flaml[automl] to enable AutoML functionalities.`\n",
    "\n",
    "The temporary solution to solve this was to create a constraints.txt file with the following content:\n",
    "\n",
    "`flaml==2.2.0`\n",
    "\n",
    "Then running: `pip install -c constraints.txt autogen`\n",
    "\n",
    "Following the suggestion at https://github.com/microsoft/autogen/issues/3548.\n",
    "\n",
    "*FLAML @ https://microsoft.github.io/FLAML/ is \"A Fast Library for Automated Machine Learning & Tuning.\"*"
   ]
  },
  {
   "cell_type": "code",
   "execution_count": 6,
   "id": "422ad3ca-a536-4353-984b-4098c4d0987d",
   "metadata": {},
   "outputs": [
    {
     "name": "stdout",
     "output_type": "stream",
     "text": [
      "Don't be a fool and send your api key to GitHub!\n"
     ]
    }
   ],
   "source": [
    "api_key = pd.read_csv(\"~/tmp/chat_gpt/agentic-design-1.txt\", sep=\" \", header=None)[0][0]\n",
    "print(\"Don't be a fool and send your api key to GitHub!\")"
   ]
  },
  {
   "cell_type": "code",
   "execution_count": 7,
   "id": "7a062f27-821c-456a-874f-9ac08ce00a55",
   "metadata": {},
   "outputs": [
    {
     "name": "stdout",
     "output_type": "stream",
     "text": [
      "Don't be a fool and send your api key to GitHub!\n"
     ]
    }
   ],
   "source": [
    "llm_config = {\n",
    "    \"model\": \"gpt-4o-mini\",\n",
    "    \"api_key\": api_key\n",
    "    }\n",
    "print(\"Don't be a fool and send your api key to GitHub!\")"
   ]
  },
  {
   "cell_type": "code",
   "execution_count": 9,
   "id": "d3125a9d-27bf-4a37-9f1f-7d5c68ffc55e",
   "metadata": {},
   "outputs": [
    {
     "data": {
      "text/plain": [
       "<autogen.agentchat.conversable_agent.ConversableAgent at 0x116d09eb0>"
      ]
     },
     "execution_count": 9,
     "metadata": {},
     "output_type": "execute_result"
    }
   ],
   "source": [
    "agent = ConversableAgent(\n",
    "    name = \"chat_bot\",\n",
    "    llm_config = llm_config,\n",
    "    code_execution_config = False,\n",
    "    human_input_mode = \"NEVER\"\n",
    ")\n",
    "agent"
   ]
  },
  {
   "cell_type": "code",
   "execution_count": 11,
   "id": "b7b857b6-4eae-4665-82e8-3794263ff1ad",
   "metadata": {},
   "outputs": [],
   "source": [
    "response = agent.generate_reply(\n",
    "    messages = [{\n",
    "        \"role\": \"user\",\n",
    "        \"content\": \"Tell me a funny joke!\"\n",
    "        \n",
    "    }]\n",
    ")"
   ]
  },
  {
   "cell_type": "code",
   "execution_count": 12,
   "id": "e4a343fd-d747-4dfd-a26a-7380d40ec26d",
   "metadata": {},
   "outputs": [
    {
     "data": {
      "text/plain": [
       "'Sure, here’s one for you:\\n\\nWhy did the scarecrow win an award?\\n\\nBecause he was outstanding in his field!'"
      ]
     },
     "execution_count": 12,
     "metadata": {},
     "output_type": "execute_result"
    }
   ],
   "source": [
    "response"
   ]
  },
  {
   "cell_type": "code",
   "execution_count": null,
   "id": "34047675-8341-4031-a1cc-bb34773e677e",
   "metadata": {},
   "outputs": [],
   "source": []
  }
 ],
 "metadata": {
  "kernelspec": {
   "display_name": "Python 3 (ipykernel)",
   "language": "python",
   "name": "python3"
  },
  "language_info": {
   "codemirror_mode": {
    "name": "ipython",
    "version": 3
   },
   "file_extension": ".py",
   "mimetype": "text/x-python",
   "name": "python",
   "nbconvert_exporter": "python",
   "pygments_lexer": "ipython3",
   "version": "3.12.7"
  }
 },
 "nbformat": 4,
 "nbformat_minor": 5
}
