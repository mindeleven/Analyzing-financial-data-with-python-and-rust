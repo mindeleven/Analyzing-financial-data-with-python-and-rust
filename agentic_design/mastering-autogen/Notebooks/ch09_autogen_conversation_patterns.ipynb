{
 "cells": [
  {
   "cell_type": "markdown",
   "id": "91175d97-00f7-47f5-8afb-03eedc4a3a90",
   "metadata": {},
   "source": [
    "## AutoGen Conversation Patterns"
   ]
  },
  {
   "cell_type": "markdown",
   "id": "3846ac40-f4e1-453b-9c4d-84a5469cc66f",
   "metadata": {},
   "source": [
    "#### __Conversation Patterns:__\n",
    "\n",
    "- __Two-Agent Chat:__ simplest conversation pattern with two agents chatting (uses the `initiat_chat` method).\n",
    "- __Sequential Chat:__ a series of two-agents linked by a carryover meachanism.\n",
    "- __Group Chat:__ involves more than two agents.\n",
    "- __Nested Chat:__ combines a workflow into a single agent for reuse in larger workflows."
   ]
  },
  {
   "cell_type": "markdown",
   "id": "f3f1c427-a1f0-4e84-8260-31e7b2a1f3cf",
   "metadata": {},
   "source": [
    "### Two-Agent Chat"
   ]
  },
  {
   "cell_type": "code",
   "execution_count": null,
   "id": "b78487dd-bff5-446b-9563-564b58cf657e",
   "metadata": {},
   "outputs": [],
   "source": []
  }
 ],
 "metadata": {
  "kernelspec": {
   "display_name": "Python 3 (ipykernel)",
   "language": "python",
   "name": "python3"
  },
  "language_info": {
   "codemirror_mode": {
    "name": "ipython",
    "version": 3
   },
   "file_extension": ".py",
   "mimetype": "text/x-python",
   "name": "python",
   "nbconvert_exporter": "python",
   "pygments_lexer": "ipython3",
   "version": "3.12.7"
  }
 },
 "nbformat": 4,
 "nbformat_minor": 5
}
