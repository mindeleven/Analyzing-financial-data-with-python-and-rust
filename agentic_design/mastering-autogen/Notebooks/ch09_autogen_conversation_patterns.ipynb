{
 "cells": [
  {
   "cell_type": "markdown",
   "id": "91175d97-00f7-47f5-8afb-03eedc4a3a90",
   "metadata": {},
   "source": [
    "## AutoGen Conversation Patterns"
   ]
  },
  {
   "cell_type": "markdown",
   "id": "3846ac40-f4e1-453b-9c4d-84a5469cc66f",
   "metadata": {},
   "source": [
    "#### __Conversation Patterns:__\n",
    "\n",
    "- __Two-Agent Chat:__ simplest conversation pattern with two agents chatting (uses the `initiat_chat` method).\n",
    "- __Sequential Chat:__ a series of two-agents linked by a carryover meachanism.\n",
    "- __Group Chat:__ involves more than two agents.\n",
    "- __Nested Chat:__ combines a workflow into a single agent for reuse in larger workflows."
   ]
  },
  {
   "cell_type": "markdown",
   "id": "f3f1c427-a1f0-4e84-8260-31e7b2a1f3cf",
   "metadata": {},
   "source": [
    "### Two-Agent Chat"
   ]
  },
  {
   "cell_type": "markdown",
   "id": "a61cc811-66a3-4246-bb9a-4454532df324",
   "metadata": {},
   "source": [
    "<img src=\"../assets/images/two-agent-chat.jpg\" width=\"80%\" />"
   ]
  },
  {
   "cell_type": "code",
   "execution_count": 11,
   "id": "598c96d5-1084-468e-bcc4-37da8d2c7c45",
   "metadata": {},
   "outputs": [],
   "source": [
    "from autogen import ConversableAgent, AssistantAgent, UserProxyAgent\n",
    "from typing import Annotated\n",
    "import pandas as pd\n",
    "import pprint"
   ]
  },
  {
   "cell_type": "code",
   "execution_count": 2,
   "id": "3b98c89d-42ab-4e9c-9bf0-8af8f4aa20dd",
   "metadata": {},
   "outputs": [
    {
     "name": "stdout",
     "output_type": "stream",
     "text": [
      "Don't be a fool and send your api key to GitHub!\n"
     ]
    }
   ],
   "source": [
    "api_key = pd.read_csv(\"~/tmp/chat_gpt/agentic-design-1.txt\", sep=\" \", header=None)[0][0]\n",
    "print(\"Don't be a fool and send your api key to GitHub!\")"
   ]
  },
  {
   "cell_type": "code",
   "execution_count": 3,
   "id": "e43ac543-9a72-491c-84de-f87510540536",
   "metadata": {},
   "outputs": [
    {
     "name": "stdout",
     "output_type": "stream",
     "text": [
      "Don't be a fool and send your api key to GitHub!\n"
     ]
    }
   ],
   "source": [
    "llm_config = {\n",
    "    \"model\": \"gpt-4o-mini\",\n",
    "    \"temperature\": 0.9,\n",
    "    \"api_key\": api_key\n",
    "    }\n",
    "print(\"Don't be a fool and send your api key to GitHub!\")"
   ]
  },
  {
   "cell_type": "code",
   "execution_count": 6,
   "id": "162bcb56-ad8f-426c-b2e3-30aeb5948e37",
   "metadata": {},
   "outputs": [],
   "source": [
    "# initializing the agents\n",
    "traveler_agent = ConversableAgent(\n",
    "    name=\"Traveler_Agent\",\n",
    "    system_message=\"You are a traveler planning a vacation.\",\n",
    "    llm_config=llm_config,\n",
    ")\n",
    "\n",
    "guide_agent = ConversableAgent(\n",
    "    name=\"Guide_Agent\",\n",
    "    system_message=\"You are a travel guide with extensive knowledge about popular destinations.\",\n",
    "    llm_config=llm_config,\n",
    ")"
   ]
  },
  {
   "cell_type": "code",
   "execution_count": 5,
   "id": "86d3abac-8bdf-4417-8e6e-f84284b0609c",
   "metadata": {},
   "outputs": [
    {
     "name": "stdout",
     "output_type": "stream",
     "text": [
      "\u001b[33mTraveler_Agent\u001b[0m (to Guide_Agent):\n",
      "\n",
      "What are the must-see attractions in Tokyo?\n",
      "\n",
      "--------------------------------------------------------------------------------\n",
      "\u001b[31m\n",
      ">>>>>>>> USING AUTO REPLY...\u001b[0m\n",
      "\u001b[33mGuide_Agent\u001b[0m (to Traveler_Agent):\n",
      "\n",
      "Tokyo is a vibrant city that offers a unique blend of traditional culture and modern innovation. Here are some must-see attractions in Tokyo:\n",
      "\n",
      "1. **Shibuya Crossing**: One of the busiest pedestrian crossings in the world, this iconic spot is a must-see. Experience the organized chaos and snap a photo with the famous Hachiko statue nearby.\n",
      "\n",
      "2. **Tokyo Tower**: This iconic communications and observation tower offers stunning views of the city. It's particularly beautiful when lit up at night.\n",
      "\n",
      "3. **Senso-ji Temple**: Located in Asakusa, this is Tokyo's oldest temple, dedicated to the goddess Kannon. The approach to the temple, known as Nakamise Street, is lined with shops selling traditional snacks and souvenirs.\n",
      "\n",
      "4. **Meiji Shrine**: Nestled in a forested area near Harajuku, this Shinto shrine is dedicated to Emperor Meiji and Empress Shoken. It’s a peaceful retreat from the city’s hustle and bustle.\n",
      "\n",
      "5. **Tsukiji Outer Market**: While the inner wholesale market has moved to Toyosu, the outer market remains a bustling area filled with fresh seafood, produce, and street food stalls. It’s a great place to sample local delicacies.\n",
      "\n",
      "6. **Akihabara**: Known as the center for otaku culture, this district is famous for electronics shops, anime, manga stores, and themed cafes. It's a must-visit for fans of Japanese pop culture.\n",
      "\n",
      "7. **Harajuku and Takeshita Street**: This area is famous for youth culture and fashion. Takeshita Street is packed with trendy shops, quirky boutiques, and delicious crepe stands.\n",
      "\n",
      "8. **Tokyo Skytree**: The tallest structure in Japan, the Skytree offers breathtaking panoramic views of Tokyo from its observation decks. The neighboring Solamachi shopping complex is great for shopping and dining.\n",
      "\n",
      "9. **Ueno Park and Zoo**: A sprawling public park that houses museums, a zoo, and beautiful cherry blossoms in spring. It’s an excellent place for a leisurely stroll.\n",
      "\n",
      "10. **Odaiba**: This futuristic island in Tokyo Bay features attractions like teamLab Borderless, a digital art museum, shopping at DiverCity, and views of the Rainbow Bridge.\n",
      "\n",
      "11. **Imperial Palace**: While the inner grounds are closed to the public, the gardens surrounding the palace are beautiful and worth a visit. The East Gardens are especially open to the public.\n",
      "\n",
      "12. **Roppongi Hills**: This complex features shopping, dining, and art, including the Mori Art Museum. The observation deck offers impressive views, particularly at sunset.\n",
      "\n",
      "These attractions reflect the dynamic and diverse nature of Tokyo. Whether you're interested in history, culture, food, or technology, there's something for everyone in this amazing city!\n",
      "\n",
      "--------------------------------------------------------------------------------\n",
      "\u001b[31m\n",
      ">>>>>>>> USING AUTO REPLY...\u001b[0m\n",
      "\u001b[33mTraveler_Agent\u001b[0m (to Guide_Agent):\n",
      "\n",
      "If you're planning a vacation to Tokyo, you won't want to miss these must-see attractions! Here’s a quick recap of the highlights:\n",
      "\n",
      "1. **Shibuya Crossing**: Experience the world-famous scramble crossing and visit the Hachiko statue.\n",
      "2. **Tokyo Tower**: Enjoy panoramic views of the city from this iconic structure.\n",
      "3. **Senso-ji Temple**: Explore Tokyo's oldest temple and its lively approach, Nakamise Street.\n",
      "4. **Meiji Shrine**: Visit this serene Shinto shrine surrounded by lush forests.\n",
      "5. **Tsukiji Outer Market**: Sample fresh seafood and local snacks at this bustling food market.\n",
      "6. **Akihabara**: Dive into otaku culture with electronics, anime, and themed cafes.\n",
      "7. **Harajuku and Takeshita Street**: Discover youth fashion and trendy shops in this vibrant area.\n",
      "8. **Tokyo Skytree**: Experience breathtaking views from Japan's tallest structure.\n",
      "9. **Ueno Park and Zoo**: Stroll through this beautiful park that features museums and a zoo.\n",
      "10. **Odaiba**: Explore this futuristic island and its art installations and shopping.\n",
      "11. **Imperial Palace**: Visit the beautiful East Gardens surrounding the palace.\n",
      "12. **Roppongi Hills**: Enjoy shopping, dining, and art with stunning views from the observation deck.\n",
      "\n",
      "These spots offer a mix of culture, history, and modern entertainment. Enjoy your travels!\n",
      "\n",
      "--------------------------------------------------------------------------------\n",
      "\u001b[31m\n",
      ">>>>>>>> USING AUTO REPLY...\u001b[0m\n",
      "\u001b[33mGuide_Agent\u001b[0m (to Traveler_Agent):\n",
      "\n",
      "That’s a great summary of Tokyo’s must-see attractions! Each of these highlights showcases a unique aspect of the city, making it an exciting destination for travelers. \n",
      "\n",
      "When planning your itinerary, it might be helpful to group nearby attractions to save time. For instance, you could visit Senso-ji Temple and then explore the surrounding Asakusa area, or spend a day in Harajuku and Shibuya since they are in close proximity to each other.\n",
      "\n",
      "Also, consider the time of year you’ll be visiting, as festivals, cherry blossom season, and other seasonal events can enhance your experience. \n",
      "\n",
      "If you have any specific interests or need more detailed information about any of the attractions, feel free to ask! Enjoy your adventure in Tokyo!\n",
      "\n",
      "--------------------------------------------------------------------------------\n"
     ]
    }
   ],
   "source": [
    "# initializing the chat\n",
    "chat_result = traveler_agent.initiate_chat(\n",
    "    guide_agent,\n",
    "    message=\"What are the must-see attractions in Tokyo?\",\n",
    "    summary_method=\"reflection_with_llm\",  # reflection_with_llm, reflection, llm -- see above explanations\n",
    "    max_turns=2,\n",
    ")"
   ]
  },
  {
   "cell_type": "code",
   "execution_count": 7,
   "id": "4b368b27-beb0-4f0d-a2ee-b799739811aa",
   "metadata": {},
   "outputs": [
    {
     "name": "stdout",
     "output_type": "stream",
     "text": [
      "ChatResult(chat_id=None, chat_history=[{'content': 'What are the must-see attractions in Tokyo?', 'role': 'assistant', 'name': 'Traveler_Agent'}, {'content': \"Tokyo is a vibrant city that offers a unique blend of traditional culture and modern innovation. Here are some must-see attractions in Tokyo:\\n\\n1. **Shibuya Crossing**: One of the busiest pedestrian crossings in the world, this iconic spot is a must-see. Experience the organized chaos and snap a photo with the famous Hachiko statue nearby.\\n\\n2. **Tokyo Tower**: This iconic communications and observation tower offers stunning views of the city. It's particularly beautiful when lit up at night.\\n\\n3. **Senso-ji Temple**: Located in Asakusa, this is Tokyo's oldest temple, dedicated to the goddess Kannon. The approach to the temple, known as Nakamise Street, is lined with shops selling traditional snacks and souvenirs.\\n\\n4. **Meiji Shrine**: Nestled in a forested area near Harajuku, this Shinto shrine is dedicated to Emperor Meiji and Empress Shoken. It’s a peaceful retreat from the city’s hustle and bustle.\\n\\n5. **Tsukiji Outer Market**: While the inner wholesale market has moved to Toyosu, the outer market remains a bustling area filled with fresh seafood, produce, and street food stalls. It’s a great place to sample local delicacies.\\n\\n6. **Akihabara**: Known as the center for otaku culture, this district is famous for electronics shops, anime, manga stores, and themed cafes. It's a must-visit for fans of Japanese pop culture.\\n\\n7. **Harajuku and Takeshita Street**: This area is famous for youth culture and fashion. Takeshita Street is packed with trendy shops, quirky boutiques, and delicious crepe stands.\\n\\n8. **Tokyo Skytree**: The tallest structure in Japan, the Skytree offers breathtaking panoramic views of Tokyo from its observation decks. The neighboring Solamachi shopping complex is great for shopping and dining.\\n\\n9. **Ueno Park and Zoo**: A sprawling public park that houses museums, a zoo, and beautiful cherry blossoms in spring. It’s an excellent place for a leisurely stroll.\\n\\n10. **Odaiba**: This futuristic island in Tokyo Bay features attractions like teamLab Borderless, a digital art museum, shopping at DiverCity, and views of the Rainbow Bridge.\\n\\n11. **Imperial Palace**: While the inner grounds are closed to the public, the gardens surrounding the palace are beautiful and worth a visit. The East Gardens are especially open to the public.\\n\\n12. **Roppongi Hills**: This complex features shopping, dining, and art, including the Mori Art Museum. The observation deck offers impressive views, particularly at sunset.\\n\\nThese attractions reflect the dynamic and diverse nature of Tokyo. Whether you're interested in history, culture, food, or technology, there's something for everyone in this amazing city!\", 'role': 'user', 'name': 'Guide_Agent'}, {'content': \"If you're planning a vacation to Tokyo, you won't want to miss these must-see attractions! Here’s a quick recap of the highlights:\\n\\n1. **Shibuya Crossing**: Experience the world-famous scramble crossing and visit the Hachiko statue.\\n2. **Tokyo Tower**: Enjoy panoramic views of the city from this iconic structure.\\n3. **Senso-ji Temple**: Explore Tokyo's oldest temple and its lively approach, Nakamise Street.\\n4. **Meiji Shrine**: Visit this serene Shinto shrine surrounded by lush forests.\\n5. **Tsukiji Outer Market**: Sample fresh seafood and local snacks at this bustling food market.\\n6. **Akihabara**: Dive into otaku culture with electronics, anime, and themed cafes.\\n7. **Harajuku and Takeshita Street**: Discover youth fashion and trendy shops in this vibrant area.\\n8. **Tokyo Skytree**: Experience breathtaking views from Japan's tallest structure.\\n9. **Ueno Park and Zoo**: Stroll through this beautiful park that features museums and a zoo.\\n10. **Odaiba**: Explore this futuristic island and its art installations and shopping.\\n11. **Imperial Palace**: Visit the beautiful East Gardens surrounding the palace.\\n12. **Roppongi Hills**: Enjoy shopping, dining, and art with stunning views from the observation deck.\\n\\nThese spots offer a mix of culture, history, and modern entertainment. Enjoy your travels!\", 'role': 'assistant', 'name': 'Traveler_Agent'}, {'content': 'That’s a great summary of Tokyo’s must-see attractions! Each of these highlights showcases a unique aspect of the city, making it an exciting destination for travelers. \\n\\nWhen planning your itinerary, it might be helpful to group nearby attractions to save time. For instance, you could visit Senso-ji Temple and then explore the surrounding Asakusa area, or spend a day in Harajuku and Shibuya since they are in close proximity to each other.\\n\\nAlso, consider the time of year you’ll be visiting, as festivals, cherry blossom season, and other seasonal events can enhance your experience. \\n\\nIf you have any specific interests or need more detailed information about any of the attractions, feel free to ask! Enjoy your adventure in Tokyo!', 'role': 'user', 'name': 'Guide_Agent'}], summary='The conversation highlights must-see attractions in Tokyo, including Shibuya Crossing, Tokyo Tower, Senso-ji Temple, Meiji Shrine, Tsukiji Outer Market, Akihabara, Harajuku, Tokyo Skytree, Ueno Park, Odaiba, the Imperial Palace, and Roppongi Hills. It emphasizes the mix of culture, history, and modern entertainment in the city and suggests grouping nearby attractions for an efficient itinerary while considering seasonal events to enhance the travel experience.', cost={'usage_including_cached_inference': {'total_cost': 0.0021327, 'gpt-4o-mini-2024-07-18': {'cost': 0.0021327, 'prompt_tokens': 5290, 'completion_tokens': 2232, 'total_tokens': 7522}}, 'usage_excluding_cached_inference': {'total_cost': 0.00106635, 'gpt-4o-mini-2024-07-18': {'cost': 0.00106635, 'prompt_tokens': 2645, 'completion_tokens': 1116, 'total_tokens': 3761}}}, human_input=[])\n"
     ]
    }
   ],
   "source": [
    "print(chat_result)"
   ]
  },
  {
   "cell_type": "code",
   "execution_count": 8,
   "id": "ba17f903-a4c9-458f-81d0-25c4a065611a",
   "metadata": {},
   "outputs": [
    {
     "name": "stdout",
     "output_type": "stream",
     "text": [
      " \n",
      " ***Chat Summary***: \n",
      "\n",
      "The conversation highlights must-see attractions in Tokyo, including Shibuya Crossing, Tokyo Tower, Senso-ji Temple, Meiji Shrine, Tsukiji Outer Market, Akihabara, Harajuku, Tokyo Skytree, Ueno Park, Odaiba, the Imperial Palace, and Roppongi Hills. It emphasizes the mix of culture, history, and modern entertainment in the city and suggests grouping nearby attractions for an efficient itinerary while considering seasonal events to enhance the travel experience.\n"
     ]
    }
   ],
   "source": [
    "print(\" \\n ***Chat Summary***: \\n\")\n",
    "# summary is a property of the chat result\n",
    "print(chat_result.summary)"
   ]
  },
  {
   "cell_type": "code",
   "execution_count": 10,
   "id": "0e4f54ba-e970-438c-821b-0c23ec3161ad",
   "metadata": {},
   "outputs": [
    {
     "name": "stdout",
     "output_type": "stream",
     "text": [
      " \n",
      "Default Input Prompt: \n",
      "\n",
      "Summarize the takeaway from the conversation. Do not add any introductory phrases.\n"
     ]
    }
   ],
   "source": [
    "print(\" \\nDefault Input Prompt: \\n\")\n",
    "# The input prompt for the LLM is the following default prompt:\n",
    "print(ConversableAgent.DEFAULT_SUMMARY_PROMPT)"
   ]
  },
  {
   "cell_type": "code",
   "execution_count": 12,
   "id": "1e59d10f-27ae-4b37-b163-5a730130bb1a",
   "metadata": {},
   "outputs": [
    {
     "name": "stdout",
     "output_type": "stream",
     "text": [
      " \n",
      "Chat history: \n",
      "\n",
      "[{'content': 'What are the must-see attractions in Tokyo?',\n",
      "  'name': 'Traveler_Agent',\n",
      "  'role': 'assistant'},\n",
      " {'content': 'Tokyo is a vibrant city that offers a unique blend of '\n",
      "             'traditional culture and modern innovation. Here are some '\n",
      "             'must-see attractions in Tokyo:\\n'\n",
      "             '\\n'\n",
      "             '1. **Shibuya Crossing**: One of the busiest pedestrian crossings '\n",
      "             'in the world, this iconic spot is a must-see. Experience the '\n",
      "             'organized chaos and snap a photo with the famous Hachiko statue '\n",
      "             'nearby.\\n'\n",
      "             '\\n'\n",
      "             '2. **Tokyo Tower**: This iconic communications and observation '\n",
      "             \"tower offers stunning views of the city. It's particularly \"\n",
      "             'beautiful when lit up at night.\\n'\n",
      "             '\\n'\n",
      "             \"3. **Senso-ji Temple**: Located in Asakusa, this is Tokyo's \"\n",
      "             'oldest temple, dedicated to the goddess Kannon. The approach to '\n",
      "             'the temple, known as Nakamise Street, is lined with shops '\n",
      "             'selling traditional snacks and souvenirs.\\n'\n",
      "             '\\n'\n",
      "             '4. **Meiji Shrine**: Nestled in a forested area near Harajuku, '\n",
      "             'this Shinto shrine is dedicated to Emperor Meiji and Empress '\n",
      "             'Shoken. It’s a peaceful retreat from the city’s hustle and '\n",
      "             'bustle.\\n'\n",
      "             '\\n'\n",
      "             '5. **Tsukiji Outer Market**: While the inner wholesale market '\n",
      "             'has moved to Toyosu, the outer market remains a bustling area '\n",
      "             'filled with fresh seafood, produce, and street food stalls. It’s '\n",
      "             'a great place to sample local delicacies.\\n'\n",
      "             '\\n'\n",
      "             '6. **Akihabara**: Known as the center for otaku culture, this '\n",
      "             'district is famous for electronics shops, anime, manga stores, '\n",
      "             \"and themed cafes. It's a must-visit for fans of Japanese pop \"\n",
      "             'culture.\\n'\n",
      "             '\\n'\n",
      "             '7. **Harajuku and Takeshita Street**: This area is famous for '\n",
      "             'youth culture and fashion. Takeshita Street is packed with '\n",
      "             'trendy shops, quirky boutiques, and delicious crepe stands.\\n'\n",
      "             '\\n'\n",
      "             '8. **Tokyo Skytree**: The tallest structure in Japan, the '\n",
      "             'Skytree offers breathtaking panoramic views of Tokyo from its '\n",
      "             'observation decks. The neighboring Solamachi shopping complex is '\n",
      "             'great for shopping and dining.\\n'\n",
      "             '\\n'\n",
      "             '9. **Ueno Park and Zoo**: A sprawling public park that houses '\n",
      "             'museums, a zoo, and beautiful cherry blossoms in spring. It’s an '\n",
      "             'excellent place for a leisurely stroll.\\n'\n",
      "             '\\n'\n",
      "             '10. **Odaiba**: This futuristic island in Tokyo Bay features '\n",
      "             'attractions like teamLab Borderless, a digital art museum, '\n",
      "             'shopping at DiverCity, and views of the Rainbow Bridge.\\n'\n",
      "             '\\n'\n",
      "             '11. **Imperial Palace**: While the inner grounds are closed to '\n",
      "             'the public, the gardens surrounding the palace are beautiful and '\n",
      "             'worth a visit. The East Gardens are especially open to the '\n",
      "             'public.\\n'\n",
      "             '\\n'\n",
      "             '12. **Roppongi Hills**: This complex features shopping, dining, '\n",
      "             'and art, including the Mori Art Museum. The observation deck '\n",
      "             'offers impressive views, particularly at sunset.\\n'\n",
      "             '\\n'\n",
      "             'These attractions reflect the dynamic and diverse nature of '\n",
      "             \"Tokyo. Whether you're interested in history, culture, food, or \"\n",
      "             \"technology, there's something for everyone in this amazing city!\",\n",
      "  'name': 'Guide_Agent',\n",
      "  'role': 'user'},\n",
      " {'content': \"If you're planning a vacation to Tokyo, you won't want to miss \"\n",
      "             'these must-see attractions! Here’s a quick recap of the '\n",
      "             'highlights:\\n'\n",
      "             '\\n'\n",
      "             '1. **Shibuya Crossing**: Experience the world-famous scramble '\n",
      "             'crossing and visit the Hachiko statue.\\n'\n",
      "             '2. **Tokyo Tower**: Enjoy panoramic views of the city from this '\n",
      "             'iconic structure.\\n'\n",
      "             \"3. **Senso-ji Temple**: Explore Tokyo's oldest temple and its \"\n",
      "             'lively approach, Nakamise Street.\\n'\n",
      "             '4. **Meiji Shrine**: Visit this serene Shinto shrine surrounded '\n",
      "             'by lush forests.\\n'\n",
      "             '5. **Tsukiji Outer Market**: Sample fresh seafood and local '\n",
      "             'snacks at this bustling food market.\\n'\n",
      "             '6. **Akihabara**: Dive into otaku culture with electronics, '\n",
      "             'anime, and themed cafes.\\n'\n",
      "             '7. **Harajuku and Takeshita Street**: Discover youth fashion and '\n",
      "             'trendy shops in this vibrant area.\\n'\n",
      "             \"8. **Tokyo Skytree**: Experience breathtaking views from Japan's \"\n",
      "             'tallest structure.\\n'\n",
      "             '9. **Ueno Park and Zoo**: Stroll through this beautiful park '\n",
      "             'that features museums and a zoo.\\n'\n",
      "             '10. **Odaiba**: Explore this futuristic island and its art '\n",
      "             'installations and shopping.\\n'\n",
      "             '11. **Imperial Palace**: Visit the beautiful East Gardens '\n",
      "             'surrounding the palace.\\n'\n",
      "             '12. **Roppongi Hills**: Enjoy shopping, dining, and art with '\n",
      "             'stunning views from the observation deck.\\n'\n",
      "             '\\n'\n",
      "             'These spots offer a mix of culture, history, and modern '\n",
      "             'entertainment. Enjoy your travels!',\n",
      "  'name': 'Traveler_Agent',\n",
      "  'role': 'assistant'},\n",
      " {'content': 'That’s a great summary of Tokyo’s must-see attractions! Each of '\n",
      "             'these highlights showcases a unique aspect of the city, making '\n",
      "             'it an exciting destination for travelers. \\n'\n",
      "             '\\n'\n",
      "             'When planning your itinerary, it might be helpful to group '\n",
      "             'nearby attractions to save time. For instance, you could visit '\n",
      "             'Senso-ji Temple and then explore the surrounding Asakusa area, '\n",
      "             'or spend a day in Harajuku and Shibuya since they are in close '\n",
      "             'proximity to each other.\\n'\n",
      "             '\\n'\n",
      "             'Also, consider the time of year you’ll be visiting, as '\n",
      "             'festivals, cherry blossom season, and other seasonal events can '\n",
      "             'enhance your experience. \\n'\n",
      "             '\\n'\n",
      "             'If you have any specific interests or need more detailed '\n",
      "             'information about any of the attractions, feel free to ask! '\n",
      "             'Enjoy your adventure in Tokyo!',\n",
      "  'name': 'Guide_Agent',\n",
      "  'role': 'user'}]\n"
     ]
    }
   ],
   "source": [
    "# Get the chat history.\n",
    "print(\" \\nChat history: \\n\")\n",
    "pprint.pprint(chat_result.chat_history)"
   ]
  },
  {
   "cell_type": "code",
   "execution_count": 13,
   "id": "ffd0bc41-6d65-483a-a293-06496b667306",
   "metadata": {},
   "outputs": [
    {
     "name": "stdout",
     "output_type": "stream",
     "text": [
      " \n",
      "**Chat Cost**: \n",
      "\n",
      "{'usage_excluding_cached_inference': {'gpt-4o-mini-2024-07-18': {'completion_tokens': 1116,\n",
      "                                                                 'cost': 0.00106635,\n",
      "                                                                 'prompt_tokens': 2645,\n",
      "                                                                 'total_tokens': 3761},\n",
      "                                      'total_cost': 0.00106635},\n",
      " 'usage_including_cached_inference': {'gpt-4o-mini-2024-07-18': {'completion_tokens': 2232,\n",
      "                                                                 'cost': 0.0021327,\n",
      "                                                                 'prompt_tokens': 5290,\n",
      "                                                                 'total_tokens': 7522},\n",
      "                                      'total_cost': 0.0021327}}\n"
     ]
    }
   ],
   "source": [
    "print(\" \\n**Chat Cost**: \\n\")\n",
    "# Get the cost of the chat.\n",
    "pprint.pprint(chat_result.cost)"
   ]
  },
  {
   "cell_type": "code",
   "execution_count": null,
   "id": "8498e27c-689c-419a-811e-ead4b798e0b1",
   "metadata": {},
   "outputs": [],
   "source": []
  }
 ],
 "metadata": {
  "kernelspec": {
   "display_name": "Python 3 (ipykernel)",
   "language": "python",
   "name": "python3"
  },
  "language_info": {
   "codemirror_mode": {
    "name": "ipython",
    "version": 3
   },
   "file_extension": ".py",
   "mimetype": "text/x-python",
   "name": "python",
   "nbconvert_exporter": "python",
   "pygments_lexer": "ipython3",
   "version": "3.12.7"
  }
 },
 "nbformat": 4,
 "nbformat_minor": 5
}
