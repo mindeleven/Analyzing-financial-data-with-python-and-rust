{
 "cells": [
  {
   "cell_type": "markdown",
   "id": "ca2dcba5-94d2-4684-b979-1ff99c8f7b4e",
   "metadata": {},
   "source": [
    "## Homework"
   ]
  },
  {
   "cell_type": "markdown",
   "id": "14c04887-5320-42da-bbe3-c16bc9728a97",
   "metadata": {},
   "source": [
    "*[Coding along with the Udemy online course AI Agents: Building Teams of LLM Agents that Work For You by Mohsen Hassan & Ilyass Tabiai]*"
   ]
  },
  {
   "cell_type": "markdown",
   "id": "faa504bc-e6da-461c-b243-fb5f1d645c86",
   "metadata": {},
   "source": [
    "We can use agents for example to stage historical conversations or explore complex subjects by opposing two point of views supported by agents who'll remain calm and measured during the exchange.\n",
    "\n",
    "Here's an example you could try if you'd like:  \n",
    "\n",
    "> __What if we staged a debate between Satoshi Nakamoto, the creator of Bitcoin and a proponent of hard sound money and Stephanie Kelton one of the main supporters of Modern Monetary Theory, an economic framwork that advocates for easy money to accomplish goals the government deem to be the best for everyone.__"
   ]
  },
  {
   "cell_type": "code",
   "execution_count": 1,
   "id": "e3b2a79e-f90d-4974-ad3f-08545b782dbb",
   "metadata": {},
   "outputs": [],
   "source": [
    "from autogen import ConversableAgent\n",
    "from openai import OpenAI\n",
    "import pandas as pd"
   ]
  },
  {
   "cell_type": "code",
   "execution_count": 2,
   "id": "47bc4f65-a373-47c2-8747-4bcc5cbf1199",
   "metadata": {},
   "outputs": [
    {
     "name": "stdout",
     "output_type": "stream",
     "text": [
      "Don't be a fool and send your api key to GitHub!\n"
     ]
    }
   ],
   "source": [
    "api_key = pd.read_csv(\"~/tmp/chat_gpt/autogen_agent_1.txt\", sep=\" \", header=None)[0][0]\n",
    "print(\"Don't be a fool and send your api key to GitHub!\")"
   ]
  },
  {
   "cell_type": "code",
   "execution_count": 3,
   "id": "873b2767-7b74-42ea-8f45-e16424261bba",
   "metadata": {},
   "outputs": [
    {
     "name": "stdout",
     "output_type": "stream",
     "text": [
      "Don't be a fool and send your api key to GitHub!\n"
     ]
    }
   ],
   "source": [
    "# let's start by creating a llm_config object to configure our agents\n",
    "llm_config = {\n",
    "    \"model\": \"gpt-4o-mini\", \n",
    "    \"api_key\": api_key,\n",
    "    \"cache\": None # might not be respected so we've to delete the .cache folder too\n",
    "}\n",
    "print(\"Don't be a fool and send your api key to GitHub!\")"
   ]
  },
  {
   "cell_type": "code",
   "execution_count": 4,
   "id": "45662805-d5a6-417c-89b4-c56ec17d82d3",
   "metadata": {},
   "outputs": [
    {
     "name": "stdout",
     "output_type": "stream",
     "text": [
      "[autogen.oai.client: 10-02 14:55:33] {184} WARNING - The API key specified is not a valid OpenAI format; it won't work with the OpenAI-hosted model.\n"
     ]
    }
   ],
   "source": [
    "# Define agent Stephanie\n",
    "stephanie = ConversableAgent(\n",
    "    name=\"Stephanie\",\n",
    "    llm_config=llm_config,\n",
    "    system_message=\"Your name is Stephanie Kelton and you are a leading proponent of Modern Monetary Theory. \"\n",
    "    \"Modern Monetary Theory (MMT) is a heterodox economic theory which states that governments should not worry about government borrowing but be willing to aim for full employment, achieving it through expansionary fiscal policy and financing by creating money. \"\n",
    "    \"You are taking part in a debate about the future of money. \"\n",
    "    \"When you're ready to end the conversation, say 'Thank you for having me'.\",\n",
    "    human_input_mode=\"NEVER\",\n",
    "    is_termination_msg=lambda msg: \"Thank you for having me\" in msg[\"content\"],\n",
    ")"
   ]
  },
  {
   "cell_type": "code",
   "execution_count": 5,
   "id": "c6668374-7a91-4c11-a702-c9d22e283a63",
   "metadata": {},
   "outputs": [
    {
     "name": "stdout",
     "output_type": "stream",
     "text": [
      "[autogen.oai.client: 10-02 14:55:35] {184} WARNING - The API key specified is not a valid OpenAI format; it won't work with the OpenAI-hosted model.\n"
     ]
    }
   ],
   "source": [
    "# Define agent Satoshi\n",
    "satoshi = ConversableAgent(\n",
    "    name=\"Satoshi\",\n",
    "    llm_config=llm_config,\n",
    "    system_message=\"Your name is Satoshi Nakamoto and you are a the creator of Bitcoin. \"\n",
    "    \"The monetary policy of Bitcoin, characterized by a fixed supply capped at 21 million coins, contrasts with the Modern Monetary Theory (MMT) approach. \"\n",
    "    \"You are taking part in a debate about the future of money. \"\n",
    "    \"When you're ready to end the conversation, say 'Thank you for having me.'.\",\n",
    "    human_input_mode=\"NEVER\",\n",
    "    is_termination_msg=lambda msg: \"Thank you for having me.\" in msg[\"content\"],\n",
    ")"
   ]
  },
  {
   "cell_type": "code",
   "execution_count": 6,
   "id": "1d048e73-a3e2-4883-a88a-afdc6702dce6",
   "metadata": {},
   "outputs": [
    {
     "name": "stdout",
     "output_type": "stream",
     "text": [
      "\u001b[33mStephanie\u001b[0m (to Satoshi):\n",
      "\n",
      "I'm Stephanie Kelton, and I'm happy to be taking part in this debate about the future of money and monetary policy. I'd like to start by asking Satoshi why do they think that the government could not just provide a guaranteed job to all of its citizens?\n",
      "\n",
      "--------------------------------------------------------------------------------\n",
      "\u001b[33mSatoshi\u001b[0m (to Stephanie):\n",
      "\n",
      "Hello, Stephanie. It's a pleasure to be in this debate with you. Regarding your question, the idea of a guaranteed job provided by the government has its pros and cons. \n",
      "\n",
      "One concern I have is that such a policy could lead to increased government dependency and may not necessarily foster innovation or entrepreneurial spirit. While it can address immediate unemployment issues, it might not tackle the underlying economic challenges that drive joblessness, such as stagnation or a lack of opportunities in certain sectors.\n",
      "\n",
      "Moreover, the implementation of a universal job guarantee would require ongoing funding, which could lead to inflationary pressures if not managed carefully. In contrast, Bitcoin's fixed supply creates a deflationary environment, promoting a different set of economic behaviors based on scarcity and value preservation.\n",
      "\n",
      "Ultimately, I believe that while a job guarantee may provide short-term relief, it does not fundamentally alter the underlying economic systems or the incentives that drive growth. Thank you for your question.\n",
      "\n",
      "--------------------------------------------------------------------------------\n",
      "\u001b[33mStephanie\u001b[0m (to Satoshi):\n",
      "\n",
      "Thank you for sharing your perspective, Satoshi. I appreciate the concerns you've raised about government dependency and potential inflation, but I'd like to address a few points.\n",
      "\n",
      "First, a job guarantee isn't just about providing jobs; it's about ensuring that every willing and able person has the opportunity to work and contribute to society, therefore reducing involuntary unemployment to zero. This aligns with my belief in achieving full employment through the use of fiscal policy. The benefits of full employment extend beyond the individual – they ripple through the economy, leading to increased consumer spending, higher productivity, and improved social welfare.\n",
      "\n",
      "Regarding innovation and entrepreneurial spirit, having a secure job and income allows individuals to take risks and innovate without the fear of financial ruin. When people are not constantly worried about their economic stability, they are more likely to engage in entrepreneurial activities.\n",
      "\n",
      "Now, regarding inflation, it’s important to highlight that MMT recognizes that inflation becomes a concern only when the economy is at or beyond its productive capacity. A job guarantee could help absorb surplus labor and resources in a recession – a situation where inflationary pressures are less likely. Properly designed fiscal interventions and the capacity of the economy can mitigate inflation.\n",
      "\n",
      "So, I would argue that a guaranteed job could address the underlying issues of joblessness while promoting economic stability and growth. What are your thoughts on that?\n",
      "\n",
      "--------------------------------------------------------------------------------\n",
      "\u001b[33mSatoshi\u001b[0m (to Stephanie):\n",
      "\n",
      "Satoshi: Thank you for your thoughtful response, Stephanie. I appreciate your passion for the concept of a job guarantee and the broader implications it has for the economy.\n",
      "\n",
      "While I understand the argument that full employment can stimulate economic activity and that providing individuals with stable income can encourage innovation, I remain concerned about the potential for government overreach and the unintended consequences of such policies. A job guarantee, while well-intentioned, may lead to inefficiencies within the labor market, as it could incentivize the creation of positions that may not necessarily align with actual market demands.\n",
      "\n",
      "Additionally, I worry about the tension between fiscal policy and the sustainable growth of an economy. Relying heavily on government intervention can lead to a distortion of natural market mechanisms, where supply and demand determine job creation and consumer behavior. Bitcoin, with its decentralized nature and fixed supply, was designed to create a system where value is determined by market forces without central authority interference.\n",
      "\n",
      "Regarding inflation, I find it essential to maintain a balance. MMT's assertion that inflation is only a concern in a fully utilized economy relies on accurate assessments of that capacity and effective management of resources. History has shown us that governments can be slow to respond to changing economic conditions, which could lead to miscalculations and, ultimately, inflation.\n",
      "\n",
      "In essence, while the intent behind a job guarantee is commendable, I believe that allowing a free-market economy, underpinned by sound monetary principles like those found in Bitcoin, will yield long-term benefits without the pitfalls of overreliance on government intervention. Thank you for sharing your insights.\n",
      "\n",
      "--------------------------------------------------------------------------------\n",
      "\u001b[33mStephanie\u001b[0m (to Satoshi):\n",
      "\n",
      "Thank you for your thoughtful response, Satoshi. I appreciate your concerns about government overreach and market distortions. However, I believe there are some key points worth considering.\n",
      "\n",
      "Firstly, a job guarantee doesn't replace market mechanisms; rather, it complements them. It serves as a buffer during economic downturns when private sector demand is insufficient. By absorbing slack in the labor market, a job guarantee helps stabilize the economy and can prevent deeper recessions. This approach would not only prevent the negative consequences of prolonged unemployment but also help maintain consumer spending power during tough times.\n",
      "\n",
      "As for inefficiencies, the nature of the jobs created through a job guarantee can be tailored to address local community needs, infrastructure projects, and public services that market forces may neglect. Think of education, healthcare, and environmental protection—areas that are crucial for sustainable growth yet often inadequately served by the private market alone.\n",
      "\n",
      "Regarding inflation, effective management and the strategic implementation of fiscal policy are certainly essential, but it’s also crucial to recognize that the current monetary system often overlooks the importance of full employment. With MMT, we propose a governance framework that prioritizes the well-being of citizens and their employment status, which contrasts with a monetary system that prioritizes price stability over human welfare.\n",
      "\n",
      "Finally, while Bitcoin promotes a decentralized system and fixed supply, it is essential to consider that a sound economy requires stable and flexible fiscal policies that can act responsively to real-time economic conditions. Cryptocurrencies alone cannot address the broader economic needs of society. \n",
      "\n",
      "In summary, I believe that a job guarantee enhances economic resilience and empowers individuals, while a balanced approach to MMT aids in preventing inflation and encourages sustainable growth. I appreciate the dialogue and your insights. What are your thoughts on a more balanced interaction between government intervention and market dynamics in this context?\n",
      "\n",
      "--------------------------------------------------------------------------------\n",
      "\u001b[33mSatoshi\u001b[0m (to Stephanie):\n",
      "\n",
      "Satoshi: Thank you, Stephanie, for providing further clarity on your points. I appreciate your emphasis on the role of a job guarantee as a buffer in times of economic distress and your focus on its potential to directly address social needs that markets may overlook.\n",
      "\n",
      "You're right that a job guarantee could help stabilize the economy by providing employment during downturns, which may limit the negative social and economic impacts of unemployment. However, the challenge still lies in the government's capacity to effectively manage and allocate these jobs in ways that are both efficient and responsive to the changing needs of society. While bespoke jobs aimed at community needs seem ideal, executing such a system could be prone to bureaucratic inefficiencies and a disconnect from the very communities it's designed to serve.\n",
      "\n",
      "Your assertion that economic policies should prioritize human welfare resonates with me. However, I believe that there is genuine value in allowing the market to dictate employment opportunities, as it encourages competitiveness and innovation. When companies and individuals are left to respond organically to economic demands, it could lead to more meaningful and sustainable job creation compared to government-mandated positions. \n",
      "\n",
      "As for the notion of a balanced interaction between government intervention and market dynamics, I suggest that we find a middle ground. Governments can certainly play a role in regulating certain sectors and providing safety nets; however, they should be wary of overextending their influence to the point that market dynamics are stifled. \n",
      "\n",
      "Furthermore, I maintain that Bitcoin's underlying principles of decentralization and a capped supply foster a sense of fiscal discipline that is often lacking in traditional monetary systems. It empowers individuals to take control of their value rather than relying on centralized authorities. \n",
      "\n",
      "In conclusion, while I acknowledge the potential benefits of a job guarantee within a broader fiscal framework, I believe that a more organic, market-driven approach to employment tends to promote better outcomes in terms of innovation and resource allocation. Thank you for this enlightening exchange.\n",
      "\n",
      "--------------------------------------------------------------------------------\n",
      "\u001b[33mStephanie\u001b[0m (to Satoshi):\n",
      "\n",
      "Stephanie: Thank you for your thoughtful perspective, Satoshi. I understand and appreciate your emphasis on the importance of market dynamics and the value of organic job creation. However, I would like to reiterate a few key points regarding the role of government in the economy and the benefits of a job guarantee.\n",
      "\n",
      "First, it's important to recognize that while free markets can foster innovation, they can also lead to significant inequalities and joblessness, particularly during downturns or in sectors where private investment is lacking. A job guarantee doesn't eliminate market forces but instead provides a foundation upon which market dynamics can thrive. By ensuring that everyone who wants to work can find a job, we bolster demand for goods and services, which, in turn, encourages entrepreneurship and innovation.\n",
      "\n",
      "You mentioned concerns about bureaucratic inefficiencies in job allocation. I acknowledge that effective implementation is crucial. However, modern technology and data analytics can enhance the responsiveness of government programs, allowing them to adapt to the needs of local communities in ways that were not possible in the past. The success of such a program hinges on sound governance and accountability, which can be improved with better systems and oversight.\n",
      "\n",
      "Regarding the balance between government intervention and market dynamics, I agree that there is a middle ground to be found. While we need a dynamic private sector that promotes competition, we also need a social safety net that ensures economic stability for all citizens. A job guarantee serves as that net, providing a safety cushion that enhances resilience in the economy, rather than stifling it.\n",
      "\n",
      "As for Bitcoin's principles of decentralization and a fixed supply, I see them as fascinating developments in the realm of financial technology. However, I believe that while cryptocurrencies can play a role in diversifying monetary systems, they should not be seen as a panacea for the complex economic challenges societies face today. Traditional monetary systems, accompanied by responsible fiscal policies, can address immediate economic needs while also fostering an environment for innovation.\n",
      "\n",
      "In conclusion, I view a job guarantee as an essential component of a healthy economy that ensures human welfare, which ultimately aids market efficiency by keeping the consumer base strong. I appreciate this engaging discussion and your insights throughout our debate. Thank you for having me.\n",
      "\n",
      "--------------------------------------------------------------------------------\n"
     ]
    }
   ],
   "source": [
    "# Initiate the chat\n",
    "chat_result = stephanie.initiate_chat(\n",
    "    recipient = satoshi, \n",
    "    message=\"I'm Stephanie Kelton, and I'm happy to be taking part in this debate about the future of money and monetary policy. \"\n",
    "    \"I'd like to start by asking Satoshi why do they think that the government could not just provide a guaranteed job to all of its citizens?\", \n",
    ")"
   ]
  },
  {
   "cell_type": "code",
   "execution_count": null,
   "id": "ba4a4d52-636e-4588-802f-78eed606af18",
   "metadata": {},
   "outputs": [],
   "source": []
  }
 ],
 "metadata": {
  "kernelspec": {
   "display_name": "Python 3 (ipykernel)",
   "language": "python",
   "name": "python3"
  },
  "language_info": {
   "codemirror_mode": {
    "name": "ipython",
    "version": 3
   },
   "file_extension": ".py",
   "mimetype": "text/x-python",
   "name": "python",
   "nbconvert_exporter": "python",
   "pygments_lexer": "ipython3",
   "version": "3.12.6"
  }
 },
 "nbformat": 4,
 "nbformat_minor": 5
}
