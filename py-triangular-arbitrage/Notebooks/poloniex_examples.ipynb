{
 "cells": [
  {
   "cell_type": "markdown",
   "id": "a9a82199-47be-4608-994a-683256195859",
   "metadata": {},
   "source": [
    "## Poloniex Public Endpoints: Market Data"
   ]
  },
  {
   "cell_type": "markdown",
   "id": "38205897-9e57-4aff-aa1f-6417d7d9f551",
   "metadata": {},
   "source": [
    "Polonies API documentation for spot market data: https://api-docs.poloniex.com/spot/api/public/market-data"
   ]
  },
  {
   "cell_type": "code",
   "execution_count": 1,
   "id": "3a8aceb8",
   "metadata": {},
   "outputs": [],
   "source": [
    "# requesting data from the poloniex API\n",
    "import requests\n",
    "import json"
   ]
  },
  {
   "cell_type": "code",
   "execution_count": 2,
   "id": "cff7fd99-6154-4c93-8c46-31702c84c52a",
   "metadata": {},
   "outputs": [],
   "source": [
    "def get_json_from_request(url):\n",
    "    req = requests.get(url)\n",
    "    if req.status_code == 200:\n",
    "        return json.loads(req.text)\n",
    "    else:\n",
    "        return f\"Your request returned a status code {req.status_code}\""
   ]
  },
  {
   "cell_type": "code",
   "execution_count": 3,
   "id": "7b358f45-c1cb-4976-a43a-a1b70a934fb2",
   "metadata": {},
   "outputs": [],
   "source": [
    "symbol = \"ETH_BTC\""
   ]
  },
  {
   "cell_type": "markdown",
   "id": "d5f38fed-8188-4606-a284-f3aab415a5dd",
   "metadata": {},
   "source": [
    "### Poloniex API Market Data: Prices"
   ]
  },
  {
   "cell_type": "markdown",
   "id": "54b02112-84ce-40f5-8694-dc56ae10b1ae",
   "metadata": {},
   "source": [
    "Get latest mark price for all cross margin symbols."
   ]
  },
  {
   "cell_type": "markdown",
   "id": "df5a5098-5fa8-40ca-9572-0eb343cefb5f",
   "metadata": {},
   "source": [
    "<table align=\"left\"><thead><tr><th>Response Field</th><th>Data Type</th><th>Description</th></tr></thead><tbody><tr><td>symbol</td><td>String</td><td>symbol name</td></tr><tr><td>price</td><td>String</td><td>current price</td></tr><tr><td>time</td><td>Long</td><td>time the record was created</td></tr><tr><td>dailyChange</td><td>String</td><td>daily change in decimal</td></tr><tr><td>ts</td><td>Long</td><td>time the record was pushed</td></tr></tbody></table>"
   ]
  },
  {
   "cell_type": "code",
   "execution_count": 4,
   "id": "c832cf55",
   "metadata": {},
   "outputs": [],
   "source": [
    "# https://api-docs.poloniex.com/spot/api/public/market-data\n",
    "market_prices_url = \"https://api.poloniex.com/markets/price\""
   ]
  },
  {
   "cell_type": "code",
   "execution_count": 5,
   "id": "a6a9b093-7dc6-4611-9a23-cce76cd0b158",
   "metadata": {},
   "outputs": [
    {
     "data": {
      "text/plain": [
       "<Response [200]>"
      ]
     },
     "execution_count": 5,
     "metadata": {},
     "output_type": "execute_result"
    }
   ],
   "source": [
    "req = requests.get(market_prices_url)\n",
    "req #server response"
   ]
  },
  {
   "cell_type": "code",
   "execution_count": 6,
   "id": "14079e11-58d3-42e7-a502-99d6f976aef5",
   "metadata": {},
   "outputs": [
    {
     "data": {
      "text/plain": [
       "[{'symbol': 'BTS_BTC',\n",
       "  'price': '0.0000000271',\n",
       "  'time': 1725957986539,\n",
       "  'dailyChange': '-0.1115',\n",
       "  'ts': 1725957986548},\n",
       " {'symbol': 'DASH_BTC',\n",
       "  'price': '0.000417',\n",
       "  'time': 1725968090235,\n",
       "  'dailyChange': '0.0121',\n",
       "  'ts': 1725968090245},\n",
       " {'symbol': 'DOGE_BTC',\n",
       "  'price': '0.000001805',\n",
       "  'time': 1725971500272,\n",
       "  'dailyChange': '0.0232',\n",
       "  'ts': 1725971500282},\n",
       " {'symbol': 'LTC_BTC',\n",
       "  'price': '0.001066',\n",
       "  'time': 1725971275414,\n",
       "  'dailyChange': '-0.0247',\n",
       "  'ts': 1725971275428},\n",
       " {'symbol': 'XLM_BTC',\n",
       "  'price': '0.000001664',\n",
       "  'time': 1725894039296,\n",
       "  'dailyChange': '0.0619',\n",
       "  'ts': 1725894039312}]"
      ]
     },
     "execution_count": 6,
     "metadata": {},
     "output_type": "execute_result"
    }
   ],
   "source": [
    "prices_json = get_json_from_request(market_prices_url)\n",
    "prices_json[0:5]"
   ]
  },
  {
   "cell_type": "code",
   "execution_count": 7,
   "id": "1badb6ea-706c-484f-9459-48854bccb403",
   "metadata": {},
   "outputs": [
    {
     "data": {
      "text/plain": [
       "[{'ticker': 'BTS_BTC', 'price': '0.0000000271'},\n",
       " {'ticker': 'DASH_BTC', 'price': '0.000417'},\n",
       " {'ticker': 'DOGE_BTC', 'price': '0.000001805'},\n",
       " {'ticker': 'LTC_BTC', 'price': '0.001066'},\n",
       " {'ticker': 'XLM_BTC', 'price': '0.000001664'}]"
      ]
     },
     "execution_count": 7,
     "metadata": {},
     "output_type": "execute_result"
    }
   ],
   "source": [
    "prices_list = []\n",
    "for p in prices_json:\n",
    "    prices_list.append({\"ticker\": p[\"symbol\"], \"price\": p[\"price\"]})\n",
    "prices_list[0:5]"
   ]
  },
  {
   "cell_type": "markdown",
   "id": "5127d671-37b9-4367-9129-1eef8c270f6c",
   "metadata": {},
   "source": [
    "Get latest mark price for a single cross margin symbol."
   ]
  },
  {
   "cell_type": "markdown",
   "id": "5adbd1bc-545b-4d77-abf5-1bc077fd3761",
   "metadata": {},
   "source": [
    "<table align=left><thead><tr><th>Request Parameter</th><th>Data Type</th><th>Required</th><th>Description</th></tr></thead><tbody><tr><td>symbol</td><td>String</td><td>true</td><td>symbol name</td></tr></tbody></table>"
   ]
  },
  {
   "cell_type": "code",
   "execution_count": 8,
   "id": "bbedab3e-4d8b-4205-a064-0654bb60fd8b",
   "metadata": {},
   "outputs": [
    {
     "data": {
      "text/plain": [
       "'https://api.poloniex.com/markets/ETH_BTC/price'"
      ]
     },
     "execution_count": 8,
     "metadata": {},
     "output_type": "execute_result"
    }
   ],
   "source": [
    "market_prices_symbol_url = f\"https://api.poloniex.com/markets/{symbol}/price\"\n",
    "market_prices_symbol_url"
   ]
  },
  {
   "cell_type": "code",
   "execution_count": 9,
   "id": "82a0a3be-4903-4bbf-b015-e2272240e116",
   "metadata": {},
   "outputs": [
    {
     "data": {
      "text/plain": [
       "{'symbol': 'ETH_BTC',\n",
       " 'price': '0.04129',\n",
       " 'time': 1725973656195,\n",
       " 'dailyChange': '-0.0131',\n",
       " 'ts': 1725973656201}"
      ]
     },
     "execution_count": 9,
     "metadata": {},
     "output_type": "execute_result"
    }
   ],
   "source": [
    "price_symbol_json = get_json_from_request(market_prices_symbol_url)\n",
    "price_symbol_json"
   ]
  },
  {
   "cell_type": "markdown",
   "id": "adb156e2-6f65-465f-a888-d90e83a1c1d7",
   "metadata": {},
   "source": [
    "### Poloniex API Market Data: Mark Price"
   ]
  },
  {
   "cell_type": "markdown",
   "id": "e06da7ba-e597-4341-a9a2-29c7a5d24980",
   "metadata": {},
   "source": [
    "Get latest mark price for all cross margin symbols."
   ]
  },
  {
   "cell_type": "code",
   "execution_count": 10,
   "id": "2ca8ae53-130e-4a88-93f7-eb04065ce6f1",
   "metadata": {},
   "outputs": [
    {
     "data": {
      "text/plain": [
       "'https://api.poloniex.com/markets/markPrice'"
      ]
     },
     "execution_count": 10,
     "metadata": {},
     "output_type": "execute_result"
    }
   ],
   "source": [
    "mark_price_url = \"https://api.poloniex.com/markets/markPrice\"\n",
    "mark_price_url"
   ]
  },
  {
   "cell_type": "markdown",
   "id": "5b66332b-ff0d-4bb1-a0b1-2a7492f17510",
   "metadata": {},
   "source": [
    "<table align=left><thead><tr><th>Response Field</th><th>Data Type</th><th>Description</th></tr></thead><tbody><tr><td>symbol</td><td>String</td><td>symbol name</td></tr><tr><td>markPrice</td><td>String</td><td>current mark price</td></tr><tr><td>time</td><td>Long</td><td>time the record was created</td></tr></tbody></table>"
   ]
  },
  {
   "cell_type": "code",
   "execution_count": 11,
   "id": "3ee3f788-3b0a-4f0b-b6c3-07b4a3a2070c",
   "metadata": {},
   "outputs": [
    {
     "data": {
      "text/plain": [
       "[{'symbol': 'SHIB_USDT', 'markPrice': '0.00001338', 'time': '1725974189902'},\n",
       " {'symbol': 'DOT_USDT', 'markPrice': '4.208', 'time': '1725974189908'},\n",
       " {'symbol': 'OMNI_BTC', 'markPrice': '0.0001262', 'time': '1725974189905'},\n",
       " {'symbol': 'UPP_USDT', 'markPrice': '0.05001', 'time': '1725010142904'},\n",
       " {'symbol': 'CLV_USDT', 'markPrice': '0.0409', 'time': '1725974189904'}]"
      ]
     },
     "execution_count": 11,
     "metadata": {},
     "output_type": "execute_result"
    }
   ],
   "source": [
    "prices_json = get_json_from_request(mark_price_url)\n",
    "prices_json[0:5]"
   ]
  },
  {
   "cell_type": "markdown",
   "id": "9d4d514f-a31f-430a-b400-1879bb4aa5a1",
   "metadata": {},
   "source": [
    "Get latest mark price for a single cross margin symbol.\n",
    "\n"
   ]
  },
  {
   "cell_type": "markdown",
   "id": "e7ab116e-6eec-47f6-8aab-a8fcf1ea46f7",
   "metadata": {},
   "source": [
    "<table align=left><thead><tr><th>Request Parameter</th><th>Data Type</th><th>Required</th><th>Description</th></tr></thead><tbody><tr><td>symbol</td><td>String</td><td>true</td><td>symbol name</td></tr></tbody></table>"
   ]
  },
  {
   "cell_type": "code",
   "execution_count": 12,
   "id": "294a3102-3a05-49cd-830e-63e39954e5dc",
   "metadata": {},
   "outputs": [
    {
     "data": {
      "text/plain": [
       "'https://api.poloniex.com/markets/ETH_BTC/markPrice'"
      ]
     },
     "execution_count": 12,
     "metadata": {},
     "output_type": "execute_result"
    }
   ],
   "source": [
    "mark_price_symbol_url = f\"https://api.poloniex.com/markets/{symbol}/markPrice\"\n",
    "mark_price_symbol_url"
   ]
  },
  {
   "cell_type": "code",
   "execution_count": 13,
   "id": "6aeac376-3c94-4e6a-9c02-5100d138a701",
   "metadata": {},
   "outputs": [
    {
     "data": {
      "text/plain": [
       "{'symbol': 'ETH_BTC', 'markPrice': '0.04116', 'time': '1725974189905'}"
      ]
     },
     "execution_count": 13,
     "metadata": {},
     "output_type": "execute_result"
    }
   ],
   "source": [
    "prices_json = get_json_from_request(mark_price_symbol_url)\n",
    "prices_json"
   ]
  },
  {
   "cell_type": "markdown",
   "id": "a932e511-9833-4333-8cfe-675b60037b0b",
   "metadata": {},
   "source": [
    "### Poloniex API Market Data: Mark Price Components"
   ]
  },
  {
   "cell_type": "markdown",
   "id": "e817d629-63b3-4ab9-ac9e-b695adeb17b9",
   "metadata": {},
   "source": [
    "Get components of the mark price for a given symbol"
   ]
  },
  {
   "cell_type": "markdown",
   "id": "86700a14-5907-4843-a8c3-32a51706dba1",
   "metadata": {},
   "source": [
    "<table align=left><thead><tr><th>Response Field</th><th>Data Type</th><th>Description</th></tr></thead><tbody><tr><td>markPrice</td><td>String</td><td>mark price of the symbol</td></tr><tr><td>symbol</td><td>String</td><td>symbol name</td></tr><tr><td>ts</td><td>Long</td><td>timestamp</td></tr><tr><td>components</td><td>Array of Json</td><td>price and weight info for the symbol from various exchanges</td></tr></tbody></table>"
   ]
  },
  {
   "cell_type": "markdown",
   "id": "011c86a9-9b10-4f7c-8f5d-3943fd49a825",
   "metadata": {},
   "source": [
    "<b>Components</b>&nbsp;<table align=left><thead><tr><th>Response Field</th><th>Data Type</th><th>Description</th></tr></thead><tbody><tr><td>symbol</td><td>String</td><td>symbol name</td></tr><tr><td>symbolPrice</td><td>String</td><td>symbol price</td></tr><tr><td>weight</td><td>String</td><td>weight assigned to the exchange price</td></tr><tr><td>convertPrice</td><td>String</td><td>symbol price converted to index</td></tr><tr><td>exchange</td><td>String</td><td>name of exchange</td></tr></tbody></table>"
   ]
  },
  {
   "cell_type": "code",
   "execution_count": 14,
   "id": "49a1b10a-88a4-41a1-a415-57979339ef23",
   "metadata": {},
   "outputs": [
    {
     "data": {
      "text/plain": [
       "'https://api.poloniex.com/markets/ETH_BTC/markPriceComponents'"
      ]
     },
     "execution_count": 14,
     "metadata": {},
     "output_type": "execute_result"
    }
   ],
   "source": [
    "mark_price_components_url = f\"https://api.poloniex.com/markets/{symbol}/markPriceComponents\"\n",
    "mark_price_components_url"
   ]
  },
  {
   "cell_type": "code",
   "execution_count": 15,
   "id": "a3c7900c-2529-4fd0-9272-8e9c242fd012",
   "metadata": {},
   "outputs": [
    {
     "data": {
      "text/plain": [
       "{'markPrice': '0.04116',\n",
       " 'symbol': 'ETH_BTC',\n",
       " 'ts': 1725974191032,\n",
       " 'components': [{'symbol': 'ETH_BTC',\n",
       "   'symbolPrice': '0.04115',\n",
       "   'weight': '0.01',\n",
       "   'convertPrice': '0.04115',\n",
       "   'exchange': 'BINANCE'},\n",
       "  {'symbol': 'ETH_BTC',\n",
       "   'symbolPrice': '0.04115',\n",
       "   'weight': '0.01',\n",
       "   'convertPrice': '0.04115',\n",
       "   'exchange': 'OKX'},\n",
       "  {'symbol': 'ETH_BTC',\n",
       "   'symbolPrice': '0.041134',\n",
       "   'weight': '0.01',\n",
       "   'convertPrice': '0.041134',\n",
       "   'exchange': 'HUOBI'},\n",
       "  {'symbol': 'ETH_BTC',\n",
       "   'symbolPrice': '0.041141',\n",
       "   'weight': '0.01',\n",
       "   'convertPrice': '0.041141',\n",
       "   'exchange': 'GATEIO'},\n",
       "  {'symbol': 'ETH_BTC',\n",
       "   'symbolPrice': '0.04135',\n",
       "   'weight': '0.01',\n",
       "   'convertPrice': '0.04135',\n",
       "   'exchange': 'BINANCEUS'},\n",
       "  {'symbol': 'ETH_BTC',\n",
       "   'symbolPrice': '0.04113',\n",
       "   'weight': '0.01',\n",
       "   'convertPrice': '0.04113',\n",
       "   'exchange': 'KUCOIN'},\n",
       "  {'symbol': 'ETH_BTC',\n",
       "   'symbolPrice': '0.04113',\n",
       "   'weight': '0.01',\n",
       "   'convertPrice': '0.04113',\n",
       "   'exchange': 'DIGIFINEX'}]}"
      ]
     },
     "execution_count": 15,
     "metadata": {},
     "output_type": "execute_result"
    }
   ],
   "source": [
    "prices_json = get_json_from_request(mark_price_components_url)\n",
    "prices_json"
   ]
  },
  {
   "cell_type": "markdown",
   "id": "e33b8d16-595e-4612-b3b8-01a88149600a",
   "metadata": {},
   "source": [
    "### Poloniex API Market Data: Order Book"
   ]
  },
  {
   "cell_type": "markdown",
   "id": "d5ab6ff7-a2c1-47e7-8e3a-c5bf61917c5c",
   "metadata": {},
   "source": [
    "Get the order book for a given symbol. Scale and limit values are optional.\n",
    "For valid scale values, please refer to the scale values defined for each symbol . If scale is not supplied, then no grouping/aggregation will be applied."
   ]
  },
  {
   "cell_type": "markdown",
   "id": "306957b3-1bad-4a1e-993e-bd65c6568788",
   "metadata": {},
   "source": [
    "<table align=left><thead><tr><th>Request Parameter</th><th>Data Type</th><th>Required</th><th>Description</th></tr></thead><tbody><tr><td>symbol</td><td>String</td><td>true</td><td>symbol name</td></tr><tr><td>scale</td><td>String</td><td>false</td><td>controls aggregation by price</td></tr><tr><td>limit</td><td>Integer</td><td>false</td><td>maximum number of records returned. The default value of limit is 10. Valid limit values are: 5, 10, 20, 50, 100, 150.</td></tr></tbody></table>"
   ]
  },
  {
   "cell_type": "markdown",
   "id": "aa885b58-9385-47f4-8ccf-00ddad5e879f",
   "metadata": {},
   "source": [
    "<table align=left><thead><tr><th>Response Field</th><th>Data Type</th><th>Description</th></tr></thead><tbody><tr><td>time</td><td>Long</td><td>time the record was created</td></tr><tr><td>scale</td><td>String</td><td>controls aggregation by price</td></tr><tr><td>asks</td><td>List&lt;String&gt;</td><td>list of asks</td></tr><tr><td>bids</td><td>List&lt;String&gt;</td><td>list of bids</td></tr><tr><td>ts</td><td>Long</td><td>time the record was pushed</td></tr></tbody></table>"
   ]
  },
  {
   "cell_type": "code",
   "execution_count": 16,
   "id": "1e7b89e1-31fa-4bb2-a0cd-c98ab29c3e97",
   "metadata": {},
   "outputs": [
    {
     "data": {
      "text/plain": [
       "'https://api.poloniex.com/markets/ETH_BTC/orderBook'"
      ]
     },
     "execution_count": 16,
     "metadata": {},
     "output_type": "execute_result"
    }
   ],
   "source": [
    "order_book_url = f\"https://api.poloniex.com/markets/{symbol}/orderBook\"\n",
    "order_book_url"
   ]
  },
  {
   "cell_type": "code",
   "execution_count": 32,
   "id": "21555442-1205-4586-93d2-60206d925873",
   "metadata": {},
   "outputs": [
    {
     "data": {
      "text/plain": [
       "'https://api.poloniex.com/markets/ETH_BTC/orderBook?scale=1&limit=20'"
      ]
     },
     "execution_count": 32,
     "metadata": {},
     "output_type": "execute_result"
    }
   ],
   "source": [
    "limit = 20 # how many do I want to get back\n",
    "scale = 1 # how much do I want it to scale the price before it gives me another level of the order book?\n",
    "order_book_url_param = f\"https://api.poloniex.com/markets/{symbol}/orderBook?scale={scale}&limit={limit}\"\n",
    "order_book_url_param"
   ]
  },
  {
   "cell_type": "code",
   "execution_count": 35,
   "id": "ac100612-5049-4829-9cb7-d58f6ba74ad1",
   "metadata": {},
   "outputs": [
    {
     "data": {
      "text/plain": [
       "{'time': 1725975932840,\n",
       " 'scale': '0.00001',\n",
       " 'asks': ['0.04129',\n",
       "  '0.001',\n",
       "  '0.0413',\n",
       "  '0.375',\n",
       "  '0.04132',\n",
       "  '0.097',\n",
       "  '0.04133',\n",
       "  '0.098',\n",
       "  '0.04164',\n",
       "  '0.211',\n",
       "  '0.04165',\n",
       "  '0.1',\n",
       "  '0.04186',\n",
       "  '0.001',\n",
       "  '0.04195',\n",
       "  '0.074',\n",
       "  '0.042',\n",
       "  '10',\n",
       "  '0.04211',\n",
       "  '0.001'],\n",
       " 'bids': ['0.04114',\n",
       "  '0.026',\n",
       "  '0.04113',\n",
       "  '1.769',\n",
       "  '0.04112',\n",
       "  '0.004',\n",
       "  '0.0411',\n",
       "  '0.001',\n",
       "  '0.04109',\n",
       "  '0.263',\n",
       "  '0.041',\n",
       "  '6.400',\n",
       "  '0.04091',\n",
       "  '0.002',\n",
       "  '0.04089',\n",
       "  '0.004',\n",
       "  '0.04088',\n",
       "  '1.000',\n",
       "  '0.0408',\n",
       "  '0.200'],\n",
       " 'ts': 1725975932916}"
      ]
     },
     "execution_count": 35,
     "metadata": {},
     "output_type": "execute_result"
    }
   ],
   "source": [
    "prices_json = get_json_from_request(order_book_url)\n",
    "prices_json"
   ]
  },
  {
   "cell_type": "code",
   "execution_count": 36,
   "id": "7c83624a-e2e8-4b36-852f-ec52c2f53306",
   "metadata": {},
   "outputs": [
    {
     "data": {
      "text/plain": [
       "'https://api.poloniex.com/markets/ETH_BTC/orderBook?limit=20'"
      ]
     },
     "execution_count": 36,
     "metadata": {},
     "output_type": "execute_result"
    }
   ],
   "source": [
    "# example for structuring order book with limit \n",
    "order_book_url_limit = f\"https://api.poloniex.com/markets/{symbol}/orderBook?limit={limit}\"\n",
    "order_book_url_limit"
   ]
  },
  {
   "cell_type": "code",
   "execution_count": 40,
   "id": "f1590020-dde4-4ece-abf1-b5dafe778a99",
   "metadata": {},
   "outputs": [
    {
     "name": "stdout",
     "output_type": "stream",
     "text": [
      "['0.0413', '0.04131', '0.04132', '0.04133', '0.04165', '0.04177', '0.04194', '0.04195', '0.04211', '0.04213', '0.04215', '0.04217', '0.04218', '0.04221', '0.04223', '0.04225', '0.04227', '0.04229', '0.04231', '0.04232']\n",
      "['0.005', '0.026', '0.308', '0.098', '0.1', '0.001', '10', '0.074', '0.001', '0.001', '0.001', '0.005', '0.001', '0.001', '0.001', '0.001', '0.001', '0.001', '0.001', '0.009']\n"
     ]
    }
   ],
   "source": [
    "ob = get_json_from_request(order_book_url_limit)\n",
    "# structure the 'asks' section of the orderbook\n",
    "# asks represents the prize and the size (amount in some order books)\n",
    "asks_prices = []\n",
    "asks_sizes = []\n",
    "count = 0\n",
    "for a in ob[\"asks\"]:\n",
    "    # collecting all the even numbers from the asks\n",
    "    if count % 2 == 0:\n",
    "        asks_prices.append(a)\n",
    "    else:\n",
    "        asks_sizes.append(a)\n",
    "    count += 1\n",
    "print(asks_prices)\n",
    "print(asks_sizes)"
   ]
  },
  {
   "cell_type": "markdown",
   "id": "0530588c-feb0-46e9-bf90-d832ab559cbf",
   "metadata": {},
   "source": [
    "### Poloniex API Market Data: Candles"
   ]
  },
  {
   "cell_type": "markdown",
   "id": "a3411fc3-614e-4df2-a4e3-5a100da36478",
   "metadata": {},
   "source": [
    "Returns OHLC for a symbol at given timeframe (interval)."
   ]
  },
  {
   "cell_type": "markdown",
   "id": "52982553-d92b-4a55-b824-55a0f5665a7c",
   "metadata": {},
   "source": [
    "<table align=left><thead><tr><th>Request Parameter</th><th>Data Type</th><th>Required</th><th>Description</th></tr></thead><tbody><tr><td>symbol</td><td>String</td><td>true</td><td>symbol name</td></tr><tr><td>interval</td><td>String</td><td>true</td><td>the unit of time to aggregate data by. Valid values: <code>MINUTE_1</code>, <code>MINUTE_5</code>, <code>MINUTE_10</code>, <code>MINUTE_15</code>, <code>MINUTE_30</code>, <code>HOUR_1</code>, <code>HOUR_2</code>, <code>HOUR_4</code>, <code>HOUR_6</code>, <code>HOUR_12</code>, <code>DAY_1</code>, <code>DAY_3</code>, <code>WEEK_1</code> and <code>MONTH_1</code></td></tr><tr><td>limit</td><td>Integer</td><td>false</td><td>maximum number of records returned. The default value is 100 and the max value is 500.</td></tr><tr><td>startTime</td><td>Long</td><td>false</td><td>filters by time. The default value is 0.</td></tr><tr><td>endTime</td><td>Long</td><td>false</td><td>filters by time. The default value is current time</td></tr></tbody></table>"
   ]
  },
  {
   "cell_type": "markdown",
   "id": "7969a5d1-319b-4a83-a6cd-76a6a86618c5",
   "metadata": {},
   "source": [
    "The response is a list of candles data values displayed in an array in the following order:"
   ]
  },
  {
   "cell_type": "markdown",
   "id": "707766d3-ce14-4cc7-880f-30e1e9949f94",
   "metadata": {},
   "source": [
    "<table align=left><thead><tr><th>Data Field</th><th>Data Type</th><th>Description</th></tr></thead><tbody><tr><td>low</td><td>String</td><td>lowest price over the interval</td></tr><tr><td>high</td><td>String</td><td>highest price over the interval</td></tr><tr><td>open</td><td>String</td><td>price at the start time</td></tr><tr><td>close</td><td>String</td><td>price at the end time</td></tr><tr><td>amount</td><td>String</td><td>quote units traded over the interval</td></tr><tr><td>quantity</td><td>String</td><td>base units traded over the interval</td></tr><tr><td>buyTakerAmount</td><td>String</td><td>quote units traded over the interval filled by market buy orders</td></tr><tr><td>buyTakerQuantity</td><td>String</td><td>base units traded over the interval filled by market buy orders</td></tr><tr><td>tradeCount</td><td>Integer</td><td>count of trades</td></tr><tr><td>ts</td><td>Long</td><td>time the record was pushed</td></tr><tr><td>weightedAverage</td><td>String</td><td>weighted average over the interval</td></tr><tr><td>interval</td><td>String</td><td>the selected interval</td></tr><tr><td>startTime</td><td>Long</td><td>start time of interval</td></tr><tr><td>closeTime</td><td>Long</td><td>close time of interval</td></tr></tbody></table>"
   ]
  },
  {
   "cell_type": "code",
   "execution_count": null,
   "id": "1a4b3f5d-1ef8-44cb-93b4-ac7593ef8cca",
   "metadata": {},
   "outputs": [],
   "source": []
  },
  {
   "cell_type": "markdown",
   "id": "4419392e-b303-4730-b51d-4bd5cadba7c7",
   "metadata": {},
   "source": [
    "Interval is a required request parameter. Valid values: MINUTE_1, MINUTE_5, MINUTE_10, MINUTE_15, MINUTE_30, HOUR_1, HOUR_2, HOUR_4, HOUR_6, HOUR_12, DAY_1, DAY_3, WEEK_1 and MONTH_1."
   ]
  },
  {
   "cell_type": "code",
   "execution_count": 18,
   "id": "89c92b4f-b129-4f21-8f1f-daf9570e720f",
   "metadata": {},
   "outputs": [],
   "source": [
    "interval = \"DAY_1\""
   ]
  },
  {
   "cell_type": "code",
   "execution_count": 19,
   "id": "e66d9810-81c5-4235-bc79-70fecb6b93d6",
   "metadata": {},
   "outputs": [
    {
     "data": {
      "text/plain": [
       "'https://api.poloniex.com/markets/ETH_BTC/candles?interval=DAY_1'"
      ]
     },
     "execution_count": 19,
     "metadata": {},
     "output_type": "execute_result"
    }
   ],
   "source": [
    "candles_url = f\"https://api.poloniex.com/markets/{symbol}/candles?interval={interval}\"\n",
    "candles_url"
   ]
  },
  {
   "cell_type": "code",
   "execution_count": 20,
   "id": "564a3491-3060-4efd-9894-19f56e2fc8fd",
   "metadata": {},
   "outputs": [
    {
     "data": {
      "text/plain": [
       "[['0.05456',\n",
       "  '0.05629',\n",
       "  '0.05568',\n",
       "  '0.05474',\n",
       "  '6.18921',\n",
       "  '112.87',\n",
       "  '1.12192',\n",
       "  '20.279',\n",
       "  1019,\n",
       "  0,\n",
       "  '0.05483',\n",
       "  'DAY_1',\n",
       "  1717372800000,\n",
       "  1717459199999],\n",
       " ['0.05388',\n",
       "  '0.05474',\n",
       "  '0.05464',\n",
       "  '0.05428',\n",
       "  '1.5431',\n",
       "  '28.458',\n",
       "  '0.01641',\n",
       "  '0.303',\n",
       "  327,\n",
       "  0,\n",
       "  '0.05422',\n",
       "  'DAY_1',\n",
       "  1717459200000,\n",
       "  1717545599999],\n",
       " ['0.05318',\n",
       "  '0.055',\n",
       "  '0.05426',\n",
       "  '0.05428',\n",
       "  '1.82749',\n",
       "  '33.982',\n",
       "  '0.69596',\n",
       "  '12.854',\n",
       "  636,\n",
       "  0,\n",
       "  '0.05378',\n",
       "  'DAY_1',\n",
       "  1717545600000,\n",
       "  1717631999999],\n",
       " ['0.05363',\n",
       "  '0.055',\n",
       "  '0.05434',\n",
       "  '0.05391',\n",
       "  '0.87675',\n",
       "  '16.177',\n",
       "  '0.2576',\n",
       "  '4.719',\n",
       "  336,\n",
       "  0,\n",
       "  '0.0542',\n",
       "  'DAY_1',\n",
       "  1717632000000,\n",
       "  1717718399999],\n",
       " ['0.05257',\n",
       "  '0.0539',\n",
       "  '0.0537',\n",
       "  '0.05312',\n",
       "  '1.968',\n",
       "  '36.99',\n",
       "  '0.36357',\n",
       "  '6.797',\n",
       "  658,\n",
       "  0,\n",
       "  '0.0532',\n",
       "  'DAY_1',\n",
       "  1717718400000,\n",
       "  1717804799999]]"
      ]
     },
     "execution_count": 20,
     "metadata": {},
     "output_type": "execute_result"
    }
   ],
   "source": [
    "prices_json = get_json_from_request(candles_url)\n",
    "prices_json[0:5]"
   ]
  },
  {
   "cell_type": "code",
   "execution_count": 21,
   "id": "395d65e9-8f8f-4505-936f-438b2a002d1b",
   "metadata": {},
   "outputs": [
    {
     "name": "stdout",
     "output_type": "stream",
     "text": [
      "['0.05456', '0.05629', '0.05568', '0.05474', '6.18921', '112.87', '1.12192', '20.279', 1019, 0, '0.05483', 'DAY_1', 1717372800000, 1717459199999]\n",
      "['0.05388', '0.05474', '0.05464', '0.05428', '1.5431', '28.458', '0.01641', '0.303', 327, 0, '0.05422', 'DAY_1', 1717459200000, 1717545599999]\n",
      "['0.05318', '0.055', '0.05426', '0.05428', '1.82749', '33.982', '0.69596', '12.854', 636, 0, '0.05378', 'DAY_1', 1717545600000, 1717631999999]\n",
      "['0.05363', '0.055', '0.05434', '0.05391', '0.87675', '16.177', '0.2576', '4.719', 336, 0, '0.0542', 'DAY_1', 1717632000000, 1717718399999]\n",
      "['0.05257', '0.0539', '0.0537', '0.05312', '1.968', '36.99', '0.36357', '6.797', 658, 0, '0.0532', 'DAY_1', 1717718400000, 1717804799999]\n"
     ]
    }
   ],
   "source": [
    "for day in prices_json[0:5]:\n",
    "    print(day)"
   ]
  },
  {
   "cell_type": "markdown",
   "id": "6679ed71-c016-4a89-badc-31f7af470809",
   "metadata": {},
   "source": [
    "### Poloniex API Market Data: Trades"
   ]
  },
  {
   "cell_type": "markdown",
   "id": "8281d82c-e306-46d5-b0f7-fc64ce0340c3",
   "metadata": {},
   "source": [
    "Returns a list of recent trades, request param limit is optional, its default value is 500, and max value is 1000."
   ]
  },
  {
   "cell_type": "markdown",
   "id": "e6f1476b-aab8-4e48-90c4-3ed22589bf82",
   "metadata": {},
   "source": [
    "<table align=left><thead><tr><th>Request Parameter</th><th>Data Type</th><th>Required</th><th>Description</th></tr></thead><tbody><tr><td>symbol</td><td>String</td><td>true</td><td>symbol name</td></tr><tr><td>limit</td><td>Integer</td><td>false</td><td>maximum number of records returned</td></tr></tbody></table>"
   ]
  },
  {
   "cell_type": "markdown",
   "id": "42007c9e-299d-4c1d-a262-06ef675d361d",
   "metadata": {},
   "source": [
    "<table align=left><thead><tr><th>Response Field</th><th>Data Type</th><th>Description</th></tr></thead><tbody><tr><td>id</td><td>String</td><td>trade id</td></tr><tr><td>price</td><td>String</td><td>trade price</td></tr><tr><td>quantity</td><td>String</td><td>base units traded</td></tr><tr><td>amount</td><td>String</td><td>quote units traded</td></tr><tr><td>takerSide</td><td>String</td><td>taker's trade side (BUY, SELL)</td></tr><tr><td>ts</td><td>Long</td><td>time the trade was pushed</td></tr><tr><td>createTime</td><td>Long</td><td>time the trade was created</td></tr></tbody></table>"
   ]
  },
  {
   "cell_type": "code",
   "execution_count": 22,
   "id": "2678e744-7fc7-4a47-ae9c-0420ccdda63c",
   "metadata": {},
   "outputs": [
    {
     "data": {
      "text/plain": [
       "'https://api.poloniex.com/markets/ETH_BTC/trades'"
      ]
     },
     "execution_count": 22,
     "metadata": {},
     "output_type": "execute_result"
    }
   ],
   "source": [
    "trades_url = f\"https://api.poloniex.com/markets/{symbol}/trades\"\n",
    "trades_url"
   ]
  },
  {
   "cell_type": "code",
   "execution_count": 23,
   "id": "8b96d719-127a-48e4-ac1e-c896a8f329d8",
   "metadata": {},
   "outputs": [
    {
     "data": {
      "text/plain": [
       "[{'id': '63458047',\n",
       "  'price': '0.04129',\n",
       "  'quantity': '0.003',\n",
       "  'amount': '0.00012387',\n",
       "  'takerSide': 'BUY',\n",
       "  'ts': 1725973656201,\n",
       "  'createTime': 1725973656195},\n",
       " {'id': '63458046',\n",
       "  'price': '0.04111',\n",
       "  'quantity': '0.004',\n",
       "  'amount': '0.00016444',\n",
       "  'takerSide': 'SELL',\n",
       "  'ts': 1725973550106,\n",
       "  'createTime': 1725973550091},\n",
       " {'id': '63458045',\n",
       "  'price': '0.04111',\n",
       "  'quantity': '0.002',\n",
       "  'amount': '0.00008222',\n",
       "  'takerSide': 'SELL',\n",
       "  'ts': 1725973476025,\n",
       "  'createTime': 1725973476019},\n",
       " {'id': '63458044',\n",
       "  'price': '0.04112',\n",
       "  'quantity': '0.003',\n",
       "  'amount': '0.00012336',\n",
       "  'takerSide': 'SELL',\n",
       "  'ts': 1725973428435,\n",
       "  'createTime': 1725973428423},\n",
       " {'id': '63458043',\n",
       "  'price': '0.04112',\n",
       "  'quantity': '0.003',\n",
       "  'amount': '0.00012336',\n",
       "  'takerSide': 'SELL',\n",
       "  'ts': 1725973428221,\n",
       "  'createTime': 1725973428214}]"
      ]
     },
     "execution_count": 23,
     "metadata": {},
     "output_type": "execute_result"
    }
   ],
   "source": [
    "prices_json = get_json_from_request(trades_url)\n",
    "prices_json[0:5]"
   ]
  },
  {
   "cell_type": "markdown",
   "id": "65b3f926-e82d-4099-856b-fc8017075352",
   "metadata": {},
   "source": [
    "### Poloniex API Market Data: Ticker"
   ]
  },
  {
   "cell_type": "markdown",
   "id": "c2f36132-0105-4831-89db-a07f811ab3f0",
   "metadata": {},
   "source": [
    "Retrieve ticker in last 24 hours for all symbols."
   ]
  },
  {
   "cell_type": "markdown",
   "id": "39b32065-967e-4a36-a041-81d1c7b92226",
   "metadata": {},
   "source": [
    "<table align=left><thead><tr><th>Response Field</th><th>Data Type</th><th>Description</th></tr></thead><tbody><tr><td>symbol</td><td>String</td><td>symbol name</td></tr><tr><td>open</td><td>String</td><td>price at the start time</td></tr><tr><td>low</td><td>String</td><td>lowest price over the last 24h</td></tr><tr><td>high</td><td>String</td><td>highest price over the last 24h</td></tr><tr><td>close</td><td>String</td><td>price at the end time</td></tr><tr><td>quantity</td><td>String</td><td>base units traded over the last 24h</td></tr><tr><td>amount</td><td>String</td><td>quote units traded over the last 24h</td></tr><tr><td>tradeCount</td><td>Integer</td><td>count of trades</td></tr><tr><td>startTime</td><td>Long</td><td>start time for the 24h interval</td></tr><tr><td>closeTime</td><td>Long</td><td>close time for the 24h interval</td></tr><tr><td>displayName</td><td>String</td><td>symbol display name</td></tr><tr><td>dailyChange</td><td>String</td><td>daily change in decimal</td></tr><tr><td>bid</td><td>String</td><td>Best bid price</td></tr><tr><td>bidQuantity</td><td>String</td><td>Best bid quantity</td></tr><tr><td>ask</td><td>String</td><td>Best ask price</td></tr><tr><td>askQuantity</td><td>String</td><td>Best ask quantity</td></tr><tr><td>ts</td><td>Long</td><td>time the record was pushed</td></tr><tr><td>markPrice</td><td>String</td><td>current mark price</td></tr></tbody></table>"
   ]
  },
  {
   "cell_type": "code",
   "execution_count": 24,
   "id": "d4f6e3e3-f5d5-4028-a33a-7026a52fb457",
   "metadata": {},
   "outputs": [
    {
     "data": {
      "text/plain": [
       "'https://api.poloniex.com/markets/ticker24h'"
      ]
     },
     "execution_count": 24,
     "metadata": {},
     "output_type": "execute_result"
    }
   ],
   "source": [
    "ticker_url = \"https://api.poloniex.com/markets/ticker24h\"\n",
    "ticker_url"
   ]
  },
  {
   "cell_type": "code",
   "execution_count": 25,
   "id": "6b9dfd8c-49b6-465d-80bb-c5a3c3f7b4f1",
   "metadata": {},
   "outputs": [
    {
     "data": {
      "text/plain": [
       "[{'symbol': 'BTS_BTC',\n",
       "  'open': '0.0000000305',\n",
       "  'low': '0.0000000271',\n",
       "  'high': '0.0000000305',\n",
       "  'close': '0.0000000271',\n",
       "  'quantity': '23248',\n",
       "  'amount': '0.0006300208',\n",
       "  'tradeCount': 2,\n",
       "  'startTime': 1725871560000,\n",
       "  'closeTime': 1725957986539,\n",
       "  'displayName': 'BTS/BTC',\n",
       "  'dailyChange': '-0.1115',\n",
       "  'bid': '0.0000000271',\n",
       "  'bidQuantity': '37187',\n",
       "  'ask': '0.0000000303',\n",
       "  'askQuantity': '1488',\n",
       "  'ts': 1725957987445,\n",
       "  'markPrice': '0.000000028'},\n",
       " {'symbol': 'DASH_BTC',\n",
       "  'open': '0.000412',\n",
       "  'low': '0.000412',\n",
       "  'high': '0.000451',\n",
       "  'close': '0.000417',\n",
       "  'quantity': '4.48',\n",
       "  'amount': '0.00194074',\n",
       "  'tradeCount': 11,\n",
       "  'startTime': 1725881640000,\n",
       "  'closeTime': 1725968090235,\n",
       "  'displayName': 'DASH/BTC',\n",
       "  'dailyChange': '0.0121',\n",
       "  'bid': '0.000411',\n",
       "  'bidQuantity': '6.59',\n",
       "  'ask': '0.000451',\n",
       "  'askQuantity': '0.99',\n",
       "  'ts': 1725968090463,\n",
       "  'markPrice': '0.00042'},\n",
       " {'symbol': 'DOGE_BTC',\n",
       "  'open': '0.000001764',\n",
       "  'low': '0.000001762',\n",
       "  'high': '0.000001854',\n",
       "  'close': '0.000001805',\n",
       "  'quantity': '41041',\n",
       "  'amount': '0.074473964',\n",
       "  'tradeCount': 132,\n",
       "  'startTime': 1725886800000,\n",
       "  'closeTime': 1725973232871,\n",
       "  'displayName': 'DOGE/BTC',\n",
       "  'dailyChange': '0.0232',\n",
       "  'bid': '0.000001802',\n",
       "  'bidQuantity': '51',\n",
       "  'ask': '0.000001814',\n",
       "  'askQuantity': '30975',\n",
       "  'ts': 1725973233456,\n",
       "  'markPrice': '0.000001805'},\n",
       " {'symbol': 'LTC_BTC',\n",
       "  'open': '0.001093',\n",
       "  'low': '0.001064',\n",
       "  'high': '0.001096',\n",
       "  'close': '0.001066',\n",
       "  'quantity': '33.57',\n",
       "  'amount': '0.03612757',\n",
       "  'tradeCount': 110,\n",
       "  'startTime': 1725887760000,\n",
       "  'closeTime': 1725974172453,\n",
       "  'displayName': 'LTC/BTC',\n",
       "  'dailyChange': '-0.0247',\n",
       "  'bid': '0.001064',\n",
       "  'bidQuantity': '49.83',\n",
       "  'ask': '0.001074',\n",
       "  'askQuantity': '0.21',\n",
       "  'ts': 1725974172460,\n",
       "  'markPrice': '0.001069'},\n",
       " {'symbol': 'XLM_BTC',\n",
       "  'open': '0.000001567',\n",
       "  'low': '0.000001567',\n",
       "  'high': '0.000001664',\n",
       "  'close': '0.000001664',\n",
       "  'quantity': '428',\n",
       "  'amount': '0.000711778',\n",
       "  'tradeCount': 2,\n",
       "  'startTime': 1725833820000,\n",
       "  'closeTime': 1725920259689,\n",
       "  'displayName': 'XLM/BTC',\n",
       "  'dailyChange': '0.0619',\n",
       "  'bid': '0.00000154',\n",
       "  'bidQuantity': '1227',\n",
       "  'ask': '0.000001663',\n",
       "  'askQuantity': '219',\n",
       "  'ts': 1725920260461,\n",
       "  'markPrice': '0.000001634'}]"
      ]
     },
     "execution_count": 25,
     "metadata": {},
     "output_type": "execute_result"
    }
   ],
   "source": [
    "prices_json = get_json_from_request(ticker_url)\n",
    "prices_json[0:5]"
   ]
  },
  {
   "cell_type": "markdown",
   "id": "0d41a9ed-a66b-4c3c-9792-e231d7c72869",
   "metadata": {},
   "source": [
    "Retrieve ticker in last 24 hours for a given symbol."
   ]
  },
  {
   "cell_type": "markdown",
   "id": "a5b26161-083f-4df7-853b-79b038dda367",
   "metadata": {},
   "source": [
    "<table align=left><thead><tr><th>Request Parameter</th><th>Data Type</th><th>Required</th><th>Description</th></tr></thead><tbody><tr><td>symbol</td><td>String</td><td>true</td><td>symbol name</td></tr></tbody></table>"
   ]
  },
  {
   "cell_type": "code",
   "execution_count": 26,
   "id": "3aea6764-75ee-4c69-880d-a460639b02fd",
   "metadata": {},
   "outputs": [
    {
     "data": {
      "text/plain": [
       "'https://api.poloniex.com/markets/ETH_BTC/ticker24h'"
      ]
     },
     "execution_count": 26,
     "metadata": {},
     "output_type": "execute_result"
    }
   ],
   "source": [
    "ticker_symbol_url = f\"https://api.poloniex.com/markets/{symbol}/ticker24h\"\n",
    "ticker_symbol_url"
   ]
  },
  {
   "cell_type": "code",
   "execution_count": 30,
   "id": "8a7a681a-1fdb-41b0-85ca-7f590bc05e9a",
   "metadata": {},
   "outputs": [
    {
     "data": {
      "text/plain": [
       "{'symbol': 'ETH_BTC',\n",
       " 'open': '0.04189',\n",
       " 'low': '0.041',\n",
       " 'high': '0.04197',\n",
       " 'close': '0.04129',\n",
       " 'quantity': '17.445',\n",
       " 'amount': '0.72086824',\n",
       " 'tradeCount': 1211,\n",
       " 'startTime': 1725887760000,\n",
       " 'closeTime': 1725974192559,\n",
       " 'displayName': 'ETH/BTC',\n",
       " 'dailyChange': '-0.0143',\n",
       " 'bid': '0.04112',\n",
       " 'bidQuantity': '1.724',\n",
       " 'ask': '0.04129',\n",
       " 'askQuantity': '0.023',\n",
       " 'ts': 1725974193462,\n",
       " 'markPrice': '0.04117'}"
      ]
     },
     "execution_count": 30,
     "metadata": {},
     "output_type": "execute_result"
    }
   ],
   "source": [
    "prices_json = get_json_from_request(ticker_symbol_url)\n",
    "prices_json"
   ]
  },
  {
   "cell_type": "code",
   "execution_count": null,
   "id": "4080cf68-e037-43d2-87aa-7c2e96f554d7",
   "metadata": {},
   "outputs": [],
   "source": []
  }
 ],
 "metadata": {
  "kernelspec": {
   "display_name": "Python 3 (ipykernel)",
   "language": "python",
   "name": "python3"
  },
  "language_info": {
   "codemirror_mode": {
    "name": "ipython",
    "version": 3
   },
   "file_extension": ".py",
   "mimetype": "text/x-python",
   "name": "python",
   "nbconvert_exporter": "python",
   "pygments_lexer": "ipython3",
   "version": "3.12.4"
  }
 },
 "nbformat": 4,
 "nbformat_minor": 5
}
