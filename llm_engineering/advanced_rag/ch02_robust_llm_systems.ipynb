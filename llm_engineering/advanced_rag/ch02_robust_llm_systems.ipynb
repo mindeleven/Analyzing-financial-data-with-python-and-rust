{
 "cells": [
  {
   "cell_type": "markdown",
   "id": "aca96477-307e-492a-b7f9-0aab94c0d231",
   "metadata": {},
   "source": [
    "# Making LLM Powered Systems More Robust"
   ]
  },
  {
   "cell_type": "markdown",
   "id": "fc8ed786-2d09-4ce5-a827-6797f1a36de0",
   "metadata": {},
   "source": [
    "## Calling OpenAI"
   ]
  },
  {
   "cell_type": "code",
   "execution_count": 3,
   "id": "32402456-c23b-4d6a-b67e-82f2f5219067",
   "metadata": {},
   "outputs": [],
   "source": [
    "import pandas as pd\n",
    "from openai import OpenAI"
   ]
  },
  {
   "cell_type": "code",
   "execution_count": 4,
   "id": "aeac2c6f-3b2b-4f8c-97c8-5e6dd29e46ef",
   "metadata": {},
   "outputs": [
    {
     "name": "stdout",
     "output_type": "stream",
     "text": [
      "Don't be a fool and sent your api key to github\n"
     ]
    }
   ],
   "source": [
    "api_key = pd.read_csv(\"~/tmp/chat_gpt/agentic-design-1.txt\", sep=\" \", header=None)[0][0]\n",
    "print(\"Don't be a fool and sent your api key to github\")"
   ]
  },
  {
   "cell_type": "code",
   "execution_count": 6,
   "id": "7f138183-61bb-49df-89b4-5f1f7310eb66",
   "metadata": {},
   "outputs": [],
   "source": [
    "client = OpenAI(api_key=api_key)"
   ]
  },
  {
   "cell_type": "code",
   "execution_count": null,
   "id": "2c276aad-f2d6-43d2-a800-c0492f5c9aad",
   "metadata": {},
   "outputs": [],
   "source": [
    "# https://platform.openai.com/docs/guides/text-generation/quickstart?lang=python\n",
    "completion = client.chat.completions.create(\n",
    "    model=\"gpt-4o\",\n",
    "    messages=[\n",
    "        {\n",
    "            \"role\": \n",
    "            \"system\", \"content\": \"You are a helpful assistant.\"},\n",
    "        {\n",
    "            \"role\": \"user\",\n",
    "            \"content\": \"Write a haiku about recursion in programming.\"\n",
    "        }\n",
    "    ]\n",
    ")"
   ]
  }
 ],
 "metadata": {
  "kernelspec": {
   "display_name": "Python 3 (ipykernel)",
   "language": "python",
   "name": "python3"
  },
  "language_info": {
   "codemirror_mode": {
    "name": "ipython",
    "version": 3
   },
   "file_extension": ".py",
   "mimetype": "text/x-python",
   "name": "python",
   "nbconvert_exporter": "python",
   "pygments_lexer": "ipython3",
   "version": "3.12.7"
  }
 },
 "nbformat": 4,
 "nbformat_minor": 5
}
