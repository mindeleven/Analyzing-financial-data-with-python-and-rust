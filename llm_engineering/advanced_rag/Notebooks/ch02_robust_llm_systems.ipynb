{
 "cells": [
  {
   "cell_type": "markdown",
   "id": "aca96477-307e-492a-b7f9-0aab94c0d231",
   "metadata": {},
   "source": [
    "# Making LLM Powered Systems More Robust"
   ]
  },
  {
   "cell_type": "markdown",
   "id": "a8e6b9f7-0caa-4895-8b34-4187a11a0ab2",
   "metadata": {},
   "source": [
    "*[Coding along with the Udemy Course [Advanced Retrieval Augmented Generation ](https://www.udemy.com/course/advanced-retrieval-augmented-generation/) by Rémi Connesson]*"
   ]
  },
  {
   "cell_type": "markdown",
   "id": "fc8ed786-2d09-4ce5-a827-6797f1a36de0",
   "metadata": {},
   "source": [
    "## Calling OpenAI"
   ]
  },
  {
   "cell_type": "code",
   "execution_count": 15,
   "id": "32402456-c23b-4d6a-b67e-82f2f5219067",
   "metadata": {},
   "outputs": [],
   "source": [
    "import pandas as pd\n",
    "from openai import OpenAI"
   ]
  },
  {
   "cell_type": "code",
   "execution_count": 16,
   "id": "aeac2c6f-3b2b-4f8c-97c8-5e6dd29e46ef",
   "metadata": {},
   "outputs": [
    {
     "name": "stdout",
     "output_type": "stream",
     "text": [
      "Don't be a fool and sent your api key to github\n"
     ]
    }
   ],
   "source": [
    "api_key = pd.read_csv(\"~/tmp/chat_gpt/agentic-design-1.txt\", sep=\" \", header=None)[0][0]\n",
    "print(\"Don't be a fool and sent your api key to github\")"
   ]
  },
  {
   "cell_type": "code",
   "execution_count": 17,
   "id": "7f138183-61bb-49df-89b4-5f1f7310eb66",
   "metadata": {},
   "outputs": [],
   "source": [
    "client = OpenAI(api_key=api_key)"
   ]
  },
  {
   "cell_type": "code",
   "execution_count": 18,
   "id": "a0de6d75-2b01-4dec-951a-44b99dfe61af",
   "metadata": {},
   "outputs": [],
   "source": [
    "def _msg(role, content):\n",
    "    return {'role': role, 'content': content}\n",
    "\n",
    "def system(content):\n",
    "    return _msg('system', content)\n",
    "\n",
    "def user(content):\n",
    "    return _msg('user', content)\n",
    "\n",
    "def assistant(content):\n",
    "    return _msg('assistant', content)"
   ]
  },
  {
   "cell_type": "code",
   "execution_count": 19,
   "id": "f0a71e3d-da66-4838-96d9-c418cb377aab",
   "metadata": {},
   "outputs": [],
   "source": [
    "chat_history = [\n",
    "    system(\"You are a helpful assistant.\"),\n",
    "    user(\"Hey, what is Python?\"),\n",
    "    assistant(\"Python is a good programming language\"),\n",
    "    user(\"Why so....???\"),\n",
    "]"
   ]
  },
  {
   "cell_type": "code",
   "execution_count": 20,
   "id": "27ac5cf7-4a2f-49e8-a2bd-77f05180a8b9",
   "metadata": {},
   "outputs": [],
   "source": [
    "from pprint import pprint"
   ]
  },
  {
   "cell_type": "code",
   "execution_count": 21,
   "id": "e827c673-3d26-45b4-b125-542dc9034ce0",
   "metadata": {},
   "outputs": [
    {
     "name": "stdout",
     "output_type": "stream",
     "text": [
      "[{'content': 'You are a helpful assistant.', 'role': 'system'},\n",
      " {'content': 'Hey, what is Python?', 'role': 'user'},\n",
      " {'content': 'Python is a good programming language', 'role': 'assistant'},\n",
      " {'content': 'Why so....???', 'role': 'user'}]\n"
     ]
    }
   ],
   "source": [
    "pprint(chat_history)"
   ]
  },
  {
   "cell_type": "code",
   "execution_count": 8,
   "id": "6497f0ec-8a4b-4868-af5d-a1a454018366",
   "metadata": {},
   "outputs": [],
   "source": [
    "completion = client.chat.completions.create(\n",
    "    model = \"gpt-4o-mini\",\n",
    "    messages = chat_history\n",
    ")"
   ]
  },
  {
   "cell_type": "code",
   "execution_count": 9,
   "id": "4ec91798-7dc8-4106-96dc-1364d1befa26",
   "metadata": {},
   "outputs": [
    {
     "data": {
      "text/plain": [
       "ChatCompletion(id='chatcmpl-ANGyKbDQWTH04iUCwhvinKTBrqzH7', choices=[Choice(finish_reason='stop', index=0, logprobs=None, message=ChatCompletionMessage(content=\"Python is considered a good programming language for several reasons:\\n\\n1. **Readability and Simplicity**: Python's syntax is clean and straightforward, making it easier for beginners to read and write code. This emphasis on readability helps new developers learn programming concepts more quickly.\\n\\n2. **Versatility**: Python is a general-purpose programming language, meaning it can be used for a wide variety of applications, including web development, data analysis, artificial intelligence, machine learning, automation, scientific computing, and more.\\n\\n3. **Large Standard Library**: Python has a vast standard library that provides many modules and functions for various tasks, enabling developers to perform operations without needing to write code from scratch.\\n\\n4. **Rich Ecosystem of Libraries and Frameworks**: There are numerous third-party libraries and frameworks available for Python, such as NumPy and pandas for data analysis, Django and Flask for web development, TensorFlow and PyTorch for machine learning, which extend its functionality and simplify complex tasks.\\n\\n5. **Cross-Platform Compatibility**: Python works on multiple operating systems, including Windows, macOS, and Linux, allowing developers to run their code on different platforms without significant changes.\\n\\n6. **Strong Community Support**: Python has a large and active community that contributes to its development, creates tutorials, shares code, and helps with troubleshooting. This community support makes it easier for learners to find resources and get help.\\n\\n7. **Integration Capabilities**: Python can be integrated with other programming languages, allowing developers to use it in conjunction with languages like C, C++, and Java. This makes it a flexible choice for many projects.\\n\\n8. **Growing Popularity**: Python has seen significant growth in popularity over the years, particularly in areas like data science and machine learning, leading to a high demand for Python developers in the job market.\\n\\nThese attributes make Python an attractive choice for both beginners and experienced programmers.\", refusal=None, role='assistant', audio=None, function_call=None, tool_calls=None))], created=1730110148, model='gpt-4o-mini-2024-07-18', object='chat.completion', service_tier=None, system_fingerprint='fp_f59a81427f', usage=CompletionUsage(completion_tokens=384, prompt_tokens=41, total_tokens=425, completion_tokens_details=CompletionTokensDetails(audio_tokens=None, reasoning_tokens=0), prompt_tokens_details=PromptTokensDetails(audio_tokens=None, cached_tokens=0)))"
      ]
     },
     "execution_count": 9,
     "metadata": {},
     "output_type": "execute_result"
    }
   ],
   "source": [
    "completion"
   ]
  },
  {
   "cell_type": "code",
   "execution_count": 10,
   "id": "85c1c103-5b37-4647-868a-aab3a35b8754",
   "metadata": {},
   "outputs": [
    {
     "data": {
      "text/plain": [
       "\"Python is considered a good programming language for several reasons:\\n\\n1. **Readability and Simplicity**: Python's syntax is clean and straightforward, making it easier for beginners to read and write code. This emphasis on readability helps new developers learn programming concepts more quickly.\\n\\n2. **Versatility**: Python is a general-purpose programming language, meaning it can be used for a wide variety of applications, including web development, data analysis, artificial intelligence, machine learning, automation, scientific computing, and more.\\n\\n3. **Large Standard Library**: Python has a vast standard library that provides many modules and functions for various tasks, enabling developers to perform operations without needing to write code from scratch.\\n\\n4. **Rich Ecosystem of Libraries and Frameworks**: There are numerous third-party libraries and frameworks available for Python, such as NumPy and pandas for data analysis, Django and Flask for web development, TensorFlow and PyTorch for machine learning, which extend its functionality and simplify complex tasks.\\n\\n5. **Cross-Platform Compatibility**: Python works on multiple operating systems, including Windows, macOS, and Linux, allowing developers to run their code on different platforms without significant changes.\\n\\n6. **Strong Community Support**: Python has a large and active community that contributes to its development, creates tutorials, shares code, and helps with troubleshooting. This community support makes it easier for learners to find resources and get help.\\n\\n7. **Integration Capabilities**: Python can be integrated with other programming languages, allowing developers to use it in conjunction with languages like C, C++, and Java. This makes it a flexible choice for many projects.\\n\\n8. **Growing Popularity**: Python has seen significant growth in popularity over the years, particularly in areas like data science and machine learning, leading to a high demand for Python developers in the job market.\\n\\nThese attributes make Python an attractive choice for both beginners and experienced programmers.\""
      ]
     },
     "execution_count": 10,
     "metadata": {},
     "output_type": "execute_result"
    }
   ],
   "source": [
    "chat_msg = completion.choices[0].message.content # getting the message out of the completion object\n",
    "chat_msg"
   ]
  },
  {
   "cell_type": "code",
   "execution_count": 11,
   "id": "0a24f3e5-5926-4b1e-9da0-c8c8e5532c5c",
   "metadata": {},
   "outputs": [],
   "source": [
    "chat_history.append(\n",
    "    assistant(chat_msg)\n",
    ")"
   ]
  },
  {
   "cell_type": "code",
   "execution_count": 12,
   "id": "2a32a79c-160b-481f-a2f3-7e0838ca19b5",
   "metadata": {},
   "outputs": [],
   "source": [
    "chat_history.append(\n",
    "    user(\"What about typescript?\")\n",
    ")"
   ]
  },
  {
   "cell_type": "code",
   "execution_count": 13,
   "id": "ad810c2c-49cb-4cdf-ac51-133f8262685b",
   "metadata": {},
   "outputs": [
    {
     "name": "stdout",
     "output_type": "stream",
     "text": [
      "[{'content': 'You are a helpful assistant.', 'role': 'system'},\n",
      " {'content': 'Hey, what is Python?', 'role': 'user'},\n",
      " {'content': 'Python is a good programming language', 'role': 'assistant'},\n",
      " {'content': 'Why so....???', 'role': 'user'},\n",
      " {'content': 'Python is considered a good programming language for several '\n",
      "             'reasons:\\n'\n",
      "             '\\n'\n",
      "             \"1. **Readability and Simplicity**: Python's syntax is clean and \"\n",
      "             'straightforward, making it easier for beginners to read and '\n",
      "             'write code. This emphasis on readability helps new developers '\n",
      "             'learn programming concepts more quickly.\\n'\n",
      "             '\\n'\n",
      "             '2. **Versatility**: Python is a general-purpose programming '\n",
      "             'language, meaning it can be used for a wide variety of '\n",
      "             'applications, including web development, data analysis, '\n",
      "             'artificial intelligence, machine learning, automation, '\n",
      "             'scientific computing, and more.\\n'\n",
      "             '\\n'\n",
      "             '3. **Large Standard Library**: Python has a vast standard '\n",
      "             'library that provides many modules and functions for various '\n",
      "             'tasks, enabling developers to perform operations without needing '\n",
      "             'to write code from scratch.\\n'\n",
      "             '\\n'\n",
      "             '4. **Rich Ecosystem of Libraries and Frameworks**: There are '\n",
      "             'numerous third-party libraries and frameworks available for '\n",
      "             'Python, such as NumPy and pandas for data analysis, Django and '\n",
      "             'Flask for web development, TensorFlow and PyTorch for machine '\n",
      "             'learning, which extend its functionality and simplify complex '\n",
      "             'tasks.\\n'\n",
      "             '\\n'\n",
      "             '5. **Cross-Platform Compatibility**: Python works on multiple '\n",
      "             'operating systems, including Windows, macOS, and Linux, allowing '\n",
      "             'developers to run their code on different platforms without '\n",
      "             'significant changes.\\n'\n",
      "             '\\n'\n",
      "             '6. **Strong Community Support**: Python has a large and active '\n",
      "             'community that contributes to its development, creates '\n",
      "             'tutorials, shares code, and helps with troubleshooting. This '\n",
      "             'community support makes it easier for learners to find resources '\n",
      "             'and get help.\\n'\n",
      "             '\\n'\n",
      "             '7. **Integration Capabilities**: Python can be integrated with '\n",
      "             'other programming languages, allowing developers to use it in '\n",
      "             'conjunction with languages like C, C++, and Java. This makes it '\n",
      "             'a flexible choice for many projects.\\n'\n",
      "             '\\n'\n",
      "             '8. **Growing Popularity**: Python has seen significant growth in '\n",
      "             'popularity over the years, particularly in areas like data '\n",
      "             'science and machine learning, leading to a high demand for '\n",
      "             'Python developers in the job market.\\n'\n",
      "             '\\n'\n",
      "             'These attributes make Python an attractive choice for both '\n",
      "             'beginners and experienced programmers.',\n",
      "  'role': 'assistant'},\n",
      " {'content': 'What about typescript?', 'role': 'user'}]\n"
     ]
    }
   ],
   "source": [
    "pprint(chat_history)"
   ]
  },
  {
   "cell_type": "code",
   "execution_count": 14,
   "id": "8479cb9d-06ec-44dc-bbed-bd233eb7930e",
   "metadata": {},
   "outputs": [
    {
     "data": {
      "text/plain": [
       "ChatCompletion(id='chatcmpl-ANHE38mGIVTe5DcgHOORmU77lDmqg', choices=[Choice(finish_reason='stop', index=0, logprobs=None, message=ChatCompletionMessage(content='TypeScript is a programming language developed and maintained by Microsoft. It is a superset of JavaScript, meaning that any valid JavaScript code is also valid TypeScript code. TypeScript adds several features to improve the development process, especially for larger codebases. Here are some key aspects of TypeScript:\\n\\n1. **Static Typing**: One of the most significant features of TypeScript is its optional static type system. Developers can define types for variables, function parameters, return values, and more. This helps catch type-related errors during development rather than at runtime.\\n\\n2. **Type Inference**: Even if you don’t explicitly specify types, TypeScript can often infer the types of variables based on their values and contexts, thus providing a balance between strict type-checking and the flexibility of JavaScript.\\n\\n3. **Improved Tooling**: TypeScript enhances the development experience by providing better tooling support, including autocompletion, code navigation, and refactoring tools in modern IDEs. This is particularly useful in large projects, where understanding code structure can be challenging.\\n\\n4. **Compatibility with JavaScript**: Since TypeScript is a superset of JavaScript, developers can gradually adopt TypeScript in their existing JavaScript projects. You can start with JavaScript and incrementally convert files to TypeScript.\\n\\n5. **Modern Features**: TypeScript can use modern JavaScript features (such as ES6 and beyond) and transpires them into a form that can run in older JavaScript environments. This allows developers to use the latest language features while maintaining compatibility with various platforms.\\n\\n6. **Interfaces and Generics**: TypeScript supports features like interfaces and generics, which enable more robust code organization and reusability.\\n\\n7. **Large Community and Ecosystem**: TypeScript has gained significant popularity, especially for large-scale, enterprise-level applications. It has a growing ecosystem, with many libraries and frameworks, including Angular, being built with TypeScript in mind.\\n\\n8. **Strong Community Support**: Like Python, TypeScript has an active community that contributes to its development and provides resources, tutorials, and libraries for developers.\\n\\nTypeScript is particularly popular in the web development community, particularly for building complex applications and working with frameworks like Angular, React, and Vue.js. Its static typing system helps manage the complexity associated with larger codebases, making it easier for teams to collaborate and maintain code.', refusal=None, role='assistant', audio=None, function_call=None, tool_calls=None))], created=1730111123, model='gpt-4o-mini-2024-07-18', object='chat.completion', service_tier=None, system_fingerprint='fp_f59a81427f', usage=CompletionUsage(completion_tokens=486, prompt_tokens=438, total_tokens=924, completion_tokens_details=CompletionTokensDetails(audio_tokens=None, reasoning_tokens=0), prompt_tokens_details=PromptTokensDetails(audio_tokens=None, cached_tokens=0)))"
      ]
     },
     "execution_count": 14,
     "metadata": {},
     "output_type": "execute_result"
    }
   ],
   "source": [
    "completion_2 = client.chat.completions.create(\n",
    "    model = \"gpt-4o-mini\",\n",
    "    messages = chat_history\n",
    ")\n",
    "completion_2"
   ]
  },
  {
   "cell_type": "code",
   "execution_count": null,
   "id": "646c7db5-c3c2-4a29-9140-5d77d797ee92",
   "metadata": {},
   "outputs": [],
   "source": []
  }
 ],
 "metadata": {
  "kernelspec": {
   "display_name": "Python 3 (ipykernel)",
   "language": "python",
   "name": "python3"
  },
  "language_info": {
   "codemirror_mode": {
    "name": "ipython",
    "version": 3
   },
   "file_extension": ".py",
   "mimetype": "text/x-python",
   "name": "python",
   "nbconvert_exporter": "python",
   "pygments_lexer": "ipython3",
   "version": "3.12.7"
  }
 },
 "nbformat": 4,
 "nbformat_minor": 5
}
