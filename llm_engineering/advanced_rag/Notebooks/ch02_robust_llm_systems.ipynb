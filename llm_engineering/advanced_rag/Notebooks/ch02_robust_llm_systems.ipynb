{
 "cells": [
  {
   "cell_type": "markdown",
   "id": "aca96477-307e-492a-b7f9-0aab94c0d231",
   "metadata": {},
   "source": [
    "# Making LLM Powered Systems More Robust"
   ]
  },
  {
   "cell_type": "markdown",
   "id": "a8e6b9f7-0caa-4895-8b34-4187a11a0ab2",
   "metadata": {},
   "source": [
    "*[Coding along with the Udemy Course [Advanced Retrieval Augmented Generation ](https://www.udemy.com/course/advanced-retrieval-augmented-generation/) by Rémi Connesson]*"
   ]
  },
  {
   "cell_type": "markdown",
   "id": "fc8ed786-2d09-4ce5-a827-6797f1a36de0",
   "metadata": {},
   "source": [
    "## Calling OpenAI"
   ]
  },
  {
   "cell_type": "code",
   "execution_count": 1,
   "id": "32402456-c23b-4d6a-b67e-82f2f5219067",
   "metadata": {},
   "outputs": [],
   "source": [
    "import pandas as pd\n",
    "from openai import OpenAI"
   ]
  },
  {
   "cell_type": "code",
   "execution_count": 2,
   "id": "aeac2c6f-3b2b-4f8c-97c8-5e6dd29e46ef",
   "metadata": {},
   "outputs": [
    {
     "name": "stdout",
     "output_type": "stream",
     "text": [
      "Don't be a fool and sent your api key to github\n"
     ]
    }
   ],
   "source": [
    "api_key = pd.read_csv(\"~/tmp/chat_gpt/agentic-design-1.txt\", sep=\" \", header=None)[0][0]\n",
    "print(\"Don't be a fool and sent your api key to github\")"
   ]
  },
  {
   "cell_type": "code",
   "execution_count": 3,
   "id": "7f138183-61bb-49df-89b4-5f1f7310eb66",
   "metadata": {},
   "outputs": [],
   "source": [
    "client = OpenAI(api_key=api_key)"
   ]
  },
  {
   "cell_type": "code",
   "execution_count": 17,
   "id": "a0de6d75-2b01-4dec-951a-44b99dfe61af",
   "metadata": {},
   "outputs": [],
   "source": [
    "def _msg(role, content):\n",
    "    return {'role': role, 'content': content}\n",
    "\n",
    "def system(content):\n",
    "    return _msg('system', content)\n",
    "\n",
    "def user(content):\n",
    "    return _msg('user', content)\n",
    "\n",
    "def assistant(content):\n",
    "    return _msg('assistant', content)"
   ]
  },
  {
   "cell_type": "code",
   "execution_count": 18,
   "id": "f0a71e3d-da66-4838-96d9-c418cb377aab",
   "metadata": {},
   "outputs": [],
   "source": [
    "chat_history = [\n",
    "    system(\"You are a helpful assistant.\"),\n",
    "    user(\"Hey, what is Python?\"),\n",
    "    assistant(\"Python is a good programming language\"),\n",
    "    user(\"Why so....???\"),\n",
    "]"
   ]
  },
  {
   "cell_type": "code",
   "execution_count": 19,
   "id": "27ac5cf7-4a2f-49e8-a2bd-77f05180a8b9",
   "metadata": {},
   "outputs": [],
   "source": [
    "from pprint import pprint"
   ]
  },
  {
   "cell_type": "code",
   "execution_count": 20,
   "id": "e827c673-3d26-45b4-b125-542dc9034ce0",
   "metadata": {},
   "outputs": [
    {
     "name": "stdout",
     "output_type": "stream",
     "text": [
      "[{'content': 'You are a helpful assistant.', 'role': 'system'},\n",
      " {'content': 'Hey, what is Python?', 'role': 'user'},\n",
      " {'content': 'Python is a good programming language', 'role': 'assistant'},\n",
      " {'content': 'Why so....???', 'role': 'user'}]\n"
     ]
    }
   ],
   "source": [
    "pprint(chat_history)"
   ]
  },
  {
   "cell_type": "code",
   "execution_count": 22,
   "id": "6497f0ec-8a4b-4868-af5d-a1a454018366",
   "metadata": {},
   "outputs": [],
   "source": [
    "completion = client.chat.completions.create(\n",
    "    model = \"gpt-4o-mini\",\n",
    "    messages = chat_history\n",
    ")"
   ]
  },
  {
   "cell_type": "code",
   "execution_count": 23,
   "id": "4ec91798-7dc8-4106-96dc-1364d1befa26",
   "metadata": {},
   "outputs": [
    {
     "data": {
      "text/plain": [
       "ChatCompletion(id='chatcmpl-AKhpV7HuIZadDJAVI1YRmJHBnsnFg', choices=[Choice(finish_reason='stop', index=0, logprobs=None, message=ChatCompletionMessage(content='Python is considered a good programming language for several reasons:\\n\\n1. **Readability and Simplicity**: Python has a clean and readable syntax, which makes it easy to learn and understand. This is particularly beneficial for beginners.\\n\\n2. **Versatility**: Python is a general-purpose programming language. It can be used for web development, data analysis, artificial intelligence, machine learning, automation, scientific computing, and more.\\n\\n3. **Large Community and Ecosystem**: Python has a large and active community of developers. This means there is a wealth of libraries and frameworks available for various applications, such as Flask and Django for web development, NumPy and pandas for data manipulation, and TensorFlow and PyTorch for machine learning.\\n\\n4. **Cross-Platform Compatibility**: Python runs on various operating systems, including Windows, macOS, and Linux, making it highly portable.\\n\\n5. **Strong Support for Integration**: Python can easily integrate with other languages and technologies, allowing developers to use Python in conjunction with C, C++, Java, and others.\\n\\n6. **Great for Prototyping**: Python’s simplicity and speed in coding enable developers to create prototypes quickly and efficiently.\\n\\n7. **Extensive Libraries**: Python has a rich set of libraries for various tasks, which reduces the amount of code developers have to write.\\n\\n8. **Strong in Data Science and Machine Learning**: Python has become the go-to language for data science and machine learning due to frameworks and libraries like NumPy, pandas, SciPy, Matplotlib, scikit-learn, and TensorFlow.\\n\\nThese features make Python a popular choice for a wide range of applications and contribute to its status as one of the leading programming languages in the world.', refusal=None, role='assistant', audio=None, function_call=None, tool_calls=None))], created=1729498405, model='gpt-4o-mini-2024-07-18', object='chat.completion', service_tier=None, system_fingerprint='fp_482c22a7bc', usage=CompletionUsage(completion_tokens=351, prompt_tokens=41, total_tokens=392, completion_tokens_details=CompletionTokensDetails(audio_tokens=None, reasoning_tokens=0), prompt_tokens_details=PromptTokensDetails(audio_tokens=None, cached_tokens=0)))"
      ]
     },
     "execution_count": 23,
     "metadata": {},
     "output_type": "execute_result"
    }
   ],
   "source": [
    "completion"
   ]
  },
  {
   "cell_type": "code",
   "execution_count": 27,
   "id": "85c1c103-5b37-4647-868a-aab3a35b8754",
   "metadata": {},
   "outputs": [
    {
     "data": {
      "text/plain": [
       "'Python is considered a good programming language for several reasons:\\n\\n1. **Readability and Simplicity**: Python has a clean and readable syntax, which makes it easy to learn and understand. This is particularly beneficial for beginners.\\n\\n2. **Versatility**: Python is a general-purpose programming language. It can be used for web development, data analysis, artificial intelligence, machine learning, automation, scientific computing, and more.\\n\\n3. **Large Community and Ecosystem**: Python has a large and active community of developers. This means there is a wealth of libraries and frameworks available for various applications, such as Flask and Django for web development, NumPy and pandas for data manipulation, and TensorFlow and PyTorch for machine learning.\\n\\n4. **Cross-Platform Compatibility**: Python runs on various operating systems, including Windows, macOS, and Linux, making it highly portable.\\n\\n5. **Strong Support for Integration**: Python can easily integrate with other languages and technologies, allowing developers to use Python in conjunction with C, C++, Java, and others.\\n\\n6. **Great for Prototyping**: Python’s simplicity and speed in coding enable developers to create prototypes quickly and efficiently.\\n\\n7. **Extensive Libraries**: Python has a rich set of libraries for various tasks, which reduces the amount of code developers have to write.\\n\\n8. **Strong in Data Science and Machine Learning**: Python has become the go-to language for data science and machine learning due to frameworks and libraries like NumPy, pandas, SciPy, Matplotlib, scikit-learn, and TensorFlow.\\n\\nThese features make Python a popular choice for a wide range of applications and contribute to its status as one of the leading programming languages in the world.'"
      ]
     },
     "execution_count": 27,
     "metadata": {},
     "output_type": "execute_result"
    }
   ],
   "source": [
    "chat_msg = completion.choices[0].message.content # getting the message out of the completion object\n",
    "chat_msg"
   ]
  },
  {
   "cell_type": "code",
   "execution_count": 28,
   "id": "0a24f3e5-5926-4b1e-9da0-c8c8e5532c5c",
   "metadata": {},
   "outputs": [],
   "source": [
    "chat_history.append(\n",
    "    assistant(chat_msg)\n",
    ")"
   ]
  },
  {
   "cell_type": "code",
   "execution_count": 29,
   "id": "2a32a79c-160b-481f-a2f3-7e0838ca19b5",
   "metadata": {},
   "outputs": [],
   "source": [
    "chat_history.append(\n",
    "    user(\"What about typescript?\")\n",
    ")"
   ]
  },
  {
   "cell_type": "code",
   "execution_count": 30,
   "id": "ad810c2c-49cb-4cdf-ac51-133f8262685b",
   "metadata": {},
   "outputs": [
    {
     "name": "stdout",
     "output_type": "stream",
     "text": [
      "[{'content': 'You are a helpful assistant.', 'role': 'system'},\n",
      " {'content': 'Hey, what is Python?', 'role': 'user'},\n",
      " {'content': 'Python is a good programming language', 'role': 'assistant'},\n",
      " {'content': 'Why so....???', 'role': 'user'},\n",
      " {'content': 'Python is considered a good programming language for several '\n",
      "             'reasons:\\n'\n",
      "             '\\n'\n",
      "             '1. **Readability and Simplicity**: Python has a clean and '\n",
      "             'readable syntax, which makes it easy to learn and understand. '\n",
      "             'This is particularly beneficial for beginners.\\n'\n",
      "             '\\n'\n",
      "             '2. **Versatility**: Python is a general-purpose programming '\n",
      "             'language. It can be used for web development, data analysis, '\n",
      "             'artificial intelligence, machine learning, automation, '\n",
      "             'scientific computing, and more.\\n'\n",
      "             '\\n'\n",
      "             '3. **Large Community and Ecosystem**: Python has a large and '\n",
      "             'active community of developers. This means there is a wealth of '\n",
      "             'libraries and frameworks available for various applications, '\n",
      "             'such as Flask and Django for web development, NumPy and pandas '\n",
      "             'for data manipulation, and TensorFlow and PyTorch for machine '\n",
      "             'learning.\\n'\n",
      "             '\\n'\n",
      "             '4. **Cross-Platform Compatibility**: Python runs on various '\n",
      "             'operating systems, including Windows, macOS, and Linux, making '\n",
      "             'it highly portable.\\n'\n",
      "             '\\n'\n",
      "             '5. **Strong Support for Integration**: Python can easily '\n",
      "             'integrate with other languages and technologies, allowing '\n",
      "             'developers to use Python in conjunction with C, C++, Java, and '\n",
      "             'others.\\n'\n",
      "             '\\n'\n",
      "             '6. **Great for Prototyping**: Python’s simplicity and speed in '\n",
      "             'coding enable developers to create prototypes quickly and '\n",
      "             'efficiently.\\n'\n",
      "             '\\n'\n",
      "             '7. **Extensive Libraries**: Python has a rich set of libraries '\n",
      "             'for various tasks, which reduces the amount of code developers '\n",
      "             'have to write.\\n'\n",
      "             '\\n'\n",
      "             '8. **Strong in Data Science and Machine Learning**: Python has '\n",
      "             'become the go-to language for data science and machine learning '\n",
      "             'due to frameworks and libraries like NumPy, pandas, SciPy, '\n",
      "             'Matplotlib, scikit-learn, and TensorFlow.\\n'\n",
      "             '\\n'\n",
      "             'These features make Python a popular choice for a wide range of '\n",
      "             'applications and contribute to its status as one of the leading '\n",
      "             'programming languages in the world.',\n",
      "  'role': 'assistant'},\n",
      " {'content': 'What about typescript?', 'role': 'user'}]\n"
     ]
    }
   ],
   "source": [
    "pprint(chat_history)"
   ]
  },
  {
   "cell_type": "code",
   "execution_count": 31,
   "id": "8479cb9d-06ec-44dc-bbed-bd233eb7930e",
   "metadata": {},
   "outputs": [
    {
     "data": {
      "text/plain": [
       "ChatCompletion(id='chatcmpl-AKi2T1YJLCqcyDuSmpAIGrLy98FUJ', choices=[Choice(finish_reason='stop', index=0, logprobs=None, message=ChatCompletionMessage(content='TypeScript is a strongly typed superset of JavaScript that adds optional static typing to the language. It was developed by Microsoft and has gained significant popularity among developers, especially in the context of building large-scale web applications. Here are some key features and benefits of TypeScript:\\n\\n1. **Static Typing**: TypeScript introduces static type definitions that allow developers to specify the types of variables, function parameters, and return values. This can help catch errors at compile time rather than runtime, leading to more robust code.\\n\\n2. **Enhanced Code Quality and Maintainability**: With static typing and interfaces, TypeScript makes it easier to manage codebases, especially in larger projects. It improves readability and maintainability, as the types serve as documentation for the API.\\n\\n3. **Compatibility with JavaScript**: TypeScript is a superset of JavaScript, which means any valid JavaScript code is also valid TypeScript code. This makes it easy for developers to gradually adopt TypeScript in existing JavaScript projects.\\n\\n4. **Better Tooling and IDE Support**: TypeScript provides excellent tooling with features like autocompletion, navigation, refactoring, and intelligent code suggestions in IDEs. This enhances the developer experience.\\n\\n5. **Object-Oriented Programming Features**: TypeScript supports modern programming paradigms, including classes, interfaces, inheritance, and generics, making it easier to apply object-oriented principles.\\n\\n6. **Large Ecosystem**: Since TypeScript builds on JavaScript, it can utilize the vast ecosystem of existing JavaScript libraries and frameworks (like React, Angular, and Vue). Many popular frameworks have adopted TypeScript, leading to rich community support.\\n\\n7. **Improved Collaboration**: The explicit typing makes it easier for teams to collaborate, as different developers working on the same codebase have better insights into how different parts of the code interact.\\n\\n8. **Type Inference**: TypeScript can often infer types automatically, allowing developers to enjoy the benefits of static typing without needing to write extensive type annotations.\\n\\n9. **Popular in Modern Development**: TypeScript has become a standard choice in modern web development, particularly for enterprise-level applications, due to its ability to enhance productivity and code quality.\\n\\nIn summary, TypeScript provides a powerful way to enhance JavaScript development with types and modern programming features, making it a popular choice for developers working on web applications.', refusal=None, role='assistant', audio=None, function_call=None, tool_calls=None))], created=1729499209, model='gpt-4o-mini-2024-07-18', object='chat.completion', service_tier=None, system_fingerprint='fp_482c22a7bc', usage=CompletionUsage(completion_tokens=479, prompt_tokens=405, total_tokens=884, completion_tokens_details=CompletionTokensDetails(audio_tokens=None, reasoning_tokens=0), prompt_tokens_details=PromptTokensDetails(audio_tokens=None, cached_tokens=0)))"
      ]
     },
     "execution_count": 31,
     "metadata": {},
     "output_type": "execute_result"
    }
   ],
   "source": [
    "completion_2 = client.chat.completions.create(\n",
    "    model = \"gpt-4o-mini\",\n",
    "    messages = chat_history\n",
    ")\n",
    "completion_2"
   ]
  },
  {
   "cell_type": "code",
   "execution_count": null,
   "id": "646c7db5-c3c2-4a29-9140-5d77d797ee92",
   "metadata": {},
   "outputs": [],
   "source": []
  }
 ],
 "metadata": {
  "kernelspec": {
   "display_name": "Python 3 (ipykernel)",
   "language": "python",
   "name": "python3"
  },
  "language_info": {
   "codemirror_mode": {
    "name": "ipython",
    "version": 3
   },
   "file_extension": ".py",
   "mimetype": "text/x-python",
   "name": "python",
   "nbconvert_exporter": "python",
   "pygments_lexer": "ipython3",
   "version": "3.12.7"
  }
 },
 "nbformat": 4,
 "nbformat_minor": 5
}
