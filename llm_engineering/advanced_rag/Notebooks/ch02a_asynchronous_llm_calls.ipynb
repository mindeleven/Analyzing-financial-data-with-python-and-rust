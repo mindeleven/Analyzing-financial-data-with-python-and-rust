{
 "cells": [
  {
   "cell_type": "markdown",
   "id": "31d55628-1a4a-4334-a1a4-30f950e39c9c",
   "metadata": {},
   "source": [
    "## Asynchronous LLM calls"
   ]
  },
  {
   "cell_type": "markdown",
   "id": "401e697e-9c38-423e-97e3-e77d923fd419",
   "metadata": {},
   "source": [
    "*[Coding along with the Udemy Course [Advanced Retrieval Augmented Generation ](https://www.udemy.com/course/advanced-retrieval-augmented-generation/) by Rémi Connesson]*"
   ]
  },
  {
   "cell_type": "markdown",
   "id": "714b31e0-8e02-4685-86be-5f0bbc06f753",
   "metadata": {},
   "source": [
    "Calling the OpenAI API concurrently instead of sequentially."
   ]
  },
  {
   "cell_type": "code",
   "execution_count": 1,
   "id": "d9117337-cb96-49f4-bf0a-97eb463a6f02",
   "metadata": {},
   "outputs": [],
   "source": [
    "import pandas as pd\n",
    "from openai import AsyncOpenAI"
   ]
  },
  {
   "cell_type": "code",
   "execution_count": 2,
   "id": "f4ab7d5b-9af7-4e6a-82e7-2654ba976e8b",
   "metadata": {},
   "outputs": [
    {
     "name": "stdout",
     "output_type": "stream",
     "text": [
      "Don't be a fool and sent your api key to github\n"
     ]
    }
   ],
   "source": [
    "api_key = pd.read_csv(\"~/tmp/chat_gpt/agentic-design-1.txt\", sep=\" \", header=None)[0][0]\n",
    "print(\"Don't be a fool and sent your api key to github\")"
   ]
  },
  {
   "cell_type": "code",
   "execution_count": 3,
   "id": "160f026d-7624-4cfd-a1b1-a1a9a2fa420c",
   "metadata": {},
   "outputs": [],
   "source": [
    "client = AsyncOpenAI(api_key=api_key)"
   ]
  },
  {
   "cell_type": "code",
   "execution_count": 4,
   "id": "0d7feba7-55bd-4ff5-84ea-e1b637501c6e",
   "metadata": {},
   "outputs": [],
   "source": [
    "def _msg(role, content):\n",
    "    return {'role': role, 'content': content}\n",
    "\n",
    "def system(content):\n",
    "    return _msg('system', content)\n",
    "\n",
    "def user(content):\n",
    "    return _msg('user', content)\n",
    "\n",
    "def assistant(content):\n",
    "    return _msg('assistant', content)"
   ]
  },
  {
   "cell_type": "code",
   "execution_count": 5,
   "id": "1f544d87-98f6-48b2-a2e5-618794209a2e",
   "metadata": {},
   "outputs": [],
   "source": [
    "chat_history = [\n",
    "    system(\"You are a helpful assistant.\"),\n",
    "    user(\"Hey, what is Python?\"),\n",
    "    assistant(\"Python is a good programming language\"),\n",
    "    user(\"Why so....???\"),\n",
    "]"
   ]
  },
  {
   "cell_type": "code",
   "execution_count": 6,
   "id": "be914a0e-77ec-4d57-9bd4-27cf2cadac8e",
   "metadata": {},
   "outputs": [],
   "source": [
    "from pprint import pprint"
   ]
  },
  {
   "cell_type": "code",
   "execution_count": 7,
   "id": "e2440a63-585c-4627-8dfe-c2318df5b51b",
   "metadata": {},
   "outputs": [
    {
     "name": "stdout",
     "output_type": "stream",
     "text": [
      "[{'content': 'You are a helpful assistant.', 'role': 'system'},\n",
      " {'content': 'Hey, what is Python?', 'role': 'user'},\n",
      " {'content': 'Python is a good programming language', 'role': 'assistant'},\n",
      " {'content': 'Why so....???', 'role': 'user'}]\n"
     ]
    }
   ],
   "source": [
    "pprint(chat_history)"
   ]
  },
  {
   "cell_type": "code",
   "execution_count": 8,
   "id": "194bae28-694a-4db9-8df9-260f142e9d2e",
   "metadata": {},
   "outputs": [],
   "source": [
    "completion = await client.chat.completions.create(\n",
    "    model = \"gpt-4o-mini\",\n",
    "    messages = chat_history,\n",
    "    max_tokens = 50 # limit the output to safe costs\n",
    ") # returns a coroutine that's an awaitable so we need to put an await in front\n",
    "# <coroutine object AsyncCompletions.create at 0x1039706c0>"
   ]
  },
  {
   "cell_type": "code",
   "execution_count": 9,
   "id": "bf937c7a-80ef-4a4d-9e8b-b253f35b8ec0",
   "metadata": {},
   "outputs": [
    {
     "data": {
      "text/plain": [
       "ChatCompletion(id='chatcmpl-ANIDyrA0YgJWh7sjiRhHbjNk921sY', choices=[Choice(finish_reason='length', index=0, logprobs=None, message=ChatCompletionMessage(content='Python is considered a good programming language for several reasons:\\n\\n1. **Readability and Simplicity**: Python has a clean and easy-to-read syntax that resembles natural language, which makes it accessible for beginners. It emphasizes readability, which makes it', refusal=None, role='assistant', audio=None, function_call=None, tool_calls=None))], created=1730114962, model='gpt-4o-mini-2024-07-18', object='chat.completion', service_tier=None, system_fingerprint='fp_f59a81427f', usage=CompletionUsage(completion_tokens=50, prompt_tokens=41, total_tokens=91, completion_tokens_details=CompletionTokensDetails(audio_tokens=None, reasoning_tokens=0), prompt_tokens_details=PromptTokensDetails(audio_tokens=None, cached_tokens=0)))"
      ]
     },
     "execution_count": 9,
     "metadata": {},
     "output_type": "execute_result"
    }
   ],
   "source": [
    "completion # returns a coroutine that's an awaitable so we need to put an await in front"
   ]
  },
  {
   "cell_type": "code",
   "execution_count": 10,
   "id": "8ae60fc1-09a0-44cd-9fe9-c5805b68694f",
   "metadata": {},
   "outputs": [],
   "source": [
    "# making completions work concurrently with Python's asyncio library\n",
    "import asyncio"
   ]
  },
  {
   "cell_type": "code",
   "execution_count": 11,
   "id": "316f9140-2af5-4c66-971e-125087ea6a7a",
   "metadata": {},
   "outputs": [],
   "source": [
    "# making completions work concurrently\n",
    "completion_task_1 = client.chat.completions.create(\n",
    "    model = \"gpt-4o-mini\",\n",
    "    messages = chat_history,\n",
    "    max_tokens = 50 # limit the output to safe costs\n",
    ")\n",
    "\n",
    "completion_task_2 = client.chat.completions.create(\n",
    "    model = \"gpt-4o-mini\",\n",
    "    messages = chat_history,\n",
    "    max_tokens = 50 # limit the output to safe costs\n",
    ")"
   ]
  },
  {
   "cell_type": "code",
   "execution_count": 12,
   "id": "f256ee41-d2d7-408d-aed4-9c99f5406daf",
   "metadata": {},
   "outputs": [
    {
     "data": {
      "text/plain": [
       "(<coroutine object AsyncCompletions.create at 0x11e336600>,\n",
       " <coroutine object AsyncCompletions.create at 0x11e337c80>)"
      ]
     },
     "execution_count": 12,
     "metadata": {},
     "output_type": "execute_result"
    }
   ],
   "source": [
    "completion_task_1, completion_task_2 # two coroutines"
   ]
  },
  {
   "cell_type": "code",
   "execution_count": 13,
   "id": "216de5c2-4507-4871-ae99-d3ab36a6bc08",
   "metadata": {},
   "outputs": [],
   "source": [
    "# execution calls concurrently with asyncio's gather function\n",
    "results = await asyncio.gather(completion_task_1, completion_task_2)"
   ]
  },
  {
   "cell_type": "code",
   "execution_count": 14,
   "id": "08f18a20-df8f-48ec-9936-6bfc1b8561ac",
   "metadata": {},
   "outputs": [
    {
     "data": {
      "text/plain": [
       "[ChatCompletion(id='chatcmpl-ANIHuFwVWnC9RQ3c00NnHqDDASHL9', choices=[Choice(finish_reason='length', index=0, logprobs=None, message=ChatCompletionMessage(content=\"Python is considered a good programming language for several reasons:\\n\\n1. **Readability and Simplicity**: Python's syntax is designed to be clear and easy to read, which makes it accessible to beginners. This readability allows programmers to express concepts in\", refusal=None, role='assistant', audio=None, function_call=None, tool_calls=None))], created=1730115206, model='gpt-4o-mini-2024-07-18', object='chat.completion', service_tier=None, system_fingerprint='fp_f59a81427f', usage=CompletionUsage(completion_tokens=50, prompt_tokens=41, total_tokens=91, completion_tokens_details=CompletionTokensDetails(audio_tokens=None, reasoning_tokens=0), prompt_tokens_details=PromptTokensDetails(audio_tokens=None, cached_tokens=0))),\n",
       " ChatCompletion(id='chatcmpl-ANIHuONSdajtlpXEUQ3sM4n6pNOH1', choices=[Choice(finish_reason='length', index=0, logprobs=None, message=ChatCompletionMessage(content=\"Python is considered a good programming language for several reasons:\\n\\n1. **Readability and Simplicity**: Python's syntax is designed to be clean and easy to read, which makes it accessible for beginners and allows developers to express their concepts in fewer\", refusal=None, role='assistant', audio=None, function_call=None, tool_calls=None))], created=1730115206, model='gpt-4o-mini-2024-07-18', object='chat.completion', service_tier=None, system_fingerprint='fp_f59a81427f', usage=CompletionUsage(completion_tokens=50, prompt_tokens=41, total_tokens=91, completion_tokens_details=CompletionTokensDetails(audio_tokens=None, reasoning_tokens=0), prompt_tokens_details=PromptTokensDetails(audio_tokens=None, cached_tokens=0)))]"
      ]
     },
     "execution_count": 14,
     "metadata": {},
     "output_type": "execute_result"
    }
   ],
   "source": [
    "results"
   ]
  },
  {
   "cell_type": "code",
   "execution_count": 15,
   "id": "b76de256-7f5d-40e1-8dea-1c2f4fe38f10",
   "metadata": {},
   "outputs": [],
   "source": [
    "# now let's just create a list of tasks\n",
    "completion_tasks = []\n",
    "\n",
    "for i in range(50):\n",
    "    completion_task = client.chat.completions.create(\n",
    "        model = \"gpt-4o-mini\",\n",
    "        messages = chat_history,\n",
    "        max_tokens = 50 # limit the output to safe costs\n",
    "    )\n",
    "\n",
    "    completion_tasks.append(completion_task)"
   ]
  },
  {
   "cell_type": "code",
   "execution_count": 16,
   "id": "47094100-15de-4af4-bce0-26ab7541ee0e",
   "metadata": {},
   "outputs": [
    {
     "data": {
      "text/plain": [
       "50"
      ]
     },
     "execution_count": 16,
     "metadata": {},
     "output_type": "execute_result"
    }
   ],
   "source": [
    "len(completion_tasks) # list of coroutines"
   ]
  },
  {
   "cell_type": "code",
   "execution_count": 17,
   "id": "59053bee-ccbd-407f-adca-3cabe21a7d4a",
   "metadata": {},
   "outputs": [],
   "source": [
    "results_list = await asyncio.gather(*completion_tasks) # unpack them all with *"
   ]
  },
  {
   "cell_type": "code",
   "execution_count": 18,
   "id": "ed3bfb55-aa58-4fc5-88e2-88b20ccb4e8c",
   "metadata": {},
   "outputs": [
    {
     "data": {
      "text/plain": [
       "[ChatCompletion(id='chatcmpl-ANIKZh8uXBrk2HurJJAEwaCfAjWDO', choices=[Choice(finish_reason='length', index=0, logprobs=None, message=ChatCompletionMessage(content='Python is considered a good programming language for several reasons:\\n\\n1. **Readability and Simplicity**: Python has a clear and straightforward syntax that emphasizes readability. This makes it easier for both beginners and experienced programmers to understand and write code effectively.\\n\\n', refusal=None, role='assistant', audio=None, function_call=None, tool_calls=None))], created=1730115371, model='gpt-4o-mini-2024-07-18', object='chat.completion', service_tier=None, system_fingerprint='fp_f59a81427f', usage=CompletionUsage(completion_tokens=50, prompt_tokens=41, total_tokens=91, completion_tokens_details=CompletionTokensDetails(audio_tokens=None, reasoning_tokens=0), prompt_tokens_details=PromptTokensDetails(audio_tokens=None, cached_tokens=0))),\n",
       " ChatCompletion(id='chatcmpl-ANIKZPzPyker3Dlv0XO2rtU6RFChC', choices=[Choice(finish_reason='length', index=0, logprobs=None, message=ChatCompletionMessage(content='Python is considered a \"good\" programming language for several reasons:\\n\\n1. **Easy to Learn and Use**: Python has a clear and readable syntax, which makes it accessible for beginners and allows experienced programmers to write code more quickly.\\n\\n2. **', refusal=None, role='assistant', audio=None, function_call=None, tool_calls=None))], created=1730115371, model='gpt-4o-mini-2024-07-18', object='chat.completion', service_tier=None, system_fingerprint='fp_f59a81427f', usage=CompletionUsage(completion_tokens=50, prompt_tokens=41, total_tokens=91, completion_tokens_details=CompletionTokensDetails(audio_tokens=None, reasoning_tokens=0), prompt_tokens_details=PromptTokensDetails(audio_tokens=None, cached_tokens=0))),\n",
       " ChatCompletion(id='chatcmpl-ANIKZ4I2uB2nXWEJ96kU3JfuktKZP', choices=[Choice(finish_reason='length', index=0, logprobs=None, message=ChatCompletionMessage(content='Python is considered a good programming language for several reasons:\\n\\n1. **Readability and Simplicity**: Python has a clear and readable syntax that emphasizes readability. This makes it easier for beginners to learn and for experienced developers to maintain the code.\\n\\n', refusal=None, role='assistant', audio=None, function_call=None, tool_calls=None))], created=1730115371, model='gpt-4o-mini-2024-07-18', object='chat.completion', service_tier=None, system_fingerprint='fp_8bfc6a7dc2', usage=CompletionUsage(completion_tokens=50, prompt_tokens=41, total_tokens=91, completion_tokens_details=CompletionTokensDetails(audio_tokens=None, reasoning_tokens=0), prompt_tokens_details=PromptTokensDetails(audio_tokens=None, cached_tokens=0))),\n",
       " ChatCompletion(id='chatcmpl-ANIKZmgD9T2rHl4iZQ53W5E84Mb3q', choices=[Choice(finish_reason='length', index=0, logprobs=None, message=ChatCompletionMessage(content='Python is considered a good programming language for several reasons:\\n\\n1. **Readability and Simplicity**: Python has a clear and readable syntax that makes it easy to learn and understand, especially for beginners. This simplicity allows developers to write code more', refusal=None, role='assistant', audio=None, function_call=None, tool_calls=None))], created=1730115371, model='gpt-4o-mini-2024-07-18', object='chat.completion', service_tier=None, system_fingerprint='fp_8bfc6a7dc2', usage=CompletionUsage(completion_tokens=50, prompt_tokens=41, total_tokens=91, completion_tokens_details=CompletionTokensDetails(audio_tokens=None, reasoning_tokens=0), prompt_tokens_details=PromptTokensDetails(audio_tokens=None, cached_tokens=0))),\n",
       " ChatCompletion(id='chatcmpl-ANIKZPAnCxZcDBI9VMyxKRdCEH1ru', choices=[Choice(finish_reason='length', index=0, logprobs=None, message=ChatCompletionMessage(content=\"Python is considered a good programming language for several reasons:\\n\\n1. **Readability and Simplicity**: Python's syntax is clear and straightforward, making it easier for beginners to learn and understand. It emphasizes readability, which allows developers to write code\", refusal=None, role='assistant', audio=None, function_call=None, tool_calls=None))], created=1730115371, model='gpt-4o-mini-2024-07-18', object='chat.completion', service_tier=None, system_fingerprint='fp_f59a81427f', usage=CompletionUsage(completion_tokens=50, prompt_tokens=41, total_tokens=91, completion_tokens_details=CompletionTokensDetails(audio_tokens=None, reasoning_tokens=0), prompt_tokens_details=PromptTokensDetails(audio_tokens=None, cached_tokens=0))),\n",
       " ChatCompletion(id='chatcmpl-ANIKZb26Wtpm7It1d4nlwDxx2yxDR', choices=[Choice(finish_reason='length', index=0, logprobs=None, message=ChatCompletionMessage(content='Python is considered a good programming language for several reasons:\\n\\n1. **Readability and Simplicity**: Python’s syntax is clear and easy to understand, which makes it accessible for beginners. This readability promotes better understanding and more maintainable code.\\n\\n', refusal=None, role='assistant', audio=None, function_call=None, tool_calls=None))], created=1730115371, model='gpt-4o-mini-2024-07-18', object='chat.completion', service_tier=None, system_fingerprint='fp_f59a81427f', usage=CompletionUsage(completion_tokens=50, prompt_tokens=41, total_tokens=91, completion_tokens_details=CompletionTokensDetails(audio_tokens=None, reasoning_tokens=0), prompt_tokens_details=PromptTokensDetails(audio_tokens=None, cached_tokens=0))),\n",
       " ChatCompletion(id='chatcmpl-ANIKZi8AyJmdJeXvSqD1R7lMyLSsg', choices=[Choice(finish_reason='length', index=0, logprobs=None, message=ChatCompletionMessage(content='Python is considered a great programming language for several reasons:\\n\\n1. **Readability and Simplicity**: Python has a clean and easy-to-read syntax, which makes it accessible for beginners while also being powerful enough for experts. This encourages good programming', refusal=None, role='assistant', audio=None, function_call=None, tool_calls=None))], created=1730115371, model='gpt-4o-mini-2024-07-18', object='chat.completion', service_tier=None, system_fingerprint='fp_f59a81427f', usage=CompletionUsage(completion_tokens=50, prompt_tokens=41, total_tokens=91, completion_tokens_details=CompletionTokensDetails(audio_tokens=None, reasoning_tokens=0), prompt_tokens_details=PromptTokensDetails(audio_tokens=None, cached_tokens=0))),\n",
       " ChatCompletion(id='chatcmpl-ANIKZiLrko1DLVLd5ggRryPtvFk4K', choices=[Choice(finish_reason='length', index=0, logprobs=None, message=ChatCompletionMessage(content='Python is considered a good programming language for several reasons:\\n\\n1. **Readability and Simplicity**: Python has a clean and straightforward syntax that makes it easy to read and write. This simplicity helps beginners learn programming concepts without getting bogged down', refusal=None, role='assistant', audio=None, function_call=None, tool_calls=None))], created=1730115371, model='gpt-4o-mini-2024-07-18', object='chat.completion', service_tier=None, system_fingerprint='fp_f59a81427f', usage=CompletionUsage(completion_tokens=50, prompt_tokens=41, total_tokens=91, completion_tokens_details=CompletionTokensDetails(audio_tokens=None, reasoning_tokens=0), prompt_tokens_details=PromptTokensDetails(audio_tokens=None, cached_tokens=0))),\n",
       " ChatCompletion(id='chatcmpl-ANIKZfO1mzHMEeLHYCiIohcw5pn2u', choices=[Choice(finish_reason='length', index=0, logprobs=None, message=ChatCompletionMessage(content=\"Python is considered a good programming language for several reasons:\\n\\n1. **Readability and Simplicity**: Python's syntax is clear and easy to read, making it accessible for beginners. This readability encourages good programming practices and allows developers to express concepts\", refusal=None, role='assistant', audio=None, function_call=None, tool_calls=None))], created=1730115371, model='gpt-4o-mini-2024-07-18', object='chat.completion', service_tier=None, system_fingerprint='fp_f59a81427f', usage=CompletionUsage(completion_tokens=50, prompt_tokens=41, total_tokens=91, completion_tokens_details=CompletionTokensDetails(audio_tokens=None, reasoning_tokens=0), prompt_tokens_details=PromptTokensDetails(audio_tokens=None, cached_tokens=0))),\n",
       " ChatCompletion(id='chatcmpl-ANIKZcheVKSZwfy8kzOmNlJ3UfVO9', choices=[Choice(finish_reason='length', index=0, logprobs=None, message=ChatCompletionMessage(content='Python is often considered a \"good\" programming language for several reasons:\\n\\n1. **Ease of Learning and Use**: Python has a simple and readable syntax, which makes it accessible for beginners. This allows new programmers to focus on learning programming concepts rather', refusal=None, role='assistant', audio=None, function_call=None, tool_calls=None))], created=1730115371, model='gpt-4o-mini-2024-07-18', object='chat.completion', service_tier=None, system_fingerprint='fp_8bfc6a7dc2', usage=CompletionUsage(completion_tokens=50, prompt_tokens=41, total_tokens=91, completion_tokens_details=CompletionTokensDetails(audio_tokens=None, reasoning_tokens=0), prompt_tokens_details=PromptTokensDetails(audio_tokens=None, cached_tokens=0))),\n",
       " ChatCompletion(id='chatcmpl-ANIKZjjKxdGzQqz1NWX9AbMlc4xFM', choices=[Choice(finish_reason='length', index=0, logprobs=None, message=ChatCompletionMessage(content='Python is considered a \"good\" programming language for several reasons:\\n\\n1. **Ease of Learning**: Python has a clean and readable syntax, making it accessible for beginners. Its simplicity allows new programmers to pick it up quickly.\\n\\n2. **Vers', refusal=None, role='assistant', audio=None, function_call=None, tool_calls=None))], created=1730115371, model='gpt-4o-mini-2024-07-18', object='chat.completion', service_tier=None, system_fingerprint='fp_f59a81427f', usage=CompletionUsage(completion_tokens=50, prompt_tokens=41, total_tokens=91, completion_tokens_details=CompletionTokensDetails(audio_tokens=None, reasoning_tokens=0), prompt_tokens_details=PromptTokensDetails(audio_tokens=None, cached_tokens=0))),\n",
       " ChatCompletion(id='chatcmpl-ANIKZKdsEkXBcGDMsvD8gDDnOTPiV', choices=[Choice(finish_reason='length', index=0, logprobs=None, message=ChatCompletionMessage(content='Python is considered a good programming language for several reasons:\\n\\n1. **Readability and Simplicity**: Python syntax is clear and straightforward, which makes it easy for beginners to learn and for experienced programmers to write and maintain code.\\n\\n2. **', refusal=None, role='assistant', audio=None, function_call=None, tool_calls=None))], created=1730115371, model='gpt-4o-mini-2024-07-18', object='chat.completion', service_tier=None, system_fingerprint='fp_f59a81427f', usage=CompletionUsage(completion_tokens=50, prompt_tokens=41, total_tokens=91, completion_tokens_details=CompletionTokensDetails(audio_tokens=None, reasoning_tokens=0), prompt_tokens_details=PromptTokensDetails(audio_tokens=None, cached_tokens=0))),\n",
       " ChatCompletion(id='chatcmpl-ANIKajTmEg1LeAOuYzbQkoZFBDyGE', choices=[Choice(finish_reason='length', index=0, logprobs=None, message=ChatCompletionMessage(content=\"Python is considered a good programming language for several reasons:\\n\\n1. **Readability**: Python's syntax is clear and intuitive, making it easy to read and understand. This helps developers write clean and maintainable code.\\n\\n2. **Versatility**\", refusal=None, role='assistant', audio=None, function_call=None, tool_calls=None))], created=1730115372, model='gpt-4o-mini-2024-07-18', object='chat.completion', service_tier=None, system_fingerprint='fp_f59a81427f', usage=CompletionUsage(completion_tokens=50, prompt_tokens=41, total_tokens=91, completion_tokens_details=CompletionTokensDetails(audio_tokens=None, reasoning_tokens=0), prompt_tokens_details=PromptTokensDetails(audio_tokens=None, cached_tokens=0))),\n",
       " ChatCompletion(id='chatcmpl-ANIKaNANInvTGi7As3J1ymYNnouOt', choices=[Choice(finish_reason='length', index=0, logprobs=None, message=ChatCompletionMessage(content='Python is considered a good programming language for several reasons:\\n\\n1. **Easy to Learn and Use**: Python has a simple and clean syntax that is easier for beginners to understand. This readability allows new programmers to pick up the language quickly and start writing', refusal=None, role='assistant', audio=None, function_call=None, tool_calls=None))], created=1730115372, model='gpt-4o-mini-2024-07-18', object='chat.completion', service_tier=None, system_fingerprint='fp_f59a81427f', usage=CompletionUsage(completion_tokens=50, prompt_tokens=41, total_tokens=91, completion_tokens_details=CompletionTokensDetails(audio_tokens=None, reasoning_tokens=0), prompt_tokens_details=PromptTokensDetails(audio_tokens=None, cached_tokens=0))),\n",
       " ChatCompletion(id='chatcmpl-ANIKZ5EGALno85n6yyFJsEeWJmrhj', choices=[Choice(finish_reason='length', index=0, logprobs=None, message=ChatCompletionMessage(content=\"Python is considered a good programming language for several reasons:\\n\\n1. **Readability and Simplicity**: Python's syntax is designed to be clear and easy to understand, which makes it accessible for beginners. This focus on readability helps developers write clean\", refusal=None, role='assistant', audio=None, function_call=None, tool_calls=None))], created=1730115371, model='gpt-4o-mini-2024-07-18', object='chat.completion', service_tier=None, system_fingerprint='fp_f59a81427f', usage=CompletionUsage(completion_tokens=50, prompt_tokens=41, total_tokens=91, completion_tokens_details=CompletionTokensDetails(audio_tokens=None, reasoning_tokens=0), prompt_tokens_details=PromptTokensDetails(audio_tokens=None, cached_tokens=0))),\n",
       " ChatCompletion(id='chatcmpl-ANIKZFAyWTnuyjAHCJlqHgTRUxowo', choices=[Choice(finish_reason='length', index=0, logprobs=None, message=ChatCompletionMessage(content=\"Python is considered a good programming language for several reasons:\\n\\n1. **Readability**: Python's syntax is designed to be clear and easy to read, which makes it an excellent choice for beginners and experienced programmers alike. The use of indentation to define\", refusal=None, role='assistant', audio=None, function_call=None, tool_calls=None))], created=1730115371, model='gpt-4o-mini-2024-07-18', object='chat.completion', service_tier=None, system_fingerprint='fp_8bfc6a7dc2', usage=CompletionUsage(completion_tokens=50, prompt_tokens=41, total_tokens=91, completion_tokens_details=CompletionTokensDetails(audio_tokens=None, reasoning_tokens=0), prompt_tokens_details=PromptTokensDetails(audio_tokens=None, cached_tokens=0))),\n",
       " ChatCompletion(id='chatcmpl-ANIKZgVLUtLqC6edl4Hz1sVnWuCFu', choices=[Choice(finish_reason='length', index=0, logprobs=None, message=ChatCompletionMessage(content=\"Python is considered a good programming language for several reasons:\\n\\n1. **Readability and Simplicity**: Python's syntax is clean and easy to read, which makes it accessible for beginners. The language emphasizes readability, which helps developers understand and maintain\", refusal=None, role='assistant', audio=None, function_call=None, tool_calls=None))], created=1730115371, model='gpt-4o-mini-2024-07-18', object='chat.completion', service_tier=None, system_fingerprint='fp_f59a81427f', usage=CompletionUsage(completion_tokens=50, prompt_tokens=41, total_tokens=91, completion_tokens_details=CompletionTokensDetails(audio_tokens=None, reasoning_tokens=0), prompt_tokens_details=PromptTokensDetails(audio_tokens=None, cached_tokens=0))),\n",
       " ChatCompletion(id='chatcmpl-ANIKZlFniKRlS4V18Nui0TH5YKeCN', choices=[Choice(finish_reason='length', index=0, logprobs=None, message=ChatCompletionMessage(content='Python is considered a good programming language for several reasons:\\n\\n1. **Readability**: Python syntax is designed to be clear and readable, which makes it easier for beginners to learn and for experienced programmers to maintain code.\\n\\n2. **Versatility**', refusal=None, role='assistant', audio=None, function_call=None, tool_calls=None))], created=1730115371, model='gpt-4o-mini-2024-07-18', object='chat.completion', service_tier=None, system_fingerprint='fp_8bfc6a7dc2', usage=CompletionUsage(completion_tokens=50, prompt_tokens=41, total_tokens=91, completion_tokens_details=CompletionTokensDetails(audio_tokens=None, reasoning_tokens=0), prompt_tokens_details=PromptTokensDetails(audio_tokens=None, cached_tokens=0))),\n",
       " ChatCompletion(id='chatcmpl-ANIKZXl2ujB8mlKRlYII2QhCxXCCk', choices=[Choice(finish_reason='length', index=0, logprobs=None, message=ChatCompletionMessage(content='Python is considered a good programming language for several reasons:\\n\\n1. **Readability**: Python’s syntax is designed to be clear and easy to read, which makes it accessible for beginners and allows developers to express concepts in fewer lines of code than in', refusal=None, role='assistant', audio=None, function_call=None, tool_calls=None))], created=1730115371, model='gpt-4o-mini-2024-07-18', object='chat.completion', service_tier=None, system_fingerprint='fp_f59a81427f', usage=CompletionUsage(completion_tokens=50, prompt_tokens=41, total_tokens=91, completion_tokens_details=CompletionTokensDetails(audio_tokens=None, reasoning_tokens=0), prompt_tokens_details=PromptTokensDetails(audio_tokens=None, cached_tokens=0))),\n",
       " ChatCompletion(id='chatcmpl-ANIKZCdIJpgTpZ9k2loHFBzun4PI4', choices=[Choice(finish_reason='length', index=0, logprobs=None, message=ChatCompletionMessage(content='Python is considered a great programming language for several reasons:\\n\\n1. **Ease of Learning and Use**: Python has a simple and clean syntax that emphasizes readability. This makes it an excellent choice for beginners, as it allows new programmers to grasp concepts without', refusal=None, role='assistant', audio=None, function_call=None, tool_calls=None))], created=1730115371, model='gpt-4o-mini-2024-07-18', object='chat.completion', service_tier=None, system_fingerprint='fp_f59a81427f', usage=CompletionUsage(completion_tokens=50, prompt_tokens=41, total_tokens=91, completion_tokens_details=CompletionTokensDetails(audio_tokens=None, reasoning_tokens=0), prompt_tokens_details=PromptTokensDetails(audio_tokens=None, cached_tokens=0))),\n",
       " ChatCompletion(id='chatcmpl-ANIKZgT4MvQ46g7L8Tpa6gCUJ8EUQ', choices=[Choice(finish_reason='length', index=0, logprobs=None, message=ChatCompletionMessage(content='Python is considered a \"good\" programming language for several reasons:\\n\\n1. **Readability and Simplicity**: Python\\'s syntax is clear and concise, making it easier to read and write compared to many other languages. This allows new programmers to', refusal=None, role='assistant', audio=None, function_call=None, tool_calls=None))], created=1730115371, model='gpt-4o-mini-2024-07-18', object='chat.completion', service_tier=None, system_fingerprint='fp_f59a81427f', usage=CompletionUsage(completion_tokens=50, prompt_tokens=41, total_tokens=91, completion_tokens_details=CompletionTokensDetails(audio_tokens=None, reasoning_tokens=0), prompt_tokens_details=PromptTokensDetails(audio_tokens=None, cached_tokens=0))),\n",
       " ChatCompletion(id='chatcmpl-ANIKZ1aQhNhtUXY8Upd83Zsm6RcVV', choices=[Choice(finish_reason='length', index=0, logprobs=None, message=ChatCompletionMessage(content='Python is considered a good programming language for several reasons:\\n\\n1. **Readability and Simplicity**: Python has a clean and easy-to-read syntax, which makes it accessible for beginners and allows for quicker comprehension of code. This readability helps in', refusal=None, role='assistant', audio=None, function_call=None, tool_calls=None))], created=1730115371, model='gpt-4o-mini-2024-07-18', object='chat.completion', service_tier=None, system_fingerprint='fp_8bfc6a7dc2', usage=CompletionUsage(completion_tokens=50, prompt_tokens=41, total_tokens=91, completion_tokens_details=CompletionTokensDetails(audio_tokens=None, reasoning_tokens=0), prompt_tokens_details=PromptTokensDetails(audio_tokens=None, cached_tokens=0))),\n",
       " ChatCompletion(id='chatcmpl-ANIKZ3rWU2O3DjYhv2cWkG2eOwBXJ', choices=[Choice(finish_reason='length', index=0, logprobs=None, message=ChatCompletionMessage(content='Python is considered a good programming language for several reasons:\\n\\n1. **Readability and Simplicity**: Python has a clean and easy-to-read syntax that closely resembles English. This makes it accessible for beginners and enhances clarity for experienced programmers.\\n\\n2', refusal=None, role='assistant', audio=None, function_call=None, tool_calls=None))], created=1730115371, model='gpt-4o-mini-2024-07-18', object='chat.completion', service_tier=None, system_fingerprint='fp_f59a81427f', usage=CompletionUsage(completion_tokens=50, prompt_tokens=41, total_tokens=91, completion_tokens_details=CompletionTokensDetails(audio_tokens=None, reasoning_tokens=0), prompt_tokens_details=PromptTokensDetails(audio_tokens=None, cached_tokens=0))),\n",
       " ChatCompletion(id='chatcmpl-ANIKZgpFnIRupCQH4XJAyra4QpMSL', choices=[Choice(finish_reason='length', index=0, logprobs=None, message=ChatCompletionMessage(content=\"Python is considered a good programming language for several reasons:\\n\\n1. **Readability and Simplicity**: Python's syntax is clear and easy to read, which makes it accessible to beginners. This emphasizes learning programming concepts without getting bogged down by\", refusal=None, role='assistant', audio=None, function_call=None, tool_calls=None))], created=1730115371, model='gpt-4o-mini-2024-07-18', object='chat.completion', service_tier=None, system_fingerprint='fp_f59a81427f', usage=CompletionUsage(completion_tokens=50, prompt_tokens=41, total_tokens=91, completion_tokens_details=CompletionTokensDetails(audio_tokens=None, reasoning_tokens=0), prompt_tokens_details=PromptTokensDetails(audio_tokens=None, cached_tokens=0))),\n",
       " ChatCompletion(id='chatcmpl-ANIKaRGhQcJ0C4npMrl8tL6KaKWKn', choices=[Choice(finish_reason='length', index=0, logprobs=None, message=ChatCompletionMessage(content='Python is often considered a great programming language for several reasons:\\n\\n1. **Readability and Simplicity**: Python has a clean and easy-to-read syntax, which makes it accessible to beginners and helps developers write clear and maintainable code.\\n\\n2', refusal=None, role='assistant', audio=None, function_call=None, tool_calls=None))], created=1730115372, model='gpt-4o-mini-2024-07-18', object='chat.completion', service_tier=None, system_fingerprint='fp_f59a81427f', usage=CompletionUsage(completion_tokens=50, prompt_tokens=41, total_tokens=91, completion_tokens_details=CompletionTokensDetails(audio_tokens=None, reasoning_tokens=0), prompt_tokens_details=PromptTokensDetails(audio_tokens=None, cached_tokens=0))),\n",
       " ChatCompletion(id='chatcmpl-ANIKZ9eGJNShB6dWWHhiwcrdWXQys', choices=[Choice(finish_reason='length', index=0, logprobs=None, message=ChatCompletionMessage(content=\"Python is considered a great programming language for several reasons:\\n\\n1. **Readability and Simplicity**: Python's syntax is clear and easy to understand, which makes it an excellent choice for beginners. The emphasis on readability helps developers write clean and\", refusal=None, role='assistant', audio=None, function_call=None, tool_calls=None))], created=1730115371, model='gpt-4o-mini-2024-07-18', object='chat.completion', service_tier=None, system_fingerprint='fp_f59a81427f', usage=CompletionUsage(completion_tokens=50, prompt_tokens=41, total_tokens=91, completion_tokens_details=CompletionTokensDetails(audio_tokens=None, reasoning_tokens=0), prompt_tokens_details=PromptTokensDetails(audio_tokens=None, cached_tokens=0))),\n",
       " ChatCompletion(id='chatcmpl-ANIKZ4hRVeBy96RGYuAXhJbz2I8a7', choices=[Choice(finish_reason='length', index=0, logprobs=None, message=ChatCompletionMessage(content='Python is considered a good programming language for many reasons:\\n\\n1. **Ease of Learning and Use**: Python has a straightforward syntax that resembles natural language, making it easier for beginners to learn and write code. This simplicity also allows experienced developers to express', refusal=None, role='assistant', audio=None, function_call=None, tool_calls=None))], created=1730115371, model='gpt-4o-mini-2024-07-18', object='chat.completion', service_tier=None, system_fingerprint='fp_f59a81427f', usage=CompletionUsage(completion_tokens=50, prompt_tokens=41, total_tokens=91, completion_tokens_details=CompletionTokensDetails(audio_tokens=None, reasoning_tokens=0), prompt_tokens_details=PromptTokensDetails(audio_tokens=None, cached_tokens=0))),\n",
       " ChatCompletion(id='chatcmpl-ANIKZASOI85nwCctUh2dBlqAmjxbQ', choices=[Choice(finish_reason='length', index=0, logprobs=None, message=ChatCompletionMessage(content=\"Python is considered a great programming language for several reasons:\\n\\n1. **Readability:** Python's syntax is clear and easy to understand, which makes it an excellent choice for beginners and experienced programmers alike. The use of indentation to define code blocks enhances code\", refusal=None, role='assistant', audio=None, function_call=None, tool_calls=None))], created=1730115371, model='gpt-4o-mini-2024-07-18', object='chat.completion', service_tier=None, system_fingerprint='fp_f59a81427f', usage=CompletionUsage(completion_tokens=50, prompt_tokens=41, total_tokens=91, completion_tokens_details=CompletionTokensDetails(audio_tokens=None, reasoning_tokens=0), prompt_tokens_details=PromptTokensDetails(audio_tokens=None, cached_tokens=0))),\n",
       " ChatCompletion(id='chatcmpl-ANIKZJgEWP6xou8urBVk3Sw7YrlXS', choices=[Choice(finish_reason='length', index=0, logprobs=None, message=ChatCompletionMessage(content='Python is considered a good programming language for several reasons:\\n\\n1. **Readability**: Python has a clear and readable syntax, which makes it easy for beginners to learn and understand. This emphasis on readability helps developers write clean and maintainable code.\\n\\n', refusal=None, role='assistant', audio=None, function_call=None, tool_calls=None))], created=1730115371, model='gpt-4o-mini-2024-07-18', object='chat.completion', service_tier=None, system_fingerprint='fp_f59a81427f', usage=CompletionUsage(completion_tokens=50, prompt_tokens=41, total_tokens=91, completion_tokens_details=CompletionTokensDetails(audio_tokens=None, reasoning_tokens=0), prompt_tokens_details=PromptTokensDetails(audio_tokens=None, cached_tokens=0))),\n",
       " ChatCompletion(id='chatcmpl-ANIKZUgFyeA3yiirSEaWQpudQvIN7', choices=[Choice(finish_reason='length', index=0, logprobs=None, message=ChatCompletionMessage(content='Python is considered a good programming language for several reasons:\\n\\n1. **Readability and Simplicity**: Python’s syntax is clean and easy to understand, which makes it an excellent choice for beginners as well as experienced programmers. Code readability helps reduce', refusal=None, role='assistant', audio=None, function_call=None, tool_calls=None))], created=1730115371, model='gpt-4o-mini-2024-07-18', object='chat.completion', service_tier=None, system_fingerprint='fp_f59a81427f', usage=CompletionUsage(completion_tokens=50, prompt_tokens=41, total_tokens=91, completion_tokens_details=CompletionTokensDetails(audio_tokens=None, reasoning_tokens=0), prompt_tokens_details=PromptTokensDetails(audio_tokens=None, cached_tokens=0))),\n",
       " ChatCompletion(id='chatcmpl-ANIKZyCAHnh9i1WPBRscHAOMi73Sw', choices=[Choice(finish_reason='length', index=0, logprobs=None, message=ChatCompletionMessage(content='Python is considered a good programming language for several reasons:\\n\\n1. **Readability and Simplicity**: Python has a clean and easy-to-read syntax that emphasizes readability. This makes it accessible for beginners and allows developers to express concepts in fewer lines', refusal=None, role='assistant', audio=None, function_call=None, tool_calls=None))], created=1730115371, model='gpt-4o-mini-2024-07-18', object='chat.completion', service_tier=None, system_fingerprint='fp_f59a81427f', usage=CompletionUsage(completion_tokens=50, prompt_tokens=41, total_tokens=91, completion_tokens_details=CompletionTokensDetails(audio_tokens=None, reasoning_tokens=0), prompt_tokens_details=PromptTokensDetails(audio_tokens=None, cached_tokens=0))),\n",
       " ChatCompletion(id='chatcmpl-ANIKZP9G45qnWbtI0ndFI6W7quOu2', choices=[Choice(finish_reason='length', index=0, logprobs=None, message=ChatCompletionMessage(content='Python is considered a great programming language for several reasons:\\n\\n1. **Ease of Learning**: Python has a simple and clean syntax that is easy for beginners to understand. This makes it an excellent choice for those new to programming.\\n\\n2. **Vers', refusal=None, role='assistant', audio=None, function_call=None, tool_calls=None))], created=1730115371, model='gpt-4o-mini-2024-07-18', object='chat.completion', service_tier=None, system_fingerprint='fp_f59a81427f', usage=CompletionUsage(completion_tokens=50, prompt_tokens=41, total_tokens=91, completion_tokens_details=CompletionTokensDetails(audio_tokens=None, reasoning_tokens=0), prompt_tokens_details=PromptTokensDetails(audio_tokens=None, cached_tokens=0))),\n",
       " ChatCompletion(id='chatcmpl-ANIKZIAeJbmundazhZ0ZqdwOnoVOp', choices=[Choice(finish_reason='length', index=0, logprobs=None, message=ChatCompletionMessage(content=\"Python is considered a good programming language for several reasons:\\n\\n1. **Readability**: Python's syntax is designed to be clear and intuitive. This makes it easier for beginners to learn and for experienced developers to maintain and collaborate on code.\\n\\n2.\", refusal=None, role='assistant', audio=None, function_call=None, tool_calls=None))], created=1730115371, model='gpt-4o-mini-2024-07-18', object='chat.completion', service_tier=None, system_fingerprint='fp_f59a81427f', usage=CompletionUsage(completion_tokens=50, prompt_tokens=41, total_tokens=91, completion_tokens_details=CompletionTokensDetails(audio_tokens=None, reasoning_tokens=0), prompt_tokens_details=PromptTokensDetails(audio_tokens=None, cached_tokens=0))),\n",
       " ChatCompletion(id='chatcmpl-ANIKZ9Q5ElqwsgppwZvWavtDtvAuv', choices=[Choice(finish_reason='length', index=0, logprobs=None, message=ChatCompletionMessage(content='Python is considered a good programming language for several reasons:\\n\\n1. **Easy to Learn and Use**: Python has a clear and readable syntax, which makes it ideal for beginners. Its simplicity allows new programmers to focus on learning programming concepts without getting bog', refusal=None, role='assistant', audio=None, function_call=None, tool_calls=None))], created=1730115371, model='gpt-4o-mini-2024-07-18', object='chat.completion', service_tier=None, system_fingerprint='fp_f59a81427f', usage=CompletionUsage(completion_tokens=50, prompt_tokens=41, total_tokens=91, completion_tokens_details=CompletionTokensDetails(audio_tokens=None, reasoning_tokens=0), prompt_tokens_details=PromptTokensDetails(audio_tokens=None, cached_tokens=0))),\n",
       " ChatCompletion(id='chatcmpl-ANIKZVFrbSCJe7w936xukcN9OZQHh', choices=[Choice(finish_reason='length', index=0, logprobs=None, message=ChatCompletionMessage(content='Python is considered a good programming language for several reasons:\\n\\n1. **Readability**: Python syntax is designed to be clear and intuitive, resembling natural language. This makes it easier for beginners to learn and for experienced developers to read and maintain code.\\n\\n', refusal=None, role='assistant', audio=None, function_call=None, tool_calls=None))], created=1730115371, model='gpt-4o-mini-2024-07-18', object='chat.completion', service_tier=None, system_fingerprint='fp_f59a81427f', usage=CompletionUsage(completion_tokens=50, prompt_tokens=41, total_tokens=91, completion_tokens_details=CompletionTokensDetails(audio_tokens=None, reasoning_tokens=0), prompt_tokens_details=PromptTokensDetails(audio_tokens=None, cached_tokens=0))),\n",
       " ChatCompletion(id='chatcmpl-ANIKZMmv3dlmVQOvHGJKvuq2LijFT', choices=[Choice(finish_reason='length', index=0, logprobs=None, message=ChatCompletionMessage(content=\"Python is widely regarded as a good programming language for several reasons:\\n\\n1. **Readability and Simplicity**: Python's syntax is designed to be clean and easy to read, which helps new programmers understand and learn it quickly. \\n\\n2.\", refusal=None, role='assistant', audio=None, function_call=None, tool_calls=None))], created=1730115371, model='gpt-4o-mini-2024-07-18', object='chat.completion', service_tier=None, system_fingerprint='fp_f59a81427f', usage=CompletionUsage(completion_tokens=50, prompt_tokens=41, total_tokens=91, completion_tokens_details=CompletionTokensDetails(audio_tokens=None, reasoning_tokens=0), prompt_tokens_details=PromptTokensDetails(audio_tokens=None, cached_tokens=0))),\n",
       " ChatCompletion(id='chatcmpl-ANIKZToPea5kIPzD0POswsfISAChg', choices=[Choice(finish_reason='length', index=0, logprobs=None, message=ChatCompletionMessage(content='Python is considered a \"good\" programming language for several reasons:\\n\\n1. **Easy to Learn and Use**: Python has a clean and straightforward syntax that makes it accessible for beginners. This simplicity allows new programmers to quickly grasp programming concepts without getting bog', refusal=None, role='assistant', audio=None, function_call=None, tool_calls=None))], created=1730115371, model='gpt-4o-mini-2024-07-18', object='chat.completion', service_tier=None, system_fingerprint='fp_f59a81427f', usage=CompletionUsage(completion_tokens=50, prompt_tokens=41, total_tokens=91, completion_tokens_details=CompletionTokensDetails(audio_tokens=None, reasoning_tokens=0), prompt_tokens_details=PromptTokensDetails(audio_tokens=None, cached_tokens=0))),\n",
       " ChatCompletion(id='chatcmpl-ANIKZk634Q9GjNl7JBd6UZhSWgz1R', choices=[Choice(finish_reason='length', index=0, logprobs=None, message=ChatCompletionMessage(content='Python is considered a good programming language for several reasons:\\n\\n1. **Readability and Simplicity**: Python has a clean and easily readable syntax that often resembles plain English. This makes it accessible for beginners and allows developers to write code more quickly', refusal=None, role='assistant', audio=None, function_call=None, tool_calls=None))], created=1730115371, model='gpt-4o-mini-2024-07-18', object='chat.completion', service_tier=None, system_fingerprint='fp_f59a81427f', usage=CompletionUsage(completion_tokens=50, prompt_tokens=41, total_tokens=91, completion_tokens_details=CompletionTokensDetails(audio_tokens=None, reasoning_tokens=0), prompt_tokens_details=PromptTokensDetails(audio_tokens=None, cached_tokens=0))),\n",
       " ChatCompletion(id='chatcmpl-ANIKZp1YdGleU6rKWXADj7OVtqCjn', choices=[Choice(finish_reason='length', index=0, logprobs=None, message=ChatCompletionMessage(content='Python is considered a great programming language for several reasons:\\n\\n1. **Readability**: Python has a clear and easily readable syntax, which makes it accessible to beginners and helps experienced programmers write clean and maintainable code.\\n\\n2. **Versatility**', refusal=None, role='assistant', audio=None, function_call=None, tool_calls=None))], created=1730115371, model='gpt-4o-mini-2024-07-18', object='chat.completion', service_tier=None, system_fingerprint='fp_f59a81427f', usage=CompletionUsage(completion_tokens=50, prompt_tokens=41, total_tokens=91, completion_tokens_details=CompletionTokensDetails(audio_tokens=None, reasoning_tokens=0), prompt_tokens_details=PromptTokensDetails(audio_tokens=None, cached_tokens=0))),\n",
       " ChatCompletion(id='chatcmpl-ANIKZrgo9VJ2OeOQ8Vr0OGMq0Ezhi', choices=[Choice(finish_reason='length', index=0, logprobs=None, message=ChatCompletionMessage(content=\"Python is considered a good programming language for several reasons:\\n\\n1. **Readability and Simplicity**: Python's syntax is straightforward and similar to English, which makes it easier to read and write. This simplicity allows beginners to learn the language quickly\", refusal=None, role='assistant', audio=None, function_call=None, tool_calls=None))], created=1730115371, model='gpt-4o-mini-2024-07-18', object='chat.completion', service_tier=None, system_fingerprint='fp_f59a81427f', usage=CompletionUsage(completion_tokens=50, prompt_tokens=41, total_tokens=91, completion_tokens_details=CompletionTokensDetails(audio_tokens=None, reasoning_tokens=0), prompt_tokens_details=PromptTokensDetails(audio_tokens=None, cached_tokens=0))),\n",
       " ChatCompletion(id='chatcmpl-ANIKZgce774PerxJfxvhf18rHOfo9', choices=[Choice(finish_reason='length', index=0, logprobs=None, message=ChatCompletionMessage(content='Python is considered a good programming language for several reasons:\\n\\n1. **Easy to Read and Write**: Python has a clean and straightforward syntax that resembles natural language. This makes it accessible for beginners and helps developers read and understand code more easily.\\n\\n2', refusal=None, role='assistant', audio=None, function_call=None, tool_calls=None))], created=1730115371, model='gpt-4o-mini-2024-07-18', object='chat.completion', service_tier=None, system_fingerprint='fp_f59a81427f', usage=CompletionUsage(completion_tokens=50, prompt_tokens=41, total_tokens=91, completion_tokens_details=CompletionTokensDetails(audio_tokens=None, reasoning_tokens=0), prompt_tokens_details=PromptTokensDetails(audio_tokens=None, cached_tokens=0))),\n",
       " ChatCompletion(id='chatcmpl-ANIKZz2hWLh2VhlQVS6WA5WvxV9YN', choices=[Choice(finish_reason='length', index=0, logprobs=None, message=ChatCompletionMessage(content='Python is considered a \"good\" programming language for several reasons:\\n\\n1. **Readability**: Python\\'s syntax is simple and easy to read, which makes it accessible for beginners. Its use of indentation to define code blocks enhances readability.\\n\\n2.', refusal=None, role='assistant', audio=None, function_call=None, tool_calls=None))], created=1730115371, model='gpt-4o-mini-2024-07-18', object='chat.completion', service_tier=None, system_fingerprint='fp_f59a81427f', usage=CompletionUsage(completion_tokens=50, prompt_tokens=41, total_tokens=91, completion_tokens_details=CompletionTokensDetails(audio_tokens=None, reasoning_tokens=0), prompt_tokens_details=PromptTokensDetails(audio_tokens=None, cached_tokens=0))),\n",
       " ChatCompletion(id='chatcmpl-ANIKZ0MfmzoHLCzhKnCeEg3m4NU3M', choices=[Choice(finish_reason='length', index=0, logprobs=None, message=ChatCompletionMessage(content=\"Python is considered a good programming language for several reasons:\\n\\n1. **Readability and Simplicity**: Python's syntax is clear and easy to read, which makes it an excellent choice for beginners as well as experienced programmers. This readability promotes good\", refusal=None, role='assistant', audio=None, function_call=None, tool_calls=None))], created=1730115371, model='gpt-4o-mini-2024-07-18', object='chat.completion', service_tier=None, system_fingerprint='fp_f59a81427f', usage=CompletionUsage(completion_tokens=50, prompt_tokens=41, total_tokens=91, completion_tokens_details=CompletionTokensDetails(audio_tokens=None, reasoning_tokens=0), prompt_tokens_details=PromptTokensDetails(audio_tokens=None, cached_tokens=0))),\n",
       " ChatCompletion(id='chatcmpl-ANIKZ7DSuIRRame7ahs8kyMyG4NFU', choices=[Choice(finish_reason='length', index=0, logprobs=None, message=ChatCompletionMessage(content='Python is considered a good programming language for several reasons:\\n\\n1. **Readability**: Python has a clear and straightforward syntax that emphasizes readability, making it easier for developers to write and understand code.\\n\\n2. **Versatility**: Python can be', refusal=None, role='assistant', audio=None, function_call=None, tool_calls=None))], created=1730115371, model='gpt-4o-mini-2024-07-18', object='chat.completion', service_tier=None, system_fingerprint='fp_f59a81427f', usage=CompletionUsage(completion_tokens=50, prompt_tokens=41, total_tokens=91, completion_tokens_details=CompletionTokensDetails(audio_tokens=None, reasoning_tokens=0), prompt_tokens_details=PromptTokensDetails(audio_tokens=None, cached_tokens=0))),\n",
       " ChatCompletion(id='chatcmpl-ANIKZxx68ATlUdnRU2JY9vfbxpbOT', choices=[Choice(finish_reason='length', index=0, logprobs=None, message=ChatCompletionMessage(content='Python is often considered a good programming language for several reasons:\\n\\n1. **Readability and Simplicity**: Python has a clear and straightforward syntax, which makes it easily readable and understandable. This is especially beneficial for beginners and helps developers write clean', refusal=None, role='assistant', audio=None, function_call=None, tool_calls=None))], created=1730115371, model='gpt-4o-mini-2024-07-18', object='chat.completion', service_tier=None, system_fingerprint='fp_f59a81427f', usage=CompletionUsage(completion_tokens=50, prompt_tokens=41, total_tokens=91, completion_tokens_details=CompletionTokensDetails(audio_tokens=None, reasoning_tokens=0), prompt_tokens_details=PromptTokensDetails(audio_tokens=None, cached_tokens=0))),\n",
       " ChatCompletion(id='chatcmpl-ANIKZFg31IlLfmR4JKm1upHU6s6KT', choices=[Choice(finish_reason='length', index=0, logprobs=None, message=ChatCompletionMessage(content='Python is considered a good programming language for several reasons:\\n\\n1. **Simplicity and Readability**: Python has a clear and straightforward syntax, which makes it easy to read and write. This simplicity helps both beginners and experienced programmers to quickly understand', refusal=None, role='assistant', audio=None, function_call=None, tool_calls=None))], created=1730115371, model='gpt-4o-mini-2024-07-18', object='chat.completion', service_tier=None, system_fingerprint='fp_f59a81427f', usage=CompletionUsage(completion_tokens=50, prompt_tokens=41, total_tokens=91, completion_tokens_details=CompletionTokensDetails(audio_tokens=None, reasoning_tokens=0), prompt_tokens_details=PromptTokensDetails(audio_tokens=None, cached_tokens=0))),\n",
       " ChatCompletion(id='chatcmpl-ANIKZ5vR9FkKig1G8AWl4bqD6fhBj', choices=[Choice(finish_reason='length', index=0, logprobs=None, message=ChatCompletionMessage(content='Python is often considered a good programming language for several reasons:\\n\\n1. **Readability and Simplicity**: Python syntax is clear and concise, which makes it easy to read and write. This readability helps beginners learn programming concepts more easily.\\n\\n2', refusal=None, role='assistant', audio=None, function_call=None, tool_calls=None))], created=1730115371, model='gpt-4o-mini-2024-07-18', object='chat.completion', service_tier=None, system_fingerprint='fp_8bfc6a7dc2', usage=CompletionUsage(completion_tokens=50, prompt_tokens=41, total_tokens=91, completion_tokens_details=CompletionTokensDetails(audio_tokens=None, reasoning_tokens=0), prompt_tokens_details=PromptTokensDetails(audio_tokens=None, cached_tokens=0))),\n",
       " ChatCompletion(id='chatcmpl-ANIKZ5RiVVyxbOKBgPSi5MiDtXFPh', choices=[Choice(finish_reason='length', index=0, logprobs=None, message=ChatCompletionMessage(content=\"Python is considered a good programming language for several reasons:\\n\\n1. **Readability and Simplicity**: Python's syntax is clear and intuitive, which makes it easy to read and write. This helps beginners to grasp programming concepts more quickly.\\n\\n2\", refusal=None, role='assistant', audio=None, function_call=None, tool_calls=None))], created=1730115371, model='gpt-4o-mini-2024-07-18', object='chat.completion', service_tier=None, system_fingerprint='fp_f59a81427f', usage=CompletionUsage(completion_tokens=50, prompt_tokens=41, total_tokens=91, completion_tokens_details=CompletionTokensDetails(audio_tokens=None, reasoning_tokens=0), prompt_tokens_details=PromptTokensDetails(audio_tokens=None, cached_tokens=0))),\n",
       " ChatCompletion(id='chatcmpl-ANIKZQvcEJ2M1B3iE1FBTiqYjaW1A', choices=[Choice(finish_reason='length', index=0, logprobs=None, message=ChatCompletionMessage(content=\"Python is considered a good programming language for several reasons:\\n\\n1. **Readability and Simplicity**: Python's syntax is clean and easy to read, which makes it accessible for beginners as well as beneficial for experienced programmers. This simplicity promotes good\", refusal=None, role='assistant', audio=None, function_call=None, tool_calls=None))], created=1730115371, model='gpt-4o-mini-2024-07-18', object='chat.completion', service_tier=None, system_fingerprint='fp_f59a81427f', usage=CompletionUsage(completion_tokens=50, prompt_tokens=41, total_tokens=91, completion_tokens_details=CompletionTokensDetails(audio_tokens=None, reasoning_tokens=0), prompt_tokens_details=PromptTokensDetails(audio_tokens=None, cached_tokens=0))),\n",
       " ChatCompletion(id='chatcmpl-ANIKaUkzQ3ToeboJCOGcCotAvhjCS', choices=[Choice(finish_reason='length', index=0, logprobs=None, message=ChatCompletionMessage(content='Python is considered a good programming language for several reasons:\\n\\n1. **Easy to Learn and Use**: Python has a simple and clear syntax that makes it accessible for beginners. The readability of Python code allows new programmers to quickly grasp programming concepts.\\n\\n2', refusal=None, role='assistant', audio=None, function_call=None, tool_calls=None))], created=1730115372, model='gpt-4o-mini-2024-07-18', object='chat.completion', service_tier=None, system_fingerprint='fp_f59a81427f', usage=CompletionUsage(completion_tokens=50, prompt_tokens=41, total_tokens=91, completion_tokens_details=CompletionTokensDetails(audio_tokens=None, reasoning_tokens=0), prompt_tokens_details=PromptTokensDetails(audio_tokens=None, cached_tokens=0)))]"
      ]
     },
     "execution_count": 18,
     "metadata": {},
     "output_type": "execute_result"
    }
   ],
   "source": [
    "results_list"
   ]
  },
  {
   "cell_type": "code",
   "execution_count": 19,
   "id": "d3587698-46e2-4e56-bb26-11a0d83f0b98",
   "metadata": {},
   "outputs": [
    {
     "data": {
      "text/plain": [
       "ChatCompletion(id='chatcmpl-ANIKaUkzQ3ToeboJCOGcCotAvhjCS', choices=[Choice(finish_reason='length', index=0, logprobs=None, message=ChatCompletionMessage(content='Python is considered a good programming language for several reasons:\\n\\n1. **Easy to Learn and Use**: Python has a simple and clear syntax that makes it accessible for beginners. The readability of Python code allows new programmers to quickly grasp programming concepts.\\n\\n2', refusal=None, role='assistant', audio=None, function_call=None, tool_calls=None))], created=1730115372, model='gpt-4o-mini-2024-07-18', object='chat.completion', service_tier=None, system_fingerprint='fp_f59a81427f', usage=CompletionUsage(completion_tokens=50, prompt_tokens=41, total_tokens=91, completion_tokens_details=CompletionTokensDetails(audio_tokens=None, reasoning_tokens=0), prompt_tokens_details=PromptTokensDetails(audio_tokens=None, cached_tokens=0)))"
      ]
     },
     "execution_count": 19,
     "metadata": {},
     "output_type": "execute_result"
    }
   ],
   "source": [
    "results_list[-1] # having a look at the last one"
   ]
  },
  {
   "cell_type": "code",
   "execution_count": null,
   "id": "f0a890c6-bb4a-4e92-ac07-5ed810c0bed7",
   "metadata": {},
   "outputs": [],
   "source": []
  }
 ],
 "metadata": {
  "kernelspec": {
   "display_name": "Python 3 (ipykernel)",
   "language": "python",
   "name": "python3"
  },
  "language_info": {
   "codemirror_mode": {
    "name": "ipython",
    "version": 3
   },
   "file_extension": ".py",
   "mimetype": "text/x-python",
   "name": "python",
   "nbconvert_exporter": "python",
   "pygments_lexer": "ipython3",
   "version": "3.12.7"
  }
 },
 "nbformat": 4,
 "nbformat_minor": 5
}
