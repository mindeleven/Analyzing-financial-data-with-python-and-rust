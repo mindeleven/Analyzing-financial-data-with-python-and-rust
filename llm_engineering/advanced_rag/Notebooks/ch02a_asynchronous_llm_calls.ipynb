{
 "cells": [
  {
   "cell_type": "markdown",
   "id": "31d55628-1a4a-4334-a1a4-30f950e39c9c",
   "metadata": {},
   "source": [
    "## Asynchronous LLM calls"
   ]
  },
  {
   "cell_type": "markdown",
   "id": "401e697e-9c38-423e-97e3-e77d923fd419",
   "metadata": {},
   "source": [
    "*[Coding along with the Udemy Course [Advanced Retrieval Augmented Generation ](https://www.udemy.com/course/advanced-retrieval-augmented-generation/) by Rémi Connesson]*"
   ]
  },
  {
   "cell_type": "markdown",
   "id": "714b31e0-8e02-4685-86be-5f0bbc06f753",
   "metadata": {},
   "source": [
    "Calling the OpenAI API concurrently instead of sequentially."
   ]
  },
  {
   "cell_type": "code",
   "execution_count": 1,
   "id": "d9117337-cb96-49f4-bf0a-97eb463a6f02",
   "metadata": {},
   "outputs": [],
   "source": [
    "import pandas as pd\n",
    "from openai import AsyncOpenAI"
   ]
  },
  {
   "cell_type": "code",
   "execution_count": 2,
   "id": "f4ab7d5b-9af7-4e6a-82e7-2654ba976e8b",
   "metadata": {},
   "outputs": [
    {
     "name": "stdout",
     "output_type": "stream",
     "text": [
      "Don't be a fool and sent your api key to github\n"
     ]
    }
   ],
   "source": [
    "api_key = pd.read_csv(\"~/tmp/chat_gpt/agentic-design-1.txt\", sep=\" \", header=None)[0][0]\n",
    "print(\"Don't be a fool and sent your api key to github\")"
   ]
  },
  {
   "cell_type": "code",
   "execution_count": 3,
   "id": "160f026d-7624-4cfd-a1b1-a1a9a2fa420c",
   "metadata": {},
   "outputs": [],
   "source": [
    "client = AsyncOpenAI(api_key=api_key)"
   ]
  },
  {
   "cell_type": "code",
   "execution_count": 4,
   "id": "0d7feba7-55bd-4ff5-84ea-e1b637501c6e",
   "metadata": {},
   "outputs": [],
   "source": [
    "def _msg(role, content):\n",
    "    return {'role': role, 'content': content}\n",
    "\n",
    "def system(content):\n",
    "    return _msg('system', content)\n",
    "\n",
    "def user(content):\n",
    "    return _msg('user', content)\n",
    "\n",
    "def assistant(content):\n",
    "    return _msg('assistant', content)"
   ]
  },
  {
   "cell_type": "code",
   "execution_count": 5,
   "id": "1f544d87-98f6-48b2-a2e5-618794209a2e",
   "metadata": {},
   "outputs": [],
   "source": [
    "chat_history = [\n",
    "    system(\"You are a helpful assistant.\"),\n",
    "    user(\"Hey, what is Python?\"),\n",
    "    assistant(\"Python is a good programming language\"),\n",
    "    user(\"Why so....???\"),\n",
    "]"
   ]
  },
  {
   "cell_type": "code",
   "execution_count": 6,
   "id": "be914a0e-77ec-4d57-9bd4-27cf2cadac8e",
   "metadata": {},
   "outputs": [],
   "source": [
    "from pprint import pprint"
   ]
  },
  {
   "cell_type": "code",
   "execution_count": 7,
   "id": "e2440a63-585c-4627-8dfe-c2318df5b51b",
   "metadata": {},
   "outputs": [
    {
     "name": "stdout",
     "output_type": "stream",
     "text": [
      "[{'content': 'You are a helpful assistant.', 'role': 'system'},\n",
      " {'content': 'Hey, what is Python?', 'role': 'user'},\n",
      " {'content': 'Python is a good programming language', 'role': 'assistant'},\n",
      " {'content': 'Why so....???', 'role': 'user'}]\n"
     ]
    }
   ],
   "source": [
    "pprint(chat_history)"
   ]
  },
  {
   "cell_type": "code",
   "execution_count": 12,
   "id": "194bae28-694a-4db9-8df9-260f142e9d2e",
   "metadata": {},
   "outputs": [],
   "source": [
    "completion = await client.chat.completions.create(\n",
    "    model = \"gpt-4o-mini\",\n",
    "    messages = chat_history,\n",
    "    max_tokens = 50 # limit the output to safe costs\n",
    ") # returns a coroutine that's an awaitable so we need to put an await in front\n",
    "# <coroutine object AsyncCompletions.create at 0x1039706c0>"
   ]
  },
  {
   "cell_type": "code",
   "execution_count": 13,
   "id": "bf937c7a-80ef-4a4d-9e8b-b253f35b8ec0",
   "metadata": {},
   "outputs": [
    {
     "data": {
      "text/plain": [
       "ChatCompletion(id='chatcmpl-AKkP2UK3qIi3HP9gW4gUkMebmTeWo', choices=[Choice(finish_reason='length', index=0, logprobs=None, message=ChatCompletionMessage(content='Python is considered a good programming language for several reasons:\\n\\n1. **Readability**: Python syntax is clear and concise, which makes it easier for beginners to learn and understand. The use of indentation to define blocks of code contributes to its readability.\\n\\n', refusal=None, role='assistant', audio=None, function_call=None, tool_calls=None))], created=1729508296, model='gpt-4o-mini-2024-07-18', object='chat.completion', service_tier=None, system_fingerprint='fp_482c22a7bc', usage=CompletionUsage(completion_tokens=50, prompt_tokens=41, total_tokens=91, completion_tokens_details=CompletionTokensDetails(audio_tokens=None, reasoning_tokens=0), prompt_tokens_details=PromptTokensDetails(audio_tokens=None, cached_tokens=0)))"
      ]
     },
     "execution_count": 13,
     "metadata": {},
     "output_type": "execute_result"
    }
   ],
   "source": [
    "completion # returns a coroutine that's an awaitable so we need to put an await in front"
   ]
  },
  {
   "cell_type": "code",
   "execution_count": 16,
   "id": "8ae60fc1-09a0-44cd-9fe9-c5805b68694f",
   "metadata": {},
   "outputs": [],
   "source": [
    "# making completions work concurrently with Python's asyncio library\n",
    "import asyncio"
   ]
  },
  {
   "cell_type": "code",
   "execution_count": 14,
   "id": "316f9140-2af5-4c66-971e-125087ea6a7a",
   "metadata": {},
   "outputs": [],
   "source": [
    "# making completions work concurrently\n",
    "completion_task_1 = client.chat.completions.create(\n",
    "    model = \"gpt-4o-mini\",\n",
    "    messages = chat_history,\n",
    "    max_tokens = 50 # limit the output to safe costs\n",
    ")\n",
    "\n",
    "completion_task_2 = client.chat.completions.create(\n",
    "    model = \"gpt-4o-mini\",\n",
    "    messages = chat_history,\n",
    "    max_tokens = 50 # limit the output to safe costs\n",
    ")"
   ]
  },
  {
   "cell_type": "code",
   "execution_count": 15,
   "id": "f256ee41-d2d7-408d-aed4-9c99f5406daf",
   "metadata": {},
   "outputs": [
    {
     "data": {
      "text/plain": [
       "(<coroutine object AsyncCompletions.create at 0x12612d6a0>,\n",
       " <coroutine object AsyncCompletions.create at 0x12612d8e0>)"
      ]
     },
     "execution_count": 15,
     "metadata": {},
     "output_type": "execute_result"
    }
   ],
   "source": [
    "completion_task_1, completion_task_2 # two coroutines"
   ]
  },
  {
   "cell_type": "code",
   "execution_count": 17,
   "id": "216de5c2-4507-4871-ae99-d3ab36a6bc08",
   "metadata": {},
   "outputs": [],
   "source": [
    "# execution calls concurrently with asyncio's gather function\n",
    "results = await asyncio.gather(completion_task_1, completion_task_2)"
   ]
  },
  {
   "cell_type": "code",
   "execution_count": 18,
   "id": "08f18a20-df8f-48ec-9936-6bfc1b8561ac",
   "metadata": {},
   "outputs": [
    {
     "data": {
      "text/plain": [
       "[ChatCompletion(id='chatcmpl-AKkeAlEzErX7w9TGIMgzNH1F6AEb8', choices=[Choice(finish_reason='length', index=0, logprobs=None, message=ChatCompletionMessage(content='Python is considered a good programming language for several reasons:\\n\\n1. **Readability**: Python has a clear and easy-to-read syntax, which makes it a great choice for beginners and allows experienced programmers to understand code quickly.\\n\\n2. **Versatility', refusal=None, role='assistant', audio=None, function_call=None, tool_calls=None))], created=1729509234, model='gpt-4o-mini-2024-07-18', object='chat.completion', service_tier=None, system_fingerprint='fp_482c22a7bc', usage=CompletionUsage(completion_tokens=50, prompt_tokens=41, total_tokens=91, completion_tokens_details=CompletionTokensDetails(audio_tokens=None, reasoning_tokens=0), prompt_tokens_details=PromptTokensDetails(audio_tokens=None, cached_tokens=0))),\n",
       " ChatCompletion(id='chatcmpl-AKkeAI1nCCNe9yYP0hLO7ttwh71Nv', choices=[Choice(finish_reason='length', index=0, logprobs=None, message=ChatCompletionMessage(content=\"Python is considered a good programming language for several reasons:\\n\\n1. **Easy to Learn**: Python's syntax is clear and easy to understand, making it a great choice for beginners. The readability of Python code allows new programmers to quickly learn and apply\", refusal=None, role='assistant', audio=None, function_call=None, tool_calls=None))], created=1729509234, model='gpt-4o-mini-2024-07-18', object='chat.completion', service_tier=None, system_fingerprint='fp_482c22a7bc', usage=CompletionUsage(completion_tokens=50, prompt_tokens=41, total_tokens=91, completion_tokens_details=CompletionTokensDetails(audio_tokens=None, reasoning_tokens=0), prompt_tokens_details=PromptTokensDetails(audio_tokens=None, cached_tokens=0)))]"
      ]
     },
     "execution_count": 18,
     "metadata": {},
     "output_type": "execute_result"
    }
   ],
   "source": [
    "results"
   ]
  },
  {
   "cell_type": "code",
   "execution_count": 24,
   "id": "b76de256-7f5d-40e1-8dea-1c2f4fe38f10",
   "metadata": {},
   "outputs": [],
   "source": [
    "# now let's just create a list of tasks\n",
    "completion_tasks = []\n",
    "\n",
    "for i in range(50):\n",
    "    completion_task = client.chat.completions.create(\n",
    "        model = \"gpt-4o-mini\",\n",
    "        messages = chat_history,\n",
    "        max_tokens = 50 # limit the output to safe costs\n",
    "    )\n",
    "\n",
    "    completion_tasks.append(completion_task)"
   ]
  },
  {
   "cell_type": "code",
   "execution_count": 25,
   "id": "47094100-15de-4af4-bce0-26ab7541ee0e",
   "metadata": {},
   "outputs": [
    {
     "data": {
      "text/plain": [
       "50"
      ]
     },
     "execution_count": 25,
     "metadata": {},
     "output_type": "execute_result"
    }
   ],
   "source": [
    "len(completion_tasks) # list of coroutines"
   ]
  },
  {
   "cell_type": "code",
   "execution_count": 26,
   "id": "59053bee-ccbd-407f-adca-3cabe21a7d4a",
   "metadata": {},
   "outputs": [],
   "source": [
    "results_list = await asyncio.gather(*completion_tasks) # unpack them all with *"
   ]
  },
  {
   "cell_type": "code",
   "execution_count": 27,
   "id": "ed3bfb55-aa58-4fc5-88e2-88b20ccb4e8c",
   "metadata": {},
   "outputs": [
    {
     "data": {
      "text/plain": [
       "[ChatCompletion(id='chatcmpl-AKkoDWdol6BieVstO7RjL0Nsi3J0t', choices=[Choice(finish_reason='length', index=0, logprobs=None, message=ChatCompletionMessage(content='Python is considered a great programming language for several reasons:\\n\\n1. **Simplicity and Readability**: Python has a clear and easy-to-understand syntax, which makes it a great choice for beginners. Its design philosophy emphasizes readability, allowing programmers', refusal=None, role='assistant', audio=None, function_call=None, tool_calls=None))], created=1729509857, model='gpt-4o-mini-2024-07-18', object='chat.completion', service_tier=None, system_fingerprint='fp_482c22a7bc', usage=CompletionUsage(completion_tokens=50, prompt_tokens=41, total_tokens=91, completion_tokens_details=CompletionTokensDetails(audio_tokens=None, reasoning_tokens=0), prompt_tokens_details=PromptTokensDetails(audio_tokens=None, cached_tokens=0))),\n",
       " ChatCompletion(id='chatcmpl-AKkoDTwMMHlqF9pSaNWL1IUK4mOzx', choices=[Choice(finish_reason='length', index=0, logprobs=None, message=ChatCompletionMessage(content='Python is considered a good programming language for several reasons:\\n\\n1. **Readability and Simplicity**: Python has a clear and easy-to-read syntax, which makes it an excellent choice for beginners. The language emphasizes readability, which helps developers understand', refusal=None, role='assistant', audio=None, function_call=None, tool_calls=None))], created=1729509857, model='gpt-4o-mini-2024-07-18', object='chat.completion', service_tier=None, system_fingerprint='fp_482c22a7bc', usage=CompletionUsage(completion_tokens=50, prompt_tokens=41, total_tokens=91, completion_tokens_details=CompletionTokensDetails(audio_tokens=None, reasoning_tokens=0), prompt_tokens_details=PromptTokensDetails(audio_tokens=None, cached_tokens=0))),\n",
       " ChatCompletion(id='chatcmpl-AKkoDYoh4vFp1Y1MpYNgky61n6Uju', choices=[Choice(finish_reason='length', index=0, logprobs=None, message=ChatCompletionMessage(content='Python is considered a great programming language for several reasons:\\n\\n1. **Readability and Simplicity**: Python syntax is designed to be easy to read and write. This makes it an excellent choice for beginners and helps enhance productivity for experienced developers.\\n\\n', refusal=None, role='assistant', audio=None, function_call=None, tool_calls=None))], created=1729509857, model='gpt-4o-mini-2024-07-18', object='chat.completion', service_tier=None, system_fingerprint='fp_482c22a7bc', usage=CompletionUsage(completion_tokens=50, prompt_tokens=41, total_tokens=91, completion_tokens_details=CompletionTokensDetails(audio_tokens=None, reasoning_tokens=0), prompt_tokens_details=PromptTokensDetails(audio_tokens=None, cached_tokens=0))),\n",
       " ChatCompletion(id='chatcmpl-AKkoDcfvQSp2iw26gcDg8UUS5BnvW', choices=[Choice(finish_reason='length', index=0, logprobs=None, message=ChatCompletionMessage(content=\"Python is considered a good programming language for several reasons:\\n\\n1. **Readability**: Python's syntax is clear and easy to read, which makes it accessible for beginners as well as experienced developers. This enhances code maintainability and collaboration.\\n\\n2.\", refusal=None, role='assistant', audio=None, function_call=None, tool_calls=None))], created=1729509857, model='gpt-4o-mini-2024-07-18', object='chat.completion', service_tier=None, system_fingerprint='fp_482c22a7bc', usage=CompletionUsage(completion_tokens=50, prompt_tokens=41, total_tokens=91, completion_tokens_details=CompletionTokensDetails(audio_tokens=None, reasoning_tokens=0), prompt_tokens_details=PromptTokensDetails(audio_tokens=None, cached_tokens=0))),\n",
       " ChatCompletion(id='chatcmpl-AKkoDE8mw77kotZ5RrE7W7KXTLWuD', choices=[Choice(finish_reason='length', index=0, logprobs=None, message=ChatCompletionMessage(content='Python is considered a good programming language for several reasons:\\n\\n1. **Readability and Simplicity**: Python has a clean and straightforward syntax that makes it easy to read and write. This enhances code readability, which is beneficial for both beginners and', refusal=None, role='assistant', audio=None, function_call=None, tool_calls=None))], created=1729509857, model='gpt-4o-mini-2024-07-18', object='chat.completion', service_tier=None, system_fingerprint='fp_e2bde53e6e', usage=CompletionUsage(completion_tokens=50, prompt_tokens=41, total_tokens=91, completion_tokens_details=CompletionTokensDetails(audio_tokens=None, reasoning_tokens=0), prompt_tokens_details=PromptTokensDetails(audio_tokens=None, cached_tokens=0))),\n",
       " ChatCompletion(id='chatcmpl-AKkoDwVSgp2A5WrlQCnA2PIvOlfQz', choices=[Choice(finish_reason='length', index=0, logprobs=None, message=ChatCompletionMessage(content=\"Python is considered a good programming language for several reasons:\\n\\n1. **Readability and Simplicity**: Python's syntax is clear and easy to understand, which makes it an excellent choice for beginners. The code is often more readable than in other\", refusal=None, role='assistant', audio=None, function_call=None, tool_calls=None))], created=1729509857, model='gpt-4o-mini-2024-07-18', object='chat.completion', service_tier=None, system_fingerprint='fp_482c22a7bc', usage=CompletionUsage(completion_tokens=50, prompt_tokens=41, total_tokens=91, completion_tokens_details=CompletionTokensDetails(audio_tokens=None, reasoning_tokens=0), prompt_tokens_details=PromptTokensDetails(audio_tokens=None, cached_tokens=0))),\n",
       " ChatCompletion(id='chatcmpl-AKkoD6lmmByBHgSFSTmtIYeABqyvi', choices=[Choice(finish_reason='length', index=0, logprobs=None, message=ChatCompletionMessage(content='Python is considered a good programming language for several reasons:\\n\\n1. **Readability and Simplicity**: Python has a clear and straightforward syntax, which makes it easy to read and write. This reduces the learning curve for beginners and allows developers to', refusal=None, role='assistant', audio=None, function_call=None, tool_calls=None))], created=1729509857, model='gpt-4o-mini-2024-07-18', object='chat.completion', service_tier=None, system_fingerprint='fp_e2bde53e6e', usage=CompletionUsage(completion_tokens=50, prompt_tokens=41, total_tokens=91, completion_tokens_details=CompletionTokensDetails(audio_tokens=None, reasoning_tokens=0), prompt_tokens_details=PromptTokensDetails(audio_tokens=None, cached_tokens=0))),\n",
       " ChatCompletion(id='chatcmpl-AKkoDftIRETrBMXub5g7Z2PI2ip62', choices=[Choice(finish_reason='length', index=0, logprobs=None, message=ChatCompletionMessage(content=\"Python is considered a good programming language for several reasons:\\n\\n1. **Readability**: Python's syntax is designed to be clear and easy to read, which makes it accessible for beginners. The use of indentation to define code blocks encourages good programming practices\", refusal=None, role='assistant', audio=None, function_call=None, tool_calls=None))], created=1729509857, model='gpt-4o-mini-2024-07-18', object='chat.completion', service_tier=None, system_fingerprint='fp_482c22a7bc', usage=CompletionUsage(completion_tokens=50, prompt_tokens=41, total_tokens=91, completion_tokens_details=CompletionTokensDetails(audio_tokens=None, reasoning_tokens=0), prompt_tokens_details=PromptTokensDetails(audio_tokens=None, cached_tokens=0))),\n",
       " ChatCompletion(id='chatcmpl-AKkoDq6rw19oSgvlZqNMcaKqOja6h', choices=[Choice(finish_reason='length', index=0, logprobs=None, message=ChatCompletionMessage(content=\"Python is considered a good programming language for several reasons:\\n\\n1. **Ease of Learning and Use**: Python has a clear and readable syntax, which makes it an excellent choice for beginners. The language's simplicity allows new programmers to focus on learning programming\", refusal=None, role='assistant', audio=None, function_call=None, tool_calls=None))], created=1729509857, model='gpt-4o-mini-2024-07-18', object='chat.completion', service_tier=None, system_fingerprint='fp_482c22a7bc', usage=CompletionUsage(completion_tokens=50, prompt_tokens=41, total_tokens=91, completion_tokens_details=CompletionTokensDetails(audio_tokens=None, reasoning_tokens=0), prompt_tokens_details=PromptTokensDetails(audio_tokens=None, cached_tokens=0))),\n",
       " ChatCompletion(id='chatcmpl-AKkoDREqa33nwmF2ymkwIBhkElQEr', choices=[Choice(finish_reason='length', index=0, logprobs=None, message=ChatCompletionMessage(content='Python is considered a good programming language for several reasons:\\n\\n1. **Easy to Learn and Use**: Python has a simple and clear syntax, which makes it easy for beginners to learn and understand. Its readability allows developers to write code more quickly and', refusal=None, role='assistant', audio=None, function_call=None, tool_calls=None))], created=1729509857, model='gpt-4o-mini-2024-07-18', object='chat.completion', service_tier=None, system_fingerprint='fp_482c22a7bc', usage=CompletionUsage(completion_tokens=50, prompt_tokens=41, total_tokens=91, completion_tokens_details=CompletionTokensDetails(audio_tokens=None, reasoning_tokens=0), prompt_tokens_details=PromptTokensDetails(audio_tokens=None, cached_tokens=0))),\n",
       " ChatCompletion(id='chatcmpl-AKkoDFBzQdl4NCmd9ruYfcuekJphB', choices=[Choice(finish_reason='length', index=0, logprobs=None, message=ChatCompletionMessage(content='Python is considered a good programming language for several reasons:\\n\\n1. **Readability and Simplicity**: Python has a clean and easy-to-read syntax that emphasizes readability, making it accessible for beginners and allowing experienced programmers to express concepts in fewer lines', refusal=None, role='assistant', audio=None, function_call=None, tool_calls=None))], created=1729509857, model='gpt-4o-mini-2024-07-18', object='chat.completion', service_tier=None, system_fingerprint='fp_482c22a7bc', usage=CompletionUsage(completion_tokens=50, prompt_tokens=41, total_tokens=91, completion_tokens_details=CompletionTokensDetails(audio_tokens=None, reasoning_tokens=0), prompt_tokens_details=PromptTokensDetails(audio_tokens=None, cached_tokens=0))),\n",
       " ChatCompletion(id='chatcmpl-AKkoDV7Blj9mQGNBkx9DW5tVUKMFr', choices=[Choice(finish_reason='length', index=0, logprobs=None, message=ChatCompletionMessage(content=\"Python is considered a great programming language for several reasons:\\n\\n1. **Readability**: Python emphasizes code readability and simplicity, making it easier for beginners to learn and for experienced developers to understand each other's code.\\n\\n2. **Versatility**: It\", refusal=None, role='assistant', audio=None, function_call=None, tool_calls=None))], created=1729509857, model='gpt-4o-mini-2024-07-18', object='chat.completion', service_tier=None, system_fingerprint='fp_482c22a7bc', usage=CompletionUsage(completion_tokens=50, prompt_tokens=41, total_tokens=91, completion_tokens_details=CompletionTokensDetails(audio_tokens=None, reasoning_tokens=0), prompt_tokens_details=PromptTokensDetails(audio_tokens=None, cached_tokens=0))),\n",
       " ChatCompletion(id='chatcmpl-AKkoDtHbmmyc2ILaYSOwn4yOA31AV', choices=[Choice(finish_reason='length', index=0, logprobs=None, message=ChatCompletionMessage(content='Python is considered a good programming language for several reasons:\\n\\n1. **Readability and Simplicity**: Python’s syntax is clear and easy to understand, which makes it an ideal choice for beginners. The code looks clean and is often easier to', refusal=None, role='assistant', audio=None, function_call=None, tool_calls=None))], created=1729509857, model='gpt-4o-mini-2024-07-18', object='chat.completion', service_tier=None, system_fingerprint='fp_482c22a7bc', usage=CompletionUsage(completion_tokens=50, prompt_tokens=41, total_tokens=91, completion_tokens_details=CompletionTokensDetails(audio_tokens=None, reasoning_tokens=0), prompt_tokens_details=PromptTokensDetails(audio_tokens=None, cached_tokens=0))),\n",
       " ChatCompletion(id='chatcmpl-AKkoDernkdNKFAs1CAtaAWoS31FpZ', choices=[Choice(finish_reason='length', index=0, logprobs=None, message=ChatCompletionMessage(content='Python is considered a good programming language for several reasons:\\n\\n1. **Easy to Learn and Use**: Python has a simple and readable syntax that makes it accessible for beginners. Its clear structure allows new programmers to quickly understand the principles of coding.\\n\\n2', refusal=None, role='assistant', audio=None, function_call=None, tool_calls=None))], created=1729509857, model='gpt-4o-mini-2024-07-18', object='chat.completion', service_tier=None, system_fingerprint='fp_482c22a7bc', usage=CompletionUsage(completion_tokens=50, prompt_tokens=41, total_tokens=91, completion_tokens_details=CompletionTokensDetails(audio_tokens=None, reasoning_tokens=0), prompt_tokens_details=PromptTokensDetails(audio_tokens=None, cached_tokens=0))),\n",
       " ChatCompletion(id='chatcmpl-AKkoD76MrDY0X2GbNPCvA3fWiwBXY', choices=[Choice(finish_reason='length', index=0, logprobs=None, message=ChatCompletionMessage(content=\"Python is considered a good programming language for several reasons:\\n\\n1. **Easy to Read and Write**: Python's syntax is designed to be clear and straightforward, which makes it accessible for beginners and allows developers to write code more quickly.\\n\\n2. **\", refusal=None, role='assistant', audio=None, function_call=None, tool_calls=None))], created=1729509857, model='gpt-4o-mini-2024-07-18', object='chat.completion', service_tier=None, system_fingerprint='fp_7693ae462b', usage=CompletionUsage(completion_tokens=50, prompt_tokens=41, total_tokens=91, completion_tokens_details=CompletionTokensDetails(audio_tokens=None, reasoning_tokens=0), prompt_tokens_details=PromptTokensDetails(audio_tokens=None, cached_tokens=0))),\n",
       " ChatCompletion(id='chatcmpl-AKkoDOOJ9gI7XKANB4I5Ye629kvoR', choices=[Choice(finish_reason='length', index=0, logprobs=None, message=ChatCompletionMessage(content='Python is considered a good programming language for several reasons:\\n\\n1. **Readability and Simplicity**: Python has a clean and easy-to-read syntax, which makes it an excellent choice for beginners as well as experienced developers. This simplicity allows programmers', refusal=None, role='assistant', audio=None, function_call=None, tool_calls=None))], created=1729509857, model='gpt-4o-mini-2024-07-18', object='chat.completion', service_tier=None, system_fingerprint='fp_482c22a7bc', usage=CompletionUsage(completion_tokens=50, prompt_tokens=41, total_tokens=91, completion_tokens_details=CompletionTokensDetails(audio_tokens=None, reasoning_tokens=0), prompt_tokens_details=PromptTokensDetails(audio_tokens=None, cached_tokens=0))),\n",
       " ChatCompletion(id='chatcmpl-AKkoDSAx5WhGGCmMwcJxqBIf0LZDl', choices=[Choice(finish_reason='length', index=0, logprobs=None, message=ChatCompletionMessage(content=\"Python is considered a good programming language for several reasons:\\n\\n1. **Readability and Simplicity**: Python's syntax is clear and intuitive, which makes it easy to learn and understand. This helps both beginners and experienced programmers.\\n\\n2. **\", refusal=None, role='assistant', audio=None, function_call=None, tool_calls=None))], created=1729509857, model='gpt-4o-mini-2024-07-18', object='chat.completion', service_tier=None, system_fingerprint='fp_482c22a7bc', usage=CompletionUsage(completion_tokens=50, prompt_tokens=41, total_tokens=91, completion_tokens_details=CompletionTokensDetails(audio_tokens=None, reasoning_tokens=0), prompt_tokens_details=PromptTokensDetails(audio_tokens=None, cached_tokens=0))),\n",
       " ChatCompletion(id='chatcmpl-AKkoD4j9rNXkiGk4HSPTgWaRQLJrY', choices=[Choice(finish_reason='length', index=0, logprobs=None, message=ChatCompletionMessage(content=\"Python is considered a good programming language for several reasons:\\n\\n1. **Readability and Simplicity**: Python's syntax is designed to be easy to read and write. This makes it accessible for beginners and allows developers to express concepts in fewer lines\", refusal=None, role='assistant', audio=None, function_call=None, tool_calls=None))], created=1729509857, model='gpt-4o-mini-2024-07-18', object='chat.completion', service_tier=None, system_fingerprint='fp_482c22a7bc', usage=CompletionUsage(completion_tokens=50, prompt_tokens=41, total_tokens=91, completion_tokens_details=CompletionTokensDetails(audio_tokens=None, reasoning_tokens=0), prompt_tokens_details=PromptTokensDetails(audio_tokens=None, cached_tokens=0))),\n",
       " ChatCompletion(id='chatcmpl-AKkoDjomklPhmn93OsIcX2uSdtYfh', choices=[Choice(finish_reason='length', index=0, logprobs=None, message=ChatCompletionMessage(content='Python is considered a good programming language for several reasons:\\n\\n1. **Ease of Learning:** Python has a simple and readable syntax, which makes it accessible for beginners. Its design philosophy emphasizes code readability, which allows new programmers to quickly understand and write code', refusal=None, role='assistant', audio=None, function_call=None, tool_calls=None))], created=1729509857, model='gpt-4o-mini-2024-07-18', object='chat.completion', service_tier=None, system_fingerprint='fp_e2bde53e6e', usage=CompletionUsage(completion_tokens=50, prompt_tokens=41, total_tokens=91, completion_tokens_details=CompletionTokensDetails(audio_tokens=None, reasoning_tokens=0), prompt_tokens_details=PromptTokensDetails(audio_tokens=None, cached_tokens=0))),\n",
       " ChatCompletion(id='chatcmpl-AKkoDGieBLWL9eMzfMIJwjgncqxPo', choices=[Choice(finish_reason='length', index=0, logprobs=None, message=ChatCompletionMessage(content='Python is considered a good programming language for several reasons:\\n\\n1. **Ease of Learning**: Python has a simple and readable syntax, which makes it easy for beginners to understand and write code. This reduces the learning curve for new developers.\\n\\n2.', refusal=None, role='assistant', audio=None, function_call=None, tool_calls=None))], created=1729509857, model='gpt-4o-mini-2024-07-18', object='chat.completion', service_tier=None, system_fingerprint='fp_482c22a7bc', usage=CompletionUsage(completion_tokens=50, prompt_tokens=41, total_tokens=91, completion_tokens_details=CompletionTokensDetails(audio_tokens=None, reasoning_tokens=0), prompt_tokens_details=PromptTokensDetails(audio_tokens=None, cached_tokens=0))),\n",
       " ChatCompletion(id='chatcmpl-AKkoDhbyUL8ftSoOwmQ5mZiTgeFjR', choices=[Choice(finish_reason='length', index=0, logprobs=None, message=ChatCompletionMessage(content='Python is considered a good programming language for several reasons:\\n\\n1. **Readability and Simplicity**: Python has a clean and easy-to-read syntax, which makes it accessible to beginners and allows developers to express concepts in fewer lines of code compared', refusal=None, role='assistant', audio=None, function_call=None, tool_calls=None))], created=1729509857, model='gpt-4o-mini-2024-07-18', object='chat.completion', service_tier=None, system_fingerprint='fp_482c22a7bc', usage=CompletionUsage(completion_tokens=50, prompt_tokens=41, total_tokens=91, completion_tokens_details=CompletionTokensDetails(audio_tokens=None, reasoning_tokens=0), prompt_tokens_details=PromptTokensDetails(audio_tokens=None, cached_tokens=0))),\n",
       " ChatCompletion(id='chatcmpl-AKkoD6beDesH3YoWRu5HnDZlId634', choices=[Choice(finish_reason='length', index=0, logprobs=None, message=ChatCompletionMessage(content='Python is considered a good programming language for several reasons:\\n\\n1. **Simplicity and Readability**: Python has a clean and easy-to-read syntax that allows programmers to write code more clearly and concisely. This makes it especially good for', refusal=None, role='assistant', audio=None, function_call=None, tool_calls=None))], created=1729509857, model='gpt-4o-mini-2024-07-18', object='chat.completion', service_tier=None, system_fingerprint='fp_482c22a7bc', usage=CompletionUsage(completion_tokens=50, prompt_tokens=41, total_tokens=91, completion_tokens_details=CompletionTokensDetails(audio_tokens=None, reasoning_tokens=0), prompt_tokens_details=PromptTokensDetails(audio_tokens=None, cached_tokens=0))),\n",
       " ChatCompletion(id='chatcmpl-AKkoDyWHeupemkvGMKyulKQWP30M6', choices=[Choice(finish_reason='length', index=0, logprobs=None, message=ChatCompletionMessage(content='Python is considered a good programming language for several reasons:\\n\\n1. **Ease of Learning and Use**: Python has a simple and readable syntax that makes it accessible for beginners. Its design philosophy emphasizes code readability, which helps new programmers understand and write code', refusal=None, role='assistant', audio=None, function_call=None, tool_calls=None))], created=1729509857, model='gpt-4o-mini-2024-07-18', object='chat.completion', service_tier=None, system_fingerprint='fp_e2bde53e6e', usage=CompletionUsage(completion_tokens=50, prompt_tokens=41, total_tokens=91, completion_tokens_details=CompletionTokensDetails(audio_tokens=None, reasoning_tokens=0), prompt_tokens_details=PromptTokensDetails(audio_tokens=None, cached_tokens=0))),\n",
       " ChatCompletion(id='chatcmpl-AKkoDMru5PxbHHjQOv7xyoVzSXuMX', choices=[Choice(finish_reason='length', index=0, logprobs=None, message=ChatCompletionMessage(content=\"Python is considered a good programming language for several reasons:\\n\\n1. **Readable and Simple Syntax**: Python's syntax is designed to be easy to read and write, which makes it accessible for beginners and allows developers to express concepts in fewer lines of code\", refusal=None, role='assistant', audio=None, function_call=None, tool_calls=None))], created=1729509857, model='gpt-4o-mini-2024-07-18', object='chat.completion', service_tier=None, system_fingerprint='fp_e2bde53e6e', usage=CompletionUsage(completion_tokens=50, prompt_tokens=41, total_tokens=91, completion_tokens_details=CompletionTokensDetails(audio_tokens=None, reasoning_tokens=0), prompt_tokens_details=PromptTokensDetails(audio_tokens=None, cached_tokens=0))),\n",
       " ChatCompletion(id='chatcmpl-AKkoDVqpEh2njGfgatXoXUOB96IUP', choices=[Choice(finish_reason='length', index=0, logprobs=None, message=ChatCompletionMessage(content=\"Python is considered a good programming language for several reasons:\\n\\n1. **Easy to Read and Write**: Python's syntax is clear and intuitive, making it easy to read and write. This simplicity allows new programmers to quickly learn and understand the language,\", refusal=None, role='assistant', audio=None, function_call=None, tool_calls=None))], created=1729509857, model='gpt-4o-mini-2024-07-18', object='chat.completion', service_tier=None, system_fingerprint='fp_482c22a7bc', usage=CompletionUsage(completion_tokens=50, prompt_tokens=41, total_tokens=91, completion_tokens_details=CompletionTokensDetails(audio_tokens=None, reasoning_tokens=0), prompt_tokens_details=PromptTokensDetails(audio_tokens=None, cached_tokens=0))),\n",
       " ChatCompletion(id='chatcmpl-AKkoD7sp5Z0n0OoanrYzGkGQ06UaZ', choices=[Choice(finish_reason='length', index=0, logprobs=None, message=ChatCompletionMessage(content='Python is considered a good programming language for several reasons:\\n\\n1. **Readability and Simplicity**: Python has a clean and easy-to-read syntax which makes it an excellent choice for beginners. This readability helps developers understand code more easily and maintain', refusal=None, role='assistant', audio=None, function_call=None, tool_calls=None))], created=1729509857, model='gpt-4o-mini-2024-07-18', object='chat.completion', service_tier=None, system_fingerprint='fp_7693ae462b', usage=CompletionUsage(completion_tokens=50, prompt_tokens=41, total_tokens=91, completion_tokens_details=CompletionTokensDetails(audio_tokens=None, reasoning_tokens=0), prompt_tokens_details=PromptTokensDetails(audio_tokens=None, cached_tokens=0))),\n",
       " ChatCompletion(id='chatcmpl-AKkoD6IRPpq0S47DKg6VAC1u18vq0', choices=[Choice(finish_reason='length', index=0, logprobs=None, message=ChatCompletionMessage(content=\"Python is considered a good programming language for several reasons:\\n\\n1. **Readability and Simplicity**: Python's syntax is clean and easy to read, which makes it an excellent choice for beginners. It emphasizes readability, allowing developers to express concepts\", refusal=None, role='assistant', audio=None, function_call=None, tool_calls=None))], created=1729509857, model='gpt-4o-mini-2024-07-18', object='chat.completion', service_tier=None, system_fingerprint='fp_482c22a7bc', usage=CompletionUsage(completion_tokens=50, prompt_tokens=41, total_tokens=91, completion_tokens_details=CompletionTokensDetails(audio_tokens=None, reasoning_tokens=0), prompt_tokens_details=PromptTokensDetails(audio_tokens=None, cached_tokens=0))),\n",
       " ChatCompletion(id='chatcmpl-AKkoD2p16KvnanbauVhIp8CvHVqFg', choices=[Choice(finish_reason='length', index=0, logprobs=None, message=ChatCompletionMessage(content='Python is considered a good programming language for several reasons:\\n\\n1. **Readability and Simplicity**: Python has a clean and straightforward syntax that is easy to read and write. This makes it accessible for beginners and allows experienced programmers to develop applications', refusal=None, role='assistant', audio=None, function_call=None, tool_calls=None))], created=1729509857, model='gpt-4o-mini-2024-07-18', object='chat.completion', service_tier=None, system_fingerprint='fp_482c22a7bc', usage=CompletionUsage(completion_tokens=50, prompt_tokens=41, total_tokens=91, completion_tokens_details=CompletionTokensDetails(audio_tokens=None, reasoning_tokens=0), prompt_tokens_details=PromptTokensDetails(audio_tokens=None, cached_tokens=0))),\n",
       " ChatCompletion(id='chatcmpl-AKkoDJBdKhZ8e3qrSUY2qgXXLMelZ', choices=[Choice(finish_reason='length', index=0, logprobs=None, message=ChatCompletionMessage(content='Python is considered a good programming language for several reasons:\\n\\n1. **Ease of Learning**: Python has a simple and clean syntax that makes it easy for beginners to read and write code. This is one of the main reasons it is often recommended for', refusal=None, role='assistant', audio=None, function_call=None, tool_calls=None))], created=1729509857, model='gpt-4o-mini-2024-07-18', object='chat.completion', service_tier=None, system_fingerprint='fp_e2bde53e6e', usage=CompletionUsage(completion_tokens=50, prompt_tokens=41, total_tokens=91, completion_tokens_details=CompletionTokensDetails(audio_tokens=None, reasoning_tokens=0), prompt_tokens_details=PromptTokensDetails(audio_tokens=None, cached_tokens=0))),\n",
       " ChatCompletion(id='chatcmpl-AKkoDuDHSFKk3y4PWKJhJQkKcp4HX', choices=[Choice(finish_reason='length', index=0, logprobs=None, message=ChatCompletionMessage(content='Python is considered a good programming language for several reasons:\\n\\n1. **Simplicity and Readability**: Python has a clean and straightforward syntax that is easy to read, which helps beginners learn programming concepts without getting bogged down by complex syntax rules', refusal=None, role='assistant', audio=None, function_call=None, tool_calls=None))], created=1729509857, model='gpt-4o-mini-2024-07-18', object='chat.completion', service_tier=None, system_fingerprint='fp_482c22a7bc', usage=CompletionUsage(completion_tokens=50, prompt_tokens=41, total_tokens=91, completion_tokens_details=CompletionTokensDetails(audio_tokens=None, reasoning_tokens=0), prompt_tokens_details=PromptTokensDetails(audio_tokens=None, cached_tokens=0))),\n",
       " ChatCompletion(id='chatcmpl-AKkoD9Si6pVFXBi5TjQa6Y4rkzVr0', choices=[Choice(finish_reason='length', index=0, logprobs=None, message=ChatCompletionMessage(content='Python is considered a good programming language for several reasons:\\n\\n1. **Easy to Learn and Use**: Python has a simple and readable syntax that makes it accessible to beginners. This allows students and newcomers to quickly pick up programming concepts.\\n\\n2. **', refusal=None, role='assistant', audio=None, function_call=None, tool_calls=None))], created=1729509857, model='gpt-4o-mini-2024-07-18', object='chat.completion', service_tier=None, system_fingerprint='fp_482c22a7bc', usage=CompletionUsage(completion_tokens=50, prompt_tokens=41, total_tokens=91, completion_tokens_details=CompletionTokensDetails(audio_tokens=None, reasoning_tokens=0), prompt_tokens_details=PromptTokensDetails(audio_tokens=None, cached_tokens=0))),\n",
       " ChatCompletion(id='chatcmpl-AKkoD2vq2ELc8LgWfIGDKC0gdGcxl', choices=[Choice(finish_reason='length', index=0, logprobs=None, message=ChatCompletionMessage(content=\"Python is considered a great programming language for several reasons:\\n\\n1. **Readability**: Python's syntax is clear and easy to read, which makes the code more straightforward to understand and maintain. This emphasis on readability reduces the cognitive load needed for programming\", refusal=None, role='assistant', audio=None, function_call=None, tool_calls=None))], created=1729509857, model='gpt-4o-mini-2024-07-18', object='chat.completion', service_tier=None, system_fingerprint='fp_482c22a7bc', usage=CompletionUsage(completion_tokens=50, prompt_tokens=41, total_tokens=91, completion_tokens_details=CompletionTokensDetails(audio_tokens=None, reasoning_tokens=0), prompt_tokens_details=PromptTokensDetails(audio_tokens=None, cached_tokens=0))),\n",
       " ChatCompletion(id='chatcmpl-AKkoDm4Mh4lqQIUd2XZIVC5Eq2ihK', choices=[Choice(finish_reason='length', index=0, logprobs=None, message=ChatCompletionMessage(content='Python is widely regarded as a good programming language for several reasons:\\n\\n1. **Ease of Learning**: Python has a simple and readable syntax, which makes it especially easy for beginners to learn and understand. This readability helps new programmers grasp concepts quickly.\\n\\n', refusal=None, role='assistant', audio=None, function_call=None, tool_calls=None))], created=1729509857, model='gpt-4o-mini-2024-07-18', object='chat.completion', service_tier=None, system_fingerprint='fp_482c22a7bc', usage=CompletionUsage(completion_tokens=50, prompt_tokens=41, total_tokens=91, completion_tokens_details=CompletionTokensDetails(audio_tokens=None, reasoning_tokens=0), prompt_tokens_details=PromptTokensDetails(audio_tokens=None, cached_tokens=0))),\n",
       " ChatCompletion(id='chatcmpl-AKkoDePWgnmTyBmtI8pwVcOuYdnl1', choices=[Choice(finish_reason='length', index=0, logprobs=None, message=ChatCompletionMessage(content='Python is considered a good programming language for several reasons:\\n\\n1. **Easy to Read and Write**: Python has a clear and simple syntax that mimics natural language, which makes it accessible to beginners and helps improve code readability.\\n\\n2. **Vers', refusal=None, role='assistant', audio=None, function_call=None, tool_calls=None))], created=1729509857, model='gpt-4o-mini-2024-07-18', object='chat.completion', service_tier=None, system_fingerprint='fp_482c22a7bc', usage=CompletionUsage(completion_tokens=50, prompt_tokens=41, total_tokens=91, completion_tokens_details=CompletionTokensDetails(audio_tokens=None, reasoning_tokens=0), prompt_tokens_details=PromptTokensDetails(audio_tokens=None, cached_tokens=0))),\n",
       " ChatCompletion(id='chatcmpl-AKkoDgJWXXeMLQ3MrQFAqtaI0PdfB', choices=[Choice(finish_reason='length', index=0, logprobs=None, message=ChatCompletionMessage(content='Python is considered a good programming language for several reasons:\\n\\n1. **Simplicity and Readability**: Python has a clear and straightforward syntax, which makes it easy to read and write. This simplicity allows beginners to quickly grasp programming concepts.\\n\\n2', refusal=None, role='assistant', audio=None, function_call=None, tool_calls=None))], created=1729509857, model='gpt-4o-mini-2024-07-18', object='chat.completion', service_tier=None, system_fingerprint='fp_482c22a7bc', usage=CompletionUsage(completion_tokens=50, prompt_tokens=41, total_tokens=91, completion_tokens_details=CompletionTokensDetails(audio_tokens=None, reasoning_tokens=0), prompt_tokens_details=PromptTokensDetails(audio_tokens=None, cached_tokens=0))),\n",
       " ChatCompletion(id='chatcmpl-AKkoDsAxntELPKjFNzJbBqLKyps5b', choices=[Choice(finish_reason='length', index=0, logprobs=None, message=ChatCompletionMessage(content='Python is considered a good programming language for several reasons:\\n\\n1. **Readability and Simplicity**: Python’s syntax is designed to be easy to read and understand, which reduces the complexity for beginners and makes code maintenance easier.\\n\\n2. **', refusal=None, role='assistant', audio=None, function_call=None, tool_calls=None))], created=1729509857, model='gpt-4o-mini-2024-07-18', object='chat.completion', service_tier=None, system_fingerprint='fp_482c22a7bc', usage=CompletionUsage(completion_tokens=50, prompt_tokens=41, total_tokens=91, completion_tokens_details=CompletionTokensDetails(audio_tokens=None, reasoning_tokens=0), prompt_tokens_details=PromptTokensDetails(audio_tokens=None, cached_tokens=0))),\n",
       " ChatCompletion(id='chatcmpl-AKkoDFUZVPS7mM01auUwREVSSW8HR', choices=[Choice(finish_reason='length', index=0, logprobs=None, message=ChatCompletionMessage(content='Python is considered a great programming language for several reasons:\\n\\n1. **Readability and Simplicity**: Python syntax is clear and easy to read, which makes it an excellent choice for beginners and helps developers write code more efficiently.\\n\\n2. **', refusal=None, role='assistant', audio=None, function_call=None, tool_calls=None))], created=1729509857, model='gpt-4o-mini-2024-07-18', object='chat.completion', service_tier=None, system_fingerprint='fp_482c22a7bc', usage=CompletionUsage(completion_tokens=50, prompt_tokens=41, total_tokens=91, completion_tokens_details=CompletionTokensDetails(audio_tokens=None, reasoning_tokens=0), prompt_tokens_details=PromptTokensDetails(audio_tokens=None, cached_tokens=0))),\n",
       " ChatCompletion(id='chatcmpl-AKkoDqxdi40s3iKg8NWURwmgzx8cm', choices=[Choice(finish_reason='length', index=0, logprobs=None, message=ChatCompletionMessage(content=\"Python is often considered a great programming language for several reasons:\\n\\n1. **Readability**: Python's syntax is clean and easy to understand, which makes it accessible for beginners and enhances productivity for experienced programmers.\\n\\n2. **Versatility**: Python\", refusal=None, role='assistant', audio=None, function_call=None, tool_calls=None))], created=1729509857, model='gpt-4o-mini-2024-07-18', object='chat.completion', service_tier=None, system_fingerprint='fp_482c22a7bc', usage=CompletionUsage(completion_tokens=50, prompt_tokens=41, total_tokens=91, completion_tokens_details=CompletionTokensDetails(audio_tokens=None, reasoning_tokens=0), prompt_tokens_details=PromptTokensDetails(audio_tokens=None, cached_tokens=0))),\n",
       " ChatCompletion(id='chatcmpl-AKkoDk74Vl3cwrGw62rhnwm3tZNfg', choices=[Choice(finish_reason='length', index=0, logprobs=None, message=ChatCompletionMessage(content='Python is considered a good programming language for several reasons:\\n\\n1. **Easy to Learn and Use**: Python has a simple and clean syntax that is easy for beginners to understand. This makes it accessible for those new to programming.\\n\\n2. **Vers', refusal=None, role='assistant', audio=None, function_call=None, tool_calls=None))], created=1729509857, model='gpt-4o-mini-2024-07-18', object='chat.completion', service_tier=None, system_fingerprint='fp_482c22a7bc', usage=CompletionUsage(completion_tokens=50, prompt_tokens=41, total_tokens=91, completion_tokens_details=CompletionTokensDetails(audio_tokens=None, reasoning_tokens=0), prompt_tokens_details=PromptTokensDetails(audio_tokens=None, cached_tokens=0))),\n",
       " ChatCompletion(id='chatcmpl-AKkoDnL4clka4Ep1aw7xmSOkIvpXw', choices=[Choice(finish_reason='length', index=0, logprobs=None, message=ChatCompletionMessage(content='Python is considered a \"good\" programming language for several reasons:\\n\\n1. **Readability and Simplicity**: Python has a clean and easy-to-read syntax, which makes it accessible for beginners. The use of indentation to define code blocks enhances', refusal=None, role='assistant', audio=None, function_call=None, tool_calls=None))], created=1729509857, model='gpt-4o-mini-2024-07-18', object='chat.completion', service_tier=None, system_fingerprint='fp_7693ae462b', usage=CompletionUsage(completion_tokens=50, prompt_tokens=41, total_tokens=91, completion_tokens_details=CompletionTokensDetails(audio_tokens=None, reasoning_tokens=0), prompt_tokens_details=PromptTokensDetails(audio_tokens=None, cached_tokens=0))),\n",
       " ChatCompletion(id='chatcmpl-AKkoDioZyMlYBhi47g8JfyjftDYkG', choices=[Choice(finish_reason='length', index=0, logprobs=None, message=ChatCompletionMessage(content='Python is considered a good programming language for several reasons:\\n\\n1. **Ease of Learning and Use**: Python has a straightforward and readable syntax, which makes it accessible for beginners. This simplicity allows new programmers to quickly grasp the basics and start writing simple', refusal=None, role='assistant', audio=None, function_call=None, tool_calls=None))], created=1729509857, model='gpt-4o-mini-2024-07-18', object='chat.completion', service_tier=None, system_fingerprint='fp_e2bde53e6e', usage=CompletionUsage(completion_tokens=50, prompt_tokens=41, total_tokens=91, completion_tokens_details=CompletionTokensDetails(audio_tokens=None, reasoning_tokens=0), prompt_tokens_details=PromptTokensDetails(audio_tokens=None, cached_tokens=0))),\n",
       " ChatCompletion(id='chatcmpl-AKkoDaEgPxBxFwA6KlL61QuOs0OWo', choices=[Choice(finish_reason='length', index=0, logprobs=None, message=ChatCompletionMessage(content=\"Python is considered a good programming language for several reasons:\\n\\n1. **Readability and Simplicity**: Python's syntax is clear and concise, making it easy to read and write. This simplicity allows beginners to learn the basics of programming quickly.\\n\\n\", refusal=None, role='assistant', audio=None, function_call=None, tool_calls=None))], created=1729509857, model='gpt-4o-mini-2024-07-18', object='chat.completion', service_tier=None, system_fingerprint='fp_e2bde53e6e', usage=CompletionUsage(completion_tokens=50, prompt_tokens=41, total_tokens=91, completion_tokens_details=CompletionTokensDetails(audio_tokens=None, reasoning_tokens=0), prompt_tokens_details=PromptTokensDetails(audio_tokens=None, cached_tokens=0))),\n",
       " ChatCompletion(id='chatcmpl-AKkoDGnDUkORm9eAQ4S9kW1E76QO2', choices=[Choice(finish_reason='length', index=0, logprobs=None, message=ChatCompletionMessage(content='Python is often considered a \"good\" programming language for several reasons:\\n\\n1. **Readability**: Python\\'s syntax is clear and concise, which makes it easy for newcomers to learn and understand. This emphasis on readability helps developers write clean code that', refusal=None, role='assistant', audio=None, function_call=None, tool_calls=None))], created=1729509857, model='gpt-4o-mini-2024-07-18', object='chat.completion', service_tier=None, system_fingerprint='fp_482c22a7bc', usage=CompletionUsage(completion_tokens=50, prompt_tokens=41, total_tokens=91, completion_tokens_details=CompletionTokensDetails(audio_tokens=None, reasoning_tokens=0), prompt_tokens_details=PromptTokensDetails(audio_tokens=None, cached_tokens=0))),\n",
       " ChatCompletion(id='chatcmpl-AKkoD14VFvF1Lv1JV0UNeWA61HxrJ', choices=[Choice(finish_reason='length', index=0, logprobs=None, message=ChatCompletionMessage(content=\"Python is considered a good programming language for several reasons:\\n\\n1. **Readability**: Python's syntax is designed to be clear and easy to read. This makes it more accessible for beginners and helps experienced developers understand code more quickly.\\n\\n2. **\", refusal=None, role='assistant', audio=None, function_call=None, tool_calls=None))], created=1729509857, model='gpt-4o-mini-2024-07-18', object='chat.completion', service_tier=None, system_fingerprint='fp_482c22a7bc', usage=CompletionUsage(completion_tokens=50, prompt_tokens=41, total_tokens=91, completion_tokens_details=CompletionTokensDetails(audio_tokens=None, reasoning_tokens=0), prompt_tokens_details=PromptTokensDetails(audio_tokens=None, cached_tokens=0))),\n",
       " ChatCompletion(id='chatcmpl-AKkoDZcVrFCvMUziTy5YSvqgU9AoG', choices=[Choice(finish_reason='length', index=0, logprobs=None, message=ChatCompletionMessage(content='Python is considered a good programming language for several reasons:\\n\\n1. **Readability and Simplicity**: Python has a clean and straightforward syntax that is easy to read and understand. This makes it an excellent choice for beginners and allows developers to focus', refusal=None, role='assistant', audio=None, function_call=None, tool_calls=None))], created=1729509857, model='gpt-4o-mini-2024-07-18', object='chat.completion', service_tier=None, system_fingerprint='fp_482c22a7bc', usage=CompletionUsage(completion_tokens=50, prompt_tokens=41, total_tokens=91, completion_tokens_details=CompletionTokensDetails(audio_tokens=None, reasoning_tokens=0), prompt_tokens_details=PromptTokensDetails(audio_tokens=None, cached_tokens=0))),\n",
       " ChatCompletion(id='chatcmpl-AKkoDA1Y3I82NF64VPySPC7iGsa4C', choices=[Choice(finish_reason='length', index=0, logprobs=None, message=ChatCompletionMessage(content=\"Python is considered a good programming language for several reasons:\\n\\n1. **Readability**: Python's syntax is clean and easy to read, making it accessible to beginners and allowing experienced developers to understand code quickly.\\n\\n2. **Versatility**: Python\", refusal=None, role='assistant', audio=None, function_call=None, tool_calls=None))], created=1729509857, model='gpt-4o-mini-2024-07-18', object='chat.completion', service_tier=None, system_fingerprint='fp_7693ae462b', usage=CompletionUsage(completion_tokens=50, prompt_tokens=41, total_tokens=91, completion_tokens_details=CompletionTokensDetails(audio_tokens=None, reasoning_tokens=0), prompt_tokens_details=PromptTokensDetails(audio_tokens=None, cached_tokens=0))),\n",
       " ChatCompletion(id='chatcmpl-AKkoDRzff5HYlc3dxUHBtFi4hANxr', choices=[Choice(finish_reason='length', index=0, logprobs=None, message=ChatCompletionMessage(content='Python is considered a good programming language for several reasons:\\n\\n1. **Readability**: Python’s syntax is clear and easy to read, which makes it a great language for beginners as well as for large teams of developers.\\n\\n2. **Versatility', refusal=None, role='assistant', audio=None, function_call=None, tool_calls=None))], created=1729509857, model='gpt-4o-mini-2024-07-18', object='chat.completion', service_tier=None, system_fingerprint='fp_482c22a7bc', usage=CompletionUsage(completion_tokens=50, prompt_tokens=41, total_tokens=91, completion_tokens_details=CompletionTokensDetails(audio_tokens=None, reasoning_tokens=0), prompt_tokens_details=PromptTokensDetails(audio_tokens=None, cached_tokens=0))),\n",
       " ChatCompletion(id='chatcmpl-AKkoDSb0Uoxv7aQ6WY6BjPmgi0zmh', choices=[Choice(finish_reason='length', index=0, logprobs=None, message=ChatCompletionMessage(content='Python is considered a good programming language for several reasons:\\n\\n1. **Readability and Simplicity**: Python has a clean and easy-to-read syntax, which makes it accessible for beginners and allows developers to express concepts in fewer lines of code than', refusal=None, role='assistant', audio=None, function_call=None, tool_calls=None))], created=1729509857, model='gpt-4o-mini-2024-07-18', object='chat.completion', service_tier=None, system_fingerprint='fp_482c22a7bc', usage=CompletionUsage(completion_tokens=50, prompt_tokens=41, total_tokens=91, completion_tokens_details=CompletionTokensDetails(audio_tokens=None, reasoning_tokens=0), prompt_tokens_details=PromptTokensDetails(audio_tokens=None, cached_tokens=0))),\n",
       " ChatCompletion(id='chatcmpl-AKkoD9qLImmWBCRlHp9DNmYSo0gRd', choices=[Choice(finish_reason='length', index=0, logprobs=None, message=ChatCompletionMessage(content='Python is considered a good programming language for several reasons:\\n\\n1. **Readability**: Python has a clean and easy-to-read syntax, which makes it accessible for beginners and allows experienced programmers to focus more on solving problems than on the syntax itself.\\n\\n', refusal=None, role='assistant', audio=None, function_call=None, tool_calls=None))], created=1729509857, model='gpt-4o-mini-2024-07-18', object='chat.completion', service_tier=None, system_fingerprint='fp_e2bde53e6e', usage=CompletionUsage(completion_tokens=50, prompt_tokens=41, total_tokens=91, completion_tokens_details=CompletionTokensDetails(audio_tokens=None, reasoning_tokens=0), prompt_tokens_details=PromptTokensDetails(audio_tokens=None, cached_tokens=0))),\n",
       " ChatCompletion(id='chatcmpl-AKkoDj8t4LpPLpzSl288vzIsi1bZh', choices=[Choice(finish_reason='length', index=0, logprobs=None, message=ChatCompletionMessage(content='Python is considered a good programming language for several reasons:\\n\\n1. **Ease of Learning**: Python has a simple and readable syntax that makes it accessible for beginners. Its code is often clear and straightforward, which helps new programmers grasp concepts quickly.\\n\\n2', refusal=None, role='assistant', audio=None, function_call=None, tool_calls=None))], created=1729509857, model='gpt-4o-mini-2024-07-18', object='chat.completion', service_tier=None, system_fingerprint='fp_e2bde53e6e', usage=CompletionUsage(completion_tokens=50, prompt_tokens=41, total_tokens=91, completion_tokens_details=CompletionTokensDetails(audio_tokens=None, reasoning_tokens=0), prompt_tokens_details=PromptTokensDetails(audio_tokens=None, cached_tokens=0)))]"
      ]
     },
     "execution_count": 27,
     "metadata": {},
     "output_type": "execute_result"
    }
   ],
   "source": [
    "results_list"
   ]
  },
  {
   "cell_type": "code",
   "execution_count": 28,
   "id": "d3587698-46e2-4e56-bb26-11a0d83f0b98",
   "metadata": {},
   "outputs": [
    {
     "data": {
      "text/plain": [
       "ChatCompletion(id='chatcmpl-AKkoDj8t4LpPLpzSl288vzIsi1bZh', choices=[Choice(finish_reason='length', index=0, logprobs=None, message=ChatCompletionMessage(content='Python is considered a good programming language for several reasons:\\n\\n1. **Ease of Learning**: Python has a simple and readable syntax that makes it accessible for beginners. Its code is often clear and straightforward, which helps new programmers grasp concepts quickly.\\n\\n2', refusal=None, role='assistant', audio=None, function_call=None, tool_calls=None))], created=1729509857, model='gpt-4o-mini-2024-07-18', object='chat.completion', service_tier=None, system_fingerprint='fp_e2bde53e6e', usage=CompletionUsage(completion_tokens=50, prompt_tokens=41, total_tokens=91, completion_tokens_details=CompletionTokensDetails(audio_tokens=None, reasoning_tokens=0), prompt_tokens_details=PromptTokensDetails(audio_tokens=None, cached_tokens=0)))"
      ]
     },
     "execution_count": 28,
     "metadata": {},
     "output_type": "execute_result"
    }
   ],
   "source": [
    "results_list[-1] # having a look at the last one"
   ]
  },
  {
   "cell_type": "code",
   "execution_count": null,
   "id": "f0a890c6-bb4a-4e92-ac07-5ed810c0bed7",
   "metadata": {},
   "outputs": [],
   "source": []
  }
 ],
 "metadata": {
  "kernelspec": {
   "display_name": "Python 3 (ipykernel)",
   "language": "python",
   "name": "python3"
  },
  "language_info": {
   "codemirror_mode": {
    "name": "ipython",
    "version": 3
   },
   "file_extension": ".py",
   "mimetype": "text/x-python",
   "name": "python",
   "nbconvert_exporter": "python",
   "pygments_lexer": "ipython3",
   "version": "3.12.7"
  }
 },
 "nbformat": 4,
 "nbformat_minor": 5
}
