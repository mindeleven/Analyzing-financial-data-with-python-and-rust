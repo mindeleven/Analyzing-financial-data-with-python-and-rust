{
 "cells": [
  {
   "cell_type": "markdown",
   "id": "a855b502-8d8a-4dd0-b501-1a7b9a96ef3c",
   "metadata": {},
   "source": [
    "## Caching Variables on Disk"
   ]
  },
  {
   "cell_type": "markdown",
   "id": "92e28d2d-1a7a-4014-9579-b7f4f032ee5f",
   "metadata": {},
   "source": [
    "*[Coding along with the Udemy Course [Advanced Retrieval Augmented Generation ](https://www.udemy.com/course/advanced-retrieval-augmented-generation/) by Rémi Connesson]*"
   ]
  },
  {
   "cell_type": "code",
   "execution_count": 1,
   "id": "1b1946b3-6ced-42e0-8214-0709a28fdb93",
   "metadata": {},
   "outputs": [],
   "source": [
    "import pandas as pd\n",
    "from openai import AsyncOpenAI"
   ]
  },
  {
   "cell_type": "code",
   "execution_count": 2,
   "id": "9fb927d8-f66c-46c2-a847-dd7706e98980",
   "metadata": {},
   "outputs": [
    {
     "name": "stdout",
     "output_type": "stream",
     "text": [
      "Don't be a fool and sent your api key to github\n"
     ]
    }
   ],
   "source": [
    "api_key = pd.read_csv(\"~/tmp/chat_gpt/agentic-design-1.txt\", sep=\" \", header=None)[0][0]\n",
    "print(\"Don't be a fool and sent your api key to github\")"
   ]
  },
  {
   "cell_type": "code",
   "execution_count": 3,
   "id": "6dd42e90-6686-4505-9030-ee03d6f89309",
   "metadata": {},
   "outputs": [],
   "source": [
    "client = AsyncOpenAI(api_key=api_key)"
   ]
  },
  {
   "cell_type": "code",
   "execution_count": 4,
   "id": "9d2e7f53-a2cc-451b-a8cc-b2743e35f051",
   "metadata": {},
   "outputs": [],
   "source": [
    "def _msg(role, content):\n",
    "    return {'role': role, 'content': content}\n",
    "\n",
    "def system(content):\n",
    "    return _msg('system', content)\n",
    "\n",
    "def user(content):\n",
    "    return _msg('user', content)\n",
    "\n",
    "def assistant(content):\n",
    "    return _msg('assistant', content)"
   ]
  },
  {
   "cell_type": "code",
   "execution_count": 5,
   "id": "0639e761-73f7-49ab-b86d-c709b0981e20",
   "metadata": {},
   "outputs": [],
   "source": [
    "model = \"gpt-4o-mini\""
   ]
  },
  {
   "cell_type": "code",
   "execution_count": 9,
   "id": "7f870dd8-a63c-48ce-97fd-88c3f44bcbb4",
   "metadata": {},
   "outputs": [
    {
     "data": {
      "text/plain": [
       "'Caching in software engineering is a technique used to store copies of frequently accessed data or computations in a temporary storage location, known as a cache, to improve the performance and efficiency of applications by reducing latency and resource consumption. The primary purpose of caching is to speed up data retrieval and decrease the load on underlying data sources or computation resources.\\n\\n### Key Concepts of Caching:\\n\\n1. **Cache Types**:\\n   - **Memory Cache**: In-memory caches, such as Redis or Memcached, store data'"
      ]
     },
     "execution_count": 9,
     "metadata": {},
     "output_type": "execute_result"
    }
   ],
   "source": [
    "# sanity check 1, is this thing on?\n",
    "completion_1 = await client.chat.completions.create(\n",
    "    model = model,\n",
    "    messages = [user(\"What is caching in software engineering?\")],\n",
    "    max_tokens = 100 # limit the output to save costs; answer might get cut\n",
    ")\n",
    "completion_1.choices[0].message.content"
   ]
  },
  {
   "cell_type": "code",
   "execution_count": 11,
   "id": "54ccd74a-6815-42d0-8d9f-81d0c25e3a4d",
   "metadata": {},
   "outputs": [
    {
     "data": {
      "text/plain": [
       "\"Today's date is October 3, 2023.\""
      ]
     },
     "execution_count": 11,
     "metadata": {},
     "output_type": "execute_result"
    }
   ],
   "source": [
    "# sanity check 2, is this thing on?\n",
    "completion_2 = await client.chat.completions.create(\n",
    "    model = \"gpt-4o-mini-2024-07-18\",\n",
    "    messages = [user(\"What date is today?\")]\n",
    ")\n",
    "completion_2.choices[0].message.content"
   ]
  },
  {
   "cell_type": "markdown",
   "id": "69148077-bec6-4508-8a69-f17a44a8d105",
   "metadata": {},
   "source": [
    "### Introducing Caching"
   ]
  },
  {
   "cell_type": "code",
   "execution_count": 17,
   "id": "22862270-e84d-42e2-9a1c-c2620a7a28ac",
   "metadata": {},
   "outputs": [],
   "source": [
    "# https://pypi.org/project/diskcache/\n",
    "# Disk Cache -- Disk and file backed persistent cache\n",
    "from diskcache import Cache"
   ]
  },
  {
   "cell_type": "code",
   "execution_count": 18,
   "id": "7d3b3992-ec66-400a-9ccf-bac002b45daa",
   "metadata": {},
   "outputs": [],
   "source": [
    "cache = Cache(directory=\".cache\")"
   ]
  },
  {
   "cell_type": "code",
   "execution_count": 21,
   "id": "dde98dc7-cf8e-4fde-ae7d-68c75a7e45fb",
   "metadata": {},
   "outputs": [],
   "source": [
    "# cache.set(\"thirteen\", \"It was a bright cold day in April, and the clocks were striking thirteen.\")"
   ]
  },
  {
   "cell_type": "code",
   "execution_count": 22,
   "id": "77dd45e5-576a-41ff-bd44-25e77bed3fa3",
   "metadata": {},
   "outputs": [
    {
     "data": {
      "text/plain": [
       "'It was a bright cold day in April, and the clocks were striking thirteen.'"
      ]
     },
     "execution_count": 22,
     "metadata": {},
     "output_type": "execute_result"
    }
   ],
   "source": [
    "cache.get(\"thirteen\")"
   ]
  },
  {
   "cell_type": "markdown",
   "id": "e890f319-13b1-4b94-a1d3-28537a1cba6f",
   "metadata": {},
   "source": [
    "### Making Caching Asynchronous"
   ]
  },
  {
   "cell_type": "code",
   "execution_count": 23,
   "id": "7238e9fb-e55e-4f97-b51f-16b432031019",
   "metadata": {},
   "outputs": [],
   "source": [
    "import asyncio"
   ]
  },
  {
   "cell_type": "code",
   "execution_count": 27,
   "id": "e1915eb5-432b-4f3c-80eb-71e2b48dd95f",
   "metadata": {},
   "outputs": [],
   "source": [
    "# creating a wrapper around the cache\n",
    "# so I can call it in a way that's thread safe\n",
    "async def set_async(key, val, **kwargs): # what the hell is kwargs???\n",
    "    # await the cache.set operation\n",
    "    return await asyncio.to_thread(cache.set, key, val, **kwargs)\n",
    "\n",
    "async def get_async(key, default=None, **kwargs):\n",
    "    return await asyncio.to_thread(cache.get, key, default, **kwargs)"
   ]
  },
  {
   "cell_type": "code",
   "execution_count": 28,
   "id": "378a8dd6-7dc6-4098-8365-38ce73284d2e",
   "metadata": {},
   "outputs": [
    {
     "data": {
      "text/plain": [
       "'It was a bright cold day in April, and the clocks were striking thirteen.'"
      ]
     },
     "execution_count": 28,
     "metadata": {},
     "output_type": "execute_result"
    }
   ],
   "source": [
    "await get_async(\"thirteen\")"
   ]
  },
  {
   "cell_type": "code",
   "execution_count": 30,
   "id": "ebcbdb00-4759-4249-8a3c-6cb398d80502",
   "metadata": {},
   "outputs": [
    {
     "name": "stdout",
     "output_type": "stream",
     "text": [
      "NOT FOUND\n"
     ]
    }
   ],
   "source": [
    "print(await get_async(\"key that doesn't exist\", default=\"NOT FOUND\")) # returns None if default is not set"
   ]
  },
  {
   "cell_type": "code",
   "execution_count": 32,
   "id": "6c770f23-81f3-4ba5-8fc4-6027a6391864",
   "metadata": {},
   "outputs": [
    {
     "data": {
      "text/plain": [
       "('NOT FOUND', True, 'The Owls Are Not What They Seem')"
      ]
     },
     "execution_count": 32,
     "metadata": {},
     "output_type": "execute_result"
    }
   ],
   "source": [
    "(\n",
    "    await get_async(\"key that doesn't exist\", default=\"NOT FOUND\"),\n",
    "    await set_async(\"Cooper\", \"The Owls Are Not What They Seem\"),\n",
    "    await get_async(\"Cooper\")\n",
    ")"
   ]
  },
  {
   "cell_type": "markdown",
   "id": "424f4988-eb4b-4f78-848e-441ee9b34d41",
   "metadata": {},
   "source": [
    "#### <span style=\"color:green;font-weight:bold;font-size:105%\">Interlude: What are **kwargs when calling a Python function?</span>"
   ]
  },
  {
   "cell_type": "markdown",
   "id": "0eb6acbe-a697-4117-892b-395b98dd6009",
   "metadata": {},
   "source": [
    "In Python, `**kwargs` is a syntax used in function definitions to allow passing a variable number of keyword arguments to a function. The name `kwargs` stands for \"keyword arguments,\" though you can name it anything you like (the double asterisks `**` are what matter). \n",
    "\n",
    "Here’s how it works:\n",
    "\n",
    "1. **Collecting Keyword Arguments**: When `**kwargs` is used in a function definition, it collects all extra keyword arguments passed to the function into a dictionary. The keys in the dictionary are the argument names, and the values are the values passed for those arguments.\n",
    "\n",
    "   ```python\n",
    "   def example_function(**kwargs):\n",
    "       print(kwargs)\n",
    "\n",
    "   example_function(name=\"Alice\", age=25, job=\"Data Scientist\")\n",
    "   # Output: {'name': 'Alice', 'age': 25, 'job': 'Data Scientist'}\n",
    "   ```\n",
    "\n",
    "2. **Using `**kwargs` to Flexibly Pass Arguments**: This is useful for functions that might take optional parameters or need to handle a variety of inputs without explicitly defining each parameter.\n",
    "\n",
    "3. **Unpacking Keyword Arguments**: You can also use `**kwargs` when calling a function to \"unpack\" a dictionary as keyword arguments.\n",
    "\n",
    "   ```python\n",
    "   def greet(name, greeting):\n",
    "       print(f\"{greeting}, {name}!\")\n",
    "\n",
    "   details = {\"name\": \"Alice\", \"greeting\": \"Hello\"}\n",
    "   greet(**details)\n",
    "   # Output: \"Hello, Alice!\"\n",
    "   ```\n",
    "\n",
    "Overall, `**kwargs` provides flexibility, especially for writing functions that can handle optional or dynamically named arguments."
   ]
  },
  {
   "cell_type": "markdown",
   "id": "aeda6e42-4de7-497f-9ac7-541b079a8d1c",
   "metadata": {},
   "source": [
    "#### <span style=\"color:green;font-weight:bold;font-size:105%\">Interlude End</span>"
   ]
  },
  {
   "cell_type": "markdown",
   "id": "da6a2420-dc72-40b1-a0af-053ea47f61a6",
   "metadata": {},
   "source": [
    "### Caching LLM Calls"
   ]
  },
  {
   "cell_type": "code",
   "execution_count": 37,
   "id": "e4e0217a-72c7-4856-bd6a-416997ba8f03",
   "metadata": {},
   "outputs": [],
   "source": [
    "import json\n",
    "from hashlib import md5"
   ]
  },
  {
   "cell_type": "code",
   "execution_count": 38,
   "id": "0e0cef82-0235-46f7-9a67-56c9bff88284",
   "metadata": {},
   "outputs": [],
   "source": [
    "# when calling a function in Python there are different ways to arrange the oder of the arguments\n",
    "# we've to make sure that arguments are in a certain order when he create a hashkey out of them\n",
    "def make_cache_key(key_name, **kwargs):\n",
    "    kwargs_string = json.dumps(kwargs, sort_keys=True)\n",
    "    kwargs_hash = md5(kwargs_string.encode('utf-8')).hexdigest()\n",
    "    cache_key = f\"{key_name}__{kwargs_hash}\"\n",
    "    return cache_key"
   ]
  },
  {
   "cell_type": "code",
   "execution_count": 39,
   "id": "a83d2043-b7de-437d-a6e6-f778f2fb950c",
   "metadata": {},
   "outputs": [
    {
     "data": {
      "text/plain": [
       "'demo_cache__ac6b59f8b9221cc50603ef2f4fcbf866'"
      ]
     },
     "execution_count": 39,
     "metadata": {},
     "output_type": "execute_result"
    }
   ],
   "source": [
    "make_cache_key(\"demo_cache\", a=1, b=2, c=4)"
   ]
  },
  {
   "cell_type": "code",
   "execution_count": 40,
   "id": "fb93f01c-a8b4-48ae-83bd-d60a8a95eb3c",
   "metadata": {},
   "outputs": [
    {
     "data": {
      "text/plain": [
       "'demo_cache__ac6b59f8b9221cc50603ef2f4fcbf866'"
      ]
     },
     "execution_count": 40,
     "metadata": {},
     "output_type": "execute_result"
    }
   ],
   "source": [
    "make_cache_key(\"demo_cache\", a=1, c=4, b=2)"
   ]
  },
  {
   "cell_type": "markdown",
   "id": "81bc8d20-2e48-4c0a-9bc9-b736ff3391f0",
   "metadata": {},
   "source": [
    "#### __Caching an LLM Call__"
   ]
  },
  {
   "cell_type": "code",
   "execution_count": null,
   "id": "4bad8eca-18b4-472f-90ca-fc0493674875",
   "metadata": {},
   "outputs": [],
   "source": [
    "# caching a chat completion\n",
    "# the * at the position of the first parameter forces us to explicitly pass parameters with the variable name\n",
    "# Positional-Only Arguments: When you use a single * by itself in the function signature, it indicates that all arguments \n",
    "# following the * must be passed as keyword arguments. This is useful for enforcing readability, as it makes certain \n",
    "# arguments require a name when the function is called.\n",
    "def _make_cache_key_for_chat_completion(\n",
    "    *,\n",
    "    model,\n",
    "    messages,\n",
    "    **kwargs\n",
    "):\n",
    "    return make_cache_key(\n",
    "        \"openai_chat_completion\",\n",
    "        model=model,\n",
    "        messages=messages,\n",
    "        **kwargs\n",
    "    )"
   ]
  },
  {
   "cell_type": "code",
   "execution_count": 43,
   "id": "e504b926-59af-459c-880b-26a53f7f050a",
   "metadata": {},
   "outputs": [],
   "source": [
    "# A sentinel value is often used in function parameters to indicate that no value was provided by the user. \n",
    "# A common sentinel for this purpose is None.\n",
    "CACHE_MISS_SENTINEL = object() # creating a sentinel"
   ]
  },
  {
   "cell_type": "code",
   "execution_count": null,
   "id": "c76119f8-b1dc-4b27-b1b7-e098f9f59be6",
   "metadata": {},
   "outputs": [],
   "source": [
    "async def cached_chat_completion(\n",
    "    model\n",
    "    messages,\n",
    "    **kwargs\n",
    "):\n",
    "    # 1) CREATE CACHE KEY\n",
    "    cache_key = _make_cache_key_for_chat_completion(\n",
    "        *,\n",
    "        model,\n",
    "        messages,\n",
    "        **kwargs\n",
    "    )\n",
    "\n",
    "    cached_value = await get_async(cache_key)\n",
    "\n",
    "    # 2) CACHE HIT\n",
    "    \n",
    "\n",
    "    # 3) CACHE MISS"
   ]
  },
  {
   "cell_type": "code",
   "execution_count": null,
   "id": "4d17536d-442c-4ba2-bf85-635b1011c6ce",
   "metadata": {},
   "outputs": [],
   "source": []
  }
 ],
 "metadata": {
  "kernelspec": {
   "display_name": "Python 3 (ipykernel)",
   "language": "python",
   "name": "python3"
  },
  "language_info": {
   "codemirror_mode": {
    "name": "ipython",
    "version": 3
   },
   "file_extension": ".py",
   "mimetype": "text/x-python",
   "name": "python",
   "nbconvert_exporter": "python",
   "pygments_lexer": "ipython3",
   "version": "3.12.7"
  }
 },
 "nbformat": 4,
 "nbformat_minor": 5
}
