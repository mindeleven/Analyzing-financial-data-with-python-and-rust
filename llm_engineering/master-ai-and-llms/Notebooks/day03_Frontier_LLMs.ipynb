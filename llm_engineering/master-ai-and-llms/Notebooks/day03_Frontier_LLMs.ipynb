{
 "cells": [
  {
   "cell_type": "markdown",
   "id": "38772086-4223-4dbc-a625-6becec651d2d",
   "metadata": {},
   "source": [
    "## Day 3: Frontier LLMs"
   ]
  },
  {
   "cell_type": "markdown",
   "id": "13387ca1-17f8-42bf-a332-1531ac26aa52",
   "metadata": {},
   "source": [
    "*[Coding along with the Udemy online course [LLM Engineering: Master AI & Large Language Models](https://www.udemy.com/course/llm-engineering-master-ai-and-large-language-models/) by Ed Donner; GitHub repo can be found at [github.com/ed-donner/llm_engineering](https://github.com/ed-donner/llm_engineering)]*"
   ]
  },
  {
   "cell_type": "markdown",
   "id": "e7a76c91-b3be-4850-a3a8-b03a075a0aaf",
   "metadata": {},
   "source": [
    "### Frontier models and their end-user UIs"
   ]
  },
  {
   "cell_type": "markdown",
   "id": "3d27079f-245a-48bc-bd56-1b12b86d4549",
   "metadata": {},
   "source": [
    "<img src=\"../assets/images/frontier-models-1.png\" width=\"80%\" /><br />\n",
    "*Screenshot taken from [LLM Engineering: Master AI & Large Language Models](https://www.udemy.com/course/llm-engineering-master-ai-and-large-language-models/learn/lecture/45772261#overview), Section8, Day 3*"
   ]
  },
  {
   "cell_type": "markdown",
   "id": "07319843-9711-42c5-8219-85936516aa73",
   "metadata": {},
   "source": [
    "__Putting Frontier LLMs to a test with the questions (zero-shot prompting):__\n",
    "\n",
    "1. \"How do I decide if a business problem is suitable for an LLM solution?\"\n",
    " \n",
    "2. \"Compared with other Frontier LLMs, what kinds of questions are you best at answering and what kind of questions do you find most challeging? Where do you struggle and what other LLM has capabilities that complement yours?\"\n",
    "\n",
    "3. \"What does it feel like to be jealous?\"\n",
    "\n",
    "4. \"How many times does the letter 'a' appear in this sentence?\""
   ]
  },
  {
   "cell_type": "markdown",
   "id": "ebd50a7c-d136-4dad-90ac-fdbe4c95c29c",
   "metadata": {},
   "source": [
    "__Frontier Models we'll test:__\n",
    "\n",
    "1. OpenAI's ChatGPT @ https://chatgpt.com/\n",
    "\n",
    "2. Anthropic's Claude @ https://claude.ai/\n",
    "\n",
    "3. Google's Gemini @ https://gemini.google.com/\n",
    "\n",
    "4. Cohere @ https://coral.cohere.com\n",
    "\n",
    "5. Meta AI @ https://www.meta.ai/ (not available in Germany)\n",
    "\n",
    "6. Perplexity @ https://www.perplexity.ai/"
   ]
  },
  {
   "cell_type": "markdown",
   "id": "ba5de937-6d9f-4dbb-b473-4f5aff903018",
   "metadata": {},
   "source": [
    "### LLMs answering \"What does it feel like to be jealous?\""
   ]
  },
  {
   "cell_type": "markdown",
   "id": "ae88986d-5e9a-469b-b9ce-e088c290e815",
   "metadata": {},
   "source": [
    "__OpenAI's ChatGPT:__\n",
    "\n",
    "> Jealousy is a complex emotion that can feel like a mix of anxiety, insecurity, and fear. When you're jealous, you might experience a sense of unease or discomfort, often tied to the fear of losing something important, like attention, affection, or status. Physically, jealousy can manifest as a tightness in the chest, racing thoughts, or even a knot in the stomach. Emotionally, it can lead to feelings of inadequacy or resentment, as well as a heightened awareness of what someone else has or might take away from you.\n",
    ">\n",
    "> It often makes you compare yourself to others, and that can amplify self-doubt or insecurity. The emotional discomfort of jealousy is usually linked to the fear of not being good enough or of missing out, which can lead to frustration or even anger in some cases."
   ]
  },
  {
   "cell_type": "markdown",
   "id": "61a74ae9-a7b6-4332-a433-91658a09571f",
   "metadata": {},
   "source": [
    "__Anthropic's Claude:__\n",
    "\n",
    "> Jealousy is a complex emotional experience that can manifest in various ways, but some common aspects of feeling jealous include:\n",
    ">\n",
    ">1. Insecurity: A sense of inadequacy or fear of not being good enough compared to others.\n",
    ">\n",
    ">2. Anxiety: Worry or unease about potentially losing something or someone important to you.\n",
    ">\n",
    ">3. Anger: Feelings of resentment or hostility towards the person you perceive as a threat.\n",
    ">\n",
    ">4. Sadness: A sense of loss or disappointment, even if nothing has actually been lost yet.\n",
    ">\n",
    ">5. Physical symptoms: Jealousy can cause physical reactions like a racing heart, sweating, or a knot in your stomach.\n",
    ">\n",
    ">6. Obsessive thoughts: Constant preoccupation with the object of your jealousy or the situation causing it.\n",
    ">   \n",
    ">7. Possessiveness: An increased desire to control or protect what you fear losing.\n",
    ">\n",
    ">8. Self-doubt: Questioning your own worth or value in relation to others.\n",
    ">\n",
    ">9. Hypervigilance: Becoming overly alert to potential threats or signs of betrayal.\n",
    ">\n",
    ">10. Shame: Feeling embarrassed about experiencing jealousy, which is often seen as a negative emotion.\n",
    ">\n",
    ">The intensity and specific combination of these feelings can vary greatly depending on the individual and the situation. Jealousy is a normal human emotion, but when excessive, it can be distressing and potentially harmful to relationships.\n",
    ">\n",
    ">Would you like me to elaborate on any particular aspect of jealousy or discuss ways to manage these feelings?"
   ]
  },
  {
   "cell_type": "markdown",
   "id": "3f3bcf26-b014-4796-89fe-26d0557f9f0a",
   "metadata": {},
   "source": [
    "__Perplexity:__\n",
    "\n",
    "> Jealousy is a complex emotion that can manifest in various physical and psychological ways. Here’s an overview of what it feels like to experience jealousy:\n",
    "> \n",
    "> ## Physical Sensations\n",
    "> \n",
    "> - **Tension and Pressure**: Many individuals report feeling a tightness or pressure in their chest or stomach, akin to anxiety or stress. This can lead to a sensation of \"butterflies\" in the stomach, but with a more negative twist[1].\n",
    "> - **Increased Heart Rate**: Jealousy often triggers a rise in heart rate, which can make one feel physically agitated or restless[1][4].\n",
    "> - **Body Tension**: The entire body may tense up, making it difficult to relax or even swallow comfortably[1].\n",
    "> - **Emotional Weight**: Some describe jealousy as feeling like cinder blocks are pressing down on their chest, leading to feelings of shame or insignificance[1].\n",
    "> \n",
    "> ## Emotional Experience\n",
    "> \n",
    "> - **Fear of Loss**: Jealousy is primarily driven by the fear of losing something or someone important, often accompanied by feelings of inadequacy and insecurity[2][4]. This fear can lead to anxiety and self-doubt.\n",
    "> - **Anger and Resentment**: Jealousy can evoke anger towards the person perceived as a threat, creating feelings of resentment and suspicion[3][4]. This anger may not always be directed outward but can also turn inward, leading to self-blame.\n",
    "> - **Shame**: Many people associate jealousy with feelings of shame or self-loathing, particularly when they perceive their jealousy as irrational or excessive[2][3].\n",
    "> - **Confusion**: The emotional turmoil can lead to confusion about one's feelings, sometimes blurring the lines between jealousy and other emotions like envy or compersion (feeling happy for someone else) [1].\n",
    "> \n",
    "> ## Psychological Impact\n",
    "> \n",
    "> - **Self-Esteem Issues**: Persistent jealousy can erode self-esteem and negatively affect one’s self-image, leading to a cycle of insecurity and further jealousy[2][3].\n",
    "> - **Relationship Strain**: If left unchecked, jealousy can become toxic, damaging relationships through suspicion and mistrust. It may cause individuals to act possessively or engage in controlling behaviors[4][5].\n",
    "> - **Emotional Self-Sabotage**: Jealousy may lead individuals to undermine their own happiness and relationships due to constant worry about being replaced or abandoned[3][4].\n",
    "> \n",
    "> Understanding these facets of jealousy can help individuals recognize and manage their feelings more effectively. By addressing the underlying insecurities that fuel jealousy, one can work towards healthier emotional responses and better relationship dynamics.\n",
    "> \n",
    "> Citations:\n",
    "> [1] https://www.reddit.com/r/Alexithymia/comments/ra3mv0/what_does_it_physically_feel_like_to_be_jealous/\n",
    "> [2] https://health.clevelandclinic.org/how-to-deal-with-jealousy\n",
    "> [3] https://mindfulhealthsolutions.com/the-deeper-meaning-of-jealousy-a-psychological-exploration/\n",
    "> [4] https://www.nbcnews.com/better/lifestyle/what-your-jealous-feelings-are-telling-you-what-you-should-ncna1002411\n",
    "> [5] https://www.theminimalists.com/jealousy/\n",
    "> [6] https://ki.se/en/research/popular-science-and-dialogue/spotlight-on/spotlight-on-relationships-identity-and-sexuality/exploring-the-feeling-of-jealousy\n",
    "> [7] https://www.psychologytoday.com/intl/basics/jealousy\n",
    "> [8] https://gaper.io/signs-business-ready-for-custom-llm/"
   ]
  },
  {
   "cell_type": "code",
   "execution_count": null,
   "id": "d491c779-fa98-4636-8db4-c3b3f4c47d37",
   "metadata": {},
   "outputs": [],
   "source": []
  }
 ],
 "metadata": {
  "kernelspec": {
   "display_name": "Python 3 (ipykernel)",
   "language": "python",
   "name": "python3"
  },
  "language_info": {
   "codemirror_mode": {
    "name": "ipython",
    "version": 3
   },
   "file_extension": ".py",
   "mimetype": "text/x-python",
   "name": "python",
   "nbconvert_exporter": "python",
   "pygments_lexer": "ipython3",
   "version": "3.9.20"
  }
 },
 "nbformat": 4,
 "nbformat_minor": 5
}
