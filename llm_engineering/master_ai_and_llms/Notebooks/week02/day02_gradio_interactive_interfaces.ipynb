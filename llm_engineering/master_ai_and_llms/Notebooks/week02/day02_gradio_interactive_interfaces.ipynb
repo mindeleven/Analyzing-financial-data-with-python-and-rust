{
 "cells": [
  {
   "cell_type": "markdown",
   "id": "55e12e3d-60f9-42c9-8a18-6fb29302351d",
   "metadata": {},
   "source": [
    "## Interactive Interfaces with Gradio"
   ]
  },
  {
   "cell_type": "markdown",
   "id": "87d358b6-352a-4216-8be7-99de661946e1",
   "metadata": {},
   "source": [
    "*[Coding along with the Udemy online course [LLM Engineering: Master AI & Large Language Models](https://www.udemy.com/course/llm-engineering-master-ai-and-large-language-models/) by Ed Donner; GitHub repo can be found at [github.com/ed-donner/llm_engineering](https://github.com/ed-donner/llm_engineering)]*"
   ]
  },
  {
   "cell_type": "markdown",
   "id": "ba3b8fc1-5593-4d6d-895e-7fa461a700c4",
   "metadata": {},
   "source": [
    "This notebook is about building user interfaces using the Gradio framework."
   ]
  },
  {
   "cell_type": "code",
   "execution_count": 1,
   "id": "4c1cfbb8-bfda-4726-b7e0-fab56dc2de68",
   "metadata": {},
   "outputs": [],
   "source": [
    "from openai import OpenAI\n",
    "import anthropic\n",
    "import google.generativeai\n",
    "from IPython.display import Markdown, display, update_display\n",
    "import pandas as pd\n",
    "from pprint import pprint\n",
    "import requests\n",
    "from bs4 import BeautifulSoup\n",
    "from typing import List\n",
    "# and finally, let's import gradio as a new feature here\n",
    "import gradio as gr"
   ]
  },
  {
   "cell_type": "code",
   "execution_count": null,
   "id": "df24f11d-0671-4a00-b794-ba7ecbc9ac3f",
   "metadata": {},
   "outputs": [],
   "source": []
  }
 ],
 "metadata": {
  "kernelspec": {
   "display_name": "Python 3 (ipykernel)",
   "language": "python",
   "name": "python3"
  },
  "language_info": {
   "codemirror_mode": {
    "name": "ipython",
    "version": 3
   },
   "file_extension": ".py",
   "mimetype": "text/x-python",
   "name": "python",
   "nbconvert_exporter": "python",
   "pygments_lexer": "ipython3",
   "version": "3.12.7"
  }
 },
 "nbformat": 4,
 "nbformat_minor": 5
}
