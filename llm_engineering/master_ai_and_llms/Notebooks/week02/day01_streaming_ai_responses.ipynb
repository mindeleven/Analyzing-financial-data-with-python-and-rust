{
 "cells": [
  {
   "cell_type": "markdown",
   "id": "18c0e00e-e23f-4444-8826-13dc16b3644d",
   "metadata": {},
   "source": [
    "# Streaming AI Responses"
   ]
  },
  {
   "cell_type": "markdown",
   "id": "873dfb11-5339-4ac9-b016-2cb9a0681d92",
   "metadata": {},
   "source": [
    "*[Coding along with the Udemy online course [LLM Engineering: Master AI & Large Language Models](https://www.udemy.com/course/llm-engineering-master-ai-and-large-language-models/) by Ed Donner; GitHub repo can be found at [github.com/ed-donner/llm_engineering](https://github.com/ed-donner/llm_engineering)]*"
   ]
  },
  {
   "cell_type": "markdown",
   "id": "99f4f217-079a-47d6-8c54-eaff6707c394",
   "metadata": {},
   "source": [
    "## Implementing Real-Time LLM Output in Python"
   ]
  },
  {
   "cell_type": "markdown",
   "id": "8f7506ab-5a8a-4685-b21c-d0c9b6f811b4",
   "metadata": {},
   "source": [
    "To get access to Google's Gemini API we first tried to just `poetry add google`.\n",
    "\n",
    "But, ccording to https://github.com/googleapis/google-api-python-client#installation, you need to install the google-api-python-client package:\n",
    "\n",
    "`poetry add google-api-python-client`\n",
    "\n",
    "The following issue that appeared, “No module named ‘google.generativeai’” is related to the installation and import of the google.generativeai module.\n",
    "\n",
    "Solution: ensure that you have installed the google-generativeai module correctly using `poetry add google-generativeai`.\n",
    "\n",
    "It's highly likely that `google` and `google-api-python-client` aren't necessary and can be removed."
   ]
  },
  {
   "cell_type": "code",
   "execution_count": 7,
   "id": "49cbabce-b0f5-4a7c-82bf-d2611e010f50",
   "metadata": {},
   "outputs": [],
   "source": [
    "from openai import OpenAI\n",
    "import anthropic\n",
    "import google.generativeai\n",
    "from IPython.display import Markdown, display, update_display\n",
    "import pandas as pd"
   ]
  },
  {
   "cell_type": "code",
   "execution_count": 8,
   "id": "afa725db-9468-46f5-adfb-5e82889dd2ad",
   "metadata": {},
   "outputs": [
    {
     "name": "stdout",
     "output_type": "stream",
     "text": [
      "Don't be a fool and sent your api key to github\n"
     ]
    }
   ],
   "source": [
    "openai_api_key = pd.read_csv(\"~/tmp/chat_gpt/agentic-design-1.txt\", sep=\" \", header=None)[0][0]\n",
    "print(\"Don't be a fool and sent your api key to github\")"
   ]
  },
  {
   "cell_type": "code",
   "execution_count": null,
   "id": "ccdcf24e-75a7-4e4e-a818-e0eb9eefd0e8",
   "metadata": {},
   "outputs": [],
   "source": []
  }
 ],
 "metadata": {
  "kernelspec": {
   "display_name": "Python 3 (ipykernel)",
   "language": "python",
   "name": "python3"
  },
  "language_info": {
   "codemirror_mode": {
    "name": "ipython",
    "version": 3
   },
   "file_extension": ".py",
   "mimetype": "text/x-python",
   "name": "python",
   "nbconvert_exporter": "python",
   "pygments_lexer": "ipython3",
   "version": "3.12.7"
  }
 },
 "nbformat": 4,
 "nbformat_minor": 5
}
