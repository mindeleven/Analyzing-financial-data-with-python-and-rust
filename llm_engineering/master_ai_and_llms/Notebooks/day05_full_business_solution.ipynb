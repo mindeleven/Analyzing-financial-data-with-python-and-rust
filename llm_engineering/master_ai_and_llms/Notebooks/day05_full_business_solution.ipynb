{
 "cells": [
  {
   "cell_type": "markdown",
   "id": "8a165755-e671-443b-8308-7afc81cdab62",
   "metadata": {},
   "source": [
    "## Full Business Solution: Build a Brochure for a Company"
   ]
  },
  {
   "cell_type": "markdown",
   "id": "9d1d5e5b-ef27-41fc-85e5-f63abb777818",
   "metadata": {},
   "source": [
    "*[Coding along with the Udemy online course [LLM Engineering: Master AI & Large Language Models](https://www.udemy.com/course/llm-engineering-master-ai-and-large-language-models/) by Ed Donner; GitHub repo can be found at [github.com/ed-donner/llm_engineering](https://github.com/ed-donner/llm_engineering)]*"
   ]
  },
  {
   "cell_type": "markdown",
   "id": "69abf766-095f-4eca-b442-99449c1441ba",
   "metadata": {},
   "source": [
    "Practical project with the goal to create a product that builds a business brochure for a company. This brochure is to be used for prospective clients, investors and potential recruits.\n",
    "\n",
    "__We'll provise a LLM with information scraped from a website and take the following steps the achieve our goal:__\n",
    "\n",
    "1. Have GPT-4o-mini figure out which links are relevant\n",
    "\n",
    "2. Make the Brochure (Let the LLM do the Job for You)\n",
    "\n",
    "3. Adding the typewriter animation as a minor improvement"
   ]
  },
  {
   "cell_type": "code",
   "execution_count": 1,
   "id": "e06921f2-3579-452b-b1d0-de6c0481e6b6",
   "metadata": {},
   "outputs": [],
   "source": [
    "import requests\n",
    "import json\n",
    "from typing import List\n",
    "from bs4 import BeautifulSoup\n",
    "from IPython.display import Markdown, display, update_display\n",
    "from openai import OpenAI\n",
    "import pandas as pd"
   ]
  },
  {
   "cell_type": "code",
   "execution_count": 2,
   "id": "052d480e-0bfa-4933-a63f-bb90454f5d6a",
   "metadata": {},
   "outputs": [
    {
     "name": "stdout",
     "output_type": "stream",
     "text": [
      "Don't be a fool and sent your api key to github\n"
     ]
    }
   ],
   "source": [
    "api_key = pd.read_csv(\"~/tmp/chat_gpt/agentic-design-1.txt\", sep=\" \", header=None)[0][0]\n",
    "print(\"Don't be a fool and sent your api key to github\")"
   ]
  },
  {
   "cell_type": "code",
   "execution_count": 3,
   "id": "301bcd16-2530-423d-9f32-cf203db6ecd4",
   "metadata": {},
   "outputs": [],
   "source": [
    "openai = OpenAI(api_key=api_key)\n",
    "MODEL = 'gpt-4o-mini' # defining model for later usage"
   ]
  },
  {
   "cell_type": "code",
   "execution_count": 4,
   "id": "dacd6b14-917f-4c56-8a93-2527384b1d24",
   "metadata": {},
   "outputs": [],
   "source": [
    "# once again, a class to represent a Webpage\n",
    "class Website:\n",
    "    url: str\n",
    "    title: str\n",
    "    body: str\n",
    "    links: List[str]\n",
    "\n",
    "    def __init__(self, url):\n",
    "        self.url = url\n",
    "        response = requests.get(url)\n",
    "        self.body = response.content\n",
    "        soup = BeautifulSoup(self.body, 'html.parser')\n",
    "        self.title = soup.title.string if soup.title else \"No title found\"\n",
    "        if soup.body:\n",
    "            for irrelevant in soup.body([\"script\", \"style\", \"img\", \"input\"]):\n",
    "                irrelevant.decompose()\n",
    "            self.text = soup.body.get_text(separator=\"\\n\", strip=True)\n",
    "        else:\n",
    "            self.text = \"\"\n",
    "        links = [link.get('href') for link in soup.find_all('a')]\n",
    "        self.links = [link for link in links if link]\n",
    "\n",
    "    def get_contents(self):\n",
    "        return f\"Webpage Title:\\n{self.title}\\nWebpage Contents:\\n{self.text}\\n\\n\""
   ]
  },
  {
   "cell_type": "code",
   "execution_count": 5,
   "id": "1c6748df-3de6-4c71-8ca0-5541e8f80e55",
   "metadata": {},
   "outputs": [
    {
     "name": "stdout",
     "output_type": "stream",
     "text": [
      "Webpage Title:\n",
      "Home - Edward Donner\n",
      "Webpage Contents:\n",
      "Home\n",
      "Outsmart\n",
      "An arena that pits LLMs against each other in a battle of diplomacy and deviousness\n",
      "About\n",
      "Posts\n",
      "Well, hi there.\n",
      "I’m Ed. I like writing code and experimenting with LLMs, and hopefully you’re here because you do too. I also enjoy DJing (but I’m badly out of practice), amateur electronic music production (\n",
      "very\n",
      "amateur) and losing myself in\n",
      "Hacker News\n",
      ", nodding my head sagely to things I only half understand.\n",
      "I’m the co-founder and CTO of\n",
      "Nebula.io\n",
      ". We’re applying AI to a field where it can make a massive, positive impact: helping people discover their potential and pursue their reason for being. Recruiters use our product today to source, understand, engage and manage talent. I’m previously the founder and CEO of AI startup untapt,\n",
      "acquired in 2021\n",
      ".\n",
      "We work with groundbreaking, proprietary LLMs verticalized for talent, we’ve\n",
      "patented\n",
      "our matching model, and our award-winning platform has happy customers and tons of press coverage.\n",
      "Connect\n",
      "with me for more!\n",
      "October 16, 2024\n",
      "From Software Engineer to AI Data Scientist – resources\n",
      "August 6, 2024\n",
      "Outsmart LLM Arena – a battle of diplomacy and deviousness\n",
      "June 26, 2024\n",
      "Choosing the Right LLM: Toolkit and Resources\n",
      "February 7, 2024\n",
      "Fine-tuning an LLM on your texts: a simulation of you\n",
      "Navigation\n",
      "Home\n",
      "Outsmart\n",
      "An arena that pits LLMs against each other in a battle of diplomacy and deviousness\n",
      "About\n",
      "Posts\n",
      "Get in touch\n",
      "ed [at] edwarddonner [dot] com\n",
      "www.edwarddonner.com\n",
      "Follow me\n",
      "LinkedIn\n",
      "Twitter\n",
      "Facebook\n",
      "Subscribe to newsletter\n",
      "Type your email…\n",
      "Subscribe\n",
      "\n",
      "\n"
     ]
    }
   ],
   "source": [
    "ed = Website(\"https://edwarddonner.com\")\n",
    "print(ed.get_contents())"
   ]
  },
  {
   "cell_type": "code",
   "execution_count": 6,
   "id": "d13efcee-b47a-4ddb-9cfe-530d1afed8b4",
   "metadata": {},
   "outputs": [
    {
     "name": "stdout",
     "output_type": "stream",
     "text": [
      "['https://edwarddonner.com/', 'https://edwarddonner.com/outsmart/', 'https://edwarddonner.com/about-me-and-about-nebula/', 'https://edwarddonner.com/posts/', 'https://edwarddonner.com/', 'https://news.ycombinator.com', 'https://nebula.io/?utm_source=ed&utm_medium=referral', 'https://www.prnewswire.com/news-releases/wynden-stark-group-acquires-nyc-venture-backed-tech-startup-untapt-301269512.html', 'https://patents.google.com/patent/US20210049536A1/', 'https://www.linkedin.com/in/eddonner/', 'https://edwarddonner.com/2024/10/16/from-software-engineer-to-ai-data-scientist-resources/', 'https://edwarddonner.com/2024/10/16/from-software-engineer-to-ai-data-scientist-resources/', 'https://edwarddonner.com/2024/08/06/outsmart/', 'https://edwarddonner.com/2024/08/06/outsmart/', 'https://edwarddonner.com/2024/06/26/choosing-the-right-llm-resources/', 'https://edwarddonner.com/2024/06/26/choosing-the-right-llm-resources/', 'https://edwarddonner.com/2024/02/07/fine-tune-llm-on-texts-a-simulation-of-you/', 'https://edwarddonner.com/2024/02/07/fine-tune-llm-on-texts-a-simulation-of-you/', 'https://edwarddonner.com/', 'https://edwarddonner.com/outsmart/', 'https://edwarddonner.com/about-me-and-about-nebula/', 'https://edwarddonner.com/posts/', 'mailto:hello@mygroovydomain.com', 'https://www.linkedin.com/in/eddonner/', 'https://twitter.com/edwarddonner', 'https://www.facebook.com/edward.donner.52']\n"
     ]
    }
   ],
   "source": [
    "# printing the links we stored\n",
    "print(ed.links)"
   ]
  },
  {
   "cell_type": "markdown",
   "id": "57433e8f-9534-43c3-a568-33ee20bca11f",
   "metadata": {},
   "source": [
    "## Step 01: Have GPT-4o-mini figure out which links are relevant"
   ]
  },
  {
   "cell_type": "markdown",
   "id": "03fc6812-cf46-4e49-8d5a-e774694c3f47",
   "metadata": {},
   "source": [
    "__We'll use a call to gpt-4o-mini we'll provide it with the extracted links from the webpage and have it respond in a fixed format, in our case structured JSON.__\n",
    "\n",
    "The LLm should decide for us which links are relevant and replace relative links such as \"/about\" with absolut links like \"https://company.com/about\".  \n",
    "\n",
    "In this example will use __\"one shot prompting\"__ and we will provide the LLM with an example (in the prompt) of how we expect the LLm to respond.\n",
    "\n",
    "__Sidenote:__ OpenAI is no providing the possibility to give the LLM a JSON Schema (a spec(ification)) with the message. This is a more advanced way we won't use here. This more advanced technique is called __\"Structured Outputs\"__ in which we require the model to respond according to a spec (stay tuned for Week 8 (autonomous Agentic AI project) to learn more about this technique)."
   ]
  },
  {
   "cell_type": "code",
   "execution_count": 7,
   "id": "4202e3ea-16e6-4c06-9e6f-cd88fb2ebed2",
   "metadata": {},
   "outputs": [],
   "source": [
    "link_system_prompt = \"You are provided with a list of links found on a webpage. \\\n",
    "You are able to decide which of the links would be most relevant to include in a brochure about the company, \\\n",
    "such as links to an About page, or a Company page, or Careers/Jobs pages.\\n\"\n",
    "link_system_prompt += \"You should respond in JSON as in this example:\"\n",
    "# specifying concrete example of the JSON format that we want\n",
    "link_system_prompt += \"\"\"\n",
    "{\n",
    "    \"links\": [\n",
    "        {\"type\": \"about page\", \"url\": \"https://full.url/goes/here/about\"},\n",
    "        {\"type\": \"careers page\": \"url\": \"https://another.full.url/careers\"}\n",
    "    ]\n",
    "}\n",
    "\"\"\""
   ]
  },
  {
   "cell_type": "code",
   "execution_count": 8,
   "id": "e3572b5b-6201-47fc-997b-a429da2aa244",
   "metadata": {},
   "outputs": [
    {
     "data": {
      "text/plain": [
       "'You are provided with a list of links found on a webpage. You are able to decide which of the links would be most relevant to include in a brochure about the company, such as links to an About page, or a Company page, or Careers/Jobs pages.\\nYou should respond in JSON as in this example:\\n{\\n    \"links\": [\\n        {\"type\": \"about page\", \"url\": \"https://full.url/goes/here/about\"},\\n        {\"type\": \"careers page\": \"url\": \"https://another.full.url/careers\"}\\n    ]\\n}\\n'"
      ]
     },
     "execution_count": 8,
     "metadata": {},
     "output_type": "execute_result"
    }
   ],
   "source": [
    "link_system_prompt"
   ]
  },
  {
   "cell_type": "code",
   "execution_count": 9,
   "id": "b98a260a-a8d1-4172-aa2c-70884d0537af",
   "metadata": {},
   "outputs": [],
   "source": [
    "def get_links_user_prompt(website):\n",
    "    user_prompt = f\"Here is the list of links on the website of {website.url} - \"\n",
    "    user_prompt += \"please decide which of these are relevant web links for a brochure about the company, respond with the full https URL in JSON format. \\\n",
    "Do not include Terms of Service, Privacy, email links.\\n\"\n",
    "    user_prompt += \"Links (some might be relative links):\\n\"\n",
    "    user_prompt += \"\\n\".join(website.links)\n",
    "    return user_prompt"
   ]
  },
  {
   "cell_type": "code",
   "execution_count": 10,
   "id": "27707218-19b6-4ab5-a78e-0e3684bd6235",
   "metadata": {},
   "outputs": [
    {
     "name": "stdout",
     "output_type": "stream",
     "text": [
      "Here is the list of links on the website of https://edwarddonner.com - please decide which of these are relevant web links for a brochure about the company, respond with the full https URL in JSON format. Do not include Terms of Service, Privacy, email links.\n",
      "Links (some might be relative links):\n",
      "https://edwarddonner.com/\n",
      "https://edwarddonner.com/outsmart/\n",
      "https://edwarddonner.com/about-me-and-about-nebula/\n",
      "https://edwarddonner.com/posts/\n",
      "https://edwarddonner.com/\n",
      "https://news.ycombinator.com\n",
      "https://nebula.io/?utm_source=ed&utm_medium=referral\n",
      "https://www.prnewswire.com/news-releases/wynden-stark-group-acquires-nyc-venture-backed-tech-startup-untapt-301269512.html\n",
      "https://patents.google.com/patent/US20210049536A1/\n",
      "https://www.linkedin.com/in/eddonner/\n",
      "https://edwarddonner.com/2024/10/16/from-software-engineer-to-ai-data-scientist-resources/\n",
      "https://edwarddonner.com/2024/10/16/from-software-engineer-to-ai-data-scientist-resources/\n",
      "https://edwarddonner.com/2024/08/06/outsmart/\n",
      "https://edwarddonner.com/2024/08/06/outsmart/\n",
      "https://edwarddonner.com/2024/06/26/choosing-the-right-llm-resources/\n",
      "https://edwarddonner.com/2024/06/26/choosing-the-right-llm-resources/\n",
      "https://edwarddonner.com/2024/02/07/fine-tune-llm-on-texts-a-simulation-of-you/\n",
      "https://edwarddonner.com/2024/02/07/fine-tune-llm-on-texts-a-simulation-of-you/\n",
      "https://edwarddonner.com/\n",
      "https://edwarddonner.com/outsmart/\n",
      "https://edwarddonner.com/about-me-and-about-nebula/\n",
      "https://edwarddonner.com/posts/\n",
      "mailto:hello@mygroovydomain.com\n",
      "https://www.linkedin.com/in/eddonner/\n",
      "https://twitter.com/edwarddonner\n",
      "https://www.facebook.com/edward.donner.52\n"
     ]
    }
   ],
   "source": [
    "print(get_links_user_prompt(ed))"
   ]
  },
  {
   "cell_type": "code",
   "execution_count": 11,
   "id": "84d22ae2-f8b6-40eb-99c8-9bd2789c58c3",
   "metadata": {},
   "outputs": [],
   "source": [
    "def get_links(url):\n",
    "    website = Website(url)\n",
    "    completion = openai.chat.completions.create(\n",
    "        model=MODEL,\n",
    "        messages=[\n",
    "            {\"role\": \"system\", \"content\": link_system_prompt},\n",
    "            {\"role\": \"user\", \"content\": get_links_user_prompt(website)}\n",
    "        ],\n",
    "        # now instructing the llm to respond in json\n",
    "        # in addition to this the instruction to respond in json must be included in the prompt\n",
    "        response_format={\"type\": \"json_object\"}\n",
    "    )\n",
    "    result = completion.choices[0].message.content # will come back as a string\n",
    "    return json.loads(result) # converting the string into a dictionary"
   ]
  },
  {
   "cell_type": "code",
   "execution_count": 12,
   "id": "e082097f-3f58-4883-8b98-def2f9556e94",
   "metadata": {},
   "outputs": [
    {
     "data": {
      "text/plain": [
       "{'links': [{'type': 'about page', 'url': 'https://anthropic.com/company'},\n",
       "  {'type': 'careers page', 'url': 'https://anthropic.com/careers'},\n",
       "  {'type': 'team page', 'url': 'https://anthropic.com/team'},\n",
       "  {'type': 'enterprise page', 'url': 'https://anthropic.com/enterprise'},\n",
       "  {'type': 'research page', 'url': 'https://anthropic.com/research'},\n",
       "  {'type': 'api page', 'url': 'https://anthropic.com/api'},\n",
       "  {'type': 'pricing page', 'url': 'https://anthropic.com/pricing'},\n",
       "  {'type': 'news page', 'url': 'https://anthropic.com/news'}]}"
      ]
     },
     "execution_count": 12,
     "metadata": {},
     "output_type": "execute_result"
    }
   ],
   "source": [
    "get_links(\"https://anthropic.com\")"
   ]
  },
  {
   "cell_type": "markdown",
   "id": "3e4df76f-003f-4912-8c6c-b380726a4750",
   "metadata": {},
   "source": [
    "## Step 02: Make the Brochure (Let the LLM do your Job for You)"
   ]
  },
  {
   "cell_type": "markdown",
   "id": "350d8ae6-be76-43b2-88ca-168b4aaf47e9",
   "metadata": {},
   "source": [
    "Assemble all the details into another prompt to GPT-4o-mini while coding along with [week 01, section 20](https://www.udemy.com/course/llm-engineering-master-ai-and-large-language-models/learn/lecture/45772439#search)."
   ]
  },
  {
   "cell_type": "code",
   "execution_count": 13,
   "id": "01adb86b-89ea-4098-9cfb-c16df4d6e864",
   "metadata": {},
   "outputs": [],
   "source": [
    "# Assemble all the details into another prompt to GPT4-o\n",
    "def get_all_details(url):\n",
    "    result = \"Landing page:\\n\"\n",
    "    result += Website(url).get_contents()\n",
    "    links = get_links(url)\n",
    "    print(\"Found links:\", links)\n",
    "    for link in links[\"links\"]:\n",
    "        # finding the webpage for each link and add its contents to the result\n",
    "        result += f\"\\n\\n{link['type']}\\n\"\n",
    "        result += Website(link[\"url\"]).get_contents()\n",
    "    return result"
   ]
  },
  {
   "cell_type": "code",
   "execution_count": 14,
   "id": "1301a3f9-620b-49bf-a1c2-e814aa30ff44",
   "metadata": {},
   "outputs": [
    {
     "name": "stdout",
     "output_type": "stream",
     "text": [
      "Found links: {'links': [{'type': 'about page', 'url': 'https://anthropic.com/company'}, {'type': 'careers page', 'url': 'https://anthropic.com/careers'}]}\n",
      "Landing page:\n",
      "Webpage Title:\n",
      "Home \\ Anthropic\n",
      "Webpage Contents:\n",
      "Claude\n",
      "Overview\n",
      "Team\n",
      "Enterprise\n",
      "API\n",
      "Pricing\n",
      "Research\n",
      "Company\n",
      "Careers\n",
      "News\n",
      "AI\n",
      "research\n",
      "and\n",
      "products\n",
      "that put safety at the frontier\n",
      "New\n",
      "Meet Claude 3.5 Sonnet\n",
      "Claude 3.5 Sonnet, our most intelligent AI model, is now available.\n",
      "Talk to Claude\n",
      "API\n",
      "Build with Claude\n",
      "Start using Claude to drive efficiency and create new revenue streams.\n",
      "Get started now\n",
      "Our Work\n",
      "Announcements\n",
      "Claude 3.5 Sonnet\n",
      "Jun 21, 2024\n",
      "Alignment\n",
      "·\n",
      "Research\n",
      "Constitutional AI: Harmlessness from AI Feedback\n",
      "Dec 15, 2022\n",
      "Announcements\n",
      "Core Views on AI Safety: When, Why, What, and How\n",
      "Mar 8, 2023\n",
      "Work with Anthropic\n",
      "Anthropic is an AI safety and research company based in San Francisco. Our interdisciplinary team has experience across ML, physics, policy, and product. Together, we generate research and create reliable, beneficial AI systems.\n",
      "See open roles\n",
      "Claude\n",
      "API\n",
      "Team\n",
      "Pricing\n",
      "Research\n",
      "Company\n",
      "Customers\n",
      "News\n",
      "Careers\n",
      "Press Inquiries\n",
      "Support\n",
      "Status\n",
      "Availability\n",
      "Twitter\n",
      "LinkedIn\n",
      "YouTube\n",
      "Terms of Service – Consumer\n",
      "Terms of Service – Commercial\n",
      "Privacy Policy\n",
      "Usage Policy\n",
      "Responsible Disclosure Policy\n",
      "Compliance\n",
      "Privacy Choices\n",
      "© 2024 Anthropic PBC\n",
      "\n",
      "\n",
      "\n",
      "about page\n",
      "Webpage Title:\n",
      "Company \\ Anthropic\n",
      "Webpage Contents:\n",
      "Claude\n",
      "Overview\n",
      "Team\n",
      "Enterprise\n",
      "API\n",
      "Pricing\n",
      "Research\n",
      "Company\n",
      "Careers\n",
      "News\n",
      "Making AI systems\n",
      "you can rely on\n",
      "Anthropic is an AI safety and research company. We build reliable, interpretable, and steerable AI systems.\n",
      "Join us\n",
      "Our Purpose\n",
      "We believe AI will have a vast impact on the world. Anthropic is dedicated to building systems that people can rely on and generating research about the opportunities and risks of AI.\n",
      "We Build Safer Systems\n",
      "We aim to build frontier AI systems that are reliable, interpretable, and steerable. We conduct frontier research, develop and apply a variety of safety techniques, and deploy the resulting systems via a set of partnerships and products.\n",
      "Safety Is a Science\n",
      "We treat AI safety as a systematic science, conducting research, applying it to our products, feeding those insights back into our research, and regularly sharing what we learn with the world along the way.\n",
      "Interdisciplinary\n",
      "Anthropic is a collaborative team of researchers, engineers, policy experts, business leaders and operators, who bring our experience from many different domains to our work.\n",
      "AI Companies are One Piece of a Big Puzzle\n",
      "AI has the potential to fundamentally change how the world works. We view ourselves as just one piece of this evolving puzzle. We collaborate with civil society, government, academia, nonprofits and industry to promote safety industry-wide.\n",
      "The Team\n",
      "We’re a team of researchers, engineers, policy experts and operational leaders, with experience spanning a variety of disciplines, all working together to build reliable and understandable AI systems.\n",
      "Research\n",
      "We conduct frontier AI research across a variety of modalities, and explore novel and emerging safety research areas from interpretability to RL from human feedback to policy and societal impacts analysis.\n",
      "Policy\n",
      "We think about the impacts of our work and strive to communicate what we’re seeing at the frontier to policymakers and civil society in the US and abroad to help promote safe and reliable AI.\n",
      "Product\n",
      "We translate our research into tangible, practical tools like Claude that benefit businesses, nonprofits and civil society groups and their clients and people around the globe.\n",
      "Operations\n",
      "Our people, finance, legal, and recruiting teams are the human engines that make Anthropic go. We’ve had previous careers at NASA, startups, and the armed forces and our diverse experiences help make Anthropic a great place to work (and we love plants!).\n",
      "Our Values\n",
      "01\n",
      "Here for the mission\n",
      "Anthropic exists for our mission: to ensure transformative AI helps people and society flourish. Progress this decade may be rapid, and we expect increasingly capable systems to pose novel challenges. We pursue our mission by building frontier systems, studying their behaviors, working to responsibly deploy them, and regularly sharing our safety insights. We collaborate with other projects and stakeholders seeking a similar outcome.\n",
      "02\n",
      "Unusually high trust\n",
      "Our company is an unusually high trust environment: we assume good faith, disagree kindly, and prioritize honesty. We expect emotional maturity and intellectual openness. At its best, our trust enables us to make better decisions as an organization than any one of us could as individuals.\n",
      "03\n",
      "One big team\n",
      "Collaboration is central to our work, culture, and value proposition. While we have many teams at Anthropic, we feel the broader sense in which we are all on the same team working together towards the mission. Leadership sets the strategy, with broad input from everyone, and trusts each piece of the organization to pursue these goals in their unique style. Individuals commonly contribute to work across many different areas.\n",
      "04\n",
      "Do the simple thing that works\n",
      "We celebrate trying the simple thing before the clever, novel thing. We embrace pragmatism - sensible, practical approaches that acknowledge tradeoffs. We love empiricism - finding out what actually works by trying it - and apply this to our research, our engineering and our collaboration. We aim to be open about what we understand and what we don’t.\n",
      "Governance\n",
      "Anthropic is a Public Benefit Corporation, whose purpose is the responsible development and maintenance of advanced AI for the long-term benefit of humanity. Our Board of Directors is elected by stockholders and our Long-Term Benefit Trust, as explained\n",
      "here.\n",
      "Current members of the Board and the Long-Term Benefit Trust (LTBT) are listed below.\n",
      "Anthropic Board of Directors\n",
      "Dario Amodei, Daniela Amodei, Yasmin Razavi, and Jay Kreps.\n",
      "LTBT Trustees\n",
      "Neil Buddy Shah, Kanika Bahl, and Zach Robinson.\n",
      "Company News\n",
      "See All\n",
      "Announcements\n",
      "Announcing our updated Responsible Scaling Policy\n",
      "Oct 15, 2024\n",
      "Product\n",
      "·\n",
      "Announcements\n",
      "Introducing Contextual Retrieval\n",
      "Sep 19, 2024\n",
      "Announcements\n",
      "Salesforce teams up with Anthropic to enhance Einstein capabilities with Claude\n",
      "Sep 3, 2024\n",
      "Want to help us build the future of safe AI?\n",
      "Join us\n",
      "Claude\n",
      "API\n",
      "Team\n",
      "Pricing\n",
      "Research\n",
      "Company\n",
      "Customers\n",
      "News\n",
      "Careers\n",
      "Press Inquiries\n",
      "Support\n",
      "Status\n",
      "Availability\n",
      "Twitter\n",
      "LinkedIn\n",
      "YouTube\n",
      "Terms of Service – Consumer\n",
      "Terms of Service – Commercial\n",
      "Privacy Policy\n",
      "Usage Policy\n",
      "Responsible Disclosure Policy\n",
      "Compliance\n",
      "Privacy Choices\n",
      "© 2024 Anthropic PBC\n",
      "\n",
      "\n",
      "\n",
      "careers page\n",
      "Webpage Title:\n",
      "Careers \\ Anthropic\n",
      "Webpage Contents:\n",
      "Claude\n",
      "Overview\n",
      "Team\n",
      "Enterprise\n",
      "API\n",
      "Pricing\n",
      "Research\n",
      "Company\n",
      "Careers\n",
      "News\n",
      "Join the team\n",
      "making AI safe\n",
      "We’re a public benefit corporation headquartered in San Francisco. Our team’s experience spans a variety of backgrounds and disciplines, from physics and machine learning to public policy and business. We work as a cohesive team that collectively forecasts the impact and tractability of research ideas in advancing our mission.\n",
      "See open roles\n",
      "What We Offer\n",
      "Health & Wellness\n",
      "We offer a range of benefits to best support your and your family's wellbeing.\n",
      "Comprehensive health, dental, and vision insurance for you and your dependents\n",
      "Inclusive fertility benefits via Carrot Fertility\n",
      "Generous subsidy for OneMedical\n",
      "22 weeks of paid parental leave\n",
      "Unlimited PTO – most staff take between 4-6 weeks each year, sometimes more\n",
      "Compensation & Support\n",
      "We offer competitive compensation with significant amounts of equity. Your equity can be multiplied if you choose to donate a portion of it to charity.\n",
      "Competitive salary and equity packages\n",
      "Optional equity donation matching at a 1:1 ratio, up to 25% of your equity grant\n",
      "401(k) plan with 4% matching\n",
      "Additional Benefits\n",
      "We’re continually upgrading our benefits program so we can meet the needs of our entire team.\n",
      "$500/month flexible wellness stipend\n",
      "Commuter coverage\n",
      "Annual education stipend\n",
      "A home office improvement stipend when you first join\n",
      "Relocation support for those moving to the Bay Area\n",
      "Daily lunches in the office\n",
      "How We Hire\n",
      "The interview process at Anthropic varies based on role and candidate, but our standard process looks like this:\n",
      "Step 1\n",
      "Resume\n",
      "Submit your resume via our website.\n",
      "Step 2\n",
      "Exploratory chat\n",
      "You’ll have a chat with one of our staff to discuss your career interests and relevant experience, and learn more about Anthropic.\n",
      "Step 3\n",
      "Skills Assessment\n",
      "For technical roles, you’ll have a one-hour technical screening interview.\n",
      "For operations or policy roles, you’ll get a take-home assignment. These typically involve writing responses to several role-relevant questions; they may occasionally require some outside research. Assignments usually take between 2-5 hours, depending on the role.\n",
      "We include this to minimize bias and make well-informed hiring decisions. We think seeing a candidate’s work helps us assess how they might actually perform on the job; similarly, the assignment gives candidates a better idea of what their work at Anthropic might entail. If a candidate likes working through their take-home, that is one indicator that they would enjoy taking on the role, and vice versa.\n",
      "We recognize that completing work assignments requires time and effort, and that they are not perfectly reflective of the role’s work. Nonetheless, we think that work tests are a useful complement to interviews and reference checks.\n",
      "Step 4\n",
      "Team Screen\n",
      "You'll have a conversation with either the Hiring Manager or a member of your potential team.\n",
      "Step 5\n",
      "Interview Panel\n",
      "For technical roles, you’ll have 3-4 more one-hour technical interviews, plus a culture interview.\n",
      "For operations or policy roles, you’ll have 3-5 hours of interviews, including a culture interview.\n",
      "Step 6\n",
      "Final Checks\n",
      "We’ll ask for some references, and have you chat with our leadership.\n",
      "Step 7\n",
      "Offer\n",
      "We’ll make you an offer!\n",
      "Technical Interviews\n",
      "Technical interviews at Anthropic are broadly categorized into ‘engineering’ or ‘research’ interviews, and each candidate is given a mix tailored to their skillset.\n",
      "Engineering interviews are usually carried out in a shared Python coding environment, like Google Colab. Frontend engineering interviews are in JavaScript. They have the form:\n",
      "Here’s a description of a component from our stack. Could you re-implement a toy version of it for me in one hour?\n",
      "These components are ‘chunkier’ than the more common LeetCode problems, and are intended to mimic the day-to-day of engineering at Anthropic.\n",
      "We are particularly interested in your thought process and how you attack the problem. You’ll be allowed to look things up with Google, but it’s still important to be familiar with Python syntax and the standard library. We primarily code in Python, and a common reason candidates fail interviews is that they're not fully comfortable in Python.\n",
      "Only one of our engineering interviews touches on machine learning topics, and you can ask to pass on that one if you wish. You do not need to learn anything about machine learning before interviewing as an engineer at Anthropic.\n",
      "Research interviews are broader in form. They’ll include some engineering interviews, and some discussions about the kinds of systems we study.\n",
      "Both the research and engineering interview process also include softer questions about your experience and motivations, and time to ask us about Anthropic.\n",
      "Other Things\n",
      "Engineers here do lots of research, and researchers do lots of engineering\n",
      "While there’s historically been a division between engineering and research in machine learning, we think that boundary has dissolved with the advent of large models. The distribution of candidates we interview is strongly bimodal in both engineering and research experience however, and we have necessarily tailored our interview structure to that.\n",
      "If you’ve an engineering background, please apply as an engineer. You’ll perform much better in the interviews, and if you join you’ll have as much input to Anthropic’s direction and interests as anyone else.\n",
      "As evidence towards this: all of our papers have engineers as authors, and often as first author. Research and engineering hires all share a single title - ‘Member of Technical Staff’.\n",
      "We value direct evidence of ability\n",
      "If you’ve done interesting independent research, written an insightful blog post, or made substantial contributions to open-source software, put that at the top of your resume!\n",
      "Feedback\n",
      "We do not provide feedback on resumes or interviews.\n",
      "Visas\n",
      "Anthropic sponsors visas! We aren't able to sponsor them for every role and every candidate; operations roles are especially difficult to support. But if we make you an offer, we will make every effort to get you into the United States, and we retain an immigration lawyer to help with this.\n",
      "Green cards\n",
      "Once you’re eligible, we’re also keen to sponsor green cards!\n",
      "We do not require PhDs, degrees, or previous ML experience\n",
      "About half of Anthropic technical staff have a PhD of some sort; about half had prior experience in ML. We have several brilliant colleagues who never went to college.\n",
      "Remote interviewing\n",
      "All our interviews are conducted over Google Meet. We prefer PST office hours, but we can be flexible if that’s difficult for you.\n",
      "Re-applying\n",
      "Similarly, if interviews don’t work out this time, you’re welcome to re-apply after 12 months, and earlier if something materially changes about your experience or skills.\n",
      "Remote work\n",
      "Anthropic staff all come to the office regularly. Most staff live in the Bay Area, though a few live further away and come in for one week a month. We also understand that moving can take time, so as a transitional phase some folks start while fully remote.\n",
      "Offer timing\n",
      "If we make an offer, we’re happy to give you time to think about it and finish up any other interview processes you’re going through.\n",
      "Internships\n",
      "We do not offer internships.\n",
      "Candidate Privacy Policy\n",
      "US Candidate Privacy Policy\n",
      "UK Employee and Candidate Privacy Policy\n",
      "Claude\n",
      "API\n",
      "Team\n",
      "Pricing\n",
      "Research\n",
      "Company\n",
      "Customers\n",
      "News\n",
      "Careers\n",
      "Press Inquiries\n",
      "Support\n",
      "Status\n",
      "Availability\n",
      "Twitter\n",
      "LinkedIn\n",
      "YouTube\n",
      "Terms of Service – Consumer\n",
      "Terms of Service – Commercial\n",
      "Privacy Policy\n",
      "Usage Policy\n",
      "Responsible Disclosure Policy\n",
      "Compliance\n",
      "Privacy Choices\n",
      "© 2024 Anthropic PBC\n",
      "\n",
      "\n"
     ]
    }
   ],
   "source": [
    "# getting info for https://anthropic.com\n",
    "print(get_all_details(\"https://anthropic.com\"))"
   ]
  },
  {
   "cell_type": "markdown",
   "id": "adcaab82-5a85-44c1-a2ab-9d16ef17aafa",
   "metadata": {},
   "source": [
    "__Now everything is in place and we can come to producing the brochure itself.__"
   ]
  },
  {
   "cell_type": "code",
   "execution_count": 15,
   "id": "eb170893-e649-4706-af3b-b7c23ed7c477",
   "metadata": {},
   "outputs": [],
   "source": [
    "system_prompt = \"You are an assistant that analyzes the contents of several relevant pages from a company website \\\n",
    "and creates a short brochure about the company for prospective customers, investors and recruits. Respond in markdown.\\\n",
    "Include details of company culture, customers and careers/jobs if you have the information.\"\n",
    "\n",
    "# Or uncomment the lines below for a more humorous brochure - this demonstrates how easy it is to incorporate 'tone':\n",
    "\n",
    "# system_prompt = \"You are an assistant that analyzes the contents of several relevant pages from a company website \\\n",
    "# and creates a short humorous, entertaining, jokey brochure about the company for prospective customers, investors and recruits. Respond in markdown.\\\n",
    "# Include details of company culture, customers and careers/jobs if you have the information.\""
   ]
  },
  {
   "cell_type": "code",
   "execution_count": 16,
   "id": "54a6e002-a09a-454f-a44e-720fb03f76ee",
   "metadata": {},
   "outputs": [
    {
     "data": {
      "text/plain": [
       "'You are an assistant that analyzes the contents of several relevant pages from a company website and creates a short brochure about the company for prospective customers, investors and recruits. Respond in markdown.Include details of company culture, customers and careers/jobs if you have the information.'"
      ]
     },
     "execution_count": 16,
     "metadata": {},
     "output_type": "execute_result"
    }
   ],
   "source": [
    "system_prompt"
   ]
  },
  {
   "cell_type": "code",
   "execution_count": 17,
   "id": "06a34b33-7d8d-42b7-b10a-703802cba9f9",
   "metadata": {},
   "outputs": [],
   "source": [
    "def get_brochure_user_prompt(company_name, url):\n",
    "    user_prompt = f\"You are looking at a company called: {company_name}\\n\"\n",
    "    user_prompt += f\"Here are the contents of its landing page and other relevant pages; use this information to build a short brochure of the company in markdown.\\n\"\n",
    "    user_prompt += get_all_details(url)\n",
    "    user_prompt = user_prompt[:20_000] # Truncate if more than 20,000 characters\n",
    "    return user_prompt"
   ]
  },
  {
   "cell_type": "code",
   "execution_count": 18,
   "id": "00bc2530-72a3-429c-b993-4e22b84b198c",
   "metadata": {},
   "outputs": [],
   "source": [
    "def create_brochure(company_name, url):\n",
    "    response = openai.chat.completions.create(\n",
    "        model=MODEL,\n",
    "        messages=[\n",
    "            {\"role\": \"system\", \"content\": system_prompt},\n",
    "            {\"role\": \"user\", \"content\": get_brochure_user_prompt(company_name, url)}\n",
    "          ],\n",
    "    )\n",
    "    result = response.choices[0].message.content\n",
    "    display(Markdown(result))"
   ]
  },
  {
   "cell_type": "code",
   "execution_count": 19,
   "id": "c340dc67-340b-430d-8ac4-204cbe8af46b",
   "metadata": {},
   "outputs": [
    {
     "name": "stdout",
     "output_type": "stream",
     "text": [
      "Found links: {'links': [{'type': 'about page', 'url': 'https://anthropic.com/company'}, {'type': 'careers page', 'url': 'https://anthropic.com/careers'}, {'type': 'team page', 'url': 'https://anthropic.com/team'}, {'type': 'research page', 'url': 'https://anthropic.com/research'}, {'type': 'news page', 'url': 'https://anthropic.com/news'}]}\n"
     ]
    },
    {
     "data": {
      "text/markdown": [
       "# Anthropic: Pioneering AI Safety and Innovation\n",
       "\n",
       "Welcome to **Anthropic**, an AI safety and research company headquartered in San Francisco. Our mission is to build reliable, interpretable, and steerable AI systems that prioritize safety and benefit society. Join us as we explore the opportunities and challenges presented by advanced AI.\n",
       "\n",
       "---\n",
       "\n",
       "## Meet Claude\n",
       "\n",
       "**Claude 3.5 Sonnet** is our most advanced AI model, designed to streamline workflows across various sectors and elevate productivity. Claude acts as a virtual teammate, helping teams generate insights and complete tasks efficiently.\n",
       "\n",
       "- **Transformative Collaboration**: Claude revolutionizes how teams work by synthesizing shared knowledge and driving creativity.\n",
       "- **Empowered Workflows**: From drafting documents to troubleshooting code, Claude reduces time spent on tasks, ensuring teams can focus on impactful projects.\n",
       "\n",
       "---\n",
       "\n",
       "## Our Purpose\n",
       "\n",
       "At Anthropic, we recognize the extensive impact AI will have on the world, and we are committed to developing systems that can be trusted. Our interdisciplinary team conducts frontier research to enhance AI safety, tackling various aspects from human feedback to societal implications.\n",
       "\n",
       "### Core Values\n",
       "\n",
       "1. **Mission-Driven**: We exist to ensure AI helps humanity flourish.\n",
       "2. **Trust-Centric**: An environment of honesty and intellectual openness fosters better decision-making.\n",
       "3. **Collaborative Spirit**: We believe in leveraging the diverse skills of our entire team.\n",
       "4. **Pragmatic Approach**: We favor simple, effective solutions for complex problems.\n",
       "\n",
       "---\n",
       "\n",
       "## Company Culture\n",
       "\n",
       "At Anthropic, our culture celebrates:\n",
       "- **Interdisciplinary Collaboration**: Our team consists of engineers, researchers, policy experts, and business leaders, fostering rich collaborations.\n",
       "- **Employee Wellbeing**: We offer comprehensive health insurance, parental leave, and unlimited PTO, aiming to support the wellness of our team and their families.\n",
       "- **Professional Growth**: Continuous learning is encouraged, with educational stipends and flexible career development options.\n",
       "\n",
       "---\n",
       "\n",
       "## Join Our Team\n",
       "\n",
       "We are always looking for talented individuals who are eager to contribute to our mission. Our hiring process is designed to assess skill and potential without bias while welcoming various backgrounds and experiences.\n",
       "\n",
       "### Why Work At Anthropic?\n",
       "- **Competitive Compensation**: Attractive salary packages with significant equity options.\n",
       "- **Flexible Work Arrangements**: Remote work flexibility with support for relocation.\n",
       "- **Comprehensive Benefits**: Health, wellness stipends, daily office lunches, and a nurturing work environment.\n",
       "\n",
       "Explore current job openings and apply to join our team dedicated to shaping the future of AI.\n",
       "\n",
       "---\n",
       "\n",
       "## Customer Commitment\n",
       "\n",
       "We serve a diverse array of clients across sectors, empowering businesses to harness AI effectively. Our partnerships and product offerings are crafted to enhance capabilities, promote efficiency, and ensure safety.\n",
       "\n",
       "---\n",
       "\n",
       "## Follow Us\n",
       "\n",
       "Stay updated with our latest research, product developments, and news:\n",
       "- [Twitter](#)\n",
       "- [LinkedIn](#)\n",
       "- [YouTube](#)\n",
       "\n",
       "For inquiries, contact us at **press@anthropic.com**.\n",
       "\n",
       "---\n",
       "\n",
       "### **Anthropic**: Where AI innovation meets safety and reliability. Explore the future with us!"
      ],
      "text/plain": [
       "<IPython.core.display.Markdown object>"
      ]
     },
     "metadata": {},
     "output_type": "display_data"
    }
   ],
   "source": [
    "create_brochure(\"Anthropic\", \"https://anthropic.com\")"
   ]
  },
  {
   "cell_type": "markdown",
   "id": "89f4c7d3-6291-4ca5-adcd-fc94e58d74a3",
   "metadata": {},
   "source": [
    "## Step 03: A Minor Improvement"
   ]
  },
  {
   "cell_type": "markdown",
   "id": "2161385b-efab-4d0c-9df2-ddd0c4955674",
   "metadata": {},
   "source": [
    "With a small adjustment, we can change this so that the results stream back from OpenAI with the familiar typewriter animation."
   ]
  },
  {
   "cell_type": "code",
   "execution_count": 20,
   "id": "3a19c70e-c572-49b0-a42f-a77fc9190627",
   "metadata": {},
   "outputs": [],
   "source": [
    "def stream_brochure(company_name, url):\n",
    "    stream = openai.chat.completions.create(\n",
    "        model=MODEL,\n",
    "        messages=[\n",
    "            {\"role\": \"system\", \"content\": system_prompt},\n",
    "            {\"role\": \"user\", \"content\": get_brochure_user_prompt(company_name, url)}\n",
    "          ],\n",
    "        stream=True\n",
    "    )\n",
    "    \n",
    "    response = \"\"\n",
    "    # doing some more work her to ensure that markdown come properly\n",
    "    display_handle = display(Markdown(\"\"), display_id=True)\n",
    "    for chunk in stream:\n",
    "        response += chunk.choices[0].delta.content or ''\n",
    "        response = response.replace(\"```\",\"\").replace(\"markdown\", \"\")\n",
    "        update_display(Markdown(response), display_id=display_handle.display_id)"
   ]
  },
  {
   "cell_type": "code",
   "execution_count": 21,
   "id": "1083f00b-2f84-43a7-a8c9-5c1905cff14f",
   "metadata": {},
   "outputs": [
    {
     "name": "stdout",
     "output_type": "stream",
     "text": [
      "Found links: {'links': [{'type': 'about page', 'url': 'https://anthropic.com/company'}, {'type': 'careers page', 'url': 'https://anthropic.com/careers'}, {'type': 'team page', 'url': 'https://anthropic.com/team'}, {'type': 'research page', 'url': 'https://anthropic.com/research'}]}\n"
     ]
    },
    {
     "data": {
      "text/markdown": [
       "# Anthropic Brochure\n",
       "\n",
       "## Who We Are\n",
       "**Anthropic** is an AI safety and research company headquartered in San Francisco. Our mission is to develop reliable, interpretable, and steerable AI systems that prioritize safety at every level.\n",
       "\n",
       "## Our Purpose\n",
       "The rapid advancement of AI technologies presents both incredible opportunities and significant challenges. At Anthropic, we are dedicated to ensuring that transformative AI technologies help individuals and society flourish. We conduct rigorous research to evaluate the impacts of AI, with a commitment to transparency as we share our findings with the global community.\n",
       "\n",
       "## Our AI Model: Claude\n",
       "Introducing **Claude 3.5 Sonnet**, our most advanced AI model yet. Claude is designed to function as a virtual teammate, enhancing productivity by collaborating on tasks ranging from writing to coding. We invite you to [talk to Claude](#) and see the capabilities of our AI firsthand.\n",
       "\n",
       "## Company Culture\n",
       "At Anthropic, our workplace is characterized by:\n",
       "- **Mission-Driven Work**: Every decision is driven by our commitment to AI safety and advancement.\n",
       "- **High Trust Environment**: We prioritize honesty, kindness, and emotional maturity. Our culture encourages open disagreement and candid discussions.\n",
       "- **Collaboration**: We believe that success comes from teamwork. While we have specialized teams, we operate as one cohesive unit toward our shared goals.\n",
       "\n",
       "## Our Team\n",
       "Our interdisciplinary team comprises:\n",
       "- Researchers\n",
       "- Engineers\n",
       "- Policy Experts\n",
       "- Business Leaders\n",
       "\n",
       "Members come from diverse backgrounds, including machine learning, physics, public policy, and more, contributing to a rich blend of ideas and perspectives.\n",
       "\n",
       "## Customer Base\n",
       "Anthropic collaborates with a variety of sectors including businesses, nonprofits, and civil society organizations. Our products empower clients by harnessing AI to drive efficiency and unlock new revenue streams.\n",
       "\n",
       "## Careers at Anthropic\n",
       "We are always looking for passionate individuals to join our mission. We offer a supportive work environment with benefits that include:\n",
       "- Competitive salaries and equity packages\n",
       "- Unlimited Paid Time Off (PTO)\n",
       "- Comprehensive health, dental, and vision insurance\n",
       "- Substantial parental leave\n",
       "- Flexible wellness stipends\n",
       "\n",
       "### Hiring Process\n",
       "Our interview process is designed to minimize bias while thoroughly assessing candidates’ fit for our team. If you’re interested in working with us, please visit our [careers page](#) to explore open positions.\n",
       "\n",
       "## Research and Development\n",
       "At Anthropic, we engage in frontier research focused on improving AI safety. Our research explores areas such as interpretability, human feedback reinforcement learning, and policy impact analysis. We strive to communicate insights to policymakers and the public, influencing responsible AI development industry-wide.\n",
       "\n",
       "## Get In Touch\n",
       "Interested in learning more? Join us on our journey to make AI safer for all:\n",
       "- [Website](#)  \n",
       "- [LinkedIn](#)  \n",
       "- [Twitter](#)  \n",
       "\n",
       "---\n",
       "\n",
       "**Anthropic**: Building AI that you can trust.  \n",
       "**Together, let’s shape the future responsibly.**"
      ],
      "text/plain": [
       "<IPython.core.display.Markdown object>"
      ]
     },
     "metadata": {},
     "output_type": "display_data"
    }
   ],
   "source": [
    "stream_brochure(\"Anthropic\", \"https://anthropic.com\")"
   ]
  },
  {
   "cell_type": "code",
   "execution_count": 22,
   "id": "a726008a-a689-4cd2-97db-02abcfa3039e",
   "metadata": {},
   "outputs": [
    {
     "name": "stdout",
     "output_type": "stream",
     "text": [
      "Found links: {'links': [{'type': 'about page', 'url': 'https://huggingface.co/huggingface'}, {'type': 'careers page', 'url': 'https://apply.workable.com/huggingface/'}, {'type': 'company page', 'url': 'https://huggingface.co/enterprise'}, {'type': 'blog page', 'url': 'https://huggingface.co/blog'}, {'type': 'discussion forum', 'url': 'https://discuss.huggingface.co'}, {'type': 'GitHub page', 'url': 'https://github.com/huggingface'}, {'type': 'Twitter page', 'url': 'https://twitter.com/huggingface'}, {'type': 'LinkedIn page', 'url': 'https://www.linkedin.com/company/huggingface/'}]}\n"
     ]
    },
    {
     "data": {
      "text/markdown": [
       "# Hugging Face Company Brochure\n",
       "\n",
       "## Welcome to Hugging Face\n",
       "\n",
       "### The AI Community Building the Future\n",
       "\n",
       "At Hugging Face, we are on a mission to democratize good machine learning, one commit at a time. Hugging Face is a collaborative platform for the machine learning community to share models, datasets, and applications, enabling innovation in AI and ML.\n",
       "\n",
       "### What We Offer\n",
       "\n",
       "- **Models**: Over 400,000 models available to explore, including state-of-the-art solutions from leading organizations like NVIDIA, Meta, and Google.\n",
       "- **Datasets**: Access and share over 100,000 datasets tailored for various machine learning tasks across different modalities such as text, image, video, and audio.\n",
       "- **Spaces**: Utilize over 150,000 applications to create, discover, and collaborate on ML projects.\n",
       "- **Compute Solutions**: Affordable pricing starting at $0.60/hour for GPU compute, with enterprise-ready options for teams seeking dedicated support.\n",
       "\n",
       "### Our Customers\n",
       "\n",
       "More than **50,000 organizations** use Hugging Face, including renowned names such as:\n",
       "- **Amazon Web Services**\n",
       "- **Microsoft**\n",
       "- **Google**\n",
       "- **Intel**\n",
       "- **Uber**\n",
       "\n",
       "### Company Culture\n",
       "\n",
       "At Hugging Face, we pride ourselves on fostering a collaborative and inclusive environment that drives creativity and innovation. With a team of 218 dedicated members, we continuously strive for open-source contributions and community engagement. Our culture emphasizes:\n",
       "\n",
       "- **Collaboration**: We work together to innovate and enhance machine learning tools.\n",
       "- **Inclusivity**: We welcome contributions from diverse perspectives in the community.\n",
       "- **Mission-Driven**: Everyone is motivated by the shared goal of democratizing AI.\n",
       "\n",
       "### Careers at Hugging Face\n",
       "\n",
       "Join our rapidly growing team and become part of a vibrant community passionate about machine learning. We are always looking for talented individuals to contribute to our mission:\n",
       "\n",
       "- **Current Openings**: Explore exciting career opportunities [here](https://huggingface.co/jobs).\n",
       "- **Why Work With Us?**:\n",
       "  - Access to cutting-edge ML technologies.\n",
       "  - Opportunities for professional growth and learning.\n",
       "  - Flexible work arrangements to foster well-being.\n",
       "\n",
       "### Get in Touch!\n",
       "\n",
       "Visit us at: [huggingface.co](https://huggingface.co)\n",
       "\n",
       "Follow us on social media to stay updated on our latest developments:\n",
       "- [GitHub](https://github.com/huggingface)\n",
       "- [Twitter](https://twitter.com/huggingface)\n",
       "- [LinkedIn](https://www.linkedin.com/company/huggingface)\n",
       "\n",
       "Join us in building the future of AI and machine learning! 🌟"
      ],
      "text/plain": [
       "<IPython.core.display.Markdown object>"
      ]
     },
     "metadata": {},
     "output_type": "display_data"
    }
   ],
   "source": [
    "stream_brochure(\"HuggingFace\", \"https://huggingface.co\")"
   ]
  },
  {
   "cell_type": "markdown",
   "id": "c9d2055d-4eca-4f84-86c6-1512a0e18d32",
   "metadata": {},
   "source": [
    "__Wrapping things up__\n",
    "\n",
    "In this example we combined multiple calls to LLMs to achieve our goal and have the LLM produce a brochure for us. This can be considered as an example of an __Agentic AI design pattern__.\n"
   ]
  },
  {
   "cell_type": "code",
   "execution_count": null,
   "id": "ac83f64b-835f-41dc-a96a-814945ddda59",
   "metadata": {},
   "outputs": [],
   "source": []
  }
 ],
 "metadata": {
  "kernelspec": {
   "display_name": "Python 3 (ipykernel)",
   "language": "python",
   "name": "python3"
  },
  "language_info": {
   "codemirror_mode": {
    "name": "ipython",
    "version": 3
   },
   "file_extension": ".py",
   "mimetype": "text/x-python",
   "name": "python",
   "nbconvert_exporter": "python",
   "pygments_lexer": "ipython3",
   "version": "3.12.7"
  }
 },
 "nbformat": 4,
 "nbformat_minor": 5
}
