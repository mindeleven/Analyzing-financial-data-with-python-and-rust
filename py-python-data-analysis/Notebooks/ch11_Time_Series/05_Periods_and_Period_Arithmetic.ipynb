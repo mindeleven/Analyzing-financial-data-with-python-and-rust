{
 "cells": [
  {
   "cell_type": "markdown",
   "id": "c84454c9-dea6-48d6-9192-d11f98a0d061",
   "metadata": {},
   "source": [
    "## Periods and Period Arithmetic"
   ]
  },
  {
   "cell_type": "markdown",
   "id": "278294fb-b5dc-4aa4-a233-93bb5b948e33",
   "metadata": {},
   "source": [
    "Periods represent timespans like days, months, quarters or years. The Period class represents this data type."
   ]
  },
  {
   "cell_type": "code",
   "execution_count": 17,
   "id": "21c48a22-f2a1-458a-8340-54117b7af16e",
   "metadata": {},
   "outputs": [],
   "source": [
    "import numpy as np\n",
    "import pandas as pd"
   ]
  },
  {
   "cell_type": "code",
   "execution_count": 4,
   "id": "89a9d08d-7239-4869-a5fe-4040d6baf8dc",
   "metadata": {},
   "outputs": [
    {
     "data": {
      "text/plain": [
       "Period('2007', 'Y-DEC')"
      ]
     },
     "execution_count": 4,
     "metadata": {},
     "output_type": "execute_result"
    }
   ],
   "source": [
    "p = pd.Period(2007, freq='Y-DEC') # 'A-DEC' is deprecated and will be removed in a future version\n",
    "p # represents full timespan between Jan 1st and December 31st 2007"
   ]
  },
  {
   "cell_type": "code",
   "execution_count": 6,
   "id": "ebc4fb87-4c58-40a1-b57f-25482afbc36b",
   "metadata": {},
   "outputs": [
    {
     "data": {
      "text/plain": [
       "Period('2012', 'Y-DEC')"
      ]
     },
     "execution_count": 6,
     "metadata": {},
     "output_type": "execute_result"
    }
   ],
   "source": [
    "p + 5 # shifting p by plus five years"
   ]
  },
  {
   "cell_type": "code",
   "execution_count": 7,
   "id": "1a52947b-80eb-48a1-800b-e630330b5f18",
   "metadata": {},
   "outputs": [
    {
     "data": {
      "text/plain": [
       "Period('2005', 'Y-DEC')"
      ]
     },
     "execution_count": 7,
     "metadata": {},
     "output_type": "execute_result"
    }
   ],
   "source": [
    "p - 2 # shifting p by minus two years"
   ]
  },
  {
   "cell_type": "code",
   "execution_count": 8,
   "id": "f6bf936e-4fc3-4ebd-ae8c-9454afea7515",
   "metadata": {},
   "outputs": [
    {
     "data": {
      "text/plain": [
       "<7 * YearEnds: month=12>"
      ]
     },
     "execution_count": 8,
     "metadata": {},
     "output_type": "execute_result"
    }
   ],
   "source": [
    "# difference between two periods\n",
    "pd.Period(2014, freq='Y-DEC') - p # difference is the number of units between them"
   ]
  },
  {
   "cell_type": "markdown",
   "id": "bb503ce6-6c01-4f47-9e10-0e507b0f5415",
   "metadata": {},
   "source": [
    "__Constructing regular ranges of periods:__"
   ]
  },
  {
   "cell_type": "code",
   "execution_count": 10,
   "id": "a4756925-825e-4e2f-b2b2-13039471e9b9",
   "metadata": {},
   "outputs": [
    {
     "data": {
      "text/plain": [
       "PeriodIndex(['2000-01', '2000-02', '2000-03', '2000-04', '2000-05', '2000-06'], dtype='period[M]')"
      ]
     },
     "execution_count": 10,
     "metadata": {},
     "output_type": "execute_result"
    }
   ],
   "source": [
    "rng = pd.period_range('2000-01-01', '2000-06-30', freq='M')\n",
    "rng"
   ]
  },
  {
   "cell_type": "code",
   "execution_count": 14,
   "id": "3b8e8764-1eae-4351-956a-d83e9e10c6f7",
   "metadata": {},
   "outputs": [
    {
     "data": {
      "text/plain": [
       "PeriodIndex(['2020-06-01', '2020-06-02', '2020-06-03', '2020-06-04',\n",
       "             '2020-06-05', '2020-06-06', '2020-06-07', '2020-06-08',\n",
       "             '2020-06-09', '2020-06-10', '2020-06-11', '2020-06-12',\n",
       "             '2020-06-13', '2020-06-14', '2020-06-15', '2020-06-16',\n",
       "             '2020-06-17', '2020-06-18', '2020-06-19', '2020-06-20',\n",
       "             '2020-06-21', '2020-06-22', '2020-06-23', '2020-06-24',\n",
       "             '2020-06-25', '2020-06-26', '2020-06-27', '2020-06-28',\n",
       "             '2020-06-29', '2020-06-30'],\n",
       "            dtype='period[D]')"
      ]
     },
     "execution_count": 14,
     "metadata": {},
     "output_type": "execute_result"
    }
   ],
   "source": [
    "rng2 = pd.period_range('2020-06-01', '2020-06-30', freq='D')\n",
    "rng2"
   ]
  },
  {
   "cell_type": "markdown",
   "id": "7179813a-3c87-4055-9931-21b6ba6cd9ff",
   "metadata": {},
   "source": [
    "__PeriodIndex class:__ \n",
    "- Stores a sequence of periods\n",
    "- Can serve as an axis idex in any pandas data structure "
   ]
  },
  {
   "cell_type": "code",
   "execution_count": 18,
   "id": "134ed24c-ff07-4de2-9b86-dccc3bb40705",
   "metadata": {},
   "outputs": [
    {
     "data": {
      "text/plain": [
       "2020-06-01    0.745524\n",
       "2020-06-02    0.648470\n",
       "2020-06-03    0.743454\n",
       "2020-06-04    0.340527\n",
       "2020-06-05    0.089685\n",
       "2020-06-06    0.601233\n",
       "2020-06-07    0.574613\n",
       "2020-06-08    0.552891\n",
       "2020-06-09    0.348332\n",
       "2020-06-10    0.081745\n",
       "2020-06-11    0.311659\n",
       "2020-06-12    0.768068\n",
       "2020-06-13    0.083415\n",
       "2020-06-14    0.844803\n",
       "2020-06-15    0.532350\n",
       "2020-06-16    0.355104\n",
       "2020-06-17    0.375153\n",
       "2020-06-18    0.495984\n",
       "2020-06-19    0.191427\n",
       "2020-06-20    0.740889\n",
       "2020-06-21    0.297243\n",
       "2020-06-22    0.242970\n",
       "2020-06-23    0.732579\n",
       "2020-06-24    0.117364\n",
       "2020-06-25    0.894936\n",
       "2020-06-26    0.496894\n",
       "2020-06-27    0.032521\n",
       "2020-06-28    0.115804\n",
       "2020-06-29    0.840538\n",
       "2020-06-30    0.400713\n",
       "Freq: D, dtype: float64"
      ]
     },
     "execution_count": 18,
     "metadata": {},
     "output_type": "execute_result"
    }
   ],
   "source": [
    "pd.Series(np.random.rand(30), index=rng2)"
   ]
  },
  {
   "cell_type": "markdown",
   "id": "129c7f58-1d88-4cff-84d5-21c684d386cd",
   "metadata": {},
   "source": [
    "__`PeriodIndex` class with an array of strings:__"
   ]
  },
  {
   "cell_type": "code",
   "execution_count": 19,
   "id": "bb1e977a-73b5-40a0-ae8b-98039a293100",
   "metadata": {},
   "outputs": [],
   "source": [
    "values = ['2001Q3', '2002Q2', '2003Q1']"
   ]
  },
  {
   "cell_type": "code",
   "execution_count": 21,
   "id": "740c0667-ff66-4af1-a044-bd0e70fd3417",
   "metadata": {},
   "outputs": [
    {
     "data": {
      "text/plain": [
       "PeriodIndex(['2001Q3', '2002Q2', '2003Q1'], dtype='period[Q-DEC]')"
      ]
     },
     "execution_count": 21,
     "metadata": {},
     "output_type": "execute_result"
    }
   ],
   "source": [
    "index = pd.PeriodIndex(values, freq='Q-DEC')\n",
    "index"
   ]
  },
  {
   "cell_type": "markdown",
   "id": "f5f5aa38-67dc-4095-8740-d0e2bcdf2faf",
   "metadata": {},
   "source": [
    "### Period Frequency Conversion"
   ]
  },
  {
   "cell_type": "markdown",
   "id": "d1c68d93-c2e5-4502-a65c-544df91a2995",
   "metadata": {},
   "source": [
    "`Periods` and `PeriodIndex` can be converted to another frequency with their asfreq method."
   ]
  },
  {
   "cell_type": "code",
   "execution_count": 22,
   "id": "39a51be0-8ad6-4558-9d65-02b85f3c98f6",
   "metadata": {},
   "outputs": [
    {
     "data": {
      "text/plain": [
       "Period('2007', 'Y-DEC')"
      ]
     },
     "execution_count": 22,
     "metadata": {},
     "output_type": "execute_result"
    }
   ],
   "source": [
    "# example: converting an annual period into a monthly period\n",
    "p = pd.Period(2007, freq='Y-DEC')\n",
    "p"
   ]
  },
  {
   "cell_type": "code",
   "execution_count": 23,
   "id": "8bd307ca-4826-4bd6-a427-28d9b7ea7bc0",
   "metadata": {},
   "outputs": [
    {
     "data": {
      "text/plain": [
       "Period('2007-01', 'M')"
      ]
     },
     "execution_count": 23,
     "metadata": {},
     "output_type": "execute_result"
    }
   ],
   "source": [
    "p.asfreq('M', how='start')"
   ]
  },
  {
   "cell_type": "code",
   "execution_count": 24,
   "id": "96ffa099-31d9-4a03-a8bd-2d46b9ca918b",
   "metadata": {},
   "outputs": [
    {
     "data": {
      "text/plain": [
       "Period('2007-12', 'M')"
      ]
     },
     "execution_count": 24,
     "metadata": {},
     "output_type": "execute_result"
    }
   ],
   "source": [
    "p.asfreq('M', how='end')"
   ]
  },
  {
   "cell_type": "code",
   "execution_count": 26,
   "id": "baacfa06-465a-4138-98e8-eb0350b54173",
   "metadata": {},
   "outputs": [
    {
     "data": {
      "text/plain": [
       "Period('2007', 'Y-JUN')"
      ]
     },
     "execution_count": 26,
     "metadata": {},
     "output_type": "execute_result"
    }
   ],
   "source": [
    "# fiscal year ending on a month other than December\n",
    "p = pd.Period(2007, freq='Y-JUN')\n",
    "p"
   ]
  },
  {
   "cell_type": "code",
   "execution_count": 27,
   "id": "0cbe779b-c052-4e3e-ba54-6c55cd960946",
   "metadata": {},
   "outputs": [
    {
     "data": {
      "text/plain": [
       "Period('2006-07', 'M')"
      ]
     },
     "execution_count": 27,
     "metadata": {},
     "output_type": "execute_result"
    }
   ],
   "source": [
    "p.asfreq('M', how='start')"
   ]
  },
  {
   "cell_type": "code",
   "execution_count": 28,
   "id": "c4920b6a-bcf1-4f05-911e-20fb2a400a55",
   "metadata": {},
   "outputs": [
    {
     "data": {
      "text/plain": [
       "Period('2007-06', 'M')"
      ]
     },
     "execution_count": 28,
     "metadata": {},
     "output_type": "execute_result"
    }
   ],
   "source": [
    "p.asfreq('M', how='end')"
   ]
  },
  {
   "cell_type": "markdown",
   "id": "31898306-9d59-4649-957a-e25fc548a189",
   "metadata": {},
   "source": [
    "__Converting from high to low frequency:__ pandas determines the superperiod depending on where the subperiod 'belongs'."
   ]
  },
  {
   "cell_type": "code",
   "execution_count": 29,
   "id": "81590cf4-911b-43c4-a69f-10760f8adede",
   "metadata": {},
   "outputs": [
    {
     "data": {
      "text/plain": [
       "Period('2007-08', 'M')"
      ]
     },
     "execution_count": 29,
     "metadata": {},
     "output_type": "execute_result"
    }
   ],
   "source": [
    "# example: a Y-JUN freq\n",
    "p = pd.Period('Aug-2007', 'M')\n",
    "p"
   ]
  },
  {
   "cell_type": "code",
   "execution_count": 31,
   "id": "8549e510-a38b-48fe-9d61-f8d0cb1c6cad",
   "metadata": {},
   "outputs": [
    {
     "data": {
      "text/plain": [
       "Period('2008', 'Y-JUN')"
      ]
     },
     "execution_count": 31,
     "metadata": {},
     "output_type": "execute_result"
    }
   ],
   "source": [
    "p.asfreq('Y-JUN')"
   ]
  },
  {
   "cell_type": "code",
   "execution_count": null,
   "id": "7b43c7c4-e269-4133-8d2c-5a63a6ac33c3",
   "metadata": {},
   "outputs": [],
   "source": []
  }
 ],
 "metadata": {
  "kernelspec": {
   "display_name": "Python 3 (ipykernel)",
   "language": "python",
   "name": "python3"
  },
  "language_info": {
   "codemirror_mode": {
    "name": "ipython",
    "version": 3
   },
   "file_extension": ".py",
   "mimetype": "text/x-python",
   "name": "python",
   "nbconvert_exporter": "python",
   "pygments_lexer": "ipython3",
   "version": "3.12.6"
  }
 },
 "nbformat": 4,
 "nbformat_minor": 5
}
