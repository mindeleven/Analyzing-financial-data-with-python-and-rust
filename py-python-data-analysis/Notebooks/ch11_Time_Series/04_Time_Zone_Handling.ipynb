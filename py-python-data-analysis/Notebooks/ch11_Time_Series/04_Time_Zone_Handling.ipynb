{
 "cells": [
  {
   "cell_type": "markdown",
   "id": "c4be84d3-d700-4115-92dd-a8c2d8fb2d13",
   "metadata": {},
   "source": [
    "## Time Zone Handling"
   ]
  },
  {
   "cell_type": "markdown",
   "id": "9345a908-954e-4e55-ad7a-73e36b91f65a",
   "metadata": {},
   "source": [
    "*[Coding along with Python for Data Analysis: Data Wrangling with Pandas, NumPy, and IPython, Wes Mckinney, O'Reilly, 1st Edition October 2012; the notebook accompanying this chapter can be found on [GitHub](https://github.com/wesm/pydata-book/blob/3rd-edition/ch11.ipynb)]*"
   ]
  },
  {
   "cell_type": "markdown",
   "id": "0de99ef0-e972-42ea-9730-98ac142bd573",
   "metadata": {},
   "source": [
    "Python uses the third party library `pytz`for time zone information. Many time series users prefer to work with `coordinated universal time` or UTC. Time zones are expressed as offsets from UTC (New York is four hours behind UTC during daylight saving time, five hours behind for the rest of the year).\n",
    "<br/>\n",
    "The `pytz` library exposes the *Olson database*, a compilation of world time zone information."
   ]
  },
  {
   "cell_type": "markdown",
   "id": "2a729628-76b4-49c0-aa02-5fcab14a7992",
   "metadata": {},
   "source": [
    "The __Olson database__, also known as the `tz database` or zoneinfo database, is a public-domain database of time zones for locations around the world. It is maintained by a group of volunteers, with Arthur David Olson and Paul Eggert being the primary contributors.\n",
    "\n",
    "__Key Features:__\n",
    "\n",
    "- __Time Zone Names:__ Each location is identified by a unique name, such as “America/New_York” or “Europe/Berlin”, which represents the local time for that region.\n",
    "- __Historical Data:__ The database records the exact moment of transition for each time zone, allowing for accurate representation of historical time zone changes.\n",
    "- __Rule Lines:__ The database includes rule lines that define the standard and daylight saving time (DST) rules for each time zone.\n",
    "Zone Lines: Zone lines define the time zone boundaries and UTC offsets for each region.\n",
    "- __ISO 3166 Country Codes:__ The database uses ISO 3166 2-character country codes to identify countries."
   ]
  },
  {
   "cell_type": "code",
   "execution_count": 1,
   "id": "00e8737a-7336-41d7-8cf4-4ccd2b86ebc2",
   "metadata": {},
   "outputs": [],
   "source": [
    "import pytz"
   ]
  },
  {
   "cell_type": "code",
   "execution_count": 2,
   "id": "ae430a9e-69e6-404b-9fb5-491cc7494eb6",
   "metadata": {},
   "outputs": [
    {
     "data": {
      "text/plain": [
       "['US/Eastern', 'US/Hawaii', 'US/Mountain', 'US/Pacific', 'UTC']"
      ]
     },
     "execution_count": 2,
     "metadata": {},
     "output_type": "execute_result"
    }
   ],
   "source": [
    "pytz.common_timezones[-5:]"
   ]
  },
  {
   "cell_type": "code",
   "execution_count": 5,
   "id": "e8a6f6c6-126c-45a1-acf8-bf1f29aab784",
   "metadata": {},
   "outputs": [
    {
     "data": {
      "text/plain": [
       "<DstTzInfo 'America/New_York' LMT-1 day, 19:04:00 STD>"
      ]
     },
     "execution_count": 5,
     "metadata": {},
     "output_type": "execute_result"
    }
   ],
   "source": [
    "# getting a timezone object from pytz\n",
    "tz = pytz.timezone('America/New_York')\n",
    "tz"
   ]
  },
  {
   "cell_type": "markdown",
   "id": "a3c1e812-2146-4929-9d73-faa9ea40b927",
   "metadata": {},
   "source": [
    "### Time Zone Localization "
   ]
  },
  {
   "cell_type": "code",
   "execution_count": 11,
   "id": "bbf01c78-4314-4c25-879c-2b8c672559dc",
   "metadata": {},
   "outputs": [],
   "source": [
    "import pandas as pd\n",
    "import numpy as np"
   ]
  },
  {
   "cell_type": "code",
   "execution_count": 17,
   "id": "db240173-1abc-401e-aa73-97f9d5164c66",
   "metadata": {},
   "outputs": [
    {
     "data": {
      "text/plain": [
       "DatetimeIndex(['2012-03-09 09:30:00', '2012-03-10 09:30:00',\n",
       "               '2012-03-11 09:30:00', '2012-03-12 09:30:00',\n",
       "               '2012-03-13 09:30:00', '2012-03-14 09:30:00'],\n",
       "              dtype='datetime64[ns]', freq='D')"
      ]
     },
     "execution_count": 17,
     "metadata": {},
     "output_type": "execute_result"
    }
   ],
   "source": [
    "# time zone example\n",
    "rng = pd.date_range('3/9/2012 9:30', periods=6, freq='D')\n",
    "rng"
   ]
  },
  {
   "cell_type": "code",
   "execution_count": 12,
   "id": "12c2d735-cea0-452b-b043-14da16aee46e",
   "metadata": {},
   "outputs": [],
   "source": [
    "ts = pd.Series(np.random.randn(len(rng)), index=rng)"
   ]
  },
  {
   "cell_type": "code",
   "execution_count": 13,
   "id": "e9667e42-6276-4108-ac34-1281f4bd07e5",
   "metadata": {},
   "outputs": [
    {
     "data": {
      "text/plain": [
       "2012-03-09 09:30:00    0.378185\n",
       "2012-03-10 09:30:00   -0.390203\n",
       "2012-03-11 09:30:00   -0.500009\n",
       "2012-03-12 09:30:00   -0.628508\n",
       "2012-03-13 09:30:00    0.390594\n",
       "2012-03-14 09:30:00   -0.871618\n",
       "Freq: D, dtype: float64"
      ]
     },
     "execution_count": 13,
     "metadata": {},
     "output_type": "execute_result"
    }
   ],
   "source": [
    "ts"
   ]
  },
  {
   "cell_type": "code",
   "execution_count": 15,
   "id": "12370c74-c1dc-404e-9579-f3b91b5195ec",
   "metadata": {},
   "outputs": [
    {
     "name": "stdout",
     "output_type": "stream",
     "text": [
      "None\n"
     ]
    }
   ],
   "source": [
    "print(ts.index.tz) # index's tz field is none"
   ]
  },
  {
   "cell_type": "code",
   "execution_count": 16,
   "id": "8d5310f7-fe79-44a1-a899-4819464b7e2d",
   "metadata": {},
   "outputs": [
    {
     "data": {
      "text/plain": [
       "DatetimeIndex(['2012-03-09 09:30:00+00:00', '2012-03-10 09:30:00+00:00',\n",
       "               '2012-03-11 09:30:00+00:00', '2012-03-12 09:30:00+00:00',\n",
       "               '2012-03-13 09:30:00+00:00', '2012-03-14 09:30:00+00:00',\n",
       "               '2012-03-15 09:30:00+00:00', '2012-03-16 09:30:00+00:00',\n",
       "               '2012-03-17 09:30:00+00:00', '2012-03-18 09:30:00+00:00'],\n",
       "              dtype='datetime64[ns, UTC]', freq='D')"
      ]
     },
     "execution_count": 16,
     "metadata": {},
     "output_type": "execute_result"
    }
   ],
   "source": [
    "# generating date ranges with a timezone set\n",
    "pd.date_range('3/9/2012 9:30', periods=10, freq='D', tz=\"UTC\")"
   ]
  },
  {
   "cell_type": "code",
   "execution_count": 18,
   "id": "9b301c9b-2c37-4f48-820b-7923827f02c0",
   "metadata": {},
   "outputs": [],
   "source": [
    "# conversion from naive to localized with the tz_localize method\n",
    "ts_utc = ts.tz_localize('UTC')"
   ]
  },
  {
   "cell_type": "code",
   "execution_count": 19,
   "id": "5a61d7f7-6195-41cf-8ea9-d8c5ce8b3001",
   "metadata": {},
   "outputs": [
    {
     "data": {
      "text/plain": [
       "2012-03-09 09:30:00+00:00    0.378185\n",
       "2012-03-10 09:30:00+00:00   -0.390203\n",
       "2012-03-11 09:30:00+00:00   -0.500009\n",
       "2012-03-12 09:30:00+00:00   -0.628508\n",
       "2012-03-13 09:30:00+00:00    0.390594\n",
       "2012-03-14 09:30:00+00:00   -0.871618\n",
       "Freq: D, dtype: float64"
      ]
     },
     "execution_count": 19,
     "metadata": {},
     "output_type": "execute_result"
    }
   ],
   "source": [
    "ts_utc"
   ]
  },
  {
   "cell_type": "code",
   "execution_count": 20,
   "id": "d7c1fe99-7805-4dc4-a0be-013419ce4d34",
   "metadata": {},
   "outputs": [
    {
     "data": {
      "text/plain": [
       "DatetimeIndex(['2012-03-09 09:30:00+00:00', '2012-03-10 09:30:00+00:00',\n",
       "               '2012-03-11 09:30:00+00:00', '2012-03-12 09:30:00+00:00',\n",
       "               '2012-03-13 09:30:00+00:00', '2012-03-14 09:30:00+00:00'],\n",
       "              dtype='datetime64[ns, UTC]', freq='D')"
      ]
     },
     "execution_count": 20,
     "metadata": {},
     "output_type": "execute_result"
    }
   ],
   "source": [
    "ts_utc.index"
   ]
  },
  {
   "cell_type": "code",
   "execution_count": 21,
   "id": "d45ab22e-b2c9-4bbe-9780-1cfb17471cfb",
   "metadata": {},
   "outputs": [
    {
     "data": {
      "text/plain": [
       "2012-03-09 04:30:00-05:00    0.378185\n",
       "2012-03-10 04:30:00-05:00   -0.390203\n",
       "2012-03-11 05:30:00-04:00   -0.500009\n",
       "2012-03-12 05:30:00-04:00   -0.628508\n",
       "2012-03-13 05:30:00-04:00    0.390594\n",
       "2012-03-14 05:30:00-04:00   -0.871618\n",
       "Freq: D, dtype: float64"
      ]
     },
     "execution_count": 21,
     "metadata": {},
     "output_type": "execute_result"
    }
   ],
   "source": [
    "# converting localized series to another timezone\n",
    "ts_utc.tz_convert('America/New_York')"
   ]
  },
  {
   "cell_type": "code",
   "execution_count": 22,
   "id": "e0165673-ab85-4f85-b630-6cfcc6384081",
   "metadata": {},
   "outputs": [
    {
     "data": {
      "text/plain": [
       "2012-03-09 09:30:00-05:00    0.378185\n",
       "2012-03-10 09:30:00-05:00   -0.390203\n",
       "2012-03-11 09:30:00-04:00   -0.500009\n",
       "2012-03-12 09:30:00-04:00   -0.628508\n",
       "2012-03-13 09:30:00-04:00    0.390594\n",
       "2012-03-14 09:30:00-04:00   -0.871618\n",
       "dtype: float64"
      ]
     },
     "execution_count": 22,
     "metadata": {},
     "output_type": "execute_result"
    }
   ],
   "source": [
    "# another example: converting to localized America/New_York timezone\n",
    "ts_eastern = ts.tz_localize('America/New_York')\n",
    "ts_eastern"
   ]
  },
  {
   "cell_type": "code",
   "execution_count": 23,
   "id": "44d72503-851e-423d-bbce-22515cc0e29c",
   "metadata": {},
   "outputs": [
    {
     "data": {
      "text/plain": [
       "2012-03-09 14:30:00+00:00    0.378185\n",
       "2012-03-10 14:30:00+00:00   -0.390203\n",
       "2012-03-11 13:30:00+00:00   -0.500009\n",
       "2012-03-12 13:30:00+00:00   -0.628508\n",
       "2012-03-13 13:30:00+00:00    0.390594\n",
       "2012-03-14 13:30:00+00:00   -0.871618\n",
       "dtype: float64"
      ]
     },
     "execution_count": 23,
     "metadata": {},
     "output_type": "execute_result"
    }
   ],
   "source": [
    "# converting eastern time to UTC\n",
    "ts_eastern.tz_convert('UTC')"
   ]
  },
  {
   "cell_type": "code",
   "execution_count": 25,
   "id": "09487e7c-a8db-44bb-8172-5d53a3ff5660",
   "metadata": {},
   "outputs": [
    {
     "data": {
      "text/plain": [
       "2012-03-09 15:30:00+01:00    0.378185\n",
       "2012-03-10 15:30:00+01:00   -0.390203\n",
       "2012-03-11 14:30:00+01:00   -0.500009\n",
       "2012-03-12 14:30:00+01:00   -0.628508\n",
       "2012-03-13 14:30:00+01:00    0.390594\n",
       "2012-03-14 14:30:00+01:00   -0.871618\n",
       "dtype: float64"
      ]
     },
     "execution_count": 25,
     "metadata": {},
     "output_type": "execute_result"
    }
   ],
   "source": [
    "# converting eastern time to European time\n",
    "ts_eastern.tz_convert('Europe/Berlin')"
   ]
  },
  {
   "cell_type": "code",
   "execution_count": 28,
   "id": "3bff3c98-7689-4af6-b5d7-90fd24aaeca8",
   "metadata": {},
   "outputs": [
    {
     "data": {
      "text/plain": [
       "DatetimeIndex(['2012-03-09 09:30:00+08:00', '2012-03-10 09:30:00+08:00',\n",
       "               '2012-03-11 09:30:00+08:00', '2012-03-12 09:30:00+08:00',\n",
       "               '2012-03-13 09:30:00+08:00', '2012-03-14 09:30:00+08:00'],\n",
       "              dtype='datetime64[ns, Asia/Shanghai]', freq=None)"
      ]
     },
     "execution_count": 28,
     "metadata": {},
     "output_type": "execute_result"
    }
   ],
   "source": [
    "# tz_localize and tz_convert are also instance methods on DatetimeIndex\n",
    "ts.index.tz_localize('Asia/Shanghai')"
   ]
  },
  {
   "cell_type": "code",
   "execution_count": null,
   "id": "51b4a658-98e4-4ef5-a87c-6d8d05cd3527",
   "metadata": {},
   "outputs": [],
   "source": []
  }
 ],
 "metadata": {
  "kernelspec": {
   "display_name": "Python 3 (ipykernel)",
   "language": "python",
   "name": "python3"
  },
  "language_info": {
   "codemirror_mode": {
    "name": "ipython",
    "version": 3
   },
   "file_extension": ".py",
   "mimetype": "text/x-python",
   "name": "python",
   "nbconvert_exporter": "python",
   "pygments_lexer": "ipython3",
   "version": "3.12.6"
  }
 },
 "nbformat": 4,
 "nbformat_minor": 5
}
