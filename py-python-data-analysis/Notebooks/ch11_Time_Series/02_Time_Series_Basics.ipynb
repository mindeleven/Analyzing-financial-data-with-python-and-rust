{
 "cells": [
  {
   "cell_type": "markdown",
   "id": "105c946c-914e-4f96-ae37-5335144438e8",
   "metadata": {},
   "source": [
    "## Time Series Basics"
   ]
  },
  {
   "cell_type": "markdown",
   "id": "519496d4-d290-4532-a973-76f40d574d4c",
   "metadata": {},
   "source": [
    "[Coding along with Python for Data Analysis: Data Wrangling with Pandas, NumPy, and IPython, Wes Mckinney, O'Reilly, 1st Edition October 2012]"
   ]
  },
  {
   "cell_type": "code",
   "execution_count": 8,
   "id": "ea46a1c9-38f0-463d-9a47-52557b0024b0",
   "metadata": {},
   "outputs": [],
   "source": [
    "from datetime import datetime\n",
    "import pandas as pd\n",
    "import numpy as np"
   ]
  },
  {
   "cell_type": "code",
   "execution_count": 9,
   "id": "27d931b4-ade1-45e7-9d1f-8e30646569f7",
   "metadata": {},
   "outputs": [],
   "source": [
    "# a basic kind of time series on pandas is a Series indexed by timestamps\n",
    "dates = [datetime(2011, 1, 2), datetime(2011, 1, 5),\n",
    "         datetime(2011, 1, 7), datetime(2011, 1, 8),\n",
    "         datetime(2011, 1, 10), datetime(2011, 1, 12)]"
   ]
  },
  {
   "cell_type": "code",
   "execution_count": 10,
   "id": "860fd0e9-ec57-4ac4-b064-493614b7480d",
   "metadata": {},
   "outputs": [
    {
     "data": {
      "text/plain": [
       "2011-01-02    0.131384\n",
       "2011-01-05   -0.822725\n",
       "2011-01-07   -0.792792\n",
       "2011-01-08   -0.370405\n",
       "2011-01-10    0.767833\n",
       "2011-01-12   -0.239058\n",
       "dtype: float64"
      ]
     },
     "execution_count": 10,
     "metadata": {},
     "output_type": "execute_result"
    }
   ],
   "source": [
    "ts = pd.Series(np.random.standard_normal(6), index=dates)\n",
    "ts"
   ]
  },
  {
   "cell_type": "code",
   "execution_count": 12,
   "id": "62fbb8e9-844d-49d7-aa95-b26895540b1e",
   "metadata": {},
   "outputs": [
    {
     "data": {
      "text/plain": [
       "DatetimeIndex(['2011-01-02', '2011-01-05', '2011-01-07', '2011-01-08',\n",
       "               '2011-01-10', '2011-01-12'],\n",
       "              dtype='datetime64[ns]', freq=None)"
      ]
     },
     "execution_count": 12,
     "metadata": {},
     "output_type": "execute_result"
    }
   ],
   "source": [
    "# datetime objects have been put DatetimeIndex\n",
    "ts.index"
   ]
  },
  {
   "cell_type": "code",
   "execution_count": 14,
   "id": "a17f7b10-16dc-44d2-99d2-46fbab6645c2",
   "metadata": {},
   "outputs": [
    {
     "data": {
      "text/plain": [
       "2011-01-02    0.262768\n",
       "2011-01-05         NaN\n",
       "2011-01-07   -1.585583\n",
       "2011-01-08         NaN\n",
       "2011-01-10    1.535666\n",
       "2011-01-12         NaN\n",
       "dtype: float64"
      ]
     },
     "execution_count": 14,
     "metadata": {},
     "output_type": "execute_result"
    }
   ],
   "source": [
    "# arithmetic operations between differently indexed time series automatically align on the dates\n",
    "ts + ts[::2] # ts[::2] selects every second element in ts"
   ]
  },
  {
   "cell_type": "code",
   "execution_count": 17,
   "id": "05f220b1-3e23-4f50-8632-6be82db6294a",
   "metadata": {},
   "outputs": [
    {
     "data": {
      "text/plain": [
       "dtype('<M8[ns]')"
      ]
     },
     "execution_count": 17,
     "metadata": {},
     "output_type": "execute_result"
    }
   ],
   "source": [
    "# pandas stores timestamps using NumPy's datetime64 data type in the nanosec resolution\n",
    "ts.index.dtype"
   ]
  },
  {
   "cell_type": "code",
   "execution_count": 19,
   "id": "f213de35-c422-46b2-96a6-44a9bd85a555",
   "metadata": {},
   "outputs": [
    {
     "data": {
      "text/plain": [
       "Timestamp('2011-01-02 00:00:00')"
      ]
     },
     "execution_count": 19,
     "metadata": {},
     "output_type": "execute_result"
    }
   ],
   "source": [
    "# scalar values from a DatetimeIndex are pandas Timestamp objects\n",
    "stamp = ts.index[0]\n",
    "stamp"
   ]
  },
  {
   "cell_type": "markdown",
   "id": "301dce96-9ec0-430f-bf66-3d19ee125411",
   "metadata": {},
   "source": [
    "### Indexing, Selection, Subsetting"
   ]
  },
  {
   "cell_type": "code",
   "execution_count": 23,
   "id": "3de85f81-530b-4aef-83c6-6874794d047b",
   "metadata": {},
   "outputs": [
    {
     "data": {
      "text/plain": [
       "2011-01-02    0.131384\n",
       "2011-01-05   -0.822725\n",
       "2011-01-07   -0.792792\n",
       "2011-01-08   -0.370405\n",
       "2011-01-10    0.767833\n",
       "2011-01-12   -0.239058\n",
       "dtype: float64"
      ]
     },
     "execution_count": 23,
     "metadata": {},
     "output_type": "execute_result"
    }
   ],
   "source": [
    "ts"
   ]
  },
  {
   "cell_type": "code",
   "execution_count": 27,
   "id": "314969a5-58d9-4128-9190-3b007d1a44d9",
   "metadata": {},
   "outputs": [
    {
     "data": {
      "text/plain": [
       "np.float64(-0.7927915748880956)"
      ]
     },
     "execution_count": 27,
     "metadata": {},
     "output_type": "execute_result"
    }
   ],
   "source": [
    "# indexing and selecting based on label\n",
    "stamp = ts.index[2]\n",
    "ts[stamp]"
   ]
  },
  {
   "cell_type": "code",
   "execution_count": 28,
   "id": "4d6ba160-9148-4229-b2c2-967d04ecf61c",
   "metadata": {},
   "outputs": [
    {
     "data": {
      "text/plain": [
       "np.float64(0.7678328351109673)"
      ]
     },
     "execution_count": 28,
     "metadata": {},
     "output_type": "execute_result"
    }
   ],
   "source": [
    "# passing a string that is interpretable as a date\n",
    "ts[\"2011-01-10\"]"
   ]
  },
  {
   "cell_type": "code",
   "execution_count": 30,
   "id": "c122ccc5-f337-474d-b718-b27a3a058652",
   "metadata": {},
   "outputs": [
    {
     "data": {
      "text/plain": [
       "np.float64(-0.3704049413697135)"
      ]
     },
     "execution_count": 30,
     "metadata": {},
     "output_type": "execute_result"
    }
   ],
   "source": [
    "ts[\"20110108\"]"
   ]
  },
  {
   "cell_type": "code",
   "execution_count": 32,
   "id": "1a079c1a-6cf5-4c6f-9d26-6a38757d0c0c",
   "metadata": {},
   "outputs": [
    {
     "data": {
      "text/plain": [
       "2001-01-01   -1.316617\n",
       "2001-01-02   -0.260643\n",
       "2001-01-03    2.226456\n",
       "2001-01-04   -0.889055\n",
       "2001-01-05    1.164262\n",
       "                ...   \n",
       "2003-09-23   -0.214790\n",
       "2003-09-24   -1.329014\n",
       "2003-09-25    0.836438\n",
       "2003-09-26   -1.004589\n",
       "2003-09-27   -0.956666\n",
       "Freq: D, Length: 1000, dtype: float64"
      ]
     },
     "execution_count": 32,
     "metadata": {},
     "output_type": "execute_result"
    }
   ],
   "source": [
    "# for a longer time series a year or only a year and month can be passed to easily select slices of data\n",
    "longer_ts = pd.Series(np.random.standard_normal(1000), \n",
    "                      index=pd.date_range(\"2001-01-01\", periods=1000))\n",
    "longer_ts"
   ]
  },
  {
   "cell_type": "code",
   "execution_count": 33,
   "id": "0a4a9f4f-1282-4077-a632-846c045ffd52",
   "metadata": {},
   "outputs": [
    {
     "data": {
      "text/plain": [
       "2001-01-01   -1.316617\n",
       "2001-01-02   -0.260643\n",
       "2001-01-03    2.226456\n",
       "2001-01-04   -0.889055\n",
       "2001-01-05    1.164262\n",
       "                ...   \n",
       "2001-12-27   -0.626571\n",
       "2001-12-28    0.280205\n",
       "2001-12-29   -0.116640\n",
       "2001-12-30   -0.236917\n",
       "2001-12-31    0.592160\n",
       "Freq: D, Length: 365, dtype: float64"
      ]
     },
     "execution_count": 33,
     "metadata": {},
     "output_type": "execute_result"
    }
   ],
   "source": [
    "longer_ts[\"2001\"] # string interpreted as year"
   ]
  },
  {
   "cell_type": "code",
   "execution_count": 34,
   "id": "8b1c104c-a268-4132-a3e4-9d7aff3d7abc",
   "metadata": {},
   "outputs": [
    {
     "data": {
      "text/plain": [
       "2001-12-01   -0.169568\n",
       "2001-12-02    0.286638\n",
       "2001-12-03    1.692006\n",
       "2001-12-04    1.635705\n",
       "2001-12-05   -1.315704\n",
       "2001-12-06    0.640946\n",
       "2001-12-07    1.377709\n",
       "2001-12-08    0.276067\n",
       "2001-12-09   -1.500038\n",
       "2001-12-10    1.090048\n",
       "2001-12-11   -0.441942\n",
       "2001-12-12   -1.224628\n",
       "2001-12-13    1.635745\n",
       "2001-12-14   -0.068849\n",
       "2001-12-15   -0.570101\n",
       "2001-12-16    0.332824\n",
       "2001-12-17   -0.137714\n",
       "2001-12-18    0.051406\n",
       "2001-12-19   -2.136744\n",
       "2001-12-20    1.832060\n",
       "2001-12-21   -1.403302\n",
       "2001-12-22   -1.477400\n",
       "2001-12-23   -0.430624\n",
       "2001-12-24    0.466903\n",
       "2001-12-25   -0.346482\n",
       "2001-12-26   -0.066670\n",
       "2001-12-27   -0.626571\n",
       "2001-12-28    0.280205\n",
       "2001-12-29   -0.116640\n",
       "2001-12-30   -0.236917\n",
       "2001-12-31    0.592160\n",
       "Freq: D, dtype: float64"
      ]
     },
     "execution_count": 34,
     "metadata": {},
     "output_type": "execute_result"
    }
   ],
   "source": [
    "longer_ts[\"2001-12\"] # string interpreted as year and month"
   ]
  },
  {
   "cell_type": "code",
   "execution_count": 35,
   "id": "a5fe9ccb-d211-4c46-b0e2-50cb4dab2dc4",
   "metadata": {},
   "outputs": [
    {
     "data": {
      "text/plain": [
       "2011-01-07   -0.792792\n",
       "2011-01-08   -0.370405\n",
       "2011-01-10    0.767833\n",
       "2011-01-12   -0.239058\n",
       "dtype: float64"
      ]
     },
     "execution_count": 35,
     "metadata": {},
     "output_type": "execute_result"
    }
   ],
   "source": [
    "# slicing with datetime objects\n",
    "ts[datetime(2011, 1, 7):]"
   ]
  },
  {
   "cell_type": "code",
   "execution_count": 36,
   "id": "ba7054ae-55f3-449f-9688-a52b66385312",
   "metadata": {},
   "outputs": [
    {
     "data": {
      "text/plain": [
       "2011-01-02    0.131384\n",
       "2011-01-05   -0.822725\n",
       "2011-01-07   -0.792792\n",
       "2011-01-08   -0.370405\n",
       "2011-01-10    0.767833\n",
       "2011-01-12   -0.239058\n",
       "dtype: float64"
      ]
     },
     "execution_count": 36,
     "metadata": {},
     "output_type": "execute_result"
    }
   ],
   "source": [
    "# slicing with timestamps not contained in the series to perform a range query\n",
    "# works because most time series data is ordered chronologically\n",
    "ts"
   ]
  },
  {
   "cell_type": "code",
   "execution_count": 38,
   "id": "a05045a0-e4a8-4e38-9b97-2073e1f5f9ed",
   "metadata": {},
   "outputs": [
    {
     "data": {
      "text/plain": [
       "2011-01-07   -0.792792\n",
       "2011-01-08   -0.370405\n",
       "2011-01-10    0.767833\n",
       "dtype: float64"
      ]
     },
     "execution_count": 38,
     "metadata": {},
     "output_type": "execute_result"
    }
   ],
   "source": [
    "ts['1/6/2011':'1/11/2011'] # data doesn't get copied\n",
    "# modifications on the slice will be reflected on the original data"
   ]
  },
  {
   "cell_type": "code",
   "execution_count": 39,
   "id": "a241bb4e-fad5-4640-b01e-3d6e605e1ed0",
   "metadata": {},
   "outputs": [
    {
     "data": {
      "text/plain": [
       "2011-01-02    0.131384\n",
       "2011-01-05   -0.822725\n",
       "2011-01-07   -0.792792\n",
       "2011-01-08   -0.370405\n",
       "dtype: float64"
      ]
     },
     "execution_count": 39,
     "metadata": {},
     "output_type": "execute_result"
    }
   ],
   "source": [
    "# truncate slices a series between two dates\n",
    "ts.truncate(after='1/9/2011')"
   ]
  },
  {
   "cell_type": "code",
   "execution_count": 40,
   "id": "29d264ea-4293-40d2-9f08-726c1dc10858",
   "metadata": {},
   "outputs": [
    {
     "data": {
      "text/plain": [
       "DatetimeIndex(['2000-01-05', '2000-01-12', '2000-01-19', '2000-01-26',\n",
       "               '2000-02-02', '2000-02-09', '2000-02-16', '2000-02-23',\n",
       "               '2000-03-01', '2000-03-08', '2000-03-15', '2000-03-22',\n",
       "               '2000-03-29', '2000-04-05', '2000-04-12', '2000-04-19',\n",
       "               '2000-04-26', '2000-05-03', '2000-05-10', '2000-05-17',\n",
       "               '2000-05-24', '2000-05-31', '2000-06-07', '2000-06-14',\n",
       "               '2000-06-21', '2000-06-28', '2000-07-05', '2000-07-12',\n",
       "               '2000-07-19', '2000-07-26', '2000-08-02', '2000-08-09',\n",
       "               '2000-08-16', '2000-08-23', '2000-08-30', '2000-09-06',\n",
       "               '2000-09-13', '2000-09-20', '2000-09-27', '2000-10-04',\n",
       "               '2000-10-11', '2000-10-18', '2000-10-25', '2000-11-01',\n",
       "               '2000-11-08', '2000-11-15', '2000-11-22', '2000-11-29',\n",
       "               '2000-12-06', '2000-12-13', '2000-12-20', '2000-12-27',\n",
       "               '2001-01-03', '2001-01-10', '2001-01-17', '2001-01-24',\n",
       "               '2001-01-31', '2001-02-07', '2001-02-14', '2001-02-21',\n",
       "               '2001-02-28', '2001-03-07', '2001-03-14', '2001-03-21',\n",
       "               '2001-03-28', '2001-04-04', '2001-04-11', '2001-04-18',\n",
       "               '2001-04-25', '2001-05-02', '2001-05-09', '2001-05-16',\n",
       "               '2001-05-23', '2001-05-30', '2001-06-06', '2001-06-13',\n",
       "               '2001-06-20', '2001-06-27', '2001-07-04', '2001-07-11',\n",
       "               '2001-07-18', '2001-07-25', '2001-08-01', '2001-08-08',\n",
       "               '2001-08-15', '2001-08-22', '2001-08-29', '2001-09-05',\n",
       "               '2001-09-12', '2001-09-19', '2001-09-26', '2001-10-03',\n",
       "               '2001-10-10', '2001-10-17', '2001-10-24', '2001-10-31',\n",
       "               '2001-11-07', '2001-11-14', '2001-11-21', '2001-11-28'],\n",
       "              dtype='datetime64[ns]', freq='W-WED')"
      ]
     },
     "execution_count": 40,
     "metadata": {},
     "output_type": "execute_result"
    }
   ],
   "source": [
    "# indexing data frame on its rows\n",
    "dates = pd.date_range(\"2000-01-01\", periods=100, freq=\"W-WED\")\n",
    "dates"
   ]
  },
  {
   "cell_type": "code",
   "execution_count": 41,
   "id": "00f3e859-f43e-4c81-9d2e-bd6f60f64885",
   "metadata": {},
   "outputs": [
    {
     "data": {
      "text/html": [
       "<div>\n",
       "<style scoped>\n",
       "    .dataframe tbody tr th:only-of-type {\n",
       "        vertical-align: middle;\n",
       "    }\n",
       "\n",
       "    .dataframe tbody tr th {\n",
       "        vertical-align: top;\n",
       "    }\n",
       "\n",
       "    .dataframe thead th {\n",
       "        text-align: right;\n",
       "    }\n",
       "</style>\n",
       "<table border=\"1\" class=\"dataframe\">\n",
       "  <thead>\n",
       "    <tr style=\"text-align: right;\">\n",
       "      <th></th>\n",
       "      <th>Colorado</th>\n",
       "      <th>Texas</th>\n",
       "      <th>New York</th>\n",
       "      <th>Ohio</th>\n",
       "    </tr>\n",
       "  </thead>\n",
       "  <tbody>\n",
       "    <tr>\n",
       "      <th>2000-01-05</th>\n",
       "      <td>-0.606256</td>\n",
       "      <td>-0.214266</td>\n",
       "      <td>-0.926858</td>\n",
       "      <td>0.189572</td>\n",
       "    </tr>\n",
       "    <tr>\n",
       "      <th>2000-01-12</th>\n",
       "      <td>0.939383</td>\n",
       "      <td>0.958006</td>\n",
       "      <td>0.992875</td>\n",
       "      <td>-0.408834</td>\n",
       "    </tr>\n",
       "    <tr>\n",
       "      <th>2000-01-19</th>\n",
       "      <td>0.604153</td>\n",
       "      <td>0.163538</td>\n",
       "      <td>-1.716484</td>\n",
       "      <td>-0.786789</td>\n",
       "    </tr>\n",
       "    <tr>\n",
       "      <th>2000-01-26</th>\n",
       "      <td>-0.321913</td>\n",
       "      <td>1.789465</td>\n",
       "      <td>1.211872</td>\n",
       "      <td>-1.639224</td>\n",
       "    </tr>\n",
       "    <tr>\n",
       "      <th>2000-02-02</th>\n",
       "      <td>0.277663</td>\n",
       "      <td>0.244620</td>\n",
       "      <td>0.342680</td>\n",
       "      <td>1.085544</td>\n",
       "    </tr>\n",
       "    <tr>\n",
       "      <th>...</th>\n",
       "      <td>...</td>\n",
       "      <td>...</td>\n",
       "      <td>...</td>\n",
       "      <td>...</td>\n",
       "    </tr>\n",
       "    <tr>\n",
       "      <th>2001-10-31</th>\n",
       "      <td>0.791654</td>\n",
       "      <td>-0.913079</td>\n",
       "      <td>0.143836</td>\n",
       "      <td>1.327274</td>\n",
       "    </tr>\n",
       "    <tr>\n",
       "      <th>2001-11-07</th>\n",
       "      <td>0.045707</td>\n",
       "      <td>0.236149</td>\n",
       "      <td>0.314959</td>\n",
       "      <td>0.227489</td>\n",
       "    </tr>\n",
       "    <tr>\n",
       "      <th>2001-11-14</th>\n",
       "      <td>-0.587908</td>\n",
       "      <td>0.998489</td>\n",
       "      <td>-0.212546</td>\n",
       "      <td>-0.301231</td>\n",
       "    </tr>\n",
       "    <tr>\n",
       "      <th>2001-11-21</th>\n",
       "      <td>1.760671</td>\n",
       "      <td>-0.375885</td>\n",
       "      <td>0.116613</td>\n",
       "      <td>-0.453654</td>\n",
       "    </tr>\n",
       "    <tr>\n",
       "      <th>2001-11-28</th>\n",
       "      <td>-0.662091</td>\n",
       "      <td>1.476685</td>\n",
       "      <td>-1.275480</td>\n",
       "      <td>1.148395</td>\n",
       "    </tr>\n",
       "  </tbody>\n",
       "</table>\n",
       "<p>100 rows × 4 columns</p>\n",
       "</div>"
      ],
      "text/plain": [
       "            Colorado     Texas  New York      Ohio\n",
       "2000-01-05 -0.606256 -0.214266 -0.926858  0.189572\n",
       "2000-01-12  0.939383  0.958006  0.992875 -0.408834\n",
       "2000-01-19  0.604153  0.163538 -1.716484 -0.786789\n",
       "2000-01-26 -0.321913  1.789465  1.211872 -1.639224\n",
       "2000-02-02  0.277663  0.244620  0.342680  1.085544\n",
       "...              ...       ...       ...       ...\n",
       "2001-10-31  0.791654 -0.913079  0.143836  1.327274\n",
       "2001-11-07  0.045707  0.236149  0.314959  0.227489\n",
       "2001-11-14 -0.587908  0.998489 -0.212546 -0.301231\n",
       "2001-11-21  1.760671 -0.375885  0.116613 -0.453654\n",
       "2001-11-28 -0.662091  1.476685 -1.275480  1.148395\n",
       "\n",
       "[100 rows x 4 columns]"
      ]
     },
     "execution_count": 41,
     "metadata": {},
     "output_type": "execute_result"
    }
   ],
   "source": [
    "long_df = pd.DataFrame(np.random.standard_normal((100, 4)),\n",
    "                       index=dates,\n",
    "                       columns=[\"Colorado\", \"Texas\",\n",
    "                                \"New York\", \"Ohio\"])\n",
    "long_df"
   ]
  },
  {
   "cell_type": "code",
   "execution_count": 42,
   "id": "822a98db-ddd8-463b-a52a-2e98a91b8366",
   "metadata": {},
   "outputs": [
    {
     "name": "stdout",
     "output_type": "stream",
     "text": [
      "<class 'pandas.core.frame.DataFrame'>\n",
      "DatetimeIndex: 100 entries, 2000-01-05 to 2001-11-28\n",
      "Freq: W-WED\n",
      "Data columns (total 4 columns):\n",
      " #   Column    Non-Null Count  Dtype  \n",
      "---  ------    --------------  -----  \n",
      " 0   Colorado  100 non-null    float64\n",
      " 1   Texas     100 non-null    float64\n",
      " 2   New York  100 non-null    float64\n",
      " 3   Ohio      100 non-null    float64\n",
      "dtypes: float64(4)\n",
      "memory usage: 3.9 KB\n"
     ]
    }
   ],
   "source": [
    "long_df.info()"
   ]
  },
  {
   "cell_type": "markdown",
   "id": "2b768b08-e4c4-4cd8-b450-29677a4a94ab",
   "metadata": {},
   "source": [
    "### Time Series with Duplicate Indices"
   ]
  },
  {
   "cell_type": "code",
   "execution_count": 43,
   "id": "4a98f042-92f1-46b3-9acc-5ef7344077cf",
   "metadata": {},
   "outputs": [
    {
     "data": {
      "text/plain": [
       "2000-01-01    0\n",
       "2000-01-02    1\n",
       "2000-01-02    2\n",
       "2000-01-02    3\n",
       "2000-01-03    4\n",
       "dtype: int64"
      ]
     },
     "execution_count": 43,
     "metadata": {},
     "output_type": "execute_result"
    }
   ],
   "source": [
    "# example for multiple data observations falling on a particular timestamp\n",
    "dates = pd.DatetimeIndex([\"2000-01-01\", \"2000-01-02\", \"2000-01-02\",\n",
    "                          \"2000-01-02\", \"2000-01-03\"])\n",
    "dup_ts = pd.Series(np.arange(5), index=dates)\n",
    "dup_ts"
   ]
  },
  {
   "cell_type": "code",
   "execution_count": 44,
   "id": "4b14cd38-aba7-4f70-b2dd-c3717b04c01d",
   "metadata": {},
   "outputs": [
    {
     "data": {
      "text/plain": [
       "False"
      ]
     },
     "execution_count": 44,
     "metadata": {},
     "output_type": "execute_result"
    }
   ],
   "source": [
    "dup_ts.index.is_unique # checking if the index is unique"
   ]
  },
  {
   "cell_type": "code",
   "execution_count": 46,
   "id": "309423c3-4390-4654-b326-191c3019c8e7",
   "metadata": {},
   "outputs": [
    {
     "data": {
      "text/plain": [
       "np.int64(4)"
      ]
     },
     "execution_count": 46,
     "metadata": {},
     "output_type": "execute_result"
    }
   ],
   "source": [
    "# indexing into timesseries: returns scalar value if not duplicated\n",
    "dup_ts[\"2000-01-03\"]  # not duplicated"
   ]
  },
  {
   "cell_type": "code",
   "execution_count": 47,
   "id": "a02bcea0-1073-4f34-9db9-9c0601e8c895",
   "metadata": {},
   "outputs": [
    {
     "data": {
      "text/plain": [
       "2000-01-02    1\n",
       "2000-01-02    2\n",
       "2000-01-02    3\n",
       "dtype: int64"
      ]
     },
     "execution_count": 47,
     "metadata": {},
     "output_type": "execute_result"
    }
   ],
   "source": [
    "# indexing into timesseries: returns slice if duplicated\n",
    "dup_ts[\"2000-01-02\"]  # duplicated"
   ]
  },
  {
   "cell_type": "code",
   "execution_count": 48,
   "id": "0ac89e9f-cad9-4aa9-8e38-2d2ff19b913e",
   "metadata": {},
   "outputs": [
    {
     "data": {
      "text/plain": [
       "<pandas.core.groupby.generic.SeriesGroupBy object at 0x1255f66f0>"
      ]
     },
     "execution_count": 48,
     "metadata": {},
     "output_type": "execute_result"
    }
   ],
   "source": [
    "# aggregating the data while having non-unique timestamps\n",
    "grouped = dup_ts.groupby(level=0)\n",
    "grouped"
   ]
  },
  {
   "cell_type": "code",
   "execution_count": 49,
   "id": "bda47ab1-8dc9-4a60-a758-2bffeaf33e35",
   "metadata": {},
   "outputs": [
    {
     "data": {
      "text/plain": [
       "2000-01-01    0.0\n",
       "2000-01-02    2.0\n",
       "2000-01-03    4.0\n",
       "dtype: float64"
      ]
     },
     "execution_count": 49,
     "metadata": {},
     "output_type": "execute_result"
    }
   ],
   "source": [
    "grouped.mean()"
   ]
  },
  {
   "cell_type": "code",
   "execution_count": 50,
   "id": "2286d4b3-7331-4c10-ac1a-e549aecb2642",
   "metadata": {},
   "outputs": [
    {
     "data": {
      "text/plain": [
       "2000-01-01    1\n",
       "2000-01-02    3\n",
       "2000-01-03    1\n",
       "dtype: int64"
      ]
     },
     "execution_count": 50,
     "metadata": {},
     "output_type": "execute_result"
    }
   ],
   "source": [
    "grouped.count()"
   ]
  },
  {
   "cell_type": "code",
   "execution_count": null,
   "id": "e5753f74-3655-45ef-b1f3-ef282bb06a67",
   "metadata": {},
   "outputs": [],
   "source": []
  }
 ],
 "metadata": {
  "kernelspec": {
   "display_name": "Python 3 (ipykernel)",
   "language": "python",
   "name": "python3"
  },
  "language_info": {
   "codemirror_mode": {
    "name": "ipython",
    "version": 3
   },
   "file_extension": ".py",
   "mimetype": "text/x-python",
   "name": "python",
   "nbconvert_exporter": "python",
   "pygments_lexer": "ipython3",
   "version": "3.12.4"
  }
 },
 "nbformat": 4,
 "nbformat_minor": 5
}
