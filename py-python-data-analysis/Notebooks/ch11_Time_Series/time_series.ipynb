{
 "cells": [
  {
   "cell_type": "markdown",
   "id": "810ba5f1-98d6-49a8-ae59-7016b293a62a",
   "metadata": {},
   "source": [
    "# Time Series"
   ]
  },
  {
   "cell_type": "markdown",
   "id": "91781f94-3630-4e03-b975-1f3b92588839",
   "metadata": {},
   "source": [
    "[Coding along with Python for Data Analysis: Data Wrangling with Pandas, NumPy, and IPython, Wes Mckinney, O'Reilly, 1st Edition October 2012]"
   ]
  },
  {
   "cell_type": "markdown",
   "id": "d459276b-05b0-451f-b7d1-aec6bca8260b",
   "metadata": {},
   "source": [
    "## Date and Time Data Types and Tools"
   ]
  },
  {
   "cell_type": "code",
   "execution_count": 98,
   "id": "2517d9fd-9618-40e1-a68d-7523fa35a00a",
   "metadata": {},
   "outputs": [],
   "source": [
    "from datetime import datetime"
   ]
  },
  {
   "cell_type": "code",
   "execution_count": 99,
   "id": "e58b83ac-e3c2-4b98-969c-abdfa5aa32cb",
   "metadata": {},
   "outputs": [
    {
     "data": {
      "text/plain": [
       "datetime.datetime(2024, 9, 23, 10, 13, 7, 994295)"
      ]
     },
     "execution_count": 99,
     "metadata": {},
     "output_type": "execute_result"
    }
   ],
   "source": [
    "# datetime stores the date and the time down to the microsecond\n",
    "now = datetime.now()\n",
    "now"
   ]
  },
  {
   "cell_type": "code",
   "execution_count": 100,
   "id": "82a8ac21-110c-458f-8955-118f03d15d5f",
   "metadata": {},
   "outputs": [
    {
     "data": {
      "text/plain": [
       "(2024, 9, 23)"
      ]
     },
     "execution_count": 100,
     "metadata": {},
     "output_type": "execute_result"
    }
   ],
   "source": [
    "now.year, now.month, now.day"
   ]
  },
  {
   "cell_type": "code",
   "execution_count": 101,
   "id": "e6a554e2-15ab-45b1-a392-5721f6b1e482",
   "metadata": {},
   "outputs": [
    {
     "data": {
      "text/plain": [
       "datetime.timedelta(days=926, seconds=56700)"
      ]
     },
     "execution_count": 101,
     "metadata": {},
     "output_type": "execute_result"
    }
   ],
   "source": [
    "# timedelta represents the temporal difference between two datetime objects\n",
    "delta = datetime(2011, 1, 7) - datetime(2008, 6, 24, 8, 15)\n",
    "delta"
   ]
  },
  {
   "cell_type": "code",
   "execution_count": 102,
   "id": "9e9b4690-0542-423d-9558-cbde743cd6c9",
   "metadata": {},
   "outputs": [
    {
     "data": {
      "text/plain": [
       "926"
      ]
     },
     "execution_count": 102,
     "metadata": {},
     "output_type": "execute_result"
    }
   ],
   "source": [
    "delta.days"
   ]
  },
  {
   "cell_type": "code",
   "execution_count": 103,
   "id": "9a9415bf-7b6f-4dbc-b1ce-b6497323ed4e",
   "metadata": {},
   "outputs": [
    {
     "data": {
      "text/plain": [
       "56700"
      ]
     },
     "execution_count": 103,
     "metadata": {},
     "output_type": "execute_result"
    }
   ],
   "source": [
    "delta.seconds"
   ]
  },
  {
   "cell_type": "code",
   "execution_count": 104,
   "id": "cb188a3c-a404-49b0-881c-6eee49b41a11",
   "metadata": {},
   "outputs": [],
   "source": [
    "# you can add or subtract a timedelta or multiple thereof to a datetime object to yield a new shifted object\n",
    "from datetime import timedelta"
   ]
  },
  {
   "cell_type": "code",
   "execution_count": 105,
   "id": "a98e27dc-2f9c-4a97-8460-a0583c2b6882",
   "metadata": {},
   "outputs": [
    {
     "data": {
      "text/plain": [
       "datetime.datetime(2011, 1, 19, 0, 0)"
      ]
     },
     "execution_count": 105,
     "metadata": {},
     "output_type": "execute_result"
    }
   ],
   "source": [
    "start = datetime(2011, 1, 7)\n",
    "start + timedelta(12) # adding 12 days"
   ]
  },
  {
   "cell_type": "code",
   "execution_count": 106,
   "id": "3c82f43f-b55c-4ad3-93c0-03059adbf653",
   "metadata": {},
   "outputs": [
    {
     "data": {
      "text/plain": [
       "datetime.datetime(2010, 12, 14, 0, 0)"
      ]
     },
     "execution_count": 106,
     "metadata": {},
     "output_type": "execute_result"
    }
   ],
   "source": [
    "start - 2 * timedelta(12) # subtracting 24 days"
   ]
  },
  {
   "cell_type": "markdown",
   "id": "055f8f50-1cf7-4b5f-9e30-19125d43efb5",
   "metadata": {},
   "source": [
    "### Converting between String and Datetime"
   ]
  },
  {
   "cell_type": "markdown",
   "id": "f4c7ae3b-b2f5-482d-a5d4-101b9095c87a",
   "metadata": {},
   "source": [
    "**Datetime format specification (ISO C89 compatible)** (Source: ([www.w3schools](https://www.w3schools.com/python/gloss_python_date_format_codes.asp)))"
   ]
  },
  {
   "cell_type": "markdown",
   "id": "37c168b4-c590-4d18-bc24-a16c287ca34d",
   "metadata": {},
   "source": [
    "<table align=left style=\"width: 66%\" class=\"ws-table-all notranslate\">\n",
    "<tbody><tr>\n",
    "<th style=\"width:25%\">Directive</th>\n",
    "<th style=\"width:35%\">Description</th>\n",
    "<th style=\"width:30%\">Example</th>\n",
    "</tr>\n",
    "<tr>\n",
    "<td>%a</td>\n",
    "<td>Weekday, short version</td>\n",
    "<td>Wed</td>\n",
    "</tr>\n",
    "<tr>\n",
    "<td>%A</td>\n",
    "<td>Weekday, full version</td>\n",
    "<td>Wednesday</td>\n",
    "</tr>\n",
    "<tr>\n",
    "<td>%w</td>\n",
    "<td>Weekday as a number 0-6, 0 is Sunday</td>\n",
    "<td>3</td>\n",
    "</tr>\n",
    "<tr>\n",
    "<td>%d</td>\n",
    "<td>Day of month 01-31</td>\n",
    "<td>31</td>\n",
    "</tr>\n",
    "<tr>\n",
    "<td>%b</td>\n",
    "<td>Month name, short version</td>\n",
    "<td>Dec</td>\n",
    "</tr>\n",
    "<tr>\n",
    "<td>%B</td>\n",
    "<td>Month name, full version</td>\n",
    "<td>December</td>\n",
    "</tr>\n",
    "<tr>\n",
    "<td>%m</td>\n",
    "<td>Month as a number 01-12</td>\n",
    "<td>12</td>\n",
    "</tr>\n",
    "<tr>\n",
    "<td>%y</td>\n",
    "<td>Year, short version, without century</td>\n",
    "<td>18</td>\n",
    "</tr>\n",
    "<tr>\n",
    "<td>%Y</td>\n",
    "<td>Year, full version</td>\n",
    "<td>2018</td>\n",
    "</tr>\n",
    "<tr>\n",
    "<td>%H</td>\n",
    "<td>Hour 00-23</td>\n",
    "<td>17</td>\n",
    "</tr>\n",
    "<tr>\n",
    "<td>%I</td>\n",
    "<td>Hour 01-12</td>\n",
    "<td>05</td>\n",
    "</tr>\n",
    "<tr>\n",
    "<td>%p</td>\n",
    "<td>AM/PM</td>\n",
    "<td>PM</td>\n",
    "</tr>\n",
    "<tr>\n",
    "<td>%M</td>\n",
    "<td>Minute 00-59</td>\n",
    "<td>41</td>\n",
    "</tr>\n",
    "<tr>\n",
    "<td>%S</td>\n",
    "<td>Second 00-59</td>\n",
    "<td>08</td>\n",
    "</tr>\n",
    "<tr>\n",
    "<td>%f</td>\n",
    "<td>Microsecond 000000-999999</td>\n",
    "<td>548513</td>\n",
    "</tr>\n",
    "<tr>\n",
    "<td>%z</td>\n",
    "<td>UTC offset</td>\n",
    "<td>+0100</td>\n",
    "</tr>\n",
    "<tr>\n",
    "<td>%Z</td>\n",
    "<td>Timezone</td>\n",
    "<td>CST</td>\n",
    "</tr>\n",
    "<tr>\n",
    "<td>%j</td>\n",
    "<td>Day number of year 001-366</td>\n",
    "<td>365</td>\n",
    "</tr>\n",
    "<tr>\n",
    "<td>%U</td>\n",
    "<td>Week number of year, Sunday as the first day of week, 00-53</td>\n",
    "<td>52</td>\n",
    "</tr>\n",
    "<tr>\n",
    "<td>%W</td>\n",
    "<td>Week number of year, Monday as the first day of week, 00-53</td>\n",
    "<td>52</td>\n",
    "</tr>\n",
    "<tr>\n",
    "<td>%c</td>\n",
    "<td>Local version of date and time</td>\n",
    "<td>Mon Dec 31 17:41:00 2018</td>\n",
    "</tr>\n",
    "<tr>\n",
    "<td>%x</td>\n",
    "<td>Local version of date</td>\n",
    "<td>12/31/18</td>\n",
    "</tr>\n",
    "<tr>\n",
    "<td>%X</td>\n",
    "<td>Local version of time</td>\n",
    "<td>17:41:00</td>\n",
    "</tr>\n",
    "<tr>\n",
    "<td>%%</td>\n",
    "<td>A % character</td>\n",
    "<td>%</td>\n",
    "</tr>\n",
    "</tbody></table>"
   ]
  },
  {
   "cell_type": "code",
   "execution_count": 107,
   "id": "280db11f-6409-4adf-b419-6e758a47e701",
   "metadata": {},
   "outputs": [
    {
     "data": {
      "text/plain": [
       "datetime.datetime(2020, 12, 24, 0, 0)"
      ]
     },
     "execution_count": 107,
     "metadata": {},
     "output_type": "execute_result"
    }
   ],
   "source": [
    "stamp = datetime(2020, 12, 24)\n",
    "stamp"
   ]
  },
  {
   "cell_type": "code",
   "execution_count": 108,
   "id": "c6cfd60e-a2cb-4541-afe8-1a4d39b6f075",
   "metadata": {},
   "outputs": [
    {
     "data": {
      "text/plain": [
       "'2020-12-24 00:00:00'"
      ]
     },
     "execution_count": 108,
     "metadata": {},
     "output_type": "execute_result"
    }
   ],
   "source": [
    "str(stamp)"
   ]
  },
  {
   "cell_type": "code",
   "execution_count": 109,
   "id": "d5bf9e30-fdc6-4ce3-9fff-2e984b127186",
   "metadata": {},
   "outputs": [
    {
     "data": {
      "text/plain": [
       "'2020-12-24'"
      ]
     },
     "execution_count": 109,
     "metadata": {},
     "output_type": "execute_result"
    }
   ],
   "source": [
    "my_date = stamp.strftime('%Y-%m-%d')\n",
    "my_date"
   ]
  },
  {
   "cell_type": "code",
   "execution_count": 110,
   "id": "d0ad06b2-8202-4e8e-b08a-48d646b8ffb4",
   "metadata": {},
   "outputs": [],
   "source": [
    "# example @ https://stackoverflow.com/questions/26105804/extract-month-from-date-in-python\n",
    "a = '2010-01-31'\n",
    "datee = datetime.strptime(a, \"%Y-%m-%d\")"
   ]
  },
  {
   "cell_type": "code",
   "execution_count": 111,
   "id": "84ef49bc-f901-497d-8ec8-328726144739",
   "metadata": {},
   "outputs": [
    {
     "data": {
      "text/plain": [
       "1"
      ]
     },
     "execution_count": 111,
     "metadata": {},
     "output_type": "execute_result"
    }
   ],
   "source": [
    "datee.month"
   ]
  },
  {
   "cell_type": "code",
   "execution_count": 112,
   "id": "afec2ad2-5908-4496-a33f-bb44f63487f5",
   "metadata": {},
   "outputs": [
    {
     "data": {
      "text/plain": [
       "'January'"
      ]
     },
     "execution_count": 112,
     "metadata": {},
     "output_type": "execute_result"
    }
   ],
   "source": [
    "import calendar\n",
    "month_name = calendar.month_name[datee.month]\n",
    "month_name"
   ]
  },
  {
   "cell_type": "code",
   "execution_count": 113,
   "id": "c2532a8b-cca4-4ec4-afdb-ef956d83e50d",
   "metadata": {},
   "outputs": [
    {
     "data": {
      "text/plain": [
       "2010"
      ]
     },
     "execution_count": 113,
     "metadata": {},
     "output_type": "execute_result"
    }
   ],
   "source": [
    "datee.year"
   ]
  },
  {
   "cell_type": "code",
   "execution_count": 114,
   "id": "3e70e13d-da56-4bac-bbf8-419b9bd24e7e",
   "metadata": {},
   "outputs": [
    {
     "data": {
      "text/plain": [
       "31"
      ]
     },
     "execution_count": 114,
     "metadata": {},
     "output_type": "execute_result"
    }
   ],
   "source": [
    "datee.day"
   ]
  },
  {
   "cell_type": "code",
   "execution_count": 115,
   "id": "f121e5c3-bf55-4049-994b-4533ba37078d",
   "metadata": {},
   "outputs": [],
   "source": [
    "# converting strings to dates\n",
    "value = '2012-02-04'"
   ]
  },
  {
   "cell_type": "code",
   "execution_count": 116,
   "id": "9f32664b-1416-4849-ae53-161dcc9e9238",
   "metadata": {},
   "outputs": [
    {
     "data": {
      "text/plain": [
       "datetime.datetime(2012, 2, 4, 0, 0)"
      ]
     },
     "execution_count": 116,
     "metadata": {},
     "output_type": "execute_result"
    }
   ],
   "source": [
    "datetime.strptime(value, \"%Y-%m-%d\")"
   ]
  },
  {
   "cell_type": "code",
   "execution_count": 117,
   "id": "4a62dc4c-8c43-4a76-9f5a-9ae0b0b33a3e",
   "metadata": {},
   "outputs": [],
   "source": [
    "datestrs = ['7/6/2011', '8/6/2011']"
   ]
  },
  {
   "cell_type": "code",
   "execution_count": 118,
   "id": "9c875fbd-0f16-487d-8792-da2ea27f3936",
   "metadata": {},
   "outputs": [
    {
     "data": {
      "text/plain": [
       "[datetime.datetime(2011, 7, 6, 0, 0), datetime.datetime(2011, 8, 6, 0, 0)]"
      ]
     },
     "execution_count": 118,
     "metadata": {},
     "output_type": "execute_result"
    }
   ],
   "source": [
    "[datetime.strptime(x, \"%m/%d/%Y\") for x in datestrs]"
   ]
  },
  {
   "cell_type": "code",
   "execution_count": 119,
   "id": "692aadcc-cb9d-4e92-9145-9338e4675a7f",
   "metadata": {},
   "outputs": [],
   "source": [
    "# using the parse.parse() method to parse a date (comes with pandas)\n",
    "from dateutil.parser import parse"
   ]
  },
  {
   "cell_type": "code",
   "execution_count": 120,
   "id": "0f83b0f6-4c36-4166-b5b1-740b14ee6eb2",
   "metadata": {},
   "outputs": [
    {
     "data": {
      "text/plain": [
       "datetime.datetime(2012, 2, 4, 0, 0)"
      ]
     },
     "execution_count": 120,
     "metadata": {},
     "output_type": "execute_result"
    }
   ],
   "source": [
    "parse('2012-02-04')"
   ]
  },
  {
   "cell_type": "code",
   "execution_count": 121,
   "id": "b4906c9f-b813-4542-97bc-c3aab484347a",
   "metadata": {},
   "outputs": [
    {
     "data": {
      "text/plain": [
       "datetime.datetime(1945, 8, 6, 8, 15)"
      ]
     },
     "execution_count": 121,
     "metadata": {},
     "output_type": "execute_result"
    }
   ],
   "source": [
    "parse('Aug 6, 1945 8:15 am') # time hiroshima bomb was dropped"
   ]
  },
  {
   "cell_type": "code",
   "execution_count": 122,
   "id": "284c6aa8-0879-47ac-b32a-f76324db0285",
   "metadata": {},
   "outputs": [
    {
     "data": {
      "text/plain": [
       "datetime.datetime(1945, 8, 9, 3, 47)"
      ]
     },
     "execution_count": 122,
     "metadata": {},
     "output_type": "execute_result"
    }
   ],
   "source": [
    "# parsing with dayfirst=True\n",
    "parse('9 Aug, 1945 3:47 am', dayfirst=True) # time nagasaki bomb was dropped"
   ]
  },
  {
   "cell_type": "code",
   "execution_count": 123,
   "id": "9e610159-3343-46d7-8cd3-4a0a97742326",
   "metadata": {},
   "outputs": [
    {
     "data": {
      "text/plain": [
       "datetime.datetime(2011, 12, 6, 0, 0)"
      ]
     },
     "execution_count": 123,
     "metadata": {},
     "output_type": "execute_result"
    }
   ],
   "source": [
    "parse('6/12/2011', dayfirst=True)"
   ]
  },
  {
   "cell_type": "code",
   "execution_count": 124,
   "id": "d74c5339-e6b6-454d-b9d5-bf70ebbb4739",
   "metadata": {},
   "outputs": [],
   "source": [
    "# parsing standard day representation, eg. ISO 8601\n",
    "datestrs = ['2011-07-06 12:00:00', '2011-08-06 00:00:00']"
   ]
  },
  {
   "cell_type": "code",
   "execution_count": 125,
   "id": "808b8ea3-2406-42a7-9fdc-773d236aff26",
   "metadata": {},
   "outputs": [
    {
     "data": {
      "text/plain": [
       "DatetimeIndex(['2011-07-06 12:00:00', '2011-08-06 00:00:00'], dtype='datetime64[ns]', freq=None)"
      ]
     },
     "execution_count": 125,
     "metadata": {},
     "output_type": "execute_result"
    }
   ],
   "source": [
    "pd.to_datetime(datestrs)"
   ]
  },
  {
   "cell_type": "code",
   "execution_count": 126,
   "id": "4a16b88a-6458-421b-85eb-8ca31101541f",
   "metadata": {},
   "outputs": [
    {
     "data": {
      "text/plain": [
       "DatetimeIndex(['2011-07-06 12:00:00', '2011-08-06 00:00:00', 'NaT'], dtype='datetime64[ns]', freq=None)"
      ]
     },
     "execution_count": 126,
     "metadata": {},
     "output_type": "execute_result"
    }
   ],
   "source": [
    "# handling valuse that should considered to be missing\n",
    "idx = pd.to_datetime(datestrs + [None])\n",
    "idx"
   ]
  },
  {
   "cell_type": "code",
   "execution_count": 127,
   "id": "afc08d75-f065-4bda-9469-0444659d5d75",
   "metadata": {},
   "outputs": [
    {
     "data": {
      "text/plain": [
       "NaT"
      ]
     },
     "execution_count": 127,
     "metadata": {},
     "output_type": "execute_result"
    }
   ],
   "source": [
    "idx[2]"
   ]
  },
  {
   "cell_type": "code",
   "execution_count": 128,
   "id": "2e6c7594-03ea-43ae-95a1-b8556b9961aa",
   "metadata": {},
   "outputs": [
    {
     "data": {
      "text/plain": [
       "array([False, False,  True])"
      ]
     },
     "execution_count": 128,
     "metadata": {},
     "output_type": "execute_result"
    }
   ],
   "source": [
    "pd.isnull(idx)"
   ]
  },
  {
   "cell_type": "markdown",
   "id": "fccfc2ed-ce4a-4a56-8b44-318037905baf",
   "metadata": {},
   "source": [
    "*For locale-specific date formatting see the book Data Analysis: Data Wrangling with Pandas, NumPy, and IPython, Wes Mckinney, O'Reilly, 1st Edition October 2012, pg. 323*"
   ]
  }
 ],
 "metadata": {
  "kernelspec": {
   "display_name": "Python 3 (ipykernel)",
   "language": "python",
   "name": "python3"
  },
  "language_info": {
   "codemirror_mode": {
    "name": "ipython",
    "version": 3
   },
   "file_extension": ".py",
   "mimetype": "text/x-python",
   "name": "python",
   "nbconvert_exporter": "python",
   "pygments_lexer": "ipython3",
   "version": "3.12.4"
  }
 },
 "nbformat": 4,
 "nbformat_minor": 5
}
