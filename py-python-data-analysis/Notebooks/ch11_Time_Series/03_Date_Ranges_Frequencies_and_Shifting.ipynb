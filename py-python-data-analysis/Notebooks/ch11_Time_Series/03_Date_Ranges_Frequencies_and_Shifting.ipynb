{
 "cells": [
  {
   "cell_type": "markdown",
   "id": "6c21c843-5cc2-42b9-adc1-8209049ab27c",
   "metadata": {},
   "source": [
    "## Date Ranges, Frequencies and Shifting"
   ]
  },
  {
   "cell_type": "markdown",
   "id": "0904b5ae-47b6-4e85-b1ac-65c9cfc6279a",
   "metadata": {},
   "source": [
    "*[Coding along with Python for Data Analysis: Data Wrangling with Pandas, NumPy, and IPython, Wes Mckinney, O'Reilly, 1st Edition October 2012; the notebook accompanying this chapter can be found on [GitHub](https://github.com/wesm/pydata-book/blob/3rd-edition/ch11.ipynb)]*"
   ]
  },
  {
   "cell_type": "code",
   "execution_count": 1,
   "id": "c465b274-c59b-4d3b-8cb8-9d56e2936e6e",
   "metadata": {},
   "outputs": [],
   "source": [
    "# https://github.com/wesm/pydata-book/blob/3rd-edition/ch11.ipynb\n",
    "from datetime import datetime\n",
    "import pandas as pd\n",
    "import numpy as np"
   ]
  },
  {
   "cell_type": "code",
   "execution_count": 2,
   "id": "fbae9ee7-6478-4140-ac24-040d70a35aee",
   "metadata": {},
   "outputs": [
    {
     "data": {
      "text/plain": [
       "2011-01-02    0.808089\n",
       "2011-01-05    0.129277\n",
       "2011-01-07   -1.133082\n",
       "2011-01-08    0.014581\n",
       "2011-01-10    1.124164\n",
       "2011-01-12    0.869448\n",
       "dtype: float64"
      ]
     },
     "execution_count": 2,
     "metadata": {},
     "output_type": "execute_result"
    }
   ],
   "source": [
    "# generic time series in pandas are assumed to be irregular (= have no fixed frequency)\n",
    "# if we want to have fixed frequency (or relative to fixed frequency) -> pandas to the rescue\n",
    "# pandas has a full suit of standard time series frequencies and tools for resampling, interferring frequencies\n",
    "# and generating fixed frequency date ranges\n",
    "\n",
    "# a basic kind of time series on pandas is a Series indexed by timestamps\n",
    "dates = [datetime(2011, 1, 2), datetime(2011, 1, 5),\n",
    "         datetime(2011, 1, 7), datetime(2011, 1, 8),\n",
    "         datetime(2011, 1, 10), datetime(2011, 1, 12)]\n",
    "ts = pd.Series(np.random.standard_normal(6), index=dates)\n",
    "ts"
   ]
  },
  {
   "cell_type": "code",
   "execution_count": 25,
   "id": "ee00b7b8-a84f-4ebf-88db-f27509b571e3",
   "metadata": {},
   "outputs": [
    {
     "data": {
      "text/plain": [
       "<pandas.core.resample.DatetimeIndexResampler object at 0x11b166450>"
      ]
     },
     "execution_count": 25,
     "metadata": {},
     "output_type": "execute_result"
    }
   ],
   "source": [
    "# converting the sample time series to be of fixed daily frequency by calling resample\n",
    "resampler = ts.resample(\"D\") # D is interpreted as daily frequency\n",
    "resampler"
   ]
  },
  {
   "cell_type": "markdown",
   "id": "3c2fb458-c31e-4a3a-a30e-f5a3a8356dbc",
   "metadata": {},
   "source": [
    "### Generating Date Ranges"
   ]
  },
  {
   "cell_type": "code",
   "execution_count": 27,
   "id": "be5c0733-d9db-48a9-8c02-e0c6aca8134e",
   "metadata": {},
   "outputs": [
    {
     "data": {
      "text/plain": [
       "DatetimeIndex(['2012-04-01', '2012-04-02', '2012-04-03', '2012-04-04',\n",
       "               '2012-04-05', '2012-04-06', '2012-04-07', '2012-04-08',\n",
       "               '2012-04-09', '2012-04-10', '2012-04-11', '2012-04-12',\n",
       "               '2012-04-13', '2012-04-14', '2012-04-15', '2012-04-16',\n",
       "               '2012-04-17', '2012-04-18', '2012-04-19', '2012-04-20',\n",
       "               '2012-04-21', '2012-04-22', '2012-04-23', '2012-04-24',\n",
       "               '2012-04-25', '2012-04-26', '2012-04-27', '2012-04-28',\n",
       "               '2012-04-29', '2012-04-30', '2012-05-01', '2012-05-02',\n",
       "               '2012-05-03', '2012-05-04', '2012-05-05', '2012-05-06',\n",
       "               '2012-05-07', '2012-05-08', '2012-05-09', '2012-05-10',\n",
       "               '2012-05-11', '2012-05-12', '2012-05-13', '2012-05-14',\n",
       "               '2012-05-15', '2012-05-16', '2012-05-17', '2012-05-18',\n",
       "               '2012-05-19', '2012-05-20', '2012-05-21', '2012-05-22',\n",
       "               '2012-05-23', '2012-05-24', '2012-05-25', '2012-05-26',\n",
       "               '2012-05-27', '2012-05-28', '2012-05-29', '2012-05-30',\n",
       "               '2012-05-31', '2012-06-01'],\n",
       "              dtype='datetime64[ns]', freq='D')"
      ]
     },
     "execution_count": 27,
     "metadata": {},
     "output_type": "execute_result"
    }
   ],
   "source": [
    "# pd.date_range is responsible for generating a DatetimeIndex\n",
    "# by default date_range generates daily timestamps\n",
    "index = pd.date_range(\"2012-04-01\", \"2012-06-01\")\n",
    "index"
   ]
  },
  {
   "cell_type": "code",
   "execution_count": 28,
   "id": "aa6f3520-b90f-4d23-a4a7-e23ebc80a42a",
   "metadata": {},
   "outputs": [
    {
     "data": {
      "text/plain": [
       "DatetimeIndex(['2012-04-01', '2012-04-02', '2012-04-03', '2012-04-04',\n",
       "               '2012-04-05', '2012-04-06', '2012-04-07', '2012-04-08',\n",
       "               '2012-04-09', '2012-04-10', '2012-04-11', '2012-04-12',\n",
       "               '2012-04-13', '2012-04-14', '2012-04-15', '2012-04-16',\n",
       "               '2012-04-17', '2012-04-18', '2012-04-19', '2012-04-20'],\n",
       "              dtype='datetime64[ns]', freq='D')"
      ]
     },
     "execution_count": 28,
     "metadata": {},
     "output_type": "execute_result"
    }
   ],
   "source": [
    "# by default date_range generates daily timestamps\n",
    "# if you pass only a start- or enddate you must pass a number of periods to generate\n",
    "pd.date_range(start=\"2012-04-01\", periods=20)"
   ]
  },
  {
   "cell_type": "code",
   "execution_count": 29,
   "id": "77b72a08-f2a1-46c0-a227-882eaf87c777",
   "metadata": {},
   "outputs": [
    {
     "data": {
      "text/plain": [
       "DatetimeIndex(['2012-05-13', '2012-05-14', '2012-05-15', '2012-05-16',\n",
       "               '2012-05-17', '2012-05-18', '2012-05-19', '2012-05-20',\n",
       "               '2012-05-21', '2012-05-22', '2012-05-23', '2012-05-24',\n",
       "               '2012-05-25', '2012-05-26', '2012-05-27', '2012-05-28',\n",
       "               '2012-05-29', '2012-05-30', '2012-05-31', '2012-06-01'],\n",
       "              dtype='datetime64[ns]', freq='D')"
      ]
     },
     "execution_count": 29,
     "metadata": {},
     "output_type": "execute_result"
    }
   ],
   "source": [
    "pd.date_range(end=\"2012-06-01\", periods=20)"
   ]
  },
  {
   "cell_type": "code",
   "execution_count": 30,
   "id": "609c53f9-d4dd-4254-8326-2f0a2897f779",
   "metadata": {},
   "outputs": [
    {
     "data": {
      "text/plain": [
       "DatetimeIndex(['2000-01-31', '2000-02-29', '2000-03-31', '2000-04-28',\n",
       "               '2000-05-31', '2000-06-30', '2000-07-31', '2000-08-31',\n",
       "               '2000-09-29', '2000-10-31', '2000-11-30'],\n",
       "              dtype='datetime64[ns]', freq='BME')"
      ]
     },
     "execution_count": 30,
     "metadata": {},
     "output_type": "execute_result"
    }
   ],
   "source": [
    "# example: a date index containing the last business day of each month by passing 'BME' frequency\n",
    "pd.date_range(\"2000-01-01\", \"2000-12-01\", freq=\"BME\")"
   ]
  },
  {
   "cell_type": "code",
   "execution_count": 7,
   "id": "a8faaf56-8edb-4bf2-a082-b756c3ea2cb0",
   "metadata": {},
   "outputs": [
    {
     "data": {
      "text/plain": [
       "DatetimeIndex(['2012-05-02 12:56:31', '2012-05-03 12:56:31',\n",
       "               '2012-05-04 12:56:31', '2012-05-05 12:56:31',\n",
       "               '2012-05-06 12:56:31'],\n",
       "              dtype='datetime64[ns]', freq='D')"
      ]
     },
     "execution_count": 7,
     "metadata": {},
     "output_type": "execute_result"
    }
   ],
   "source": [
    "# by default time of start or end timestamp is preserved\n",
    "pd.date_range(\"2012-05-02 12:56:31\", periods=5)"
   ]
  },
  {
   "cell_type": "code",
   "execution_count": 31,
   "id": "ebd8c50b-99d4-44ca-be88-72732673600a",
   "metadata": {},
   "outputs": [
    {
     "data": {
      "text/plain": [
       "DatetimeIndex(['2012-05-02', '2012-05-03', '2012-05-04', '2012-05-05',\n",
       "               '2012-05-06'],\n",
       "              dtype='datetime64[ns]', freq='D')"
      ]
     },
     "execution_count": 31,
     "metadata": {},
     "output_type": "execute_result"
    }
   ],
   "source": [
    "# normalizing time of timestamps to midnight\n",
    "pd.date_range(\"2012-05-02 12:56:31\", periods=5, normalize=True) # midnight is convention for normalize=True"
   ]
  },
  {
   "cell_type": "markdown",
   "id": "61581e4c-d24a-423a-ad40-6a3a49bf777a",
   "metadata": {},
   "source": [
    "### Frequencies and Date Offsets"
   ]
  },
  {
   "cell_type": "code",
   "execution_count": 32,
   "id": "046d803b-609b-4389-ab62-156c4579f026",
   "metadata": {},
   "outputs": [
    {
     "data": {
      "text/plain": [
       "<Hour>"
      ]
     },
     "execution_count": 32,
     "metadata": {},
     "output_type": "execute_result"
    }
   ],
   "source": [
    "# frequencies in pandas are composed of a base frequency and a multiplier\n",
    "# base frequencies are referred to by string aliases like 'm' or 'h'\n",
    "# for each base frequency there's an object referred to as a date offset\n",
    "# hourly frequency with the Hour class\n",
    "from pandas.tseries.offsets import Hour, Minute\n",
    "hour = Hour()\n",
    "hour"
   ]
  },
  {
   "cell_type": "code",
   "execution_count": 33,
   "id": "d45170b5-fed2-4071-98c8-9d6983e64f71",
   "metadata": {},
   "outputs": [
    {
     "data": {
      "text/plain": [
       "<4 * Hours>"
      ]
     },
     "execution_count": 33,
     "metadata": {},
     "output_type": "execute_result"
    }
   ],
   "source": [
    "four_hours = Hour(4) # defining multiple by passing integer\n",
    "four_hours"
   ]
  },
  {
   "cell_type": "code",
   "execution_count": 34,
   "id": "b4eae9d7-3d20-4c88-8994-9fb0a4085fbc",
   "metadata": {},
   "outputs": [
    {
     "data": {
      "text/plain": [
       "DatetimeIndex(['2000-01-01 00:00:00', '2000-01-01 04:00:00',\n",
       "               '2000-01-01 08:00:00', '2000-01-01 12:00:00',\n",
       "               '2000-01-01 16:00:00', '2000-01-01 20:00:00',\n",
       "               '2000-01-02 00:00:00', '2000-01-02 04:00:00',\n",
       "               '2000-01-02 08:00:00', '2000-01-02 12:00:00',\n",
       "               '2000-01-02 16:00:00', '2000-01-02 20:00:00',\n",
       "               '2000-01-03 00:00:00', '2000-01-03 04:00:00',\n",
       "               '2000-01-03 08:00:00', '2000-01-03 12:00:00',\n",
       "               '2000-01-03 16:00:00', '2000-01-03 20:00:00'],\n",
       "              dtype='datetime64[ns]', freq='4h')"
      ]
     },
     "execution_count": 34,
     "metadata": {},
     "output_type": "execute_result"
    }
   ],
   "source": [
    "# creating multiple with putting integer before base frequency\n",
    "pd.date_range(\"2000-01-01\", \"2000-01-03 23:59\", freq=\"4h\")"
   ]
  },
  {
   "cell_type": "code",
   "execution_count": 35,
   "id": "b202f932-1f45-4d2d-9770-42f5ae457c50",
   "metadata": {},
   "outputs": [
    {
     "data": {
      "text/plain": [
       "<150 * Minutes>"
      ]
     },
     "execution_count": 35,
     "metadata": {},
     "output_type": "execute_result"
    }
   ],
   "source": [
    "Hour(2) + Minute(30) # combining offsets with addition"
   ]
  },
  {
   "cell_type": "code",
   "execution_count": 36,
   "id": "536a693d-844e-4545-b540-8f8704182410",
   "metadata": {},
   "outputs": [
    {
     "data": {
      "text/plain": [
       "DatetimeIndex(['2000-01-01 00:00:00', '2000-01-01 01:30:00',\n",
       "               '2000-01-01 03:00:00', '2000-01-01 04:30:00',\n",
       "               '2000-01-01 06:00:00', '2000-01-01 07:30:00',\n",
       "               '2000-01-01 09:00:00', '2000-01-01 10:30:00',\n",
       "               '2000-01-01 12:00:00', '2000-01-01 13:30:00'],\n",
       "              dtype='datetime64[ns]', freq='90min')"
      ]
     },
     "execution_count": 36,
     "metadata": {},
     "output_type": "execute_result"
    }
   ],
   "source": [
    "# passing frequency strings like \"1h30min\"\n",
    "pd.date_range(\"2000-01-01\", periods=10, freq=\"1h30min\")"
   ]
  },
  {
   "cell_type": "markdown",
   "id": "67660b70-a16b-432e-b44e-02eaa1309fd2",
   "metadata": {},
   "source": [
    "#### Week of month dates"
   ]
  },
  {
   "cell_type": "code",
   "execution_count": 37,
   "id": "2d92996a-e254-4a48-9de3-02066cd8ae1e",
   "metadata": {},
   "outputs": [
    {
     "data": {
      "text/plain": [
       "[Timestamp('2012-01-20 00:00:00'),\n",
       " Timestamp('2012-02-17 00:00:00'),\n",
       " Timestamp('2012-03-16 00:00:00'),\n",
       " Timestamp('2012-04-20 00:00:00'),\n",
       " Timestamp('2012-05-18 00:00:00'),\n",
       " Timestamp('2012-06-15 00:00:00'),\n",
       " Timestamp('2012-07-20 00:00:00'),\n",
       " Timestamp('2012-08-17 00:00:00')]"
      ]
     },
     "execution_count": 37,
     "metadata": {},
     "output_type": "execute_result"
    }
   ],
   "source": [
    "# frequency class \"week of month\" starting with WOM\n",
    "monthly_dates = pd.date_range(\"2012-01-01\", \"2012-09-01\", freq=\"WOM-3FRI\") # third Friday of each month\n",
    "list(monthly_dates)"
   ]
  },
  {
   "cell_type": "markdown",
   "id": "4e6a0fd5-2542-46d9-8827-52523b6549c4",
   "metadata": {},
   "source": [
    "### Shifting (Leading and Lagging) Data"
   ]
  },
  {
   "cell_type": "code",
   "execution_count": 38,
   "id": "97f5fda0-3cd4-4075-a3c5-ec8ac827390f",
   "metadata": {},
   "outputs": [
    {
     "data": {
      "text/plain": [
       "2000-01-31   -0.744564\n",
       "2000-02-29   -1.978780\n",
       "2000-03-31    0.844636\n",
       "2000-04-30   -1.154180\n",
       "Freq: ME, dtype: float64"
      ]
     },
     "execution_count": 38,
     "metadata": {},
     "output_type": "execute_result"
    }
   ],
   "source": [
    "# shifting refers to moving data forwards and backwards in time\n",
    "# Series and DataFrame have shift methods (forwards and backwards) that leave the index unmodified\n",
    "ts = pd.Series(np.random.standard_normal(4),\n",
    "               index=pd.date_range(\"2000-01-01\", periods=4, freq=\"ME\"))\n",
    "ts"
   ]
  },
  {
   "cell_type": "code",
   "execution_count": 41,
   "id": "25c3d882-eb86-4268-b423-58a621599f13",
   "metadata": {},
   "outputs": [
    {
     "data": {
      "text/plain": [
       "2000-01-31         NaN\n",
       "2000-02-29         NaN\n",
       "2000-03-31   -0.744564\n",
       "2000-04-30   -1.978780\n",
       "Freq: ME, dtype: float64"
      ]
     },
     "execution_count": 41,
     "metadata": {},
     "output_type": "execute_result"
    }
   ],
   "source": [
    "ts.shift(2) # missing data is introduced at the start of the time series"
   ]
  },
  {
   "cell_type": "code",
   "execution_count": 43,
   "id": "8bef10ff-9b1d-416f-8e6b-10423d02a76a",
   "metadata": {},
   "outputs": [
    {
     "data": {
      "text/plain": [
       "2000-01-31    0.844636\n",
       "2000-02-29   -1.154180\n",
       "2000-03-31         NaN\n",
       "2000-04-30         NaN\n",
       "Freq: ME, dtype: float64"
      ]
     },
     "execution_count": 43,
     "metadata": {},
     "output_type": "execute_result"
    }
   ],
   "source": [
    "ts.shift(-2)  # missing data is introduced at the end of the time series"
   ]
  },
  {
   "cell_type": "code",
   "execution_count": 44,
   "id": "607eae6b-dde7-4075-9b92-0c284c666139",
   "metadata": {},
   "outputs": [
    {
     "data": {
      "text/plain": [
       "2000-01-31         NaN\n",
       "2000-02-29    1.657637\n",
       "2000-03-31   -1.426847\n",
       "2000-04-30   -2.366483\n",
       "Freq: ME, dtype: float64"
      ]
     },
     "execution_count": 44,
     "metadata": {},
     "output_type": "execute_result"
    }
   ],
   "source": [
    "# common use of shift: computing percent changes in a time series or multiple time series as DataFrame columns\n",
    "ts / ts.shift(1) - 1"
   ]
  },
  {
   "cell_type": "code",
   "execution_count": 46,
   "id": "dd8359a7-29d5-4b9d-9505-d2c31832f2d7",
   "metadata": {},
   "outputs": [
    {
     "data": {
      "text/plain": [
       "2000-03-31   -0.744564\n",
       "2000-04-30   -1.978780\n",
       "2000-05-31    0.844636\n",
       "2000-06-30   -1.154180\n",
       "Freq: ME, dtype: float64"
      ]
     },
     "execution_count": 46,
     "metadata": {},
     "output_type": "execute_result"
    }
   ],
   "source": [
    "# passing the frequency to shift to advance the timestamps (???)\n",
    "ts.shift(2, freq=\"ME\")"
   ]
  },
  {
   "cell_type": "code",
   "execution_count": 50,
   "id": "dcd19eb3-b9e6-4a8a-b915-cb13149885e9",
   "metadata": {},
   "outputs": [
    {
     "data": {
      "text/plain": [
       "2000-02-03   -0.744564\n",
       "2000-03-03   -1.978780\n",
       "2000-04-03    0.844636\n",
       "2000-05-03   -1.154180\n",
       "dtype: float64"
      ]
     },
     "execution_count": 50,
     "metadata": {},
     "output_type": "execute_result"
    }
   ],
   "source": [
    "# passing other frequencies, giving some flexibility in how to lead and lag the data\n",
    "ts.shift(3, freq=\"D\")"
   ]
  },
  {
   "cell_type": "code",
   "execution_count": 51,
   "id": "bbd72998-76ef-4b61-b558-dfba2704af45",
   "metadata": {},
   "outputs": [
    {
     "data": {
      "text/plain": [
       "2000-01-31 01:30:00   -0.744564\n",
       "2000-02-29 01:30:00   -1.978780\n",
       "2000-03-31 01:30:00    0.844636\n",
       "2000-04-30 01:30:00   -1.154180\n",
       "dtype: float64"
      ]
     },
     "execution_count": 51,
     "metadata": {},
     "output_type": "execute_result"
    }
   ],
   "source": [
    "ts.shift(1, freq=\"90min\") # FutureWarning: 'T' is deprecated and will be removed in a future version, please use 'min' instead."
   ]
  },
  {
   "cell_type": "markdown",
   "id": "f7b68fa8-1f0f-4c27-893c-aaa67559cce7",
   "metadata": {},
   "source": [
    "#### Shifting dates with offsets"
   ]
  },
  {
   "cell_type": "code",
   "execution_count": 52,
   "id": "4f06ca49-31e3-4028-8f78-27874fb83e91",
   "metadata": {},
   "outputs": [
    {
     "data": {
      "text/plain": [
       "Timestamp('2011-11-20 00:00:00')"
      ]
     },
     "execution_count": 52,
     "metadata": {},
     "output_type": "execute_result"
    }
   ],
   "source": [
    "# pandas date offsets with datetime or Timestamp objects\n",
    "from pandas.tseries.offsets import Day, MonthEnd\n",
    "now = datetime(2011, 11, 17)\n",
    "now + 3 * Day()"
   ]
  },
  {
   "cell_type": "code",
   "execution_count": 53,
   "id": "e6cc9d02-4a3a-49eb-9044-7254924052d2",
   "metadata": {},
   "outputs": [
    {
     "data": {
      "text/plain": [
       "Timestamp('2011-11-30 00:00:00')"
      ]
     },
     "execution_count": 53,
     "metadata": {},
     "output_type": "execute_result"
    }
   ],
   "source": [
    "# adding an anchored offset like MonthEnd\n",
    "# -> the first increment will \"roll forward\" a date to the next date according to the frequency rule\n",
    "now + MonthEnd()"
   ]
  },
  {
   "cell_type": "code",
   "execution_count": 54,
   "id": "e4388bdb-134f-47f9-9414-9c3e65d620fb",
   "metadata": {},
   "outputs": [
    {
     "data": {
      "text/plain": [
       "Timestamp('2011-12-31 00:00:00')"
      ]
     },
     "execution_count": 54,
     "metadata": {},
     "output_type": "execute_result"
    }
   ],
   "source": [
    "now + MonthEnd(2)"
   ]
  },
  {
   "cell_type": "code",
   "execution_count": 56,
   "id": "41260ae0-46e8-448c-82bd-cd6b993eec87",
   "metadata": {},
   "outputs": [
    {
     "data": {
      "text/plain": [
       "Timestamp('2011-11-30 00:00:00')"
      ]
     },
     "execution_count": 56,
     "metadata": {},
     "output_type": "execute_result"
    }
   ],
   "source": [
    "# using rollforward and rollback to let anchored offsets explicitly \"roll\" dates forward\n",
    "offset = MonthEnd()\n",
    "offset.rollforward(now)"
   ]
  },
  {
   "cell_type": "code",
   "execution_count": 57,
   "id": "b4345a6a-683a-427a-9dbb-281b27b07bb4",
   "metadata": {},
   "outputs": [
    {
     "data": {
      "text/plain": [
       "Timestamp('2011-10-31 00:00:00')"
      ]
     },
     "execution_count": 57,
     "metadata": {},
     "output_type": "execute_result"
    }
   ],
   "source": [
    "offset.rollback(now)"
   ]
  },
  {
   "cell_type": "code",
   "execution_count": 58,
   "id": "2de63c1d-798e-4190-b0eb-88e16f45f179",
   "metadata": {},
   "outputs": [
    {
     "data": {
      "text/plain": [
       "2000-01-15   -0.820358\n",
       "2000-01-19    0.249372\n",
       "2000-01-23   -0.580437\n",
       "2000-01-27   -0.134233\n",
       "2000-01-31   -0.092852\n",
       "2000-02-04    1.344548\n",
       "2000-02-08    1.178955\n",
       "2000-02-12    0.641349\n",
       "2000-02-16   -0.298810\n",
       "2000-02-20   -2.182057\n",
       "2000-02-24   -0.663204\n",
       "2000-02-28    0.669059\n",
       "2000-03-03    0.542601\n",
       "2000-03-07    2.302754\n",
       "2000-03-11   -0.046770\n",
       "2000-03-15    0.877305\n",
       "2000-03-19    0.853229\n",
       "2000-03-23    1.589876\n",
       "2000-03-27    0.453524\n",
       "2000-03-31    0.400898\n",
       "Freq: 4D, dtype: float64"
      ]
     },
     "execution_count": 58,
     "metadata": {},
     "output_type": "execute_result"
    }
   ],
   "source": [
    "# using date offsets with groupby\n",
    "ts = pd.Series(np.random.standard_normal(20),\n",
    "               index=pd.date_range(\"2000-01-15\", periods=20, freq=\"4D\"))\n",
    "ts"
   ]
  },
  {
   "cell_type": "code",
   "execution_count": 59,
   "id": "ecc4205d-7c8a-435d-afa5-978e1211c288",
   "metadata": {},
   "outputs": [
    {
     "data": {
      "text/plain": [
       "2000-01-31   -0.275702\n",
       "2000-02-29    0.098549\n",
       "2000-03-31    0.871677\n",
       "dtype: float64"
      ]
     },
     "execution_count": 59,
     "metadata": {},
     "output_type": "execute_result"
    }
   ],
   "source": [
    "ts.groupby(MonthEnd().rollforward).mean()"
   ]
  },
  {
   "cell_type": "code",
   "execution_count": 60,
   "id": "3c3429a8-2c7b-498a-8e91-c33f81cb0747",
   "metadata": {},
   "outputs": [
    {
     "data": {
      "text/plain": [
       "2000-01-31   -0.275702\n",
       "2000-02-29    0.098549\n",
       "2000-03-31    0.871677\n",
       "Freq: ME, dtype: float64"
      ]
     },
     "execution_count": 60,
     "metadata": {},
     "output_type": "execute_result"
    }
   ],
   "source": [
    "# using resample to achieve the same result \n",
    "ts.resample(\"ME\").mean()"
   ]
  },
  {
   "cell_type": "code",
   "execution_count": null,
   "id": "c165c6ed-c85c-48a2-90df-cb73f8bd3bce",
   "metadata": {},
   "outputs": [],
   "source": []
  }
 ],
 "metadata": {
  "kernelspec": {
   "display_name": "Python 3 (ipykernel)",
   "language": "python",
   "name": "python3"
  },
  "language_info": {
   "codemirror_mode": {
    "name": "ipython",
    "version": 3
   },
   "file_extension": ".py",
   "mimetype": "text/x-python",
   "name": "python",
   "nbconvert_exporter": "python",
   "pygments_lexer": "ipython3",
   "version": "3.12.4"
  }
 },
 "nbformat": 4,
 "nbformat_minor": 5
}
