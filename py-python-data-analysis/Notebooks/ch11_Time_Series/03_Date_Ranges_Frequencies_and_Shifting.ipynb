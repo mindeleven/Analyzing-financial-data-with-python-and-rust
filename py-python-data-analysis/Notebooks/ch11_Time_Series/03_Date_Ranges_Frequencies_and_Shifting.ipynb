{
 "cells": [
  {
   "cell_type": "markdown",
   "id": "6c21c843-5cc2-42b9-adc1-8209049ab27c",
   "metadata": {},
   "source": [
    "## Date Ranges, Frequencies and Shifting"
   ]
  },
  {
   "cell_type": "markdown",
   "id": "0904b5ae-47b6-4e85-b1ac-65c9cfc6279a",
   "metadata": {},
   "source": [
    "[Coding along with Python for Data Analysis: Data Wrangling with Pandas, NumPy, and IPython, Wes Mckinney, O'Reilly, 1st Edition October 2012]"
   ]
  },
  {
   "cell_type": "code",
   "execution_count": 3,
   "id": "c465b274-c59b-4d3b-8cb8-9d56e2936e6e",
   "metadata": {},
   "outputs": [],
   "source": [
    "from datetime import datetime\n",
    "import pandas as pd\n",
    "import numpy as np"
   ]
  },
  {
   "cell_type": "code",
   "execution_count": 4,
   "id": "fbae9ee7-6478-4140-ac24-040d70a35aee",
   "metadata": {},
   "outputs": [
    {
     "data": {
      "text/plain": [
       "2011-01-02    1.056605\n",
       "2011-01-05   -0.554526\n",
       "2011-01-07    0.887163\n",
       "2011-01-08    0.496824\n",
       "2011-01-10   -1.638355\n",
       "2011-01-12    0.875793\n",
       "dtype: float64"
      ]
     },
     "execution_count": 4,
     "metadata": {},
     "output_type": "execute_result"
    }
   ],
   "source": [
    "# a basic kind of time series on pandas is a Series indexed by timestamps\n",
    "dates = [datetime(2011, 1, 2), datetime(2011, 1, 5),\n",
    "         datetime(2011, 1, 7), datetime(2011, 1, 8),\n",
    "         datetime(2011, 1, 10), datetime(2011, 1, 12)]\n",
    "ts = pd.Series(np.random.standard_normal(6), index=dates)\n",
    "ts"
   ]
  },
  {
   "cell_type": "code",
   "execution_count": 6,
   "id": "ee00b7b8-a84f-4ebf-88db-f27509b571e3",
   "metadata": {},
   "outputs": [
    {
     "data": {
      "text/plain": [
       "<pandas.core.resample.DatetimeIndexResampler object at 0x10accd970>"
      ]
     },
     "execution_count": 6,
     "metadata": {},
     "output_type": "execute_result"
    }
   ],
   "source": [
    "ts\n",
    "resampler = ts.resample(\"D\") # D is interpreted as daily frequency\n",
    "resampler"
   ]
  },
  {
   "cell_type": "code",
   "execution_count": null,
   "id": "be5c0733-d9db-48a9-8c02-e0c6aca8134e",
   "metadata": {},
   "outputs": [],
   "source": []
  }
 ],
 "metadata": {
  "kernelspec": {
   "display_name": "Python 3 (ipykernel)",
   "language": "python",
   "name": "python3"
  },
  "language_info": {
   "codemirror_mode": {
    "name": "ipython",
    "version": 3
   },
   "file_extension": ".py",
   "mimetype": "text/x-python",
   "name": "python",
   "nbconvert_exporter": "python",
   "pygments_lexer": "ipython3",
   "version": "3.12.4"
  }
 },
 "nbformat": 4,
 "nbformat_minor": 5
}
