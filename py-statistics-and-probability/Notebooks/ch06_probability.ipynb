{
 "cells": [
  {
   "cell_type": "markdown",
   "id": "9158806f-db27-4ed5-a2c8-d6f9d193f201",
   "metadata": {},
   "source": [
    "# Probability"
   ]
  },
  {
   "cell_type": "markdown",
   "id": "0b54e429-41c1-4eb2-bfda-bbc28dea2eec",
   "metadata": {},
   "source": [
    "## Random Variable"
   ]
  },
  {
   "cell_type": "markdown",
   "id": "151215c0-3a72-4b56-8bcf-5ff94f204a5b",
   "metadata": {},
   "source": [
    "### Compute and Understand Random Variable"
   ]
  },
  {
   "cell_type": "markdown",
   "id": "0b51671b-8df6-4ceb-ad28-3273fce02cf1",
   "metadata": {},
   "source": [
    "A variable is called a random variable if we cannot predict the next realization of this variable. We need to define the domain (sample space) of this random variable, eg. {1, 2, 3}, which means the domain is the set containing 1, 2 and 3. If we know the domain we need to apply a probability for each event. The sum of the probability of each event must be equal to one.\n",
    "\n",
    "- A random variable quantifies our uncertainty about the quantity it represents, not the value that it happens to finally take once the outcome is revealed. You should never think of a random variable as having a fixed numerical value. If the outcome is known, then that determines a realization of the random variable (https://theoryandpractice.org/stats-ds-book/random_variables.html).\n",
    "\n",
    "- A random variable is defined as a function that associates outcomes of an experiment with real numbers. It can be discrete or continuous, depending on whether the outcomes are finite or infinite, forming the basis for probability distributions and density functions (https://www.sciencedirect.com/topics/computer-science/random-variable).\n",
    "\n",
    "- A random variable (also called random quantity, aleatory variable, or stochastic variable) is a mathematical formalization of a quantity or object which depends on random events. The term 'random variable' in its mathematical definition refers to neither randomness nor variability (Wikipedia)."
   ]
  },
  {
   "cell_type": "markdown",
   "id": "8390009e-31f0-4106-8148-a1795c97cfd0",
   "metadata": {},
   "source": [
    "### Compute and Understand Intersection, Union, Independency"
   ]
  },
  {
   "cell_type": "markdown",
   "id": "4c15b456-44e0-4dbd-b467-db7fe206527f",
   "metadata": {},
   "source": [
    "### Intersection"
   ]
  },
  {
   "cell_type": "markdown",
   "id": "bff1e661-48b7-466a-8924-eecb97b968ce",
   "metadata": {},
   "source": [
    "The intersection between two events A and B is the event to have the two events in the same time (𝐴∩𝐵, A inter B).\n",
    "\n",
    "- **Example:** A) Obtain a red ball in a set of 9 balls with 3 red balls: probability is 3/9 or 1/3. B) Obtain a ball with a triangle in the same set of 9 balls with 3 balls with a triangle: probability is 3/9 or 1/3. The probability the event A and B occur at the same time is 𝐴∩𝐵 or 2/9.\n",
    "\n",
    "- The intersection of events 𝐴 and 𝐵, denoted 𝐴∩𝐵, is the collection of all outcomes that are elements of both of the sets 𝐴 and 𝐵. It corresponds to combining descriptions of the two events using the word “and” ([stats.libretexts.org](https://stats.libretexts.org/Bookshelves/Introductory_Statistics/Introductory_Statistics_(Shafer_and_Zhang)/03%3A_Basic_Concepts_of_Probability/3.02%3A_Complements_Intersections_and_Unions))."
   ]
  },
  {
   "cell_type": "markdown",
   "id": "36ad38fd-8f8c-44a5-8a3c-551a2f3b61d2",
   "metadata": {},
   "source": [
    "### Union"
   ]
  },
  {
   "cell_type": "markdown",
   "id": "6df3097c-3806-4c7d-850b-6af5a3a6db9b",
   "metadata": {},
   "source": [
    "The Union between two events (A and B) is the probability to have one event, the other or both in the same time (𝐴∪𝐵).\n",
    "\n",
    "- **Example:** A) Obtain a red ball in a set of 9 balls with 3 red balls: probability is 3/9 or 1/3. B) Obtain a ball with a triangle in the same set of 9 balls with 3 balls with a triangle: probability is 3/9 or 1/3. The probability for the union between these two events (P(𝐴∪𝐵)) is calculated by P(A) + P(B) - P(𝐴∩𝐵) = 3/9 + 3/9 - 2/9 = 4/9 (P(𝐴∩𝐵) is the intersection calculated above).\n",
    "\n",
    "- **Trading Example:** Let's take two assets as an example: GOOG and AMZN. The goal (union) is to have a positive return for today, no matter from which asset it comes or if it come from both. We just want to have one positive return in our asset stock.\n",
    "\n",
    "- The union of events 𝐴 and 𝐵, denoted 𝐴∪𝐵, is the collection of all outcomes that are elements of one or the other of the sets 𝐴 and 𝐵, or of both of them. It corresponds to combining descriptions of the two events using the word “or” ([stats.libretexts.org](https://stats.libretexts.org/Bookshelves/Introductory_Statistics/Introductory_Statistics_(Shafer_and_Zhang)/03%3A_Basic_Concepts_of_Probability/3.02%3A_Complements_Intersections_and_Unions))."
   ]
  },
  {
   "cell_type": "markdown",
   "id": "99e5b14d-1c07-4b30-b08f-ff7a1cd56b0a",
   "metadata": {},
   "source": [
    "### Independent Event"
   ]
  },
  {
   "cell_type": "markdown",
   "id": "35dd6354-1f19-441c-9403-971faebab1a4",
   "metadata": {},
   "source": [
    "We say that two events A and B are independent if the realization of one event doesn't change the probability of the other.\n",
    "\n",
    "- The probability of the intersection of both events is equal to the product of the probability of both events: A, B ind if P(A ∩ B) = P(A) * P(B)\n",
    "\n",
    "- If there are only independent events in trading then the stock price is a random walk. We know that in practice it is not a random walk so we need to find the dependent events. Dependent events are an anomaly that will allow us to develope a profitable strategy.\n",
    "\n",
    "- Example: we have a bag with three green and three red balls. **With replacement** after each shot: the pobability to have a green ball at each shot is the same even if you take a green ball (the two events are dependent). **Without replacement** after each shot: the pobability to have a green ball at each shot decreases if you take a green ball.\n",
    "\n",
    "- In probability, two events are independent if the incidence of one event does not affect the probability of the other event. If the incidence of one event does affect the probability of the other event, then the events are dependent ([brilliant.org](https://brilliant.org/wiki/probability-independent-events/))."
   ]
  },
  {
   "cell_type": "markdown",
   "id": "933cf821-18b1-408b-8980-1a296961e68a",
   "metadata": {},
   "source": [
    "### Complementary Event"
   ]
  },
  {
   "cell_type": "markdown",
   "id": "6085819f-8d88-45d3-ab10-4bc2d06788a7",
   "metadata": {},
   "source": [
    "The complementary event is the contrary of the event. All that is not in the event are on the contrary event.\n",
    "\n",
    "- **Example:** Event A is to obtain a red ball. The complementary event A’ to event A is to not obtain a red ball. Important to know: P(A) + P(A‘) = 1\n",
    "\n",
    "- In probability, complementary occurrences occur when two events are exhaustive and mutually exclusive. As a result, when one event occurs, the other cannot occur. According to the complementary events rule, the result of adding the probability of an event and the probability of its complement is 1 ([unacademy.com](https://unacademy.com/content/jee/study-material/mathematics/a-short-note-on-complementary-events/))."
   ]
  },
  {
   "cell_type": "markdown",
   "id": "f6bafc96-e5b9-4751-b502-772270c507bf",
   "metadata": {},
   "source": [
    "## Compute and Understand Conditional Probability"
   ]
  },
  {
   "cell_type": "markdown",
   "id": "4195012a-aed6-4ffd-b1cc-146755969975",
   "metadata": {},
   "source": [
    "### Conditional Probability"
   ]
  },
  {
   "cell_type": "markdown",
   "id": "e88b188f-6fce-4cc7-bb9a-391ed81e4362",
   "metadata": {},
   "source": [
    "The conditional probability gives us the probability of the event A knowing that the event B has happened.\n",
    "\n",
    "- **Exampple:** 32-card game. Two events: you have a king card (A) and you have a heart card (B). I need to compute a conditional probability to know that the king card I have is a heart card: P(A|B) = P(A ∩ B)/P(B) = (1/32)/(1/4) = 1/32 * 4/1 = 4/32 = 1/8\n",
    "\n",
    "- In probability theory, conditional probability is a measure of the probability of an event occurring, given that another event (by assumption, presumption, assertion or evidence) is already known to have occurred. The conditional probability of A given B ( P ( A ∣ B ) is the probability of A occurring if B has or is assumed to have happened (Wikipedia)."
   ]
  },
  {
   "cell_type": "markdown",
   "id": "551eeb86-ee37-434a-9342-8bc8b1be98aa",
   "metadata": {},
   "source": [
    "### Bayes Theorem"
   ]
  },
  {
   "cell_type": "markdown",
   "id": "1212b9db-01d3-4935-a689-7df7303ed3a2",
   "metadata": {},
   "source": [
    "- The Bayes theorem is a mathematical formula for calculating conditional probability in probability and statistics. In other words, it's used to figure out how likely an event is based on its proximity to another. Bayes law or Bayes rule are other names for the theorem ([simplilearn.com](https://www.simplilearn.com/tutorials/statistics-tutorial/bayes-theorem)).\n",
    "\n",
    "- P ( A ∣ B ) = (P ( B | A ) * P(A)) / P(B)\n",
    "\n",
    "- Bayes' theorem gives a mathematical rule for inverting conditional probabilities, allowing us to find the probability of a cause given its effect. For example, if the risk of developing health problems is known to increase with age, Bayes' theorem allows the risk to an individual of a known age to be assessed more accurately by conditioning it relative to their age, rather than assuming that the individual is typical of the population as a whole (Wikipedia)."
   ]
  },
  {
   "cell_type": "markdown",
   "id": "2c30e7b8-bce1-4706-94df-27f25f74e326",
   "metadata": {},
   "source": [
    "### Excercise"
   ]
  },
  {
   "cell_type": "markdown",
   "id": "55083719-9ead-466e-b1b6-2ef1892b804c",
   "metadata": {},
   "source": [
    "Excercise Trading: Apply conditional probability in stock market"
   ]
  },
  {
   "cell_type": "code",
   "execution_count": null,
   "id": "de893695-6248-42f8-9b83-bae3f36b48b9",
   "metadata": {},
   "outputs": [],
   "source": []
  }
 ],
 "metadata": {
  "kernelspec": {
   "display_name": "Python 3 (ipykernel)",
   "language": "python",
   "name": "python3"
  },
  "language_info": {
   "codemirror_mode": {
    "name": "ipython",
    "version": 3
   },
   "file_extension": ".py",
   "mimetype": "text/x-python",
   "name": "python",
   "nbconvert_exporter": "python",
   "pygments_lexer": "ipython3",
   "version": "3.12.4"
  }
 },
 "nbformat": 4,
 "nbformat_minor": 5
}
