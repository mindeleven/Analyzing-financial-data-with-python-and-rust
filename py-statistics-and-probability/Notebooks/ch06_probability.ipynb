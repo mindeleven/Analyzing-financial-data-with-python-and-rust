{
 "cells": [
  {
   "cell_type": "markdown",
   "id": "9158806f-db27-4ed5-a2c8-d6f9d193f201",
   "metadata": {},
   "source": [
    "# Probability"
   ]
  },
  {
   "cell_type": "markdown",
   "id": "0b54e429-41c1-4eb2-bfda-bbc28dea2eec",
   "metadata": {},
   "source": [
    "## Random Variable"
   ]
  },
  {
   "cell_type": "markdown",
   "id": "151215c0-3a72-4b56-8bcf-5ff94f204a5b",
   "metadata": {},
   "source": [
    "### Compute and Understand Random Variable"
   ]
  },
  {
   "cell_type": "markdown",
   "id": "0b51671b-8df6-4ceb-ad28-3273fce02cf1",
   "metadata": {},
   "source": [
    "A variable is called a random variable if we cannot predict the next realization of this variable. We need to define the domain (sample space) of this random variable, eg. {1, 2, 3}, which means the domain is the set containing 1, 2 and 3. If we know the domain we need to apply a probability for each event. The sum of the probability of each event must be equal to one.\n",
    "\n",
    "- A random variable quantifies our uncertainty about the quantity it represents, not the value that it happens to finally take once the outcome is revealed. You should never think of a random variable as having a fixed numerical value. If the outcome is known, then that determines a realization of the random variable (https://theoryandpractice.org/stats-ds-book/random_variables.html).\n",
    "\n",
    "- A random variable is defined as a function that associates outcomes of an experiment with real numbers. It can be discrete or continuous, depending on whether the outcomes are finite or infinite, forming the basis for probability distributions and density functions (https://www.sciencedirect.com/topics/computer-science/random-variable).\n",
    "\n",
    "- A random variable (also called random quantity, aleatory variable, or stochastic variable) is a mathematical formalization of a quantity or object which depends on random events. The term 'random variable' in its mathematical definition refers to neither randomness nor variability (Wikipedia)."
   ]
  },
  {
   "cell_type": "markdown",
   "id": "8390009e-31f0-4106-8148-a1795c97cfd0",
   "metadata": {},
   "source": [
    "### Compute and Understand Intersection, Union, Independency"
   ]
  },
  {
   "cell_type": "markdown",
   "id": "4c15b456-44e0-4dbd-b467-db7fe206527f",
   "metadata": {},
   "source": [
    "### Intersection"
   ]
  },
  {
   "cell_type": "markdown",
   "id": "bff1e661-48b7-466a-8924-eecb97b968ce",
   "metadata": {},
   "source": [
    "The intersection between two events A and B is the event to have the two events in the same time (𝐴∩𝐵, A inter B).\n",
    "\n",
    "- **Example:** A) Obtain a red ball in a set of 9 balls with 3 red balls: probability is 3/9 or 1/3. B) Obtain a ball with a triangle in the same set of 9 balls with 3 balls with a triangle: probability is 3/9 or 1/3. The probability the event A and B occur at the same time is 𝐴∩𝐵 or 2/9.\n",
    "\n",
    "- The intersection of events 𝐴 and 𝐵, denoted 𝐴∩𝐵, is the collection of all outcomes that are elements of both of the sets 𝐴 and 𝐵. It corresponds to combining descriptions of the two events using the word “and” ([stats.libretexts.org](https://stats.libretexts.org/Bookshelves/Introductory_Statistics/Introductory_Statistics_(Shafer_and_Zhang)/03%3A_Basic_Concepts_of_Probability/3.02%3A_Complements_Intersections_and_Unions))."
   ]
  },
  {
   "cell_type": "markdown",
   "id": "36ad38fd-8f8c-44a5-8a3c-551a2f3b61d2",
   "metadata": {},
   "source": [
    "### Union"
   ]
  },
  {
   "cell_type": "markdown",
   "id": "6df3097c-3806-4c7d-850b-6af5a3a6db9b",
   "metadata": {},
   "source": [
    "The Union between two events (A and B) is the probability to have one event, the other or both in the same time (𝐴∪𝐵).\n",
    "\n",
    "- **Example:** A) Obtain a red ball in a set of 9 balls with 3 red balls: probability is 3/9 or 1/3. B) Obtain a ball with a triangle in the same set of 9 balls with 3 balls with a triangle: probability is 3/9 or 1/3. The probability for the union between these two events (P(𝐴∪𝐵)) is calculated by P(A) + P(B) - P(𝐴∩𝐵) = 3/9 + 3/9 - 2/9 = 4/9 (P(𝐴∩𝐵) is the intersection calculated above).\n",
    "\n",
    "- **Trading Example:** Let's take two assets as an example: GOOG and AMZN. The goal (union) is to have a positive return for today, no matter from which asset it comes or if it come from both. We just \n",
    "\n",
    "- The union of events 𝐴 and 𝐵, denoted 𝐴∪𝐵, is the collection of all outcomes that are elements of one or the other of the sets 𝐴 and 𝐵, or of both of them. It corresponds to combining descriptions of the two events using the word “or” ([stats.libretexts.org](https://stats.libretexts.org/Bookshelves/Introductory_Statistics/Introductory_Statistics_(Shafer_and_Zhang)/03%3A_Basic_Concepts_of_Probability/3.02%3A_Complements_Intersections_and_Unions))."
   ]
  },
  {
   "cell_type": "markdown",
   "id": "99e5b14d-1c07-4b30-b08f-ff7a1cd56b0a",
   "metadata": {},
   "source": [
    "### Intersection"
   ]
  },
  {
   "cell_type": "markdown",
   "id": "f6bafc96-e5b9-4751-b502-772270c507bf",
   "metadata": {},
   "source": [
    "### Compute and Understand Conditional Probability"
   ]
  },
  {
   "cell_type": "markdown",
   "id": "4195012a-aed6-4ffd-b1cc-146755969975",
   "metadata": {},
   "source": [
    "∩"
   ]
  },
  {
   "cell_type": "markdown",
   "id": "2c30e7b8-bce1-4706-94df-27f25f74e326",
   "metadata": {},
   "source": [
    "### Excercise"
   ]
  },
  {
   "cell_type": "markdown",
   "id": "55083719-9ead-466e-b1b6-2ef1892b804c",
   "metadata": {},
   "source": [
    "Excercise Trading: Apply conditional probability in stock market"
   ]
  },
  {
   "cell_type": "code",
   "execution_count": null,
   "id": "de893695-6248-42f8-9b83-bae3f36b48b9",
   "metadata": {},
   "outputs": [],
   "source": []
  }
 ],
 "metadata": {
  "kernelspec": {
   "display_name": "Python 3 (ipykernel)",
   "language": "python",
   "name": "python3"
  },
  "language_info": {
   "codemirror_mode": {
    "name": "ipython",
    "version": 3
   },
   "file_extension": ".py",
   "mimetype": "text/x-python",
   "name": "python",
   "nbconvert_exporter": "python",
   "pygments_lexer": "ipython3",
   "version": "3.12.4"
  }
 },
 "nbformat": 4,
 "nbformat_minor": 5
}
