{
 "cells": [
  {
   "cell_type": "markdown",
   "id": "a1ba4a11-231d-4af9-bcd8-5de9d16e57a8",
   "metadata": {},
   "source": [
    "# Combinatorial Statistics"
   ]
  },
  {
   "cell_type": "markdown",
   "id": "ed6caca7-1080-49f0-8855-5b4ba01a5bb4",
   "metadata": {},
   "source": [
    "## Arrangement"
   ]
  },
  {
   "cell_type": "markdown",
   "id": "3b4cc918-a691-49a2-82c0-a3a2fdb09a7e",
   "metadata": {},
   "source": [
    "### Arrangement: Permutation"
   ]
  },
  {
   "cell_type": "markdown",
   "id": "ea93b24a-ccf3-494a-87c9-e904fdd830a1",
   "metadata": {},
   "source": [
    "**Permutations:** How can we find the number of combinatins between three elements?\n",
    "\n",
    "How many possibilities are there to put three elements of a set in a different order? In Mathematics this can be calculate by the factorial of it(!), which is called Permutation. The order that we arrange the objects in is important. So we can calculate how to arrange these three different numbers 3!= 3 × 2 ×1 = 6 (https://www.quora.com/How-many-different-ways-can-3-numbers-be-arranged).\n",
    "\n",
    "- A permutation is an arrangement of all or part of a set of objects, with regard to the order of the arrangement. For example, suppose we have a set of three letters: A, B, and C. we might ask how many ways we can arrange 2 letters from that set (tutorialspoint.com)."
   ]
  },
  {
   "cell_type": "markdown",
   "id": "d3db82df-0a92-4d8a-8196-dabedd935121",
   "metadata": {},
   "source": [
    "**Definition of a Factorial**\n",
    "\n",
    "The factorial of a number is the multiplication of all the numbers between 1 and the number itself. It is written like this: n!. So the factorial of 2 is 2! (= 1 × 2).\n",
    "\n",
    "To calculate a factorial you need to know two things:\n",
    "\n",
    "    0! = 1\n",
    "    n! = (n - 1)! × n\n",
    "\n",
    "The factorial of 0 has value of 1, and the factorial of a number n is equal to the multiplication between the number n and the factorial of n-1.\n",
    "\n",
    "For example, 5! is equal to 4! × 5.\n",
    "\n",
    "(Source: https://www.freecodecamp.org/news/what-is-a-factorial/)"
   ]
  },
  {
   "cell_type": "code",
   "execution_count": 10,
   "id": "453da24c-74ca-4a0f-9c19-f7a899594285",
   "metadata": {},
   "outputs": [],
   "source": [
    "# A Python program to print all \n",
    "# permutations using library function\n",
    "# from https://www.geeksforgeeks.org/permutation-and-combination-in-python/\n",
    "from itertools import permutations "
   ]
  },
  {
   "cell_type": "code",
   "execution_count": 11,
   "id": "939f12f6-e450-44c7-b77e-f0390a9dac11",
   "metadata": {},
   "outputs": [],
   "source": [
    "# Get all permutations of [1, 2, 3] \n",
    "perm = permutations([1, 2, 3]) "
   ]
  },
  {
   "cell_type": "code",
   "execution_count": 12,
   "id": "a4a655e0-4166-4e10-80cc-bed97d9b1039",
   "metadata": {},
   "outputs": [
    {
     "name": "stdout",
     "output_type": "stream",
     "text": [
      "(1, 2, 3)\n",
      "(1, 3, 2)\n",
      "(2, 1, 3)\n",
      "(2, 3, 1)\n",
      "(3, 1, 2)\n",
      "(3, 2, 1)\n"
     ]
    }
   ],
   "source": [
    "# Print the obtained permutations \n",
    "for i in list(perm): \n",
    "    print (i) "
   ]
  },
  {
   "cell_type": "code",
   "execution_count": 26,
   "id": "9e11e275-436e-4cb9-b349-0c1fa02a8458",
   "metadata": {},
   "outputs": [
    {
     "name": "stdout",
     "output_type": "stream",
     "text": [
      "('AMZN', 'MSFT', 'GOOG', 'EURUSD=X', 'BTC-USD')\n",
      "('AMZN', 'MSFT', 'GOOG', 'BTC-USD', 'EURUSD=X')\n",
      "('AMZN', 'MSFT', 'EURUSD=X', 'GOOG', 'BTC-USD')\n",
      "('AMZN', 'MSFT', 'EURUSD=X', 'BTC-USD', 'GOOG')\n",
      "('AMZN', 'MSFT', 'BTC-USD', 'GOOG', 'EURUSD=X')\n",
      "('AMZN', 'MSFT', 'BTC-USD', 'EURUSD=X', 'GOOG')\n",
      "('AMZN', 'GOOG', 'MSFT', 'EURUSD=X', 'BTC-USD')\n",
      "('AMZN', 'GOOG', 'MSFT', 'BTC-USD', 'EURUSD=X')\n",
      "('AMZN', 'GOOG', 'EURUSD=X', 'MSFT', 'BTC-USD')\n",
      "('AMZN', 'GOOG', 'EURUSD=X', 'BTC-USD', 'MSFT')\n"
     ]
    }
   ],
   "source": [
    "# example with asset list\n",
    "assets = [\"AMZN\", \"MSFT\", \"GOOG\", \"EURUSD=X\", \"BTC-USD\"]\n",
    "asset_perm = permutations([\"AMZN\", \"MSFT\", \"GOOG\", \"EURUSD=X\", \"BTC-USD\"])\n",
    "# print(len(list(asset_perm)))\n",
    "\n",
    "for i in list(asset_perm)[0:10]: # reducing the number of the print out\n",
    "    print (i) "
   ]
  },
  {
   "cell_type": "code",
   "execution_count": 20,
   "id": "56179460-64dd-4898-ad2f-5596f0b6f781",
   "metadata": {},
   "outputs": [],
   "source": [
    "for i in list(asset_perm): \n",
    "    print (i) "
   ]
  },
  {
   "cell_type": "markdown",
   "id": "07aa8fe1-b4d6-455e-99c8-e711ce4b6abb",
   "metadata": {},
   "source": [
    "### Arrangement: Without repitition"
   ]
  },
  {
   "cell_type": "markdown",
   "id": "599375a6-a306-4462-9f60-a82d48fc1ac0",
   "metadata": {},
   "source": [
    "An arrangement is a pernutation of k elements in a set of n elements without repition. Arrangement is when to order matters.\n",
    "\n",
    "Example: how may combinations are there of two (k) elements in a set of three (n) elements? If I take one element from a set of three elements, the second time I want to take an element there are only two elements left to choose from. There's no repitition in this example.\n",
    "\n",
    "The order of elements is important here. For example the combination of (1, 2) is different from the combination of (2, 1). Or (MSFT, GOOG) is different from (GOOG, MSFT)."
   ]
  },
  {
   "cell_type": "code",
   "execution_count": 38,
   "id": "86faa670-f38d-4609-9c71-d6722dad9938",
   "metadata": {},
   "outputs": [
    {
     "name": "stdout",
     "output_type": "stream",
     "text": [
      "[('A', 'B'), ('A', 'C'), ('B', 'A'), ('B', 'C'), ('C', 'A'), ('C', 'B')]\n"
     ]
    }
   ],
   "source": [
    "# if you want to generate combinations of a specific length (e.g., 2-element combinations) that preserves order\n",
    "# you can use you’ll need to use permutations instead instead of combinations\n",
    "# example of generating 2-element permutations:\n",
    "import itertools\n",
    "\n",
    "my_list = ['A', 'B', 'C']\n",
    "permutations = list(itertools.permutations(my_list, 2))\n",
    "print(permutations)"
   ]
  },
  {
   "cell_type": "markdown",
   "id": "aad54f84-5247-4302-afca-cc101d8eabc7",
   "metadata": {},
   "source": [
    "### Arrangement: With repitition"
   ]
  },
  {
   "cell_type": "markdown",
   "id": "22009483-dd57-4497-a2ae-ad8a52850358",
   "metadata": {},
   "source": [
    "An arrangement is a pernutation of k elements in a set of n elements without repition. Example: how may combinations are there of two (k) elements in a set of three (n) elements? This time we're having repetition, so If I take one element from the set I put it in the set again.\n",
    "\n",
    "The order of elements is important here. For example the combination of (1, 2) is different from the combination of (2, 1). Or (MSFT, GOOG) is different from (GOOG, MSFT)."
   ]
  },
  {
   "cell_type": "markdown",
   "id": "80f98c5a-0f90-489c-bb02-0e8b45d60fdb",
   "metadata": {},
   "source": [
    "## Combination"
   ]
  },
  {
   "cell_type": "markdown",
   "id": "3cecd4c8-b88a-4227-9f5a-3f30922696b6",
   "metadata": {},
   "source": [
    "### Combination: Without repitition"
   ]
  },
  {
   "cell_type": "markdown",
   "id": "741eee4e-676a-4203-b832-1b87c5ddccba",
   "metadata": {},
   "source": [
    "A combination is a pernutation of k elements in a set of n elements without repition. In combination order doesn't matter.\n",
    "\n",
    "Example: how may combinations are there of two (k) elements in a set of three (n) elements? If I take one element from a set of three elements, the second time I want to take an element there are only two elements left to choose from. There's no repitition in this example.\n",
    "\n",
    "The order of elements is important here. For example the combination of (1, 2) is different from the combination of (2, 1). Or (MSFT, GOOG) is different from (GOOG, MSFT)."
   ]
  },
  {
   "cell_type": "code",
   "execution_count": 39,
   "id": "3c14dbc9-c12c-47f1-bf15-05f7a0984b42",
   "metadata": {},
   "outputs": [
    {
     "name": "stdout",
     "output_type": "stream",
     "text": [
      "(1, 2)\n",
      "(1, 3)\n",
      "(2, 3)\n"
     ]
    }
   ],
   "source": [
    "# A Python program to print all \n",
    "# combinations of given length\n",
    "from itertools import combinations\n",
    " \n",
    "# Get all combinations of [1, 2, 3]\n",
    "# and length 2\n",
    "comb = combinations([1, 2, 3], 2)\n",
    " \n",
    "# Print the obtained combinations\n",
    "for i in list(comb):\n",
    "    print (i)"
   ]
  },
  {
   "cell_type": "markdown",
   "id": "da6fa44b-367e-40a7-94c3-16b5d349b948",
   "metadata": {},
   "source": [
    "### Combination: With repitition"
   ]
  },
  {
   "cell_type": "markdown",
   "id": "08b7ad47-b412-47ed-8599-df717354d2b8",
   "metadata": {},
   "source": [
    "A combination is a pernutation of k elements in a set of n elements without repition. Example: how may combinations are there of two (k) elements in a set of three (n) elements? This time we're having repetition, so If I take one element from the set I put it in the set again.\n",
    "\n",
    "The order of elements doesn't matter here."
   ]
  },
  {
   "cell_type": "code",
   "execution_count": 28,
   "id": "9b77d966-86de-452d-968e-0f1f18245408",
   "metadata": {},
   "outputs": [
    {
     "name": "stdout",
     "output_type": "stream",
     "text": [
      "(1, 1)\n",
      "(1, 2)\n",
      "(1, 3)\n",
      "(2, 2)\n",
      "(2, 3)\n",
      "(3, 3)\n"
     ]
    }
   ],
   "source": [
    "# A Python program to print all combinations \n",
    "# with an element-to-itself combination is \n",
    "# also included \n",
    "from itertools import combinations_with_replacement \n",
    " \n",
    "# Get all combinations of [1, 2, 3] and length 2 \n",
    "comb = combinations_with_replacement([1, 2, 3], 2) \n",
    " \n",
    "# Print the obtained combinations \n",
    "for i in list(comb): \n",
    "    print (i) "
   ]
  },
  {
   "cell_type": "markdown",
   "id": "2a355ca8-a700-40ba-ac59-ea4668411f89",
   "metadata": {},
   "source": [
    "## Excercises"
   ]
  },
  {
   "cell_type": "markdown",
   "id": "3f0d743b-af87-4901-b91c-75bd029fe1f8",
   "metadata": {},
   "source": [
    "Exercise (1): Compute the number of combinations between the follwoing currencies: USD, EUR, CAD. We consider EUR/USD == USD/EUR."
   ]
  },
  {
   "cell_type": "code",
   "execution_count": 50,
   "id": "042400dd-e108-479c-9907-88c5009da892",
   "metadata": {},
   "outputs": [
    {
     "name": "stdout",
     "output_type": "stream",
     "text": [
      "('USD', 'EUR')\n",
      "('USD', 'CAD')\n",
      "('EUR', 'CAD')\n"
     ]
    }
   ],
   "source": [
    "currencies = [\"USD\", \"EUR\", \"CAD\"]\n",
    "comb = combinations(currencies, 2)\n",
    "for i in list(comb):\n",
    "    print (i)"
   ]
  },
  {
   "cell_type": "code",
   "execution_count": 57,
   "id": "74d11e3a-7ce2-4f84-ad42-3bafcc28080d",
   "metadata": {},
   "outputs": [],
   "source": [
    "# solution using numpy\n",
    "from math import factorial as fact"
   ]
  },
  {
   "cell_type": "code",
   "execution_count": 58,
   "id": "1aadb8ef-5bef-499b-b5dd-17233585a683",
   "metadata": {},
   "outputs": [
    {
     "data": {
      "text/plain": [
       "3.0"
      ]
     },
     "execution_count": 58,
     "metadata": {},
     "output_type": "execute_result"
    }
   ],
   "source": [
    "# https://github.com/Quantreo/UDEMY-STATISTIC-AND-PROBABILITY-for-quantitative-finance/blob/main/Chapter_02_Combinatorial_statistics.ipynb\n",
    "def combination(n,k, repetition=False):\n",
    "\n",
    "  if repetition:\n",
    "    C = fact(n+k-1) / (fact(k)*fact(n-1))\n",
    "  else:\n",
    "    C = fact(n) / (fact(k)*fact(n-k))\n",
    "  \n",
    "  return C\n",
    "\n",
    "combination(3,2)"
   ]
  },
  {
   "cell_type": "code",
   "execution_count": 59,
   "id": "164bb98a-e98a-47fc-a43b-cbc5c6484ba9",
   "metadata": {},
   "outputs": [
    {
     "data": {
      "text/plain": [
       "6.0"
      ]
     },
     "execution_count": 59,
     "metadata": {},
     "output_type": "execute_result"
    }
   ],
   "source": [
    "combination(3,2, repetition=True)"
   ]
  },
  {
   "cell_type": "markdown",
   "id": "fc5ff9fa-ded9-4e82-96e6-7022f5df3f89",
   "metadata": {},
   "source": [
    "Exercise (2): Compute the number of permutaions between the follwoing currencies: USD, EUR, CAD. We consider EUR/USD != USD/EUR."
   ]
  },
  {
   "cell_type": "code",
   "execution_count": 42,
   "id": "a6ea9310-bd49-4929-bce0-4d0e885eab64",
   "metadata": {},
   "outputs": [
    {
     "name": "stdout",
     "output_type": "stream",
     "text": [
      "('USD', 'EUR')\n",
      "('USD', 'CAD')\n",
      "('EUR', 'USD')\n",
      "('EUR', 'CAD')\n",
      "('CAD', 'USD')\n",
      "('CAD', 'EUR')\n"
     ]
    }
   ],
   "source": [
    "from itertools import permutations \n",
    "currencies = [\"USD\", \"EUR\", \"CAD\"]\n",
    "perm = permutations(currencies, 2)\n",
    "for i in list(perm):\n",
    "    print (i)"
   ]
  },
  {
   "cell_type": "code",
   "execution_count": 61,
   "id": "7a66291a-1b8f-46fd-9a4e-17576dfe1207",
   "metadata": {},
   "outputs": [
    {
     "data": {
      "text/plain": [
       "6.0"
      ]
     },
     "execution_count": 61,
     "metadata": {},
     "output_type": "execute_result"
    }
   ],
   "source": [
    "def arrangement(n,k, repetition=False):\n",
    "\n",
    "  if repetition:\n",
    "    A = n**k\n",
    "  else:\n",
    "    A = fact(n) / fact(n-k)\n",
    "  \n",
    "  return A\n",
    "\n",
    "arrangement(3,2)"
   ]
  },
  {
   "cell_type": "code",
   "execution_count": 62,
   "id": "2b8f3bf2-630d-4305-93b0-eb40e2f70ed5",
   "metadata": {},
   "outputs": [
    {
     "data": {
      "text/plain": [
       "9"
      ]
     },
     "execution_count": 62,
     "metadata": {},
     "output_type": "execute_result"
    }
   ],
   "source": [
    "arrangement(3,2, repetition=True)"
   ]
  }
 ],
 "metadata": {
  "kernelspec": {
   "display_name": "Python 3 (ipykernel)",
   "language": "python",
   "name": "python3"
  },
  "language_info": {
   "codemirror_mode": {
    "name": "ipython",
    "version": 3
   },
   "file_extension": ".py",
   "mimetype": "text/x-python",
   "name": "python",
   "nbconvert_exporter": "python",
   "pygments_lexer": "ipython3",
   "version": "3.12.4"
  }
 },
 "nbformat": 4,
 "nbformat_minor": 5
}
