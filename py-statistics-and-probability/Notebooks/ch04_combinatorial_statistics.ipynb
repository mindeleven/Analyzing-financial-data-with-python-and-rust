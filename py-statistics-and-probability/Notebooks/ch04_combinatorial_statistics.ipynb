{
 "cells": [
  {
   "cell_type": "markdown",
   "id": "a1ba4a11-231d-4af9-bcd8-5de9d16e57a8",
   "metadata": {},
   "source": [
    "# Combinatorial Statistics"
   ]
  },
  {
   "cell_type": "markdown",
   "id": "ed6caca7-1080-49f0-8855-5b4ba01a5bb4",
   "metadata": {},
   "source": [
    "## Arrangement"
   ]
  },
  {
   "cell_type": "markdown",
   "id": "3b4cc918-a691-49a2-82c0-a3a2fdb09a7e",
   "metadata": {},
   "source": [
    "### Arrangement: Permutation"
   ]
  },
  {
   "cell_type": "markdown",
   "id": "ea93b24a-ccf3-494a-87c9-e904fdd830a1",
   "metadata": {},
   "source": [
    "**Permutations:** How can we find the number of combinatins between three elements?\n",
    "\n",
    "- A permutation is an arrangement of all or part of a set of objects, with regard to the order of the arrangement. For example, suppose we have a set of three letters: A, B, and C. we might ask how many ways we can arrange 2 letters from that set (tutorialspoint.com)."
   ]
  },
  {
   "cell_type": "markdown",
   "id": "d3db82df-0a92-4d8a-8196-dabedd935121",
   "metadata": {},
   "source": []
  },
  {
   "cell_type": "markdown",
   "id": "3fabe759-34f9-40e9-9f09-bc4861bb059f",
   "metadata": {},
   "source": []
  },
  {
   "cell_type": "markdown",
   "id": "07aa8fe1-b4d6-455e-99c8-e711ce4b6abb",
   "metadata": {},
   "source": [
    "### Arrangement: Without repitition"
   ]
  },
  {
   "cell_type": "markdown",
   "id": "599375a6-a306-4462-9f60-a82d48fc1ac0",
   "metadata": {},
   "source": []
  },
  {
   "cell_type": "markdown",
   "id": "aad54f84-5247-4302-afca-cc101d8eabc7",
   "metadata": {},
   "source": [
    "### Arrangement: With repitition"
   ]
  },
  {
   "cell_type": "markdown",
   "id": "22009483-dd57-4497-a2ae-ad8a52850358",
   "metadata": {},
   "source": []
  },
  {
   "cell_type": "markdown",
   "id": "80f98c5a-0f90-489c-bb02-0e8b45d60fdb",
   "metadata": {},
   "source": [
    "## Combination"
   ]
  },
  {
   "cell_type": "markdown",
   "id": "2e7204af-7bd8-4816-8d20-f4d506582bdd",
   "metadata": {},
   "source": [
    "### Combination: Without repitition"
   ]
  },
  {
   "cell_type": "markdown",
   "id": "b220da5e-512e-4b1c-ab6b-d9096b036ebb",
   "metadata": {},
   "source": []
  },
  {
   "cell_type": "markdown",
   "id": "da6fa44b-367e-40a7-94c3-16b5d349b948",
   "metadata": {},
   "source": [
    "### Arrangement: With repitition"
   ]
  },
  {
   "cell_type": "markdown",
   "id": "e75ac953-2bc7-4eb3-aebe-4556be08c159",
   "metadata": {},
   "source": []
  },
  {
   "cell_type": "markdown",
   "id": "77094aaf-7d64-45e2-b556-77a3e724ef85",
   "metadata": {},
   "source": []
  },
  {
   "cell_type": "markdown",
   "id": "8458c077-cb1e-4442-baae-8568167d0e62",
   "metadata": {},
   "source": []
  }
 ],
 "metadata": {
  "kernelspec": {
   "display_name": "Python 3 (ipykernel)",
   "language": "python",
   "name": "python3"
  },
  "language_info": {
   "codemirror_mode": {
    "name": "ipython",
    "version": 3
   },
   "file_extension": ".py",
   "mimetype": "text/x-python",
   "name": "python",
   "nbconvert_exporter": "python",
   "pygments_lexer": "ipython3",
   "version": "3.12.4"
  }
 },
 "nbformat": 4,
 "nbformat_minor": 5
}
