{
 "cells": [
  {
   "cell_type": "markdown",
   "id": "00bbe5f6-2593-4030-9b01-77a81056c7d1",
   "metadata": {},
   "source": [
    "# Excercise: Compute Risk/Return Correlation Asset Properly"
   ]
  },
  {
   "cell_type": "markdown",
   "id": "80e1d75b-e8f1-4c1d-9dca-d9ec0a4b73c8",
   "metadata": {},
   "source": [
    "Excercise 1: Compute the annualized risk return couple for Microsoft Stock price (Yahoo symbol MFST). Don't forget to use the variations price. \n",
    "\n",
    "- The risk is the volatility\n",
    "- The return is the mean of the return\n",
    "- You need to compute the annualized standard deviation as the volatility and the risk"
   ]
  },
  {
   "cell_type": "code",
   "execution_count": 7,
   "id": "09289ce0-cffb-4da6-ac83-783d948dd010",
   "metadata": {},
   "outputs": [],
   "source": [
    "import yfinance as yf\n",
    "import numpy as np"
   ]
  },
  {
   "cell_type": "code",
   "execution_count": 3,
   "id": "16f81cfc-c46d-4232-8112-cf60e156879e",
   "metadata": {},
   "outputs": [
    {
     "name": "stderr",
     "output_type": "stream",
     "text": [
      "[*********************100%***********************]  1 of 1 completed\n"
     ]
    }
   ],
   "source": [
    "# import the prices\n",
    "df = yf.download(\"MSFT\")[\"Adj Close\"].pct_change(1).dropna()"
   ]
  },
  {
   "cell_type": "code",
   "execution_count": 16,
   "id": "9578b587-3fc8-494c-bb9d-49e2c7a3cf53",
   "metadata": {},
   "outputs": [],
   "source": [
    "# compute risk return\n",
    "mean = np.mean(df, axis=0) * 100 # mean\n",
    "vol = np.std(df, axis=0) * 100 # standard deviation"
   ]
  },
  {
   "cell_type": "code",
   "execution_count": 15,
   "id": "9e7aa27c-7cff-4e34-a1d9-eaaed3ce84f6",
   "metadata": {},
   "outputs": [
    {
     "name": "stdout",
     "output_type": "stream",
     "text": [
      "MSTF | \t return: 0.11 % \t volatility: 2.11 %\n"
     ]
    }
   ],
   "source": [
    "print(f\"MSTF | \\t return: {'%.2f' % mean} % \\t volatility: {'%.2f' % vol} %\")"
   ]
  },
  {
   "cell_type": "code",
   "execution_count": 19,
   "id": "df63be27-17df-4f86-bae1-eb0efeb791d4",
   "metadata": {},
   "outputs": [
    {
     "name": "stdout",
     "output_type": "stream",
     "text": [
      "Annual mean: 28.69 %\n"
     ]
    }
   ],
   "source": [
    "annual_mean = mean * 252 # 252 is the number of days the market is open\n",
    "print(f\"Annual mean: {'%.2f' % annual_mean} %\")"
   ]
  },
  {
   "cell_type": "code",
   "execution_count": 18,
   "id": "118daf78-e587-4fdb-bd2f-5de5476e82c4",
   "metadata": {},
   "outputs": [
    {
     "name": "stdout",
     "output_type": "stream",
     "text": [
      "Yearly volatility: 33.46 %\n"
     ]
    }
   ],
   "source": [
    "# annualization of the mean return\n",
    "annual_std = vol * np.sqrt(252)\n",
    "print(f\"Yearly volatility: {'%.2f' % annual_std} %\")"
   ]
  },
  {
   "cell_type": "markdown",
   "id": "49987cca-560c-46d2-89b1-207479aacd21",
   "metadata": {},
   "source": [
    "Exercise 2: Compute the covariance and the correlation matrix for the following assets: ['AMZN', 'MSFT', 'GOOG', 'EURUSD=X', 'BTC-USD']"
   ]
  },
  {
   "cell_type": "code",
   "execution_count": null,
   "id": "91c564ad-6f16-4691-bba9-aa7dd2e7ac81",
   "metadata": {},
   "outputs": [],
   "source": []
  }
 ],
 "metadata": {
  "kernelspec": {
   "display_name": "Python 3 (ipykernel)",
   "language": "python",
   "name": "python3"
  },
  "language_info": {
   "codemirror_mode": {
    "name": "ipython",
    "version": 3
   },
   "file_extension": ".py",
   "mimetype": "text/x-python",
   "name": "python",
   "nbconvert_exporter": "python",
   "pygments_lexer": "ipython3",
   "version": "3.12.4"
  }
 },
 "nbformat": 4,
 "nbformat_minor": 5
}
