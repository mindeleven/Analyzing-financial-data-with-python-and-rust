{
 "cells": [
  {
   "cell_type": "markdown",
   "id": "00bbe5f6-2593-4030-9b01-77a81056c7d1",
   "metadata": {},
   "source": [
    "# Excercise: Compute Risk/Return Correlation Asset Properly"
   ]
  },
  {
   "cell_type": "markdown",
   "id": "80e1d75b-e8f1-4c1d-9dca-d9ec0a4b73c8",
   "metadata": {},
   "source": [
    "Excercise 1: Compute the annualized risk return couple for Microsoft Stock price (Yahoo symbol MFST). Don't forget to use the variations price. \n",
    "\n",
    "- The risk is the volatility\n",
    "- The return is the mean of the return\n",
    "- You need to compute the annualized standard deviation as the volatility and the risk"
   ]
  },
  {
   "cell_type": "code",
   "execution_count": null,
   "id": "16f81cfc-c46d-4232-8112-cf60e156879e",
   "metadata": {},
   "outputs": [],
   "source": []
  },
  {
   "cell_type": "markdown",
   "id": "49987cca-560c-46d2-89b1-207479aacd21",
   "metadata": {},
   "source": [
    "Exercise 2: Compute the covariance and the correlation matrix for the following assets: ['AMZN', 'MSFT', 'GOOG', 'EURUSD=X', 'BTC-USD']"
   ]
  },
  {
   "cell_type": "code",
   "execution_count": null,
   "id": "91c564ad-6f16-4691-bba9-aa7dd2e7ac81",
   "metadata": {},
   "outputs": [],
   "source": []
  }
 ],
 "metadata": {
  "kernelspec": {
   "display_name": "Python 3 (ipykernel)",
   "language": "python",
   "name": "python3"
  },
  "language_info": {
   "codemirror_mode": {
    "name": "ipython",
    "version": 3
   },
   "file_extension": ".py",
   "mimetype": "text/x-python",
   "name": "python",
   "nbconvert_exporter": "python",
   "pygments_lexer": "ipython3",
   "version": "3.12.4"
  }
 },
 "nbformat": 4,
 "nbformat_minor": 5
}
