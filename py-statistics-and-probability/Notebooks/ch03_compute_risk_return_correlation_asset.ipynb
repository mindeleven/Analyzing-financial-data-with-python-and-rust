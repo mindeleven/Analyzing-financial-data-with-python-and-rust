{
 "cells": [
  {
   "cell_type": "markdown",
   "id": "00bbe5f6-2593-4030-9b01-77a81056c7d1",
   "metadata": {},
   "source": [
    "# Excercise: Compute Risk/Return Correlation Asset Properly"
   ]
  },
  {
   "cell_type": "markdown",
   "id": "80e1d75b-e8f1-4c1d-9dca-d9ec0a4b73c8",
   "metadata": {},
   "source": [
    "Excercise 1: Compute the annualized risk return couple for Microsoft Stock price (Yahoo symbol MFST). Don't forget to use the variations price. \n",
    "\n",
    "- The risk is the volatility\n",
    "- The return is the mean of the return\n",
    "- You need to compute the annualized standard deviation as the volatility and the risk"
   ]
  },
  {
   "cell_type": "code",
   "execution_count": 1,
   "id": "09289ce0-cffb-4da6-ac83-783d948dd010",
   "metadata": {},
   "outputs": [],
   "source": [
    "import yfinance as yf\n",
    "import numpy as np\n",
    "import pandas as pd"
   ]
  },
  {
   "cell_type": "code",
   "execution_count": 2,
   "id": "16f81cfc-c46d-4232-8112-cf60e156879e",
   "metadata": {},
   "outputs": [
    {
     "name": "stderr",
     "output_type": "stream",
     "text": [
      "[*********************100%***********************]  1 of 1 completed\n"
     ]
    }
   ],
   "source": [
    "# import the prices\n",
    "df = yf.download(\"MSFT\")[\"Adj Close\"].pct_change(1).dropna()"
   ]
  },
  {
   "cell_type": "code",
   "execution_count": 3,
   "id": "9578b587-3fc8-494c-bb9d-49e2c7a3cf53",
   "metadata": {},
   "outputs": [],
   "source": [
    "# compute risk return\n",
    "mean = np.mean(df, axis=0) * 100 # mean\n",
    "vol = np.std(df, axis=0) * 100 # standard deviation"
   ]
  },
  {
   "cell_type": "code",
   "execution_count": 4,
   "id": "9e7aa27c-7cff-4e34-a1d9-eaaed3ce84f6",
   "metadata": {},
   "outputs": [
    {
     "name": "stdout",
     "output_type": "stream",
     "text": [
      "MSTF | \t return: 0.11 % \t volatility: 2.11 %\n"
     ]
    }
   ],
   "source": [
    "print(f\"MSTF | \\t return: {'%.2f' % mean} % \\t volatility: {'%.2f' % vol} %\")"
   ]
  },
  {
   "cell_type": "code",
   "execution_count": 5,
   "id": "df63be27-17df-4f86-bae1-eb0efeb791d4",
   "metadata": {},
   "outputs": [
    {
     "name": "stdout",
     "output_type": "stream",
     "text": [
      "Annual mean: 28.69 %\n"
     ]
    }
   ],
   "source": [
    "annual_mean = mean * 252 # 252 is the number of days the market is open\n",
    "print(f\"Annual mean: {'%.2f' % annual_mean} %\")"
   ]
  },
  {
   "cell_type": "code",
   "execution_count": 6,
   "id": "118daf78-e587-4fdb-bd2f-5de5476e82c4",
   "metadata": {},
   "outputs": [
    {
     "name": "stdout",
     "output_type": "stream",
     "text": [
      "Yearly volatility: 33.46 %\n"
     ]
    }
   ],
   "source": [
    "# annualization of the mean return\n",
    "annual_std = vol * np.sqrt(252)\n",
    "print(f\"Yearly volatility: {'%.2f' % annual_std} %\")"
   ]
  },
  {
   "cell_type": "markdown",
   "id": "49987cca-560c-46d2-89b1-207479aacd21",
   "metadata": {},
   "source": [
    "Exercise 2: Compute the covariance and the correlation matrix for the following assets: ['AMZN', 'MSFT', 'GOOG', 'EURUSD=X', 'BTC-USD']"
   ]
  },
  {
   "cell_type": "code",
   "execution_count": 7,
   "id": "91c564ad-6f16-4691-bba9-aa7dd2e7ac81",
   "metadata": {},
   "outputs": [
    {
     "name": "stderr",
     "output_type": "stream",
     "text": [
      "[*********************100%***********************]  5 of 5 completed\n"
     ]
    },
    {
     "data": {
      "text/html": [
       "<div>\n",
       "<style scoped>\n",
       "    .dataframe tbody tr th:only-of-type {\n",
       "        vertical-align: middle;\n",
       "    }\n",
       "\n",
       "    .dataframe tbody tr th {\n",
       "        vertical-align: top;\n",
       "    }\n",
       "\n",
       "    .dataframe thead th {\n",
       "        text-align: right;\n",
       "    }\n",
       "</style>\n",
       "<table border=\"1\" class=\"dataframe\">\n",
       "  <thead>\n",
       "    <tr style=\"text-align: right;\">\n",
       "      <th>Ticker</th>\n",
       "      <th>AMZN</th>\n",
       "      <th>BTC-USD</th>\n",
       "      <th>EURUSD=X</th>\n",
       "      <th>GOOG</th>\n",
       "      <th>MSFT</th>\n",
       "    </tr>\n",
       "    <tr>\n",
       "      <th>Date</th>\n",
       "      <th></th>\n",
       "      <th></th>\n",
       "      <th></th>\n",
       "      <th></th>\n",
       "      <th></th>\n",
       "    </tr>\n",
       "  </thead>\n",
       "  <tbody>\n",
       "    <tr>\n",
       "      <th>2014-09-18 00:00:00+00:00</th>\n",
       "      <td>0.003086</td>\n",
       "      <td>-0.071926</td>\n",
       "      <td>-0.008417</td>\n",
       "      <td>0.007695</td>\n",
       "      <td>0.003439</td>\n",
       "    </tr>\n",
       "    <tr>\n",
       "      <th>2014-09-19 00:00:00+00:00</th>\n",
       "      <td>0.019446</td>\n",
       "      <td>-0.069843</td>\n",
       "      <td>0.005452</td>\n",
       "      <td>0.011557</td>\n",
       "      <td>0.017995</td>\n",
       "    </tr>\n",
       "    <tr>\n",
       "      <th>2014-09-22 00:00:00+00:00</th>\n",
       "      <td>-0.020584</td>\n",
       "      <td>0.018632</td>\n",
       "      <td>-0.006087</td>\n",
       "      <td>-0.014612</td>\n",
       "      <td>-0.009680</td>\n",
       "    </tr>\n",
       "    <tr>\n",
       "      <th>2014-09-23 00:00:00+00:00</th>\n",
       "      <td>-0.002681</td>\n",
       "      <td>0.083647</td>\n",
       "      <td>0.000784</td>\n",
       "      <td>-0.010624</td>\n",
       "      <td>-0.010625</td>\n",
       "    </tr>\n",
       "    <tr>\n",
       "      <th>2014-09-24 00:00:00+00:00</th>\n",
       "      <td>0.014152</td>\n",
       "      <td>-0.028881</td>\n",
       "      <td>0.000193</td>\n",
       "      <td>0.011805</td>\n",
       "      <td>0.011168</td>\n",
       "    </tr>\n",
       "    <tr>\n",
       "      <th>...</th>\n",
       "      <td>...</td>\n",
       "      <td>...</td>\n",
       "      <td>...</td>\n",
       "      <td>...</td>\n",
       "      <td>...</td>\n",
       "    </tr>\n",
       "    <tr>\n",
       "      <th>2024-09-06 00:00:00+00:00</th>\n",
       "      <td>-0.036539</td>\n",
       "      <td>-0.039382</td>\n",
       "      <td>0.002767</td>\n",
       "      <td>-0.040794</td>\n",
       "      <td>-0.016381</td>\n",
       "    </tr>\n",
       "    <tr>\n",
       "      <th>2024-09-09 00:00:00+00:00</th>\n",
       "      <td>0.023397</td>\n",
       "      <td>0.056920</td>\n",
       "      <td>-0.002151</td>\n",
       "      <td>-0.015731</td>\n",
       "      <td>0.010007</td>\n",
       "    </tr>\n",
       "    <tr>\n",
       "      <th>2024-09-10 00:00:00+00:00</th>\n",
       "      <td>0.023660</td>\n",
       "      <td>0.011034</td>\n",
       "      <td>-0.004481</td>\n",
       "      <td>0.003143</td>\n",
       "      <td>0.020901</td>\n",
       "    </tr>\n",
       "    <tr>\n",
       "      <th>2024-09-11 00:00:00+00:00</th>\n",
       "      <td>0.027680</td>\n",
       "      <td>-0.005300</td>\n",
       "      <td>-0.001499</td>\n",
       "      <td>0.014266</td>\n",
       "      <td>0.021342</td>\n",
       "    </tr>\n",
       "    <tr>\n",
       "      <th>2024-09-12 00:00:00+00:00</th>\n",
       "      <td>0.013440</td>\n",
       "      <td>0.013669</td>\n",
       "      <td>-0.000914</td>\n",
       "      <td>0.022281</td>\n",
       "      <td>0.009361</td>\n",
       "    </tr>\n",
       "  </tbody>\n",
       "</table>\n",
       "<p>2510 rows × 5 columns</p>\n",
       "</div>"
      ],
      "text/plain": [
       "Ticker                         AMZN   BTC-USD  EURUSD=X      GOOG      MSFT\n",
       "Date                                                                       \n",
       "2014-09-18 00:00:00+00:00  0.003086 -0.071926 -0.008417  0.007695  0.003439\n",
       "2014-09-19 00:00:00+00:00  0.019446 -0.069843  0.005452  0.011557  0.017995\n",
       "2014-09-22 00:00:00+00:00 -0.020584  0.018632 -0.006087 -0.014612 -0.009680\n",
       "2014-09-23 00:00:00+00:00 -0.002681  0.083647  0.000784 -0.010624 -0.010625\n",
       "2014-09-24 00:00:00+00:00  0.014152 -0.028881  0.000193  0.011805  0.011168\n",
       "...                             ...       ...       ...       ...       ...\n",
       "2024-09-06 00:00:00+00:00 -0.036539 -0.039382  0.002767 -0.040794 -0.016381\n",
       "2024-09-09 00:00:00+00:00  0.023397  0.056920 -0.002151 -0.015731  0.010007\n",
       "2024-09-10 00:00:00+00:00  0.023660  0.011034 -0.004481  0.003143  0.020901\n",
       "2024-09-11 00:00:00+00:00  0.027680 -0.005300 -0.001499  0.014266  0.021342\n",
       "2024-09-12 00:00:00+00:00  0.013440  0.013669 -0.000914  0.022281  0.009361\n",
       "\n",
       "[2510 rows x 5 columns]"
      ]
     },
     "execution_count": 7,
     "metadata": {},
     "output_type": "execute_result"
    }
   ],
   "source": [
    "df = yf.download([\"AMZN\", \"MSFT\", \"GOOG\", \"EURUSD=X\", \"BTC-USD\"])[\"Adj Close\"].dropna().pct_change(1).dropna()\n",
    "df"
   ]
  },
  {
   "cell_type": "code",
   "execution_count": 8,
   "id": "6b204af2-8a39-4c97-a305-bee050fdba73",
   "metadata": {},
   "outputs": [
    {
     "data": {
      "text/plain": [
       "array([[ 4.27227286e-04,  1.36467345e-04,  2.37316733e-06,\n",
       "         2.39277548e-04,  2.29797638e-04],\n",
       "       [ 1.36467345e-04,  1.90118106e-03, -1.50441494e-06,\n",
       "         1.20986119e-04,  1.28562887e-04],\n",
       "       [ 2.37316733e-06, -1.50441494e-06,  2.60886236e-05,\n",
       "        -5.83232365e-07, -7.72984972e-07],\n",
       "       [ 2.39277548e-04,  1.20986119e-04, -5.83232365e-07,\n",
       "         3.18956419e-04,  2.19027314e-04],\n",
       "       [ 2.29797638e-04,  1.28562887e-04, -7.72984972e-07,\n",
       "         2.19027314e-04,  2.93064962e-04]])"
      ]
     },
     "execution_count": 8,
     "metadata": {},
     "output_type": "execute_result"
    }
   ],
   "source": [
    "# computing the covariance matrix\n",
    "mat = np.cov(df, rowvar=False) # covariance with numpy\n",
    "mat"
   ]
  },
  {
   "cell_type": "code",
   "execution_count": 9,
   "id": "3b951967-6d5c-4232-9f99-578765a72dde",
   "metadata": {},
   "outputs": [
    {
     "data": {
      "text/html": [
       "<div>\n",
       "<style scoped>\n",
       "    .dataframe tbody tr th:only-of-type {\n",
       "        vertical-align: middle;\n",
       "    }\n",
       "\n",
       "    .dataframe tbody tr th {\n",
       "        vertical-align: top;\n",
       "    }\n",
       "\n",
       "    .dataframe thead th {\n",
       "        text-align: right;\n",
       "    }\n",
       "</style>\n",
       "<table border=\"1\" class=\"dataframe\">\n",
       "  <thead>\n",
       "    <tr style=\"text-align: right;\">\n",
       "      <th>Ticker</th>\n",
       "      <th>AMZN</th>\n",
       "      <th>BTC-USD</th>\n",
       "      <th>EURUSD=X</th>\n",
       "      <th>GOOG</th>\n",
       "      <th>MSFT</th>\n",
       "    </tr>\n",
       "    <tr>\n",
       "      <th>Ticker</th>\n",
       "      <th></th>\n",
       "      <th></th>\n",
       "      <th></th>\n",
       "      <th></th>\n",
       "      <th></th>\n",
       "    </tr>\n",
       "  </thead>\n",
       "  <tbody>\n",
       "    <tr>\n",
       "      <th>AMZN</th>\n",
       "      <td>0.000427</td>\n",
       "      <td>0.000136</td>\n",
       "      <td>2.373167e-06</td>\n",
       "      <td>2.392775e-04</td>\n",
       "      <td>2.297976e-04</td>\n",
       "    </tr>\n",
       "    <tr>\n",
       "      <th>BTC-USD</th>\n",
       "      <td>0.000136</td>\n",
       "      <td>0.001901</td>\n",
       "      <td>-1.504415e-06</td>\n",
       "      <td>1.209861e-04</td>\n",
       "      <td>1.285629e-04</td>\n",
       "    </tr>\n",
       "    <tr>\n",
       "      <th>EURUSD=X</th>\n",
       "      <td>0.000002</td>\n",
       "      <td>-0.000002</td>\n",
       "      <td>2.608862e-05</td>\n",
       "      <td>-5.832324e-07</td>\n",
       "      <td>-7.729850e-07</td>\n",
       "    </tr>\n",
       "    <tr>\n",
       "      <th>GOOG</th>\n",
       "      <td>0.000239</td>\n",
       "      <td>0.000121</td>\n",
       "      <td>-5.832324e-07</td>\n",
       "      <td>3.189564e-04</td>\n",
       "      <td>2.190273e-04</td>\n",
       "    </tr>\n",
       "    <tr>\n",
       "      <th>MSFT</th>\n",
       "      <td>0.000230</td>\n",
       "      <td>0.000129</td>\n",
       "      <td>-7.729850e-07</td>\n",
       "      <td>2.190273e-04</td>\n",
       "      <td>2.930650e-04</td>\n",
       "    </tr>\n",
       "  </tbody>\n",
       "</table>\n",
       "</div>"
      ],
      "text/plain": [
       "Ticker        AMZN   BTC-USD      EURUSD=X          GOOG          MSFT\n",
       "Ticker                                                                \n",
       "AMZN      0.000427  0.000136  2.373167e-06  2.392775e-04  2.297976e-04\n",
       "BTC-USD   0.000136  0.001901 -1.504415e-06  1.209861e-04  1.285629e-04\n",
       "EURUSD=X  0.000002 -0.000002  2.608862e-05 -5.832324e-07 -7.729850e-07\n",
       "GOOG      0.000239  0.000121 -5.832324e-07  3.189564e-04  2.190273e-04\n",
       "MSFT      0.000230  0.000129 -7.729850e-07  2.190273e-04  2.930650e-04"
      ]
     },
     "execution_count": 9,
     "metadata": {},
     "output_type": "execute_result"
    }
   ],
   "source": [
    "pd.DataFrame(mat, columns=df.columns, index=df.columns) # putting in data frame for better visualization"
   ]
  },
  {
   "cell_type": "code",
   "execution_count": 10,
   "id": "4d32b167-3980-4f97-9f98-742e2ff3b2f3",
   "metadata": {},
   "outputs": [
    {
     "name": "stderr",
     "output_type": "stream",
     "text": [
      "[*********************100%***********************]  5 of 5 completed\n"
     ]
    },
    {
     "data": {
      "text/html": [
       "<div>\n",
       "<style scoped>\n",
       "    .dataframe tbody tr th:only-of-type {\n",
       "        vertical-align: middle;\n",
       "    }\n",
       "\n",
       "    .dataframe tbody tr th {\n",
       "        vertical-align: top;\n",
       "    }\n",
       "\n",
       "    .dataframe thead th {\n",
       "        text-align: right;\n",
       "    }\n",
       "</style>\n",
       "<table border=\"1\" class=\"dataframe\">\n",
       "  <thead>\n",
       "    <tr style=\"text-align: right;\">\n",
       "      <th>Ticker</th>\n",
       "      <th>AMZN</th>\n",
       "      <th>BTC-USD</th>\n",
       "      <th>EURUSD=X</th>\n",
       "      <th>GOOG</th>\n",
       "      <th>MSFT</th>\n",
       "    </tr>\n",
       "    <tr>\n",
       "      <th>Ticker</th>\n",
       "      <th></th>\n",
       "      <th></th>\n",
       "      <th></th>\n",
       "      <th></th>\n",
       "      <th></th>\n",
       "    </tr>\n",
       "  </thead>\n",
       "  <tbody>\n",
       "    <tr>\n",
       "      <th>AMZN</th>\n",
       "      <td>0.000427</td>\n",
       "      <td>0.000136</td>\n",
       "      <td>2.373167e-06</td>\n",
       "      <td>2.392776e-04</td>\n",
       "      <td>2.297976e-04</td>\n",
       "    </tr>\n",
       "    <tr>\n",
       "      <th>BTC-USD</th>\n",
       "      <td>0.000136</td>\n",
       "      <td>0.001901</td>\n",
       "      <td>-1.504415e-06</td>\n",
       "      <td>1.209861e-04</td>\n",
       "      <td>1.285629e-04</td>\n",
       "    </tr>\n",
       "    <tr>\n",
       "      <th>EURUSD=X</th>\n",
       "      <td>0.000002</td>\n",
       "      <td>-0.000002</td>\n",
       "      <td>2.608862e-05</td>\n",
       "      <td>-5.832311e-07</td>\n",
       "      <td>-7.729850e-07</td>\n",
       "    </tr>\n",
       "    <tr>\n",
       "      <th>GOOG</th>\n",
       "      <td>0.000239</td>\n",
       "      <td>0.000121</td>\n",
       "      <td>-5.832311e-07</td>\n",
       "      <td>3.189565e-04</td>\n",
       "      <td>2.190273e-04</td>\n",
       "    </tr>\n",
       "    <tr>\n",
       "      <th>MSFT</th>\n",
       "      <td>0.000230</td>\n",
       "      <td>0.000129</td>\n",
       "      <td>-7.729850e-07</td>\n",
       "      <td>2.190273e-04</td>\n",
       "      <td>2.930650e-04</td>\n",
       "    </tr>\n",
       "  </tbody>\n",
       "</table>\n",
       "</div>"
      ],
      "text/plain": [
       "Ticker        AMZN   BTC-USD      EURUSD=X          GOOG          MSFT\n",
       "Ticker                                                                \n",
       "AMZN      0.000427  0.000136  2.373167e-06  2.392776e-04  2.297976e-04\n",
       "BTC-USD   0.000136  0.001901 -1.504415e-06  1.209861e-04  1.285629e-04\n",
       "EURUSD=X  0.000002 -0.000002  2.608862e-05 -5.832311e-07 -7.729850e-07\n",
       "GOOG      0.000239  0.000121 -5.832311e-07  3.189565e-04  2.190273e-04\n",
       "MSFT      0.000230  0.000129 -7.729850e-07  2.190273e-04  2.930650e-04"
      ]
     },
     "execution_count": 10,
     "metadata": {},
     "output_type": "execute_result"
    }
   ],
   "source": [
    "df_pd = yf.download([\"AMZN\", \"MSFT\", \"GOOG\", \"EURUSD=X\", \"BTC-USD\"])[\"Adj Close\"].dropna().pct_change(1).dropna()\n",
    "df_pd.cov() # covariance with pandas"
   ]
  },
  {
   "cell_type": "code",
   "execution_count": 11,
   "id": "0414d744-00ed-4d5a-933d-bc49a67ce16c",
   "metadata": {},
   "outputs": [
    {
     "data": {
      "text/html": [
       "<div>\n",
       "<style scoped>\n",
       "    .dataframe tbody tr th:only-of-type {\n",
       "        vertical-align: middle;\n",
       "    }\n",
       "\n",
       "    .dataframe tbody tr th {\n",
       "        vertical-align: top;\n",
       "    }\n",
       "\n",
       "    .dataframe thead th {\n",
       "        text-align: right;\n",
       "    }\n",
       "</style>\n",
       "<table border=\"1\" class=\"dataframe\">\n",
       "  <thead>\n",
       "    <tr style=\"text-align: right;\">\n",
       "      <th>Ticker</th>\n",
       "      <th>AMZN</th>\n",
       "      <th>BTC-USD</th>\n",
       "      <th>EURUSD=X</th>\n",
       "      <th>GOOG</th>\n",
       "      <th>MSFT</th>\n",
       "    </tr>\n",
       "    <tr>\n",
       "      <th>Ticker</th>\n",
       "      <th></th>\n",
       "      <th></th>\n",
       "      <th></th>\n",
       "      <th></th>\n",
       "      <th></th>\n",
       "    </tr>\n",
       "  </thead>\n",
       "  <tbody>\n",
       "    <tr>\n",
       "      <th>AMZN</th>\n",
       "      <td>1.000000</td>\n",
       "      <td>0.151421</td>\n",
       "      <td>0.022479</td>\n",
       "      <td>0.648197</td>\n",
       "      <td>0.649433</td>\n",
       "    </tr>\n",
       "    <tr>\n",
       "      <th>BTC-USD</th>\n",
       "      <td>0.151421</td>\n",
       "      <td>1.000000</td>\n",
       "      <td>-0.006755</td>\n",
       "      <td>0.155367</td>\n",
       "      <td>0.172235</td>\n",
       "    </tr>\n",
       "    <tr>\n",
       "      <th>EURUSD=X</th>\n",
       "      <td>0.022479</td>\n",
       "      <td>-0.006755</td>\n",
       "      <td>1.000000</td>\n",
       "      <td>-0.006394</td>\n",
       "      <td>-0.008840</td>\n",
       "    </tr>\n",
       "    <tr>\n",
       "      <th>GOOG</th>\n",
       "      <td>0.648197</td>\n",
       "      <td>0.155367</td>\n",
       "      <td>-0.006394</td>\n",
       "      <td>1.000000</td>\n",
       "      <td>0.716392</td>\n",
       "    </tr>\n",
       "    <tr>\n",
       "      <th>MSFT</th>\n",
       "      <td>0.649433</td>\n",
       "      <td>0.172235</td>\n",
       "      <td>-0.008840</td>\n",
       "      <td>0.716392</td>\n",
       "      <td>1.000000</td>\n",
       "    </tr>\n",
       "  </tbody>\n",
       "</table>\n",
       "</div>"
      ],
      "text/plain": [
       "Ticker        AMZN   BTC-USD  EURUSD=X      GOOG      MSFT\n",
       "Ticker                                                    \n",
       "AMZN      1.000000  0.151421  0.022479  0.648197  0.649433\n",
       "BTC-USD   0.151421  1.000000 -0.006755  0.155367  0.172235\n",
       "EURUSD=X  0.022479 -0.006755  1.000000 -0.006394 -0.008840\n",
       "GOOG      0.648197  0.155367 -0.006394  1.000000  0.716392\n",
       "MSFT      0.649433  0.172235 -0.008840  0.716392  1.000000"
      ]
     },
     "execution_count": 11,
     "metadata": {},
     "output_type": "execute_result"
    }
   ],
   "source": [
    "df_pd.corr() # correlation with pandas"
   ]
  },
  {
   "cell_type": "code",
   "execution_count": null,
   "id": "0a444c78-3b99-444e-a3cf-94ff2c1df868",
   "metadata": {},
   "outputs": [],
   "source": []
  }
 ],
 "metadata": {
  "kernelspec": {
   "display_name": "Python 3 (ipykernel)",
   "language": "python",
   "name": "python3"
  },
  "language_info": {
   "codemirror_mode": {
    "name": "ipython",
    "version": 3
   },
   "file_extension": ".py",
   "mimetype": "text/x-python",
   "name": "python",
   "nbconvert_exporter": "python",
   "pygments_lexer": "ipython3",
   "version": "3.12.4"
  }
 },
 "nbformat": 4,
 "nbformat_minor": 5
}
