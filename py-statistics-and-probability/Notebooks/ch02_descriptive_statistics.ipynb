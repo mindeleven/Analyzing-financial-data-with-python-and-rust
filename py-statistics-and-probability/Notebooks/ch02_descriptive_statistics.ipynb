{
 "cells": [
  {
   "cell_type": "markdown",
   "id": "0e1e9eee",
   "metadata": {},
   "source": [
    "# Descriptive Statistics"
   ]
  },
  {
   "cell_type": "markdown",
   "id": "eff8ae63",
   "metadata": {},
   "source": [
    "Descriptive statistics describe, and summarize the features of a dataset found in a given study, presented in a summary that describes the data sample and measurements."
   ]
  },
  {
   "cell_type": "markdown",
   "id": "a2b8d62f",
   "metadata": {},
   "source": [
    "## yfinance Basic Usage"
   ]
  },
  {
   "cell_type": "code",
   "execution_count": 36,
   "id": "6a80a23a",
   "metadata": {},
   "outputs": [],
   "source": [
    "import yfinance as yf"
   ]
  },
  {
   "cell_type": "code",
   "execution_count": 37,
   "id": "96954b82-fe0c-4423-80aa-933f44448f9b",
   "metadata": {},
   "outputs": [
    {
     "data": {
      "text/plain": [
       "'Apple Inc. designs, manufactures, and markets smartphones, personal computers, tablets, wearables, and accessories worldwide. The company offers iPhone, a line of smartphones; Mac, a line of personal computers; iPad, a line of multi-purpose tablets; and wearables, home, and accessories comprising AirPods, Apple TV, Apple Watch, Beats products, and HomePod. It also provides AppleCare support and cloud services; and operates various platforms, including the App Store that allow customers to discover and download applications and digital content, such as books, music, video, games, and podcasts. In addition, the company offers various services, such as Apple Arcade, a game subscription service; Apple Fitness+, a personalized fitness service; Apple Music, which offers users a curated listening experience with on-demand radio stations; Apple News+, a subscription news and magazine service; Apple TV+, which offers exclusive original content; Apple Card, a co-branded credit card; and Apple Pay, a cashless payment service, as well as licenses its intellectual property. The company serves consumers, and small and mid-sized businesses; and the education, enterprise, and government markets. It distributes third-party applications for its products through the App Store. The company also sells its products through its retail and online stores, and direct sales force; and third-party cellular network carriers, wholesalers, retailers, and resellers. Apple Inc. was founded in 1976 and is headquartered in Cupertino, California.'"
      ]
     },
     "execution_count": 37,
     "metadata": {},
     "output_type": "execute_result"
    }
   ],
   "source": [
    "# Create a Ticker object for Apple (AAPL)\n",
    "ticker_aapl = yf.Ticker(\"AAPL\")\n",
    "# Get general information about Apple\n",
    "# print(ticker_aapl.info)\n",
    "# ticker_aapl.info['address1'] # print addressline 1\n",
    "ticker_aapl.info['longBusinessSummary'] # print longBusinessSummary"
   ]
  },
  {
   "cell_type": "code",
   "execution_count": 38,
   "id": "01a70690-243b-4f04-9259-e79a34078d6b",
   "metadata": {},
   "outputs": [
    {
     "name": "stdout",
     "output_type": "stream",
     "text": [
      "                                 Open        High         Low       Close  \\\n",
      "Date                                                                        \n",
      "2023-09-13 00:00:00-04:00  175.611353  176.397339  173.094234  173.323074   \n",
      "2023-09-14 00:00:00-04:00  173.114174  175.203490  172.696314  174.845322   \n",
      "2023-09-15 00:00:00-04:00  175.581521  175.601423  172.935074  174.119003   \n",
      "2023-09-18 00:00:00-04:00  175.581530  178.466775  175.273110  177.063950   \n",
      "2023-09-19 00:00:00-04:00  176.616244  178.715502  176.228230  178.158356   \n",
      "\n",
      "                              Volume  Dividends  Stock Splits  \n",
      "Date                                                           \n",
      "2023-09-13 00:00:00-04:00   84267900        0.0           0.0  \n",
      "2023-09-14 00:00:00-04:00   60895800        0.0           0.0  \n",
      "2023-09-15 00:00:00-04:00  109205100        0.0           0.0  \n",
      "2023-09-18 00:00:00-04:00   67257600        0.0           0.0  \n",
      "2023-09-19 00:00:00-04:00   51826900        0.0           0.0  \n"
     ]
    }
   ],
   "source": [
    "# Download historical market data for the past year\n",
    "data_aapl_1y = ticker_aapl.history(period=\"1y\")\n",
    "print(data_aapl_1y.head())"
   ]
  },
  {
   "cell_type": "markdown",
   "id": "348a8f0f-78cf-443a-b987-54a64fdc2723",
   "metadata": {},
   "source": [
    "## Google Stock Price sample example"
   ]
  },
  {
   "cell_type": "code",
   "execution_count": 39,
   "id": "468e79c4-0c57-47b3-b3aa-f233b39e812b",
   "metadata": {},
   "outputs": [],
   "source": [
    "import numpy as np\n",
    "import pandas as pd\n",
    "from scipy.stats import skew, kurtosis"
   ]
  },
  {
   "cell_type": "code",
   "execution_count": 40,
   "id": "31823bb5-9ae9-46af-8c38-fd37b07de845",
   "metadata": {},
   "outputs": [
    {
     "name": "stderr",
     "output_type": "stream",
     "text": [
      "[*********************100%***********************]  1 of 1 completed"
     ]
    },
    {
     "name": "stdout",
     "output_type": "stream",
     "text": [
      "                Open      High       Low     Close  Adj Close     Volume\n",
      "Date                                                                    \n",
      "2004-08-19  2.490664  2.591785  2.390042  2.499133   2.493011  897427216\n",
      "2004-08-20  2.515820  2.716817  2.503118  2.697639   2.691030  458857488\n",
      "2004-08-23  2.758411  2.826406  2.716070  2.724787   2.718112  366857939\n",
      "2004-08-24  2.770615  2.779581  2.579581  2.611960   2.605561  306396159\n",
      "2004-08-25  2.614201  2.689918  2.587302  2.640104   2.633636  184645512\n"
     ]
    },
    {
     "name": "stderr",
     "output_type": "stream",
     "text": [
      "\n"
     ]
    }
   ],
   "source": [
    "# let's import some data\n",
    "df = yf.download(\"GOOG\")\n",
    "print(df.head()) # let's see what he have in here"
   ]
  },
  {
   "cell_type": "code",
   "execution_count": 41,
   "id": "c3042244-4f4d-4c05-8622-ee9ca32f5825",
   "metadata": {},
   "outputs": [
    {
     "name": "stderr",
     "output_type": "stream",
     "text": [
      "[*********************100%***********************]  1 of 1 completed\n"
     ]
    },
    {
     "data": {
      "text/plain": [
       "Date\n",
       "2004-08-19    2.493011\n",
       "2004-08-20    2.691030\n",
       "2004-08-23    2.718112\n",
       "2004-08-24    2.605561\n",
       "2004-08-25    2.633636\n",
       "Name: Adj Close, dtype: float64"
      ]
     },
     "execution_count": 41,
     "metadata": {},
     "output_type": "execute_result"
    }
   ],
   "source": [
    "# let's say we only want the Adjusted Close\n",
    "# The adjusted closing price amends a stock's closing price to reflect that stock's value after accounting for any corporate actions\n",
    "# The closing price is the raw price, which is just the cash value of the last transacted price before the market closes (investopedia.com)\n",
    "df_close = yf.download(\"GOOG\")[\"Adj Close\"]\n",
    "df_close.head()"
   ]
  },
  {
   "cell_type": "code",
   "execution_count": 42,
   "id": "09925f92-e93e-4c6f-b2b7-50d1cf3152da",
   "metadata": {},
   "outputs": [
    {
     "name": "stderr",
     "output_type": "stream",
     "text": [
      "[*********************100%***********************]  1 of 1 completed\n"
     ]
    },
    {
     "data": {
      "text/plain": [
       "Date\n",
       "2004-08-20    0.079430\n",
       "2004-08-23    0.010064\n",
       "2004-08-24   -0.041408\n",
       "2004-08-25    0.010775\n",
       "2004-08-26    0.018019\n",
       "                ...   \n",
       "2024-09-06   -0.040794\n",
       "2024-09-09   -0.015731\n",
       "2024-09-10    0.003143\n",
       "2024-09-11    0.014266\n",
       "2024-09-12    0.022281\n",
       "Name: Adj Close, Length: 5050, dtype: float64"
      ]
     },
     "execution_count": 42,
     "metadata": {},
     "output_type": "execute_result"
    }
   ],
   "source": [
    "# same thing with taking only the variation\n",
    "# computing the variation with pct_change(1)\n",
    "# plus dropping missing values with dropna()\n",
    "df_close_pct = yf.download(\"GOOG\")[\"Adj Close\"].pct_change(1).dropna() # different assets are put on same scale\n",
    "df_close_pct"
   ]
  },
  {
   "cell_type": "code",
   "execution_count": 43,
   "id": "d5a7093e-5f8d-442a-907c-73d8907889b5",
   "metadata": {},
   "outputs": [
    {
     "data": {
      "text/plain": [
       "Date\n",
       "2004-08-20    0.079430\n",
       "2004-08-23    0.010064\n",
       "2004-08-24   -0.041408\n",
       "2004-08-25    0.010775\n",
       "2004-08-26    0.018019\n",
       "Name: Adj Close, dtype: float64"
      ]
     },
     "execution_count": 43,
     "metadata": {},
     "output_type": "execute_result"
    }
   ],
   "source": [
    "df_close_pct.head()"
   ]
  },
  {
   "cell_type": "markdown",
   "id": "684c5394-9d11-4057-987f-5c433101c09c",
   "metadata": {},
   "source": [
    "## Central Tendency Measure"
   ]
  },
  {
   "cell_type": "markdown",
   "id": "f229215b-373a-4633-a4f8-340c0ef025fa",
   "metadata": {},
   "source": [
    "### Mean"
   ]
  },
  {
   "cell_type": "markdown",
   "id": "9bde91b4-c046-482f-9bd3-65a354d5e29d",
   "metadata": {},
   "source": [
    "The mean (average) of a data set is found by adding all numbers in the data set and then dividing by the number of values in the set."
   ]
  },
  {
   "cell_type": "code",
   "execution_count": 44,
   "id": "245c0e4b-7539-47b3-9856-1a6bd0bc1976",
   "metadata": {},
   "outputs": [
    {
     "name": "stdout",
     "output_type": "stream",
     "text": [
      "Daily mean: 0.10 %\n"
     ]
    }
   ],
   "source": [
    "# mean with numpy, working with df_close_pct from above\n",
    "# axis specifies in which way you want to do the mean; only necessary if more than on column\n",
    "# axis=0 -> we want to do the mean on the row of this dataframe\n",
    "mean = np.mean(df_close_pct, axis=0) * 100 # multiplying by 100 to have the value in percentage\n",
    "print(f\"Daily mean: {'%.2f' % mean} %\")"
   ]
  },
  {
   "cell_type": "code",
   "execution_count": 45,
   "id": "8c0b6bb1-b3a3-4557-9c24-675c6ca03c0e",
   "metadata": {},
   "outputs": [
    {
     "name": "stdout",
     "output_type": "stream",
     "text": [
      "Annual mean: 25.30 %\n"
     ]
    }
   ],
   "source": [
    "# annualization of the mean return\n",
    "annual_mean = mean * 252 # 252 is the number of days the market is open\n",
    "print(f\"Annual mean: {'%.2f' % annual_mean} %\")"
   ]
  },
  {
   "cell_type": "code",
   "execution_count": 46,
   "id": "e11a64f2-7701-4d54-9328-596bdb25f80d",
   "metadata": {},
   "outputs": [
    {
     "name": "stdout",
     "output_type": "stream",
     "text": [
      "Monthly mean: 2.11 %\n"
     ]
    }
   ],
   "source": [
    "# day mean return -> monthly mean return\n",
    "monthly_mean = mean * 21 # 21 or 20 is the number of days the market is open per month\n",
    "print(f\"Monthly mean: {'%.2f' % monthly_mean} %\")"
   ]
  },
  {
   "cell_type": "markdown",
   "id": "e02408a1-25e9-41a3-a9fc-ddcb87de9bbc",
   "metadata": {},
   "source": [
    "### Median"
   ]
  },
  {
   "cell_type": "markdown",
   "id": "87564fdb-1e34-42cf-9864-8f8bb105c12b",
   "metadata": {},
   "source": [
    "The median is the value in the middle of a data set, meaning that 50% of data points have a value smaller or equal to the median and 50% of data points have a value higher or equal to the median. The mean can be biased if we have a lot of extreme values."
   ]
  },
  {
   "cell_type": "code",
   "execution_count": 47,
   "id": "876411c0-0147-486c-b4de-59b97ca6dd0d",
   "metadata": {},
   "outputs": [
    {
     "name": "stdout",
     "output_type": "stream",
     "text": [
      "Daily median: 0.08 %\n"
     ]
    }
   ],
   "source": [
    "# median with numpy, working with df_close_pct from above\n",
    "# axis specifies in which way you want to do the mean; only necessary if more than on column\n",
    "# axis=0 -> we want to do the mean on the row of this dataframe\n",
    "median = np.median(df_close_pct, axis=0) * 100 # multiplying by 100 to have the value in percentage\n",
    "print(f\"Daily median: {'%.2f' % median} %\") # result shows that there are more values positive than negative"
   ]
  },
  {
   "cell_type": "markdown",
   "id": "d86c14ac-367a-46d4-a916-f32fa404275d",
   "metadata": {},
   "source": [
    "### The Percentile"
   ]
  },
  {
   "cell_type": "markdown",
   "id": "181da6f8-24a3-43c2-ab5f-862fa60e0667",
   "metadata": {},
   "source": [
    "**Percentile:** a number denoting the position of a data point within a numeric dataset by indicating the percentage of the dataset with a lesser value. For example, a data point that falls at the 80th percentile has a value greater than 80 percent of the data points within the dataset. Values need to be sorted ascending."
   ]
  },
  {
   "cell_type": "code",
   "execution_count": 48,
   "id": "329a0591-d896-447b-979a-00aaff109ee3",
   "metadata": {},
   "outputs": [
    {
     "name": "stdout",
     "output_type": "stream",
     "text": [
      "Percentile 10%: -1.93 %\n"
     ]
    }
   ],
   "source": [
    "# percentile with numpy, working with df_close_pct from above\n",
    "# axis specifies in which way you want to do the mean; only necessary if more than on column\n",
    "# axis=0 -> we want to do the mean on the row of this dataframe\n",
    "# we need to specify the percentil we want -> 2nd param: percentil in decimal, 10% = 0.1\n",
    "percentile_10 = np.quantile(df_close_pct, 0.1, axis=0) * 100 # multiplying by 100 to have the value in percentage\n",
    "print(f\"Percentile 10%: {'%.2f' % percentile_10} %\") # result shows that there are more values positive than negative"
   ]
  },
  {
   "cell_type": "code",
   "execution_count": 49,
   "id": "fac3cf14-e022-4e86-8eda-99683b56b9c8",
   "metadata": {},
   "outputs": [
    {
     "name": "stdout",
     "output_type": "stream",
     "text": [
      "Percentile 50%: 0.08 %\n"
     ]
    }
   ],
   "source": [
    "percentile_50 = np.quantile(df_close_pct, 0.5, axis=0) * 100 # multiplying by 100 to have the value in percentage\n",
    "print(f\"Percentile 50%: {'%.2f' % percentile_50} %\") # result shows that there are more values positive than negative"
   ]
  },
  {
   "cell_type": "code",
   "execution_count": 50,
   "id": "6a760a0d-dbfa-49a9-862a-bf53b2e4b0fc",
   "metadata": {},
   "outputs": [
    {
     "name": "stdout",
     "output_type": "stream",
     "text": [
      "Percentile 99%: 5.70 %\n"
     ]
    }
   ],
   "source": [
    "percentile_99 = np.quantile(df_close_pct, 0.99, axis=0) * 100 # multiplying by 100 to have the value in percentage\n",
    "print(f\"Percentile 99%: {'%.2f' % percentile_99} %\") # result shows that there are more values positive than negative"
   ]
  },
  {
   "cell_type": "markdown",
   "id": "b024ae3e-0190-416d-8cc6-f410abc49113",
   "metadata": {},
   "source": [
    "## Standard Dispersion Measurement"
   ]
  },
  {
   "cell_type": "markdown",
   "id": "ff3ce403-47d7-4a1a-aade-1490d3b49f24",
   "metadata": {},
   "source": [
    "### Variance"
   ]
  },
  {
   "cell_type": "markdown",
   "id": "84c29754-df5c-4c0f-b83c-39a126ea5621",
   "metadata": {},
   "source": [
    "The variance is a dispersion metric. The higher the variance, the more the values are dispersed around the mean. If you have a high variance you will have a risky strategy. If you have for example a strategy with a return of 10% per year and a variance close to zero then you have a vera good strategy.\n",
    "\n",
    "- Variance is a measure of dispersion, meaning it is a measure of how far a set of numbers is spread out from their average value (Wikipedia).\n",
    "\n",
    "- Variance is a measurement of the spread between numbers in a data set. Investors use the variance equation to evaluate a portfolio's asset allocation (Investopia)."
   ]
  },
  {
   "cell_type": "code",
   "execution_count": 51,
   "id": "5f0b0806-6851-4d47-9dd7-eda78d71b81f",
   "metadata": {},
   "outputs": [
    {
     "name": "stdout",
     "output_type": "stream",
     "text": [
      "Daily variance: 0.04 %\n"
     ]
    }
   ],
   "source": [
    "# variance with numpy\n",
    "var = np.var(df_close_pct, axis=0) * 100\n",
    "print(f\"Daily variance: {'%.2f' % var} %\")\n",
    "# the variance we get doesn't have any interpretational value"
   ]
  },
  {
   "cell_type": "markdown",
   "id": "2a309bf9-19b3-4e01-91eb-9a4b5d8bfd04",
   "metadata": {},
   "source": [
    "### Standard Deviation"
   ]
  },
  {
   "cell_type": "markdown",
   "id": "65498c79-9729-42a4-9947-f4ac4f7e24fa",
   "metadata": {},
   "source": [
    "The variance is not iterpretable. Instead the standard deviation give us iterpretable value. The standard deviation is the square root of the variance.\n",
    "\n",
    "The standard deviation of the variation of prices of an asset is its **volatility**. It is a good indicator to compute (or quantify) the risk of a strategy.\n",
    "\n",
    "- A standard deviation (or σ) is a measure of how dispersed the data is in relation to the mean. Low, or small, standard deviation indicates data are clustered tightly around the mean, and high, or large, standard deviation indicates data are more spread out (National Library of Medicine).\n",
    "\n",
    "- In statistics, the standard deviation is a measure of the amount of variation of the values of a variable about its mean. A low standard deviation indicates that the values tend to be close to the mean of the set, while a high standard deviation indicates that the values are spread out over a wider range (Wikipedia)."
   ]
  },
  {
   "cell_type": "code",
   "execution_count": 52,
   "id": "cf03c545-0341-4320-a7a2-c6e68a22eaca",
   "metadata": {},
   "outputs": [
    {
     "name": "stdout",
     "output_type": "stream",
     "text": [
      "Daily volatility: 1.93 %\n"
     ]
    }
   ],
   "source": [
    "# standard deviation with numpy\n",
    "\n",
    "# annualization var: var_annualy = var_daily * 252 \n",
    "# annualization std: sqrt(var_annualy) = sqrt(var_daily * 252) = sqrt(var_daily) * sqrt(252)\n",
    "# and sqrt(var) = sqrt\n",
    "\n",
    "std = np.std(df_close_pct, axis=0) * 100\n",
    "print(f\"Daily volatility: {'%.2f' % std} %\")"
   ]
  },
  {
   "cell_type": "code",
   "execution_count": 53,
   "id": "51e24f8e-274f-4e51-b583-2c96ff148e10",
   "metadata": {},
   "outputs": [
    {
     "name": "stdout",
     "output_type": "stream",
     "text": [
      "Yearly volatility: 30.65 %\n"
     ]
    }
   ],
   "source": [
    "# annualization of the mean return\n",
    "annual_std = std * np.sqrt(252)\n",
    "print(f\"Yearly volatility: {'%.2f' % annual_std} %\")"
   ]
  },
  {
   "cell_type": "code",
   "execution_count": 54,
   "id": "80fca8b9-7d15-48c0-a125-275a4774c789",
   "metadata": {},
   "outputs": [
    {
     "name": "stdout",
     "output_type": "stream",
     "text": [
      "Monthly volatility: 8.85 %\n"
     ]
    }
   ],
   "source": [
    "# day mean return -> monthly mean return\n",
    "monthly_std = std * np.sqrt(21)\n",
    "print(f\"Monthly volatility: {'%.2f' % monthly_std} %\")"
   ]
  },
  {
   "cell_type": "markdown",
   "id": "866cfad1-37cd-4822-9968-4de164781e27",
   "metadata": {},
   "source": [
    "## Relationship Measure"
   ]
  },
  {
   "cell_type": "markdown",
   "id": "cd0e2a6d-da1d-449d-877c-611f439e8060",
   "metadata": {},
   "source": [
    "### Covariance and Covariance Matrix"
   ]
  },
  {
   "cell_type": "markdown",
   "id": "e4fe5bcf-d3d3-46a5-87a1-ca3be0f1b161",
   "metadata": {},
   "source": [
    "The covariance allows us to understand the relationship between two sets of values. The more the covariance will be positive, the more the relationship will be strong.\n",
    "\n",
    "- Covariance in probability theory and statistics is a measure of the joint variability of two random variables. The sign of the covariance, therefore, shows the tendency in the linear relationship between the variables (Wikipedia)."
   ]
  },
  {
   "cell_type": "code",
   "execution_count": 55,
   "id": "f515fc5f-cf78-4095-ae4b-4fc83d55c21f",
   "metadata": {},
   "outputs": [
    {
     "name": "stderr",
     "output_type": "stream",
     "text": [
      "[*********************100%***********************]  2 of 2 completed\n"
     ]
    },
    {
     "data": {
      "text/html": [
       "<div>\n",
       "<style scoped>\n",
       "    .dataframe tbody tr th:only-of-type {\n",
       "        vertical-align: middle;\n",
       "    }\n",
       "\n",
       "    .dataframe tbody tr th {\n",
       "        vertical-align: top;\n",
       "    }\n",
       "\n",
       "    .dataframe thead th {\n",
       "        text-align: right;\n",
       "    }\n",
       "</style>\n",
       "<table border=\"1\" class=\"dataframe\">\n",
       "  <thead>\n",
       "    <tr style=\"text-align: right;\">\n",
       "      <th>Ticker</th>\n",
       "      <th>EURUSD=X</th>\n",
       "      <th>GOOG</th>\n",
       "    </tr>\n",
       "    <tr>\n",
       "      <th>Date</th>\n",
       "      <th></th>\n",
       "      <th></th>\n",
       "    </tr>\n",
       "  </thead>\n",
       "  <tbody>\n",
       "    <tr>\n",
       "      <th>2004-08-20 00:00:00+00:00</th>\n",
       "      <td>-0.004042</td>\n",
       "      <td>0.079430</td>\n",
       "    </tr>\n",
       "    <tr>\n",
       "      <th>2004-08-23 00:00:00+00:00</th>\n",
       "      <td>-0.013793</td>\n",
       "      <td>0.010064</td>\n",
       "    </tr>\n",
       "    <tr>\n",
       "      <th>2004-08-24 00:00:00+00:00</th>\n",
       "      <td>-0.005763</td>\n",
       "      <td>-0.041408</td>\n",
       "    </tr>\n",
       "    <tr>\n",
       "      <th>2004-08-25 00:00:00+00:00</th>\n",
       "      <td>0.000338</td>\n",
       "      <td>0.010775</td>\n",
       "    </tr>\n",
       "    <tr>\n",
       "      <th>2004-08-26 00:00:00+00:00</th>\n",
       "      <td>0.001077</td>\n",
       "      <td>0.018019</td>\n",
       "    </tr>\n",
       "    <tr>\n",
       "      <th>...</th>\n",
       "      <td>...</td>\n",
       "      <td>...</td>\n",
       "    </tr>\n",
       "    <tr>\n",
       "      <th>2024-09-06 00:00:00+00:00</th>\n",
       "      <td>0.002767</td>\n",
       "      <td>-0.040794</td>\n",
       "    </tr>\n",
       "    <tr>\n",
       "      <th>2024-09-09 00:00:00+00:00</th>\n",
       "      <td>-0.002151</td>\n",
       "      <td>-0.015731</td>\n",
       "    </tr>\n",
       "    <tr>\n",
       "      <th>2024-09-10 00:00:00+00:00</th>\n",
       "      <td>-0.004481</td>\n",
       "      <td>0.003143</td>\n",
       "    </tr>\n",
       "    <tr>\n",
       "      <th>2024-09-11 00:00:00+00:00</th>\n",
       "      <td>-0.001499</td>\n",
       "      <td>0.014266</td>\n",
       "    </tr>\n",
       "    <tr>\n",
       "      <th>2024-09-12 00:00:00+00:00</th>\n",
       "      <td>-0.000914</td>\n",
       "      <td>0.022281</td>\n",
       "    </tr>\n",
       "  </tbody>\n",
       "</table>\n",
       "<p>5021 rows × 2 columns</p>\n",
       "</div>"
      ],
      "text/plain": [
       "Ticker                     EURUSD=X      GOOG\n",
       "Date                                         \n",
       "2004-08-20 00:00:00+00:00 -0.004042  0.079430\n",
       "2004-08-23 00:00:00+00:00 -0.013793  0.010064\n",
       "2004-08-24 00:00:00+00:00 -0.005763 -0.041408\n",
       "2004-08-25 00:00:00+00:00  0.000338  0.010775\n",
       "2004-08-26 00:00:00+00:00  0.001077  0.018019\n",
       "...                             ...       ...\n",
       "2024-09-06 00:00:00+00:00  0.002767 -0.040794\n",
       "2024-09-09 00:00:00+00:00 -0.002151 -0.015731\n",
       "2024-09-10 00:00:00+00:00 -0.004481  0.003143\n",
       "2024-09-11 00:00:00+00:00 -0.001499  0.014266\n",
       "2024-09-12 00:00:00+00:00 -0.000914  0.022281\n",
       "\n",
       "[5021 rows x 2 columns]"
      ]
     },
     "execution_count": 55,
     "metadata": {},
     "output_type": "execute_result"
    }
   ],
   "source": [
    "# compute a variance-covariance matrix between two assets\n",
    "# import several assets\n",
    "df = yf.download([\"GOOG\", \"EURUSD=X\"])[\"Adj Close\"].dropna().pct_change(1).dropna()\n",
    "df"
   ]
  },
  {
   "cell_type": "code",
   "execution_count": 56,
   "id": "099dd7b5-9cb0-4a4a-9431-6d565d02639b",
   "metadata": {},
   "outputs": [
    {
     "data": {
      "text/plain": [
       "array([[5.21720807e-05, 6.59933130e-06],\n",
       "       [6.59933130e-06, 3.73997279e-04]])"
      ]
     },
     "execution_count": 56,
     "metadata": {},
     "output_type": "execute_result"
    }
   ],
   "source": [
    "# in python you only can compute the covariance matrix\n",
    "# variance covariance matrix with numpy\n",
    "# default rowvar=True means each column is a symbol\n",
    "# in our case each column is a symbol so we set rowvar=False\n",
    "mat = np.cov(df, rowvar=False)\n",
    "mat\n",
    "# in matrix:\n",
    "# variance EURUSD // covariance EURUSD-GOOG\n",
    "# covariance GOOG-EURUSD // variance GOOG"
   ]
  },
  {
   "cell_type": "code",
   "execution_count": 57,
   "id": "8d2db30c-9e2d-41ce-9b83-b87593732d26",
   "metadata": {},
   "outputs": [
    {
     "data": {
      "text/plain": [
       "np.float64(6.59933130338434e-06)"
      ]
     },
     "execution_count": 57,
     "metadata": {},
     "output_type": "execute_result"
    }
   ],
   "source": [
    "# extracting the covariance from the matrix\n",
    "# covariance GOOG-EURUSD\n",
    "mat[0][1]"
   ]
  },
  {
   "cell_type": "code",
   "execution_count": 58,
   "id": "9b46336a-e266-40f9-aed2-f60339c698aa",
   "metadata": {},
   "outputs": [
    {
     "name": "stderr",
     "output_type": "stream",
     "text": [
      "[*********************100%***********************]  5 of 5 completed\n"
     ]
    },
    {
     "data": {
      "text/html": [
       "<div>\n",
       "<style scoped>\n",
       "    .dataframe tbody tr th:only-of-type {\n",
       "        vertical-align: middle;\n",
       "    }\n",
       "\n",
       "    .dataframe tbody tr th {\n",
       "        vertical-align: top;\n",
       "    }\n",
       "\n",
       "    .dataframe thead th {\n",
       "        text-align: right;\n",
       "    }\n",
       "</style>\n",
       "<table border=\"1\" class=\"dataframe\">\n",
       "  <thead>\n",
       "    <tr style=\"text-align: right;\">\n",
       "      <th>Ticker</th>\n",
       "      <th>AMZN</th>\n",
       "      <th>EURUSD=X</th>\n",
       "      <th>GOOG</th>\n",
       "      <th>MSFT</th>\n",
       "      <th>TSLA</th>\n",
       "    </tr>\n",
       "    <tr>\n",
       "      <th>Date</th>\n",
       "      <th></th>\n",
       "      <th></th>\n",
       "      <th></th>\n",
       "      <th></th>\n",
       "      <th></th>\n",
       "    </tr>\n",
       "  </thead>\n",
       "  <tbody>\n",
       "    <tr>\n",
       "      <th>2010-06-30 00:00:00+00:00</th>\n",
       "      <td>0.005985</td>\n",
       "      <td>0.003584</td>\n",
       "      <td>-0.020495</td>\n",
       "      <td>-0.012870</td>\n",
       "      <td>-0.002511</td>\n",
       "    </tr>\n",
       "    <tr>\n",
       "      <th>2010-07-01 00:00:00+00:00</th>\n",
       "      <td>0.015559</td>\n",
       "      <td>0.022689</td>\n",
       "      <td>-0.012271</td>\n",
       "      <td>0.006519</td>\n",
       "      <td>-0.078473</td>\n",
       "    </tr>\n",
       "    <tr>\n",
       "      <th>2010-07-02 00:00:00+00:00</th>\n",
       "      <td>-0.016402</td>\n",
       "      <td>0.005079</td>\n",
       "      <td>-0.006690</td>\n",
       "      <td>0.004750</td>\n",
       "      <td>-0.125683</td>\n",
       "    </tr>\n",
       "    <tr>\n",
       "      <th>2010-07-06 00:00:00+00:00</th>\n",
       "      <td>0.008430</td>\n",
       "      <td>0.004216</td>\n",
       "      <td>-0.001100</td>\n",
       "      <td>0.023636</td>\n",
       "      <td>-0.160937</td>\n",
       "    </tr>\n",
       "    <tr>\n",
       "      <th>2010-07-07 00:00:00+00:00</th>\n",
       "      <td>0.030620</td>\n",
       "      <td>0.000720</td>\n",
       "      <td>0.032403</td>\n",
       "      <td>0.020151</td>\n",
       "      <td>-0.019243</td>\n",
       "    </tr>\n",
       "    <tr>\n",
       "      <th>...</th>\n",
       "      <td>...</td>\n",
       "      <td>...</td>\n",
       "      <td>...</td>\n",
       "      <td>...</td>\n",
       "      <td>...</td>\n",
       "    </tr>\n",
       "    <tr>\n",
       "      <th>2024-09-06 00:00:00+00:00</th>\n",
       "      <td>-0.036539</td>\n",
       "      <td>0.002767</td>\n",
       "      <td>-0.040794</td>\n",
       "      <td>-0.016381</td>\n",
       "      <td>-0.084459</td>\n",
       "    </tr>\n",
       "    <tr>\n",
       "      <th>2024-09-09 00:00:00+00:00</th>\n",
       "      <td>0.023397</td>\n",
       "      <td>-0.002151</td>\n",
       "      <td>-0.015731</td>\n",
       "      <td>0.010007</td>\n",
       "      <td>0.026290</td>\n",
       "    </tr>\n",
       "    <tr>\n",
       "      <th>2024-09-10 00:00:00+00:00</th>\n",
       "      <td>0.023660</td>\n",
       "      <td>-0.004481</td>\n",
       "      <td>0.003143</td>\n",
       "      <td>0.020901</td>\n",
       "      <td>0.045776</td>\n",
       "    </tr>\n",
       "    <tr>\n",
       "      <th>2024-09-11 00:00:00+00:00</th>\n",
       "      <td>0.027680</td>\n",
       "      <td>-0.001499</td>\n",
       "      <td>0.014266</td>\n",
       "      <td>0.021342</td>\n",
       "      <td>0.008666</td>\n",
       "    </tr>\n",
       "    <tr>\n",
       "      <th>2024-09-12 00:00:00+00:00</th>\n",
       "      <td>0.013440</td>\n",
       "      <td>-0.000914</td>\n",
       "      <td>0.022281</td>\n",
       "      <td>0.009361</td>\n",
       "      <td>0.007364</td>\n",
       "    </tr>\n",
       "  </tbody>\n",
       "</table>\n",
       "<p>3570 rows × 5 columns</p>\n",
       "</div>"
      ],
      "text/plain": [
       "Ticker                         AMZN  EURUSD=X      GOOG      MSFT      TSLA\n",
       "Date                                                                       \n",
       "2010-06-30 00:00:00+00:00  0.005985  0.003584 -0.020495 -0.012870 -0.002511\n",
       "2010-07-01 00:00:00+00:00  0.015559  0.022689 -0.012271  0.006519 -0.078473\n",
       "2010-07-02 00:00:00+00:00 -0.016402  0.005079 -0.006690  0.004750 -0.125683\n",
       "2010-07-06 00:00:00+00:00  0.008430  0.004216 -0.001100  0.023636 -0.160937\n",
       "2010-07-07 00:00:00+00:00  0.030620  0.000720  0.032403  0.020151 -0.019243\n",
       "...                             ...       ...       ...       ...       ...\n",
       "2024-09-06 00:00:00+00:00 -0.036539  0.002767 -0.040794 -0.016381 -0.084459\n",
       "2024-09-09 00:00:00+00:00  0.023397 -0.002151 -0.015731  0.010007  0.026290\n",
       "2024-09-10 00:00:00+00:00  0.023660 -0.004481  0.003143  0.020901  0.045776\n",
       "2024-09-11 00:00:00+00:00  0.027680 -0.001499  0.014266  0.021342  0.008666\n",
       "2024-09-12 00:00:00+00:00  0.013440 -0.000914  0.022281  0.009361  0.007364\n",
       "\n",
       "[3570 rows x 5 columns]"
      ]
     },
     "execution_count": 58,
     "metadata": {},
     "output_type": "execute_result"
    }
   ],
   "source": [
    "# another example, importing several assets\n",
    "df = yf.download([\"GOOG\", \"EURUSD=X\", \"MSFT\", \"AMZN\", \"TSLA\"])[\"Adj Close\"].dropna().pct_change(1).dropna()\n",
    "df"
   ]
  },
  {
   "cell_type": "code",
   "execution_count": 59,
   "id": "dd5008de-32bb-4da0-aa46-5353e2497f38",
   "metadata": {},
   "outputs": [
    {
     "data": {
      "text/html": [
       "<div>\n",
       "<style scoped>\n",
       "    .dataframe tbody tr th:only-of-type {\n",
       "        vertical-align: middle;\n",
       "    }\n",
       "\n",
       "    .dataframe tbody tr th {\n",
       "        vertical-align: top;\n",
       "    }\n",
       "\n",
       "    .dataframe thead th {\n",
       "        text-align: right;\n",
       "    }\n",
       "</style>\n",
       "<table border=\"1\" class=\"dataframe\">\n",
       "  <thead>\n",
       "    <tr style=\"text-align: right;\">\n",
       "      <th>Ticker</th>\n",
       "      <th>AMZN</th>\n",
       "      <th>EURUSD=X</th>\n",
       "      <th>GOOG</th>\n",
       "      <th>MSFT</th>\n",
       "      <th>TSLA</th>\n",
       "    </tr>\n",
       "    <tr>\n",
       "      <th>Ticker</th>\n",
       "      <th></th>\n",
       "      <th></th>\n",
       "      <th></th>\n",
       "      <th></th>\n",
       "      <th></th>\n",
       "    </tr>\n",
       "  </thead>\n",
       "  <tbody>\n",
       "    <tr>\n",
       "      <th>AMZN</th>\n",
       "      <td>0.000426</td>\n",
       "      <td>3.960943e-06</td>\n",
       "      <td>2.129728e-04</td>\n",
       "      <td>1.900333e-04</td>\n",
       "      <td>0.000261</td>\n",
       "    </tr>\n",
       "    <tr>\n",
       "      <th>EURUSD=X</th>\n",
       "      <td>0.000004</td>\n",
       "      <td>2.933636e-05</td>\n",
       "      <td>-1.428352e-07</td>\n",
       "      <td>-4.050031e-07</td>\n",
       "      <td>-0.000002</td>\n",
       "    </tr>\n",
       "    <tr>\n",
       "      <th>GOOG</th>\n",
       "      <td>0.000213</td>\n",
       "      <td>-1.428352e-07</td>\n",
       "      <td>2.971436e-04</td>\n",
       "      <td>1.791337e-04</td>\n",
       "      <td>0.000203</td>\n",
       "    </tr>\n",
       "    <tr>\n",
       "      <th>MSFT</th>\n",
       "      <td>0.000190</td>\n",
       "      <td>-4.050031e-07</td>\n",
       "      <td>1.791337e-04</td>\n",
       "      <td>2.628376e-04</td>\n",
       "      <td>0.000204</td>\n",
       "    </tr>\n",
       "    <tr>\n",
       "      <th>TSLA</th>\n",
       "      <td>0.000261</td>\n",
       "      <td>-1.825147e-06</td>\n",
       "      <td>2.032272e-04</td>\n",
       "      <td>2.037929e-04</td>\n",
       "      <td>0.001291</td>\n",
       "    </tr>\n",
       "  </tbody>\n",
       "</table>\n",
       "</div>"
      ],
      "text/plain": [
       "Ticker        AMZN      EURUSD=X          GOOG          MSFT      TSLA\n",
       "Ticker                                                                \n",
       "AMZN      0.000426  3.960943e-06  2.129728e-04  1.900333e-04  0.000261\n",
       "EURUSD=X  0.000004  2.933636e-05 -1.428352e-07 -4.050031e-07 -0.000002\n",
       "GOOG      0.000213 -1.428352e-07  2.971436e-04  1.791337e-04  0.000203\n",
       "MSFT      0.000190 -4.050031e-07  1.791337e-04  2.628376e-04  0.000204\n",
       "TSLA      0.000261 -1.825147e-06  2.032272e-04  2.037929e-04  0.001291"
      ]
     },
     "execution_count": 59,
     "metadata": {},
     "output_type": "execute_result"
    }
   ],
   "source": [
    "mat = np.cov(df, rowvar=False)\n",
    "pd.DataFrame(mat, columns=df.columns, index=df.columns) # putting in data frame for better visualization"
   ]
  },
  {
   "cell_type": "markdown",
   "id": "b8ab7b50-3ef5-4084-abce-37ca2860a2bc",
   "metadata": {},
   "source": [
    "### Correlation"
   ]
  },
  {
   "cell_type": "markdown",
   "id": "d7900183-b225-4acd-8f48-1cf970adf929",
   "metadata": {},
   "source": [
    "The correlation is the standardized value of the covariance. As the covariance cannot be interpreted very well, we us the correlation to really understand the relationship.\n",
    "\n",
    "- Correlation is a statistical measure (expressed as a number) that describes the size and direction of a relationship between two or more variables. A correlation between variables, however, does not automatically mean that the change in one variable is the cause of the change in the values of the other variable (Australian Bureau of Statistics).\n",
    "\n",
    "- In statistics, correlation or dependence is any statistical relationship, whether causal or not, between two random variables or bivariate data (Wikipedia).\n",
    "\n",
    "- Correlation is a statistical measure that expresses the extent to which two variables are linearly related (meaning they change together at a constant rate) (JMP Statistical Software).\n",
    "\n",
    "**Interpretaion:**\n",
    "\n",
    "- -1 < corr < 0: negative relationship\n",
    "- corr = 0: no relationship\n",
    "- 0 < corr < 1: positive relationship"
   ]
  },
  {
   "cell_type": "code",
   "execution_count": 60,
   "id": "868963aa-3c9c-4d83-9a1b-73a501e95efe",
   "metadata": {},
   "outputs": [
    {
     "data": {
      "text/html": [
       "<div>\n",
       "<style scoped>\n",
       "    .dataframe tbody tr th:only-of-type {\n",
       "        vertical-align: middle;\n",
       "    }\n",
       "\n",
       "    .dataframe tbody tr th {\n",
       "        vertical-align: top;\n",
       "    }\n",
       "\n",
       "    .dataframe thead th {\n",
       "        text-align: right;\n",
       "    }\n",
       "</style>\n",
       "<table border=\"1\" class=\"dataframe\">\n",
       "  <thead>\n",
       "    <tr style=\"text-align: right;\">\n",
       "      <th>Ticker</th>\n",
       "      <th>AMZN</th>\n",
       "      <th>EURUSD=X</th>\n",
       "      <th>GOOG</th>\n",
       "      <th>MSFT</th>\n",
       "      <th>TSLA</th>\n",
       "    </tr>\n",
       "    <tr>\n",
       "      <th>Ticker</th>\n",
       "      <th></th>\n",
       "      <th></th>\n",
       "      <th></th>\n",
       "      <th></th>\n",
       "      <th></th>\n",
       "    </tr>\n",
       "  </thead>\n",
       "  <tbody>\n",
       "    <tr>\n",
       "      <th>AMZN</th>\n",
       "      <td>1.000000</td>\n",
       "      <td>0.035446</td>\n",
       "      <td>0.598837</td>\n",
       "      <td>0.568138</td>\n",
       "      <td>0.351730</td>\n",
       "    </tr>\n",
       "    <tr>\n",
       "      <th>EURUSD=X</th>\n",
       "      <td>0.035446</td>\n",
       "      <td>1.000000</td>\n",
       "      <td>-0.001530</td>\n",
       "      <td>-0.004612</td>\n",
       "      <td>-0.009380</td>\n",
       "    </tr>\n",
       "    <tr>\n",
       "      <th>GOOG</th>\n",
       "      <td>0.598837</td>\n",
       "      <td>-0.001530</td>\n",
       "      <td>1.000000</td>\n",
       "      <td>0.640989</td>\n",
       "      <td>0.328181</td>\n",
       "    </tr>\n",
       "    <tr>\n",
       "      <th>MSFT</th>\n",
       "      <td>0.568138</td>\n",
       "      <td>-0.004612</td>\n",
       "      <td>0.640989</td>\n",
       "      <td>1.000000</td>\n",
       "      <td>0.349913</td>\n",
       "    </tr>\n",
       "    <tr>\n",
       "      <th>TSLA</th>\n",
       "      <td>0.351730</td>\n",
       "      <td>-0.009380</td>\n",
       "      <td>0.328181</td>\n",
       "      <td>0.349913</td>\n",
       "      <td>1.000000</td>\n",
       "    </tr>\n",
       "  </tbody>\n",
       "</table>\n",
       "</div>"
      ],
      "text/plain": [
       "Ticker        AMZN  EURUSD=X      GOOG      MSFT      TSLA\n",
       "Ticker                                                    \n",
       "AMZN      1.000000  0.035446  0.598837  0.568138  0.351730\n",
       "EURUSD=X  0.035446  1.000000 -0.001530 -0.004612 -0.009380\n",
       "GOOG      0.598837 -0.001530  1.000000  0.640989  0.328181\n",
       "MSFT      0.568138 -0.004612  0.640989  1.000000  0.349913\n",
       "TSLA      0.351730 -0.009380  0.328181  0.349913  1.000000"
      ]
     },
     "execution_count": 60,
     "metadata": {},
     "output_type": "execute_result"
    }
   ],
   "source": [
    "# correlation matrix with pandas\n",
    "# to compute the correlation we need to use the variance of this asset\n",
    "df.corr()"
   ]
  },
  {
   "cell_type": "code",
   "execution_count": null,
   "id": "a84334c0-610d-49e0-85f4-23a2447e9126",
   "metadata": {},
   "outputs": [],
   "source": []
  }
 ],
 "metadata": {
  "kernelspec": {
   "display_name": "Python 3 (ipykernel)",
   "language": "python",
   "name": "python3"
  },
  "language_info": {
   "codemirror_mode": {
    "name": "ipython",
    "version": 3
   },
   "file_extension": ".py",
   "mimetype": "text/x-python",
   "name": "python",
   "nbconvert_exporter": "python",
   "pygments_lexer": "ipython3",
   "version": "3.12.4"
  }
 },
 "nbformat": 4,
 "nbformat_minor": 5
}
