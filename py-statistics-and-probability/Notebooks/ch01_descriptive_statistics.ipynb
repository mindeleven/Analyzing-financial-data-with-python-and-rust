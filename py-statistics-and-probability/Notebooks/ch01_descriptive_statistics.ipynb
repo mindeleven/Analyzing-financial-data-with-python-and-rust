{
 "cells": [
  {
   "cell_type": "markdown",
   "id": "0e1e9eee",
   "metadata": {},
   "source": [
    "# Descriptive Statistics"
   ]
  },
  {
   "cell_type": "markdown",
   "id": "eff8ae63",
   "metadata": {},
   "source": [
    "Descriptive statistics describe, and summarize the features of a dataset found in a given study, presented in a summary that describes the data sample and measurements."
   ]
  },
  {
   "cell_type": "markdown",
   "id": "a2b8d62f",
   "metadata": {},
   "source": [
    "## yfinance Basic Usage"
   ]
  },
  {
   "cell_type": "code",
   "execution_count": 1,
   "id": "6a80a23a",
   "metadata": {},
   "outputs": [],
   "source": [
    "import yfinance as yf"
   ]
  },
  {
   "cell_type": "code",
   "execution_count": 11,
   "id": "96954b82-fe0c-4423-80aa-933f44448f9b",
   "metadata": {},
   "outputs": [
    {
     "data": {
      "text/plain": [
       "'Apple Inc. designs, manufactures, and markets smartphones, personal computers, tablets, wearables, and accessories worldwide. The company offers iPhone, a line of smartphones; Mac, a line of personal computers; iPad, a line of multi-purpose tablets; and wearables, home, and accessories comprising AirPods, Apple TV, Apple Watch, Beats products, and HomePod. It also provides AppleCare support and cloud services; and operates various platforms, including the App Store that allow customers to discover and download applications and digital content, such as books, music, video, games, and podcasts. In addition, the company offers various services, such as Apple Arcade, a game subscription service; Apple Fitness+, a personalized fitness service; Apple Music, which offers users a curated listening experience with on-demand radio stations; Apple News+, a subscription news and magazine service; Apple TV+, which offers exclusive original content; Apple Card, a co-branded credit card; and Apple Pay, a cashless payment service, as well as licenses its intellectual property. The company serves consumers, and small and mid-sized businesses; and the education, enterprise, and government markets. It distributes third-party applications for its products through the App Store. The company also sells its products through its retail and online stores, and direct sales force; and third-party cellular network carriers, wholesalers, retailers, and resellers. Apple Inc. was founded in 1976 and is headquartered in Cupertino, California.'"
      ]
     },
     "execution_count": 11,
     "metadata": {},
     "output_type": "execute_result"
    }
   ],
   "source": [
    "# Create a Ticker object for Apple (AAPL)\n",
    "ticker_aapl = yf.Ticker(\"AAPL\")\n",
    "# Get general information about Apple\n",
    "# print(ticker_aapl.info)\n",
    "# ticker_aapl.info['address1'] # print addressline 1\n",
    "ticker_aapl.info['longBusinessSummary'] # print longBusinessSummary"
   ]
  },
  {
   "cell_type": "code",
   "execution_count": 12,
   "id": "01a70690-243b-4f04-9259-e79a34078d6b",
   "metadata": {},
   "outputs": [
    {
     "name": "stdout",
     "output_type": "stream",
     "text": [
      "                                 Open        High         Low       Close  \\\n",
      "Date                                                                        \n",
      "2023-09-12 00:00:00-04:00  178.576213  179.212954  173.929990  175.402451   \n",
      "2023-09-13 00:00:00-04:00  175.611368  176.397355  173.094250  173.323090   \n",
      "2023-09-14 00:00:00-04:00  173.114159  175.203474  172.696299  174.845306   \n",
      "2023-09-15 00:00:00-04:00  175.581521  175.601423  172.935074  174.119003   \n",
      "2023-09-18 00:00:00-04:00  175.581530  178.466775  175.273110  177.063950   \n",
      "\n",
      "                              Volume  Dividends  Stock Splits  \n",
      "Date                                                           \n",
      "2023-09-12 00:00:00-04:00   90370200        0.0           0.0  \n",
      "2023-09-13 00:00:00-04:00   84267900        0.0           0.0  \n",
      "2023-09-14 00:00:00-04:00   60895800        0.0           0.0  \n",
      "2023-09-15 00:00:00-04:00  109205100        0.0           0.0  \n",
      "2023-09-18 00:00:00-04:00   67257600        0.0           0.0  \n"
     ]
    }
   ],
   "source": [
    "# Download historical market data for the past year\n",
    "data_aapl_1y = ticker_aapl.history(period=\"1y\")\n",
    "print(data_aapl_1y.head())"
   ]
  },
  {
   "cell_type": "markdown",
   "id": "348a8f0f-78cf-443a-b987-54a64fdc2723",
   "metadata": {},
   "source": [
    "## Google Stock Price sample example"
   ]
  },
  {
   "cell_type": "code",
   "execution_count": 14,
   "id": "468e79c4-0c57-47b3-b3aa-f233b39e812b",
   "metadata": {},
   "outputs": [],
   "source": [
    "import numpy as np\n",
    "import pandas as pd\n",
    "from scipy.stats import skew, kurtosis"
   ]
  },
  {
   "cell_type": "code",
   "execution_count": 16,
   "id": "31823bb5-9ae9-46af-8c38-fd37b07de845",
   "metadata": {},
   "outputs": [
    {
     "name": "stderr",
     "output_type": "stream",
     "text": [
      "[*********************100%***********************]  1 of 1 completed"
     ]
    },
    {
     "name": "stdout",
     "output_type": "stream",
     "text": [
      "                Open      High       Low     Close  Adj Close     Volume\n",
      "Date                                                                    \n",
      "2004-08-19  2.490664  2.591785  2.390042  2.499133   2.493011  897427216\n",
      "2004-08-20  2.515820  2.716817  2.503118  2.697639   2.691030  458857488\n",
      "2004-08-23  2.758411  2.826406  2.716070  2.724787   2.718112  366857939\n",
      "2004-08-24  2.770615  2.779581  2.579581  2.611960   2.605561  306396159\n",
      "2004-08-25  2.614201  2.689918  2.587302  2.640104   2.633636  184645512\n"
     ]
    },
    {
     "name": "stderr",
     "output_type": "stream",
     "text": [
      "\n"
     ]
    }
   ],
   "source": [
    "# let's import some data\n",
    "df = yf.download(\"GOOG\")\n",
    "print(df.head()) # let's see what he have in here"
   ]
  },
  {
   "cell_type": "code",
   "execution_count": 19,
   "id": "c3042244-4f4d-4c05-8622-ee9ca32f5825",
   "metadata": {},
   "outputs": [
    {
     "name": "stderr",
     "output_type": "stream",
     "text": [
      "[*********************100%***********************]  1 of 1 completed\n"
     ]
    },
    {
     "data": {
      "text/plain": [
       "Date\n",
       "2004-08-19    2.493011\n",
       "2004-08-20    2.691030\n",
       "2004-08-23    2.718112\n",
       "2004-08-24    2.605561\n",
       "2004-08-25    2.633636\n",
       "Name: Adj Close, dtype: float64"
      ]
     },
     "execution_count": 19,
     "metadata": {},
     "output_type": "execute_result"
    }
   ],
   "source": [
    "# let's say we only want the Adjusted Close\n",
    "# The adjusted closing price amends a stock's closing price to reflect that stock's value after accounting for any corporate actions\n",
    "# The closing price is the raw price, which is just the cash value of the last transacted price before the market closes (investopedia.com)\n",
    "df_close = yf.download(\"GOOG\")[\"Adj Close\"]\n",
    "df_close.head()"
   ]
  },
  {
   "cell_type": "code",
   "execution_count": 23,
   "id": "09925f92-e93e-4c6f-b2b7-50d1cf3152da",
   "metadata": {},
   "outputs": [
    {
     "name": "stderr",
     "output_type": "stream",
     "text": [
      "[*********************100%***********************]  1 of 1 completed\n"
     ]
    },
    {
     "data": {
      "text/plain": [
       "Date\n",
       "2004-08-20    0.079430\n",
       "2004-08-23    0.010064\n",
       "2004-08-24   -0.041408\n",
       "2004-08-25    0.010775\n",
       "2004-08-26    0.018019\n",
       "                ...   \n",
       "2024-09-05    0.005006\n",
       "2024-09-06   -0.040794\n",
       "2024-09-09   -0.015731\n",
       "2024-09-10    0.003143\n",
       "2024-09-11    0.014266\n",
       "Name: Adj Close, Length: 5049, dtype: float64"
      ]
     },
     "execution_count": 23,
     "metadata": {},
     "output_type": "execute_result"
    }
   ],
   "source": [
    "# same thing with taking only the variation\n",
    "# computing the variation with pct_change(1)\n",
    "# plus dropping missing values with dropna()\n",
    "df_close_pct = yf.download(\"GOOG\")[\"Adj Close\"].pct_change(1).dropna() # different assets are put on same scale\n",
    "df_close_pct"
   ]
  },
  {
   "cell_type": "code",
   "execution_count": 22,
   "id": "d5a7093e-5f8d-442a-907c-73d8907889b5",
   "metadata": {},
   "outputs": [
    {
     "data": {
      "text/plain": [
       "Date\n",
       "2004-08-20    0.079430\n",
       "2004-08-23    0.010064\n",
       "2004-08-24   -0.041408\n",
       "2004-08-25    0.010775\n",
       "2004-08-26    0.018019\n",
       "Name: Adj Close, dtype: float64"
      ]
     },
     "execution_count": 22,
     "metadata": {},
     "output_type": "execute_result"
    }
   ],
   "source": [
    "df_close_pct.head()"
   ]
  },
  {
   "cell_type": "code",
   "execution_count": null,
   "id": "c14951bb-e42c-48c5-9be2-75de04d1d7ec",
   "metadata": {},
   "outputs": [],
   "source": []
  }
 ],
 "metadata": {
  "kernelspec": {
   "display_name": "Python 3 (ipykernel)",
   "language": "python",
   "name": "python3"
  },
  "language_info": {
   "codemirror_mode": {
    "name": "ipython",
    "version": 3
   },
   "file_extension": ".py",
   "mimetype": "text/x-python",
   "name": "python",
   "nbconvert_exporter": "python",
   "pygments_lexer": "ipython3",
   "version": "3.12.4"
  }
 },
 "nbformat": 4,
 "nbformat_minor": 5
}
