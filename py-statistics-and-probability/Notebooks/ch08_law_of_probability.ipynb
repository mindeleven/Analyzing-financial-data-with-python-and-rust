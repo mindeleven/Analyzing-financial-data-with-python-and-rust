{
 "cells": [
  {
   "cell_type": "markdown",
   "id": "87d76f29-22c1-49be-ab2c-a925dc37a905",
   "metadata": {},
   "source": [
    "# Law of Probability"
   ]
  },
  {
   "cell_type": "markdown",
   "id": "6b3b1e2c-5ef3-40f1-bb87-db70ef2116f9",
   "metadata": {},
   "source": [
    "## Bernoulli's law Bernoulli Distribution"
   ]
  },
  {
   "cell_type": "markdown",
   "id": "c610aa46-f4d8-460d-9df2-3d92e4bb2f22",
   "metadata": {},
   "source": [
    "- Bernoulli distribution is a discrete distribution in which the random variable has only two possible outcomes and a single trial known as a Bernoulli trial. p is the expected value of the Bernoulli random variable, which is known as the Bernoulli distribution parameter ([simplilearn.com](https://www.simplilearn.com/tutorials/data-science-tutorial/bernoulli-distribution))."
   ]
  },
  {
   "cell_type": "code",
   "execution_count": null,
   "id": "3f2b6d5b-7870-499a-a911-8f605cfc18d6",
   "metadata": {},
   "outputs": [],
   "source": []
  }
 ],
 "metadata": {
  "kernelspec": {
   "display_name": "Python 3 (ipykernel)",
   "language": "python",
   "name": "python3"
  },
  "language_info": {
   "codemirror_mode": {
    "name": "ipython",
    "version": 3
   },
   "file_extension": ".py",
   "mimetype": "text/x-python",
   "name": "python",
   "nbconvert_exporter": "python",
   "pygments_lexer": "ipython3",
   "version": "3.12.4"
  }
 },
 "nbformat": 4,
 "nbformat_minor": 5
}
