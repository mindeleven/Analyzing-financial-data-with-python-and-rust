{
 "cells": [
  {
   "cell_type": "markdown",
   "id": "a17fcdb8-a596-4270-b477-ee0b2c309e2e",
   "metadata": {},
   "source": [
    "# Python for DataSciences"
   ]
  },
  {
   "cell_type": "markdown",
   "id": "b62d1139-22ed-488f-9b39-907ef73c6982",
   "metadata": {},
   "source": [
    "## Numpy"
   ]
  },
  {
   "cell_type": "markdown",
   "id": "1e4467e4-8ee5-4a02-a1ee-623662bb4b5f",
   "metadata": {},
   "source": [
    "NumPy is a library for the Python programming language, adding support for large, multi-dimensional arrays and matrices, along with a large collection of high-level mathematical functions to operate on these arrays (Wikipedia)."
   ]
  },
  {
   "cell_type": "markdown",
   "id": "75c93720-18bd-4154-a2e1-3f6bf9fab331",
   "metadata": {},
   "source": [
    "### Numpy table creation"
   ]
  },
  {
   "cell_type": "code",
   "execution_count": 1,
   "id": "b782c230-022c-4f77-826a-13ad6b1e1d10",
   "metadata": {},
   "outputs": [
    {
     "data": {
      "text/plain": [
       "array([1, 2, 3])"
      ]
     },
     "execution_count": 1,
     "metadata": {},
     "output_type": "execute_result"
    }
   ],
   "source": [
    "# Import of numpy\n",
    "import numpy as np\n",
    "\n",
    "# 1D array\n",
    "arr = np.array([1,2,3])\n",
    "arr"
   ]
  },
  {
   "cell_type": "code",
   "execution_count": 2,
   "id": "337248d6-2404-427c-89fc-c81099452ce2",
   "metadata": {},
   "outputs": [
    {
     "data": {
      "text/plain": [
       "array([ 0.,  1.,  2.,  3.,  4.,  5.,  6.,  7.,  8.,  9., 10., 11., 12.,\n",
       "       13., 14., 15., 16., 17., 18., 19., 20., 21., 22., 23., 24., 25.,\n",
       "       26., 27., 28., 29., 30., 31., 32., 33., 34., 35., 36., 37., 38.,\n",
       "       39., 40., 41., 42., 43., 44., 45., 46., 47., 48., 49., 50.])"
      ]
     },
     "execution_count": 2,
     "metadata": {},
     "output_type": "execute_result"
    }
   ],
   "source": [
    "# Linspace function\n",
    "np.linspace(0, 50, 51)"
   ]
  },
  {
   "cell_type": "code",
   "execution_count": 3,
   "id": "d9147272-8bef-4e65-a1b9-00a9709111d9",
   "metadata": {},
   "outputs": [
    {
     "data": {
      "text/plain": [
       "array([ 0,  1,  2,  3,  4,  5,  6,  7,  8,  9, 10, 11, 12, 13, 14, 15, 16,\n",
       "       17, 18, 19, 20, 21, 22, 23, 24, 25, 26, 27, 28, 29, 30, 31, 32, 33,\n",
       "       34, 35, 36, 37, 38, 39, 40, 41, 42, 43, 44, 45, 46, 47, 48, 49, 50])"
      ]
     },
     "execution_count": 3,
     "metadata": {},
     "output_type": "execute_result"
    }
   ],
   "source": [
    "# Arrange function\n",
    "np.arange(0,51)"
   ]
  },
  {
   "cell_type": "code",
   "execution_count": 4,
   "id": "36963b72-24a7-498d-8a26-de8858b38754",
   "metadata": {},
   "outputs": [
    {
     "data": {
      "text/plain": [
       "array([[1, 2, 3],\n",
       "       [4, 5, 6],\n",
       "       [7, 8, 9]])"
      ]
     },
     "execution_count": 4,
     "metadata": {},
     "output_type": "execute_result"
    }
   ],
   "source": [
    "# 2D array\n",
    "arr_bis = np.array([[1,2,3],\n",
    "                    [4,5,6],\n",
    "                    [7,8,9]])\n",
    "arr_bis"
   ]
  },
  {
   "cell_type": "code",
   "execution_count": 5,
   "id": "7984bed5-4a5b-4123-8edf-b83f6d9ee6b2",
   "metadata": {},
   "outputs": [
    {
     "data": {
      "text/plain": [
       "array([[0., 0., 0., 0., 0.],\n",
       "       [0., 0., 0., 0., 0.],\n",
       "       [0., 0., 0., 0., 0.]])"
      ]
     },
     "execution_count": 5,
     "metadata": {},
     "output_type": "execute_result"
    }
   ],
   "source": [
    "# Null matrix\n",
    "O = np.zeros([3,5])\n",
    "O"
   ]
  },
  {
   "cell_type": "code",
   "execution_count": 6,
   "id": "56ac8727-4017-4c67-ac2e-61a1c202a19a",
   "metadata": {},
   "outputs": [
    {
     "data": {
      "text/plain": [
       "array([[1., 0., 0., 0., 0.],\n",
       "       [0., 1., 0., 0., 0.],\n",
       "       [0., 0., 1., 0., 0.],\n",
       "       [0., 0., 0., 1., 0.],\n",
       "       [0., 0., 0., 0., 1.]])"
      ]
     },
     "execution_count": 6,
     "metadata": {},
     "output_type": "execute_result"
    }
   ],
   "source": [
    "# Identity matrix\n",
    "I = np.identity(5)\n",
    "I"
   ]
  },
  {
   "cell_type": "code",
   "execution_count": 7,
   "id": "bbeecc56-4ca9-4f45-92ab-23c706a3feec",
   "metadata": {},
   "outputs": [
    {
     "data": {
      "text/plain": [
       "array([[1., 1., 1., 1., 1.],\n",
       "       [1., 1., 1., 1., 1.],\n",
       "       [1., 1., 1., 1., 1.]])"
      ]
     },
     "execution_count": 7,
     "metadata": {},
     "output_type": "execute_result"
    }
   ],
   "source": [
    "# Ones matrix\n",
    "One = np.ones([3,5])\n",
    "One"
   ]
  },
  {
   "cell_type": "code",
   "execution_count": 8,
   "id": "9f8654c5-adda-4931-82f8-4897a45f30bf",
   "metadata": {},
   "outputs": [
    {
     "data": {
      "text/plain": [
       "array([[1., 1., 1., 1., 1.],\n",
       "       [1., 1., 1., 1., 1.],\n",
       "       [1., 1., 1., 1., 1.]])"
      ]
     },
     "execution_count": 8,
     "metadata": {},
     "output_type": "execute_result"
    }
   ],
   "source": [
    "# Add two matrix\n",
    "O + One"
   ]
  },
  {
   "cell_type": "code",
   "execution_count": 9,
   "id": "cb7eecc5-0640-48fe-a0af-88e8d211bedb",
   "metadata": {},
   "outputs": [
    {
     "data": {
      "text/plain": [
       "array([[1., 1., 1., 1., 1.],\n",
       "       [1., 1., 1., 1., 1.],\n",
       "       [1., 1., 1., 1., 1.]])"
      ]
     },
     "execution_count": 9,
     "metadata": {},
     "output_type": "execute_result"
    }
   ],
   "source": [
    "# Soubstract two matrix\n",
    "One-O"
   ]
  },
  {
   "cell_type": "code",
   "execution_count": 10,
   "id": "f1f7be05-e1c7-4a2e-9964-fd8fbaaae810",
   "metadata": {},
   "outputs": [
    {
     "data": {
      "text/plain": [
       "array([[10., 10., 10., 10., 10.],\n",
       "       [10., 10., 10., 10., 10.],\n",
       "       [10., 10., 10., 10., 10.]])"
      ]
     },
     "execution_count": 10,
     "metadata": {},
     "output_type": "execute_result"
    }
   ],
   "source": [
    "# Scalar multiplication\n",
    "One * 10"
   ]
  },
  {
   "cell_type": "markdown",
   "id": "2958b9d0-1e71-409f-9da1-b808f14a3ce8",
   "metadata": {},
   "source": [
    "### Random"
   ]
  },
  {
   "cell_type": "code",
   "execution_count": 11,
   "id": "5f08db02-8fa6-47c8-867d-a4a682328303",
   "metadata": {},
   "outputs": [
    {
     "data": {
      "text/plain": [
       "array([0.61620436, 0.07933041, 0.87352904, 0.18087285, 0.81802255,\n",
       "       0.80004765])"
      ]
     },
     "execution_count": 11,
     "metadata": {},
     "output_type": "execute_result"
    }
   ],
   "source": [
    "# Random 1d array in the value 0 and 1 (Ideal to simulate a random weight of a wallet for example)\n",
    "ran = np.random.rand(6)\n",
    "ran"
   ]
  },
  {
   "cell_type": "code",
   "execution_count": 12,
   "id": "98321bf2-e297-4f9f-a6c2-cbfaa9184360",
   "metadata": {},
   "outputs": [
    {
     "name": "stdout",
     "output_type": "stream",
     "text": [
      "Shape is (6,)\n",
      "Shape is (6, 1)\n"
     ]
    }
   ],
   "source": [
    "# BONUS: How to find the shape of a array and transorfm 1d array to 2d array\n",
    "print(f\"Shape is {np.shape(ran)}\")\n",
    "\n",
    "# Reshape\n",
    "ran = ran.reshape(-1,1)\n",
    "\n",
    "# New shape\n",
    "print(f\"Shape is {np.shape(ran)}\")"
   ]
  },
  {
   "cell_type": "code",
   "execution_count": 13,
   "id": "d0bcfa1f-8833-4f42-a21d-578130a3a7ea",
   "metadata": {},
   "outputs": [
    {
     "data": {
      "text/plain": [
       "array([[37, 48, 73, 57,  3],\n",
       "       [33, 31, 82, 58, 11],\n",
       "       [86, 77, 49, 95, 93],\n",
       "       [36, 27, 87, 95, 84],\n",
       "       [74, 85, 21, 44,  5]])"
      ]
     },
     "execution_count": 13,
     "metadata": {},
     "output_type": "execute_result"
    }
   ],
   "source": [
    "# Random integer value\n",
    "arr_int = np.random.randint(100, size=(5,5))\n",
    "arr_int"
   ]
  },
  {
   "cell_type": "code",
   "execution_count": 14,
   "id": "13308d66-1cf9-4948-81e1-8a3e6cc17fbe",
   "metadata": {},
   "outputs": [
    {
     "data": {
      "text/plain": [
       "array([ 0.05100083,  0.13540906,  0.15666101,  0.10734351, -0.01752821,\n",
       "        0.11367179])"
      ]
     },
     "execution_count": 14,
     "metadata": {},
     "output_type": "execute_result"
    }
   ],
   "source": [
    "# Normal 1 Dim\n",
    "np.random.normal(loc=0, scale=0.1, size=(6,))"
   ]
  },
  {
   "cell_type": "code",
   "execution_count": 15,
   "id": "8bd10742-26a6-49a7-a3d5-2be5835f8023",
   "metadata": {},
   "outputs": [
    {
     "data": {
      "text/plain": [
       "array([[ 0.10419204, -0.30770845, -0.07798614, -0.04037322,  0.00486764,\n",
       "         0.16631122],\n",
       "       [-0.01906316,  0.12872758, -0.05080886, -0.0607633 , -0.0698635 ,\n",
       "        -0.08973872],\n",
       "       [ 0.08961122, -0.11681776, -0.05573409, -0.02610501,  0.06697496,\n",
       "        -0.15358976],\n",
       "       [-0.06868737,  0.11412479, -0.16283287, -0.2331318 , -0.0555314 ,\n",
       "        -0.11661412],\n",
       "       [ 0.04285877,  0.04794433,  0.10398765,  0.05105134, -0.09226026,\n",
       "        -0.14227867],\n",
       "       [-0.01922161,  0.10388461,  0.1449929 ,  0.00695149, -0.11267013,\n",
       "        -0.00115003]])"
      ]
     },
     "execution_count": 15,
     "metadata": {},
     "output_type": "execute_result"
    }
   ],
   "source": [
    "# Normal 2 Dim\n",
    "np.random.normal(loc=0, scale=0.1, size=(6,6))"
   ]
  },
  {
   "cell_type": "code",
   "execution_count": 16,
   "id": "7fd79d75-31ac-4031-8338-d9e66c62ab34",
   "metadata": {},
   "outputs": [
    {
     "name": "stdout",
     "output_type": "stream",
     "text": [
      "[0.75719926 0.51670196 0.04477556]\n",
      "[0.51084823 0.29356571 0.57075375]\n",
      "[0.98419185 0.33341227 0.67370162]\n",
      "[0.98419185 0.33341227 0.67370162]\n",
      "[0.98419185 0.33341227 0.67370162]\n"
     ]
    }
   ],
   "source": [
    "# Set the seed\n",
    "print(np.random.rand(3))\n",
    "print(np.random.rand(3))\n",
    "\n",
    "np.random.seed(seed=56)\n",
    "print(np.random.rand(3))\n",
    "\n",
    "np.random.seed(seed=56)\n",
    "print(np.random.rand(3))\n",
    "\n",
    "np.random.seed(seed=56)\n",
    "print(np.random.rand(3))"
   ]
  },
  {
   "cell_type": "markdown",
   "id": "19883885-2b33-4c2d-9c4d-b149a4c1a1dc",
   "metadata": {},
   "source": [
    "### Indexing Slicing Transformation"
   ]
  },
  {
   "cell_type": "code",
   "execution_count": 17,
   "id": "13230ee7-2f9c-472a-8b04-ca3def6efdf7",
   "metadata": {},
   "outputs": [
    {
     "data": {
      "text/plain": [
       "np.int64(1)"
      ]
     },
     "execution_count": 17,
     "metadata": {},
     "output_type": "execute_result"
    }
   ],
   "source": [
    "# Choose one value in a matrix\n",
    "arr_bis = np.array([[1,2,3],\n",
    "                    [7,1,6],\n",
    "                    [9,6,3]])\n",
    "arr_bis[0][0]"
   ]
  },
  {
   "cell_type": "code",
   "execution_count": 18,
   "id": "2a9526ed-13a2-4ef6-b89a-ce4a12f8a883",
   "metadata": {},
   "outputs": [
    {
     "data": {
      "text/plain": [
       "np.int64(1)"
      ]
     },
     "execution_count": 18,
     "metadata": {},
     "output_type": "execute_result"
    }
   ],
   "source": [
    "arr_bis[0,0]"
   ]
  },
  {
   "cell_type": "code",
   "execution_count": 19,
   "id": "21e104c6-7eda-4075-80b2-d4f2bab9b28c",
   "metadata": {},
   "outputs": [
    {
     "data": {
      "text/plain": [
       "array([[1],\n",
       "       [7]])"
      ]
     },
     "execution_count": 19,
     "metadata": {},
     "output_type": "execute_result"
    }
   ],
   "source": [
    "# Choose sub matrix in the matrix\n",
    "arr_bis[0:2,0:1]"
   ]
  },
  {
   "cell_type": "code",
   "execution_count": 20,
   "id": "1398481a-3a66-4961-8d31-368aacb5a893",
   "metadata": {},
   "outputs": [
    {
     "name": "stdout",
     "output_type": "stream",
     "text": [
      "[7 1 6]\n",
      "[2 1 6]\n"
     ]
    }
   ],
   "source": [
    "# Choose one columns or one row\n",
    "print(arr_bis[1,:])\n",
    "print(arr_bis[:,1])"
   ]
  },
  {
   "cell_type": "code",
   "execution_count": 21,
   "id": "56916a4b-4511-405b-b52b-7ff4d086fa13",
   "metadata": {},
   "outputs": [
    {
     "name": "stdout",
     "output_type": "stream",
     "text": [
      "9\n",
      "[3 7 9]\n",
      "[9 6 6]\n"
     ]
    }
   ],
   "source": [
    "# Max\n",
    "# On the matrix\n",
    "print(arr_bis.max())\n",
    "\n",
    "# By the rows\n",
    "print(arr_bis.max(axis=1))\n",
    "\n",
    "# By the columns\n",
    "print(arr_bis.max(axis=0))"
   ]
  },
  {
   "cell_type": "code",
   "execution_count": 22,
   "id": "a800faaa-1dd3-4821-b92b-cfe191b8ad29",
   "metadata": {},
   "outputs": [
    {
     "name": "stdout",
     "output_type": "stream",
     "text": [
      "1\n",
      "[1 1 3]\n",
      "[1 1 3]\n"
     ]
    }
   ],
   "source": [
    "# Min\n",
    "# On the matrix\n",
    "print(arr_bis.min())\n",
    "\n",
    "# By the rows\n",
    "print(arr_bis.min(axis=1))\n",
    "\n",
    "# By the columns\n",
    "print(arr_bis.min(axis=0))"
   ]
  },
  {
   "cell_type": "code",
   "execution_count": 23,
   "id": "6450710b-fa31-4b4a-815b-7c4a38bc67a1",
   "metadata": {},
   "outputs": [
    {
     "name": "stdout",
     "output_type": "stream",
     "text": [
      "4.222222222222222\n",
      "[2.         4.66666667 6.        ]\n",
      "[5.66666667 3.         4.        ]\n"
     ]
    }
   ],
   "source": [
    "# Mean\n",
    "# On the matrix\n",
    "print(arr_bis.mean())\n",
    "\n",
    "# By the rows\n",
    "print(arr_bis.mean(axis=1))\n",
    "\n",
    "# By the columns\n",
    "print(arr_bis.mean(axis=0))"
   ]
  },
  {
   "cell_type": "code",
   "execution_count": 24,
   "id": "969ad198-b6d6-40c3-b3ca-d2bb968db4f7",
   "metadata": {},
   "outputs": [
    {
     "name": "stdout",
     "output_type": "stream",
     "text": [
      "2.698879511442471\n",
      "[0.81649658 2.62466929 2.44948974]\n",
      "[3.39934634 2.1602469  1.41421356]\n"
     ]
    }
   ],
   "source": [
    "# Std\n",
    "# On the matrix\n",
    "print(arr_bis.std())\n",
    "\n",
    "# By the rows\n",
    "print(arr_bis.std(axis=1))\n",
    "\n",
    "# By the columns\n",
    "print(arr_bis.std(axis=0))"
   ]
  },
  {
   "cell_type": "code",
   "execution_count": 25,
   "id": "44f471c2-2e8b-430a-b75a-c0389bc05ef1",
   "metadata": {},
   "outputs": [
    {
     "data": {
      "text/plain": [
       "array([3.39934634, 2.1602469 , 1.41421356])"
      ]
     },
     "execution_count": 25,
     "metadata": {},
     "output_type": "execute_result"
    }
   ],
   "source": [
    "# Other way available \n",
    "np.std(arr_bis, axis=0)"
   ]
  },
  {
   "cell_type": "code",
   "execution_count": 26,
   "id": "92e4692c-d585-45d1-8914-4c8d6c2c4493",
   "metadata": {},
   "outputs": [
    {
     "data": {
      "text/plain": [
       "array([[0.        , 0.69314718, 1.09861229],\n",
       "       [1.94591015, 0.        , 1.79175947],\n",
       "       [2.19722458, 1.79175947, 1.09861229]])"
      ]
     },
     "execution_count": 26,
     "metadata": {},
     "output_type": "execute_result"
    }
   ],
   "source": [
    "# Log function \n",
    "np.log(arr_bis)"
   ]
  },
  {
   "cell_type": "code",
   "execution_count": 27,
   "id": "c7038b6f-1a66-4d98-b309-0399835ee5d2",
   "metadata": {},
   "outputs": [
    {
     "data": {
      "text/plain": [
       "array([[2.71828183e+00, 7.38905610e+00, 2.00855369e+01],\n",
       "       [1.09663316e+03, 2.71828183e+00, 4.03428793e+02],\n",
       "       [8.10308393e+03, 4.03428793e+02, 2.00855369e+01]])"
      ]
     },
     "execution_count": 27,
     "metadata": {},
     "output_type": "execute_result"
    }
   ],
   "source": [
    "# Exponential function \n",
    "np.exp(arr_bis)"
   ]
  },
  {
   "cell_type": "code",
   "execution_count": 28,
   "id": "1fd4435a-8e1a-49a8-96dc-127702a17f99",
   "metadata": {},
   "outputs": [
    {
     "data": {
      "text/plain": [
       "array([[1.        , 1.41421356, 1.73205081],\n",
       "       [2.64575131, 1.        , 2.44948974],\n",
       "       [3.        , 2.44948974, 1.73205081]])"
      ]
     },
     "execution_count": 28,
     "metadata": {},
     "output_type": "execute_result"
    }
   ],
   "source": [
    "# Squared root function \n",
    "np.sqrt(arr_bis)"
   ]
  },
  {
   "cell_type": "code",
   "execution_count": 29,
   "id": "3f7c58fd-e79d-4cfd-b383-baebbc57c1f9",
   "metadata": {},
   "outputs": [
    {
     "name": "stdout",
     "output_type": "stream",
     "text": [
      "ARR1 [2 1 6]\n",
      "ARR2 [3 6 3]\n",
      "[2 1 6 3 6 3]\n"
     ]
    }
   ],
   "source": [
    "# Concatenate \n",
    "# Params: tuple of arrays and the axis of the concatenation\n",
    "# Concat 1 dimension\n",
    "arr1 = arr_bis[:,1]\n",
    "arr2 = arr_bis[:,2]\n",
    "\n",
    "print(f\"ARR1 {arr1}\")\n",
    "print(f\"ARR2 {arr2}\")\n",
    "\n",
    "print(np.concatenate((arr1, arr2), axis=0))"
   ]
  },
  {
   "cell_type": "code",
   "execution_count": 30,
   "id": "e060fb42-2831-4262-a45f-573a86c5474f",
   "metadata": {},
   "outputs": [
    {
     "name": "stdout",
     "output_type": "stream",
     "text": [
      "ARR1 [[2]\n",
      " [1]\n",
      " [6]]\n",
      "ARR2 [[3]\n",
      " [6]\n",
      " [3]]\n",
      "[[2]\n",
      " [1]\n",
      " [6]\n",
      " [3]\n",
      " [6]\n",
      " [3]]\n"
     ]
    }
   ],
   "source": [
    "# Concat 2 dimension\n",
    "arr1 = arr1.reshape(-1,1)\n",
    "arr2 = arr2.reshape(-1,1)\n",
    "\n",
    "print(f\"ARR1 {arr1}\")\n",
    "print(f\"ARR2 {arr2}\")\n",
    "\n",
    "print(np.concatenate((arr1, arr2), axis=0))"
   ]
  },
  {
   "cell_type": "code",
   "execution_count": 31,
   "id": "285299a0-2247-410a-9381-7caae340c5b8",
   "metadata": {},
   "outputs": [
    {
     "name": "stdout",
     "output_type": "stream",
     "text": [
      "[[2 3]\n",
      " [1 6]\n",
      " [6 3]]\n"
     ]
    }
   ],
   "source": [
    "# Concat 2 dimension\n",
    "print(np.concatenate((arr1, arr2), axis=1))"
   ]
  },
  {
   "cell_type": "code",
   "execution_count": null,
   "id": "0e8d4026-5559-4f04-9152-6541fb925a30",
   "metadata": {},
   "outputs": [],
   "source": []
  }
 ],
 "metadata": {
  "kernelspec": {
   "display_name": "Python 3 (ipykernel)",
   "language": "python",
   "name": "python3"
  },
  "language_info": {
   "codemirror_mode": {
    "name": "ipython",
    "version": 3
   },
   "file_extension": ".py",
   "mimetype": "text/x-python",
   "name": "python",
   "nbconvert_exporter": "python",
   "pygments_lexer": "ipython3",
   "version": "3.12.4"
  }
 },
 "nbformat": 4,
 "nbformat_minor": 5
}
