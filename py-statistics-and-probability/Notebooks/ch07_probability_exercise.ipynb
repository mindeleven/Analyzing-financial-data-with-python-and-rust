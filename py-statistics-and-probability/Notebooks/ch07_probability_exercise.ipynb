{
 "cells": [
  {
   "cell_type": "markdown",
   "id": "edba7a72-5f8e-4cb7-9692-cd4b8d29ad24",
   "metadata": {},
   "source": [
    "# Probability Exercise"
   ]
  },
  {
   "cell_type": "markdown",
   "id": "8997e408-29e8-4511-a1c4-44b5f719bfc6",
   "metadata": {},
   "source": [
    "### Probability Exercise: How to increase our good trade from 50% to 70%?"
   ]
  },
  {
   "cell_type": "markdown",
   "id": "4ac3f3ce-3b32-472e-9023-975e22f05cca",
   "metadata": {},
   "source": [
    "Goals of this chapter:\n",
    "\n",
    "- Compute and understand Random Variable\n",
    "- Compute and understand Intersection, Union and Independency\n",
    "- Compute and understand Conditional Probability"
   ]
  },
  {
   "cell_type": "code",
   "execution_count": null,
   "id": "df15d721-53ba-4c7d-a610-c3254891c546",
   "metadata": {},
   "outputs": [],
   "source": []
  }
 ],
 "metadata": {
  "kernelspec": {
   "display_name": "Python 3 (ipykernel)",
   "language": "python",
   "name": "python3"
  },
  "language_info": {
   "codemirror_mode": {
    "name": "ipython",
    "version": 3
   },
   "file_extension": ".py",
   "mimetype": "text/x-python",
   "name": "python",
   "nbconvert_exporter": "python",
   "pygments_lexer": "ipython3",
   "version": "3.12.4"
  }
 },
 "nbformat": 4,
 "nbformat_minor": 5
}
