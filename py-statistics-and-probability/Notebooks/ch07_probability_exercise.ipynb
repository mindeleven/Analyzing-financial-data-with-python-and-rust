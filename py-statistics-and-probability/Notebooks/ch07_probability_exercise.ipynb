{
 "cells": [
  {
   "cell_type": "markdown",
   "id": "edba7a72-5f8e-4cb7-9692-cd4b8d29ad24",
   "metadata": {},
   "source": [
    "# Probability Exercise"
   ]
  },
  {
   "cell_type": "markdown",
   "id": "8997e408-29e8-4511-a1c4-44b5f719bfc6",
   "metadata": {},
   "source": [
    "## Probability Exercise: How to increase our good trade from 50% to 70%?"
   ]
  },
  {
   "cell_type": "markdown",
   "id": "4ac3f3ce-3b32-472e-9023-975e22f05cca",
   "metadata": {},
   "source": [
    "Goals of this chapter:\n",
    "\n",
    "- Compute and understand Random Variable\n",
    "- Compute and understand Intersection, Union and Independency\n",
    "- Compute and understand Conditional Probability"
   ]
  },
  {
   "cell_type": "code",
   "execution_count": 6,
   "id": "df15d721-53ba-4c7d-a610-c3254891c546",
   "metadata": {},
   "outputs": [],
   "source": [
    "import yfinance as yf\n",
    "import ta # library to create technical indicators\n",
    "import numpy as np\n",
    "# scipy==1.7.1 in video\n",
    "import warnings\n",
    "warnings.filterwarnings(\"ignore\")"
   ]
  },
  {
   "cell_type": "code",
   "execution_count": 7,
   "id": "d6b7a337-29df-452f-b348-49d989a857e5",
   "metadata": {},
   "outputs": [
    {
     "name": "stderr",
     "output_type": "stream",
     "text": [
      "[*********************100%***********************]  1 of 1 completed\n"
     ]
    },
    {
     "data": {
      "text/html": [
       "<div>\n",
       "<style scoped>\n",
       "    .dataframe tbody tr th:only-of-type {\n",
       "        vertical-align: middle;\n",
       "    }\n",
       "\n",
       "    .dataframe tbody tr th {\n",
       "        vertical-align: top;\n",
       "    }\n",
       "\n",
       "    .dataframe thead th {\n",
       "        text-align: right;\n",
       "    }\n",
       "</style>\n",
       "<table border=\"1\" class=\"dataframe\">\n",
       "  <thead>\n",
       "    <tr style=\"text-align: right;\">\n",
       "      <th></th>\n",
       "      <th>Adj Close</th>\n",
       "    </tr>\n",
       "    <tr>\n",
       "      <th>Date</th>\n",
       "      <th></th>\n",
       "    </tr>\n",
       "  </thead>\n",
       "  <tbody>\n",
       "    <tr>\n",
       "      <th>2004-08-20</th>\n",
       "      <td>0.079430</td>\n",
       "    </tr>\n",
       "    <tr>\n",
       "      <th>2004-08-23</th>\n",
       "      <td>0.010064</td>\n",
       "    </tr>\n",
       "    <tr>\n",
       "      <th>2004-08-24</th>\n",
       "      <td>-0.041408</td>\n",
       "    </tr>\n",
       "    <tr>\n",
       "      <th>2004-08-25</th>\n",
       "      <td>0.010775</td>\n",
       "    </tr>\n",
       "    <tr>\n",
       "      <th>2004-08-26</th>\n",
       "      <td>0.018019</td>\n",
       "    </tr>\n",
       "    <tr>\n",
       "      <th>...</th>\n",
       "      <td>...</td>\n",
       "    </tr>\n",
       "    <tr>\n",
       "      <th>2024-09-09</th>\n",
       "      <td>-0.015731</td>\n",
       "    </tr>\n",
       "    <tr>\n",
       "      <th>2024-09-10</th>\n",
       "      <td>0.003143</td>\n",
       "    </tr>\n",
       "    <tr>\n",
       "      <th>2024-09-11</th>\n",
       "      <td>0.014266</td>\n",
       "    </tr>\n",
       "    <tr>\n",
       "      <th>2024-09-12</th>\n",
       "      <td>0.022281</td>\n",
       "    </tr>\n",
       "    <tr>\n",
       "      <th>2024-09-13</th>\n",
       "      <td>0.018195</td>\n",
       "    </tr>\n",
       "  </tbody>\n",
       "</table>\n",
       "<p>5051 rows × 1 columns</p>\n",
       "</div>"
      ],
      "text/plain": [
       "            Adj Close\n",
       "Date                 \n",
       "2004-08-20   0.079430\n",
       "2004-08-23   0.010064\n",
       "2004-08-24  -0.041408\n",
       "2004-08-25   0.010775\n",
       "2004-08-26   0.018019\n",
       "...               ...\n",
       "2024-09-09  -0.015731\n",
       "2024-09-10   0.003143\n",
       "2024-09-11   0.014266\n",
       "2024-09-12   0.022281\n",
       "2024-09-13   0.018195\n",
       "\n",
       "[5051 rows x 1 columns]"
      ]
     },
     "execution_count": 7,
     "metadata": {},
     "output_type": "execute_result"
    }
   ],
   "source": [
    "# import the data and create variations of google\n",
    "df = yf.download(\"GOOG\")[[\"Adj Close\"]].pct_change(1).dropna()\n",
    "df"
   ]
  },
  {
   "cell_type": "markdown",
   "id": "14147187-5435-48cb-8c60-240707e8c417",
   "metadata": {},
   "source": [
    "### Compute Basic Propability"
   ]
  },
  {
   "cell_type": "code",
   "execution_count": 24,
   "id": "98974ce8-55db-4cb2-8120-45dda672775c",
   "metadata": {},
   "outputs": [
    {
     "data": {
      "text/plain": [
       "2659"
      ]
     },
     "execution_count": 24,
     "metadata": {},
     "output_type": "execute_result"
    }
   ],
   "source": [
    "# we have a random variable that is the google return and we want to unerstand the rules that this random variable follows\n",
    "# only two cases: the return will be positive or the return will be negative\n",
    "# compute the chance of an increase\n",
    "# we'll extract all the positive returns, compute the number of positive returns and devide by the number of returns\n",
    "# (1) extracting all the positive returns\n",
    "positive_returns = len(df[df[\"Adj Close\"]>0]) # 2659 out of 5051 are positive\n",
    "positive_returns"
   ]
  },
  {
   "cell_type": "code",
   "execution_count": 26,
   "id": "fc73c0aa-f2ef-4dfc-81d1-b1c0b6b0c395",
   "metadata": {},
   "outputs": [
    {
     "data": {
      "text/plain": [
       "52.643040981983766"
      ]
     },
     "execution_count": 26,
     "metadata": {},
     "output_type": "execute_result"
    }
   ],
   "source": [
    "# calculating the percentage of increase\n",
    "p_increase = positive_returns / len(df) * 100\n",
    "p_increase"
   ]
  },
  {
   "cell_type": "code",
   "execution_count": 29,
   "id": "2006ae3b-0974-40fd-b119-47ca193cd807",
   "metadata": {},
   "outputs": [
    {
     "data": {
      "text/plain": [
       "47.33716095822609"
      ]
     },
     "execution_count": 29,
     "metadata": {},
     "output_type": "execute_result"
    }
   ],
   "source": [
    "# compute the chance of a decrease\n",
    "p_decrease = len(df[df[\"Adj Close\"]<0]) / len(df) * 100\n",
    "p_decrease"
   ]
  },
  {
   "cell_type": "code",
   "execution_count": 32,
   "id": "bca55d31-5fa4-46bc-9ac2-4890bc781673",
   "metadata": {},
   "outputs": [
    {
     "name": "stdout",
     "output_type": "stream",
     "text": [
      "Weights | \t Increase: 53 \t Decrease: 47\n"
     ]
    }
   ],
   "source": [
    "# %Increase + %Decrease close to one but not mandatory 1\n",
    "print(f\"Weights | \\t Increase: {\"%2.f\" % p_increase} \\t Decrease: {\"%2.f\" % p_decrease}\")\n",
    "# output: Weights | \t Increase: 53 \t Decrease: 47\n",
    "# we have more changes of having an increase than a decrease\n",
    "# small difference, not good to use as basis for a trading strategy"
   ]
  },
  {
   "cell_type": "markdown",
   "id": "74adfa7a-119e-422f-bd80-eb877ae70243",
   "metadata": {},
   "source": [
    "### Computing Conditional Probability - Creating Bollinger Bands"
   ]
  },
  {
   "cell_type": "markdown",
   "id": "ded05731-57cb-428d-a40a-2ab8e8d72520",
   "metadata": {},
   "source": [
    "Goal of this excercise: computing the probability of increase knowing that a technical indicator tells us to buy this stock."
   ]
  },
  {
   "cell_type": "code",
   "execution_count": 35,
   "id": "d3d29adc-da84-45f9-8fdc-76a578359c8e",
   "metadata": {},
   "outputs": [],
   "source": [
    "# bollinger band class\n",
    "from ta.volatility import BollingerBands"
   ]
  },
  {
   "cell_type": "markdown",
   "id": "847c6a43-e7a1-446a-9880-cda3f6894bd1",
   "metadata": {},
   "source": [
    "**Bollinger Bands** are used as an example here but you have to use a stronger strategy if you want to invest on it.\n",
    "\n",
    "- Bollinger Bands are envelopes plotted at a standard deviation level above and below a simple moving average of the price. Because the distance of the bands is based on standard deviation, they adjust to volatility swings in the underlying price. Bollinger Bands use 2 parameters, Period and Standard Deviations, StdDev ([fidelity.com](https://www.fidelity.com/learning-center/trading-investing/technical-analysis/technical-indicator-guide/bollinger-bands))."
   ]
  },
  {
   "cell_type": "code",
   "execution_count": 36,
   "id": "1a161148-0d62-47b7-bd0a-544f504e2fc8",
   "metadata": {},
   "outputs": [
    {
     "name": "stderr",
     "output_type": "stream",
     "text": [
      "[*********************100%***********************]  1 of 1 completed\n"
     ]
    },
    {
     "data": {
      "text/html": [
       "<div>\n",
       "<style scoped>\n",
       "    .dataframe tbody tr th:only-of-type {\n",
       "        vertical-align: middle;\n",
       "    }\n",
       "\n",
       "    .dataframe tbody tr th {\n",
       "        vertical-align: top;\n",
       "    }\n",
       "\n",
       "    .dataframe thead th {\n",
       "        text-align: right;\n",
       "    }\n",
       "</style>\n",
       "<table border=\"1\" class=\"dataframe\">\n",
       "  <thead>\n",
       "    <tr style=\"text-align: right;\">\n",
       "      <th></th>\n",
       "      <th>Adj Close</th>\n",
       "      <th>return</th>\n",
       "    </tr>\n",
       "    <tr>\n",
       "      <th>Date</th>\n",
       "      <th></th>\n",
       "      <th></th>\n",
       "    </tr>\n",
       "  </thead>\n",
       "  <tbody>\n",
       "    <tr>\n",
       "      <th>2003-12-01</th>\n",
       "      <td>1.196501</td>\n",
       "      <td>NaN</td>\n",
       "    </tr>\n",
       "    <tr>\n",
       "      <th>2003-12-02</th>\n",
       "      <td>1.208897</td>\n",
       "      <td>0.010360</td>\n",
       "    </tr>\n",
       "    <tr>\n",
       "      <th>2003-12-03</th>\n",
       "      <td>1.212298</td>\n",
       "      <td>0.002813</td>\n",
       "    </tr>\n",
       "    <tr>\n",
       "      <th>2003-12-04</th>\n",
       "      <td>1.208094</td>\n",
       "      <td>-0.003467</td>\n",
       "    </tr>\n",
       "    <tr>\n",
       "      <th>2003-12-05</th>\n",
       "      <td>1.218695</td>\n",
       "      <td>0.008775</td>\n",
       "    </tr>\n",
       "    <tr>\n",
       "      <th>...</th>\n",
       "      <td>...</td>\n",
       "      <td>...</td>\n",
       "    </tr>\n",
       "    <tr>\n",
       "      <th>2024-09-10</th>\n",
       "      <td>1.103753</td>\n",
       "      <td>-0.004481</td>\n",
       "    </tr>\n",
       "    <tr>\n",
       "      <th>2024-09-11</th>\n",
       "      <td>1.102098</td>\n",
       "      <td>-0.001499</td>\n",
       "    </tr>\n",
       "    <tr>\n",
       "      <th>2024-09-12</th>\n",
       "      <td>1.101091</td>\n",
       "      <td>-0.000914</td>\n",
       "    </tr>\n",
       "    <tr>\n",
       "      <th>2024-09-13</th>\n",
       "      <td>1.107788</td>\n",
       "      <td>0.006082</td>\n",
       "    </tr>\n",
       "    <tr>\n",
       "      <th>2024-09-16</th>\n",
       "      <td>1.113462</td>\n",
       "      <td>0.005122</td>\n",
       "    </tr>\n",
       "  </tbody>\n",
       "</table>\n",
       "<p>5397 rows × 2 columns</p>\n",
       "</div>"
      ],
      "text/plain": [
       "            Adj Close    return\n",
       "Date                           \n",
       "2003-12-01   1.196501       NaN\n",
       "2003-12-02   1.208897  0.010360\n",
       "2003-12-03   1.212298  0.002813\n",
       "2003-12-04   1.208094 -0.003467\n",
       "2003-12-05   1.218695  0.008775\n",
       "...               ...       ...\n",
       "2024-09-10   1.103753 -0.004481\n",
       "2024-09-11   1.102098 -0.001499\n",
       "2024-09-12   1.101091 -0.000914\n",
       "2024-09-13   1.107788  0.006082\n",
       "2024-09-16   1.113462  0.005122\n",
       "\n",
       "[5397 rows x 2 columns]"
      ]
     },
     "execution_count": 36,
     "metadata": {},
     "output_type": "execute_result"
    }
   ],
   "source": [
    "# Import close price\n",
    "df = yf.download(\"EURUSD=X\")[[\"Adj Close\"]]\n",
    "# create the returns\n",
    "df[\"return\"] = df[\"Adj Close\"].pct_change(1).dropna()\n",
    "df"
   ]
  },
  {
   "cell_type": "code",
   "execution_count": 37,
   "id": "46bbb9d9-f71b-4984-90e2-1cfef4e234b9",
   "metadata": {},
   "outputs": [
    {
     "data": {
      "text/plain": [
       "<ta.volatility.BollingerBands at 0x107ccc200>"
      ]
     },
     "execution_count": 37,
     "metadata": {},
     "output_type": "execute_result"
    }
   ],
   "source": [
    "## initialize Bollinger Bands class\n",
    "indicator_bb = BollingerBands(close=df[\"Adj Close\"], window=20, window_dev=1.5)\n",
    "indicator_bb"
   ]
  },
  {
   "cell_type": "code",
   "execution_count": null,
   "id": "c055d704-f933-433f-8f35-1dfee9f5a286",
   "metadata": {},
   "outputs": [],
   "source": [
    "## add Bollinger Bands features\n"
   ]
  }
 ],
 "metadata": {
  "kernelspec": {
   "display_name": "Python 3 (ipykernel)",
   "language": "python",
   "name": "python3"
  },
  "language_info": {
   "codemirror_mode": {
    "name": "ipython",
    "version": 3
   },
   "file_extension": ".py",
   "mimetype": "text/x-python",
   "name": "python",
   "nbconvert_exporter": "python",
   "pygments_lexer": "ipython3",
   "version": "3.12.4"
  }
 },
 "nbformat": 4,
 "nbformat_minor": 5
}
